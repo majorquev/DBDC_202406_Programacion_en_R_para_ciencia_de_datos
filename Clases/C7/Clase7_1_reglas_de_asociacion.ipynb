{
  "nbformat": 4,
  "nbformat_minor": 0,
  "metadata": {
    "colab": {
      "provenance": [],
      "include_colab_link": true
    },
    "kernelspec": {
      "name": "ir",
      "display_name": "R"
    }
  },
  "cells": [
    {
      "cell_type": "markdown",
      "metadata": {
        "id": "view-in-github",
        "colab_type": "text"
      },
      "source": [
        "<a href=\"https://colab.research.google.com/github/majorquev/DBDC_202406_Programacion_en_R_para_ciencia_de_datos/blob/main/Clases/C7/Clase7_1_reglas_de_asociacion.ipynb\" target=\"_parent\"><img src=\"https://colab.research.google.com/assets/colab-badge.svg\" alt=\"Open In Colab\"/></a>"
      ]
    },
    {
      "cell_type": "markdown",
      "metadata": {
        "collapsed": true,
        "id": "puXmDUFl1o5x"
      },
      "source": [
        "# Parte 4: Reglas de asociación\n",
        "\n",
        "\n",
        "**Autor:** Miguel Jorquera Viguera<br>\n",
        "**E-mail:** majorquev@gmail.com<br>\n",
        "**Ayudante:** Rodrigo Morales<br>\n",
        "**E-mail ayudante:** rumorale1@gmail.com\n",
        "\n",
        "Las reglas de asociación nos permiten identificar relaciones entre variables a través de grandes datasets. Es posible cuantificar que tan \"fuerte\" es la relación obtenida mediante diversas métricas de interés, entre las cuales se destacan el _lift_, _support_ y _confidence_ de una regla.\n",
        "\n",
        "Para más detalles sobre la definición y algoritmo de generación de las reglas refiérase a la presentación de la clase 7 de este curso.\n",
        "\n",
        "\n"
      ]
    },
    {
      "cell_type": "code",
      "metadata": {
        "trusted": true,
        "id": "J4ZRjiE61o5z",
        "outputId": "4338e2d5-5c83-41b5-8b61-09a0a1d54093",
        "colab": {
          "base_uri": "https://localhost:8080/"
        }
      },
      "source": [
        "#install.packages(\"arules\")"
      ],
      "execution_count": 2,
      "outputs": [
        {
          "output_type": "stream",
          "name": "stderr",
          "text": [
            "Installing package into ‘/usr/local/lib/R/site-library’\n",
            "(as ‘lib’ is unspecified)\n",
            "\n"
          ]
        }
      ]
    },
    {
      "cell_type": "code",
      "metadata": {
        "trusted": true,
        "id": "LCmAsrTB1o52"
      },
      "source": [
        "library(arules)\n",
        "library(dplyr)\n"
      ],
      "execution_count": 5,
      "outputs": []
    },
    {
      "cell_type": "code",
      "source": [
        "data(Groceries)\n"
      ],
      "metadata": {
        "id": "jde4q80tMGd_"
      },
      "execution_count": 6,
      "outputs": []
    },
    {
      "cell_type": "code",
      "metadata": {
        "trusted": true,
        "id": "cSSTweZI1o56",
        "outputId": "405fd62f-3749-46ce-d007-bfcb8a33c76f",
        "colab": {
          "base_uri": "https://localhost:8080/",
          "height": 69
        }
      },
      "source": [
        "Groceries"
      ],
      "execution_count": 7,
      "outputs": [
        {
          "output_type": "display_data",
          "data": {
            "text/plain": [
              "transactions in sparse format with\n",
              " 9835 transactions (rows) and\n",
              " 169 items (columns)"
            ]
          },
          "metadata": {}
        }
      ]
    },
    {
      "cell_type": "code",
      "source": [
        "class(Groceries)\n",
        "\n"
      ],
      "metadata": {
        "id": "_8--4CfNMMrc",
        "outputId": "5d57a6a6-4cd9-4880-dfc8-59a8922031eb",
        "colab": {
          "base_uri": "https://localhost:8080/",
          "height": 34
        }
      },
      "execution_count": 8,
      "outputs": [
        {
          "output_type": "display_data",
          "data": {
            "text/html": [
              "'transactions'"
            ],
            "text/markdown": "'transactions'",
            "text/latex": "'transactions'",
            "text/plain": [
              "[1] \"transactions\"\n",
              "attr(,\"package\")\n",
              "[1] \"arules\""
            ]
          },
          "metadata": {}
        }
      ]
    },
    {
      "cell_type": "code",
      "source": [
        "inspect(head(Groceries, 6))"
      ],
      "metadata": {
        "id": "7CVGdD4zMO3J",
        "outputId": "8686d259-e95f-4ce2-b0dd-546a9ebd5637",
        "colab": {
          "base_uri": "https://localhost:8080/"
        }
      },
      "execution_count": 9,
      "outputs": [
        {
          "output_type": "stream",
          "name": "stdout",
          "text": [
            "    items                     \n",
            "[1] {citrus fruit,            \n",
            "     semi-finished bread,     \n",
            "     margarine,               \n",
            "     ready soups}             \n",
            "[2] {tropical fruit,          \n",
            "     yogurt,                  \n",
            "     coffee}                  \n",
            "[3] {whole milk}              \n",
            "[4] {pip fruit,               \n",
            "     yogurt,                  \n",
            "     cream cheese ,           \n",
            "     meat spreads}            \n",
            "[5] {other vegetables,        \n",
            "     whole milk,              \n",
            "     condensed milk,          \n",
            "     long life bakery product}\n",
            "[6] {whole milk,              \n",
            "     butter,                  \n",
            "     yogurt,                  \n",
            "     rice,                    \n",
            "     abrasive cleaner}        \n"
          ]
        }
      ]
    },
    {
      "cell_type": "code",
      "metadata": {
        "trusted": true,
        "id": "dW8kxNGH1o59"
      },
      "source": [
        "?transactions"
      ],
      "execution_count": null,
      "outputs": []
    },
    {
      "cell_type": "code",
      "metadata": {
        "trusted": true,
        "id": "9T0kVTyE1o6A",
        "outputId": "29df8a46-d948-433f-dd7e-d661756a5b23",
        "colab": {
          "base_uri": "https://localhost:8080/",
          "height": 34
        }
      },
      "source": [
        " #Numero de items por observación mediante comndo size\n",
        "size(head(Groceries,6))"
      ],
      "execution_count": 10,
      "outputs": [
        {
          "output_type": "display_data",
          "data": {
            "text/html": [
              "<style>\n",
              ".list-inline {list-style: none; margin:0; padding: 0}\n",
              ".list-inline>li {display: inline-block}\n",
              ".list-inline>li:not(:last-child)::after {content: \"\\00b7\"; padding: 0 .5ex}\n",
              "</style>\n",
              "<ol class=list-inline><li>4</li><li>3</li><li>1</li><li>4</li><li>4</li><li>5</li></ol>\n"
            ],
            "text/markdown": "1. 4\n2. 3\n3. 1\n4. 4\n5. 4\n6. 5\n\n\n",
            "text/latex": "\\begin{enumerate*}\n\\item 4\n\\item 3\n\\item 1\n\\item 4\n\\item 4\n\\item 5\n\\end{enumerate*}\n",
            "text/plain": [
              "[1] 4 3 1 4 4 5"
            ]
          },
          "metadata": {}
        }
      ]
    },
    {
      "cell_type": "code",
      "source": [
        "mean(size(Groceries))"
      ],
      "metadata": {
        "id": "KoRii_qFNCdH",
        "outputId": "8821a1c9-1734-4ec6-fbcc-25e6800cccb4",
        "colab": {
          "base_uri": "https://localhost:8080/",
          "height": 34
        }
      },
      "execution_count": 11,
      "outputs": [
        {
          "output_type": "display_data",
          "data": {
            "text/html": [
              "4.40945602440264"
            ],
            "text/markdown": "4.40945602440264",
            "text/latex": "4.40945602440264",
            "text/plain": [
              "[1] 4.409456"
            ]
          },
          "metadata": {}
        }
      ]
    },
    {
      "cell_type": "code",
      "metadata": {
        "trusted": true,
        "id": "XbBIRvxW1o6C"
      },
      "source": [
        " #LIST convierte las trasacciones a una lista (con mayusculas)\n",
        "lista <- LIST(head(Groceries,6))"
      ],
      "execution_count": 12,
      "outputs": []
    },
    {
      "cell_type": "code",
      "metadata": {
        "trusted": true,
        "id": "XrM4ZhHG1o6E",
        "outputId": "0f3a9b43-18fb-4e73-c76a-ce1f8bcb014e",
        "colab": {
          "base_uri": "https://localhost:8080/",
          "height": 288
        }
      },
      "source": [
        "lista\n",
        "class(lista)\n",
        "str(lista)"
      ],
      "execution_count": 13,
      "outputs": [
        {
          "output_type": "display_data",
          "data": {
            "text/html": [
              "<ol>\n",
              "\t<li><style>\n",
              ".list-inline {list-style: none; margin:0; padding: 0}\n",
              ".list-inline>li {display: inline-block}\n",
              ".list-inline>li:not(:last-child)::after {content: \"\\00b7\"; padding: 0 .5ex}\n",
              "</style>\n",
              "<ol class=list-inline><li>'citrus fruit'</li><li>'semi-finished bread'</li><li>'margarine'</li><li>'ready soups'</li></ol>\n",
              "</li>\n",
              "\t<li><style>\n",
              ".list-inline {list-style: none; margin:0; padding: 0}\n",
              ".list-inline>li {display: inline-block}\n",
              ".list-inline>li:not(:last-child)::after {content: \"\\00b7\"; padding: 0 .5ex}\n",
              "</style>\n",
              "<ol class=list-inline><li>'tropical fruit'</li><li>'yogurt'</li><li>'coffee'</li></ol>\n",
              "</li>\n",
              "\t<li>'whole milk'</li>\n",
              "\t<li><style>\n",
              ".list-inline {list-style: none; margin:0; padding: 0}\n",
              ".list-inline>li {display: inline-block}\n",
              ".list-inline>li:not(:last-child)::after {content: \"\\00b7\"; padding: 0 .5ex}\n",
              "</style>\n",
              "<ol class=list-inline><li>'pip fruit'</li><li>'yogurt'</li><li>'cream cheese '</li><li>'meat spreads'</li></ol>\n",
              "</li>\n",
              "\t<li><style>\n",
              ".list-inline {list-style: none; margin:0; padding: 0}\n",
              ".list-inline>li {display: inline-block}\n",
              ".list-inline>li:not(:last-child)::after {content: \"\\00b7\"; padding: 0 .5ex}\n",
              "</style>\n",
              "<ol class=list-inline><li>'other vegetables'</li><li>'whole milk'</li><li>'condensed milk'</li><li>'long life bakery product'</li></ol>\n",
              "</li>\n",
              "\t<li><style>\n",
              ".list-inline {list-style: none; margin:0; padding: 0}\n",
              ".list-inline>li {display: inline-block}\n",
              ".list-inline>li:not(:last-child)::after {content: \"\\00b7\"; padding: 0 .5ex}\n",
              "</style>\n",
              "<ol class=list-inline><li>'whole milk'</li><li>'butter'</li><li>'yogurt'</li><li>'rice'</li><li>'abrasive cleaner'</li></ol>\n",
              "</li>\n",
              "</ol>\n"
            ],
            "text/markdown": "1. 1. 'citrus fruit'\n2. 'semi-finished bread'\n3. 'margarine'\n4. 'ready soups'\n\n\n\n2. 1. 'tropical fruit'\n2. 'yogurt'\n3. 'coffee'\n\n\n\n3. 'whole milk'\n4. 1. 'pip fruit'\n2. 'yogurt'\n3. 'cream cheese '\n4. 'meat spreads'\n\n\n\n5. 1. 'other vegetables'\n2. 'whole milk'\n3. 'condensed milk'\n4. 'long life bakery product'\n\n\n\n6. 1. 'whole milk'\n2. 'butter'\n3. 'yogurt'\n4. 'rice'\n5. 'abrasive cleaner'\n\n\n\n\n\n",
            "text/latex": "\\begin{enumerate}\n\\item \\begin{enumerate*}\n\\item 'citrus fruit'\n\\item 'semi-finished bread'\n\\item 'margarine'\n\\item 'ready soups'\n\\end{enumerate*}\n\n\\item \\begin{enumerate*}\n\\item 'tropical fruit'\n\\item 'yogurt'\n\\item 'coffee'\n\\end{enumerate*}\n\n\\item 'whole milk'\n\\item \\begin{enumerate*}\n\\item 'pip fruit'\n\\item 'yogurt'\n\\item 'cream cheese '\n\\item 'meat spreads'\n\\end{enumerate*}\n\n\\item \\begin{enumerate*}\n\\item 'other vegetables'\n\\item 'whole milk'\n\\item 'condensed milk'\n\\item 'long life bakery product'\n\\end{enumerate*}\n\n\\item \\begin{enumerate*}\n\\item 'whole milk'\n\\item 'butter'\n\\item 'yogurt'\n\\item 'rice'\n\\item 'abrasive cleaner'\n\\end{enumerate*}\n\n\\end{enumerate}\n",
            "text/plain": [
              "[[1]]\n",
              "[1] \"citrus fruit\"        \"semi-finished bread\" \"margarine\"          \n",
              "[4] \"ready soups\"        \n",
              "\n",
              "[[2]]\n",
              "[1] \"tropical fruit\" \"yogurt\"         \"coffee\"        \n",
              "\n",
              "[[3]]\n",
              "[1] \"whole milk\"\n",
              "\n",
              "[[4]]\n",
              "[1] \"pip fruit\"     \"yogurt\"        \"cream cheese \" \"meat spreads\" \n",
              "\n",
              "[[5]]\n",
              "[1] \"other vegetables\"         \"whole milk\"              \n",
              "[3] \"condensed milk\"           \"long life bakery product\"\n",
              "\n",
              "[[6]]\n",
              "[1] \"whole milk\"       \"butter\"           \"yogurt\"           \"rice\"            \n",
              "[5] \"abrasive cleaner\"\n"
            ]
          },
          "metadata": {}
        },
        {
          "output_type": "display_data",
          "data": {
            "text/html": [
              "'list'"
            ],
            "text/markdown": "'list'",
            "text/latex": "'list'",
            "text/plain": [
              "[1] \"list\""
            ]
          },
          "metadata": {}
        },
        {
          "output_type": "stream",
          "name": "stdout",
          "text": [
            "List of 6\n",
            " $ : chr [1:4] \"citrus fruit\" \"semi-finished bread\" \"margarine\" \"ready soups\"\n",
            " $ : chr [1:3] \"tropical fruit\" \"yogurt\" \"coffee\"\n",
            " $ : chr \"whole milk\"\n",
            " $ : chr [1:4] \"pip fruit\" \"yogurt\" \"cream cheese \" \"meat spreads\"\n",
            " $ : chr [1:4] \"other vegetables\" \"whole milk\" \"condensed milk\" \"long life bakery product\"\n",
            " $ : chr [1:5] \"whole milk\" \"butter\" \"yogurt\" \"rice\" ...\n"
          ]
        }
      ]
    },
    {
      "cell_type": "code",
      "metadata": {
        "trusted": true,
        "id": "6DM_CQJ31o6K",
        "outputId": "cacb065d-48f1-4a4c-8245-70d788f4b741",
        "colab": {
          "base_uri": "https://localhost:8080/"
        }
      },
      "source": [
        "frequentItems <- eclat(Groceries,\n",
        "                        parameter = list(supp = 0.02)\n",
        "                       ) # se calcula el support para items frecuentes"
      ],
      "execution_count": 16,
      "outputs": [
        {
          "output_type": "stream",
          "name": "stdout",
          "text": [
            "Eclat\n",
            "\n",
            "parameter specification:\n",
            " tidLists support minlen maxlen            target  ext\n",
            "    FALSE    0.02      1     10 frequent itemsets TRUE\n",
            "\n",
            "algorithmic control:\n",
            " sparse sort verbose\n",
            "      7   -2    TRUE\n",
            "\n",
            "Absolute minimum support count: 196 \n",
            "\n",
            "create itemset ... \n",
            "set transactions ...[169 item(s), 9835 transaction(s)] done [0.01s].\n",
            "sorting and recoding items ... [59 item(s)] done [0.00s].\n",
            "creating sparse bit matrix ... [59 row(s), 9835 column(s)] done [0.00s].\n",
            "writing  ... [122 set(s)] done [0.01s].\n",
            "Creating S4 object  ... done [0.00s].\n"
          ]
        }
      ]
    },
    {
      "cell_type": "code",
      "source": [
        "frequentItems"
      ],
      "metadata": {
        "id": "PJDSBxKCN8OM",
        "outputId": "47d99f34-da5e-436a-bdf7-355711920898",
        "colab": {
          "base_uri": "https://localhost:8080/",
          "height": 34
        }
      },
      "execution_count": 17,
      "outputs": [
        {
          "output_type": "display_data",
          "data": {
            "text/plain": [
              "set of 122 itemsets "
            ]
          },
          "metadata": {}
        }
      ]
    },
    {
      "cell_type": "code",
      "metadata": {
        "trusted": true,
        "scrolled": false,
        "id": "WKmAHTus1o6N",
        "outputId": "43678551-e8bb-4a87-f560-d24e57b186a3",
        "colab": {
          "base_uri": "https://localhost:8080/"
        }
      },
      "source": [
        "inspect(frequentItems)"
      ],
      "execution_count": 18,
      "outputs": [
        {
          "output_type": "stream",
          "name": "stdout",
          "text": [
            "      items                                           support    count\n",
            "[1]   {whole milk, frozen vegetables}                 0.02043721  201 \n",
            "[2]   {beef, whole milk}                              0.02125064  209 \n",
            "[3]   {whole milk, curd}                              0.02613116  257 \n",
            "[4]   {pork, whole milk}                              0.02216573  218 \n",
            "[5]   {pork, other vegetables}                        0.02165735  213 \n",
            "[6]   {frankfurter, whole milk}                       0.02053889  202 \n",
            "[7]   {whole milk, bottled beer}                      0.02043721  201 \n",
            "[8]   {whole milk, brown bread}                       0.02521607  248 \n",
            "[9]   {whole milk, margarine}                         0.02419929  238 \n",
            "[10]  {whole milk, butter}                            0.02755465  271 \n",
            "[11]  {other vegetables, butter}                      0.02003050  197 \n",
            "[12]  {whole milk, newspapers}                        0.02735130  269 \n",
            "[13]  {whole milk, domestic eggs}                     0.02999492  295 \n",
            "[14]  {other vegetables, domestic eggs}               0.02226741  219 \n",
            "[15]  {whole milk, fruit/vegetable juice}             0.02663955  262 \n",
            "[16]  {other vegetables, fruit/vegetable juice}       0.02104728  207 \n",
            "[17]  {whole milk, whipped/sour cream}                0.03223183  317 \n",
            "[18]  {other vegetables, whipped/sour cream}          0.02887646  284 \n",
            "[19]  {yogurt, whipped/sour cream}                    0.02074225  204 \n",
            "[20]  {pip fruit, whole milk}                         0.03009659  296 \n",
            "[21]  {pip fruit, other vegetables}                   0.02613116  257 \n",
            "[22]  {tropical fruit, pip fruit}                     0.02043721  201 \n",
            "[23]  {whole milk, pastry}                            0.03324860  327 \n",
            "[24]  {other vegetables, pastry}                      0.02257245  222 \n",
            "[25]  {rolls/buns, pastry}                            0.02094560  206 \n",
            "[26]  {pastry, soda}                                  0.02104728  207 \n",
            "[27]  {citrus fruit, whole milk}                      0.03050330  300 \n",
            "[28]  {citrus fruit, other vegetables}                0.02887646  284 \n",
            "[29]  {citrus fruit, yogurt}                          0.02165735  213 \n",
            "[30]  {whole milk, shopping bags}                     0.02450432  241 \n",
            "[31]  {other vegetables, shopping bags}               0.02318251  228 \n",
            "[32]  {soda, shopping bags}                           0.02460600  242 \n",
            "[33]  {sausage, whole milk}                           0.02989324  294 \n",
            "[34]  {sausage, other vegetables}                     0.02694459  265 \n",
            "[35]  {sausage, rolls/buns}                           0.03060498  301 \n",
            "[36]  {sausage, soda}                                 0.02430097  239 \n",
            "[37]  {whole milk, bottled water}                     0.03436706  338 \n",
            "[38]  {other vegetables, bottled water}               0.02480935  244 \n",
            "[39]  {rolls/buns, bottled water}                     0.02419929  238 \n",
            "[40]  {yogurt, bottled water}                         0.02297916  226 \n",
            "[41]  {bottled water, soda}                           0.02897814  285 \n",
            "[42]  {tropical fruit, whole milk}                    0.04229792  416 \n",
            "[43]  {tropical fruit, other vegetables}              0.03589222  353 \n",
            "[44]  {tropical fruit, rolls/buns}                    0.02460600  242 \n",
            "[45]  {tropical fruit, yogurt}                        0.02928317  288 \n",
            "[46]  {tropical fruit, soda}                          0.02084392  205 \n",
            "[47]  {tropical fruit, root vegetables}               0.02104728  207 \n",
            "[48]  {root vegetables, other vegetables, whole milk} 0.02318251  228 \n",
            "[49]  {root vegetables, whole milk}                   0.04890696  481 \n",
            "[50]  {root vegetables, other vegetables}             0.04738180  466 \n",
            "[51]  {root vegetables, rolls/buns}                   0.02430097  239 \n",
            "[52]  {root vegetables, yogurt}                       0.02582613  254 \n",
            "[53]  {whole milk, soda}                              0.04006101  394 \n",
            "[54]  {other vegetables, soda}                        0.03274021  322 \n",
            "[55]  {rolls/buns, soda}                              0.03833249  377 \n",
            "[56]  {yogurt, soda}                                  0.02735130  269 \n",
            "[57]  {other vegetables, whole milk, yogurt}          0.02226741  219 \n",
            "[58]  {whole milk, yogurt}                            0.05602440  551 \n",
            "[59]  {other vegetables, yogurt}                      0.04341637  427 \n",
            "[60]  {yogurt, rolls/buns}                            0.03436706  338 \n",
            "[61]  {whole milk, rolls/buns}                        0.05663447  557 \n",
            "[62]  {other vegetables, rolls/buns}                  0.04260295  419 \n",
            "[63]  {other vegetables, whole milk}                  0.07483477  736 \n",
            "[64]  {whole milk}                                    0.25551601 2513 \n",
            "[65]  {other vegetables}                              0.19349263 1903 \n",
            "[66]  {rolls/buns}                                    0.18393493 1809 \n",
            "[67]  {yogurt}                                        0.13950178 1372 \n",
            "[68]  {soda}                                          0.17437722 1715 \n",
            "[69]  {root vegetables}                               0.10899847 1072 \n",
            "[70]  {tropical fruit}                                0.10493137 1032 \n",
            "[71]  {bottled water}                                 0.11052364 1087 \n",
            "[72]  {sausage}                                       0.09395018  924 \n",
            "[73]  {shopping bags}                                 0.09852567  969 \n",
            "[74]  {citrus fruit}                                  0.08276563  814 \n",
            "[75]  {pastry}                                        0.08896797  875 \n",
            "[76]  {pip fruit}                                     0.07564820  744 \n",
            "[77]  {whipped/sour cream}                            0.07168277  705 \n",
            "[78]  {fruit/vegetable juice}                         0.07229283  711 \n",
            "[79]  {domestic eggs}                                 0.06344687  624 \n",
            "[80]  {newspapers}                                    0.07981698  785 \n",
            "[81]  {butter}                                        0.05541434  545 \n",
            "[82]  {margarine}                                     0.05856634  576 \n",
            "[83]  {brown bread}                                   0.06487036  638 \n",
            "[84]  {bottled beer}                                  0.08052872  792 \n",
            "[85]  {frankfurter}                                   0.05897306  580 \n",
            "[86]  {pork}                                          0.05765125  567 \n",
            "[87]  {napkins}                                       0.05236401  515 \n",
            "[88]  {curd}                                          0.05327911  524 \n",
            "[89]  {beef}                                          0.05246568  516 \n",
            "[90]  {frozen vegetables}                             0.04809354  473 \n",
            "[91]  {coffee}                                        0.05805796  571 \n",
            "[92]  {chocolate}                                     0.04961871  488 \n",
            "[93]  {white bread}                                   0.04209456  414 \n",
            "[94]  {chicken}                                       0.04290798  422 \n",
            "[95]  {cream cheese }                                 0.03965430  390 \n",
            "[96]  {canned beer}                                   0.07768175  764 \n",
            "[97]  {dessert}                                       0.03711235  365 \n",
            "[98]  {long life bakery product}                      0.03741739  368 \n",
            "[99]  {waffles}                                       0.03843416  378 \n",
            "[100] {sugar}                                         0.03385867  333 \n",
            "[101] {salty snack}                                   0.03782410  372 \n",
            "[102] {hygiene articles}                              0.03294357  324 \n",
            "[103] {hamburger meat}                                0.03324860  327 \n",
            "[104] {berries}                                       0.03324860  327 \n",
            "[105] {onions}                                        0.03101169  305 \n",
            "[106] {oil}                                           0.02806304  276 \n",
            "[107] {UHT-milk}                                      0.03345196  329 \n",
            "[108] {sliced cheese}                                 0.02450432  241 \n",
            "[109] {ham}                                           0.02602949  256 \n",
            "[110] {candy}                                         0.02989324  294 \n",
            "[111] {butter milk}                                   0.02796136  275 \n",
            "[112] {hard cheese}                                   0.02450432  241 \n",
            "[113] {frozen meals}                                  0.02836807  279 \n",
            "[114] {meat}                                          0.02582613  254 \n",
            "[115] {specialty chocolate}                           0.03040163  299 \n",
            "[116] {cat food}                                      0.02328419  229 \n",
            "[117] {grapes}                                        0.02236909  220 \n",
            "[118] {misc. beverages}                               0.02836807  279 \n",
            "[119] {specialty bar}                                 0.02735130  269 \n",
            "[120] {ice cream}                                     0.02501271  246 \n",
            "[121] {beverages}                                     0.02602949  256 \n",
            "[122] {chewing gum}                                   0.02104728  207 \n"
          ]
        }
      ]
    },
    {
      "cell_type": "code",
      "metadata": {
        "trusted": true,
        "id": "YyVyWW9f1o6P",
        "outputId": "89889bc6-b512-4ce7-8cea-389c7e514b47",
        "colab": {
          "base_uri": "https://localhost:8080/",
          "height": 437
        }
      },
      "source": [
        "itemFrequencyPlot(Groceries,\n",
        "                  topN=10,\n",
        "                  type=\"relative\",\n",
        "                  main=\"Item Frequency\") #podemos graficar los items frecuentes"
      ],
      "execution_count": 21,
      "outputs": [
        {
          "output_type": "display_data",
          "data": {
            "text/plain": [
              "Plot with title “Item Frequency”"
            ],
            "image/png": "[encoded data removed]"
          },
          "metadata": {
            "image/png": {
              "width": 420,
              "height": 420
            }
          }
        }
      ]
    },
    {
      "cell_type": "markdown",
      "metadata": {
        "id": "nTpLz0q91o6R"
      },
      "source": [
        "## ¿Cómo determinamos las reglas?"
      ]
    },
    {
      "cell_type": "code",
      "metadata": {
        "trusted": true,
        "id": "-u-9A9mU1o6R",
        "outputId": "84db9078-e23b-4c38-8391-b684406dcd1c",
        "colab": {
          "base_uri": "https://localhost:8080/",
          "height": 399
        }
      },
      "source": [
        "rules <- apriori(data = Groceries, #debe ser del tipo \"transactions\"\n",
        "                 parameter = list(supp=0.01, conf = 0.08),\n",
        "                )\n",
        "rules"
      ],
      "execution_count": 22,
      "outputs": [
        {
          "output_type": "stream",
          "name": "stdout",
          "text": [
            "Apriori\n",
            "\n",
            "Parameter specification:\n",
            " confidence minval smax arem  aval originalSupport maxtime support minlen\n",
            "       0.08    0.1    1 none FALSE            TRUE       5    0.01      1\n",
            " maxlen target  ext\n",
            "     10  rules TRUE\n",
            "\n",
            "Algorithmic control:\n",
            " filter tree heap memopt load sort verbose\n",
            "    0.1 TRUE TRUE  FALSE TRUE    2    TRUE\n",
            "\n",
            "Absolute minimum support count: 98 \n",
            "\n",
            "set item appearances ...[0 item(s)] done [0.00s].\n",
            "set transactions ...[169 item(s), 9835 transaction(s)] done [0.01s].\n",
            "sorting and recoding items ... [88 item(s)] done [0.00s].\n",
            "creating transaction tree ... done [0.00s].\n",
            "checking subsets of size 1 2 3 4 done [0.00s].\n",
            "writing ... [472 rule(s)] done [0.00s].\n",
            "creating S4 object  ... done [0.00s].\n"
          ]
        },
        {
          "output_type": "display_data",
          "data": {
            "text/plain": [
              "set of 472 rules "
            ]
          },
          "metadata": {}
        }
      ]
    },
    {
      "cell_type": "code",
      "metadata": {
        "trusted": true,
        "id": "LSadl69B1o6T"
      },
      "source": [],
      "execution_count": null,
      "outputs": []
    },
    {
      "cell_type": "code",
      "metadata": {
        "trusted": true,
        "scrolled": true,
        "id": "I_UAfL9O1o6X",
        "outputId": "1b92a9b1-6d1a-4569-ee2b-9de1a60e487d",
        "colab": {
          "base_uri": "https://localhost:8080/",
          "height": 34
        }
      },
      "source": [
        "length(rules)\n"
      ],
      "execution_count": 23,
      "outputs": [
        {
          "output_type": "display_data",
          "data": {
            "text/html": [
              "472"
            ],
            "text/markdown": "472",
            "text/latex": "472",
            "text/plain": [
              "[1] 472"
            ]
          },
          "metadata": {}
        }
      ]
    },
    {
      "cell_type": "code",
      "source": [
        "0.01006609/0.02450432"
      ],
      "metadata": {
        "id": "Mogfgb_8Sco2",
        "outputId": "5434eaab-75e7-4f57-a91b-2e086ad94a5a",
        "colab": {
          "base_uri": "https://localhost:8080/",
          "height": 34
        }
      },
      "execution_count": 25,
      "outputs": [
        {
          "output_type": "display_data",
          "data": {
            "text/html": [
              "0.410788383436063"
            ],
            "text/markdown": "0.410788383436063",
            "text/latex": "0.410788383436063",
            "text/plain": [
              "[1] 0.4107884"
            ]
          },
          "metadata": {}
        }
      ]
    },
    {
      "cell_type": "code",
      "source": [
        "inspect(rules)"
      ],
      "metadata": {
        "id": "2dj8vJRwO_rX",
        "outputId": "17ad6598-e25c-456d-e711-7ae9226fc0b0",
        "colab": {
          "base_uri": "https://localhost:8080/"
        }
      },
      "execution_count": 24,
      "outputs": [
        {
          "output_type": "stream",
          "name": "stdout",
          "text": [
            "      lhs                           rhs                        support confidence   coverage      lift count\n",
            "[1]   {}                         => {bottled beer}          0.08052872 0.08052872 1.00000000 1.0000000   792\n",
            "[2]   {}                         => {pastry}                0.08896797 0.08896797 1.00000000 1.0000000   875\n",
            "[3]   {}                         => {citrus fruit}          0.08276563 0.08276563 1.00000000 1.0000000   814\n",
            "[4]   {}                         => {shopping bags}         0.09852567 0.09852567 1.00000000 1.0000000   969\n",
            "[5]   {}                         => {sausage}               0.09395018 0.09395018 1.00000000 1.0000000   924\n",
            "[6]   {}                         => {bottled water}         0.11052364 0.11052364 1.00000000 1.0000000  1087\n",
            "[7]   {}                         => {tropical fruit}        0.10493137 0.10493137 1.00000000 1.0000000  1032\n",
            "[8]   {}                         => {root vegetables}       0.10899847 0.10899847 1.00000000 1.0000000  1072\n",
            "[9]   {}                         => {soda}                  0.17437722 0.17437722 1.00000000 1.0000000  1715\n",
            "[10]  {}                         => {yogurt}                0.13950178 0.13950178 1.00000000 1.0000000  1372\n",
            "[11]  {}                         => {rolls/buns}            0.18393493 0.18393493 1.00000000 1.0000000  1809\n",
            "[12]  {}                         => {other vegetables}      0.19349263 0.19349263 1.00000000 1.0000000  1903\n",
            "[13]  {}                         => {whole milk}            0.25551601 0.25551601 1.00000000 1.0000000  2513\n",
            "[14]  {hard cheese}              => {whole milk}            0.01006609 0.41078838 0.02450432 1.6076815    99\n",
            "[15]  {butter milk}              => {other vegetables}      0.01037112 0.37090909 0.02796136 1.9169159   102\n",
            "[16]  {butter milk}              => {whole milk}            0.01159126 0.41454545 0.02796136 1.6223854   114\n",
            "[17]  {ham}                      => {whole milk}            0.01148958 0.44140625 0.02602949 1.7275091   113\n",
            "[18]  {sliced cheese}            => {whole milk}            0.01077783 0.43983402 0.02450432 1.7213560   106\n",
            "[19]  {oil}                      => {whole milk}            0.01128622 0.40217391 0.02806304 1.5739675   111\n",
            "[20]  {onions}                   => {other vegetables}      0.01423488 0.45901639 0.03101169 2.3722681   140\n",
            "[21]  {onions}                   => {whole milk}            0.01209964 0.39016393 0.03101169 1.5269647   119\n",
            "[22]  {berries}                  => {yogurt}                0.01057448 0.31804281 0.03324860 2.2798477   104\n",
            "[23]  {berries}                  => {other vegetables}      0.01026945 0.30886850 0.03324860 1.5962805   101\n",
            "[24]  {berries}                  => {whole milk}            0.01179461 0.35474006 0.03324860 1.3883281   116\n",
            "[25]  {hamburger meat}           => {other vegetables}      0.01382816 0.41590214 0.03324860 2.1494470   136\n",
            "[26]  {hamburger meat}           => {whole milk}            0.01474326 0.44342508 0.03324860 1.7354101   145\n",
            "[27]  {hygiene articles}         => {whole milk}            0.01281139 0.38888889 0.03294357 1.5219746   126\n",
            "[28]  {salty snack}              => {other vegetables}      0.01077783 0.28494624 0.03782410 1.4726465   106\n",
            "[29]  {salty snack}              => {whole milk}            0.01118454 0.29569892 0.03782410 1.1572618   110\n",
            "[30]  {sugar}                    => {other vegetables}      0.01077783 0.31831832 0.03385867 1.6451186   106\n",
            "[31]  {sugar}                    => {whole milk}            0.01504830 0.44444444 0.03385867 1.7393996   148\n",
            "[32]  {waffles}                  => {other vegetables}      0.01006609 0.26190476 0.03843416 1.3535645    99\n",
            "[33]  {waffles}                  => {whole milk}            0.01270971 0.33068783 0.03843416 1.2941961   125\n",
            "[34]  {long life bakery product} => {other vegetables}      0.01067616 0.28532609 0.03741739 1.4746096   105\n",
            "[35]  {long life bakery product} => {whole milk}            0.01352313 0.36141304 0.03741739 1.4144438   133\n",
            "[36]  {dessert}                  => {other vegetables}      0.01159126 0.31232877 0.03711235 1.6141636   114\n",
            "[37]  {dessert}                  => {whole milk}            0.01372649 0.36986301 0.03711235 1.4475140   135\n",
            "[38]  {canned beer}              => {shopping bags}         0.01138790 0.14659686 0.07768175 1.4879052   112\n",
            "[39]  {shopping bags}            => {canned beer}           0.01138790 0.11558308 0.09852567 1.4879052   112\n",
            "[40]  {canned beer}              => {soda}                  0.01382816 0.17801047 0.07768175 1.0208356   136\n",
            "[41]  {canned beer}              => {rolls/buns}            0.01128622 0.14528796 0.07768175 0.7898878   111\n",
            "[42]  {cream cheese }            => {yogurt}                0.01240468 0.31282051 0.03965430 2.2424123   122\n",
            "[43]  {yogurt}                   => {cream cheese }         0.01240468 0.08892128 0.13950178 2.2424123   122\n",
            "[44]  {cream cheese }            => {other vegetables}      0.01372649 0.34615385 0.03965430 1.7889769   135\n",
            "[45]  {cream cheese }            => {whole milk}            0.01647178 0.41538462 0.03965430 1.6256696   162\n",
            "[46]  {chicken}                  => {root vegetables}       0.01087951 0.25355450 0.04290798 2.3262206   107\n",
            "[47]  {root vegetables}          => {chicken}               0.01087951 0.09981343 0.10899847 2.3262206   107\n",
            "[48]  {chicken}                  => {other vegetables}      0.01789527 0.41706161 0.04290798 2.1554393   176\n",
            "[49]  {other vegetables}         => {chicken}               0.01789527 0.09248555 0.19349263 2.1554393   176\n",
            "[50]  {chicken}                  => {whole milk}            0.01759024 0.40995261 0.04290798 1.6044106   173\n",
            "[51]  {white bread}              => {soda}                  0.01026945 0.24396135 0.04209456 1.3990437   101\n",
            "[52]  {white bread}              => {other vegetables}      0.01372649 0.32608696 0.04209456 1.6852681   135\n",
            "[53]  {white bread}              => {whole milk}            0.01708185 0.40579710 0.04209456 1.5881474   168\n",
            "[54]  {chocolate}                => {soda}                  0.01352313 0.27254098 0.04961871 1.5629391   133\n",
            "[55]  {chocolate}                => {rolls/buns}            0.01179461 0.23770492 0.04961871 1.2923316   116\n",
            "[56]  {chocolate}                => {other vegetables}      0.01270971 0.25614754 0.04961871 1.3238103   125\n",
            "[57]  {chocolate}                => {whole milk}            0.01667514 0.33606557 0.04961871 1.3152427   164\n",
            "[58]  {coffee}                   => {rolls/buns}            0.01098119 0.18914186 0.05805796 1.0283085   108\n",
            "[59]  {coffee}                   => {other vegetables}      0.01342145 0.23117338 0.05805796 1.1947400   132\n",
            "[60]  {coffee}                   => {whole milk}            0.01870869 0.32224168 0.05805796 1.2611408   184\n",
            "[61]  {frozen vegetables}        => {root vegetables}       0.01159126 0.24101480 0.04809354 2.2111759   114\n",
            "[62]  {root vegetables}          => {frozen vegetables}     0.01159126 0.10634328 0.10899847 2.2111759   114\n",
            "[63]  {frozen vegetables}        => {yogurt}                0.01240468 0.25792812 0.04809354 1.8489235   122\n",
            "[64]  {yogurt}                   => {frozen vegetables}     0.01240468 0.08892128 0.13950178 1.8489235   122\n",
            "[65]  {frozen vegetables}        => {rolls/buns}            0.01016777 0.21141649 0.04809354 1.1494092   100\n",
            "[66]  {frozen vegetables}        => {other vegetables}      0.01779359 0.36997886 0.04809354 1.9121083   175\n",
            "[67]  {other vegetables}         => {frozen vegetables}     0.01779359 0.09196006 0.19349263 1.9121083   175\n",
            "[68]  {frozen vegetables}        => {whole milk}            0.02043721 0.42494715 0.04809354 1.6630940   201\n",
            "[69]  {beef}                     => {root vegetables}       0.01738688 0.33139535 0.05246568 3.0403668   171\n",
            "[70]  {root vegetables}          => {beef}                  0.01738688 0.15951493 0.10899847 3.0403668   171\n",
            "[71]  {beef}                     => {yogurt}                0.01169293 0.22286822 0.05246568 1.5976012   115\n",
            "[72]  {yogurt}                   => {beef}                  0.01169293 0.08381924 0.13950178 1.5976012   115\n",
            "[73]  {beef}                     => {rolls/buns}            0.01362481 0.25968992 0.05246568 1.4118576   134\n",
            "[74]  {beef}                     => {other vegetables}      0.01972547 0.37596899 0.05246568 1.9430662   194\n",
            "[75]  {other vegetables}         => {beef}                  0.01972547 0.10194430 0.19349263 1.9430662   194\n",
            "[76]  {beef}                     => {whole milk}            0.02125064 0.40503876 0.05246568 1.5851795   209\n",
            "[77]  {whole milk}               => {beef}                  0.02125064 0.08316753 0.25551601 1.5851795   209\n",
            "[78]  {curd}                     => {whipped/sour cream}    0.01047280 0.19656489 0.05327911 2.7421499   103\n",
            "[79]  {whipped/sour cream}       => {curd}                  0.01047280 0.14609929 0.07168277 2.7421499   103\n",
            "[80]  {curd}                     => {tropical fruit}        0.01026945 0.19274809 0.05327911 1.8368968   101\n",
            "[81]  {tropical fruit}           => {curd}                  0.01026945 0.09786822 0.10493137 1.8368968   101\n",
            "[82]  {curd}                     => {root vegetables}       0.01087951 0.20419847 0.05327911 1.8734067   107\n",
            "[83]  {root vegetables}          => {curd}                  0.01087951 0.09981343 0.10899847 1.8734067   107\n",
            "[84]  {curd}                     => {yogurt}                0.01728521 0.32442748 0.05327911 2.3256154   170\n",
            "[85]  {yogurt}                   => {curd}                  0.01728521 0.12390671 0.13950178 2.3256154   170\n",
            "[86]  {curd}                     => {rolls/buns}            0.01006609 0.18893130 0.05327911 1.0271638    99\n",
            "[87]  {curd}                     => {other vegetables}      0.01718353 0.32251908 0.05327911 1.6668288   169\n",
            "[88]  {other vegetables}         => {curd}                  0.01718353 0.08880715 0.19349263 1.6668288   169\n",
            "[89]  {curd}                     => {whole milk}            0.02613116 0.49045802 0.05327911 1.9194805   257\n",
            "[90]  {whole milk}               => {curd}                  0.02613116 0.10226821 0.25551601 1.9194805   257\n",
            "[91]  {napkins}                  => {tropical fruit}        0.01006609 0.19223301 0.05236401 1.8319880    99\n",
            "[92]  {tropical fruit}           => {napkins}               0.01006609 0.09593023 0.10493137 1.8319880    99\n",
            "[93]  {napkins}                  => {soda}                  0.01199797 0.22912621 0.05236401 1.3139687   118\n",
            "[94]  {napkins}                  => {yogurt}                0.01230300 0.23495146 0.05236401 1.6842183   121\n",
            "[95]  {yogurt}                   => {napkins}               0.01230300 0.08819242 0.13950178 1.6842183   121\n",
            "[96]  {napkins}                  => {rolls/buns}            0.01169293 0.22330097 0.05236401 1.2140216   115\n",
            "[97]  {napkins}                  => {other vegetables}      0.01443823 0.27572816 0.05236401 1.4250060   142\n",
            "[98]  {napkins}                  => {whole milk}            0.01972547 0.37669903 0.05236401 1.4742678   194\n",
            "[99]  {pork}                     => {root vegetables}       0.01362481 0.23633157 0.05765125 2.1682099   134\n",
            "[100] {root vegetables}          => {pork}                  0.01362481 0.12500000 0.10899847 2.1682099   134\n",
            "[101] {pork}                     => {soda}                  0.01189629 0.20634921 0.05765125 1.1833495   117\n",
            "[102] {pork}                     => {rolls/buns}            0.01128622 0.19576720 0.05765125 1.0643286   111\n",
            "[103] {pork}                     => {other vegetables}      0.02165735 0.37566138 0.05765125 1.9414764   213\n",
            "[104] {other vegetables}         => {pork}                  0.02165735 0.11192853 0.19349263 1.9414764   213\n",
            "[105] {pork}                     => {whole milk}            0.02216573 0.38447972 0.05765125 1.5047187   218\n",
            "[106] {whole milk}               => {pork}                  0.02216573 0.08674891 0.25551601 1.5047187   218\n",
            "[107] {frankfurter}              => {sausage}               0.01006609 0.17068966 0.05897306 1.8168103    99\n",
            "[108] {sausage}                  => {frankfurter}           0.01006609 0.10714286 0.09395018 1.8168103    99\n",
            "[109] {frankfurter}              => {root vegetables}       0.01016777 0.17241379 0.05897306 1.5818001   100\n",
            "[110] {root vegetables}          => {frankfurter}           0.01016777 0.09328358 0.10899847 1.5818001   100\n",
            "[111] {frankfurter}              => {soda}                  0.01128622 0.19137931 0.05897306 1.0975018   111\n",
            "[112] {frankfurter}              => {yogurt}                0.01118454 0.18965517 0.05897306 1.3595179   110\n",
            "[113] {yogurt}                   => {frankfurter}           0.01118454 0.08017493 0.13950178 1.3595179   110\n",
            "[114] {frankfurter}              => {rolls/buns}            0.01921708 0.32586207 0.05897306 1.7716161   189\n",
            "[115] {rolls/buns}               => {frankfurter}           0.01921708 0.10447761 0.18393493 1.7716161   189\n",
            "[116] {frankfurter}              => {other vegetables}      0.01647178 0.27931034 0.05897306 1.4435193   162\n",
            "[117] {other vegetables}         => {frankfurter}           0.01647178 0.08512874 0.19349263 1.4435193   162\n",
            "[118] {frankfurter}              => {whole milk}            0.02053889 0.34827586 0.05897306 1.3630295   202\n",
            "[119] {whole milk}               => {frankfurter}           0.02053889 0.08038201 0.25551601 1.3630295   202\n",
            "[120] {bottled beer}             => {bottled water}         0.01576004 0.19570707 0.08052872 1.7707259   155\n",
            "[121] {bottled water}            => {bottled beer}          0.01576004 0.14259430 0.11052364 1.7707259   155\n",
            "[122] {bottled beer}             => {soda}                  0.01698017 0.21085859 0.08052872 1.2092094   167\n",
            "[123] {soda}                     => {bottled beer}          0.01698017 0.09737609 0.17437722 1.2092094   167\n",
            "[124] {bottled beer}             => {rolls/buns}            0.01362481 0.16919192 0.08052872 0.9198466   134\n",
            "[125] {bottled beer}             => {other vegetables}      0.01616675 0.20075758 0.08052872 1.0375464   159\n",
            "[126] {other vegetables}         => {bottled beer}          0.01616675 0.08355229 0.19349263 1.0375464   159\n",
            "[127] {bottled beer}             => {whole milk}            0.02043721 0.25378788 0.08052872 0.9932367   201\n",
            "[128] {brown bread}              => {sausage}               0.01067616 0.16457680 0.06487036 1.7517455   105\n",
            "[129] {sausage}                  => {brown bread}           0.01067616 0.11363636 0.09395018 1.7517455   105\n",
            "[130] {brown bread}              => {tropical fruit}        0.01067616 0.16457680 0.06487036 1.5684233   105\n",
            "[131] {tropical fruit}           => {brown bread}           0.01067616 0.10174419 0.10493137 1.5684233   105\n",
            "[132] {brown bread}              => {root vegetables}       0.01016777 0.15673981 0.06487036 1.4380000   100\n",
            "[133] {root vegetables}          => {brown bread}           0.01016777 0.09328358 0.10899847 1.4380000   100\n",
            "[134] {brown bread}              => {soda}                  0.01260803 0.19435737 0.06487036 1.1145800   124\n",
            "[135] {brown bread}              => {yogurt}                0.01453991 0.22413793 0.06487036 1.6067030   143\n",
            "[136] {yogurt}                   => {brown bread}           0.01453991 0.10422741 0.13950178 1.6067030   143\n",
            "[137] {brown bread}              => {rolls/buns}            0.01260803 0.19435737 0.06487036 1.0566637   124\n",
            "[138] {brown bread}              => {other vegetables}      0.01870869 0.28840125 0.06487036 1.4905025   184\n",
            "[139] {other vegetables}         => {brown bread}           0.01870869 0.09668944 0.19349263 1.4905025   184\n",
            "[140] {brown bread}              => {whole milk}            0.02521607 0.38871473 0.06487036 1.5212930   248\n",
            "[141] {whole milk}               => {brown bread}           0.02521607 0.09868683 0.25551601 1.5212930   248\n",
            "[142] {margarine}                => {bottled water}         0.01026945 0.17534722 0.05856634 1.5865133   101\n",
            "[143] {bottled water}            => {margarine}             0.01026945 0.09291628 0.11052364 1.5865133   101\n",
            "[144] {margarine}                => {root vegetables}       0.01108287 0.18923611 0.05856634 1.7361354   109\n",
            "[145] {root vegetables}          => {margarine}             0.01108287 0.10167910 0.10899847 1.7361354   109\n",
            "[146] {margarine}                => {soda}                  0.01016777 0.17361111 0.05856634 0.9956066   100\n",
            "[147] {margarine}                => {yogurt}                0.01423488 0.24305556 0.05856634 1.7423115   140\n",
            "[148] {yogurt}                   => {margarine}             0.01423488 0.10204082 0.13950178 1.7423115   140\n",
            "[149] {margarine}                => {rolls/buns}            0.01474326 0.25173611 0.05856634 1.3686151   145\n",
            "[150] {rolls/buns}               => {margarine}             0.01474326 0.08015478 0.18393493 1.3686151   145\n",
            "[151] {margarine}                => {other vegetables}      0.01972547 0.33680556 0.05856634 1.7406635   194\n",
            "[152] {other vegetables}         => {margarine}             0.01972547 0.10194430 0.19349263 1.7406635   194\n",
            "[153] {margarine}                => {whole milk}            0.02419929 0.41319444 0.05856634 1.6170980   238\n",
            "[154] {whole milk}               => {margarine}             0.02419929 0.09470752 0.25551601 1.6170980   238\n",
            "[155] {butter}                   => {whipped/sour cream}    0.01016777 0.18348624 0.05541434 2.5596981   100\n",
            "[156] {whipped/sour cream}       => {butter}                0.01016777 0.14184397 0.07168277 2.5596981   100\n",
            "[157] {butter}                   => {root vegetables}       0.01291307 0.23302752 0.05541434 2.1378971   127\n",
            "[158] {root vegetables}          => {butter}                0.01291307 0.11847015 0.10899847 2.1378971   127\n",
            "[159] {butter}                   => {yogurt}                0.01464159 0.26422018 0.05541434 1.8940273   144\n",
            "[160] {yogurt}                   => {butter}                0.01464159 0.10495627 0.13950178 1.8940273   144\n",
            "[161] {butter}                   => {rolls/buns}            0.01342145 0.24220183 0.05541434 1.3167800   132\n",
            "[162] {butter}                   => {other vegetables}      0.02003050 0.36146789 0.05541434 1.8681223   197\n",
            "[163] {other vegetables}         => {butter}                0.02003050 0.10352076 0.19349263 1.8681223   197\n",
            "[164] {butter}                   => {whole milk}            0.02755465 0.49724771 0.05541434 1.9460530   271\n",
            "[165] {whole milk}               => {butter}                0.02755465 0.10783924 0.25551601 1.9460530   271\n",
            "[166] {newspapers}               => {bottled water}         0.01128622 0.14140127 0.07981698 1.2793758   111\n",
            "[167] {bottled water}            => {newspapers}            0.01128622 0.10211592 0.11052364 1.2793758   111\n",
            "[168] {newspapers}               => {tropical fruit}        0.01179461 0.14777070 0.07981698 1.4082605   116\n",
            "[169] {tropical fruit}           => {newspapers}            0.01179461 0.11240310 0.10493137 1.4082605   116\n",
            "[170] {newspapers}               => {root vegetables}       0.01148958 0.14394904 0.07981698 1.3206519   113\n",
            "[171] {root vegetables}          => {newspapers}            0.01148958 0.10541045 0.10899847 1.3206519   113\n",
            "[172] {newspapers}               => {soda}                  0.01464159 0.18343949 0.07981698 1.0519693   144\n",
            "[173] {soda}                     => {newspapers}            0.01464159 0.08396501 0.17437722 1.0519693   144\n",
            "[174] {newspapers}               => {yogurt}                0.01535333 0.19235669 0.07981698 1.3788834   151\n",
            "[175] {yogurt}                   => {newspapers}            0.01535333 0.11005831 0.13950178 1.3788834   151\n",
            "[176] {newspapers}               => {rolls/buns}            0.01972547 0.24713376 0.07981698 1.3435934   194\n",
            "[177] {rolls/buns}               => {newspapers}            0.01972547 0.10724157 0.18393493 1.3435934   194\n",
            "[178] {newspapers}               => {other vegetables}      0.01931876 0.24203822 0.07981698 1.2508912   190\n",
            "[179] {other vegetables}         => {newspapers}            0.01931876 0.09984235 0.19349263 1.2508912   190\n",
            "[180] {newspapers}               => {whole milk}            0.02735130 0.34267516 0.07981698 1.3411103   269\n",
            "[181] {whole milk}               => {newspapers}            0.02735130 0.10704337 0.25551601 1.3411103   269\n",
            "[182] {domestic eggs}            => {citrus fruit}          0.01037112 0.16346154 0.06344687 1.9749929   102\n",
            "[183] {citrus fruit}             => {domestic eggs}         0.01037112 0.12530713 0.08276563 1.9749929   102\n",
            "[184] {domestic eggs}            => {tropical fruit}        0.01138790 0.17948718 0.06344687 1.7105198   112\n",
            "[185] {tropical fruit}           => {domestic eggs}         0.01138790 0.10852713 0.10493137 1.7105198   112\n",
            "[186] {domestic eggs}            => {root vegetables}       0.01433655 0.22596154 0.06344687 2.0730706   141\n",
            "[187] {root vegetables}          => {domestic eggs}         0.01433655 0.13152985 0.10899847 2.0730706   141\n",
            "[188] {domestic eggs}            => {soda}                  0.01240468 0.19551282 0.06344687 1.1212062   122\n",
            "[189] {domestic eggs}            => {yogurt}                0.01433655 0.22596154 0.06344687 1.6197753   141\n",
            "[190] {yogurt}                   => {domestic eggs}         0.01433655 0.10276968 0.13950178 1.6197753   141\n",
            "[191] {domestic eggs}            => {rolls/buns}            0.01565836 0.24679487 0.06344687 1.3417510   154\n",
            "[192] {rolls/buns}               => {domestic eggs}         0.01565836 0.08512991 0.18393493 1.3417510   154\n",
            "[193] {domestic eggs}            => {other vegetables}      0.02226741 0.35096154 0.06344687 1.8138238   219\n",
            "[194] {other vegetables}         => {domestic eggs}         0.02226741 0.11508145 0.19349263 1.8138238   219\n",
            "[195] {domestic eggs}            => {whole milk}            0.02999492 0.47275641 0.06344687 1.8502027   295\n",
            "[196] {whole milk}               => {domestic eggs}         0.02999492 0.11738957 0.25551601 1.8502027   295\n",
            "[197] {fruit/vegetable juice}    => {citrus fruit}          0.01037112 0.14345992 0.07229283 1.7333271   102\n",
            "[198] {citrus fruit}             => {fruit/vegetable juice} 0.01037112 0.12530713 0.08276563 1.7333271   102\n",
            "[199] {fruit/vegetable juice}    => {shopping bags}         0.01067616 0.14767932 0.07229283 1.4988918   105\n",
            "[200] {shopping bags}            => {fruit/vegetable juice} 0.01067616 0.10835913 0.09852567 1.4988918   105\n",
            "[201] {fruit/vegetable juice}    => {sausage}               0.01006609 0.13924051 0.07229283 1.4820675    99\n",
            "[202] {sausage}                  => {fruit/vegetable juice} 0.01006609 0.10714286 0.09395018 1.4820675    99\n",
            "[203] {fruit/vegetable juice}    => {bottled water}         0.01423488 0.19690577 0.07229283 1.7815715   140\n",
            "[204] {bottled water}            => {fruit/vegetable juice} 0.01423488 0.12879485 0.11052364 1.7815715   140\n",
            "[205] {fruit/vegetable juice}    => {tropical fruit}        0.01372649 0.18987342 0.07229283 1.8095010   135\n",
            "[206] {tropical fruit}           => {fruit/vegetable juice} 0.01372649 0.13081395 0.10493137 1.8095010   135\n",
            "[207] {fruit/vegetable juice}    => {root vegetables}       0.01199797 0.16596343 0.07229283 1.5226216   118\n",
            "[208] {root vegetables}          => {fruit/vegetable juice} 0.01199797 0.11007463 0.10899847 1.5226216   118\n",
            "[209] {fruit/vegetable juice}    => {soda}                  0.01840366 0.25457103 0.07229283 1.4598869   181\n",
            "[210] {soda}                     => {fruit/vegetable juice} 0.01840366 0.10553936 0.17437722 1.4598869   181\n",
            "[211] {fruit/vegetable juice}    => {yogurt}                0.01870869 0.25879044 0.07229283 1.8551049   184\n",
            "[212] {yogurt}                   => {fruit/vegetable juice} 0.01870869 0.13411079 0.13950178 1.8551049   184\n",
            "[213] {fruit/vegetable juice}    => {rolls/buns}            0.01453991 0.20112518 0.07229283 1.0934583   143\n",
            "[214] {fruit/vegetable juice}    => {other vegetables}      0.02104728 0.29113924 0.07229283 1.5046529   207\n",
            "[215] {other vegetables}         => {fruit/vegetable juice} 0.02104728 0.10877562 0.19349263 1.5046529   207\n",
            "[216] {fruit/vegetable juice}    => {whole milk}            0.02663955 0.36849508 0.07229283 1.4421604   262\n",
            "[217] {whole milk}               => {fruit/vegetable juice} 0.02663955 0.10425786 0.25551601 1.4421604   262\n",
            "[218] {whipped/sour cream}       => {citrus fruit}          0.01087951 0.15177305 0.07168277 1.8337690   107\n",
            "[219] {citrus fruit}             => {whipped/sour cream}    0.01087951 0.13144963 0.08276563 1.8337690   107\n",
            "[220] {whipped/sour cream}       => {tropical fruit}        0.01382816 0.19290780 0.07168277 1.8384188   136\n",
            "[221] {tropical fruit}           => {whipped/sour cream}    0.01382816 0.13178295 0.10493137 1.8384188   136\n",
            "[222] {whipped/sour cream}       => {root vegetables}       0.01708185 0.23829787 0.07168277 2.1862496   168\n",
            "[223] {root vegetables}          => {whipped/sour cream}    0.01708185 0.15671642 0.10899847 2.1862496   168\n",
            "[224] {whipped/sour cream}       => {soda}                  0.01159126 0.16170213 0.07168277 0.9273122   114\n",
            "[225] {whipped/sour cream}       => {yogurt}                0.02074225 0.28936170 0.07168277 2.0742510   204\n",
            "[226] {yogurt}                   => {whipped/sour cream}    0.02074225 0.14868805 0.13950178 2.0742510   204\n",
            "[227] {whipped/sour cream}       => {rolls/buns}            0.01464159 0.20425532 0.07168277 1.1104760   144\n",
            "[228] {whipped/sour cream}       => {other vegetables}      0.02887646 0.40283688 0.07168277 2.0819237   284\n",
            "[229] {other vegetables}         => {whipped/sour cream}    0.02887646 0.14923805 0.19349263 2.0819237   284\n",
            "[230] {whipped/sour cream}       => {whole milk}            0.03223183 0.44964539 0.07168277 1.7597542   317\n",
            "[231] {whole milk}               => {whipped/sour cream}    0.03223183 0.12614405 0.25551601 1.7597542   317\n",
            "[232] {pip fruit}                => {pastry}                0.01067616 0.14112903 0.07564820 1.5862903   105\n",
            "[233] {pastry}                   => {pip fruit}             0.01067616 0.12000000 0.08896797 1.5862903   105\n",
            "[234] {pip fruit}                => {citrus fruit}          0.01382816 0.18279570 0.07564820 2.2085942   136\n",
            "[235] {citrus fruit}             => {pip fruit}             0.01382816 0.16707617 0.08276563 2.2085942   136\n",
            "[236] {pip fruit}                => {sausage}               0.01077783 0.14247312 0.07564820 1.5164752   106\n",
            "[237] {sausage}                  => {pip fruit}             0.01077783 0.11471861 0.09395018 1.5164752   106\n",
            "[238] {pip fruit}                => {bottled water}         0.01057448 0.13978495 0.07564820 1.2647516   104\n",
            "[239] {bottled water}            => {pip fruit}             0.01057448 0.09567617 0.11052364 1.2647516   104\n",
            "[240] {pip fruit}                => {tropical fruit}        0.02043721 0.27016129 0.07564820 2.5746476   201\n",
            "[241] {tropical fruit}           => {pip fruit}             0.02043721 0.19476744 0.10493137 2.5746476   201\n",
            "[242] {pip fruit}                => {root vegetables}       0.01555669 0.20564516 0.07564820 1.8866793   153\n",
            "[243] {root vegetables}          => {pip fruit}             0.01555669 0.14272388 0.10899847 1.8866793   153\n",
            "[244] {pip fruit}                => {soda}                  0.01331978 0.17607527 0.07564820 1.0097378   131\n",
            "[245] {pip fruit}                => {yogurt}                0.01799695 0.23790323 0.07564820 1.7053777   177\n",
            "[246] {yogurt}                   => {pip fruit}             0.01799695 0.12900875 0.13950178 1.7053777   177\n",
            "[247] {pip fruit}                => {rolls/buns}            0.01392984 0.18413978 0.07564820 1.0011138   137\n",
            "[248] {pip fruit}                => {other vegetables}      0.02613116 0.34543011 0.07564820 1.7852365   257\n",
            "[249] {other vegetables}         => {pip fruit}             0.02613116 0.13504992 0.19349263 1.7852365   257\n",
            "[250] {pip fruit}                => {whole milk}            0.03009659 0.39784946 0.07564820 1.5570432   296\n",
            "[251] {whole milk}               => {pip fruit}             0.03009659 0.11778750 0.25551601 1.5570432   296\n",
            "[252] {pastry}                   => {shopping bags}         0.01189629 0.13371429 0.08896797 1.3571517   117\n",
            "[253] {shopping bags}            => {pastry}                0.01189629 0.12074303 0.09852567 1.3571517   117\n",
            "[254] {pastry}                   => {sausage}               0.01250635 0.14057143 0.08896797 1.4962338   123\n",
            "[255] {sausage}                  => {pastry}                0.01250635 0.13311688 0.09395018 1.4962338   123\n",
            "[256] {pastry}                   => {tropical fruit}        0.01321810 0.14857143 0.08896797 1.4158915   130\n",
            "[257] {tropical fruit}           => {pastry}                0.01321810 0.12596899 0.10493137 1.4158915   130\n",
            "[258] {pastry}                   => {root vegetables}       0.01098119 0.12342857 0.08896797 1.1323881   108\n",
            "[259] {root vegetables}          => {pastry}                0.01098119 0.10074627 0.10899847 1.1323881   108\n",
            "[260] {pastry}                   => {soda}                  0.02104728 0.23657143 0.08896797 1.3566647   207\n",
            "[261] {soda}                     => {pastry}                0.02104728 0.12069971 0.17437722 1.3566647   207\n",
            "[262] {pastry}                   => {yogurt}                0.01769192 0.19885714 0.08896797 1.4254810   174\n",
            "[263] {yogurt}                   => {pastry}                0.01769192 0.12682216 0.13950178 1.4254810   174\n",
            "[264] {pastry}                   => {rolls/buns}            0.02094560 0.23542857 0.08896797 1.2799558   206\n",
            "[265] {rolls/buns}               => {pastry}                0.02094560 0.11387507 0.18393493 1.2799558   206\n",
            "[266] {pastry}                   => {other vegetables}      0.02257245 0.25371429 0.08896797 1.3112349   222\n",
            "[267] {other vegetables}         => {pastry}                0.02257245 0.11665791 0.19349263 1.3112349   222\n",
            "[268] {pastry}                   => {whole milk}            0.03324860 0.37371429 0.08896797 1.4625865   327\n",
            "[269] {whole milk}               => {pastry}                0.03324860 0.13012336 0.25551601 1.4625865   327\n",
            "[270] {citrus fruit}             => {sausage}               0.01128622 0.13636364 0.08276563 1.4514463   111\n",
            "[271] {sausage}                  => {citrus fruit}          0.01128622 0.12012987 0.09395018 1.4514463   111\n",
            "[272] {citrus fruit}             => {bottled water}         0.01352313 0.16339066 0.08276563 1.4783323   133\n",
            "[273] {bottled water}            => {citrus fruit}          0.01352313 0.12235511 0.11052364 1.4783323   133\n",
            "[274] {citrus fruit}             => {tropical fruit}        0.01992883 0.24078624 0.08276563 2.2947022   196\n",
            "[275] {tropical fruit}           => {citrus fruit}          0.01992883 0.18992248 0.10493137 2.2947022   196\n",
            "[276] {citrus fruit}             => {root vegetables}       0.01769192 0.21375921 0.08276563 1.9611211   174\n",
            "[277] {root vegetables}          => {citrus fruit}          0.01769192 0.16231343 0.10899847 1.9611211   174\n",
            "[278] {citrus fruit}             => {soda}                  0.01281139 0.15479115 0.08276563 0.8876799   126\n",
            "[279] {citrus fruit}             => {yogurt}                0.02165735 0.26167076 0.08276563 1.8757521   213\n",
            "[280] {yogurt}                   => {citrus fruit}          0.02165735 0.15524781 0.13950178 1.8757521   213\n",
            "[281] {citrus fruit}             => {rolls/buns}            0.01677682 0.20270270 0.08276563 1.1020349   165\n",
            "[282] {rolls/buns}               => {citrus fruit}          0.01677682 0.09121061 0.18393493 1.1020349   165\n",
            "[283] {citrus fruit}             => {other vegetables}      0.02887646 0.34889435 0.08276563 1.8031403   284\n",
            "[284] {other vegetables}         => {citrus fruit}          0.02887646 0.14923805 0.19349263 1.8031403   284\n",
            "[285] {citrus fruit}             => {whole milk}            0.03050330 0.36855037 0.08276563 1.4423768   300\n",
            "[286] {whole milk}               => {citrus fruit}          0.03050330 0.11937923 0.25551601 1.4423768   300\n",
            "[287] {shopping bags}            => {sausage}               0.01565836 0.15892673 0.09852567 1.6916065   154\n",
            "[288] {sausage}                  => {shopping bags}         0.01565836 0.16666667 0.09395018 1.6916065   154\n",
            "[289] {shopping bags}            => {bottled water}         0.01098119 0.11145511 0.09852567 1.0084278   108\n",
            "[290] {bottled water}            => {shopping bags}         0.01098119 0.09935603 0.11052364 1.0084278   108\n",
            "[291] {shopping bags}            => {tropical fruit}        0.01352313 0.13725490 0.09852567 1.3080445   133\n",
            "[292] {tropical fruit}           => {shopping bags}         0.01352313 0.12887597 0.10493137 1.3080445   133\n",
            "[293] {shopping bags}            => {root vegetables}       0.01281139 0.13003096 0.09852567 1.1929613   126\n",
            "[294] {root vegetables}          => {shopping bags}         0.01281139 0.11753731 0.10899847 1.1929613   126\n",
            "[295] {shopping bags}            => {soda}                  0.02460600 0.24974200 0.09852567 1.4321939   242\n",
            "[296] {soda}                     => {shopping bags}         0.02460600 0.14110787 0.17437722 1.4321939   242\n",
            "[297] {shopping bags}            => {yogurt}                0.01525165 0.15479876 0.09852567 1.1096544   150\n",
            "[298] {yogurt}                   => {shopping bags}         0.01525165 0.10932945 0.13950178 1.1096544   150\n",
            "[299] {shopping bags}            => {rolls/buns}            0.01952211 0.19814241 0.09852567 1.0772419   192\n",
            "[300] {rolls/buns}               => {shopping bags}         0.01952211 0.10613599 0.18393493 1.0772419   192\n",
            "[301] {shopping bags}            => {other vegetables}      0.02318251 0.23529412 0.09852567 1.2160366   228\n",
            "[302] {other vegetables}         => {shopping bags}         0.02318251 0.11981083 0.19349263 1.2160366   228\n",
            "[303] {shopping bags}            => {whole milk}            0.02450432 0.24871001 0.09852567 0.9733637   241\n",
            "[304] {whole milk}               => {shopping bags}         0.02450432 0.09590131 0.25551601 0.9733637   241\n",
            "[305] {sausage}                  => {bottled water}         0.01199797 0.12770563 0.09395018 1.1554598   118\n",
            "[306] {bottled water}            => {sausage}               0.01199797 0.10855566 0.11052364 1.1554598   118\n",
            "[307] {sausage}                  => {tropical fruit}        0.01392984 0.14826840 0.09395018 1.4130036   137\n",
            "[308] {tropical fruit}           => {sausage}               0.01392984 0.13275194 0.10493137 1.4130036   137\n",
            "[309] {sausage}                  => {root vegetables}       0.01494662 0.15909091 0.09395018 1.4595700   147\n",
            "[310] {root vegetables}          => {sausage}               0.01494662 0.13712687 0.10899847 1.4595700   147\n",
            "[311] {sausage}                  => {soda}                  0.02430097 0.25865801 0.09395018 1.4833245   239\n",
            "[312] {soda}                     => {sausage}               0.02430097 0.13935860 0.17437722 1.4833245   239\n",
            "[313] {sausage}                  => {yogurt}                0.01962379 0.20887446 0.09395018 1.4972889   193\n",
            "[314] {yogurt}                   => {sausage}               0.01962379 0.14067055 0.13950178 1.4972889   193\n",
            "[315] {sausage}                  => {rolls/buns}            0.03060498 0.32575758 0.09395018 1.7710480   301\n",
            "[316] {rolls/buns}               => {sausage}               0.03060498 0.16639027 0.18393493 1.7710480   301\n",
            "[317] {sausage}                  => {other vegetables}      0.02694459 0.28679654 0.09395018 1.4822091   265\n",
            "[318] {other vegetables}         => {sausage}               0.02694459 0.13925381 0.19349263 1.4822091   265\n",
            "[319] {sausage}                  => {whole milk}            0.02989324 0.31818182 0.09395018 1.2452520   294\n",
            "[320] {whole milk}               => {sausage}               0.02989324 0.11699164 0.25551601 1.2452520   294\n",
            "[321] {bottled water}            => {tropical fruit}        0.01850534 0.16743330 0.11052364 1.5956459   182\n",
            "[322] {tropical fruit}           => {bottled water}         0.01850534 0.17635659 0.10493137 1.5956459   182\n",
            "[323] {bottled water}            => {root vegetables}       0.01565836 0.14167433 0.11052364 1.2997827   154\n",
            "[324] {root vegetables}          => {bottled water}         0.01565836 0.14365672 0.10899847 1.2997827   154\n",
            "[325] {bottled water}            => {soda}                  0.02897814 0.26218951 0.11052364 1.5035766   285\n",
            "[326] {soda}                     => {bottled water}         0.02897814 0.16618076 0.17437722 1.5035766   285\n",
            "[327] {bottled water}            => {yogurt}                0.02297916 0.20791168 0.11052364 1.4903873   226\n",
            "[328] {yogurt}                   => {bottled water}         0.02297916 0.16472303 0.13950178 1.4903873   226\n",
            "[329] {bottled water}            => {rolls/buns}            0.02419929 0.21895124 0.11052364 1.1903734   238\n",
            "[330] {rolls/buns}               => {bottled water}         0.02419929 0.13156440 0.18393493 1.1903734   238\n",
            "[331] {bottled water}            => {other vegetables}      0.02480935 0.22447102 0.11052364 1.1601012   244\n",
            "[332] {other vegetables}         => {bottled water}         0.02480935 0.12821860 0.19349263 1.1601012   244\n",
            "[333] {bottled water}            => {whole milk}            0.03436706 0.31094756 0.11052364 1.2169396   338\n",
            "[334] {whole milk}               => {bottled water}         0.03436706 0.13450060 0.25551601 1.2169396   338\n",
            "[335] {tropical fruit}           => {root vegetables}       0.02104728 0.20058140 0.10493137 1.8402220   207\n",
            "[336] {root vegetables}          => {tropical fruit}        0.02104728 0.19309701 0.10899847 1.8402220   207\n",
            "[337] {tropical fruit}           => {soda}                  0.02084392 0.19864341 0.10493137 1.1391592   205\n",
            "[338] {soda}                     => {tropical fruit}        0.02084392 0.11953353 0.17437722 1.1391592   205\n",
            "[339] {tropical fruit}           => {yogurt}                0.02928317 0.27906977 0.10493137 2.0004746   288\n",
            "[340] {yogurt}                   => {tropical fruit}        0.02928317 0.20991254 0.13950178 2.0004746   288\n",
            "[341] {tropical fruit}           => {rolls/buns}            0.02460600 0.23449612 0.10493137 1.2748863   242\n",
            "[342] {rolls/buns}               => {tropical fruit}        0.02460600 0.13377557 0.18393493 1.2748863   242\n",
            "[343] {tropical fruit}           => {other vegetables}      0.03589222 0.34205426 0.10493137 1.7677896   353\n",
            "[344] {other vegetables}         => {tropical fruit}        0.03589222 0.18549658 0.19349263 1.7677896   353\n",
            "[345] {tropical fruit}           => {whole milk}            0.04229792 0.40310078 0.10493137 1.5775950   416\n",
            "[346] {whole milk}               => {tropical fruit}        0.04229792 0.16553920 0.25551601 1.5775950   416\n",
            "[347] {root vegetables}          => {soda}                  0.01860702 0.17070896 0.10899847 0.9789636   183\n",
            "[348] {soda}                     => {root vegetables}       0.01860702 0.10670554 0.17437722 0.9789636   183\n",
            "[349] {root vegetables}          => {yogurt}                0.02582613 0.23694030 0.10899847 1.6984751   254\n",
            "[350] {yogurt}                   => {root vegetables}       0.02582613 0.18513120 0.13950178 1.6984751   254\n",
            "[351] {root vegetables}          => {rolls/buns}            0.02430097 0.22294776 0.10899847 1.2121013   239\n",
            "[352] {rolls/buns}               => {root vegetables}       0.02430097 0.13211719 0.18393493 1.2121013   239\n",
            "[353] {root vegetables}          => {other vegetables}      0.04738180 0.43470149 0.10899847 2.2466049   466\n",
            "[354] {other vegetables}         => {root vegetables}       0.04738180 0.24487651 0.19349263 2.2466049   466\n",
            "[355] {root vegetables}          => {whole milk}            0.04890696 0.44869403 0.10899847 1.7560310   481\n",
            "[356] {whole milk}               => {root vegetables}       0.04890696 0.19140470 0.25551601 1.7560310   481\n",
            "[357] {soda}                     => {yogurt}                0.02735130 0.15685131 0.17437722 1.1243678   269\n",
            "[358] {yogurt}                   => {soda}                  0.02735130 0.19606414 0.13950178 1.1243678   269\n",
            "[359] {soda}                     => {rolls/buns}            0.03833249 0.21982507 0.17437722 1.1951242   377\n",
            "[360] {rolls/buns}               => {soda}                  0.03833249 0.20840243 0.18393493 1.1951242   377\n",
            "[361] {soda}                     => {other vegetables}      0.03274021 0.18775510 0.17437722 0.9703476   322\n",
            "[362] {other vegetables}         => {soda}                  0.03274021 0.16920652 0.19349263 0.9703476   322\n",
            "[363] {soda}                     => {whole milk}            0.04006101 0.22973761 0.17437722 0.8991124   394\n",
            "[364] {whole milk}               => {soda}                  0.04006101 0.15678472 0.25551601 0.8991124   394\n",
            "[365] {yogurt}                   => {rolls/buns}            0.03436706 0.24635569 0.13950178 1.3393633   338\n",
            "[366] {rolls/buns}               => {yogurt}                0.03436706 0.18684356 0.18393493 1.3393633   338\n",
            "[367] {yogurt}                   => {other vegetables}      0.04341637 0.31122449 0.13950178 1.6084566   427\n",
            "[368] {other vegetables}         => {yogurt}                0.04341637 0.22438255 0.19349263 1.6084566   427\n",
            "[369] {yogurt}                   => {whole milk}            0.05602440 0.40160350 0.13950178 1.5717351   551\n",
            "[370] {whole milk}               => {yogurt}                0.05602440 0.21925985 0.25551601 1.5717351   551\n",
            "[371] {rolls/buns}               => {other vegetables}      0.04260295 0.23161968 0.18393493 1.1970465   419\n",
            "[372] {other vegetables}         => {rolls/buns}            0.04260295 0.22017867 0.19349263 1.1970465   419\n",
            "[373] {rolls/buns}               => {whole milk}            0.05663447 0.30790492 0.18393493 1.2050318   557\n",
            "[374] {whole milk}               => {rolls/buns}            0.05663447 0.22164743 0.25551601 1.2050318   557\n",
            "[375] {other vegetables}         => {whole milk}            0.07483477 0.38675775 0.19349263 1.5136341   736\n",
            "[376] {whole milk}               => {other vegetables}      0.07483477 0.29287704 0.25551601 1.5136341   736\n",
            "[377] {curd,                                                                                                \n",
            "       yogurt}                   => {whole milk}            0.01006609 0.58235294 0.01728521 2.2791250    99\n",
            "[378] {whole milk,                                                                                          \n",
            "       curd}                     => {yogurt}                0.01006609 0.38521401 0.02613116 2.7613555    99\n",
            "[379] {whole milk,                                                                                          \n",
            "       yogurt}                   => {curd}                  0.01006609 0.17967332 0.05602440 3.3723037    99\n",
            "[380] {pork,                                                                                                \n",
            "       other vegetables}         => {whole milk}            0.01016777 0.46948357 0.02165735 1.8373939   100\n",
            "[381] {pork,                                                                                                \n",
            "       whole milk}               => {other vegetables}      0.01016777 0.45871560 0.02216573 2.3707136   100\n",
            "[382] {other vegetables,                                                                                    \n",
            "       whole milk}               => {pork}                  0.01016777 0.13586957 0.07483477 2.3567499   100\n",
            "[383] {other vegetables,                                                                                    \n",
            "       butter}                   => {whole milk}            0.01148958 0.57360406 0.02003050 2.2448850   113\n",
            "[384] {whole milk,                                                                                          \n",
            "       butter}                   => {other vegetables}      0.01148958 0.41697417 0.02755465 2.1549874   113\n",
            "[385] {other vegetables,                                                                                    \n",
            "       whole milk}               => {butter}                0.01148958 0.15353261 0.07483477 2.7706297   113\n",
            "[386] {other vegetables,                                                                                    \n",
            "       domestic eggs}            => {whole milk}            0.01230300 0.55251142 0.02226741 2.1623358   121\n",
            "[387] {whole milk,                                                                                          \n",
            "       domestic eggs}            => {other vegetables}      0.01230300 0.41016949 0.02999492 2.1198197   121\n",
            "[388] {other vegetables,                                                                                    \n",
            "       whole milk}               => {domestic eggs}         0.01230300 0.16440217 0.07483477 2.5911785   121\n",
            "[389] {other vegetables,                                                                                    \n",
            "       fruit/vegetable juice}    => {whole milk}            0.01047280 0.49758454 0.02104728 1.9473713   103\n",
            "[390] {whole milk,                                                                                          \n",
            "       fruit/vegetable juice}    => {other vegetables}      0.01047280 0.39312977 0.02663955 2.0317558   103\n",
            "[391] {other vegetables,                                                                                    \n",
            "       whole milk}               => {fruit/vegetable juice} 0.01047280 0.13994565 0.07483477 1.9358164   103\n",
            "[392] {yogurt,                                                                                              \n",
            "       whipped/sour cream}       => {other vegetables}      0.01016777 0.49019608 0.02074225 2.5334096   100\n",
            "[393] {other vegetables,                                                                                    \n",
            "       whipped/sour cream}       => {yogurt}                0.01016777 0.35211268 0.02887646 2.5240730   100\n",
            "[394] {other vegetables,                                                                                    \n",
            "       yogurt}                   => {whipped/sour cream}    0.01016777 0.23419204 0.04341637 3.2670620   100\n",
            "[395] {yogurt,                                                                                              \n",
            "       whipped/sour cream}       => {whole milk}            0.01087951 0.52450980 0.02074225 2.0527473   107\n",
            "[396] {whole milk,                                                                                          \n",
            "       whipped/sour cream}       => {yogurt}                0.01087951 0.33753943 0.03223183 2.4196066   107\n",
            "[397] {whole milk,                                                                                          \n",
            "       yogurt}                   => {whipped/sour cream}    0.01087951 0.19419238 0.05602440 2.7090525   107\n",
            "[398] {other vegetables,                                                                                    \n",
            "       whipped/sour cream}       => {whole milk}            0.01464159 0.50704225 0.02887646 1.9843854   144\n",
            "[399] {whole milk,                                                                                          \n",
            "       whipped/sour cream}       => {other vegetables}      0.01464159 0.45425868 0.03223183 2.3476795   144\n",
            "[400] {other vegetables,                                                                                    \n",
            "       whole milk}               => {whipped/sour cream}    0.01464159 0.19565217 0.07483477 2.7294172   144\n",
            "[401] {pip fruit,                                                                                           \n",
            "       other vegetables}         => {whole milk}            0.01352313 0.51750973 0.02613116 2.0253514   133\n",
            "[402] {pip fruit,                                                                                           \n",
            "       whole milk}               => {other vegetables}      0.01352313 0.44932432 0.03009659 2.3221780   133\n",
            "[403] {other vegetables,                                                                                    \n",
            "       whole milk}               => {pip fruit}             0.01352313 0.18070652 0.07483477 2.3887751   133\n",
            "[404] {other vegetables,                                                                                    \n",
            "       pastry}                   => {whole milk}            0.01057448 0.46846847 0.02257245 1.8334212   104\n",
            "[405] {whole milk,                                                                                          \n",
            "       pastry}                   => {other vegetables}      0.01057448 0.31804281 0.03324860 1.6436947   104\n",
            "[406] {other vegetables,                                                                                    \n",
            "       whole milk}               => {pastry}                0.01057448 0.14130435 0.07483477 1.5882609   104\n",
            "[407] {citrus fruit,                                                                                        \n",
            "       root vegetables}          => {other vegetables}      0.01037112 0.58620690 0.01769192 3.0296084   102\n",
            "[408] {citrus fruit,                                                                                        \n",
            "       other vegetables}         => {root vegetables}       0.01037112 0.35915493 0.02887646 3.2950455   102\n",
            "[409] {root vegetables,                                                                                     \n",
            "       other vegetables}         => {citrus fruit}          0.01037112 0.21888412 0.04738180 2.6446257   102\n",
            "[410] {citrus fruit,                                                                                        \n",
            "       yogurt}                   => {whole milk}            0.01026945 0.47417840 0.02165735 1.8557678   101\n",
            "[411] {citrus fruit,                                                                                        \n",
            "       whole milk}               => {yogurt}                0.01026945 0.33666667 0.03050330 2.4133503   101\n",
            "[412] {whole milk,                                                                                          \n",
            "       yogurt}                   => {citrus fruit}          0.01026945 0.18330309 0.05602440 2.2147246   101\n",
            "[413] {citrus fruit,                                                                                        \n",
            "       other vegetables}         => {whole milk}            0.01301474 0.45070423 0.02887646 1.7638982   128\n",
            "[414] {citrus fruit,                                                                                        \n",
            "       whole milk}               => {other vegetables}      0.01301474 0.42666667 0.03050330 2.2050797   128\n",
            "[415] {other vegetables,                                                                                    \n",
            "       whole milk}               => {citrus fruit}          0.01301474 0.17391304 0.07483477 2.1012712   128\n",
            "[416] {sausage,                                                                                             \n",
            "       other vegetables}         => {whole milk}            0.01016777 0.37735849 0.02694459 1.4768487   100\n",
            "[417] {sausage,                                                                                             \n",
            "       whole milk}               => {other vegetables}      0.01016777 0.34013605 0.02989324 1.7578760   100\n",
            "[418] {other vegetables,                                                                                    \n",
            "       whole milk}               => {sausage}               0.01016777 0.13586957 0.07483477 1.4461874   100\n",
            "[419] {other vegetables,                                                                                    \n",
            "       bottled water}            => {whole milk}            0.01077783 0.43442623 0.02480935 1.7001918   106\n",
            "[420] {whole milk,                                                                                          \n",
            "       bottled water}            => {other vegetables}      0.01077783 0.31360947 0.03436706 1.6207825   106\n",
            "[421] {other vegetables,                                                                                    \n",
            "       whole milk}               => {bottled water}         0.01077783 0.14402174 0.07483477 1.3030854   106\n",
            "[422] {tropical fruit,                                                                                      \n",
            "       root vegetables}          => {other vegetables}      0.01230300 0.58454106 0.02104728 3.0209991   121\n",
            "[423] {tropical fruit,                                                                                      \n",
            "       other vegetables}         => {root vegetables}       0.01230300 0.34277620 0.03589222 3.1447798   121\n",
            "[424] {root vegetables,                                                                                     \n",
            "       other vegetables}         => {tropical fruit}        0.01230300 0.25965665 0.04738180 2.4745380   121\n",
            "[425] {tropical fruit,                                                                                      \n",
            "       root vegetables}          => {whole milk}            0.01199797 0.57004831 0.02104728 2.2309690   118\n",
            "[426] {tropical fruit,                                                                                      \n",
            "       whole milk}               => {root vegetables}       0.01199797 0.28365385 0.04229792 2.6023653   118\n",
            "[427] {root vegetables,                                                                                     \n",
            "       whole milk}               => {tropical fruit}        0.01199797 0.24532225 0.04890696 2.3379305   118\n",
            "[428] {tropical fruit,                                                                                      \n",
            "       yogurt}                   => {other vegetables}      0.01230300 0.42013889 0.02928317 2.1713431   121\n",
            "[429] {tropical fruit,                                                                                      \n",
            "       other vegetables}         => {yogurt}                0.01230300 0.34277620 0.03589222 2.4571457   121\n",
            "[430] {other vegetables,                                                                                    \n",
            "       yogurt}                   => {tropical fruit}        0.01230300 0.28337237 0.04341637 2.7005496   121\n",
            "[431] {tropical fruit,                                                                                      \n",
            "       yogurt}                   => {whole milk}            0.01514997 0.51736111 0.02928317 2.0247698   149\n",
            "[432] {tropical fruit,                                                                                      \n",
            "       whole milk}               => {yogurt}                0.01514997 0.35817308 0.04229792 2.5675162   149\n",
            "[433] {whole milk,                                                                                          \n",
            "       yogurt}                   => {tropical fruit}        0.01514997 0.27041742 0.05602440 2.5770885   149\n",
            "[434] {tropical fruit,                                                                                      \n",
            "       rolls/buns}               => {whole milk}            0.01098119 0.44628099 0.02460600 1.7465872   108\n",
            "[435] {tropical fruit,                                                                                      \n",
            "       whole milk}               => {rolls/buns}            0.01098119 0.25961538 0.04229792 1.4114524   108\n",
            "[436] {whole milk,                                                                                          \n",
            "       rolls/buns}               => {tropical fruit}        0.01098119 0.19389587 0.05663447 1.8478352   108\n",
            "[437] {tropical fruit,                                                                                      \n",
            "       other vegetables}         => {whole milk}            0.01708185 0.47592068 0.03589222 1.8625865   168\n",
            "[438] {tropical fruit,                                                                                      \n",
            "       whole milk}               => {other vegetables}      0.01708185 0.40384615 0.04229792 2.0871397   168\n",
            "[439] {other vegetables,                                                                                    \n",
            "       whole milk}               => {tropical fruit}        0.01708185 0.22826087 0.07483477 2.1753349   168\n",
            "[440] {root vegetables,                                                                                     \n",
            "       yogurt}                   => {other vegetables}      0.01291307 0.50000000 0.02582613 2.5840778   127\n",
            "[441] {root vegetables,                                                                                     \n",
            "       other vegetables}         => {yogurt}                0.01291307 0.27253219 0.04738180 1.9536108   127\n",
            "[442] {other vegetables,                                                                                    \n",
            "       yogurt}                   => {root vegetables}       0.01291307 0.29742389 0.04341637 2.7286977   127\n",
            "[443] {root vegetables,                                                                                     \n",
            "       yogurt}                   => {whole milk}            0.01453991 0.56299213 0.02582613 2.2033536   143\n",
            "[444] {root vegetables,                                                                                     \n",
            "       whole milk}               => {yogurt}                0.01453991 0.29729730 0.04890696 2.1311362   143\n",
            "[445] {whole milk,                                                                                          \n",
            "       yogurt}                   => {root vegetables}       0.01453991 0.25952813 0.05602440 2.3810253   143\n",
            "[446] {root vegetables,                                                                                     \n",
            "       rolls/buns}               => {other vegetables}      0.01220132 0.50209205 0.02430097 2.5948898   120\n",
            "[447] {root vegetables,                                                                                     \n",
            "       other vegetables}         => {rolls/buns}            0.01220132 0.25751073 0.04738180 1.4000100   120\n",
            "[448] {other vegetables,                                                                                    \n",
            "       rolls/buns}               => {root vegetables}       0.01220132 0.28639618 0.04260295 2.6275247   120\n",
            "[449] {root vegetables,                                                                                     \n",
            "       rolls/buns}               => {whole milk}            0.01270971 0.52301255 0.02430097 2.0468876   125\n",
            "[450] {root vegetables,                                                                                     \n",
            "       whole milk}               => {rolls/buns}            0.01270971 0.25987526 0.04890696 1.4128652   125\n",
            "[451] {whole milk,                                                                                          \n",
            "       rolls/buns}               => {root vegetables}       0.01270971 0.22441652 0.05663447 2.0588959   125\n",
            "[452] {root vegetables,                                                                                     \n",
            "       other vegetables}         => {whole milk}            0.02318251 0.48927039 0.04738180 1.9148326   228\n",
            "[453] {root vegetables,                                                                                     \n",
            "       whole milk}               => {other vegetables}      0.02318251 0.47401247 0.04890696 2.4497702   228\n",
            "[454] {other vegetables,                                                                                    \n",
            "       whole milk}               => {root vegetables}       0.02318251 0.30978261 0.07483477 2.8420820   228\n",
            "[455] {yogurt,                                                                                              \n",
            "       soda}                     => {whole milk}            0.01047280 0.38289963 0.02735130 1.4985348   103\n",
            "[456] {whole milk,                                                                                          \n",
            "       soda}                     => {yogurt}                0.01047280 0.26142132 0.04006101 1.8739641   103\n",
            "[457] {whole milk,                                                                                          \n",
            "       yogurt}                   => {soda}                  0.01047280 0.18693285 0.05602440 1.0720027   103\n",
            "[458] {other vegetables,                                                                                    \n",
            "       soda}                     => {whole milk}            0.01392984 0.42546584 0.03274021 1.6651240   137\n",
            "[459] {whole milk,                                                                                          \n",
            "       soda}                     => {other vegetables}      0.01392984 0.34771574 0.04006101 1.7970490   137\n",
            "[460] {other vegetables,                                                                                    \n",
            "       whole milk}               => {soda}                  0.01392984 0.18614130 0.07483477 1.0674634   137\n",
            "[461] {yogurt,                                                                                              \n",
            "       rolls/buns}               => {other vegetables}      0.01148958 0.33431953 0.03436706 1.7278153   113\n",
            "[462] {other vegetables,                                                                                    \n",
            "       yogurt}                   => {rolls/buns}            0.01148958 0.26463700 0.04341637 1.4387534   113\n",
            "[463] {other vegetables,                                                                                    \n",
            "       rolls/buns}               => {yogurt}                0.01148958 0.26968974 0.04260295 1.9332351   113\n",
            "[464] {yogurt,                                                                                              \n",
            "       rolls/buns}               => {whole milk}            0.01555669 0.45266272 0.03436706 1.7715630   153\n",
            "[465] {whole milk,                                                                                          \n",
            "       yogurt}                   => {rolls/buns}            0.01555669 0.27767695 0.05602440 1.5096478   153\n",
            "[466] {whole milk,                                                                                          \n",
            "       rolls/buns}               => {yogurt}                0.01555669 0.27468582 0.05663447 1.9690488   153\n",
            "[467] {other vegetables,                                                                                    \n",
            "       yogurt}                   => {whole milk}            0.02226741 0.51288056 0.04341637 2.0072345   219\n",
            "[468] {whole milk,                                                                                          \n",
            "       yogurt}                   => {other vegetables}      0.02226741 0.39745917 0.05602440 2.0541308   219\n",
            "[469] {other vegetables,                                                                                    \n",
            "       whole milk}               => {yogurt}                0.02226741 0.29755435 0.07483477 2.1329789   219\n",
            "[470] {other vegetables,                                                                                    \n",
            "       rolls/buns}               => {whole milk}            0.01789527 0.42004773 0.04260295 1.6439194   176\n",
            "[471] {whole milk,                                                                                          \n",
            "       rolls/buns}               => {other vegetables}      0.01789527 0.31597846 0.05663447 1.6330258   176\n",
            "[472] {other vegetables,                                                                                    \n",
            "       whole milk}               => {rolls/buns}            0.01789527 0.23913043 0.07483477 1.3000817   176\n"
          ]
        }
      ]
    },
    {
      "cell_type": "code",
      "metadata": {
        "trusted": true,
        "id": "TG6929gJ1o6Z",
        "outputId": "82b604b7-476e-4502-cd71-c09d84b8943a",
        "colab": {
          "base_uri": "https://localhost:8080/",
          "height": 52
        }
      },
      "source": [
        "## Y si queremos buscar con qué combinar un producto determinado, por ejemplo leche\n",
        "rules <- apriori( data = Groceries,\n",
        "                  parameter =list (supp=0.02,conf = 0.08, minlen = 2),\n",
        "                  #appearance = list(default=\"rhs\", lhs =\"whole milk\"),\n",
        "                  control = list (verbose=F))\n",
        "\n",
        "class(rules)\n",
        "rules"
      ],
      "execution_count": 28,
      "outputs": [
        {
          "output_type": "display_data",
          "data": {
            "text/html": [
              "'rules'"
            ],
            "text/markdown": "'rules'",
            "text/latex": "'rules'",
            "text/plain": [
              "[1] \"rules\"\n",
              "attr(,\"package\")\n",
              "[1] \"arules\""
            ]
          },
          "metadata": {}
        },
        {
          "output_type": "display_data",
          "data": {
            "text/plain": [
              "set of 126 rules "
            ]
          },
          "metadata": {}
        }
      ]
    },
    {
      "cell_type": "code",
      "metadata": {
        "trusted": true,
        "scrolled": false,
        "id": "lzZTO2Eb1o6b",
        "outputId": "6250acf4-b64f-4174-f7f9-056302cb6a26",
        "colab": {
          "base_uri": "https://localhost:8080/"
        }
      },
      "source": [
        "inspect(rules)"
      ],
      "execution_count": 29,
      "outputs": [
        {
          "output_type": "stream",
          "name": "stdout",
          "text": [
            "      lhs                                    rhs                     support   \n",
            "[1]   {frozen vegetables}                 => {whole milk}            0.02043721\n",
            "[2]   {beef}                              => {whole milk}            0.02125064\n",
            "[3]   {whole milk}                        => {beef}                  0.02125064\n",
            "[4]   {curd}                              => {whole milk}            0.02613116\n",
            "[5]   {whole milk}                        => {curd}                  0.02613116\n",
            "[6]   {pork}                              => {other vegetables}      0.02165735\n",
            "[7]   {other vegetables}                  => {pork}                  0.02165735\n",
            "[8]   {pork}                              => {whole milk}            0.02216573\n",
            "[9]   {whole milk}                        => {pork}                  0.02216573\n",
            "[10]  {frankfurter}                       => {whole milk}            0.02053889\n",
            "[11]  {whole milk}                        => {frankfurter}           0.02053889\n",
            "[12]  {bottled beer}                      => {whole milk}            0.02043721\n",
            "[13]  {brown bread}                       => {whole milk}            0.02521607\n",
            "[14]  {whole milk}                        => {brown bread}           0.02521607\n",
            "[15]  {margarine}                         => {whole milk}            0.02419929\n",
            "[16]  {whole milk}                        => {margarine}             0.02419929\n",
            "[17]  {butter}                            => {other vegetables}      0.02003050\n",
            "[18]  {other vegetables}                  => {butter}                0.02003050\n",
            "[19]  {butter}                            => {whole milk}            0.02755465\n",
            "[20]  {whole milk}                        => {butter}                0.02755465\n",
            "[21]  {newspapers}                        => {whole milk}            0.02735130\n",
            "[22]  {whole milk}                        => {newspapers}            0.02735130\n",
            "[23]  {domestic eggs}                     => {other vegetables}      0.02226741\n",
            "[24]  {other vegetables}                  => {domestic eggs}         0.02226741\n",
            "[25]  {domestic eggs}                     => {whole milk}            0.02999492\n",
            "[26]  {whole milk}                        => {domestic eggs}         0.02999492\n",
            "[27]  {fruit/vegetable juice}             => {other vegetables}      0.02104728\n",
            "[28]  {other vegetables}                  => {fruit/vegetable juice} 0.02104728\n",
            "[29]  {fruit/vegetable juice}             => {whole milk}            0.02663955\n",
            "[30]  {whole milk}                        => {fruit/vegetable juice} 0.02663955\n",
            "[31]  {whipped/sour cream}                => {yogurt}                0.02074225\n",
            "[32]  {yogurt}                            => {whipped/sour cream}    0.02074225\n",
            "[33]  {whipped/sour cream}                => {other vegetables}      0.02887646\n",
            "[34]  {other vegetables}                  => {whipped/sour cream}    0.02887646\n",
            "[35]  {whipped/sour cream}                => {whole milk}            0.03223183\n",
            "[36]  {whole milk}                        => {whipped/sour cream}    0.03223183\n",
            "[37]  {pip fruit}                         => {tropical fruit}        0.02043721\n",
            "[38]  {tropical fruit}                    => {pip fruit}             0.02043721\n",
            "[39]  {pip fruit}                         => {other vegetables}      0.02613116\n",
            "[40]  {other vegetables}                  => {pip fruit}             0.02613116\n",
            "[41]  {pip fruit}                         => {whole milk}            0.03009659\n",
            "[42]  {whole milk}                        => {pip fruit}             0.03009659\n",
            "[43]  {pastry}                            => {soda}                  0.02104728\n",
            "[44]  {soda}                              => {pastry}                0.02104728\n",
            "[45]  {pastry}                            => {rolls/buns}            0.02094560\n",
            "[46]  {rolls/buns}                        => {pastry}                0.02094560\n",
            "[47]  {pastry}                            => {other vegetables}      0.02257245\n",
            "[48]  {other vegetables}                  => {pastry}                0.02257245\n",
            "[49]  {pastry}                            => {whole milk}            0.03324860\n",
            "[50]  {whole milk}                        => {pastry}                0.03324860\n",
            "[51]  {citrus fruit}                      => {yogurt}                0.02165735\n",
            "[52]  {yogurt}                            => {citrus fruit}          0.02165735\n",
            "[53]  {citrus fruit}                      => {other vegetables}      0.02887646\n",
            "[54]  {other vegetables}                  => {citrus fruit}          0.02887646\n",
            "[55]  {citrus fruit}                      => {whole milk}            0.03050330\n",
            "[56]  {whole milk}                        => {citrus fruit}          0.03050330\n",
            "[57]  {shopping bags}                     => {soda}                  0.02460600\n",
            "[58]  {soda}                              => {shopping bags}         0.02460600\n",
            "[59]  {shopping bags}                     => {other vegetables}      0.02318251\n",
            "[60]  {other vegetables}                  => {shopping bags}         0.02318251\n",
            "[61]  {shopping bags}                     => {whole milk}            0.02450432\n",
            "[62]  {whole milk}                        => {shopping bags}         0.02450432\n",
            "[63]  {sausage}                           => {soda}                  0.02430097\n",
            "[64]  {soda}                              => {sausage}               0.02430097\n",
            "[65]  {sausage}                           => {rolls/buns}            0.03060498\n",
            "[66]  {rolls/buns}                        => {sausage}               0.03060498\n",
            "[67]  {sausage}                           => {other vegetables}      0.02694459\n",
            "[68]  {other vegetables}                  => {sausage}               0.02694459\n",
            "[69]  {sausage}                           => {whole milk}            0.02989324\n",
            "[70]  {whole milk}                        => {sausage}               0.02989324\n",
            "[71]  {bottled water}                     => {soda}                  0.02897814\n",
            "[72]  {soda}                              => {bottled water}         0.02897814\n",
            "[73]  {bottled water}                     => {yogurt}                0.02297916\n",
            "[74]  {yogurt}                            => {bottled water}         0.02297916\n",
            "[75]  {bottled water}                     => {rolls/buns}            0.02419929\n",
            "[76]  {rolls/buns}                        => {bottled water}         0.02419929\n",
            "[77]  {bottled water}                     => {other vegetables}      0.02480935\n",
            "[78]  {other vegetables}                  => {bottled water}         0.02480935\n",
            "[79]  {bottled water}                     => {whole milk}            0.03436706\n",
            "[80]  {whole milk}                        => {bottled water}         0.03436706\n",
            "[81]  {tropical fruit}                    => {root vegetables}       0.02104728\n",
            "[82]  {root vegetables}                   => {tropical fruit}        0.02104728\n",
            "[83]  {tropical fruit}                    => {soda}                  0.02084392\n",
            "[84]  {soda}                              => {tropical fruit}        0.02084392\n",
            "[85]  {tropical fruit}                    => {yogurt}                0.02928317\n",
            "[86]  {yogurt}                            => {tropical fruit}        0.02928317\n",
            "[87]  {tropical fruit}                    => {rolls/buns}            0.02460600\n",
            "[88]  {rolls/buns}                        => {tropical fruit}        0.02460600\n",
            "[89]  {tropical fruit}                    => {other vegetables}      0.03589222\n",
            "[90]  {other vegetables}                  => {tropical fruit}        0.03589222\n",
            "[91]  {tropical fruit}                    => {whole milk}            0.04229792\n",
            "[92]  {whole milk}                        => {tropical fruit}        0.04229792\n",
            "[93]  {root vegetables}                   => {yogurt}                0.02582613\n",
            "[94]  {yogurt}                            => {root vegetables}       0.02582613\n",
            "[95]  {root vegetables}                   => {rolls/buns}            0.02430097\n",
            "[96]  {rolls/buns}                        => {root vegetables}       0.02430097\n",
            "[97]  {root vegetables}                   => {other vegetables}      0.04738180\n",
            "[98]  {other vegetables}                  => {root vegetables}       0.04738180\n",
            "[99]  {root vegetables}                   => {whole milk}            0.04890696\n",
            "[100] {whole milk}                        => {root vegetables}       0.04890696\n",
            "[101] {soda}                              => {yogurt}                0.02735130\n",
            "[102] {yogurt}                            => {soda}                  0.02735130\n",
            "[103] {soda}                              => {rolls/buns}            0.03833249\n",
            "[104] {rolls/buns}                        => {soda}                  0.03833249\n",
            "[105] {soda}                              => {other vegetables}      0.03274021\n",
            "[106] {other vegetables}                  => {soda}                  0.03274021\n",
            "[107] {soda}                              => {whole milk}            0.04006101\n",
            "[108] {whole milk}                        => {soda}                  0.04006101\n",
            "[109] {yogurt}                            => {rolls/buns}            0.03436706\n",
            "[110] {rolls/buns}                        => {yogurt}                0.03436706\n",
            "[111] {yogurt}                            => {other vegetables}      0.04341637\n",
            "[112] {other vegetables}                  => {yogurt}                0.04341637\n",
            "[113] {yogurt}                            => {whole milk}            0.05602440\n",
            "[114] {whole milk}                        => {yogurt}                0.05602440\n",
            "[115] {rolls/buns}                        => {other vegetables}      0.04260295\n",
            "[116] {other vegetables}                  => {rolls/buns}            0.04260295\n",
            "[117] {rolls/buns}                        => {whole milk}            0.05663447\n",
            "[118] {whole milk}                        => {rolls/buns}            0.05663447\n",
            "[119] {other vegetables}                  => {whole milk}            0.07483477\n",
            "[120] {whole milk}                        => {other vegetables}      0.07483477\n",
            "[121] {root vegetables, other vegetables} => {whole milk}            0.02318251\n",
            "[122] {root vegetables, whole milk}       => {other vegetables}      0.02318251\n",
            "[123] {other vegetables, whole milk}      => {root vegetables}       0.02318251\n",
            "[124] {other vegetables, yogurt}          => {whole milk}            0.02226741\n",
            "[125] {whole milk, yogurt}                => {other vegetables}      0.02226741\n",
            "[126] {other vegetables, whole milk}      => {yogurt}                0.02226741\n",
            "      confidence coverage   lift      count\n",
            "[1]   0.42494715 0.04809354 1.6630940 201  \n",
            "[2]   0.40503876 0.05246568 1.5851795 209  \n",
            "[3]   0.08316753 0.25551601 1.5851795 209  \n",
            "[4]   0.49045802 0.05327911 1.9194805 257  \n",
            "[5]   0.10226821 0.25551601 1.9194805 257  \n",
            "[6]   0.37566138 0.05765125 1.9414764 213  \n",
            "[7]   0.11192853 0.19349263 1.9414764 213  \n",
            "[8]   0.38447972 0.05765125 1.5047187 218  \n",
            "[9]   0.08674891 0.25551601 1.5047187 218  \n",
            "[10]  0.34827586 0.05897306 1.3630295 202  \n",
            "[11]  0.08038201 0.25551601 1.3630295 202  \n",
            "[12]  0.25378788 0.08052872 0.9932367 201  \n",
            "[13]  0.38871473 0.06487036 1.5212930 248  \n",
            "[14]  0.09868683 0.25551601 1.5212930 248  \n",
            "[15]  0.41319444 0.05856634 1.6170980 238  \n",
            "[16]  0.09470752 0.25551601 1.6170980 238  \n",
            "[17]  0.36146789 0.05541434 1.8681223 197  \n",
            "[18]  0.10352076 0.19349263 1.8681223 197  \n",
            "[19]  0.49724771 0.05541434 1.9460530 271  \n",
            "[20]  0.10783924 0.25551601 1.9460530 271  \n",
            "[21]  0.34267516 0.07981698 1.3411103 269  \n",
            "[22]  0.10704337 0.25551601 1.3411103 269  \n",
            "[23]  0.35096154 0.06344687 1.8138238 219  \n",
            "[24]  0.11508145 0.19349263 1.8138238 219  \n",
            "[25]  0.47275641 0.06344687 1.8502027 295  \n",
            "[26]  0.11738957 0.25551601 1.8502027 295  \n",
            "[27]  0.29113924 0.07229283 1.5046529 207  \n",
            "[28]  0.10877562 0.19349263 1.5046529 207  \n",
            "[29]  0.36849508 0.07229283 1.4421604 262  \n",
            "[30]  0.10425786 0.25551601 1.4421604 262  \n",
            "[31]  0.28936170 0.07168277 2.0742510 204  \n",
            "[32]  0.14868805 0.13950178 2.0742510 204  \n",
            "[33]  0.40283688 0.07168277 2.0819237 284  \n",
            "[34]  0.14923805 0.19349263 2.0819237 284  \n",
            "[35]  0.44964539 0.07168277 1.7597542 317  \n",
            "[36]  0.12614405 0.25551601 1.7597542 317  \n",
            "[37]  0.27016129 0.07564820 2.5746476 201  \n",
            "[38]  0.19476744 0.10493137 2.5746476 201  \n",
            "[39]  0.34543011 0.07564820 1.7852365 257  \n",
            "[40]  0.13504992 0.19349263 1.7852365 257  \n",
            "[41]  0.39784946 0.07564820 1.5570432 296  \n",
            "[42]  0.11778750 0.25551601 1.5570432 296  \n",
            "[43]  0.23657143 0.08896797 1.3566647 207  \n",
            "[44]  0.12069971 0.17437722 1.3566647 207  \n",
            "[45]  0.23542857 0.08896797 1.2799558 206  \n",
            "[46]  0.11387507 0.18393493 1.2799558 206  \n",
            "[47]  0.25371429 0.08896797 1.3112349 222  \n",
            "[48]  0.11665791 0.19349263 1.3112349 222  \n",
            "[49]  0.37371429 0.08896797 1.4625865 327  \n",
            "[50]  0.13012336 0.25551601 1.4625865 327  \n",
            "[51]  0.26167076 0.08276563 1.8757521 213  \n",
            "[52]  0.15524781 0.13950178 1.8757521 213  \n",
            "[53]  0.34889435 0.08276563 1.8031403 284  \n",
            "[54]  0.14923805 0.19349263 1.8031403 284  \n",
            "[55]  0.36855037 0.08276563 1.4423768 300  \n",
            "[56]  0.11937923 0.25551601 1.4423768 300  \n",
            "[57]  0.24974200 0.09852567 1.4321939 242  \n",
            "[58]  0.14110787 0.17437722 1.4321939 242  \n",
            "[59]  0.23529412 0.09852567 1.2160366 228  \n",
            "[60]  0.11981083 0.19349263 1.2160366 228  \n",
            "[61]  0.24871001 0.09852567 0.9733637 241  \n",
            "[62]  0.09590131 0.25551601 0.9733637 241  \n",
            "[63]  0.25865801 0.09395018 1.4833245 239  \n",
            "[64]  0.13935860 0.17437722 1.4833245 239  \n",
            "[65]  0.32575758 0.09395018 1.7710480 301  \n",
            "[66]  0.16639027 0.18393493 1.7710480 301  \n",
            "[67]  0.28679654 0.09395018 1.4822091 265  \n",
            "[68]  0.13925381 0.19349263 1.4822091 265  \n",
            "[69]  0.31818182 0.09395018 1.2452520 294  \n",
            "[70]  0.11699164 0.25551601 1.2452520 294  \n",
            "[71]  0.26218951 0.11052364 1.5035766 285  \n",
            "[72]  0.16618076 0.17437722 1.5035766 285  \n",
            "[73]  0.20791168 0.11052364 1.4903873 226  \n",
            "[74]  0.16472303 0.13950178 1.4903873 226  \n",
            "[75]  0.21895124 0.11052364 1.1903734 238  \n",
            "[76]  0.13156440 0.18393493 1.1903734 238  \n",
            "[77]  0.22447102 0.11052364 1.1601012 244  \n",
            "[78]  0.12821860 0.19349263 1.1601012 244  \n",
            "[79]  0.31094756 0.11052364 1.2169396 338  \n",
            "[80]  0.13450060 0.25551601 1.2169396 338  \n",
            "[81]  0.20058140 0.10493137 1.8402220 207  \n",
            "[82]  0.19309701 0.10899847 1.8402220 207  \n",
            "[83]  0.19864341 0.10493137 1.1391592 205  \n",
            "[84]  0.11953353 0.17437722 1.1391592 205  \n",
            "[85]  0.27906977 0.10493137 2.0004746 288  \n",
            "[86]  0.20991254 0.13950178 2.0004746 288  \n",
            "[87]  0.23449612 0.10493137 1.2748863 242  \n",
            "[88]  0.13377557 0.18393493 1.2748863 242  \n",
            "[89]  0.34205426 0.10493137 1.7677896 353  \n",
            "[90]  0.18549658 0.19349263 1.7677896 353  \n",
            "[91]  0.40310078 0.10493137 1.5775950 416  \n",
            "[92]  0.16553920 0.25551601 1.5775950 416  \n",
            "[93]  0.23694030 0.10899847 1.6984751 254  \n",
            "[94]  0.18513120 0.13950178 1.6984751 254  \n",
            "[95]  0.22294776 0.10899847 1.2121013 239  \n",
            "[96]  0.13211719 0.18393493 1.2121013 239  \n",
            "[97]  0.43470149 0.10899847 2.2466049 466  \n",
            "[98]  0.24487651 0.19349263 2.2466049 466  \n",
            "[99]  0.44869403 0.10899847 1.7560310 481  \n",
            "[100] 0.19140470 0.25551601 1.7560310 481  \n",
            "[101] 0.15685131 0.17437722 1.1243678 269  \n",
            "[102] 0.19606414 0.13950178 1.1243678 269  \n",
            "[103] 0.21982507 0.17437722 1.1951242 377  \n",
            "[104] 0.20840243 0.18393493 1.1951242 377  \n",
            "[105] 0.18775510 0.17437722 0.9703476 322  \n",
            "[106] 0.16920652 0.19349263 0.9703476 322  \n",
            "[107] 0.22973761 0.17437722 0.8991124 394  \n",
            "[108] 0.15678472 0.25551601 0.8991124 394  \n",
            "[109] 0.24635569 0.13950178 1.3393633 338  \n",
            "[110] 0.18684356 0.18393493 1.3393633 338  \n",
            "[111] 0.31122449 0.13950178 1.6084566 427  \n",
            "[112] 0.22438255 0.19349263 1.6084566 427  \n",
            "[113] 0.40160350 0.13950178 1.5717351 551  \n",
            "[114] 0.21925985 0.25551601 1.5717351 551  \n",
            "[115] 0.23161968 0.18393493 1.1970465 419  \n",
            "[116] 0.22017867 0.19349263 1.1970465 419  \n",
            "[117] 0.30790492 0.18393493 1.2050318 557  \n",
            "[118] 0.22164743 0.25551601 1.2050318 557  \n",
            "[119] 0.38675775 0.19349263 1.5136341 736  \n",
            "[120] 0.29287704 0.25551601 1.5136341 736  \n",
            "[121] 0.48927039 0.04738180 1.9148326 228  \n",
            "[122] 0.47401247 0.04890696 2.4497702 228  \n",
            "[123] 0.30978261 0.07483477 2.8420820 228  \n",
            "[124] 0.51288056 0.04341637 2.0072345 219  \n",
            "[125] 0.39745917 0.05602440 2.0541308 219  \n",
            "[126] 0.29755435 0.07483477 2.1329789 219  \n"
          ]
        }
      ]
    },
    {
      "cell_type": "code",
      "metadata": {
        "trusted": true,
        "id": "L8MexhwO1o6d"
      },
      "source": [
        "rules_conf <- sort(rules,\n",
        "                   by=\"lift\",\n",
        "                   decreasing=T) # ordenando por lift rules."
      ],
      "execution_count": 34,
      "outputs": []
    },
    {
      "cell_type": "code",
      "metadata": {
        "trusted": true,
        "scrolled": false,
        "id": "gnAQp3aW1o6f",
        "outputId": "ac04eb8f-5839-4dc6-d3be-b3d6f2497c8c",
        "colab": {
          "base_uri": "https://localhost:8080/"
        }
      },
      "source": [
        "\n",
        "inspect(rules_conf)"
      ],
      "execution_count": 35,
      "outputs": [
        {
          "output_type": "stream",
          "name": "stdout",
          "text": [
            "      lhs                                    rhs                     support   \n",
            "[1]   {other vegetables, whole milk}      => {root vegetables}       0.02318251\n",
            "[2]   {tropical fruit}                    => {pip fruit}             0.02043721\n",
            "[3]   {pip fruit}                         => {tropical fruit}        0.02043721\n",
            "[4]   {root vegetables, whole milk}       => {other vegetables}      0.02318251\n",
            "[5]   {root vegetables}                   => {other vegetables}      0.04738180\n",
            "[6]   {other vegetables}                  => {root vegetables}       0.04738180\n",
            "[7]   {other vegetables, whole milk}      => {yogurt}                0.02226741\n",
            "[8]   {whipped/sour cream}                => {other vegetables}      0.02887646\n",
            "[9]   {other vegetables}                  => {whipped/sour cream}    0.02887646\n",
            "[10]  {yogurt}                            => {whipped/sour cream}    0.02074225\n",
            "[11]  {whipped/sour cream}                => {yogurt}                0.02074225\n",
            "[12]  {whole milk, yogurt}                => {other vegetables}      0.02226741\n",
            "[13]  {other vegetables, yogurt}          => {whole milk}            0.02226741\n",
            "[14]  {tropical fruit}                    => {yogurt}                0.02928317\n",
            "[15]  {yogurt}                            => {tropical fruit}        0.02928317\n",
            "[16]  {butter}                            => {whole milk}            0.02755465\n",
            "[17]  {whole milk}                        => {butter}                0.02755465\n",
            "[18]  {pork}                              => {other vegetables}      0.02165735\n",
            "[19]  {other vegetables}                  => {pork}                  0.02165735\n",
            "[20]  {curd}                              => {whole milk}            0.02613116\n",
            "[21]  {whole milk}                        => {curd}                  0.02613116\n",
            "[22]  {root vegetables, other vegetables} => {whole milk}            0.02318251\n",
            "[23]  {citrus fruit}                      => {yogurt}                0.02165735\n",
            "[24]  {yogurt}                            => {citrus fruit}          0.02165735\n",
            "[25]  {butter}                            => {other vegetables}      0.02003050\n",
            "[26]  {other vegetables}                  => {butter}                0.02003050\n",
            "[27]  {domestic eggs}                     => {whole milk}            0.02999492\n",
            "[28]  {whole milk}                        => {domestic eggs}         0.02999492\n",
            "[29]  {tropical fruit}                    => {root vegetables}       0.02104728\n",
            "[30]  {root vegetables}                   => {tropical fruit}        0.02104728\n",
            "[31]  {other vegetables}                  => {domestic eggs}         0.02226741\n",
            "[32]  {domestic eggs}                     => {other vegetables}      0.02226741\n",
            "[33]  {citrus fruit}                      => {other vegetables}      0.02887646\n",
            "[34]  {other vegetables}                  => {citrus fruit}          0.02887646\n",
            "[35]  {pip fruit}                         => {other vegetables}      0.02613116\n",
            "[36]  {other vegetables}                  => {pip fruit}             0.02613116\n",
            "[37]  {sausage}                           => {rolls/buns}            0.03060498\n",
            "[38]  {rolls/buns}                        => {sausage}               0.03060498\n",
            "[39]  {tropical fruit}                    => {other vegetables}      0.03589222\n",
            "[40]  {other vegetables}                  => {tropical fruit}        0.03589222\n",
            "[41]  {whipped/sour cream}                => {whole milk}            0.03223183\n",
            "[42]  {whole milk}                        => {whipped/sour cream}    0.03223183\n",
            "[43]  {whole milk}                        => {root vegetables}       0.04890696\n",
            "[44]  {root vegetables}                   => {whole milk}            0.04890696\n",
            "[45]  {root vegetables}                   => {yogurt}                0.02582613\n",
            "[46]  {yogurt}                            => {root vegetables}       0.02582613\n",
            "[47]  {frozen vegetables}                 => {whole milk}            0.02043721\n",
            "[48]  {whole milk}                        => {margarine}             0.02419929\n",
            "[49]  {margarine}                         => {whole milk}            0.02419929\n",
            "[50]  {yogurt}                            => {other vegetables}      0.04341637\n",
            "[51]  {other vegetables}                  => {yogurt}                0.04341637\n",
            "[52]  {beef}                              => {whole milk}            0.02125064\n",
            "[53]  {whole milk}                        => {beef}                  0.02125064\n",
            "[54]  {tropical fruit}                    => {whole milk}            0.04229792\n",
            "[55]  {whole milk}                        => {tropical fruit}        0.04229792\n",
            "[56]  {yogurt}                            => {whole milk}            0.05602440\n",
            "[57]  {whole milk}                        => {yogurt}                0.05602440\n",
            "[58]  {pip fruit}                         => {whole milk}            0.03009659\n",
            "[59]  {whole milk}                        => {pip fruit}             0.03009659\n",
            "[60]  {brown bread}                       => {whole milk}            0.02521607\n",
            "[61]  {whole milk}                        => {brown bread}           0.02521607\n",
            "[62]  {other vegetables}                  => {whole milk}            0.07483477\n",
            "[63]  {whole milk}                        => {other vegetables}      0.07483477\n",
            "[64]  {pork}                              => {whole milk}            0.02216573\n",
            "[65]  {whole milk}                        => {pork}                  0.02216573\n",
            "[66]  {fruit/vegetable juice}             => {other vegetables}      0.02104728\n",
            "[67]  {other vegetables}                  => {fruit/vegetable juice} 0.02104728\n",
            "[68]  {bottled water}                     => {soda}                  0.02897814\n",
            "[69]  {soda}                              => {bottled water}         0.02897814\n",
            "[70]  {yogurt}                            => {bottled water}         0.02297916\n",
            "[71]  {bottled water}                     => {yogurt}                0.02297916\n",
            "[72]  {sausage}                           => {soda}                  0.02430097\n",
            "[73]  {soda}                              => {sausage}               0.02430097\n",
            "[74]  {sausage}                           => {other vegetables}      0.02694459\n",
            "[75]  {other vegetables}                  => {sausage}               0.02694459\n",
            "[76]  {pastry}                            => {whole milk}            0.03324860\n",
            "[77]  {whole milk}                        => {pastry}                0.03324860\n",
            "[78]  {citrus fruit}                      => {whole milk}            0.03050330\n",
            "[79]  {whole milk}                        => {citrus fruit}          0.03050330\n",
            "[80]  {fruit/vegetable juice}             => {whole milk}            0.02663955\n",
            "[81]  {whole milk}                        => {fruit/vegetable juice} 0.02663955\n",
            "[82]  {shopping bags}                     => {soda}                  0.02460600\n",
            "[83]  {soda}                              => {shopping bags}         0.02460600\n",
            "[84]  {frankfurter}                       => {whole milk}            0.02053889\n",
            "[85]  {whole milk}                        => {frankfurter}           0.02053889\n",
            "[86]  {pastry}                            => {soda}                  0.02104728\n",
            "[87]  {soda}                              => {pastry}                0.02104728\n",
            "[88]  {newspapers}                        => {whole milk}            0.02735130\n",
            "[89]  {whole milk}                        => {newspapers}            0.02735130\n",
            "[90]  {rolls/buns}                        => {yogurt}                0.03436706\n",
            "[91]  {yogurt}                            => {rolls/buns}            0.03436706\n",
            "[92]  {other vegetables}                  => {pastry}                0.02257245\n",
            "[93]  {pastry}                            => {other vegetables}      0.02257245\n",
            "[94]  {pastry}                            => {rolls/buns}            0.02094560\n",
            "[95]  {rolls/buns}                        => {pastry}                0.02094560\n",
            "[96]  {tropical fruit}                    => {rolls/buns}            0.02460600\n",
            "[97]  {rolls/buns}                        => {tropical fruit}        0.02460600\n",
            "[98]  {sausage}                           => {whole milk}            0.02989324\n",
            "[99]  {whole milk}                        => {sausage}               0.02989324\n",
            "[100] {bottled water}                     => {whole milk}            0.03436706\n",
            "[101] {whole milk}                        => {bottled water}         0.03436706\n",
            "[102] {shopping bags}                     => {other vegetables}      0.02318251\n",
            "[103] {other vegetables}                  => {shopping bags}         0.02318251\n",
            "[104] {root vegetables}                   => {rolls/buns}            0.02430097\n",
            "[105] {rolls/buns}                        => {root vegetables}       0.02430097\n",
            "[106] {rolls/buns}                        => {whole milk}            0.05663447\n",
            "[107] {whole milk}                        => {rolls/buns}            0.05663447\n",
            "[108] {rolls/buns}                        => {other vegetables}      0.04260295\n",
            "[109] {other vegetables}                  => {rolls/buns}            0.04260295\n",
            "[110] {soda}                              => {rolls/buns}            0.03833249\n",
            "[111] {rolls/buns}                        => {soda}                  0.03833249\n",
            "[112] {rolls/buns}                        => {bottled water}         0.02419929\n",
            "[113] {bottled water}                     => {rolls/buns}            0.02419929\n",
            "[114] {bottled water}                     => {other vegetables}      0.02480935\n",
            "[115] {other vegetables}                  => {bottled water}         0.02480935\n",
            "[116] {tropical fruit}                    => {soda}                  0.02084392\n",
            "[117] {soda}                              => {tropical fruit}        0.02084392\n",
            "[118] {soda}                              => {yogurt}                0.02735130\n",
            "[119] {yogurt}                            => {soda}                  0.02735130\n",
            "[120] {bottled beer}                      => {whole milk}            0.02043721\n",
            "[121] {shopping bags}                     => {whole milk}            0.02450432\n",
            "[122] {whole milk}                        => {shopping bags}         0.02450432\n",
            "[123] {soda}                              => {other vegetables}      0.03274021\n",
            "[124] {other vegetables}                  => {soda}                  0.03274021\n",
            "[125] {soda}                              => {whole milk}            0.04006101\n",
            "[126] {whole milk}                        => {soda}                  0.04006101\n",
            "      confidence coverage   lift      count\n",
            "[1]   0.30978261 0.07483477 2.8420820 228  \n",
            "[2]   0.19476744 0.10493137 2.5746476 201  \n",
            "[3]   0.27016129 0.07564820 2.5746476 201  \n",
            "[4]   0.47401247 0.04890696 2.4497702 228  \n",
            "[5]   0.43470149 0.10899847 2.2466049 466  \n",
            "[6]   0.24487651 0.19349263 2.2466049 466  \n",
            "[7]   0.29755435 0.07483477 2.1329789 219  \n",
            "[8]   0.40283688 0.07168277 2.0819237 284  \n",
            "[9]   0.14923805 0.19349263 2.0819237 284  \n",
            "[10]  0.14868805 0.13950178 2.0742510 204  \n",
            "[11]  0.28936170 0.07168277 2.0742510 204  \n",
            "[12]  0.39745917 0.05602440 2.0541308 219  \n",
            "[13]  0.51288056 0.04341637 2.0072345 219  \n",
            "[14]  0.27906977 0.10493137 2.0004746 288  \n",
            "[15]  0.20991254 0.13950178 2.0004746 288  \n",
            "[16]  0.49724771 0.05541434 1.9460530 271  \n",
            "[17]  0.10783924 0.25551601 1.9460530 271  \n",
            "[18]  0.37566138 0.05765125 1.9414764 213  \n",
            "[19]  0.11192853 0.19349263 1.9414764 213  \n",
            "[20]  0.49045802 0.05327911 1.9194805 257  \n",
            "[21]  0.10226821 0.25551601 1.9194805 257  \n",
            "[22]  0.48927039 0.04738180 1.9148326 228  \n",
            "[23]  0.26167076 0.08276563 1.8757521 213  \n",
            "[24]  0.15524781 0.13950178 1.8757521 213  \n",
            "[25]  0.36146789 0.05541434 1.8681223 197  \n",
            "[26]  0.10352076 0.19349263 1.8681223 197  \n",
            "[27]  0.47275641 0.06344687 1.8502027 295  \n",
            "[28]  0.11738957 0.25551601 1.8502027 295  \n",
            "[29]  0.20058140 0.10493137 1.8402220 207  \n",
            "[30]  0.19309701 0.10899847 1.8402220 207  \n",
            "[31]  0.11508145 0.19349263 1.8138238 219  \n",
            "[32]  0.35096154 0.06344687 1.8138238 219  \n",
            "[33]  0.34889435 0.08276563 1.8031403 284  \n",
            "[34]  0.14923805 0.19349263 1.8031403 284  \n",
            "[35]  0.34543011 0.07564820 1.7852365 257  \n",
            "[36]  0.13504992 0.19349263 1.7852365 257  \n",
            "[37]  0.32575758 0.09395018 1.7710480 301  \n",
            "[38]  0.16639027 0.18393493 1.7710480 301  \n",
            "[39]  0.34205426 0.10493137 1.7677896 353  \n",
            "[40]  0.18549658 0.19349263 1.7677896 353  \n",
            "[41]  0.44964539 0.07168277 1.7597542 317  \n",
            "[42]  0.12614405 0.25551601 1.7597542 317  \n",
            "[43]  0.19140470 0.25551601 1.7560310 481  \n",
            "[44]  0.44869403 0.10899847 1.7560310 481  \n",
            "[45]  0.23694030 0.10899847 1.6984751 254  \n",
            "[46]  0.18513120 0.13950178 1.6984751 254  \n",
            "[47]  0.42494715 0.04809354 1.6630940 201  \n",
            "[48]  0.09470752 0.25551601 1.6170980 238  \n",
            "[49]  0.41319444 0.05856634 1.6170980 238  \n",
            "[50]  0.31122449 0.13950178 1.6084566 427  \n",
            "[51]  0.22438255 0.19349263 1.6084566 427  \n",
            "[52]  0.40503876 0.05246568 1.5851795 209  \n",
            "[53]  0.08316753 0.25551601 1.5851795 209  \n",
            "[54]  0.40310078 0.10493137 1.5775950 416  \n",
            "[55]  0.16553920 0.25551601 1.5775950 416  \n",
            "[56]  0.40160350 0.13950178 1.5717351 551  \n",
            "[57]  0.21925985 0.25551601 1.5717351 551  \n",
            "[58]  0.39784946 0.07564820 1.5570432 296  \n",
            "[59]  0.11778750 0.25551601 1.5570432 296  \n",
            "[60]  0.38871473 0.06487036 1.5212930 248  \n",
            "[61]  0.09868683 0.25551601 1.5212930 248  \n",
            "[62]  0.38675775 0.19349263 1.5136341 736  \n",
            "[63]  0.29287704 0.25551601 1.5136341 736  \n",
            "[64]  0.38447972 0.05765125 1.5047187 218  \n",
            "[65]  0.08674891 0.25551601 1.5047187 218  \n",
            "[66]  0.29113924 0.07229283 1.5046529 207  \n",
            "[67]  0.10877562 0.19349263 1.5046529 207  \n",
            "[68]  0.26218951 0.11052364 1.5035766 285  \n",
            "[69]  0.16618076 0.17437722 1.5035766 285  \n",
            "[70]  0.16472303 0.13950178 1.4903873 226  \n",
            "[71]  0.20791168 0.11052364 1.4903873 226  \n",
            "[72]  0.25865801 0.09395018 1.4833245 239  \n",
            "[73]  0.13935860 0.17437722 1.4833245 239  \n",
            "[74]  0.28679654 0.09395018 1.4822091 265  \n",
            "[75]  0.13925381 0.19349263 1.4822091 265  \n",
            "[76]  0.37371429 0.08896797 1.4625865 327  \n",
            "[77]  0.13012336 0.25551601 1.4625865 327  \n",
            "[78]  0.36855037 0.08276563 1.4423768 300  \n",
            "[79]  0.11937923 0.25551601 1.4423768 300  \n",
            "[80]  0.36849508 0.07229283 1.4421604 262  \n",
            "[81]  0.10425786 0.25551601 1.4421604 262  \n",
            "[82]  0.24974200 0.09852567 1.4321939 242  \n",
            "[83]  0.14110787 0.17437722 1.4321939 242  \n",
            "[84]  0.34827586 0.05897306 1.3630295 202  \n",
            "[85]  0.08038201 0.25551601 1.3630295 202  \n",
            "[86]  0.23657143 0.08896797 1.3566647 207  \n",
            "[87]  0.12069971 0.17437722 1.3566647 207  \n",
            "[88]  0.34267516 0.07981698 1.3411103 269  \n",
            "[89]  0.10704337 0.25551601 1.3411103 269  \n",
            "[90]  0.18684356 0.18393493 1.3393633 338  \n",
            "[91]  0.24635569 0.13950178 1.3393633 338  \n",
            "[92]  0.11665791 0.19349263 1.3112349 222  \n",
            "[93]  0.25371429 0.08896797 1.3112349 222  \n",
            "[94]  0.23542857 0.08896797 1.2799558 206  \n",
            "[95]  0.11387507 0.18393493 1.2799558 206  \n",
            "[96]  0.23449612 0.10493137 1.2748863 242  \n",
            "[97]  0.13377557 0.18393493 1.2748863 242  \n",
            "[98]  0.31818182 0.09395018 1.2452520 294  \n",
            "[99]  0.11699164 0.25551601 1.2452520 294  \n",
            "[100] 0.31094756 0.11052364 1.2169396 338  \n",
            "[101] 0.13450060 0.25551601 1.2169396 338  \n",
            "[102] 0.23529412 0.09852567 1.2160366 228  \n",
            "[103] 0.11981083 0.19349263 1.2160366 228  \n",
            "[104] 0.22294776 0.10899847 1.2121013 239  \n",
            "[105] 0.13211719 0.18393493 1.2121013 239  \n",
            "[106] 0.30790492 0.18393493 1.2050318 557  \n",
            "[107] 0.22164743 0.25551601 1.2050318 557  \n",
            "[108] 0.23161968 0.18393493 1.1970465 419  \n",
            "[109] 0.22017867 0.19349263 1.1970465 419  \n",
            "[110] 0.21982507 0.17437722 1.1951242 377  \n",
            "[111] 0.20840243 0.18393493 1.1951242 377  \n",
            "[112] 0.13156440 0.18393493 1.1903734 238  \n",
            "[113] 0.21895124 0.11052364 1.1903734 238  \n",
            "[114] 0.22447102 0.11052364 1.1601012 244  \n",
            "[115] 0.12821860 0.19349263 1.1601012 244  \n",
            "[116] 0.19864341 0.10493137 1.1391592 205  \n",
            "[117] 0.11953353 0.17437722 1.1391592 205  \n",
            "[118] 0.15685131 0.17437722 1.1243678 269  \n",
            "[119] 0.19606414 0.13950178 1.1243678 269  \n",
            "[120] 0.25378788 0.08052872 0.9932367 201  \n",
            "[121] 0.24871001 0.09852567 0.9733637 241  \n",
            "[122] 0.09590131 0.25551601 0.9733637 241  \n",
            "[123] 0.18775510 0.17437722 0.9703476 322  \n",
            "[124] 0.16920652 0.19349263 0.9703476 322  \n",
            "[125] 0.22973761 0.17437722 0.8991124 394  \n",
            "[126] 0.15678472 0.25551601 0.8991124 394  \n"
          ]
        }
      ]
    },
    {
      "cell_type": "markdown",
      "metadata": {
        "trusted": false,
        "id": "FYGsdGry1o6h"
      },
      "source": [
        "## Transformación a objetos de clase transaction\n",
        "\n",
        "\n",
        "\n"
      ]
    },
    {
      "cell_type": "code",
      "metadata": {
        "trusted": true,
        "id": "CQl-ZjXq1o6h"
      },
      "source": [
        " ?transactions"
      ],
      "execution_count": 36,
      "outputs": []
    },
    {
      "cell_type": "code",
      "source": [
        " ## Example 1: creating transactions form a list (each element is a transaction)\n",
        "     a_list <- list(\n",
        "           c(\"a\",\"b\",\"c\"),\n",
        "           c(\"a\",\"b\"),\n",
        "           c(\"a\",\"b\",\"d\"),\n",
        "           c(\"c\",\"e\"),\n",
        "           c(\"a\",\"b\",\"d\",\"e\")\n",
        "           )"
      ],
      "metadata": {
        "id": "aNFpiwygcBY6"
      },
      "execution_count": 37,
      "outputs": []
    },
    {
      "cell_type": "code",
      "source": [
        "a_list"
      ],
      "metadata": {
        "id": "nGsTponOcDar",
        "outputId": "2214b724-c896-43c6-d7d0-66f4f3df6784",
        "colab": {
          "base_uri": "https://localhost:8080/",
          "height": 132
        }
      },
      "execution_count": 38,
      "outputs": [
        {
          "output_type": "display_data",
          "data": {
            "text/html": [
              "<ol>\n",
              "\t<li><style>\n",
              ".list-inline {list-style: none; margin:0; padding: 0}\n",
              ".list-inline>li {display: inline-block}\n",
              ".list-inline>li:not(:last-child)::after {content: \"\\00b7\"; padding: 0 .5ex}\n",
              "</style>\n",
              "<ol class=list-inline><li>'a'</li><li>'b'</li><li>'c'</li></ol>\n",
              "</li>\n",
              "\t<li><style>\n",
              ".list-inline {list-style: none; margin:0; padding: 0}\n",
              ".list-inline>li {display: inline-block}\n",
              ".list-inline>li:not(:last-child)::after {content: \"\\00b7\"; padding: 0 .5ex}\n",
              "</style>\n",
              "<ol class=list-inline><li>'a'</li><li>'b'</li></ol>\n",
              "</li>\n",
              "\t<li><style>\n",
              ".list-inline {list-style: none; margin:0; padding: 0}\n",
              ".list-inline>li {display: inline-block}\n",
              ".list-inline>li:not(:last-child)::after {content: \"\\00b7\"; padding: 0 .5ex}\n",
              "</style>\n",
              "<ol class=list-inline><li>'a'</li><li>'b'</li><li>'d'</li></ol>\n",
              "</li>\n",
              "\t<li><style>\n",
              ".list-inline {list-style: none; margin:0; padding: 0}\n",
              ".list-inline>li {display: inline-block}\n",
              ".list-inline>li:not(:last-child)::after {content: \"\\00b7\"; padding: 0 .5ex}\n",
              "</style>\n",
              "<ol class=list-inline><li>'c'</li><li>'e'</li></ol>\n",
              "</li>\n",
              "\t<li><style>\n",
              ".list-inline {list-style: none; margin:0; padding: 0}\n",
              ".list-inline>li {display: inline-block}\n",
              ".list-inline>li:not(:last-child)::after {content: \"\\00b7\"; padding: 0 .5ex}\n",
              "</style>\n",
              "<ol class=list-inline><li>'a'</li><li>'b'</li><li>'d'</li><li>'e'</li></ol>\n",
              "</li>\n",
              "</ol>\n"
            ],
            "text/markdown": "1. 1. 'a'\n2. 'b'\n3. 'c'\n\n\n\n2. 1. 'a'\n2. 'b'\n\n\n\n3. 1. 'a'\n2. 'b'\n3. 'd'\n\n\n\n4. 1. 'c'\n2. 'e'\n\n\n\n5. 1. 'a'\n2. 'b'\n3. 'd'\n4. 'e'\n\n\n\n\n\n",
            "text/latex": "\\begin{enumerate}\n\\item \\begin{enumerate*}\n\\item 'a'\n\\item 'b'\n\\item 'c'\n\\end{enumerate*}\n\n\\item \\begin{enumerate*}\n\\item 'a'\n\\item 'b'\n\\end{enumerate*}\n\n\\item \\begin{enumerate*}\n\\item 'a'\n\\item 'b'\n\\item 'd'\n\\end{enumerate*}\n\n\\item \\begin{enumerate*}\n\\item 'c'\n\\item 'e'\n\\end{enumerate*}\n\n\\item \\begin{enumerate*}\n\\item 'a'\n\\item 'b'\n\\item 'd'\n\\item 'e'\n\\end{enumerate*}\n\n\\end{enumerate}\n",
            "text/plain": [
              "[[1]]\n",
              "[1] \"a\" \"b\" \"c\"\n",
              "\n",
              "[[2]]\n",
              "[1] \"a\" \"b\"\n",
              "\n",
              "[[3]]\n",
              "[1] \"a\" \"b\" \"d\"\n",
              "\n",
              "[[4]]\n",
              "[1] \"c\" \"e\"\n",
              "\n",
              "[[5]]\n",
              "[1] \"a\" \"b\" \"d\" \"e\"\n"
            ]
          },
          "metadata": {}
        }
      ]
    },
    {
      "cell_type": "code",
      "source": [
        " ## Set transaction names\n",
        "     names(a_list) <- paste(\"Tr\", c(1:5), sep = \"\")\n",
        "     a_list"
      ],
      "metadata": {
        "id": "3CDf09JFcIaH",
        "outputId": "9de96009-af80-4297-cdaf-a55831d270df",
        "colab": {
          "base_uri": "https://localhost:8080/",
          "height": 219
        }
      },
      "execution_count": 39,
      "outputs": [
        {
          "output_type": "display_data",
          "data": {
            "text/html": [
              "<dl>\n",
              "\t<dt>$Tr1</dt>\n",
              "\t\t<dd><style>\n",
              ".list-inline {list-style: none; margin:0; padding: 0}\n",
              ".list-inline>li {display: inline-block}\n",
              ".list-inline>li:not(:last-child)::after {content: \"\\00b7\"; padding: 0 .5ex}\n",
              "</style>\n",
              "<ol class=list-inline><li>'a'</li><li>'b'</li><li>'c'</li></ol>\n",
              "</dd>\n",
              "\t<dt>$Tr2</dt>\n",
              "\t\t<dd><style>\n",
              ".list-inline {list-style: none; margin:0; padding: 0}\n",
              ".list-inline>li {display: inline-block}\n",
              ".list-inline>li:not(:last-child)::after {content: \"\\00b7\"; padding: 0 .5ex}\n",
              "</style>\n",
              "<ol class=list-inline><li>'a'</li><li>'b'</li></ol>\n",
              "</dd>\n",
              "\t<dt>$Tr3</dt>\n",
              "\t\t<dd><style>\n",
              ".list-inline {list-style: none; margin:0; padding: 0}\n",
              ".list-inline>li {display: inline-block}\n",
              ".list-inline>li:not(:last-child)::after {content: \"\\00b7\"; padding: 0 .5ex}\n",
              "</style>\n",
              "<ol class=list-inline><li>'a'</li><li>'b'</li><li>'d'</li></ol>\n",
              "</dd>\n",
              "\t<dt>$Tr4</dt>\n",
              "\t\t<dd><style>\n",
              ".list-inline {list-style: none; margin:0; padding: 0}\n",
              ".list-inline>li {display: inline-block}\n",
              ".list-inline>li:not(:last-child)::after {content: \"\\00b7\"; padding: 0 .5ex}\n",
              "</style>\n",
              "<ol class=list-inline><li>'c'</li><li>'e'</li></ol>\n",
              "</dd>\n",
              "\t<dt>$Tr5</dt>\n",
              "\t\t<dd><style>\n",
              ".list-inline {list-style: none; margin:0; padding: 0}\n",
              ".list-inline>li {display: inline-block}\n",
              ".list-inline>li:not(:last-child)::after {content: \"\\00b7\"; padding: 0 .5ex}\n",
              "</style>\n",
              "<ol class=list-inline><li>'a'</li><li>'b'</li><li>'d'</li><li>'e'</li></ol>\n",
              "</dd>\n",
              "</dl>\n"
            ],
            "text/markdown": "$Tr1\n:   1. 'a'\n2. 'b'\n3. 'c'\n\n\n\n$Tr2\n:   1. 'a'\n2. 'b'\n\n\n\n$Tr3\n:   1. 'a'\n2. 'b'\n3. 'd'\n\n\n\n$Tr4\n:   1. 'c'\n2. 'e'\n\n\n\n$Tr5\n:   1. 'a'\n2. 'b'\n3. 'd'\n4. 'e'\n\n\n\n\n\n",
            "text/latex": "\\begin{description}\n\\item[\\$Tr1] \\begin{enumerate*}\n\\item 'a'\n\\item 'b'\n\\item 'c'\n\\end{enumerate*}\n\n\\item[\\$Tr2] \\begin{enumerate*}\n\\item 'a'\n\\item 'b'\n\\end{enumerate*}\n\n\\item[\\$Tr3] \\begin{enumerate*}\n\\item 'a'\n\\item 'b'\n\\item 'd'\n\\end{enumerate*}\n\n\\item[\\$Tr4] \\begin{enumerate*}\n\\item 'c'\n\\item 'e'\n\\end{enumerate*}\n\n\\item[\\$Tr5] \\begin{enumerate*}\n\\item 'a'\n\\item 'b'\n\\item 'd'\n\\item 'e'\n\\end{enumerate*}\n\n\\end{description}\n",
            "text/plain": [
              "$Tr1\n",
              "[1] \"a\" \"b\" \"c\"\n",
              "\n",
              "$Tr2\n",
              "[1] \"a\" \"b\"\n",
              "\n",
              "$Tr3\n",
              "[1] \"a\" \"b\" \"d\"\n",
              "\n",
              "$Tr4\n",
              "[1] \"c\" \"e\"\n",
              "\n",
              "$Tr5\n",
              "[1] \"a\" \"b\" \"d\" \"e\"\n"
            ]
          },
          "metadata": {}
        }
      ]
    },
    {
      "cell_type": "code",
      "source": [
        "as(a_list, \"transactions\")\n",
        ""
      ],
      "metadata": {
        "id": "Gv4VzN_ScQOo",
        "outputId": "3c0b68e1-05ea-4607-ba43-c2e2c0d4d611",
        "colab": {
          "base_uri": "https://localhost:8080/",
          "height": 69
        }
      },
      "execution_count": 40,
      "outputs": [
        {
          "output_type": "display_data",
          "data": {
            "text/plain": [
              "transactions in sparse format with\n",
              " 5 transactions (rows) and\n",
              " 5 items (columns)"
            ]
          },
          "metadata": {}
        }
      ]
    },
    {
      "cell_type": "code",
      "source": [
        " trans1 <- transactions(a_list)\n"
      ],
      "metadata": {
        "id": "0qZHo1UGcV42"
      },
      "execution_count": 41,
      "outputs": []
    },
    {
      "cell_type": "code",
      "source": [
        "trans1\n",
        "inspect(trans1)\n"
      ],
      "metadata": {
        "id": "8YqokmaScZBY",
        "outputId": "f2fc95c4-e7b8-4487-a7e0-8aa55b65b2b9",
        "colab": {
          "base_uri": "https://localhost:8080/",
          "height": 173
        }
      },
      "execution_count": 43,
      "outputs": [
        {
          "output_type": "display_data",
          "data": {
            "text/plain": [
              "transactions in sparse format with\n",
              " 5 transactions (rows) and\n",
              " 5 items (columns)"
            ]
          },
          "metadata": {}
        },
        {
          "output_type": "stream",
          "name": "stdout",
          "text": [
            "    items        transactionID\n",
            "[1] {a, b, c}    Tr1          \n",
            "[2] {a, b}       Tr2          \n",
            "[3] {a, b, d}    Tr3          \n",
            "[4] {c, e}       Tr4          \n",
            "[5] {a, b, d, e} Tr5          \n"
          ]
        }
      ]
    },
    {
      "cell_type": "code",
      "source": [
        "## Example 2: creating transactions from a 0-1 matrix with 5 transactions (rows) and\n",
        "     ##            5 items (columns)\n",
        "     a_matrix <- matrix(\n",
        "       c(1, 1, 1, 0, 0,\n",
        "                1, 1, 0, 0, 0,\n",
        "                1, 1, 0, 1, 0,\n",
        "                0, 0, 1, 0, 1,\n",
        "                1, 1, 0, 1, 1), ncol = 5)\n",
        "\n",
        "     ## Set item names (columns) and transaction labels (rows)\n",
        "     colnames(a_matrix) <- c(\"a\", \"b\", \"c\", \"d\", \"e\")\n",
        "     rownames(a_matrix) <- paste(\"Tr\", c(1:5), sep = \"\")\n",
        "\n",
        "     a_matrix\n",
        ""
      ],
      "metadata": {
        "id": "aA9-HynxclBp",
        "outputId": "3ffbda58-b0df-4477-afef-d41f503ab561",
        "colab": {
          "base_uri": "https://localhost:8080/",
          "height": 240
        }
      },
      "execution_count": 44,
      "outputs": [
        {
          "output_type": "display_data",
          "data": {
            "text/html": [
              "<table class=\"dataframe\">\n",
              "<caption>A matrix: 5 × 5 of type dbl</caption>\n",
              "<thead>\n",
              "\t<tr><th></th><th scope=col>a</th><th scope=col>b</th><th scope=col>c</th><th scope=col>d</th><th scope=col>e</th></tr>\n",
              "</thead>\n",
              "<tbody>\n",
              "\t<tr><th scope=row>Tr1</th><td>1</td><td>1</td><td>1</td><td>0</td><td>1</td></tr>\n",
              "\t<tr><th scope=row>Tr2</th><td>1</td><td>1</td><td>1</td><td>0</td><td>1</td></tr>\n",
              "\t<tr><th scope=row>Tr3</th><td>1</td><td>0</td><td>0</td><td>1</td><td>0</td></tr>\n",
              "\t<tr><th scope=row>Tr4</th><td>0</td><td>0</td><td>1</td><td>0</td><td>1</td></tr>\n",
              "\t<tr><th scope=row>Tr5</th><td>0</td><td>0</td><td>0</td><td>1</td><td>1</td></tr>\n",
              "</tbody>\n",
              "</table>\n"
            ],
            "text/markdown": "\nA matrix: 5 × 5 of type dbl\n\n| <!--/--> | a | b | c | d | e |\n|---|---|---|---|---|---|\n| Tr1 | 1 | 1 | 1 | 0 | 1 |\n| Tr2 | 1 | 1 | 1 | 0 | 1 |\n| Tr3 | 1 | 0 | 0 | 1 | 0 |\n| Tr4 | 0 | 0 | 1 | 0 | 1 |\n| Tr5 | 0 | 0 | 0 | 1 | 1 |\n\n",
            "text/latex": "A matrix: 5 × 5 of type dbl\n\\begin{tabular}{r|lllll}\n  & a & b & c & d & e\\\\\n\\hline\n\tTr1 & 1 & 1 & 1 & 0 & 1\\\\\n\tTr2 & 1 & 1 & 1 & 0 & 1\\\\\n\tTr3 & 1 & 0 & 0 & 1 & 0\\\\\n\tTr4 & 0 & 0 & 1 & 0 & 1\\\\\n\tTr5 & 0 & 0 & 0 & 1 & 1\\\\\n\\end{tabular}\n",
            "text/plain": [
              "    a b c d e\n",
              "Tr1 1 1 1 0 1\n",
              "Tr2 1 1 1 0 1\n",
              "Tr3 1 0 0 1 0\n",
              "Tr4 0 0 1 0 1\n",
              "Tr5 0 0 0 1 1"
            ]
          },
          "metadata": {}
        }
      ]
    },
    {
      "cell_type": "code",
      "source": [
        "     ## Create transactions\n",
        "     trans2 <- transactions(a_matrix)\n",
        "     trans2\n",
        "     inspect(trans2)"
      ],
      "metadata": {
        "id": "tiBSSsjWcu_j",
        "outputId": "2e01816d-8b2c-4e10-eaa7-378883a4e52d",
        "colab": {
          "base_uri": "https://localhost:8080/",
          "height": 173
        }
      },
      "execution_count": 45,
      "outputs": [
        {
          "output_type": "display_data",
          "data": {
            "text/plain": [
              "transactions in sparse format with\n",
              " 5 transactions (rows) and\n",
              " 5 items (columns)"
            ]
          },
          "metadata": {}
        },
        {
          "output_type": "stream",
          "name": "stdout",
          "text": [
            "    items        transactionID\n",
            "[1] {a, b, c, e} Tr1          \n",
            "[2] {a, b, c, e} Tr2          \n",
            "[3] {a, d}       Tr3          \n",
            "[4] {c, e}       Tr4          \n",
            "[5] {d, e}       Tr5          \n"
          ]
        }
      ]
    },
    {
      "cell_type": "code",
      "source": [
        "## Example 3: creating transactions from data.frame (wide format)\n",
        "     a_df <- data.frame(\n",
        "             age   = as.factor(c( 6,   8,   NA, 9,   16)),\n",
        "             grade = as.factor(c(\"A\", \"C\", \"F\", NA, \"C\")),\n",
        "       pass  = c(TRUE, TRUE, FALSE, TRUE, TRUE))\n",
        "     ## Note: factors are translated differently than logicals and NAs are ignored\n",
        "     a_df\n",
        ""
      ],
      "metadata": {
        "id": "BIyUpIsPcz1j",
        "outputId": "cb62276a-dfc0-4475-9c7a-a12f03e0a9b5",
        "colab": {
          "base_uri": "https://localhost:8080/",
          "height": 254
        }
      },
      "execution_count": 46,
      "outputs": [
        {
          "output_type": "display_data",
          "data": {
            "text/html": [
              "<table class=\"dataframe\">\n",
              "<caption>A data.frame: 5 × 3</caption>\n",
              "<thead>\n",
              "\t<tr><th scope=col>age</th><th scope=col>grade</th><th scope=col>pass</th></tr>\n",
              "\t<tr><th scope=col>&lt;fct&gt;</th><th scope=col>&lt;fct&gt;</th><th scope=col>&lt;lgl&gt;</th></tr>\n",
              "</thead>\n",
              "<tbody>\n",
              "\t<tr><td>6 </td><td>A </td><td> TRUE</td></tr>\n",
              "\t<tr><td>8 </td><td>C </td><td> TRUE</td></tr>\n",
              "\t<tr><td>NA</td><td>F </td><td>FALSE</td></tr>\n",
              "\t<tr><td>9 </td><td>NA</td><td> TRUE</td></tr>\n",
              "\t<tr><td>16</td><td>C </td><td> TRUE</td></tr>\n",
              "</tbody>\n",
              "</table>\n"
            ],
            "text/markdown": "\nA data.frame: 5 × 3\n\n| age &lt;fct&gt; | grade &lt;fct&gt; | pass &lt;lgl&gt; |\n|---|---|---|\n| 6  | A  |  TRUE |\n| 8  | C  |  TRUE |\n| NA | F  | FALSE |\n| 9  | NA |  TRUE |\n| 16 | C  |  TRUE |\n\n",
            "text/latex": "A data.frame: 5 × 3\n\\begin{tabular}{lll}\n age & grade & pass\\\\\n <fct> & <fct> & <lgl>\\\\\n\\hline\n\t 6  & A  &  TRUE\\\\\n\t 8  & C  &  TRUE\\\\\n\t NA & F  & FALSE\\\\\n\t 9  & NA &  TRUE\\\\\n\t 16 & C  &  TRUE\\\\\n\\end{tabular}\n",
            "text/plain": [
              "  age grade pass \n",
              "1 6   A      TRUE\n",
              "2 8   C      TRUE\n",
              "3 NA  F     FALSE\n",
              "4 9   NA     TRUE\n",
              "5 16  C      TRUE"
            ]
          },
          "metadata": {}
        }
      ]
    },
    {
      "cell_type": "code",
      "source": [],
      "metadata": {
        "id": "5Q7AhNuUdwyy"
      },
      "execution_count": null,
      "outputs": []
    },
    {
      "cell_type": "code",
      "source": [
        "     ## Create transactions\n",
        "     trans3 <- transactions(a_df)\n",
        "     inspect(trans3)"
      ],
      "metadata": {
        "id": "Uy0Fd2-OdPdG",
        "outputId": "a0acb9db-c955-4730-c2ed-48457fd9f064",
        "colab": {
          "base_uri": "https://localhost:8080/"
        }
      },
      "execution_count": 47,
      "outputs": [
        {
          "output_type": "stream",
          "name": "stdout",
          "text": [
            "    items                   transactionID\n",
            "[1] {age=6, grade=A, pass}  1            \n",
            "[2] {age=8, grade=C, pass}  2            \n",
            "[3] {grade=F}               3            \n",
            "[4] {age=9, pass}           4            \n",
            "[5] {age=16, grade=C, pass} 5            \n"
          ]
        }
      ]
    },
    {
      "cell_type": "code",
      "source": [
        "## Example 4: creating transactions from a data.frame with\n",
        "## transaction IDs and items (long format)\n",
        "     a_df3 <- data.frame(\n",
        "       TID =  c( 1,   1,   2,   2,   2,   3 ),\n",
        "       item = c(\"a\", \"b\", \"a\", \"b\", \"c\", \"b\")\n",
        "     )\n",
        "     a_df3"
      ],
      "metadata": {
        "id": "60OzOSDPdyTR",
        "outputId": "2d56e76c-d4ef-4742-f3ad-bfdd063391df",
        "colab": {
          "base_uri": "https://localhost:8080/",
          "height": 303
        }
      },
      "execution_count": 48,
      "outputs": [
        {
          "output_type": "display_data",
          "data": {
            "text/html": [
              "<table class=\"dataframe\">\n",
              "<caption>A data.frame: 6 × 2</caption>\n",
              "<thead>\n",
              "\t<tr><th scope=col>TID</th><th scope=col>item</th></tr>\n",
              "\t<tr><th scope=col>&lt;dbl&gt;</th><th scope=col>&lt;chr&gt;</th></tr>\n",
              "</thead>\n",
              "<tbody>\n",
              "\t<tr><td>1</td><td>a</td></tr>\n",
              "\t<tr><td>1</td><td>b</td></tr>\n",
              "\t<tr><td>2</td><td>a</td></tr>\n",
              "\t<tr><td>2</td><td>b</td></tr>\n",
              "\t<tr><td>2</td><td>c</td></tr>\n",
              "\t<tr><td>3</td><td>b</td></tr>\n",
              "</tbody>\n",
              "</table>\n"
            ],
            "text/markdown": "\nA data.frame: 6 × 2\n\n| TID &lt;dbl&gt; | item &lt;chr&gt; |\n|---|---|\n| 1 | a |\n| 1 | b |\n| 2 | a |\n| 2 | b |\n| 2 | c |\n| 3 | b |\n\n",
            "text/latex": "A data.frame: 6 × 2\n\\begin{tabular}{ll}\n TID & item\\\\\n <dbl> & <chr>\\\\\n\\hline\n\t 1 & a\\\\\n\t 1 & b\\\\\n\t 2 & a\\\\\n\t 2 & b\\\\\n\t 2 & c\\\\\n\t 3 & b\\\\\n\\end{tabular}\n",
            "text/plain": [
              "  TID item\n",
              "1 1   a   \n",
              "2 1   b   \n",
              "3 2   a   \n",
              "4 2   b   \n",
              "5 2   c   \n",
              "6 3   b   "
            ]
          },
          "metadata": {}
        }
      ]
    },
    {
      "cell_type": "code",
      "source": [
        "trans4 <- transactions(a_df3, format = \"long\", cols = c(\"TID\", \"item\"))\n",
        "trans4\n",
        "inspect(trans4)"
      ],
      "metadata": {
        "id": "9wNgjItDd-Xw",
        "outputId": "81fe428a-7330-4ed1-d786-7ea96a89ca37",
        "colab": {
          "base_uri": "https://localhost:8080/",
          "height": 139
        }
      },
      "execution_count": 49,
      "outputs": [
        {
          "output_type": "display_data",
          "data": {
            "text/plain": [
              "transactions in sparse format with\n",
              " 3 transactions (rows) and\n",
              " 3 items (columns)"
            ]
          },
          "metadata": {}
        },
        {
          "output_type": "stream",
          "name": "stdout",
          "text": [
            "    items     transactionID\n",
            "[1] {a, b}    1            \n",
            "[2] {a, b, c} 2            \n",
            "[3] {b}       3            \n"
          ]
        }
      ]
    },
    {
      "cell_type": "code",
      "source": [
        "## Example 5: create transactions from a dataset with numeric variables\n",
        "## using discretization.\n",
        "data(iris)\n",
        "iris"
      ],
      "metadata": {
        "id": "n_Jln_7OeSEd",
        "outputId": "e90f3711-9a88-41f7-b587-80caeceb3ad5",
        "colab": {
          "base_uri": "https://localhost:8080/",
          "height": 1000
        }
      },
      "execution_count": 50,
      "outputs": [
        {
          "output_type": "display_data",
          "data": {
            "text/html": [
              "<table class=\"dataframe\">\n",
              "<caption>A data.frame: 150 × 5</caption>\n",
              "<thead>\n",
              "\t<tr><th scope=col>Sepal.Length</th><th scope=col>Sepal.Width</th><th scope=col>Petal.Length</th><th scope=col>Petal.Width</th><th scope=col>Species</th></tr>\n",
              "\t<tr><th scope=col>&lt;dbl&gt;</th><th scope=col>&lt;dbl&gt;</th><th scope=col>&lt;dbl&gt;</th><th scope=col>&lt;dbl&gt;</th><th scope=col>&lt;fct&gt;</th></tr>\n",
              "</thead>\n",
              "<tbody>\n",
              "\t<tr><td>5.1</td><td>3.5</td><td>1.4</td><td>0.2</td><td>setosa</td></tr>\n",
              "\t<tr><td>4.9</td><td>3.0</td><td>1.4</td><td>0.2</td><td>setosa</td></tr>\n",
              "\t<tr><td>4.7</td><td>3.2</td><td>1.3</td><td>0.2</td><td>setosa</td></tr>\n",
              "\t<tr><td>4.6</td><td>3.1</td><td>1.5</td><td>0.2</td><td>setosa</td></tr>\n",
              "\t<tr><td>5.0</td><td>3.6</td><td>1.4</td><td>0.2</td><td>setosa</td></tr>\n",
              "\t<tr><td>5.4</td><td>3.9</td><td>1.7</td><td>0.4</td><td>setosa</td></tr>\n",
              "\t<tr><td>4.6</td><td>3.4</td><td>1.4</td><td>0.3</td><td>setosa</td></tr>\n",
              "\t<tr><td>5.0</td><td>3.4</td><td>1.5</td><td>0.2</td><td>setosa</td></tr>\n",
              "\t<tr><td>4.4</td><td>2.9</td><td>1.4</td><td>0.2</td><td>setosa</td></tr>\n",
              "\t<tr><td>4.9</td><td>3.1</td><td>1.5</td><td>0.1</td><td>setosa</td></tr>\n",
              "\t<tr><td>5.4</td><td>3.7</td><td>1.5</td><td>0.2</td><td>setosa</td></tr>\n",
              "\t<tr><td>4.8</td><td>3.4</td><td>1.6</td><td>0.2</td><td>setosa</td></tr>\n",
              "\t<tr><td>4.8</td><td>3.0</td><td>1.4</td><td>0.1</td><td>setosa</td></tr>\n",
              "\t<tr><td>4.3</td><td>3.0</td><td>1.1</td><td>0.1</td><td>setosa</td></tr>\n",
              "\t<tr><td>5.8</td><td>4.0</td><td>1.2</td><td>0.2</td><td>setosa</td></tr>\n",
              "\t<tr><td>5.7</td><td>4.4</td><td>1.5</td><td>0.4</td><td>setosa</td></tr>\n",
              "\t<tr><td>5.4</td><td>3.9</td><td>1.3</td><td>0.4</td><td>setosa</td></tr>\n",
              "\t<tr><td>5.1</td><td>3.5</td><td>1.4</td><td>0.3</td><td>setosa</td></tr>\n",
              "\t<tr><td>5.7</td><td>3.8</td><td>1.7</td><td>0.3</td><td>setosa</td></tr>\n",
              "\t<tr><td>5.1</td><td>3.8</td><td>1.5</td><td>0.3</td><td>setosa</td></tr>\n",
              "\t<tr><td>5.4</td><td>3.4</td><td>1.7</td><td>0.2</td><td>setosa</td></tr>\n",
              "\t<tr><td>5.1</td><td>3.7</td><td>1.5</td><td>0.4</td><td>setosa</td></tr>\n",
              "\t<tr><td>4.6</td><td>3.6</td><td>1.0</td><td>0.2</td><td>setosa</td></tr>\n",
              "\t<tr><td>5.1</td><td>3.3</td><td>1.7</td><td>0.5</td><td>setosa</td></tr>\n",
              "\t<tr><td>4.8</td><td>3.4</td><td>1.9</td><td>0.2</td><td>setosa</td></tr>\n",
              "\t<tr><td>5.0</td><td>3.0</td><td>1.6</td><td>0.2</td><td>setosa</td></tr>\n",
              "\t<tr><td>5.0</td><td>3.4</td><td>1.6</td><td>0.4</td><td>setosa</td></tr>\n",
              "\t<tr><td>5.2</td><td>3.5</td><td>1.5</td><td>0.2</td><td>setosa</td></tr>\n",
              "\t<tr><td>5.2</td><td>3.4</td><td>1.4</td><td>0.2</td><td>setosa</td></tr>\n",
              "\t<tr><td>4.7</td><td>3.2</td><td>1.6</td><td>0.2</td><td>setosa</td></tr>\n",
              "\t<tr><td>⋮</td><td>⋮</td><td>⋮</td><td>⋮</td><td>⋮</td></tr>\n",
              "\t<tr><td>6.9</td><td>3.2</td><td>5.7</td><td>2.3</td><td>virginica</td></tr>\n",
              "\t<tr><td>5.6</td><td>2.8</td><td>4.9</td><td>2.0</td><td>virginica</td></tr>\n",
              "\t<tr><td>7.7</td><td>2.8</td><td>6.7</td><td>2.0</td><td>virginica</td></tr>\n",
              "\t<tr><td>6.3</td><td>2.7</td><td>4.9</td><td>1.8</td><td>virginica</td></tr>\n",
              "\t<tr><td>6.7</td><td>3.3</td><td>5.7</td><td>2.1</td><td>virginica</td></tr>\n",
              "\t<tr><td>7.2</td><td>3.2</td><td>6.0</td><td>1.8</td><td>virginica</td></tr>\n",
              "\t<tr><td>6.2</td><td>2.8</td><td>4.8</td><td>1.8</td><td>virginica</td></tr>\n",
              "\t<tr><td>6.1</td><td>3.0</td><td>4.9</td><td>1.8</td><td>virginica</td></tr>\n",
              "\t<tr><td>6.4</td><td>2.8</td><td>5.6</td><td>2.1</td><td>virginica</td></tr>\n",
              "\t<tr><td>7.2</td><td>3.0</td><td>5.8</td><td>1.6</td><td>virginica</td></tr>\n",
              "\t<tr><td>7.4</td><td>2.8</td><td>6.1</td><td>1.9</td><td>virginica</td></tr>\n",
              "\t<tr><td>7.9</td><td>3.8</td><td>6.4</td><td>2.0</td><td>virginica</td></tr>\n",
              "\t<tr><td>6.4</td><td>2.8</td><td>5.6</td><td>2.2</td><td>virginica</td></tr>\n",
              "\t<tr><td>6.3</td><td>2.8</td><td>5.1</td><td>1.5</td><td>virginica</td></tr>\n",
              "\t<tr><td>6.1</td><td>2.6</td><td>5.6</td><td>1.4</td><td>virginica</td></tr>\n",
              "\t<tr><td>7.7</td><td>3.0</td><td>6.1</td><td>2.3</td><td>virginica</td></tr>\n",
              "\t<tr><td>6.3</td><td>3.4</td><td>5.6</td><td>2.4</td><td>virginica</td></tr>\n",
              "\t<tr><td>6.4</td><td>3.1</td><td>5.5</td><td>1.8</td><td>virginica</td></tr>\n",
              "\t<tr><td>6.0</td><td>3.0</td><td>4.8</td><td>1.8</td><td>virginica</td></tr>\n",
              "\t<tr><td>6.9</td><td>3.1</td><td>5.4</td><td>2.1</td><td>virginica</td></tr>\n",
              "\t<tr><td>6.7</td><td>3.1</td><td>5.6</td><td>2.4</td><td>virginica</td></tr>\n",
              "\t<tr><td>6.9</td><td>3.1</td><td>5.1</td><td>2.3</td><td>virginica</td></tr>\n",
              "\t<tr><td>5.8</td><td>2.7</td><td>5.1</td><td>1.9</td><td>virginica</td></tr>\n",
              "\t<tr><td>6.8</td><td>3.2</td><td>5.9</td><td>2.3</td><td>virginica</td></tr>\n",
              "\t<tr><td>6.7</td><td>3.3</td><td>5.7</td><td>2.5</td><td>virginica</td></tr>\n",
              "\t<tr><td>6.7</td><td>3.0</td><td>5.2</td><td>2.3</td><td>virginica</td></tr>\n",
              "\t<tr><td>6.3</td><td>2.5</td><td>5.0</td><td>1.9</td><td>virginica</td></tr>\n",
              "\t<tr><td>6.5</td><td>3.0</td><td>5.2</td><td>2.0</td><td>virginica</td></tr>\n",
              "\t<tr><td>6.2</td><td>3.4</td><td>5.4</td><td>2.3</td><td>virginica</td></tr>\n",
              "\t<tr><td>5.9</td><td>3.0</td><td>5.1</td><td>1.8</td><td>virginica</td></tr>\n",
              "</tbody>\n",
              "</table>\n"
            ],
            "text/markdown": "\nA data.frame: 150 × 5\n\n| Sepal.Length &lt;dbl&gt; | Sepal.Width &lt;dbl&gt; | Petal.Length &lt;dbl&gt; | Petal.Width &lt;dbl&gt; | Species &lt;fct&gt; |\n|---|---|---|---|---|\n| 5.1 | 3.5 | 1.4 | 0.2 | setosa |\n| 4.9 | 3.0 | 1.4 | 0.2 | setosa |\n| 4.7 | 3.2 | 1.3 | 0.2 | setosa |\n| 4.6 | 3.1 | 1.5 | 0.2 | setosa |\n| 5.0 | 3.6 | 1.4 | 0.2 | setosa |\n| 5.4 | 3.9 | 1.7 | 0.4 | setosa |\n| 4.6 | 3.4 | 1.4 | 0.3 | setosa |\n| 5.0 | 3.4 | 1.5 | 0.2 | setosa |\n| 4.4 | 2.9 | 1.4 | 0.2 | setosa |\n| 4.9 | 3.1 | 1.5 | 0.1 | setosa |\n| 5.4 | 3.7 | 1.5 | 0.2 | setosa |\n| 4.8 | 3.4 | 1.6 | 0.2 | setosa |\n| 4.8 | 3.0 | 1.4 | 0.1 | setosa |\n| 4.3 | 3.0 | 1.1 | 0.1 | setosa |\n| 5.8 | 4.0 | 1.2 | 0.2 | setosa |\n| 5.7 | 4.4 | 1.5 | 0.4 | setosa |\n| 5.4 | 3.9 | 1.3 | 0.4 | setosa |\n| 5.1 | 3.5 | 1.4 | 0.3 | setosa |\n| 5.7 | 3.8 | 1.7 | 0.3 | setosa |\n| 5.1 | 3.8 | 1.5 | 0.3 | setosa |\n| 5.4 | 3.4 | 1.7 | 0.2 | setosa |\n| 5.1 | 3.7 | 1.5 | 0.4 | setosa |\n| 4.6 | 3.6 | 1.0 | 0.2 | setosa |\n| 5.1 | 3.3 | 1.7 | 0.5 | setosa |\n| 4.8 | 3.4 | 1.9 | 0.2 | setosa |\n| 5.0 | 3.0 | 1.6 | 0.2 | setosa |\n| 5.0 | 3.4 | 1.6 | 0.4 | setosa |\n| 5.2 | 3.5 | 1.5 | 0.2 | setosa |\n| 5.2 | 3.4 | 1.4 | 0.2 | setosa |\n| 4.7 | 3.2 | 1.6 | 0.2 | setosa |\n| ⋮ | ⋮ | ⋮ | ⋮ | ⋮ |\n| 6.9 | 3.2 | 5.7 | 2.3 | virginica |\n| 5.6 | 2.8 | 4.9 | 2.0 | virginica |\n| 7.7 | 2.8 | 6.7 | 2.0 | virginica |\n| 6.3 | 2.7 | 4.9 | 1.8 | virginica |\n| 6.7 | 3.3 | 5.7 | 2.1 | virginica |\n| 7.2 | 3.2 | 6.0 | 1.8 | virginica |\n| 6.2 | 2.8 | 4.8 | 1.8 | virginica |\n| 6.1 | 3.0 | 4.9 | 1.8 | virginica |\n| 6.4 | 2.8 | 5.6 | 2.1 | virginica |\n| 7.2 | 3.0 | 5.8 | 1.6 | virginica |\n| 7.4 | 2.8 | 6.1 | 1.9 | virginica |\n| 7.9 | 3.8 | 6.4 | 2.0 | virginica |\n| 6.4 | 2.8 | 5.6 | 2.2 | virginica |\n| 6.3 | 2.8 | 5.1 | 1.5 | virginica |\n| 6.1 | 2.6 | 5.6 | 1.4 | virginica |\n| 7.7 | 3.0 | 6.1 | 2.3 | virginica |\n| 6.3 | 3.4 | 5.6 | 2.4 | virginica |\n| 6.4 | 3.1 | 5.5 | 1.8 | virginica |\n| 6.0 | 3.0 | 4.8 | 1.8 | virginica |\n| 6.9 | 3.1 | 5.4 | 2.1 | virginica |\n| 6.7 | 3.1 | 5.6 | 2.4 | virginica |\n| 6.9 | 3.1 | 5.1 | 2.3 | virginica |\n| 5.8 | 2.7 | 5.1 | 1.9 | virginica |\n| 6.8 | 3.2 | 5.9 | 2.3 | virginica |\n| 6.7 | 3.3 | 5.7 | 2.5 | virginica |\n| 6.7 | 3.0 | 5.2 | 2.3 | virginica |\n| 6.3 | 2.5 | 5.0 | 1.9 | virginica |\n| 6.5 | 3.0 | 5.2 | 2.0 | virginica |\n| 6.2 | 3.4 | 5.4 | 2.3 | virginica |\n| 5.9 | 3.0 | 5.1 | 1.8 | virginica |\n\n",
            "text/latex": "A data.frame: 150 × 5\n\\begin{tabular}{lllll}\n Sepal.Length & Sepal.Width & Petal.Length & Petal.Width & Species\\\\\n <dbl> & <dbl> & <dbl> & <dbl> & <fct>\\\\\n\\hline\n\t 5.1 & 3.5 & 1.4 & 0.2 & setosa\\\\\n\t 4.9 & 3.0 & 1.4 & 0.2 & setosa\\\\\n\t 4.7 & 3.2 & 1.3 & 0.2 & setosa\\\\\n\t 4.6 & 3.1 & 1.5 & 0.2 & setosa\\\\\n\t 5.0 & 3.6 & 1.4 & 0.2 & setosa\\\\\n\t 5.4 & 3.9 & 1.7 & 0.4 & setosa\\\\\n\t 4.6 & 3.4 & 1.4 & 0.3 & setosa\\\\\n\t 5.0 & 3.4 & 1.5 & 0.2 & setosa\\\\\n\t 4.4 & 2.9 & 1.4 & 0.2 & setosa\\\\\n\t 4.9 & 3.1 & 1.5 & 0.1 & setosa\\\\\n\t 5.4 & 3.7 & 1.5 & 0.2 & setosa\\\\\n\t 4.8 & 3.4 & 1.6 & 0.2 & setosa\\\\\n\t 4.8 & 3.0 & 1.4 & 0.1 & setosa\\\\\n\t 4.3 & 3.0 & 1.1 & 0.1 & setosa\\\\\n\t 5.8 & 4.0 & 1.2 & 0.2 & setosa\\\\\n\t 5.7 & 4.4 & 1.5 & 0.4 & setosa\\\\\n\t 5.4 & 3.9 & 1.3 & 0.4 & setosa\\\\\n\t 5.1 & 3.5 & 1.4 & 0.3 & setosa\\\\\n\t 5.7 & 3.8 & 1.7 & 0.3 & setosa\\\\\n\t 5.1 & 3.8 & 1.5 & 0.3 & setosa\\\\\n\t 5.4 & 3.4 & 1.7 & 0.2 & setosa\\\\\n\t 5.1 & 3.7 & 1.5 & 0.4 & setosa\\\\\n\t 4.6 & 3.6 & 1.0 & 0.2 & setosa\\\\\n\t 5.1 & 3.3 & 1.7 & 0.5 & setosa\\\\\n\t 4.8 & 3.4 & 1.9 & 0.2 & setosa\\\\\n\t 5.0 & 3.0 & 1.6 & 0.2 & setosa\\\\\n\t 5.0 & 3.4 & 1.6 & 0.4 & setosa\\\\\n\t 5.2 & 3.5 & 1.5 & 0.2 & setosa\\\\\n\t 5.2 & 3.4 & 1.4 & 0.2 & setosa\\\\\n\t 4.7 & 3.2 & 1.6 & 0.2 & setosa\\\\\n\t ⋮ & ⋮ & ⋮ & ⋮ & ⋮\\\\\n\t 6.9 & 3.2 & 5.7 & 2.3 & virginica\\\\\n\t 5.6 & 2.8 & 4.9 & 2.0 & virginica\\\\\n\t 7.7 & 2.8 & 6.7 & 2.0 & virginica\\\\\n\t 6.3 & 2.7 & 4.9 & 1.8 & virginica\\\\\n\t 6.7 & 3.3 & 5.7 & 2.1 & virginica\\\\\n\t 7.2 & 3.2 & 6.0 & 1.8 & virginica\\\\\n\t 6.2 & 2.8 & 4.8 & 1.8 & virginica\\\\\n\t 6.1 & 3.0 & 4.9 & 1.8 & virginica\\\\\n\t 6.4 & 2.8 & 5.6 & 2.1 & virginica\\\\\n\t 7.2 & 3.0 & 5.8 & 1.6 & virginica\\\\\n\t 7.4 & 2.8 & 6.1 & 1.9 & virginica\\\\\n\t 7.9 & 3.8 & 6.4 & 2.0 & virginica\\\\\n\t 6.4 & 2.8 & 5.6 & 2.2 & virginica\\\\\n\t 6.3 & 2.8 & 5.1 & 1.5 & virginica\\\\\n\t 6.1 & 2.6 & 5.6 & 1.4 & virginica\\\\\n\t 7.7 & 3.0 & 6.1 & 2.3 & virginica\\\\\n\t 6.3 & 3.4 & 5.6 & 2.4 & virginica\\\\\n\t 6.4 & 3.1 & 5.5 & 1.8 & virginica\\\\\n\t 6.0 & 3.0 & 4.8 & 1.8 & virginica\\\\\n\t 6.9 & 3.1 & 5.4 & 2.1 & virginica\\\\\n\t 6.7 & 3.1 & 5.6 & 2.4 & virginica\\\\\n\t 6.9 & 3.1 & 5.1 & 2.3 & virginica\\\\\n\t 5.8 & 2.7 & 5.1 & 1.9 & virginica\\\\\n\t 6.8 & 3.2 & 5.9 & 2.3 & virginica\\\\\n\t 6.7 & 3.3 & 5.7 & 2.5 & virginica\\\\\n\t 6.7 & 3.0 & 5.2 & 2.3 & virginica\\\\\n\t 6.3 & 2.5 & 5.0 & 1.9 & virginica\\\\\n\t 6.5 & 3.0 & 5.2 & 2.0 & virginica\\\\\n\t 6.2 & 3.4 & 5.4 & 2.3 & virginica\\\\\n\t 5.9 & 3.0 & 5.1 & 1.8 & virginica\\\\\n\\end{tabular}\n",
            "text/plain": [
              "    Sepal.Length Sepal.Width Petal.Length Petal.Width Species  \n",
              "1   5.1          3.5         1.4          0.2         setosa   \n",
              "2   4.9          3.0         1.4          0.2         setosa   \n",
              "3   4.7          3.2         1.3          0.2         setosa   \n",
              "4   4.6          3.1         1.5          0.2         setosa   \n",
              "5   5.0          3.6         1.4          0.2         setosa   \n",
              "6   5.4          3.9         1.7          0.4         setosa   \n",
              "7   4.6          3.4         1.4          0.3         setosa   \n",
              "8   5.0          3.4         1.5          0.2         setosa   \n",
              "9   4.4          2.9         1.4          0.2         setosa   \n",
              "10  4.9          3.1         1.5          0.1         setosa   \n",
              "11  5.4          3.7         1.5          0.2         setosa   \n",
              "12  4.8          3.4         1.6          0.2         setosa   \n",
              "13  4.8          3.0         1.4          0.1         setosa   \n",
              "14  4.3          3.0         1.1          0.1         setosa   \n",
              "15  5.8          4.0         1.2          0.2         setosa   \n",
              "16  5.7          4.4         1.5          0.4         setosa   \n",
              "17  5.4          3.9         1.3          0.4         setosa   \n",
              "18  5.1          3.5         1.4          0.3         setosa   \n",
              "19  5.7          3.8         1.7          0.3         setosa   \n",
              "20  5.1          3.8         1.5          0.3         setosa   \n",
              "21  5.4          3.4         1.7          0.2         setosa   \n",
              "22  5.1          3.7         1.5          0.4         setosa   \n",
              "23  4.6          3.6         1.0          0.2         setosa   \n",
              "24  5.1          3.3         1.7          0.5         setosa   \n",
              "25  4.8          3.4         1.9          0.2         setosa   \n",
              "26  5.0          3.0         1.6          0.2         setosa   \n",
              "27  5.0          3.4         1.6          0.4         setosa   \n",
              "28  5.2          3.5         1.5          0.2         setosa   \n",
              "29  5.2          3.4         1.4          0.2         setosa   \n",
              "30  4.7          3.2         1.6          0.2         setosa   \n",
              "⋮   ⋮            ⋮           ⋮            ⋮           ⋮        \n",
              "121 6.9          3.2         5.7          2.3         virginica\n",
              "122 5.6          2.8         4.9          2.0         virginica\n",
              "123 7.7          2.8         6.7          2.0         virginica\n",
              "124 6.3          2.7         4.9          1.8         virginica\n",
              "125 6.7          3.3         5.7          2.1         virginica\n",
              "126 7.2          3.2         6.0          1.8         virginica\n",
              "127 6.2          2.8         4.8          1.8         virginica\n",
              "128 6.1          3.0         4.9          1.8         virginica\n",
              "129 6.4          2.8         5.6          2.1         virginica\n",
              "130 7.2          3.0         5.8          1.6         virginica\n",
              "131 7.4          2.8         6.1          1.9         virginica\n",
              "132 7.9          3.8         6.4          2.0         virginica\n",
              "133 6.4          2.8         5.6          2.2         virginica\n",
              "134 6.3          2.8         5.1          1.5         virginica\n",
              "135 6.1          2.6         5.6          1.4         virginica\n",
              "136 7.7          3.0         6.1          2.3         virginica\n",
              "137 6.3          3.4         5.6          2.4         virginica\n",
              "138 6.4          3.1         5.5          1.8         virginica\n",
              "139 6.0          3.0         4.8          1.8         virginica\n",
              "140 6.9          3.1         5.4          2.1         virginica\n",
              "141 6.7          3.1         5.6          2.4         virginica\n",
              "142 6.9          3.1         5.1          2.3         virginica\n",
              "143 5.8          2.7         5.1          1.9         virginica\n",
              "144 6.8          3.2         5.9          2.3         virginica\n",
              "145 6.7          3.3         5.7          2.5         virginica\n",
              "146 6.7          3.0         5.2          2.3         virginica\n",
              "147 6.3          2.5         5.0          1.9         virginica\n",
              "148 6.5          3.0         5.2          2.0         virginica\n",
              "149 6.2          3.4         5.4          2.3         virginica\n",
              "150 5.9          3.0         5.1          1.8         virginica"
            ]
          },
          "metadata": {}
        }
      ]
    },
    {
      "cell_type": "code",
      "source": [
        "\n",
        "irisDisc <- discretizeDF(iris)\n",
        "head(irisDisc)\n",
        "\n"
      ],
      "metadata": {
        "id": "fdL3A-77eX0g",
        "outputId": "614f14f1-5ee9-4614-9326-01da822f099a",
        "colab": {
          "base_uri": "https://localhost:8080/",
          "height": 286
        }
      },
      "execution_count": 51,
      "outputs": [
        {
          "output_type": "display_data",
          "data": {
            "text/html": [
              "<table class=\"dataframe\">\n",
              "<caption>A data.frame: 6 × 5</caption>\n",
              "<thead>\n",
              "\t<tr><th></th><th scope=col>Sepal.Length</th><th scope=col>Sepal.Width</th><th scope=col>Petal.Length</th><th scope=col>Petal.Width</th><th scope=col>Species</th></tr>\n",
              "\t<tr><th></th><th scope=col>&lt;fct&gt;</th><th scope=col>&lt;fct&gt;</th><th scope=col>&lt;fct&gt;</th><th scope=col>&lt;fct&gt;</th><th scope=col>&lt;fct&gt;</th></tr>\n",
              "</thead>\n",
              "<tbody>\n",
              "\t<tr><th scope=row>1</th><td>[4.3,5.4)</td><td>[3.2,4.4]</td><td>[1,2.63)</td><td>[0.1,0.867)</td><td>setosa</td></tr>\n",
              "\t<tr><th scope=row>2</th><td>[4.3,5.4)</td><td>[2.9,3.2)</td><td>[1,2.63)</td><td>[0.1,0.867)</td><td>setosa</td></tr>\n",
              "\t<tr><th scope=row>3</th><td>[4.3,5.4)</td><td>[3.2,4.4]</td><td>[1,2.63)</td><td>[0.1,0.867)</td><td>setosa</td></tr>\n",
              "\t<tr><th scope=row>4</th><td>[4.3,5.4)</td><td>[2.9,3.2)</td><td>[1,2.63)</td><td>[0.1,0.867)</td><td>setosa</td></tr>\n",
              "\t<tr><th scope=row>5</th><td>[4.3,5.4)</td><td>[3.2,4.4]</td><td>[1,2.63)</td><td>[0.1,0.867)</td><td>setosa</td></tr>\n",
              "\t<tr><th scope=row>6</th><td>[5.4,6.3)</td><td>[3.2,4.4]</td><td>[1,2.63)</td><td>[0.1,0.867)</td><td>setosa</td></tr>\n",
              "</tbody>\n",
              "</table>\n"
            ],
            "text/markdown": "\nA data.frame: 6 × 5\n\n| <!--/--> | Sepal.Length &lt;fct&gt; | Sepal.Width &lt;fct&gt; | Petal.Length &lt;fct&gt; | Petal.Width &lt;fct&gt; | Species &lt;fct&gt; |\n|---|---|---|---|---|---|\n| 1 | [4.3,5.4) | [3.2,4.4] | [1,2.63) | [0.1,0.867) | setosa |\n| 2 | [4.3,5.4) | [2.9,3.2) | [1,2.63) | [0.1,0.867) | setosa |\n| 3 | [4.3,5.4) | [3.2,4.4] | [1,2.63) | [0.1,0.867) | setosa |\n| 4 | [4.3,5.4) | [2.9,3.2) | [1,2.63) | [0.1,0.867) | setosa |\n| 5 | [4.3,5.4) | [3.2,4.4] | [1,2.63) | [0.1,0.867) | setosa |\n| 6 | [5.4,6.3) | [3.2,4.4] | [1,2.63) | [0.1,0.867) | setosa |\n\n",
            "text/latex": "A data.frame: 6 × 5\n\\begin{tabular}{r|lllll}\n  & Sepal.Length & Sepal.Width & Petal.Length & Petal.Width & Species\\\\\n  & <fct> & <fct> & <fct> & <fct> & <fct>\\\\\n\\hline\n\t1 & {[}4.3,5.4) & {[}3.2,4.4{]} & {[}1,2.63) & {[}0.1,0.867) & setosa\\\\\n\t2 & {[}4.3,5.4) & {[}2.9,3.2) & {[}1,2.63) & {[}0.1,0.867) & setosa\\\\\n\t3 & {[}4.3,5.4) & {[}3.2,4.4{]} & {[}1,2.63) & {[}0.1,0.867) & setosa\\\\\n\t4 & {[}4.3,5.4) & {[}2.9,3.2) & {[}1,2.63) & {[}0.1,0.867) & setosa\\\\\n\t5 & {[}4.3,5.4) & {[}3.2,4.4{]} & {[}1,2.63) & {[}0.1,0.867) & setosa\\\\\n\t6 & {[}5.4,6.3) & {[}3.2,4.4{]} & {[}1,2.63) & {[}0.1,0.867) & setosa\\\\\n\\end{tabular}\n",
            "text/plain": [
              "  Sepal.Length Sepal.Width Petal.Length Petal.Width Species\n",
              "1 [4.3,5.4)    [3.2,4.4]   [1,2.63)     [0.1,0.867) setosa \n",
              "2 [4.3,5.4)    [2.9,3.2)   [1,2.63)     [0.1,0.867) setosa \n",
              "3 [4.3,5.4)    [3.2,4.4]   [1,2.63)     [0.1,0.867) setosa \n",
              "4 [4.3,5.4)    [2.9,3.2)   [1,2.63)     [0.1,0.867) setosa \n",
              "5 [4.3,5.4)    [3.2,4.4]   [1,2.63)     [0.1,0.867) setosa \n",
              "6 [5.4,6.3)    [3.2,4.4]   [1,2.63)     [0.1,0.867) setosa "
            ]
          },
          "metadata": {}
        }
      ]
    },
    {
      "cell_type": "code",
      "source": [
        "trans5 <- transactions(irisDisc)\n",
        "trans5\n",
        "inspect(head(trans5))"
      ],
      "metadata": {
        "id": "6k3vD5UJeuBY",
        "outputId": "2aec25b0-1063-41e6-c5f8-87a88452c5c7",
        "colab": {
          "base_uri": "https://localhost:8080/",
          "height": 607
        }
      },
      "execution_count": 52,
      "outputs": [
        {
          "output_type": "display_data",
          "data": {
            "text/plain": [
              "transactions in sparse format with\n",
              " 150 transactions (rows) and\n",
              " 15 items (columns)"
            ]
          },
          "metadata": {}
        },
        {
          "output_type": "stream",
          "name": "stdout",
          "text": [
            "    items                      transactionID\n",
            "[1] {Sepal.Length=[4.3,5.4),                \n",
            "     Sepal.Width=[3.2,4.4],                 \n",
            "     Petal.Length=[1,2.63),                 \n",
            "     Petal.Width=[0.1,0.867),               \n",
            "     Species=setosa}                       1\n",
            "[2] {Sepal.Length=[4.3,5.4),                \n",
            "     Sepal.Width=[2.9,3.2),                 \n",
            "     Petal.Length=[1,2.63),                 \n",
            "     Petal.Width=[0.1,0.867),               \n",
            "     Species=setosa}                       2\n",
            "[3] {Sepal.Length=[4.3,5.4),                \n",
            "     Sepal.Width=[3.2,4.4],                 \n",
            "     Petal.Length=[1,2.63),                 \n",
            "     Petal.Width=[0.1,0.867),               \n",
            "     Species=setosa}                       3\n",
            "[4] {Sepal.Length=[4.3,5.4),                \n",
            "     Sepal.Width=[2.9,3.2),                 \n",
            "     Petal.Length=[1,2.63),                 \n",
            "     Petal.Width=[0.1,0.867),               \n",
            "     Species=setosa}                       4\n",
            "[5] {Sepal.Length=[4.3,5.4),                \n",
            "     Sepal.Width=[3.2,4.4],                 \n",
            "     Petal.Length=[1,2.63),                 \n",
            "     Petal.Width=[0.1,0.867),               \n",
            "     Species=setosa}                       5\n",
            "[6] {Sepal.Length=[5.4,6.3),                \n",
            "     Sepal.Width=[3.2,4.4],                 \n",
            "     Petal.Length=[1,2.63),                 \n",
            "     Petal.Width=[0.1,0.867),               \n",
            "     Species=setosa}                       6\n"
          ]
        }
      ]
    }
  ]
}