{
  "nbformat": 4,
  "nbformat_minor": 0,
  "metadata": {
    "colab": {
      "provenance": [],
      "include_colab_link": true
    },
    "kernelspec": {
      "name": "ir",
      "display_name": "R"
    }
  },
  "cells": [
    {
      "cell_type": "markdown",
      "metadata": {
        "id": "view-in-github",
        "colab_type": "text"
      },
      "source": [
        "<a href=\"https://colab.research.google.com/github/majorquev/DBDC_202406_Programacion_en_R_para_ciencia_de_datos/blob/main/Clases/C7/Clase7_2_Distribuciones_de_probabilidad_en_r.ipynb\" target=\"_parent\"><img src=\"https://colab.research.google.com/assets/colab-badge.svg\" alt=\"Open In Colab\"/></a>"
      ]
    },
    {
      "cell_type": "markdown",
      "metadata": {
        "collapsed": true,
        "id": "OejoCTBMIzQV"
      },
      "source": [
        "# Parte 6: Distribuciones de probabilidad\n",
        "\n",
        "**Autor:** Miguel Jorquera Viguera.<br>\n",
        "**E-mail:** majorquev@gmail.com<br>\n",
        "**Ayudante:** Rodrigo Morales<br>\n",
        "**E-mail ayudante:** rumorale1@gmail.com\n",
        "\n",
        "En R podemos obtener valores tanto de las funciones de densidad, distribución de probabilidad, cuantiles de una distribución o bien generar valores aleatorios de diversas distribuciones paramétricas.\n",
        "Casi todas las distribuciones que se encuentran implementadas en la librería base de R se referencian de la misma manera.\n",
        "\n",
        "* Funciones de densidad (PDFs) comienzan con la letra “d.”\n",
        "* Funciones de distribución acumulada comienzan con la letra “p.”\n",
        "* Funcioenes que retornan quantiles de una distribución comienzan con la letra “q.”\n",
        "* Funciones que generan valores aleatorios comienzan con la letra“r.”\n",
        "\n",
        "Por defecto, en R contamos con una amplia variedad familias de distribuciones enre las que destacan las siguientes.\n",
        "\n",
        "\n",
        "\n",
        "**Distribution**| **R name**| **additional arguments**\n",
        "-----| -----| -----\n",
        "beta |`beta` |shape1, shape2, ncp\n",
        "binomial| `binom`| size, prob\n",
        "Cauchy|`cauchy` |location, scale\n",
        "chi-squared| `chisq`| df, ncp\n",
        "exponential| `exp` |rate\n",
        "F| `f` |df1, df2, ncp\n",
        "gamma |`gamma` |shape, scale\n",
        "geometric |`geom` |prob\n",
        "hypergeometric| `hyper`| m, n, k\n",
        "log-normal| `lnorm` |meanlog, sdlog\n",
        "logistic |`logis` |location, scale\n",
        "negative| `binomial`| nbinom size, prob\n",
        "normal |`norm` |mean, sd\n",
        "Poisson| `pois`| lambda\n",
        "signed rank |`signrank`| n\n",
        "Student’s t| `t`| df, ncp\n",
        "uniform |`unif`| min, max\n",
        "Weibull| `weibull`| shape, scale\n",
        "Wilcoxon |`wilcox`|m, n\n",
        "\n",
        "\n"
      ]
    },
    {
      "cell_type": "markdown",
      "metadata": {
        "id": "-PTP0v_EIzQV"
      },
      "source": [
        "# I) Distribución normal\n",
        "\n",
        "## Función de densidad\n",
        "$$f(x) = \\frac{1}{\\sqrt{2 π \\sigma^2}} e^{-\\frac{1}{2\\sigma^2}(x - \\mu)^2}$$\n",
        "\n",
        "## En R...\n",
        "\n",
        "* `dnorm(x, mean = 0, sd = 1, log = FALSE)`: Evalúa la función de densidad.\n",
        "* `pnorm(q, mean = 0, sd = 1, lower.tail = TRUE, log.p = FALSE)`: Calcula la probabilidad acumulada (función de distribución).\n",
        "* `qnorm(p, mean = 0, sd = 1, lower.tail = TRUE, log.p = FALSE)`: Calcula los quantiles de la distribución. (Función inversa de la función de distribución de probabilidad).\n",
        "* `rnorm(n, mean = 0, sd = 1)`: Genera muestras aleatroias.\n",
        "\n",
        "\n",
        "\n",
        "\n",
        "**P1.** Se sabe que la estatura de la población adulta de sexo masculino chilena sigue una distribución normal con media 171,8 cms y una desviación estándar de 5cms\n",
        "\n",
        "**a)** ¿Cuál es la probabilidad de encontrar de que una persona hombre  adulta tenga una estatura\n",
        "menor o igual a 160 cms?"
      ]
    },
    {
      "cell_type": "code",
      "metadata": {
        "trusted": true,
        "id": "ToHwVVRJIzQV",
        "outputId": "cb44d7de-d8a9-4c65-e51e-0b1c0f7e743e",
        "colab": {
          "base_uri": "https://localhost:8080/",
          "height": 34
        }
      },
      "source": [
        "# pnorm()\n",
        "# Si X distribuye normal con mu = 171.8 y sd = 5\n",
        "# P(X <= 160)\n",
        "pnorm(160, mean = 171.8, sd = 5 )\n",
        "# La prob de que una persona de gènero masculino Chilena tenga una estatura menor o igual a 160 es de 0.9%.\n",
        "# Se espera que de cada 100 personas (de género masculino...) approx. 1 de ellas mida 160 cms o menos.\n"
      ],
      "execution_count": 1,
      "outputs": [
        {
          "output_type": "display_data",
          "data": {
            "text/html": [
              "0.00913746753057262"
            ],
            "text/markdown": "0.00913746753057262",
            "text/latex": "0.00913746753057262",
            "text/plain": [
              "[1] 0.009137468"
            ]
          },
          "metadata": {}
        }
      ]
    },
    {
      "cell_type": "code",
      "metadata": {
        "trusted": true,
        "id": "aurFMEakIzQW"
      },
      "source": [],
      "execution_count": null,
      "outputs": []
    },
    {
      "cell_type": "markdown",
      "metadata": {
        "id": "h-zASRnGIzQW"
      },
      "source": [
        "  \n",
        "**b)** ¿Cuál es la probabilidad de encontrar de que una persona adulta tenga una estatura mayor  a 160 cms?\n",
        "  "
      ]
    },
    {
      "cell_type": "code",
      "metadata": {
        "trusted": true,
        "id": "jQ8cahkIIzQW",
        "outputId": "df008d21-d3b3-4e6c-b567-08d824ad714f",
        "colab": {
          "base_uri": "https://localhost:8080/",
          "height": 52
        }
      },
      "source": [
        "#P(estatura > 160) = 1- P(estatura <= 160)\n",
        "\n",
        "1-pnorm(160, mean = 171.8, sd = 5 ) # Hay un 99% de probabilidad de encontrar.....\n",
        "pnorm(160, mean = 171.8, sd = 5 , lower.tail = F)"
      ],
      "execution_count": 3,
      "outputs": [
        {
          "output_type": "display_data",
          "data": {
            "text/html": [
              "0.990862532469427"
            ],
            "text/markdown": "0.990862532469427",
            "text/latex": "0.990862532469427",
            "text/plain": [
              "[1] 0.9908625"
            ]
          },
          "metadata": {}
        },
        {
          "output_type": "display_data",
          "data": {
            "text/html": [
              "0.990862532469427"
            ],
            "text/markdown": "0.990862532469427",
            "text/latex": "0.990862532469427",
            "text/plain": [
              "[1] 0.9908625"
            ]
          },
          "metadata": {}
        }
      ]
    },
    {
      "cell_type": "markdown",
      "metadata": {
        "id": "RW1a4CYOIzQW"
      },
      "source": [
        "**c)** ¿Cuál es la probabilidad de encontrar una persona con estatura entre 180cms y 190 cms?"
      ]
    },
    {
      "cell_type": "code",
      "metadata": {
        "trusted": true,
        "id": "OvapQgJnIzQW",
        "outputId": "2d04cd24-171c-40a9-9295-9772f99930bc",
        "colab": {
          "base_uri": "https://localhost:8080/",
          "height": 34
        }
      },
      "source": [
        "pnorm(190, mean = 171.8, sd = 5 ) - pnorm(180, mean = 171.8, sd = 5 )\n",
        "# Hay un 5% de probabilidad de ....\n",
        "# Se espera que de cada 100 hombbres Chilenos adultos, 5 de ellos tengan estatura entre 180 y 190."
      ],
      "execution_count": 4,
      "outputs": [
        {
          "output_type": "display_data",
          "data": {
            "text/html": [
              "0.0503662644536582"
            ],
            "text/markdown": "0.0503662644536582",
            "text/latex": "0.0503662644536582",
            "text/plain": [
              "[1] 0.05036626"
            ]
          },
          "metadata": {}
        }
      ]
    },
    {
      "cell_type": "markdown",
      "metadata": {
        "id": "wKeJk1S1IzQX"
      },
      "source": [
        "**d)** ¿Cuál es la estatura que corresponde al percentil 90?"
      ]
    },
    {
      "cell_type": "code",
      "metadata": {
        "trusted": true,
        "id": "uH4r-tSjIzQX",
        "outputId": "6cd9b82b-ad95-4158-9c94-3934a684a5ee",
        "colab": {
          "base_uri": "https://localhost:8080/",
          "height": 52
        }
      },
      "source": [
        "# Cual es la estatura que acumula el 90 % de probabilidad\n",
        "qnorm(0.9, mean = 171.8, sd = 5)\n",
        "# El 90% de la población (personas....) se espera qe tenga una estatura menor o igual a 178.2 cms\n",
        "qnorm(0.1, mean = 171.8, sd = 5, lower.tail = F)#  Si acumulamos las probs. desde la derecha."
      ],
      "execution_count": 6,
      "outputs": [
        {
          "output_type": "display_data",
          "data": {
            "text/html": [
              "178.207757827723"
            ],
            "text/markdown": "178.207757827723",
            "text/latex": "178.207757827723",
            "text/plain": [
              "[1] 178.2078"
            ]
          },
          "metadata": {}
        },
        {
          "output_type": "display_data",
          "data": {
            "text/html": [
              "178.207757827723"
            ],
            "text/markdown": "178.207757827723",
            "text/latex": "178.207757827723",
            "text/plain": [
              "[1] 178.2078"
            ]
          },
          "metadata": {}
        }
      ]
    },
    {
      "cell_type": "markdown",
      "metadata": {
        "id": "8BETYF90IzQX"
      },
      "source": [
        "**d)**  Genere una muestra aleatoria de tamaño 1000 y guárdela en un vector llamado _estaturas_, provenientes de una distribución normal con media 171,8 y desviación estandar igual a 5."
      ]
    },
    {
      "cell_type": "code",
      "metadata": {
        "trusted": true,
        "id": "_jaKERD8IzQX"
      },
      "source": [
        "# estaturas\n",
        "set.seed(2020) #semilla\n",
        "estaturas <- rnorm(n=1000, mean = 171.8, sd = 5)\n"
      ],
      "execution_count": 13,
      "outputs": []
    },
    {
      "cell_type": "code",
      "source": [
        "head(estaturas,100)"
      ],
      "metadata": {
        "id": "F6uQTkDdGM0S",
        "outputId": "65e0fa49-7ba0-4b9f-bf3c-3c08e7ecf4bd",
        "colab": {
          "base_uri": "https://localhost:8080/",
          "height": 191
        }
      },
      "execution_count": 15,
      "outputs": [
        {
          "output_type": "display_data",
          "data": {
            "text/html": [
              "<style>\n",
              ".list-inline {list-style: none; margin:0; padding: 0}\n",
              ".list-inline>li {display: inline-block}\n",
              ".list-inline>li:not(:last-child)::after {content: \"\\00b7\"; padding: 0 .5ex}\n",
              "</style>\n",
              "<ol class=list-inline><li>173.684860624682</li><li>173.307741869678</li><li>166.309884146732</li><li>166.147970481981</li><li>157.817328400641</li><li>175.402867492058</li><li>176.495605115045</li><li>170.653111266463</li><li>180.595656734817</li><li>172.386833934014</li><li>167.534385888565</li><li>176.346295908091</li><li>177.781864797764</li><li>169.942080481293</li><li>171.183698833563</li><li>180.800215583627</li><li>180.319979386472</li><li>156.606176973512</li><li>160.355125250406</li><li>172.091517474965</li><li>182.671826259782</li><li>177.290913267607</li><li>173.391101611954</li><li>171.434262209181</li><li>175.971343706394</li><li>172.793753183667</li><li>178.289206921632</li><li>176.483591531207</li><li>171.062834030834</li><li>172.352159973201</li><li>167.737476680497</li><li>168.081489161156</li><li>177.276725359037</li><li>183.976868537755</li><li>173.740592333835</li><li>173.253138351476</li><li>170.37200856458</li><li>172.180073589187</li><li>168.998506981202</li><li>174.035941860717</li><li>176.3425056725</li><li>169.274702011458</li><li>170.294979939213</li><li>168.169820117259</li><li>165.899614865025</li><li>173.065373563186</li><li>169.94644351558</li><li>171.910897818801</li><li>175.100220612149</li><li>174.243968176678</li><li>170.856050417324</li><li>174.806797605397</li><li>168.431199736008</li><li>174.180251202948</li><li>172.393766138007</li><li>172.406131414486</li><li>170.869766028308</li><li>165.158644056865</li><li>168.965385245566</li><li>174.694169664577</li><li>181.345186157092</li><li>173.053785213361</li><li>163.808424707455</li><li>187.808158735667</li><li>176.576176877321</li><li>173.643223080211</li><li>176.414595337518</li><li>170.772393271448</li><li>172.264833502736</li><li>172.641310901166</li><li>175.779195626439</li><li>180.030028036055</li><li>163.215378418249</li><li>170.208284470279</li><li>167.279300140065</li><li>168.280036016661</li><li>162.909502690804</li><li>168.188724186875</li><li>172.030771047769</li><li>173.018290103438</li><li>174.941656528911</li><li>171.676807088602</li><li>183.370766545392</li><li>172.686051286301</li><li>166.677926166266</li><li>183.173406506335</li><li>162.354716675401</li><li>177.269758005153</li><li>181.03083513661</li><li>174.4051633676</li><li>164.13518946177</li><li>162.103175153608</li><li>174.234582690524</li><li>178.026183453291</li><li>170.713632868326</li><li>167.902034427494</li><li>173.544372498537</li><li>175.208621250079</li><li>169.142693063092</li><li>168.413032892633</li></ol>\n"
            ],
            "text/markdown": "1. 173.684860624682\n2. 173.307741869678\n3. 166.309884146732\n4. 166.147970481981\n5. 157.817328400641\n6. 175.402867492058\n7. 176.495605115045\n8. 170.653111266463\n9. 180.595656734817\n10. 172.386833934014\n11. 167.534385888565\n12. 176.346295908091\n13. 177.781864797764\n14. 169.942080481293\n15. 171.183698833563\n16. 180.800215583627\n17. 180.319979386472\n18. 156.606176973512\n19. 160.355125250406\n20. 172.091517474965\n21. 182.671826259782\n22. 177.290913267607\n23. 173.391101611954\n24. 171.434262209181\n25. 175.971343706394\n26. 172.793753183667\n27. 178.289206921632\n28. 176.483591531207\n29. 171.062834030834\n30. 172.352159973201\n31. 167.737476680497\n32. 168.081489161156\n33. 177.276725359037\n34. 183.976868537755\n35. 173.740592333835\n36. 173.253138351476\n37. 170.37200856458\n38. 172.180073589187\n39. 168.998506981202\n40. 174.035941860717\n41. 176.3425056725\n42. 169.274702011458\n43. 170.294979939213\n44. 168.169820117259\n45. 165.899614865025\n46. 173.065373563186\n47. 169.94644351558\n48. 171.910897818801\n49. 175.100220612149\n50. 174.243968176678\n51. 170.856050417324\n52. 174.806797605397\n53. 168.431199736008\n54. 174.180251202948\n55. 172.393766138007\n56. 172.406131414486\n57. 170.869766028308\n58. 165.158644056865\n59. 168.965385245566\n60. 174.694169664577\n61. 181.345186157092\n62. 173.053785213361\n63. 163.808424707455\n64. 187.808158735667\n65. 176.576176877321\n66. 173.643223080211\n67. 176.414595337518\n68. 170.772393271448\n69. 172.264833502736\n70. 172.641310901166\n71. 175.779195626439\n72. 180.030028036055\n73. 163.215378418249\n74. 170.208284470279\n75. 167.279300140065\n76. 168.280036016661\n77. 162.909502690804\n78. 168.188724186875\n79. 172.030771047769\n80. 173.018290103438\n81. 174.941656528911\n82. 171.676807088602\n83. 183.370766545392\n84. 172.686051286301\n85. 166.677926166266\n86. 183.173406506335\n87. 162.354716675401\n88. 177.269758005153\n89. 181.03083513661\n90. 174.4051633676\n91. 164.13518946177\n92. 162.103175153608\n93. 174.234582690524\n94. 178.026183453291\n95. 170.713632868326\n96. 167.902034427494\n97. 173.544372498537\n98. 175.208621250079\n99. 169.142693063092\n100. 168.413032892633\n\n\n",
            "text/latex": "\\begin{enumerate*}\n\\item 173.684860624682\n\\item 173.307741869678\n\\item 166.309884146732\n\\item 166.147970481981\n\\item 157.817328400641\n\\item 175.402867492058\n\\item 176.495605115045\n\\item 170.653111266463\n\\item 180.595656734817\n\\item 172.386833934014\n\\item 167.534385888565\n\\item 176.346295908091\n\\item 177.781864797764\n\\item 169.942080481293\n\\item 171.183698833563\n\\item 180.800215583627\n\\item 180.319979386472\n\\item 156.606176973512\n\\item 160.355125250406\n\\item 172.091517474965\n\\item 182.671826259782\n\\item 177.290913267607\n\\item 173.391101611954\n\\item 171.434262209181\n\\item 175.971343706394\n\\item 172.793753183667\n\\item 178.289206921632\n\\item 176.483591531207\n\\item 171.062834030834\n\\item 172.352159973201\n\\item 167.737476680497\n\\item 168.081489161156\n\\item 177.276725359037\n\\item 183.976868537755\n\\item 173.740592333835\n\\item 173.253138351476\n\\item 170.37200856458\n\\item 172.180073589187\n\\item 168.998506981202\n\\item 174.035941860717\n\\item 176.3425056725\n\\item 169.274702011458\n\\item 170.294979939213\n\\item 168.169820117259\n\\item 165.899614865025\n\\item 173.065373563186\n\\item 169.94644351558\n\\item 171.910897818801\n\\item 175.100220612149\n\\item 174.243968176678\n\\item 170.856050417324\n\\item 174.806797605397\n\\item 168.431199736008\n\\item 174.180251202948\n\\item 172.393766138007\n\\item 172.406131414486\n\\item 170.869766028308\n\\item 165.158644056865\n\\item 168.965385245566\n\\item 174.694169664577\n\\item 181.345186157092\n\\item 173.053785213361\n\\item 163.808424707455\n\\item 187.808158735667\n\\item 176.576176877321\n\\item 173.643223080211\n\\item 176.414595337518\n\\item 170.772393271448\n\\item 172.264833502736\n\\item 172.641310901166\n\\item 175.779195626439\n\\item 180.030028036055\n\\item 163.215378418249\n\\item 170.208284470279\n\\item 167.279300140065\n\\item 168.280036016661\n\\item 162.909502690804\n\\item 168.188724186875\n\\item 172.030771047769\n\\item 173.018290103438\n\\item 174.941656528911\n\\item 171.676807088602\n\\item 183.370766545392\n\\item 172.686051286301\n\\item 166.677926166266\n\\item 183.173406506335\n\\item 162.354716675401\n\\item 177.269758005153\n\\item 181.03083513661\n\\item 174.4051633676\n\\item 164.13518946177\n\\item 162.103175153608\n\\item 174.234582690524\n\\item 178.026183453291\n\\item 170.713632868326\n\\item 167.902034427494\n\\item 173.544372498537\n\\item 175.208621250079\n\\item 169.142693063092\n\\item 168.413032892633\n\\end{enumerate*}\n",
            "text/plain": [
              "  [1] 173.6849 173.3077 166.3099 166.1480 157.8173 175.4029 176.4956 170.6531\n",
              "  [9] 180.5957 172.3868 167.5344 176.3463 177.7819 169.9421 171.1837 180.8002\n",
              " [17] 180.3200 156.6062 160.3551 172.0915 182.6718 177.2909 173.3911 171.4343\n",
              " [25] 175.9713 172.7938 178.2892 176.4836 171.0628 172.3522 167.7375 168.0815\n",
              " [33] 177.2767 183.9769 173.7406 173.2531 170.3720 172.1801 168.9985 174.0359\n",
              " [41] 176.3425 169.2747 170.2950 168.1698 165.8996 173.0654 169.9464 171.9109\n",
              " [49] 175.1002 174.2440 170.8561 174.8068 168.4312 174.1803 172.3938 172.4061\n",
              " [57] 170.8698 165.1586 168.9654 174.6942 181.3452 173.0538 163.8084 187.8082\n",
              " [65] 176.5762 173.6432 176.4146 170.7724 172.2648 172.6413 175.7792 180.0300\n",
              " [73] 163.2154 170.2083 167.2793 168.2800 162.9095 168.1887 172.0308 173.0183\n",
              " [81] 174.9417 171.6768 183.3708 172.6861 166.6779 183.1734 162.3547 177.2698\n",
              " [89] 181.0308 174.4052 164.1352 162.1032 174.2346 178.0262 170.7136 167.9020\n",
              " [97] 173.5444 175.2086 169.1427 168.4130"
            ]
          },
          "metadata": {}
        }
      ]
    },
    {
      "cell_type": "code",
      "source": [
        "summary(estaturas)"
      ],
      "metadata": {
        "id": "1UkMjzTtGRj5",
        "outputId": "ead57f36-7e48-4e78-d38a-38472a049a60",
        "colab": {
          "base_uri": "https://localhost:8080/",
          "height": 52
        }
      },
      "execution_count": 16,
      "outputs": [
        {
          "output_type": "display_data",
          "data": {
            "text/plain": [
              "   Min. 1st Qu.  Median    Mean 3rd Qu.    Max. \n",
              "  156.0   168.2   171.5   171.7   175.0   190.3 "
            ]
          },
          "metadata": {}
        }
      ]
    },
    {
      "cell_type": "code",
      "source": [
        "mean(estaturas)\n",
        "sd(estaturas)"
      ],
      "metadata": {
        "id": "yALr5juGGefG",
        "outputId": "db3d3a4b-8e6b-4862-e17d-2b73acb57411",
        "colab": {
          "base_uri": "https://localhost:8080/",
          "height": 52
        }
      },
      "execution_count": 17,
      "outputs": [
        {
          "output_type": "display_data",
          "data": {
            "text/html": [
              "171.666610452822"
            ],
            "text/markdown": "171.666610452822",
            "text/latex": "171.666610452822",
            "text/plain": [
              "[1] 171.6666"
            ]
          },
          "metadata": {}
        },
        {
          "output_type": "display_data",
          "data": {
            "text/html": [
              "5.18482653310033"
            ],
            "text/markdown": "5.18482653310033",
            "text/latex": "5.18482653310033",
            "text/plain": [
              "[1] 5.184827"
            ]
          },
          "metadata": {}
        }
      ]
    },
    {
      "cell_type": "code",
      "source": [],
      "metadata": {
        "id": "VRBj9ce-GxRD"
      },
      "execution_count": null,
      "outputs": []
    },
    {
      "cell_type": "markdown",
      "metadata": {
        "id": "xcbBK1N0IzQX"
      },
      "source": [
        "**e)** Mediante la función _hist()_ y la función _curve()_  genere un histograma de la muestra creada y añada la curva de distribución normal con la media y desviación estandar reales."
      ]
    },
    {
      "cell_type": "code",
      "metadata": {
        "trusted": true,
        "id": "2iZisxlHIzQX",
        "outputId": "b02f0acf-adac-42b9-daff-3ddbbf854453",
        "colab": {
          "base_uri": "https://localhost:8080/",
          "height": 437
        }
      },
      "source": [
        "## NOTA\n",
        "hist(estaturas, freq = F, breaks = 20)\n",
        "curve(dnorm(x, mean = 171.8, sd = 5), add = T, col = \"red\")# Densidad con parámetros reales\n",
        "curve(dnorm(x, mean = mean(estaturas), sd = sd(estaturas)), add = T, col = \"blue\") # Densidad con parámetros estimados"
      ],
      "execution_count": 21,
      "outputs": [
        {
          "output_type": "display_data",
          "data": {
            "text/plain": [
              "Plot with title “Histogram of estaturas”"
            ],
            "image/png": "[encoded data removed]"
          },
          "metadata": {
            "image/png": {
              "width": 420,
              "height": 420
            }
          }
        }
      ]
    },
    {
      "cell_type": "code",
      "metadata": {
        "trusted": true,
        "id": "EDPAiGwpIzQX",
        "outputId": "334dae81-7610-4126-f35e-3e3c2397d374",
        "colab": {
          "base_uri": "https://localhost:8080/"
        }
      },
      "source": [
        "library(ggplot2)\n",
        "library(dplyr)"
      ],
      "execution_count": 25,
      "outputs": [
        {
          "output_type": "stream",
          "name": "stderr",
          "text": [
            "\n",
            "Attaching package: ‘dplyr’\n",
            "\n",
            "\n",
            "The following objects are masked from ‘package:stats’:\n",
            "\n",
            "    filter, lag\n",
            "\n",
            "\n",
            "The following objects are masked from ‘package:base’:\n",
            "\n",
            "    intersect, setdiff, setequal, union\n",
            "\n",
            "\n"
          ]
        }
      ]
    },
    {
      "cell_type": "code",
      "metadata": {
        "trusted": true,
        "id": "lAB7nivUIzQX",
        "outputId": "76ec00c7-3792-416a-d780-e02f142d838f",
        "colab": {
          "base_uri": "https://localhost:8080/",
          "height": 303
        }
      },
      "source": [
        "# Notar que en un histograma podemos visualizar los conteos o las frecuencias relativas.\n",
        "df <- data.frame(est = estaturas)\n",
        "head(df)\n"
      ],
      "execution_count": 24,
      "outputs": [
        {
          "output_type": "display_data",
          "data": {
            "text/html": [
              "<table class=\"dataframe\">\n",
              "<caption>A data.frame: 6 × 1</caption>\n",
              "<thead>\n",
              "\t<tr><th></th><th scope=col>est</th></tr>\n",
              "\t<tr><th></th><th scope=col>&lt;dbl&gt;</th></tr>\n",
              "</thead>\n",
              "<tbody>\n",
              "\t<tr><th scope=row>1</th><td>173.6849</td></tr>\n",
              "\t<tr><th scope=row>2</th><td>173.3077</td></tr>\n",
              "\t<tr><th scope=row>3</th><td>166.3099</td></tr>\n",
              "\t<tr><th scope=row>4</th><td>166.1480</td></tr>\n",
              "\t<tr><th scope=row>5</th><td>157.8173</td></tr>\n",
              "\t<tr><th scope=row>6</th><td>175.4029</td></tr>\n",
              "</tbody>\n",
              "</table>\n"
            ],
            "text/markdown": "\nA data.frame: 6 × 1\n\n| <!--/--> | est &lt;dbl&gt; |\n|---|---|\n| 1 | 173.6849 |\n| 2 | 173.3077 |\n| 3 | 166.3099 |\n| 4 | 166.1480 |\n| 5 | 157.8173 |\n| 6 | 175.4029 |\n\n",
            "text/latex": "A data.frame: 6 × 1\n\\begin{tabular}{r|l}\n  & est\\\\\n  & <dbl>\\\\\n\\hline\n\t1 & 173.6849\\\\\n\t2 & 173.3077\\\\\n\t3 & 166.3099\\\\\n\t4 & 166.1480\\\\\n\t5 & 157.8173\\\\\n\t6 & 175.4029\\\\\n\\end{tabular}\n",
            "text/plain": [
              "  est     \n",
              "1 173.6849\n",
              "2 173.3077\n",
              "3 166.3099\n",
              "4 166.1480\n",
              "5 157.8173\n",
              "6 175.4029"
            ]
          },
          "metadata": {}
        }
      ]
    },
    {
      "cell_type": "code",
      "source": [
        "df %>%\n",
        "  ggplot() +\n",
        "  aes(x = est) +\n",
        "  geom_histogram(\n",
        "    bins = 20,\n",
        "    fill = \"white\",\n",
        "    color = \"black\",\n",
        "    mapping = aes(y = after_stat(density))\n",
        "  ) +\n",
        "  stat_function(# densidad con parámetros reales (la roja del caso anterior)\n",
        "    fun = dnorm,\n",
        "    args = list(mean = 171.8, sd = 5),\n",
        "    col = \"red\"\n",
        "  ) +\n",
        "  stat_function(# densidad con parámetros estimados (la azul del caso anterior)\n",
        "    fun = dnorm,\n",
        "    args = list(mean = mean(df$est), sd = sd(df$est)),\n",
        "    col = \"blue\"\n",
        "  )"
      ],
      "metadata": {
        "id": "QwWcljZuKIxZ",
        "outputId": "e3566124-9b92-49d8-9edc-529f70147dc6",
        "colab": {
          "base_uri": "https://localhost:8080/",
          "height": 437
        }
      },
      "execution_count": 33,
      "outputs": [
        {
          "output_type": "display_data",
          "data": {
            "text/plain": [
              "plot without title"
            ],
            "image/png": "[encoded data removed]"
          },
          "metadata": {
            "image/png": {
              "width": 420,
              "height": 420
            }
          }
        }
      ]
    },
    {
      "cell_type": "markdown",
      "metadata": {
        "id": "fMwNisC-IzQX"
      },
      "source": [
        "# II)Distribucion binomial\n",
        "## Contexto\n",
        "Cuando una variable aleatoria representa la cantidad de éxitos en $n$ ensayos independientes de tipo Bernoulli (0 o 1), se dice que dicha variable sigue una distribución binomial.\n",
        "\n",
        "## Función de probabilidad\n",
        "\n",
        "\n",
        "$$p(x) = {n\\choose x}p^x(1-p)^{n-x}$$\n",
        "Donde $n$ es el total de ensayos realizados y $x$ es la cantidad de éxitos observados y $p$ es la probabilidad de éxito del evento de interés.\n",
        "\n",
        "## En R...\n",
        "\n",
        "* `dbinom(x, size, prob, log = FALSE)`: Evalúa la función de masa. En el caso discreto corresponde a la probabilidad del evento.\n",
        "* `pbinom(q, size, prob, lower.tail = TRUE, log.p = FALSE)`: Calcula la probabilidad acumulada.\n",
        "* `qbinom(p, size, prob, lower.tail = TRUE, log.p = FALSE)`: Retorna cuantiles de la distribución.\n",
        "* `rbinom(n, size, prob)`: Genera muestras aleatorias.\n",
        "\n"
      ]
    },
    {
      "cell_type": "markdown",
      "source": [],
      "metadata": {
        "id": "lNbJ0vZ0TIU5"
      }
    },
    {
      "cell_type": "code",
      "source": [
        "# Experimento: Lanzar una moneda 5 veces y registrar el total caras\n",
        "# X: \"total de caras obtenidas\" -> {0,1,2,3,4,5}\n",
        "# ¿Prob de obtener exactamente 3 caras?\n",
        "dbinom(3,size = 5, prob = 0.5)# 31% de prob de obtener exactamente 3 caras.\n",
        "\n",
        "choose(5,3)*(0.5^3)*(1-0.5)^(5-3)\n"
      ],
      "metadata": {
        "id": "q1GS4nbKTFHb",
        "outputId": "20f92ec8-3918-4f17-b7aa-5e35ce3d84f6",
        "colab": {
          "base_uri": "https://localhost:8080/",
          "height": 52
        }
      },
      "execution_count": 36,
      "outputs": [
        {
          "output_type": "display_data",
          "data": {
            "text/html": [
              "0.3125"
            ],
            "text/markdown": "0.3125",
            "text/latex": "0.3125",
            "text/plain": [
              "[1] 0.3125"
            ]
          },
          "metadata": {}
        },
        {
          "output_type": "display_data",
          "data": {
            "text/html": [
              "0.3125"
            ],
            "text/markdown": "0.3125",
            "text/latex": "0.3125",
            "text/plain": [
              "[1] 0.3125"
            ]
          },
          "metadata": {}
        }
      ]
    },
    {
      "cell_type": "markdown",
      "source": [
        "**P2.** Suponga que un spot publicitario de un artículo tiene una tasa de efectividad de 20% sobre una determinada población.\n",
        "\n",
        "**a)** Suponga que se logra llegar con el spot a 100 personas. ¿Cuál es la probabilidad de que\n",
        " exactamente 30  personas compren el artículo ofrecido?"
      ],
      "metadata": {
        "id": "o4bPhocQTJR8"
      }
    },
    {
      "cell_type": "code",
      "metadata": {
        "trusted": true,
        "id": "MOm-FppMIzQX",
        "outputId": "85dc51cf-fd54-4353-fc78-10cb02b4aa81",
        "colab": {
          "base_uri": "https://localhost:8080/",
          "height": 34
        }
      },
      "source": [
        "# Identifiquemos algunos elementos como\n",
        "# Experimento : Hacer llegar el spot a las 100 personas y registrar el número de clientes que efectivamente compraron el artículo.\n",
        "# Variable aleatoria : X: \"el número de clientes (de los 100) que compraron el artículo\"\n",
        "# Espacio muestral : {0,1,2,...,100}\n",
        "#-------parámetros de pbinom ---------\n",
        "#size (n): 100\n",
        "#prob (p): 0.2\n",
        "\n",
        "# P(X = 30 | n = 100, p = 0.2)\n",
        "dbinom(x = 30, size = 100, p = 0.2)# 0.5% de prob exactamente 30 compren.\n",
        "\n"
      ],
      "execution_count": 37,
      "outputs": [
        {
          "output_type": "display_data",
          "data": {
            "text/html": [
              "0.00518964323994865"
            ],
            "text/markdown": "0.00518964323994865",
            "text/latex": "0.00518964323994865",
            "text/plain": [
              "[1] 0.005189643"
            ]
          },
          "metadata": {}
        }
      ]
    },
    {
      "cell_type": "code",
      "source": [],
      "metadata": {
        "id": "yBUHU0M4WOLN"
      },
      "execution_count": null,
      "outputs": []
    },
    {
      "cell_type": "markdown",
      "source": [
        "**b)** Suponga que se logra llegar con el spot a 100 personas. ¿Cuál es la probabilidad de que\n",
        " al menos 30  personas compren el artículo ofrecido?"
      ],
      "metadata": {
        "id": "lZfptz64WOZ6"
      }
    },
    {
      "cell_type": "code",
      "metadata": {
        "trusted": true,
        "id": "hNMwMfgAIzQX",
        "outputId": "c8b97f0b-0e72-444a-e3c2-9d7e1f374075",
        "colab": {
          "base_uri": "https://localhost:8080/",
          "height": 52
        }
      },
      "source": [
        "# P(X >= 30) = 1-P(X < 30)\n",
        "1-pbinom(29, size = 100, prob = 0.2)#Hay un 1.1% de prob de que 30 o más compren\n",
        "pbinom(29, size = 100, prob = 0.2, lower.tail = F)"
      ],
      "execution_count": 39,
      "outputs": [
        {
          "output_type": "display_data",
          "data": {
            "text/html": [
              "0.0112489787209917"
            ],
            "text/markdown": "0.0112489787209917",
            "text/latex": "0.0112489787209917",
            "text/plain": [
              "[1] 0.01124898"
            ]
          },
          "metadata": {}
        },
        {
          "output_type": "display_data",
          "data": {
            "text/html": [
              "0.0112489787209917"
            ],
            "text/markdown": "0.0112489787209917",
            "text/latex": "0.0112489787209917",
            "text/plain": [
              "[1] 0.01124898"
            ]
          },
          "metadata": {}
        }
      ]
    },
    {
      "cell_type": "code",
      "source": [
        "sum(dbinom(30:100, size = 100, prob = 0.2)) # las cuentas cudran!"
      ],
      "metadata": {
        "id": "1kDbRFBoXi4V",
        "outputId": "854e2b5f-79f4-4cda-a93c-abc57b063728",
        "colab": {
          "base_uri": "https://localhost:8080/",
          "height": 34
        }
      },
      "execution_count": 42,
      "outputs": [
        {
          "output_type": "display_data",
          "data": {
            "text/html": [
              "0.0112489787209916"
            ],
            "text/markdown": "0.0112489787209916",
            "text/latex": "0.0112489787209916",
            "text/plain": [
              "[1] 0.01124898"
            ]
          },
          "metadata": {}
        }
      ]
    },
    {
      "cell_type": "markdown",
      "metadata": {
        "id": "cNebkKaeIzQX"
      },
      "source": [
        "**P3.** En una localidad se sabe que el 70% de las casas tienen un televisor.  Se quiere realizar una encuesta a 8 casas ¿cuál es la probabilidad de que 6 o más de ellas tengan televisor?"
      ]
    },
    {
      "cell_type": "code",
      "metadata": {
        "trusted": true,
        "id": "nb9XiMpSIzQX",
        "outputId": "3c35c519-7574-49c5-c084-b5292a22fb69",
        "colab": {
          "base_uri": "https://localhost:8080/",
          "height": 34
        }
      },
      "source": [
        "# size = 8\n",
        "# prob = 0.7\n",
        "pbinom(5, size = 8, prob = 0.7, lower.tail = F) #55% de prob. de que 6 o más casas tengan TV."
      ],
      "execution_count": 43,
      "outputs": [
        {
          "output_type": "display_data",
          "data": {
            "text/html": [
              "0.55177381"
            ],
            "text/markdown": "0.55177381",
            "text/latex": "0.55177381",
            "text/plain": [
              "[1] 0.5517738"
            ]
          },
          "metadata": {}
        }
      ]
    },
    {
      "cell_type": "markdown",
      "metadata": {
        "id": "9SSV-KEkIzQX"
      },
      "source": [
        "## Lanzando una moneda\n",
        "**P4** Supongamos que una **honesta** se lanza 14 veces y se anota el número veces que se obtuvo cara.\n",
        "\n",
        "**a)** ¿Cuál es la probabilidad de obtener exactamente 4 caras? ¿y al menos 10?"
      ]
    },
    {
      "cell_type": "code",
      "metadata": {
        "trusted": true,
        "id": "MyXXdYQ8IzQX"
      },
      "source": [
        "#size = n = 14, y prob = p = 0.5 ?\n",
        "\n"
      ],
      "execution_count": null,
      "outputs": []
    },
    {
      "cell_type": "code",
      "source": [
        "# P(X >= 10)\n"
      ],
      "metadata": {
        "id": "R--JQSTujOzg"
      },
      "execution_count": null,
      "outputs": []
    },
    {
      "cell_type": "markdown",
      "metadata": {
        "id": "AlXH-gaYIzQY"
      },
      "source": [
        "  \n",
        "**b)** Si se repite el experimento 5000 veces.\n",
        "\n",
        "\n",
        "*   ¿Qué proporción de caras se debería esperar?¿y si se repite más veces?\n",
        "*   ¿En qué % de casos se obtuvo exactamente 4 caras? ¿ y si se repite más veces?\n",
        "\n",
        "\n",
        " Utillice la función rbinom para simular el experimento 100 veces."
      ]
    },
    {
      "cell_type": "code",
      "metadata": {
        "trusted": true,
        "id": "bVAWrKGZIzQY"
      },
      "source": [
        "# simulamos un experimento binomial\n",
        "set.seed(2024)\n",
        "N <- 5000\n",
        "lanzamientos <- rbinom(n = N, size = 14, prob = 0.5)\n",
        "\n",
        "\n"
      ],
      "execution_count": 52,
      "outputs": []
    },
    {
      "cell_type": "code",
      "source": [],
      "metadata": {
        "id": "I42jd7olZPWT"
      },
      "execution_count": null,
      "outputs": []
    },
    {
      "cell_type": "code",
      "source": [
        "lanzamientos"
      ],
      "metadata": {
        "id": "wlx4YB0pon7z",
        "outputId": "d487e66a-2c1d-4c88-f9bf-1eef4371ff92",
        "colab": {
          "base_uri": "https://localhost:8080/",
          "height": 139
        }
      },
      "execution_count": 47,
      "outputs": [
        {
          "output_type": "display_data",
          "data": {
            "text/html": [
              "<style>\n",
              ".list-inline {list-style: none; margin:0; padding: 0}\n",
              ".list-inline>li {display: inline-block}\n",
              ".list-inline>li:not(:last-child)::after {content: \"\\00b7\"; padding: 0 .5ex}\n",
              "</style>\n",
              "<ol class=list-inline><li>9</li><li>6</li><li>8</li><li>8</li><li>7</li><li>8</li><li>7</li><li>6</li><li>9</li><li>5</li><li>9</li><li>10</li><li>8</li><li>7</li><li>7</li><li>9</li><li>5</li><li>9</li><li>5</li><li>6</li><li>4</li><li>5</li><li>8</li><li>9</li><li>9</li><li>6</li><li>8</li><li>9</li><li>1</li><li>3</li><li>7</li><li>6</li><li>5</li><li>11</li><li>8</li><li>8</li><li>4</li><li>10</li><li>3</li><li>8</li><li>9</li><li>10</li><li>8</li><li>6</li><li>9</li><li>7</li><li>7</li><li>6</li><li>8</li><li>8</li><li>4</li><li>8</li><li>7</li><li>7</li><li>8</li><li>8</li><li>3</li><li>5</li><li>7</li><li>6</li><li>4</li><li>7</li><li>6</li><li>8</li><li>6</li><li>9</li><li>9</li><li>8</li><li>6</li><li>6</li><li>8</li><li>5</li><li>8</li><li>7</li><li>6</li><li>8</li><li>6</li><li>4</li><li>8</li><li>6</li><li>5</li><li>6</li><li>7</li><li>3</li><li>8</li><li>7</li><li>11</li><li>6</li><li>5</li><li>9</li><li>7</li><li>9</li><li>8</li><li>4</li><li>8</li><li>5</li><li>8</li><li>7</li><li>11</li><li>7</li><li>6</li><li>8</li><li>6</li><li>7</li><li>6</li><li>9</li><li>5</li><li>4</li><li>6</li><li>9</li><li>4</li><li>8</li><li>9</li><li>4</li><li>7</li><li>9</li><li>9</li><li>5</li><li>7</li><li>6</li><li>10</li><li>4</li><li>9</li><li>5</li><li>8</li><li>3</li><li>7</li><li>9</li><li>10</li><li>12</li><li>7</li><li>3</li><li>3</li><li>7</li><li>8</li><li>8</li><li>8</li><li>5</li><li>3</li><li>7</li><li>9</li><li>6</li><li>5</li><li>7</li><li>8</li><li>12</li><li>7</li><li>6</li><li>7</li><li>6</li><li>6</li><li>7</li><li>10</li><li>5</li><li>8</li><li>7</li><li>5</li><li>3</li><li>7</li><li>5</li><li>5</li><li>8</li><li>9</li><li>5</li><li>9</li><li>9</li><li>4</li><li>8</li><li>7</li><li>6</li><li>9</li><li>8</li><li>7</li><li>9</li><li>7</li><li>8</li><li>7</li><li>3</li><li>9</li><li>7</li><li>5</li><li>10</li><li>6</li><li>8</li><li>6</li><li>12</li><li>8</li><li>8</li><li>8</li><li>5</li><li>3</li><li>3</li><li>5</li><li>4</li><li>5</li><li>4</li><li>7</li><li>7</li><li>9</li><li>10</li><li>⋯</li><li>6</li><li>6</li><li>8</li><li>9</li><li>5</li><li>10</li><li>7</li><li>8</li><li>5</li><li>5</li><li>9</li><li>5</li><li>7</li><li>6</li><li>7</li><li>8</li><li>6</li><li>5</li><li>10</li><li>9</li><li>8</li><li>8</li><li>8</li><li>2</li><li>9</li><li>9</li><li>8</li><li>5</li><li>8</li><li>8</li><li>8</li><li>7</li><li>9</li><li>5</li><li>6</li><li>7</li><li>8</li><li>7</li><li>6</li><li>3</li><li>6</li><li>5</li><li>8</li><li>8</li><li>6</li><li>10</li><li>7</li><li>6</li><li>7</li><li>6</li><li>7</li><li>3</li><li>7</li><li>3</li><li>8</li><li>4</li><li>9</li><li>7</li><li>7</li><li>5</li><li>6</li><li>6</li><li>8</li><li>4</li><li>9</li><li>7</li><li>8</li><li>10</li><li>5</li><li>7</li><li>8</li><li>1</li><li>9</li><li>6</li><li>11</li><li>9</li><li>3</li><li>10</li><li>4</li><li>7</li><li>6</li><li>10</li><li>10</li><li>8</li><li>8</li><li>6</li><li>6</li><li>9</li><li>5</li><li>5</li><li>4</li><li>7</li><li>3</li><li>8</li><li>6</li><li>3</li><li>7</li><li>7</li><li>8</li><li>7</li><li>5</li><li>8</li><li>8</li><li>9</li><li>7</li><li>7</li><li>6</li><li>8</li><li>12</li><li>6</li><li>9</li><li>7</li><li>6</li><li>7</li><li>7</li><li>8</li><li>9</li><li>6</li><li>7</li><li>8</li><li>4</li><li>5</li><li>6</li><li>6</li><li>5</li><li>10</li><li>6</li><li>9</li><li>9</li><li>6</li><li>8</li><li>9</li><li>6</li><li>10</li><li>7</li><li>7</li><li>8</li><li>6</li><li>4</li><li>4</li><li>8</li><li>7</li><li>7</li><li>7</li><li>9</li><li>7</li><li>10</li><li>7</li><li>7</li><li>6</li><li>8</li><li>6</li><li>7</li><li>3</li><li>6</li><li>6</li><li>5</li><li>5</li><li>6</li><li>7</li><li>9</li><li>7</li><li>7</li><li>8</li><li>9</li><li>7</li><li>6</li><li>9</li><li>7</li><li>7</li><li>9</li><li>4</li><li>7</li><li>9</li><li>9</li><li>8</li><li>9</li><li>6</li><li>7</li><li>8</li><li>6</li><li>3</li><li>9</li><li>9</li><li>8</li><li>8</li><li>6</li><li>9</li><li>8</li><li>8</li><li>7</li><li>11</li><li>6</li><li>5</li><li>11</li><li>4</li><li>9</li><li>8</li><li>5</li><li>6</li></ol>\n"
            ],
            "text/markdown": "1. 9\n2. 6\n3. 8\n4. 8\n5. 7\n6. 8\n7. 7\n8. 6\n9. 9\n10. 5\n11. 9\n12. 10\n13. 8\n14. 7\n15. 7\n16. 9\n17. 5\n18. 9\n19. 5\n20. 6\n21. 4\n22. 5\n23. 8\n24. 9\n25. 9\n26. 6\n27. 8\n28. 9\n29. 1\n30. 3\n31. 7\n32. 6\n33. 5\n34. 11\n35. 8\n36. 8\n37. 4\n38. 10\n39. 3\n40. 8\n41. 9\n42. 10\n43. 8\n44. 6\n45. 9\n46. 7\n47. 7\n48. 6\n49. 8\n50. 8\n51. 4\n52. 8\n53. 7\n54. 7\n55. 8\n56. 8\n57. 3\n58. 5\n59. 7\n60. 6\n61. 4\n62. 7\n63. 6\n64. 8\n65. 6\n66. 9\n67. 9\n68. 8\n69. 6\n70. 6\n71. 8\n72. 5\n73. 8\n74. 7\n75. 6\n76. 8\n77. 6\n78. 4\n79. 8\n80. 6\n81. 5\n82. 6\n83. 7\n84. 3\n85. 8\n86. 7\n87. 11\n88. 6\n89. 5\n90. 9\n91. 7\n92. 9\n93. 8\n94. 4\n95. 8\n96. 5\n97. 8\n98. 7\n99. 11\n100. 7\n101. 6\n102. 8\n103. 6\n104. 7\n105. 6\n106. 9\n107. 5\n108. 4\n109. 6\n110. 9\n111. 4\n112. 8\n113. 9\n114. 4\n115. 7\n116. 9\n117. 9\n118. 5\n119. 7\n120. 6\n121. 10\n122. 4\n123. 9\n124. 5\n125. 8\n126. 3\n127. 7\n128. 9\n129. 10\n130. 12\n131. 7\n132. 3\n133. 3\n134. 7\n135. 8\n136. 8\n137. 8\n138. 5\n139. 3\n140. 7\n141. 9\n142. 6\n143. 5\n144. 7\n145. 8\n146. 12\n147. 7\n148. 6\n149. 7\n150. 6\n151. 6\n152. 7\n153. 10\n154. 5\n155. 8\n156. 7\n157. 5\n158. 3\n159. 7\n160. 5\n161. 5\n162. 8\n163. 9\n164. 5\n165. 9\n166. 9\n167. 4\n168. 8\n169. 7\n170. 6\n171. 9\n172. 8\n173. 7\n174. 9\n175. 7\n176. 8\n177. 7\n178. 3\n179. 9\n180. 7\n181. 5\n182. 10\n183. 6\n184. 8\n185. 6\n186. 12\n187. 8\n188. 8\n189. 8\n190. 5\n191. 3\n192. 3\n193. 5\n194. 4\n195. 5\n196. 4\n197. 7\n198. 7\n199. 9\n200. 10\n201. ⋯\n202. 6\n203. 6\n204. 8\n205. 9\n206. 5\n207. 10\n208. 7\n209. 8\n210. 5\n211. 5\n212. 9\n213. 5\n214. 7\n215. 6\n216. 7\n217. 8\n218. 6\n219. 5\n220. 10\n221. 9\n222. 8\n223. 8\n224. 8\n225. 2\n226. 9\n227. 9\n228. 8\n229. 5\n230. 8\n231. 8\n232. 8\n233. 7\n234. 9\n235. 5\n236. 6\n237. 7\n238. 8\n239. 7\n240. 6\n241. 3\n242. 6\n243. 5\n244. 8\n245. 8\n246. 6\n247. 10\n248. 7\n249. 6\n250. 7\n251. 6\n252. 7\n253. 3\n254. 7\n255. 3\n256. 8\n257. 4\n258. 9\n259. 7\n260. 7\n261. 5\n262. 6\n263. 6\n264. 8\n265. 4\n266. 9\n267. 7\n268. 8\n269. 10\n270. 5\n271. 7\n272. 8\n273. 1\n274. 9\n275. 6\n276. 11\n277. 9\n278. 3\n279. 10\n280. 4\n281. 7\n282. 6\n283. 10\n284. 10\n285. 8\n286. 8\n287. 6\n288. 6\n289. 9\n290. 5\n291. 5\n292. 4\n293. 7\n294. 3\n295. 8\n296. 6\n297. 3\n298. 7\n299. 7\n300. 8\n301. 7\n302. 5\n303. 8\n304. 8\n305. 9\n306. 7\n307. 7\n308. 6\n309. 8\n310. 12\n311. 6\n312. 9\n313. 7\n314. 6\n315. 7\n316. 7\n317. 8\n318. 9\n319. 6\n320. 7\n321. 8\n322. 4\n323. 5\n324. 6\n325. 6\n326. 5\n327. 10\n328. 6\n329. 9\n330. 9\n331. 6\n332. 8\n333. 9\n334. 6\n335. 10\n336. 7\n337. 7\n338. 8\n339. 6\n340. 4\n341. 4\n342. 8\n343. 7\n344. 7\n345. 7\n346. 9\n347. 7\n348. 10\n349. 7\n350. 7\n351. 6\n352. 8\n353. 6\n354. 7\n355. 3\n356. 6\n357. 6\n358. 5\n359. 5\n360. 6\n361. 7\n362. 9\n363. 7\n364. 7\n365. 8\n366. 9\n367. 7\n368. 6\n369. 9\n370. 7\n371. 7\n372. 9\n373. 4\n374. 7\n375. 9\n376. 9\n377. 8\n378. 9\n379. 6\n380. 7\n381. 8\n382. 6\n383. 3\n384. 9\n385. 9\n386. 8\n387. 8\n388. 6\n389. 9\n390. 8\n391. 8\n392. 7\n393. 11\n394. 6\n395. 5\n396. 11\n397. 4\n398. 9\n399. 8\n400. 5\n401. 6\n\n\n",
            "text/latex": "\\begin{enumerate*}\n\\item 9\n\\item 6\n\\item 8\n\\item 8\n\\item 7\n\\item 8\n\\item 7\n\\item 6\n\\item 9\n\\item 5\n\\item 9\n\\item 10\n\\item 8\n\\item 7\n\\item 7\n\\item 9\n\\item 5\n\\item 9\n\\item 5\n\\item 6\n\\item 4\n\\item 5\n\\item 8\n\\item 9\n\\item 9\n\\item 6\n\\item 8\n\\item 9\n\\item 1\n\\item 3\n\\item 7\n\\item 6\n\\item 5\n\\item 11\n\\item 8\n\\item 8\n\\item 4\n\\item 10\n\\item 3\n\\item 8\n\\item 9\n\\item 10\n\\item 8\n\\item 6\n\\item 9\n\\item 7\n\\item 7\n\\item 6\n\\item 8\n\\item 8\n\\item 4\n\\item 8\n\\item 7\n\\item 7\n\\item 8\n\\item 8\n\\item 3\n\\item 5\n\\item 7\n\\item 6\n\\item 4\n\\item 7\n\\item 6\n\\item 8\n\\item 6\n\\item 9\n\\item 9\n\\item 8\n\\item 6\n\\item 6\n\\item 8\n\\item 5\n\\item 8\n\\item 7\n\\item 6\n\\item 8\n\\item 6\n\\item 4\n\\item 8\n\\item 6\n\\item 5\n\\item 6\n\\item 7\n\\item 3\n\\item 8\n\\item 7\n\\item 11\n\\item 6\n\\item 5\n\\item 9\n\\item 7\n\\item 9\n\\item 8\n\\item 4\n\\item 8\n\\item 5\n\\item 8\n\\item 7\n\\item 11\n\\item 7\n\\item 6\n\\item 8\n\\item 6\n\\item 7\n\\item 6\n\\item 9\n\\item 5\n\\item 4\n\\item 6\n\\item 9\n\\item 4\n\\item 8\n\\item 9\n\\item 4\n\\item 7\n\\item 9\n\\item 9\n\\item 5\n\\item 7\n\\item 6\n\\item 10\n\\item 4\n\\item 9\n\\item 5\n\\item 8\n\\item 3\n\\item 7\n\\item 9\n\\item 10\n\\item 12\n\\item 7\n\\item 3\n\\item 3\n\\item 7\n\\item 8\n\\item 8\n\\item 8\n\\item 5\n\\item 3\n\\item 7\n\\item 9\n\\item 6\n\\item 5\n\\item 7\n\\item 8\n\\item 12\n\\item 7\n\\item 6\n\\item 7\n\\item 6\n\\item 6\n\\item 7\n\\item 10\n\\item 5\n\\item 8\n\\item 7\n\\item 5\n\\item 3\n\\item 7\n\\item 5\n\\item 5\n\\item 8\n\\item 9\n\\item 5\n\\item 9\n\\item 9\n\\item 4\n\\item 8\n\\item 7\n\\item 6\n\\item 9\n\\item 8\n\\item 7\n\\item 9\n\\item 7\n\\item 8\n\\item 7\n\\item 3\n\\item 9\n\\item 7\n\\item 5\n\\item 10\n\\item 6\n\\item 8\n\\item 6\n\\item 12\n\\item 8\n\\item 8\n\\item 8\n\\item 5\n\\item 3\n\\item 3\n\\item 5\n\\item 4\n\\item 5\n\\item 4\n\\item 7\n\\item 7\n\\item 9\n\\item 10\n\\item ⋯\n\\item 6\n\\item 6\n\\item 8\n\\item 9\n\\item 5\n\\item 10\n\\item 7\n\\item 8\n\\item 5\n\\item 5\n\\item 9\n\\item 5\n\\item 7\n\\item 6\n\\item 7\n\\item 8\n\\item 6\n\\item 5\n\\item 10\n\\item 9\n\\item 8\n\\item 8\n\\item 8\n\\item 2\n\\item 9\n\\item 9\n\\item 8\n\\item 5\n\\item 8\n\\item 8\n\\item 8\n\\item 7\n\\item 9\n\\item 5\n\\item 6\n\\item 7\n\\item 8\n\\item 7\n\\item 6\n\\item 3\n\\item 6\n\\item 5\n\\item 8\n\\item 8\n\\item 6\n\\item 10\n\\item 7\n\\item 6\n\\item 7\n\\item 6\n\\item 7\n\\item 3\n\\item 7\n\\item 3\n\\item 8\n\\item 4\n\\item 9\n\\item 7\n\\item 7\n\\item 5\n\\item 6\n\\item 6\n\\item 8\n\\item 4\n\\item 9\n\\item 7\n\\item 8\n\\item 10\n\\item 5\n\\item 7\n\\item 8\n\\item 1\n\\item 9\n\\item 6\n\\item 11\n\\item 9\n\\item 3\n\\item 10\n\\item 4\n\\item 7\n\\item 6\n\\item 10\n\\item 10\n\\item 8\n\\item 8\n\\item 6\n\\item 6\n\\item 9\n\\item 5\n\\item 5\n\\item 4\n\\item 7\n\\item 3\n\\item 8\n\\item 6\n\\item 3\n\\item 7\n\\item 7\n\\item 8\n\\item 7\n\\item 5\n\\item 8\n\\item 8\n\\item 9\n\\item 7\n\\item 7\n\\item 6\n\\item 8\n\\item 12\n\\item 6\n\\item 9\n\\item 7\n\\item 6\n\\item 7\n\\item 7\n\\item 8\n\\item 9\n\\item 6\n\\item 7\n\\item 8\n\\item 4\n\\item 5\n\\item 6\n\\item 6\n\\item 5\n\\item 10\n\\item 6\n\\item 9\n\\item 9\n\\item 6\n\\item 8\n\\item 9\n\\item 6\n\\item 10\n\\item 7\n\\item 7\n\\item 8\n\\item 6\n\\item 4\n\\item 4\n\\item 8\n\\item 7\n\\item 7\n\\item 7\n\\item 9\n\\item 7\n\\item 10\n\\item 7\n\\item 7\n\\item 6\n\\item 8\n\\item 6\n\\item 7\n\\item 3\n\\item 6\n\\item 6\n\\item 5\n\\item 5\n\\item 6\n\\item 7\n\\item 9\n\\item 7\n\\item 7\n\\item 8\n\\item 9\n\\item 7\n\\item 6\n\\item 9\n\\item 7\n\\item 7\n\\item 9\n\\item 4\n\\item 7\n\\item 9\n\\item 9\n\\item 8\n\\item 9\n\\item 6\n\\item 7\n\\item 8\n\\item 6\n\\item 3\n\\item 9\n\\item 9\n\\item 8\n\\item 8\n\\item 6\n\\item 9\n\\item 8\n\\item 8\n\\item 7\n\\item 11\n\\item 6\n\\item 5\n\\item 11\n\\item 4\n\\item 9\n\\item 8\n\\item 5\n\\item 6\n\\end{enumerate*}\n",
            "text/plain": [
              "   [1]  9  6  8  8  7  8  7  6  9  5  9 10  8  7  7  9  5  9  5  6  4  5  8  9\n",
              "  [25]  9  6  8  9  1  3  7  6  5 11  8  8  4 10  3  8  9 10  8  6  9  7  7  6\n",
              "  [49]  8  8  4  8  7  7  8  8  3  5  7  6  4  7  6  8  6  9  9  8  6  6  8  5\n",
              "  [73]  8  7  6  8  6  4  8  6  5  6  7  3  8  7 11  6  5  9  7  9  8  4  8  5\n",
              "  [97]  8  7 11  7  6  8  6  7  6  9  5  4  6  9  4  8  9  4  7  9  9  5  7  6\n",
              " [121] 10  4  9  5  8  3  7  9 10 12  7  3  3  7  8  8  8  5  3  7  9  6  5  7\n",
              " [145]  8 12  7  6  7  6  6  7 10  5  8  7  5  3  7  5  5  8  9  5  9  9  4  8\n",
              " [169]  7  6  9  8  7  9  7  8  7  3  9  7  5 10  6  8  6 12  8  8  8  5  3  3\n",
              " [193]  5  4  5  4  7  7  9 10 11  4  8  5  9  4  7  7  5  9  8  9  7  7  9  7\n",
              " [217]  6  9  5  5  5  7  9  7  6  9  7 10  6  7  4  5 11  6  8 10  7  5  9 10\n",
              " [241]  7  4  6  7  5  5  7  9  6  9  7  5  5  7  5  7  6  6  8  2  5  4  7  8\n",
              " [265]  6  7  7  5 10 11  5  4  5  4  8  7  8  5  6 11  8  7  5  7  6  6 10 11\n",
              " [289]  9  4  8  9 10  8  7  6  9  8  9  5  5  8  7  8 11  5  9  7  6  9  2  6\n",
              " [313]  8  6  6  4  6 11  8  4 10  8  7 10  7  6 10 10  6  5  6 11  7  8  4  7\n",
              " [337]  9  9 11 10  6  7  9 10  6  7  7  6  8  7  9  7  9  8  7  6  8  9  6  8\n",
              " [361]  8  4  7  8  8  9  6  7  6  8  8 10  9  3  6  8  6  4  8  5  6  6  5  8\n",
              " [385]  8  7  9  8  9  6  8  5  9  5  8  9 11  9  4  8  7  9  8 11  6  4  7  7\n",
              " [409]  9  8  5  7  6  7  7  9  9  7  8  4  6 11  8  9  6 11  2  6  8 11  8  6\n",
              " [433]  8  8  8 10  6 10  9  7  6  7 10  6  7  9  7  7  7  5  7  8  7  6  8  7\n",
              " [457]  7  8  8  9 10  6  8  6  7  6  6  8  7  3  7  4  7  6  6  6  7  8  5  9\n",
              " [481]  7  8  9  6 10  5  9  7  5  7 10 10  6  9  7  9  5  9  7  9 10  7  7  6\n",
              " [505]  9  4  6  7  8  9  4  4  7  9  7  5  8  7  5 10  7  9  6 10  8  8  6  7\n",
              " [529]  2  6  8  9  6  8  8  4  8  6  9  7  9  7  7  8  5  8  5  5  8  8  7  7\n",
              " [553]  6  9  4  7  5  8  7  9  8  7  7  8 10  4  7  5  8  9  6  7  6  3  7  6\n",
              " [577]  9  5 12  9  6  3  9  6 10  8  6  7  8  8  8  2  9  9  5 10  5  8  7  8\n",
              " [601]  8  9  6  8  6  8  9  6 10  9  8  8  7  7  8 11  7  6  9  8  8  7  5  4\n",
              " [625]  4  9  5  8 12  7  6 10  7  6  7  9  9  7  6  6  5  5  7  7  8  5  6  8\n",
              " [649] 12  7  7  4  5  7  8  9  3  8  6  8  7  8  6  7  9  4  6  7  9  5  4  8\n",
              " [673] 10  7  3  6  7  7  8  9  6  8  4  7  8  7  7  6  8  4 10  6  5  7  8  5\n",
              " [697]  5 10  9  4  6  7  8  5  8  4  6  6  3  6  6  9  8  7  9  5  9  6  5  8\n",
              " [721]  7  6  8 11  6  5  6  8  8  8  6  5  7  9  7  4  8  7  6  5 10  5  6  7\n",
              " [745]  6  8  7  7  7  8  7  7  7  4  6  7 11  4  5  8  7  8  7  7  7 11  7  7\n",
              " [769] 10  7  8  4  4  3  9  7  7  7  9 10  7 10  8  5  9  6  5  8 10  5  8  7\n",
              " [793]  6  6  7  8  4  6  7  5 11  5  8  6  7  7  5  7  9  5  3  6  7  7  7  7\n",
              " [817]  8  7  8  6 10  7  7  6  9  6  8  5  8  5  7  7  5  6  5  6  4  7  8  7\n",
              " [841]  4  6 10  9  7  8  6  6  9  8  6  5 10  6  4  8  9  7 10  9 11  9 10  6\n",
              " [865]  9  8  5  7  9  7  9 10  4  6  5  8  6  6  7  8  6  9 10  7  7  7  6  8\n",
              " [889]  8  7  6  7  5  9  6  6  7  7  6  7  5  7  9  7  5  8  3  7  8  8  9  3\n",
              " [913]  8  6  8  7  5  4  9  3  8  9  8  5  8  7  9  9  4  7  7  3  7  8  9  5\n",
              " [937] 10  6  6  7  8  5  7  6  6  6  7  6  7  6  7  7  7  3  6  7  6  6  8  7\n",
              " [961]  8 11  6  9  6  7  8  8  5  4  8 11  7  9  7  8  6  6  9 10  7  9  7  8\n",
              " [985]  8  7  7  4  5  8  7  8  6  8  9  7  4  8  8  8  8  6  6  8  8  6  7  8\n",
              "[1009] 11  6  5  7  3  6 10  8  7  8  5  8  7  6  8  6  5  6  9  8  6  5  5  7\n",
              "[1033]  6  7  6  7  7  5  3  5  5  9  6  6  6  7  3  9  6  9 10  9  5  9  8  5\n",
              "[1057]  8  8  8  8  5  8  5  5  7  8  8  5  7 10 11  9  7  6  5  9  4  5  7  9\n",
              "[1081]  5  9  6  7  8  8  5 10  6  7 10  8  8  8  6  5  6  4  7  7  8 10  8  7\n",
              "[1105]  8  3  7  8  7  6  7  5  4  5 10  6  6  7  8  7 10  7 11  6  6  9  7  7\n",
              "[1129]  4  5  7 10  7  4  8  9  7  5  4  8  5  8  5 10  9  8  4  8  9 10 10  6\n",
              "[1153]  6 11  7  8  9  6  4  7  5  7  9  7  4 10  5  8  8  7  7  9  7  7  5  8\n",
              "[1177] 10  6 10  8  7  8  5  6  4  6  8  7  6  3  6  6  6  6 10  4  8  7  6  7\n",
              "[1201]  2  4  9  8  8  9  7  8  7 10  5  9  7  7  3  6  7  7  6 10  5  4  9  8\n",
              "[1225]  6  7 10  7  8  9  5  5  9  5 11  8  7  6  7  7  9  5  5  7  6  7  6  6\n",
              "[1249]  7  6  9  7  6  4  5  8  7  9  7  6  4  7  5  6  4  8  6  5  5 10  9  8\n",
              "[1273]  5  8  8  5  7  8 10  7  6  6  6  6  8  9  8 10  7  9  5  8  5  7 11 10\n",
              "[1297]  6  7  3  6  9  6  5  9  6  7  6  7  8  6  9  8  6  8  6  8  7 10  7  7\n",
              "[1321]  8  6  6  3  7  7  9  7  4  5  8  8  6  7  9  7  7  5  6  2  8  4  7  7\n",
              "[1345]  7  5  6  4  6  8  5  8  7  6  7 10  8  5  4  6  7  8  8 10  8 10 12  6\n",
              "[1369]  8  6  7  3  8  7  7  9  6  5  5 10  6  6  7 10  9  4  9  4  8  7  5  5\n",
              "[1393]  6  7 10  9 10  4  4  8  5  6  9  8  7  8  5  7  6  8  5  7  7  7  6  6\n",
              "[1417]  8  8  8  6  6  7  6  8  7  7  8  5 10  6  6  7  7  5 10  5  8  8  7  7\n",
              "[1441]  9  5  5  7  6  7  7  4  5  8  9  8  9  6  9  9  9  5  7  4  5 12  9  8\n",
              "[1465]  5  8  7  5  4  5  6  9  9  7  8  7 10  7  5  5  7  8  5  7  9  7  6  9\n",
              "[1489]  5  5  7  8  7  7  6  4  9  9  6  6  7  5  8  7 11  9  7  4  9  8  6  2\n",
              "[1513]  7  5  7 10  5  9 11  8  5  6  7  9  4  7  7 10  3  8  6  9  6  8  8  9\n",
              "[1537]  2  6  6  5  6  9  8  8  6  8  7  7  6  8  9  8  5  8  5  7  8  8  8  7\n",
              "[1561]  7  8 10 12  7 10  6 10  8  8  5  8  4  9  7 10  8 10  6  8  8  9  6  7\n",
              "[1585] 10  8  8  5  5  9 12  5  9  6  9  7  5  2  9  6  7 11  7  8  9  9  6  5\n",
              "[1609]  5 10  9  7  5  7  6  7  7  4 10  8  6  6  9 11  7 10  5 10  7  5  7  7\n",
              "[1633]  8  7  5  8  6  7  7  9  5  6  6  7  7  4  8  5  6  9  9  6  6  8  7  8\n",
              "[1657]  5  7  5  7  7  6  5  5  7  4  9  6  5  7  8  4  6  8  5  5  9  6  5  9\n",
              "[1681]  4  7 11  8 11  6  4  5  9  5 10  6  9  3  8  8 11 11  5 10  8 11  7  6\n",
              "[1705] 10  6  6  7  4  5  8  5 10  6  6  7  6  6  6  6  5  8  4  6  6  2  7  7\n",
              "[1729]  8  6  6  6  9 10  7  9  6  4  7  6  9  6  8  7  7  3  5  8 10  5 11 10\n",
              "[1753]  6 11  7  5  7  8  6  7  9  7  3  8  6  5  7  4  8  7  8  8  8  6 10  6\n",
              "[1777]  8  7  9 10  6 12 10  8  6 10  5  6  9  6  4  6  7  9 11  7  9  4  7  7\n",
              "[1801]  8  9  6  6  4  6  7  4  9  8  7  7  6  6  7  6  7  9 11  6  7  8  7  7\n",
              "[1825]  5  7  8  6  7  8  6  7  8  8  7  6  7  5  8  9  7  9  8  7  9  6  7  7\n",
              "[1849]  6  4  6 12  4  4  9 12  9  4 10  7  6  4  9  7  5  9  9  8 11  7  7 10\n",
              "[1873] 10  5  7  7  5  7  6  8  5  6  9  7  5  6  6  9  8  3  9  6  7  3  8  8\n",
              "[1897]  5  7  8  6 10  9 10  5  3  5  8  4  6  7  4  7  8  8  7  7  7  7  9  7\n",
              "[1921]  9  4  5  9  8  7  3  9  6 10  6  9  6  5  8  7  4  6  4  8  9  4  6  6\n",
              "[1945]  5  3  6  7  8  9  7  4  7  4  9  6  5  8  3  7  4  8  7  9  6  6  4  7\n",
              "[1969]  4  8  8  8  7  9  3  6  5  7  6  8  5  6  9  8  6  7  5  8  8  6  9  5\n",
              "[1993]  3  6  6  7  4  5  8  8  7  9  6  7  5  8  6  4  7  8  6  6  5  9  4  5\n",
              "[2017]  8  6  6  8  8  5  8  8  5 10  6  8  3  7  6  7  8  6  6  7  4  6  7  8\n",
              "[2041]  7  7  6  6  4 10  7  7  7  8  7  5  5  7 10  6 10  6  6  6  6  8  5  7\n",
              "[2065]  8  6  5  7  5  6  6  7 10  7  5 10  9  7  7  4  3  5  9  3  7 11  6 10\n",
              "[2089]  7  7  9  7  8  5  5  4  4  7  6  7  8  7  7  6  7  9  6  7 11  5  6  7\n",
              "[2113]  8  5  6  8  8  6  9  5  7  4  7 11  5  9  4 10  3  7  8  6  6 10  7  7\n",
              "[2137]  7  8 10  5  4  5  6  7  9  9  8  6 10 10  8  7  7  9  7 10  8  6  5  6\n",
              "[2161] 10  9  7  8  9  5  7  6  7  5 10  7  6  6  7  7  9  9  8  6  4  4  9  7\n",
              "[2185]  6  7  7  8  5  5  6  4  6  8  5  6  7  8  4  5  8  7  8  7  6 10  5  7\n",
              "[2209]  6 10  9  9 12  7  6  4  7  7  6 10  7  5  7  5  6  6  9 10  6  6  5  7\n",
              "[2233]  6  7 10 10  6  6  7  7  7  4  7  8  7  7  7  8 10  5  8  6  9  9  5  3\n",
              "[2257] 10  8  6  9  8 10  7  6  7  7  9  9  5 10  9  5  7  8  6  7  8 10  7  5\n",
              "[2281]  6 10  5  7  8  6 11  8  4 10  5  7  9  6  8  8  4  6  7  6  6  6  8  7\n",
              "[2305]  6  7 10  5  7  7  6  7  7  9  7 10  7  7  6  4  8 10  8  5  7  7  7  9\n",
              "[2329]  5  6  7  5  2 10  7  7  8  4  9  5 10  8  8  5  6  7  9  5  9  7  8  5\n",
              "[2353]  7  4  9  7  9  8  6  4  8  4 11  7  7  9  6  6  8  7  9  5  5  8 10  8\n",
              "[2377]  7  7  7  9  9  9  6  5  9  8  8  5  9 12  7  4  7 10  5 12  5  9  7  5\n",
              "[2401]  5  5  8  5  4  7  9  4  5  6  6  8  5 10  7  8  8  8  8  4  8  9  8  8\n",
              "[2425]  6  9  7  8 12  8  8  7  9  7  6  6  4  9  5  7 11  8  8  6  5  8  6  8\n",
              "[2449]  7  4 10  5  7  8  8  6  7  9  8  7  8  3  7  6  7  7  7  8  7  7  5  7\n",
              "[2473]  6  8  6  6  5  8  4  8 10  6  8  7  9  8  8  8  6  6  7  8  5  4  4  6\n",
              "[2497]  7  7  8  6  8  4  9  7  3 10  7 10  5 10  7  5  9  6  7  7  7  5  6  7\n",
              "[2521]  5  9  6  8  4  3  4  9  7 11  9  7  6 10  6  5  6  5  9  6  7  9  8  9\n",
              "[2545] 11  7  9  6  7  5 10  8  6  5  8  8  6  3  5  4  6  9  5  6  9  9  6  3\n",
              "[2569] 11  8  9  7 11  7  3  4  6  8  8  6  7  6  3  5  8  9  5  7  8  8 11  7\n",
              "[2593]  8  8  5  7  8  4  6  8  9  7  9  8  6  6 11  9  8  3  8  9  9  8 11  3\n",
              "[2617]  9  7  8  9  8  9  7  6 10  9  7  8  7  6  7  8  6  6  8  7  7  6  5  7\n",
              "[2641]  8  8  8  5  5  9  7  5  5  7  6 10  9  6  5  8  7  5  9  8  7  7  7 10\n",
              "[2665]  5  7  8  8  5  7  7  3  8  9  6  5  6  5  9 11 10  7 11  8  6  6  8  5\n",
              "[2689]  8  5  6  5  6  6  7  8  6  9  8  6  6  6 12  6  5  6  8  8  7  8  9 10\n",
              "[2713] 11 10  9  6  6  8  7  9  6  7  4 11 11  5  8  9  8  6  6  8  8  9  7  6\n",
              "[2737]  5  6  5  7  7  8  5  7 10  9  5  8  6  8  6  6  7  6  5  7  7  9  7 10\n",
              "[2761]  5  6  9  9  6 10  6  5  5  6  6  7  5  9  6  9  7 10  7  6  7  7  9  8\n",
              "[2785]  9  4  7  9  8  8  8  5  5  7  8  6  6  9 10  6  7  7  9  5  6  9  3  8\n",
              "[2809]  9  6 10  8  5  8  4  7  6 12  6  8 12  7  7  3  6 10 10  7  6  3  7  7\n",
              "[2833]  8  7  6  3  7  5  8  8  7  8  9  8  8  7  7  7  5  7  8  8  9  7  7 10\n",
              "[2857]  5  7  7  7  6 10  8  8  7  7  4  7 11  7  5  7  7  5 10  6  4 10  8  8\n",
              "[2881]  9  9  7 10  4  7  6  7  9  5  6  7  6  5  7 10  9  7  7  6  9  7  5  8\n",
              "[2905]  7  7 11  5  7  7  8  7  7  7 11 10  6  8  6  8  6  6  6  5  8  7 11 10\n",
              "[2929]  9  8  6  6  7  5  6  7  7  6  9  9  6  5  4  7  7  5  7  9  7  9  9  9\n",
              "[2953]  9 10  6  8  9 10  8  8  6  7 10  7  8  5  6  9  6  3  8  5  5  5  7  6\n",
              "[2977]  5  7  9  6  8  9 11  4  7  6  7  6  4  5  4  7  7  7  8  6  8  8  5  7\n",
              "[3001] 12  9  7  8  8 11  5  8  6  7  7  4  9  7  7  9 10  8 10  4  8  7 10  7\n",
              "[3025]  7  7  6  7  7  6  6 10 10  8  6  9  8  8  8  6  9  7  5  9 11  6 10  5\n",
              "[3049]  2  9  8  8 10  8 10  9  8  7  7  6  7  6  5  6  6  7  6  5 10  9  8  9\n",
              "[3073]  8  4  6  6  5  6  7  6  5  8  6 10  7  7 11  9  6  8  8  7  4 10  9  9\n",
              "[3097]  8  7  8  8  4  8  6  8  5  8  3  6  3  7  4  9  4 10  8  6  8  4  6  8\n",
              "[3121]  5  7  7  7  9  6  6  4  7  6  8  9  8 10  7  8  8  7  4  5  9  4  7  8\n",
              "[3145]  8  6  8  6  8  5  6  4  8  6  7  9  3  8  6  7  9 10  5  4  6  8 10  8\n",
              "[3169]  5  5  5  7  4  9  9  4  7  5  6  6  6  9 10  8  5  8  9  2  7  7  9  7\n",
              "[3193]  7  7  6  7  8  9  6  6  8  3 10  8  5  6  6  8  5  7  5  6  9 10  5  5\n",
              "[3217]  7  8  4  8  5  8  7  8 10  5  9  9  8  9  8  5 10  5  7  8  8  5  8  8\n",
              "[3241]  8  8  5  7  6  7  7  5 11  8  6  6  4  8  6  6  3  8  6  8  8  6 10  3\n",
              "[3265]  9 11  6  9  7  9  8  7 10  4  7  7  6  4  9  7  7  8 10  6  4  6  8  8\n",
              "[3289]  7  8  8  9  7  8  4  5  9  8  8  6  6  5  5  3  7  7  8 10  7  5  8  6\n",
              "[3313]  6  6  6  6  6  8  5  8  7  6  8  6  5  6  5  8  5 10  8  4  8  7  9  8\n",
              "[3337]  5  8  6  5  8  8  9  6  7  8  8 10  7  9  4  5  6  7  9  6  7 10  4  7\n",
              "[3361]  6 11  5  3  8 10  9  9  5  5  7  9  7 10 10  8  6  5  8  8  6  9  5  6\n",
              "[3385]  7  4  8  9  7  6  7  4  4  4  5 10  7  7  8  7  6  8  6  8  6  6  7  3\n",
              "[3409]  7  8  5  5 10  5  5  9  9  6 12  6  3  5  8  8  9  6  8  6  7  8  6  5\n",
              "[3433]  5  8  5  6  5  8  9  8  8  5  8  5  7  6  5  7  7  5  6  5 10  7  8  6\n",
              "[3457]  9  6  7  8  8  7  7 10  8  8  9  6  7  8  4  8  7  4  6  9  6  6  7  7\n",
              "[3481]  6  7  7 11  8  5  7  7  8  6  7  8  5  5  7  6  8  8 10  6  8  5  7  4\n",
              "[3505]  5  5  6  7  7  9  8 10  5 10  6  7  6  7  7  9  8  8  7  5  5 10  6  6\n",
              "[3529]  8  4  2  9  7  8  5  4  9  4  7  7  7  9  3 10  9  5  8  7  7  5  6  5\n",
              "[3553]  6  5  9  5  8  4  8  9  8 10  6  6  6 11  8  7  5  3  6  7  7  6  8  6\n",
              "[3577]  5  7  7 10 10  5  4  8  4  9  6  6  9  3  7  5  5  5  7  7  8  4  6  5\n",
              "[3601]  5  8  9  8  7  8  9  9  7 11  6  7  8 12  6  7  5  8  8  5 11  6  4 11\n",
              "[3625]  6  4  5  8  8  6 10  8 10  8  8  6  6  7  8  8  6  5  7  6 12  9  9  8\n",
              "[3649]  7  8 11  6  9  7  7  9  7  4  9  5  5  7  7  5  6  7  5 10  5  8 10  6\n",
              "[3673]  6  6  8 10  8  7  8  7  6  6  4  8 10  9  9  6  9  6  9  7  7  5  7  6\n",
              "[3697]  8  6 10  8 10  6 10  7  4  9  5  6 10  6  6 10  6  5  9  7  9  6  9  8\n",
              "[3721]  7  5  7  7 10  9  7  7  6  9  8  6  6  6  2  8  8  9  8  8  7  6  4  6\n",
              "[3745]  6  7  9  8  7  5  8  7 10  9  7  7  7 10  6  5  9  9  8  7  7  5  6 11\n",
              "[3769]  7  4  8  7  8  6  7  3  4  8  6  6  5  6  7  8  8  6  7  8  4 10  7  8\n",
              "[3793]  2  6  6 11  9  7  8  8  9  6 10  4  7  8  9  6  7  8  6  7  6  5  7 11\n",
              "[3817]  8  4  6  7  8 10  5  5 11  7 10  7  6  5  7  8  5  9  4  6  7  8  9  5\n",
              "[3841]  8  6  6  8  7  7  5  6  5  6  9 10  8  9  6  6  9  6  4 11  7  5  8  5\n",
              "[3865]  7  8  7  4  5  6  7  9  7  8 10  9  8  7 11  5  7  9  5  6  5  8  7  6\n",
              "[3889]  3  9 10  8  7  7  9 10  4 10  9  7  9  7  6  9  8  6  6 10  8  5  5  7\n",
              "[3913]  2  9  6  5  9  7  4  9  7  9  8  6  7  6  5  5  5  9  6  8  9  5  8  7\n",
              "[3937]  6  7  7  7  8  9  6  6  7  8  7  9  7  9  6  6  9  5  6  9  9  6  9  9\n",
              "[3961]  8  9  7  5  5 10  6  7  9  6  9  8  5  5 10  5  5  8  4  7  4  8  5  9\n",
              "[3985]  7 10  8  8  8  9  6  6  7  7  9  9  8  6  6  7  9  4  5  4  6  6  3  9\n",
              "[4009]  6  7  3  8  9  7  9  5  5  5  5  5  5 11  6  8 10  7  9  5  6  8  7  7\n",
              "[4033]  6  6  7 10  6  5  7  7  7  8 10  5  4  9  8  5  7  4  6  6  6  7  9  6\n",
              "[4057]  7  8  8  6  7  8  4  3  7  7 11  8  5 11 10  8  9  5  8  9  7  6  9  9\n",
              "[4081]  8  7  8  8  5  9  5  7  9  8  5  7  7  3 11  8  6  6  7  8 12  5 11  7\n",
              "[4105]  5  7  7  8  9  6  8  5  6  5  7  5  8  7  6 11  8  7  8 11  8  7  9  6\n",
              "[4129]  4  6  7  6  6  6  6  9  5  7  6  7  5  7  6  5  5  5 11 11 10  8  7  7\n",
              "[4153]  7  6  9  7  8  7  6  8  5  5  4  2  7  8  9  7  6 10 10  4  7  8  8  7\n",
              "[4177]  7  8  7  8  6  6  7  6  3  8  6  9  9  4  7  6  6  8 10  6  5  5  6  9\n",
              "[4201]  7 10  4  7  9  9  9  2  5  8  6  6  7  7 11  6  5  6  7  6  6  7  8  8\n",
              "[4225]  9  6  7  7  5  8  9  7  9  6  7  5  7  8  7  6  9  8  7  5  8 10  9  6\n",
              "[4249]  9  9  7  6  7  9  7  8 12 10  6  8  9  5  8  6  9  5  7  8  8  4  6  9\n",
              "[4273]  7  5  6  4  8  9  9  9  3  8 10  6 10  5  8  9  9  6  5  6  8  6  4  8\n",
              "[4297]  6  9  3 10  7  7  5  6  8  7  6  7  5  8  8 10  6  7  8  7  9  8  8 11\n",
              "[4321]  6  8  8  9  5  6  7  6  3  4 10  7  9  7  8 10  6  4 10  7  6  5  3  7\n",
              "[4345]  6  7  8  6  7  3  9  6 10  7  9  5  6  6  6  8  7  6  6 10  7  7  9  8\n",
              "[4369]  6  8  7  5  4  7  7  6  5  5  8  6  8  7  6  7  6  7  6  9  8 11  8  6\n",
              "[4393]  4  8  5  9  9  6  7  8  7  7  6  8  5  5  4  4  7  5  8  5 11  7  9  7\n",
              "[4417]  5  4  7  8  8  5  8  7  8  9  6  9  8  5  6  9  5 12  5  3  8  9  9  7\n",
              "[4441]  9 10  5  7  8  7 10  9  7  8  8  9  6  5  7  9  9 11  8  9  7  6  7  9\n",
              "[4465]  8  6  5  8  6  9  7  9  4  6  6  7 12  4  7  7  6  7  9  9  5  7  7  4\n",
              "[4489] 10  7  9  7  8 11  8 10  5  6  6  7  8  7 10  5  7  5  9  7  5  6  7  6\n",
              "[4513]  6  6  9  4  6  6  7  2  8  6  8  5  7  5  6  7  3  7  6  4  8  6  8 10\n",
              "[4537]  7  7  7  9  7 10  5  2  4  6  6  4  7  7  7  8  8  7  6 11  8  8  6 10\n",
              "[4561]  7  6  9  4  8  8  7  6  7  5 10  6  6  9  7  8 10 10  8  7  7  8  6  6\n",
              "[4585]  6  4  6  8  7  7  8  6  5  4  5  7  7  5  8  5  8  7  8  8  5 10  8  6\n",
              "[4609]  7  8  8  6  8  8  8  8  7  5  5  3 10  7  5  4  9  7  6  8  5  6  4  7\n",
              "[4633]  7  5  7  6 10  5  7  6  7 12  8  8  4  8  6  6  5  6  6  8  8  5  6  9\n",
              "[4657]  6  7 10  7  5  5  3  8  9  6  6  4  6  5  6 10  8  7  7  7  9  9  8  7\n",
              "[4681]  9  3 11  3 10  8  6  4  3  7  6  8 11  6  7  6  9  5  4  5  5  8  7  5\n",
              "[4705]  6  8  7  6  4  2  7  4  8  9 10  6  5  8  4  8  7  4  6  6  8  8  7  6\n",
              "[4729]  6  4 11  7  3  5  5  9  7  6  5  6  8  8  9  6  7  3 10  6  8  8  6  9\n",
              "[4753]  3  6  9  4  7  8  9  7  6  9 11  9  9  6  2  9  8  8  4  6  8  4  7  7\n",
              "[4777]  5  5  5  9  7  8  7  5  9  7  5  6  6  9  9  8  6  8  7  9  9  6  6 12\n",
              "[4801]  6  6  8  9  5 10  7  8  5  5  9  5  7  6  7  8  6  5 10  9  8  8  8  2\n",
              "[4825]  9  9  8  5  8  8  8  7  9  5  6  7  8  7  6  3  6  5  8  8  6 10  7  6\n",
              "[4849]  7  6  7  3  7  3  8  4  9  7  7  5  6  6  8  4  9  7  8 10  5  7  8  1\n",
              "[4873]  9  6 11  9  3 10  4  7  6 10 10  8  8  6  6  9  5  5  4  7  3  8  6  3\n",
              "[4897]  7  7  8  7  5  8  8  9  7  7  6  8 12  6  9  7  6  7  7  8  9  6  7  8\n",
              "[4921]  4  5  6  6  5 10  6  9  9  6  8  9  6 10  7  7  8  6  4  4  8  7  7  7\n",
              "[4945]  9  7 10  7  7  6  8  6  7  3  6  6  5  5  6  7  9  7  7  8  9  7  6  9\n",
              "[4969]  7  7  9  4  7  9  9  8  9  6  7  8  6  3  9  9  8  8  6  9  8  8  7 11\n",
              "[4993]  6  5 11  4  9  8  5  6"
            ]
          },
          "metadata": {}
        }
      ]
    },
    {
      "cell_type": "code",
      "source": [
        "mean(lanzamientos/14)# Esta tasa de éxito observada sirve de estimación de el parámetro p de nuestra distr. Binomial."
      ],
      "metadata": {
        "id": "AvXKNdyVZUbX",
        "outputId": "27e85270-c980-4ed1-ae92-95b5baa30b28",
        "colab": {
          "base_uri": "https://localhost:8080/",
          "height": 34
        }
      },
      "execution_count": 53,
      "outputs": [
        {
          "output_type": "display_data",
          "data": {
            "text/html": [
              "0.500885714285714"
            ],
            "text/markdown": "0.500885714285714",
            "text/latex": "0.500885714285714",
            "text/plain": [
              "[1] 0.5008857"
            ]
          },
          "metadata": {}
        }
      ]
    },
    {
      "cell_type": "code",
      "source": [
        "# Generar el gráfico de freq relativas (prob observadas), mediannte un gráfico de barras.\n",
        "df_aux <- data.frame(caras = lanzamientos)\n",
        "df_aux2 <- df_aux %>%\n",
        "  count(caras)\n",
        "\n",
        "df_aux2\n"
      ],
      "metadata": {
        "id": "DeTePhsHcwdA",
        "outputId": "8f577bff-d2ab-4d6f-88a3-07304b8f114d",
        "colab": {
          "base_uri": "https://localhost:8080/",
          "height": 491
        }
      },
      "execution_count": 57,
      "outputs": [
        {
          "output_type": "display_data",
          "data": {
            "text/html": [
              "<table class=\"dataframe\">\n",
              "<caption>A data.frame: 12 × 2</caption>\n",
              "<thead>\n",
              "\t<tr><th scope=col>caras</th><th scope=col>n</th></tr>\n",
              "\t<tr><th scope=col>&lt;int&gt;</th><th scope=col>&lt;int&gt;</th></tr>\n",
              "</thead>\n",
              "<tbody>\n",
              "\t<tr><td> 1</td><td>   2</td></tr>\n",
              "\t<tr><td> 2</td><td>  25</td></tr>\n",
              "\t<tr><td> 3</td><td> 110</td></tr>\n",
              "\t<tr><td> 4</td><td> 279</td></tr>\n",
              "\t<tr><td> 5</td><td> 611</td></tr>\n",
              "\t<tr><td> 6</td><td> 919</td></tr>\n",
              "\t<tr><td> 7</td><td>1096</td></tr>\n",
              "\t<tr><td> 8</td><td> 912</td></tr>\n",
              "\t<tr><td> 9</td><td> 604</td></tr>\n",
              "\t<tr><td>10</td><td> 302</td></tr>\n",
              "\t<tr><td>11</td><td> 109</td></tr>\n",
              "\t<tr><td>12</td><td>  31</td></tr>\n",
              "</tbody>\n",
              "</table>\n"
            ],
            "text/markdown": "\nA data.frame: 12 × 2\n\n| caras &lt;int&gt; | n &lt;int&gt; |\n|---|---|\n|  1 |    2 |\n|  2 |   25 |\n|  3 |  110 |\n|  4 |  279 |\n|  5 |  611 |\n|  6 |  919 |\n|  7 | 1096 |\n|  8 |  912 |\n|  9 |  604 |\n| 10 |  302 |\n| 11 |  109 |\n| 12 |   31 |\n\n",
            "text/latex": "A data.frame: 12 × 2\n\\begin{tabular}{ll}\n caras & n\\\\\n <int> & <int>\\\\\n\\hline\n\t  1 &    2\\\\\n\t  2 &   25\\\\\n\t  3 &  110\\\\\n\t  4 &  279\\\\\n\t  5 &  611\\\\\n\t  6 &  919\\\\\n\t  7 & 1096\\\\\n\t  8 &  912\\\\\n\t  9 &  604\\\\\n\t 10 &  302\\\\\n\t 11 &  109\\\\\n\t 12 &   31\\\\\n\\end{tabular}\n",
            "text/plain": [
              "   caras n   \n",
              "1   1       2\n",
              "2   2      25\n",
              "3   3     110\n",
              "4   4     279\n",
              "5   5     611\n",
              "6   6     919\n",
              "7   7    1096\n",
              "8   8     912\n",
              "9   9     604\n",
              "10 10     302\n",
              "11 11     109\n",
              "12 12      31"
            ]
          },
          "metadata": {}
        }
      ]
    },
    {
      "cell_type": "code",
      "source": [
        "df_aux2 <- data.frame(caras = c(0,13,14), n = c(0,0,0) ) %>%\n",
        "    bind_rows(df_aux2) %>%\n",
        "    arrange(caras)\n",
        "\n",
        "df_aux2"
      ],
      "metadata": {
        "id": "19m1AYY0eCD7",
        "outputId": "72cc702b-83b5-4851-ec5d-a3d2bf456e74",
        "colab": {
          "base_uri": "https://localhost:8080/",
          "height": 585
        }
      },
      "execution_count": 61,
      "outputs": [
        {
          "output_type": "display_data",
          "data": {
            "text/html": [
              "<table class=\"dataframe\">\n",
              "<caption>A data.frame: 15 × 2</caption>\n",
              "<thead>\n",
              "\t<tr><th scope=col>caras</th><th scope=col>n</th></tr>\n",
              "\t<tr><th scope=col>&lt;dbl&gt;</th><th scope=col>&lt;dbl&gt;</th></tr>\n",
              "</thead>\n",
              "<tbody>\n",
              "\t<tr><td> 0</td><td>   0</td></tr>\n",
              "\t<tr><td> 1</td><td>   2</td></tr>\n",
              "\t<tr><td> 2</td><td>  25</td></tr>\n",
              "\t<tr><td> 3</td><td> 110</td></tr>\n",
              "\t<tr><td> 4</td><td> 279</td></tr>\n",
              "\t<tr><td> 5</td><td> 611</td></tr>\n",
              "\t<tr><td> 6</td><td> 919</td></tr>\n",
              "\t<tr><td> 7</td><td>1096</td></tr>\n",
              "\t<tr><td> 8</td><td> 912</td></tr>\n",
              "\t<tr><td> 9</td><td> 604</td></tr>\n",
              "\t<tr><td>10</td><td> 302</td></tr>\n",
              "\t<tr><td>11</td><td> 109</td></tr>\n",
              "\t<tr><td>12</td><td>  31</td></tr>\n",
              "\t<tr><td>13</td><td>   0</td></tr>\n",
              "\t<tr><td>14</td><td>   0</td></tr>\n",
              "</tbody>\n",
              "</table>\n"
            ],
            "text/markdown": "\nA data.frame: 15 × 2\n\n| caras &lt;dbl&gt; | n &lt;dbl&gt; |\n|---|---|\n|  0 |    0 |\n|  1 |    2 |\n|  2 |   25 |\n|  3 |  110 |\n|  4 |  279 |\n|  5 |  611 |\n|  6 |  919 |\n|  7 | 1096 |\n|  8 |  912 |\n|  9 |  604 |\n| 10 |  302 |\n| 11 |  109 |\n| 12 |   31 |\n| 13 |    0 |\n| 14 |    0 |\n\n",
            "text/latex": "A data.frame: 15 × 2\n\\begin{tabular}{ll}\n caras & n\\\\\n <dbl> & <dbl>\\\\\n\\hline\n\t  0 &    0\\\\\n\t  1 &    2\\\\\n\t  2 &   25\\\\\n\t  3 &  110\\\\\n\t  4 &  279\\\\\n\t  5 &  611\\\\\n\t  6 &  919\\\\\n\t  7 & 1096\\\\\n\t  8 &  912\\\\\n\t  9 &  604\\\\\n\t 10 &  302\\\\\n\t 11 &  109\\\\\n\t 12 &   31\\\\\n\t 13 &    0\\\\\n\t 14 &    0\\\\\n\\end{tabular}\n",
            "text/plain": [
              "   caras n   \n",
              "1   0       0\n",
              "2   1       2\n",
              "3   2      25\n",
              "4   3     110\n",
              "5   4     279\n",
              "6   5     611\n",
              "7   6     919\n",
              "8   7    1096\n",
              "9   8     912\n",
              "10  9     604\n",
              "11 10     302\n",
              "12 11     109\n",
              "13 12      31\n",
              "14 13       0\n",
              "15 14       0"
            ]
          },
          "metadata": {}
        }
      ]
    },
    {
      "cell_type": "code",
      "source": [
        "df_aux3 <- df_aux2 %>%\n",
        "    mutate(freq_rel_obs = n/N,\n",
        "         dens_teorica = round(dbinom(caras, size = 14, prob = 0.5),6 ), # curva roja\n",
        "         dens_obs = round(dbinom(caras, size = 14, prob = mean(lanzamientos/14)),6 ) #curva azul\n",
        "         )"
      ],
      "metadata": {
        "id": "zfvZWC7CecMM"
      },
      "execution_count": 68,
      "outputs": []
    },
    {
      "cell_type": "code",
      "source": [
        "df_aux3"
      ],
      "metadata": {
        "id": "THx1rIzkg2SF",
        "outputId": "338e0b64-1aa8-421e-abf5-eb827e3f98aa",
        "colab": {
          "base_uri": "https://localhost:8080/",
          "height": 568
        }
      },
      "execution_count": 69,
      "outputs": [
        {
          "output_type": "display_data",
          "data": {
            "text/html": [
              "<table class=\"dataframe\">\n",
              "<caption>A data.frame: 15 × 5</caption>\n",
              "<thead>\n",
              "\t<tr><th scope=col>caras</th><th scope=col>n</th><th scope=col>freq_rel_obs</th><th scope=col>dens_teorica</th><th scope=col>dens_obs</th></tr>\n",
              "\t<tr><th scope=col>&lt;dbl&gt;</th><th scope=col>&lt;dbl&gt;</th><th scope=col>&lt;dbl&gt;</th><th scope=col>&lt;dbl&gt;</th><th scope=col>&lt;dbl&gt;</th></tr>\n",
              "</thead>\n",
              "<tbody>\n",
              "\t<tr><td> 0</td><td>   0</td><td>0.0000</td><td>0.000061</td><td>0.000060</td></tr>\n",
              "\t<tr><td> 1</td><td>   2</td><td>0.0004</td><td>0.000854</td><td>0.000837</td></tr>\n",
              "\t<tr><td> 2</td><td>  25</td><td>0.0050</td><td>0.005554</td><td>0.005457</td></tr>\n",
              "\t<tr><td> 3</td><td> 110</td><td>0.0220</td><td>0.022217</td><td>0.021904</td></tr>\n",
              "\t<tr><td> 4</td><td> 279</td><td>0.0558</td><td>0.061096</td><td>0.060449</td></tr>\n",
              "\t<tr><td> 5</td><td> 611</td><td>0.1222</td><td>0.122192</td><td>0.121327</td></tr>\n",
              "\t<tr><td> 6</td><td> 919</td><td>0.1838</td><td>0.183289</td><td>0.182636</td></tr>\n",
              "\t<tr><td> 7</td><td>1096</td><td>0.2192</td><td>0.209473</td><td>0.209468</td></tr>\n",
              "\t<tr><td> 8</td><td> 912</td><td>0.1824</td><td>0.183289</td><td>0.183935</td></tr>\n",
              "\t<tr><td> 9</td><td> 604</td><td>0.1208</td><td>0.122192</td><td>0.123059</td></tr>\n",
              "\t<tr><td>10</td><td> 302</td><td>0.0604</td><td>0.061096</td><td>0.061748</td></tr>\n",
              "\t<tr><td>11</td><td> 109</td><td>0.0218</td><td>0.022217</td><td>0.022533</td></tr>\n",
              "\t<tr><td>12</td><td>  31</td><td>0.0062</td><td>0.005554</td><td>0.005653</td></tr>\n",
              "\t<tr><td>13</td><td>   0</td><td>0.0000</td><td>0.000854</td><td>0.000873</td></tr>\n",
              "\t<tr><td>14</td><td>   0</td><td>0.0000</td><td>0.000061</td><td>0.000063</td></tr>\n",
              "</tbody>\n",
              "</table>\n"
            ],
            "text/markdown": "\nA data.frame: 15 × 5\n\n| caras &lt;dbl&gt; | n &lt;dbl&gt; | freq_rel_obs &lt;dbl&gt; | dens_teorica &lt;dbl&gt; | dens_obs &lt;dbl&gt; |\n|---|---|---|---|---|\n|  0 |    0 | 0.0000 | 0.000061 | 0.000060 |\n|  1 |    2 | 0.0004 | 0.000854 | 0.000837 |\n|  2 |   25 | 0.0050 | 0.005554 | 0.005457 |\n|  3 |  110 | 0.0220 | 0.022217 | 0.021904 |\n|  4 |  279 | 0.0558 | 0.061096 | 0.060449 |\n|  5 |  611 | 0.1222 | 0.122192 | 0.121327 |\n|  6 |  919 | 0.1838 | 0.183289 | 0.182636 |\n|  7 | 1096 | 0.2192 | 0.209473 | 0.209468 |\n|  8 |  912 | 0.1824 | 0.183289 | 0.183935 |\n|  9 |  604 | 0.1208 | 0.122192 | 0.123059 |\n| 10 |  302 | 0.0604 | 0.061096 | 0.061748 |\n| 11 |  109 | 0.0218 | 0.022217 | 0.022533 |\n| 12 |   31 | 0.0062 | 0.005554 | 0.005653 |\n| 13 |    0 | 0.0000 | 0.000854 | 0.000873 |\n| 14 |    0 | 0.0000 | 0.000061 | 0.000063 |\n\n",
            "text/latex": "A data.frame: 15 × 5\n\\begin{tabular}{lllll}\n caras & n & freq\\_rel\\_obs & dens\\_teorica & dens\\_obs\\\\\n <dbl> & <dbl> & <dbl> & <dbl> & <dbl>\\\\\n\\hline\n\t  0 &    0 & 0.0000 & 0.000061 & 0.000060\\\\\n\t  1 &    2 & 0.0004 & 0.000854 & 0.000837\\\\\n\t  2 &   25 & 0.0050 & 0.005554 & 0.005457\\\\\n\t  3 &  110 & 0.0220 & 0.022217 & 0.021904\\\\\n\t  4 &  279 & 0.0558 & 0.061096 & 0.060449\\\\\n\t  5 &  611 & 0.1222 & 0.122192 & 0.121327\\\\\n\t  6 &  919 & 0.1838 & 0.183289 & 0.182636\\\\\n\t  7 & 1096 & 0.2192 & 0.209473 & 0.209468\\\\\n\t  8 &  912 & 0.1824 & 0.183289 & 0.183935\\\\\n\t  9 &  604 & 0.1208 & 0.122192 & 0.123059\\\\\n\t 10 &  302 & 0.0604 & 0.061096 & 0.061748\\\\\n\t 11 &  109 & 0.0218 & 0.022217 & 0.022533\\\\\n\t 12 &   31 & 0.0062 & 0.005554 & 0.005653\\\\\n\t 13 &    0 & 0.0000 & 0.000854 & 0.000873\\\\\n\t 14 &    0 & 0.0000 & 0.000061 & 0.000063\\\\\n\\end{tabular}\n",
            "text/plain": [
              "   caras n    freq_rel_obs dens_teorica dens_obs\n",
              "1   0       0 0.0000       0.000061     0.000060\n",
              "2   1       2 0.0004       0.000854     0.000837\n",
              "3   2      25 0.0050       0.005554     0.005457\n",
              "4   3     110 0.0220       0.022217     0.021904\n",
              "5   4     279 0.0558       0.061096     0.060449\n",
              "6   5     611 0.1222       0.122192     0.121327\n",
              "7   6     919 0.1838       0.183289     0.182636\n",
              "8   7    1096 0.2192       0.209473     0.209468\n",
              "9   8     912 0.1824       0.183289     0.183935\n",
              "10  9     604 0.1208       0.122192     0.123059\n",
              "11 10     302 0.0604       0.061096     0.061748\n",
              "12 11     109 0.0218       0.022217     0.022533\n",
              "13 12      31 0.0062       0.005554     0.005653\n",
              "14 13       0 0.0000       0.000854     0.000873\n",
              "15 14       0 0.0000       0.000061     0.000063"
            ]
          },
          "metadata": {}
        }
      ]
    },
    {
      "cell_type": "code",
      "source": [
        "df_aux3 %>%\n",
        "  ggplot() +\n",
        "  aes(x = caras, y = freq_rel_obs) +\n",
        "  geom_bar(stat = \"identity\") +\n",
        "  geom_point(mapping = aes(y = dens_teorica), color = \"red\", size = 3,alpha = 0.5) +\n",
        "  geom_point(mapping = aes(y = dens_obs), color = \"blue\", size = 2, alpha = 0.5)"
      ],
      "metadata": {
        "id": "F0rXTxSqg2sN",
        "outputId": "7083e6b2-3e54-4268-b877-3c3f54e91d80",
        "colab": {
          "base_uri": "https://localhost:8080/",
          "height": 437
        }
      },
      "execution_count": 77,
      "outputs": [
        {
          "output_type": "display_data",
          "data": {
            "text/plain": [
              "plot without title"
            ],
            "image/png": "[encoded data removed]"
          },
          "metadata": {
            "image/png": {
              "width": 420,
              "height": 420
            }
          }
        }
      ]
    },
    {
      "cell_type": "code",
      "source": [
        "mean(lanzamientos/14)\n",
        "df_aux2 %>%\n",
        "  summarise(p_est = sum(caras*n)/sum(n)/14)"
      ],
      "metadata": {
        "id": "ubwQbdxwgK0t",
        "outputId": "5a927224-4541-46c7-983f-0f71494c07ec",
        "colab": {
          "base_uri": "https://localhost:8080/",
          "height": 181
        }
      },
      "execution_count": 66,
      "outputs": [
        {
          "output_type": "display_data",
          "data": {
            "text/html": [
              "0.500885714285714"
            ],
            "text/markdown": "0.500885714285714",
            "text/latex": "0.500885714285714",
            "text/plain": [
              "[1] 0.5008857"
            ]
          },
          "metadata": {}
        },
        {
          "output_type": "display_data",
          "data": {
            "text/html": [
              "<table class=\"dataframe\">\n",
              "<caption>A data.frame: 1 × 1</caption>\n",
              "<thead>\n",
              "\t<tr><th scope=col>p_est</th></tr>\n",
              "\t<tr><th scope=col>&lt;dbl&gt;</th></tr>\n",
              "</thead>\n",
              "<tbody>\n",
              "\t<tr><td>0.5008857</td></tr>\n",
              "</tbody>\n",
              "</table>\n"
            ],
            "text/markdown": "\nA data.frame: 1 × 1\n\n| p_est &lt;dbl&gt; |\n|---|\n| 0.5008857 |\n\n",
            "text/latex": "A data.frame: 1 × 1\n\\begin{tabular}{l}\n p\\_est\\\\\n <dbl>\\\\\n\\hline\n\t 0.5008857\\\\\n\\end{tabular}\n",
            "text/plain": [
              "  p_est    \n",
              "1 0.5008857"
            ]
          },
          "metadata": {}
        }
      ]
    },
    {
      "cell_type": "code",
      "metadata": {
        "trusted": true,
        "id": "mFBsXgatIzQY"
      },
      "source": [],
      "execution_count": null,
      "outputs": []
    },
    {
      "cell_type": "markdown",
      "metadata": {
        "id": "4LDcECLUIzQY"
      },
      "source": [
        "# III) Distribución poisson\n",
        "## Contexto\n",
        "Usualmente una variable aleatoria poisson, representa la cantidad de eventos registrados en un interval fijo de tiempo con una cierta tasa de ocurrencia.\n",
        "## Función de probabilidad\n",
        "\n",
        "$$p(x) = \\lambda^x \\dfrac{e^{-\\lambda}}{x!}, \\ \\ \\ \\ \\ x \\in \\{0,1,2,3,...\\} $$\n",
        "\n",
        "Donde $\\lambda$ corresponde a la tasa de ocurrencia y $x$ la cantida de eventos observados.\n",
        "\n",
        "## Funciones en R\n",
        " * `dpois(x, lambda, log = FALSE)`\n",
        " * `ppois(q, lambda, lower.tail = TRUE, log.p = FALSE)`\n",
        " * `qpois(p, lambda, lower.tail = TRUE, log.p = FALSE)`\n",
        " * `rpois(n, lambda)`"
      ]
    },
    {
      "cell_type": "code",
      "metadata": {
        "trusted": true,
        "id": "RbyWC9WRIzQY"
      },
      "source": [],
      "execution_count": null,
      "outputs": []
    },
    {
      "cell_type": "markdown",
      "metadata": {
        "id": "9gR972O-IzQY"
      },
      "source": [
        "**P5.** Suponga que en un restaurant de comida se tiene una tasa de llegada de clientes de 2 clientes por cada 3 minutos en promedio.\n",
        "¿Cuál es la probabilidad de que 5 o más clientes lleguen en un período de 9 minutos?.\n"
      ]
    },
    {
      "cell_type": "code",
      "metadata": {
        "trusted": true,
        "id": "O57Ov87FIzQY",
        "outputId": "2b1e813b-0ff9-48c6-b300-9952b634f2d0",
        "colab": {
          "base_uri": "https://localhost:8080/",
          "height": 34
        }
      },
      "source": [
        "# La tasa de éxito en una dist. poisson es el parámetro lambda\n",
        "# Dada la info, se tiene una tasa de 6 clientes cada 9 minutos\n",
        "# lambda = 6\n",
        "ppois(4,lambda = 6, lower.tail = F)#71% de prob de que lleguen 5 o más clientes en un lapso de 9 minutos.\n",
        "\n",
        "\n",
        "\n",
        "\n"
      ],
      "execution_count": 78,
      "outputs": [
        {
          "output_type": "display_data",
          "data": {
            "text/html": [
              "0.714943499683369"
            ],
            "text/markdown": "0.714943499683369",
            "text/latex": "0.714943499683369",
            "text/plain": [
              "[1] 0.7149435"
            ]
          },
          "metadata": {}
        }
      ]
    },
    {
      "cell_type": "markdown",
      "metadata": {
        "trusted": true,
        "id": "N3dXrqZSIzQY"
      },
      "source": [
        "**P6.** Se sabe que la tasa de falla en la elaboración de ampolletas sigue una distribución poisson, con una tasa de falla de 3 ampolletas defectuosas por semana.\n",
        "¿Cuál es la probabilidad de que al cabo de un mes se genere un total de 20 ampolletas defectuosas o más?\n",
        "\n"
      ]
    },
    {
      "cell_type": "code",
      "metadata": {
        "trusted": true,
        "id": "d8fs6wynIzQY",
        "outputId": "5b636ad9-9751-476b-8302-0a2e85625fdf",
        "colab": {
          "base_uri": "https://localhost:8080/",
          "height": 34
        }
      },
      "source": [
        "# lambda = 3*4 = 12 ampolletas defectuosas por mes\n",
        "ppois(19,lambda = 12, lower.tail = F)# Hay un 2% de prob de que se genern 20 o más ampolletass defectuosas en un mes.\n"
      ],
      "execution_count": 79,
      "outputs": [
        {
          "output_type": "display_data",
          "data": {
            "text/html": [
              "0.0212797693830266"
            ],
            "text/markdown": "0.0212797693830266",
            "text/latex": "0.0212797693830266",
            "text/plain": [
              "[1] 0.02127977"
            ]
          },
          "metadata": {}
        }
      ]
    },
    {
      "cell_type": "code",
      "metadata": {
        "trusted": true,
        "id": "D5uVa3ICIzQY"
      },
      "source": [],
      "execution_count": null,
      "outputs": []
    }
  ]
}