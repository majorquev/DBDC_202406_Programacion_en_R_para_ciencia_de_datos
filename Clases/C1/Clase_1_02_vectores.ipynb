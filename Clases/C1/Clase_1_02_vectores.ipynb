{
  "nbformat": 4,
  "nbformat_minor": 0,
  "metadata": {
    "colab": {
      "provenance": [],
      "include_colab_link": true
    },
    "kernelspec": {
      "name": "ir",
      "display_name": "R"
    }
  },
  "cells": [
    {
      "cell_type": "markdown",
      "metadata": {
        "id": "view-in-github",
        "colab_type": "text"
      },
      "source": [
        "<a href=\"https://colab.research.google.com/github/majorquev/DBDC_202406_Programacion_en_R_para_ciencia_de_datos/blob/main/Clases/C1/Clase_1_02_vectores.ipynb\" target=\"_parent\"><img src=\"https://colab.research.google.com/assets/colab-badge.svg\" alt=\"Open In Colab\"/></a>"
      ]
    },
    {
      "cell_type": "markdown",
      "metadata": {
        "collapsed": true,
        "id": "Yb2RXjL2Igun"
      },
      "source": [
        "# Parte 1: Introducción a R (continuación)\n",
        "\n",
        "**Autor:** Miguel Jorquera Viguera<br>\n",
        "**E-mail:** majorquev@gmail.com<br>\n",
        "**Ayudante:** Rodrigo Morales <br>\n",
        "**E-mail ayudante:** rumorale1@gmail.com\n",
        "\n"
      ]
    },
    {
      "cell_type": "markdown",
      "metadata": {
        "id": "d_bHZs66Iguo"
      },
      "source": [
        "## 3. Vectores y matrices\n",
        "\n",
        "### 3.1 Vectores\n",
        "\n",
        "En R, así como en la mayoría de los lenguajes de programación, uno de los objetos más usuales para almacenar información son los vectores, los que corresponden a arreglos unidimensionales que almacenan un mismo tipo de dato en cada una de sus entradas.\n",
        "\n",
        "Todo vector en R se puede declarar con la letra \"c\" seguido de los elementos que lo componen entre paréntesis y separados por comas."
      ]
    },
    {
      "cell_type": "code",
      "metadata": {
        "id": "ljQ0JcsTIgup"
      },
      "source": [
        "# Declaración de dos vectores\n",
        "v1 <- c(1,1,2,3,5,8)\n",
        "v2 <- c(\"a\",\"b\",\"c\")\n",
        "v3 <- c(T,T,F,T)\n"
      ],
      "execution_count": 2,
      "outputs": []
    },
    {
      "cell_type": "code",
      "source": [
        "v1\n",
        "v2\n",
        "v3"
      ],
      "metadata": {
        "id": "aT-h2NbiUiSp",
        "outputId": "d0e5c8b3-1602-4253-e9f7-8504aeb42349",
        "colab": {
          "base_uri": "https://localhost:8080/",
          "height": 69
        }
      },
      "execution_count": 8,
      "outputs": [
        {
          "output_type": "display_data",
          "data": {
            "text/html": [
              "<style>\n",
              ".list-inline {list-style: none; margin:0; padding: 0}\n",
              ".list-inline>li {display: inline-block}\n",
              ".list-inline>li:not(:last-child)::after {content: \"\\00b7\"; padding: 0 .5ex}\n",
              "</style>\n",
              "<ol class=list-inline><li>1</li><li>1</li><li>2</li><li>3</li><li>5</li><li>8</li></ol>\n"
            ],
            "text/markdown": "1. 1\n2. 1\n3. 2\n4. 3\n5. 5\n6. 8\n\n\n",
            "text/latex": "\\begin{enumerate*}\n\\item 1\n\\item 1\n\\item 2\n\\item 3\n\\item 5\n\\item 8\n\\end{enumerate*}\n",
            "text/plain": [
              "[1] 1 1 2 3 5 8"
            ]
          },
          "metadata": {}
        },
        {
          "output_type": "display_data",
          "data": {
            "text/html": [
              "<style>\n",
              ".list-inline {list-style: none; margin:0; padding: 0}\n",
              ".list-inline>li {display: inline-block}\n",
              ".list-inline>li:not(:last-child)::after {content: \"\\00b7\"; padding: 0 .5ex}\n",
              "</style>\n",
              "<ol class=list-inline><li>'a'</li><li>'b'</li><li>'c'</li></ol>\n"
            ],
            "text/markdown": "1. 'a'\n2. 'b'\n3. 'c'\n\n\n",
            "text/latex": "\\begin{enumerate*}\n\\item 'a'\n\\item 'b'\n\\item 'c'\n\\end{enumerate*}\n",
            "text/plain": [
              "[1] \"a\" \"b\" \"c\""
            ]
          },
          "metadata": {}
        },
        {
          "output_type": "display_data",
          "data": {
            "text/html": [
              "<style>\n",
              ".list-inline {list-style: none; margin:0; padding: 0}\n",
              ".list-inline>li {display: inline-block}\n",
              ".list-inline>li:not(:last-child)::after {content: \"\\00b7\"; padding: 0 .5ex}\n",
              "</style>\n",
              "<ol class=list-inline><li>TRUE</li><li>TRUE</li><li>FALSE</li><li>TRUE</li></ol>\n"
            ],
            "text/markdown": "1. TRUE\n2. TRUE\n3. FALSE\n4. TRUE\n\n\n",
            "text/latex": "\\begin{enumerate*}\n\\item TRUE\n\\item TRUE\n\\item FALSE\n\\item TRUE\n\\end{enumerate*}\n",
            "text/plain": [
              "[1]  TRUE  TRUE FALSE  TRUE"
            ]
          },
          "metadata": {}
        }
      ]
    },
    {
      "cell_type": "code",
      "metadata": {
        "id": "GxHhDdS4Iguy",
        "outputId": "408506e4-9b84-4fdb-ed37-9cba5c1f37aa",
        "colab": {
          "base_uri": "https://localhost:8080/",
          "height": 52
        }
      },
      "source": [
        "# clase y tipo de dato\n",
        "class(v1)\n",
        "typeof(v1)\n"
      ],
      "execution_count": 4,
      "outputs": [
        {
          "output_type": "display_data",
          "data": {
            "text/html": [
              "'numeric'"
            ],
            "text/markdown": "'numeric'",
            "text/latex": "'numeric'",
            "text/plain": [
              "[1] \"numeric\""
            ]
          },
          "metadata": {}
        },
        {
          "output_type": "display_data",
          "data": {
            "text/html": [
              "'double'"
            ],
            "text/markdown": "'double'",
            "text/latex": "'double'",
            "text/plain": [
              "[1] \"double\""
            ]
          },
          "metadata": {}
        }
      ]
    },
    {
      "cell_type": "code",
      "source": [
        "class(v2)\n",
        "typeof(v2)"
      ],
      "metadata": {
        "id": "nnLAIHADUOTc",
        "outputId": "298c4163-9108-4ba0-df65-c6d2fcbd4e5c",
        "colab": {
          "base_uri": "https://localhost:8080/",
          "height": 52
        }
      },
      "execution_count": 5,
      "outputs": [
        {
          "output_type": "display_data",
          "data": {
            "text/html": [
              "'character'"
            ],
            "text/markdown": "'character'",
            "text/latex": "'character'",
            "text/plain": [
              "[1] \"character\""
            ]
          },
          "metadata": {}
        },
        {
          "output_type": "display_data",
          "data": {
            "text/html": [
              "'character'"
            ],
            "text/markdown": "'character'",
            "text/latex": "'character'",
            "text/plain": [
              "[1] \"character\""
            ]
          },
          "metadata": {}
        }
      ]
    },
    {
      "cell_type": "code",
      "source": [
        "class(v3)\n",
        "typeof(v3)"
      ],
      "metadata": {
        "id": "Z4BJGaA4URj3",
        "outputId": "9cbc7d2c-722f-44b6-b131-be5b871dfa70",
        "colab": {
          "base_uri": "https://localhost:8080/",
          "height": 52
        }
      },
      "execution_count": 6,
      "outputs": [
        {
          "output_type": "display_data",
          "data": {
            "text/html": [
              "'logical'"
            ],
            "text/markdown": "'logical'",
            "text/latex": "'logical'",
            "text/plain": [
              "[1] \"logical\""
            ]
          },
          "metadata": {}
        },
        {
          "output_type": "display_data",
          "data": {
            "text/html": [
              "'logical'"
            ],
            "text/markdown": "'logical'",
            "text/latex": "'logical'",
            "text/plain": [
              "[1] \"logical\""
            ]
          },
          "metadata": {}
        }
      ]
    },
    {
      "cell_type": "code",
      "metadata": {
        "id": "R88mjniaIgu_"
      },
      "source": [
        "# Nombres de las entradas de un vector\n",
        "v4 <- c(e1 = 10,\n",
        "        e2 = 20,\n",
        "        e3 = 30 )\n"
      ],
      "execution_count": 9,
      "outputs": []
    },
    {
      "cell_type": "code",
      "source": [
        "v4"
      ],
      "metadata": {
        "id": "MqS2XdHmVJPI",
        "outputId": "9a6f2b5c-12c0-4cfb-d0b4-999ab9d121a5",
        "colab": {
          "base_uri": "https://localhost:8080/",
          "height": 34
        }
      },
      "execution_count": 10,
      "outputs": [
        {
          "output_type": "display_data",
          "data": {
            "text/html": [
              "<style>\n",
              ".dl-inline {width: auto; margin:0; padding: 0}\n",
              ".dl-inline>dt, .dl-inline>dd {float: none; width: auto; display: inline-block}\n",
              ".dl-inline>dt::after {content: \":\\0020\"; padding-right: .5ex}\n",
              ".dl-inline>dt:not(:first-of-type) {padding-left: .5ex}\n",
              "</style><dl class=dl-inline><dt>e1</dt><dd>10</dd><dt>e2</dt><dd>20</dd><dt>e3</dt><dd>30</dd></dl>\n"
            ],
            "text/markdown": "e1\n:   10e2\n:   20e3\n:   30\n\n",
            "text/latex": "\\begin{description*}\n\\item[e1] 10\n\\item[e2] 20\n\\item[e3] 30\n\\end{description*}\n",
            "text/plain": [
              "e1 e2 e3 \n",
              "10 20 30 "
            ]
          },
          "metadata": {}
        }
      ]
    },
    {
      "cell_type": "code",
      "metadata": {
        "id": "OAhPpN3vIgvB",
        "outputId": "f4344a1c-1b05-4c12-df18-a32ed0a361c6",
        "colab": {
          "base_uri": "https://localhost:8080/",
          "height": 34
        }
      },
      "source": [
        "# podemos asignar los nombres a v2\n",
        "v2\n"
      ],
      "execution_count": 12,
      "outputs": [
        {
          "output_type": "display_data",
          "data": {
            "text/html": [
              "<style>\n",
              ".list-inline {list-style: none; margin:0; padding: 0}\n",
              ".list-inline>li {display: inline-block}\n",
              ".list-inline>li:not(:last-child)::after {content: \"\\00b7\"; padding: 0 .5ex}\n",
              "</style>\n",
              "<ol class=list-inline><li>'a'</li><li>'b'</li><li>'c'</li></ol>\n"
            ],
            "text/markdown": "1. 'a'\n2. 'b'\n3. 'c'\n\n\n",
            "text/latex": "\\begin{enumerate*}\n\\item 'a'\n\\item 'b'\n\\item 'c'\n\\end{enumerate*}\n",
            "text/plain": [
              "[1] \"a\" \"b\" \"c\""
            ]
          },
          "metadata": {}
        }
      ]
    },
    {
      "cell_type": "code",
      "metadata": {
        "id": "E6dxkyP5IgvF"
      },
      "source": [
        "# nombres de las entradas con la función, names()\n"
      ],
      "execution_count": null,
      "outputs": []
    },
    {
      "cell_type": "code",
      "source": [
        "names(v4)# retorna unvesctor coon los nombres de v4"
      ],
      "metadata": {
        "id": "m_vr_rvEVbMg",
        "outputId": "1861f523-1b9f-47b6-cbb8-0a114228326f",
        "colab": {
          "base_uri": "https://localhost:8080/",
          "height": 34
        }
      },
      "execution_count": 13,
      "outputs": [
        {
          "output_type": "display_data",
          "data": {
            "text/html": [
              "<style>\n",
              ".list-inline {list-style: none; margin:0; padding: 0}\n",
              ".list-inline>li {display: inline-block}\n",
              ".list-inline>li:not(:last-child)::after {content: \"\\00b7\"; padding: 0 .5ex}\n",
              "</style>\n",
              "<ol class=list-inline><li>'e1'</li><li>'e2'</li><li>'e3'</li></ol>\n"
            ],
            "text/markdown": "1. 'e1'\n2. 'e2'\n3. 'e3'\n\n\n",
            "text/latex": "\\begin{enumerate*}\n\\item 'e1'\n\\item 'e2'\n\\item 'e3'\n\\end{enumerate*}\n",
            "text/plain": [
              "[1] \"e1\" \"e2\" \"e3\""
            ]
          },
          "metadata": {}
        }
      ]
    },
    {
      "cell_type": "code",
      "source": [
        "names(v2)"
      ],
      "metadata": {
        "id": "PsT4yJEWVjzm",
        "outputId": "1005fb33-e20e-479b-d3e7-33b24a8d1417",
        "colab": {
          "base_uri": "https://localhost:8080/",
          "height": 34
        }
      },
      "execution_count": 14,
      "outputs": [
        {
          "output_type": "display_data",
          "data": {
            "text/plain": [
              "NULL"
            ]
          },
          "metadata": {}
        }
      ]
    },
    {
      "cell_type": "code",
      "source": [
        "# Como v2 tiene 3 elementos, asignaremos 3 nombres\n",
        "names(v2) <- c(\"letra1\", \"letra2\", \"letra3\")"
      ],
      "metadata": {
        "id": "5JYW2Qs4VoBz"
      },
      "execution_count": 15,
      "outputs": []
    },
    {
      "cell_type": "code",
      "source": [
        "v2"
      ],
      "metadata": {
        "id": "JG4__oc9V4gZ",
        "outputId": "e4d2ea47-b0ff-4e97-f333-33ba776b44e6",
        "colab": {
          "base_uri": "https://localhost:8080/",
          "height": 34
        }
      },
      "execution_count": 16,
      "outputs": [
        {
          "output_type": "display_data",
          "data": {
            "text/html": [
              "<style>\n",
              ".dl-inline {width: auto; margin:0; padding: 0}\n",
              ".dl-inline>dt, .dl-inline>dd {float: none; width: auto; display: inline-block}\n",
              ".dl-inline>dt::after {content: \":\\0020\"; padding-right: .5ex}\n",
              ".dl-inline>dt:not(:first-of-type) {padding-left: .5ex}\n",
              "</style><dl class=dl-inline><dt>letra1</dt><dd>'a'</dd><dt>letra2</dt><dd>'b'</dd><dt>letra3</dt><dd>'c'</dd></dl>\n"
            ],
            "text/markdown": "letra1\n:   'a'letra2\n:   'b'letra3\n:   'c'\n\n",
            "text/latex": "\\begin{description*}\n\\item[letra1] 'a'\n\\item[letra2] 'b'\n\\item[letra3] 'c'\n\\end{description*}\n",
            "text/plain": [
              "letra1 letra2 letra3 \n",
              "   \"a\"    \"b\"    \"c\" "
            ]
          },
          "metadata": {}
        }
      ]
    },
    {
      "cell_type": "code",
      "metadata": {
        "id": "7Ayre5BlIgvH",
        "outputId": "6ab9c4e3-50b0-4fb4-df84-726b70a6221e",
        "colab": {
          "base_uri": "https://localhost:8080/",
          "height": 34
        }
      },
      "source": [
        "#combinar vectores\n",
        "v1\n",
        "x <- c(60,78.6)"
      ],
      "execution_count": 18,
      "outputs": [
        {
          "output_type": "display_data",
          "data": {
            "text/html": [
              "<style>\n",
              ".list-inline {list-style: none; margin:0; padding: 0}\n",
              ".list-inline>li {display: inline-block}\n",
              ".list-inline>li:not(:last-child)::after {content: \"\\00b7\"; padding: 0 .5ex}\n",
              "</style>\n",
              "<ol class=list-inline><li>1</li><li>1</li><li>2</li><li>3</li><li>5</li><li>8</li></ol>\n"
            ],
            "text/markdown": "1. 1\n2. 1\n3. 2\n4. 3\n5. 5\n6. 8\n\n\n",
            "text/latex": "\\begin{enumerate*}\n\\item 1\n\\item 1\n\\item 2\n\\item 3\n\\item 5\n\\item 8\n\\end{enumerate*}\n",
            "text/plain": [
              "[1] 1 1 2 3 5 8"
            ]
          },
          "metadata": {}
        }
      ]
    },
    {
      "cell_type": "code",
      "metadata": {
        "id": "QETBghXxIgvI",
        "outputId": "92e034b1-940d-4736-ccfb-4f687974e7cc",
        "colab": {
          "base_uri": "https://localhost:8080/",
          "height": 34
        }
      },
      "source": [
        "# c : es una abreviación de \"combine\"\n",
        "c(v1,x)"
      ],
      "execution_count": 19,
      "outputs": [
        {
          "output_type": "display_data",
          "data": {
            "text/html": [
              "<style>\n",
              ".list-inline {list-style: none; margin:0; padding: 0}\n",
              ".list-inline>li {display: inline-block}\n",
              ".list-inline>li:not(:last-child)::after {content: \"\\00b7\"; padding: 0 .5ex}\n",
              "</style>\n",
              "<ol class=list-inline><li>1</li><li>1</li><li>2</li><li>3</li><li>5</li><li>8</li><li>60</li><li>78.6</li></ol>\n"
            ],
            "text/markdown": "1. 1\n2. 1\n3. 2\n4. 3\n5. 5\n6. 8\n7. 60\n8. 78.6\n\n\n",
            "text/latex": "\\begin{enumerate*}\n\\item 1\n\\item 1\n\\item 2\n\\item 3\n\\item 5\n\\item 8\n\\item 60\n\\item 78.6\n\\end{enumerate*}\n",
            "text/plain": [
              "[1]  1.0  1.0  2.0  3.0  5.0  8.0 60.0 78.6"
            ]
          },
          "metadata": {}
        }
      ]
    },
    {
      "cell_type": "markdown",
      "metadata": {
        "id": "MX35j24_IgvN"
      },
      "source": [
        "#### 3.1.1 Acceso a los elementos de un vector\n",
        "\n",
        "El acceso a los elementos de un vector se puede llevar acabo indicando la posición del elemento (los naturales parten en 1!), el nombre de la casilla que lo contiene, o bien mediante sentencias lógicas que retornen \"TRUE\" en la posición deseada.\n",
        "\n"
      ]
    },
    {
      "cell_type": "code",
      "metadata": {
        "id": "zW2_TzKxIgvN",
        "outputId": "7370535b-31e8-4163-9d23-6d2c4c02c4e0",
        "colab": {
          "base_uri": "https://localhost:8080/",
          "height": 52
        }
      },
      "source": [
        "# Mediante posición\n",
        "v1\n",
        "# Rescatamos el 4to elemento\n",
        "v1[4]"
      ],
      "execution_count": 21,
      "outputs": [
        {
          "output_type": "display_data",
          "data": {
            "text/html": [
              "<style>\n",
              ".list-inline {list-style: none; margin:0; padding: 0}\n",
              ".list-inline>li {display: inline-block}\n",
              ".list-inline>li:not(:last-child)::after {content: \"\\00b7\"; padding: 0 .5ex}\n",
              "</style>\n",
              "<ol class=list-inline><li>1</li><li>1</li><li>2</li><li>3</li><li>5</li><li>8</li></ol>\n"
            ],
            "text/markdown": "1. 1\n2. 1\n3. 2\n4. 3\n5. 5\n6. 8\n\n\n",
            "text/latex": "\\begin{enumerate*}\n\\item 1\n\\item 1\n\\item 2\n\\item 3\n\\item 5\n\\item 8\n\\end{enumerate*}\n",
            "text/plain": [
              "[1] 1 1 2 3 5 8"
            ]
          },
          "metadata": {}
        },
        {
          "output_type": "display_data",
          "data": {
            "text/html": [
              "3"
            ],
            "text/markdown": "3",
            "text/latex": "3",
            "text/plain": [
              "[1] 3"
            ]
          },
          "metadata": {}
        }
      ]
    },
    {
      "cell_type": "code",
      "metadata": {
        "id": "XWL1ZIyMIgvR",
        "outputId": "23f01ea7-6f44-4637-f441-57de51f53832",
        "colab": {
          "base_uri": "https://localhost:8080/",
          "height": 34
        }
      },
      "source": [
        "# retorna los elementos de las casillas 1  y 4 de v1. Para ello indicamos un vector de psiciones dentro de los corchetes\n",
        "v1[c(1,4)]"
      ],
      "execution_count": 22,
      "outputs": [
        {
          "output_type": "display_data",
          "data": {
            "text/html": [
              "<style>\n",
              ".list-inline {list-style: none; margin:0; padding: 0}\n",
              ".list-inline>li {display: inline-block}\n",
              ".list-inline>li:not(:last-child)::after {content: \"\\00b7\"; padding: 0 .5ex}\n",
              "</style>\n",
              "<ol class=list-inline><li>1</li><li>3</li></ol>\n"
            ],
            "text/markdown": "1. 1\n2. 3\n\n\n",
            "text/latex": "\\begin{enumerate*}\n\\item 1\n\\item 3\n\\end{enumerate*}\n",
            "text/plain": [
              "[1] 1 3"
            ]
          },
          "metadata": {}
        }
      ]
    },
    {
      "cell_type": "code",
      "metadata": {
        "id": "uBqEKq1aIgvT",
        "outputId": "c767f32f-7e11-4c8a-9217-c058f4e8696e",
        "colab": {
          "base_uri": "https://localhost:8080/",
          "height": 52
        }
      },
      "source": [
        "#NOTA 3:5, R lo interpreta como c(3,4,5)\n",
        "v1[3:5]\n",
        "v1[c(3,4,5)]"
      ],
      "execution_count": 24,
      "outputs": [
        {
          "output_type": "display_data",
          "data": {
            "text/html": [
              "<style>\n",
              ".list-inline {list-style: none; margin:0; padding: 0}\n",
              ".list-inline>li {display: inline-block}\n",
              ".list-inline>li:not(:last-child)::after {content: \"\\00b7\"; padding: 0 .5ex}\n",
              "</style>\n",
              "<ol class=list-inline><li>2</li><li>3</li><li>5</li></ol>\n"
            ],
            "text/markdown": "1. 2\n2. 3\n3. 5\n\n\n",
            "text/latex": "\\begin{enumerate*}\n\\item 2\n\\item 3\n\\item 5\n\\end{enumerate*}\n",
            "text/plain": [
              "[1] 2 3 5"
            ]
          },
          "metadata": {}
        },
        {
          "output_type": "display_data",
          "data": {
            "text/html": [
              "<style>\n",
              ".list-inline {list-style: none; margin:0; padding: 0}\n",
              ".list-inline>li {display: inline-block}\n",
              ".list-inline>li:not(:last-child)::after {content: \"\\00b7\"; padding: 0 .5ex}\n",
              "</style>\n",
              "<ol class=list-inline><li>2</li><li>3</li><li>5</li></ol>\n"
            ],
            "text/markdown": "1. 2\n2. 3\n3. 5\n\n\n",
            "text/latex": "\\begin{enumerate*}\n\\item 2\n\\item 3\n\\item 5\n\\end{enumerate*}\n",
            "text/plain": [
              "[1] 2 3 5"
            ]
          },
          "metadata": {}
        }
      ]
    },
    {
      "cell_type": "code",
      "source": [
        "-10:20"
      ],
      "metadata": {
        "id": "2Ya2hm_HW9vX",
        "outputId": "712c4c02-d619-4c5b-fa6c-b4e8ca9a9780",
        "colab": {
          "base_uri": "https://localhost:8080/",
          "height": 34
        }
      },
      "execution_count": 25,
      "outputs": [
        {
          "output_type": "display_data",
          "data": {
            "text/html": [
              "<style>\n",
              ".list-inline {list-style: none; margin:0; padding: 0}\n",
              ".list-inline>li {display: inline-block}\n",
              ".list-inline>li:not(:last-child)::after {content: \"\\00b7\"; padding: 0 .5ex}\n",
              "</style>\n",
              "<ol class=list-inline><li>-10</li><li>-9</li><li>-8</li><li>-7</li><li>-6</li><li>-5</li><li>-4</li><li>-3</li><li>-2</li><li>-1</li><li>0</li><li>1</li><li>2</li><li>3</li><li>4</li><li>5</li><li>6</li><li>7</li><li>8</li><li>9</li><li>10</li><li>11</li><li>12</li><li>13</li><li>14</li><li>15</li><li>16</li><li>17</li><li>18</li><li>19</li><li>20</li></ol>\n"
            ],
            "text/markdown": "1. -10\n2. -9\n3. -8\n4. -7\n5. -6\n6. -5\n7. -4\n8. -3\n9. -2\n10. -1\n11. 0\n12. 1\n13. 2\n14. 3\n15. 4\n16. 5\n17. 6\n18. 7\n19. 8\n20. 9\n21. 10\n22. 11\n23. 12\n24. 13\n25. 14\n26. 15\n27. 16\n28. 17\n29. 18\n30. 19\n31. 20\n\n\n",
            "text/latex": "\\begin{enumerate*}\n\\item -10\n\\item -9\n\\item -8\n\\item -7\n\\item -6\n\\item -5\n\\item -4\n\\item -3\n\\item -2\n\\item -1\n\\item 0\n\\item 1\n\\item 2\n\\item 3\n\\item 4\n\\item 5\n\\item 6\n\\item 7\n\\item 8\n\\item 9\n\\item 10\n\\item 11\n\\item 12\n\\item 13\n\\item 14\n\\item 15\n\\item 16\n\\item 17\n\\item 18\n\\item 19\n\\item 20\n\\end{enumerate*}\n",
            "text/plain": [
              " [1] -10  -9  -8  -7  -6  -5  -4  -3  -2  -1   0   1   2   3   4   5   6   7   8\n",
              "[20]   9  10  11  12  13  14  15  16  17  18  19  20"
            ]
          },
          "metadata": {}
        }
      ]
    },
    {
      "cell_type": "code",
      "metadata": {
        "id": "XIuQSfvKIgvV",
        "outputId": "cc82b524-38d0-4bdd-ecfe-cdfb613eb0af",
        "colab": {
          "base_uri": "https://localhost:8080/",
          "height": 34
        }
      },
      "source": [
        "# podemos acceder a los elmentos mediante el nombre (ej, a la pos llamada letra3 de v2)\n",
        "v2[\"letra3\"]"
      ],
      "execution_count": 27,
      "outputs": [
        {
          "output_type": "display_data",
          "data": {
            "text/html": [
              "<strong>letra3:</strong> 'c'"
            ],
            "text/markdown": "**letra3:** 'c'",
            "text/latex": "\\textbf{letra3:} 'c'",
            "text/plain": [
              "letra3 \n",
              "   \"c\" "
            ]
          },
          "metadata": {}
        }
      ]
    },
    {
      "cell_type": "code",
      "source": [
        "# y si quiero letra1 y letra3\n",
        "v2[c(\"letra1\",\"letra3\")]"
      ],
      "metadata": {
        "id": "ins9lkp2XNzI",
        "outputId": "48779159-da85-4cb0-9877-f64bcd8ed078",
        "colab": {
          "base_uri": "https://localhost:8080/",
          "height": 34
        }
      },
      "execution_count": 28,
      "outputs": [
        {
          "output_type": "display_data",
          "data": {
            "text/html": [
              "<style>\n",
              ".dl-inline {width: auto; margin:0; padding: 0}\n",
              ".dl-inline>dt, .dl-inline>dd {float: none; width: auto; display: inline-block}\n",
              ".dl-inline>dt::after {content: \":\\0020\"; padding-right: .5ex}\n",
              ".dl-inline>dt:not(:first-of-type) {padding-left: .5ex}\n",
              "</style><dl class=dl-inline><dt>letra1</dt><dd>'a'</dd><dt>letra3</dt><dd>'c'</dd></dl>\n"
            ],
            "text/markdown": "letra1\n:   'a'letra3\n:   'c'\n\n",
            "text/latex": "\\begin{description*}\n\\item[letra1] 'a'\n\\item[letra3] 'c'\n\\end{description*}\n",
            "text/plain": [
              "letra1 letra3 \n",
              "   \"a\"    \"c\" "
            ]
          },
          "metadata": {}
        }
      ]
    },
    {
      "cell_type": "code",
      "metadata": {
        "id": "IHjnaSSyIgvX",
        "outputId": "3b908e7a-e3fe-4a98-dcd7-1159492b5227",
        "colab": {
          "base_uri": "https://localhost:8080/",
          "height": 34
        }
      },
      "source": [
        "# cambiar una entrada de un vector o cambiar un nombre\n",
        "v1\n",
        "# Cambiar el elemtno de pos 4 por un 66\n",
        "\n",
        "v1[4] <- 66"
      ],
      "execution_count": 30,
      "outputs": [
        {
          "output_type": "display_data",
          "data": {
            "text/html": [
              "<style>\n",
              ".list-inline {list-style: none; margin:0; padding: 0}\n",
              ".list-inline>li {display: inline-block}\n",
              ".list-inline>li:not(:last-child)::after {content: \"\\00b7\"; padding: 0 .5ex}\n",
              "</style>\n",
              "<ol class=list-inline><li>1</li><li>1</li><li>2</li><li>3</li><li>5</li><li>8</li></ol>\n"
            ],
            "text/markdown": "1. 1\n2. 1\n3. 2\n4. 3\n5. 5\n6. 8\n\n\n",
            "text/latex": "\\begin{enumerate*}\n\\item 1\n\\item 1\n\\item 2\n\\item 3\n\\item 5\n\\item 8\n\\end{enumerate*}\n",
            "text/plain": [
              "[1] 1 1 2 3 5 8"
            ]
          },
          "metadata": {}
        }
      ]
    },
    {
      "cell_type": "code",
      "source": [],
      "metadata": {
        "id": "UoziFX-jYMz4"
      },
      "execution_count": null,
      "outputs": []
    },
    {
      "cell_type": "code",
      "source": [
        "v1"
      ],
      "metadata": {
        "id": "0rgBuTFNXv5C",
        "outputId": "be465a6c-b573-4110-c5a7-8577dae1f25f",
        "colab": {
          "base_uri": "https://localhost:8080/",
          "height": 34
        }
      },
      "execution_count": 31,
      "outputs": [
        {
          "output_type": "display_data",
          "data": {
            "text/html": [
              "<style>\n",
              ".list-inline {list-style: none; margin:0; padding: 0}\n",
              ".list-inline>li {display: inline-block}\n",
              ".list-inline>li:not(:last-child)::after {content: \"\\00b7\"; padding: 0 .5ex}\n",
              "</style>\n",
              "<ol class=list-inline><li>1</li><li>1</li><li>2</li><li>66</li><li>5</li><li>8</li></ol>\n"
            ],
            "text/markdown": "1. 1\n2. 1\n3. 2\n4. 66\n5. 5\n6. 8\n\n\n",
            "text/latex": "\\begin{enumerate*}\n\\item 1\n\\item 1\n\\item 2\n\\item 66\n\\item 5\n\\item 8\n\\end{enumerate*}\n",
            "text/plain": [
              "[1]  1  1  2 66  5  8"
            ]
          },
          "metadata": {}
        }
      ]
    },
    {
      "cell_type": "code",
      "metadata": {
        "id": "KCKDbYtRIgvZ"
      },
      "source": [],
      "execution_count": null,
      "outputs": []
    },
    {
      "cell_type": "code",
      "metadata": {
        "id": "cVzhj4ASIgvb"
      },
      "source": [
        "# podemos cambiar uno de los nombres (ej, queremos cambiar el tercer nombre de v2 por \"nuevo\")\n"
      ],
      "execution_count": null,
      "outputs": []
    },
    {
      "cell_type": "code",
      "metadata": {
        "id": "b6oqx_D4Igvd"
      },
      "source": [
        "# podemos modificar varias posiciones a la vez\n",
        "# queremos re-asignar los valores \"XX\" y \"ZZ\" en las posiciones 3 y 7 respecivamente\n"
      ],
      "execution_count": null,
      "outputs": []
    },
    {
      "cell_type": "markdown",
      "metadata": {
        "id": "XzyIBLZxIgvg"
      },
      "source": [
        "**Algunas sentencias de utilidad**\n",
        "\n",
        "También es posible acceder a los alementos de un vector mediante sentencias lógicas que retornen \"TRUE\" en la posición deseada. Para ello algunas funciones que son de utilidad son las siguientes.\n",
        "\n",
        "   **Conectores lógicos**\n",
        "\n",
        "    &, && |                  : conector y\n",
        "    |,||                     : conector o\n",
        "    ==                       : igual\n",
        "    !                        : negación\n",
        "    !=                       : distinto\n",
        "    >, >=                    : mayor que, mayor o igual que\n",
        "    <,<=                     : menor que, menor o igual que\n",
        "    is.na()                  : es NA?\n",
        "    which()                  : en qué posición es verdadera la expresión evaluada?\n",
        "    which.min(), which.max() : en qué posición se alcanza el mínimi/máximo\n",
        "    %in%                     : los elementos están en?\n",
        "    \n",
        "    "
      ]
    },
    {
      "cell_type": "code",
      "metadata": {
        "id": "NhZPJo56Igvh"
      },
      "source": [
        "# para acceder a elementos de un vector tenemos:\n",
        "# 1. por posicion\n",
        "# 2. por nombre\n",
        "# 3. por indicatrices lógicas (un vector con TRUE (T) o FALSE (F) del mismo largo del que quiero consultar)\n",
        "\n",
        "\n",
        "\n",
        "\n"
      ],
      "execution_count": null,
      "outputs": []
    },
    {
      "cell_type": "code",
      "metadata": {
        "id": "5C4hDsvSIgvj"
      },
      "source": [
        "# Esto facilita la búsqueda dentro de un un vector. Ej: retornar los elementos mayores aun valor dado\n"
      ],
      "execution_count": null,
      "outputs": []
    },
    {
      "cell_type": "code",
      "metadata": {
        "id": "bj-wjeddIgvl"
      },
      "source": [
        "# con esta idea en mente podríamos, por ejemplo, rescatar las edades con valor mayor o igual a 18 años\n"
      ],
      "execution_count": null,
      "outputs": []
    },
    {
      "cell_type": "code",
      "metadata": {
        "id": "fvq5tBXVIgvm"
      },
      "source": [
        "# podríamos guardar el vector de T o F's en una variable para luego referenciarla\n",
        "\n"
      ],
      "execution_count": null,
      "outputs": []
    },
    {
      "cell_type": "code",
      "metadata": {
        "id": "ioUJy8UEIgvz"
      },
      "source": [
        "#?which.max\n",
        "#podemos rescatar el valor mediante el índice guardado\n",
        "\n"
      ],
      "execution_count": null,
      "outputs": []
    },
    {
      "cell_type": "code",
      "metadata": {
        "id": "_8-SMxfWIgv0"
      },
      "source": [
        "# Operador %in%\n",
        "# vector_a %in% vector_b (qué elementos del vector a están en el vector b)\n",
        "# retorna un  vector de TRUE's y FALSE's del largo del primer vector(a) (izquierda)\n"
      ],
      "execution_count": null,
      "outputs": []
    },
    {
      "cell_type": "code",
      "metadata": {
        "id": "s9bYOQ4GIgv2"
      },
      "source": [
        "# podemos utilizar la función all() para evaluar si todos los elementos de un vector son TRUE.\n"
      ],
      "execution_count": null,
      "outputs": []
    },
    {
      "cell_type": "code",
      "metadata": {
        "id": "Wd-mSv3PIgv4"
      },
      "source": [
        "# si quisiéramos evaluar que todos los elementos de la izq. estén en la derecha,\n",
        "# podemos utilizar la función all()."
      ],
      "execution_count": null,
      "outputs": []
    },
    {
      "cell_type": "code",
      "metadata": {
        "id": "Zn85mjGmIgv5"
      },
      "source": [],
      "execution_count": null,
      "outputs": []
    },
    {
      "cell_type": "code",
      "metadata": {
        "id": "1YGnzt1zIgv7"
      },
      "source": [
        "# aritmética con vectores\n",
        "# operación de vectore de igual largo\n"
      ],
      "execution_count": null,
      "outputs": []
    },
    {
      "cell_type": "code",
      "metadata": {
        "id": "Bw8lX76XIgv8"
      },
      "source": [
        "#ponderaciones por escalares\n"
      ],
      "execution_count": null,
      "outputs": []
    },
    {
      "cell_type": "code",
      "metadata": {
        "id": "syufc9_OIgv_"
      },
      "source": [
        "#CUIDADO: Si se operan vectores de dstinto largo se reciclan los valores del vector más pequeño\n"
      ],
      "execution_count": null,
      "outputs": []
    },
    {
      "cell_type": "code",
      "metadata": {
        "id": "9kfbx6J4IgwC"
      },
      "source": [
        "# NOTA:\n",
        "# podemos determinar el largo de un vector mediante la función length()\n"
      ],
      "execution_count": null,
      "outputs": []
    },
    {
      "cell_type": "markdown",
      "metadata": {
        "id": "LIr-IFowIgwD"
      },
      "source": [
        "**Secuencias**\n",
        "\n",
        "En R es posible generar de manera rápida y sencilla algunas secuencias numéricas y almacenarlas en un vector.\n",
        "\n",
        "Ejemplo de estas funciones son :\n",
        "\n",
        "    rep()\n",
        "    seq()\n",
        "    \n",
        "Más adelante veremos como generar números aleatorios siguiendo alguna función de distribución de interés.\n",
        "\n"
      ]
    },
    {
      "cell_type": "code",
      "metadata": {
        "id": "wk0fB_gWIgwE"
      },
      "source": [
        "# a vimos que fácilmente ppodemos generar vectores de enteros consecutivos vía \":\"\n"
      ],
      "execution_count": null,
      "outputs": []
    },
    {
      "cell_type": "code",
      "metadata": {
        "id": "rG-Q3PmhIgwG"
      },
      "source": [
        "# Ejemplo de secuencia con rep (utilice distintos tipos de datos)\n"
      ],
      "execution_count": null,
      "outputs": []
    },
    {
      "cell_type": "code",
      "metadata": {
        "id": "PpEgoWDXIgwI"
      },
      "source": [
        "# podemos controlar el largo del vector resultante con el parámetro length.out\n"
      ],
      "execution_count": null,
      "outputs": []
    },
    {
      "cell_type": "code",
      "metadata": {
        "id": "gGkgGylnIgwK"
      },
      "source": [
        "# ejemplo de función seq (utilice argumento by, y otro ejemplo con argumento length.out)\n"
      ],
      "execution_count": null,
      "outputs": []
    },
    {
      "cell_type": "code",
      "metadata": {
        "id": "psRswQHBIgwO"
      },
      "source": [
        "# ejemplo de vector aleatorio siguiendo una determinada distribución\n",
        "\n",
        "# distribución uniforme\n",
        "# distribución normal\n",
        "\n",
        "\n",
        "\n",
        "\n",
        "\n"
      ],
      "execution_count": null,
      "outputs": []
    },
    {
      "cell_type": "markdown",
      "metadata": {
        "id": "TlnEINwUIgwP"
      },
      "source": [
        "### 3.2 Funciones (primera parte)\n",
        "\n",
        "#### 3.2.1 Funciones vectorizadas y operaciones con vectores\n",
        "\n",
        "R es un lenguaje funcional, en el sentido de que prácticamente cada llamada a R corresponde a una función que puede (o no) recibir argumentos de entrada.\n",
        "Una de las ventajas es que existe una amplia, muy amplia,... verdaderamente amplia!, variedad de funciones disponibles, tanto en las librerías que vienen con la instalación por defecto como las librerías disponibles en CRAN o en toda la comunidad R.\n",
        "\n",
        "En R, una función $f$ se dice vectorizada si dado un vector $\\mathbf{x}=(x_1,x_2,\\dots,x_n)$, se tiene que $f(\\mathbf{x})=(f(x_1),f(x_2),\\dots,f(x_n))$.\n",
        "Esto hace que, por ejemplo, la aritmética de vectores se más sencilla de implentar y con un menor tiempo de cómputo . Gran parte de las funciones disponibles en la librerías (bibliotecas o *packages*) de R corresponden a funciones vectorizadas.\n",
        "A modo de ejemplo, a cotinuación se muestran algunas funciones (de las más básicas) aritméticas, y funciones para trabajar con texto:\n",
        "    \n",
        "    +,-,*,/\n",
        "    abs()\n",
        "    sqrt()\n",
        "    cos()\n",
        "    sin()\n",
        "    tan()\n",
        "    nchar()\n",
        "    susbtr()\n",
        "    grepl()\n",
        "    gsub()\n",
        "    \n",
        "   \n",
        "   \n",
        "   "
      ]
    },
    {
      "cell_type": "code",
      "metadata": {
        "id": "tO3oB1bnIgwP"
      },
      "source": [
        "# 3.2. Funciones (primera parte) ------------\n",
        "# 3.2.1 Funciones vectorizadas\n",
        "# Ejemplos básicos de funciones(vectorizadas)\n"
      ],
      "execution_count": null,
      "outputs": []
    },
    {
      "cell_type": "code",
      "metadata": {
        "id": "Z8L-KeGnIgwS"
      },
      "source": [],
      "execution_count": null,
      "outputs": []
    },
    {
      "cell_type": "code",
      "metadata": {
        "id": "NivskO3jIgwT"
      },
      "source": [
        "# funciones para manipular texto\n",
        " #cantidad de caracteres\n",
        "\n",
        "\n"
      ],
      "execution_count": null,
      "outputs": []
    },
    {
      "cell_type": "code",
      "metadata": {
        "id": "tA55foL1IgwX"
      },
      "source": [
        "# substring substr()\n",
        "\n"
      ],
      "execution_count": null,
      "outputs": []
    },
    {
      "cell_type": "code",
      "metadata": {
        "id": "vjRwdUbiIgwY"
      },
      "source": [
        "# grepl() evlaúa si un  caracter está contenido en otro. (LIKE)\n",
        "#?grepl()\n",
        "grepl(\"ala\", \"palabra\")\n",
        "grepl(\"alo\", \"palabra\")\n",
        "\n",
        "\n",
        "#gsub() reemblaza un substring por otro\n",
        "#?gsub\n",
        "\n",
        "# si reemplazamos en un vector de palabras\n",
        "\n"
      ],
      "execution_count": null,
      "outputs": []
    },
    {
      "cell_type": "code",
      "metadata": {
        "id": "0j9kKUbzIgwZ"
      },
      "source": [
        "#gsub() reemplaza caracteres dentro de un texto\n",
        "#https://www.tidytextmining.com/\n"
      ],
      "execution_count": null,
      "outputs": []
    }
  ]
}