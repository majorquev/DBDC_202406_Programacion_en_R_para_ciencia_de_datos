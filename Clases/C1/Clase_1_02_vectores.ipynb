{
  "nbformat": 4,
  "nbformat_minor": 0,
  "metadata": {
    "colab": {
      "provenance": [],
      "include_colab_link": true
    },
    "kernelspec": {
      "name": "ir",
      "display_name": "R"
    }
  },
  "cells": [
    {
      "cell_type": "markdown",
      "metadata": {
        "id": "view-in-github",
        "colab_type": "text"
      },
      "source": [
        "<a href=\"https://colab.research.google.com/github/majorquev/DBDC_202406_Programacion_en_R_para_ciencia_de_datos/blob/main/Clases/C1/Clase_1_02_vectores.ipynb\" target=\"_parent\"><img src=\"https://colab.research.google.com/assets/colab-badge.svg\" alt=\"Open In Colab\"/></a>"
      ]
    },
    {
      "cell_type": "markdown",
      "metadata": {
        "collapsed": true,
        "id": "Yb2RXjL2Igun"
      },
      "source": [
        "# Parte 1: Introducción a R (continuación)\n",
        "\n",
        "**Autor:** Miguel Jorquera Viguera<br>\n",
        "**E-mail:** majorquev@gmail.com<br>\n",
        "**Ayudante:** Rodrigo Morales <br>\n",
        "**E-mail ayudante:** rumorale1@gmail.com\n",
        "\n"
      ]
    },
    {
      "cell_type": "markdown",
      "metadata": {
        "id": "d_bHZs66Iguo"
      },
      "source": [
        "## 3. Vectores y matrices\n",
        "\n",
        "### 3.1 Vectores\n",
        "\n",
        "En R, así como en la mayoría de los lenguajes de programación, uno de los objetos más usuales para almacenar información son los vectores, los que corresponden a arreglos unidimensionales que almacenan un mismo tipo de dato en cada una de sus entradas.\n",
        "\n",
        "Todo vector en R se puede declarar con la letra \"c\" seguido de los elementos que lo componen entre paréntesis y separados por comas."
      ]
    },
    {
      "cell_type": "code",
      "metadata": {
        "id": "ljQ0JcsTIgup"
      },
      "source": [
        "# Declaración de dos vectores\n",
        "v1 <- c(1,1,2,3,5,8)\n",
        "v2 <- c(\"a\",\"b\",\"c\")\n",
        "v3 <- c(T,T,F,T)\n"
      ],
      "execution_count": 1,
      "outputs": []
    },
    {
      "cell_type": "code",
      "source": [
        "v1\n",
        "v2\n",
        "v3"
      ],
      "metadata": {
        "id": "aT-h2NbiUiSp",
        "outputId": "f442587d-e495-4aa0-fce1-72e2da2384d5",
        "colab": {
          "base_uri": "https://localhost:8080/",
          "height": 69
        }
      },
      "execution_count": 2,
      "outputs": [
        {
          "output_type": "display_data",
          "data": {
            "text/html": [
              "<style>\n",
              ".list-inline {list-style: none; margin:0; padding: 0}\n",
              ".list-inline>li {display: inline-block}\n",
              ".list-inline>li:not(:last-child)::after {content: \"\\00b7\"; padding: 0 .5ex}\n",
              "</style>\n",
              "<ol class=list-inline><li>1</li><li>1</li><li>2</li><li>3</li><li>5</li><li>8</li></ol>\n"
            ],
            "text/markdown": "1. 1\n2. 1\n3. 2\n4. 3\n5. 5\n6. 8\n\n\n",
            "text/latex": "\\begin{enumerate*}\n\\item 1\n\\item 1\n\\item 2\n\\item 3\n\\item 5\n\\item 8\n\\end{enumerate*}\n",
            "text/plain": [
              "[1] 1 1 2 3 5 8"
            ]
          },
          "metadata": {}
        },
        {
          "output_type": "display_data",
          "data": {
            "text/html": [
              "<style>\n",
              ".list-inline {list-style: none; margin:0; padding: 0}\n",
              ".list-inline>li {display: inline-block}\n",
              ".list-inline>li:not(:last-child)::after {content: \"\\00b7\"; padding: 0 .5ex}\n",
              "</style>\n",
              "<ol class=list-inline><li>'a'</li><li>'b'</li><li>'c'</li></ol>\n"
            ],
            "text/markdown": "1. 'a'\n2. 'b'\n3. 'c'\n\n\n",
            "text/latex": "\\begin{enumerate*}\n\\item 'a'\n\\item 'b'\n\\item 'c'\n\\end{enumerate*}\n",
            "text/plain": [
              "[1] \"a\" \"b\" \"c\""
            ]
          },
          "metadata": {}
        },
        {
          "output_type": "display_data",
          "data": {
            "text/html": [
              "<style>\n",
              ".list-inline {list-style: none; margin:0; padding: 0}\n",
              ".list-inline>li {display: inline-block}\n",
              ".list-inline>li:not(:last-child)::after {content: \"\\00b7\"; padding: 0 .5ex}\n",
              "</style>\n",
              "<ol class=list-inline><li>TRUE</li><li>TRUE</li><li>FALSE</li><li>TRUE</li></ol>\n"
            ],
            "text/markdown": "1. TRUE\n2. TRUE\n3. FALSE\n4. TRUE\n\n\n",
            "text/latex": "\\begin{enumerate*}\n\\item TRUE\n\\item TRUE\n\\item FALSE\n\\item TRUE\n\\end{enumerate*}\n",
            "text/plain": [
              "[1]  TRUE  TRUE FALSE  TRUE"
            ]
          },
          "metadata": {}
        }
      ]
    },
    {
      "cell_type": "code",
      "metadata": {
        "id": "GxHhDdS4Iguy",
        "outputId": "0feb7cad-2eb9-4178-cb63-5643539a8816",
        "colab": {
          "base_uri": "https://localhost:8080/",
          "height": 52
        }
      },
      "source": [
        "# clase y tipo de dato\n",
        "class(v1)\n",
        "typeof(v1)\n"
      ],
      "execution_count": 3,
      "outputs": [
        {
          "output_type": "display_data",
          "data": {
            "text/html": [
              "'numeric'"
            ],
            "text/markdown": "'numeric'",
            "text/latex": "'numeric'",
            "text/plain": [
              "[1] \"numeric\""
            ]
          },
          "metadata": {}
        },
        {
          "output_type": "display_data",
          "data": {
            "text/html": [
              "'double'"
            ],
            "text/markdown": "'double'",
            "text/latex": "'double'",
            "text/plain": [
              "[1] \"double\""
            ]
          },
          "metadata": {}
        }
      ]
    },
    {
      "cell_type": "code",
      "source": [
        "class(v2)\n",
        "typeof(v2)"
      ],
      "metadata": {
        "id": "nnLAIHADUOTc",
        "outputId": "f82ca500-1808-4ff8-b728-84bd9da2f8d0",
        "colab": {
          "base_uri": "https://localhost:8080/",
          "height": 52
        }
      },
      "execution_count": 4,
      "outputs": [
        {
          "output_type": "display_data",
          "data": {
            "text/html": [
              "'character'"
            ],
            "text/markdown": "'character'",
            "text/latex": "'character'",
            "text/plain": [
              "[1] \"character\""
            ]
          },
          "metadata": {}
        },
        {
          "output_type": "display_data",
          "data": {
            "text/html": [
              "'character'"
            ],
            "text/markdown": "'character'",
            "text/latex": "'character'",
            "text/plain": [
              "[1] \"character\""
            ]
          },
          "metadata": {}
        }
      ]
    },
    {
      "cell_type": "code",
      "source": [
        "class(v3)\n",
        "typeof(v3)"
      ],
      "metadata": {
        "id": "Z4BJGaA4URj3",
        "outputId": "505dffc6-5710-4335-cffd-70111c7b5b30",
        "colab": {
          "base_uri": "https://localhost:8080/",
          "height": 52
        }
      },
      "execution_count": 5,
      "outputs": [
        {
          "output_type": "display_data",
          "data": {
            "text/html": [
              "'logical'"
            ],
            "text/markdown": "'logical'",
            "text/latex": "'logical'",
            "text/plain": [
              "[1] \"logical\""
            ]
          },
          "metadata": {}
        },
        {
          "output_type": "display_data",
          "data": {
            "text/html": [
              "'logical'"
            ],
            "text/markdown": "'logical'",
            "text/latex": "'logical'",
            "text/plain": [
              "[1] \"logical\""
            ]
          },
          "metadata": {}
        }
      ]
    },
    {
      "cell_type": "code",
      "metadata": {
        "id": "R88mjniaIgu_"
      },
      "source": [
        "# Nombres de las entradas de un vector\n",
        "v4 <- c(e1 = 10,\n",
        "        e2 = 20,\n",
        "        e3 = 30 )\n"
      ],
      "execution_count": 6,
      "outputs": []
    },
    {
      "cell_type": "code",
      "source": [
        "v4"
      ],
      "metadata": {
        "id": "MqS2XdHmVJPI",
        "outputId": "bf791b0b-7db4-4e06-e92b-06a6f23701f9",
        "colab": {
          "base_uri": "https://localhost:8080/",
          "height": 34
        }
      },
      "execution_count": 7,
      "outputs": [
        {
          "output_type": "display_data",
          "data": {
            "text/html": [
              "<style>\n",
              ".dl-inline {width: auto; margin:0; padding: 0}\n",
              ".dl-inline>dt, .dl-inline>dd {float: none; width: auto; display: inline-block}\n",
              ".dl-inline>dt::after {content: \":\\0020\"; padding-right: .5ex}\n",
              ".dl-inline>dt:not(:first-of-type) {padding-left: .5ex}\n",
              "</style><dl class=dl-inline><dt>e1</dt><dd>10</dd><dt>e2</dt><dd>20</dd><dt>e3</dt><dd>30</dd></dl>\n"
            ],
            "text/markdown": "e1\n:   10e2\n:   20e3\n:   30\n\n",
            "text/latex": "\\begin{description*}\n\\item[e1] 10\n\\item[e2] 20\n\\item[e3] 30\n\\end{description*}\n",
            "text/plain": [
              "e1 e2 e3 \n",
              "10 20 30 "
            ]
          },
          "metadata": {}
        }
      ]
    },
    {
      "cell_type": "code",
      "metadata": {
        "id": "OAhPpN3vIgvB",
        "outputId": "fcb94143-92e4-4d1e-bb40-f7d79c30fc54",
        "colab": {
          "base_uri": "https://localhost:8080/",
          "height": 34
        }
      },
      "source": [
        "# podemos asignar los nombres a v2\n",
        "v2\n"
      ],
      "execution_count": 8,
      "outputs": [
        {
          "output_type": "display_data",
          "data": {
            "text/html": [
              "<style>\n",
              ".list-inline {list-style: none; margin:0; padding: 0}\n",
              ".list-inline>li {display: inline-block}\n",
              ".list-inline>li:not(:last-child)::after {content: \"\\00b7\"; padding: 0 .5ex}\n",
              "</style>\n",
              "<ol class=list-inline><li>'a'</li><li>'b'</li><li>'c'</li></ol>\n"
            ],
            "text/markdown": "1. 'a'\n2. 'b'\n3. 'c'\n\n\n",
            "text/latex": "\\begin{enumerate*}\n\\item 'a'\n\\item 'b'\n\\item 'c'\n\\end{enumerate*}\n",
            "text/plain": [
              "[1] \"a\" \"b\" \"c\""
            ]
          },
          "metadata": {}
        }
      ]
    },
    {
      "cell_type": "code",
      "metadata": {
        "id": "E6dxkyP5IgvF"
      },
      "source": [
        "# nombres de las entradas con la función, names()\n"
      ],
      "execution_count": 9,
      "outputs": []
    },
    {
      "cell_type": "code",
      "source": [
        "names(v4)# retorna unvesctor coon los nombres de v4"
      ],
      "metadata": {
        "id": "m_vr_rvEVbMg",
        "outputId": "2b924e4e-961d-467e-e0c2-a60b82405a7e",
        "colab": {
          "base_uri": "https://localhost:8080/",
          "height": 34
        }
      },
      "execution_count": 10,
      "outputs": [
        {
          "output_type": "display_data",
          "data": {
            "text/html": [
              "<style>\n",
              ".list-inline {list-style: none; margin:0; padding: 0}\n",
              ".list-inline>li {display: inline-block}\n",
              ".list-inline>li:not(:last-child)::after {content: \"\\00b7\"; padding: 0 .5ex}\n",
              "</style>\n",
              "<ol class=list-inline><li>'e1'</li><li>'e2'</li><li>'e3'</li></ol>\n"
            ],
            "text/markdown": "1. 'e1'\n2. 'e2'\n3. 'e3'\n\n\n",
            "text/latex": "\\begin{enumerate*}\n\\item 'e1'\n\\item 'e2'\n\\item 'e3'\n\\end{enumerate*}\n",
            "text/plain": [
              "[1] \"e1\" \"e2\" \"e3\""
            ]
          },
          "metadata": {}
        }
      ]
    },
    {
      "cell_type": "code",
      "source": [
        "names(v2)"
      ],
      "metadata": {
        "id": "PsT4yJEWVjzm",
        "outputId": "ef4d2d35-38a2-48e7-cc69-d2d24fd53fa6",
        "colab": {
          "base_uri": "https://localhost:8080/",
          "height": 34
        }
      },
      "execution_count": 11,
      "outputs": [
        {
          "output_type": "display_data",
          "data": {
            "text/plain": [
              "NULL"
            ]
          },
          "metadata": {}
        }
      ]
    },
    {
      "cell_type": "code",
      "source": [
        "# Como v2 tiene 3 elementos, asignaremos 3 nombres\n",
        "names(v2) <- c(\"letra1\", \"letra2\", \"letra3\")"
      ],
      "metadata": {
        "id": "5JYW2Qs4VoBz"
      },
      "execution_count": 12,
      "outputs": []
    },
    {
      "cell_type": "code",
      "source": [
        "v2"
      ],
      "metadata": {
        "id": "JG4__oc9V4gZ",
        "outputId": "e728ffb7-6037-45b1-81a9-96ed7feff178",
        "colab": {
          "base_uri": "https://localhost:8080/",
          "height": 34
        }
      },
      "execution_count": 13,
      "outputs": [
        {
          "output_type": "display_data",
          "data": {
            "text/html": [
              "<style>\n",
              ".dl-inline {width: auto; margin:0; padding: 0}\n",
              ".dl-inline>dt, .dl-inline>dd {float: none; width: auto; display: inline-block}\n",
              ".dl-inline>dt::after {content: \":\\0020\"; padding-right: .5ex}\n",
              ".dl-inline>dt:not(:first-of-type) {padding-left: .5ex}\n",
              "</style><dl class=dl-inline><dt>letra1</dt><dd>'a'</dd><dt>letra2</dt><dd>'b'</dd><dt>letra3</dt><dd>'c'</dd></dl>\n"
            ],
            "text/markdown": "letra1\n:   'a'letra2\n:   'b'letra3\n:   'c'\n\n",
            "text/latex": "\\begin{description*}\n\\item[letra1] 'a'\n\\item[letra2] 'b'\n\\item[letra3] 'c'\n\\end{description*}\n",
            "text/plain": [
              "letra1 letra2 letra3 \n",
              "   \"a\"    \"b\"    \"c\" "
            ]
          },
          "metadata": {}
        }
      ]
    },
    {
      "cell_type": "code",
      "metadata": {
        "id": "7Ayre5BlIgvH",
        "outputId": "356d7dc9-d66c-4bbf-97b7-fa54710454a1",
        "colab": {
          "base_uri": "https://localhost:8080/",
          "height": 34
        }
      },
      "source": [
        "#combinar vectores\n",
        "v1\n",
        "x <- c(60,78.6)"
      ],
      "execution_count": 14,
      "outputs": [
        {
          "output_type": "display_data",
          "data": {
            "text/html": [
              "<style>\n",
              ".list-inline {list-style: none; margin:0; padding: 0}\n",
              ".list-inline>li {display: inline-block}\n",
              ".list-inline>li:not(:last-child)::after {content: \"\\00b7\"; padding: 0 .5ex}\n",
              "</style>\n",
              "<ol class=list-inline><li>1</li><li>1</li><li>2</li><li>3</li><li>5</li><li>8</li></ol>\n"
            ],
            "text/markdown": "1. 1\n2. 1\n3. 2\n4. 3\n5. 5\n6. 8\n\n\n",
            "text/latex": "\\begin{enumerate*}\n\\item 1\n\\item 1\n\\item 2\n\\item 3\n\\item 5\n\\item 8\n\\end{enumerate*}\n",
            "text/plain": [
              "[1] 1 1 2 3 5 8"
            ]
          },
          "metadata": {}
        }
      ]
    },
    {
      "cell_type": "code",
      "metadata": {
        "id": "QETBghXxIgvI",
        "outputId": "9df6a0c9-8a36-456a-8556-cfd1c15c5775",
        "colab": {
          "base_uri": "https://localhost:8080/",
          "height": 34
        }
      },
      "source": [
        "# c : es una abreviación de \"combine\"\n",
        "c(v1,x)"
      ],
      "execution_count": 15,
      "outputs": [
        {
          "output_type": "display_data",
          "data": {
            "text/html": [
              "<style>\n",
              ".list-inline {list-style: none; margin:0; padding: 0}\n",
              ".list-inline>li {display: inline-block}\n",
              ".list-inline>li:not(:last-child)::after {content: \"\\00b7\"; padding: 0 .5ex}\n",
              "</style>\n",
              "<ol class=list-inline><li>1</li><li>1</li><li>2</li><li>3</li><li>5</li><li>8</li><li>60</li><li>78.6</li></ol>\n"
            ],
            "text/markdown": "1. 1\n2. 1\n3. 2\n4. 3\n5. 5\n6. 8\n7. 60\n8. 78.6\n\n\n",
            "text/latex": "\\begin{enumerate*}\n\\item 1\n\\item 1\n\\item 2\n\\item 3\n\\item 5\n\\item 8\n\\item 60\n\\item 78.6\n\\end{enumerate*}\n",
            "text/plain": [
              "[1]  1.0  1.0  2.0  3.0  5.0  8.0 60.0 78.6"
            ]
          },
          "metadata": {}
        }
      ]
    },
    {
      "cell_type": "markdown",
      "metadata": {
        "id": "MX35j24_IgvN"
      },
      "source": [
        "#### 3.1.1 Acceso a los elementos de un vector\n",
        "\n",
        "El acceso a los elementos de un vector se puede llevar acabo indicando la posición del elemento (los naturales parten en 1!), el nombre de la casilla que lo contiene, o bien mediante sentencias lógicas que retornen \"TRUE\" en la posición deseada.\n",
        "\n"
      ]
    },
    {
      "cell_type": "code",
      "metadata": {
        "id": "zW2_TzKxIgvN",
        "outputId": "82269179-1991-4ce3-8894-9a15bd0469ee",
        "colab": {
          "base_uri": "https://localhost:8080/",
          "height": 52
        }
      },
      "source": [
        "# Mediante posición\n",
        "v1\n",
        "# Rescatamos el 4to elemento\n",
        "v1[4]"
      ],
      "execution_count": 16,
      "outputs": [
        {
          "output_type": "display_data",
          "data": {
            "text/html": [
              "<style>\n",
              ".list-inline {list-style: none; margin:0; padding: 0}\n",
              ".list-inline>li {display: inline-block}\n",
              ".list-inline>li:not(:last-child)::after {content: \"\\00b7\"; padding: 0 .5ex}\n",
              "</style>\n",
              "<ol class=list-inline><li>1</li><li>1</li><li>2</li><li>3</li><li>5</li><li>8</li></ol>\n"
            ],
            "text/markdown": "1. 1\n2. 1\n3. 2\n4. 3\n5. 5\n6. 8\n\n\n",
            "text/latex": "\\begin{enumerate*}\n\\item 1\n\\item 1\n\\item 2\n\\item 3\n\\item 5\n\\item 8\n\\end{enumerate*}\n",
            "text/plain": [
              "[1] 1 1 2 3 5 8"
            ]
          },
          "metadata": {}
        },
        {
          "output_type": "display_data",
          "data": {
            "text/html": [
              "3"
            ],
            "text/markdown": "3",
            "text/latex": "3",
            "text/plain": [
              "[1] 3"
            ]
          },
          "metadata": {}
        }
      ]
    },
    {
      "cell_type": "code",
      "metadata": {
        "id": "XWL1ZIyMIgvR",
        "outputId": "6de1ee3c-3070-4a2c-f2f8-f8522c26b449",
        "colab": {
          "base_uri": "https://localhost:8080/",
          "height": 34
        }
      },
      "source": [
        "# retorna los elementos de las casillas 1  y 4 de v1. Para ello indicamos un vector de psiciones dentro de los corchetes\n",
        "v1[c(1,4)]"
      ],
      "execution_count": 17,
      "outputs": [
        {
          "output_type": "display_data",
          "data": {
            "text/html": [
              "<style>\n",
              ".list-inline {list-style: none; margin:0; padding: 0}\n",
              ".list-inline>li {display: inline-block}\n",
              ".list-inline>li:not(:last-child)::after {content: \"\\00b7\"; padding: 0 .5ex}\n",
              "</style>\n",
              "<ol class=list-inline><li>1</li><li>3</li></ol>\n"
            ],
            "text/markdown": "1. 1\n2. 3\n\n\n",
            "text/latex": "\\begin{enumerate*}\n\\item 1\n\\item 3\n\\end{enumerate*}\n",
            "text/plain": [
              "[1] 1 3"
            ]
          },
          "metadata": {}
        }
      ]
    },
    {
      "cell_type": "code",
      "metadata": {
        "id": "uBqEKq1aIgvT",
        "outputId": "e28fab5d-4f5a-43b9-a49a-1610bffd2e9c",
        "colab": {
          "base_uri": "https://localhost:8080/",
          "height": 52
        }
      },
      "source": [
        "#NOTA 3:5, R lo interpreta como c(3,4,5)\n",
        "v1[3:5]\n",
        "v1[c(3,4,5)]"
      ],
      "execution_count": 18,
      "outputs": [
        {
          "output_type": "display_data",
          "data": {
            "text/html": [
              "<style>\n",
              ".list-inline {list-style: none; margin:0; padding: 0}\n",
              ".list-inline>li {display: inline-block}\n",
              ".list-inline>li:not(:last-child)::after {content: \"\\00b7\"; padding: 0 .5ex}\n",
              "</style>\n",
              "<ol class=list-inline><li>2</li><li>3</li><li>5</li></ol>\n"
            ],
            "text/markdown": "1. 2\n2. 3\n3. 5\n\n\n",
            "text/latex": "\\begin{enumerate*}\n\\item 2\n\\item 3\n\\item 5\n\\end{enumerate*}\n",
            "text/plain": [
              "[1] 2 3 5"
            ]
          },
          "metadata": {}
        },
        {
          "output_type": "display_data",
          "data": {
            "text/html": [
              "<style>\n",
              ".list-inline {list-style: none; margin:0; padding: 0}\n",
              ".list-inline>li {display: inline-block}\n",
              ".list-inline>li:not(:last-child)::after {content: \"\\00b7\"; padding: 0 .5ex}\n",
              "</style>\n",
              "<ol class=list-inline><li>2</li><li>3</li><li>5</li></ol>\n"
            ],
            "text/markdown": "1. 2\n2. 3\n3. 5\n\n\n",
            "text/latex": "\\begin{enumerate*}\n\\item 2\n\\item 3\n\\item 5\n\\end{enumerate*}\n",
            "text/plain": [
              "[1] 2 3 5"
            ]
          },
          "metadata": {}
        }
      ]
    },
    {
      "cell_type": "code",
      "source": [
        "-10:20"
      ],
      "metadata": {
        "id": "2Ya2hm_HW9vX",
        "outputId": "d831453f-f649-4189-d164-20d4628b0268",
        "colab": {
          "base_uri": "https://localhost:8080/",
          "height": 34
        }
      },
      "execution_count": 19,
      "outputs": [
        {
          "output_type": "display_data",
          "data": {
            "text/html": [
              "<style>\n",
              ".list-inline {list-style: none; margin:0; padding: 0}\n",
              ".list-inline>li {display: inline-block}\n",
              ".list-inline>li:not(:last-child)::after {content: \"\\00b7\"; padding: 0 .5ex}\n",
              "</style>\n",
              "<ol class=list-inline><li>-10</li><li>-9</li><li>-8</li><li>-7</li><li>-6</li><li>-5</li><li>-4</li><li>-3</li><li>-2</li><li>-1</li><li>0</li><li>1</li><li>2</li><li>3</li><li>4</li><li>5</li><li>6</li><li>7</li><li>8</li><li>9</li><li>10</li><li>11</li><li>12</li><li>13</li><li>14</li><li>15</li><li>16</li><li>17</li><li>18</li><li>19</li><li>20</li></ol>\n"
            ],
            "text/markdown": "1. -10\n2. -9\n3. -8\n4. -7\n5. -6\n6. -5\n7. -4\n8. -3\n9. -2\n10. -1\n11. 0\n12. 1\n13. 2\n14. 3\n15. 4\n16. 5\n17. 6\n18. 7\n19. 8\n20. 9\n21. 10\n22. 11\n23. 12\n24. 13\n25. 14\n26. 15\n27. 16\n28. 17\n29. 18\n30. 19\n31. 20\n\n\n",
            "text/latex": "\\begin{enumerate*}\n\\item -10\n\\item -9\n\\item -8\n\\item -7\n\\item -6\n\\item -5\n\\item -4\n\\item -3\n\\item -2\n\\item -1\n\\item 0\n\\item 1\n\\item 2\n\\item 3\n\\item 4\n\\item 5\n\\item 6\n\\item 7\n\\item 8\n\\item 9\n\\item 10\n\\item 11\n\\item 12\n\\item 13\n\\item 14\n\\item 15\n\\item 16\n\\item 17\n\\item 18\n\\item 19\n\\item 20\n\\end{enumerate*}\n",
            "text/plain": [
              " [1] -10  -9  -8  -7  -6  -5  -4  -3  -2  -1   0   1   2   3   4   5   6   7   8\n",
              "[20]   9  10  11  12  13  14  15  16  17  18  19  20"
            ]
          },
          "metadata": {}
        }
      ]
    },
    {
      "cell_type": "code",
      "source": [
        "v2"
      ],
      "metadata": {
        "id": "6CtuFpEmw-Ax",
        "outputId": "93334a6e-b3dc-48b8-e2a6-47f5c9e8febd",
        "colab": {
          "base_uri": "https://localhost:8080/",
          "height": 34
        }
      },
      "execution_count": 27,
      "outputs": [
        {
          "output_type": "display_data",
          "data": {
            "text/html": [
              "<style>\n",
              ".dl-inline {width: auto; margin:0; padding: 0}\n",
              ".dl-inline>dt, .dl-inline>dd {float: none; width: auto; display: inline-block}\n",
              ".dl-inline>dt::after {content: \":\\0020\"; padding-right: .5ex}\n",
              ".dl-inline>dt:not(:first-of-type) {padding-left: .5ex}\n",
              "</style><dl class=dl-inline><dt>letra1</dt><dd>'a'</dd><dt>letra2</dt><dd>'b'</dd><dt>letra3</dt><dd>'c'</dd></dl>\n"
            ],
            "text/markdown": "letra1\n:   'a'letra2\n:   'b'letra3\n:   'c'\n\n",
            "text/latex": "\\begin{description*}\n\\item[letra1] 'a'\n\\item[letra2] 'b'\n\\item[letra3] 'c'\n\\end{description*}\n",
            "text/plain": [
              "letra1 letra2 letra3 \n",
              "   \"a\"    \"b\"    \"c\" "
            ]
          },
          "metadata": {}
        }
      ]
    },
    {
      "cell_type": "code",
      "metadata": {
        "id": "XIuQSfvKIgvV",
        "outputId": "74319a3e-139d-433a-9e2a-6f4d7ae45dd7",
        "colab": {
          "base_uri": "https://localhost:8080/",
          "height": 34
        }
      },
      "source": [
        "# podemos acceder a los elmentos mediante el nombre (ej, a la pos llamada letra3 de v2)\n",
        "v2[\"letra3\"]"
      ],
      "execution_count": 20,
      "outputs": [
        {
          "output_type": "display_data",
          "data": {
            "text/html": [
              "<strong>letra3:</strong> 'c'"
            ],
            "text/markdown": "**letra3:** 'c'",
            "text/latex": "\\textbf{letra3:} 'c'",
            "text/plain": [
              "letra3 \n",
              "   \"c\" "
            ]
          },
          "metadata": {}
        }
      ]
    },
    {
      "cell_type": "code",
      "source": [
        "# y si quiero letra1 y letra3\n",
        "v2[c(\"letra1\",\"letra3\")]"
      ],
      "metadata": {
        "id": "ins9lkp2XNzI",
        "outputId": "3e986a8a-0ff3-4044-e775-65072ca422bb",
        "colab": {
          "base_uri": "https://localhost:8080/",
          "height": 34
        }
      },
      "execution_count": 21,
      "outputs": [
        {
          "output_type": "display_data",
          "data": {
            "text/html": [
              "<style>\n",
              ".dl-inline {width: auto; margin:0; padding: 0}\n",
              ".dl-inline>dt, .dl-inline>dd {float: none; width: auto; display: inline-block}\n",
              ".dl-inline>dt::after {content: \":\\0020\"; padding-right: .5ex}\n",
              ".dl-inline>dt:not(:first-of-type) {padding-left: .5ex}\n",
              "</style><dl class=dl-inline><dt>letra1</dt><dd>'a'</dd><dt>letra3</dt><dd>'c'</dd></dl>\n"
            ],
            "text/markdown": "letra1\n:   'a'letra3\n:   'c'\n\n",
            "text/latex": "\\begin{description*}\n\\item[letra1] 'a'\n\\item[letra3] 'c'\n\\end{description*}\n",
            "text/plain": [
              "letra1 letra3 \n",
              "   \"a\"    \"c\" "
            ]
          },
          "metadata": {}
        }
      ]
    },
    {
      "cell_type": "code",
      "metadata": {
        "id": "IHjnaSSyIgvX",
        "outputId": "bd5b808a-a4dd-4f32-91b5-94de9be65622",
        "colab": {
          "base_uri": "https://localhost:8080/",
          "height": 34
        }
      },
      "source": [
        "# cambiar una entrada de un vector o cambiar un nombre\n",
        "v1\n",
        "# Cambiar el elemtno de pos 4 por un 66\n",
        "\n",
        "v1[4] <- 66"
      ],
      "execution_count": 22,
      "outputs": [
        {
          "output_type": "display_data",
          "data": {
            "text/html": [
              "<style>\n",
              ".list-inline {list-style: none; margin:0; padding: 0}\n",
              ".list-inline>li {display: inline-block}\n",
              ".list-inline>li:not(:last-child)::after {content: \"\\00b7\"; padding: 0 .5ex}\n",
              "</style>\n",
              "<ol class=list-inline><li>1</li><li>1</li><li>2</li><li>3</li><li>5</li><li>8</li></ol>\n"
            ],
            "text/markdown": "1. 1\n2. 1\n3. 2\n4. 3\n5. 5\n6. 8\n\n\n",
            "text/latex": "\\begin{enumerate*}\n\\item 1\n\\item 1\n\\item 2\n\\item 3\n\\item 5\n\\item 8\n\\end{enumerate*}\n",
            "text/plain": [
              "[1] 1 1 2 3 5 8"
            ]
          },
          "metadata": {}
        }
      ]
    },
    {
      "cell_type": "code",
      "source": [],
      "metadata": {
        "id": "UoziFX-jYMz4"
      },
      "execution_count": 23,
      "outputs": []
    },
    {
      "cell_type": "code",
      "source": [
        "v1"
      ],
      "metadata": {
        "id": "0rgBuTFNXv5C",
        "outputId": "469a10b1-529f-4134-edd6-3b1235ca304e",
        "colab": {
          "base_uri": "https://localhost:8080/",
          "height": 34
        }
      },
      "execution_count": 24,
      "outputs": [
        {
          "output_type": "display_data",
          "data": {
            "text/html": [
              "<style>\n",
              ".list-inline {list-style: none; margin:0; padding: 0}\n",
              ".list-inline>li {display: inline-block}\n",
              ".list-inline>li:not(:last-child)::after {content: \"\\00b7\"; padding: 0 .5ex}\n",
              "</style>\n",
              "<ol class=list-inline><li>1</li><li>1</li><li>2</li><li>66</li><li>5</li><li>8</li></ol>\n"
            ],
            "text/markdown": "1. 1\n2. 1\n3. 2\n4. 66\n5. 5\n6. 8\n\n\n",
            "text/latex": "\\begin{enumerate*}\n\\item 1\n\\item 1\n\\item 2\n\\item 66\n\\item 5\n\\item 8\n\\end{enumerate*}\n",
            "text/plain": [
              "[1]  1  1  2 66  5  8"
            ]
          },
          "metadata": {}
        }
      ]
    },
    {
      "cell_type": "code",
      "metadata": {
        "id": "KCKDbYtRIgvZ"
      },
      "source": [],
      "execution_count": 25,
      "outputs": []
    },
    {
      "cell_type": "code",
      "metadata": {
        "id": "cVzhj4ASIgvb",
        "outputId": "dd2f8a15-6bcf-4405-a05e-793b23ee8432",
        "colab": {
          "base_uri": "https://localhost:8080/",
          "height": 34
        }
      },
      "source": [
        "# podemos cambiar uno de los nombres (ej, queremos cambiar el tercer nombre de v2 por \"nuevo\")\n",
        "names(v2) # Recordar que esto retorna un VECTOR con los nombres\n",
        "names(v2)[3] <- \"nuevo\""
      ],
      "execution_count": 30,
      "outputs": [
        {
          "output_type": "display_data",
          "data": {
            "text/html": [
              "<style>\n",
              ".list-inline {list-style: none; margin:0; padding: 0}\n",
              ".list-inline>li {display: inline-block}\n",
              ".list-inline>li:not(:last-child)::after {content: \"\\00b7\"; padding: 0 .5ex}\n",
              "</style>\n",
              "<ol class=list-inline><li>'letra1'</li><li>'letra2'</li><li>'letra3'</li></ol>\n"
            ],
            "text/markdown": "1. 'letra1'\n2. 'letra2'\n3. 'letra3'\n\n\n",
            "text/latex": "\\begin{enumerate*}\n\\item 'letra1'\n\\item 'letra2'\n\\item 'letra3'\n\\end{enumerate*}\n",
            "text/plain": [
              "[1] \"letra1\" \"letra2\" \"letra3\""
            ]
          },
          "metadata": {}
        }
      ]
    },
    {
      "cell_type": "code",
      "source": [
        "names(v2)"
      ],
      "metadata": {
        "id": "pD7Pv8Dbxq5t",
        "outputId": "ecfe89ce-ced8-48df-ed73-6e5e4975f3d0",
        "colab": {
          "base_uri": "https://localhost:8080/",
          "height": 34
        }
      },
      "execution_count": 31,
      "outputs": [
        {
          "output_type": "display_data",
          "data": {
            "text/html": [
              "<style>\n",
              ".list-inline {list-style: none; margin:0; padding: 0}\n",
              ".list-inline>li {display: inline-block}\n",
              ".list-inline>li:not(:last-child)::after {content: \"\\00b7\"; padding: 0 .5ex}\n",
              "</style>\n",
              "<ol class=list-inline><li>'letra1'</li><li>'letra2'</li><li>'nuevo'</li></ol>\n"
            ],
            "text/markdown": "1. 'letra1'\n2. 'letra2'\n3. 'nuevo'\n\n\n",
            "text/latex": "\\begin{enumerate*}\n\\item 'letra1'\n\\item 'letra2'\n\\item 'nuevo'\n\\end{enumerate*}\n",
            "text/plain": [
              "[1] \"letra1\" \"letra2\" \"nuevo\" "
            ]
          },
          "metadata": {}
        }
      ]
    },
    {
      "cell_type": "code",
      "source": [
        "v2"
      ],
      "metadata": {
        "id": "ZgA6Ai1rxudG",
        "outputId": "2af2df33-a8cf-4502-d42d-fb0875865b4f",
        "colab": {
          "base_uri": "https://localhost:8080/",
          "height": 34
        }
      },
      "execution_count": 32,
      "outputs": [
        {
          "output_type": "display_data",
          "data": {
            "text/html": [
              "<style>\n",
              ".dl-inline {width: auto; margin:0; padding: 0}\n",
              ".dl-inline>dt, .dl-inline>dd {float: none; width: auto; display: inline-block}\n",
              ".dl-inline>dt::after {content: \":\\0020\"; padding-right: .5ex}\n",
              ".dl-inline>dt:not(:first-of-type) {padding-left: .5ex}\n",
              "</style><dl class=dl-inline><dt>letra1</dt><dd>'a'</dd><dt>letra2</dt><dd>'b'</dd><dt>nuevo</dt><dd>'c'</dd></dl>\n"
            ],
            "text/markdown": "letra1\n:   'a'letra2\n:   'b'nuevo\n:   'c'\n\n",
            "text/latex": "\\begin{description*}\n\\item[letra1] 'a'\n\\item[letra2] 'b'\n\\item[nuevo] 'c'\n\\end{description*}\n",
            "text/plain": [
              "letra1 letra2  nuevo \n",
              "   \"a\"    \"b\"    \"c\" "
            ]
          },
          "metadata": {}
        }
      ]
    },
    {
      "cell_type": "code",
      "metadata": {
        "id": "b6oqx_D4Igvd"
      },
      "source": [
        "# podemos modificar varias posiciones a la vez\n",
        "# queremos re-asignar los valores de las posiciones 1 y 3, por los elementos \"XX\" y \"ZZ\"\n",
        "v2[c(1,3)] <- c(\"XX\",\"ZZ\")"
      ],
      "execution_count": 36,
      "outputs": []
    },
    {
      "cell_type": "code",
      "source": [
        "v2"
      ],
      "metadata": {
        "id": "hsZpkelHyaq-",
        "outputId": "35bc0dff-f701-47c2-9d0c-b8a446b1c64c",
        "colab": {
          "base_uri": "https://localhost:8080/",
          "height": 34
        }
      },
      "execution_count": 37,
      "outputs": [
        {
          "output_type": "display_data",
          "data": {
            "text/html": [
              "<style>\n",
              ".dl-inline {width: auto; margin:0; padding: 0}\n",
              ".dl-inline>dt, .dl-inline>dd {float: none; width: auto; display: inline-block}\n",
              ".dl-inline>dt::after {content: \":\\0020\"; padding-right: .5ex}\n",
              ".dl-inline>dt:not(:first-of-type) {padding-left: .5ex}\n",
              "</style><dl class=dl-inline><dt>letra1</dt><dd>'XX'</dd><dt>letra2</dt><dd>'b'</dd><dt>nuevo</dt><dd>'ZZ'</dd></dl>\n"
            ],
            "text/markdown": "letra1\n:   'XX'letra2\n:   'b'nuevo\n:   'ZZ'\n\n",
            "text/latex": "\\begin{description*}\n\\item[letra1] 'XX'\n\\item[letra2] 'b'\n\\item[nuevo] 'ZZ'\n\\end{description*}\n",
            "text/plain": [
              "letra1 letra2  nuevo \n",
              "  \"XX\"    \"b\"   \"ZZ\" "
            ]
          },
          "metadata": {}
        }
      ]
    },
    {
      "cell_type": "markdown",
      "metadata": {
        "id": "XzyIBLZxIgvg"
      },
      "source": [
        "**Algunas sentencias de utilidad**\n",
        "\n",
        "También es posible acceder a los alementos de un vector mediante sentencias lógicas que retornen \"TRUE\" en la posición deseada. Para ello algunas funciones que son de utilidad son las siguientes.\n",
        "\n",
        "   **Conectores lógicos**\n",
        "\n",
        "    &, && |                  : conector y\n",
        "    |,||                     : conector o\n",
        "    ==                       : igual\n",
        "    !                        : negación\n",
        "    !=                       : distinto\n",
        "    >, >=                    : mayor que, mayor o igual que\n",
        "    <,<=                     : menor que, menor o igual que\n",
        "    is.na()                  : es NA?\n",
        "    which()                  : en qué posición es verdadera la expresión evaluada?\n",
        "    which.min(), which.max() : en qué posición se alcanza el mínimi/máximo\n",
        "    %in%                     : los elementos están en?\n",
        "    \n",
        "    "
      ]
    },
    {
      "cell_type": "code",
      "source": [
        "#NOTA: el largo de un vector lo podemos obtener con la función length\n",
        "length(v1)"
      ],
      "metadata": {
        "id": "A4VHK69xy8Vd",
        "outputId": "989c9e17-fd34-44b2-89fd-35894a819b90",
        "colab": {
          "base_uri": "https://localhost:8080/",
          "height": 34
        }
      },
      "execution_count": 40,
      "outputs": [
        {
          "output_type": "display_data",
          "data": {
            "text/html": [
              "6"
            ],
            "text/markdown": "6",
            "text/latex": "6",
            "text/plain": [
              "[1] 6"
            ]
          },
          "metadata": {}
        }
      ]
    },
    {
      "cell_type": "code",
      "metadata": {
        "id": "NhZPJo56Igvh",
        "outputId": "d41c46fc-66ba-4a39-f97f-6441a8f7d906",
        "colab": {
          "base_uri": "https://localhost:8080/",
          "height": 34
        }
      },
      "source": [
        "# para acceder a elementos de un vector tenemos:\n",
        "# 1. por posicion\n",
        "# 2. por nombre\n",
        "# 3. por indicatrices lógicas (un vector con TRUE (T) o FALSE (F) del mismo largo del que quiero consultar)\n",
        "# Ej. queremos rescatar los elementos de pos 3 , 5 y 6.\n",
        "#1 1 2 66 5 8\n",
        "#F F T F  T T\n",
        "v1[c(F,F,T,F,T,T)]\n",
        "\n",
        "\n"
      ],
      "execution_count": 41,
      "outputs": [
        {
          "output_type": "display_data",
          "data": {
            "text/html": [
              "<style>\n",
              ".list-inline {list-style: none; margin:0; padding: 0}\n",
              ".list-inline>li {display: inline-block}\n",
              ".list-inline>li:not(:last-child)::after {content: \"\\00b7\"; padding: 0 .5ex}\n",
              "</style>\n",
              "<ol class=list-inline><li>2</li><li>5</li><li>8</li></ol>\n"
            ],
            "text/markdown": "1. 2\n2. 5\n3. 8\n\n\n",
            "text/latex": "\\begin{enumerate*}\n\\item 2\n\\item 5\n\\item 8\n\\end{enumerate*}\n",
            "text/plain": [
              "[1] 2 5 8"
            ]
          },
          "metadata": {}
        }
      ]
    },
    {
      "cell_type": "code",
      "metadata": {
        "id": "5C4hDsvSIgvj"
      },
      "source": [
        "# Esto facilita la búsqueda dentro de un un vector. Ej: retornar los elementos mayores aun valor dado\n",
        "edades <- rnorm(250, mean = 28, sd = 2)"
      ],
      "execution_count": 43,
      "outputs": []
    },
    {
      "cell_type": "code",
      "source": [
        "edades"
      ],
      "metadata": {
        "id": "spIIc75wz7Af",
        "outputId": "5fae53fd-a881-4e09-b0d5-c4cd24478603",
        "colab": {
          "base_uri": "https://localhost:8080/",
          "height": 746
        }
      },
      "execution_count": 44,
      "outputs": [
        {
          "output_type": "display_data",
          "data": {
            "text/html": [
              "<style>\n",
              ".list-inline {list-style: none; margin:0; padding: 0}\n",
              ".list-inline>li {display: inline-block}\n",
              ".list-inline>li:not(:last-child)::after {content: \"\\00b7\"; padding: 0 .5ex}\n",
              "</style>\n",
              "<ol class=list-inline><li>27.1585249729371</li><li>29.2346137477739</li><li>29.691149360043</li><li>28.1168091910701</li><li>27.639874684073</li><li>27.1398094759588</li><li>27.9996232122988</li><li>29.557289845599</li><li>26.1637217717224</li><li>27.9871064917112</li><li>26.9546688738635</li><li>25.6318387960612</li><li>27.5989070416386</li><li>29.5812604376948</li><li>26.9692870238885</li><li>25.6427837420224</li><li>27.4909551164497</li><li>27.1492764664552</li><li>26.8778532153688</li><li>21.9633797230249</li><li>26.3474868945556</li><li>28.4877053574002</li><li>26.423613975739</li><li>26.9394874980072</li><li>28.1654834757798</li><li>27.0682286690278</li><li>28.9621710382991</li><li>28.9558826679886</li><li>29.7108253580127</li><li>30.3660192385143</li><li>31.4906954775964</li><li>28.2133113246804</li><li>30.1130302154464</li><li>31.2237523002026</li><li>28.5200870267025</li><li>27.4978860264521</li><li>26.0583365956921</li><li>30.0511192677232</li><li>27.9937235928514</li><li>23.4173047640686</li><li>28.0056654287385</li><li>24.1903719383041</li><li>27.7730596416797</li><li>24.6775320523344</li><li>29.2509355664653</li><li>24.1315997944354</li><li>27.6705409901353</li><li>29.7623752703731</li><li>26.3602596079457</li><li>29.7754391210271</li><li>29.2551415555103</li><li>26.5351758085846</li><li>30.504006195253</li><li>29.8872118872218</li><li>29.6375666286929</li><li>27.6076517368107</li><li>30.0859933183927</li><li>26.7804984052052</li><li>26.0774423719536</li><li>31.238892564364</li><li>31.3221404820766</li><li>27.3014586310139</li><li>27.8760683791679</li><li>28.5848294129816</li><li>25.0225381159916</li><li>29.5648235222231</li><li>28.7846616970268</li><li>28.3980668987673</li><li>29.8323389196706</li><li>26.8206417507159</li><li>28.3046043571637</li><li>26.6327851575416</li><li>25.9299553876885</li><li>25.7142580371184</li><li>27.3266752220666</li><li>24.3925251364581</li><li>24.1347162034949</li><li>27.4058278711613</li><li>26.5044949979046</li><li>23.6551002923845</li><li>32.6005512080607</li><li>27.7657586333461</li><li>26.5060359034883</li><li>26.3443926023318</li><li>27.793860765448</li><li>28.4988486687834</li><li>29.25659242218</li><li>27.3355567534443</li><li>26.5369025564843</li><li>26.6777058976605</li><li>25.3655474814478</li><li>28.5023886878368</li><li>27.6232088133596</li><li>31.0468595304393</li><li>26.7039067592149</li><li>25.7952703726391</li><li>26.6755289928312</li><li>31.2008614799081</li><li>28.7186840654569</li><li>28.9831159103379</li><li>27.1426943557248</li><li>31.3951685890562</li><li>30.3451845118446</li><li>24.3938706539611</li><li>24.7648647685327</li><li>27.2481051450357</li><li>29.2035091787362</li><li>27.2939334515918</li><li>28.3869904612716</li><li>24.4332787857058</li><li>29.8866748333836</li><li>26.809131483683</li><li>25.2412030990222</li><li>30.3097141167115</li><li>27.0699595924499</li><li>28.4149907269352</li><li>28.3092391140746</li><li>25.6603288359486</li><li>31.7442227470762</li><li>25.0631851271348</li><li>29.3096441291678</li><li>23.820446094993</li><li>27.2566624744916</li><li>30.4902693127533</li><li>27.0912421625862</li><li>27.3761461982918</li><li>28.1019593298196</li><li>27.818091858135</li><li>25.777143764735</li><li>25.1437367335119</li><li>27.6471461138458</li><li>24.1336858917213</li><li>26.8083027081168</li><li>30.0476901908753</li><li>22.9013113945776</li><li>30.3303415340176</li><li>28.8512419534152</li><li>25.1416498479418</li><li>26.6551678589742</li><li>27.1402687645011</li><li>31.7454163257867</li><li>29.0496537496315</li><li>28.469604422188</li><li>28.5951573449157</li><li>29.208514793917</li><li>28.7760042498254</li><li>29.1498118696571</li><li>27.5836232997805</li><li>26.2772706611983</li><li>28.4726691729062</li><li>27.1204616165009</li><li>27.3303685600433</li><li>26.5750220019595</li><li>30.7408465831642</li><li>30.0033708555798</li><li>27.5115409609292</li><li>24.543555756334</li><li>26.4601039700917</li><li>26.8598879318255</li><li>30.4694011972558</li><li>28.7488943960702</li><li>29.5820308103251</li><li>29.2708489107393</li><li>29.4753094741189</li><li>28.2830281707994</li><li>23.0530633266106</li><li>25.2786260901021</li><li>27.1722655682924</li><li>26.5887685814394</li><li>26.9278464786661</li><li>31.2276072564354</li><li>31.7133083546445</li><li>28.9948764241988</li><li>28.7422014781106</li><li>28.1303877349334</li><li>27.3399691015673</li><li>25.820276508485</li><li>32.0448337753871</li><li>23.7476256111645</li><li>28.1461213030842</li><li>27.7032491221088</li><li>26.0496562204434</li><li>28.1241714792791</li><li>28.3290316775066</li><li>28.6791665442441</li><li>29.1337516872203</li><li>29.9669082053481</li><li>27.3126756138081</li><li>28.7799204070086</li><li>27.3377963062943</li><li>24.9939917926559</li><li>27.0982279999552</li><li>29.6417471947985</li><li>26.7400162285933</li><li>29.219964409918</li><li>30.743419550331</li><li>31.3054949059697</li><li>28.2796739659167</li><li>28.3041556876777</li><li>26.3262622600323</li><li>26.1322953647461</li><li>25.4167211694322</li><li>24.9792628827021</li><li>27.9209495820456</li><li>28.8622739193066</li><li>26.8340089347608</li><li>28.913785475369</li><li>27.1519183396372</li><li>28.3351716713568</li><li>27.1521347696659</li><li>28.9869806460043</li><li>27.6522405880309</li><li>26.4354352911011</li><li>26.222624784202</li><li>33.1594277254622</li><li>26.8975376357354</li><li>27.1624026348724</li><li>25.7795481827517</li><li>30.691180131996</li><li>31.6655440574648</li><li>29.7380934925928</li><li>28.0320362400059</li><li>27.7515339710854</li><li>27.3835826062939</li><li>29.2927678933872</li><li>26.4611960655952</li><li>26.9067444892023</li><li>30.6382811762432</li><li>27.4943279682829</li><li>30.7028108682466</li><li>25.9168841777976</li><li>29.5245530688277</li><li>25.842401073217</li><li>26.1153639062094</li><li>29.6612722328355</li><li>25.8141183068241</li><li>28.7300000938021</li><li>27.3307593916089</li><li>29.4693092698935</li><li>30.3049379648094</li><li>26.5246634744916</li><li>27.9328778693838</li><li>28.3289032066083</li><li>24.6463793769554</li><li>26.7193974179189</li><li>28.1779751382127</li><li>26.0610697280158</li><li>28.4095547973632</li><li>28.1279015433277</li><li>24.5225204765998</li></ol>\n"
            ],
            "text/markdown": "1. 27.1585249729371\n2. 29.2346137477739\n3. 29.691149360043\n4. 28.1168091910701\n5. 27.639874684073\n6. 27.1398094759588\n7. 27.9996232122988\n8. 29.557289845599\n9. 26.1637217717224\n10. 27.9871064917112\n11. 26.9546688738635\n12. 25.6318387960612\n13. 27.5989070416386\n14. 29.5812604376948\n15. 26.9692870238885\n16. 25.6427837420224\n17. 27.4909551164497\n18. 27.1492764664552\n19. 26.8778532153688\n20. 21.9633797230249\n21. 26.3474868945556\n22. 28.4877053574002\n23. 26.423613975739\n24. 26.9394874980072\n25. 28.1654834757798\n26. 27.0682286690278\n27. 28.9621710382991\n28. 28.9558826679886\n29. 29.7108253580127\n30. 30.3660192385143\n31. 31.4906954775964\n32. 28.2133113246804\n33. 30.1130302154464\n34. 31.2237523002026\n35. 28.5200870267025\n36. 27.4978860264521\n37. 26.0583365956921\n38. 30.0511192677232\n39. 27.9937235928514\n40. 23.4173047640686\n41. 28.0056654287385\n42. 24.1903719383041\n43. 27.7730596416797\n44. 24.6775320523344\n45. 29.2509355664653\n46. 24.1315997944354\n47. 27.6705409901353\n48. 29.7623752703731\n49. 26.3602596079457\n50. 29.7754391210271\n51. 29.2551415555103\n52. 26.5351758085846\n53. 30.504006195253\n54. 29.8872118872218\n55. 29.6375666286929\n56. 27.6076517368107\n57. 30.0859933183927\n58. 26.7804984052052\n59. 26.0774423719536\n60. 31.238892564364\n61. 31.3221404820766\n62. 27.3014586310139\n63. 27.8760683791679\n64. 28.5848294129816\n65. 25.0225381159916\n66. 29.5648235222231\n67. 28.7846616970268\n68. 28.3980668987673\n69. 29.8323389196706\n70. 26.8206417507159\n71. 28.3046043571637\n72. 26.6327851575416\n73. 25.9299553876885\n74. 25.7142580371184\n75. 27.3266752220666\n76. 24.3925251364581\n77. 24.1347162034949\n78. 27.4058278711613\n79. 26.5044949979046\n80. 23.6551002923845\n81. 32.6005512080607\n82. 27.7657586333461\n83. 26.5060359034883\n84. 26.3443926023318\n85. 27.793860765448\n86. 28.4988486687834\n87. 29.25659242218\n88. 27.3355567534443\n89. 26.5369025564843\n90. 26.6777058976605\n91. 25.3655474814478\n92. 28.5023886878368\n93. 27.6232088133596\n94. 31.0468595304393\n95. 26.7039067592149\n96. 25.7952703726391\n97. 26.6755289928312\n98. 31.2008614799081\n99. 28.7186840654569\n100. 28.9831159103379\n101. 27.1426943557248\n102. 31.3951685890562\n103. 30.3451845118446\n104. 24.3938706539611\n105. 24.7648647685327\n106. 27.2481051450357\n107. 29.2035091787362\n108. 27.2939334515918\n109. 28.3869904612716\n110. 24.4332787857058\n111. 29.8866748333836\n112. 26.809131483683\n113. 25.2412030990222\n114. 30.3097141167115\n115. 27.0699595924499\n116. 28.4149907269352\n117. 28.3092391140746\n118. 25.6603288359486\n119. 31.7442227470762\n120. 25.0631851271348\n121. 29.3096441291678\n122. 23.820446094993\n123. 27.2566624744916\n124. 30.4902693127533\n125. 27.0912421625862\n126. 27.3761461982918\n127. 28.1019593298196\n128. 27.818091858135\n129. 25.777143764735\n130. 25.1437367335119\n131. 27.6471461138458\n132. 24.1336858917213\n133. 26.8083027081168\n134. 30.0476901908753\n135. 22.9013113945776\n136. 30.3303415340176\n137. 28.8512419534152\n138. 25.1416498479418\n139. 26.6551678589742\n140. 27.1402687645011\n141. 31.7454163257867\n142. 29.0496537496315\n143. 28.469604422188\n144. 28.5951573449157\n145. 29.208514793917\n146. 28.7760042498254\n147. 29.1498118696571\n148. 27.5836232997805\n149. 26.2772706611983\n150. 28.4726691729062\n151. 27.1204616165009\n152. 27.3303685600433\n153. 26.5750220019595\n154. 30.7408465831642\n155. 30.0033708555798\n156. 27.5115409609292\n157. 24.543555756334\n158. 26.4601039700917\n159. 26.8598879318255\n160. 30.4694011972558\n161. 28.7488943960702\n162. 29.5820308103251\n163. 29.2708489107393\n164. 29.4753094741189\n165. 28.2830281707994\n166. 23.0530633266106\n167. 25.2786260901021\n168. 27.1722655682924\n169. 26.5887685814394\n170. 26.9278464786661\n171. 31.2276072564354\n172. 31.7133083546445\n173. 28.9948764241988\n174. 28.7422014781106\n175. 28.1303877349334\n176. 27.3399691015673\n177. 25.820276508485\n178. 32.0448337753871\n179. 23.7476256111645\n180. 28.1461213030842\n181. 27.7032491221088\n182. 26.0496562204434\n183. 28.1241714792791\n184. 28.3290316775066\n185. 28.6791665442441\n186. 29.1337516872203\n187. 29.9669082053481\n188. 27.3126756138081\n189. 28.7799204070086\n190. 27.3377963062943\n191. 24.9939917926559\n192. 27.0982279999552\n193. 29.6417471947985\n194. 26.7400162285933\n195. 29.219964409918\n196. 30.743419550331\n197. 31.3054949059697\n198. 28.2796739659167\n199. 28.3041556876777\n200. 26.3262622600323\n201. 26.1322953647461\n202. 25.4167211694322\n203. 24.9792628827021\n204. 27.9209495820456\n205. 28.8622739193066\n206. 26.8340089347608\n207. 28.913785475369\n208. 27.1519183396372\n209. 28.3351716713568\n210. 27.1521347696659\n211. 28.9869806460043\n212. 27.6522405880309\n213. 26.4354352911011\n214. 26.222624784202\n215. 33.1594277254622\n216. 26.8975376357354\n217. 27.1624026348724\n218. 25.7795481827517\n219. 30.691180131996\n220. 31.6655440574648\n221. 29.7380934925928\n222. 28.0320362400059\n223. 27.7515339710854\n224. 27.3835826062939\n225. 29.2927678933872\n226. 26.4611960655952\n227. 26.9067444892023\n228. 30.6382811762432\n229. 27.4943279682829\n230. 30.7028108682466\n231. 25.9168841777976\n232. 29.5245530688277\n233. 25.842401073217\n234. 26.1153639062094\n235. 29.6612722328355\n236. 25.8141183068241\n237. 28.7300000938021\n238. 27.3307593916089\n239. 29.4693092698935\n240. 30.3049379648094\n241. 26.5246634744916\n242. 27.9328778693838\n243. 28.3289032066083\n244. 24.6463793769554\n245. 26.7193974179189\n246. 28.1779751382127\n247. 26.0610697280158\n248. 28.4095547973632\n249. 28.1279015433277\n250. 24.5225204765998\n\n\n",
            "text/latex": "\\begin{enumerate*}\n\\item 27.1585249729371\n\\item 29.2346137477739\n\\item 29.691149360043\n\\item 28.1168091910701\n\\item 27.639874684073\n\\item 27.1398094759588\n\\item 27.9996232122988\n\\item 29.557289845599\n\\item 26.1637217717224\n\\item 27.9871064917112\n\\item 26.9546688738635\n\\item 25.6318387960612\n\\item 27.5989070416386\n\\item 29.5812604376948\n\\item 26.9692870238885\n\\item 25.6427837420224\n\\item 27.4909551164497\n\\item 27.1492764664552\n\\item 26.8778532153688\n\\item 21.9633797230249\n\\item 26.3474868945556\n\\item 28.4877053574002\n\\item 26.423613975739\n\\item 26.9394874980072\n\\item 28.1654834757798\n\\item 27.0682286690278\n\\item 28.9621710382991\n\\item 28.9558826679886\n\\item 29.7108253580127\n\\item 30.3660192385143\n\\item 31.4906954775964\n\\item 28.2133113246804\n\\item 30.1130302154464\n\\item 31.2237523002026\n\\item 28.5200870267025\n\\item 27.4978860264521\n\\item 26.0583365956921\n\\item 30.0511192677232\n\\item 27.9937235928514\n\\item 23.4173047640686\n\\item 28.0056654287385\n\\item 24.1903719383041\n\\item 27.7730596416797\n\\item 24.6775320523344\n\\item 29.2509355664653\n\\item 24.1315997944354\n\\item 27.6705409901353\n\\item 29.7623752703731\n\\item 26.3602596079457\n\\item 29.7754391210271\n\\item 29.2551415555103\n\\item 26.5351758085846\n\\item 30.504006195253\n\\item 29.8872118872218\n\\item 29.6375666286929\n\\item 27.6076517368107\n\\item 30.0859933183927\n\\item 26.7804984052052\n\\item 26.0774423719536\n\\item 31.238892564364\n\\item 31.3221404820766\n\\item 27.3014586310139\n\\item 27.8760683791679\n\\item 28.5848294129816\n\\item 25.0225381159916\n\\item 29.5648235222231\n\\item 28.7846616970268\n\\item 28.3980668987673\n\\item 29.8323389196706\n\\item 26.8206417507159\n\\item 28.3046043571637\n\\item 26.6327851575416\n\\item 25.9299553876885\n\\item 25.7142580371184\n\\item 27.3266752220666\n\\item 24.3925251364581\n\\item 24.1347162034949\n\\item 27.4058278711613\n\\item 26.5044949979046\n\\item 23.6551002923845\n\\item 32.6005512080607\n\\item 27.7657586333461\n\\item 26.5060359034883\n\\item 26.3443926023318\n\\item 27.793860765448\n\\item 28.4988486687834\n\\item 29.25659242218\n\\item 27.3355567534443\n\\item 26.5369025564843\n\\item 26.6777058976605\n\\item 25.3655474814478\n\\item 28.5023886878368\n\\item 27.6232088133596\n\\item 31.0468595304393\n\\item 26.7039067592149\n\\item 25.7952703726391\n\\item 26.6755289928312\n\\item 31.2008614799081\n\\item 28.7186840654569\n\\item 28.9831159103379\n\\item 27.1426943557248\n\\item 31.3951685890562\n\\item 30.3451845118446\n\\item 24.3938706539611\n\\item 24.7648647685327\n\\item 27.2481051450357\n\\item 29.2035091787362\n\\item 27.2939334515918\n\\item 28.3869904612716\n\\item 24.4332787857058\n\\item 29.8866748333836\n\\item 26.809131483683\n\\item 25.2412030990222\n\\item 30.3097141167115\n\\item 27.0699595924499\n\\item 28.4149907269352\n\\item 28.3092391140746\n\\item 25.6603288359486\n\\item 31.7442227470762\n\\item 25.0631851271348\n\\item 29.3096441291678\n\\item 23.820446094993\n\\item 27.2566624744916\n\\item 30.4902693127533\n\\item 27.0912421625862\n\\item 27.3761461982918\n\\item 28.1019593298196\n\\item 27.818091858135\n\\item 25.777143764735\n\\item 25.1437367335119\n\\item 27.6471461138458\n\\item 24.1336858917213\n\\item 26.8083027081168\n\\item 30.0476901908753\n\\item 22.9013113945776\n\\item 30.3303415340176\n\\item 28.8512419534152\n\\item 25.1416498479418\n\\item 26.6551678589742\n\\item 27.1402687645011\n\\item 31.7454163257867\n\\item 29.0496537496315\n\\item 28.469604422188\n\\item 28.5951573449157\n\\item 29.208514793917\n\\item 28.7760042498254\n\\item 29.1498118696571\n\\item 27.5836232997805\n\\item 26.2772706611983\n\\item 28.4726691729062\n\\item 27.1204616165009\n\\item 27.3303685600433\n\\item 26.5750220019595\n\\item 30.7408465831642\n\\item 30.0033708555798\n\\item 27.5115409609292\n\\item 24.543555756334\n\\item 26.4601039700917\n\\item 26.8598879318255\n\\item 30.4694011972558\n\\item 28.7488943960702\n\\item 29.5820308103251\n\\item 29.2708489107393\n\\item 29.4753094741189\n\\item 28.2830281707994\n\\item 23.0530633266106\n\\item 25.2786260901021\n\\item 27.1722655682924\n\\item 26.5887685814394\n\\item 26.9278464786661\n\\item 31.2276072564354\n\\item 31.7133083546445\n\\item 28.9948764241988\n\\item 28.7422014781106\n\\item 28.1303877349334\n\\item 27.3399691015673\n\\item 25.820276508485\n\\item 32.0448337753871\n\\item 23.7476256111645\n\\item 28.1461213030842\n\\item 27.7032491221088\n\\item 26.0496562204434\n\\item 28.1241714792791\n\\item 28.3290316775066\n\\item 28.6791665442441\n\\item 29.1337516872203\n\\item 29.9669082053481\n\\item 27.3126756138081\n\\item 28.7799204070086\n\\item 27.3377963062943\n\\item 24.9939917926559\n\\item 27.0982279999552\n\\item 29.6417471947985\n\\item 26.7400162285933\n\\item 29.219964409918\n\\item 30.743419550331\n\\item 31.3054949059697\n\\item 28.2796739659167\n\\item 28.3041556876777\n\\item 26.3262622600323\n\\item 26.1322953647461\n\\item 25.4167211694322\n\\item 24.9792628827021\n\\item 27.9209495820456\n\\item 28.8622739193066\n\\item 26.8340089347608\n\\item 28.913785475369\n\\item 27.1519183396372\n\\item 28.3351716713568\n\\item 27.1521347696659\n\\item 28.9869806460043\n\\item 27.6522405880309\n\\item 26.4354352911011\n\\item 26.222624784202\n\\item 33.1594277254622\n\\item 26.8975376357354\n\\item 27.1624026348724\n\\item 25.7795481827517\n\\item 30.691180131996\n\\item 31.6655440574648\n\\item 29.7380934925928\n\\item 28.0320362400059\n\\item 27.7515339710854\n\\item 27.3835826062939\n\\item 29.2927678933872\n\\item 26.4611960655952\n\\item 26.9067444892023\n\\item 30.6382811762432\n\\item 27.4943279682829\n\\item 30.7028108682466\n\\item 25.9168841777976\n\\item 29.5245530688277\n\\item 25.842401073217\n\\item 26.1153639062094\n\\item 29.6612722328355\n\\item 25.8141183068241\n\\item 28.7300000938021\n\\item 27.3307593916089\n\\item 29.4693092698935\n\\item 30.3049379648094\n\\item 26.5246634744916\n\\item 27.9328778693838\n\\item 28.3289032066083\n\\item 24.6463793769554\n\\item 26.7193974179189\n\\item 28.1779751382127\n\\item 26.0610697280158\n\\item 28.4095547973632\n\\item 28.1279015433277\n\\item 24.5225204765998\n\\end{enumerate*}\n",
            "text/plain": [
              "  [1] 27.15852 29.23461 29.69115 28.11681 27.63987 27.13981 27.99962 29.55729\n",
              "  [9] 26.16372 27.98711 26.95467 25.63184 27.59891 29.58126 26.96929 25.64278\n",
              " [17] 27.49096 27.14928 26.87785 21.96338 26.34749 28.48771 26.42361 26.93949\n",
              " [25] 28.16548 27.06823 28.96217 28.95588 29.71083 30.36602 31.49070 28.21331\n",
              " [33] 30.11303 31.22375 28.52009 27.49789 26.05834 30.05112 27.99372 23.41730\n",
              " [41] 28.00567 24.19037 27.77306 24.67753 29.25094 24.13160 27.67054 29.76238\n",
              " [49] 26.36026 29.77544 29.25514 26.53518 30.50401 29.88721 29.63757 27.60765\n",
              " [57] 30.08599 26.78050 26.07744 31.23889 31.32214 27.30146 27.87607 28.58483\n",
              " [65] 25.02254 29.56482 28.78466 28.39807 29.83234 26.82064 28.30460 26.63279\n",
              " [73] 25.92996 25.71426 27.32668 24.39253 24.13472 27.40583 26.50449 23.65510\n",
              " [81] 32.60055 27.76576 26.50604 26.34439 27.79386 28.49885 29.25659 27.33556\n",
              " [89] 26.53690 26.67771 25.36555 28.50239 27.62321 31.04686 26.70391 25.79527\n",
              " [97] 26.67553 31.20086 28.71868 28.98312 27.14269 31.39517 30.34518 24.39387\n",
              "[105] 24.76486 27.24811 29.20351 27.29393 28.38699 24.43328 29.88667 26.80913\n",
              "[113] 25.24120 30.30971 27.06996 28.41499 28.30924 25.66033 31.74422 25.06319\n",
              "[121] 29.30964 23.82045 27.25666 30.49027 27.09124 27.37615 28.10196 27.81809\n",
              "[129] 25.77714 25.14374 27.64715 24.13369 26.80830 30.04769 22.90131 30.33034\n",
              "[137] 28.85124 25.14165 26.65517 27.14027 31.74542 29.04965 28.46960 28.59516\n",
              "[145] 29.20851 28.77600 29.14981 27.58362 26.27727 28.47267 27.12046 27.33037\n",
              "[153] 26.57502 30.74085 30.00337 27.51154 24.54356 26.46010 26.85989 30.46940\n",
              "[161] 28.74889 29.58203 29.27085 29.47531 28.28303 23.05306 25.27863 27.17227\n",
              "[169] 26.58877 26.92785 31.22761 31.71331 28.99488 28.74220 28.13039 27.33997\n",
              "[177] 25.82028 32.04483 23.74763 28.14612 27.70325 26.04966 28.12417 28.32903\n",
              "[185] 28.67917 29.13375 29.96691 27.31268 28.77992 27.33780 24.99399 27.09823\n",
              "[193] 29.64175 26.74002 29.21996 30.74342 31.30549 28.27967 28.30416 26.32626\n",
              "[201] 26.13230 25.41672 24.97926 27.92095 28.86227 26.83401 28.91379 27.15192\n",
              "[209] 28.33517 27.15213 28.98698 27.65224 26.43544 26.22262 33.15943 26.89754\n",
              "[217] 27.16240 25.77955 30.69118 31.66554 29.73809 28.03204 27.75153 27.38358\n",
              "[225] 29.29277 26.46120 26.90674 30.63828 27.49433 30.70281 25.91688 29.52455\n",
              "[233] 25.84240 26.11536 29.66127 25.81412 28.73000 27.33076 29.46931 30.30494\n",
              "[241] 26.52466 27.93288 28.32890 24.64638 26.71940 28.17798 26.06107 28.40955\n",
              "[249] 28.12790 24.52252"
            ]
          },
          "metadata": {}
        }
      ]
    },
    {
      "cell_type": "code",
      "source": [
        "# Podemos comparar un vector con un número\n",
        "c(3,6,9,2) > 5"
      ],
      "metadata": {
        "id": "bQnUBcr20Ebo",
        "outputId": "3d9f8f76-52ca-4ab6-9982-486ef964ac3d",
        "colab": {
          "base_uri": "https://localhost:8080/",
          "height": 34
        }
      },
      "execution_count": 46,
      "outputs": [
        {
          "output_type": "display_data",
          "data": {
            "text/html": [
              "<style>\n",
              ".list-inline {list-style: none; margin:0; padding: 0}\n",
              ".list-inline>li {display: inline-block}\n",
              ".list-inline>li:not(:last-child)::after {content: \"\\00b7\"; padding: 0 .5ex}\n",
              "</style>\n",
              "<ol class=list-inline><li>FALSE</li><li>TRUE</li><li>TRUE</li><li>FALSE</li></ol>\n"
            ],
            "text/markdown": "1. FALSE\n2. TRUE\n3. TRUE\n4. FALSE\n\n\n",
            "text/latex": "\\begin{enumerate*}\n\\item FALSE\n\\item TRUE\n\\item TRUE\n\\item FALSE\n\\end{enumerate*}\n",
            "text/plain": [
              "[1] FALSE  TRUE  TRUE FALSE"
            ]
          },
          "metadata": {}
        }
      ]
    },
    {
      "cell_type": "code",
      "source": [
        "edades > 29"
      ],
      "metadata": {
        "id": "qxlqQHfb0Zdr",
        "outputId": "a9102e3d-e91b-4db9-ddbc-39588406ffb4",
        "colab": {
          "base_uri": "https://localhost:8080/",
          "height": 329
        }
      },
      "execution_count": 47,
      "outputs": [
        {
          "output_type": "display_data",
          "data": {
            "text/html": [
              "<style>\n",
              ".list-inline {list-style: none; margin:0; padding: 0}\n",
              ".list-inline>li {display: inline-block}\n",
              ".list-inline>li:not(:last-child)::after {content: \"\\00b7\"; padding: 0 .5ex}\n",
              "</style>\n",
              "<ol class=list-inline><li>FALSE</li><li>TRUE</li><li>TRUE</li><li>FALSE</li><li>FALSE</li><li>FALSE</li><li>FALSE</li><li>TRUE</li><li>FALSE</li><li>FALSE</li><li>FALSE</li><li>FALSE</li><li>FALSE</li><li>TRUE</li><li>FALSE</li><li>FALSE</li><li>FALSE</li><li>FALSE</li><li>FALSE</li><li>FALSE</li><li>FALSE</li><li>FALSE</li><li>FALSE</li><li>FALSE</li><li>FALSE</li><li>FALSE</li><li>FALSE</li><li>FALSE</li><li>TRUE</li><li>TRUE</li><li>TRUE</li><li>FALSE</li><li>TRUE</li><li>TRUE</li><li>FALSE</li><li>FALSE</li><li>FALSE</li><li>TRUE</li><li>FALSE</li><li>FALSE</li><li>FALSE</li><li>FALSE</li><li>FALSE</li><li>FALSE</li><li>TRUE</li><li>FALSE</li><li>FALSE</li><li>TRUE</li><li>FALSE</li><li>TRUE</li><li>TRUE</li><li>FALSE</li><li>TRUE</li><li>TRUE</li><li>TRUE</li><li>FALSE</li><li>TRUE</li><li>FALSE</li><li>FALSE</li><li>TRUE</li><li>TRUE</li><li>FALSE</li><li>FALSE</li><li>FALSE</li><li>FALSE</li><li>TRUE</li><li>FALSE</li><li>FALSE</li><li>TRUE</li><li>FALSE</li><li>FALSE</li><li>FALSE</li><li>FALSE</li><li>FALSE</li><li>FALSE</li><li>FALSE</li><li>FALSE</li><li>FALSE</li><li>FALSE</li><li>FALSE</li><li>TRUE</li><li>FALSE</li><li>FALSE</li><li>FALSE</li><li>FALSE</li><li>FALSE</li><li>TRUE</li><li>FALSE</li><li>FALSE</li><li>FALSE</li><li>FALSE</li><li>FALSE</li><li>FALSE</li><li>TRUE</li><li>FALSE</li><li>FALSE</li><li>FALSE</li><li>TRUE</li><li>FALSE</li><li>FALSE</li><li>FALSE</li><li>TRUE</li><li>TRUE</li><li>FALSE</li><li>FALSE</li><li>FALSE</li><li>TRUE</li><li>FALSE</li><li>FALSE</li><li>FALSE</li><li>TRUE</li><li>FALSE</li><li>FALSE</li><li>TRUE</li><li>FALSE</li><li>FALSE</li><li>FALSE</li><li>FALSE</li><li>TRUE</li><li>FALSE</li><li>TRUE</li><li>FALSE</li><li>FALSE</li><li>TRUE</li><li>FALSE</li><li>FALSE</li><li>FALSE</li><li>FALSE</li><li>FALSE</li><li>FALSE</li><li>FALSE</li><li>FALSE</li><li>FALSE</li><li>TRUE</li><li>FALSE</li><li>TRUE</li><li>FALSE</li><li>FALSE</li><li>FALSE</li><li>FALSE</li><li>TRUE</li><li>TRUE</li><li>FALSE</li><li>FALSE</li><li>TRUE</li><li>FALSE</li><li>TRUE</li><li>FALSE</li><li>FALSE</li><li>FALSE</li><li>FALSE</li><li>FALSE</li><li>FALSE</li><li>TRUE</li><li>TRUE</li><li>FALSE</li><li>FALSE</li><li>FALSE</li><li>FALSE</li><li>TRUE</li><li>FALSE</li><li>TRUE</li><li>TRUE</li><li>TRUE</li><li>FALSE</li><li>FALSE</li><li>FALSE</li><li>FALSE</li><li>FALSE</li><li>FALSE</li><li>TRUE</li><li>TRUE</li><li>FALSE</li><li>FALSE</li><li>FALSE</li><li>FALSE</li><li>FALSE</li><li>TRUE</li><li>FALSE</li><li>FALSE</li><li>FALSE</li><li>FALSE</li><li>FALSE</li><li>FALSE</li><li>FALSE</li><li>TRUE</li><li>TRUE</li><li>FALSE</li><li>FALSE</li><li>FALSE</li><li>FALSE</li><li>FALSE</li><li>TRUE</li><li>FALSE</li><li>TRUE</li><li>TRUE</li><li>TRUE</li><li>FALSE</li><li>FALSE</li><li>FALSE</li><li>FALSE</li><li>FALSE</li><li>FALSE</li><li>FALSE</li><li>FALSE</li><li>FALSE</li><li>FALSE</li><li>FALSE</li><li>FALSE</li><li>FALSE</li><li>FALSE</li><li>FALSE</li><li>FALSE</li><li>FALSE</li><li>TRUE</li><li>FALSE</li><li>FALSE</li><li>FALSE</li><li>TRUE</li><li>TRUE</li><li>TRUE</li><li>FALSE</li><li>FALSE</li><li>FALSE</li><li>TRUE</li><li>FALSE</li><li>FALSE</li><li>TRUE</li><li>FALSE</li><li>TRUE</li><li>FALSE</li><li>TRUE</li><li>FALSE</li><li>FALSE</li><li>TRUE</li><li>FALSE</li><li>FALSE</li><li>FALSE</li><li>TRUE</li><li>TRUE</li><li>FALSE</li><li>FALSE</li><li>FALSE</li><li>FALSE</li><li>FALSE</li><li>FALSE</li><li>FALSE</li><li>FALSE</li><li>FALSE</li><li>FALSE</li></ol>\n"
            ],
            "text/markdown": "1. FALSE\n2. TRUE\n3. TRUE\n4. FALSE\n5. FALSE\n6. FALSE\n7. FALSE\n8. TRUE\n9. FALSE\n10. FALSE\n11. FALSE\n12. FALSE\n13. FALSE\n14. TRUE\n15. FALSE\n16. FALSE\n17. FALSE\n18. FALSE\n19. FALSE\n20. FALSE\n21. FALSE\n22. FALSE\n23. FALSE\n24. FALSE\n25. FALSE\n26. FALSE\n27. FALSE\n28. FALSE\n29. TRUE\n30. TRUE\n31. TRUE\n32. FALSE\n33. TRUE\n34. TRUE\n35. FALSE\n36. FALSE\n37. FALSE\n38. TRUE\n39. FALSE\n40. FALSE\n41. FALSE\n42. FALSE\n43. FALSE\n44. FALSE\n45. TRUE\n46. FALSE\n47. FALSE\n48. TRUE\n49. FALSE\n50. TRUE\n51. TRUE\n52. FALSE\n53. TRUE\n54. TRUE\n55. TRUE\n56. FALSE\n57. TRUE\n58. FALSE\n59. FALSE\n60. TRUE\n61. TRUE\n62. FALSE\n63. FALSE\n64. FALSE\n65. FALSE\n66. TRUE\n67. FALSE\n68. FALSE\n69. TRUE\n70. FALSE\n71. FALSE\n72. FALSE\n73. FALSE\n74. FALSE\n75. FALSE\n76. FALSE\n77. FALSE\n78. FALSE\n79. FALSE\n80. FALSE\n81. TRUE\n82. FALSE\n83. FALSE\n84. FALSE\n85. FALSE\n86. FALSE\n87. TRUE\n88. FALSE\n89. FALSE\n90. FALSE\n91. FALSE\n92. FALSE\n93. FALSE\n94. TRUE\n95. FALSE\n96. FALSE\n97. FALSE\n98. TRUE\n99. FALSE\n100. FALSE\n101. FALSE\n102. TRUE\n103. TRUE\n104. FALSE\n105. FALSE\n106. FALSE\n107. TRUE\n108. FALSE\n109. FALSE\n110. FALSE\n111. TRUE\n112. FALSE\n113. FALSE\n114. TRUE\n115. FALSE\n116. FALSE\n117. FALSE\n118. FALSE\n119. TRUE\n120. FALSE\n121. TRUE\n122. FALSE\n123. FALSE\n124. TRUE\n125. FALSE\n126. FALSE\n127. FALSE\n128. FALSE\n129. FALSE\n130. FALSE\n131. FALSE\n132. FALSE\n133. FALSE\n134. TRUE\n135. FALSE\n136. TRUE\n137. FALSE\n138. FALSE\n139. FALSE\n140. FALSE\n141. TRUE\n142. TRUE\n143. FALSE\n144. FALSE\n145. TRUE\n146. FALSE\n147. TRUE\n148. FALSE\n149. FALSE\n150. FALSE\n151. FALSE\n152. FALSE\n153. FALSE\n154. TRUE\n155. TRUE\n156. FALSE\n157. FALSE\n158. FALSE\n159. FALSE\n160. TRUE\n161. FALSE\n162. TRUE\n163. TRUE\n164. TRUE\n165. FALSE\n166. FALSE\n167. FALSE\n168. FALSE\n169. FALSE\n170. FALSE\n171. TRUE\n172. TRUE\n173. FALSE\n174. FALSE\n175. FALSE\n176. FALSE\n177. FALSE\n178. TRUE\n179. FALSE\n180. FALSE\n181. FALSE\n182. FALSE\n183. FALSE\n184. FALSE\n185. FALSE\n186. TRUE\n187. TRUE\n188. FALSE\n189. FALSE\n190. FALSE\n191. FALSE\n192. FALSE\n193. TRUE\n194. FALSE\n195. TRUE\n196. TRUE\n197. TRUE\n198. FALSE\n199. FALSE\n200. FALSE\n201. FALSE\n202. FALSE\n203. FALSE\n204. FALSE\n205. FALSE\n206. FALSE\n207. FALSE\n208. FALSE\n209. FALSE\n210. FALSE\n211. FALSE\n212. FALSE\n213. FALSE\n214. FALSE\n215. TRUE\n216. FALSE\n217. FALSE\n218. FALSE\n219. TRUE\n220. TRUE\n221. TRUE\n222. FALSE\n223. FALSE\n224. FALSE\n225. TRUE\n226. FALSE\n227. FALSE\n228. TRUE\n229. FALSE\n230. TRUE\n231. FALSE\n232. TRUE\n233. FALSE\n234. FALSE\n235. TRUE\n236. FALSE\n237. FALSE\n238. FALSE\n239. TRUE\n240. TRUE\n241. FALSE\n242. FALSE\n243. FALSE\n244. FALSE\n245. FALSE\n246. FALSE\n247. FALSE\n248. FALSE\n249. FALSE\n250. FALSE\n\n\n",
            "text/latex": "\\begin{enumerate*}\n\\item FALSE\n\\item TRUE\n\\item TRUE\n\\item FALSE\n\\item FALSE\n\\item FALSE\n\\item FALSE\n\\item TRUE\n\\item FALSE\n\\item FALSE\n\\item FALSE\n\\item FALSE\n\\item FALSE\n\\item TRUE\n\\item FALSE\n\\item FALSE\n\\item FALSE\n\\item FALSE\n\\item FALSE\n\\item FALSE\n\\item FALSE\n\\item FALSE\n\\item FALSE\n\\item FALSE\n\\item FALSE\n\\item FALSE\n\\item FALSE\n\\item FALSE\n\\item TRUE\n\\item TRUE\n\\item TRUE\n\\item FALSE\n\\item TRUE\n\\item TRUE\n\\item FALSE\n\\item FALSE\n\\item FALSE\n\\item TRUE\n\\item FALSE\n\\item FALSE\n\\item FALSE\n\\item FALSE\n\\item FALSE\n\\item FALSE\n\\item TRUE\n\\item FALSE\n\\item FALSE\n\\item TRUE\n\\item FALSE\n\\item TRUE\n\\item TRUE\n\\item FALSE\n\\item TRUE\n\\item TRUE\n\\item TRUE\n\\item FALSE\n\\item TRUE\n\\item FALSE\n\\item FALSE\n\\item TRUE\n\\item TRUE\n\\item FALSE\n\\item FALSE\n\\item FALSE\n\\item FALSE\n\\item TRUE\n\\item FALSE\n\\item FALSE\n\\item TRUE\n\\item FALSE\n\\item FALSE\n\\item FALSE\n\\item FALSE\n\\item FALSE\n\\item FALSE\n\\item FALSE\n\\item FALSE\n\\item FALSE\n\\item FALSE\n\\item FALSE\n\\item TRUE\n\\item FALSE\n\\item FALSE\n\\item FALSE\n\\item FALSE\n\\item FALSE\n\\item TRUE\n\\item FALSE\n\\item FALSE\n\\item FALSE\n\\item FALSE\n\\item FALSE\n\\item FALSE\n\\item TRUE\n\\item FALSE\n\\item FALSE\n\\item FALSE\n\\item TRUE\n\\item FALSE\n\\item FALSE\n\\item FALSE\n\\item TRUE\n\\item TRUE\n\\item FALSE\n\\item FALSE\n\\item FALSE\n\\item TRUE\n\\item FALSE\n\\item FALSE\n\\item FALSE\n\\item TRUE\n\\item FALSE\n\\item FALSE\n\\item TRUE\n\\item FALSE\n\\item FALSE\n\\item FALSE\n\\item FALSE\n\\item TRUE\n\\item FALSE\n\\item TRUE\n\\item FALSE\n\\item FALSE\n\\item TRUE\n\\item FALSE\n\\item FALSE\n\\item FALSE\n\\item FALSE\n\\item FALSE\n\\item FALSE\n\\item FALSE\n\\item FALSE\n\\item FALSE\n\\item TRUE\n\\item FALSE\n\\item TRUE\n\\item FALSE\n\\item FALSE\n\\item FALSE\n\\item FALSE\n\\item TRUE\n\\item TRUE\n\\item FALSE\n\\item FALSE\n\\item TRUE\n\\item FALSE\n\\item TRUE\n\\item FALSE\n\\item FALSE\n\\item FALSE\n\\item FALSE\n\\item FALSE\n\\item FALSE\n\\item TRUE\n\\item TRUE\n\\item FALSE\n\\item FALSE\n\\item FALSE\n\\item FALSE\n\\item TRUE\n\\item FALSE\n\\item TRUE\n\\item TRUE\n\\item TRUE\n\\item FALSE\n\\item FALSE\n\\item FALSE\n\\item FALSE\n\\item FALSE\n\\item FALSE\n\\item TRUE\n\\item TRUE\n\\item FALSE\n\\item FALSE\n\\item FALSE\n\\item FALSE\n\\item FALSE\n\\item TRUE\n\\item FALSE\n\\item FALSE\n\\item FALSE\n\\item FALSE\n\\item FALSE\n\\item FALSE\n\\item FALSE\n\\item TRUE\n\\item TRUE\n\\item FALSE\n\\item FALSE\n\\item FALSE\n\\item FALSE\n\\item FALSE\n\\item TRUE\n\\item FALSE\n\\item TRUE\n\\item TRUE\n\\item TRUE\n\\item FALSE\n\\item FALSE\n\\item FALSE\n\\item FALSE\n\\item FALSE\n\\item FALSE\n\\item FALSE\n\\item FALSE\n\\item FALSE\n\\item FALSE\n\\item FALSE\n\\item FALSE\n\\item FALSE\n\\item FALSE\n\\item FALSE\n\\item FALSE\n\\item FALSE\n\\item TRUE\n\\item FALSE\n\\item FALSE\n\\item FALSE\n\\item TRUE\n\\item TRUE\n\\item TRUE\n\\item FALSE\n\\item FALSE\n\\item FALSE\n\\item TRUE\n\\item FALSE\n\\item FALSE\n\\item TRUE\n\\item FALSE\n\\item TRUE\n\\item FALSE\n\\item TRUE\n\\item FALSE\n\\item FALSE\n\\item TRUE\n\\item FALSE\n\\item FALSE\n\\item FALSE\n\\item TRUE\n\\item TRUE\n\\item FALSE\n\\item FALSE\n\\item FALSE\n\\item FALSE\n\\item FALSE\n\\item FALSE\n\\item FALSE\n\\item FALSE\n\\item FALSE\n\\item FALSE\n\\end{enumerate*}\n",
            "text/plain": [
              "  [1] FALSE  TRUE  TRUE FALSE FALSE FALSE FALSE  TRUE FALSE FALSE FALSE FALSE\n",
              " [13] FALSE  TRUE FALSE FALSE FALSE FALSE FALSE FALSE FALSE FALSE FALSE FALSE\n",
              " [25] FALSE FALSE FALSE FALSE  TRUE  TRUE  TRUE FALSE  TRUE  TRUE FALSE FALSE\n",
              " [37] FALSE  TRUE FALSE FALSE FALSE FALSE FALSE FALSE  TRUE FALSE FALSE  TRUE\n",
              " [49] FALSE  TRUE  TRUE FALSE  TRUE  TRUE  TRUE FALSE  TRUE FALSE FALSE  TRUE\n",
              " [61]  TRUE FALSE FALSE FALSE FALSE  TRUE FALSE FALSE  TRUE FALSE FALSE FALSE\n",
              " [73] FALSE FALSE FALSE FALSE FALSE FALSE FALSE FALSE  TRUE FALSE FALSE FALSE\n",
              " [85] FALSE FALSE  TRUE FALSE FALSE FALSE FALSE FALSE FALSE  TRUE FALSE FALSE\n",
              " [97] FALSE  TRUE FALSE FALSE FALSE  TRUE  TRUE FALSE FALSE FALSE  TRUE FALSE\n",
              "[109] FALSE FALSE  TRUE FALSE FALSE  TRUE FALSE FALSE FALSE FALSE  TRUE FALSE\n",
              "[121]  TRUE FALSE FALSE  TRUE FALSE FALSE FALSE FALSE FALSE FALSE FALSE FALSE\n",
              "[133] FALSE  TRUE FALSE  TRUE FALSE FALSE FALSE FALSE  TRUE  TRUE FALSE FALSE\n",
              "[145]  TRUE FALSE  TRUE FALSE FALSE FALSE FALSE FALSE FALSE  TRUE  TRUE FALSE\n",
              "[157] FALSE FALSE FALSE  TRUE FALSE  TRUE  TRUE  TRUE FALSE FALSE FALSE FALSE\n",
              "[169] FALSE FALSE  TRUE  TRUE FALSE FALSE FALSE FALSE FALSE  TRUE FALSE FALSE\n",
              "[181] FALSE FALSE FALSE FALSE FALSE  TRUE  TRUE FALSE FALSE FALSE FALSE FALSE\n",
              "[193]  TRUE FALSE  TRUE  TRUE  TRUE FALSE FALSE FALSE FALSE FALSE FALSE FALSE\n",
              "[205] FALSE FALSE FALSE FALSE FALSE FALSE FALSE FALSE FALSE FALSE  TRUE FALSE\n",
              "[217] FALSE FALSE  TRUE  TRUE  TRUE FALSE FALSE FALSE  TRUE FALSE FALSE  TRUE\n",
              "[229] FALSE  TRUE FALSE  TRUE FALSE FALSE  TRUE FALSE FALSE FALSE  TRUE  TRUE\n",
              "[241] FALSE FALSE FALSE FALSE FALSE FALSE FALSE FALSE FALSE FALSE"
            ]
          },
          "metadata": {}
        }
      ]
    },
    {
      "cell_type": "code",
      "source": [
        "edades[edades > 29]"
      ],
      "metadata": {
        "id": "n4Fc-PaE0hAN",
        "outputId": "6a3bd179-2c92-43ca-ea2c-55eb4a9ef720",
        "colab": {
          "base_uri": "https://localhost:8080/",
          "height": 208
        }
      },
      "execution_count": 48,
      "outputs": [
        {
          "output_type": "display_data",
          "data": {
            "text/html": [
              "<style>\n",
              ".list-inline {list-style: none; margin:0; padding: 0}\n",
              ".list-inline>li {display: inline-block}\n",
              ".list-inline>li:not(:last-child)::after {content: \"\\00b7\"; padding: 0 .5ex}\n",
              "</style>\n",
              "<ol class=list-inline><li>29.2346137477739</li><li>29.691149360043</li><li>29.557289845599</li><li>29.5812604376948</li><li>29.7108253580127</li><li>30.3660192385143</li><li>31.4906954775964</li><li>30.1130302154464</li><li>31.2237523002026</li><li>30.0511192677232</li><li>29.2509355664653</li><li>29.7623752703731</li><li>29.7754391210271</li><li>29.2551415555103</li><li>30.504006195253</li><li>29.8872118872218</li><li>29.6375666286929</li><li>30.0859933183927</li><li>31.238892564364</li><li>31.3221404820766</li><li>29.5648235222231</li><li>29.8323389196706</li><li>32.6005512080607</li><li>29.25659242218</li><li>31.0468595304393</li><li>31.2008614799081</li><li>31.3951685890562</li><li>30.3451845118446</li><li>29.2035091787362</li><li>29.8866748333836</li><li>30.3097141167115</li><li>31.7442227470762</li><li>29.3096441291678</li><li>30.4902693127533</li><li>30.0476901908753</li><li>30.3303415340176</li><li>31.7454163257867</li><li>29.0496537496315</li><li>29.208514793917</li><li>29.1498118696571</li><li>30.7408465831642</li><li>30.0033708555798</li><li>30.4694011972558</li><li>29.5820308103251</li><li>29.2708489107393</li><li>29.4753094741189</li><li>31.2276072564354</li><li>31.7133083546445</li><li>32.0448337753871</li><li>29.1337516872203</li><li>29.9669082053481</li><li>29.6417471947985</li><li>29.219964409918</li><li>30.743419550331</li><li>31.3054949059697</li><li>33.1594277254622</li><li>30.691180131996</li><li>31.6655440574648</li><li>29.7380934925928</li><li>29.2927678933872</li><li>30.6382811762432</li><li>30.7028108682466</li><li>29.5245530688277</li><li>29.6612722328355</li><li>29.4693092698935</li><li>30.3049379648094</li></ol>\n"
            ],
            "text/markdown": "1. 29.2346137477739\n2. 29.691149360043\n3. 29.557289845599\n4. 29.5812604376948\n5. 29.7108253580127\n6. 30.3660192385143\n7. 31.4906954775964\n8. 30.1130302154464\n9. 31.2237523002026\n10. 30.0511192677232\n11. 29.2509355664653\n12. 29.7623752703731\n13. 29.7754391210271\n14. 29.2551415555103\n15. 30.504006195253\n16. 29.8872118872218\n17. 29.6375666286929\n18. 30.0859933183927\n19. 31.238892564364\n20. 31.3221404820766\n21. 29.5648235222231\n22. 29.8323389196706\n23. 32.6005512080607\n24. 29.25659242218\n25. 31.0468595304393\n26. 31.2008614799081\n27. 31.3951685890562\n28. 30.3451845118446\n29. 29.2035091787362\n30. 29.8866748333836\n31. 30.3097141167115\n32. 31.7442227470762\n33. 29.3096441291678\n34. 30.4902693127533\n35. 30.0476901908753\n36. 30.3303415340176\n37. 31.7454163257867\n38. 29.0496537496315\n39. 29.208514793917\n40. 29.1498118696571\n41. 30.7408465831642\n42. 30.0033708555798\n43. 30.4694011972558\n44. 29.5820308103251\n45. 29.2708489107393\n46. 29.4753094741189\n47. 31.2276072564354\n48. 31.7133083546445\n49. 32.0448337753871\n50. 29.1337516872203\n51. 29.9669082053481\n52. 29.6417471947985\n53. 29.219964409918\n54. 30.743419550331\n55. 31.3054949059697\n56. 33.1594277254622\n57. 30.691180131996\n58. 31.6655440574648\n59. 29.7380934925928\n60. 29.2927678933872\n61. 30.6382811762432\n62. 30.7028108682466\n63. 29.5245530688277\n64. 29.6612722328355\n65. 29.4693092698935\n66. 30.3049379648094\n\n\n",
            "text/latex": "\\begin{enumerate*}\n\\item 29.2346137477739\n\\item 29.691149360043\n\\item 29.557289845599\n\\item 29.5812604376948\n\\item 29.7108253580127\n\\item 30.3660192385143\n\\item 31.4906954775964\n\\item 30.1130302154464\n\\item 31.2237523002026\n\\item 30.0511192677232\n\\item 29.2509355664653\n\\item 29.7623752703731\n\\item 29.7754391210271\n\\item 29.2551415555103\n\\item 30.504006195253\n\\item 29.8872118872218\n\\item 29.6375666286929\n\\item 30.0859933183927\n\\item 31.238892564364\n\\item 31.3221404820766\n\\item 29.5648235222231\n\\item 29.8323389196706\n\\item 32.6005512080607\n\\item 29.25659242218\n\\item 31.0468595304393\n\\item 31.2008614799081\n\\item 31.3951685890562\n\\item 30.3451845118446\n\\item 29.2035091787362\n\\item 29.8866748333836\n\\item 30.3097141167115\n\\item 31.7442227470762\n\\item 29.3096441291678\n\\item 30.4902693127533\n\\item 30.0476901908753\n\\item 30.3303415340176\n\\item 31.7454163257867\n\\item 29.0496537496315\n\\item 29.208514793917\n\\item 29.1498118696571\n\\item 30.7408465831642\n\\item 30.0033708555798\n\\item 30.4694011972558\n\\item 29.5820308103251\n\\item 29.2708489107393\n\\item 29.4753094741189\n\\item 31.2276072564354\n\\item 31.7133083546445\n\\item 32.0448337753871\n\\item 29.1337516872203\n\\item 29.9669082053481\n\\item 29.6417471947985\n\\item 29.219964409918\n\\item 30.743419550331\n\\item 31.3054949059697\n\\item 33.1594277254622\n\\item 30.691180131996\n\\item 31.6655440574648\n\\item 29.7380934925928\n\\item 29.2927678933872\n\\item 30.6382811762432\n\\item 30.7028108682466\n\\item 29.5245530688277\n\\item 29.6612722328355\n\\item 29.4693092698935\n\\item 30.3049379648094\n\\end{enumerate*}\n",
            "text/plain": [
              " [1] 29.23461 29.69115 29.55729 29.58126 29.71083 30.36602 31.49070 30.11303\n",
              " [9] 31.22375 30.05112 29.25094 29.76238 29.77544 29.25514 30.50401 29.88721\n",
              "[17] 29.63757 30.08599 31.23889 31.32214 29.56482 29.83234 32.60055 29.25659\n",
              "[25] 31.04686 31.20086 31.39517 30.34518 29.20351 29.88667 30.30971 31.74422\n",
              "[33] 29.30964 30.49027 30.04769 30.33034 31.74542 29.04965 29.20851 29.14981\n",
              "[41] 30.74085 30.00337 30.46940 29.58203 29.27085 29.47531 31.22761 31.71331\n",
              "[49] 32.04483 29.13375 29.96691 29.64175 29.21996 30.74342 31.30549 33.15943\n",
              "[57] 30.69118 31.66554 29.73809 29.29277 30.63828 30.70281 29.52455 29.66127\n",
              "[65] 29.46931 30.30494"
            ]
          },
          "metadata": {}
        }
      ]
    },
    {
      "cell_type": "code",
      "source": [
        "#mean() recibe un vector y retorna su promedio\n",
        "mean(c(1,2,3)) # es lo mismo que (1+2+3)/3\n",
        "(1+2+3)/3"
      ],
      "metadata": {
        "id": "3h5bWPiX1MnO",
        "outputId": "3c12614e-1cf4-4d89-d5fd-9b0dc02daaf4",
        "colab": {
          "base_uri": "https://localhost:8080/",
          "height": 52
        }
      },
      "execution_count": 52,
      "outputs": [
        {
          "output_type": "display_data",
          "data": {
            "text/html": [
              "2"
            ],
            "text/markdown": "2",
            "text/latex": "2",
            "text/plain": [
              "[1] 2"
            ]
          },
          "metadata": {}
        },
        {
          "output_type": "display_data",
          "data": {
            "text/html": [
              "2"
            ],
            "text/markdown": "2",
            "text/latex": "2",
            "text/plain": [
              "[1] 2"
            ]
          },
          "metadata": {}
        }
      ]
    },
    {
      "cell_type": "code",
      "source": [
        "# ¿Cuantos registros hay con edad mayor a 30?\n",
        "length(edades[edades > 30]) # Hay 34 registros.\n",
        "# Del grupo de registros mayores a 30, cual es la edad promedio?\n",
        "mean(edades[edades > 30])\n"
      ],
      "metadata": {
        "id": "8PuftBqJ0pOi",
        "outputId": "6f7e4ea0-980e-4440-935d-bf4aef7794d9",
        "colab": {
          "base_uri": "https://localhost:8080/",
          "height": 52
        }
      },
      "execution_count": 53,
      "outputs": [
        {
          "output_type": "display_data",
          "data": {
            "text/html": [
              "34"
            ],
            "text/markdown": "34",
            "text/latex": "34",
            "text/plain": [
              "[1] 34"
            ]
          },
          "metadata": {}
        },
        {
          "output_type": "display_data",
          "data": {
            "text/html": [
              "30.9724233237967"
            ],
            "text/markdown": "30.9724233237967",
            "text/latex": "30.9724233237967",
            "text/plain": [
              "[1] 30.97242"
            ]
          },
          "metadata": {}
        }
      ]
    },
    {
      "cell_type": "code",
      "source": [
        "max(edades[edades > 30])\n",
        "min(edades[edades > 30])"
      ],
      "metadata": {
        "id": "4Hdlk2EC1iyQ",
        "outputId": "754a92df-188f-4b29-ee8f-47da4a197456",
        "colab": {
          "base_uri": "https://localhost:8080/",
          "height": 52
        }
      },
      "execution_count": 55,
      "outputs": [
        {
          "output_type": "display_data",
          "data": {
            "text/html": [
              "33.1594277254622"
            ],
            "text/markdown": "33.1594277254622",
            "text/latex": "33.1594277254622",
            "text/plain": [
              "[1] 33.15943"
            ]
          },
          "metadata": {}
        },
        {
          "output_type": "display_data",
          "data": {
            "text/html": [
              "30.0033708555798"
            ],
            "text/markdown": "30.0033708555798",
            "text/latex": "30.0033708555798",
            "text/plain": [
              "[1] 30.00337"
            ]
          },
          "metadata": {}
        }
      ]
    },
    {
      "cell_type": "code",
      "metadata": {
        "id": "fvq5tBXVIgvm"
      },
      "source": [
        "# podríamos guardar el vector de T o F's en una variable para luego referenciarla\n",
        "ind <- edades > 30\n"
      ],
      "execution_count": 56,
      "outputs": []
    },
    {
      "cell_type": "code",
      "source": [
        "edades[ind]"
      ],
      "metadata": {
        "id": "n98IKJAi1zGb",
        "outputId": "e031f967-56ef-4f6d-fac0-cbfc6ed22280",
        "colab": {
          "base_uri": "https://localhost:8080/",
          "height": 121
        }
      },
      "execution_count": 57,
      "outputs": [
        {
          "output_type": "display_data",
          "data": {
            "text/html": [
              "<style>\n",
              ".list-inline {list-style: none; margin:0; padding: 0}\n",
              ".list-inline>li {display: inline-block}\n",
              ".list-inline>li:not(:last-child)::after {content: \"\\00b7\"; padding: 0 .5ex}\n",
              "</style>\n",
              "<ol class=list-inline><li>30.3660192385143</li><li>31.4906954775964</li><li>30.1130302154464</li><li>31.2237523002026</li><li>30.0511192677232</li><li>30.504006195253</li><li>30.0859933183927</li><li>31.238892564364</li><li>31.3221404820766</li><li>32.6005512080607</li><li>31.0468595304393</li><li>31.2008614799081</li><li>31.3951685890562</li><li>30.3451845118446</li><li>30.3097141167115</li><li>31.7442227470762</li><li>30.4902693127533</li><li>30.0476901908753</li><li>30.3303415340176</li><li>31.7454163257867</li><li>30.7408465831642</li><li>30.0033708555798</li><li>30.4694011972558</li><li>31.2276072564354</li><li>31.7133083546445</li><li>32.0448337753871</li><li>30.743419550331</li><li>31.3054949059697</li><li>33.1594277254622</li><li>30.691180131996</li><li>31.6655440574648</li><li>30.6382811762432</li><li>30.7028108682466</li><li>30.3049379648094</li></ol>\n"
            ],
            "text/markdown": "1. 30.3660192385143\n2. 31.4906954775964\n3. 30.1130302154464\n4. 31.2237523002026\n5. 30.0511192677232\n6. 30.504006195253\n7. 30.0859933183927\n8. 31.238892564364\n9. 31.3221404820766\n10. 32.6005512080607\n11. 31.0468595304393\n12. 31.2008614799081\n13. 31.3951685890562\n14. 30.3451845118446\n15. 30.3097141167115\n16. 31.7442227470762\n17. 30.4902693127533\n18. 30.0476901908753\n19. 30.3303415340176\n20. 31.7454163257867\n21. 30.7408465831642\n22. 30.0033708555798\n23. 30.4694011972558\n24. 31.2276072564354\n25. 31.7133083546445\n26. 32.0448337753871\n27. 30.743419550331\n28. 31.3054949059697\n29. 33.1594277254622\n30. 30.691180131996\n31. 31.6655440574648\n32. 30.6382811762432\n33. 30.7028108682466\n34. 30.3049379648094\n\n\n",
            "text/latex": "\\begin{enumerate*}\n\\item 30.3660192385143\n\\item 31.4906954775964\n\\item 30.1130302154464\n\\item 31.2237523002026\n\\item 30.0511192677232\n\\item 30.504006195253\n\\item 30.0859933183927\n\\item 31.238892564364\n\\item 31.3221404820766\n\\item 32.6005512080607\n\\item 31.0468595304393\n\\item 31.2008614799081\n\\item 31.3951685890562\n\\item 30.3451845118446\n\\item 30.3097141167115\n\\item 31.7442227470762\n\\item 30.4902693127533\n\\item 30.0476901908753\n\\item 30.3303415340176\n\\item 31.7454163257867\n\\item 30.7408465831642\n\\item 30.0033708555798\n\\item 30.4694011972558\n\\item 31.2276072564354\n\\item 31.7133083546445\n\\item 32.0448337753871\n\\item 30.743419550331\n\\item 31.3054949059697\n\\item 33.1594277254622\n\\item 30.691180131996\n\\item 31.6655440574648\n\\item 30.6382811762432\n\\item 30.7028108682466\n\\item 30.3049379648094\n\\end{enumerate*}\n",
            "text/plain": [
              " [1] 30.36602 31.49070 30.11303 31.22375 30.05112 30.50401 30.08599 31.23889\n",
              " [9] 31.32214 32.60055 31.04686 31.20086 31.39517 30.34518 30.30971 31.74422\n",
              "[17] 30.49027 30.04769 30.33034 31.74542 30.74085 30.00337 30.46940 31.22761\n",
              "[25] 31.71331 32.04483 30.74342 31.30549 33.15943 30.69118 31.66554 30.63828\n",
              "[33] 30.70281 30.30494"
            ]
          },
          "metadata": {}
        }
      ]
    },
    {
      "cell_type": "code",
      "metadata": {
        "id": "ioUJy8UEIgvz",
        "outputId": "d9d54273-b65e-49f2-d573-f81bcecc3077",
        "colab": {
          "base_uri": "https://localhost:8080/",
          "height": 34
        }
      },
      "source": [
        "#which() #Retorna la posición(es) donde se cumple una conduición\n",
        "#?which.max # Retorna la primera posicioòn donde se alcanza el maximo.\n",
        "#podemos rescatar el valor mediante el índice guardado\n",
        "\n",
        "which(edades < 23)\n"
      ],
      "execution_count": 60,
      "outputs": [
        {
          "output_type": "display_data",
          "data": {
            "text/html": [
              "<style>\n",
              ".list-inline {list-style: none; margin:0; padding: 0}\n",
              ".list-inline>li {display: inline-block}\n",
              ".list-inline>li:not(:last-child)::after {content: \"\\00b7\"; padding: 0 .5ex}\n",
              "</style>\n",
              "<ol class=list-inline><li>20</li><li>135</li></ol>\n"
            ],
            "text/markdown": "1. 20\n2. 135\n\n\n",
            "text/latex": "\\begin{enumerate*}\n\\item 20\n\\item 135\n\\end{enumerate*}\n",
            "text/plain": [
              "[1]  20 135"
            ]
          },
          "metadata": {}
        }
      ]
    },
    {
      "cell_type": "code",
      "source": [
        "edades[c(20,135)]"
      ],
      "metadata": {
        "id": "uXBSqd2-2ZV4",
        "outputId": "a61c5c88-1ec0-4cdc-a3f0-e0b53bbd20e6",
        "colab": {
          "base_uri": "https://localhost:8080/",
          "height": 34
        }
      },
      "execution_count": 61,
      "outputs": [
        {
          "output_type": "display_data",
          "data": {
            "text/html": [
              "<style>\n",
              ".list-inline {list-style: none; margin:0; padding: 0}\n",
              ".list-inline>li {display: inline-block}\n",
              ".list-inline>li:not(:last-child)::after {content: \"\\00b7\"; padding: 0 .5ex}\n",
              "</style>\n",
              "<ol class=list-inline><li>21.9633797230249</li><li>22.9013113945776</li></ol>\n"
            ],
            "text/markdown": "1. 21.9633797230249\n2. 22.9013113945776\n\n\n",
            "text/latex": "\\begin{enumerate*}\n\\item 21.9633797230249\n\\item 22.9013113945776\n\\end{enumerate*}\n",
            "text/plain": [
              "[1] 21.96338 22.90131"
            ]
          },
          "metadata": {}
        }
      ]
    },
    {
      "cell_type": "code",
      "source": [
        "# con which y max, podemos ubicar la posición de la mayor edad\n",
        "\n",
        "which(edades == max(edades))# retorna la posición donde se cumple la condición dada."
      ],
      "metadata": {
        "id": "3VJ_auGB2hoT",
        "outputId": "f7cd6be2-4e19-4812-ee56-34ef94496ec3",
        "colab": {
          "base_uri": "https://localhost:8080/",
          "height": 34
        }
      },
      "execution_count": 62,
      "outputs": [
        {
          "output_type": "display_data",
          "data": {
            "text/html": [
              "215"
            ],
            "text/markdown": "215",
            "text/latex": "215",
            "text/plain": [
              "[1] 215"
            ]
          },
          "metadata": {}
        }
      ]
    },
    {
      "cell_type": "code",
      "source": [
        "#podemos guardar esta posición\n",
        "pos_mx <- which(edades == max(edades))"
      ],
      "metadata": {
        "id": "ZjnUEYZ83GQT"
      },
      "execution_count": 65,
      "outputs": []
    },
    {
      "cell_type": "code",
      "source": [
        "# en mi caso fue la 215\n",
        "edades[pos_mx]"
      ],
      "metadata": {
        "id": "I7TVPfxG2wTX",
        "outputId": "b2e93cdc-761d-4f99-f7a0-70b14b909c81",
        "colab": {
          "base_uri": "https://localhost:8080/",
          "height": 34
        }
      },
      "execution_count": 66,
      "outputs": [
        {
          "output_type": "display_data",
          "data": {
            "text/html": [
              "33.1594277254622"
            ],
            "text/markdown": "33.1594277254622",
            "text/latex": "33.1594277254622",
            "text/plain": [
              "[1] 33.15943"
            ]
          },
          "metadata": {}
        }
      ]
    },
    {
      "cell_type": "code",
      "source": [
        "which.max(edades)\n",
        "which.min(edades)"
      ],
      "metadata": {
        "id": "4OSex_hu3R-R",
        "outputId": "804a106e-5049-45c9-89d4-acf2a962e934",
        "colab": {
          "base_uri": "https://localhost:8080/",
          "height": 52
        }
      },
      "execution_count": 68,
      "outputs": [
        {
          "output_type": "display_data",
          "data": {
            "text/html": [
              "215"
            ],
            "text/markdown": "215",
            "text/latex": "215",
            "text/plain": [
              "[1] 215"
            ]
          },
          "metadata": {}
        },
        {
          "output_type": "display_data",
          "data": {
            "text/html": [
              "20"
            ],
            "text/markdown": "20",
            "text/latex": "20",
            "text/plain": [
              "[1] 20"
            ]
          },
          "metadata": {}
        }
      ]
    },
    {
      "cell_type": "code",
      "source": [
        "# OJO estas dos funciones retornan la posición de la primera ocurrencia\n",
        "which(c(1,5,3,5) == max(c(1,5,3,5)))\n",
        "which.max(c(1,5,3,5))"
      ],
      "metadata": {
        "id": "V--3aiP63hdB",
        "outputId": "a18a26d1-68e7-4a37-e894-a659eb54af35",
        "colab": {
          "base_uri": "https://localhost:8080/",
          "height": 52
        }
      },
      "execution_count": 71,
      "outputs": [
        {
          "output_type": "display_data",
          "data": {
            "text/html": [
              "<style>\n",
              ".list-inline {list-style: none; margin:0; padding: 0}\n",
              ".list-inline>li {display: inline-block}\n",
              ".list-inline>li:not(:last-child)::after {content: \"\\00b7\"; padding: 0 .5ex}\n",
              "</style>\n",
              "<ol class=list-inline><li>2</li><li>4</li></ol>\n"
            ],
            "text/markdown": "1. 2\n2. 4\n\n\n",
            "text/latex": "\\begin{enumerate*}\n\\item 2\n\\item 4\n\\end{enumerate*}\n",
            "text/plain": [
              "[1] 2 4"
            ]
          },
          "metadata": {}
        },
        {
          "output_type": "display_data",
          "data": {
            "text/html": [
              "2"
            ],
            "text/markdown": "2",
            "text/latex": "2",
            "text/plain": [
              "[1] 2"
            ]
          },
          "metadata": {}
        }
      ]
    },
    {
      "cell_type": "code",
      "metadata": {
        "id": "_8-SMxfWIgv0",
        "outputId": "37ed6ea4-8624-43a2-b561-33f90c49f321",
        "colab": {
          "base_uri": "https://localhost:8080/",
          "height": 34
        }
      },
      "source": [
        "# Operador %in%\n",
        "# vector_a %in% vector_b (qué elementos del vector a están en el vector b)\n",
        "# retorna un  vector de TRUE's y FALSE's del largo del primer vector(a) (izquierda)\n",
        "c(1,3,4) %in% c(5,6,1,7,3)"
      ],
      "execution_count": 72,
      "outputs": [
        {
          "output_type": "display_data",
          "data": {
            "text/html": [
              "<style>\n",
              ".list-inline {list-style: none; margin:0; padding: 0}\n",
              ".list-inline>li {display: inline-block}\n",
              ".list-inline>li:not(:last-child)::after {content: \"\\00b7\"; padding: 0 .5ex}\n",
              "</style>\n",
              "<ol class=list-inline><li>TRUE</li><li>TRUE</li><li>FALSE</li></ol>\n"
            ],
            "text/markdown": "1. TRUE\n2. TRUE\n3. FALSE\n\n\n",
            "text/latex": "\\begin{enumerate*}\n\\item TRUE\n\\item TRUE\n\\item FALSE\n\\end{enumerate*}\n",
            "text/plain": [
              "[1]  TRUE  TRUE FALSE"
            ]
          },
          "metadata": {}
        }
      ]
    },
    {
      "cell_type": "code",
      "metadata": {
        "id": "1YGnzt1zIgv7"
      },
      "source": [
        "# aritmética con vectores\n",
        "# operación de vectore de igual largo\n",
        "\n",
        "a <- c(1,2,3)\n",
        "b <- c(5,10,20)"
      ],
      "execution_count": 73,
      "outputs": []
    },
    {
      "cell_type": "code",
      "source": [
        "a+b\n",
        "a-b\n",
        "a*b\n",
        "a/b"
      ],
      "metadata": {
        "id": "CsgVWXXL44EQ",
        "outputId": "94ea7d81-33a6-447c-b278-5c62ab6b2dfc",
        "colab": {
          "base_uri": "https://localhost:8080/",
          "height": 86
        }
      },
      "execution_count": 75,
      "outputs": [
        {
          "output_type": "display_data",
          "data": {
            "text/html": [
              "<style>\n",
              ".list-inline {list-style: none; margin:0; padding: 0}\n",
              ".list-inline>li {display: inline-block}\n",
              ".list-inline>li:not(:last-child)::after {content: \"\\00b7\"; padding: 0 .5ex}\n",
              "</style>\n",
              "<ol class=list-inline><li>6</li><li>12</li><li>23</li></ol>\n"
            ],
            "text/markdown": "1. 6\n2. 12\n3. 23\n\n\n",
            "text/latex": "\\begin{enumerate*}\n\\item 6\n\\item 12\n\\item 23\n\\end{enumerate*}\n",
            "text/plain": [
              "[1]  6 12 23"
            ]
          },
          "metadata": {}
        },
        {
          "output_type": "display_data",
          "data": {
            "text/html": [
              "<style>\n",
              ".list-inline {list-style: none; margin:0; padding: 0}\n",
              ".list-inline>li {display: inline-block}\n",
              ".list-inline>li:not(:last-child)::after {content: \"\\00b7\"; padding: 0 .5ex}\n",
              "</style>\n",
              "<ol class=list-inline><li>-4</li><li>-8</li><li>-17</li></ol>\n"
            ],
            "text/markdown": "1. -4\n2. -8\n3. -17\n\n\n",
            "text/latex": "\\begin{enumerate*}\n\\item -4\n\\item -8\n\\item -17\n\\end{enumerate*}\n",
            "text/plain": [
              "[1]  -4  -8 -17"
            ]
          },
          "metadata": {}
        },
        {
          "output_type": "display_data",
          "data": {
            "text/html": [
              "<style>\n",
              ".list-inline {list-style: none; margin:0; padding: 0}\n",
              ".list-inline>li {display: inline-block}\n",
              ".list-inline>li:not(:last-child)::after {content: \"\\00b7\"; padding: 0 .5ex}\n",
              "</style>\n",
              "<ol class=list-inline><li>5</li><li>20</li><li>60</li></ol>\n"
            ],
            "text/markdown": "1. 5\n2. 20\n3. 60\n\n\n",
            "text/latex": "\\begin{enumerate*}\n\\item 5\n\\item 20\n\\item 60\n\\end{enumerate*}\n",
            "text/plain": [
              "[1]  5 20 60"
            ]
          },
          "metadata": {}
        },
        {
          "output_type": "display_data",
          "data": {
            "text/html": [
              "<style>\n",
              ".list-inline {list-style: none; margin:0; padding: 0}\n",
              ".list-inline>li {display: inline-block}\n",
              ".list-inline>li:not(:last-child)::after {content: \"\\00b7\"; padding: 0 .5ex}\n",
              "</style>\n",
              "<ol class=list-inline><li>0.2</li><li>0.2</li><li>0.15</li></ol>\n"
            ],
            "text/markdown": "1. 0.2\n2. 0.2\n3. 0.15\n\n\n",
            "text/latex": "\\begin{enumerate*}\n\\item 0.2\n\\item 0.2\n\\item 0.15\n\\end{enumerate*}\n",
            "text/plain": [
              "[1] 0.20 0.20 0.15"
            ]
          },
          "metadata": {}
        }
      ]
    },
    {
      "cell_type": "code",
      "metadata": {
        "id": "Bw8lX76XIgv8",
        "outputId": "af037403-c242-4e42-f482-3cd219f96b35",
        "colab": {
          "base_uri": "https://localhost:8080/",
          "height": 34
        }
      },
      "source": [
        "#ponderaciones por escalares\n",
        "a*10"
      ],
      "execution_count": 76,
      "outputs": [
        {
          "output_type": "display_data",
          "data": {
            "text/html": [
              "<style>\n",
              ".list-inline {list-style: none; margin:0; padding: 0}\n",
              ".list-inline>li {display: inline-block}\n",
              ".list-inline>li:not(:last-child)::after {content: \"\\00b7\"; padding: 0 .5ex}\n",
              "</style>\n",
              "<ol class=list-inline><li>10</li><li>20</li><li>30</li></ol>\n"
            ],
            "text/markdown": "1. 10\n2. 20\n3. 30\n\n\n",
            "text/latex": "\\begin{enumerate*}\n\\item 10\n\\item 20\n\\item 30\n\\end{enumerate*}\n",
            "text/plain": [
              "[1] 10 20 30"
            ]
          },
          "metadata": {}
        }
      ]
    },
    {
      "cell_type": "code",
      "source": [
        "a+1"
      ],
      "metadata": {
        "id": "fbZrtNl35HtG",
        "outputId": "fb73a96b-b94b-453c-e729-0d3d313b851e",
        "colab": {
          "base_uri": "https://localhost:8080/",
          "height": 34
        }
      },
      "execution_count": 77,
      "outputs": [
        {
          "output_type": "display_data",
          "data": {
            "text/html": [
              "<style>\n",
              ".list-inline {list-style: none; margin:0; padding: 0}\n",
              ".list-inline>li {display: inline-block}\n",
              ".list-inline>li:not(:last-child)::after {content: \"\\00b7\"; padding: 0 .5ex}\n",
              "</style>\n",
              "<ol class=list-inline><li>2</li><li>3</li><li>4</li></ol>\n"
            ],
            "text/markdown": "1. 2\n2. 3\n3. 4\n\n\n",
            "text/latex": "\\begin{enumerate*}\n\\item 2\n\\item 3\n\\item 4\n\\end{enumerate*}\n",
            "text/plain": [
              "[1] 2 3 4"
            ]
          },
          "metadata": {}
        }
      ]
    },
    {
      "cell_type": "code",
      "metadata": {
        "id": "syufc9_OIgv_",
        "outputId": "73f4385e-9f87-40ab-b596-116e97f147fc",
        "colab": {
          "base_uri": "https://localhost:8080/",
          "height": 52
        }
      },
      "source": [
        "#CUIDADO: Si se operan vectores de dstinto largo se reciclan los valores del vector más pequeño\n",
        "a\n",
        "(c <- c(30,40,50,60,70))\n"
      ],
      "execution_count": 83,
      "outputs": [
        {
          "output_type": "display_data",
          "data": {
            "text/html": [
              "<style>\n",
              ".list-inline {list-style: none; margin:0; padding: 0}\n",
              ".list-inline>li {display: inline-block}\n",
              ".list-inline>li:not(:last-child)::after {content: \"\\00b7\"; padding: 0 .5ex}\n",
              "</style>\n",
              "<ol class=list-inline><li>1</li><li>2</li><li>3</li></ol>\n"
            ],
            "text/markdown": "1. 1\n2. 2\n3. 3\n\n\n",
            "text/latex": "\\begin{enumerate*}\n\\item 1\n\\item 2\n\\item 3\n\\end{enumerate*}\n",
            "text/plain": [
              "[1] 1 2 3"
            ]
          },
          "metadata": {}
        },
        {
          "output_type": "display_data",
          "data": {
            "text/html": [
              "<style>\n",
              ".list-inline {list-style: none; margin:0; padding: 0}\n",
              ".list-inline>li {display: inline-block}\n",
              ".list-inline>li:not(:last-child)::after {content: \"\\00b7\"; padding: 0 .5ex}\n",
              "</style>\n",
              "<ol class=list-inline><li>30</li><li>40</li><li>50</li><li>60</li><li>70</li></ol>\n"
            ],
            "text/markdown": "1. 30\n2. 40\n3. 50\n4. 60\n5. 70\n\n\n",
            "text/latex": "\\begin{enumerate*}\n\\item 30\n\\item 40\n\\item 50\n\\item 60\n\\item 70\n\\end{enumerate*}\n",
            "text/plain": [
              "[1] 30 40 50 60 70"
            ]
          },
          "metadata": {}
        }
      ]
    },
    {
      "cell_type": "code",
      "source": [
        "a+c"
      ],
      "metadata": {
        "id": "JzPBJUAf5fYb",
        "outputId": "f74bff24-361b-4c5a-e529-60982f5fa507",
        "colab": {
          "base_uri": "https://localhost:8080/",
          "height": 69
        }
      },
      "execution_count": 84,
      "outputs": [
        {
          "output_type": "stream",
          "name": "stderr",
          "text": [
            "Warning message in a + c:\n",
            "“longer object length is not a multiple of shorter object length”\n"
          ]
        },
        {
          "output_type": "display_data",
          "data": {
            "text/html": [
              "<style>\n",
              ".list-inline {list-style: none; margin:0; padding: 0}\n",
              ".list-inline>li {display: inline-block}\n",
              ".list-inline>li:not(:last-child)::after {content: \"\\00b7\"; padding: 0 .5ex}\n",
              "</style>\n",
              "<ol class=list-inline><li>31</li><li>42</li><li>53</li><li>61</li><li>72</li></ol>\n"
            ],
            "text/markdown": "1. 31\n2. 42\n3. 53\n4. 61\n5. 72\n\n\n",
            "text/latex": "\\begin{enumerate*}\n\\item 31\n\\item 42\n\\item 53\n\\item 61\n\\item 72\n\\end{enumerate*}\n",
            "text/plain": [
              "[1] 31 42 53 61 72"
            ]
          },
          "metadata": {}
        }
      ]
    },
    {
      "cell_type": "markdown",
      "metadata": {
        "id": "LIr-IFowIgwD"
      },
      "source": [
        "**Secuencias**\n",
        "\n",
        "En R es posible generar de manera rápida y sencilla algunas secuencias numéricas y almacenarlas en un vector.\n",
        "\n",
        "Ejemplo de estas funciones son :\n",
        "\n",
        "    rep()\n",
        "    seq()\n",
        "    \n",
        "Más adelante veremos como generar números aleatorios siguiendo alguna función de distribución de interés.\n",
        "\n"
      ]
    },
    {
      "cell_type": "code",
      "metadata": {
        "id": "wk0fB_gWIgwE"
      },
      "source": [
        "# a vimos que fácilmente ppodemos generar vectores de enteros consecutivos vía \":\"\n"
      ],
      "execution_count": null,
      "outputs": []
    },
    {
      "cell_type": "code",
      "metadata": {
        "id": "rG-Q3PmhIgwG"
      },
      "source": [
        "# Ejemplo de secuencia con rep (utilice distintos tipos de datos)\n",
        "?rep"
      ],
      "execution_count": 85,
      "outputs": []
    },
    {
      "cell_type": "code",
      "source": [
        "rep(x = 5, times = 10)"
      ],
      "metadata": {
        "id": "WkEqnMtC6YX6",
        "outputId": "6fbe256c-03cf-4c64-bc44-32b2890a0f22",
        "colab": {
          "base_uri": "https://localhost:8080/",
          "height": 34
        }
      },
      "execution_count": 86,
      "outputs": [
        {
          "output_type": "display_data",
          "data": {
            "text/html": [
              "<style>\n",
              ".list-inline {list-style: none; margin:0; padding: 0}\n",
              ".list-inline>li {display: inline-block}\n",
              ".list-inline>li:not(:last-child)::after {content: \"\\00b7\"; padding: 0 .5ex}\n",
              "</style>\n",
              "<ol class=list-inline><li>5</li><li>5</li><li>5</li><li>5</li><li>5</li><li>5</li><li>5</li><li>5</li><li>5</li><li>5</li></ol>\n"
            ],
            "text/markdown": "1. 5\n2. 5\n3. 5\n4. 5\n5. 5\n6. 5\n7. 5\n8. 5\n9. 5\n10. 5\n\n\n",
            "text/latex": "\\begin{enumerate*}\n\\item 5\n\\item 5\n\\item 5\n\\item 5\n\\item 5\n\\item 5\n\\item 5\n\\item 5\n\\item 5\n\\item 5\n\\end{enumerate*}\n",
            "text/plain": [
              " [1] 5 5 5 5 5 5 5 5 5 5"
            ]
          },
          "metadata": {}
        }
      ]
    },
    {
      "cell_type": "code",
      "source": [
        "rep(x = c(\"a\",\"b\",\"c\"), times = 10)"
      ],
      "metadata": {
        "id": "B4OzwT_q6djJ",
        "outputId": "5d854f11-db69-4b68-bdc7-e1cf1687c178",
        "colab": {
          "base_uri": "https://localhost:8080/",
          "height": 34
        }
      },
      "execution_count": 88,
      "outputs": [
        {
          "output_type": "display_data",
          "data": {
            "text/html": [
              "<style>\n",
              ".list-inline {list-style: none; margin:0; padding: 0}\n",
              ".list-inline>li {display: inline-block}\n",
              ".list-inline>li:not(:last-child)::after {content: \"\\00b7\"; padding: 0 .5ex}\n",
              "</style>\n",
              "<ol class=list-inline><li>'a'</li><li>'b'</li><li>'c'</li><li>'a'</li><li>'b'</li><li>'c'</li><li>'a'</li><li>'b'</li><li>'c'</li><li>'a'</li><li>'b'</li><li>'c'</li><li>'a'</li><li>'b'</li><li>'c'</li><li>'a'</li><li>'b'</li><li>'c'</li><li>'a'</li><li>'b'</li><li>'c'</li><li>'a'</li><li>'b'</li><li>'c'</li><li>'a'</li><li>'b'</li><li>'c'</li><li>'a'</li><li>'b'</li><li>'c'</li></ol>\n"
            ],
            "text/markdown": "1. 'a'\n2. 'b'\n3. 'c'\n4. 'a'\n5. 'b'\n6. 'c'\n7. 'a'\n8. 'b'\n9. 'c'\n10. 'a'\n11. 'b'\n12. 'c'\n13. 'a'\n14. 'b'\n15. 'c'\n16. 'a'\n17. 'b'\n18. 'c'\n19. 'a'\n20. 'b'\n21. 'c'\n22. 'a'\n23. 'b'\n24. 'c'\n25. 'a'\n26. 'b'\n27. 'c'\n28. 'a'\n29. 'b'\n30. 'c'\n\n\n",
            "text/latex": "\\begin{enumerate*}\n\\item 'a'\n\\item 'b'\n\\item 'c'\n\\item 'a'\n\\item 'b'\n\\item 'c'\n\\item 'a'\n\\item 'b'\n\\item 'c'\n\\item 'a'\n\\item 'b'\n\\item 'c'\n\\item 'a'\n\\item 'b'\n\\item 'c'\n\\item 'a'\n\\item 'b'\n\\item 'c'\n\\item 'a'\n\\item 'b'\n\\item 'c'\n\\item 'a'\n\\item 'b'\n\\item 'c'\n\\item 'a'\n\\item 'b'\n\\item 'c'\n\\item 'a'\n\\item 'b'\n\\item 'c'\n\\end{enumerate*}\n",
            "text/plain": [
              " [1] \"a\" \"b\" \"c\" \"a\" \"b\" \"c\" \"a\" \"b\" \"c\" \"a\" \"b\" \"c\" \"a\" \"b\" \"c\" \"a\" \"b\" \"c\" \"a\"\n",
              "[20] \"b\" \"c\" \"a\" \"b\" \"c\" \"a\" \"b\" \"c\" \"a\" \"b\" \"c\""
            ]
          },
          "metadata": {}
        }
      ]
    },
    {
      "cell_type": "code",
      "source": [
        "# podemos controlar el largo del vector resultante con el parámetro length.out\n",
        "rep(x = c(\"a\",\"b\",\"c\"), length.out = 28)"
      ],
      "metadata": {
        "id": "RFpwMrSm6qXL",
        "outputId": "08d02198-d646-47e9-90d7-c1a5315bdb91",
        "colab": {
          "base_uri": "https://localhost:8080/",
          "height": 34
        }
      },
      "execution_count": 89,
      "outputs": [
        {
          "output_type": "display_data",
          "data": {
            "text/html": [
              "<style>\n",
              ".list-inline {list-style: none; margin:0; padding: 0}\n",
              ".list-inline>li {display: inline-block}\n",
              ".list-inline>li:not(:last-child)::after {content: \"\\00b7\"; padding: 0 .5ex}\n",
              "</style>\n",
              "<ol class=list-inline><li>'a'</li><li>'b'</li><li>'c'</li><li>'a'</li><li>'b'</li><li>'c'</li><li>'a'</li><li>'b'</li><li>'c'</li><li>'a'</li><li>'b'</li><li>'c'</li><li>'a'</li><li>'b'</li><li>'c'</li><li>'a'</li><li>'b'</li><li>'c'</li><li>'a'</li><li>'b'</li><li>'c'</li><li>'a'</li><li>'b'</li><li>'c'</li><li>'a'</li><li>'b'</li><li>'c'</li><li>'a'</li></ol>\n"
            ],
            "text/markdown": "1. 'a'\n2. 'b'\n3. 'c'\n4. 'a'\n5. 'b'\n6. 'c'\n7. 'a'\n8. 'b'\n9. 'c'\n10. 'a'\n11. 'b'\n12. 'c'\n13. 'a'\n14. 'b'\n15. 'c'\n16. 'a'\n17. 'b'\n18. 'c'\n19. 'a'\n20. 'b'\n21. 'c'\n22. 'a'\n23. 'b'\n24. 'c'\n25. 'a'\n26. 'b'\n27. 'c'\n28. 'a'\n\n\n",
            "text/latex": "\\begin{enumerate*}\n\\item 'a'\n\\item 'b'\n\\item 'c'\n\\item 'a'\n\\item 'b'\n\\item 'c'\n\\item 'a'\n\\item 'b'\n\\item 'c'\n\\item 'a'\n\\item 'b'\n\\item 'c'\n\\item 'a'\n\\item 'b'\n\\item 'c'\n\\item 'a'\n\\item 'b'\n\\item 'c'\n\\item 'a'\n\\item 'b'\n\\item 'c'\n\\item 'a'\n\\item 'b'\n\\item 'c'\n\\item 'a'\n\\item 'b'\n\\item 'c'\n\\item 'a'\n\\end{enumerate*}\n",
            "text/plain": [
              " [1] \"a\" \"b\" \"c\" \"a\" \"b\" \"c\" \"a\" \"b\" \"c\" \"a\" \"b\" \"c\" \"a\" \"b\" \"c\" \"a\" \"b\" \"c\" \"a\"\n",
              "[20] \"b\" \"c\" \"a\" \"b\" \"c\" \"a\" \"b\" \"c\" \"a\""
            ]
          },
          "metadata": {}
        }
      ]
    },
    {
      "cell_type": "code",
      "source": [
        "1:4"
      ],
      "metadata": {
        "id": "G9H-YGUV7B_8",
        "outputId": "55e56993-8b9e-4e4b-fb12-ecf338cf02a4",
        "colab": {
          "base_uri": "https://localhost:8080/",
          "height": 34
        }
      },
      "execution_count": 93,
      "outputs": [
        {
          "output_type": "display_data",
          "data": {
            "text/html": [
              "<style>\n",
              ".list-inline {list-style: none; margin:0; padding: 0}\n",
              ".list-inline>li {display: inline-block}\n",
              ".list-inline>li:not(:last-child)::after {content: \"\\00b7\"; padding: 0 .5ex}\n",
              "</style>\n",
              "<ol class=list-inline><li>1</li><li>2</li><li>3</li><li>4</li></ol>\n"
            ],
            "text/markdown": "1. 1\n2. 2\n3. 3\n4. 4\n\n\n",
            "text/latex": "\\begin{enumerate*}\n\\item 1\n\\item 2\n\\item 3\n\\item 4\n\\end{enumerate*}\n",
            "text/plain": [
              "[1] 1 2 3 4"
            ]
          },
          "metadata": {}
        }
      ]
    },
    {
      "cell_type": "code",
      "source": [
        "rep(1:4, each = 2, times = 3)"
      ],
      "metadata": {
        "id": "NxQbzPxs64DG",
        "outputId": "a720c621-bf8b-4106-cf89-880a9dd621d5",
        "colab": {
          "base_uri": "https://localhost:8080/",
          "height": 34
        }
      },
      "execution_count": 92,
      "outputs": [
        {
          "output_type": "display_data",
          "data": {
            "text/html": [
              "<style>\n",
              ".list-inline {list-style: none; margin:0; padding: 0}\n",
              ".list-inline>li {display: inline-block}\n",
              ".list-inline>li:not(:last-child)::after {content: \"\\00b7\"; padding: 0 .5ex}\n",
              "</style>\n",
              "<ol class=list-inline><li>1</li><li>1</li><li>2</li><li>2</li><li>3</li><li>3</li><li>4</li><li>4</li><li>1</li><li>1</li><li>2</li><li>2</li><li>3</li><li>3</li><li>4</li><li>4</li><li>1</li><li>1</li><li>2</li><li>2</li><li>3</li><li>3</li><li>4</li><li>4</li></ol>\n"
            ],
            "text/markdown": "1. 1\n2. 1\n3. 2\n4. 2\n5. 3\n6. 3\n7. 4\n8. 4\n9. 1\n10. 1\n11. 2\n12. 2\n13. 3\n14. 3\n15. 4\n16. 4\n17. 1\n18. 1\n19. 2\n20. 2\n21. 3\n22. 3\n23. 4\n24. 4\n\n\n",
            "text/latex": "\\begin{enumerate*}\n\\item 1\n\\item 1\n\\item 2\n\\item 2\n\\item 3\n\\item 3\n\\item 4\n\\item 4\n\\item 1\n\\item 1\n\\item 2\n\\item 2\n\\item 3\n\\item 3\n\\item 4\n\\item 4\n\\item 1\n\\item 1\n\\item 2\n\\item 2\n\\item 3\n\\item 3\n\\item 4\n\\item 4\n\\end{enumerate*}\n",
            "text/plain": [
              " [1] 1 1 2 2 3 3 4 4 1 1 2 2 3 3 4 4 1 1 2 2 3 3 4 4"
            ]
          },
          "metadata": {}
        }
      ]
    },
    {
      "cell_type": "code",
      "metadata": {
        "id": "gGkgGylnIgwK",
        "outputId": "5021bbc3-a184-4f85-91ef-f7fc95107cac",
        "colab": {
          "base_uri": "https://localhost:8080/",
          "height": 347
        }
      },
      "source": [
        "# ejemplo de función seq (utilice argumento by, y otro ejemplo con argumento length.out)\n",
        "seq(from = 1, to = 10, by = 0.02)"
      ],
      "execution_count": 97,
      "outputs": [
        {
          "output_type": "display_data",
          "data": {
            "text/html": [
              "<style>\n",
              ".list-inline {list-style: none; margin:0; padding: 0}\n",
              ".list-inline>li {display: inline-block}\n",
              ".list-inline>li:not(:last-child)::after {content: \"\\00b7\"; padding: 0 .5ex}\n",
              "</style>\n",
              "<ol class=list-inline><li>1</li><li>1.02</li><li>1.04</li><li>1.06</li><li>1.08</li><li>1.1</li><li>1.12</li><li>1.14</li><li>1.16</li><li>1.18</li><li>1.2</li><li>1.22</li><li>1.24</li><li>1.26</li><li>1.28</li><li>1.3</li><li>1.32</li><li>1.34</li><li>1.36</li><li>1.38</li><li>1.4</li><li>1.42</li><li>1.44</li><li>1.46</li><li>1.48</li><li>1.5</li><li>1.52</li><li>1.54</li><li>1.56</li><li>1.58</li><li>1.6</li><li>1.62</li><li>1.64</li><li>1.66</li><li>1.68</li><li>1.7</li><li>1.72</li><li>1.74</li><li>1.76</li><li>1.78</li><li>1.8</li><li>1.82</li><li>1.84</li><li>1.86</li><li>1.88</li><li>1.9</li><li>1.92</li><li>1.94</li><li>1.96</li><li>1.98</li><li>2</li><li>2.02</li><li>2.04</li><li>2.06</li><li>2.08</li><li>2.1</li><li>2.12</li><li>2.14</li><li>2.16</li><li>2.18</li><li>2.2</li><li>2.22</li><li>2.24</li><li>2.26</li><li>2.28</li><li>2.3</li><li>2.32</li><li>2.34</li><li>2.36</li><li>2.38</li><li>2.4</li><li>2.42</li><li>2.44</li><li>2.46</li><li>2.48</li><li>2.5</li><li>2.52</li><li>2.54</li><li>2.56</li><li>2.58</li><li>2.6</li><li>2.62</li><li>2.64</li><li>2.66</li><li>2.68</li><li>2.7</li><li>2.72</li><li>2.74</li><li>2.76</li><li>2.78</li><li>2.8</li><li>2.82</li><li>2.84</li><li>2.86</li><li>2.88</li><li>2.9</li><li>2.92</li><li>2.94</li><li>2.96</li><li>2.98</li><li>3</li><li>3.02</li><li>3.04</li><li>3.06</li><li>3.08</li><li>3.1</li><li>3.12</li><li>3.14</li><li>3.16</li><li>3.18</li><li>3.2</li><li>3.22</li><li>3.24</li><li>3.26</li><li>3.28</li><li>3.3</li><li>3.32</li><li>3.34</li><li>3.36</li><li>3.38</li><li>3.4</li><li>3.42</li><li>3.44</li><li>3.46</li><li>3.48</li><li>3.5</li><li>3.52</li><li>3.54</li><li>3.56</li><li>3.58</li><li>3.6</li><li>3.62</li><li>3.64</li><li>3.66</li><li>3.68</li><li>3.7</li><li>3.72</li><li>3.74</li><li>3.76</li><li>3.78</li><li>3.8</li><li>3.82</li><li>3.84</li><li>3.86</li><li>3.88</li><li>3.9</li><li>3.92</li><li>3.94</li><li>3.96</li><li>3.98</li><li>4</li><li>4.02</li><li>4.04</li><li>4.06</li><li>4.08</li><li>4.1</li><li>4.12</li><li>4.14</li><li>4.16</li><li>4.18</li><li>4.2</li><li>4.22</li><li>4.24</li><li>4.26</li><li>4.28</li><li>4.3</li><li>4.32</li><li>4.34</li><li>4.36</li><li>4.38</li><li>4.4</li><li>4.42</li><li>4.44</li><li>4.46</li><li>4.48</li><li>4.5</li><li>4.52</li><li>4.54</li><li>4.56</li><li>4.58</li><li>4.6</li><li>4.62</li><li>4.64</li><li>4.66</li><li>4.68</li><li>4.7</li><li>4.72</li><li>4.74</li><li>4.76</li><li>4.78</li><li>4.8</li><li>4.82</li><li>4.84</li><li>4.86</li><li>4.88</li><li>4.9</li><li>4.92</li><li>4.94</li><li>4.96</li><li>4.98</li><li>⋯</li><li>6.02</li><li>6.04</li><li>6.06</li><li>6.08</li><li>6.1</li><li>6.12</li><li>6.14</li><li>6.16</li><li>6.18</li><li>6.2</li><li>6.22</li><li>6.24</li><li>6.26</li><li>6.28</li><li>6.3</li><li>6.32</li><li>6.34</li><li>6.36</li><li>6.38</li><li>6.4</li><li>6.42</li><li>6.44</li><li>6.46</li><li>6.48</li><li>6.5</li><li>6.52</li><li>6.54</li><li>6.56</li><li>6.58</li><li>6.6</li><li>6.62</li><li>6.64</li><li>6.66</li><li>6.68</li><li>6.7</li><li>6.72</li><li>6.74</li><li>6.76</li><li>6.78</li><li>6.8</li><li>6.82</li><li>6.84</li><li>6.86</li><li>6.88</li><li>6.9</li><li>6.92</li><li>6.94</li><li>6.96</li><li>6.98</li><li>7</li><li>7.02</li><li>7.04</li><li>7.06</li><li>7.08</li><li>7.1</li><li>7.12</li><li>7.14</li><li>7.16</li><li>7.18</li><li>7.2</li><li>7.22</li><li>7.24</li><li>7.26</li><li>7.28</li><li>7.3</li><li>7.32</li><li>7.34</li><li>7.36</li><li>7.38</li><li>7.4</li><li>7.42</li><li>7.44</li><li>7.46</li><li>7.48</li><li>7.5</li><li>7.52</li><li>7.54</li><li>7.56</li><li>7.58</li><li>7.6</li><li>7.62</li><li>7.64</li><li>7.66</li><li>7.68</li><li>7.7</li><li>7.72</li><li>7.74</li><li>7.76</li><li>7.78</li><li>7.8</li><li>7.82</li><li>7.84</li><li>7.86</li><li>7.88</li><li>7.9</li><li>7.92</li><li>7.94</li><li>7.96</li><li>7.98</li><li>8</li><li>8.02</li><li>8.04</li><li>8.06</li><li>8.08</li><li>8.1</li><li>8.12</li><li>8.14</li><li>8.16</li><li>8.18</li><li>8.2</li><li>8.22</li><li>8.24</li><li>8.26</li><li>8.28</li><li>8.3</li><li>8.32</li><li>8.34</li><li>8.36</li><li>8.38</li><li>8.4</li><li>8.42</li><li>8.44</li><li>8.46</li><li>8.48</li><li>8.5</li><li>8.52</li><li>8.54</li><li>8.56</li><li>8.58</li><li>8.6</li><li>8.62</li><li>8.64</li><li>8.66</li><li>8.68</li><li>8.7</li><li>8.72</li><li>8.74</li><li>8.76</li><li>8.78</li><li>8.8</li><li>8.82</li><li>8.84</li><li>8.86</li><li>8.88</li><li>8.9</li><li>8.92</li><li>8.94</li><li>8.96</li><li>8.98</li><li>9</li><li>9.02</li><li>9.04</li><li>9.06</li><li>9.08</li><li>9.1</li><li>9.12</li><li>9.14</li><li>9.16</li><li>9.18</li><li>9.2</li><li>9.22</li><li>9.24</li><li>9.26</li><li>9.28</li><li>9.3</li><li>9.32</li><li>9.34</li><li>9.36</li><li>9.38</li><li>9.4</li><li>9.42</li><li>9.44</li><li>9.46</li><li>9.48</li><li>9.5</li><li>9.52</li><li>9.54</li><li>9.56</li><li>9.58</li><li>9.6</li><li>9.62</li><li>9.64</li><li>9.66</li><li>9.68</li><li>9.7</li><li>9.72</li><li>9.74</li><li>9.76</li><li>9.78</li><li>9.8</li><li>9.82</li><li>9.84</li><li>9.86</li><li>9.88</li><li>9.9</li><li>9.92</li><li>9.94</li><li>9.96</li><li>9.98</li><li>10</li></ol>\n"
            ],
            "text/markdown": "1. 1\n2. 1.02\n3. 1.04\n4. 1.06\n5. 1.08\n6. 1.1\n7. 1.12\n8. 1.14\n9. 1.16\n10. 1.18\n11. 1.2\n12. 1.22\n13. 1.24\n14. 1.26\n15. 1.28\n16. 1.3\n17. 1.32\n18. 1.34\n19. 1.36\n20. 1.38\n21. 1.4\n22. 1.42\n23. 1.44\n24. 1.46\n25. 1.48\n26. 1.5\n27. 1.52\n28. 1.54\n29. 1.56\n30. 1.58\n31. 1.6\n32. 1.62\n33. 1.64\n34. 1.66\n35. 1.68\n36. 1.7\n37. 1.72\n38. 1.74\n39. 1.76\n40. 1.78\n41. 1.8\n42. 1.82\n43. 1.84\n44. 1.86\n45. 1.88\n46. 1.9\n47. 1.92\n48. 1.94\n49. 1.96\n50. 1.98\n51. 2\n52. 2.02\n53. 2.04\n54. 2.06\n55. 2.08\n56. 2.1\n57. 2.12\n58. 2.14\n59. 2.16\n60. 2.18\n61. 2.2\n62. 2.22\n63. 2.24\n64. 2.26\n65. 2.28\n66. 2.3\n67. 2.32\n68. 2.34\n69. 2.36\n70. 2.38\n71. 2.4\n72. 2.42\n73. 2.44\n74. 2.46\n75. 2.48\n76. 2.5\n77. 2.52\n78. 2.54\n79. 2.56\n80. 2.58\n81. 2.6\n82. 2.62\n83. 2.64\n84. 2.66\n85. 2.68\n86. 2.7\n87. 2.72\n88. 2.74\n89. 2.76\n90. 2.78\n91. 2.8\n92. 2.82\n93. 2.84\n94. 2.86\n95. 2.88\n96. 2.9\n97. 2.92\n98. 2.94\n99. 2.96\n100. 2.98\n101. 3\n102. 3.02\n103. 3.04\n104. 3.06\n105. 3.08\n106. 3.1\n107. 3.12\n108. 3.14\n109. 3.16\n110. 3.18\n111. 3.2\n112. 3.22\n113. 3.24\n114. 3.26\n115. 3.28\n116. 3.3\n117. 3.32\n118. 3.34\n119. 3.36\n120. 3.38\n121. 3.4\n122. 3.42\n123. 3.44\n124. 3.46\n125. 3.48\n126. 3.5\n127. 3.52\n128. 3.54\n129. 3.56\n130. 3.58\n131. 3.6\n132. 3.62\n133. 3.64\n134. 3.66\n135. 3.68\n136. 3.7\n137. 3.72\n138. 3.74\n139. 3.76\n140. 3.78\n141. 3.8\n142. 3.82\n143. 3.84\n144. 3.86\n145. 3.88\n146. 3.9\n147. 3.92\n148. 3.94\n149. 3.96\n150. 3.98\n151. 4\n152. 4.02\n153. 4.04\n154. 4.06\n155. 4.08\n156. 4.1\n157. 4.12\n158. 4.14\n159. 4.16\n160. 4.18\n161. 4.2\n162. 4.22\n163. 4.24\n164. 4.26\n165. 4.28\n166. 4.3\n167. 4.32\n168. 4.34\n169. 4.36\n170. 4.38\n171. 4.4\n172. 4.42\n173. 4.44\n174. 4.46\n175. 4.48\n176. 4.5\n177. 4.52\n178. 4.54\n179. 4.56\n180. 4.58\n181. 4.6\n182. 4.62\n183. 4.64\n184. 4.66\n185. 4.68\n186. 4.7\n187. 4.72\n188. 4.74\n189. 4.76\n190. 4.78\n191. 4.8\n192. 4.82\n193. 4.84\n194. 4.86\n195. 4.88\n196. 4.9\n197. 4.92\n198. 4.94\n199. 4.96\n200. 4.98\n201. ⋯\n202. 6.02\n203. 6.04\n204. 6.06\n205. 6.08\n206. 6.1\n207. 6.12\n208. 6.14\n209. 6.16\n210. 6.18\n211. 6.2\n212. 6.22\n213. 6.24\n214. 6.26\n215. 6.28\n216. 6.3\n217. 6.32\n218. 6.34\n219. 6.36\n220. 6.38\n221. 6.4\n222. 6.42\n223. 6.44\n224. 6.46\n225. 6.48\n226. 6.5\n227. 6.52\n228. 6.54\n229. 6.56\n230. 6.58\n231. 6.6\n232. 6.62\n233. 6.64\n234. 6.66\n235. 6.68\n236. 6.7\n237. 6.72\n238. 6.74\n239. 6.76\n240. 6.78\n241. 6.8\n242. 6.82\n243. 6.84\n244. 6.86\n245. 6.88\n246. 6.9\n247. 6.92\n248. 6.94\n249. 6.96\n250. 6.98\n251. 7\n252. 7.02\n253. 7.04\n254. 7.06\n255. 7.08\n256. 7.1\n257. 7.12\n258. 7.14\n259. 7.16\n260. 7.18\n261. 7.2\n262. 7.22\n263. 7.24\n264. 7.26\n265. 7.28\n266. 7.3\n267. 7.32\n268. 7.34\n269. 7.36\n270. 7.38\n271. 7.4\n272. 7.42\n273. 7.44\n274. 7.46\n275. 7.48\n276. 7.5\n277. 7.52\n278. 7.54\n279. 7.56\n280. 7.58\n281. 7.6\n282. 7.62\n283. 7.64\n284. 7.66\n285. 7.68\n286. 7.7\n287. 7.72\n288. 7.74\n289. 7.76\n290. 7.78\n291. 7.8\n292. 7.82\n293. 7.84\n294. 7.86\n295. 7.88\n296. 7.9\n297. 7.92\n298. 7.94\n299. 7.96\n300. 7.98\n301. 8\n302. 8.02\n303. 8.04\n304. 8.06\n305. 8.08\n306. 8.1\n307. 8.12\n308. 8.14\n309. 8.16\n310. 8.18\n311. 8.2\n312. 8.22\n313. 8.24\n314. 8.26\n315. 8.28\n316. 8.3\n317. 8.32\n318. 8.34\n319. 8.36\n320. 8.38\n321. 8.4\n322. 8.42\n323. 8.44\n324. 8.46\n325. 8.48\n326. 8.5\n327. 8.52\n328. 8.54\n329. 8.56\n330. 8.58\n331. 8.6\n332. 8.62\n333. 8.64\n334. 8.66\n335. 8.68\n336. 8.7\n337. 8.72\n338. 8.74\n339. 8.76\n340. 8.78\n341. 8.8\n342. 8.82\n343. 8.84\n344. 8.86\n345. 8.88\n346. 8.9\n347. 8.92\n348. 8.94\n349. 8.96\n350. 8.98\n351. 9\n352. 9.02\n353. 9.04\n354. 9.06\n355. 9.08\n356. 9.1\n357. 9.12\n358. 9.14\n359. 9.16\n360. 9.18\n361. 9.2\n362. 9.22\n363. 9.24\n364. 9.26\n365. 9.28\n366. 9.3\n367. 9.32\n368. 9.34\n369. 9.36\n370. 9.38\n371. 9.4\n372. 9.42\n373. 9.44\n374. 9.46\n375. 9.48\n376. 9.5\n377. 9.52\n378. 9.54\n379. 9.56\n380. 9.58\n381. 9.6\n382. 9.62\n383. 9.64\n384. 9.66\n385. 9.68\n386. 9.7\n387. 9.72\n388. 9.74\n389. 9.76\n390. 9.78\n391. 9.8\n392. 9.82\n393. 9.84\n394. 9.86\n395. 9.88\n396. 9.9\n397. 9.92\n398. 9.94\n399. 9.96\n400. 9.98\n401. 10\n\n\n",
            "text/latex": "\\begin{enumerate*}\n\\item 1\n\\item 1.02\n\\item 1.04\n\\item 1.06\n\\item 1.08\n\\item 1.1\n\\item 1.12\n\\item 1.14\n\\item 1.16\n\\item 1.18\n\\item 1.2\n\\item 1.22\n\\item 1.24\n\\item 1.26\n\\item 1.28\n\\item 1.3\n\\item 1.32\n\\item 1.34\n\\item 1.36\n\\item 1.38\n\\item 1.4\n\\item 1.42\n\\item 1.44\n\\item 1.46\n\\item 1.48\n\\item 1.5\n\\item 1.52\n\\item 1.54\n\\item 1.56\n\\item 1.58\n\\item 1.6\n\\item 1.62\n\\item 1.64\n\\item 1.66\n\\item 1.68\n\\item 1.7\n\\item 1.72\n\\item 1.74\n\\item 1.76\n\\item 1.78\n\\item 1.8\n\\item 1.82\n\\item 1.84\n\\item 1.86\n\\item 1.88\n\\item 1.9\n\\item 1.92\n\\item 1.94\n\\item 1.96\n\\item 1.98\n\\item 2\n\\item 2.02\n\\item 2.04\n\\item 2.06\n\\item 2.08\n\\item 2.1\n\\item 2.12\n\\item 2.14\n\\item 2.16\n\\item 2.18\n\\item 2.2\n\\item 2.22\n\\item 2.24\n\\item 2.26\n\\item 2.28\n\\item 2.3\n\\item 2.32\n\\item 2.34\n\\item 2.36\n\\item 2.38\n\\item 2.4\n\\item 2.42\n\\item 2.44\n\\item 2.46\n\\item 2.48\n\\item 2.5\n\\item 2.52\n\\item 2.54\n\\item 2.56\n\\item 2.58\n\\item 2.6\n\\item 2.62\n\\item 2.64\n\\item 2.66\n\\item 2.68\n\\item 2.7\n\\item 2.72\n\\item 2.74\n\\item 2.76\n\\item 2.78\n\\item 2.8\n\\item 2.82\n\\item 2.84\n\\item 2.86\n\\item 2.88\n\\item 2.9\n\\item 2.92\n\\item 2.94\n\\item 2.96\n\\item 2.98\n\\item 3\n\\item 3.02\n\\item 3.04\n\\item 3.06\n\\item 3.08\n\\item 3.1\n\\item 3.12\n\\item 3.14\n\\item 3.16\n\\item 3.18\n\\item 3.2\n\\item 3.22\n\\item 3.24\n\\item 3.26\n\\item 3.28\n\\item 3.3\n\\item 3.32\n\\item 3.34\n\\item 3.36\n\\item 3.38\n\\item 3.4\n\\item 3.42\n\\item 3.44\n\\item 3.46\n\\item 3.48\n\\item 3.5\n\\item 3.52\n\\item 3.54\n\\item 3.56\n\\item 3.58\n\\item 3.6\n\\item 3.62\n\\item 3.64\n\\item 3.66\n\\item 3.68\n\\item 3.7\n\\item 3.72\n\\item 3.74\n\\item 3.76\n\\item 3.78\n\\item 3.8\n\\item 3.82\n\\item 3.84\n\\item 3.86\n\\item 3.88\n\\item 3.9\n\\item 3.92\n\\item 3.94\n\\item 3.96\n\\item 3.98\n\\item 4\n\\item 4.02\n\\item 4.04\n\\item 4.06\n\\item 4.08\n\\item 4.1\n\\item 4.12\n\\item 4.14\n\\item 4.16\n\\item 4.18\n\\item 4.2\n\\item 4.22\n\\item 4.24\n\\item 4.26\n\\item 4.28\n\\item 4.3\n\\item 4.32\n\\item 4.34\n\\item 4.36\n\\item 4.38\n\\item 4.4\n\\item 4.42\n\\item 4.44\n\\item 4.46\n\\item 4.48\n\\item 4.5\n\\item 4.52\n\\item 4.54\n\\item 4.56\n\\item 4.58\n\\item 4.6\n\\item 4.62\n\\item 4.64\n\\item 4.66\n\\item 4.68\n\\item 4.7\n\\item 4.72\n\\item 4.74\n\\item 4.76\n\\item 4.78\n\\item 4.8\n\\item 4.82\n\\item 4.84\n\\item 4.86\n\\item 4.88\n\\item 4.9\n\\item 4.92\n\\item 4.94\n\\item 4.96\n\\item 4.98\n\\item ⋯\n\\item 6.02\n\\item 6.04\n\\item 6.06\n\\item 6.08\n\\item 6.1\n\\item 6.12\n\\item 6.14\n\\item 6.16\n\\item 6.18\n\\item 6.2\n\\item 6.22\n\\item 6.24\n\\item 6.26\n\\item 6.28\n\\item 6.3\n\\item 6.32\n\\item 6.34\n\\item 6.36\n\\item 6.38\n\\item 6.4\n\\item 6.42\n\\item 6.44\n\\item 6.46\n\\item 6.48\n\\item 6.5\n\\item 6.52\n\\item 6.54\n\\item 6.56\n\\item 6.58\n\\item 6.6\n\\item 6.62\n\\item 6.64\n\\item 6.66\n\\item 6.68\n\\item 6.7\n\\item 6.72\n\\item 6.74\n\\item 6.76\n\\item 6.78\n\\item 6.8\n\\item 6.82\n\\item 6.84\n\\item 6.86\n\\item 6.88\n\\item 6.9\n\\item 6.92\n\\item 6.94\n\\item 6.96\n\\item 6.98\n\\item 7\n\\item 7.02\n\\item 7.04\n\\item 7.06\n\\item 7.08\n\\item 7.1\n\\item 7.12\n\\item 7.14\n\\item 7.16\n\\item 7.18\n\\item 7.2\n\\item 7.22\n\\item 7.24\n\\item 7.26\n\\item 7.28\n\\item 7.3\n\\item 7.32\n\\item 7.34\n\\item 7.36\n\\item 7.38\n\\item 7.4\n\\item 7.42\n\\item 7.44\n\\item 7.46\n\\item 7.48\n\\item 7.5\n\\item 7.52\n\\item 7.54\n\\item 7.56\n\\item 7.58\n\\item 7.6\n\\item 7.62\n\\item 7.64\n\\item 7.66\n\\item 7.68\n\\item 7.7\n\\item 7.72\n\\item 7.74\n\\item 7.76\n\\item 7.78\n\\item 7.8\n\\item 7.82\n\\item 7.84\n\\item 7.86\n\\item 7.88\n\\item 7.9\n\\item 7.92\n\\item 7.94\n\\item 7.96\n\\item 7.98\n\\item 8\n\\item 8.02\n\\item 8.04\n\\item 8.06\n\\item 8.08\n\\item 8.1\n\\item 8.12\n\\item 8.14\n\\item 8.16\n\\item 8.18\n\\item 8.2\n\\item 8.22\n\\item 8.24\n\\item 8.26\n\\item 8.28\n\\item 8.3\n\\item 8.32\n\\item 8.34\n\\item 8.36\n\\item 8.38\n\\item 8.4\n\\item 8.42\n\\item 8.44\n\\item 8.46\n\\item 8.48\n\\item 8.5\n\\item 8.52\n\\item 8.54\n\\item 8.56\n\\item 8.58\n\\item 8.6\n\\item 8.62\n\\item 8.64\n\\item 8.66\n\\item 8.68\n\\item 8.7\n\\item 8.72\n\\item 8.74\n\\item 8.76\n\\item 8.78\n\\item 8.8\n\\item 8.82\n\\item 8.84\n\\item 8.86\n\\item 8.88\n\\item 8.9\n\\item 8.92\n\\item 8.94\n\\item 8.96\n\\item 8.98\n\\item 9\n\\item 9.02\n\\item 9.04\n\\item 9.06\n\\item 9.08\n\\item 9.1\n\\item 9.12\n\\item 9.14\n\\item 9.16\n\\item 9.18\n\\item 9.2\n\\item 9.22\n\\item 9.24\n\\item 9.26\n\\item 9.28\n\\item 9.3\n\\item 9.32\n\\item 9.34\n\\item 9.36\n\\item 9.38\n\\item 9.4\n\\item 9.42\n\\item 9.44\n\\item 9.46\n\\item 9.48\n\\item 9.5\n\\item 9.52\n\\item 9.54\n\\item 9.56\n\\item 9.58\n\\item 9.6\n\\item 9.62\n\\item 9.64\n\\item 9.66\n\\item 9.68\n\\item 9.7\n\\item 9.72\n\\item 9.74\n\\item 9.76\n\\item 9.78\n\\item 9.8\n\\item 9.82\n\\item 9.84\n\\item 9.86\n\\item 9.88\n\\item 9.9\n\\item 9.92\n\\item 9.94\n\\item 9.96\n\\item 9.98\n\\item 10\n\\end{enumerate*}\n",
            "text/plain": [
              "  [1]  1.00  1.02  1.04  1.06  1.08  1.10  1.12  1.14  1.16  1.18  1.20  1.22\n",
              " [13]  1.24  1.26  1.28  1.30  1.32  1.34  1.36  1.38  1.40  1.42  1.44  1.46\n",
              " [25]  1.48  1.50  1.52  1.54  1.56  1.58  1.60  1.62  1.64  1.66  1.68  1.70\n",
              " [37]  1.72  1.74  1.76  1.78  1.80  1.82  1.84  1.86  1.88  1.90  1.92  1.94\n",
              " [49]  1.96  1.98  2.00  2.02  2.04  2.06  2.08  2.10  2.12  2.14  2.16  2.18\n",
              " [61]  2.20  2.22  2.24  2.26  2.28  2.30  2.32  2.34  2.36  2.38  2.40  2.42\n",
              " [73]  2.44  2.46  2.48  2.50  2.52  2.54  2.56  2.58  2.60  2.62  2.64  2.66\n",
              " [85]  2.68  2.70  2.72  2.74  2.76  2.78  2.80  2.82  2.84  2.86  2.88  2.90\n",
              " [97]  2.92  2.94  2.96  2.98  3.00  3.02  3.04  3.06  3.08  3.10  3.12  3.14\n",
              "[109]  3.16  3.18  3.20  3.22  3.24  3.26  3.28  3.30  3.32  3.34  3.36  3.38\n",
              "[121]  3.40  3.42  3.44  3.46  3.48  3.50  3.52  3.54  3.56  3.58  3.60  3.62\n",
              "[133]  3.64  3.66  3.68  3.70  3.72  3.74  3.76  3.78  3.80  3.82  3.84  3.86\n",
              "[145]  3.88  3.90  3.92  3.94  3.96  3.98  4.00  4.02  4.04  4.06  4.08  4.10\n",
              "[157]  4.12  4.14  4.16  4.18  4.20  4.22  4.24  4.26  4.28  4.30  4.32  4.34\n",
              "[169]  4.36  4.38  4.40  4.42  4.44  4.46  4.48  4.50  4.52  4.54  4.56  4.58\n",
              "[181]  4.60  4.62  4.64  4.66  4.68  4.70  4.72  4.74  4.76  4.78  4.80  4.82\n",
              "[193]  4.84  4.86  4.88  4.90  4.92  4.94  4.96  4.98  5.00  5.02  5.04  5.06\n",
              "[205]  5.08  5.10  5.12  5.14  5.16  5.18  5.20  5.22  5.24  5.26  5.28  5.30\n",
              "[217]  5.32  5.34  5.36  5.38  5.40  5.42  5.44  5.46  5.48  5.50  5.52  5.54\n",
              "[229]  5.56  5.58  5.60  5.62  5.64  5.66  5.68  5.70  5.72  5.74  5.76  5.78\n",
              "[241]  5.80  5.82  5.84  5.86  5.88  5.90  5.92  5.94  5.96  5.98  6.00  6.02\n",
              "[253]  6.04  6.06  6.08  6.10  6.12  6.14  6.16  6.18  6.20  6.22  6.24  6.26\n",
              "[265]  6.28  6.30  6.32  6.34  6.36  6.38  6.40  6.42  6.44  6.46  6.48  6.50\n",
              "[277]  6.52  6.54  6.56  6.58  6.60  6.62  6.64  6.66  6.68  6.70  6.72  6.74\n",
              "[289]  6.76  6.78  6.80  6.82  6.84  6.86  6.88  6.90  6.92  6.94  6.96  6.98\n",
              "[301]  7.00  7.02  7.04  7.06  7.08  7.10  7.12  7.14  7.16  7.18  7.20  7.22\n",
              "[313]  7.24  7.26  7.28  7.30  7.32  7.34  7.36  7.38  7.40  7.42  7.44  7.46\n",
              "[325]  7.48  7.50  7.52  7.54  7.56  7.58  7.60  7.62  7.64  7.66  7.68  7.70\n",
              "[337]  7.72  7.74  7.76  7.78  7.80  7.82  7.84  7.86  7.88  7.90  7.92  7.94\n",
              "[349]  7.96  7.98  8.00  8.02  8.04  8.06  8.08  8.10  8.12  8.14  8.16  8.18\n",
              "[361]  8.20  8.22  8.24  8.26  8.28  8.30  8.32  8.34  8.36  8.38  8.40  8.42\n",
              "[373]  8.44  8.46  8.48  8.50  8.52  8.54  8.56  8.58  8.60  8.62  8.64  8.66\n",
              "[385]  8.68  8.70  8.72  8.74  8.76  8.78  8.80  8.82  8.84  8.86  8.88  8.90\n",
              "[397]  8.92  8.94  8.96  8.98  9.00  9.02  9.04  9.06  9.08  9.10  9.12  9.14\n",
              "[409]  9.16  9.18  9.20  9.22  9.24  9.26  9.28  9.30  9.32  9.34  9.36  9.38\n",
              "[421]  9.40  9.42  9.44  9.46  9.48  9.50  9.52  9.54  9.56  9.58  9.60  9.62\n",
              "[433]  9.64  9.66  9.68  9.70  9.72  9.74  9.76  9.78  9.80  9.82  9.84  9.86\n",
              "[445]  9.88  9.90  9.92  9.94  9.96  9.98 10.00"
            ]
          },
          "metadata": {}
        }
      ]
    },
    {
      "cell_type": "code",
      "source": [
        "seq(from = 1, to = 5,length.out = 25) # Si queremos controlar el largo del vector resultante."
      ],
      "metadata": {
        "id": "DKL9KQb973h8",
        "outputId": "24f61524-a800-414e-8ecf-6caf4c574f5b",
        "colab": {
          "base_uri": "https://localhost:8080/",
          "height": 86
        }
      },
      "execution_count": 98,
      "outputs": [
        {
          "output_type": "display_data",
          "data": {
            "text/html": [
              "<style>\n",
              ".list-inline {list-style: none; margin:0; padding: 0}\n",
              ".list-inline>li {display: inline-block}\n",
              ".list-inline>li:not(:last-child)::after {content: \"\\00b7\"; padding: 0 .5ex}\n",
              "</style>\n",
              "<ol class=list-inline><li>1</li><li>1.16666666666667</li><li>1.33333333333333</li><li>1.5</li><li>1.66666666666667</li><li>1.83333333333333</li><li>2</li><li>2.16666666666667</li><li>2.33333333333333</li><li>2.5</li><li>2.66666666666667</li><li>2.83333333333333</li><li>3</li><li>3.16666666666667</li><li>3.33333333333333</li><li>3.5</li><li>3.66666666666667</li><li>3.83333333333333</li><li>4</li><li>4.16666666666667</li><li>4.33333333333333</li><li>4.5</li><li>4.66666666666667</li><li>4.83333333333333</li><li>5</li></ol>\n"
            ],
            "text/markdown": "1. 1\n2. 1.16666666666667\n3. 1.33333333333333\n4. 1.5\n5. 1.66666666666667\n6. 1.83333333333333\n7. 2\n8. 2.16666666666667\n9. 2.33333333333333\n10. 2.5\n11. 2.66666666666667\n12. 2.83333333333333\n13. 3\n14. 3.16666666666667\n15. 3.33333333333333\n16. 3.5\n17. 3.66666666666667\n18. 3.83333333333333\n19. 4\n20. 4.16666666666667\n21. 4.33333333333333\n22. 4.5\n23. 4.66666666666667\n24. 4.83333333333333\n25. 5\n\n\n",
            "text/latex": "\\begin{enumerate*}\n\\item 1\n\\item 1.16666666666667\n\\item 1.33333333333333\n\\item 1.5\n\\item 1.66666666666667\n\\item 1.83333333333333\n\\item 2\n\\item 2.16666666666667\n\\item 2.33333333333333\n\\item 2.5\n\\item 2.66666666666667\n\\item 2.83333333333333\n\\item 3\n\\item 3.16666666666667\n\\item 3.33333333333333\n\\item 3.5\n\\item 3.66666666666667\n\\item 3.83333333333333\n\\item 4\n\\item 4.16666666666667\n\\item 4.33333333333333\n\\item 4.5\n\\item 4.66666666666667\n\\item 4.83333333333333\n\\item 5\n\\end{enumerate*}\n",
            "text/plain": [
              " [1] 1.000000 1.166667 1.333333 1.500000 1.666667 1.833333 2.000000 2.166667\n",
              " [9] 2.333333 2.500000 2.666667 2.833333 3.000000 3.166667 3.333333 3.500000\n",
              "[17] 3.666667 3.833333 4.000000 4.166667 4.333333 4.500000 4.666667 4.833333\n",
              "[25] 5.000000"
            ]
          },
          "metadata": {}
        }
      ]
    },
    {
      "cell_type": "code",
      "source": [
        "seq(from = 1, to = 5)"
      ],
      "metadata": {
        "id": "9jTj74lg85Q_",
        "outputId": "5e433fc2-a7df-45da-ad08-bbf90c5f0379",
        "colab": {
          "base_uri": "https://localhost:8080/",
          "height": 34
        }
      },
      "execution_count": 102,
      "outputs": [
        {
          "output_type": "display_data",
          "data": {
            "text/html": [
              "<style>\n",
              ".list-inline {list-style: none; margin:0; padding: 0}\n",
              ".list-inline>li {display: inline-block}\n",
              ".list-inline>li:not(:last-child)::after {content: \"\\00b7\"; padding: 0 .5ex}\n",
              "</style>\n",
              "<ol class=list-inline><li>1</li><li>2</li><li>3</li><li>4</li><li>5</li></ol>\n"
            ],
            "text/markdown": "1. 1\n2. 2\n3. 3\n4. 4\n5. 5\n\n\n",
            "text/latex": "\\begin{enumerate*}\n\\item 1\n\\item 2\n\\item 3\n\\item 4\n\\item 5\n\\end{enumerate*}\n",
            "text/plain": [
              "[1] 1 2 3 4 5"
            ]
          },
          "metadata": {}
        }
      ]
    },
    {
      "cell_type": "code",
      "source": [
        "round(2.56987,2)"
      ],
      "metadata": {
        "id": "sH6EyL3Q9Ah7",
        "outputId": "93fbe3ba-1c8d-475b-a3e5-91693ea45b9a",
        "colab": {
          "base_uri": "https://localhost:8080/",
          "height": 34
        }
      },
      "execution_count": 103,
      "outputs": [
        {
          "output_type": "display_data",
          "data": {
            "text/html": [
              "2.57"
            ],
            "text/markdown": "2.57",
            "text/latex": "2.57",
            "text/plain": [
              "[1] 2.57"
            ]
          },
          "metadata": {}
        }
      ]
    },
    {
      "cell_type": "code",
      "source": [
        "round(seq(from = 1, to = 5,length.out = 25),2)"
      ],
      "metadata": {
        "id": "zRqB-p969Hd1",
        "outputId": "943003e7-96a0-49d3-81d0-b9f32add3e3c",
        "colab": {
          "base_uri": "https://localhost:8080/",
          "height": 52
        }
      },
      "execution_count": 105,
      "outputs": [
        {
          "output_type": "display_data",
          "data": {
            "text/html": [
              "<style>\n",
              ".list-inline {list-style: none; margin:0; padding: 0}\n",
              ".list-inline>li {display: inline-block}\n",
              ".list-inline>li:not(:last-child)::after {content: \"\\00b7\"; padding: 0 .5ex}\n",
              "</style>\n",
              "<ol class=list-inline><li>1</li><li>1.17</li><li>1.33</li><li>1.5</li><li>1.67</li><li>1.83</li><li>2</li><li>2.17</li><li>2.33</li><li>2.5</li><li>2.67</li><li>2.83</li><li>3</li><li>3.17</li><li>3.33</li><li>3.5</li><li>3.67</li><li>3.83</li><li>4</li><li>4.17</li><li>4.33</li><li>4.5</li><li>4.67</li><li>4.83</li><li>5</li></ol>\n"
            ],
            "text/markdown": "1. 1\n2. 1.17\n3. 1.33\n4. 1.5\n5. 1.67\n6. 1.83\n7. 2\n8. 2.17\n9. 2.33\n10. 2.5\n11. 2.67\n12. 2.83\n13. 3\n14. 3.17\n15. 3.33\n16. 3.5\n17. 3.67\n18. 3.83\n19. 4\n20. 4.17\n21. 4.33\n22. 4.5\n23. 4.67\n24. 4.83\n25. 5\n\n\n",
            "text/latex": "\\begin{enumerate*}\n\\item 1\n\\item 1.17\n\\item 1.33\n\\item 1.5\n\\item 1.67\n\\item 1.83\n\\item 2\n\\item 2.17\n\\item 2.33\n\\item 2.5\n\\item 2.67\n\\item 2.83\n\\item 3\n\\item 3.17\n\\item 3.33\n\\item 3.5\n\\item 3.67\n\\item 3.83\n\\item 4\n\\item 4.17\n\\item 4.33\n\\item 4.5\n\\item 4.67\n\\item 4.83\n\\item 5\n\\end{enumerate*}\n",
            "text/plain": [
              " [1] 1.00 1.17 1.33 1.50 1.67 1.83 2.00 2.17 2.33 2.50 2.67 2.83 3.00 3.17 3.33\n",
              "[16] 3.50 3.67 3.83 4.00 4.17 4.33 4.50 4.67 4.83 5.00"
            ]
          },
          "metadata": {}
        }
      ]
    },
    {
      "cell_type": "code",
      "metadata": {
        "id": "psRswQHBIgwO"
      },
      "source": [
        "# ejemplo de vector aleatorio siguiendo una determinada distribución\n",
        "# distribución uniforme\n",
        "# distribución normal\n",
        "\n",
        "\n",
        "\n",
        "\n",
        "\n"
      ],
      "execution_count": null,
      "outputs": []
    },
    {
      "cell_type": "markdown",
      "metadata": {
        "id": "TlnEINwUIgwP"
      },
      "source": [
        "### 3.2 Funciones (primera parte)\n",
        "\n",
        "#### 3.2.1 Funciones vectorizadas y operaciones con vectores\n",
        "\n",
        "R es un lenguaje funcional, en el sentido de que prácticamente cada llamada a R corresponde a una función que puede (o no) recibir argumentos de entrada.\n",
        "Una de las ventajas es que existe una amplia, muy amplia,... verdaderamente amplia!, variedad de funciones disponibles, tanto en las librerías que vienen con la instalación por defecto como las librerías disponibles en CRAN o en toda la comunidad R.\n",
        "\n",
        "En R, una función $f$ se dice vectorizada si dado un vector $\\mathbf{x}=(x_1,x_2,\\dots,x_n)$, se tiene que $f(\\mathbf{x})=(f(x_1),f(x_2),\\dots,f(x_n))$.\n",
        "Esto hace que, por ejemplo, la aritmética de vectores se más sencilla de implentar y con un menor tiempo de cómputo . Gran parte de las funciones disponibles en la librerías (bibliotecas o *packages*) de R corresponden a funciones vectorizadas.\n",
        "A modo de ejemplo, a cotinuación se muestran algunas funciones (de las más básicas) aritméticas, y funciones para trabajar con texto:\n",
        "    \n",
        "    +,-,*,/\n",
        "    abs()\n",
        "    sqrt()\n",
        "    cos()\n",
        "    sin()\n",
        "    tan()\n",
        "    nchar()\n",
        "    susbtr()\n",
        "    grepl()\n",
        "    gsub()\n",
        "    \n",
        "   \n",
        "   \n",
        "   "
      ]
    },
    {
      "cell_type": "code",
      "metadata": {
        "id": "tO3oB1bnIgwP"
      },
      "source": [
        "# 3.2. Funciones (primera parte) ------------\n",
        "# 3.2.1 Funciones vectorizadas\n",
        "# Ejemplos básicos de funciones(vectorizadas)\n"
      ],
      "execution_count": null,
      "outputs": []
    },
    {
      "cell_type": "code",
      "metadata": {
        "id": "Z8L-KeGnIgwS"
      },
      "source": [],
      "execution_count": null,
      "outputs": []
    },
    {
      "cell_type": "code",
      "metadata": {
        "id": "NivskO3jIgwT",
        "outputId": "de6b5b35-9113-4b38-9d52-a7b95393441f",
        "colab": {
          "base_uri": "https://localhost:8080/",
          "height": 34
        }
      },
      "source": [
        "# funciones para manipular texto\n",
        " #cantidad de caracteres\n",
        "nchar(\"Soy Miguel\")\n",
        "\n"
      ],
      "execution_count": 106,
      "outputs": [
        {
          "output_type": "display_data",
          "data": {
            "text/html": [
              "10"
            ],
            "text/markdown": "10",
            "text/latex": "10",
            "text/plain": [
              "[1] 10"
            ]
          },
          "metadata": {}
        }
      ]
    },
    {
      "cell_type": "code",
      "metadata": {
        "id": "tA55foL1IgwX",
        "outputId": "cdd28897-7128-465e-b274-1ffb6f2c29c7",
        "colab": {
          "base_uri": "https://localhost:8080/",
          "height": 34
        }
      },
      "source": [
        "# substring substr()\n",
        "substr(\"Soy Miguel\", 3,5)\n"
      ],
      "execution_count": 107,
      "outputs": [
        {
          "output_type": "display_data",
          "data": {
            "text/html": [
              "'y M'"
            ],
            "text/markdown": "'y M'",
            "text/latex": "'y M'",
            "text/plain": [
              "[1] \"y M\""
            ]
          },
          "metadata": {}
        }
      ]
    },
    {
      "cell_type": "code",
      "metadata": {
        "id": "vjRwdUbiIgwY",
        "outputId": "3a74d819-367b-44f5-acec-65a38929a229",
        "colab": {
          "base_uri": "https://localhost:8080/",
          "height": 52
        }
      },
      "source": [
        "# grepl() evlaúa si un  caracter está contenido en otro. (LIKE)\n",
        "#?grepl()\n",
        "grepl(\"ala\", \"palabra\")\n",
        "grepl(\"alo\", \"palabra\")\n",
        "\n",
        "\n",
        "\n"
      ],
      "execution_count": 108,
      "outputs": [
        {
          "output_type": "display_data",
          "data": {
            "text/html": [
              "TRUE"
            ],
            "text/markdown": "TRUE",
            "text/latex": "TRUE",
            "text/plain": [
              "[1] TRUE"
            ]
          },
          "metadata": {}
        },
        {
          "output_type": "display_data",
          "data": {
            "text/html": [
              "FALSE"
            ],
            "text/markdown": "FALSE",
            "text/latex": "FALSE",
            "text/plain": [
              "[1] FALSE"
            ]
          },
          "metadata": {}
        }
      ]
    },
    {
      "cell_type": "code",
      "source": [
        "grepl(\"ala\", c(\"palabra\",\"alas\",\"lux\", \"pala\"))"
      ],
      "metadata": {
        "id": "7k7cVBZ-BBxc",
        "outputId": "4ee62321-72b3-42ca-c44c-ff2055809c4b",
        "colab": {
          "base_uri": "https://localhost:8080/",
          "height": 34
        }
      },
      "execution_count": 109,
      "outputs": [
        {
          "output_type": "display_data",
          "data": {
            "text/html": [
              "<style>\n",
              ".list-inline {list-style: none; margin:0; padding: 0}\n",
              ".list-inline>li {display: inline-block}\n",
              ".list-inline>li:not(:last-child)::after {content: \"\\00b7\"; padding: 0 .5ex}\n",
              "</style>\n",
              "<ol class=list-inline><li>TRUE</li><li>TRUE</li><li>FALSE</li><li>TRUE</li></ol>\n"
            ],
            "text/markdown": "1. TRUE\n2. TRUE\n3. FALSE\n4. TRUE\n\n\n",
            "text/latex": "\\begin{enumerate*}\n\\item TRUE\n\\item TRUE\n\\item FALSE\n\\item TRUE\n\\end{enumerate*}\n",
            "text/plain": [
              "[1]  TRUE  TRUE FALSE  TRUE"
            ]
          },
          "metadata": {}
        }
      ]
    },
    {
      "cell_type": "code",
      "source": [
        "#gsub() reemblaza un substring por otro\n",
        "#?gsub\n",
        "\n",
        "# si reemplazamos en un vector de palabras\n",
        "gsub(\"ala\", \"XX\", c(\"palabra\",\"palos\", \"palas\"))"
      ],
      "metadata": {
        "id": "FhMF2sxPB2sd",
        "outputId": "38762408-a179-463c-9289-38e7be52bfb5",
        "colab": {
          "base_uri": "https://localhost:8080/",
          "height": 34
        }
      },
      "execution_count": 111,
      "outputs": [
        {
          "output_type": "display_data",
          "data": {
            "text/html": [
              "<style>\n",
              ".list-inline {list-style: none; margin:0; padding: 0}\n",
              ".list-inline>li {display: inline-block}\n",
              ".list-inline>li:not(:last-child)::after {content: \"\\00b7\"; padding: 0 .5ex}\n",
              "</style>\n",
              "<ol class=list-inline><li>'pXXbra'</li><li>'palos'</li><li>'pXXs'</li></ol>\n"
            ],
            "text/markdown": "1. 'pXXbra'\n2. 'palos'\n3. 'pXXs'\n\n\n",
            "text/latex": "\\begin{enumerate*}\n\\item 'pXXbra'\n\\item 'palos'\n\\item 'pXXs'\n\\end{enumerate*}\n",
            "text/plain": [
              "[1] \"pXXbra\" \"palos\"  \"pXXs\"  "
            ]
          },
          "metadata": {}
        }
      ]
    },
    {
      "cell_type": "code",
      "metadata": {
        "id": "0j9kKUbzIgwZ"
      },
      "source": [
        "#gsub() reemplaza caracteres dentro de un texto\n",
        "#https://www.tidytextmining.com/\n"
      ],
      "execution_count": null,
      "outputs": []
    }
  ]
}