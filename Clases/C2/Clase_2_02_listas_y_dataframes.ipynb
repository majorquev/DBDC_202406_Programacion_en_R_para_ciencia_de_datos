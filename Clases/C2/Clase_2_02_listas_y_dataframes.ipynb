{
  "nbformat": 4,
  "nbformat_minor": 0,
  "metadata": {
    "colab": {
      "provenance": [],
      "include_colab_link": true
    },
    "kernelspec": {
      "name": "ir",
      "display_name": "R"
    }
  },
  "cells": [
    {
      "cell_type": "markdown",
      "metadata": {
        "id": "view-in-github",
        "colab_type": "text"
      },
      "source": [
        "<a href=\"https://colab.research.google.com/github/majorquev/DBDC_202406_Programacion_en_R_para_ciencia_de_datos/blob/main/Clases/C2/Clase_2_02_listas_y_dataframes.ipynb\" target=\"_parent\"><img src=\"https://colab.research.google.com/assets/colab-badge.svg\" alt=\"Open In Colab\"/></a>"
      ]
    },
    {
      "cell_type": "markdown",
      "metadata": {
        "collapsed": true,
        "id": "fgQ2azLwTpRn"
      },
      "source": [
        "# Parte 1: Introducción a R (continuación)\n",
        "\n",
        "**Autor:** Miguel Jorquera Viguera<br>\n",
        "**E-mail:** majorquev@gmail.com<br>\n",
        "**Ayudante:** Rodrigo Morales <br>\n",
        "**E-mail ayudante:** rumorale1@gmail.com\n",
        "\n",
        "\n",
        "## 5. Listas y Dataframes\n",
        "\n",
        "### 5.1 Listas\n",
        "\n",
        "Hasta aquí contamos con dos tipos de objetos para almacenar datos; vectores y matrices. Sin embargo, en ambos casos se tiene la limitante de que no es posible combinar distintos tipos de datos en diferentes entradas. Un objeto que permite una mayor flexibilidad son las listas. En R, una lista es básicamente un arreglo unidimensional, donde en cada entrada es posible almacenar distintos **objetos** (los cuales a su vez pueden almacenar distintos tipos de datos (u otros objetos).\n",
        "En resumen,\n",
        "\n",
        "   * ¿Qué son?<br>\n",
        "    Arreglos unidimensionales que guardan distintos tipos de datos u objetos.<br>\n",
        "\n",
        "   * ¿Cómo se declaran?<br>\n",
        "    Se pueden declarar mediante el comando list() o combinando listas existentes. <br>\n",
        "    \n",
        "   * ¿Cómo se accede a sus elementos?<br>\n",
        "    Usando [ ] (retorna lista), o bien usando [ [ ] ] (retorna el objeto).\n",
        "    En cada caso se puede indicar la posición o nombre del objeto que se quiere rescatar.<br>\n",
        "    Otra manera es mediante el símbolo $ seguido del nombre del objeto.\n",
        "\n"
      ]
    },
    {
      "cell_type": "code",
      "metadata": {
        "trusted": true,
        "id": "zZHpLzzRTpRp",
        "outputId": "da8b1611-78ca-438c-8d9b-a9f7bf1bb174",
        "colab": {
          "base_uri": "https://localhost:8080/",
          "height": 459
        }
      },
      "source": [
        "# 5. Listas y dataframes ------------\n",
        "# 5.1 Listas  ------------\n",
        "# Cómo declarar una lista (comando list() )\n",
        "#num,letra, pl, mat, lista\n",
        "l1 <- list(num = c(1,2,3),\n",
        "           letra = letters,\n",
        "           mat = diag(1:5),\n",
        "           subl = list(n=1, pl=\"hola\", v = c(1,5,8)))\n",
        "\n",
        "l1"
      ],
      "execution_count": 3,
      "outputs": [
        {
          "output_type": "display_data",
          "data": {
            "text/html": [
              "<dl>\n",
              "\t<dt>$num</dt>\n",
              "\t\t<dd><style>\n",
              ".list-inline {list-style: none; margin:0; padding: 0}\n",
              ".list-inline>li {display: inline-block}\n",
              ".list-inline>li:not(:last-child)::after {content: \"\\00b7\"; padding: 0 .5ex}\n",
              "</style>\n",
              "<ol class=list-inline><li>1</li><li>2</li><li>3</li></ol>\n",
              "</dd>\n",
              "\t<dt>$letra</dt>\n",
              "\t\t<dd><style>\n",
              ".list-inline {list-style: none; margin:0; padding: 0}\n",
              ".list-inline>li {display: inline-block}\n",
              ".list-inline>li:not(:last-child)::after {content: \"\\00b7\"; padding: 0 .5ex}\n",
              "</style>\n",
              "<ol class=list-inline><li>'a'</li><li>'b'</li><li>'c'</li><li>'d'</li><li>'e'</li><li>'f'</li><li>'g'</li><li>'h'</li><li>'i'</li><li>'j'</li><li>'k'</li><li>'l'</li><li>'m'</li><li>'n'</li><li>'o'</li><li>'p'</li><li>'q'</li><li>'r'</li><li>'s'</li><li>'t'</li><li>'u'</li><li>'v'</li><li>'w'</li><li>'x'</li><li>'y'</li><li>'z'</li></ol>\n",
              "</dd>\n",
              "\t<dt>$mat</dt>\n",
              "\t\t<dd><table class=\"dataframe\">\n",
              "<caption>A matrix: 5 × 5 of type int</caption>\n",
              "<tbody>\n",
              "\t<tr><td>1</td><td>0</td><td>0</td><td>0</td><td>0</td></tr>\n",
              "\t<tr><td>0</td><td>2</td><td>0</td><td>0</td><td>0</td></tr>\n",
              "\t<tr><td>0</td><td>0</td><td>3</td><td>0</td><td>0</td></tr>\n",
              "\t<tr><td>0</td><td>0</td><td>0</td><td>4</td><td>0</td></tr>\n",
              "\t<tr><td>0</td><td>0</td><td>0</td><td>0</td><td>5</td></tr>\n",
              "</tbody>\n",
              "</table>\n",
              "</dd>\n",
              "\t<dt>$subl</dt>\n",
              "\t\t<dd><dl>\n",
              "\t<dt>$n</dt>\n",
              "\t\t<dd>1</dd>\n",
              "\t<dt>$pl</dt>\n",
              "\t\t<dd>'hola'</dd>\n",
              "\t<dt>$v</dt>\n",
              "\t\t<dd><style>\n",
              ".list-inline {list-style: none; margin:0; padding: 0}\n",
              ".list-inline>li {display: inline-block}\n",
              ".list-inline>li:not(:last-child)::after {content: \"\\00b7\"; padding: 0 .5ex}\n",
              "</style>\n",
              "<ol class=list-inline><li>1</li><li>5</li><li>8</li></ol>\n",
              "</dd>\n",
              "</dl>\n",
              "</dd>\n",
              "</dl>\n"
            ],
            "text/markdown": "$num\n:   1. 1\n2. 2\n3. 3\n\n\n\n$letra\n:   1. 'a'\n2. 'b'\n3. 'c'\n4. 'd'\n5. 'e'\n6. 'f'\n7. 'g'\n8. 'h'\n9. 'i'\n10. 'j'\n11. 'k'\n12. 'l'\n13. 'm'\n14. 'n'\n15. 'o'\n16. 'p'\n17. 'q'\n18. 'r'\n19. 's'\n20. 't'\n21. 'u'\n22. 'v'\n23. 'w'\n24. 'x'\n25. 'y'\n26. 'z'\n\n\n\n$mat\n:   \nA matrix: 5 × 5 of type int\n\n| 1 | 0 | 0 | 0 | 0 |\n| 0 | 2 | 0 | 0 | 0 |\n| 0 | 0 | 3 | 0 | 0 |\n| 0 | 0 | 0 | 4 | 0 |\n| 0 | 0 | 0 | 0 | 5 |\n\n\n$subl\n:   $n\n:   1\n$pl\n:   'hola'\n$v\n:   1. 1\n2. 5\n3. 8\n\n\n\n\n\n\n\n\n",
            "text/latex": "\\begin{description}\n\\item[\\$num] \\begin{enumerate*}\n\\item 1\n\\item 2\n\\item 3\n\\end{enumerate*}\n\n\\item[\\$letra] \\begin{enumerate*}\n\\item 'a'\n\\item 'b'\n\\item 'c'\n\\item 'd'\n\\item 'e'\n\\item 'f'\n\\item 'g'\n\\item 'h'\n\\item 'i'\n\\item 'j'\n\\item 'k'\n\\item 'l'\n\\item 'm'\n\\item 'n'\n\\item 'o'\n\\item 'p'\n\\item 'q'\n\\item 'r'\n\\item 's'\n\\item 't'\n\\item 'u'\n\\item 'v'\n\\item 'w'\n\\item 'x'\n\\item 'y'\n\\item 'z'\n\\end{enumerate*}\n\n\\item[\\$mat] A matrix: 5 × 5 of type int\n\\begin{tabular}{lllll}\n\t 1 & 0 & 0 & 0 & 0\\\\\n\t 0 & 2 & 0 & 0 & 0\\\\\n\t 0 & 0 & 3 & 0 & 0\\\\\n\t 0 & 0 & 0 & 4 & 0\\\\\n\t 0 & 0 & 0 & 0 & 5\\\\\n\\end{tabular}\n\n\\item[\\$subl] \\begin{description}\n\\item[\\$n] 1\n\\item[\\$pl] 'hola'\n\\item[\\$v] \\begin{enumerate*}\n\\item 1\n\\item 5\n\\item 8\n\\end{enumerate*}\n\n\\end{description}\n\n\\end{description}\n",
            "text/plain": [
              "$num\n",
              "[1] 1 2 3\n",
              "\n",
              "$letra\n",
              " [1] \"a\" \"b\" \"c\" \"d\" \"e\" \"f\" \"g\" \"h\" \"i\" \"j\" \"k\" \"l\" \"m\" \"n\" \"o\" \"p\" \"q\" \"r\" \"s\"\n",
              "[20] \"t\" \"u\" \"v\" \"w\" \"x\" \"y\" \"z\"\n",
              "\n",
              "$mat\n",
              "     [,1] [,2] [,3] [,4] [,5]\n",
              "[1,]    1    0    0    0    0\n",
              "[2,]    0    2    0    0    0\n",
              "[3,]    0    0    3    0    0\n",
              "[4,]    0    0    0    4    0\n",
              "[5,]    0    0    0    0    5\n",
              "\n",
              "$subl\n",
              "$subl$n\n",
              "[1] 1\n",
              "\n",
              "$subl$pl\n",
              "[1] \"hola\"\n",
              "\n",
              "$subl$v\n",
              "[1] 1 5 8\n",
              "\n"
            ]
          },
          "metadata": {}
        }
      ]
    },
    {
      "cell_type": "code",
      "metadata": {
        "id": "_iwOQA-xTzww",
        "outputId": "0421e975-45e6-4ae4-ef0f-599f89e78633",
        "colab": {
          "base_uri": "https://localhost:8080/"
        }
      },
      "source": [
        "# estructura\n",
        "str(l1)"
      ],
      "execution_count": 4,
      "outputs": [
        {
          "output_type": "stream",
          "name": "stdout",
          "text": [
            "List of 4\n",
            " $ num  : num [1:3] 1 2 3\n",
            " $ letra: chr [1:26] \"a\" \"b\" \"c\" \"d\" ...\n",
            " $ mat  : int [1:5, 1:5] 1 0 0 0 0 0 2 0 0 0 ...\n",
            " $ subl :List of 3\n",
            "  ..$ n : num 1\n",
            "  ..$ pl: chr \"hola\"\n",
            "  ..$ v : num [1:3] 1 5 8\n"
          ]
        }
      ]
    },
    {
      "cell_type": "code",
      "source": [
        "length(l1)"
      ],
      "metadata": {
        "id": "f6LFfWnZOpka",
        "outputId": "1a128c79-9571-4632-d22d-f26fc246a2c4",
        "colab": {
          "base_uri": "https://localhost:8080/",
          "height": 34
        }
      },
      "execution_count": 5,
      "outputs": [
        {
          "output_type": "display_data",
          "data": {
            "text/html": [
              "4"
            ],
            "text/markdown": "4",
            "text/latex": "4",
            "text/plain": [
              "[1] 4"
            ]
          },
          "metadata": {}
        }
      ]
    },
    {
      "cell_type": "code",
      "source": [
        "names(l1)"
      ],
      "metadata": {
        "id": "9rDPGjAqOslG",
        "outputId": "1d9e20e3-1894-4264-af92-c3888ad3f550",
        "colab": {
          "base_uri": "https://localhost:8080/",
          "height": 34
        }
      },
      "execution_count": 6,
      "outputs": [
        {
          "output_type": "display_data",
          "data": {
            "text/html": [
              "<style>\n",
              ".list-inline {list-style: none; margin:0; padding: 0}\n",
              ".list-inline>li {display: inline-block}\n",
              ".list-inline>li:not(:last-child)::after {content: \"\\00b7\"; padding: 0 .5ex}\n",
              "</style>\n",
              "<ol class=list-inline><li>'num'</li><li>'letra'</li><li>'mat'</li><li>'subl'</li></ol>\n"
            ],
            "text/markdown": "1. 'num'\n2. 'letra'\n3. 'mat'\n4. 'subl'\n\n\n",
            "text/latex": "\\begin{enumerate*}\n\\item 'num'\n\\item 'letra'\n\\item 'mat'\n\\item 'subl'\n\\end{enumerate*}\n",
            "text/plain": [
              "[1] \"num\"   \"letra\" \"mat\"   \"subl\" "
            ]
          },
          "metadata": {}
        }
      ]
    },
    {
      "cell_type": "code",
      "source": [
        "class(l1)"
      ],
      "metadata": {
        "id": "hGM--pQmOwat",
        "outputId": "ec4cbdb0-3d59-4f0f-b5de-f9f532b00bca",
        "colab": {
          "base_uri": "https://localhost:8080/",
          "height": 34
        }
      },
      "execution_count": 7,
      "outputs": [
        {
          "output_type": "display_data",
          "data": {
            "text/html": [
              "'list'"
            ],
            "text/markdown": "'list'",
            "text/latex": "'list'",
            "text/plain": [
              "[1] \"list\""
            ]
          },
          "metadata": {}
        }
      ]
    },
    {
      "cell_type": "code",
      "metadata": {
        "trusted": true,
        "id": "Ao1wFCByTpRx"
      },
      "source": [
        "# Podemos guardar los objetos en slots con o sin nombres\n",
        "l2 <- list(3,c(1,7))"
      ],
      "execution_count": 8,
      "outputs": []
    },
    {
      "cell_type": "code",
      "source": [
        "l2"
      ],
      "metadata": {
        "id": "UIRO8M3qO3_k",
        "outputId": "cba0b877-23ef-4382-fcba-fa941c19a250",
        "colab": {
          "base_uri": "https://localhost:8080/",
          "height": 80
        }
      },
      "execution_count": 9,
      "outputs": [
        {
          "output_type": "display_data",
          "data": {
            "text/html": [
              "<ol>\n",
              "\t<li>3</li>\n",
              "\t<li><style>\n",
              ".list-inline {list-style: none; margin:0; padding: 0}\n",
              ".list-inline>li {display: inline-block}\n",
              ".list-inline>li:not(:last-child)::after {content: \"\\00b7\"; padding: 0 .5ex}\n",
              "</style>\n",
              "<ol class=list-inline><li>1</li><li>7</li></ol>\n",
              "</li>\n",
              "</ol>\n"
            ],
            "text/markdown": "1. 3\n2. 1. 1\n2. 7\n\n\n\n\n\n",
            "text/latex": "\\begin{enumerate}\n\\item 3\n\\item \\begin{enumerate*}\n\\item 1\n\\item 7\n\\end{enumerate*}\n\n\\end{enumerate}\n",
            "text/plain": [
              "[[1]]\n",
              "[1] 3\n",
              "\n",
              "[[2]]\n",
              "[1] 1 7\n"
            ]
          },
          "metadata": {}
        }
      ]
    },
    {
      "cell_type": "code",
      "source": [
        "str(l2)"
      ],
      "metadata": {
        "id": "x73IGlQAO9h7",
        "outputId": "5b166953-1151-47b3-b019-83f60e30c615",
        "colab": {
          "base_uri": "https://localhost:8080/"
        }
      },
      "execution_count": 10,
      "outputs": [
        {
          "output_type": "stream",
          "name": "stdout",
          "text": [
            "List of 2\n",
            " $ : num 3\n",
            " $ : num [1:2] 1 7\n"
          ]
        }
      ]
    },
    {
      "cell_type": "code",
      "metadata": {
        "trusted": true,
        "id": "GBuxGL4cTpR0",
        "outputId": "b3ce53d5-dd0d-4c8a-ef11-ec6619cd5bdd",
        "colab": {
          "base_uri": "https://localhost:8080/",
          "height": 542
        }
      },
      "source": [
        "# Podemos combinar listas\n",
        "c(l1,l2)"
      ],
      "execution_count": 11,
      "outputs": [
        {
          "output_type": "display_data",
          "data": {
            "text/html": [
              "<dl>\n",
              "\t<dt>$num</dt>\n",
              "\t\t<dd><style>\n",
              ".list-inline {list-style: none; margin:0; padding: 0}\n",
              ".list-inline>li {display: inline-block}\n",
              ".list-inline>li:not(:last-child)::after {content: \"\\00b7\"; padding: 0 .5ex}\n",
              "</style>\n",
              "<ol class=list-inline><li>1</li><li>2</li><li>3</li></ol>\n",
              "</dd>\n",
              "\t<dt>$letra</dt>\n",
              "\t\t<dd><style>\n",
              ".list-inline {list-style: none; margin:0; padding: 0}\n",
              ".list-inline>li {display: inline-block}\n",
              ".list-inline>li:not(:last-child)::after {content: \"\\00b7\"; padding: 0 .5ex}\n",
              "</style>\n",
              "<ol class=list-inline><li>'a'</li><li>'b'</li><li>'c'</li><li>'d'</li><li>'e'</li><li>'f'</li><li>'g'</li><li>'h'</li><li>'i'</li><li>'j'</li><li>'k'</li><li>'l'</li><li>'m'</li><li>'n'</li><li>'o'</li><li>'p'</li><li>'q'</li><li>'r'</li><li>'s'</li><li>'t'</li><li>'u'</li><li>'v'</li><li>'w'</li><li>'x'</li><li>'y'</li><li>'z'</li></ol>\n",
              "</dd>\n",
              "\t<dt>$mat</dt>\n",
              "\t\t<dd><table class=\"dataframe\">\n",
              "<caption>A matrix: 5 × 5 of type int</caption>\n",
              "<tbody>\n",
              "\t<tr><td>1</td><td>0</td><td>0</td><td>0</td><td>0</td></tr>\n",
              "\t<tr><td>0</td><td>2</td><td>0</td><td>0</td><td>0</td></tr>\n",
              "\t<tr><td>0</td><td>0</td><td>3</td><td>0</td><td>0</td></tr>\n",
              "\t<tr><td>0</td><td>0</td><td>0</td><td>4</td><td>0</td></tr>\n",
              "\t<tr><td>0</td><td>0</td><td>0</td><td>0</td><td>5</td></tr>\n",
              "</tbody>\n",
              "</table>\n",
              "</dd>\n",
              "\t<dt>$subl</dt>\n",
              "\t\t<dd><dl>\n",
              "\t<dt>$n</dt>\n",
              "\t\t<dd>1</dd>\n",
              "\t<dt>$pl</dt>\n",
              "\t\t<dd>'hola'</dd>\n",
              "\t<dt>$v</dt>\n",
              "\t\t<dd><style>\n",
              ".list-inline {list-style: none; margin:0; padding: 0}\n",
              ".list-inline>li {display: inline-block}\n",
              ".list-inline>li:not(:last-child)::after {content: \"\\00b7\"; padding: 0 .5ex}\n",
              "</style>\n",
              "<ol class=list-inline><li>1</li><li>5</li><li>8</li></ol>\n",
              "</dd>\n",
              "</dl>\n",
              "</dd>\n",
              "\t<dt>[[5]]</dt>\n",
              "\t\t<dd>3</dd>\n",
              "\t<dt>[[6]]</dt>\n",
              "\t\t<dd><style>\n",
              ".list-inline {list-style: none; margin:0; padding: 0}\n",
              ".list-inline>li {display: inline-block}\n",
              ".list-inline>li:not(:last-child)::after {content: \"\\00b7\"; padding: 0 .5ex}\n",
              "</style>\n",
              "<ol class=list-inline><li>1</li><li>7</li></ol>\n",
              "</dd>\n",
              "</dl>\n"
            ],
            "text/markdown": "$num\n:   1. 1\n2. 2\n3. 3\n\n\n\n$letra\n:   1. 'a'\n2. 'b'\n3. 'c'\n4. 'd'\n5. 'e'\n6. 'f'\n7. 'g'\n8. 'h'\n9. 'i'\n10. 'j'\n11. 'k'\n12. 'l'\n13. 'm'\n14. 'n'\n15. 'o'\n16. 'p'\n17. 'q'\n18. 'r'\n19. 's'\n20. 't'\n21. 'u'\n22. 'v'\n23. 'w'\n24. 'x'\n25. 'y'\n26. 'z'\n\n\n\n$mat\n:   \nA matrix: 5 × 5 of type int\n\n| 1 | 0 | 0 | 0 | 0 |\n| 0 | 2 | 0 | 0 | 0 |\n| 0 | 0 | 3 | 0 | 0 |\n| 0 | 0 | 0 | 4 | 0 |\n| 0 | 0 | 0 | 0 | 5 |\n\n\n$subl\n:   $n\n:   1\n$pl\n:   'hola'\n$v\n:   1. 1\n2. 5\n3. 8\n\n\n\n\n\n\n[[5]]\n:   3\n[[6]]\n:   1. 1\n2. 7\n\n\n\n\n\n",
            "text/latex": "\\begin{description}\n\\item[\\$num] \\begin{enumerate*}\n\\item 1\n\\item 2\n\\item 3\n\\end{enumerate*}\n\n\\item[\\$letra] \\begin{enumerate*}\n\\item 'a'\n\\item 'b'\n\\item 'c'\n\\item 'd'\n\\item 'e'\n\\item 'f'\n\\item 'g'\n\\item 'h'\n\\item 'i'\n\\item 'j'\n\\item 'k'\n\\item 'l'\n\\item 'm'\n\\item 'n'\n\\item 'o'\n\\item 'p'\n\\item 'q'\n\\item 'r'\n\\item 's'\n\\item 't'\n\\item 'u'\n\\item 'v'\n\\item 'w'\n\\item 'x'\n\\item 'y'\n\\item 'z'\n\\end{enumerate*}\n\n\\item[\\$mat] A matrix: 5 × 5 of type int\n\\begin{tabular}{lllll}\n\t 1 & 0 & 0 & 0 & 0\\\\\n\t 0 & 2 & 0 & 0 & 0\\\\\n\t 0 & 0 & 3 & 0 & 0\\\\\n\t 0 & 0 & 0 & 4 & 0\\\\\n\t 0 & 0 & 0 & 0 & 5\\\\\n\\end{tabular}\n\n\\item[\\$subl] \\begin{description}\n\\item[\\$n] 1\n\\item[\\$pl] 'hola'\n\\item[\\$v] \\begin{enumerate*}\n\\item 1\n\\item 5\n\\item 8\n\\end{enumerate*}\n\n\\end{description}\n\n\\item[{[[5]]}] 3\n\\item[{[[6]]}] \\begin{enumerate*}\n\\item 1\n\\item 7\n\\end{enumerate*}\n\n\\end{description}\n",
            "text/plain": [
              "$num\n",
              "[1] 1 2 3\n",
              "\n",
              "$letra\n",
              " [1] \"a\" \"b\" \"c\" \"d\" \"e\" \"f\" \"g\" \"h\" \"i\" \"j\" \"k\" \"l\" \"m\" \"n\" \"o\" \"p\" \"q\" \"r\" \"s\"\n",
              "[20] \"t\" \"u\" \"v\" \"w\" \"x\" \"y\" \"z\"\n",
              "\n",
              "$mat\n",
              "     [,1] [,2] [,3] [,4] [,5]\n",
              "[1,]    1    0    0    0    0\n",
              "[2,]    0    2    0    0    0\n",
              "[3,]    0    0    3    0    0\n",
              "[4,]    0    0    0    4    0\n",
              "[5,]    0    0    0    0    5\n",
              "\n",
              "$subl\n",
              "$subl$n\n",
              "[1] 1\n",
              "\n",
              "$subl$pl\n",
              "[1] \"hola\"\n",
              "\n",
              "$subl$v\n",
              "[1] 1 5 8\n",
              "\n",
              "\n",
              "[[5]]\n",
              "[1] 3\n",
              "\n",
              "[[6]]\n",
              "[1] 1 7\n"
            ]
          },
          "metadata": {}
        }
      ]
    },
    {
      "cell_type": "code",
      "metadata": {
        "trusted": true,
        "id": "uUv7BQfnTpR3",
        "outputId": "d7948c43-15fc-4204-a94d-b1d57ac08758",
        "colab": {
          "base_uri": "https://localhost:8080/",
          "height": 226
        }
      },
      "source": [
        "# Acceso mediante posición\n",
        "l1[3]"
      ],
      "execution_count": 14,
      "outputs": [
        {
          "output_type": "display_data",
          "data": {
            "text/html": [
              "<strong>$mat</strong> = <table class=\"dataframe\">\n",
              "<caption>A matrix: 5 × 5 of type int</caption>\n",
              "<tbody>\n",
              "\t<tr><td>1</td><td>0</td><td>0</td><td>0</td><td>0</td></tr>\n",
              "\t<tr><td>0</td><td>2</td><td>0</td><td>0</td><td>0</td></tr>\n",
              "\t<tr><td>0</td><td>0</td><td>3</td><td>0</td><td>0</td></tr>\n",
              "\t<tr><td>0</td><td>0</td><td>0</td><td>4</td><td>0</td></tr>\n",
              "\t<tr><td>0</td><td>0</td><td>0</td><td>0</td><td>5</td></tr>\n",
              "</tbody>\n",
              "</table>\n"
            ],
            "text/markdown": "**$mat** = \nA matrix: 5 × 5 of type int\n\n| 1 | 0 | 0 | 0 | 0 |\n| 0 | 2 | 0 | 0 | 0 |\n| 0 | 0 | 3 | 0 | 0 |\n| 0 | 0 | 0 | 4 | 0 |\n| 0 | 0 | 0 | 0 | 5 |\n\n",
            "text/latex": "\\textbf{\\$mat} = A matrix: 5 × 5 of type int\n\\begin{tabular}{lllll}\n\t 1 & 0 & 0 & 0 & 0\\\\\n\t 0 & 2 & 0 & 0 & 0\\\\\n\t 0 & 0 & 3 & 0 & 0\\\\\n\t 0 & 0 & 0 & 4 & 0\\\\\n\t 0 & 0 & 0 & 0 & 5\\\\\n\\end{tabular}\n",
            "text/plain": [
              "$mat\n",
              "     [,1] [,2] [,3] [,4] [,5]\n",
              "[1,]    1    0    0    0    0\n",
              "[2,]    0    2    0    0    0\n",
              "[3,]    0    0    3    0    0\n",
              "[4,]    0    0    0    4    0\n",
              "[5,]    0    0    0    0    5\n"
            ]
          },
          "metadata": {}
        }
      ]
    },
    {
      "cell_type": "code",
      "metadata": {
        "trusted": true,
        "id": "L3RDKUqOTpR5",
        "outputId": "5a679590-b10b-4c89-ed32-b47fd9540ebb",
        "colab": {
          "base_uri": "https://localhost:8080/",
          "height": 34
        }
      },
      "source": [
        "class(l1[3])"
      ],
      "execution_count": 15,
      "outputs": [
        {
          "output_type": "display_data",
          "data": {
            "text/html": [
              "'list'"
            ],
            "text/markdown": "'list'",
            "text/latex": "'list'",
            "text/plain": [
              "[1] \"list\""
            ]
          },
          "metadata": {}
        }
      ]
    },
    {
      "cell_type": "code",
      "source": [
        "l1[2:4]"
      ],
      "metadata": {
        "id": "w32JE1OLPnjd",
        "outputId": "3da372f5-a7ec-4621-d6b3-6cd025315b5a",
        "colab": {
          "base_uri": "https://localhost:8080/",
          "height": 424
        }
      },
      "execution_count": 16,
      "outputs": [
        {
          "output_type": "display_data",
          "data": {
            "text/html": [
              "<dl>\n",
              "\t<dt>$letra</dt>\n",
              "\t\t<dd><style>\n",
              ".list-inline {list-style: none; margin:0; padding: 0}\n",
              ".list-inline>li {display: inline-block}\n",
              ".list-inline>li:not(:last-child)::after {content: \"\\00b7\"; padding: 0 .5ex}\n",
              "</style>\n",
              "<ol class=list-inline><li>'a'</li><li>'b'</li><li>'c'</li><li>'d'</li><li>'e'</li><li>'f'</li><li>'g'</li><li>'h'</li><li>'i'</li><li>'j'</li><li>'k'</li><li>'l'</li><li>'m'</li><li>'n'</li><li>'o'</li><li>'p'</li><li>'q'</li><li>'r'</li><li>'s'</li><li>'t'</li><li>'u'</li><li>'v'</li><li>'w'</li><li>'x'</li><li>'y'</li><li>'z'</li></ol>\n",
              "</dd>\n",
              "\t<dt>$mat</dt>\n",
              "\t\t<dd><table class=\"dataframe\">\n",
              "<caption>A matrix: 5 × 5 of type int</caption>\n",
              "<tbody>\n",
              "\t<tr><td>1</td><td>0</td><td>0</td><td>0</td><td>0</td></tr>\n",
              "\t<tr><td>0</td><td>2</td><td>0</td><td>0</td><td>0</td></tr>\n",
              "\t<tr><td>0</td><td>0</td><td>3</td><td>0</td><td>0</td></tr>\n",
              "\t<tr><td>0</td><td>0</td><td>0</td><td>4</td><td>0</td></tr>\n",
              "\t<tr><td>0</td><td>0</td><td>0</td><td>0</td><td>5</td></tr>\n",
              "</tbody>\n",
              "</table>\n",
              "</dd>\n",
              "\t<dt>$subl</dt>\n",
              "\t\t<dd><dl>\n",
              "\t<dt>$n</dt>\n",
              "\t\t<dd>1</dd>\n",
              "\t<dt>$pl</dt>\n",
              "\t\t<dd>'hola'</dd>\n",
              "\t<dt>$v</dt>\n",
              "\t\t<dd><style>\n",
              ".list-inline {list-style: none; margin:0; padding: 0}\n",
              ".list-inline>li {display: inline-block}\n",
              ".list-inline>li:not(:last-child)::after {content: \"\\00b7\"; padding: 0 .5ex}\n",
              "</style>\n",
              "<ol class=list-inline><li>1</li><li>5</li><li>8</li></ol>\n",
              "</dd>\n",
              "</dl>\n",
              "</dd>\n",
              "</dl>\n"
            ],
            "text/markdown": "$letra\n:   1. 'a'\n2. 'b'\n3. 'c'\n4. 'd'\n5. 'e'\n6. 'f'\n7. 'g'\n8. 'h'\n9. 'i'\n10. 'j'\n11. 'k'\n12. 'l'\n13. 'm'\n14. 'n'\n15. 'o'\n16. 'p'\n17. 'q'\n18. 'r'\n19. 's'\n20. 't'\n21. 'u'\n22. 'v'\n23. 'w'\n24. 'x'\n25. 'y'\n26. 'z'\n\n\n\n$mat\n:   \nA matrix: 5 × 5 of type int\n\n| 1 | 0 | 0 | 0 | 0 |\n| 0 | 2 | 0 | 0 | 0 |\n| 0 | 0 | 3 | 0 | 0 |\n| 0 | 0 | 0 | 4 | 0 |\n| 0 | 0 | 0 | 0 | 5 |\n\n\n$subl\n:   $n\n:   1\n$pl\n:   'hola'\n$v\n:   1. 1\n2. 5\n3. 8\n\n\n\n\n\n\n\n\n",
            "text/latex": "\\begin{description}\n\\item[\\$letra] \\begin{enumerate*}\n\\item 'a'\n\\item 'b'\n\\item 'c'\n\\item 'd'\n\\item 'e'\n\\item 'f'\n\\item 'g'\n\\item 'h'\n\\item 'i'\n\\item 'j'\n\\item 'k'\n\\item 'l'\n\\item 'm'\n\\item 'n'\n\\item 'o'\n\\item 'p'\n\\item 'q'\n\\item 'r'\n\\item 's'\n\\item 't'\n\\item 'u'\n\\item 'v'\n\\item 'w'\n\\item 'x'\n\\item 'y'\n\\item 'z'\n\\end{enumerate*}\n\n\\item[\\$mat] A matrix: 5 × 5 of type int\n\\begin{tabular}{lllll}\n\t 1 & 0 & 0 & 0 & 0\\\\\n\t 0 & 2 & 0 & 0 & 0\\\\\n\t 0 & 0 & 3 & 0 & 0\\\\\n\t 0 & 0 & 0 & 4 & 0\\\\\n\t 0 & 0 & 0 & 0 & 5\\\\\n\\end{tabular}\n\n\\item[\\$subl] \\begin{description}\n\\item[\\$n] 1\n\\item[\\$pl] 'hola'\n\\item[\\$v] \\begin{enumerate*}\n\\item 1\n\\item 5\n\\item 8\n\\end{enumerate*}\n\n\\end{description}\n\n\\end{description}\n",
            "text/plain": [
              "$letra\n",
              " [1] \"a\" \"b\" \"c\" \"d\" \"e\" \"f\" \"g\" \"h\" \"i\" \"j\" \"k\" \"l\" \"m\" \"n\" \"o\" \"p\" \"q\" \"r\" \"s\"\n",
              "[20] \"t\" \"u\" \"v\" \"w\" \"x\" \"y\" \"z\"\n",
              "\n",
              "$mat\n",
              "     [,1] [,2] [,3] [,4] [,5]\n",
              "[1,]    1    0    0    0    0\n",
              "[2,]    0    2    0    0    0\n",
              "[3,]    0    0    3    0    0\n",
              "[4,]    0    0    0    4    0\n",
              "[5,]    0    0    0    0    5\n",
              "\n",
              "$subl\n",
              "$subl$n\n",
              "[1] 1\n",
              "\n",
              "$subl$pl\n",
              "[1] \"hola\"\n",
              "\n",
              "$subl$v\n",
              "[1] 1 5 8\n",
              "\n"
            ]
          },
          "metadata": {}
        }
      ]
    },
    {
      "cell_type": "code",
      "metadata": {
        "trusted": true,
        "id": "QbQ8QHARTpR7",
        "outputId": "8aeeeba7-fbc9-48c9-ac75-e819ba0cd74c",
        "colab": {
          "base_uri": "https://localhost:8080/",
          "height": 209
        }
      },
      "source": [
        "# NOTA lista[.] retorna un lista con un elemento,\n",
        "# lista[[.]] retorna el elmento de la lista lista[.]\n",
        "#Si queremos la matriz de la pos3 y no la lista con la matriz de  la pos 3.\n",
        "l1[[3]]\n"
      ],
      "execution_count": 17,
      "outputs": [
        {
          "output_type": "display_data",
          "data": {
            "text/html": [
              "<table class=\"dataframe\">\n",
              "<caption>A matrix: 5 × 5 of type int</caption>\n",
              "<tbody>\n",
              "\t<tr><td>1</td><td>0</td><td>0</td><td>0</td><td>0</td></tr>\n",
              "\t<tr><td>0</td><td>2</td><td>0</td><td>0</td><td>0</td></tr>\n",
              "\t<tr><td>0</td><td>0</td><td>3</td><td>0</td><td>0</td></tr>\n",
              "\t<tr><td>0</td><td>0</td><td>0</td><td>4</td><td>0</td></tr>\n",
              "\t<tr><td>0</td><td>0</td><td>0</td><td>0</td><td>5</td></tr>\n",
              "</tbody>\n",
              "</table>\n"
            ],
            "text/markdown": "\nA matrix: 5 × 5 of type int\n\n| 1 | 0 | 0 | 0 | 0 |\n| 0 | 2 | 0 | 0 | 0 |\n| 0 | 0 | 3 | 0 | 0 |\n| 0 | 0 | 0 | 4 | 0 |\n| 0 | 0 | 0 | 0 | 5 |\n\n",
            "text/latex": "A matrix: 5 × 5 of type int\n\\begin{tabular}{lllll}\n\t 1 & 0 & 0 & 0 & 0\\\\\n\t 0 & 2 & 0 & 0 & 0\\\\\n\t 0 & 0 & 3 & 0 & 0\\\\\n\t 0 & 0 & 0 & 4 & 0\\\\\n\t 0 & 0 & 0 & 0 & 5\\\\\n\\end{tabular}\n",
            "text/plain": [
              "     [,1] [,2] [,3] [,4] [,5]\n",
              "[1,] 1    0    0    0    0   \n",
              "[2,] 0    2    0    0    0   \n",
              "[3,] 0    0    3    0    0   \n",
              "[4,] 0    0    0    4    0   \n",
              "[5,] 0    0    0    0    5   "
            ]
          },
          "metadata": {}
        }
      ]
    },
    {
      "cell_type": "code",
      "source": [
        "class(l1[[3]])"
      ],
      "metadata": {
        "id": "6tpUOE8YQDwK",
        "outputId": "bbdd6141-a98a-449e-b854-5ecb55585330",
        "colab": {
          "base_uri": "https://localhost:8080/",
          "height": 34
        }
      },
      "execution_count": 18,
      "outputs": [
        {
          "output_type": "display_data",
          "data": {
            "text/html": [
              "<style>\n",
              ".list-inline {list-style: none; margin:0; padding: 0}\n",
              ".list-inline>li {display: inline-block}\n",
              ".list-inline>li:not(:last-child)::after {content: \"\\00b7\"; padding: 0 .5ex}\n",
              "</style>\n",
              "<ol class=list-inline><li>'matrix'</li><li>'array'</li></ol>\n"
            ],
            "text/markdown": "1. 'matrix'\n2. 'array'\n\n\n",
            "text/latex": "\\begin{enumerate*}\n\\item 'matrix'\n\\item 'array'\n\\end{enumerate*}\n",
            "text/plain": [
              "[1] \"matrix\" \"array\" "
            ]
          },
          "metadata": {}
        }
      ]
    },
    {
      "cell_type": "code",
      "source": [
        "l1[[3]][4,4]"
      ],
      "metadata": {
        "id": "MfFByNxSQG1s",
        "outputId": "40a4f787-268a-4176-a80b-72700d4c6ce8",
        "colab": {
          "base_uri": "https://localhost:8080/",
          "height": 34
        }
      },
      "execution_count": 19,
      "outputs": [
        {
          "output_type": "display_data",
          "data": {
            "text/html": [
              "4"
            ],
            "text/markdown": "4",
            "text/latex": "4",
            "text/plain": [
              "[1] 4"
            ]
          },
          "metadata": {}
        }
      ]
    },
    {
      "cell_type": "code",
      "source": [
        "str(l1)"
      ],
      "metadata": {
        "id": "_OObf25GQQ4p",
        "outputId": "3a371f8c-e3fc-492c-b46b-e3b92b74edb9",
        "colab": {
          "base_uri": "https://localhost:8080/"
        }
      },
      "execution_count": 20,
      "outputs": [
        {
          "output_type": "stream",
          "name": "stdout",
          "text": [
            "List of 4\n",
            " $ num  : num [1:3] 1 2 3\n",
            " $ letra: chr [1:26] \"a\" \"b\" \"c\" \"d\" ...\n",
            " $ mat  : int [1:5, 1:5] 1 0 0 0 0 0 2 0 0 0 ...\n",
            " $ subl :List of 3\n",
            "  ..$ n : num 1\n",
            "  ..$ pl: chr \"hola\"\n",
            "  ..$ v : num [1:3] 1 5 8\n"
          ]
        }
      ]
    },
    {
      "cell_type": "code",
      "metadata": {
        "trusted": true,
        "id": "kaOJqYJETpSC",
        "outputId": "b4ebcd43-66d1-492c-d5e2-173a00e01594",
        "colab": {
          "base_uri": "https://localhost:8080/",
          "height": 167
        }
      },
      "source": [
        "# de la lista l1[[4]], quieo el vector que está en el slot llamado \"v\" (tercer elemento)\n",
        "l1[4]#esto es una lista (de largo 1 ) con una lista\n"
      ],
      "execution_count": 23,
      "outputs": [
        {
          "output_type": "display_data",
          "data": {
            "text/html": [
              "<strong>$subl</strong> = <dl>\n",
              "\t<dt>$n</dt>\n",
              "\t\t<dd>1</dd>\n",
              "\t<dt>$pl</dt>\n",
              "\t\t<dd>'hola'</dd>\n",
              "\t<dt>$v</dt>\n",
              "\t\t<dd><style>\n",
              ".list-inline {list-style: none; margin:0; padding: 0}\n",
              ".list-inline>li {display: inline-block}\n",
              ".list-inline>li:not(:last-child)::after {content: \"\\00b7\"; padding: 0 .5ex}\n",
              "</style>\n",
              "<ol class=list-inline><li>1</li><li>5</li><li>8</li></ol>\n",
              "</dd>\n",
              "</dl>\n"
            ],
            "text/markdown": "**$subl** = $n\n:   1\n$pl\n:   'hola'\n$v\n:   1. 1\n2. 5\n3. 8\n\n\n\n\n\n",
            "text/latex": "\\textbf{\\$subl} = \\begin{description}\n\\item[\\$n] 1\n\\item[\\$pl] 'hola'\n\\item[\\$v] \\begin{enumerate*}\n\\item 1\n\\item 5\n\\item 8\n\\end{enumerate*}\n\n\\end{description}\n",
            "text/plain": [
              "$subl\n",
              "$subl$n\n",
              "[1] 1\n",
              "\n",
              "$subl$pl\n",
              "[1] \"hola\"\n",
              "\n",
              "$subl$v\n",
              "[1] 1 5 8\n",
              "\n"
            ]
          },
          "metadata": {}
        }
      ]
    },
    {
      "cell_type": "code",
      "source": [
        "l1[[4]]# Esto es el elemento de la lista l1[4]. Que en este caso corresponde a una lista de largo 3."
      ],
      "metadata": {
        "id": "Rig1OhXPQpQR",
        "outputId": "3b8938fb-3f47-4a15-e6bc-802e77712ee7",
        "colab": {
          "base_uri": "https://localhost:8080/",
          "height": 149
        }
      },
      "execution_count": 24,
      "outputs": [
        {
          "output_type": "display_data",
          "data": {
            "text/html": [
              "<dl>\n",
              "\t<dt>$n</dt>\n",
              "\t\t<dd>1</dd>\n",
              "\t<dt>$pl</dt>\n",
              "\t\t<dd>'hola'</dd>\n",
              "\t<dt>$v</dt>\n",
              "\t\t<dd><style>\n",
              ".list-inline {list-style: none; margin:0; padding: 0}\n",
              ".list-inline>li {display: inline-block}\n",
              ".list-inline>li:not(:last-child)::after {content: \"\\00b7\"; padding: 0 .5ex}\n",
              "</style>\n",
              "<ol class=list-inline><li>1</li><li>5</li><li>8</li></ol>\n",
              "</dd>\n",
              "</dl>\n"
            ],
            "text/markdown": "$n\n:   1\n$pl\n:   'hola'\n$v\n:   1. 1\n2. 5\n3. 8\n\n\n\n\n\n",
            "text/latex": "\\begin{description}\n\\item[\\$n] 1\n\\item[\\$pl] 'hola'\n\\item[\\$v] \\begin{enumerate*}\n\\item 1\n\\item 5\n\\item 8\n\\end{enumerate*}\n\n\\end{description}\n",
            "text/plain": [
              "$n\n",
              "[1] 1\n",
              "\n",
              "$pl\n",
              "[1] \"hola\"\n",
              "\n",
              "$v\n",
              "[1] 1 5 8\n"
            ]
          },
          "metadata": {}
        }
      ]
    },
    {
      "cell_type": "code",
      "source": [
        "l1[[4]][3]"
      ],
      "metadata": {
        "id": "x2wnGAnFQ-10",
        "outputId": "fe9f944a-7514-4ff2-c598-450153ba1a26",
        "colab": {
          "base_uri": "https://localhost:8080/",
          "height": 52
        }
      },
      "execution_count": 26,
      "outputs": [
        {
          "output_type": "display_data",
          "data": {
            "text/html": [
              "<strong>$v</strong> = <style>\n",
              ".list-inline {list-style: none; margin:0; padding: 0}\n",
              ".list-inline>li {display: inline-block}\n",
              ".list-inline>li:not(:last-child)::after {content: \"\\00b7\"; padding: 0 .5ex}\n",
              "</style>\n",
              "<ol class=list-inline><li>1</li><li>5</li><li>8</li></ol>\n"
            ],
            "text/markdown": "**$v** = 1. 1\n2. 5\n3. 8\n\n\n",
            "text/latex": "\\textbf{\\$v} = \\begin{enumerate*}\n\\item 1\n\\item 5\n\\item 8\n\\end{enumerate*}\n",
            "text/plain": [
              "$v\n",
              "[1] 1 5 8\n"
            ]
          },
          "metadata": {}
        }
      ]
    },
    {
      "cell_type": "code",
      "metadata": {
        "trusted": true,
        "id": "UZ4k5DQ9TpSE",
        "outputId": "92d5a84c-ac22-4a4a-b57c-f53d5598e862",
        "colab": {
          "base_uri": "https://localhost:8080/",
          "height": 34
        }
      },
      "source": [
        "l1[[4]][[3]]# Esto es el elemto de la tercera pos de la lista.\n"
      ],
      "execution_count": 28,
      "outputs": [
        {
          "output_type": "display_data",
          "data": {
            "text/html": [
              "<style>\n",
              ".list-inline {list-style: none; margin:0; padding: 0}\n",
              ".list-inline>li {display: inline-block}\n",
              ".list-inline>li:not(:last-child)::after {content: \"\\00b7\"; padding: 0 .5ex}\n",
              "</style>\n",
              "<ol class=list-inline><li>1</li><li>5</li><li>8</li></ol>\n"
            ],
            "text/markdown": "1. 1\n2. 5\n3. 8\n\n\n",
            "text/latex": "\\begin{enumerate*}\n\\item 1\n\\item 5\n\\item 8\n\\end{enumerate*}\n",
            "text/plain": [
              "[1] 1 5 8"
            ]
          },
          "metadata": {}
        }
      ]
    },
    {
      "cell_type": "code",
      "metadata": {
        "trusted": true,
        "id": "jYFKb27-TpSG",
        "outputId": "a42bbf80-8f00-4af1-a266-507e3fb2ad1d",
        "colab": {
          "base_uri": "https://localhost:8080/",
          "height": 226
        }
      },
      "source": [
        "# Acceso mediante nombre\n",
        "l1[\"mat\"]# lista (de un elemento) con la matriz\n",
        "\n"
      ],
      "execution_count": 29,
      "outputs": [
        {
          "output_type": "display_data",
          "data": {
            "text/html": [
              "<strong>$mat</strong> = <table class=\"dataframe\">\n",
              "<caption>A matrix: 5 × 5 of type int</caption>\n",
              "<tbody>\n",
              "\t<tr><td>1</td><td>0</td><td>0</td><td>0</td><td>0</td></tr>\n",
              "\t<tr><td>0</td><td>2</td><td>0</td><td>0</td><td>0</td></tr>\n",
              "\t<tr><td>0</td><td>0</td><td>3</td><td>0</td><td>0</td></tr>\n",
              "\t<tr><td>0</td><td>0</td><td>0</td><td>4</td><td>0</td></tr>\n",
              "\t<tr><td>0</td><td>0</td><td>0</td><td>0</td><td>5</td></tr>\n",
              "</tbody>\n",
              "</table>\n"
            ],
            "text/markdown": "**$mat** = \nA matrix: 5 × 5 of type int\n\n| 1 | 0 | 0 | 0 | 0 |\n| 0 | 2 | 0 | 0 | 0 |\n| 0 | 0 | 3 | 0 | 0 |\n| 0 | 0 | 0 | 4 | 0 |\n| 0 | 0 | 0 | 0 | 5 |\n\n",
            "text/latex": "\\textbf{\\$mat} = A matrix: 5 × 5 of type int\n\\begin{tabular}{lllll}\n\t 1 & 0 & 0 & 0 & 0\\\\\n\t 0 & 2 & 0 & 0 & 0\\\\\n\t 0 & 0 & 3 & 0 & 0\\\\\n\t 0 & 0 & 0 & 4 & 0\\\\\n\t 0 & 0 & 0 & 0 & 5\\\\\n\\end{tabular}\n",
            "text/plain": [
              "$mat\n",
              "     [,1] [,2] [,3] [,4] [,5]\n",
              "[1,]    1    0    0    0    0\n",
              "[2,]    0    2    0    0    0\n",
              "[3,]    0    0    3    0    0\n",
              "[4,]    0    0    0    4    0\n",
              "[5,]    0    0    0    0    5\n"
            ]
          },
          "metadata": {}
        }
      ]
    },
    {
      "cell_type": "code",
      "source": [
        "l1[[\"mat\"]]# La matriz"
      ],
      "metadata": {
        "id": "AA00aGd3RWRE",
        "outputId": "a24c5d34-6b07-4214-988c-72d3c65ee209",
        "colab": {
          "base_uri": "https://localhost:8080/",
          "height": 209
        }
      },
      "execution_count": 30,
      "outputs": [
        {
          "output_type": "display_data",
          "data": {
            "text/html": [
              "<table class=\"dataframe\">\n",
              "<caption>A matrix: 5 × 5 of type int</caption>\n",
              "<tbody>\n",
              "\t<tr><td>1</td><td>0</td><td>0</td><td>0</td><td>0</td></tr>\n",
              "\t<tr><td>0</td><td>2</td><td>0</td><td>0</td><td>0</td></tr>\n",
              "\t<tr><td>0</td><td>0</td><td>3</td><td>0</td><td>0</td></tr>\n",
              "\t<tr><td>0</td><td>0</td><td>0</td><td>4</td><td>0</td></tr>\n",
              "\t<tr><td>0</td><td>0</td><td>0</td><td>0</td><td>5</td></tr>\n",
              "</tbody>\n",
              "</table>\n"
            ],
            "text/markdown": "\nA matrix: 5 × 5 of type int\n\n| 1 | 0 | 0 | 0 | 0 |\n| 0 | 2 | 0 | 0 | 0 |\n| 0 | 0 | 3 | 0 | 0 |\n| 0 | 0 | 0 | 4 | 0 |\n| 0 | 0 | 0 | 0 | 5 |\n\n",
            "text/latex": "A matrix: 5 × 5 of type int\n\\begin{tabular}{lllll}\n\t 1 & 0 & 0 & 0 & 0\\\\\n\t 0 & 2 & 0 & 0 & 0\\\\\n\t 0 & 0 & 3 & 0 & 0\\\\\n\t 0 & 0 & 0 & 4 & 0\\\\\n\t 0 & 0 & 0 & 0 & 5\\\\\n\\end{tabular}\n",
            "text/plain": [
              "     [,1] [,2] [,3] [,4] [,5]\n",
              "[1,] 1    0    0    0    0   \n",
              "[2,] 0    2    0    0    0   \n",
              "[3,] 0    0    3    0    0   \n",
              "[4,] 0    0    0    4    0   \n",
              "[5,] 0    0    0    0    5   "
            ]
          },
          "metadata": {}
        }
      ]
    },
    {
      "cell_type": "code",
      "source": [
        "str(l1)"
      ],
      "metadata": {
        "id": "hsTC56hzRol4",
        "outputId": "ef15d5fb-a5ec-4476-a50d-d937ba2f5cce",
        "colab": {
          "base_uri": "https://localhost:8080/"
        }
      },
      "execution_count": 33,
      "outputs": [
        {
          "output_type": "stream",
          "name": "stdout",
          "text": [
            "List of 4\n",
            " $ num  : num [1:3] 1 2 3\n",
            " $ letra: chr [1:26] \"a\" \"b\" \"c\" \"d\" ...\n",
            " $ mat  : int [1:5, 1:5] 1 0 0 0 0 0 2 0 0 0 ...\n",
            " $ subl :List of 3\n",
            "  ..$ n : num 1\n",
            "  ..$ pl: chr \"hola\"\n",
            "  ..$ v : num [1:3] 1 5 8\n"
          ]
        }
      ]
    },
    {
      "cell_type": "code",
      "source": [
        "#Mismo ejemplo de la lista subl\n",
        "l1[[\"subl\"]][[\"v\"]]\n"
      ],
      "metadata": {
        "id": "vPzWk3YzRa8g",
        "outputId": "53502c46-da14-491f-97ae-893ff54f9873",
        "colab": {
          "base_uri": "https://localhost:8080/",
          "height": 34
        }
      },
      "execution_count": 32,
      "outputs": [
        {
          "output_type": "display_data",
          "data": {
            "text/html": [
              "<style>\n",
              ".list-inline {list-style: none; margin:0; padding: 0}\n",
              ".list-inline>li {display: inline-block}\n",
              ".list-inline>li:not(:last-child)::after {content: \"\\00b7\"; padding: 0 .5ex}\n",
              "</style>\n",
              "<ol class=list-inline><li>1</li><li>5</li><li>8</li></ol>\n"
            ],
            "text/markdown": "1. 1\n2. 5\n3. 8\n\n\n",
            "text/latex": "\\begin{enumerate*}\n\\item 1\n\\item 5\n\\item 8\n\\end{enumerate*}\n",
            "text/plain": [
              "[1] 1 5 8"
            ]
          },
          "metadata": {}
        }
      ]
    },
    {
      "cell_type": "code",
      "metadata": {
        "trusted": true,
        "id": "a9UBaNOuTpSI",
        "outputId": "c1a6d365-2e1f-46a6-ce6e-ededdc0cd794",
        "colab": {
          "base_uri": "https://localhost:8080/",
          "height": 592
        }
      },
      "source": [
        "# acceso vía \"$\"\n",
        "l1$mat\n",
        "# Es equivalente a\n",
        "l1[[\"mat\"]]\n",
        "l1[[3]]\n",
        "\n"
      ],
      "execution_count": 35,
      "outputs": [
        {
          "output_type": "display_data",
          "data": {
            "text/html": [
              "<table class=\"dataframe\">\n",
              "<caption>A matrix: 5 × 5 of type int</caption>\n",
              "<tbody>\n",
              "\t<tr><td>1</td><td>0</td><td>0</td><td>0</td><td>0</td></tr>\n",
              "\t<tr><td>0</td><td>2</td><td>0</td><td>0</td><td>0</td></tr>\n",
              "\t<tr><td>0</td><td>0</td><td>3</td><td>0</td><td>0</td></tr>\n",
              "\t<tr><td>0</td><td>0</td><td>0</td><td>4</td><td>0</td></tr>\n",
              "\t<tr><td>0</td><td>0</td><td>0</td><td>0</td><td>5</td></tr>\n",
              "</tbody>\n",
              "</table>\n"
            ],
            "text/markdown": "\nA matrix: 5 × 5 of type int\n\n| 1 | 0 | 0 | 0 | 0 |\n| 0 | 2 | 0 | 0 | 0 |\n| 0 | 0 | 3 | 0 | 0 |\n| 0 | 0 | 0 | 4 | 0 |\n| 0 | 0 | 0 | 0 | 5 |\n\n",
            "text/latex": "A matrix: 5 × 5 of type int\n\\begin{tabular}{lllll}\n\t 1 & 0 & 0 & 0 & 0\\\\\n\t 0 & 2 & 0 & 0 & 0\\\\\n\t 0 & 0 & 3 & 0 & 0\\\\\n\t 0 & 0 & 0 & 4 & 0\\\\\n\t 0 & 0 & 0 & 0 & 5\\\\\n\\end{tabular}\n",
            "text/plain": [
              "     [,1] [,2] [,3] [,4] [,5]\n",
              "[1,] 1    0    0    0    0   \n",
              "[2,] 0    2    0    0    0   \n",
              "[3,] 0    0    3    0    0   \n",
              "[4,] 0    0    0    4    0   \n",
              "[5,] 0    0    0    0    5   "
            ]
          },
          "metadata": {}
        },
        {
          "output_type": "display_data",
          "data": {
            "text/html": [
              "<table class=\"dataframe\">\n",
              "<caption>A matrix: 5 × 5 of type int</caption>\n",
              "<tbody>\n",
              "\t<tr><td>1</td><td>0</td><td>0</td><td>0</td><td>0</td></tr>\n",
              "\t<tr><td>0</td><td>2</td><td>0</td><td>0</td><td>0</td></tr>\n",
              "\t<tr><td>0</td><td>0</td><td>3</td><td>0</td><td>0</td></tr>\n",
              "\t<tr><td>0</td><td>0</td><td>0</td><td>4</td><td>0</td></tr>\n",
              "\t<tr><td>0</td><td>0</td><td>0</td><td>0</td><td>5</td></tr>\n",
              "</tbody>\n",
              "</table>\n"
            ],
            "text/markdown": "\nA matrix: 5 × 5 of type int\n\n| 1 | 0 | 0 | 0 | 0 |\n| 0 | 2 | 0 | 0 | 0 |\n| 0 | 0 | 3 | 0 | 0 |\n| 0 | 0 | 0 | 4 | 0 |\n| 0 | 0 | 0 | 0 | 5 |\n\n",
            "text/latex": "A matrix: 5 × 5 of type int\n\\begin{tabular}{lllll}\n\t 1 & 0 & 0 & 0 & 0\\\\\n\t 0 & 2 & 0 & 0 & 0\\\\\n\t 0 & 0 & 3 & 0 & 0\\\\\n\t 0 & 0 & 0 & 4 & 0\\\\\n\t 0 & 0 & 0 & 0 & 5\\\\\n\\end{tabular}\n",
            "text/plain": [
              "     [,1] [,2] [,3] [,4] [,5]\n",
              "[1,] 1    0    0    0    0   \n",
              "[2,] 0    2    0    0    0   \n",
              "[3,] 0    0    3    0    0   \n",
              "[4,] 0    0    0    4    0   \n",
              "[5,] 0    0    0    0    5   "
            ]
          },
          "metadata": {}
        },
        {
          "output_type": "display_data",
          "data": {
            "text/html": [
              "<table class=\"dataframe\">\n",
              "<caption>A matrix: 5 × 5 of type int</caption>\n",
              "<tbody>\n",
              "\t<tr><td>1</td><td>0</td><td>0</td><td>0</td><td>0</td></tr>\n",
              "\t<tr><td>0</td><td>2</td><td>0</td><td>0</td><td>0</td></tr>\n",
              "\t<tr><td>0</td><td>0</td><td>3</td><td>0</td><td>0</td></tr>\n",
              "\t<tr><td>0</td><td>0</td><td>0</td><td>4</td><td>0</td></tr>\n",
              "\t<tr><td>0</td><td>0</td><td>0</td><td>0</td><td>5</td></tr>\n",
              "</tbody>\n",
              "</table>\n"
            ],
            "text/markdown": "\nA matrix: 5 × 5 of type int\n\n| 1 | 0 | 0 | 0 | 0 |\n| 0 | 2 | 0 | 0 | 0 |\n| 0 | 0 | 3 | 0 | 0 |\n| 0 | 0 | 0 | 4 | 0 |\n| 0 | 0 | 0 | 0 | 5 |\n\n",
            "text/latex": "A matrix: 5 × 5 of type int\n\\begin{tabular}{lllll}\n\t 1 & 0 & 0 & 0 & 0\\\\\n\t 0 & 2 & 0 & 0 & 0\\\\\n\t 0 & 0 & 3 & 0 & 0\\\\\n\t 0 & 0 & 0 & 4 & 0\\\\\n\t 0 & 0 & 0 & 0 & 5\\\\\n\\end{tabular}\n",
            "text/plain": [
              "     [,1] [,2] [,3] [,4] [,5]\n",
              "[1,] 1    0    0    0    0   \n",
              "[2,] 0    2    0    0    0   \n",
              "[3,] 0    0    3    0    0   \n",
              "[4,] 0    0    0    4    0   \n",
              "[5,] 0    0    0    0    5   "
            ]
          },
          "metadata": {}
        }
      ]
    },
    {
      "cell_type": "code",
      "source": [
        "str(l1)"
      ],
      "metadata": {
        "id": "B-B8C51dSEeq",
        "outputId": "ed5be913-85ac-4ed6-847e-8d66a26df93f",
        "colab": {
          "base_uri": "https://localhost:8080/"
        }
      },
      "execution_count": 36,
      "outputs": [
        {
          "output_type": "stream",
          "name": "stdout",
          "text": [
            "List of 4\n",
            " $ num  : num [1:3] 1 2 3\n",
            " $ letra: chr [1:26] \"a\" \"b\" \"c\" \"d\" ...\n",
            " $ mat  : int [1:5, 1:5] 1 0 0 0 0 0 2 0 0 0 ...\n",
            " $ subl :List of 3\n",
            "  ..$ n : num 1\n",
            "  ..$ pl: chr \"hola\"\n",
            "  ..$ v : num [1:3] 1 5 8\n"
          ]
        }
      ]
    },
    {
      "cell_type": "code",
      "source": [
        "l1$subl$v\n",
        "# Es lo mismo que\n",
        "l1[[4]][[3]]\n",
        "l1[[\"subl\"]][[\"v\"]]"
      ],
      "metadata": {
        "id": "a2Zh3EONSIIr",
        "outputId": "d1c86dfb-a3a7-43d8-be14-e16405056e30",
        "colab": {
          "base_uri": "https://localhost:8080/",
          "height": 69
        }
      },
      "execution_count": 38,
      "outputs": [
        {
          "output_type": "display_data",
          "data": {
            "text/html": [
              "<style>\n",
              ".list-inline {list-style: none; margin:0; padding: 0}\n",
              ".list-inline>li {display: inline-block}\n",
              ".list-inline>li:not(:last-child)::after {content: \"\\00b7\"; padding: 0 .5ex}\n",
              "</style>\n",
              "<ol class=list-inline><li>1</li><li>5</li><li>8</li></ol>\n"
            ],
            "text/markdown": "1. 1\n2. 5\n3. 8\n\n\n",
            "text/latex": "\\begin{enumerate*}\n\\item 1\n\\item 5\n\\item 8\n\\end{enumerate*}\n",
            "text/plain": [
              "[1] 1 5 8"
            ]
          },
          "metadata": {}
        },
        {
          "output_type": "display_data",
          "data": {
            "text/html": [
              "<style>\n",
              ".list-inline {list-style: none; margin:0; padding: 0}\n",
              ".list-inline>li {display: inline-block}\n",
              ".list-inline>li:not(:last-child)::after {content: \"\\00b7\"; padding: 0 .5ex}\n",
              "</style>\n",
              "<ol class=list-inline><li>1</li><li>5</li><li>8</li></ol>\n"
            ],
            "text/markdown": "1. 1\n2. 5\n3. 8\n\n\n",
            "text/latex": "\\begin{enumerate*}\n\\item 1\n\\item 5\n\\item 8\n\\end{enumerate*}\n",
            "text/plain": [
              "[1] 1 5 8"
            ]
          },
          "metadata": {}
        },
        {
          "output_type": "display_data",
          "data": {
            "text/html": [
              "<style>\n",
              ".list-inline {list-style: none; margin:0; padding: 0}\n",
              ".list-inline>li {display: inline-block}\n",
              ".list-inline>li:not(:last-child)::after {content: \"\\00b7\"; padding: 0 .5ex}\n",
              "</style>\n",
              "<ol class=list-inline><li>1</li><li>5</li><li>8</li></ol>\n"
            ],
            "text/markdown": "1. 1\n2. 5\n3. 8\n\n\n",
            "text/latex": "\\begin{enumerate*}\n\\item 1\n\\item 5\n\\item 8\n\\end{enumerate*}\n",
            "text/plain": [
              "[1] 1 5 8"
            ]
          },
          "metadata": {}
        }
      ]
    },
    {
      "cell_type": "code",
      "metadata": {
        "trusted": true,
        "id": "Dumeo0-NTpSM",
        "outputId": "3e146f11-6016-45f8-f726-39d44221b79e",
        "colab": {
          "base_uri": "https://localhost:8080/"
        }
      },
      "source": [
        "# para saber el largo de la lista/vector\n",
        "\n",
        "# Para obtener los nombres de la lista\n",
        "\n",
        "# si quisiéramos renombrar los slots:\n",
        "names(l1)[3] <- \"matriz\"\n",
        "str(l1)"
      ],
      "execution_count": 40,
      "outputs": [
        {
          "output_type": "stream",
          "name": "stdout",
          "text": [
            "List of 4\n",
            " $ num   : num [1:3] 1 2 3\n",
            " $ letra : chr [1:26] \"a\" \"b\" \"c\" \"d\" ...\n",
            " $ matriz: int [1:5, 1:5] 1 0 0 0 0 0 2 0 0 0 ...\n",
            " $ subl  :List of 3\n",
            "  ..$ n : num 1\n",
            "  ..$ pl: chr \"hola\"\n",
            "  ..$ v : num [1:3] 1 5 8\n"
          ]
        }
      ]
    },
    {
      "cell_type": "code",
      "metadata": {
        "trusted": true,
        "id": "Uij1PdVrTpSO"
      },
      "source": [
        "# También podemos crear nuevos \"slots\"\n",
        "## Indicando nombre en [[]] y luego asignando\n",
        "l1[[\"nuevo\"]] <- matrix(c(1,2,3,4,5,6), ncol = 3)"
      ],
      "execution_count": 42,
      "outputs": []
    },
    {
      "cell_type": "code",
      "source": [
        "l1"
      ],
      "metadata": {
        "id": "AyOTJD6lTFFN",
        "outputId": "c0944461-bf9d-4f90-d94d-5be5e8482935",
        "colab": {
          "base_uri": "https://localhost:8080/",
          "height": 605
        }
      },
      "execution_count": 43,
      "outputs": [
        {
          "output_type": "display_data",
          "data": {
            "text/html": [
              "<dl>\n",
              "\t<dt>$num</dt>\n",
              "\t\t<dd><style>\n",
              ".list-inline {list-style: none; margin:0; padding: 0}\n",
              ".list-inline>li {display: inline-block}\n",
              ".list-inline>li:not(:last-child)::after {content: \"\\00b7\"; padding: 0 .5ex}\n",
              "</style>\n",
              "<ol class=list-inline><li>1</li><li>2</li><li>3</li></ol>\n",
              "</dd>\n",
              "\t<dt>$letra</dt>\n",
              "\t\t<dd><style>\n",
              ".list-inline {list-style: none; margin:0; padding: 0}\n",
              ".list-inline>li {display: inline-block}\n",
              ".list-inline>li:not(:last-child)::after {content: \"\\00b7\"; padding: 0 .5ex}\n",
              "</style>\n",
              "<ol class=list-inline><li>'a'</li><li>'b'</li><li>'c'</li><li>'d'</li><li>'e'</li><li>'f'</li><li>'g'</li><li>'h'</li><li>'i'</li><li>'j'</li><li>'k'</li><li>'l'</li><li>'m'</li><li>'n'</li><li>'o'</li><li>'p'</li><li>'q'</li><li>'r'</li><li>'s'</li><li>'t'</li><li>'u'</li><li>'v'</li><li>'w'</li><li>'x'</li><li>'y'</li><li>'z'</li></ol>\n",
              "</dd>\n",
              "\t<dt>$matriz</dt>\n",
              "\t\t<dd><table class=\"dataframe\">\n",
              "<caption>A matrix: 5 × 5 of type int</caption>\n",
              "<tbody>\n",
              "\t<tr><td>1</td><td>0</td><td>0</td><td>0</td><td>0</td></tr>\n",
              "\t<tr><td>0</td><td>2</td><td>0</td><td>0</td><td>0</td></tr>\n",
              "\t<tr><td>0</td><td>0</td><td>3</td><td>0</td><td>0</td></tr>\n",
              "\t<tr><td>0</td><td>0</td><td>0</td><td>4</td><td>0</td></tr>\n",
              "\t<tr><td>0</td><td>0</td><td>0</td><td>0</td><td>5</td></tr>\n",
              "</tbody>\n",
              "</table>\n",
              "</dd>\n",
              "\t<dt>$subl</dt>\n",
              "\t\t<dd><dl>\n",
              "\t<dt>$n</dt>\n",
              "\t\t<dd>1</dd>\n",
              "\t<dt>$pl</dt>\n",
              "\t\t<dd>'hola'</dd>\n",
              "\t<dt>$v</dt>\n",
              "\t\t<dd><style>\n",
              ".list-inline {list-style: none; margin:0; padding: 0}\n",
              ".list-inline>li {display: inline-block}\n",
              ".list-inline>li:not(:last-child)::after {content: \"\\00b7\"; padding: 0 .5ex}\n",
              "</style>\n",
              "<ol class=list-inline><li>1</li><li>5</li><li>8</li></ol>\n",
              "</dd>\n",
              "</dl>\n",
              "</dd>\n",
              "\t<dt>$nuevo</dt>\n",
              "\t\t<dd><table class=\"dataframe\">\n",
              "<caption>A matrix: 2 × 3 of type dbl</caption>\n",
              "<tbody>\n",
              "\t<tr><td>1</td><td>3</td><td>5</td></tr>\n",
              "\t<tr><td>2</td><td>4</td><td>6</td></tr>\n",
              "</tbody>\n",
              "</table>\n",
              "</dd>\n",
              "</dl>\n"
            ],
            "text/markdown": "$num\n:   1. 1\n2. 2\n3. 3\n\n\n\n$letra\n:   1. 'a'\n2. 'b'\n3. 'c'\n4. 'd'\n5. 'e'\n6. 'f'\n7. 'g'\n8. 'h'\n9. 'i'\n10. 'j'\n11. 'k'\n12. 'l'\n13. 'm'\n14. 'n'\n15. 'o'\n16. 'p'\n17. 'q'\n18. 'r'\n19. 's'\n20. 't'\n21. 'u'\n22. 'v'\n23. 'w'\n24. 'x'\n25. 'y'\n26. 'z'\n\n\n\n$matriz\n:   \nA matrix: 5 × 5 of type int\n\n| 1 | 0 | 0 | 0 | 0 |\n| 0 | 2 | 0 | 0 | 0 |\n| 0 | 0 | 3 | 0 | 0 |\n| 0 | 0 | 0 | 4 | 0 |\n| 0 | 0 | 0 | 0 | 5 |\n\n\n$subl\n:   $n\n:   1\n$pl\n:   'hola'\n$v\n:   1. 1\n2. 5\n3. 8\n\n\n\n\n\n\n$nuevo\n:   \nA matrix: 2 × 3 of type dbl\n\n| 1 | 3 | 5 |\n| 2 | 4 | 6 |\n\n\n\n\n",
            "text/latex": "\\begin{description}\n\\item[\\$num] \\begin{enumerate*}\n\\item 1\n\\item 2\n\\item 3\n\\end{enumerate*}\n\n\\item[\\$letra] \\begin{enumerate*}\n\\item 'a'\n\\item 'b'\n\\item 'c'\n\\item 'd'\n\\item 'e'\n\\item 'f'\n\\item 'g'\n\\item 'h'\n\\item 'i'\n\\item 'j'\n\\item 'k'\n\\item 'l'\n\\item 'm'\n\\item 'n'\n\\item 'o'\n\\item 'p'\n\\item 'q'\n\\item 'r'\n\\item 's'\n\\item 't'\n\\item 'u'\n\\item 'v'\n\\item 'w'\n\\item 'x'\n\\item 'y'\n\\item 'z'\n\\end{enumerate*}\n\n\\item[\\$matriz] A matrix: 5 × 5 of type int\n\\begin{tabular}{lllll}\n\t 1 & 0 & 0 & 0 & 0\\\\\n\t 0 & 2 & 0 & 0 & 0\\\\\n\t 0 & 0 & 3 & 0 & 0\\\\\n\t 0 & 0 & 0 & 4 & 0\\\\\n\t 0 & 0 & 0 & 0 & 5\\\\\n\\end{tabular}\n\n\\item[\\$subl] \\begin{description}\n\\item[\\$n] 1\n\\item[\\$pl] 'hola'\n\\item[\\$v] \\begin{enumerate*}\n\\item 1\n\\item 5\n\\item 8\n\\end{enumerate*}\n\n\\end{description}\n\n\\item[\\$nuevo] A matrix: 2 × 3 of type dbl\n\\begin{tabular}{lll}\n\t 1 & 3 & 5\\\\\n\t 2 & 4 & 6\\\\\n\\end{tabular}\n\n\\end{description}\n",
            "text/plain": [
              "$num\n",
              "[1] 1 2 3\n",
              "\n",
              "$letra\n",
              " [1] \"a\" \"b\" \"c\" \"d\" \"e\" \"f\" \"g\" \"h\" \"i\" \"j\" \"k\" \"l\" \"m\" \"n\" \"o\" \"p\" \"q\" \"r\" \"s\"\n",
              "[20] \"t\" \"u\" \"v\" \"w\" \"x\" \"y\" \"z\"\n",
              "\n",
              "$matriz\n",
              "     [,1] [,2] [,3] [,4] [,5]\n",
              "[1,]    1    0    0    0    0\n",
              "[2,]    0    2    0    0    0\n",
              "[3,]    0    0    3    0    0\n",
              "[4,]    0    0    0    4    0\n",
              "[5,]    0    0    0    0    5\n",
              "\n",
              "$subl\n",
              "$subl$n\n",
              "[1] 1\n",
              "\n",
              "$subl$pl\n",
              "[1] \"hola\"\n",
              "\n",
              "$subl$v\n",
              "[1] 1 5 8\n",
              "\n",
              "\n",
              "$nuevo\n",
              "     [,1] [,2] [,3]\n",
              "[1,]    1    3    5\n",
              "[2,]    2    4    6\n"
            ]
          },
          "metadata": {}
        }
      ]
    },
    {
      "cell_type": "code",
      "source": [
        "## Indicando nombre luego de l1$... y luego asignando\n",
        "l1$otro <- rep(1,5)"
      ],
      "metadata": {
        "id": "2dx83reRSycu"
      },
      "execution_count": 45,
      "outputs": []
    },
    {
      "cell_type": "code",
      "source": [
        "l1"
      ],
      "metadata": {
        "id": "aOkcVCOcTRwT",
        "outputId": "71bf0796-deb7-42c0-fb22-d4893129b6fa",
        "colab": {
          "base_uri": "https://localhost:8080/",
          "height": 640
        }
      },
      "execution_count": 46,
      "outputs": [
        {
          "output_type": "display_data",
          "data": {
            "text/html": [
              "<dl>\n",
              "\t<dt>$num</dt>\n",
              "\t\t<dd><style>\n",
              ".list-inline {list-style: none; margin:0; padding: 0}\n",
              ".list-inline>li {display: inline-block}\n",
              ".list-inline>li:not(:last-child)::after {content: \"\\00b7\"; padding: 0 .5ex}\n",
              "</style>\n",
              "<ol class=list-inline><li>1</li><li>2</li><li>3</li></ol>\n",
              "</dd>\n",
              "\t<dt>$letra</dt>\n",
              "\t\t<dd><style>\n",
              ".list-inline {list-style: none; margin:0; padding: 0}\n",
              ".list-inline>li {display: inline-block}\n",
              ".list-inline>li:not(:last-child)::after {content: \"\\00b7\"; padding: 0 .5ex}\n",
              "</style>\n",
              "<ol class=list-inline><li>'a'</li><li>'b'</li><li>'c'</li><li>'d'</li><li>'e'</li><li>'f'</li><li>'g'</li><li>'h'</li><li>'i'</li><li>'j'</li><li>'k'</li><li>'l'</li><li>'m'</li><li>'n'</li><li>'o'</li><li>'p'</li><li>'q'</li><li>'r'</li><li>'s'</li><li>'t'</li><li>'u'</li><li>'v'</li><li>'w'</li><li>'x'</li><li>'y'</li><li>'z'</li></ol>\n",
              "</dd>\n",
              "\t<dt>$matriz</dt>\n",
              "\t\t<dd><table class=\"dataframe\">\n",
              "<caption>A matrix: 5 × 5 of type int</caption>\n",
              "<tbody>\n",
              "\t<tr><td>1</td><td>0</td><td>0</td><td>0</td><td>0</td></tr>\n",
              "\t<tr><td>0</td><td>2</td><td>0</td><td>0</td><td>0</td></tr>\n",
              "\t<tr><td>0</td><td>0</td><td>3</td><td>0</td><td>0</td></tr>\n",
              "\t<tr><td>0</td><td>0</td><td>0</td><td>4</td><td>0</td></tr>\n",
              "\t<tr><td>0</td><td>0</td><td>0</td><td>0</td><td>5</td></tr>\n",
              "</tbody>\n",
              "</table>\n",
              "</dd>\n",
              "\t<dt>$subl</dt>\n",
              "\t\t<dd><dl>\n",
              "\t<dt>$n</dt>\n",
              "\t\t<dd>1</dd>\n",
              "\t<dt>$pl</dt>\n",
              "\t\t<dd>'hola'</dd>\n",
              "\t<dt>$v</dt>\n",
              "\t\t<dd><style>\n",
              ".list-inline {list-style: none; margin:0; padding: 0}\n",
              ".list-inline>li {display: inline-block}\n",
              ".list-inline>li:not(:last-child)::after {content: \"\\00b7\"; padding: 0 .5ex}\n",
              "</style>\n",
              "<ol class=list-inline><li>1</li><li>5</li><li>8</li></ol>\n",
              "</dd>\n",
              "</dl>\n",
              "</dd>\n",
              "\t<dt>$nuevo</dt>\n",
              "\t\t<dd><table class=\"dataframe\">\n",
              "<caption>A matrix: 2 × 3 of type dbl</caption>\n",
              "<tbody>\n",
              "\t<tr><td>1</td><td>3</td><td>5</td></tr>\n",
              "\t<tr><td>2</td><td>4</td><td>6</td></tr>\n",
              "</tbody>\n",
              "</table>\n",
              "</dd>\n",
              "\t<dt>$otro</dt>\n",
              "\t\t<dd><style>\n",
              ".list-inline {list-style: none; margin:0; padding: 0}\n",
              ".list-inline>li {display: inline-block}\n",
              ".list-inline>li:not(:last-child)::after {content: \"\\00b7\"; padding: 0 .5ex}\n",
              "</style>\n",
              "<ol class=list-inline><li>1</li><li>1</li><li>1</li><li>1</li><li>1</li></ol>\n",
              "</dd>\n",
              "</dl>\n"
            ],
            "text/markdown": "$num\n:   1. 1\n2. 2\n3. 3\n\n\n\n$letra\n:   1. 'a'\n2. 'b'\n3. 'c'\n4. 'd'\n5. 'e'\n6. 'f'\n7. 'g'\n8. 'h'\n9. 'i'\n10. 'j'\n11. 'k'\n12. 'l'\n13. 'm'\n14. 'n'\n15. 'o'\n16. 'p'\n17. 'q'\n18. 'r'\n19. 's'\n20. 't'\n21. 'u'\n22. 'v'\n23. 'w'\n24. 'x'\n25. 'y'\n26. 'z'\n\n\n\n$matriz\n:   \nA matrix: 5 × 5 of type int\n\n| 1 | 0 | 0 | 0 | 0 |\n| 0 | 2 | 0 | 0 | 0 |\n| 0 | 0 | 3 | 0 | 0 |\n| 0 | 0 | 0 | 4 | 0 |\n| 0 | 0 | 0 | 0 | 5 |\n\n\n$subl\n:   $n\n:   1\n$pl\n:   'hola'\n$v\n:   1. 1\n2. 5\n3. 8\n\n\n\n\n\n\n$nuevo\n:   \nA matrix: 2 × 3 of type dbl\n\n| 1 | 3 | 5 |\n| 2 | 4 | 6 |\n\n\n$otro\n:   1. 1\n2. 1\n3. 1\n4. 1\n5. 1\n\n\n\n\n\n",
            "text/latex": "\\begin{description}\n\\item[\\$num] \\begin{enumerate*}\n\\item 1\n\\item 2\n\\item 3\n\\end{enumerate*}\n\n\\item[\\$letra] \\begin{enumerate*}\n\\item 'a'\n\\item 'b'\n\\item 'c'\n\\item 'd'\n\\item 'e'\n\\item 'f'\n\\item 'g'\n\\item 'h'\n\\item 'i'\n\\item 'j'\n\\item 'k'\n\\item 'l'\n\\item 'm'\n\\item 'n'\n\\item 'o'\n\\item 'p'\n\\item 'q'\n\\item 'r'\n\\item 's'\n\\item 't'\n\\item 'u'\n\\item 'v'\n\\item 'w'\n\\item 'x'\n\\item 'y'\n\\item 'z'\n\\end{enumerate*}\n\n\\item[\\$matriz] A matrix: 5 × 5 of type int\n\\begin{tabular}{lllll}\n\t 1 & 0 & 0 & 0 & 0\\\\\n\t 0 & 2 & 0 & 0 & 0\\\\\n\t 0 & 0 & 3 & 0 & 0\\\\\n\t 0 & 0 & 0 & 4 & 0\\\\\n\t 0 & 0 & 0 & 0 & 5\\\\\n\\end{tabular}\n\n\\item[\\$subl] \\begin{description}\n\\item[\\$n] 1\n\\item[\\$pl] 'hola'\n\\item[\\$v] \\begin{enumerate*}\n\\item 1\n\\item 5\n\\item 8\n\\end{enumerate*}\n\n\\end{description}\n\n\\item[\\$nuevo] A matrix: 2 × 3 of type dbl\n\\begin{tabular}{lll}\n\t 1 & 3 & 5\\\\\n\t 2 & 4 & 6\\\\\n\\end{tabular}\n\n\\item[\\$otro] \\begin{enumerate*}\n\\item 1\n\\item 1\n\\item 1\n\\item 1\n\\item 1\n\\end{enumerate*}\n\n\\end{description}\n",
            "text/plain": [
              "$num\n",
              "[1] 1 2 3\n",
              "\n",
              "$letra\n",
              " [1] \"a\" \"b\" \"c\" \"d\" \"e\" \"f\" \"g\" \"h\" \"i\" \"j\" \"k\" \"l\" \"m\" \"n\" \"o\" \"p\" \"q\" \"r\" \"s\"\n",
              "[20] \"t\" \"u\" \"v\" \"w\" \"x\" \"y\" \"z\"\n",
              "\n",
              "$matriz\n",
              "     [,1] [,2] [,3] [,4] [,5]\n",
              "[1,]    1    0    0    0    0\n",
              "[2,]    0    2    0    0    0\n",
              "[3,]    0    0    3    0    0\n",
              "[4,]    0    0    0    4    0\n",
              "[5,]    0    0    0    0    5\n",
              "\n",
              "$subl\n",
              "$subl$n\n",
              "[1] 1\n",
              "\n",
              "$subl$pl\n",
              "[1] \"hola\"\n",
              "\n",
              "$subl$v\n",
              "[1] 1 5 8\n",
              "\n",
              "\n",
              "$nuevo\n",
              "     [,1] [,2] [,3]\n",
              "[1,]    1    3    5\n",
              "[2,]    2    4    6\n",
              "\n",
              "$otro\n",
              "[1] 1 1 1 1 1\n"
            ]
          },
          "metadata": {}
        }
      ]
    },
    {
      "cell_type": "code",
      "metadata": {
        "trusted": true,
        "id": "rBB4hT9RTpSQ"
      },
      "source": [
        "# podemos modificar elementos dentro de un slot\n",
        "#cambiar el tercer elmento del vector \"otro\" por un 6.\n",
        "\n",
        "l1$otro[3] <- 6"
      ],
      "execution_count": 48,
      "outputs": []
    },
    {
      "cell_type": "code",
      "source": [
        "l1"
      ],
      "metadata": {
        "id": "n1_hgb6mToze",
        "outputId": "c73aa969-18d5-42ad-b8f1-789272e8bff5",
        "colab": {
          "base_uri": "https://localhost:8080/",
          "height": 640
        }
      },
      "execution_count": 49,
      "outputs": [
        {
          "output_type": "display_data",
          "data": {
            "text/html": [
              "<dl>\n",
              "\t<dt>$num</dt>\n",
              "\t\t<dd><style>\n",
              ".list-inline {list-style: none; margin:0; padding: 0}\n",
              ".list-inline>li {display: inline-block}\n",
              ".list-inline>li:not(:last-child)::after {content: \"\\00b7\"; padding: 0 .5ex}\n",
              "</style>\n",
              "<ol class=list-inline><li>1</li><li>2</li><li>3</li></ol>\n",
              "</dd>\n",
              "\t<dt>$letra</dt>\n",
              "\t\t<dd><style>\n",
              ".list-inline {list-style: none; margin:0; padding: 0}\n",
              ".list-inline>li {display: inline-block}\n",
              ".list-inline>li:not(:last-child)::after {content: \"\\00b7\"; padding: 0 .5ex}\n",
              "</style>\n",
              "<ol class=list-inline><li>'a'</li><li>'b'</li><li>'c'</li><li>'d'</li><li>'e'</li><li>'f'</li><li>'g'</li><li>'h'</li><li>'i'</li><li>'j'</li><li>'k'</li><li>'l'</li><li>'m'</li><li>'n'</li><li>'o'</li><li>'p'</li><li>'q'</li><li>'r'</li><li>'s'</li><li>'t'</li><li>'u'</li><li>'v'</li><li>'w'</li><li>'x'</li><li>'y'</li><li>'z'</li></ol>\n",
              "</dd>\n",
              "\t<dt>$matriz</dt>\n",
              "\t\t<dd><table class=\"dataframe\">\n",
              "<caption>A matrix: 5 × 5 of type int</caption>\n",
              "<tbody>\n",
              "\t<tr><td>1</td><td>0</td><td>0</td><td>0</td><td>0</td></tr>\n",
              "\t<tr><td>0</td><td>2</td><td>0</td><td>0</td><td>0</td></tr>\n",
              "\t<tr><td>0</td><td>0</td><td>3</td><td>0</td><td>0</td></tr>\n",
              "\t<tr><td>0</td><td>0</td><td>0</td><td>4</td><td>0</td></tr>\n",
              "\t<tr><td>0</td><td>0</td><td>0</td><td>0</td><td>5</td></tr>\n",
              "</tbody>\n",
              "</table>\n",
              "</dd>\n",
              "\t<dt>$subl</dt>\n",
              "\t\t<dd><dl>\n",
              "\t<dt>$n</dt>\n",
              "\t\t<dd>1</dd>\n",
              "\t<dt>$pl</dt>\n",
              "\t\t<dd>'hola'</dd>\n",
              "\t<dt>$v</dt>\n",
              "\t\t<dd><style>\n",
              ".list-inline {list-style: none; margin:0; padding: 0}\n",
              ".list-inline>li {display: inline-block}\n",
              ".list-inline>li:not(:last-child)::after {content: \"\\00b7\"; padding: 0 .5ex}\n",
              "</style>\n",
              "<ol class=list-inline><li>1</li><li>5</li><li>8</li></ol>\n",
              "</dd>\n",
              "</dl>\n",
              "</dd>\n",
              "\t<dt>$nuevo</dt>\n",
              "\t\t<dd><table class=\"dataframe\">\n",
              "<caption>A matrix: 2 × 3 of type dbl</caption>\n",
              "<tbody>\n",
              "\t<tr><td>1</td><td>3</td><td>5</td></tr>\n",
              "\t<tr><td>2</td><td>4</td><td>6</td></tr>\n",
              "</tbody>\n",
              "</table>\n",
              "</dd>\n",
              "\t<dt>$otro</dt>\n",
              "\t\t<dd><style>\n",
              ".list-inline {list-style: none; margin:0; padding: 0}\n",
              ".list-inline>li {display: inline-block}\n",
              ".list-inline>li:not(:last-child)::after {content: \"\\00b7\"; padding: 0 .5ex}\n",
              "</style>\n",
              "<ol class=list-inline><li>1</li><li>1</li><li>6</li><li>1</li><li>1</li></ol>\n",
              "</dd>\n",
              "</dl>\n"
            ],
            "text/markdown": "$num\n:   1. 1\n2. 2\n3. 3\n\n\n\n$letra\n:   1. 'a'\n2. 'b'\n3. 'c'\n4. 'd'\n5. 'e'\n6. 'f'\n7. 'g'\n8. 'h'\n9. 'i'\n10. 'j'\n11. 'k'\n12. 'l'\n13. 'm'\n14. 'n'\n15. 'o'\n16. 'p'\n17. 'q'\n18. 'r'\n19. 's'\n20. 't'\n21. 'u'\n22. 'v'\n23. 'w'\n24. 'x'\n25. 'y'\n26. 'z'\n\n\n\n$matriz\n:   \nA matrix: 5 × 5 of type int\n\n| 1 | 0 | 0 | 0 | 0 |\n| 0 | 2 | 0 | 0 | 0 |\n| 0 | 0 | 3 | 0 | 0 |\n| 0 | 0 | 0 | 4 | 0 |\n| 0 | 0 | 0 | 0 | 5 |\n\n\n$subl\n:   $n\n:   1\n$pl\n:   'hola'\n$v\n:   1. 1\n2. 5\n3. 8\n\n\n\n\n\n\n$nuevo\n:   \nA matrix: 2 × 3 of type dbl\n\n| 1 | 3 | 5 |\n| 2 | 4 | 6 |\n\n\n$otro\n:   1. 1\n2. 1\n3. 6\n4. 1\n5. 1\n\n\n\n\n\n",
            "text/latex": "\\begin{description}\n\\item[\\$num] \\begin{enumerate*}\n\\item 1\n\\item 2\n\\item 3\n\\end{enumerate*}\n\n\\item[\\$letra] \\begin{enumerate*}\n\\item 'a'\n\\item 'b'\n\\item 'c'\n\\item 'd'\n\\item 'e'\n\\item 'f'\n\\item 'g'\n\\item 'h'\n\\item 'i'\n\\item 'j'\n\\item 'k'\n\\item 'l'\n\\item 'm'\n\\item 'n'\n\\item 'o'\n\\item 'p'\n\\item 'q'\n\\item 'r'\n\\item 's'\n\\item 't'\n\\item 'u'\n\\item 'v'\n\\item 'w'\n\\item 'x'\n\\item 'y'\n\\item 'z'\n\\end{enumerate*}\n\n\\item[\\$matriz] A matrix: 5 × 5 of type int\n\\begin{tabular}{lllll}\n\t 1 & 0 & 0 & 0 & 0\\\\\n\t 0 & 2 & 0 & 0 & 0\\\\\n\t 0 & 0 & 3 & 0 & 0\\\\\n\t 0 & 0 & 0 & 4 & 0\\\\\n\t 0 & 0 & 0 & 0 & 5\\\\\n\\end{tabular}\n\n\\item[\\$subl] \\begin{description}\n\\item[\\$n] 1\n\\item[\\$pl] 'hola'\n\\item[\\$v] \\begin{enumerate*}\n\\item 1\n\\item 5\n\\item 8\n\\end{enumerate*}\n\n\\end{description}\n\n\\item[\\$nuevo] A matrix: 2 × 3 of type dbl\n\\begin{tabular}{lll}\n\t 1 & 3 & 5\\\\\n\t 2 & 4 & 6\\\\\n\\end{tabular}\n\n\\item[\\$otro] \\begin{enumerate*}\n\\item 1\n\\item 1\n\\item 6\n\\item 1\n\\item 1\n\\end{enumerate*}\n\n\\end{description}\n",
            "text/plain": [
              "$num\n",
              "[1] 1 2 3\n",
              "\n",
              "$letra\n",
              " [1] \"a\" \"b\" \"c\" \"d\" \"e\" \"f\" \"g\" \"h\" \"i\" \"j\" \"k\" \"l\" \"m\" \"n\" \"o\" \"p\" \"q\" \"r\" \"s\"\n",
              "[20] \"t\" \"u\" \"v\" \"w\" \"x\" \"y\" \"z\"\n",
              "\n",
              "$matriz\n",
              "     [,1] [,2] [,3] [,4] [,5]\n",
              "[1,]    1    0    0    0    0\n",
              "[2,]    0    2    0    0    0\n",
              "[3,]    0    0    3    0    0\n",
              "[4,]    0    0    0    4    0\n",
              "[5,]    0    0    0    0    5\n",
              "\n",
              "$subl\n",
              "$subl$n\n",
              "[1] 1\n",
              "\n",
              "$subl$pl\n",
              "[1] \"hola\"\n",
              "\n",
              "$subl$v\n",
              "[1] 1 5 8\n",
              "\n",
              "\n",
              "$nuevo\n",
              "     [,1] [,2] [,3]\n",
              "[1,]    1    3    5\n",
              "[2,]    2    4    6\n",
              "\n",
              "$otro\n",
              "[1] 1 1 6 1 1\n"
            ]
          },
          "metadata": {}
        }
      ]
    },
    {
      "cell_type": "markdown",
      "metadata": {
        "id": "128wI4ZoTpSS"
      },
      "source": [
        "### 5.2 Dataframes\n",
        "\n",
        "Un dataframe es un caso particular de una lista, donde los objetos de cada entrada corresponden a vectores de datos del mismo largo. E este caso cada vector corresponde a una columna del data.frame, mientras que la cantidad de filas corresponde al largo común de los vectores de cada entrada. El objeto resultante es una *tabla*, de ahora en adelante *data.frame*, cuyas columnas poseen distintos tipos de datos entre sí.\n",
        "\n",
        " * ¿Cómo se declara un dataframe?<br>\n",
        "     Mediante la función data.frame(), indicando los vectores que conformarán las columnas.\n",
        "\n",
        " * ¿Cómo se accede a los datos de un data.frame?<br>\n",
        "    Al ser una lista, se puede acceder de la misma manera. Sin embargo también es posible acceder del modo en que se accede a los elementos de una matriz."
      ]
    },
    {
      "cell_type": "code",
      "metadata": {
        "trusted": true,
        "id": "qJ-2zVWVTpST"
      },
      "source": [
        "# 5.2 Dataframes ----------\n",
        "# Ejemplo sencillo de definición de un data.frame\n",
        "# recordar que 1:3 es lo mismo que c(1,2,3)\n",
        "\n",
        "df <- data.frame(edad = c(25,30,28,35),\n",
        "                 nombre = c(\"Miguel\", \"Danny\", \"Eduardo\", \"Kalliba\"),\n",
        "                 rut = c(1,6,3,10))"
      ],
      "execution_count": 50,
      "outputs": []
    },
    {
      "cell_type": "code",
      "source": [
        "df"
      ],
      "metadata": {
        "id": "--0_pMqKWLRG",
        "outputId": "6f4f2e67-e47c-4697-d93c-c4ae36469c25",
        "colab": {
          "base_uri": "https://localhost:8080/",
          "height": 223
        }
      },
      "execution_count": 51,
      "outputs": [
        {
          "output_type": "display_data",
          "data": {
            "text/html": [
              "<table class=\"dataframe\">\n",
              "<caption>A data.frame: 4 × 3</caption>\n",
              "<thead>\n",
              "\t<tr><th scope=col>edad</th><th scope=col>nombre</th><th scope=col>rut</th></tr>\n",
              "\t<tr><th scope=col>&lt;dbl&gt;</th><th scope=col>&lt;chr&gt;</th><th scope=col>&lt;dbl&gt;</th></tr>\n",
              "</thead>\n",
              "<tbody>\n",
              "\t<tr><td>25</td><td>Miguel </td><td> 1</td></tr>\n",
              "\t<tr><td>30</td><td>Danny  </td><td> 6</td></tr>\n",
              "\t<tr><td>28</td><td>Eduardo</td><td> 3</td></tr>\n",
              "\t<tr><td>35</td><td>Kalliba</td><td>10</td></tr>\n",
              "</tbody>\n",
              "</table>\n"
            ],
            "text/markdown": "\nA data.frame: 4 × 3\n\n| edad &lt;dbl&gt; | nombre &lt;chr&gt; | rut &lt;dbl&gt; |\n|---|---|---|\n| 25 | Miguel  |  1 |\n| 30 | Danny   |  6 |\n| 28 | Eduardo |  3 |\n| 35 | Kalliba | 10 |\n\n",
            "text/latex": "A data.frame: 4 × 3\n\\begin{tabular}{lll}\n edad & nombre & rut\\\\\n <dbl> & <chr> & <dbl>\\\\\n\\hline\n\t 25 & Miguel  &  1\\\\\n\t 30 & Danny   &  6\\\\\n\t 28 & Eduardo &  3\\\\\n\t 35 & Kalliba & 10\\\\\n\\end{tabular}\n",
            "text/plain": [
              "  edad nombre  rut\n",
              "1 25   Miguel   1 \n",
              "2 30   Danny    6 \n",
              "3 28   Eduardo  3 \n",
              "4 35   Kalliba 10 "
            ]
          },
          "metadata": {}
        }
      ]
    },
    {
      "cell_type": "code",
      "source": [
        "class(df)"
      ],
      "metadata": {
        "id": "2bl0jIDUWpf6",
        "outputId": "576c78e4-bc06-431e-ea02-529fac1519c3",
        "colab": {
          "base_uri": "https://localhost:8080/",
          "height": 34
        }
      },
      "execution_count": 52,
      "outputs": [
        {
          "output_type": "display_data",
          "data": {
            "text/html": [
              "'data.frame'"
            ],
            "text/markdown": "'data.frame'",
            "text/latex": "'data.frame'",
            "text/plain": [
              "[1] \"data.frame\""
            ]
          },
          "metadata": {}
        }
      ]
    },
    {
      "cell_type": "code",
      "source": [
        "dim(df)"
      ],
      "metadata": {
        "id": "CaG8-DMoWsbj",
        "outputId": "425ab5c6-5d4a-4406-995c-56fb36b5a527",
        "colab": {
          "base_uri": "https://localhost:8080/",
          "height": 34
        }
      },
      "execution_count": 53,
      "outputs": [
        {
          "output_type": "display_data",
          "data": {
            "text/html": [
              "<style>\n",
              ".list-inline {list-style: none; margin:0; padding: 0}\n",
              ".list-inline>li {display: inline-block}\n",
              ".list-inline>li:not(:last-child)::after {content: \"\\00b7\"; padding: 0 .5ex}\n",
              "</style>\n",
              "<ol class=list-inline><li>4</li><li>3</li></ol>\n"
            ],
            "text/markdown": "1. 4\n2. 3\n\n\n",
            "text/latex": "\\begin{enumerate*}\n\\item 4\n\\item 3\n\\end{enumerate*}\n",
            "text/plain": [
              "[1] 4 3"
            ]
          },
          "metadata": {}
        }
      ]
    },
    {
      "cell_type": "code",
      "metadata": {
        "trusted": true,
        "id": "nv7stC8ITpSY",
        "outputId": "c8997be7-6fa5-4965-975e-57ef679f7eba",
        "colab": {
          "base_uri": "https://localhost:8080/",
          "height": 69
        }
      },
      "source": [
        "# Acceso a columnas de un data.frame\n",
        "## Igual que en una lista\n",
        "df$nombre\n",
        "df[[2]]\n",
        "df[[\"nombre\"]]\n"
      ],
      "execution_count": 55,
      "outputs": [
        {
          "output_type": "display_data",
          "data": {
            "text/html": [
              "<style>\n",
              ".list-inline {list-style: none; margin:0; padding: 0}\n",
              ".list-inline>li {display: inline-block}\n",
              ".list-inline>li:not(:last-child)::after {content: \"\\00b7\"; padding: 0 .5ex}\n",
              "</style>\n",
              "<ol class=list-inline><li>'Miguel'</li><li>'Danny'</li><li>'Eduardo'</li><li>'Kalliba'</li></ol>\n"
            ],
            "text/markdown": "1. 'Miguel'\n2. 'Danny'\n3. 'Eduardo'\n4. 'Kalliba'\n\n\n",
            "text/latex": "\\begin{enumerate*}\n\\item 'Miguel'\n\\item 'Danny'\n\\item 'Eduardo'\n\\item 'Kalliba'\n\\end{enumerate*}\n",
            "text/plain": [
              "[1] \"Miguel\"  \"Danny\"   \"Eduardo\" \"Kalliba\""
            ]
          },
          "metadata": {}
        },
        {
          "output_type": "display_data",
          "data": {
            "text/html": [
              "<style>\n",
              ".list-inline {list-style: none; margin:0; padding: 0}\n",
              ".list-inline>li {display: inline-block}\n",
              ".list-inline>li:not(:last-child)::after {content: \"\\00b7\"; padding: 0 .5ex}\n",
              "</style>\n",
              "<ol class=list-inline><li>'Miguel'</li><li>'Danny'</li><li>'Eduardo'</li><li>'Kalliba'</li></ol>\n"
            ],
            "text/markdown": "1. 'Miguel'\n2. 'Danny'\n3. 'Eduardo'\n4. 'Kalliba'\n\n\n",
            "text/latex": "\\begin{enumerate*}\n\\item 'Miguel'\n\\item 'Danny'\n\\item 'Eduardo'\n\\item 'Kalliba'\n\\end{enumerate*}\n",
            "text/plain": [
              "[1] \"Miguel\"  \"Danny\"   \"Eduardo\" \"Kalliba\""
            ]
          },
          "metadata": {}
        },
        {
          "output_type": "display_data",
          "data": {
            "text/html": [
              "<style>\n",
              ".list-inline {list-style: none; margin:0; padding: 0}\n",
              ".list-inline>li {display: inline-block}\n",
              ".list-inline>li:not(:last-child)::after {content: \"\\00b7\"; padding: 0 .5ex}\n",
              "</style>\n",
              "<ol class=list-inline><li>'Miguel'</li><li>'Danny'</li><li>'Eduardo'</li><li>'Kalliba'</li></ol>\n"
            ],
            "text/markdown": "1. 'Miguel'\n2. 'Danny'\n3. 'Eduardo'\n4. 'Kalliba'\n\n\n",
            "text/latex": "\\begin{enumerate*}\n\\item 'Miguel'\n\\item 'Danny'\n\\item 'Eduardo'\n\\item 'Kalliba'\n\\end{enumerate*}\n",
            "text/plain": [
              "[1] \"Miguel\"  \"Danny\"   \"Eduardo\" \"Kalliba\""
            ]
          },
          "metadata": {}
        }
      ]
    },
    {
      "cell_type": "code",
      "metadata": {
        "trusted": true,
        "id": "CojdmEs9TpSd",
        "outputId": "778f6057-3dd9-4c1e-f7ab-384875c6025a",
        "colab": {
          "base_uri": "https://localhost:8080/",
          "height": 146
        }
      },
      "source": [
        "##  Ganamos acceso como matriz\n",
        "# segunda fila de df\n",
        "df[2,]\n",
        "\n",
        "# segunda columna y segunda fila\n",
        "df[2,2]\n",
        "\n"
      ],
      "execution_count": 57,
      "outputs": [
        {
          "output_type": "display_data",
          "data": {
            "text/html": [
              "<table class=\"dataframe\">\n",
              "<caption>A data.frame: 1 × 3</caption>\n",
              "<thead>\n",
              "\t<tr><th></th><th scope=col>edad</th><th scope=col>nombre</th><th scope=col>rut</th></tr>\n",
              "\t<tr><th></th><th scope=col>&lt;dbl&gt;</th><th scope=col>&lt;chr&gt;</th><th scope=col>&lt;dbl&gt;</th></tr>\n",
              "</thead>\n",
              "<tbody>\n",
              "\t<tr><th scope=row>2</th><td>30</td><td>Danny</td><td>6</td></tr>\n",
              "</tbody>\n",
              "</table>\n"
            ],
            "text/markdown": "\nA data.frame: 1 × 3\n\n| <!--/--> | edad &lt;dbl&gt; | nombre &lt;chr&gt; | rut &lt;dbl&gt; |\n|---|---|---|---|\n| 2 | 30 | Danny | 6 |\n\n",
            "text/latex": "A data.frame: 1 × 3\n\\begin{tabular}{r|lll}\n  & edad & nombre & rut\\\\\n  & <dbl> & <chr> & <dbl>\\\\\n\\hline\n\t2 & 30 & Danny & 6\\\\\n\\end{tabular}\n",
            "text/plain": [
              "  edad nombre rut\n",
              "2 30   Danny  6  "
            ]
          },
          "metadata": {}
        },
        {
          "output_type": "display_data",
          "data": {
            "text/html": [
              "'Danny'"
            ],
            "text/markdown": "'Danny'",
            "text/latex": "'Danny'",
            "text/plain": [
              "[1] \"Danny\""
            ]
          },
          "metadata": {}
        }
      ]
    },
    {
      "cell_type": "code",
      "source": [
        "df[2,\"nombre\"]"
      ],
      "metadata": {
        "id": "X45RCnLgXNcl",
        "outputId": "d482dd05-4434-4acf-f92c-9547d5ca7de1",
        "colab": {
          "base_uri": "https://localhost:8080/",
          "height": 34
        }
      },
      "execution_count": 58,
      "outputs": [
        {
          "output_type": "display_data",
          "data": {
            "text/html": [
              "'Danny'"
            ],
            "text/markdown": "'Danny'",
            "text/latex": "'Danny'",
            "text/plain": [
              "[1] \"Danny\""
            ]
          },
          "metadata": {}
        }
      ]
    },
    {
      "cell_type": "code",
      "source": [
        "df"
      ],
      "metadata": {
        "id": "O3a77MvTXWI4",
        "outputId": "6daf7c8c-6ba6-4c83-a48d-80593bb0de3b",
        "colab": {
          "base_uri": "https://localhost:8080/",
          "height": 223
        }
      },
      "execution_count": 59,
      "outputs": [
        {
          "output_type": "display_data",
          "data": {
            "text/html": [
              "<table class=\"dataframe\">\n",
              "<caption>A data.frame: 4 × 3</caption>\n",
              "<thead>\n",
              "\t<tr><th scope=col>edad</th><th scope=col>nombre</th><th scope=col>rut</th></tr>\n",
              "\t<tr><th scope=col>&lt;dbl&gt;</th><th scope=col>&lt;chr&gt;</th><th scope=col>&lt;dbl&gt;</th></tr>\n",
              "</thead>\n",
              "<tbody>\n",
              "\t<tr><td>25</td><td>Miguel </td><td> 1</td></tr>\n",
              "\t<tr><td>30</td><td>Danny  </td><td> 6</td></tr>\n",
              "\t<tr><td>28</td><td>Eduardo</td><td> 3</td></tr>\n",
              "\t<tr><td>35</td><td>Kalliba</td><td>10</td></tr>\n",
              "</tbody>\n",
              "</table>\n"
            ],
            "text/markdown": "\nA data.frame: 4 × 3\n\n| edad &lt;dbl&gt; | nombre &lt;chr&gt; | rut &lt;dbl&gt; |\n|---|---|---|\n| 25 | Miguel  |  1 |\n| 30 | Danny   |  6 |\n| 28 | Eduardo |  3 |\n| 35 | Kalliba | 10 |\n\n",
            "text/latex": "A data.frame: 4 × 3\n\\begin{tabular}{lll}\n edad & nombre & rut\\\\\n <dbl> & <chr> & <dbl>\\\\\n\\hline\n\t 25 & Miguel  &  1\\\\\n\t 30 & Danny   &  6\\\\\n\t 28 & Eduardo &  3\\\\\n\t 35 & Kalliba & 10\\\\\n\\end{tabular}\n",
            "text/plain": [
              "  edad nombre  rut\n",
              "1 25   Miguel   1 \n",
              "2 30   Danny    6 \n",
              "3 28   Eduardo  3 \n",
              "4 35   Kalliba 10 "
            ]
          },
          "metadata": {}
        }
      ]
    },
    {
      "cell_type": "code",
      "source": [
        "# Rescatar todas las filas donde la edad sea mayor o igual a 30\n",
        "df[df$edad >= 30,]"
      ],
      "metadata": {
        "id": "PGDshnPpXcHV",
        "outputId": "8e409685-6eb6-4ed4-d0bd-5542f9338d51",
        "colab": {
          "base_uri": "https://localhost:8080/",
          "height": 160
        }
      },
      "execution_count": 61,
      "outputs": [
        {
          "output_type": "display_data",
          "data": {
            "text/html": [
              "<table class=\"dataframe\">\n",
              "<caption>A data.frame: 2 × 3</caption>\n",
              "<thead>\n",
              "\t<tr><th></th><th scope=col>edad</th><th scope=col>nombre</th><th scope=col>rut</th></tr>\n",
              "\t<tr><th></th><th scope=col>&lt;dbl&gt;</th><th scope=col>&lt;chr&gt;</th><th scope=col>&lt;dbl&gt;</th></tr>\n",
              "</thead>\n",
              "<tbody>\n",
              "\t<tr><th scope=row>2</th><td>30</td><td>Danny  </td><td> 6</td></tr>\n",
              "\t<tr><th scope=row>4</th><td>35</td><td>Kalliba</td><td>10</td></tr>\n",
              "</tbody>\n",
              "</table>\n"
            ],
            "text/markdown": "\nA data.frame: 2 × 3\n\n| <!--/--> | edad &lt;dbl&gt; | nombre &lt;chr&gt; | rut &lt;dbl&gt; |\n|---|---|---|---|\n| 2 | 30 | Danny   |  6 |\n| 4 | 35 | Kalliba | 10 |\n\n",
            "text/latex": "A data.frame: 2 × 3\n\\begin{tabular}{r|lll}\n  & edad & nombre & rut\\\\\n  & <dbl> & <chr> & <dbl>\\\\\n\\hline\n\t2 & 30 & Danny   &  6\\\\\n\t4 & 35 & Kalliba & 10\\\\\n\\end{tabular}\n",
            "text/plain": [
              "  edad nombre  rut\n",
              "2 30   Danny    6 \n",
              "4 35   Kalliba 10 "
            ]
          },
          "metadata": {}
        }
      ]
    },
    {
      "cell_type": "code",
      "source": [
        "df[df$edad >= 30, c(\"edad\",\"rut\")]"
      ],
      "metadata": {
        "id": "YnXslW3BYhB5",
        "outputId": "2a9e6a19-db93-41cf-a265-1eb910e50aa2",
        "colab": {
          "base_uri": "https://localhost:8080/",
          "height": 160
        }
      },
      "execution_count": 62,
      "outputs": [
        {
          "output_type": "display_data",
          "data": {
            "text/html": [
              "<table class=\"dataframe\">\n",
              "<caption>A data.frame: 2 × 2</caption>\n",
              "<thead>\n",
              "\t<tr><th></th><th scope=col>edad</th><th scope=col>rut</th></tr>\n",
              "\t<tr><th></th><th scope=col>&lt;dbl&gt;</th><th scope=col>&lt;dbl&gt;</th></tr>\n",
              "</thead>\n",
              "<tbody>\n",
              "\t<tr><th scope=row>2</th><td>30</td><td> 6</td></tr>\n",
              "\t<tr><th scope=row>4</th><td>35</td><td>10</td></tr>\n",
              "</tbody>\n",
              "</table>\n"
            ],
            "text/markdown": "\nA data.frame: 2 × 2\n\n| <!--/--> | edad &lt;dbl&gt; | rut &lt;dbl&gt; |\n|---|---|---|\n| 2 | 30 |  6 |\n| 4 | 35 | 10 |\n\n",
            "text/latex": "A data.frame: 2 × 2\n\\begin{tabular}{r|ll}\n  & edad & rut\\\\\n  & <dbl> & <dbl>\\\\\n\\hline\n\t2 & 30 &  6\\\\\n\t4 & 35 & 10\\\\\n\\end{tabular}\n",
            "text/plain": [
              "  edad rut\n",
              "2 30    6 \n",
              "4 35   10 "
            ]
          },
          "metadata": {}
        }
      ]
    },
    {
      "cell_type": "code",
      "metadata": {
        "trusted": true,
        "id": "FgD5Q8hFTpSf"
      },
      "source": [
        "#Podemos crear nuevas columnas , del mismmo modo que creamos \"slots\" en una lista\n",
        "df$tiene_ct <- c(T,F,F,T)"
      ],
      "execution_count": 64,
      "outputs": []
    },
    {
      "cell_type": "code",
      "source": [
        "df"
      ],
      "metadata": {
        "id": "m3__s13EY1_e",
        "outputId": "7b5323f6-bef0-4f71-f654-4b8dcbcb4190",
        "colab": {
          "base_uri": "https://localhost:8080/",
          "height": 223
        }
      },
      "execution_count": 65,
      "outputs": [
        {
          "output_type": "display_data",
          "data": {
            "text/html": [
              "<table class=\"dataframe\">\n",
              "<caption>A data.frame: 4 × 4</caption>\n",
              "<thead>\n",
              "\t<tr><th scope=col>edad</th><th scope=col>nombre</th><th scope=col>rut</th><th scope=col>tiene_ct</th></tr>\n",
              "\t<tr><th scope=col>&lt;dbl&gt;</th><th scope=col>&lt;chr&gt;</th><th scope=col>&lt;dbl&gt;</th><th scope=col>&lt;lgl&gt;</th></tr>\n",
              "</thead>\n",
              "<tbody>\n",
              "\t<tr><td>25</td><td>Miguel </td><td> 1</td><td> TRUE</td></tr>\n",
              "\t<tr><td>30</td><td>Danny  </td><td> 6</td><td>FALSE</td></tr>\n",
              "\t<tr><td>28</td><td>Eduardo</td><td> 3</td><td>FALSE</td></tr>\n",
              "\t<tr><td>35</td><td>Kalliba</td><td>10</td><td> TRUE</td></tr>\n",
              "</tbody>\n",
              "</table>\n"
            ],
            "text/markdown": "\nA data.frame: 4 × 4\n\n| edad &lt;dbl&gt; | nombre &lt;chr&gt; | rut &lt;dbl&gt; | tiene_ct &lt;lgl&gt; |\n|---|---|---|---|\n| 25 | Miguel  |  1 |  TRUE |\n| 30 | Danny   |  6 | FALSE |\n| 28 | Eduardo |  3 | FALSE |\n| 35 | Kalliba | 10 |  TRUE |\n\n",
            "text/latex": "A data.frame: 4 × 4\n\\begin{tabular}{llll}\n edad & nombre & rut & tiene\\_ct\\\\\n <dbl> & <chr> & <dbl> & <lgl>\\\\\n\\hline\n\t 25 & Miguel  &  1 &  TRUE\\\\\n\t 30 & Danny   &  6 & FALSE\\\\\n\t 28 & Eduardo &  3 & FALSE\\\\\n\t 35 & Kalliba & 10 &  TRUE\\\\\n\\end{tabular}\n",
            "text/plain": [
              "  edad nombre  rut tiene_ct\n",
              "1 25   Miguel   1   TRUE   \n",
              "2 30   Danny    6  FALSE   \n",
              "3 28   Eduardo  3  FALSE   \n",
              "4 35   Kalliba 10   TRUE   "
            ]
          },
          "metadata": {}
        }
      ]
    },
    {
      "cell_type": "code",
      "source": [
        "tiene_mascota <- c(\"SI\",\"SI\",\"NO\",\"NO\")"
      ],
      "metadata": {
        "id": "0pnKbT-nY5sj"
      },
      "execution_count": 66,
      "outputs": []
    },
    {
      "cell_type": "code",
      "source": [
        "cbind(df,tiene_mascota)"
      ],
      "metadata": {
        "id": "a_A8o6UYZCwi",
        "outputId": "b78a2534-5bf7-4064-b753-ce5aff7efe9b",
        "colab": {
          "base_uri": "https://localhost:8080/",
          "height": 223
        }
      },
      "execution_count": 67,
      "outputs": [
        {
          "output_type": "display_data",
          "data": {
            "text/html": [
              "<table class=\"dataframe\">\n",
              "<caption>A data.frame: 4 × 5</caption>\n",
              "<thead>\n",
              "\t<tr><th scope=col>edad</th><th scope=col>nombre</th><th scope=col>rut</th><th scope=col>tiene_ct</th><th scope=col>tiene_mascota</th></tr>\n",
              "\t<tr><th scope=col>&lt;dbl&gt;</th><th scope=col>&lt;chr&gt;</th><th scope=col>&lt;dbl&gt;</th><th scope=col>&lt;lgl&gt;</th><th scope=col>&lt;chr&gt;</th></tr>\n",
              "</thead>\n",
              "<tbody>\n",
              "\t<tr><td>25</td><td>Miguel </td><td> 1</td><td> TRUE</td><td>SI</td></tr>\n",
              "\t<tr><td>30</td><td>Danny  </td><td> 6</td><td>FALSE</td><td>SI</td></tr>\n",
              "\t<tr><td>28</td><td>Eduardo</td><td> 3</td><td>FALSE</td><td>NO</td></tr>\n",
              "\t<tr><td>35</td><td>Kalliba</td><td>10</td><td> TRUE</td><td>NO</td></tr>\n",
              "</tbody>\n",
              "</table>\n"
            ],
            "text/markdown": "\nA data.frame: 4 × 5\n\n| edad &lt;dbl&gt; | nombre &lt;chr&gt; | rut &lt;dbl&gt; | tiene_ct &lt;lgl&gt; | tiene_mascota &lt;chr&gt; |\n|---|---|---|---|---|\n| 25 | Miguel  |  1 |  TRUE | SI |\n| 30 | Danny   |  6 | FALSE | SI |\n| 28 | Eduardo |  3 | FALSE | NO |\n| 35 | Kalliba | 10 |  TRUE | NO |\n\n",
            "text/latex": "A data.frame: 4 × 5\n\\begin{tabular}{lllll}\n edad & nombre & rut & tiene\\_ct & tiene\\_mascota\\\\\n <dbl> & <chr> & <dbl> & <lgl> & <chr>\\\\\n\\hline\n\t 25 & Miguel  &  1 &  TRUE & SI\\\\\n\t 30 & Danny   &  6 & FALSE & SI\\\\\n\t 28 & Eduardo &  3 & FALSE & NO\\\\\n\t 35 & Kalliba & 10 &  TRUE & NO\\\\\n\\end{tabular}\n",
            "text/plain": [
              "  edad nombre  rut tiene_ct tiene_mascota\n",
              "1 25   Miguel   1   TRUE    SI           \n",
              "2 30   Danny    6  FALSE    SI           \n",
              "3 28   Eduardo  3  FALSE    NO           \n",
              "4 35   Kalliba 10   TRUE    NO           "
            ]
          },
          "metadata": {}
        }
      ]
    },
    {
      "cell_type": "code",
      "source": [
        "df <- cbind(df,tiene_mascota)"
      ],
      "metadata": {
        "id": "HwctZtzkZNB-"
      },
      "execution_count": 69,
      "outputs": []
    },
    {
      "cell_type": "code",
      "source": [
        "df"
      ],
      "metadata": {
        "id": "uUSjyFTIZZGl",
        "outputId": "b24b6fbd-08dc-481a-d6c2-60c34b2b198c",
        "colab": {
          "base_uri": "https://localhost:8080/",
          "height": 223
        }
      },
      "execution_count": 70,
      "outputs": [
        {
          "output_type": "display_data",
          "data": {
            "text/html": [
              "<table class=\"dataframe\">\n",
              "<caption>A data.frame: 4 × 5</caption>\n",
              "<thead>\n",
              "\t<tr><th scope=col>edad</th><th scope=col>nombre</th><th scope=col>rut</th><th scope=col>tiene_ct</th><th scope=col>tiene_mascota</th></tr>\n",
              "\t<tr><th scope=col>&lt;dbl&gt;</th><th scope=col>&lt;chr&gt;</th><th scope=col>&lt;dbl&gt;</th><th scope=col>&lt;lgl&gt;</th><th scope=col>&lt;chr&gt;</th></tr>\n",
              "</thead>\n",
              "<tbody>\n",
              "\t<tr><td>25</td><td>Miguel </td><td> 1</td><td> TRUE</td><td>SI</td></tr>\n",
              "\t<tr><td>30</td><td>Danny  </td><td> 6</td><td>FALSE</td><td>SI</td></tr>\n",
              "\t<tr><td>28</td><td>Eduardo</td><td> 3</td><td>FALSE</td><td>NO</td></tr>\n",
              "\t<tr><td>35</td><td>Kalliba</td><td>10</td><td> TRUE</td><td>NO</td></tr>\n",
              "</tbody>\n",
              "</table>\n"
            ],
            "text/markdown": "\nA data.frame: 4 × 5\n\n| edad &lt;dbl&gt; | nombre &lt;chr&gt; | rut &lt;dbl&gt; | tiene_ct &lt;lgl&gt; | tiene_mascota &lt;chr&gt; |\n|---|---|---|---|---|\n| 25 | Miguel  |  1 |  TRUE | SI |\n| 30 | Danny   |  6 | FALSE | SI |\n| 28 | Eduardo |  3 | FALSE | NO |\n| 35 | Kalliba | 10 |  TRUE | NO |\n\n",
            "text/latex": "A data.frame: 4 × 5\n\\begin{tabular}{lllll}\n edad & nombre & rut & tiene\\_ct & tiene\\_mascota\\\\\n <dbl> & <chr> & <dbl> & <lgl> & <chr>\\\\\n\\hline\n\t 25 & Miguel  &  1 &  TRUE & SI\\\\\n\t 30 & Danny   &  6 & FALSE & SI\\\\\n\t 28 & Eduardo &  3 & FALSE & NO\\\\\n\t 35 & Kalliba & 10 &  TRUE & NO\\\\\n\\end{tabular}\n",
            "text/plain": [
              "  edad nombre  rut tiene_ct tiene_mascota\n",
              "1 25   Miguel   1   TRUE    SI           \n",
              "2 30   Danny    6  FALSE    SI           \n",
              "3 28   Eduardo  3  FALSE    NO           \n",
              "4 35   Kalliba 10   TRUE    NO           "
            ]
          },
          "metadata": {}
        }
      ]
    },
    {
      "cell_type": "code",
      "metadata": {
        "trusted": true,
        "id": "LcNQ5JHVTpSh",
        "outputId": "c35467a8-0763-4c82-d771-94c42c7d0045",
        "colab": {
          "base_uri": "https://localhost:8080/",
          "height": 464
        }
      },
      "source": [
        "# podemos seleccionar más de una columna a la vez. Ej: seleccionar col1y col3\n",
        "\n",
        "# Referenciando el nombre de las columnas\n",
        "df[c(1,3)]# Como si fuese una lista\n",
        "df[,c(1,3)] # Como si fuese una matriz"
      ],
      "execution_count": 72,
      "outputs": [
        {
          "output_type": "display_data",
          "data": {
            "text/html": [
              "<table class=\"dataframe\">\n",
              "<caption>A data.frame: 4 × 2</caption>\n",
              "<thead>\n",
              "\t<tr><th scope=col>edad</th><th scope=col>rut</th></tr>\n",
              "\t<tr><th scope=col>&lt;dbl&gt;</th><th scope=col>&lt;dbl&gt;</th></tr>\n",
              "</thead>\n",
              "<tbody>\n",
              "\t<tr><td>25</td><td> 1</td></tr>\n",
              "\t<tr><td>30</td><td> 6</td></tr>\n",
              "\t<tr><td>28</td><td> 3</td></tr>\n",
              "\t<tr><td>35</td><td>10</td></tr>\n",
              "</tbody>\n",
              "</table>\n"
            ],
            "text/markdown": "\nA data.frame: 4 × 2\n\n| edad &lt;dbl&gt; | rut &lt;dbl&gt; |\n|---|---|\n| 25 |  1 |\n| 30 |  6 |\n| 28 |  3 |\n| 35 | 10 |\n\n",
            "text/latex": "A data.frame: 4 × 2\n\\begin{tabular}{ll}\n edad & rut\\\\\n <dbl> & <dbl>\\\\\n\\hline\n\t 25 &  1\\\\\n\t 30 &  6\\\\\n\t 28 &  3\\\\\n\t 35 & 10\\\\\n\\end{tabular}\n",
            "text/plain": [
              "  edad rut\n",
              "1 25    1 \n",
              "2 30    6 \n",
              "3 28    3 \n",
              "4 35   10 "
            ]
          },
          "metadata": {}
        },
        {
          "output_type": "display_data",
          "data": {
            "text/html": [
              "<table class=\"dataframe\">\n",
              "<caption>A data.frame: 4 × 2</caption>\n",
              "<thead>\n",
              "\t<tr><th scope=col>edad</th><th scope=col>rut</th></tr>\n",
              "\t<tr><th scope=col>&lt;dbl&gt;</th><th scope=col>&lt;dbl&gt;</th></tr>\n",
              "</thead>\n",
              "<tbody>\n",
              "\t<tr><td>25</td><td> 1</td></tr>\n",
              "\t<tr><td>30</td><td> 6</td></tr>\n",
              "\t<tr><td>28</td><td> 3</td></tr>\n",
              "\t<tr><td>35</td><td>10</td></tr>\n",
              "</tbody>\n",
              "</table>\n"
            ],
            "text/markdown": "\nA data.frame: 4 × 2\n\n| edad &lt;dbl&gt; | rut &lt;dbl&gt; |\n|---|---|\n| 25 |  1 |\n| 30 |  6 |\n| 28 |  3 |\n| 35 | 10 |\n\n",
            "text/latex": "A data.frame: 4 × 2\n\\begin{tabular}{ll}\n edad & rut\\\\\n <dbl> & <dbl>\\\\\n\\hline\n\t 25 &  1\\\\\n\t 30 &  6\\\\\n\t 28 &  3\\\\\n\t 35 & 10\\\\\n\\end{tabular}\n",
            "text/plain": [
              "  edad rut\n",
              "1 25    1 \n",
              "2 30    6 \n",
              "3 28    3 \n",
              "4 35   10 "
            ]
          },
          "metadata": {}
        }
      ]
    },
    {
      "cell_type": "code",
      "metadata": {
        "trusted": true,
        "id": "NHtO3MHwTpSj"
      },
      "source": [
        "# Referenciando las posiciones/nombre de las columnas\n"
      ],
      "execution_count": null,
      "outputs": []
    },
    {
      "cell_type": "code",
      "metadata": {
        "trusted": true,
        "id": "RmsAhhsWTpSm",
        "outputId": "521eef3a-4f1c-4820-c52f-10d0ec37adf6",
        "colab": {
          "base_uri": "https://localhost:8080/",
          "height": 293
        }
      },
      "source": [
        "# Se mantiene la lógica de acceso a los sots de una lista.\n",
        "df[3]\n",
        "df[[3]]\n",
        "df$rut"
      ],
      "execution_count": 75,
      "outputs": [
        {
          "output_type": "display_data",
          "data": {
            "text/html": [
              "<table class=\"dataframe\">\n",
              "<caption>A data.frame: 4 × 1</caption>\n",
              "<thead>\n",
              "\t<tr><th scope=col>rut</th></tr>\n",
              "\t<tr><th scope=col>&lt;dbl&gt;</th></tr>\n",
              "</thead>\n",
              "<tbody>\n",
              "\t<tr><td> 1</td></tr>\n",
              "\t<tr><td> 6</td></tr>\n",
              "\t<tr><td> 3</td></tr>\n",
              "\t<tr><td>10</td></tr>\n",
              "</tbody>\n",
              "</table>\n"
            ],
            "text/markdown": "\nA data.frame: 4 × 1\n\n| rut &lt;dbl&gt; |\n|---|\n|  1 |\n|  6 |\n|  3 |\n| 10 |\n\n",
            "text/latex": "A data.frame: 4 × 1\n\\begin{tabular}{l}\n rut\\\\\n <dbl>\\\\\n\\hline\n\t  1\\\\\n\t  6\\\\\n\t  3\\\\\n\t 10\\\\\n\\end{tabular}\n",
            "text/plain": [
              "  rut\n",
              "1  1 \n",
              "2  6 \n",
              "3  3 \n",
              "4 10 "
            ]
          },
          "metadata": {}
        },
        {
          "output_type": "display_data",
          "data": {
            "text/html": [
              "<style>\n",
              ".list-inline {list-style: none; margin:0; padding: 0}\n",
              ".list-inline>li {display: inline-block}\n",
              ".list-inline>li:not(:last-child)::after {content: \"\\00b7\"; padding: 0 .5ex}\n",
              "</style>\n",
              "<ol class=list-inline><li>1</li><li>6</li><li>3</li><li>10</li></ol>\n"
            ],
            "text/markdown": "1. 1\n2. 6\n3. 3\n4. 10\n\n\n",
            "text/latex": "\\begin{enumerate*}\n\\item 1\n\\item 6\n\\item 3\n\\item 10\n\\end{enumerate*}\n",
            "text/plain": [
              "[1]  1  6  3 10"
            ]
          },
          "metadata": {}
        },
        {
          "output_type": "display_data",
          "data": {
            "text/html": [
              "<style>\n",
              ".list-inline {list-style: none; margin:0; padding: 0}\n",
              ".list-inline>li {display: inline-block}\n",
              ".list-inline>li:not(:last-child)::after {content: \"\\00b7\"; padding: 0 .5ex}\n",
              "</style>\n",
              "<ol class=list-inline><li>1</li><li>6</li><li>3</li><li>10</li></ol>\n"
            ],
            "text/markdown": "1. 1\n2. 6\n3. 3\n4. 10\n\n\n",
            "text/latex": "\\begin{enumerate*}\n\\item 1\n\\item 6\n\\item 3\n\\item 10\n\\end{enumerate*}\n",
            "text/plain": [
              "[1]  1  6  3 10"
            ]
          },
          "metadata": {}
        }
      ]
    }
  ]
}