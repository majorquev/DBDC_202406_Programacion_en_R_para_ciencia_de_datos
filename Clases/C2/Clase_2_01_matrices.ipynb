{
  "nbformat": 4,
  "nbformat_minor": 0,
  "metadata": {
    "colab": {
      "provenance": [],
      "include_colab_link": true
    },
    "kernelspec": {
      "name": "ir",
      "display_name": "R"
    }
  },
  "cells": [
    {
      "cell_type": "markdown",
      "metadata": {
        "id": "view-in-github",
        "colab_type": "text"
      },
      "source": [
        "<a href=\"https://colab.research.google.com/github/majorquev/DBDC_202406_Programacion_en_R_para_ciencia_de_datos/blob/main/Clases/C2/Clase_2_01_matrices.ipynb\" target=\"_parent\"><img src=\"https://colab.research.google.com/assets/colab-badge.svg\" alt=\"Open In Colab\"/></a>"
      ]
    },
    {
      "cell_type": "markdown",
      "metadata": {
        "collapsed": true,
        "id": "qGvtNqVzSqoX"
      },
      "source": [
        "# Parte 1: Introducción a R (continuación)\n",
        "\n",
        "**Autor:** Miguel Jorquera Viguera<br>\n",
        "**E-mail:** majorquev@gmail.com<br>\n",
        "**Ayudante:** Rodrigo Morales <br>\n",
        "**E-mail ayudante:** rumorale1@gmail.com\n",
        "\n",
        "\n",
        "\n",
        "### 3.2 Matrices\n",
        "\n",
        "En R, así como en otros lenguajes de programación, una matriz es básicamente un arreglo bi-dimensional, donde las entradas horizontales se entienden como filas y las verticales como columnas. Es posible imaginar una matriz como un arreglo de vectores como columnas (o filas) del mismo largo.\n",
        "\n",
        " * ¿Qué se guarda en una matriz?<br>\n",
        "    Sólo datos de un mismo tipo.\n",
        "     \n",
        " * ¿Cómo se declara una matriz?<br>\n",
        "    Se puede definir de varias maneras, indicando los elementos que la componen, o combinando vectores como filas o columnas.\n",
        "\n",
        " * ¿Cómo se accede a sus elementos?<br>\n",
        "    Indicando la posición del vector fila, seguido de la posición del vector columna (como es usual)."
      ]
    },
    {
      "cell_type": "code",
      "metadata": {
        "trusted": true,
        "id": "TKVO3cuZSqoY",
        "outputId": "e1d43e00-ea89-4512-d001-4a0a19f47432",
        "colab": {
          "base_uri": "https://localhost:8080/",
          "height": 132
        }
      },
      "source": [
        "# 3.2 Matrices ------------\n",
        "#?matrix de dos filas y 3 columnas, parametros ncol, nrow y byrow\n",
        "# recibe un vector de elementos\n",
        "A <- matrix(c(1,1,2,3,5,8), ncol = 3, nrow = 2)\n",
        "A\n",
        "\n"
      ],
      "execution_count": 1,
      "outputs": [
        {
          "output_type": "display_data",
          "data": {
            "text/html": [
              "<table class=\"dataframe\">\n",
              "<caption>A matrix: 2 × 3 of type dbl</caption>\n",
              "<tbody>\n",
              "\t<tr><td>1</td><td>2</td><td>5</td></tr>\n",
              "\t<tr><td>1</td><td>3</td><td>8</td></tr>\n",
              "</tbody>\n",
              "</table>\n"
            ],
            "text/markdown": "\nA matrix: 2 × 3 of type dbl\n\n| 1 | 2 | 5 |\n| 1 | 3 | 8 |\n\n",
            "text/latex": "A matrix: 2 × 3 of type dbl\n\\begin{tabular}{lll}\n\t 1 & 2 & 5\\\\\n\t 1 & 3 & 8\\\\\n\\end{tabular}\n",
            "text/plain": [
              "     [,1] [,2] [,3]\n",
              "[1,] 1    2    5   \n",
              "[2,] 1    3    8   "
            ]
          },
          "metadata": {}
        }
      ]
    },
    {
      "cell_type": "code",
      "source": [
        "B <- matrix(c(1,1,2,3,5,8), ncol = 3, nrow = 2, byrow = T)\n",
        "B"
      ],
      "metadata": {
        "id": "K7ptBfaoDgKF",
        "outputId": "b6be1dce-1a29-466e-ca77-513c89adb50d",
        "colab": {
          "base_uri": "https://localhost:8080/",
          "height": 132
        }
      },
      "execution_count": 2,
      "outputs": [
        {
          "output_type": "display_data",
          "data": {
            "text/html": [
              "<table class=\"dataframe\">\n",
              "<caption>A matrix: 2 × 3 of type dbl</caption>\n",
              "<tbody>\n",
              "\t<tr><td>1</td><td>1</td><td>2</td></tr>\n",
              "\t<tr><td>3</td><td>5</td><td>8</td></tr>\n",
              "</tbody>\n",
              "</table>\n"
            ],
            "text/markdown": "\nA matrix: 2 × 3 of type dbl\n\n| 1 | 1 | 2 |\n| 3 | 5 | 8 |\n\n",
            "text/latex": "A matrix: 2 × 3 of type dbl\n\\begin{tabular}{lll}\n\t 1 & 1 & 2\\\\\n\t 3 & 5 & 8\\\\\n\\end{tabular}\n",
            "text/plain": [
              "     [,1] [,2] [,3]\n",
              "[1,] 1    1    2   \n",
              "[2,] 3    5    8   "
            ]
          },
          "metadata": {}
        }
      ]
    },
    {
      "cell_type": "code",
      "metadata": {
        "trusted": true,
        "id": "Gm3PDTciSqof",
        "outputId": "dc5a4a5f-e7f1-4e2c-e8de-0fbf534ac8ab",
        "colab": {
          "base_uri": "https://localhost:8080/",
          "height": 34
        }
      },
      "source": [
        "# clase y atributo dim\n",
        "class(A)"
      ],
      "execution_count": 3,
      "outputs": [
        {
          "output_type": "display_data",
          "data": {
            "text/html": [
              "<style>\n",
              ".list-inline {list-style: none; margin:0; padding: 0}\n",
              ".list-inline>li {display: inline-block}\n",
              ".list-inline>li:not(:last-child)::after {content: \"\\00b7\"; padding: 0 .5ex}\n",
              "</style>\n",
              "<ol class=list-inline><li>'matrix'</li><li>'array'</li></ol>\n"
            ],
            "text/markdown": "1. 'matrix'\n2. 'array'\n\n\n",
            "text/latex": "\\begin{enumerate*}\n\\item 'matrix'\n\\item 'array'\n\\end{enumerate*}\n",
            "text/plain": [
              "[1] \"matrix\" \"array\" "
            ]
          },
          "metadata": {}
        }
      ]
    },
    {
      "cell_type": "code",
      "source": [
        "dim(A)"
      ],
      "metadata": {
        "id": "IQcJyMMGEYgK",
        "outputId": "ecf368fc-6001-4d2f-9bd5-34ca65912e65",
        "colab": {
          "base_uri": "https://localhost:8080/",
          "height": 34
        }
      },
      "execution_count": 4,
      "outputs": [
        {
          "output_type": "display_data",
          "data": {
            "text/html": [
              "<style>\n",
              ".list-inline {list-style: none; margin:0; padding: 0}\n",
              ".list-inline>li {display: inline-block}\n",
              ".list-inline>li:not(:last-child)::after {content: \"\\00b7\"; padding: 0 .5ex}\n",
              "</style>\n",
              "<ol class=list-inline><li>2</li><li>3</li></ol>\n"
            ],
            "text/markdown": "1. 2\n2. 3\n\n\n",
            "text/latex": "\\begin{enumerate*}\n\\item 2\n\\item 3\n\\end{enumerate*}\n",
            "text/plain": [
              "[1] 2 3"
            ]
          },
          "metadata": {}
        }
      ]
    },
    {
      "cell_type": "code",
      "metadata": {
        "trusted": true,
        "id": "2TXNSoedSqoh",
        "outputId": "d267bb93-96c6-4015-b216-0bfc0f6bedcc",
        "colab": {
          "base_uri": "https://localhost:8080/",
          "height": 114
        }
      },
      "source": [
        "# Genere dos vectores del mismo largo y forme una matriz.\n",
        "\n",
        "f1 <- c(10,20,30)\n",
        "f2 <- c(5,6,7)\n",
        "\n",
        "rbind(f1,f2)\n",
        "\n"
      ],
      "execution_count": 5,
      "outputs": [
        {
          "output_type": "display_data",
          "data": {
            "text/html": [
              "<table class=\"dataframe\">\n",
              "<caption>A matrix: 2 × 3 of type dbl</caption>\n",
              "<tbody>\n",
              "\t<tr><th scope=row>f1</th><td>10</td><td>20</td><td>30</td></tr>\n",
              "\t<tr><th scope=row>f2</th><td> 5</td><td> 6</td><td> 7</td></tr>\n",
              "</tbody>\n",
              "</table>\n"
            ],
            "text/markdown": "\nA matrix: 2 × 3 of type dbl\n\n| f1 | 10 | 20 | 30 |\n| f2 |  5 |  6 |  7 |\n\n",
            "text/latex": "A matrix: 2 × 3 of type dbl\n\\begin{tabular}{r|lll}\n\tf1 & 10 & 20 & 30\\\\\n\tf2 &  5 &  6 &  7\\\\\n\\end{tabular}\n",
            "text/plain": [
              "   [,1] [,2] [,3]\n",
              "f1 10   20   30  \n",
              "f2  5    6    7  "
            ]
          },
          "metadata": {}
        }
      ]
    },
    {
      "cell_type": "code",
      "source": [
        "cbind(f1,f2)"
      ],
      "metadata": {
        "id": "fTAhUqYaEzc1",
        "outputId": "f7b24d26-024c-4789-db69-1c13646718ec",
        "colab": {
          "base_uri": "https://localhost:8080/",
          "height": 195
        }
      },
      "execution_count": 6,
      "outputs": [
        {
          "output_type": "display_data",
          "data": {
            "text/html": [
              "<table class=\"dataframe\">\n",
              "<caption>A matrix: 3 × 2 of type dbl</caption>\n",
              "<thead>\n",
              "\t<tr><th scope=col>f1</th><th scope=col>f2</th></tr>\n",
              "</thead>\n",
              "<tbody>\n",
              "\t<tr><td>10</td><td>5</td></tr>\n",
              "\t<tr><td>20</td><td>6</td></tr>\n",
              "\t<tr><td>30</td><td>7</td></tr>\n",
              "</tbody>\n",
              "</table>\n"
            ],
            "text/markdown": "\nA matrix: 3 × 2 of type dbl\n\n| f1 | f2 |\n|---|---|\n| 10 | 5 |\n| 20 | 6 |\n| 30 | 7 |\n\n",
            "text/latex": "A matrix: 3 × 2 of type dbl\n\\begin{tabular}{ll}\n f1 & f2\\\\\n\\hline\n\t 10 & 5\\\\\n\t 20 & 6\\\\\n\t 30 & 7\\\\\n\\end{tabular}\n",
            "text/plain": [
              "     f1 f2\n",
              "[1,] 10 5 \n",
              "[2,] 20 6 \n",
              "[3,] 30 7 "
            ]
          },
          "metadata": {}
        }
      ]
    },
    {
      "cell_type": "code",
      "metadata": {
        "trusted": true,
        "id": "W3g76XEkSqok"
      },
      "source": [
        "# funciones cbind() [une vectores como columnas]\n",
        "# y rbind() [une vectores como filas] (pensadas para matrices)\n",
        "#?cbind\n",
        "\n"
      ],
      "execution_count": null,
      "outputs": []
    },
    {
      "cell_type": "code",
      "source": [
        "# NOTA: Podemos añadir una fila/columna a una matriz existente\n",
        "rbind(A,f1)"
      ],
      "metadata": {
        "id": "ds9erwbP3sMG",
        "outputId": "73a714f6-ccc0-47ad-8798-f9cce15a0ca6",
        "colab": {
          "base_uri": "https://localhost:8080/",
          "height": 146
        }
      },
      "execution_count": 8,
      "outputs": [
        {
          "output_type": "display_data",
          "data": {
            "text/html": [
              "<table class=\"dataframe\">\n",
              "<caption>A matrix: 3 × 3 of type dbl</caption>\n",
              "<tbody>\n",
              "\t<tr><th scope=row></th><td> 1</td><td> 2</td><td> 5</td></tr>\n",
              "\t<tr><th scope=row></th><td> 1</td><td> 3</td><td> 8</td></tr>\n",
              "\t<tr><th scope=row>f1</th><td>10</td><td>20</td><td>30</td></tr>\n",
              "</tbody>\n",
              "</table>\n"
            ],
            "text/markdown": "\nA matrix: 3 × 3 of type dbl\n\n| <!----> |  1 |  2 |  5 |\n| <!----> |  1 |  3 |  8 |\n| f1 | 10 | 20 | 30 |\n\n",
            "text/latex": "A matrix: 3 × 3 of type dbl\n\\begin{tabular}{r|lll}\n\t &  1 &  2 &  5\\\\\n\t &  1 &  3 &  8\\\\\n\tf1 & 10 & 20 & 30\\\\\n\\end{tabular}\n",
            "text/plain": [
              "   [,1] [,2] [,3]\n",
              "    1    2    5  \n",
              "    1    3    8  \n",
              "f1 10   20   30  "
            ]
          },
          "metadata": {}
        }
      ]
    },
    {
      "cell_type": "code",
      "metadata": {
        "trusted": true,
        "id": "gDzbcsNVSqom",
        "outputId": "b4a34bb7-39cf-44a3-d66f-67d2175cc61c",
        "colab": {
          "base_uri": "https://localhost:8080/",
          "height": 198
        }
      },
      "source": [
        "# si combinamos vectores de distinto largo?\n",
        "# R recicla valores (recordar explicación)\n",
        "rbind(A, c(2,4))\n",
        "\n"
      ],
      "execution_count": 9,
      "outputs": [
        {
          "output_type": "stream",
          "name": "stderr",
          "text": [
            "Warning message in rbind(A, c(2, 4)):\n",
            "“number of columns of result is not a multiple of vector length (arg 2)”\n"
          ]
        },
        {
          "output_type": "display_data",
          "data": {
            "text/html": [
              "<table class=\"dataframe\">\n",
              "<caption>A matrix: 3 × 3 of type dbl</caption>\n",
              "<tbody>\n",
              "\t<tr><td>1</td><td>2</td><td>5</td></tr>\n",
              "\t<tr><td>1</td><td>3</td><td>8</td></tr>\n",
              "\t<tr><td>2</td><td>4</td><td>2</td></tr>\n",
              "</tbody>\n",
              "</table>\n"
            ],
            "text/markdown": "\nA matrix: 3 × 3 of type dbl\n\n| 1 | 2 | 5 |\n| 1 | 3 | 8 |\n| 2 | 4 | 2 |\n\n",
            "text/latex": "A matrix: 3 × 3 of type dbl\n\\begin{tabular}{lll}\n\t 1 & 2 & 5\\\\\n\t 1 & 3 & 8\\\\\n\t 2 & 4 & 2\\\\\n\\end{tabular}\n",
            "text/plain": [
              "     [,1] [,2] [,3]\n",
              "[1,] 1    2    5   \n",
              "[2,] 1    3    8   \n",
              "[3,] 2    4    2   "
            ]
          },
          "metadata": {}
        }
      ]
    },
    {
      "cell_type": "code",
      "metadata": {
        "trusted": true,
        "id": "QLOH0514Sqoo",
        "outputId": "338bf38d-d582-4061-e638-7d3f0081899d",
        "colab": {
          "base_uri": "https://localhost:8080/",
          "height": 177
        }
      },
      "source": [
        "# función diag para la definición de matrices diagonales\n",
        "#?diag\n",
        "diag(c(1,3,5,7))\n",
        "\n"
      ],
      "execution_count": 10,
      "outputs": [
        {
          "output_type": "display_data",
          "data": {
            "text/html": [
              "<table class=\"dataframe\">\n",
              "<caption>A matrix: 4 × 4 of type dbl</caption>\n",
              "<tbody>\n",
              "\t<tr><td>1</td><td>0</td><td>0</td><td>0</td></tr>\n",
              "\t<tr><td>0</td><td>3</td><td>0</td><td>0</td></tr>\n",
              "\t<tr><td>0</td><td>0</td><td>5</td><td>0</td></tr>\n",
              "\t<tr><td>0</td><td>0</td><td>0</td><td>7</td></tr>\n",
              "</tbody>\n",
              "</table>\n"
            ],
            "text/markdown": "\nA matrix: 4 × 4 of type dbl\n\n| 1 | 0 | 0 | 0 |\n| 0 | 3 | 0 | 0 |\n| 0 | 0 | 5 | 0 |\n| 0 | 0 | 0 | 7 |\n\n",
            "text/latex": "A matrix: 4 × 4 of type dbl\n\\begin{tabular}{llll}\n\t 1 & 0 & 0 & 0\\\\\n\t 0 & 3 & 0 & 0\\\\\n\t 0 & 0 & 5 & 0\\\\\n\t 0 & 0 & 0 & 7\\\\\n\\end{tabular}\n",
            "text/plain": [
              "     [,1] [,2] [,3] [,4]\n",
              "[1,] 1    0    0    0   \n",
              "[2,] 0    3    0    0   \n",
              "[3,] 0    0    5    0   \n",
              "[4,] 0    0    0    7   "
            ]
          },
          "metadata": {}
        }
      ]
    },
    {
      "cell_type": "code",
      "metadata": {
        "trusted": true,
        "id": "xIfUV82ASqot",
        "outputId": "7b2e6b64-5832-42e1-c6c3-b2d7bec9a5ee",
        "colab": {
          "base_uri": "https://localhost:8080/",
          "height": 132
        }
      },
      "source": [
        "# Podemos acceder a los elementos de una matriz\n",
        "# indicando la posición de la fila y la columna de la casilla correspondiente.\n",
        "# Ejemplo:\n",
        "A\n"
      ],
      "execution_count": 11,
      "outputs": [
        {
          "output_type": "display_data",
          "data": {
            "text/html": [
              "<table class=\"dataframe\">\n",
              "<caption>A matrix: 2 × 3 of type dbl</caption>\n",
              "<tbody>\n",
              "\t<tr><td>1</td><td>2</td><td>5</td></tr>\n",
              "\t<tr><td>1</td><td>3</td><td>8</td></tr>\n",
              "</tbody>\n",
              "</table>\n"
            ],
            "text/markdown": "\nA matrix: 2 × 3 of type dbl\n\n| 1 | 2 | 5 |\n| 1 | 3 | 8 |\n\n",
            "text/latex": "A matrix: 2 × 3 of type dbl\n\\begin{tabular}{lll}\n\t 1 & 2 & 5\\\\\n\t 1 & 3 & 8\\\\\n\\end{tabular}\n",
            "text/plain": [
              "     [,1] [,2] [,3]\n",
              "[1,] 1    2    5   \n",
              "[2,] 1    3    8   "
            ]
          },
          "metadata": {}
        }
      ]
    },
    {
      "cell_type": "code",
      "source": [
        "# quiero rescatar el elemento \"(2,3)\"\n",
        "A[2,3]\n"
      ],
      "metadata": {
        "id": "xpChz7f25BTv",
        "outputId": "055b0c88-51fc-4158-a3f9-8a0ab28679ef",
        "colab": {
          "base_uri": "https://localhost:8080/",
          "height": 34
        }
      },
      "execution_count": 12,
      "outputs": [
        {
          "output_type": "display_data",
          "data": {
            "text/html": [
              "8"
            ],
            "text/markdown": "8",
            "text/latex": "8",
            "text/plain": [
              "[1] 8"
            ]
          },
          "metadata": {}
        }
      ]
    },
    {
      "cell_type": "code",
      "source": [
        "\n",
        "# CUIDADO:No es lo mismo que\n",
        "A[c(2,3)] # No es lo que buscamos. Interpreta la matriz como el vector original que la define."
      ],
      "metadata": {
        "id": "XZ9li5x25CT5",
        "outputId": "2f12c183-0412-4982-8129-1ccd3b638298",
        "colab": {
          "base_uri": "https://localhost:8080/",
          "height": 34
        }
      },
      "execution_count": 13,
      "outputs": [
        {
          "output_type": "display_data",
          "data": {
            "text/html": [
              "<style>\n",
              ".list-inline {list-style: none; margin:0; padding: 0}\n",
              ".list-inline>li {display: inline-block}\n",
              ".list-inline>li:not(:last-child)::after {content: \"\\00b7\"; padding: 0 .5ex}\n",
              "</style>\n",
              "<ol class=list-inline><li>1</li><li>2</li></ol>\n"
            ],
            "text/markdown": "1. 1\n2. 2\n\n\n",
            "text/latex": "\\begin{enumerate*}\n\\item 1\n\\item 2\n\\end{enumerate*}\n",
            "text/plain": [
              "[1] 1 2"
            ]
          },
          "metadata": {}
        }
      ]
    },
    {
      "cell_type": "code",
      "metadata": {
        "trusted": true,
        "id": "0irI-CBJSqou",
        "outputId": "73626b59-9e1a-4a77-c1c9-2c754480b88e",
        "colab": {
          "base_uri": "https://localhost:8080/",
          "height": 52
        }
      },
      "source": [
        "# Para acceder a una fila completa\n",
        "A[2,]\n",
        "\n",
        "# Para acceder a una columna completa\n",
        "A[,3]\n"
      ],
      "execution_count": 15,
      "outputs": [
        {
          "output_type": "display_data",
          "data": {
            "text/html": [
              "<style>\n",
              ".list-inline {list-style: none; margin:0; padding: 0}\n",
              ".list-inline>li {display: inline-block}\n",
              ".list-inline>li:not(:last-child)::after {content: \"\\00b7\"; padding: 0 .5ex}\n",
              "</style>\n",
              "<ol class=list-inline><li>1</li><li>3</li><li>8</li></ol>\n"
            ],
            "text/markdown": "1. 1\n2. 3\n3. 8\n\n\n",
            "text/latex": "\\begin{enumerate*}\n\\item 1\n\\item 3\n\\item 8\n\\end{enumerate*}\n",
            "text/plain": [
              "[1] 1 3 8"
            ]
          },
          "metadata": {}
        },
        {
          "output_type": "display_data",
          "data": {
            "text/html": [
              "<style>\n",
              ".list-inline {list-style: none; margin:0; padding: 0}\n",
              ".list-inline>li {display: inline-block}\n",
              ".list-inline>li:not(:last-child)::after {content: \"\\00b7\"; padding: 0 .5ex}\n",
              "</style>\n",
              "<ol class=list-inline><li>5</li><li>8</li></ol>\n"
            ],
            "text/markdown": "1. 5\n2. 8\n\n\n",
            "text/latex": "\\begin{enumerate*}\n\\item 5\n\\item 8\n\\end{enumerate*}\n",
            "text/plain": [
              "[1] 5 8"
            ]
          },
          "metadata": {}
        }
      ]
    },
    {
      "cell_type": "code",
      "metadata": {
        "trusted": true,
        "id": "rkq7J4nLSqow"
      },
      "source": [
        "#Recordemos que podemos actualizar elementos de un vector como:\n",
        "\n",
        "# quiero cambiar el 3 por un -99 (el 3 de la pos 2,2)\n",
        "A[2,2] <- -99\n"
      ],
      "execution_count": 16,
      "outputs": []
    },
    {
      "cell_type": "code",
      "source": [
        "A"
      ],
      "metadata": {
        "id": "yb2dYBtk6QT8",
        "outputId": "d967ddf6-0a43-4f90-be3d-a3ec6a9e0ac0",
        "colab": {
          "base_uri": "https://localhost:8080/",
          "height": 132
        }
      },
      "execution_count": 17,
      "outputs": [
        {
          "output_type": "display_data",
          "data": {
            "text/html": [
              "<table class=\"dataframe\">\n",
              "<caption>A matrix: 2 × 3 of type dbl</caption>\n",
              "<tbody>\n",
              "\t<tr><td>1</td><td>  2</td><td>5</td></tr>\n",
              "\t<tr><td>1</td><td>-99</td><td>8</td></tr>\n",
              "</tbody>\n",
              "</table>\n"
            ],
            "text/markdown": "\nA matrix: 2 × 3 of type dbl\n\n| 1 |   2 | 5 |\n| 1 | -99 | 8 |\n\n",
            "text/latex": "A matrix: 2 × 3 of type dbl\n\\begin{tabular}{lll}\n\t 1 &   2 & 5\\\\\n\t 1 & -99 & 8\\\\\n\\end{tabular}\n",
            "text/plain": [
              "     [,1] [,2] [,3]\n",
              "[1,] 1      2  5   \n",
              "[2,] 1    -99  8   "
            ]
          },
          "metadata": {}
        }
      ]
    },
    {
      "cell_type": "code",
      "metadata": {
        "id": "KstW38ylSkSV"
      },
      "source": [
        "# Acceso mediante nombres\n",
        "M <- rbind(f1,f2)"
      ],
      "execution_count": 18,
      "outputs": []
    },
    {
      "cell_type": "code",
      "source": [
        "M"
      ],
      "metadata": {
        "id": "Cw8CrErMHQvc",
        "outputId": "fa89b4a3-5b63-4854-b694-60730507f1cb",
        "colab": {
          "base_uri": "https://localhost:8080/",
          "height": 114
        }
      },
      "execution_count": 20,
      "outputs": [
        {
          "output_type": "display_data",
          "data": {
            "text/html": [
              "<table class=\"dataframe\">\n",
              "<caption>A matrix: 2 × 3 of type dbl</caption>\n",
              "<tbody>\n",
              "\t<tr><th scope=row>f1</th><td>10</td><td>20</td><td>30</td></tr>\n",
              "\t<tr><th scope=row>f2</th><td> 5</td><td> 6</td><td> 7</td></tr>\n",
              "</tbody>\n",
              "</table>\n"
            ],
            "text/markdown": "\nA matrix: 2 × 3 of type dbl\n\n| f1 | 10 | 20 | 30 |\n| f2 |  5 |  6 |  7 |\n\n",
            "text/latex": "A matrix: 2 × 3 of type dbl\n\\begin{tabular}{r|lll}\n\tf1 & 10 & 20 & 30\\\\\n\tf2 &  5 &  6 &  7\\\\\n\\end{tabular}\n",
            "text/plain": [
              "   [,1] [,2] [,3]\n",
              "f1 10   20   30  \n",
              "f2  5    6    7  "
            ]
          },
          "metadata": {}
        }
      ]
    },
    {
      "cell_type": "code",
      "source": [
        "# NOTA: Para rescatar los nombres de filas y columnas\n",
        "rownames(M)\n",
        "colnames(M)# No hay nombres en las columnas"
      ],
      "metadata": {
        "id": "brbgOIFBHHtS",
        "outputId": "a9d3397c-8fb5-441f-adff-765c2eda977b",
        "colab": {
          "base_uri": "https://localhost:8080/",
          "height": 52
        }
      },
      "execution_count": 21,
      "outputs": [
        {
          "output_type": "display_data",
          "data": {
            "text/html": [
              "<style>\n",
              ".list-inline {list-style: none; margin:0; padding: 0}\n",
              ".list-inline>li {display: inline-block}\n",
              ".list-inline>li:not(:last-child)::after {content: \"\\00b7\"; padding: 0 .5ex}\n",
              "</style>\n",
              "<ol class=list-inline><li>'f1'</li><li>'f2'</li></ol>\n"
            ],
            "text/markdown": "1. 'f1'\n2. 'f2'\n\n\n",
            "text/latex": "\\begin{enumerate*}\n\\item 'f1'\n\\item 'f2'\n\\end{enumerate*}\n",
            "text/plain": [
              "[1] \"f1\" \"f2\""
            ]
          },
          "metadata": {}
        },
        {
          "output_type": "display_data",
          "data": {
            "text/plain": [
              "NULL"
            ]
          },
          "metadata": {}
        }
      ]
    },
    {
      "cell_type": "code",
      "source": [
        "colnames(M) <- c(\"c1\",\"c2\",\"c3\")"
      ],
      "metadata": {
        "id": "EW30KxXAHbgl"
      },
      "execution_count": 22,
      "outputs": []
    },
    {
      "cell_type": "code",
      "source": [
        "M"
      ],
      "metadata": {
        "id": "Qyk-lslqHf0u",
        "outputId": "b64531aa-6bdc-4e6b-b91b-8e94fde2765e",
        "colab": {
          "base_uri": "https://localhost:8080/",
          "height": 146
        }
      },
      "execution_count": 23,
      "outputs": [
        {
          "output_type": "display_data",
          "data": {
            "text/html": [
              "<table class=\"dataframe\">\n",
              "<caption>A matrix: 2 × 3 of type dbl</caption>\n",
              "<thead>\n",
              "\t<tr><th></th><th scope=col>c1</th><th scope=col>c2</th><th scope=col>c3</th></tr>\n",
              "</thead>\n",
              "<tbody>\n",
              "\t<tr><th scope=row>f1</th><td>10</td><td>20</td><td>30</td></tr>\n",
              "\t<tr><th scope=row>f2</th><td> 5</td><td> 6</td><td> 7</td></tr>\n",
              "</tbody>\n",
              "</table>\n"
            ],
            "text/markdown": "\nA matrix: 2 × 3 of type dbl\n\n| <!--/--> | c1 | c2 | c3 |\n|---|---|---|---|\n| f1 | 10 | 20 | 30 |\n| f2 |  5 |  6 |  7 |\n\n",
            "text/latex": "A matrix: 2 × 3 of type dbl\n\\begin{tabular}{r|lll}\n  & c1 & c2 & c3\\\\\n\\hline\n\tf1 & 10 & 20 & 30\\\\\n\tf2 &  5 &  6 &  7\\\\\n\\end{tabular}\n",
            "text/plain": [
              "   c1 c2 c3\n",
              "f1 10 20 30\n",
              "f2  5  6  7"
            ]
          },
          "metadata": {}
        }
      ]
    },
    {
      "cell_type": "code",
      "metadata": {
        "id": "0mKL1vhcSkVc",
        "outputId": "170d791c-3d46-41a0-813c-be992c3cb353",
        "colab": {
          "base_uri": "https://localhost:8080/",
          "height": 34
        }
      },
      "source": [
        "# Acceso mediante nomnbres\n",
        "# Elemento de la segunda fila tercera columna (2,3)\n",
        "\n",
        "M[\"f2\",\"c3\"]"
      ],
      "execution_count": 26,
      "outputs": [
        {
          "output_type": "display_data",
          "data": {
            "text/html": [
              "7"
            ],
            "text/markdown": "7",
            "text/latex": "7",
            "text/plain": [
              "[1] 7"
            ]
          },
          "metadata": {}
        }
      ]
    },
    {
      "cell_type": "code",
      "metadata": {
        "trusted": true,
        "id": "qt9bcwQgSqo0",
        "outputId": "dd3f108d-fc43-4179-806c-084101d0bccc",
        "colab": {
          "base_uri": "https://localhost:8080/",
          "height": 97
        }
      },
      "source": [
        "# Acceso mediante \"indicatrices\" lógicas\n",
        "#Quiero obtener los elementos (1,1) y (2,3) de M\n",
        "# 1: Crear una matriz de 3x4 con TRUE en dichas posiciones y FALSE en las restantes.\n",
        "ind2 <- matrix(c(T,F,F,F,F,T) ,ncol = 3, nrow = 2, byrow = T)\n",
        "ind2"
      ],
      "execution_count": 29,
      "outputs": [
        {
          "output_type": "display_data",
          "data": {
            "text/html": [
              "<table class=\"dataframe\">\n",
              "<caption>A matrix: 2 × 3 of type lgl</caption>\n",
              "<tbody>\n",
              "\t<tr><td> TRUE</td><td>FALSE</td><td>FALSE</td></tr>\n",
              "\t<tr><td>FALSE</td><td>FALSE</td><td> TRUE</td></tr>\n",
              "</tbody>\n",
              "</table>\n"
            ],
            "text/markdown": "\nA matrix: 2 × 3 of type lgl\n\n|  TRUE | FALSE | FALSE |\n| FALSE | FALSE |  TRUE |\n\n",
            "text/latex": "A matrix: 2 × 3 of type lgl\n\\begin{tabular}{lll}\n\t  TRUE & FALSE & FALSE\\\\\n\t FALSE & FALSE &  TRUE\\\\\n\\end{tabular}\n",
            "text/plain": [
              "     [,1]  [,2]  [,3] \n",
              "[1,]  TRUE FALSE FALSE\n",
              "[2,] FALSE FALSE  TRUE"
            ]
          },
          "metadata": {}
        }
      ]
    },
    {
      "cell_type": "code",
      "source": [
        "M[ind2]"
      ],
      "metadata": {
        "id": "7J6avJS774KM",
        "outputId": "1f40739c-55e4-4dbd-cadb-e437d2163ffd",
        "colab": {
          "base_uri": "https://localhost:8080/",
          "height": 34
        }
      },
      "execution_count": 30,
      "outputs": [
        {
          "output_type": "display_data",
          "data": {
            "text/html": [
              "<style>\n",
              ".list-inline {list-style: none; margin:0; padding: 0}\n",
              ".list-inline>li {display: inline-block}\n",
              ".list-inline>li:not(:last-child)::after {content: \"\\00b7\"; padding: 0 .5ex}\n",
              "</style>\n",
              "<ol class=list-inline><li>10</li><li>7</li></ol>\n"
            ],
            "text/markdown": "1. 10\n2. 7\n\n\n",
            "text/latex": "\\begin{enumerate*}\n\\item 10\n\\item 7\n\\end{enumerate*}\n",
            "text/plain": [
              "[1] 10  7"
            ]
          },
          "metadata": {}
        }
      ]
    },
    {
      "cell_type": "code",
      "metadata": {
        "trusted": true,
        "id": "m4DDikCTSqo2",
        "outputId": "e6bd77b3-9353-4a92-a8b9-30d1d2553df1",
        "colab": {
          "base_uri": "https://localhost:8080/",
          "height": 34
        }
      },
      "source": [
        "# Podemos evaluar las casillas de una atriz mediante sentencias lógicas\n",
        "M[M>=9]"
      ],
      "execution_count": 32,
      "outputs": [
        {
          "output_type": "display_data",
          "data": {
            "text/html": [
              "<style>\n",
              ".list-inline {list-style: none; margin:0; padding: 0}\n",
              ".list-inline>li {display: inline-block}\n",
              ".list-inline>li:not(:last-child)::after {content: \"\\00b7\"; padding: 0 .5ex}\n",
              "</style>\n",
              "<ol class=list-inline><li>10</li><li>20</li><li>30</li></ol>\n"
            ],
            "text/markdown": "1. 10\n2. 20\n3. 30\n\n\n",
            "text/latex": "\\begin{enumerate*}\n\\item 10\n\\item 20\n\\item 30\n\\end{enumerate*}\n",
            "text/plain": [
              "[1] 10 20 30"
            ]
          },
          "metadata": {}
        }
      ]
    },
    {
      "cell_type": "markdown",
      "metadata": {
        "id": "DtKi8VpVSqo8"
      },
      "source": [
        "**Álgebra de matrices**\n",
        "\n",
        "Las operaciones suma (resta) y ponderación por escalar se llevan cabo mediante los mismos operadores utilizados para valores numéricos y vectores (+,-,*, /). Para multiplicar matrices en cambio, se utiliza el operador %*%, mientras que para invertirlas se utiliza la función solve(), t() para transponer y det() para el cálculo del determinante en el caso de matrices cuadradas."
      ]
    },
    {
      "cell_type": "code",
      "metadata": {
        "trusted": true,
        "id": "yxrjsz27Sqo8",
        "outputId": "ccc5658d-9e5f-4da6-ba98-cf00d8516446",
        "colab": {
          "base_uri": "https://localhost:8080/",
          "height": 307
        }
      },
      "source": [
        "# transponer una matriz\n",
        "M\n",
        "t(M)"
      ],
      "execution_count": 34,
      "outputs": [
        {
          "output_type": "display_data",
          "data": {
            "text/html": [
              "<table class=\"dataframe\">\n",
              "<caption>A matrix: 2 × 3 of type dbl</caption>\n",
              "<thead>\n",
              "\t<tr><th></th><th scope=col>c1</th><th scope=col>c2</th><th scope=col>c3</th></tr>\n",
              "</thead>\n",
              "<tbody>\n",
              "\t<tr><th scope=row>f1</th><td>10</td><td>20</td><td>30</td></tr>\n",
              "\t<tr><th scope=row>f2</th><td> 5</td><td> 6</td><td> 7</td></tr>\n",
              "</tbody>\n",
              "</table>\n"
            ],
            "text/markdown": "\nA matrix: 2 × 3 of type dbl\n\n| <!--/--> | c1 | c2 | c3 |\n|---|---|---|---|\n| f1 | 10 | 20 | 30 |\n| f2 |  5 |  6 |  7 |\n\n",
            "text/latex": "A matrix: 2 × 3 of type dbl\n\\begin{tabular}{r|lll}\n  & c1 & c2 & c3\\\\\n\\hline\n\tf1 & 10 & 20 & 30\\\\\n\tf2 &  5 &  6 &  7\\\\\n\\end{tabular}\n",
            "text/plain": [
              "   c1 c2 c3\n",
              "f1 10 20 30\n",
              "f2  5  6  7"
            ]
          },
          "metadata": {}
        },
        {
          "output_type": "display_data",
          "data": {
            "text/html": [
              "<table class=\"dataframe\">\n",
              "<caption>A matrix: 3 × 2 of type dbl</caption>\n",
              "<thead>\n",
              "\t<tr><th></th><th scope=col>f1</th><th scope=col>f2</th></tr>\n",
              "</thead>\n",
              "<tbody>\n",
              "\t<tr><th scope=row>c1</th><td>10</td><td>5</td></tr>\n",
              "\t<tr><th scope=row>c2</th><td>20</td><td>6</td></tr>\n",
              "\t<tr><th scope=row>c3</th><td>30</td><td>7</td></tr>\n",
              "</tbody>\n",
              "</table>\n"
            ],
            "text/markdown": "\nA matrix: 3 × 2 of type dbl\n\n| <!--/--> | f1 | f2 |\n|---|---|---|\n| c1 | 10 | 5 |\n| c2 | 20 | 6 |\n| c3 | 30 | 7 |\n\n",
            "text/latex": "A matrix: 3 × 2 of type dbl\n\\begin{tabular}{r|ll}\n  & f1 & f2\\\\\n\\hline\n\tc1 & 10 & 5\\\\\n\tc2 & 20 & 6\\\\\n\tc3 & 30 & 7\\\\\n\\end{tabular}\n",
            "text/plain": [
              "   f1 f2\n",
              "c1 10 5 \n",
              "c2 20 6 \n",
              "c3 30 7 "
            ]
          },
          "metadata": {}
        }
      ]
    },
    {
      "cell_type": "code",
      "metadata": {
        "trusted": true,
        "id": "tSphDch3Sqo-",
        "outputId": "a88b0871-edbb-4d08-e656-42a56b79769d",
        "colab": {
          "base_uri": "https://localhost:8080/",
          "height": 146
        }
      },
      "source": [
        "# 3.2 Álgbra de matrices  ------------\n",
        "# Ejemplo simple de álgebra de matrices\n",
        "A+M"
      ],
      "execution_count": 37,
      "outputs": [
        {
          "output_type": "display_data",
          "data": {
            "text/html": [
              "<table class=\"dataframe\">\n",
              "<caption>A matrix: 2 × 3 of type dbl</caption>\n",
              "<thead>\n",
              "\t<tr><th></th><th scope=col>c1</th><th scope=col>c2</th><th scope=col>c3</th></tr>\n",
              "</thead>\n",
              "<tbody>\n",
              "\t<tr><th scope=row>f1</th><td>11</td><td> 22</td><td>35</td></tr>\n",
              "\t<tr><th scope=row>f2</th><td> 6</td><td>-93</td><td>15</td></tr>\n",
              "</tbody>\n",
              "</table>\n"
            ],
            "text/markdown": "\nA matrix: 2 × 3 of type dbl\n\n| <!--/--> | c1 | c2 | c3 |\n|---|---|---|---|\n| f1 | 11 |  22 | 35 |\n| f2 |  6 | -93 | 15 |\n\n",
            "text/latex": "A matrix: 2 × 3 of type dbl\n\\begin{tabular}{r|lll}\n  & c1 & c2 & c3\\\\\n\\hline\n\tf1 & 11 &  22 & 35\\\\\n\tf2 &  6 & -93 & 15\\\\\n\\end{tabular}\n",
            "text/plain": [
              "   c1 c2  c3\n",
              "f1 11  22 35\n",
              "f2  6 -93 15"
            ]
          },
          "metadata": {}
        }
      ]
    },
    {
      "cell_type": "code",
      "metadata": {
        "trusted": true,
        "id": "crNocLSqSqpA",
        "outputId": "1545da00-895b-4b17-d184-e12b8a80abbb",
        "colab": {
          "base_uri": "https://localhost:8080/",
          "height": 146
        }
      },
      "source": [
        "# Multiplicación de matrices\n",
        "A * M # multiplicación componente a componente\n"
      ],
      "execution_count": 38,
      "outputs": [
        {
          "output_type": "display_data",
          "data": {
            "text/html": [
              "<table class=\"dataframe\">\n",
              "<caption>A matrix: 2 × 3 of type dbl</caption>\n",
              "<thead>\n",
              "\t<tr><th></th><th scope=col>c1</th><th scope=col>c2</th><th scope=col>c3</th></tr>\n",
              "</thead>\n",
              "<tbody>\n",
              "\t<tr><th scope=row>f1</th><td>10</td><td>  40</td><td>150</td></tr>\n",
              "\t<tr><th scope=row>f2</th><td> 5</td><td>-594</td><td> 56</td></tr>\n",
              "</tbody>\n",
              "</table>\n"
            ],
            "text/markdown": "\nA matrix: 2 × 3 of type dbl\n\n| <!--/--> | c1 | c2 | c3 |\n|---|---|---|---|\n| f1 | 10 |   40 | 150 |\n| f2 |  5 | -594 |  56 |\n\n",
            "text/latex": "A matrix: 2 × 3 of type dbl\n\\begin{tabular}{r|lll}\n  & c1 & c2 & c3\\\\\n\\hline\n\tf1 & 10 &   40 & 150\\\\\n\tf2 &  5 & -594 &  56\\\\\n\\end{tabular}\n",
            "text/plain": [
              "   c1 c2   c3 \n",
              "f1 10   40 150\n",
              "f2  5 -594  56"
            ]
          },
          "metadata": {}
        }
      ]
    },
    {
      "cell_type": "code",
      "source": [
        "t(B) %*% A"
      ],
      "metadata": {
        "id": "xZvNNEZAI2Au",
        "outputId": "c76dd195-3fcc-4159-c0e9-c03278c88e86",
        "colab": {
          "base_uri": "https://localhost:8080/",
          "height": 146
        }
      },
      "execution_count": 46,
      "outputs": [
        {
          "output_type": "display_data",
          "data": {
            "text/html": [
              "<table class=\"dataframe\">\n",
              "<caption>A matrix: 3 × 3 of type dbl</caption>\n",
              "<tbody>\n",
              "\t<tr><td> 4</td><td>-295</td><td>29</td></tr>\n",
              "\t<tr><td> 6</td><td>-493</td><td>45</td></tr>\n",
              "\t<tr><td>10</td><td>-788</td><td>74</td></tr>\n",
              "</tbody>\n",
              "</table>\n"
            ],
            "text/markdown": "\nA matrix: 3 × 3 of type dbl\n\n|  4 | -295 | 29 |\n|  6 | -493 | 45 |\n| 10 | -788 | 74 |\n\n",
            "text/latex": "A matrix: 3 × 3 of type dbl\n\\begin{tabular}{lll}\n\t  4 & -295 & 29\\\\\n\t  6 & -493 & 45\\\\\n\t 10 & -788 & 74\\\\\n\\end{tabular}\n",
            "text/plain": [
              "     [,1] [,2] [,3]\n",
              "[1,]  4   -295 29  \n",
              "[2,]  6   -493 45  \n",
              "[3,] 10   -788 74  "
            ]
          },
          "metadata": {}
        }
      ]
    },
    {
      "cell_type": "code",
      "metadata": {
        "trusted": true,
        "id": "RdPKIzaySqpC",
        "outputId": "1a53b1d8-f29f-457a-c04f-5c52950a8061",
        "colab": {
          "base_uri": "https://localhost:8080/",
          "height": 34
        }
      },
      "source": [
        "# podemos calcular determinantes\n",
        "# ?det\n",
        "det(t(B) %*% A)\n"
      ],
      "execution_count": 43,
      "outputs": [
        {
          "output_type": "display_data",
          "data": {
            "text/html": [
              "-1.4352963262354e-12"
            ],
            "text/markdown": "-1.4352963262354e-12",
            "text/latex": "-1.4352963262354e-12",
            "text/plain": [
              "[1] -1.435296e-12"
            ]
          },
          "metadata": {}
        }
      ]
    },
    {
      "cell_type": "code",
      "metadata": {
        "trusted": true,
        "id": "Tymq9t9NSqpH",
        "outputId": "9a875eb4-e135-4593-b2a8-8ed8b96dd9f7",
        "colab": {
          "base_uri": "https://localhost:8080/",
          "height": 124
        }
      },
      "source": [
        "# Podemos invertir matrices\n",
        "# ?solve\n",
        "solve(t(B) %*% A)"
      ],
      "execution_count": 44,
      "outputs": [
        {
          "output_type": "error",
          "ename": "ERROR",
          "evalue": "Error in solve.default(t(B) %*% A): system is computationally singular: reciprocal condition number = 7.40424e-19\n",
          "traceback": [
            "Error in solve.default(t(B) %*% A): system is computationally singular: reciprocal condition number = 7.40424e-19\nTraceback:\n",
            "1. solve(t(B) %*% A)",
            "2. solve.default(t(B) %*% A)"
          ]
        }
      ]
    }
  ]
}