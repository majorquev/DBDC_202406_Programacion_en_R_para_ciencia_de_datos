{
  "nbformat": 4,
  "nbformat_minor": 0,
  "metadata": {
    "colab": {
      "provenance": [],
      "include_colab_link": true
    },
    "kernelspec": {
      "name": "ir",
      "display_name": "R"
    }
  },
  "cells": [
    {
      "cell_type": "markdown",
      "metadata": {
        "id": "view-in-github",
        "colab_type": "text"
      },
      "source": [
        "<a href=\"https://colab.research.google.com/github/majorquev/DBDC_202406_Programacion_en_R_para_ciencia_de_datos/blob/main/Clases/C3/Clase3_01_manipulacion_de_tablas_I.ipynb\" target=\"_parent\"><img src=\"https://colab.research.google.com/assets/colab-badge.svg\" alt=\"Open In Colab\"/></a>"
      ]
    },
    {
      "cell_type": "markdown",
      "metadata": {
        "trusted": true,
        "id": "ID-hRx0URPyD"
      },
      "source": [
        "# Parte 2: Manipulación de tablas en R (Parte I)\n",
        "\n",
        "\n",
        "**Autor:** Miguel Jorquera Viguera<br>\n",
        "**E-mail:** majorquev@gmail.com<br>\n",
        "**Ayudante:** Rodrigo Morales<br>\n",
        "**E-mail ayudante:** rumorale1@gmail.com\n",
        "\n",
        "## 1. Instalación de librerías\n",
        "\n",
        "En esta sección aprenderemos a realizar operaciones simples de manipulación de tablas en R. Para ello trabajaremos con la librería _dplyr_, la cual cuenta con una gran variedad de funciones para manipular tablas, entre otras.\n",
        "\n",
        "\n",
        "Una manera de instalar librerías en R es me diante la función `install.packages()`, la cual recibe como argunmento principal el nombre (enre comillas) de la librería que se desea cargar.\n",
        "\n",
        "Una vez instalada la librería la debemos cargar en la sesión de trbajao, para lo cual podemos utilizar la función `library()` la cual recibe como argumento el nombre de la librería que se quiere cargar.\n"
      ]
    },
    {
      "cell_type": "code",
      "metadata": {
        "id": "FPF3jDwbRnTs",
        "outputId": "108e2709-cabb-49e7-bad4-a0f65e6e8c89",
        "colab": {
          "base_uri": "https://localhost:8080/"
        }
      },
      "source": [
        "install.packages(\"tidyr\")"
      ],
      "execution_count": null,
      "outputs": [
        {
          "output_type": "stream",
          "name": "stderr",
          "text": [
            "Installing package into ‘/usr/local/lib/R/site-library’\n",
            "(as ‘lib’ is unspecified)\n",
            "\n"
          ]
        }
      ]
    },
    {
      "cell_type": "code",
      "metadata": {
        "trusted": true,
        "id": "jcbeiXarRPyE",
        "outputId": "7f54d856-b3a5-4950-ee86-7991b60c6b76",
        "colab": {
          "base_uri": "https://localhost:8080/"
        }
      },
      "source": [
        "# 1. Instalación de package\n",
        "# install.packages(\"dplyr\") # No instalaremos la librería pues ya viene cargada en los notebooks de azure.Probablemente sea necesario hacerlo en su entorno local.\n",
        "# Para cargar la librería\n",
        "library(\"dplyr\") # sin comillas también funciona\n",
        "\n",
        "\n"
      ],
      "execution_count": 2,
      "outputs": [
        {
          "output_type": "stream",
          "name": "stderr",
          "text": [
            "\n",
            "Attaching package: ‘dplyr’\n",
            "\n",
            "\n",
            "The following objects are masked from ‘package:stats’:\n",
            "\n",
            "    filter, lag\n",
            "\n",
            "\n",
            "The following objects are masked from ‘package:base’:\n",
            "\n",
            "    intersect, setdiff, setequal, union\n",
            "\n",
            "\n"
          ]
        }
      ]
    },
    {
      "cell_type": "markdown",
      "metadata": {
        "trusted": true,
        "id": "97hMfOQQRPyI"
      },
      "source": [
        "## 2. Funciones básicas en dplyr\n",
        "\n",
        "En todo proyecto analítico es necesario procesar, limpar y unificar disntintas fuentes de información para poder generar los análisis requeridos. Para dichas tareas, en la librería _dplyr_ contamos con funciones que nos permitirán filtrar datos, crear columnas, agrupar tablas, y cruzar tablas.\n",
        "\n",
        "A continuación trabajaremos con la siguientes funciones:<br>\n",
        "\n",
        "   `filter()`                        : Para filtrar los datos (por filas).<br>\n",
        "   `arrange()`                       : Para ordenar un dataset.<br>\n",
        "   `select()`                        : Para seleccionar y renombrar columnas.<br>\n",
        "   `mutate()`                        : Para crear (o modificar) nuevas columnas basadas en columnas existentes.<br>\n",
        "   `group_by()`                     : Para agrupar tablas.<br>\n",
        "   `sample_n()` and `sample_frac()`  : Para generar muestras aleatorias<br>\n",
        "   \n",
        "   \n",
        "Para entender el funcionamiento de estas funciones trabjaremos con el set de datos _nycflights13_, el cual contiene la información de los vuelos con salida en los aeropuertos de Nueva York en el año 2013.\n",
        "\n",
        "## 3. Carga de datos\n",
        "\n",
        "En R es posible cargar datos provenientes de archivos de texto plano. Un ejemplo de ellos son los de extensión *.csv (comma separated values). Para cargar los datos a la sesión, lo podemos realizar a través de la función `read.csv()`, la cual recibe como argumento principal la ruta del archivo a cargar.\n",
        "\n",
        "   \n",
        "   \n",
        "   "
      ]
    },
    {
      "cell_type": "code",
      "metadata": {
        "trusted": true,
        "id": "gKV9NYMORPyI",
        "outputId": "e1c43830-cf4e-4f3f-eee4-3c2ca1967dfb",
        "colab": {
          "base_uri": "https://localhost:8080/",
          "height": 34
        }
      },
      "source": [
        "getwd()"
      ],
      "execution_count": null,
      "outputs": [
        {
          "output_type": "display_data",
          "data": {
            "text/html": [
              "'/content'"
            ],
            "text/markdown": "'/content'",
            "text/latex": "'/content'",
            "text/plain": [
              "[1] \"/content\""
            ]
          },
          "metadata": {}
        }
      ]
    },
    {
      "cell_type": "code",
      "metadata": {
        "trusted": true,
        "id": "Ga1OFuNwRPyL"
      },
      "source": [
        "# Carga de datos ------\n",
        "# Usaremos la función read.csv para cargar el archivo Datasets_flights.csv ubicado en \"./Datasets/\", y lo guardamos en una variable llamada vuelo.\n",
        "airlines <- read.csv(file = \"/home/test/airlines.csv\")\n",
        "otro <- read.csv(file = \"mnist_train_small.csv\")\n"
      ],
      "execution_count": null,
      "outputs": []
    },
    {
      "cell_type": "code",
      "source": [
        "airlines\n",
        "head(otro)"
      ],
      "metadata": {
        "id": "oiOJLb7n6YR-",
        "outputId": "cadc8fc3-2fb5-4cd7-b78b-47cd225f957a",
        "colab": {
          "base_uri": "https://localhost:8080/",
          "height": 868
        }
      },
      "execution_count": null,
      "outputs": [
        {
          "output_type": "display_data",
          "data": {
            "text/html": [
              "<table class=\"dataframe\">\n",
              "<caption>A data.frame: 16 × 2</caption>\n",
              "<thead>\n",
              "\t<tr><th scope=col>carrier</th><th scope=col>name</th></tr>\n",
              "\t<tr><th scope=col>&lt;chr&gt;</th><th scope=col>&lt;chr&gt;</th></tr>\n",
              "</thead>\n",
              "<tbody>\n",
              "\t<tr><td>9E</td><td>Endeavor Air Inc.          </td></tr>\n",
              "\t<tr><td>AA</td><td>American Airlines Inc.     </td></tr>\n",
              "\t<tr><td>AS</td><td>Alaska Airlines Inc.       </td></tr>\n",
              "\t<tr><td>B6</td><td>JetBlue Airways            </td></tr>\n",
              "\t<tr><td>DL</td><td>Delta Air Lines Inc.       </td></tr>\n",
              "\t<tr><td>EV</td><td>ExpressJet Airlines Inc.   </td></tr>\n",
              "\t<tr><td>F9</td><td>Frontier Airlines Inc.     </td></tr>\n",
              "\t<tr><td>FL</td><td>AirTran Airways Corporation</td></tr>\n",
              "\t<tr><td>HA</td><td>Hawaiian Airlines Inc.     </td></tr>\n",
              "\t<tr><td>MQ</td><td>Envoy Air                  </td></tr>\n",
              "\t<tr><td>OO</td><td>SkyWest Airlines Inc.      </td></tr>\n",
              "\t<tr><td>UA</td><td>United Air Lines Inc.      </td></tr>\n",
              "\t<tr><td>US</td><td>US Airways Inc.            </td></tr>\n",
              "\t<tr><td>VX</td><td>Virgin America             </td></tr>\n",
              "\t<tr><td>WN</td><td>Southwest Airlines Co.     </td></tr>\n",
              "\t<tr><td>YV</td><td>Mesa Airlines Inc.         </td></tr>\n",
              "</tbody>\n",
              "</table>\n"
            ],
            "text/markdown": "\nA data.frame: 16 × 2\n\n| carrier &lt;chr&gt; | name &lt;chr&gt; |\n|---|---|\n| 9E | Endeavor Air Inc.           |\n| AA | American Airlines Inc.      |\n| AS | Alaska Airlines Inc.        |\n| B6 | JetBlue Airways             |\n| DL | Delta Air Lines Inc.        |\n| EV | ExpressJet Airlines Inc.    |\n| F9 | Frontier Airlines Inc.      |\n| FL | AirTran Airways Corporation |\n| HA | Hawaiian Airlines Inc.      |\n| MQ | Envoy Air                   |\n| OO | SkyWest Airlines Inc.       |\n| UA | United Air Lines Inc.       |\n| US | US Airways Inc.             |\n| VX | Virgin America              |\n| WN | Southwest Airlines Co.      |\n| YV | Mesa Airlines Inc.          |\n\n",
            "text/latex": "A data.frame: 16 × 2\n\\begin{tabular}{ll}\n carrier & name\\\\\n <chr> & <chr>\\\\\n\\hline\n\t 9E & Endeavor Air Inc.          \\\\\n\t AA & American Airlines Inc.     \\\\\n\t AS & Alaska Airlines Inc.       \\\\\n\t B6 & JetBlue Airways            \\\\\n\t DL & Delta Air Lines Inc.       \\\\\n\t EV & ExpressJet Airlines Inc.   \\\\\n\t F9 & Frontier Airlines Inc.     \\\\\n\t FL & AirTran Airways Corporation\\\\\n\t HA & Hawaiian Airlines Inc.     \\\\\n\t MQ & Envoy Air                  \\\\\n\t OO & SkyWest Airlines Inc.      \\\\\n\t UA & United Air Lines Inc.      \\\\\n\t US & US Airways Inc.            \\\\\n\t VX & Virgin America             \\\\\n\t WN & Southwest Airlines Co.     \\\\\n\t YV & Mesa Airlines Inc.         \\\\\n\\end{tabular}\n",
            "text/plain": [
              "   carrier name                       \n",
              "1  9E      Endeavor Air Inc.          \n",
              "2  AA      American Airlines Inc.     \n",
              "3  AS      Alaska Airlines Inc.       \n",
              "4  B6      JetBlue Airways            \n",
              "5  DL      Delta Air Lines Inc.       \n",
              "6  EV      ExpressJet Airlines Inc.   \n",
              "7  F9      Frontier Airlines Inc.     \n",
              "8  FL      AirTran Airways Corporation\n",
              "9  HA      Hawaiian Airlines Inc.     \n",
              "10 MQ      Envoy Air                  \n",
              "11 OO      SkyWest Airlines Inc.      \n",
              "12 UA      United Air Lines Inc.      \n",
              "13 US      US Airways Inc.            \n",
              "14 VX      Virgin America             \n",
              "15 WN      Southwest Airlines Co.     \n",
              "16 YV      Mesa Airlines Inc.         "
            ]
          },
          "metadata": {}
        },
        {
          "output_type": "display_data",
          "data": {
            "text/html": [
              "<table class=\"dataframe\">\n",
              "<caption>A data.frame: 6 × 785</caption>\n",
              "<thead>\n",
              "\t<tr><th></th><th scope=col>X6</th><th scope=col>X0</th><th scope=col>X0.1</th><th scope=col>X0.2</th><th scope=col>X0.3</th><th scope=col>X0.4</th><th scope=col>X0.5</th><th scope=col>X0.6</th><th scope=col>X0.7</th><th scope=col>X0.8</th><th scope=col>⋯</th><th scope=col>X0.581</th><th scope=col>X0.582</th><th scope=col>X0.583</th><th scope=col>X0.584</th><th scope=col>X0.585</th><th scope=col>X0.586</th><th scope=col>X0.587</th><th scope=col>X0.588</th><th scope=col>X0.589</th><th scope=col>X0.590</th></tr>\n",
              "\t<tr><th></th><th scope=col>&lt;int&gt;</th><th scope=col>&lt;int&gt;</th><th scope=col>&lt;int&gt;</th><th scope=col>&lt;int&gt;</th><th scope=col>&lt;int&gt;</th><th scope=col>&lt;int&gt;</th><th scope=col>&lt;int&gt;</th><th scope=col>&lt;int&gt;</th><th scope=col>&lt;int&gt;</th><th scope=col>&lt;int&gt;</th><th scope=col>⋯</th><th scope=col>&lt;int&gt;</th><th scope=col>&lt;int&gt;</th><th scope=col>&lt;int&gt;</th><th scope=col>&lt;int&gt;</th><th scope=col>&lt;int&gt;</th><th scope=col>&lt;int&gt;</th><th scope=col>&lt;int&gt;</th><th scope=col>&lt;int&gt;</th><th scope=col>&lt;int&gt;</th><th scope=col>&lt;int&gt;</th></tr>\n",
              "</thead>\n",
              "<tbody>\n",
              "\t<tr><th scope=row>1</th><td>5</td><td>0</td><td>0</td><td>0</td><td>0</td><td>0</td><td>0</td><td>0</td><td>0</td><td>0</td><td>⋯</td><td>0</td><td>0</td><td>0</td><td>0</td><td>0</td><td>0</td><td>0</td><td>0</td><td>0</td><td>0</td></tr>\n",
              "\t<tr><th scope=row>2</th><td>7</td><td>0</td><td>0</td><td>0</td><td>0</td><td>0</td><td>0</td><td>0</td><td>0</td><td>0</td><td>⋯</td><td>0</td><td>0</td><td>0</td><td>0</td><td>0</td><td>0</td><td>0</td><td>0</td><td>0</td><td>0</td></tr>\n",
              "\t<tr><th scope=row>3</th><td>9</td><td>0</td><td>0</td><td>0</td><td>0</td><td>0</td><td>0</td><td>0</td><td>0</td><td>0</td><td>⋯</td><td>0</td><td>0</td><td>0</td><td>0</td><td>0</td><td>0</td><td>0</td><td>0</td><td>0</td><td>0</td></tr>\n",
              "\t<tr><th scope=row>4</th><td>5</td><td>0</td><td>0</td><td>0</td><td>0</td><td>0</td><td>0</td><td>0</td><td>0</td><td>0</td><td>⋯</td><td>0</td><td>0</td><td>0</td><td>0</td><td>0</td><td>0</td><td>0</td><td>0</td><td>0</td><td>0</td></tr>\n",
              "\t<tr><th scope=row>5</th><td>2</td><td>0</td><td>0</td><td>0</td><td>0</td><td>0</td><td>0</td><td>0</td><td>0</td><td>0</td><td>⋯</td><td>0</td><td>0</td><td>0</td><td>0</td><td>0</td><td>0</td><td>0</td><td>0</td><td>0</td><td>0</td></tr>\n",
              "\t<tr><th scope=row>6</th><td>0</td><td>0</td><td>0</td><td>0</td><td>0</td><td>0</td><td>0</td><td>0</td><td>0</td><td>0</td><td>⋯</td><td>0</td><td>0</td><td>0</td><td>0</td><td>0</td><td>0</td><td>0</td><td>0</td><td>0</td><td>0</td></tr>\n",
              "</tbody>\n",
              "</table>\n"
            ],
            "text/markdown": "\nA data.frame: 6 × 785\n\n| <!--/--> | X6 &lt;int&gt; | X0 &lt;int&gt; | X0.1 &lt;int&gt; | X0.2 &lt;int&gt; | X0.3 &lt;int&gt; | X0.4 &lt;int&gt; | X0.5 &lt;int&gt; | X0.6 &lt;int&gt; | X0.7 &lt;int&gt; | X0.8 &lt;int&gt; | ⋯ ⋯ | X0.581 &lt;int&gt; | X0.582 &lt;int&gt; | X0.583 &lt;int&gt; | X0.584 &lt;int&gt; | X0.585 &lt;int&gt; | X0.586 &lt;int&gt; | X0.587 &lt;int&gt; | X0.588 &lt;int&gt; | X0.589 &lt;int&gt; | X0.590 &lt;int&gt; |\n|---|---|---|---|---|---|---|---|---|---|---|---|---|---|---|---|---|---|---|---|---|---|\n| 1 | 5 | 0 | 0 | 0 | 0 | 0 | 0 | 0 | 0 | 0 | ⋯ | 0 | 0 | 0 | 0 | 0 | 0 | 0 | 0 | 0 | 0 |\n| 2 | 7 | 0 | 0 | 0 | 0 | 0 | 0 | 0 | 0 | 0 | ⋯ | 0 | 0 | 0 | 0 | 0 | 0 | 0 | 0 | 0 | 0 |\n| 3 | 9 | 0 | 0 | 0 | 0 | 0 | 0 | 0 | 0 | 0 | ⋯ | 0 | 0 | 0 | 0 | 0 | 0 | 0 | 0 | 0 | 0 |\n| 4 | 5 | 0 | 0 | 0 | 0 | 0 | 0 | 0 | 0 | 0 | ⋯ | 0 | 0 | 0 | 0 | 0 | 0 | 0 | 0 | 0 | 0 |\n| 5 | 2 | 0 | 0 | 0 | 0 | 0 | 0 | 0 | 0 | 0 | ⋯ | 0 | 0 | 0 | 0 | 0 | 0 | 0 | 0 | 0 | 0 |\n| 6 | 0 | 0 | 0 | 0 | 0 | 0 | 0 | 0 | 0 | 0 | ⋯ | 0 | 0 | 0 | 0 | 0 | 0 | 0 | 0 | 0 | 0 |\n\n",
            "text/latex": "A data.frame: 6 × 785\n\\begin{tabular}{r|lllllllllllllllllllll}\n  & X6 & X0 & X0.1 & X0.2 & X0.3 & X0.4 & X0.5 & X0.6 & X0.7 & X0.8 & ⋯ & X0.581 & X0.582 & X0.583 & X0.584 & X0.585 & X0.586 & X0.587 & X0.588 & X0.589 & X0.590\\\\\n  & <int> & <int> & <int> & <int> & <int> & <int> & <int> & <int> & <int> & <int> & ⋯ & <int> & <int> & <int> & <int> & <int> & <int> & <int> & <int> & <int> & <int>\\\\\n\\hline\n\t1 & 5 & 0 & 0 & 0 & 0 & 0 & 0 & 0 & 0 & 0 & ⋯ & 0 & 0 & 0 & 0 & 0 & 0 & 0 & 0 & 0 & 0\\\\\n\t2 & 7 & 0 & 0 & 0 & 0 & 0 & 0 & 0 & 0 & 0 & ⋯ & 0 & 0 & 0 & 0 & 0 & 0 & 0 & 0 & 0 & 0\\\\\n\t3 & 9 & 0 & 0 & 0 & 0 & 0 & 0 & 0 & 0 & 0 & ⋯ & 0 & 0 & 0 & 0 & 0 & 0 & 0 & 0 & 0 & 0\\\\\n\t4 & 5 & 0 & 0 & 0 & 0 & 0 & 0 & 0 & 0 & 0 & ⋯ & 0 & 0 & 0 & 0 & 0 & 0 & 0 & 0 & 0 & 0\\\\\n\t5 & 2 & 0 & 0 & 0 & 0 & 0 & 0 & 0 & 0 & 0 & ⋯ & 0 & 0 & 0 & 0 & 0 & 0 & 0 & 0 & 0 & 0\\\\\n\t6 & 0 & 0 & 0 & 0 & 0 & 0 & 0 & 0 & 0 & 0 & ⋯ & 0 & 0 & 0 & 0 & 0 & 0 & 0 & 0 & 0 & 0\\\\\n\\end{tabular}\n",
            "text/plain": [
              "  X6 X0 X0.1 X0.2 X0.3 X0.4 X0.5 X0.6 X0.7 X0.8 ⋯ X0.581 X0.582 X0.583 X0.584\n",
              "1 5  0  0    0    0    0    0    0    0    0    ⋯ 0      0      0      0     \n",
              "2 7  0  0    0    0    0    0    0    0    0    ⋯ 0      0      0      0     \n",
              "3 9  0  0    0    0    0    0    0    0    0    ⋯ 0      0      0      0     \n",
              "4 5  0  0    0    0    0    0    0    0    0    ⋯ 0      0      0      0     \n",
              "5 2  0  0    0    0    0    0    0    0    0    ⋯ 0      0      0      0     \n",
              "6 0  0  0    0    0    0    0    0    0    0    ⋯ 0      0      0      0     \n",
              "  X0.585 X0.586 X0.587 X0.588 X0.589 X0.590\n",
              "1 0      0      0      0      0      0     \n",
              "2 0      0      0      0      0      0     \n",
              "3 0      0      0      0      0      0     \n",
              "4 0      0      0      0      0      0     \n",
              "5 0      0      0      0      0      0     \n",
              "6 0      0      0      0      0      0     "
            ]
          },
          "metadata": {}
        }
      ]
    },
    {
      "cell_type": "code",
      "source": [
        "vuelos <- read.csv(file = \"https://raw.githubusercontent.com/majorquev/DBDC_202406_Programacion_en_R_para_ciencia_de_datos/main/Clases/C3/Datasets/flights.csv\")"
      ],
      "metadata": {
        "id": "OT4cY2Nq8Ft-"
      },
      "execution_count": 1,
      "outputs": []
    },
    {
      "cell_type": "code",
      "metadata": {
        "trusted": true,
        "id": "XH_T6QWVRPyN",
        "outputId": "aa91c0fc-b335-46eb-ff72-f88a9e23be3c",
        "colab": {
          "base_uri": "https://localhost:8080/",
          "height": 778
        }
      },
      "source": [
        "# Podemos inspeccionar los datos cargados\n",
        "# Para ello son de utilidad las funciones head() y summary()\n",
        "head(vuelos,10)\n",
        "\n"
      ],
      "execution_count": null,
      "outputs": [
        {
          "output_type": "display_data",
          "data": {
            "text/html": [
              "<table class=\"dataframe\">\n",
              "<caption>A data.frame: 10 × 19</caption>\n",
              "<thead>\n",
              "\t<tr><th></th><th scope=col>year</th><th scope=col>month</th><th scope=col>day</th><th scope=col>dep_time</th><th scope=col>sched_dep_time</th><th scope=col>dep_delay</th><th scope=col>arr_time</th><th scope=col>sched_arr_time</th><th scope=col>arr_delay</th><th scope=col>carrier</th><th scope=col>flight</th><th scope=col>tailnum</th><th scope=col>origin</th><th scope=col>dest</th><th scope=col>air_time</th><th scope=col>distance</th><th scope=col>hour</th><th scope=col>minute</th><th scope=col>time_hour</th></tr>\n",
              "\t<tr><th></th><th scope=col>&lt;int&gt;</th><th scope=col>&lt;int&gt;</th><th scope=col>&lt;int&gt;</th><th scope=col>&lt;int&gt;</th><th scope=col>&lt;int&gt;</th><th scope=col>&lt;int&gt;</th><th scope=col>&lt;int&gt;</th><th scope=col>&lt;int&gt;</th><th scope=col>&lt;int&gt;</th><th scope=col>&lt;chr&gt;</th><th scope=col>&lt;int&gt;</th><th scope=col>&lt;chr&gt;</th><th scope=col>&lt;chr&gt;</th><th scope=col>&lt;chr&gt;</th><th scope=col>&lt;int&gt;</th><th scope=col>&lt;int&gt;</th><th scope=col>&lt;int&gt;</th><th scope=col>&lt;int&gt;</th><th scope=col>&lt;chr&gt;</th></tr>\n",
              "</thead>\n",
              "<tbody>\n",
              "\t<tr><th scope=row>1</th><td>2013</td><td>1</td><td>1</td><td>517</td><td>515</td><td> 2</td><td> 830</td><td> 819</td><td> 11</td><td>UA</td><td>1545</td><td>N14228</td><td>EWR</td><td>IAH</td><td>227</td><td>1400</td><td>5</td><td>15</td><td>2013-01-01 05:00:00</td></tr>\n",
              "\t<tr><th scope=row>2</th><td>2013</td><td>1</td><td>1</td><td>533</td><td>529</td><td> 4</td><td> 850</td><td> 830</td><td> 20</td><td>UA</td><td>1714</td><td>N24211</td><td>LGA</td><td>IAH</td><td>227</td><td>1416</td><td>5</td><td>29</td><td>2013-01-01 05:00:00</td></tr>\n",
              "\t<tr><th scope=row>3</th><td>2013</td><td>1</td><td>1</td><td>542</td><td>540</td><td> 2</td><td> 923</td><td> 850</td><td> 33</td><td>AA</td><td>1141</td><td>N619AA</td><td>JFK</td><td>MIA</td><td>160</td><td>1089</td><td>5</td><td>40</td><td>2013-01-01 05:00:00</td></tr>\n",
              "\t<tr><th scope=row>4</th><td>2013</td><td>1</td><td>1</td><td>544</td><td>545</td><td>-1</td><td>1004</td><td>1022</td><td>-18</td><td>B6</td><td> 725</td><td>N804JB</td><td>JFK</td><td>BQN</td><td>183</td><td>1576</td><td>5</td><td>45</td><td>2013-01-01 05:00:00</td></tr>\n",
              "\t<tr><th scope=row>5</th><td>2013</td><td>1</td><td>1</td><td>554</td><td>600</td><td>-6</td><td> 812</td><td> 837</td><td>-25</td><td>DL</td><td> 461</td><td>N668DN</td><td>LGA</td><td>ATL</td><td>116</td><td> 762</td><td>6</td><td> 0</td><td>2013-01-01 06:00:00</td></tr>\n",
              "\t<tr><th scope=row>6</th><td>2013</td><td>1</td><td>1</td><td>554</td><td>558</td><td>-4</td><td> 740</td><td> 728</td><td> 12</td><td>UA</td><td>1696</td><td>N39463</td><td>EWR</td><td>ORD</td><td>150</td><td> 719</td><td>5</td><td>58</td><td>2013-01-01 05:00:00</td></tr>\n",
              "\t<tr><th scope=row>7</th><td>2013</td><td>1</td><td>1</td><td>555</td><td>600</td><td>-5</td><td> 913</td><td> 854</td><td> 19</td><td>B6</td><td> 507</td><td>N516JB</td><td>EWR</td><td>FLL</td><td>158</td><td>1065</td><td>6</td><td> 0</td><td>2013-01-01 06:00:00</td></tr>\n",
              "\t<tr><th scope=row>8</th><td>2013</td><td>1</td><td>1</td><td>557</td><td>600</td><td>-3</td><td> 709</td><td> 723</td><td>-14</td><td>EV</td><td>5708</td><td>N829AS</td><td>LGA</td><td>IAD</td><td> 53</td><td> 229</td><td>6</td><td> 0</td><td>2013-01-01 06:00:00</td></tr>\n",
              "\t<tr><th scope=row>9</th><td>2013</td><td>1</td><td>1</td><td>557</td><td>600</td><td>-3</td><td> 838</td><td> 846</td><td> -8</td><td>B6</td><td>  79</td><td>N593JB</td><td>JFK</td><td>MCO</td><td>140</td><td> 944</td><td>6</td><td> 0</td><td>2013-01-01 06:00:00</td></tr>\n",
              "\t<tr><th scope=row>10</th><td>2013</td><td>1</td><td>1</td><td>558</td><td>600</td><td>-2</td><td> 753</td><td> 745</td><td>  8</td><td>AA</td><td> 301</td><td>N3ALAA</td><td>LGA</td><td>ORD</td><td>138</td><td> 733</td><td>6</td><td> 0</td><td>2013-01-01 06:00:00</td></tr>\n",
              "</tbody>\n",
              "</table>\n"
            ],
            "text/markdown": "\nA data.frame: 10 × 19\n\n| <!--/--> | year &lt;int&gt; | month &lt;int&gt; | day &lt;int&gt; | dep_time &lt;int&gt; | sched_dep_time &lt;int&gt; | dep_delay &lt;int&gt; | arr_time &lt;int&gt; | sched_arr_time &lt;int&gt; | arr_delay &lt;int&gt; | carrier &lt;chr&gt; | flight &lt;int&gt; | tailnum &lt;chr&gt; | origin &lt;chr&gt; | dest &lt;chr&gt; | air_time &lt;int&gt; | distance &lt;int&gt; | hour &lt;int&gt; | minute &lt;int&gt; | time_hour &lt;chr&gt; |\n|---|---|---|---|---|---|---|---|---|---|---|---|---|---|---|---|---|---|---|---|\n| 1 | 2013 | 1 | 1 | 517 | 515 |  2 |  830 |  819 |  11 | UA | 1545 | N14228 | EWR | IAH | 227 | 1400 | 5 | 15 | 2013-01-01 05:00:00 |\n| 2 | 2013 | 1 | 1 | 533 | 529 |  4 |  850 |  830 |  20 | UA | 1714 | N24211 | LGA | IAH | 227 | 1416 | 5 | 29 | 2013-01-01 05:00:00 |\n| 3 | 2013 | 1 | 1 | 542 | 540 |  2 |  923 |  850 |  33 | AA | 1141 | N619AA | JFK | MIA | 160 | 1089 | 5 | 40 | 2013-01-01 05:00:00 |\n| 4 | 2013 | 1 | 1 | 544 | 545 | -1 | 1004 | 1022 | -18 | B6 |  725 | N804JB | JFK | BQN | 183 | 1576 | 5 | 45 | 2013-01-01 05:00:00 |\n| 5 | 2013 | 1 | 1 | 554 | 600 | -6 |  812 |  837 | -25 | DL |  461 | N668DN | LGA | ATL | 116 |  762 | 6 |  0 | 2013-01-01 06:00:00 |\n| 6 | 2013 | 1 | 1 | 554 | 558 | -4 |  740 |  728 |  12 | UA | 1696 | N39463 | EWR | ORD | 150 |  719 | 5 | 58 | 2013-01-01 05:00:00 |\n| 7 | 2013 | 1 | 1 | 555 | 600 | -5 |  913 |  854 |  19 | B6 |  507 | N516JB | EWR | FLL | 158 | 1065 | 6 |  0 | 2013-01-01 06:00:00 |\n| 8 | 2013 | 1 | 1 | 557 | 600 | -3 |  709 |  723 | -14 | EV | 5708 | N829AS | LGA | IAD |  53 |  229 | 6 |  0 | 2013-01-01 06:00:00 |\n| 9 | 2013 | 1 | 1 | 557 | 600 | -3 |  838 |  846 |  -8 | B6 |   79 | N593JB | JFK | MCO | 140 |  944 | 6 |  0 | 2013-01-01 06:00:00 |\n| 10 | 2013 | 1 | 1 | 558 | 600 | -2 |  753 |  745 |   8 | AA |  301 | N3ALAA | LGA | ORD | 138 |  733 | 6 |  0 | 2013-01-01 06:00:00 |\n\n",
            "text/latex": "A data.frame: 10 × 19\n\\begin{tabular}{r|lllllllllllllllllll}\n  & year & month & day & dep\\_time & sched\\_dep\\_time & dep\\_delay & arr\\_time & sched\\_arr\\_time & arr\\_delay & carrier & flight & tailnum & origin & dest & air\\_time & distance & hour & minute & time\\_hour\\\\\n  & <int> & <int> & <int> & <int> & <int> & <int> & <int> & <int> & <int> & <chr> & <int> & <chr> & <chr> & <chr> & <int> & <int> & <int> & <int> & <chr>\\\\\n\\hline\n\t1 & 2013 & 1 & 1 & 517 & 515 &  2 &  830 &  819 &  11 & UA & 1545 & N14228 & EWR & IAH & 227 & 1400 & 5 & 15 & 2013-01-01 05:00:00\\\\\n\t2 & 2013 & 1 & 1 & 533 & 529 &  4 &  850 &  830 &  20 & UA & 1714 & N24211 & LGA & IAH & 227 & 1416 & 5 & 29 & 2013-01-01 05:00:00\\\\\n\t3 & 2013 & 1 & 1 & 542 & 540 &  2 &  923 &  850 &  33 & AA & 1141 & N619AA & JFK & MIA & 160 & 1089 & 5 & 40 & 2013-01-01 05:00:00\\\\\n\t4 & 2013 & 1 & 1 & 544 & 545 & -1 & 1004 & 1022 & -18 & B6 &  725 & N804JB & JFK & BQN & 183 & 1576 & 5 & 45 & 2013-01-01 05:00:00\\\\\n\t5 & 2013 & 1 & 1 & 554 & 600 & -6 &  812 &  837 & -25 & DL &  461 & N668DN & LGA & ATL & 116 &  762 & 6 &  0 & 2013-01-01 06:00:00\\\\\n\t6 & 2013 & 1 & 1 & 554 & 558 & -4 &  740 &  728 &  12 & UA & 1696 & N39463 & EWR & ORD & 150 &  719 & 5 & 58 & 2013-01-01 05:00:00\\\\\n\t7 & 2013 & 1 & 1 & 555 & 600 & -5 &  913 &  854 &  19 & B6 &  507 & N516JB & EWR & FLL & 158 & 1065 & 6 &  0 & 2013-01-01 06:00:00\\\\\n\t8 & 2013 & 1 & 1 & 557 & 600 & -3 &  709 &  723 & -14 & EV & 5708 & N829AS & LGA & IAD &  53 &  229 & 6 &  0 & 2013-01-01 06:00:00\\\\\n\t9 & 2013 & 1 & 1 & 557 & 600 & -3 &  838 &  846 &  -8 & B6 &   79 & N593JB & JFK & MCO & 140 &  944 & 6 &  0 & 2013-01-01 06:00:00\\\\\n\t10 & 2013 & 1 & 1 & 558 & 600 & -2 &  753 &  745 &   8 & AA &  301 & N3ALAA & LGA & ORD & 138 &  733 & 6 &  0 & 2013-01-01 06:00:00\\\\\n\\end{tabular}\n",
            "text/plain": [
              "   year month day dep_time sched_dep_time dep_delay arr_time sched_arr_time\n",
              "1  2013 1     1   517      515             2         830      819          \n",
              "2  2013 1     1   533      529             4         850      830          \n",
              "3  2013 1     1   542      540             2         923      850          \n",
              "4  2013 1     1   544      545            -1        1004     1022          \n",
              "5  2013 1     1   554      600            -6         812      837          \n",
              "6  2013 1     1   554      558            -4         740      728          \n",
              "7  2013 1     1   555      600            -5         913      854          \n",
              "8  2013 1     1   557      600            -3         709      723          \n",
              "9  2013 1     1   557      600            -3         838      846          \n",
              "10 2013 1     1   558      600            -2         753      745          \n",
              "   arr_delay carrier flight tailnum origin dest air_time distance hour minute\n",
              "1   11       UA      1545   N14228  EWR    IAH  227      1400     5    15    \n",
              "2   20       UA      1714   N24211  LGA    IAH  227      1416     5    29    \n",
              "3   33       AA      1141   N619AA  JFK    MIA  160      1089     5    40    \n",
              "4  -18       B6       725   N804JB  JFK    BQN  183      1576     5    45    \n",
              "5  -25       DL       461   N668DN  LGA    ATL  116       762     6     0    \n",
              "6   12       UA      1696   N39463  EWR    ORD  150       719     5    58    \n",
              "7   19       B6       507   N516JB  EWR    FLL  158      1065     6     0    \n",
              "8  -14       EV      5708   N829AS  LGA    IAD   53       229     6     0    \n",
              "9   -8       B6        79   N593JB  JFK    MCO  140       944     6     0    \n",
              "10   8       AA       301   N3ALAA  LGA    ORD  138       733     6     0    \n",
              "   time_hour          \n",
              "1  2013-01-01 05:00:00\n",
              "2  2013-01-01 05:00:00\n",
              "3  2013-01-01 05:00:00\n",
              "4  2013-01-01 05:00:00\n",
              "5  2013-01-01 06:00:00\n",
              "6  2013-01-01 05:00:00\n",
              "7  2013-01-01 06:00:00\n",
              "8  2013-01-01 06:00:00\n",
              "9  2013-01-01 06:00:00\n",
              "10 2013-01-01 06:00:00"
            ]
          },
          "metadata": {}
        }
      ]
    },
    {
      "cell_type": "code",
      "source": [
        "tail(vuelos)"
      ],
      "metadata": {
        "id": "4tg7TivE9Qo_",
        "outputId": "8bce84e4-fb86-4c3d-e77d-9113d9b442ca",
        "colab": {
          "base_uri": "https://localhost:8080/",
          "height": 514
        }
      },
      "execution_count": null,
      "outputs": [
        {
          "output_type": "display_data",
          "data": {
            "text/html": [
              "<table class=\"dataframe\">\n",
              "<caption>A data.frame: 6 × 19</caption>\n",
              "<thead>\n",
              "\t<tr><th></th><th scope=col>year</th><th scope=col>month</th><th scope=col>day</th><th scope=col>dep_time</th><th scope=col>sched_dep_time</th><th scope=col>dep_delay</th><th scope=col>arr_time</th><th scope=col>sched_arr_time</th><th scope=col>arr_delay</th><th scope=col>carrier</th><th scope=col>flight</th><th scope=col>tailnum</th><th scope=col>origin</th><th scope=col>dest</th><th scope=col>air_time</th><th scope=col>distance</th><th scope=col>hour</th><th scope=col>minute</th><th scope=col>time_hour</th></tr>\n",
              "\t<tr><th></th><th scope=col>&lt;int&gt;</th><th scope=col>&lt;int&gt;</th><th scope=col>&lt;int&gt;</th><th scope=col>&lt;int&gt;</th><th scope=col>&lt;int&gt;</th><th scope=col>&lt;int&gt;</th><th scope=col>&lt;int&gt;</th><th scope=col>&lt;int&gt;</th><th scope=col>&lt;int&gt;</th><th scope=col>&lt;chr&gt;</th><th scope=col>&lt;int&gt;</th><th scope=col>&lt;chr&gt;</th><th scope=col>&lt;chr&gt;</th><th scope=col>&lt;chr&gt;</th><th scope=col>&lt;int&gt;</th><th scope=col>&lt;int&gt;</th><th scope=col>&lt;int&gt;</th><th scope=col>&lt;int&gt;</th><th scope=col>&lt;chr&gt;</th></tr>\n",
              "</thead>\n",
              "<tbody>\n",
              "\t<tr><th scope=row>336771</th><td>2013</td><td>9</td><td>30</td><td>NA</td><td>1842</td><td>NA</td><td>NA</td><td>2019</td><td>NA</td><td>EV</td><td>5274</td><td>N740EV</td><td>LGA</td><td>BNA</td><td>NA</td><td>764</td><td>18</td><td>42</td><td>2013-09-30 18:00:00</td></tr>\n",
              "\t<tr><th scope=row>336772</th><td>2013</td><td>9</td><td>30</td><td>NA</td><td>1455</td><td>NA</td><td>NA</td><td>1634</td><td>NA</td><td>9E</td><td>3393</td><td>NA    </td><td>JFK</td><td>DCA</td><td>NA</td><td>213</td><td>14</td><td>55</td><td>2013-09-30 14:00:00</td></tr>\n",
              "\t<tr><th scope=row>336773</th><td>2013</td><td>9</td><td>30</td><td>NA</td><td>2200</td><td>NA</td><td>NA</td><td>2312</td><td>NA</td><td>9E</td><td>3525</td><td>NA    </td><td>LGA</td><td>SYR</td><td>NA</td><td>198</td><td>22</td><td> 0</td><td>2013-09-30 22:00:00</td></tr>\n",
              "\t<tr><th scope=row>336774</th><td>2013</td><td>9</td><td>30</td><td>NA</td><td>1210</td><td>NA</td><td>NA</td><td>1330</td><td>NA</td><td>MQ</td><td>3461</td><td>N535MQ</td><td>LGA</td><td>BNA</td><td>NA</td><td>764</td><td>12</td><td>10</td><td>2013-09-30 12:00:00</td></tr>\n",
              "\t<tr><th scope=row>336775</th><td>2013</td><td>9</td><td>30</td><td>NA</td><td>1159</td><td>NA</td><td>NA</td><td>1344</td><td>NA</td><td>MQ</td><td>3572</td><td>N511MQ</td><td>LGA</td><td>CLE</td><td>NA</td><td>419</td><td>11</td><td>59</td><td>2013-09-30 11:00:00</td></tr>\n",
              "\t<tr><th scope=row>336776</th><td>2013</td><td>9</td><td>30</td><td>NA</td><td> 840</td><td>NA</td><td>NA</td><td>1020</td><td>NA</td><td>MQ</td><td>3531</td><td>N839MQ</td><td>LGA</td><td>RDU</td><td>NA</td><td>431</td><td> 8</td><td>40</td><td>2013-09-30 08:00:00</td></tr>\n",
              "</tbody>\n",
              "</table>\n"
            ],
            "text/markdown": "\nA data.frame: 6 × 19\n\n| <!--/--> | year &lt;int&gt; | month &lt;int&gt; | day &lt;int&gt; | dep_time &lt;int&gt; | sched_dep_time &lt;int&gt; | dep_delay &lt;int&gt; | arr_time &lt;int&gt; | sched_arr_time &lt;int&gt; | arr_delay &lt;int&gt; | carrier &lt;chr&gt; | flight &lt;int&gt; | tailnum &lt;chr&gt; | origin &lt;chr&gt; | dest &lt;chr&gt; | air_time &lt;int&gt; | distance &lt;int&gt; | hour &lt;int&gt; | minute &lt;int&gt; | time_hour &lt;chr&gt; |\n|---|---|---|---|---|---|---|---|---|---|---|---|---|---|---|---|---|---|---|---|\n| 336771 | 2013 | 9 | 30 | NA | 1842 | NA | NA | 2019 | NA | EV | 5274 | N740EV | LGA | BNA | NA | 764 | 18 | 42 | 2013-09-30 18:00:00 |\n| 336772 | 2013 | 9 | 30 | NA | 1455 | NA | NA | 1634 | NA | 9E | 3393 | NA     | JFK | DCA | NA | 213 | 14 | 55 | 2013-09-30 14:00:00 |\n| 336773 | 2013 | 9 | 30 | NA | 2200 | NA | NA | 2312 | NA | 9E | 3525 | NA     | LGA | SYR | NA | 198 | 22 |  0 | 2013-09-30 22:00:00 |\n| 336774 | 2013 | 9 | 30 | NA | 1210 | NA | NA | 1330 | NA | MQ | 3461 | N535MQ | LGA | BNA | NA | 764 | 12 | 10 | 2013-09-30 12:00:00 |\n| 336775 | 2013 | 9 | 30 | NA | 1159 | NA | NA | 1344 | NA | MQ | 3572 | N511MQ | LGA | CLE | NA | 419 | 11 | 59 | 2013-09-30 11:00:00 |\n| 336776 | 2013 | 9 | 30 | NA |  840 | NA | NA | 1020 | NA | MQ | 3531 | N839MQ | LGA | RDU | NA | 431 |  8 | 40 | 2013-09-30 08:00:00 |\n\n",
            "text/latex": "A data.frame: 6 × 19\n\\begin{tabular}{r|lllllllllllllllllll}\n  & year & month & day & dep\\_time & sched\\_dep\\_time & dep\\_delay & arr\\_time & sched\\_arr\\_time & arr\\_delay & carrier & flight & tailnum & origin & dest & air\\_time & distance & hour & minute & time\\_hour\\\\\n  & <int> & <int> & <int> & <int> & <int> & <int> & <int> & <int> & <int> & <chr> & <int> & <chr> & <chr> & <chr> & <int> & <int> & <int> & <int> & <chr>\\\\\n\\hline\n\t336771 & 2013 & 9 & 30 & NA & 1842 & NA & NA & 2019 & NA & EV & 5274 & N740EV & LGA & BNA & NA & 764 & 18 & 42 & 2013-09-30 18:00:00\\\\\n\t336772 & 2013 & 9 & 30 & NA & 1455 & NA & NA & 1634 & NA & 9E & 3393 & NA     & JFK & DCA & NA & 213 & 14 & 55 & 2013-09-30 14:00:00\\\\\n\t336773 & 2013 & 9 & 30 & NA & 2200 & NA & NA & 2312 & NA & 9E & 3525 & NA     & LGA & SYR & NA & 198 & 22 &  0 & 2013-09-30 22:00:00\\\\\n\t336774 & 2013 & 9 & 30 & NA & 1210 & NA & NA & 1330 & NA & MQ & 3461 & N535MQ & LGA & BNA & NA & 764 & 12 & 10 & 2013-09-30 12:00:00\\\\\n\t336775 & 2013 & 9 & 30 & NA & 1159 & NA & NA & 1344 & NA & MQ & 3572 & N511MQ & LGA & CLE & NA & 419 & 11 & 59 & 2013-09-30 11:00:00\\\\\n\t336776 & 2013 & 9 & 30 & NA &  840 & NA & NA & 1020 & NA & MQ & 3531 & N839MQ & LGA & RDU & NA & 431 &  8 & 40 & 2013-09-30 08:00:00\\\\\n\\end{tabular}\n",
            "text/plain": [
              "       year month day dep_time sched_dep_time dep_delay arr_time sched_arr_time\n",
              "336771 2013 9     30  NA       1842           NA        NA       2019          \n",
              "336772 2013 9     30  NA       1455           NA        NA       1634          \n",
              "336773 2013 9     30  NA       2200           NA        NA       2312          \n",
              "336774 2013 9     30  NA       1210           NA        NA       1330          \n",
              "336775 2013 9     30  NA       1159           NA        NA       1344          \n",
              "336776 2013 9     30  NA        840           NA        NA       1020          \n",
              "       arr_delay carrier flight tailnum origin dest air_time distance hour\n",
              "336771 NA        EV      5274   N740EV  LGA    BNA  NA       764      18  \n",
              "336772 NA        9E      3393   NA      JFK    DCA  NA       213      14  \n",
              "336773 NA        9E      3525   NA      LGA    SYR  NA       198      22  \n",
              "336774 NA        MQ      3461   N535MQ  LGA    BNA  NA       764      12  \n",
              "336775 NA        MQ      3572   N511MQ  LGA    CLE  NA       419      11  \n",
              "336776 NA        MQ      3531   N839MQ  LGA    RDU  NA       431       8  \n",
              "       minute time_hour          \n",
              "336771 42     2013-09-30 18:00:00\n",
              "336772 55     2013-09-30 14:00:00\n",
              "336773  0     2013-09-30 22:00:00\n",
              "336774 10     2013-09-30 12:00:00\n",
              "336775 59     2013-09-30 11:00:00\n",
              "336776 40     2013-09-30 08:00:00"
            ]
          },
          "metadata": {}
        }
      ]
    },
    {
      "cell_type": "code",
      "source": [
        "# ¿Cuántos registros tienen las tablas?\n",
        "dim(vuelos)# cantidad de Filas y columnas\n",
        "nrow(vuelos)# Cantidad de filas\n",
        "dim(vuelos)[1]# Cantidad de filas"
      ],
      "metadata": {
        "id": "zoMZKYSl9X3a",
        "outputId": "67d0fd80-90bc-4128-9b54-b8f4cca7f3a1",
        "colab": {
          "base_uri": "https://localhost:8080/",
          "height": 69
        }
      },
      "execution_count": null,
      "outputs": [
        {
          "output_type": "display_data",
          "data": {
            "text/html": [
              "<style>\n",
              ".list-inline {list-style: none; margin:0; padding: 0}\n",
              ".list-inline>li {display: inline-block}\n",
              ".list-inline>li:not(:last-child)::after {content: \"\\00b7\"; padding: 0 .5ex}\n",
              "</style>\n",
              "<ol class=list-inline><li>336776</li><li>19</li></ol>\n"
            ],
            "text/markdown": "1. 336776\n2. 19\n\n\n",
            "text/latex": "\\begin{enumerate*}\n\\item 336776\n\\item 19\n\\end{enumerate*}\n",
            "text/plain": [
              "[1] 336776     19"
            ]
          },
          "metadata": {}
        },
        {
          "output_type": "display_data",
          "data": {
            "text/html": [
              "336776"
            ],
            "text/markdown": "336776",
            "text/latex": "336776",
            "text/plain": [
              "[1] 336776"
            ]
          },
          "metadata": {}
        },
        {
          "output_type": "display_data",
          "data": {
            "text/html": [
              "336776"
            ],
            "text/markdown": "336776",
            "text/latex": "336776",
            "text/plain": [
              "[1] 336776"
            ]
          },
          "metadata": {}
        }
      ]
    },
    {
      "cell_type": "code",
      "metadata": {
        "trusted": true,
        "id": "lnAkEF3NRPyQ",
        "outputId": "88bfad31-9454-4a72-98d4-f1590b2d7367",
        "colab": {
          "base_uri": "https://localhost:8080/",
          "height": 711
        }
      },
      "source": [
        "summary(vuelos)"
      ],
      "execution_count": null,
      "outputs": [
        {
          "output_type": "display_data",
          "data": {
            "text/plain": [
              "      year          month             day           dep_time    sched_dep_time\n",
              " Min.   :2013   Min.   : 1.000   Min.   : 1.00   Min.   :   1   Min.   : 106  \n",
              " 1st Qu.:2013   1st Qu.: 4.000   1st Qu.: 8.00   1st Qu.: 907   1st Qu.: 906  \n",
              " Median :2013   Median : 7.000   Median :16.00   Median :1401   Median :1359  \n",
              " Mean   :2013   Mean   : 6.549   Mean   :15.71   Mean   :1349   Mean   :1344  \n",
              " 3rd Qu.:2013   3rd Qu.:10.000   3rd Qu.:23.00   3rd Qu.:1744   3rd Qu.:1729  \n",
              " Max.   :2013   Max.   :12.000   Max.   :31.00   Max.   :2400   Max.   :2359  \n",
              "                                                 NA's   :8255                 \n",
              "   dep_delay          arr_time    sched_arr_time   arr_delay       \n",
              " Min.   : -43.00   Min.   :   1   Min.   :   1   Min.   : -86.000  \n",
              " 1st Qu.:  -5.00   1st Qu.:1104   1st Qu.:1124   1st Qu.: -17.000  \n",
              " Median :  -2.00   Median :1535   Median :1556   Median :  -5.000  \n",
              " Mean   :  12.64   Mean   :1502   Mean   :1536   Mean   :   6.895  \n",
              " 3rd Qu.:  11.00   3rd Qu.:1940   3rd Qu.:1945   3rd Qu.:  14.000  \n",
              " Max.   :1301.00   Max.   :2400   Max.   :2359   Max.   :1272.000  \n",
              " NA's   :8255      NA's   :8713                  NA's   :9430      \n",
              "   carrier              flight       tailnum             origin         \n",
              " Length:336776      Min.   :   1   Length:336776      Length:336776     \n",
              " Class :character   1st Qu.: 553   Class :character   Class :character  \n",
              " Mode  :character   Median :1496   Mode  :character   Mode  :character  \n",
              "                    Mean   :1972                                        \n",
              "                    3rd Qu.:3465                                        \n",
              "                    Max.   :8500                                        \n",
              "                                                                        \n",
              "     dest              air_time        distance         hour      \n",
              " Length:336776      Min.   : 20.0   Min.   :  17   Min.   : 1.00  \n",
              " Class :character   1st Qu.: 82.0   1st Qu.: 502   1st Qu.: 9.00  \n",
              " Mode  :character   Median :129.0   Median : 872   Median :13.00  \n",
              "                    Mean   :150.7   Mean   :1040   Mean   :13.18  \n",
              "                    3rd Qu.:192.0   3rd Qu.:1389   3rd Qu.:17.00  \n",
              "                    Max.   :695.0   Max.   :4983   Max.   :23.00  \n",
              "                    NA's   :9430                                  \n",
              "     minute       time_hour        \n",
              " Min.   : 0.00   Length:336776     \n",
              " 1st Qu.: 8.00   Class :character  \n",
              " Median :29.00   Mode  :character  \n",
              " Mean   :26.23                     \n",
              " 3rd Qu.:44.00                     \n",
              " Max.   :59.00                     \n",
              "                                   "
            ]
          },
          "metadata": {}
        }
      ]
    },
    {
      "cell_type": "code",
      "metadata": {
        "trusted": true,
        "id": "OlWowRWVRPyS",
        "outputId": "6eb581bc-0f36-4534-db13-49c27299118f",
        "colab": {
          "base_uri": "https://localhost:8080/"
        }
      },
      "source": [
        "#glimpse() o str()\n",
        "str(vuelos)"
      ],
      "execution_count": null,
      "outputs": [
        {
          "output_type": "stream",
          "name": "stdout",
          "text": [
            "'data.frame':\t336776 obs. of  19 variables:\n",
            " $ year          : int  2013 2013 2013 2013 2013 2013 2013 2013 2013 2013 ...\n",
            " $ month         : int  1 1 1 1 1 1 1 1 1 1 ...\n",
            " $ day           : int  1 1 1 1 1 1 1 1 1 1 ...\n",
            " $ dep_time      : int  517 533 542 544 554 554 555 557 557 558 ...\n",
            " $ sched_dep_time: int  515 529 540 545 600 558 600 600 600 600 ...\n",
            " $ dep_delay     : int  2 4 2 -1 -6 -4 -5 -3 -3 -2 ...\n",
            " $ arr_time      : int  830 850 923 1004 812 740 913 709 838 753 ...\n",
            " $ sched_arr_time: int  819 830 850 1022 837 728 854 723 846 745 ...\n",
            " $ arr_delay     : int  11 20 33 -18 -25 12 19 -14 -8 8 ...\n",
            " $ carrier       : chr  \"UA\" \"UA\" \"AA\" \"B6\" ...\n",
            " $ flight        : int  1545 1714 1141 725 461 1696 507 5708 79 301 ...\n",
            " $ tailnum       : chr  \"N14228\" \"N24211\" \"N619AA\" \"N804JB\" ...\n",
            " $ origin        : chr  \"EWR\" \"LGA\" \"JFK\" \"JFK\" ...\n",
            " $ dest          : chr  \"IAH\" \"IAH\" \"MIA\" \"BQN\" ...\n",
            " $ air_time      : int  227 227 160 183 116 150 158 53 140 138 ...\n",
            " $ distance      : int  1400 1416 1089 1576 762 719 1065 229 944 733 ...\n",
            " $ hour          : int  5 5 5 5 6 5 6 6 6 6 ...\n",
            " $ minute        : int  15 29 40 45 0 58 0 0 0 0 ...\n",
            " $ time_hour     : chr  \"2013-01-01 05:00:00\" \"2013-01-01 05:00:00\" \"2013-01-01 05:00:00\" \"2013-01-01 05:00:00\" ...\n"
          ]
        }
      ]
    },
    {
      "cell_type": "code",
      "source": [
        "glimpse(vuelos)"
      ],
      "metadata": {
        "id": "ZkWxa2la-XDU",
        "outputId": "eceaf514-f552-4c5b-d493-1f02872f07ca",
        "colab": {
          "base_uri": "https://localhost:8080/"
        }
      },
      "execution_count": null,
      "outputs": [
        {
          "output_type": "stream",
          "name": "stdout",
          "text": [
            "Rows: 336,776\n",
            "Columns: 19\n",
            "$ year           \u001b[3m\u001b[90m<int>\u001b[39m\u001b[23m 2013, 2013, 2013, 2013, 2013, 2013, 2013, 2013, 2013, 2…\n",
            "$ month          \u001b[3m\u001b[90m<int>\u001b[39m\u001b[23m 1, 1, 1, 1, 1, 1, 1, 1, 1, 1, 1, 1, 1, 1, 1, 1, 1, 1, 1…\n",
            "$ day            \u001b[3m\u001b[90m<int>\u001b[39m\u001b[23m 1, 1, 1, 1, 1, 1, 1, 1, 1, 1, 1, 1, 1, 1, 1, 1, 1, 1, 1…\n",
            "$ dep_time       \u001b[3m\u001b[90m<int>\u001b[39m\u001b[23m 517, 533, 542, 544, 554, 554, 555, 557, 557, 558, 558, …\n",
            "$ sched_dep_time \u001b[3m\u001b[90m<int>\u001b[39m\u001b[23m 515, 529, 540, 545, 600, 558, 600, 600, 600, 600, 600, …\n",
            "$ dep_delay      \u001b[3m\u001b[90m<int>\u001b[39m\u001b[23m 2, 4, 2, -1, -6, -4, -5, -3, -3, -2, -2, -2, -2, -2, -1…\n",
            "$ arr_time       \u001b[3m\u001b[90m<int>\u001b[39m\u001b[23m 830, 850, 923, 1004, 812, 740, 913, 709, 838, 753, 849,…\n",
            "$ sched_arr_time \u001b[3m\u001b[90m<int>\u001b[39m\u001b[23m 819, 830, 850, 1022, 837, 728, 854, 723, 846, 745, 851,…\n",
            "$ arr_delay      \u001b[3m\u001b[90m<int>\u001b[39m\u001b[23m 11, 20, 33, -18, -25, 12, 19, -14, -8, 8, -2, -3, 7, -1…\n",
            "$ carrier        \u001b[3m\u001b[90m<chr>\u001b[39m\u001b[23m \"UA\", \"UA\", \"AA\", \"B6\", \"DL\", \"UA\", \"B6\", \"EV\", \"B6\", \"…\n",
            "$ flight         \u001b[3m\u001b[90m<int>\u001b[39m\u001b[23m 1545, 1714, 1141, 725, 461, 1696, 507, 5708, 79, 301, 4…\n",
            "$ tailnum        \u001b[3m\u001b[90m<chr>\u001b[39m\u001b[23m \"N14228\", \"N24211\", \"N619AA\", \"N804JB\", \"N668DN\", \"N394…\n",
            "$ origin         \u001b[3m\u001b[90m<chr>\u001b[39m\u001b[23m \"EWR\", \"LGA\", \"JFK\", \"JFK\", \"LGA\", \"EWR\", \"EWR\", \"LGA\",…\n",
            "$ dest           \u001b[3m\u001b[90m<chr>\u001b[39m\u001b[23m \"IAH\", \"IAH\", \"MIA\", \"BQN\", \"ATL\", \"ORD\", \"FLL\", \"IAD\",…\n",
            "$ air_time       \u001b[3m\u001b[90m<int>\u001b[39m\u001b[23m 227, 227, 160, 183, 116, 150, 158, 53, 140, 138, 149, 1…\n",
            "$ distance       \u001b[3m\u001b[90m<int>\u001b[39m\u001b[23m 1400, 1416, 1089, 1576, 762, 719, 1065, 229, 944, 733, …\n",
            "$ hour           \u001b[3m\u001b[90m<int>\u001b[39m\u001b[23m 5, 5, 5, 5, 6, 5, 6, 6, 6, 6, 6, 6, 6, 6, 6, 5, 6, 6, 6…\n",
            "$ minute         \u001b[3m\u001b[90m<int>\u001b[39m\u001b[23m 15, 29, 40, 45, 0, 58, 0, 0, 0, 0, 0, 0, 0, 0, 0, 59, 0…\n",
            "$ time_hour      \u001b[3m\u001b[90m<chr>\u001b[39m\u001b[23m \"2013-01-01 05:00:00\", \"2013-01-01 05:00:00\", \"2013-01-…\n"
          ]
        }
      ]
    },
    {
      "cell_type": "code",
      "source": [
        "#NOTA: Tipo de dato _factor_"
      ],
      "metadata": {
        "id": "vgIa4gDp-eDz"
      },
      "execution_count": null,
      "outputs": []
    },
    {
      "cell_type": "code",
      "source": [
        "ejemplo <- data.frame(letra = c(\"A\",\"A\",\"B\",\"C\",\"C\",\"C\",\"D\",\"E\",\"E\"), ID = 1:9)"
      ],
      "metadata": {
        "id": "HbtTzefD-mwm"
      },
      "execution_count": null,
      "outputs": []
    },
    {
      "cell_type": "code",
      "source": [
        "ejemplo"
      ],
      "metadata": {
        "id": "I32F8OPm-0iZ",
        "outputId": "65aa0e45-fac4-4a39-8eec-d812a702443e",
        "colab": {
          "base_uri": "https://localhost:8080/",
          "height": 397
        }
      },
      "execution_count": null,
      "outputs": [
        {
          "output_type": "display_data",
          "data": {
            "text/html": [
              "<table class=\"dataframe\">\n",
              "<caption>A data.frame: 9 × 2</caption>\n",
              "<thead>\n",
              "\t<tr><th scope=col>letra</th><th scope=col>ID</th></tr>\n",
              "\t<tr><th scope=col>&lt;chr&gt;</th><th scope=col>&lt;int&gt;</th></tr>\n",
              "</thead>\n",
              "<tbody>\n",
              "\t<tr><td>A</td><td>1</td></tr>\n",
              "\t<tr><td>A</td><td>2</td></tr>\n",
              "\t<tr><td>B</td><td>3</td></tr>\n",
              "\t<tr><td>C</td><td>4</td></tr>\n",
              "\t<tr><td>C</td><td>5</td></tr>\n",
              "\t<tr><td>C</td><td>6</td></tr>\n",
              "\t<tr><td>D</td><td>7</td></tr>\n",
              "\t<tr><td>E</td><td>8</td></tr>\n",
              "\t<tr><td>E</td><td>9</td></tr>\n",
              "</tbody>\n",
              "</table>\n"
            ],
            "text/markdown": "\nA data.frame: 9 × 2\n\n| letra &lt;chr&gt; | ID &lt;int&gt; |\n|---|---|\n| A | 1 |\n| A | 2 |\n| B | 3 |\n| C | 4 |\n| C | 5 |\n| C | 6 |\n| D | 7 |\n| E | 8 |\n| E | 9 |\n\n",
            "text/latex": "A data.frame: 9 × 2\n\\begin{tabular}{ll}\n letra & ID\\\\\n <chr> & <int>\\\\\n\\hline\n\t A & 1\\\\\n\t A & 2\\\\\n\t B & 3\\\\\n\t C & 4\\\\\n\t C & 5\\\\\n\t C & 6\\\\\n\t D & 7\\\\\n\t E & 8\\\\\n\t E & 9\\\\\n\\end{tabular}\n",
            "text/plain": [
              "  letra ID\n",
              "1 A     1 \n",
              "2 A     2 \n",
              "3 B     3 \n",
              "4 C     4 \n",
              "5 C     5 \n",
              "6 C     6 \n",
              "7 D     7 \n",
              "8 E     8 \n",
              "9 E     9 "
            ]
          },
          "metadata": {}
        }
      ]
    },
    {
      "cell_type": "code",
      "source": [
        "summary(ejemplo)"
      ],
      "metadata": {
        "id": "NV9wJMaK-6MV",
        "outputId": "f72accac-033b-4db4-c794-33b25b838c8e",
        "colab": {
          "base_uri": "https://localhost:8080/",
          "height": 139
        }
      },
      "execution_count": null,
      "outputs": [
        {
          "output_type": "display_data",
          "data": {
            "text/plain": [
              "    letra                 ID   \n",
              " Length:9           Min.   :1  \n",
              " Class :character   1st Qu.:3  \n",
              " Mode  :character   Median :5  \n",
              "                    Mean   :5  \n",
              "                    3rd Qu.:7  \n",
              "                    Max.   :9  "
            ]
          },
          "metadata": {}
        }
      ]
    },
    {
      "cell_type": "code",
      "source": [
        "ejemplo$letra <- as.factor(ejemplo$letra)"
      ],
      "metadata": {
        "id": "ZU3f2eYU_pYF"
      },
      "execution_count": null,
      "outputs": []
    },
    {
      "cell_type": "code",
      "source": [
        "ejemplo"
      ],
      "metadata": {
        "id": "JsToqNWc_x5o",
        "outputId": "6b1df6f6-0bf3-46fa-9608-87f7dddc4c92",
        "colab": {
          "base_uri": "https://localhost:8080/",
          "height": 397
        }
      },
      "execution_count": null,
      "outputs": [
        {
          "output_type": "display_data",
          "data": {
            "text/html": [
              "<table class=\"dataframe\">\n",
              "<caption>A data.frame: 9 × 2</caption>\n",
              "<thead>\n",
              "\t<tr><th scope=col>letra</th><th scope=col>ID</th></tr>\n",
              "\t<tr><th scope=col>&lt;fct&gt;</th><th scope=col>&lt;int&gt;</th></tr>\n",
              "</thead>\n",
              "<tbody>\n",
              "\t<tr><td>A</td><td>1</td></tr>\n",
              "\t<tr><td>A</td><td>2</td></tr>\n",
              "\t<tr><td>B</td><td>3</td></tr>\n",
              "\t<tr><td>C</td><td>4</td></tr>\n",
              "\t<tr><td>C</td><td>5</td></tr>\n",
              "\t<tr><td>C</td><td>6</td></tr>\n",
              "\t<tr><td>D</td><td>7</td></tr>\n",
              "\t<tr><td>E</td><td>8</td></tr>\n",
              "\t<tr><td>E</td><td>9</td></tr>\n",
              "</tbody>\n",
              "</table>\n"
            ],
            "text/markdown": "\nA data.frame: 9 × 2\n\n| letra &lt;fct&gt; | ID &lt;int&gt; |\n|---|---|\n| A | 1 |\n| A | 2 |\n| B | 3 |\n| C | 4 |\n| C | 5 |\n| C | 6 |\n| D | 7 |\n| E | 8 |\n| E | 9 |\n\n",
            "text/latex": "A data.frame: 9 × 2\n\\begin{tabular}{ll}\n letra & ID\\\\\n <fct> & <int>\\\\\n\\hline\n\t A & 1\\\\\n\t A & 2\\\\\n\t B & 3\\\\\n\t C & 4\\\\\n\t C & 5\\\\\n\t C & 6\\\\\n\t D & 7\\\\\n\t E & 8\\\\\n\t E & 9\\\\\n\\end{tabular}\n",
            "text/plain": [
              "  letra ID\n",
              "1 A     1 \n",
              "2 A     2 \n",
              "3 B     3 \n",
              "4 C     4 \n",
              "5 C     5 \n",
              "6 C     6 \n",
              "7 D     7 \n",
              "8 E     8 \n",
              "9 E     9 "
            ]
          },
          "metadata": {}
        }
      ]
    },
    {
      "cell_type": "code",
      "source": [
        "summary(ejemplo)"
      ],
      "metadata": {
        "id": "goK37SpA_5Ln",
        "outputId": "eb1e0936-5a18-40d6-da28-319403009b3e",
        "colab": {
          "base_uri": "https://localhost:8080/",
          "height": 139
        }
      },
      "execution_count": null,
      "outputs": [
        {
          "output_type": "display_data",
          "data": {
            "text/plain": [
              " letra       ID   \n",
              " A:2   Min.   :1  \n",
              " B:1   1st Qu.:3  \n",
              " C:3   Median :5  \n",
              " D:1   Mean   :5  \n",
              " E:2   3rd Qu.:7  \n",
              "       Max.   :9  "
            ]
          },
          "metadata": {}
        }
      ]
    },
    {
      "cell_type": "code",
      "source": [
        "ejemplo$letra"
      ],
      "metadata": {
        "id": "YfcdYC4aAAJ7",
        "outputId": "9db9ccbc-6117-4f87-9644-3802b4dca1ad",
        "colab": {
          "base_uri": "https://localhost:8080/",
          "height": 69
        }
      },
      "execution_count": null,
      "outputs": [
        {
          "output_type": "display_data",
          "data": {
            "text/html": [
              "<style>\n",
              ".list-inline {list-style: none; margin:0; padding: 0}\n",
              ".list-inline>li {display: inline-block}\n",
              ".list-inline>li:not(:last-child)::after {content: \"\\00b7\"; padding: 0 .5ex}\n",
              "</style>\n",
              "<ol class=list-inline><li>A</li><li>A</li><li>B</li><li>C</li><li>C</li><li>C</li><li>D</li><li>E</li><li>E</li></ol>\n",
              "\n",
              "<details>\n",
              "\t<summary style=display:list-item;cursor:pointer>\n",
              "\t\t<strong>Levels</strong>:\n",
              "\t</summary>\n",
              "\t<style>\n",
              "\t.list-inline {list-style: none; margin:0; padding: 0}\n",
              "\t.list-inline>li {display: inline-block}\n",
              "\t.list-inline>li:not(:last-child)::after {content: \"\\00b7\"; padding: 0 .5ex}\n",
              "\t</style>\n",
              "\t<ol class=list-inline><li>'A'</li><li>'B'</li><li>'C'</li><li>'D'</li><li>'E'</li></ol>\n",
              "</details>"
            ],
            "text/markdown": "1. A\n2. A\n3. B\n4. C\n5. C\n6. C\n7. D\n8. E\n9. E\n\n\n\n**Levels**: 1. 'A'\n2. 'B'\n3. 'C'\n4. 'D'\n5. 'E'\n\n\n",
            "text/latex": "\\begin{enumerate*}\n\\item A\n\\item A\n\\item B\n\\item C\n\\item C\n\\item C\n\\item D\n\\item E\n\\item E\n\\end{enumerate*}\n\n\\emph{Levels}: \\begin{enumerate*}\n\\item 'A'\n\\item 'B'\n\\item 'C'\n\\item 'D'\n\\item 'E'\n\\end{enumerate*}\n",
            "text/plain": [
              "[1] A A B C C C D E E\n",
              "Levels: A B C D E"
            ]
          },
          "metadata": {}
        }
      ]
    },
    {
      "cell_type": "code",
      "source": [
        "ejemplo$letra <- as.character(ejemplo$letra)"
      ],
      "metadata": {
        "id": "j2JV_JO6AFnc"
      },
      "execution_count": null,
      "outputs": []
    },
    {
      "cell_type": "code",
      "source": [
        "ejemplo"
      ],
      "metadata": {
        "id": "Ta4SWlHtAN8r",
        "outputId": "01020a11-563d-4172-b1d5-c5e5fbad2470",
        "colab": {
          "base_uri": "https://localhost:8080/",
          "height": 397
        }
      },
      "execution_count": null,
      "outputs": [
        {
          "output_type": "display_data",
          "data": {
            "text/html": [
              "<table class=\"dataframe\">\n",
              "<caption>A data.frame: 9 × 2</caption>\n",
              "<thead>\n",
              "\t<tr><th scope=col>letra</th><th scope=col>ID</th></tr>\n",
              "\t<tr><th scope=col>&lt;chr&gt;</th><th scope=col>&lt;int&gt;</th></tr>\n",
              "</thead>\n",
              "<tbody>\n",
              "\t<tr><td>A</td><td>1</td></tr>\n",
              "\t<tr><td>A</td><td>2</td></tr>\n",
              "\t<tr><td>B</td><td>3</td></tr>\n",
              "\t<tr><td>C</td><td>4</td></tr>\n",
              "\t<tr><td>C</td><td>5</td></tr>\n",
              "\t<tr><td>C</td><td>6</td></tr>\n",
              "\t<tr><td>D</td><td>7</td></tr>\n",
              "\t<tr><td>E</td><td>8</td></tr>\n",
              "\t<tr><td>E</td><td>9</td></tr>\n",
              "</tbody>\n",
              "</table>\n"
            ],
            "text/markdown": "\nA data.frame: 9 × 2\n\n| letra &lt;chr&gt; | ID &lt;int&gt; |\n|---|---|\n| A | 1 |\n| A | 2 |\n| B | 3 |\n| C | 4 |\n| C | 5 |\n| C | 6 |\n| D | 7 |\n| E | 8 |\n| E | 9 |\n\n",
            "text/latex": "A data.frame: 9 × 2\n\\begin{tabular}{ll}\n letra & ID\\\\\n <chr> & <int>\\\\\n\\hline\n\t A & 1\\\\\n\t A & 2\\\\\n\t B & 3\\\\\n\t C & 4\\\\\n\t C & 5\\\\\n\t C & 6\\\\\n\t D & 7\\\\\n\t E & 8\\\\\n\t E & 9\\\\\n\\end{tabular}\n",
            "text/plain": [
              "  letra ID\n",
              "1 A     1 \n",
              "2 A     2 \n",
              "3 B     3 \n",
              "4 C     4 \n",
              "5 C     5 \n",
              "6 C     6 \n",
              "7 D     7 \n",
              "8 E     8 \n",
              "9 E     9 "
            ]
          },
          "metadata": {}
        }
      ]
    },
    {
      "cell_type": "code",
      "source": [
        "summary(ejemplo)"
      ],
      "metadata": {
        "id": "2EPQFUx_AQkE",
        "outputId": "a49a3330-bc03-4ed9-e290-962184639f33",
        "colab": {
          "base_uri": "https://localhost:8080/",
          "height": 139
        }
      },
      "execution_count": null,
      "outputs": [
        {
          "output_type": "display_data",
          "data": {
            "text/plain": [
              "    letra                 ID   \n",
              " Length:9           Min.   :1  \n",
              " Class :character   1st Qu.:3  \n",
              " Mode  :character   Median :5  \n",
              "                    Mean   :5  \n",
              "                    3rd Qu.:7  \n",
              "                    Max.   :9  "
            ]
          },
          "metadata": {}
        }
      ]
    },
    {
      "cell_type": "markdown",
      "metadata": {
        "id": "jAHBUxNxRPyV"
      },
      "source": [
        "## 4. Funciones básicas de dplyr\n",
        "\n",
        "A continuación exploraremos los datos de vuelos utilizando la librería dplyr.\n",
        "\n",
        "### 4.1 Función filter()\n",
        "\n",
        "La función filter() de dplyr es el equivalente a la sentencia where de sql."
      ]
    },
    {
      "cell_type": "code",
      "source": [
        "names(vuelos)"
      ],
      "metadata": {
        "id": "ckTkJQu0EbfQ",
        "outputId": "ab856dbd-67d6-479c-ad63-f5f0b70d8447",
        "colab": {
          "base_uri": "https://localhost:8080/",
          "height": 34
        }
      },
      "execution_count": null,
      "outputs": [
        {
          "output_type": "display_data",
          "data": {
            "text/html": [
              "<style>\n",
              ".list-inline {list-style: none; margin:0; padding: 0}\n",
              ".list-inline>li {display: inline-block}\n",
              ".list-inline>li:not(:last-child)::after {content: \"\\00b7\"; padding: 0 .5ex}\n",
              "</style>\n",
              "<ol class=list-inline><li>'year'</li><li>'month'</li><li>'day'</li><li>'dep_time'</li><li>'sched_dep_time'</li><li>'dep_delay'</li><li>'arr_time'</li><li>'sched_arr_time'</li><li>'arr_delay'</li><li>'carrier'</li><li>'flight'</li><li>'tailnum'</li><li>'origin'</li><li>'dest'</li><li>'air_time'</li><li>'distance'</li><li>'hour'</li><li>'minute'</li><li>'time_hour'</li></ol>\n"
            ],
            "text/markdown": "1. 'year'\n2. 'month'\n3. 'day'\n4. 'dep_time'\n5. 'sched_dep_time'\n6. 'dep_delay'\n7. 'arr_time'\n8. 'sched_arr_time'\n9. 'arr_delay'\n10. 'carrier'\n11. 'flight'\n12. 'tailnum'\n13. 'origin'\n14. 'dest'\n15. 'air_time'\n16. 'distance'\n17. 'hour'\n18. 'minute'\n19. 'time_hour'\n\n\n",
            "text/latex": "\\begin{enumerate*}\n\\item 'year'\n\\item 'month'\n\\item 'day'\n\\item 'dep\\_time'\n\\item 'sched\\_dep\\_time'\n\\item 'dep\\_delay'\n\\item 'arr\\_time'\n\\item 'sched\\_arr\\_time'\n\\item 'arr\\_delay'\n\\item 'carrier'\n\\item 'flight'\n\\item 'tailnum'\n\\item 'origin'\n\\item 'dest'\n\\item 'air\\_time'\n\\item 'distance'\n\\item 'hour'\n\\item 'minute'\n\\item 'time\\_hour'\n\\end{enumerate*}\n",
            "text/plain": [
              " [1] \"year\"           \"month\"          \"day\"            \"dep_time\"      \n",
              " [5] \"sched_dep_time\" \"dep_delay\"      \"arr_time\"       \"sched_arr_time\"\n",
              " [9] \"arr_delay\"      \"carrier\"        \"flight\"         \"tailnum\"       \n",
              "[13] \"origin\"         \"dest\"           \"air_time\"       \"distance\"      \n",
              "[17] \"hour\"           \"minute\"         \"time_hour\"     "
            ]
          },
          "metadata": {}
        }
      ]
    },
    {
      "cell_type": "code",
      "metadata": {
        "trusted": true,
        "scrolled": true,
        "id": "mv1lhelWRPyV",
        "outputId": "6290c392-49e4-4c4e-b8dc-30e429095791",
        "colab": {
          "base_uri": "https://localhost:8080/",
          "height": 1000
        }
      },
      "source": [
        "# filter() # where de sql----------------------------------------------------------------\n",
        "# Registros que tengan fecha 31 de diciembre\n",
        "# Antes\n",
        "vuelos[vuelos$month == 12 & vuelos$day == 31,]\n"
      ],
      "execution_count": null,
      "outputs": [
        {
          "output_type": "display_data",
          "data": {
            "text/html": [
              "<table class=\"dataframe\">\n",
              "<caption>A data.frame: 776 × 19</caption>\n",
              "<thead>\n",
              "\t<tr><th></th><th scope=col>year</th><th scope=col>month</th><th scope=col>day</th><th scope=col>dep_time</th><th scope=col>sched_dep_time</th><th scope=col>dep_delay</th><th scope=col>arr_time</th><th scope=col>sched_arr_time</th><th scope=col>arr_delay</th><th scope=col>carrier</th><th scope=col>flight</th><th scope=col>tailnum</th><th scope=col>origin</th><th scope=col>dest</th><th scope=col>air_time</th><th scope=col>distance</th><th scope=col>hour</th><th scope=col>minute</th><th scope=col>time_hour</th></tr>\n",
              "\t<tr><th></th><th scope=col>&lt;int&gt;</th><th scope=col>&lt;int&gt;</th><th scope=col>&lt;int&gt;</th><th scope=col>&lt;int&gt;</th><th scope=col>&lt;int&gt;</th><th scope=col>&lt;int&gt;</th><th scope=col>&lt;int&gt;</th><th scope=col>&lt;int&gt;</th><th scope=col>&lt;int&gt;</th><th scope=col>&lt;chr&gt;</th><th scope=col>&lt;int&gt;</th><th scope=col>&lt;chr&gt;</th><th scope=col>&lt;chr&gt;</th><th scope=col>&lt;chr&gt;</th><th scope=col>&lt;int&gt;</th><th scope=col>&lt;int&gt;</th><th scope=col>&lt;int&gt;</th><th scope=col>&lt;int&gt;</th><th scope=col>&lt;chr&gt;</th></tr>\n",
              "</thead>\n",
              "<tbody>\n",
              "\t<tr><th scope=row>110521</th><td>2013</td><td>12</td><td>31</td><td> 13</td><td>2359</td><td> 14</td><td> 439</td><td> 437</td><td>  2</td><td>B6</td><td> 839</td><td>N566JB</td><td>JFK</td><td>BQN</td><td>189</td><td>1576</td><td>23</td><td>59</td><td>2013-12-31 23:00:00</td></tr>\n",
              "\t<tr><th scope=row>110522</th><td>2013</td><td>12</td><td>31</td><td> 18</td><td>2359</td><td> 19</td><td> 449</td><td> 444</td><td>  5</td><td>DL</td><td> 412</td><td>N713TW</td><td>JFK</td><td>SJU</td><td>192</td><td>1598</td><td>23</td><td>59</td><td>2013-12-31 23:00:00</td></tr>\n",
              "\t<tr><th scope=row>110523</th><td>2013</td><td>12</td><td>31</td><td> 26</td><td>2245</td><td>101</td><td> 129</td><td>2353</td><td> 96</td><td>B6</td><td> 108</td><td>N374JB</td><td>JFK</td><td>PWM</td><td> 50</td><td> 273</td><td>22</td><td>45</td><td>2013-12-31 22:00:00</td></tr>\n",
              "\t<tr><th scope=row>110524</th><td>2013</td><td>12</td><td>31</td><td>459</td><td> 500</td><td> -1</td><td> 655</td><td> 651</td><td>  4</td><td>US</td><td>1895</td><td>N557UW</td><td>EWR</td><td>CLT</td><td> 95</td><td> 529</td><td> 5</td><td> 0</td><td>2013-12-31 05:00:00</td></tr>\n",
              "\t<tr><th scope=row>110525</th><td>2013</td><td>12</td><td>31</td><td>514</td><td> 515</td><td> -1</td><td> 814</td><td> 812</td><td>  2</td><td>UA</td><td> 700</td><td>N470UA</td><td>EWR</td><td>IAH</td><td>223</td><td>1400</td><td> 5</td><td>15</td><td>2013-12-31 05:00:00</td></tr>\n",
              "\t<tr><th scope=row>110526</th><td>2013</td><td>12</td><td>31</td><td>549</td><td> 551</td><td> -2</td><td> 925</td><td> 900</td><td> 25</td><td>UA</td><td> 274</td><td>N577UA</td><td>EWR</td><td>LAX</td><td>346</td><td>2454</td><td> 5</td><td>51</td><td>2013-12-31 05:00:00</td></tr>\n",
              "\t<tr><th scope=row>110527</th><td>2013</td><td>12</td><td>31</td><td>550</td><td> 600</td><td>-10</td><td> 725</td><td> 745</td><td>-20</td><td>AA</td><td> 301</td><td>N3CXAA</td><td>LGA</td><td>ORD</td><td>127</td><td> 733</td><td> 6</td><td> 0</td><td>2013-12-31 06:00:00</td></tr>\n",
              "\t<tr><th scope=row>110528</th><td>2013</td><td>12</td><td>31</td><td>552</td><td> 600</td><td> -8</td><td> 811</td><td> 826</td><td>-15</td><td>EV</td><td>3825</td><td>N14916</td><td>EWR</td><td>IND</td><td>118</td><td> 645</td><td> 6</td><td> 0</td><td>2013-12-31 06:00:00</td></tr>\n",
              "\t<tr><th scope=row>110529</th><td>2013</td><td>12</td><td>31</td><td>553</td><td> 600</td><td> -7</td><td> 741</td><td> 754</td><td>-13</td><td>DL</td><td> 731</td><td>N333NB</td><td>LGA</td><td>DTW</td><td> 86</td><td> 502</td><td> 6</td><td> 0</td><td>2013-12-31 06:00:00</td></tr>\n",
              "\t<tr><th scope=row>110530</th><td>2013</td><td>12</td><td>31</td><td>554</td><td> 550</td><td>  4</td><td>1024</td><td>1027</td><td> -3</td><td>B6</td><td> 939</td><td>N552JB</td><td>JFK</td><td>BQN</td><td>195</td><td>1576</td><td> 5</td><td>50</td><td>2013-12-31 05:00:00</td></tr>\n",
              "\t<tr><th scope=row>110531</th><td>2013</td><td>12</td><td>31</td><td>555</td><td> 600</td><td> -5</td><td> 901</td><td> 849</td><td> 12</td><td>B6</td><td> 353</td><td>N746JB</td><td>JFK</td><td>PBI</td><td>167</td><td>1028</td><td> 6</td><td> 0</td><td>2013-12-31 06:00:00</td></tr>\n",
              "\t<tr><th scope=row>110532</th><td>2013</td><td>12</td><td>31</td><td>555</td><td> 600</td><td> -5</td><td> 835</td><td> 831</td><td>  4</td><td>DL</td><td> 904</td><td>N3741S</td><td>LGA</td><td>ATL</td><td>137</td><td> 762</td><td> 6</td><td> 0</td><td>2013-12-31 06:00:00</td></tr>\n",
              "\t<tr><th scope=row>110533</th><td>2013</td><td>12</td><td>31</td><td>555</td><td> 551</td><td>  4</td><td> 853</td><td> 851</td><td>  2</td><td>UA</td><td> 566</td><td>N491UA</td><td>EWR</td><td>TPA</td><td>164</td><td> 997</td><td> 5</td><td>51</td><td>2013-12-31 05:00:00</td></tr>\n",
              "\t<tr><th scope=row>110534</th><td>2013</td><td>12</td><td>31</td><td>556</td><td> 600</td><td> -4</td><td> 909</td><td> 846</td><td> 23</td><td>B6</td><td> 583</td><td>N715JB</td><td>JFK</td><td>MCO</td><td>162</td><td> 944</td><td> 6</td><td> 0</td><td>2013-12-31 06:00:00</td></tr>\n",
              "\t<tr><th scope=row>110535</th><td>2013</td><td>12</td><td>31</td><td>556</td><td> 605</td><td> -9</td><td> 808</td><td> 814</td><td> -6</td><td>DL</td><td>1919</td><td>N958DL</td><td>LGA</td><td>MSP</td><td>160</td><td>1020</td><td> 6</td><td> 5</td><td>2013-12-31 06:00:00</td></tr>\n",
              "\t<tr><th scope=row>110536</th><td>2013</td><td>12</td><td>31</td><td>557</td><td> 603</td><td> -6</td><td> 719</td><td> 719</td><td>  0</td><td>EV</td><td>4241</td><td>N15574</td><td>EWR</td><td>DCA</td><td> 45</td><td> 199</td><td> 6</td><td> 3</td><td>2013-12-31 06:00:00</td></tr>\n",
              "\t<tr><th scope=row>110537</th><td>2013</td><td>12</td><td>31</td><td>558</td><td> 600</td><td> -2</td><td> 919</td><td> 905</td><td> 14</td><td>AA</td><td>1175</td><td>N3JEAA</td><td>LGA</td><td>MIA</td><td>173</td><td>1096</td><td> 6</td><td> 0</td><td>2013-12-31 06:00:00</td></tr>\n",
              "\t<tr><th scope=row>110538</th><td>2013</td><td>12</td><td>31</td><td>559</td><td> 600</td><td> -1</td><td> 917</td><td> 855</td><td> 22</td><td>B6</td><td> 605</td><td>N597JB</td><td>EWR</td><td>FLL</td><td>167</td><td>1065</td><td> 6</td><td> 0</td><td>2013-12-31 06:00:00</td></tr>\n",
              "\t<tr><th scope=row>110539</th><td>2013</td><td>12</td><td>31</td><td>600</td><td> 540</td><td> 20</td><td> 928</td><td> 850</td><td> 38</td><td>AA</td><td>2243</td><td>N5EMAA</td><td>JFK</td><td>MIA</td><td>171</td><td>1089</td><td> 5</td><td>40</td><td>2013-12-31 05:00:00</td></tr>\n",
              "\t<tr><th scope=row>110540</th><td>2013</td><td>12</td><td>31</td><td>602</td><td> 605</td><td> -3</td><td> 744</td><td> 805</td><td>-21</td><td>DL</td><td>2505</td><td>N358NB</td><td>EWR</td><td>DTW</td><td> 87</td><td> 488</td><td> 6</td><td> 5</td><td>2013-12-31 06:00:00</td></tr>\n",
              "\t<tr><th scope=row>110541</th><td>2013</td><td>12</td><td>31</td><td>602</td><td> 605</td><td> -3</td><td> 708</td><td> 723</td><td>-15</td><td>EV</td><td>6177</td><td>N14543</td><td>EWR</td><td>IAD</td><td> 45</td><td> 212</td><td> 6</td><td> 5</td><td>2013-12-31 06:00:00</td></tr>\n",
              "\t<tr><th scope=row>110542</th><td>2013</td><td>12</td><td>31</td><td>603</td><td> 611</td><td> -8</td><td>1045</td><td>1055</td><td>-10</td><td>B6</td><td>1403</td><td>N547JB</td><td>JFK</td><td>SJU</td><td>198</td><td>1598</td><td> 6</td><td>11</td><td>2013-12-31 06:00:00</td></tr>\n",
              "\t<tr><th scope=row>110543</th><td>2013</td><td>12</td><td>31</td><td>607</td><td> 600</td><td>  7</td><td> 848</td><td> 825</td><td> 23</td><td>WN</td><td>1716</td><td>N7740A</td><td>LGA</td><td>ATL</td><td>137</td><td> 762</td><td> 6</td><td> 0</td><td>2013-12-31 06:00:00</td></tr>\n",
              "\t<tr><th scope=row>110544</th><td>2013</td><td>12</td><td>31</td><td>608</td><td> 615</td><td> -7</td><td> 812</td><td> 818</td><td> -6</td><td>US</td><td>1963</td><td>N192UW</td><td>EWR</td><td>CLT</td><td>106</td><td> 529</td><td> 6</td><td>15</td><td>2013-12-31 06:00:00</td></tr>\n",
              "\t<tr><th scope=row>110545</th><td>2013</td><td>12</td><td>31</td><td>609</td><td> 610</td><td> -1</td><td> 911</td><td> 915</td><td> -4</td><td>AA</td><td>1205</td><td>N5DHAA</td><td>EWR</td><td>MIA</td><td>163</td><td>1085</td><td> 6</td><td>10</td><td>2013-12-31 06:00:00</td></tr>\n",
              "\t<tr><th scope=row>110546</th><td>2013</td><td>12</td><td>31</td><td>609</td><td> 615</td><td> -6</td><td> 848</td><td> 850</td><td> -2</td><td>DL</td><td> 404</td><td>N392DA</td><td>JFK</td><td>ATL</td><td>133</td><td> 760</td><td> 6</td><td>15</td><td>2013-12-31 06:00:00</td></tr>\n",
              "\t<tr><th scope=row>110547</th><td>2013</td><td>12</td><td>31</td><td>609</td><td> 614</td><td> -5</td><td> 755</td><td> 751</td><td>  4</td><td>EV</td><td>3812</td><td>N13994</td><td>EWR</td><td>RDU</td><td> 81</td><td> 416</td><td> 6</td><td>14</td><td>2013-12-31 06:00:00</td></tr>\n",
              "\t<tr><th scope=row>110548</th><td>2013</td><td>12</td><td>31</td><td>610</td><td> 615</td><td> -5</td><td> 828</td><td> 849</td><td>-21</td><td>DL</td><td> 479</td><td>N3766 </td><td>JFK</td><td>ATL</td><td>119</td><td> 760</td><td> 6</td><td>15</td><td>2013-12-31 06:00:00</td></tr>\n",
              "\t<tr><th scope=row>110549</th><td>2013</td><td>12</td><td>31</td><td>616</td><td> 611</td><td>  5</td><td> 933</td><td> 912</td><td> 21</td><td>B6</td><td> 601</td><td>N643JB</td><td>JFK</td><td>FLL</td><td>173</td><td>1069</td><td> 6</td><td>11</td><td>2013-12-31 06:00:00</td></tr>\n",
              "\t<tr><th scope=row>110550</th><td>2013</td><td>12</td><td>31</td><td>616</td><td> 630</td><td>-14</td><td> 922</td><td> 919</td><td>  3</td><td>B6</td><td>1099</td><td>N563JB</td><td>LGA</td><td>MCO</td><td>159</td><td> 950</td><td> 6</td><td>30</td><td>2013-12-31 06:00:00</td></tr>\n",
              "\t<tr><th scope=row>⋮</th><td>⋮</td><td>⋮</td><td>⋮</td><td>⋮</td><td>⋮</td><td>⋮</td><td>⋮</td><td>⋮</td><td>⋮</td><td>⋮</td><td>⋮</td><td>⋮</td><td>⋮</td><td>⋮</td><td>⋮</td><td>⋮</td><td>⋮</td><td>⋮</td><td>⋮</td></tr>\n",
              "\t<tr><th scope=row>111267</th><td>2013</td><td>12</td><td>31</td><td>2155</td><td>2039</td><td> 76</td><td> 253</td><td>2355</td><td> NA</td><td>B6</td><td>1205</td><td>N627JB</td><td>JFK</td><td>PDX</td><td> NA</td><td>2454</td><td>20</td><td>39</td><td>2013-12-31 20:00:00</td></tr>\n",
              "\t<tr><th scope=row>111268</th><td>2013</td><td>12</td><td>31</td><td>2155</td><td>2150</td><td>  5</td><td> 110</td><td>  51</td><td> 19</td><td>B6</td><td>1901</td><td>N729JB</td><td>JFK</td><td>FLL</td><td>164</td><td>1069</td><td>21</td><td>50</td><td>2013-12-31 21:00:00</td></tr>\n",
              "\t<tr><th scope=row>111269</th><td>2013</td><td>12</td><td>31</td><td>2159</td><td>2155</td><td>  4</td><td>  55</td><td>  46</td><td>  9</td><td>B6</td><td>2053</td><td>N593JB</td><td>JFK</td><td>PBI</td><td>155</td><td>1028</td><td>21</td><td>55</td><td>2013-12-31 21:00:00</td></tr>\n",
              "\t<tr><th scope=row>111270</th><td>2013</td><td>12</td><td>31</td><td>2206</td><td>2110</td><td> 56</td><td>  44</td><td>2339</td><td> 65</td><td>B6</td><td> 775</td><td>N184JB</td><td>JFK</td><td>MSY</td><td>195</td><td>1182</td><td>21</td><td>10</td><td>2013-12-31 21:00:00</td></tr>\n",
              "\t<tr><th scope=row>111271</th><td>2013</td><td>12</td><td>31</td><td>2211</td><td>2159</td><td> 12</td><td> 100</td><td>  45</td><td> 15</td><td>B6</td><td>1183</td><td>N715JB</td><td>JFK</td><td>MCO</td><td>148</td><td> 944</td><td>21</td><td>59</td><td>2013-12-31 21:00:00</td></tr>\n",
              "\t<tr><th scope=row>111272</th><td>2013</td><td>12</td><td>31</td><td>2218</td><td>2219</td><td> -1</td><td> 315</td><td> 304</td><td> 11</td><td>B6</td><td>1203</td><td>N625JB</td><td>JFK</td><td>SJU</td><td>202</td><td>1598</td><td>22</td><td>19</td><td>2013-12-31 22:00:00</td></tr>\n",
              "\t<tr><th scope=row>111273</th><td>2013</td><td>12</td><td>31</td><td>2235</td><td>2245</td><td>-10</td><td>2351</td><td>2355</td><td> -4</td><td>B6</td><td> 234</td><td>N355JB</td><td>JFK</td><td>BTV</td><td> 49</td><td> 266</td><td>22</td><td>45</td><td>2013-12-31 22:00:00</td></tr>\n",
              "\t<tr><th scope=row>111274</th><td>2013</td><td>12</td><td>31</td><td>2245</td><td>2250</td><td> -5</td><td>2359</td><td>2356</td><td>  3</td><td>B6</td><td>1816</td><td>N318JB</td><td>JFK</td><td>SYR</td><td> 51</td><td> 209</td><td>22</td><td>50</td><td>2013-12-31 22:00:00</td></tr>\n",
              "\t<tr><th scope=row>111275</th><td>2013</td><td>12</td><td>31</td><td>2310</td><td>2255</td><td> 15</td><td>   7</td><td>2356</td><td> 11</td><td>B6</td><td> 718</td><td>N279JB</td><td>JFK</td><td>BOS</td><td> 40</td><td> 187</td><td>22</td><td>55</td><td>2013-12-31 22:00:00</td></tr>\n",
              "\t<tr><th scope=row>111276</th><td>2013</td><td>12</td><td>31</td><td>2321</td><td>2250</td><td> 31</td><td>  46</td><td>   8</td><td> 38</td><td>B6</td><td>2002</td><td>N179JB</td><td>JFK</td><td>BUF</td><td> 66</td><td> 301</td><td>22</td><td>50</td><td>2013-12-31 22:00:00</td></tr>\n",
              "\t<tr><th scope=row>111277</th><td>2013</td><td>12</td><td>31</td><td>2328</td><td>2330</td><td> -2</td><td> 412</td><td> 409</td><td>  3</td><td>B6</td><td>1389</td><td>N651JB</td><td>EWR</td><td>SJU</td><td>198</td><td>1608</td><td>23</td><td>30</td><td>2013-12-31 23:00:00</td></tr>\n",
              "\t<tr><th scope=row>111278</th><td>2013</td><td>12</td><td>31</td><td>2332</td><td>2245</td><td> 47</td><td>  58</td><td>   3</td><td> 55</td><td>B6</td><td> 486</td><td>N334JB</td><td>JFK</td><td>ROC</td><td> 60</td><td> 264</td><td>22</td><td>45</td><td>2013-12-31 22:00:00</td></tr>\n",
              "\t<tr><th scope=row>111279</th><td>2013</td><td>12</td><td>31</td><td>2355</td><td>2359</td><td> -4</td><td> 430</td><td> 440</td><td>-10</td><td>B6</td><td>1503</td><td>N509JB</td><td>JFK</td><td>SJU</td><td>195</td><td>1598</td><td>23</td><td>59</td><td>2013-12-31 23:00:00</td></tr>\n",
              "\t<tr><th scope=row>111280</th><td>2013</td><td>12</td><td>31</td><td>2356</td><td>2359</td><td> -3</td><td> 436</td><td> 445</td><td> -9</td><td>B6</td><td> 745</td><td>N665JB</td><td>JFK</td><td>PSE</td><td>200</td><td>1617</td><td>23</td><td>59</td><td>2013-12-31 23:00:00</td></tr>\n",
              "\t<tr><th scope=row>111281</th><td>2013</td><td>12</td><td>31</td><td>  NA</td><td>1520</td><td> NA</td><td>  NA</td><td>1705</td><td> NA</td><td>AA</td><td> 341</td><td>N568AA</td><td>LGA</td><td>ORD</td><td> NA</td><td> 733</td><td>15</td><td>20</td><td>2013-12-31 15:00:00</td></tr>\n",
              "\t<tr><th scope=row>111282</th><td>2013</td><td>12</td><td>31</td><td>  NA</td><td>2025</td><td> NA</td><td>  NA</td><td>2205</td><td> NA</td><td>AA</td><td> 371</td><td>N482AA</td><td>LGA</td><td>ORD</td><td> NA</td><td> 733</td><td>20</td><td>25</td><td>2013-12-31 20:00:00</td></tr>\n",
              "\t<tr><th scope=row>111283</th><td>2013</td><td>12</td><td>31</td><td>  NA</td><td>1932</td><td> NA</td><td>  NA</td><td>2305</td><td> NA</td><td>B6</td><td> 161</td><td>N516JB</td><td>JFK</td><td>SMF</td><td> NA</td><td>2521</td><td>19</td><td>32</td><td>2013-12-31 19:00:00</td></tr>\n",
              "\t<tr><th scope=row>111284</th><td>2013</td><td>12</td><td>31</td><td>  NA</td><td>1505</td><td> NA</td><td>  NA</td><td>1725</td><td> NA</td><td>EV</td><td>4181</td><td>N24103</td><td>EWR</td><td>MCI</td><td> NA</td><td>1092</td><td>15</td><td> 5</td><td>2013-12-31 15:00:00</td></tr>\n",
              "\t<tr><th scope=row>111285</th><td>2013</td><td>12</td><td>31</td><td>  NA</td><td>1000</td><td> NA</td><td>  NA</td><td>1252</td><td> NA</td><td>UA</td><td>1124</td><td>NA    </td><td>EWR</td><td>EGE</td><td> NA</td><td>1725</td><td>10</td><td> 0</td><td>2013-12-31 10:00:00</td></tr>\n",
              "\t<tr><th scope=row>111286</th><td>2013</td><td>12</td><td>31</td><td>  NA</td><td> 840</td><td> NA</td><td>  NA</td><td>1205</td><td> NA</td><td>UA</td><td>1151</td><td>NA    </td><td>EWR</td><td>SEA</td><td> NA</td><td>2402</td><td> 8</td><td>40</td><td>2013-12-31 08:00:00</td></tr>\n",
              "\t<tr><th scope=row>111287</th><td>2013</td><td>12</td><td>31</td><td>  NA</td><td> 754</td><td> NA</td><td>  NA</td><td>1118</td><td> NA</td><td>UA</td><td>1455</td><td>NA    </td><td>EWR</td><td>LAX</td><td> NA</td><td>2454</td><td> 7</td><td>54</td><td>2013-12-31 07:00:00</td></tr>\n",
              "\t<tr><th scope=row>111288</th><td>2013</td><td>12</td><td>31</td><td>  NA</td><td>2000</td><td> NA</td><td>  NA</td><td>2146</td><td> NA</td><td>UA</td><td>1482</td><td>NA    </td><td>EWR</td><td>ORD</td><td> NA</td><td> 719</td><td>20</td><td> 0</td><td>2013-12-31 20:00:00</td></tr>\n",
              "\t<tr><th scope=row>111289</th><td>2013</td><td>12</td><td>31</td><td>  NA</td><td>1500</td><td> NA</td><td>  NA</td><td>1817</td><td> NA</td><td>UA</td><td>1483</td><td>NA    </td><td>EWR</td><td>AUS</td><td> NA</td><td>1504</td><td>15</td><td> 0</td><td>2013-12-31 15:00:00</td></tr>\n",
              "\t<tr><th scope=row>111290</th><td>2013</td><td>12</td><td>31</td><td>  NA</td><td>1430</td><td> NA</td><td>  NA</td><td>1750</td><td> NA</td><td>UA</td><td>1493</td><td>NA    </td><td>EWR</td><td>LAX</td><td> NA</td><td>2454</td><td>14</td><td>30</td><td>2013-12-31 14:00:00</td></tr>\n",
              "\t<tr><th scope=row>111291</th><td>2013</td><td>12</td><td>31</td><td>  NA</td><td> 855</td><td> NA</td><td>  NA</td><td>1142</td><td> NA</td><td>UA</td><td>1506</td><td>NA    </td><td>EWR</td><td>JAC</td><td> NA</td><td>1874</td><td> 8</td><td>55</td><td>2013-12-31 08:00:00</td></tr>\n",
              "\t<tr><th scope=row>111292</th><td>2013</td><td>12</td><td>31</td><td>  NA</td><td> 705</td><td> NA</td><td>  NA</td><td> 931</td><td> NA</td><td>UA</td><td>1729</td><td>NA    </td><td>EWR</td><td>DEN</td><td> NA</td><td>1605</td><td> 7</td><td> 5</td><td>2013-12-31 07:00:00</td></tr>\n",
              "\t<tr><th scope=row>111293</th><td>2013</td><td>12</td><td>31</td><td>  NA</td><td> 825</td><td> NA</td><td>  NA</td><td>1029</td><td> NA</td><td>US</td><td>1831</td><td>NA    </td><td>JFK</td><td>CLT</td><td> NA</td><td> 541</td><td> 8</td><td>25</td><td>2013-12-31 08:00:00</td></tr>\n",
              "\t<tr><th scope=row>111294</th><td>2013</td><td>12</td><td>31</td><td>  NA</td><td>1615</td><td> NA</td><td>  NA</td><td>1800</td><td> NA</td><td>MQ</td><td>3301</td><td>N844MQ</td><td>LGA</td><td>RDU</td><td> NA</td><td> 431</td><td>16</td><td>15</td><td>2013-12-31 16:00:00</td></tr>\n",
              "\t<tr><th scope=row>111295</th><td>2013</td><td>12</td><td>31</td><td>  NA</td><td> 600</td><td> NA</td><td>  NA</td><td> 735</td><td> NA</td><td>UA</td><td> 219</td><td>NA    </td><td>EWR</td><td>ORD</td><td> NA</td><td> 719</td><td> 6</td><td> 0</td><td>2013-12-31 06:00:00</td></tr>\n",
              "\t<tr><th scope=row>111296</th><td>2013</td><td>12</td><td>31</td><td>  NA</td><td> 830</td><td> NA</td><td>  NA</td><td>1154</td><td> NA</td><td>UA</td><td> 443</td><td>NA    </td><td>JFK</td><td>LAX</td><td> NA</td><td>2475</td><td> 8</td><td>30</td><td>2013-12-31 08:00:00</td></tr>\n",
              "</tbody>\n",
              "</table>\n"
            ],
            "text/markdown": "\nA data.frame: 776 × 19\n\n| <!--/--> | year &lt;int&gt; | month &lt;int&gt; | day &lt;int&gt; | dep_time &lt;int&gt; | sched_dep_time &lt;int&gt; | dep_delay &lt;int&gt; | arr_time &lt;int&gt; | sched_arr_time &lt;int&gt; | arr_delay &lt;int&gt; | carrier &lt;chr&gt; | flight &lt;int&gt; | tailnum &lt;chr&gt; | origin &lt;chr&gt; | dest &lt;chr&gt; | air_time &lt;int&gt; | distance &lt;int&gt; | hour &lt;int&gt; | minute &lt;int&gt; | time_hour &lt;chr&gt; |\n|---|---|---|---|---|---|---|---|---|---|---|---|---|---|---|---|---|---|---|---|\n| 110521 | 2013 | 12 | 31 |  13 | 2359 |  14 |  439 |  437 |   2 | B6 |  839 | N566JB | JFK | BQN | 189 | 1576 | 23 | 59 | 2013-12-31 23:00:00 |\n| 110522 | 2013 | 12 | 31 |  18 | 2359 |  19 |  449 |  444 |   5 | DL |  412 | N713TW | JFK | SJU | 192 | 1598 | 23 | 59 | 2013-12-31 23:00:00 |\n| 110523 | 2013 | 12 | 31 |  26 | 2245 | 101 |  129 | 2353 |  96 | B6 |  108 | N374JB | JFK | PWM |  50 |  273 | 22 | 45 | 2013-12-31 22:00:00 |\n| 110524 | 2013 | 12 | 31 | 459 |  500 |  -1 |  655 |  651 |   4 | US | 1895 | N557UW | EWR | CLT |  95 |  529 |  5 |  0 | 2013-12-31 05:00:00 |\n| 110525 | 2013 | 12 | 31 | 514 |  515 |  -1 |  814 |  812 |   2 | UA |  700 | N470UA | EWR | IAH | 223 | 1400 |  5 | 15 | 2013-12-31 05:00:00 |\n| 110526 | 2013 | 12 | 31 | 549 |  551 |  -2 |  925 |  900 |  25 | UA |  274 | N577UA | EWR | LAX | 346 | 2454 |  5 | 51 | 2013-12-31 05:00:00 |\n| 110527 | 2013 | 12 | 31 | 550 |  600 | -10 |  725 |  745 | -20 | AA |  301 | N3CXAA | LGA | ORD | 127 |  733 |  6 |  0 | 2013-12-31 06:00:00 |\n| 110528 | 2013 | 12 | 31 | 552 |  600 |  -8 |  811 |  826 | -15 | EV | 3825 | N14916 | EWR | IND | 118 |  645 |  6 |  0 | 2013-12-31 06:00:00 |\n| 110529 | 2013 | 12 | 31 | 553 |  600 |  -7 |  741 |  754 | -13 | DL |  731 | N333NB | LGA | DTW |  86 |  502 |  6 |  0 | 2013-12-31 06:00:00 |\n| 110530 | 2013 | 12 | 31 | 554 |  550 |   4 | 1024 | 1027 |  -3 | B6 |  939 | N552JB | JFK | BQN | 195 | 1576 |  5 | 50 | 2013-12-31 05:00:00 |\n| 110531 | 2013 | 12 | 31 | 555 |  600 |  -5 |  901 |  849 |  12 | B6 |  353 | N746JB | JFK | PBI | 167 | 1028 |  6 |  0 | 2013-12-31 06:00:00 |\n| 110532 | 2013 | 12 | 31 | 555 |  600 |  -5 |  835 |  831 |   4 | DL |  904 | N3741S | LGA | ATL | 137 |  762 |  6 |  0 | 2013-12-31 06:00:00 |\n| 110533 | 2013 | 12 | 31 | 555 |  551 |   4 |  853 |  851 |   2 | UA |  566 | N491UA | EWR | TPA | 164 |  997 |  5 | 51 | 2013-12-31 05:00:00 |\n| 110534 | 2013 | 12 | 31 | 556 |  600 |  -4 |  909 |  846 |  23 | B6 |  583 | N715JB | JFK | MCO | 162 |  944 |  6 |  0 | 2013-12-31 06:00:00 |\n| 110535 | 2013 | 12 | 31 | 556 |  605 |  -9 |  808 |  814 |  -6 | DL | 1919 | N958DL | LGA | MSP | 160 | 1020 |  6 |  5 | 2013-12-31 06:00:00 |\n| 110536 | 2013 | 12 | 31 | 557 |  603 |  -6 |  719 |  719 |   0 | EV | 4241 | N15574 | EWR | DCA |  45 |  199 |  6 |  3 | 2013-12-31 06:00:00 |\n| 110537 | 2013 | 12 | 31 | 558 |  600 |  -2 |  919 |  905 |  14 | AA | 1175 | N3JEAA | LGA | MIA | 173 | 1096 |  6 |  0 | 2013-12-31 06:00:00 |\n| 110538 | 2013 | 12 | 31 | 559 |  600 |  -1 |  917 |  855 |  22 | B6 |  605 | N597JB | EWR | FLL | 167 | 1065 |  6 |  0 | 2013-12-31 06:00:00 |\n| 110539 | 2013 | 12 | 31 | 600 |  540 |  20 |  928 |  850 |  38 | AA | 2243 | N5EMAA | JFK | MIA | 171 | 1089 |  5 | 40 | 2013-12-31 05:00:00 |\n| 110540 | 2013 | 12 | 31 | 602 |  605 |  -3 |  744 |  805 | -21 | DL | 2505 | N358NB | EWR | DTW |  87 |  488 |  6 |  5 | 2013-12-31 06:00:00 |\n| 110541 | 2013 | 12 | 31 | 602 |  605 |  -3 |  708 |  723 | -15 | EV | 6177 | N14543 | EWR | IAD |  45 |  212 |  6 |  5 | 2013-12-31 06:00:00 |\n| 110542 | 2013 | 12 | 31 | 603 |  611 |  -8 | 1045 | 1055 | -10 | B6 | 1403 | N547JB | JFK | SJU | 198 | 1598 |  6 | 11 | 2013-12-31 06:00:00 |\n| 110543 | 2013 | 12 | 31 | 607 |  600 |   7 |  848 |  825 |  23 | WN | 1716 | N7740A | LGA | ATL | 137 |  762 |  6 |  0 | 2013-12-31 06:00:00 |\n| 110544 | 2013 | 12 | 31 | 608 |  615 |  -7 |  812 |  818 |  -6 | US | 1963 | N192UW | EWR | CLT | 106 |  529 |  6 | 15 | 2013-12-31 06:00:00 |\n| 110545 | 2013 | 12 | 31 | 609 |  610 |  -1 |  911 |  915 |  -4 | AA | 1205 | N5DHAA | EWR | MIA | 163 | 1085 |  6 | 10 | 2013-12-31 06:00:00 |\n| 110546 | 2013 | 12 | 31 | 609 |  615 |  -6 |  848 |  850 |  -2 | DL |  404 | N392DA | JFK | ATL | 133 |  760 |  6 | 15 | 2013-12-31 06:00:00 |\n| 110547 | 2013 | 12 | 31 | 609 |  614 |  -5 |  755 |  751 |   4 | EV | 3812 | N13994 | EWR | RDU |  81 |  416 |  6 | 14 | 2013-12-31 06:00:00 |\n| 110548 | 2013 | 12 | 31 | 610 |  615 |  -5 |  828 |  849 | -21 | DL |  479 | N3766  | JFK | ATL | 119 |  760 |  6 | 15 | 2013-12-31 06:00:00 |\n| 110549 | 2013 | 12 | 31 | 616 |  611 |   5 |  933 |  912 |  21 | B6 |  601 | N643JB | JFK | FLL | 173 | 1069 |  6 | 11 | 2013-12-31 06:00:00 |\n| 110550 | 2013 | 12 | 31 | 616 |  630 | -14 |  922 |  919 |   3 | B6 | 1099 | N563JB | LGA | MCO | 159 |  950 |  6 | 30 | 2013-12-31 06:00:00 |\n| ⋮ | ⋮ | ⋮ | ⋮ | ⋮ | ⋮ | ⋮ | ⋮ | ⋮ | ⋮ | ⋮ | ⋮ | ⋮ | ⋮ | ⋮ | ⋮ | ⋮ | ⋮ | ⋮ | ⋮ |\n| 111267 | 2013 | 12 | 31 | 2155 | 2039 |  76 |  253 | 2355 |  NA | B6 | 1205 | N627JB | JFK | PDX |  NA | 2454 | 20 | 39 | 2013-12-31 20:00:00 |\n| 111268 | 2013 | 12 | 31 | 2155 | 2150 |   5 |  110 |   51 |  19 | B6 | 1901 | N729JB | JFK | FLL | 164 | 1069 | 21 | 50 | 2013-12-31 21:00:00 |\n| 111269 | 2013 | 12 | 31 | 2159 | 2155 |   4 |   55 |   46 |   9 | B6 | 2053 | N593JB | JFK | PBI | 155 | 1028 | 21 | 55 | 2013-12-31 21:00:00 |\n| 111270 | 2013 | 12 | 31 | 2206 | 2110 |  56 |   44 | 2339 |  65 | B6 |  775 | N184JB | JFK | MSY | 195 | 1182 | 21 | 10 | 2013-12-31 21:00:00 |\n| 111271 | 2013 | 12 | 31 | 2211 | 2159 |  12 |  100 |   45 |  15 | B6 | 1183 | N715JB | JFK | MCO | 148 |  944 | 21 | 59 | 2013-12-31 21:00:00 |\n| 111272 | 2013 | 12 | 31 | 2218 | 2219 |  -1 |  315 |  304 |  11 | B6 | 1203 | N625JB | JFK | SJU | 202 | 1598 | 22 | 19 | 2013-12-31 22:00:00 |\n| 111273 | 2013 | 12 | 31 | 2235 | 2245 | -10 | 2351 | 2355 |  -4 | B6 |  234 | N355JB | JFK | BTV |  49 |  266 | 22 | 45 | 2013-12-31 22:00:00 |\n| 111274 | 2013 | 12 | 31 | 2245 | 2250 |  -5 | 2359 | 2356 |   3 | B6 | 1816 | N318JB | JFK | SYR |  51 |  209 | 22 | 50 | 2013-12-31 22:00:00 |\n| 111275 | 2013 | 12 | 31 | 2310 | 2255 |  15 |    7 | 2356 |  11 | B6 |  718 | N279JB | JFK | BOS |  40 |  187 | 22 | 55 | 2013-12-31 22:00:00 |\n| 111276 | 2013 | 12 | 31 | 2321 | 2250 |  31 |   46 |    8 |  38 | B6 | 2002 | N179JB | JFK | BUF |  66 |  301 | 22 | 50 | 2013-12-31 22:00:00 |\n| 111277 | 2013 | 12 | 31 | 2328 | 2330 |  -2 |  412 |  409 |   3 | B6 | 1389 | N651JB | EWR | SJU | 198 | 1608 | 23 | 30 | 2013-12-31 23:00:00 |\n| 111278 | 2013 | 12 | 31 | 2332 | 2245 |  47 |   58 |    3 |  55 | B6 |  486 | N334JB | JFK | ROC |  60 |  264 | 22 | 45 | 2013-12-31 22:00:00 |\n| 111279 | 2013 | 12 | 31 | 2355 | 2359 |  -4 |  430 |  440 | -10 | B6 | 1503 | N509JB | JFK | SJU | 195 | 1598 | 23 | 59 | 2013-12-31 23:00:00 |\n| 111280 | 2013 | 12 | 31 | 2356 | 2359 |  -3 |  436 |  445 |  -9 | B6 |  745 | N665JB | JFK | PSE | 200 | 1617 | 23 | 59 | 2013-12-31 23:00:00 |\n| 111281 | 2013 | 12 | 31 |   NA | 1520 |  NA |   NA | 1705 |  NA | AA |  341 | N568AA | LGA | ORD |  NA |  733 | 15 | 20 | 2013-12-31 15:00:00 |\n| 111282 | 2013 | 12 | 31 |   NA | 2025 |  NA |   NA | 2205 |  NA | AA |  371 | N482AA | LGA | ORD |  NA |  733 | 20 | 25 | 2013-12-31 20:00:00 |\n| 111283 | 2013 | 12 | 31 |   NA | 1932 |  NA |   NA | 2305 |  NA | B6 |  161 | N516JB | JFK | SMF |  NA | 2521 | 19 | 32 | 2013-12-31 19:00:00 |\n| 111284 | 2013 | 12 | 31 |   NA | 1505 |  NA |   NA | 1725 |  NA | EV | 4181 | N24103 | EWR | MCI |  NA | 1092 | 15 |  5 | 2013-12-31 15:00:00 |\n| 111285 | 2013 | 12 | 31 |   NA | 1000 |  NA |   NA | 1252 |  NA | UA | 1124 | NA     | EWR | EGE |  NA | 1725 | 10 |  0 | 2013-12-31 10:00:00 |\n| 111286 | 2013 | 12 | 31 |   NA |  840 |  NA |   NA | 1205 |  NA | UA | 1151 | NA     | EWR | SEA |  NA | 2402 |  8 | 40 | 2013-12-31 08:00:00 |\n| 111287 | 2013 | 12 | 31 |   NA |  754 |  NA |   NA | 1118 |  NA | UA | 1455 | NA     | EWR | LAX |  NA | 2454 |  7 | 54 | 2013-12-31 07:00:00 |\n| 111288 | 2013 | 12 | 31 |   NA | 2000 |  NA |   NA | 2146 |  NA | UA | 1482 | NA     | EWR | ORD |  NA |  719 | 20 |  0 | 2013-12-31 20:00:00 |\n| 111289 | 2013 | 12 | 31 |   NA | 1500 |  NA |   NA | 1817 |  NA | UA | 1483 | NA     | EWR | AUS |  NA | 1504 | 15 |  0 | 2013-12-31 15:00:00 |\n| 111290 | 2013 | 12 | 31 |   NA | 1430 |  NA |   NA | 1750 |  NA | UA | 1493 | NA     | EWR | LAX |  NA | 2454 | 14 | 30 | 2013-12-31 14:00:00 |\n| 111291 | 2013 | 12 | 31 |   NA |  855 |  NA |   NA | 1142 |  NA | UA | 1506 | NA     | EWR | JAC |  NA | 1874 |  8 | 55 | 2013-12-31 08:00:00 |\n| 111292 | 2013 | 12 | 31 |   NA |  705 |  NA |   NA |  931 |  NA | UA | 1729 | NA     | EWR | DEN |  NA | 1605 |  7 |  5 | 2013-12-31 07:00:00 |\n| 111293 | 2013 | 12 | 31 |   NA |  825 |  NA |   NA | 1029 |  NA | US | 1831 | NA     | JFK | CLT |  NA |  541 |  8 | 25 | 2013-12-31 08:00:00 |\n| 111294 | 2013 | 12 | 31 |   NA | 1615 |  NA |   NA | 1800 |  NA | MQ | 3301 | N844MQ | LGA | RDU |  NA |  431 | 16 | 15 | 2013-12-31 16:00:00 |\n| 111295 | 2013 | 12 | 31 |   NA |  600 |  NA |   NA |  735 |  NA | UA |  219 | NA     | EWR | ORD |  NA |  719 |  6 |  0 | 2013-12-31 06:00:00 |\n| 111296 | 2013 | 12 | 31 |   NA |  830 |  NA |   NA | 1154 |  NA | UA |  443 | NA     | JFK | LAX |  NA | 2475 |  8 | 30 | 2013-12-31 08:00:00 |\n\n",
            "text/latex": "A data.frame: 776 × 19\n\\begin{tabular}{r|lllllllllllllllllll}\n  & year & month & day & dep\\_time & sched\\_dep\\_time & dep\\_delay & arr\\_time & sched\\_arr\\_time & arr\\_delay & carrier & flight & tailnum & origin & dest & air\\_time & distance & hour & minute & time\\_hour\\\\\n  & <int> & <int> & <int> & <int> & <int> & <int> & <int> & <int> & <int> & <chr> & <int> & <chr> & <chr> & <chr> & <int> & <int> & <int> & <int> & <chr>\\\\\n\\hline\n\t110521 & 2013 & 12 & 31 &  13 & 2359 &  14 &  439 &  437 &   2 & B6 &  839 & N566JB & JFK & BQN & 189 & 1576 & 23 & 59 & 2013-12-31 23:00:00\\\\\n\t110522 & 2013 & 12 & 31 &  18 & 2359 &  19 &  449 &  444 &   5 & DL &  412 & N713TW & JFK & SJU & 192 & 1598 & 23 & 59 & 2013-12-31 23:00:00\\\\\n\t110523 & 2013 & 12 & 31 &  26 & 2245 & 101 &  129 & 2353 &  96 & B6 &  108 & N374JB & JFK & PWM &  50 &  273 & 22 & 45 & 2013-12-31 22:00:00\\\\\n\t110524 & 2013 & 12 & 31 & 459 &  500 &  -1 &  655 &  651 &   4 & US & 1895 & N557UW & EWR & CLT &  95 &  529 &  5 &  0 & 2013-12-31 05:00:00\\\\\n\t110525 & 2013 & 12 & 31 & 514 &  515 &  -1 &  814 &  812 &   2 & UA &  700 & N470UA & EWR & IAH & 223 & 1400 &  5 & 15 & 2013-12-31 05:00:00\\\\\n\t110526 & 2013 & 12 & 31 & 549 &  551 &  -2 &  925 &  900 &  25 & UA &  274 & N577UA & EWR & LAX & 346 & 2454 &  5 & 51 & 2013-12-31 05:00:00\\\\\n\t110527 & 2013 & 12 & 31 & 550 &  600 & -10 &  725 &  745 & -20 & AA &  301 & N3CXAA & LGA & ORD & 127 &  733 &  6 &  0 & 2013-12-31 06:00:00\\\\\n\t110528 & 2013 & 12 & 31 & 552 &  600 &  -8 &  811 &  826 & -15 & EV & 3825 & N14916 & EWR & IND & 118 &  645 &  6 &  0 & 2013-12-31 06:00:00\\\\\n\t110529 & 2013 & 12 & 31 & 553 &  600 &  -7 &  741 &  754 & -13 & DL &  731 & N333NB & LGA & DTW &  86 &  502 &  6 &  0 & 2013-12-31 06:00:00\\\\\n\t110530 & 2013 & 12 & 31 & 554 &  550 &   4 & 1024 & 1027 &  -3 & B6 &  939 & N552JB & JFK & BQN & 195 & 1576 &  5 & 50 & 2013-12-31 05:00:00\\\\\n\t110531 & 2013 & 12 & 31 & 555 &  600 &  -5 &  901 &  849 &  12 & B6 &  353 & N746JB & JFK & PBI & 167 & 1028 &  6 &  0 & 2013-12-31 06:00:00\\\\\n\t110532 & 2013 & 12 & 31 & 555 &  600 &  -5 &  835 &  831 &   4 & DL &  904 & N3741S & LGA & ATL & 137 &  762 &  6 &  0 & 2013-12-31 06:00:00\\\\\n\t110533 & 2013 & 12 & 31 & 555 &  551 &   4 &  853 &  851 &   2 & UA &  566 & N491UA & EWR & TPA & 164 &  997 &  5 & 51 & 2013-12-31 05:00:00\\\\\n\t110534 & 2013 & 12 & 31 & 556 &  600 &  -4 &  909 &  846 &  23 & B6 &  583 & N715JB & JFK & MCO & 162 &  944 &  6 &  0 & 2013-12-31 06:00:00\\\\\n\t110535 & 2013 & 12 & 31 & 556 &  605 &  -9 &  808 &  814 &  -6 & DL & 1919 & N958DL & LGA & MSP & 160 & 1020 &  6 &  5 & 2013-12-31 06:00:00\\\\\n\t110536 & 2013 & 12 & 31 & 557 &  603 &  -6 &  719 &  719 &   0 & EV & 4241 & N15574 & EWR & DCA &  45 &  199 &  6 &  3 & 2013-12-31 06:00:00\\\\\n\t110537 & 2013 & 12 & 31 & 558 &  600 &  -2 &  919 &  905 &  14 & AA & 1175 & N3JEAA & LGA & MIA & 173 & 1096 &  6 &  0 & 2013-12-31 06:00:00\\\\\n\t110538 & 2013 & 12 & 31 & 559 &  600 &  -1 &  917 &  855 &  22 & B6 &  605 & N597JB & EWR & FLL & 167 & 1065 &  6 &  0 & 2013-12-31 06:00:00\\\\\n\t110539 & 2013 & 12 & 31 & 600 &  540 &  20 &  928 &  850 &  38 & AA & 2243 & N5EMAA & JFK & MIA & 171 & 1089 &  5 & 40 & 2013-12-31 05:00:00\\\\\n\t110540 & 2013 & 12 & 31 & 602 &  605 &  -3 &  744 &  805 & -21 & DL & 2505 & N358NB & EWR & DTW &  87 &  488 &  6 &  5 & 2013-12-31 06:00:00\\\\\n\t110541 & 2013 & 12 & 31 & 602 &  605 &  -3 &  708 &  723 & -15 & EV & 6177 & N14543 & EWR & IAD &  45 &  212 &  6 &  5 & 2013-12-31 06:00:00\\\\\n\t110542 & 2013 & 12 & 31 & 603 &  611 &  -8 & 1045 & 1055 & -10 & B6 & 1403 & N547JB & JFK & SJU & 198 & 1598 &  6 & 11 & 2013-12-31 06:00:00\\\\\n\t110543 & 2013 & 12 & 31 & 607 &  600 &   7 &  848 &  825 &  23 & WN & 1716 & N7740A & LGA & ATL & 137 &  762 &  6 &  0 & 2013-12-31 06:00:00\\\\\n\t110544 & 2013 & 12 & 31 & 608 &  615 &  -7 &  812 &  818 &  -6 & US & 1963 & N192UW & EWR & CLT & 106 &  529 &  6 & 15 & 2013-12-31 06:00:00\\\\\n\t110545 & 2013 & 12 & 31 & 609 &  610 &  -1 &  911 &  915 &  -4 & AA & 1205 & N5DHAA & EWR & MIA & 163 & 1085 &  6 & 10 & 2013-12-31 06:00:00\\\\\n\t110546 & 2013 & 12 & 31 & 609 &  615 &  -6 &  848 &  850 &  -2 & DL &  404 & N392DA & JFK & ATL & 133 &  760 &  6 & 15 & 2013-12-31 06:00:00\\\\\n\t110547 & 2013 & 12 & 31 & 609 &  614 &  -5 &  755 &  751 &   4 & EV & 3812 & N13994 & EWR & RDU &  81 &  416 &  6 & 14 & 2013-12-31 06:00:00\\\\\n\t110548 & 2013 & 12 & 31 & 610 &  615 &  -5 &  828 &  849 & -21 & DL &  479 & N3766  & JFK & ATL & 119 &  760 &  6 & 15 & 2013-12-31 06:00:00\\\\\n\t110549 & 2013 & 12 & 31 & 616 &  611 &   5 &  933 &  912 &  21 & B6 &  601 & N643JB & JFK & FLL & 173 & 1069 &  6 & 11 & 2013-12-31 06:00:00\\\\\n\t110550 & 2013 & 12 & 31 & 616 &  630 & -14 &  922 &  919 &   3 & B6 & 1099 & N563JB & LGA & MCO & 159 &  950 &  6 & 30 & 2013-12-31 06:00:00\\\\\n\t⋮ & ⋮ & ⋮ & ⋮ & ⋮ & ⋮ & ⋮ & ⋮ & ⋮ & ⋮ & ⋮ & ⋮ & ⋮ & ⋮ & ⋮ & ⋮ & ⋮ & ⋮ & ⋮ & ⋮\\\\\n\t111267 & 2013 & 12 & 31 & 2155 & 2039 &  76 &  253 & 2355 &  NA & B6 & 1205 & N627JB & JFK & PDX &  NA & 2454 & 20 & 39 & 2013-12-31 20:00:00\\\\\n\t111268 & 2013 & 12 & 31 & 2155 & 2150 &   5 &  110 &   51 &  19 & B6 & 1901 & N729JB & JFK & FLL & 164 & 1069 & 21 & 50 & 2013-12-31 21:00:00\\\\\n\t111269 & 2013 & 12 & 31 & 2159 & 2155 &   4 &   55 &   46 &   9 & B6 & 2053 & N593JB & JFK & PBI & 155 & 1028 & 21 & 55 & 2013-12-31 21:00:00\\\\\n\t111270 & 2013 & 12 & 31 & 2206 & 2110 &  56 &   44 & 2339 &  65 & B6 &  775 & N184JB & JFK & MSY & 195 & 1182 & 21 & 10 & 2013-12-31 21:00:00\\\\\n\t111271 & 2013 & 12 & 31 & 2211 & 2159 &  12 &  100 &   45 &  15 & B6 & 1183 & N715JB & JFK & MCO & 148 &  944 & 21 & 59 & 2013-12-31 21:00:00\\\\\n\t111272 & 2013 & 12 & 31 & 2218 & 2219 &  -1 &  315 &  304 &  11 & B6 & 1203 & N625JB & JFK & SJU & 202 & 1598 & 22 & 19 & 2013-12-31 22:00:00\\\\\n\t111273 & 2013 & 12 & 31 & 2235 & 2245 & -10 & 2351 & 2355 &  -4 & B6 &  234 & N355JB & JFK & BTV &  49 &  266 & 22 & 45 & 2013-12-31 22:00:00\\\\\n\t111274 & 2013 & 12 & 31 & 2245 & 2250 &  -5 & 2359 & 2356 &   3 & B6 & 1816 & N318JB & JFK & SYR &  51 &  209 & 22 & 50 & 2013-12-31 22:00:00\\\\\n\t111275 & 2013 & 12 & 31 & 2310 & 2255 &  15 &    7 & 2356 &  11 & B6 &  718 & N279JB & JFK & BOS &  40 &  187 & 22 & 55 & 2013-12-31 22:00:00\\\\\n\t111276 & 2013 & 12 & 31 & 2321 & 2250 &  31 &   46 &    8 &  38 & B6 & 2002 & N179JB & JFK & BUF &  66 &  301 & 22 & 50 & 2013-12-31 22:00:00\\\\\n\t111277 & 2013 & 12 & 31 & 2328 & 2330 &  -2 &  412 &  409 &   3 & B6 & 1389 & N651JB & EWR & SJU & 198 & 1608 & 23 & 30 & 2013-12-31 23:00:00\\\\\n\t111278 & 2013 & 12 & 31 & 2332 & 2245 &  47 &   58 &    3 &  55 & B6 &  486 & N334JB & JFK & ROC &  60 &  264 & 22 & 45 & 2013-12-31 22:00:00\\\\\n\t111279 & 2013 & 12 & 31 & 2355 & 2359 &  -4 &  430 &  440 & -10 & B6 & 1503 & N509JB & JFK & SJU & 195 & 1598 & 23 & 59 & 2013-12-31 23:00:00\\\\\n\t111280 & 2013 & 12 & 31 & 2356 & 2359 &  -3 &  436 &  445 &  -9 & B6 &  745 & N665JB & JFK & PSE & 200 & 1617 & 23 & 59 & 2013-12-31 23:00:00\\\\\n\t111281 & 2013 & 12 & 31 &   NA & 1520 &  NA &   NA & 1705 &  NA & AA &  341 & N568AA & LGA & ORD &  NA &  733 & 15 & 20 & 2013-12-31 15:00:00\\\\\n\t111282 & 2013 & 12 & 31 &   NA & 2025 &  NA &   NA & 2205 &  NA & AA &  371 & N482AA & LGA & ORD &  NA &  733 & 20 & 25 & 2013-12-31 20:00:00\\\\\n\t111283 & 2013 & 12 & 31 &   NA & 1932 &  NA &   NA & 2305 &  NA & B6 &  161 & N516JB & JFK & SMF &  NA & 2521 & 19 & 32 & 2013-12-31 19:00:00\\\\\n\t111284 & 2013 & 12 & 31 &   NA & 1505 &  NA &   NA & 1725 &  NA & EV & 4181 & N24103 & EWR & MCI &  NA & 1092 & 15 &  5 & 2013-12-31 15:00:00\\\\\n\t111285 & 2013 & 12 & 31 &   NA & 1000 &  NA &   NA & 1252 &  NA & UA & 1124 & NA     & EWR & EGE &  NA & 1725 & 10 &  0 & 2013-12-31 10:00:00\\\\\n\t111286 & 2013 & 12 & 31 &   NA &  840 &  NA &   NA & 1205 &  NA & UA & 1151 & NA     & EWR & SEA &  NA & 2402 &  8 & 40 & 2013-12-31 08:00:00\\\\\n\t111287 & 2013 & 12 & 31 &   NA &  754 &  NA &   NA & 1118 &  NA & UA & 1455 & NA     & EWR & LAX &  NA & 2454 &  7 & 54 & 2013-12-31 07:00:00\\\\\n\t111288 & 2013 & 12 & 31 &   NA & 2000 &  NA &   NA & 2146 &  NA & UA & 1482 & NA     & EWR & ORD &  NA &  719 & 20 &  0 & 2013-12-31 20:00:00\\\\\n\t111289 & 2013 & 12 & 31 &   NA & 1500 &  NA &   NA & 1817 &  NA & UA & 1483 & NA     & EWR & AUS &  NA & 1504 & 15 &  0 & 2013-12-31 15:00:00\\\\\n\t111290 & 2013 & 12 & 31 &   NA & 1430 &  NA &   NA & 1750 &  NA & UA & 1493 & NA     & EWR & LAX &  NA & 2454 & 14 & 30 & 2013-12-31 14:00:00\\\\\n\t111291 & 2013 & 12 & 31 &   NA &  855 &  NA &   NA & 1142 &  NA & UA & 1506 & NA     & EWR & JAC &  NA & 1874 &  8 & 55 & 2013-12-31 08:00:00\\\\\n\t111292 & 2013 & 12 & 31 &   NA &  705 &  NA &   NA &  931 &  NA & UA & 1729 & NA     & EWR & DEN &  NA & 1605 &  7 &  5 & 2013-12-31 07:00:00\\\\\n\t111293 & 2013 & 12 & 31 &   NA &  825 &  NA &   NA & 1029 &  NA & US & 1831 & NA     & JFK & CLT &  NA &  541 &  8 & 25 & 2013-12-31 08:00:00\\\\\n\t111294 & 2013 & 12 & 31 &   NA & 1615 &  NA &   NA & 1800 &  NA & MQ & 3301 & N844MQ & LGA & RDU &  NA &  431 & 16 & 15 & 2013-12-31 16:00:00\\\\\n\t111295 & 2013 & 12 & 31 &   NA &  600 &  NA &   NA &  735 &  NA & UA &  219 & NA     & EWR & ORD &  NA &  719 &  6 &  0 & 2013-12-31 06:00:00\\\\\n\t111296 & 2013 & 12 & 31 &   NA &  830 &  NA &   NA & 1154 &  NA & UA &  443 & NA     & JFK & LAX &  NA & 2475 &  8 & 30 & 2013-12-31 08:00:00\\\\\n\\end{tabular}\n",
            "text/plain": [
              "       year month day dep_time sched_dep_time dep_delay arr_time sched_arr_time\n",
              "110521 2013 12    31   13      2359            14        439      437          \n",
              "110522 2013 12    31   18      2359            19        449      444          \n",
              "110523 2013 12    31   26      2245           101        129     2353          \n",
              "110524 2013 12    31  459       500            -1        655      651          \n",
              "110525 2013 12    31  514       515            -1        814      812          \n",
              "110526 2013 12    31  549       551            -2        925      900          \n",
              "110527 2013 12    31  550       600           -10        725      745          \n",
              "110528 2013 12    31  552       600            -8        811      826          \n",
              "110529 2013 12    31  553       600            -7        741      754          \n",
              "110530 2013 12    31  554       550             4       1024     1027          \n",
              "110531 2013 12    31  555       600            -5        901      849          \n",
              "110532 2013 12    31  555       600            -5        835      831          \n",
              "110533 2013 12    31  555       551             4        853      851          \n",
              "110534 2013 12    31  556       600            -4        909      846          \n",
              "110535 2013 12    31  556       605            -9        808      814          \n",
              "110536 2013 12    31  557       603            -6        719      719          \n",
              "110537 2013 12    31  558       600            -2        919      905          \n",
              "110538 2013 12    31  559       600            -1        917      855          \n",
              "110539 2013 12    31  600       540            20        928      850          \n",
              "110540 2013 12    31  602       605            -3        744      805          \n",
              "110541 2013 12    31  602       605            -3        708      723          \n",
              "110542 2013 12    31  603       611            -8       1045     1055          \n",
              "110543 2013 12    31  607       600             7        848      825          \n",
              "110544 2013 12    31  608       615            -7        812      818          \n",
              "110545 2013 12    31  609       610            -1        911      915          \n",
              "110546 2013 12    31  609       615            -6        848      850          \n",
              "110547 2013 12    31  609       614            -5        755      751          \n",
              "110548 2013 12    31  610       615            -5        828      849          \n",
              "110549 2013 12    31  616       611             5        933      912          \n",
              "110550 2013 12    31  616       630           -14        922      919          \n",
              "⋮      ⋮    ⋮     ⋮   ⋮        ⋮              ⋮         ⋮        ⋮             \n",
              "111267 2013 12    31  2155     2039            76        253     2355          \n",
              "111268 2013 12    31  2155     2150             5        110       51          \n",
              "111269 2013 12    31  2159     2155             4         55       46          \n",
              "111270 2013 12    31  2206     2110            56         44     2339          \n",
              "111271 2013 12    31  2211     2159            12        100       45          \n",
              "111272 2013 12    31  2218     2219            -1        315      304          \n",
              "111273 2013 12    31  2235     2245           -10       2351     2355          \n",
              "111274 2013 12    31  2245     2250            -5       2359     2356          \n",
              "111275 2013 12    31  2310     2255            15          7     2356          \n",
              "111276 2013 12    31  2321     2250            31         46        8          \n",
              "111277 2013 12    31  2328     2330            -2        412      409          \n",
              "111278 2013 12    31  2332     2245            47         58        3          \n",
              "111279 2013 12    31  2355     2359            -4        430      440          \n",
              "111280 2013 12    31  2356     2359            -3        436      445          \n",
              "111281 2013 12    31    NA     1520            NA         NA     1705          \n",
              "111282 2013 12    31    NA     2025            NA         NA     2205          \n",
              "111283 2013 12    31    NA     1932            NA         NA     2305          \n",
              "111284 2013 12    31    NA     1505            NA         NA     1725          \n",
              "111285 2013 12    31    NA     1000            NA         NA     1252          \n",
              "111286 2013 12    31    NA      840            NA         NA     1205          \n",
              "111287 2013 12    31    NA      754            NA         NA     1118          \n",
              "111288 2013 12    31    NA     2000            NA         NA     2146          \n",
              "111289 2013 12    31    NA     1500            NA         NA     1817          \n",
              "111290 2013 12    31    NA     1430            NA         NA     1750          \n",
              "111291 2013 12    31    NA      855            NA         NA     1142          \n",
              "111292 2013 12    31    NA      705            NA         NA      931          \n",
              "111293 2013 12    31    NA      825            NA         NA     1029          \n",
              "111294 2013 12    31    NA     1615            NA         NA     1800          \n",
              "111295 2013 12    31    NA      600            NA         NA      735          \n",
              "111296 2013 12    31    NA      830            NA         NA     1154          \n",
              "       arr_delay carrier flight tailnum origin dest air_time distance hour\n",
              "110521   2       B6       839   N566JB  JFK    BQN  189      1576     23  \n",
              "110522   5       DL       412   N713TW  JFK    SJU  192      1598     23  \n",
              "110523  96       B6       108   N374JB  JFK    PWM   50       273     22  \n",
              "110524   4       US      1895   N557UW  EWR    CLT   95       529      5  \n",
              "110525   2       UA       700   N470UA  EWR    IAH  223      1400      5  \n",
              "110526  25       UA       274   N577UA  EWR    LAX  346      2454      5  \n",
              "110527 -20       AA       301   N3CXAA  LGA    ORD  127       733      6  \n",
              "110528 -15       EV      3825   N14916  EWR    IND  118       645      6  \n",
              "110529 -13       DL       731   N333NB  LGA    DTW   86       502      6  \n",
              "110530  -3       B6       939   N552JB  JFK    BQN  195      1576      5  \n",
              "110531  12       B6       353   N746JB  JFK    PBI  167      1028      6  \n",
              "110532   4       DL       904   N3741S  LGA    ATL  137       762      6  \n",
              "110533   2       UA       566   N491UA  EWR    TPA  164       997      5  \n",
              "110534  23       B6       583   N715JB  JFK    MCO  162       944      6  \n",
              "110535  -6       DL      1919   N958DL  LGA    MSP  160      1020      6  \n",
              "110536   0       EV      4241   N15574  EWR    DCA   45       199      6  \n",
              "110537  14       AA      1175   N3JEAA  LGA    MIA  173      1096      6  \n",
              "110538  22       B6       605   N597JB  EWR    FLL  167      1065      6  \n",
              "110539  38       AA      2243   N5EMAA  JFK    MIA  171      1089      5  \n",
              "110540 -21       DL      2505   N358NB  EWR    DTW   87       488      6  \n",
              "110541 -15       EV      6177   N14543  EWR    IAD   45       212      6  \n",
              "110542 -10       B6      1403   N547JB  JFK    SJU  198      1598      6  \n",
              "110543  23       WN      1716   N7740A  LGA    ATL  137       762      6  \n",
              "110544  -6       US      1963   N192UW  EWR    CLT  106       529      6  \n",
              "110545  -4       AA      1205   N5DHAA  EWR    MIA  163      1085      6  \n",
              "110546  -2       DL       404   N392DA  JFK    ATL  133       760      6  \n",
              "110547   4       EV      3812   N13994  EWR    RDU   81       416      6  \n",
              "110548 -21       DL       479   N3766   JFK    ATL  119       760      6  \n",
              "110549  21       B6       601   N643JB  JFK    FLL  173      1069      6  \n",
              "110550   3       B6      1099   N563JB  LGA    MCO  159       950      6  \n",
              "⋮      ⋮         ⋮       ⋮      ⋮       ⋮      ⋮    ⋮        ⋮        ⋮   \n",
              "111267  NA       B6      1205   N627JB  JFK    PDX   NA      2454     20  \n",
              "111268  19       B6      1901   N729JB  JFK    FLL  164      1069     21  \n",
              "111269   9       B6      2053   N593JB  JFK    PBI  155      1028     21  \n",
              "111270  65       B6       775   N184JB  JFK    MSY  195      1182     21  \n",
              "111271  15       B6      1183   N715JB  JFK    MCO  148       944     21  \n",
              "111272  11       B6      1203   N625JB  JFK    SJU  202      1598     22  \n",
              "111273  -4       B6       234   N355JB  JFK    BTV   49       266     22  \n",
              "111274   3       B6      1816   N318JB  JFK    SYR   51       209     22  \n",
              "111275  11       B6       718   N279JB  JFK    BOS   40       187     22  \n",
              "111276  38       B6      2002   N179JB  JFK    BUF   66       301     22  \n",
              "111277   3       B6      1389   N651JB  EWR    SJU  198      1608     23  \n",
              "111278  55       B6       486   N334JB  JFK    ROC   60       264     22  \n",
              "111279 -10       B6      1503   N509JB  JFK    SJU  195      1598     23  \n",
              "111280  -9       B6       745   N665JB  JFK    PSE  200      1617     23  \n",
              "111281  NA       AA       341   N568AA  LGA    ORD   NA       733     15  \n",
              "111282  NA       AA       371   N482AA  LGA    ORD   NA       733     20  \n",
              "111283  NA       B6       161   N516JB  JFK    SMF   NA      2521     19  \n",
              "111284  NA       EV      4181   N24103  EWR    MCI   NA      1092     15  \n",
              "111285  NA       UA      1124   NA      EWR    EGE   NA      1725     10  \n",
              "111286  NA       UA      1151   NA      EWR    SEA   NA      2402      8  \n",
              "111287  NA       UA      1455   NA      EWR    LAX   NA      2454      7  \n",
              "111288  NA       UA      1482   NA      EWR    ORD   NA       719     20  \n",
              "111289  NA       UA      1483   NA      EWR    AUS   NA      1504     15  \n",
              "111290  NA       UA      1493   NA      EWR    LAX   NA      2454     14  \n",
              "111291  NA       UA      1506   NA      EWR    JAC   NA      1874      8  \n",
              "111292  NA       UA      1729   NA      EWR    DEN   NA      1605      7  \n",
              "111293  NA       US      1831   NA      JFK    CLT   NA       541      8  \n",
              "111294  NA       MQ      3301   N844MQ  LGA    RDU   NA       431     16  \n",
              "111295  NA       UA       219   NA      EWR    ORD   NA       719      6  \n",
              "111296  NA       UA       443   NA      JFK    LAX   NA      2475      8  \n",
              "       minute time_hour          \n",
              "110521 59     2013-12-31 23:00:00\n",
              "110522 59     2013-12-31 23:00:00\n",
              "110523 45     2013-12-31 22:00:00\n",
              "110524  0     2013-12-31 05:00:00\n",
              "110525 15     2013-12-31 05:00:00\n",
              "110526 51     2013-12-31 05:00:00\n",
              "110527  0     2013-12-31 06:00:00\n",
              "110528  0     2013-12-31 06:00:00\n",
              "110529  0     2013-12-31 06:00:00\n",
              "110530 50     2013-12-31 05:00:00\n",
              "110531  0     2013-12-31 06:00:00\n",
              "110532  0     2013-12-31 06:00:00\n",
              "110533 51     2013-12-31 05:00:00\n",
              "110534  0     2013-12-31 06:00:00\n",
              "110535  5     2013-12-31 06:00:00\n",
              "110536  3     2013-12-31 06:00:00\n",
              "110537  0     2013-12-31 06:00:00\n",
              "110538  0     2013-12-31 06:00:00\n",
              "110539 40     2013-12-31 05:00:00\n",
              "110540  5     2013-12-31 06:00:00\n",
              "110541  5     2013-12-31 06:00:00\n",
              "110542 11     2013-12-31 06:00:00\n",
              "110543  0     2013-12-31 06:00:00\n",
              "110544 15     2013-12-31 06:00:00\n",
              "110545 10     2013-12-31 06:00:00\n",
              "110546 15     2013-12-31 06:00:00\n",
              "110547 14     2013-12-31 06:00:00\n",
              "110548 15     2013-12-31 06:00:00\n",
              "110549 11     2013-12-31 06:00:00\n",
              "110550 30     2013-12-31 06:00:00\n",
              "⋮      ⋮      ⋮                  \n",
              "111267 39     2013-12-31 20:00:00\n",
              "111268 50     2013-12-31 21:00:00\n",
              "111269 55     2013-12-31 21:00:00\n",
              "111270 10     2013-12-31 21:00:00\n",
              "111271 59     2013-12-31 21:00:00\n",
              "111272 19     2013-12-31 22:00:00\n",
              "111273 45     2013-12-31 22:00:00\n",
              "111274 50     2013-12-31 22:00:00\n",
              "111275 55     2013-12-31 22:00:00\n",
              "111276 50     2013-12-31 22:00:00\n",
              "111277 30     2013-12-31 23:00:00\n",
              "111278 45     2013-12-31 22:00:00\n",
              "111279 59     2013-12-31 23:00:00\n",
              "111280 59     2013-12-31 23:00:00\n",
              "111281 20     2013-12-31 15:00:00\n",
              "111282 25     2013-12-31 20:00:00\n",
              "111283 32     2013-12-31 19:00:00\n",
              "111284  5     2013-12-31 15:00:00\n",
              "111285  0     2013-12-31 10:00:00\n",
              "111286 40     2013-12-31 08:00:00\n",
              "111287 54     2013-12-31 07:00:00\n",
              "111288  0     2013-12-31 20:00:00\n",
              "111289  0     2013-12-31 15:00:00\n",
              "111290 30     2013-12-31 14:00:00\n",
              "111291 55     2013-12-31 08:00:00\n",
              "111292  5     2013-12-31 07:00:00\n",
              "111293 25     2013-12-31 08:00:00\n",
              "111294 15     2013-12-31 16:00:00\n",
              "111295  0     2013-12-31 06:00:00\n",
              "111296 30     2013-12-31 08:00:00"
            ]
          },
          "metadata": {}
        }
      ]
    },
    {
      "cell_type": "code",
      "source": [
        "# Ahora\n",
        "filter(vuelos, month == 12 & day == 31)"
      ],
      "metadata": {
        "id": "6Z4oY9nbEwm3",
        "outputId": "f874707b-6df3-4560-95e3-ac856ec789e6",
        "colab": {
          "base_uri": "https://localhost:8080/",
          "height": 1000
        }
      },
      "execution_count": null,
      "outputs": [
        {
          "output_type": "display_data",
          "data": {
            "text/html": [
              "<table class=\"dataframe\">\n",
              "<caption>A data.frame: 776 × 19</caption>\n",
              "<thead>\n",
              "\t<tr><th scope=col>year</th><th scope=col>month</th><th scope=col>day</th><th scope=col>dep_time</th><th scope=col>sched_dep_time</th><th scope=col>dep_delay</th><th scope=col>arr_time</th><th scope=col>sched_arr_time</th><th scope=col>arr_delay</th><th scope=col>carrier</th><th scope=col>flight</th><th scope=col>tailnum</th><th scope=col>origin</th><th scope=col>dest</th><th scope=col>air_time</th><th scope=col>distance</th><th scope=col>hour</th><th scope=col>minute</th><th scope=col>time_hour</th></tr>\n",
              "\t<tr><th scope=col>&lt;int&gt;</th><th scope=col>&lt;int&gt;</th><th scope=col>&lt;int&gt;</th><th scope=col>&lt;int&gt;</th><th scope=col>&lt;int&gt;</th><th scope=col>&lt;int&gt;</th><th scope=col>&lt;int&gt;</th><th scope=col>&lt;int&gt;</th><th scope=col>&lt;int&gt;</th><th scope=col>&lt;chr&gt;</th><th scope=col>&lt;int&gt;</th><th scope=col>&lt;chr&gt;</th><th scope=col>&lt;chr&gt;</th><th scope=col>&lt;chr&gt;</th><th scope=col>&lt;int&gt;</th><th scope=col>&lt;int&gt;</th><th scope=col>&lt;int&gt;</th><th scope=col>&lt;int&gt;</th><th scope=col>&lt;chr&gt;</th></tr>\n",
              "</thead>\n",
              "<tbody>\n",
              "\t<tr><td>2013</td><td>12</td><td>31</td><td> 13</td><td>2359</td><td> 14</td><td> 439</td><td> 437</td><td>  2</td><td>B6</td><td> 839</td><td>N566JB</td><td>JFK</td><td>BQN</td><td>189</td><td>1576</td><td>23</td><td>59</td><td>2013-12-31 23:00:00</td></tr>\n",
              "\t<tr><td>2013</td><td>12</td><td>31</td><td> 18</td><td>2359</td><td> 19</td><td> 449</td><td> 444</td><td>  5</td><td>DL</td><td> 412</td><td>N713TW</td><td>JFK</td><td>SJU</td><td>192</td><td>1598</td><td>23</td><td>59</td><td>2013-12-31 23:00:00</td></tr>\n",
              "\t<tr><td>2013</td><td>12</td><td>31</td><td> 26</td><td>2245</td><td>101</td><td> 129</td><td>2353</td><td> 96</td><td>B6</td><td> 108</td><td>N374JB</td><td>JFK</td><td>PWM</td><td> 50</td><td> 273</td><td>22</td><td>45</td><td>2013-12-31 22:00:00</td></tr>\n",
              "\t<tr><td>2013</td><td>12</td><td>31</td><td>459</td><td> 500</td><td> -1</td><td> 655</td><td> 651</td><td>  4</td><td>US</td><td>1895</td><td>N557UW</td><td>EWR</td><td>CLT</td><td> 95</td><td> 529</td><td> 5</td><td> 0</td><td>2013-12-31 05:00:00</td></tr>\n",
              "\t<tr><td>2013</td><td>12</td><td>31</td><td>514</td><td> 515</td><td> -1</td><td> 814</td><td> 812</td><td>  2</td><td>UA</td><td> 700</td><td>N470UA</td><td>EWR</td><td>IAH</td><td>223</td><td>1400</td><td> 5</td><td>15</td><td>2013-12-31 05:00:00</td></tr>\n",
              "\t<tr><td>2013</td><td>12</td><td>31</td><td>549</td><td> 551</td><td> -2</td><td> 925</td><td> 900</td><td> 25</td><td>UA</td><td> 274</td><td>N577UA</td><td>EWR</td><td>LAX</td><td>346</td><td>2454</td><td> 5</td><td>51</td><td>2013-12-31 05:00:00</td></tr>\n",
              "\t<tr><td>2013</td><td>12</td><td>31</td><td>550</td><td> 600</td><td>-10</td><td> 725</td><td> 745</td><td>-20</td><td>AA</td><td> 301</td><td>N3CXAA</td><td>LGA</td><td>ORD</td><td>127</td><td> 733</td><td> 6</td><td> 0</td><td>2013-12-31 06:00:00</td></tr>\n",
              "\t<tr><td>2013</td><td>12</td><td>31</td><td>552</td><td> 600</td><td> -8</td><td> 811</td><td> 826</td><td>-15</td><td>EV</td><td>3825</td><td>N14916</td><td>EWR</td><td>IND</td><td>118</td><td> 645</td><td> 6</td><td> 0</td><td>2013-12-31 06:00:00</td></tr>\n",
              "\t<tr><td>2013</td><td>12</td><td>31</td><td>553</td><td> 600</td><td> -7</td><td> 741</td><td> 754</td><td>-13</td><td>DL</td><td> 731</td><td>N333NB</td><td>LGA</td><td>DTW</td><td> 86</td><td> 502</td><td> 6</td><td> 0</td><td>2013-12-31 06:00:00</td></tr>\n",
              "\t<tr><td>2013</td><td>12</td><td>31</td><td>554</td><td> 550</td><td>  4</td><td>1024</td><td>1027</td><td> -3</td><td>B6</td><td> 939</td><td>N552JB</td><td>JFK</td><td>BQN</td><td>195</td><td>1576</td><td> 5</td><td>50</td><td>2013-12-31 05:00:00</td></tr>\n",
              "\t<tr><td>2013</td><td>12</td><td>31</td><td>555</td><td> 600</td><td> -5</td><td> 901</td><td> 849</td><td> 12</td><td>B6</td><td> 353</td><td>N746JB</td><td>JFK</td><td>PBI</td><td>167</td><td>1028</td><td> 6</td><td> 0</td><td>2013-12-31 06:00:00</td></tr>\n",
              "\t<tr><td>2013</td><td>12</td><td>31</td><td>555</td><td> 600</td><td> -5</td><td> 835</td><td> 831</td><td>  4</td><td>DL</td><td> 904</td><td>N3741S</td><td>LGA</td><td>ATL</td><td>137</td><td> 762</td><td> 6</td><td> 0</td><td>2013-12-31 06:00:00</td></tr>\n",
              "\t<tr><td>2013</td><td>12</td><td>31</td><td>555</td><td> 551</td><td>  4</td><td> 853</td><td> 851</td><td>  2</td><td>UA</td><td> 566</td><td>N491UA</td><td>EWR</td><td>TPA</td><td>164</td><td> 997</td><td> 5</td><td>51</td><td>2013-12-31 05:00:00</td></tr>\n",
              "\t<tr><td>2013</td><td>12</td><td>31</td><td>556</td><td> 600</td><td> -4</td><td> 909</td><td> 846</td><td> 23</td><td>B6</td><td> 583</td><td>N715JB</td><td>JFK</td><td>MCO</td><td>162</td><td> 944</td><td> 6</td><td> 0</td><td>2013-12-31 06:00:00</td></tr>\n",
              "\t<tr><td>2013</td><td>12</td><td>31</td><td>556</td><td> 605</td><td> -9</td><td> 808</td><td> 814</td><td> -6</td><td>DL</td><td>1919</td><td>N958DL</td><td>LGA</td><td>MSP</td><td>160</td><td>1020</td><td> 6</td><td> 5</td><td>2013-12-31 06:00:00</td></tr>\n",
              "\t<tr><td>2013</td><td>12</td><td>31</td><td>557</td><td> 603</td><td> -6</td><td> 719</td><td> 719</td><td>  0</td><td>EV</td><td>4241</td><td>N15574</td><td>EWR</td><td>DCA</td><td> 45</td><td> 199</td><td> 6</td><td> 3</td><td>2013-12-31 06:00:00</td></tr>\n",
              "\t<tr><td>2013</td><td>12</td><td>31</td><td>558</td><td> 600</td><td> -2</td><td> 919</td><td> 905</td><td> 14</td><td>AA</td><td>1175</td><td>N3JEAA</td><td>LGA</td><td>MIA</td><td>173</td><td>1096</td><td> 6</td><td> 0</td><td>2013-12-31 06:00:00</td></tr>\n",
              "\t<tr><td>2013</td><td>12</td><td>31</td><td>559</td><td> 600</td><td> -1</td><td> 917</td><td> 855</td><td> 22</td><td>B6</td><td> 605</td><td>N597JB</td><td>EWR</td><td>FLL</td><td>167</td><td>1065</td><td> 6</td><td> 0</td><td>2013-12-31 06:00:00</td></tr>\n",
              "\t<tr><td>2013</td><td>12</td><td>31</td><td>600</td><td> 540</td><td> 20</td><td> 928</td><td> 850</td><td> 38</td><td>AA</td><td>2243</td><td>N5EMAA</td><td>JFK</td><td>MIA</td><td>171</td><td>1089</td><td> 5</td><td>40</td><td>2013-12-31 05:00:00</td></tr>\n",
              "\t<tr><td>2013</td><td>12</td><td>31</td><td>602</td><td> 605</td><td> -3</td><td> 744</td><td> 805</td><td>-21</td><td>DL</td><td>2505</td><td>N358NB</td><td>EWR</td><td>DTW</td><td> 87</td><td> 488</td><td> 6</td><td> 5</td><td>2013-12-31 06:00:00</td></tr>\n",
              "\t<tr><td>2013</td><td>12</td><td>31</td><td>602</td><td> 605</td><td> -3</td><td> 708</td><td> 723</td><td>-15</td><td>EV</td><td>6177</td><td>N14543</td><td>EWR</td><td>IAD</td><td> 45</td><td> 212</td><td> 6</td><td> 5</td><td>2013-12-31 06:00:00</td></tr>\n",
              "\t<tr><td>2013</td><td>12</td><td>31</td><td>603</td><td> 611</td><td> -8</td><td>1045</td><td>1055</td><td>-10</td><td>B6</td><td>1403</td><td>N547JB</td><td>JFK</td><td>SJU</td><td>198</td><td>1598</td><td> 6</td><td>11</td><td>2013-12-31 06:00:00</td></tr>\n",
              "\t<tr><td>2013</td><td>12</td><td>31</td><td>607</td><td> 600</td><td>  7</td><td> 848</td><td> 825</td><td> 23</td><td>WN</td><td>1716</td><td>N7740A</td><td>LGA</td><td>ATL</td><td>137</td><td> 762</td><td> 6</td><td> 0</td><td>2013-12-31 06:00:00</td></tr>\n",
              "\t<tr><td>2013</td><td>12</td><td>31</td><td>608</td><td> 615</td><td> -7</td><td> 812</td><td> 818</td><td> -6</td><td>US</td><td>1963</td><td>N192UW</td><td>EWR</td><td>CLT</td><td>106</td><td> 529</td><td> 6</td><td>15</td><td>2013-12-31 06:00:00</td></tr>\n",
              "\t<tr><td>2013</td><td>12</td><td>31</td><td>609</td><td> 610</td><td> -1</td><td> 911</td><td> 915</td><td> -4</td><td>AA</td><td>1205</td><td>N5DHAA</td><td>EWR</td><td>MIA</td><td>163</td><td>1085</td><td> 6</td><td>10</td><td>2013-12-31 06:00:00</td></tr>\n",
              "\t<tr><td>2013</td><td>12</td><td>31</td><td>609</td><td> 615</td><td> -6</td><td> 848</td><td> 850</td><td> -2</td><td>DL</td><td> 404</td><td>N392DA</td><td>JFK</td><td>ATL</td><td>133</td><td> 760</td><td> 6</td><td>15</td><td>2013-12-31 06:00:00</td></tr>\n",
              "\t<tr><td>2013</td><td>12</td><td>31</td><td>609</td><td> 614</td><td> -5</td><td> 755</td><td> 751</td><td>  4</td><td>EV</td><td>3812</td><td>N13994</td><td>EWR</td><td>RDU</td><td> 81</td><td> 416</td><td> 6</td><td>14</td><td>2013-12-31 06:00:00</td></tr>\n",
              "\t<tr><td>2013</td><td>12</td><td>31</td><td>610</td><td> 615</td><td> -5</td><td> 828</td><td> 849</td><td>-21</td><td>DL</td><td> 479</td><td>N3766 </td><td>JFK</td><td>ATL</td><td>119</td><td> 760</td><td> 6</td><td>15</td><td>2013-12-31 06:00:00</td></tr>\n",
              "\t<tr><td>2013</td><td>12</td><td>31</td><td>616</td><td> 611</td><td>  5</td><td> 933</td><td> 912</td><td> 21</td><td>B6</td><td> 601</td><td>N643JB</td><td>JFK</td><td>FLL</td><td>173</td><td>1069</td><td> 6</td><td>11</td><td>2013-12-31 06:00:00</td></tr>\n",
              "\t<tr><td>2013</td><td>12</td><td>31</td><td>616</td><td> 630</td><td>-14</td><td> 922</td><td> 919</td><td>  3</td><td>B6</td><td>1099</td><td>N563JB</td><td>LGA</td><td>MCO</td><td>159</td><td> 950</td><td> 6</td><td>30</td><td>2013-12-31 06:00:00</td></tr>\n",
              "\t<tr><td>⋮</td><td>⋮</td><td>⋮</td><td>⋮</td><td>⋮</td><td>⋮</td><td>⋮</td><td>⋮</td><td>⋮</td><td>⋮</td><td>⋮</td><td>⋮</td><td>⋮</td><td>⋮</td><td>⋮</td><td>⋮</td><td>⋮</td><td>⋮</td><td>⋮</td></tr>\n",
              "\t<tr><td>2013</td><td>12</td><td>31</td><td>2155</td><td>2039</td><td> 76</td><td> 253</td><td>2355</td><td> NA</td><td>B6</td><td>1205</td><td>N627JB</td><td>JFK</td><td>PDX</td><td> NA</td><td>2454</td><td>20</td><td>39</td><td>2013-12-31 20:00:00</td></tr>\n",
              "\t<tr><td>2013</td><td>12</td><td>31</td><td>2155</td><td>2150</td><td>  5</td><td> 110</td><td>  51</td><td> 19</td><td>B6</td><td>1901</td><td>N729JB</td><td>JFK</td><td>FLL</td><td>164</td><td>1069</td><td>21</td><td>50</td><td>2013-12-31 21:00:00</td></tr>\n",
              "\t<tr><td>2013</td><td>12</td><td>31</td><td>2159</td><td>2155</td><td>  4</td><td>  55</td><td>  46</td><td>  9</td><td>B6</td><td>2053</td><td>N593JB</td><td>JFK</td><td>PBI</td><td>155</td><td>1028</td><td>21</td><td>55</td><td>2013-12-31 21:00:00</td></tr>\n",
              "\t<tr><td>2013</td><td>12</td><td>31</td><td>2206</td><td>2110</td><td> 56</td><td>  44</td><td>2339</td><td> 65</td><td>B6</td><td> 775</td><td>N184JB</td><td>JFK</td><td>MSY</td><td>195</td><td>1182</td><td>21</td><td>10</td><td>2013-12-31 21:00:00</td></tr>\n",
              "\t<tr><td>2013</td><td>12</td><td>31</td><td>2211</td><td>2159</td><td> 12</td><td> 100</td><td>  45</td><td> 15</td><td>B6</td><td>1183</td><td>N715JB</td><td>JFK</td><td>MCO</td><td>148</td><td> 944</td><td>21</td><td>59</td><td>2013-12-31 21:00:00</td></tr>\n",
              "\t<tr><td>2013</td><td>12</td><td>31</td><td>2218</td><td>2219</td><td> -1</td><td> 315</td><td> 304</td><td> 11</td><td>B6</td><td>1203</td><td>N625JB</td><td>JFK</td><td>SJU</td><td>202</td><td>1598</td><td>22</td><td>19</td><td>2013-12-31 22:00:00</td></tr>\n",
              "\t<tr><td>2013</td><td>12</td><td>31</td><td>2235</td><td>2245</td><td>-10</td><td>2351</td><td>2355</td><td> -4</td><td>B6</td><td> 234</td><td>N355JB</td><td>JFK</td><td>BTV</td><td> 49</td><td> 266</td><td>22</td><td>45</td><td>2013-12-31 22:00:00</td></tr>\n",
              "\t<tr><td>2013</td><td>12</td><td>31</td><td>2245</td><td>2250</td><td> -5</td><td>2359</td><td>2356</td><td>  3</td><td>B6</td><td>1816</td><td>N318JB</td><td>JFK</td><td>SYR</td><td> 51</td><td> 209</td><td>22</td><td>50</td><td>2013-12-31 22:00:00</td></tr>\n",
              "\t<tr><td>2013</td><td>12</td><td>31</td><td>2310</td><td>2255</td><td> 15</td><td>   7</td><td>2356</td><td> 11</td><td>B6</td><td> 718</td><td>N279JB</td><td>JFK</td><td>BOS</td><td> 40</td><td> 187</td><td>22</td><td>55</td><td>2013-12-31 22:00:00</td></tr>\n",
              "\t<tr><td>2013</td><td>12</td><td>31</td><td>2321</td><td>2250</td><td> 31</td><td>  46</td><td>   8</td><td> 38</td><td>B6</td><td>2002</td><td>N179JB</td><td>JFK</td><td>BUF</td><td> 66</td><td> 301</td><td>22</td><td>50</td><td>2013-12-31 22:00:00</td></tr>\n",
              "\t<tr><td>2013</td><td>12</td><td>31</td><td>2328</td><td>2330</td><td> -2</td><td> 412</td><td> 409</td><td>  3</td><td>B6</td><td>1389</td><td>N651JB</td><td>EWR</td><td>SJU</td><td>198</td><td>1608</td><td>23</td><td>30</td><td>2013-12-31 23:00:00</td></tr>\n",
              "\t<tr><td>2013</td><td>12</td><td>31</td><td>2332</td><td>2245</td><td> 47</td><td>  58</td><td>   3</td><td> 55</td><td>B6</td><td> 486</td><td>N334JB</td><td>JFK</td><td>ROC</td><td> 60</td><td> 264</td><td>22</td><td>45</td><td>2013-12-31 22:00:00</td></tr>\n",
              "\t<tr><td>2013</td><td>12</td><td>31</td><td>2355</td><td>2359</td><td> -4</td><td> 430</td><td> 440</td><td>-10</td><td>B6</td><td>1503</td><td>N509JB</td><td>JFK</td><td>SJU</td><td>195</td><td>1598</td><td>23</td><td>59</td><td>2013-12-31 23:00:00</td></tr>\n",
              "\t<tr><td>2013</td><td>12</td><td>31</td><td>2356</td><td>2359</td><td> -3</td><td> 436</td><td> 445</td><td> -9</td><td>B6</td><td> 745</td><td>N665JB</td><td>JFK</td><td>PSE</td><td>200</td><td>1617</td><td>23</td><td>59</td><td>2013-12-31 23:00:00</td></tr>\n",
              "\t<tr><td>2013</td><td>12</td><td>31</td><td>  NA</td><td>1520</td><td> NA</td><td>  NA</td><td>1705</td><td> NA</td><td>AA</td><td> 341</td><td>N568AA</td><td>LGA</td><td>ORD</td><td> NA</td><td> 733</td><td>15</td><td>20</td><td>2013-12-31 15:00:00</td></tr>\n",
              "\t<tr><td>2013</td><td>12</td><td>31</td><td>  NA</td><td>2025</td><td> NA</td><td>  NA</td><td>2205</td><td> NA</td><td>AA</td><td> 371</td><td>N482AA</td><td>LGA</td><td>ORD</td><td> NA</td><td> 733</td><td>20</td><td>25</td><td>2013-12-31 20:00:00</td></tr>\n",
              "\t<tr><td>2013</td><td>12</td><td>31</td><td>  NA</td><td>1932</td><td> NA</td><td>  NA</td><td>2305</td><td> NA</td><td>B6</td><td> 161</td><td>N516JB</td><td>JFK</td><td>SMF</td><td> NA</td><td>2521</td><td>19</td><td>32</td><td>2013-12-31 19:00:00</td></tr>\n",
              "\t<tr><td>2013</td><td>12</td><td>31</td><td>  NA</td><td>1505</td><td> NA</td><td>  NA</td><td>1725</td><td> NA</td><td>EV</td><td>4181</td><td>N24103</td><td>EWR</td><td>MCI</td><td> NA</td><td>1092</td><td>15</td><td> 5</td><td>2013-12-31 15:00:00</td></tr>\n",
              "\t<tr><td>2013</td><td>12</td><td>31</td><td>  NA</td><td>1000</td><td> NA</td><td>  NA</td><td>1252</td><td> NA</td><td>UA</td><td>1124</td><td>NA    </td><td>EWR</td><td>EGE</td><td> NA</td><td>1725</td><td>10</td><td> 0</td><td>2013-12-31 10:00:00</td></tr>\n",
              "\t<tr><td>2013</td><td>12</td><td>31</td><td>  NA</td><td> 840</td><td> NA</td><td>  NA</td><td>1205</td><td> NA</td><td>UA</td><td>1151</td><td>NA    </td><td>EWR</td><td>SEA</td><td> NA</td><td>2402</td><td> 8</td><td>40</td><td>2013-12-31 08:00:00</td></tr>\n",
              "\t<tr><td>2013</td><td>12</td><td>31</td><td>  NA</td><td> 754</td><td> NA</td><td>  NA</td><td>1118</td><td> NA</td><td>UA</td><td>1455</td><td>NA    </td><td>EWR</td><td>LAX</td><td> NA</td><td>2454</td><td> 7</td><td>54</td><td>2013-12-31 07:00:00</td></tr>\n",
              "\t<tr><td>2013</td><td>12</td><td>31</td><td>  NA</td><td>2000</td><td> NA</td><td>  NA</td><td>2146</td><td> NA</td><td>UA</td><td>1482</td><td>NA    </td><td>EWR</td><td>ORD</td><td> NA</td><td> 719</td><td>20</td><td> 0</td><td>2013-12-31 20:00:00</td></tr>\n",
              "\t<tr><td>2013</td><td>12</td><td>31</td><td>  NA</td><td>1500</td><td> NA</td><td>  NA</td><td>1817</td><td> NA</td><td>UA</td><td>1483</td><td>NA    </td><td>EWR</td><td>AUS</td><td> NA</td><td>1504</td><td>15</td><td> 0</td><td>2013-12-31 15:00:00</td></tr>\n",
              "\t<tr><td>2013</td><td>12</td><td>31</td><td>  NA</td><td>1430</td><td> NA</td><td>  NA</td><td>1750</td><td> NA</td><td>UA</td><td>1493</td><td>NA    </td><td>EWR</td><td>LAX</td><td> NA</td><td>2454</td><td>14</td><td>30</td><td>2013-12-31 14:00:00</td></tr>\n",
              "\t<tr><td>2013</td><td>12</td><td>31</td><td>  NA</td><td> 855</td><td> NA</td><td>  NA</td><td>1142</td><td> NA</td><td>UA</td><td>1506</td><td>NA    </td><td>EWR</td><td>JAC</td><td> NA</td><td>1874</td><td> 8</td><td>55</td><td>2013-12-31 08:00:00</td></tr>\n",
              "\t<tr><td>2013</td><td>12</td><td>31</td><td>  NA</td><td> 705</td><td> NA</td><td>  NA</td><td> 931</td><td> NA</td><td>UA</td><td>1729</td><td>NA    </td><td>EWR</td><td>DEN</td><td> NA</td><td>1605</td><td> 7</td><td> 5</td><td>2013-12-31 07:00:00</td></tr>\n",
              "\t<tr><td>2013</td><td>12</td><td>31</td><td>  NA</td><td> 825</td><td> NA</td><td>  NA</td><td>1029</td><td> NA</td><td>US</td><td>1831</td><td>NA    </td><td>JFK</td><td>CLT</td><td> NA</td><td> 541</td><td> 8</td><td>25</td><td>2013-12-31 08:00:00</td></tr>\n",
              "\t<tr><td>2013</td><td>12</td><td>31</td><td>  NA</td><td>1615</td><td> NA</td><td>  NA</td><td>1800</td><td> NA</td><td>MQ</td><td>3301</td><td>N844MQ</td><td>LGA</td><td>RDU</td><td> NA</td><td> 431</td><td>16</td><td>15</td><td>2013-12-31 16:00:00</td></tr>\n",
              "\t<tr><td>2013</td><td>12</td><td>31</td><td>  NA</td><td> 600</td><td> NA</td><td>  NA</td><td> 735</td><td> NA</td><td>UA</td><td> 219</td><td>NA    </td><td>EWR</td><td>ORD</td><td> NA</td><td> 719</td><td> 6</td><td> 0</td><td>2013-12-31 06:00:00</td></tr>\n",
              "\t<tr><td>2013</td><td>12</td><td>31</td><td>  NA</td><td> 830</td><td> NA</td><td>  NA</td><td>1154</td><td> NA</td><td>UA</td><td> 443</td><td>NA    </td><td>JFK</td><td>LAX</td><td> NA</td><td>2475</td><td> 8</td><td>30</td><td>2013-12-31 08:00:00</td></tr>\n",
              "</tbody>\n",
              "</table>\n"
            ],
            "text/markdown": "\nA data.frame: 776 × 19\n\n| year &lt;int&gt; | month &lt;int&gt; | day &lt;int&gt; | dep_time &lt;int&gt; | sched_dep_time &lt;int&gt; | dep_delay &lt;int&gt; | arr_time &lt;int&gt; | sched_arr_time &lt;int&gt; | arr_delay &lt;int&gt; | carrier &lt;chr&gt; | flight &lt;int&gt; | tailnum &lt;chr&gt; | origin &lt;chr&gt; | dest &lt;chr&gt; | air_time &lt;int&gt; | distance &lt;int&gt; | hour &lt;int&gt; | minute &lt;int&gt; | time_hour &lt;chr&gt; |\n|---|---|---|---|---|---|---|---|---|---|---|---|---|---|---|---|---|---|---|\n| 2013 | 12 | 31 |  13 | 2359 |  14 |  439 |  437 |   2 | B6 |  839 | N566JB | JFK | BQN | 189 | 1576 | 23 | 59 | 2013-12-31 23:00:00 |\n| 2013 | 12 | 31 |  18 | 2359 |  19 |  449 |  444 |   5 | DL |  412 | N713TW | JFK | SJU | 192 | 1598 | 23 | 59 | 2013-12-31 23:00:00 |\n| 2013 | 12 | 31 |  26 | 2245 | 101 |  129 | 2353 |  96 | B6 |  108 | N374JB | JFK | PWM |  50 |  273 | 22 | 45 | 2013-12-31 22:00:00 |\n| 2013 | 12 | 31 | 459 |  500 |  -1 |  655 |  651 |   4 | US | 1895 | N557UW | EWR | CLT |  95 |  529 |  5 |  0 | 2013-12-31 05:00:00 |\n| 2013 | 12 | 31 | 514 |  515 |  -1 |  814 |  812 |   2 | UA |  700 | N470UA | EWR | IAH | 223 | 1400 |  5 | 15 | 2013-12-31 05:00:00 |\n| 2013 | 12 | 31 | 549 |  551 |  -2 |  925 |  900 |  25 | UA |  274 | N577UA | EWR | LAX | 346 | 2454 |  5 | 51 | 2013-12-31 05:00:00 |\n| 2013 | 12 | 31 | 550 |  600 | -10 |  725 |  745 | -20 | AA |  301 | N3CXAA | LGA | ORD | 127 |  733 |  6 |  0 | 2013-12-31 06:00:00 |\n| 2013 | 12 | 31 | 552 |  600 |  -8 |  811 |  826 | -15 | EV | 3825 | N14916 | EWR | IND | 118 |  645 |  6 |  0 | 2013-12-31 06:00:00 |\n| 2013 | 12 | 31 | 553 |  600 |  -7 |  741 |  754 | -13 | DL |  731 | N333NB | LGA | DTW |  86 |  502 |  6 |  0 | 2013-12-31 06:00:00 |\n| 2013 | 12 | 31 | 554 |  550 |   4 | 1024 | 1027 |  -3 | B6 |  939 | N552JB | JFK | BQN | 195 | 1576 |  5 | 50 | 2013-12-31 05:00:00 |\n| 2013 | 12 | 31 | 555 |  600 |  -5 |  901 |  849 |  12 | B6 |  353 | N746JB | JFK | PBI | 167 | 1028 |  6 |  0 | 2013-12-31 06:00:00 |\n| 2013 | 12 | 31 | 555 |  600 |  -5 |  835 |  831 |   4 | DL |  904 | N3741S | LGA | ATL | 137 |  762 |  6 |  0 | 2013-12-31 06:00:00 |\n| 2013 | 12 | 31 | 555 |  551 |   4 |  853 |  851 |   2 | UA |  566 | N491UA | EWR | TPA | 164 |  997 |  5 | 51 | 2013-12-31 05:00:00 |\n| 2013 | 12 | 31 | 556 |  600 |  -4 |  909 |  846 |  23 | B6 |  583 | N715JB | JFK | MCO | 162 |  944 |  6 |  0 | 2013-12-31 06:00:00 |\n| 2013 | 12 | 31 | 556 |  605 |  -9 |  808 |  814 |  -6 | DL | 1919 | N958DL | LGA | MSP | 160 | 1020 |  6 |  5 | 2013-12-31 06:00:00 |\n| 2013 | 12 | 31 | 557 |  603 |  -6 |  719 |  719 |   0 | EV | 4241 | N15574 | EWR | DCA |  45 |  199 |  6 |  3 | 2013-12-31 06:00:00 |\n| 2013 | 12 | 31 | 558 |  600 |  -2 |  919 |  905 |  14 | AA | 1175 | N3JEAA | LGA | MIA | 173 | 1096 |  6 |  0 | 2013-12-31 06:00:00 |\n| 2013 | 12 | 31 | 559 |  600 |  -1 |  917 |  855 |  22 | B6 |  605 | N597JB | EWR | FLL | 167 | 1065 |  6 |  0 | 2013-12-31 06:00:00 |\n| 2013 | 12 | 31 | 600 |  540 |  20 |  928 |  850 |  38 | AA | 2243 | N5EMAA | JFK | MIA | 171 | 1089 |  5 | 40 | 2013-12-31 05:00:00 |\n| 2013 | 12 | 31 | 602 |  605 |  -3 |  744 |  805 | -21 | DL | 2505 | N358NB | EWR | DTW |  87 |  488 |  6 |  5 | 2013-12-31 06:00:00 |\n| 2013 | 12 | 31 | 602 |  605 |  -3 |  708 |  723 | -15 | EV | 6177 | N14543 | EWR | IAD |  45 |  212 |  6 |  5 | 2013-12-31 06:00:00 |\n| 2013 | 12 | 31 | 603 |  611 |  -8 | 1045 | 1055 | -10 | B6 | 1403 | N547JB | JFK | SJU | 198 | 1598 |  6 | 11 | 2013-12-31 06:00:00 |\n| 2013 | 12 | 31 | 607 |  600 |   7 |  848 |  825 |  23 | WN | 1716 | N7740A | LGA | ATL | 137 |  762 |  6 |  0 | 2013-12-31 06:00:00 |\n| 2013 | 12 | 31 | 608 |  615 |  -7 |  812 |  818 |  -6 | US | 1963 | N192UW | EWR | CLT | 106 |  529 |  6 | 15 | 2013-12-31 06:00:00 |\n| 2013 | 12 | 31 | 609 |  610 |  -1 |  911 |  915 |  -4 | AA | 1205 | N5DHAA | EWR | MIA | 163 | 1085 |  6 | 10 | 2013-12-31 06:00:00 |\n| 2013 | 12 | 31 | 609 |  615 |  -6 |  848 |  850 |  -2 | DL |  404 | N392DA | JFK | ATL | 133 |  760 |  6 | 15 | 2013-12-31 06:00:00 |\n| 2013 | 12 | 31 | 609 |  614 |  -5 |  755 |  751 |   4 | EV | 3812 | N13994 | EWR | RDU |  81 |  416 |  6 | 14 | 2013-12-31 06:00:00 |\n| 2013 | 12 | 31 | 610 |  615 |  -5 |  828 |  849 | -21 | DL |  479 | N3766  | JFK | ATL | 119 |  760 |  6 | 15 | 2013-12-31 06:00:00 |\n| 2013 | 12 | 31 | 616 |  611 |   5 |  933 |  912 |  21 | B6 |  601 | N643JB | JFK | FLL | 173 | 1069 |  6 | 11 | 2013-12-31 06:00:00 |\n| 2013 | 12 | 31 | 616 |  630 | -14 |  922 |  919 |   3 | B6 | 1099 | N563JB | LGA | MCO | 159 |  950 |  6 | 30 | 2013-12-31 06:00:00 |\n| ⋮ | ⋮ | ⋮ | ⋮ | ⋮ | ⋮ | ⋮ | ⋮ | ⋮ | ⋮ | ⋮ | ⋮ | ⋮ | ⋮ | ⋮ | ⋮ | ⋮ | ⋮ | ⋮ |\n| 2013 | 12 | 31 | 2155 | 2039 |  76 |  253 | 2355 |  NA | B6 | 1205 | N627JB | JFK | PDX |  NA | 2454 | 20 | 39 | 2013-12-31 20:00:00 |\n| 2013 | 12 | 31 | 2155 | 2150 |   5 |  110 |   51 |  19 | B6 | 1901 | N729JB | JFK | FLL | 164 | 1069 | 21 | 50 | 2013-12-31 21:00:00 |\n| 2013 | 12 | 31 | 2159 | 2155 |   4 |   55 |   46 |   9 | B6 | 2053 | N593JB | JFK | PBI | 155 | 1028 | 21 | 55 | 2013-12-31 21:00:00 |\n| 2013 | 12 | 31 | 2206 | 2110 |  56 |   44 | 2339 |  65 | B6 |  775 | N184JB | JFK | MSY | 195 | 1182 | 21 | 10 | 2013-12-31 21:00:00 |\n| 2013 | 12 | 31 | 2211 | 2159 |  12 |  100 |   45 |  15 | B6 | 1183 | N715JB | JFK | MCO | 148 |  944 | 21 | 59 | 2013-12-31 21:00:00 |\n| 2013 | 12 | 31 | 2218 | 2219 |  -1 |  315 |  304 |  11 | B6 | 1203 | N625JB | JFK | SJU | 202 | 1598 | 22 | 19 | 2013-12-31 22:00:00 |\n| 2013 | 12 | 31 | 2235 | 2245 | -10 | 2351 | 2355 |  -4 | B6 |  234 | N355JB | JFK | BTV |  49 |  266 | 22 | 45 | 2013-12-31 22:00:00 |\n| 2013 | 12 | 31 | 2245 | 2250 |  -5 | 2359 | 2356 |   3 | B6 | 1816 | N318JB | JFK | SYR |  51 |  209 | 22 | 50 | 2013-12-31 22:00:00 |\n| 2013 | 12 | 31 | 2310 | 2255 |  15 |    7 | 2356 |  11 | B6 |  718 | N279JB | JFK | BOS |  40 |  187 | 22 | 55 | 2013-12-31 22:00:00 |\n| 2013 | 12 | 31 | 2321 | 2250 |  31 |   46 |    8 |  38 | B6 | 2002 | N179JB | JFK | BUF |  66 |  301 | 22 | 50 | 2013-12-31 22:00:00 |\n| 2013 | 12 | 31 | 2328 | 2330 |  -2 |  412 |  409 |   3 | B6 | 1389 | N651JB | EWR | SJU | 198 | 1608 | 23 | 30 | 2013-12-31 23:00:00 |\n| 2013 | 12 | 31 | 2332 | 2245 |  47 |   58 |    3 |  55 | B6 |  486 | N334JB | JFK | ROC |  60 |  264 | 22 | 45 | 2013-12-31 22:00:00 |\n| 2013 | 12 | 31 | 2355 | 2359 |  -4 |  430 |  440 | -10 | B6 | 1503 | N509JB | JFK | SJU | 195 | 1598 | 23 | 59 | 2013-12-31 23:00:00 |\n| 2013 | 12 | 31 | 2356 | 2359 |  -3 |  436 |  445 |  -9 | B6 |  745 | N665JB | JFK | PSE | 200 | 1617 | 23 | 59 | 2013-12-31 23:00:00 |\n| 2013 | 12 | 31 |   NA | 1520 |  NA |   NA | 1705 |  NA | AA |  341 | N568AA | LGA | ORD |  NA |  733 | 15 | 20 | 2013-12-31 15:00:00 |\n| 2013 | 12 | 31 |   NA | 2025 |  NA |   NA | 2205 |  NA | AA |  371 | N482AA | LGA | ORD |  NA |  733 | 20 | 25 | 2013-12-31 20:00:00 |\n| 2013 | 12 | 31 |   NA | 1932 |  NA |   NA | 2305 |  NA | B6 |  161 | N516JB | JFK | SMF |  NA | 2521 | 19 | 32 | 2013-12-31 19:00:00 |\n| 2013 | 12 | 31 |   NA | 1505 |  NA |   NA | 1725 |  NA | EV | 4181 | N24103 | EWR | MCI |  NA | 1092 | 15 |  5 | 2013-12-31 15:00:00 |\n| 2013 | 12 | 31 |   NA | 1000 |  NA |   NA | 1252 |  NA | UA | 1124 | NA     | EWR | EGE |  NA | 1725 | 10 |  0 | 2013-12-31 10:00:00 |\n| 2013 | 12 | 31 |   NA |  840 |  NA |   NA | 1205 |  NA | UA | 1151 | NA     | EWR | SEA |  NA | 2402 |  8 | 40 | 2013-12-31 08:00:00 |\n| 2013 | 12 | 31 |   NA |  754 |  NA |   NA | 1118 |  NA | UA | 1455 | NA     | EWR | LAX |  NA | 2454 |  7 | 54 | 2013-12-31 07:00:00 |\n| 2013 | 12 | 31 |   NA | 2000 |  NA |   NA | 2146 |  NA | UA | 1482 | NA     | EWR | ORD |  NA |  719 | 20 |  0 | 2013-12-31 20:00:00 |\n| 2013 | 12 | 31 |   NA | 1500 |  NA |   NA | 1817 |  NA | UA | 1483 | NA     | EWR | AUS |  NA | 1504 | 15 |  0 | 2013-12-31 15:00:00 |\n| 2013 | 12 | 31 |   NA | 1430 |  NA |   NA | 1750 |  NA | UA | 1493 | NA     | EWR | LAX |  NA | 2454 | 14 | 30 | 2013-12-31 14:00:00 |\n| 2013 | 12 | 31 |   NA |  855 |  NA |   NA | 1142 |  NA | UA | 1506 | NA     | EWR | JAC |  NA | 1874 |  8 | 55 | 2013-12-31 08:00:00 |\n| 2013 | 12 | 31 |   NA |  705 |  NA |   NA |  931 |  NA | UA | 1729 | NA     | EWR | DEN |  NA | 1605 |  7 |  5 | 2013-12-31 07:00:00 |\n| 2013 | 12 | 31 |   NA |  825 |  NA |   NA | 1029 |  NA | US | 1831 | NA     | JFK | CLT |  NA |  541 |  8 | 25 | 2013-12-31 08:00:00 |\n| 2013 | 12 | 31 |   NA | 1615 |  NA |   NA | 1800 |  NA | MQ | 3301 | N844MQ | LGA | RDU |  NA |  431 | 16 | 15 | 2013-12-31 16:00:00 |\n| 2013 | 12 | 31 |   NA |  600 |  NA |   NA |  735 |  NA | UA |  219 | NA     | EWR | ORD |  NA |  719 |  6 |  0 | 2013-12-31 06:00:00 |\n| 2013 | 12 | 31 |   NA |  830 |  NA |   NA | 1154 |  NA | UA |  443 | NA     | JFK | LAX |  NA | 2475 |  8 | 30 | 2013-12-31 08:00:00 |\n\n",
            "text/latex": "A data.frame: 776 × 19\n\\begin{tabular}{lllllllllllllllllll}\n year & month & day & dep\\_time & sched\\_dep\\_time & dep\\_delay & arr\\_time & sched\\_arr\\_time & arr\\_delay & carrier & flight & tailnum & origin & dest & air\\_time & distance & hour & minute & time\\_hour\\\\\n <int> & <int> & <int> & <int> & <int> & <int> & <int> & <int> & <int> & <chr> & <int> & <chr> & <chr> & <chr> & <int> & <int> & <int> & <int> & <chr>\\\\\n\\hline\n\t 2013 & 12 & 31 &  13 & 2359 &  14 &  439 &  437 &   2 & B6 &  839 & N566JB & JFK & BQN & 189 & 1576 & 23 & 59 & 2013-12-31 23:00:00\\\\\n\t 2013 & 12 & 31 &  18 & 2359 &  19 &  449 &  444 &   5 & DL &  412 & N713TW & JFK & SJU & 192 & 1598 & 23 & 59 & 2013-12-31 23:00:00\\\\\n\t 2013 & 12 & 31 &  26 & 2245 & 101 &  129 & 2353 &  96 & B6 &  108 & N374JB & JFK & PWM &  50 &  273 & 22 & 45 & 2013-12-31 22:00:00\\\\\n\t 2013 & 12 & 31 & 459 &  500 &  -1 &  655 &  651 &   4 & US & 1895 & N557UW & EWR & CLT &  95 &  529 &  5 &  0 & 2013-12-31 05:00:00\\\\\n\t 2013 & 12 & 31 & 514 &  515 &  -1 &  814 &  812 &   2 & UA &  700 & N470UA & EWR & IAH & 223 & 1400 &  5 & 15 & 2013-12-31 05:00:00\\\\\n\t 2013 & 12 & 31 & 549 &  551 &  -2 &  925 &  900 &  25 & UA &  274 & N577UA & EWR & LAX & 346 & 2454 &  5 & 51 & 2013-12-31 05:00:00\\\\\n\t 2013 & 12 & 31 & 550 &  600 & -10 &  725 &  745 & -20 & AA &  301 & N3CXAA & LGA & ORD & 127 &  733 &  6 &  0 & 2013-12-31 06:00:00\\\\\n\t 2013 & 12 & 31 & 552 &  600 &  -8 &  811 &  826 & -15 & EV & 3825 & N14916 & EWR & IND & 118 &  645 &  6 &  0 & 2013-12-31 06:00:00\\\\\n\t 2013 & 12 & 31 & 553 &  600 &  -7 &  741 &  754 & -13 & DL &  731 & N333NB & LGA & DTW &  86 &  502 &  6 &  0 & 2013-12-31 06:00:00\\\\\n\t 2013 & 12 & 31 & 554 &  550 &   4 & 1024 & 1027 &  -3 & B6 &  939 & N552JB & JFK & BQN & 195 & 1576 &  5 & 50 & 2013-12-31 05:00:00\\\\\n\t 2013 & 12 & 31 & 555 &  600 &  -5 &  901 &  849 &  12 & B6 &  353 & N746JB & JFK & PBI & 167 & 1028 &  6 &  0 & 2013-12-31 06:00:00\\\\\n\t 2013 & 12 & 31 & 555 &  600 &  -5 &  835 &  831 &   4 & DL &  904 & N3741S & LGA & ATL & 137 &  762 &  6 &  0 & 2013-12-31 06:00:00\\\\\n\t 2013 & 12 & 31 & 555 &  551 &   4 &  853 &  851 &   2 & UA &  566 & N491UA & EWR & TPA & 164 &  997 &  5 & 51 & 2013-12-31 05:00:00\\\\\n\t 2013 & 12 & 31 & 556 &  600 &  -4 &  909 &  846 &  23 & B6 &  583 & N715JB & JFK & MCO & 162 &  944 &  6 &  0 & 2013-12-31 06:00:00\\\\\n\t 2013 & 12 & 31 & 556 &  605 &  -9 &  808 &  814 &  -6 & DL & 1919 & N958DL & LGA & MSP & 160 & 1020 &  6 &  5 & 2013-12-31 06:00:00\\\\\n\t 2013 & 12 & 31 & 557 &  603 &  -6 &  719 &  719 &   0 & EV & 4241 & N15574 & EWR & DCA &  45 &  199 &  6 &  3 & 2013-12-31 06:00:00\\\\\n\t 2013 & 12 & 31 & 558 &  600 &  -2 &  919 &  905 &  14 & AA & 1175 & N3JEAA & LGA & MIA & 173 & 1096 &  6 &  0 & 2013-12-31 06:00:00\\\\\n\t 2013 & 12 & 31 & 559 &  600 &  -1 &  917 &  855 &  22 & B6 &  605 & N597JB & EWR & FLL & 167 & 1065 &  6 &  0 & 2013-12-31 06:00:00\\\\\n\t 2013 & 12 & 31 & 600 &  540 &  20 &  928 &  850 &  38 & AA & 2243 & N5EMAA & JFK & MIA & 171 & 1089 &  5 & 40 & 2013-12-31 05:00:00\\\\\n\t 2013 & 12 & 31 & 602 &  605 &  -3 &  744 &  805 & -21 & DL & 2505 & N358NB & EWR & DTW &  87 &  488 &  6 &  5 & 2013-12-31 06:00:00\\\\\n\t 2013 & 12 & 31 & 602 &  605 &  -3 &  708 &  723 & -15 & EV & 6177 & N14543 & EWR & IAD &  45 &  212 &  6 &  5 & 2013-12-31 06:00:00\\\\\n\t 2013 & 12 & 31 & 603 &  611 &  -8 & 1045 & 1055 & -10 & B6 & 1403 & N547JB & JFK & SJU & 198 & 1598 &  6 & 11 & 2013-12-31 06:00:00\\\\\n\t 2013 & 12 & 31 & 607 &  600 &   7 &  848 &  825 &  23 & WN & 1716 & N7740A & LGA & ATL & 137 &  762 &  6 &  0 & 2013-12-31 06:00:00\\\\\n\t 2013 & 12 & 31 & 608 &  615 &  -7 &  812 &  818 &  -6 & US & 1963 & N192UW & EWR & CLT & 106 &  529 &  6 & 15 & 2013-12-31 06:00:00\\\\\n\t 2013 & 12 & 31 & 609 &  610 &  -1 &  911 &  915 &  -4 & AA & 1205 & N5DHAA & EWR & MIA & 163 & 1085 &  6 & 10 & 2013-12-31 06:00:00\\\\\n\t 2013 & 12 & 31 & 609 &  615 &  -6 &  848 &  850 &  -2 & DL &  404 & N392DA & JFK & ATL & 133 &  760 &  6 & 15 & 2013-12-31 06:00:00\\\\\n\t 2013 & 12 & 31 & 609 &  614 &  -5 &  755 &  751 &   4 & EV & 3812 & N13994 & EWR & RDU &  81 &  416 &  6 & 14 & 2013-12-31 06:00:00\\\\\n\t 2013 & 12 & 31 & 610 &  615 &  -5 &  828 &  849 & -21 & DL &  479 & N3766  & JFK & ATL & 119 &  760 &  6 & 15 & 2013-12-31 06:00:00\\\\\n\t 2013 & 12 & 31 & 616 &  611 &   5 &  933 &  912 &  21 & B6 &  601 & N643JB & JFK & FLL & 173 & 1069 &  6 & 11 & 2013-12-31 06:00:00\\\\\n\t 2013 & 12 & 31 & 616 &  630 & -14 &  922 &  919 &   3 & B6 & 1099 & N563JB & LGA & MCO & 159 &  950 &  6 & 30 & 2013-12-31 06:00:00\\\\\n\t ⋮ & ⋮ & ⋮ & ⋮ & ⋮ & ⋮ & ⋮ & ⋮ & ⋮ & ⋮ & ⋮ & ⋮ & ⋮ & ⋮ & ⋮ & ⋮ & ⋮ & ⋮ & ⋮\\\\\n\t 2013 & 12 & 31 & 2155 & 2039 &  76 &  253 & 2355 &  NA & B6 & 1205 & N627JB & JFK & PDX &  NA & 2454 & 20 & 39 & 2013-12-31 20:00:00\\\\\n\t 2013 & 12 & 31 & 2155 & 2150 &   5 &  110 &   51 &  19 & B6 & 1901 & N729JB & JFK & FLL & 164 & 1069 & 21 & 50 & 2013-12-31 21:00:00\\\\\n\t 2013 & 12 & 31 & 2159 & 2155 &   4 &   55 &   46 &   9 & B6 & 2053 & N593JB & JFK & PBI & 155 & 1028 & 21 & 55 & 2013-12-31 21:00:00\\\\\n\t 2013 & 12 & 31 & 2206 & 2110 &  56 &   44 & 2339 &  65 & B6 &  775 & N184JB & JFK & MSY & 195 & 1182 & 21 & 10 & 2013-12-31 21:00:00\\\\\n\t 2013 & 12 & 31 & 2211 & 2159 &  12 &  100 &   45 &  15 & B6 & 1183 & N715JB & JFK & MCO & 148 &  944 & 21 & 59 & 2013-12-31 21:00:00\\\\\n\t 2013 & 12 & 31 & 2218 & 2219 &  -1 &  315 &  304 &  11 & B6 & 1203 & N625JB & JFK & SJU & 202 & 1598 & 22 & 19 & 2013-12-31 22:00:00\\\\\n\t 2013 & 12 & 31 & 2235 & 2245 & -10 & 2351 & 2355 &  -4 & B6 &  234 & N355JB & JFK & BTV &  49 &  266 & 22 & 45 & 2013-12-31 22:00:00\\\\\n\t 2013 & 12 & 31 & 2245 & 2250 &  -5 & 2359 & 2356 &   3 & B6 & 1816 & N318JB & JFK & SYR &  51 &  209 & 22 & 50 & 2013-12-31 22:00:00\\\\\n\t 2013 & 12 & 31 & 2310 & 2255 &  15 &    7 & 2356 &  11 & B6 &  718 & N279JB & JFK & BOS &  40 &  187 & 22 & 55 & 2013-12-31 22:00:00\\\\\n\t 2013 & 12 & 31 & 2321 & 2250 &  31 &   46 &    8 &  38 & B6 & 2002 & N179JB & JFK & BUF &  66 &  301 & 22 & 50 & 2013-12-31 22:00:00\\\\\n\t 2013 & 12 & 31 & 2328 & 2330 &  -2 &  412 &  409 &   3 & B6 & 1389 & N651JB & EWR & SJU & 198 & 1608 & 23 & 30 & 2013-12-31 23:00:00\\\\\n\t 2013 & 12 & 31 & 2332 & 2245 &  47 &   58 &    3 &  55 & B6 &  486 & N334JB & JFK & ROC &  60 &  264 & 22 & 45 & 2013-12-31 22:00:00\\\\\n\t 2013 & 12 & 31 & 2355 & 2359 &  -4 &  430 &  440 & -10 & B6 & 1503 & N509JB & JFK & SJU & 195 & 1598 & 23 & 59 & 2013-12-31 23:00:00\\\\\n\t 2013 & 12 & 31 & 2356 & 2359 &  -3 &  436 &  445 &  -9 & B6 &  745 & N665JB & JFK & PSE & 200 & 1617 & 23 & 59 & 2013-12-31 23:00:00\\\\\n\t 2013 & 12 & 31 &   NA & 1520 &  NA &   NA & 1705 &  NA & AA &  341 & N568AA & LGA & ORD &  NA &  733 & 15 & 20 & 2013-12-31 15:00:00\\\\\n\t 2013 & 12 & 31 &   NA & 2025 &  NA &   NA & 2205 &  NA & AA &  371 & N482AA & LGA & ORD &  NA &  733 & 20 & 25 & 2013-12-31 20:00:00\\\\\n\t 2013 & 12 & 31 &   NA & 1932 &  NA &   NA & 2305 &  NA & B6 &  161 & N516JB & JFK & SMF &  NA & 2521 & 19 & 32 & 2013-12-31 19:00:00\\\\\n\t 2013 & 12 & 31 &   NA & 1505 &  NA &   NA & 1725 &  NA & EV & 4181 & N24103 & EWR & MCI &  NA & 1092 & 15 &  5 & 2013-12-31 15:00:00\\\\\n\t 2013 & 12 & 31 &   NA & 1000 &  NA &   NA & 1252 &  NA & UA & 1124 & NA     & EWR & EGE &  NA & 1725 & 10 &  0 & 2013-12-31 10:00:00\\\\\n\t 2013 & 12 & 31 &   NA &  840 &  NA &   NA & 1205 &  NA & UA & 1151 & NA     & EWR & SEA &  NA & 2402 &  8 & 40 & 2013-12-31 08:00:00\\\\\n\t 2013 & 12 & 31 &   NA &  754 &  NA &   NA & 1118 &  NA & UA & 1455 & NA     & EWR & LAX &  NA & 2454 &  7 & 54 & 2013-12-31 07:00:00\\\\\n\t 2013 & 12 & 31 &   NA & 2000 &  NA &   NA & 2146 &  NA & UA & 1482 & NA     & EWR & ORD &  NA &  719 & 20 &  0 & 2013-12-31 20:00:00\\\\\n\t 2013 & 12 & 31 &   NA & 1500 &  NA &   NA & 1817 &  NA & UA & 1483 & NA     & EWR & AUS &  NA & 1504 & 15 &  0 & 2013-12-31 15:00:00\\\\\n\t 2013 & 12 & 31 &   NA & 1430 &  NA &   NA & 1750 &  NA & UA & 1493 & NA     & EWR & LAX &  NA & 2454 & 14 & 30 & 2013-12-31 14:00:00\\\\\n\t 2013 & 12 & 31 &   NA &  855 &  NA &   NA & 1142 &  NA & UA & 1506 & NA     & EWR & JAC &  NA & 1874 &  8 & 55 & 2013-12-31 08:00:00\\\\\n\t 2013 & 12 & 31 &   NA &  705 &  NA &   NA &  931 &  NA & UA & 1729 & NA     & EWR & DEN &  NA & 1605 &  7 &  5 & 2013-12-31 07:00:00\\\\\n\t 2013 & 12 & 31 &   NA &  825 &  NA &   NA & 1029 &  NA & US & 1831 & NA     & JFK & CLT &  NA &  541 &  8 & 25 & 2013-12-31 08:00:00\\\\\n\t 2013 & 12 & 31 &   NA & 1615 &  NA &   NA & 1800 &  NA & MQ & 3301 & N844MQ & LGA & RDU &  NA &  431 & 16 & 15 & 2013-12-31 16:00:00\\\\\n\t 2013 & 12 & 31 &   NA &  600 &  NA &   NA &  735 &  NA & UA &  219 & NA     & EWR & ORD &  NA &  719 &  6 &  0 & 2013-12-31 06:00:00\\\\\n\t 2013 & 12 & 31 &   NA &  830 &  NA &   NA & 1154 &  NA & UA &  443 & NA     & JFK & LAX &  NA & 2475 &  8 & 30 & 2013-12-31 08:00:00\\\\\n\\end{tabular}\n",
            "text/plain": [
              "    year month day dep_time sched_dep_time dep_delay arr_time sched_arr_time\n",
              "1   2013 12    31   13      2359            14        439      437          \n",
              "2   2013 12    31   18      2359            19        449      444          \n",
              "3   2013 12    31   26      2245           101        129     2353          \n",
              "4   2013 12    31  459       500            -1        655      651          \n",
              "5   2013 12    31  514       515            -1        814      812          \n",
              "6   2013 12    31  549       551            -2        925      900          \n",
              "7   2013 12    31  550       600           -10        725      745          \n",
              "8   2013 12    31  552       600            -8        811      826          \n",
              "9   2013 12    31  553       600            -7        741      754          \n",
              "10  2013 12    31  554       550             4       1024     1027          \n",
              "11  2013 12    31  555       600            -5        901      849          \n",
              "12  2013 12    31  555       600            -5        835      831          \n",
              "13  2013 12    31  555       551             4        853      851          \n",
              "14  2013 12    31  556       600            -4        909      846          \n",
              "15  2013 12    31  556       605            -9        808      814          \n",
              "16  2013 12    31  557       603            -6        719      719          \n",
              "17  2013 12    31  558       600            -2        919      905          \n",
              "18  2013 12    31  559       600            -1        917      855          \n",
              "19  2013 12    31  600       540            20        928      850          \n",
              "20  2013 12    31  602       605            -3        744      805          \n",
              "21  2013 12    31  602       605            -3        708      723          \n",
              "22  2013 12    31  603       611            -8       1045     1055          \n",
              "23  2013 12    31  607       600             7        848      825          \n",
              "24  2013 12    31  608       615            -7        812      818          \n",
              "25  2013 12    31  609       610            -1        911      915          \n",
              "26  2013 12    31  609       615            -6        848      850          \n",
              "27  2013 12    31  609       614            -5        755      751          \n",
              "28  2013 12    31  610       615            -5        828      849          \n",
              "29  2013 12    31  616       611             5        933      912          \n",
              "30  2013 12    31  616       630           -14        922      919          \n",
              "⋮   ⋮    ⋮     ⋮   ⋮        ⋮              ⋮         ⋮        ⋮             \n",
              "747 2013 12    31  2155     2039            76        253     2355          \n",
              "748 2013 12    31  2155     2150             5        110       51          \n",
              "749 2013 12    31  2159     2155             4         55       46          \n",
              "750 2013 12    31  2206     2110            56         44     2339          \n",
              "751 2013 12    31  2211     2159            12        100       45          \n",
              "752 2013 12    31  2218     2219            -1        315      304          \n",
              "753 2013 12    31  2235     2245           -10       2351     2355          \n",
              "754 2013 12    31  2245     2250            -5       2359     2356          \n",
              "755 2013 12    31  2310     2255            15          7     2356          \n",
              "756 2013 12    31  2321     2250            31         46        8          \n",
              "757 2013 12    31  2328     2330            -2        412      409          \n",
              "758 2013 12    31  2332     2245            47         58        3          \n",
              "759 2013 12    31  2355     2359            -4        430      440          \n",
              "760 2013 12    31  2356     2359            -3        436      445          \n",
              "761 2013 12    31    NA     1520            NA         NA     1705          \n",
              "762 2013 12    31    NA     2025            NA         NA     2205          \n",
              "763 2013 12    31    NA     1932            NA         NA     2305          \n",
              "764 2013 12    31    NA     1505            NA         NA     1725          \n",
              "765 2013 12    31    NA     1000            NA         NA     1252          \n",
              "766 2013 12    31    NA      840            NA         NA     1205          \n",
              "767 2013 12    31    NA      754            NA         NA     1118          \n",
              "768 2013 12    31    NA     2000            NA         NA     2146          \n",
              "769 2013 12    31    NA     1500            NA         NA     1817          \n",
              "770 2013 12    31    NA     1430            NA         NA     1750          \n",
              "771 2013 12    31    NA      855            NA         NA     1142          \n",
              "772 2013 12    31    NA      705            NA         NA      931          \n",
              "773 2013 12    31    NA      825            NA         NA     1029          \n",
              "774 2013 12    31    NA     1615            NA         NA     1800          \n",
              "775 2013 12    31    NA      600            NA         NA      735          \n",
              "776 2013 12    31    NA      830            NA         NA     1154          \n",
              "    arr_delay carrier flight tailnum origin dest air_time distance hour minute\n",
              "1     2       B6       839   N566JB  JFK    BQN  189      1576     23   59    \n",
              "2     5       DL       412   N713TW  JFK    SJU  192      1598     23   59    \n",
              "3    96       B6       108   N374JB  JFK    PWM   50       273     22   45    \n",
              "4     4       US      1895   N557UW  EWR    CLT   95       529      5    0    \n",
              "5     2       UA       700   N470UA  EWR    IAH  223      1400      5   15    \n",
              "6    25       UA       274   N577UA  EWR    LAX  346      2454      5   51    \n",
              "7   -20       AA       301   N3CXAA  LGA    ORD  127       733      6    0    \n",
              "8   -15       EV      3825   N14916  EWR    IND  118       645      6    0    \n",
              "9   -13       DL       731   N333NB  LGA    DTW   86       502      6    0    \n",
              "10   -3       B6       939   N552JB  JFK    BQN  195      1576      5   50    \n",
              "11   12       B6       353   N746JB  JFK    PBI  167      1028      6    0    \n",
              "12    4       DL       904   N3741S  LGA    ATL  137       762      6    0    \n",
              "13    2       UA       566   N491UA  EWR    TPA  164       997      5   51    \n",
              "14   23       B6       583   N715JB  JFK    MCO  162       944      6    0    \n",
              "15   -6       DL      1919   N958DL  LGA    MSP  160      1020      6    5    \n",
              "16    0       EV      4241   N15574  EWR    DCA   45       199      6    3    \n",
              "17   14       AA      1175   N3JEAA  LGA    MIA  173      1096      6    0    \n",
              "18   22       B6       605   N597JB  EWR    FLL  167      1065      6    0    \n",
              "19   38       AA      2243   N5EMAA  JFK    MIA  171      1089      5   40    \n",
              "20  -21       DL      2505   N358NB  EWR    DTW   87       488      6    5    \n",
              "21  -15       EV      6177   N14543  EWR    IAD   45       212      6    5    \n",
              "22  -10       B6      1403   N547JB  JFK    SJU  198      1598      6   11    \n",
              "23   23       WN      1716   N7740A  LGA    ATL  137       762      6    0    \n",
              "24   -6       US      1963   N192UW  EWR    CLT  106       529      6   15    \n",
              "25   -4       AA      1205   N5DHAA  EWR    MIA  163      1085      6   10    \n",
              "26   -2       DL       404   N392DA  JFK    ATL  133       760      6   15    \n",
              "27    4       EV      3812   N13994  EWR    RDU   81       416      6   14    \n",
              "28  -21       DL       479   N3766   JFK    ATL  119       760      6   15    \n",
              "29   21       B6       601   N643JB  JFK    FLL  173      1069      6   11    \n",
              "30    3       B6      1099   N563JB  LGA    MCO  159       950      6   30    \n",
              "⋮   ⋮         ⋮       ⋮      ⋮       ⋮      ⋮    ⋮        ⋮        ⋮    ⋮     \n",
              "747  NA       B6      1205   N627JB  JFK    PDX   NA      2454     20   39    \n",
              "748  19       B6      1901   N729JB  JFK    FLL  164      1069     21   50    \n",
              "749   9       B6      2053   N593JB  JFK    PBI  155      1028     21   55    \n",
              "750  65       B6       775   N184JB  JFK    MSY  195      1182     21   10    \n",
              "751  15       B6      1183   N715JB  JFK    MCO  148       944     21   59    \n",
              "752  11       B6      1203   N625JB  JFK    SJU  202      1598     22   19    \n",
              "753  -4       B6       234   N355JB  JFK    BTV   49       266     22   45    \n",
              "754   3       B6      1816   N318JB  JFK    SYR   51       209     22   50    \n",
              "755  11       B6       718   N279JB  JFK    BOS   40       187     22   55    \n",
              "756  38       B6      2002   N179JB  JFK    BUF   66       301     22   50    \n",
              "757   3       B6      1389   N651JB  EWR    SJU  198      1608     23   30    \n",
              "758  55       B6       486   N334JB  JFK    ROC   60       264     22   45    \n",
              "759 -10       B6      1503   N509JB  JFK    SJU  195      1598     23   59    \n",
              "760  -9       B6       745   N665JB  JFK    PSE  200      1617     23   59    \n",
              "761  NA       AA       341   N568AA  LGA    ORD   NA       733     15   20    \n",
              "762  NA       AA       371   N482AA  LGA    ORD   NA       733     20   25    \n",
              "763  NA       B6       161   N516JB  JFK    SMF   NA      2521     19   32    \n",
              "764  NA       EV      4181   N24103  EWR    MCI   NA      1092     15    5    \n",
              "765  NA       UA      1124   NA      EWR    EGE   NA      1725     10    0    \n",
              "766  NA       UA      1151   NA      EWR    SEA   NA      2402      8   40    \n",
              "767  NA       UA      1455   NA      EWR    LAX   NA      2454      7   54    \n",
              "768  NA       UA      1482   NA      EWR    ORD   NA       719     20    0    \n",
              "769  NA       UA      1483   NA      EWR    AUS   NA      1504     15    0    \n",
              "770  NA       UA      1493   NA      EWR    LAX   NA      2454     14   30    \n",
              "771  NA       UA      1506   NA      EWR    JAC   NA      1874      8   55    \n",
              "772  NA       UA      1729   NA      EWR    DEN   NA      1605      7    5    \n",
              "773  NA       US      1831   NA      JFK    CLT   NA       541      8   25    \n",
              "774  NA       MQ      3301   N844MQ  LGA    RDU   NA       431     16   15    \n",
              "775  NA       UA       219   NA      EWR    ORD   NA       719      6    0    \n",
              "776  NA       UA       443   NA      JFK    LAX   NA      2475      8   30    \n",
              "    time_hour          \n",
              "1   2013-12-31 23:00:00\n",
              "2   2013-12-31 23:00:00\n",
              "3   2013-12-31 22:00:00\n",
              "4   2013-12-31 05:00:00\n",
              "5   2013-12-31 05:00:00\n",
              "6   2013-12-31 05:00:00\n",
              "7   2013-12-31 06:00:00\n",
              "8   2013-12-31 06:00:00\n",
              "9   2013-12-31 06:00:00\n",
              "10  2013-12-31 05:00:00\n",
              "11  2013-12-31 06:00:00\n",
              "12  2013-12-31 06:00:00\n",
              "13  2013-12-31 05:00:00\n",
              "14  2013-12-31 06:00:00\n",
              "15  2013-12-31 06:00:00\n",
              "16  2013-12-31 06:00:00\n",
              "17  2013-12-31 06:00:00\n",
              "18  2013-12-31 06:00:00\n",
              "19  2013-12-31 05:00:00\n",
              "20  2013-12-31 06:00:00\n",
              "21  2013-12-31 06:00:00\n",
              "22  2013-12-31 06:00:00\n",
              "23  2013-12-31 06:00:00\n",
              "24  2013-12-31 06:00:00\n",
              "25  2013-12-31 06:00:00\n",
              "26  2013-12-31 06:00:00\n",
              "27  2013-12-31 06:00:00\n",
              "28  2013-12-31 06:00:00\n",
              "29  2013-12-31 06:00:00\n",
              "30  2013-12-31 06:00:00\n",
              "⋮   ⋮                  \n",
              "747 2013-12-31 20:00:00\n",
              "748 2013-12-31 21:00:00\n",
              "749 2013-12-31 21:00:00\n",
              "750 2013-12-31 21:00:00\n",
              "751 2013-12-31 21:00:00\n",
              "752 2013-12-31 22:00:00\n",
              "753 2013-12-31 22:00:00\n",
              "754 2013-12-31 22:00:00\n",
              "755 2013-12-31 22:00:00\n",
              "756 2013-12-31 22:00:00\n",
              "757 2013-12-31 23:00:00\n",
              "758 2013-12-31 22:00:00\n",
              "759 2013-12-31 23:00:00\n",
              "760 2013-12-31 23:00:00\n",
              "761 2013-12-31 15:00:00\n",
              "762 2013-12-31 20:00:00\n",
              "763 2013-12-31 19:00:00\n",
              "764 2013-12-31 15:00:00\n",
              "765 2013-12-31 10:00:00\n",
              "766 2013-12-31 08:00:00\n",
              "767 2013-12-31 07:00:00\n",
              "768 2013-12-31 20:00:00\n",
              "769 2013-12-31 15:00:00\n",
              "770 2013-12-31 14:00:00\n",
              "771 2013-12-31 08:00:00\n",
              "772 2013-12-31 07:00:00\n",
              "773 2013-12-31 08:00:00\n",
              "774 2013-12-31 16:00:00\n",
              "775 2013-12-31 06:00:00\n",
              "776 2013-12-31 08:00:00"
            ]
          },
          "metadata": {}
        }
      ]
    },
    {
      "cell_type": "code",
      "source": [],
      "metadata": {
        "id": "uDJAEbTPFHuj"
      },
      "execution_count": null,
      "outputs": []
    },
    {
      "cell_type": "markdown",
      "metadata": {
        "id": "H4FP6WNIRPyY"
      },
      "source": [
        "### 4.2 Función count()\n",
        "\n",
        "Como su nombre lo indica, esta función nos permite contar registros de una tabla. Es de suma utilidad cuando se utiliza dentro de agrupaciones de tablas. Estas últimas las veremos más adelante.\n",
        "\n",
        "Alternativamente, en la librería _dplyr_, contamos con la función `N()` la cual también retorna el conteo de registros."
      ]
    },
    {
      "cell_type": "code",
      "metadata": {
        "trusted": true,
        "id": "LmMG115pRPyY",
        "outputId": "5a365863-1553-46c1-fc9e-ec2487da4787",
        "colab": {
          "base_uri": "https://localhost:8080/",
          "height": 164
        }
      },
      "source": [
        "# count() y N() ----------------------------------------------------------------\n",
        "\n",
        "count(vuelos)\n"
      ],
      "execution_count": null,
      "outputs": [
        {
          "output_type": "display_data",
          "data": {
            "text/html": [
              "<table class=\"dataframe\">\n",
              "<caption>A data.frame: 1 × 1</caption>\n",
              "<thead>\n",
              "\t<tr><th scope=col>n</th></tr>\n",
              "\t<tr><th scope=col>&lt;int&gt;</th></tr>\n",
              "</thead>\n",
              "<tbody>\n",
              "\t<tr><td>336776</td></tr>\n",
              "</tbody>\n",
              "</table>\n"
            ],
            "text/markdown": "\nA data.frame: 1 × 1\n\n| n &lt;int&gt; |\n|---|\n| 336776 |\n\n",
            "text/latex": "A data.frame: 1 × 1\n\\begin{tabular}{l}\n n\\\\\n <int>\\\\\n\\hline\n\t 336776\\\\\n\\end{tabular}\n",
            "text/plain": [
              "  n     \n",
              "1 336776"
            ]
          },
          "metadata": {}
        }
      ]
    },
    {
      "cell_type": "code",
      "source": [
        "count(vuelos, origin)# podemos generar conteos agrupados por las categorias de alguna de las columnas"
      ],
      "metadata": {
        "id": "ShAVx8mxFYK_",
        "outputId": "00cb87b2-ebff-472f-d6bf-40fbef21a516",
        "colab": {
          "base_uri": "https://localhost:8080/",
          "height": 192
        }
      },
      "execution_count": null,
      "outputs": [
        {
          "output_type": "display_data",
          "data": {
            "text/html": [
              "<table class=\"dataframe\">\n",
              "<caption>A data.frame: 3 × 2</caption>\n",
              "<thead>\n",
              "\t<tr><th scope=col>origin</th><th scope=col>n</th></tr>\n",
              "\t<tr><th scope=col>&lt;chr&gt;</th><th scope=col>&lt;int&gt;</th></tr>\n",
              "</thead>\n",
              "<tbody>\n",
              "\t<tr><td>EWR</td><td>120835</td></tr>\n",
              "\t<tr><td>JFK</td><td>111279</td></tr>\n",
              "\t<tr><td>LGA</td><td>104662</td></tr>\n",
              "</tbody>\n",
              "</table>\n"
            ],
            "text/markdown": "\nA data.frame: 3 × 2\n\n| origin &lt;chr&gt; | n &lt;int&gt; |\n|---|---|\n| EWR | 120835 |\n| JFK | 111279 |\n| LGA | 104662 |\n\n",
            "text/latex": "A data.frame: 3 × 2\n\\begin{tabular}{ll}\n origin & n\\\\\n <chr> & <int>\\\\\n\\hline\n\t EWR & 120835\\\\\n\t JFK & 111279\\\\\n\t LGA & 104662\\\\\n\\end{tabular}\n",
            "text/plain": [
              "  origin n     \n",
              "1 EWR    120835\n",
              "2 JFK    111279\n",
              "3 LGA    104662"
            ]
          },
          "metadata": {}
        }
      ]
    },
    {
      "cell_type": "code",
      "source": [
        "resumen <- count(vuelos, origin, carrier)# podemos generar conteos agrupados por las categorias de más de una columna"
      ],
      "metadata": {
        "id": "OJu_pi2ZFTHv"
      },
      "execution_count": null,
      "outputs": []
    },
    {
      "cell_type": "code",
      "source": [
        "head(resumen)"
      ],
      "metadata": {
        "id": "1gzPn99VGLX4",
        "outputId": "5aa06018-65f6-4fd5-c7af-d92ebba25f1d",
        "colab": {
          "base_uri": "https://localhost:8080/",
          "height": 286
        }
      },
      "execution_count": null,
      "outputs": [
        {
          "output_type": "display_data",
          "data": {
            "text/html": [
              "<table class=\"dataframe\">\n",
              "<caption>A data.frame: 6 × 3</caption>\n",
              "<thead>\n",
              "\t<tr><th></th><th scope=col>origin</th><th scope=col>carrier</th><th scope=col>n</th></tr>\n",
              "\t<tr><th></th><th scope=col>&lt;chr&gt;</th><th scope=col>&lt;chr&gt;</th><th scope=col>&lt;int&gt;</th></tr>\n",
              "</thead>\n",
              "<tbody>\n",
              "\t<tr><th scope=row>1</th><td>EWR</td><td>9E</td><td> 1268</td></tr>\n",
              "\t<tr><th scope=row>2</th><td>EWR</td><td>AA</td><td> 3487</td></tr>\n",
              "\t<tr><th scope=row>3</th><td>EWR</td><td>AS</td><td>  714</td></tr>\n",
              "\t<tr><th scope=row>4</th><td>EWR</td><td>B6</td><td> 6557</td></tr>\n",
              "\t<tr><th scope=row>5</th><td>EWR</td><td>DL</td><td> 4342</td></tr>\n",
              "\t<tr><th scope=row>6</th><td>EWR</td><td>EV</td><td>43939</td></tr>\n",
              "</tbody>\n",
              "</table>\n"
            ],
            "text/markdown": "\nA data.frame: 6 × 3\n\n| <!--/--> | origin &lt;chr&gt; | carrier &lt;chr&gt; | n &lt;int&gt; |\n|---|---|---|---|\n| 1 | EWR | 9E |  1268 |\n| 2 | EWR | AA |  3487 |\n| 3 | EWR | AS |   714 |\n| 4 | EWR | B6 |  6557 |\n| 5 | EWR | DL |  4342 |\n| 6 | EWR | EV | 43939 |\n\n",
            "text/latex": "A data.frame: 6 × 3\n\\begin{tabular}{r|lll}\n  & origin & carrier & n\\\\\n  & <chr> & <chr> & <int>\\\\\n\\hline\n\t1 & EWR & 9E &  1268\\\\\n\t2 & EWR & AA &  3487\\\\\n\t3 & EWR & AS &   714\\\\\n\t4 & EWR & B6 &  6557\\\\\n\t5 & EWR & DL &  4342\\\\\n\t6 & EWR & EV & 43939\\\\\n\\end{tabular}\n",
            "text/plain": [
              "  origin carrier n    \n",
              "1 EWR    9E       1268\n",
              "2 EWR    AA       3487\n",
              "3 EWR    AS        714\n",
              "4 EWR    B6       6557\n",
              "5 EWR    DL       4342\n",
              "6 EWR    EV      43939"
            ]
          },
          "metadata": {}
        }
      ]
    },
    {
      "cell_type": "code",
      "source": [
        "# ¿Cuántos vuelos hay registrados para el 25 de dic?¿y el primero de enero?\n",
        "count(filter(vuelos, month == 12 & day == 25)) # Una opcíon es filtrar y luego contar\n",
        "count(filter(vuelos, month == 1 & day == 1))"
      ],
      "metadata": {
        "id": "eCeyEQSPFR0W",
        "outputId": "f1252126-f853-44f5-f9d2-532af28e89ac",
        "colab": {
          "base_uri": "https://localhost:8080/",
          "height": 310
        }
      },
      "execution_count": null,
      "outputs": [
        {
          "output_type": "display_data",
          "data": {
            "text/html": [
              "<table class=\"dataframe\">\n",
              "<caption>A data.frame: 1 × 1</caption>\n",
              "<thead>\n",
              "\t<tr><th scope=col>n</th></tr>\n",
              "\t<tr><th scope=col>&lt;int&gt;</th></tr>\n",
              "</thead>\n",
              "<tbody>\n",
              "\t<tr><td>719</td></tr>\n",
              "</tbody>\n",
              "</table>\n"
            ],
            "text/markdown": "\nA data.frame: 1 × 1\n\n| n &lt;int&gt; |\n|---|\n| 719 |\n\n",
            "text/latex": "A data.frame: 1 × 1\n\\begin{tabular}{l}\n n\\\\\n <int>\\\\\n\\hline\n\t 719\\\\\n\\end{tabular}\n",
            "text/plain": [
              "  n  \n",
              "1 719"
            ]
          },
          "metadata": {}
        },
        {
          "output_type": "display_data",
          "data": {
            "text/html": [
              "<table class=\"dataframe\">\n",
              "<caption>A data.frame: 1 × 1</caption>\n",
              "<thead>\n",
              "\t<tr><th scope=col>n</th></tr>\n",
              "\t<tr><th scope=col>&lt;int&gt;</th></tr>\n",
              "</thead>\n",
              "<tbody>\n",
              "\t<tr><td>842</td></tr>\n",
              "</tbody>\n",
              "</table>\n"
            ],
            "text/markdown": "\nA data.frame: 1 × 1\n\n| n &lt;int&gt; |\n|---|\n| 842 |\n\n",
            "text/latex": "A data.frame: 1 × 1\n\\begin{tabular}{l}\n n\\\\\n <int>\\\\\n\\hline\n\t 842\\\\\n\\end{tabular}\n",
            "text/plain": [
              "  n  \n",
              "1 842"
            ]
          },
          "metadata": {}
        }
      ]
    },
    {
      "cell_type": "code",
      "source": [
        "# Otra opción podría ser contar por día y mes, y luego filtrar\n",
        "vuelos_mes_dia <- count(vuelos, month, day)"
      ],
      "metadata": {
        "id": "BuwiGr-JGxKd"
      },
      "execution_count": null,
      "outputs": []
    },
    {
      "cell_type": "code",
      "source": [
        "filter(vuelos_mes_dia, (month == 12 & day == 25) | (month == 1 & day == 1)  )\n",
        "# El 25 de dic se registraron 719 vuelos, minetras que .... enero 842."
      ],
      "metadata": {
        "id": "A6hzl9GbHTpN",
        "outputId": "9d6c686a-a83e-4898-bddf-d8f98195d59b",
        "colab": {
          "base_uri": "https://localhost:8080/",
          "height": 160
        }
      },
      "execution_count": null,
      "outputs": [
        {
          "output_type": "display_data",
          "data": {
            "text/html": [
              "<table class=\"dataframe\">\n",
              "<caption>A data.frame: 2 × 3</caption>\n",
              "<thead>\n",
              "\t<tr><th scope=col>month</th><th scope=col>day</th><th scope=col>n</th></tr>\n",
              "\t<tr><th scope=col>&lt;int&gt;</th><th scope=col>&lt;int&gt;</th><th scope=col>&lt;int&gt;</th></tr>\n",
              "</thead>\n",
              "<tbody>\n",
              "\t<tr><td> 1</td><td> 1</td><td>842</td></tr>\n",
              "\t<tr><td>12</td><td>25</td><td>719</td></tr>\n",
              "</tbody>\n",
              "</table>\n"
            ],
            "text/markdown": "\nA data.frame: 2 × 3\n\n| month &lt;int&gt; | day &lt;int&gt; | n &lt;int&gt; |\n|---|---|---|\n|  1 |  1 | 842 |\n| 12 | 25 | 719 |\n\n",
            "text/latex": "A data.frame: 2 × 3\n\\begin{tabular}{lll}\n month & day & n\\\\\n <int> & <int> & <int>\\\\\n\\hline\n\t  1 &  1 & 842\\\\\n\t 12 & 25 & 719\\\\\n\\end{tabular}\n",
            "text/plain": [
              "  month day n  \n",
              "1  1     1  842\n",
              "2 12    25  719"
            ]
          },
          "metadata": {}
        }
      ]
    },
    {
      "cell_type": "code",
      "metadata": {
        "trusted": true,
        "id": "pvkqzxk3RPyf"
      },
      "source": [
        "#si quisiéramos guardar resgidtros en el disco, una manera es usando write.csv()\n",
        "write.csv(vuelos_mes_dia, file = \"resumen1.csv\")\n"
      ],
      "execution_count": null,
      "outputs": []
    },
    {
      "cell_type": "code",
      "source": [
        "write.csv(vuelos_mes_dia, file = \"../home/test/resumen2.csv\")"
      ],
      "metadata": {
        "id": "NcXmCr4DJCuX"
      },
      "execution_count": null,
      "outputs": []
    },
    {
      "cell_type": "code",
      "source": [
        "getwd()"
      ],
      "metadata": {
        "id": "Z0fR2xUII-mP",
        "outputId": "f16b3e4e-42e4-47de-831f-8be6b4c191a5",
        "colab": {
          "base_uri": "https://localhost:8080/",
          "height": 34
        }
      },
      "execution_count": null,
      "outputs": [
        {
          "output_type": "display_data",
          "data": {
            "text/html": [
              "'/content'"
            ],
            "text/markdown": "'/content'",
            "text/latex": "'/content'",
            "text/plain": [
              "[1] \"/content\""
            ]
          },
          "metadata": {}
        }
      ]
    },
    {
      "cell_type": "code",
      "metadata": {
        "trusted": true,
        "id": "SIuMwcy8RPyh",
        "outputId": "f255f74d-71e4-4ad9-8a74-c600daaa2714",
        "colab": {
          "base_uri": "https://localhost:8080/",
          "height": 34
        }
      },
      "source": [
        "# ¿Cuántos vuelos hay registrados entre julio y noviembre?\n",
        "nrow(filter(vuelos, month >= 7 & month <= 11))# hay 142483 vuelos.\n"
      ],
      "execution_count": null,
      "outputs": [
        {
          "output_type": "display_data",
          "data": {
            "text/html": [
              "142483"
            ],
            "text/markdown": "142483",
            "text/latex": "142483",
            "text/plain": [
              "[1] 142483"
            ]
          },
          "metadata": {}
        }
      ]
    },
    {
      "cell_type": "code",
      "metadata": {
        "trusted": true,
        "id": "3XFpG_fYRPyj"
      },
      "source": [
        "# ¿Qué porcentaje de vuelos tienen un retraso  (de salida o llegada) mayor a una hora?\n",
        "\n",
        "#columnas arr_delay o dep_delay\n"
      ],
      "execution_count": null,
      "outputs": []
    },
    {
      "cell_type": "code",
      "metadata": {
        "trusted": true,
        "id": "qnB-hTU-RPyl"
      },
      "source": [
        "# ¿Cuántos vuelos llegaron con al menos dos horas de retraso pero no se retrasaron al partir?\n"
      ],
      "execution_count": null,
      "outputs": []
    },
    {
      "cell_type": "markdown",
      "metadata": {
        "id": "zr5FIczKRPym"
      },
      "source": [
        "### 4.3 Función arrange()\n",
        "\n",
        "Esta función nos permite ordernar registros basándose en la indexación de alguna columna. Es el equivalente a la sentencia `order by` en sql.\n",
        "Esta función recibe como argumento principal un dataset a ordenar, y los nombres de las columnas por las cuales se quiere ordenar. Para más información consultar la ayuda de esta función (?arrange)\n"
      ]
    },
    {
      "cell_type": "code",
      "metadata": {
        "trusted": true,
        "id": "aGK8DaZVRPyn",
        "outputId": "7949ec24-b0d5-4ec9-fec5-3cc02f959d7a",
        "colab": {
          "base_uri": "https://localhost:8080/",
          "height": 1000
        }
      },
      "source": [
        "# arrange() ----------------------------------------------------------------\n",
        "# Ejemplo, podemos ordenar la data vuelos por mes y arr_delay\n",
        "arrange(vuelos, month)# primero por mes\n",
        "\n"
      ],
      "execution_count": null,
      "outputs": [
        {
          "output_type": "display_data",
          "data": {
            "text/html": [
              "<table class=\"dataframe\">\n",
              "<caption>A data.frame: 336776 × 19</caption>\n",
              "<thead>\n",
              "\t<tr><th scope=col>year</th><th scope=col>month</th><th scope=col>day</th><th scope=col>dep_time</th><th scope=col>sched_dep_time</th><th scope=col>dep_delay</th><th scope=col>arr_time</th><th scope=col>sched_arr_time</th><th scope=col>arr_delay</th><th scope=col>carrier</th><th scope=col>flight</th><th scope=col>tailnum</th><th scope=col>origin</th><th scope=col>dest</th><th scope=col>air_time</th><th scope=col>distance</th><th scope=col>hour</th><th scope=col>minute</th><th scope=col>time_hour</th></tr>\n",
              "\t<tr><th scope=col>&lt;int&gt;</th><th scope=col>&lt;int&gt;</th><th scope=col>&lt;int&gt;</th><th scope=col>&lt;int&gt;</th><th scope=col>&lt;int&gt;</th><th scope=col>&lt;int&gt;</th><th scope=col>&lt;int&gt;</th><th scope=col>&lt;int&gt;</th><th scope=col>&lt;int&gt;</th><th scope=col>&lt;chr&gt;</th><th scope=col>&lt;int&gt;</th><th scope=col>&lt;chr&gt;</th><th scope=col>&lt;chr&gt;</th><th scope=col>&lt;chr&gt;</th><th scope=col>&lt;int&gt;</th><th scope=col>&lt;int&gt;</th><th scope=col>&lt;int&gt;</th><th scope=col>&lt;int&gt;</th><th scope=col>&lt;chr&gt;</th></tr>\n",
              "</thead>\n",
              "<tbody>\n",
              "\t<tr><td>2013</td><td>1</td><td>1</td><td>517</td><td>515</td><td> 2</td><td> 830</td><td> 819</td><td> 11</td><td>UA</td><td>1545</td><td>N14228</td><td>EWR</td><td>IAH</td><td>227</td><td>1400</td><td>5</td><td>15</td><td>2013-01-01 05:00:00</td></tr>\n",
              "\t<tr><td>2013</td><td>1</td><td>1</td><td>533</td><td>529</td><td> 4</td><td> 850</td><td> 830</td><td> 20</td><td>UA</td><td>1714</td><td>N24211</td><td>LGA</td><td>IAH</td><td>227</td><td>1416</td><td>5</td><td>29</td><td>2013-01-01 05:00:00</td></tr>\n",
              "\t<tr><td>2013</td><td>1</td><td>1</td><td>542</td><td>540</td><td> 2</td><td> 923</td><td> 850</td><td> 33</td><td>AA</td><td>1141</td><td>N619AA</td><td>JFK</td><td>MIA</td><td>160</td><td>1089</td><td>5</td><td>40</td><td>2013-01-01 05:00:00</td></tr>\n",
              "\t<tr><td>2013</td><td>1</td><td>1</td><td>544</td><td>545</td><td>-1</td><td>1004</td><td>1022</td><td>-18</td><td>B6</td><td> 725</td><td>N804JB</td><td>JFK</td><td>BQN</td><td>183</td><td>1576</td><td>5</td><td>45</td><td>2013-01-01 05:00:00</td></tr>\n",
              "\t<tr><td>2013</td><td>1</td><td>1</td><td>554</td><td>600</td><td>-6</td><td> 812</td><td> 837</td><td>-25</td><td>DL</td><td> 461</td><td>N668DN</td><td>LGA</td><td>ATL</td><td>116</td><td> 762</td><td>6</td><td> 0</td><td>2013-01-01 06:00:00</td></tr>\n",
              "\t<tr><td>2013</td><td>1</td><td>1</td><td>554</td><td>558</td><td>-4</td><td> 740</td><td> 728</td><td> 12</td><td>UA</td><td>1696</td><td>N39463</td><td>EWR</td><td>ORD</td><td>150</td><td> 719</td><td>5</td><td>58</td><td>2013-01-01 05:00:00</td></tr>\n",
              "\t<tr><td>2013</td><td>1</td><td>1</td><td>555</td><td>600</td><td>-5</td><td> 913</td><td> 854</td><td> 19</td><td>B6</td><td> 507</td><td>N516JB</td><td>EWR</td><td>FLL</td><td>158</td><td>1065</td><td>6</td><td> 0</td><td>2013-01-01 06:00:00</td></tr>\n",
              "\t<tr><td>2013</td><td>1</td><td>1</td><td>557</td><td>600</td><td>-3</td><td> 709</td><td> 723</td><td>-14</td><td>EV</td><td>5708</td><td>N829AS</td><td>LGA</td><td>IAD</td><td> 53</td><td> 229</td><td>6</td><td> 0</td><td>2013-01-01 06:00:00</td></tr>\n",
              "\t<tr><td>2013</td><td>1</td><td>1</td><td>557</td><td>600</td><td>-3</td><td> 838</td><td> 846</td><td> -8</td><td>B6</td><td>  79</td><td>N593JB</td><td>JFK</td><td>MCO</td><td>140</td><td> 944</td><td>6</td><td> 0</td><td>2013-01-01 06:00:00</td></tr>\n",
              "\t<tr><td>2013</td><td>1</td><td>1</td><td>558</td><td>600</td><td>-2</td><td> 753</td><td> 745</td><td>  8</td><td>AA</td><td> 301</td><td>N3ALAA</td><td>LGA</td><td>ORD</td><td>138</td><td> 733</td><td>6</td><td> 0</td><td>2013-01-01 06:00:00</td></tr>\n",
              "\t<tr><td>2013</td><td>1</td><td>1</td><td>558</td><td>600</td><td>-2</td><td> 849</td><td> 851</td><td> -2</td><td>B6</td><td>  49</td><td>N793JB</td><td>JFK</td><td>PBI</td><td>149</td><td>1028</td><td>6</td><td> 0</td><td>2013-01-01 06:00:00</td></tr>\n",
              "\t<tr><td>2013</td><td>1</td><td>1</td><td>558</td><td>600</td><td>-2</td><td> 853</td><td> 856</td><td> -3</td><td>B6</td><td>  71</td><td>N657JB</td><td>JFK</td><td>TPA</td><td>158</td><td>1005</td><td>6</td><td> 0</td><td>2013-01-01 06:00:00</td></tr>\n",
              "\t<tr><td>2013</td><td>1</td><td>1</td><td>558</td><td>600</td><td>-2</td><td> 924</td><td> 917</td><td>  7</td><td>UA</td><td> 194</td><td>N29129</td><td>JFK</td><td>LAX</td><td>345</td><td>2475</td><td>6</td><td> 0</td><td>2013-01-01 06:00:00</td></tr>\n",
              "\t<tr><td>2013</td><td>1</td><td>1</td><td>558</td><td>600</td><td>-2</td><td> 923</td><td> 937</td><td>-14</td><td>UA</td><td>1124</td><td>N53441</td><td>EWR</td><td>SFO</td><td>361</td><td>2565</td><td>6</td><td> 0</td><td>2013-01-01 06:00:00</td></tr>\n",
              "\t<tr><td>2013</td><td>1</td><td>1</td><td>559</td><td>600</td><td>-1</td><td> 941</td><td> 910</td><td> 31</td><td>AA</td><td> 707</td><td>N3DUAA</td><td>LGA</td><td>DFW</td><td>257</td><td>1389</td><td>6</td><td> 0</td><td>2013-01-01 06:00:00</td></tr>\n",
              "\t<tr><td>2013</td><td>1</td><td>1</td><td>559</td><td>559</td><td> 0</td><td> 702</td><td> 706</td><td> -4</td><td>B6</td><td>1806</td><td>N708JB</td><td>JFK</td><td>BOS</td><td> 44</td><td> 187</td><td>5</td><td>59</td><td>2013-01-01 05:00:00</td></tr>\n",
              "\t<tr><td>2013</td><td>1</td><td>1</td><td>559</td><td>600</td><td>-1</td><td> 854</td><td> 902</td><td> -8</td><td>UA</td><td>1187</td><td>N76515</td><td>EWR</td><td>LAS</td><td>337</td><td>2227</td><td>6</td><td> 0</td><td>2013-01-01 06:00:00</td></tr>\n",
              "\t<tr><td>2013</td><td>1</td><td>1</td><td>600</td><td>600</td><td> 0</td><td> 851</td><td> 858</td><td> -7</td><td>B6</td><td> 371</td><td>N595JB</td><td>LGA</td><td>FLL</td><td>152</td><td>1076</td><td>6</td><td> 0</td><td>2013-01-01 06:00:00</td></tr>\n",
              "\t<tr><td>2013</td><td>1</td><td>1</td><td>600</td><td>600</td><td> 0</td><td> 837</td><td> 825</td><td> 12</td><td>MQ</td><td>4650</td><td>N542MQ</td><td>LGA</td><td>ATL</td><td>134</td><td> 762</td><td>6</td><td> 0</td><td>2013-01-01 06:00:00</td></tr>\n",
              "\t<tr><td>2013</td><td>1</td><td>1</td><td>601</td><td>600</td><td> 1</td><td> 844</td><td> 850</td><td> -6</td><td>B6</td><td> 343</td><td>N644JB</td><td>EWR</td><td>PBI</td><td>147</td><td>1023</td><td>6</td><td> 0</td><td>2013-01-01 06:00:00</td></tr>\n",
              "\t<tr><td>2013</td><td>1</td><td>1</td><td>602</td><td>610</td><td>-8</td><td> 812</td><td> 820</td><td> -8</td><td>DL</td><td>1919</td><td>N971DL</td><td>LGA</td><td>MSP</td><td>170</td><td>1020</td><td>6</td><td>10</td><td>2013-01-01 06:00:00</td></tr>\n",
              "\t<tr><td>2013</td><td>1</td><td>1</td><td>602</td><td>605</td><td>-3</td><td> 821</td><td> 805</td><td> 16</td><td>MQ</td><td>4401</td><td>N730MQ</td><td>LGA</td><td>DTW</td><td>105</td><td> 502</td><td>6</td><td> 5</td><td>2013-01-01 06:00:00</td></tr>\n",
              "\t<tr><td>2013</td><td>1</td><td>1</td><td>606</td><td>610</td><td>-4</td><td> 858</td><td> 910</td><td>-12</td><td>AA</td><td>1895</td><td>N633AA</td><td>EWR</td><td>MIA</td><td>152</td><td>1085</td><td>6</td><td>10</td><td>2013-01-01 06:00:00</td></tr>\n",
              "\t<tr><td>2013</td><td>1</td><td>1</td><td>606</td><td>610</td><td>-4</td><td> 837</td><td> 845</td><td> -8</td><td>DL</td><td>1743</td><td>N3739P</td><td>JFK</td><td>ATL</td><td>128</td><td> 760</td><td>6</td><td>10</td><td>2013-01-01 06:00:00</td></tr>\n",
              "\t<tr><td>2013</td><td>1</td><td>1</td><td>607</td><td>607</td><td> 0</td><td> 858</td><td> 915</td><td>-17</td><td>UA</td><td>1077</td><td>N53442</td><td>EWR</td><td>MIA</td><td>157</td><td>1085</td><td>6</td><td> 7</td><td>2013-01-01 06:00:00</td></tr>\n",
              "\t<tr><td>2013</td><td>1</td><td>1</td><td>608</td><td>600</td><td> 8</td><td> 807</td><td> 735</td><td> 32</td><td>MQ</td><td>3768</td><td>N9EAMQ</td><td>EWR</td><td>ORD</td><td>139</td><td> 719</td><td>6</td><td> 0</td><td>2013-01-01 06:00:00</td></tr>\n",
              "\t<tr><td>2013</td><td>1</td><td>1</td><td>611</td><td>600</td><td>11</td><td> 945</td><td> 931</td><td> 14</td><td>UA</td><td> 303</td><td>N532UA</td><td>JFK</td><td>SFO</td><td>366</td><td>2586</td><td>6</td><td> 0</td><td>2013-01-01 06:00:00</td></tr>\n",
              "\t<tr><td>2013</td><td>1</td><td>1</td><td>613</td><td>610</td><td> 3</td><td> 925</td><td> 921</td><td>  4</td><td>B6</td><td> 135</td><td>N635JB</td><td>JFK</td><td>RSW</td><td>175</td><td>1074</td><td>6</td><td>10</td><td>2013-01-01 06:00:00</td></tr>\n",
              "\t<tr><td>2013</td><td>1</td><td>1</td><td>615</td><td>615</td><td> 0</td><td>1039</td><td>1100</td><td>-21</td><td>B6</td><td> 709</td><td>N794JB</td><td>JFK</td><td>SJU</td><td>182</td><td>1598</td><td>6</td><td>15</td><td>2013-01-01 06:00:00</td></tr>\n",
              "\t<tr><td>2013</td><td>1</td><td>1</td><td>615</td><td>615</td><td> 0</td><td> 833</td><td> 842</td><td> -9</td><td>DL</td><td> 575</td><td>N326NB</td><td>EWR</td><td>ATL</td><td>120</td><td> 746</td><td>6</td><td>15</td><td>2013-01-01 06:00:00</td></tr>\n",
              "\t<tr><td>⋮</td><td>⋮</td><td>⋮</td><td>⋮</td><td>⋮</td><td>⋮</td><td>⋮</td><td>⋮</td><td>⋮</td><td>⋮</td><td>⋮</td><td>⋮</td><td>⋮</td><td>⋮</td><td>⋮</td><td>⋮</td><td>⋮</td><td>⋮</td><td>⋮</td></tr>\n",
              "\t<tr><td>2013</td><td>12</td><td>31</td><td>2155</td><td>2039</td><td> 76</td><td> 253</td><td>2355</td><td> NA</td><td>B6</td><td>1205</td><td>N627JB</td><td>JFK</td><td>PDX</td><td> NA</td><td>2454</td><td>20</td><td>39</td><td>2013-12-31 20:00:00</td></tr>\n",
              "\t<tr><td>2013</td><td>12</td><td>31</td><td>2155</td><td>2150</td><td>  5</td><td> 110</td><td>  51</td><td> 19</td><td>B6</td><td>1901</td><td>N729JB</td><td>JFK</td><td>FLL</td><td>164</td><td>1069</td><td>21</td><td>50</td><td>2013-12-31 21:00:00</td></tr>\n",
              "\t<tr><td>2013</td><td>12</td><td>31</td><td>2159</td><td>2155</td><td>  4</td><td>  55</td><td>  46</td><td>  9</td><td>B6</td><td>2053</td><td>N593JB</td><td>JFK</td><td>PBI</td><td>155</td><td>1028</td><td>21</td><td>55</td><td>2013-12-31 21:00:00</td></tr>\n",
              "\t<tr><td>2013</td><td>12</td><td>31</td><td>2206</td><td>2110</td><td> 56</td><td>  44</td><td>2339</td><td> 65</td><td>B6</td><td> 775</td><td>N184JB</td><td>JFK</td><td>MSY</td><td>195</td><td>1182</td><td>21</td><td>10</td><td>2013-12-31 21:00:00</td></tr>\n",
              "\t<tr><td>2013</td><td>12</td><td>31</td><td>2211</td><td>2159</td><td> 12</td><td> 100</td><td>  45</td><td> 15</td><td>B6</td><td>1183</td><td>N715JB</td><td>JFK</td><td>MCO</td><td>148</td><td> 944</td><td>21</td><td>59</td><td>2013-12-31 21:00:00</td></tr>\n",
              "\t<tr><td>2013</td><td>12</td><td>31</td><td>2218</td><td>2219</td><td> -1</td><td> 315</td><td> 304</td><td> 11</td><td>B6</td><td>1203</td><td>N625JB</td><td>JFK</td><td>SJU</td><td>202</td><td>1598</td><td>22</td><td>19</td><td>2013-12-31 22:00:00</td></tr>\n",
              "\t<tr><td>2013</td><td>12</td><td>31</td><td>2235</td><td>2245</td><td>-10</td><td>2351</td><td>2355</td><td> -4</td><td>B6</td><td> 234</td><td>N355JB</td><td>JFK</td><td>BTV</td><td> 49</td><td> 266</td><td>22</td><td>45</td><td>2013-12-31 22:00:00</td></tr>\n",
              "\t<tr><td>2013</td><td>12</td><td>31</td><td>2245</td><td>2250</td><td> -5</td><td>2359</td><td>2356</td><td>  3</td><td>B6</td><td>1816</td><td>N318JB</td><td>JFK</td><td>SYR</td><td> 51</td><td> 209</td><td>22</td><td>50</td><td>2013-12-31 22:00:00</td></tr>\n",
              "\t<tr><td>2013</td><td>12</td><td>31</td><td>2310</td><td>2255</td><td> 15</td><td>   7</td><td>2356</td><td> 11</td><td>B6</td><td> 718</td><td>N279JB</td><td>JFK</td><td>BOS</td><td> 40</td><td> 187</td><td>22</td><td>55</td><td>2013-12-31 22:00:00</td></tr>\n",
              "\t<tr><td>2013</td><td>12</td><td>31</td><td>2321</td><td>2250</td><td> 31</td><td>  46</td><td>   8</td><td> 38</td><td>B6</td><td>2002</td><td>N179JB</td><td>JFK</td><td>BUF</td><td> 66</td><td> 301</td><td>22</td><td>50</td><td>2013-12-31 22:00:00</td></tr>\n",
              "\t<tr><td>2013</td><td>12</td><td>31</td><td>2328</td><td>2330</td><td> -2</td><td> 412</td><td> 409</td><td>  3</td><td>B6</td><td>1389</td><td>N651JB</td><td>EWR</td><td>SJU</td><td>198</td><td>1608</td><td>23</td><td>30</td><td>2013-12-31 23:00:00</td></tr>\n",
              "\t<tr><td>2013</td><td>12</td><td>31</td><td>2332</td><td>2245</td><td> 47</td><td>  58</td><td>   3</td><td> 55</td><td>B6</td><td> 486</td><td>N334JB</td><td>JFK</td><td>ROC</td><td> 60</td><td> 264</td><td>22</td><td>45</td><td>2013-12-31 22:00:00</td></tr>\n",
              "\t<tr><td>2013</td><td>12</td><td>31</td><td>2355</td><td>2359</td><td> -4</td><td> 430</td><td> 440</td><td>-10</td><td>B6</td><td>1503</td><td>N509JB</td><td>JFK</td><td>SJU</td><td>195</td><td>1598</td><td>23</td><td>59</td><td>2013-12-31 23:00:00</td></tr>\n",
              "\t<tr><td>2013</td><td>12</td><td>31</td><td>2356</td><td>2359</td><td> -3</td><td> 436</td><td> 445</td><td> -9</td><td>B6</td><td> 745</td><td>N665JB</td><td>JFK</td><td>PSE</td><td>200</td><td>1617</td><td>23</td><td>59</td><td>2013-12-31 23:00:00</td></tr>\n",
              "\t<tr><td>2013</td><td>12</td><td>31</td><td>  NA</td><td>1520</td><td> NA</td><td>  NA</td><td>1705</td><td> NA</td><td>AA</td><td> 341</td><td>N568AA</td><td>LGA</td><td>ORD</td><td> NA</td><td> 733</td><td>15</td><td>20</td><td>2013-12-31 15:00:00</td></tr>\n",
              "\t<tr><td>2013</td><td>12</td><td>31</td><td>  NA</td><td>2025</td><td> NA</td><td>  NA</td><td>2205</td><td> NA</td><td>AA</td><td> 371</td><td>N482AA</td><td>LGA</td><td>ORD</td><td> NA</td><td> 733</td><td>20</td><td>25</td><td>2013-12-31 20:00:00</td></tr>\n",
              "\t<tr><td>2013</td><td>12</td><td>31</td><td>  NA</td><td>1932</td><td> NA</td><td>  NA</td><td>2305</td><td> NA</td><td>B6</td><td> 161</td><td>N516JB</td><td>JFK</td><td>SMF</td><td> NA</td><td>2521</td><td>19</td><td>32</td><td>2013-12-31 19:00:00</td></tr>\n",
              "\t<tr><td>2013</td><td>12</td><td>31</td><td>  NA</td><td>1505</td><td> NA</td><td>  NA</td><td>1725</td><td> NA</td><td>EV</td><td>4181</td><td>N24103</td><td>EWR</td><td>MCI</td><td> NA</td><td>1092</td><td>15</td><td> 5</td><td>2013-12-31 15:00:00</td></tr>\n",
              "\t<tr><td>2013</td><td>12</td><td>31</td><td>  NA</td><td>1000</td><td> NA</td><td>  NA</td><td>1252</td><td> NA</td><td>UA</td><td>1124</td><td>NA    </td><td>EWR</td><td>EGE</td><td> NA</td><td>1725</td><td>10</td><td> 0</td><td>2013-12-31 10:00:00</td></tr>\n",
              "\t<tr><td>2013</td><td>12</td><td>31</td><td>  NA</td><td> 840</td><td> NA</td><td>  NA</td><td>1205</td><td> NA</td><td>UA</td><td>1151</td><td>NA    </td><td>EWR</td><td>SEA</td><td> NA</td><td>2402</td><td> 8</td><td>40</td><td>2013-12-31 08:00:00</td></tr>\n",
              "\t<tr><td>2013</td><td>12</td><td>31</td><td>  NA</td><td> 754</td><td> NA</td><td>  NA</td><td>1118</td><td> NA</td><td>UA</td><td>1455</td><td>NA    </td><td>EWR</td><td>LAX</td><td> NA</td><td>2454</td><td> 7</td><td>54</td><td>2013-12-31 07:00:00</td></tr>\n",
              "\t<tr><td>2013</td><td>12</td><td>31</td><td>  NA</td><td>2000</td><td> NA</td><td>  NA</td><td>2146</td><td> NA</td><td>UA</td><td>1482</td><td>NA    </td><td>EWR</td><td>ORD</td><td> NA</td><td> 719</td><td>20</td><td> 0</td><td>2013-12-31 20:00:00</td></tr>\n",
              "\t<tr><td>2013</td><td>12</td><td>31</td><td>  NA</td><td>1500</td><td> NA</td><td>  NA</td><td>1817</td><td> NA</td><td>UA</td><td>1483</td><td>NA    </td><td>EWR</td><td>AUS</td><td> NA</td><td>1504</td><td>15</td><td> 0</td><td>2013-12-31 15:00:00</td></tr>\n",
              "\t<tr><td>2013</td><td>12</td><td>31</td><td>  NA</td><td>1430</td><td> NA</td><td>  NA</td><td>1750</td><td> NA</td><td>UA</td><td>1493</td><td>NA    </td><td>EWR</td><td>LAX</td><td> NA</td><td>2454</td><td>14</td><td>30</td><td>2013-12-31 14:00:00</td></tr>\n",
              "\t<tr><td>2013</td><td>12</td><td>31</td><td>  NA</td><td> 855</td><td> NA</td><td>  NA</td><td>1142</td><td> NA</td><td>UA</td><td>1506</td><td>NA    </td><td>EWR</td><td>JAC</td><td> NA</td><td>1874</td><td> 8</td><td>55</td><td>2013-12-31 08:00:00</td></tr>\n",
              "\t<tr><td>2013</td><td>12</td><td>31</td><td>  NA</td><td> 705</td><td> NA</td><td>  NA</td><td> 931</td><td> NA</td><td>UA</td><td>1729</td><td>NA    </td><td>EWR</td><td>DEN</td><td> NA</td><td>1605</td><td> 7</td><td> 5</td><td>2013-12-31 07:00:00</td></tr>\n",
              "\t<tr><td>2013</td><td>12</td><td>31</td><td>  NA</td><td> 825</td><td> NA</td><td>  NA</td><td>1029</td><td> NA</td><td>US</td><td>1831</td><td>NA    </td><td>JFK</td><td>CLT</td><td> NA</td><td> 541</td><td> 8</td><td>25</td><td>2013-12-31 08:00:00</td></tr>\n",
              "\t<tr><td>2013</td><td>12</td><td>31</td><td>  NA</td><td>1615</td><td> NA</td><td>  NA</td><td>1800</td><td> NA</td><td>MQ</td><td>3301</td><td>N844MQ</td><td>LGA</td><td>RDU</td><td> NA</td><td> 431</td><td>16</td><td>15</td><td>2013-12-31 16:00:00</td></tr>\n",
              "\t<tr><td>2013</td><td>12</td><td>31</td><td>  NA</td><td> 600</td><td> NA</td><td>  NA</td><td> 735</td><td> NA</td><td>UA</td><td> 219</td><td>NA    </td><td>EWR</td><td>ORD</td><td> NA</td><td> 719</td><td> 6</td><td> 0</td><td>2013-12-31 06:00:00</td></tr>\n",
              "\t<tr><td>2013</td><td>12</td><td>31</td><td>  NA</td><td> 830</td><td> NA</td><td>  NA</td><td>1154</td><td> NA</td><td>UA</td><td> 443</td><td>NA    </td><td>JFK</td><td>LAX</td><td> NA</td><td>2475</td><td> 8</td><td>30</td><td>2013-12-31 08:00:00</td></tr>\n",
              "</tbody>\n",
              "</table>\n"
            ],
            "text/markdown": "\nA data.frame: 336776 × 19\n\n| year &lt;int&gt; | month &lt;int&gt; | day &lt;int&gt; | dep_time &lt;int&gt; | sched_dep_time &lt;int&gt; | dep_delay &lt;int&gt; | arr_time &lt;int&gt; | sched_arr_time &lt;int&gt; | arr_delay &lt;int&gt; | carrier &lt;chr&gt; | flight &lt;int&gt; | tailnum &lt;chr&gt; | origin &lt;chr&gt; | dest &lt;chr&gt; | air_time &lt;int&gt; | distance &lt;int&gt; | hour &lt;int&gt; | minute &lt;int&gt; | time_hour &lt;chr&gt; |\n|---|---|---|---|---|---|---|---|---|---|---|---|---|---|---|---|---|---|---|\n| 2013 | 1 | 1 | 517 | 515 |  2 |  830 |  819 |  11 | UA | 1545 | N14228 | EWR | IAH | 227 | 1400 | 5 | 15 | 2013-01-01 05:00:00 |\n| 2013 | 1 | 1 | 533 | 529 |  4 |  850 |  830 |  20 | UA | 1714 | N24211 | LGA | IAH | 227 | 1416 | 5 | 29 | 2013-01-01 05:00:00 |\n| 2013 | 1 | 1 | 542 | 540 |  2 |  923 |  850 |  33 | AA | 1141 | N619AA | JFK | MIA | 160 | 1089 | 5 | 40 | 2013-01-01 05:00:00 |\n| 2013 | 1 | 1 | 544 | 545 | -1 | 1004 | 1022 | -18 | B6 |  725 | N804JB | JFK | BQN | 183 | 1576 | 5 | 45 | 2013-01-01 05:00:00 |\n| 2013 | 1 | 1 | 554 | 600 | -6 |  812 |  837 | -25 | DL |  461 | N668DN | LGA | ATL | 116 |  762 | 6 |  0 | 2013-01-01 06:00:00 |\n| 2013 | 1 | 1 | 554 | 558 | -4 |  740 |  728 |  12 | UA | 1696 | N39463 | EWR | ORD | 150 |  719 | 5 | 58 | 2013-01-01 05:00:00 |\n| 2013 | 1 | 1 | 555 | 600 | -5 |  913 |  854 |  19 | B6 |  507 | N516JB | EWR | FLL | 158 | 1065 | 6 |  0 | 2013-01-01 06:00:00 |\n| 2013 | 1 | 1 | 557 | 600 | -3 |  709 |  723 | -14 | EV | 5708 | N829AS | LGA | IAD |  53 |  229 | 6 |  0 | 2013-01-01 06:00:00 |\n| 2013 | 1 | 1 | 557 | 600 | -3 |  838 |  846 |  -8 | B6 |   79 | N593JB | JFK | MCO | 140 |  944 | 6 |  0 | 2013-01-01 06:00:00 |\n| 2013 | 1 | 1 | 558 | 600 | -2 |  753 |  745 |   8 | AA |  301 | N3ALAA | LGA | ORD | 138 |  733 | 6 |  0 | 2013-01-01 06:00:00 |\n| 2013 | 1 | 1 | 558 | 600 | -2 |  849 |  851 |  -2 | B6 |   49 | N793JB | JFK | PBI | 149 | 1028 | 6 |  0 | 2013-01-01 06:00:00 |\n| 2013 | 1 | 1 | 558 | 600 | -2 |  853 |  856 |  -3 | B6 |   71 | N657JB | JFK | TPA | 158 | 1005 | 6 |  0 | 2013-01-01 06:00:00 |\n| 2013 | 1 | 1 | 558 | 600 | -2 |  924 |  917 |   7 | UA |  194 | N29129 | JFK | LAX | 345 | 2475 | 6 |  0 | 2013-01-01 06:00:00 |\n| 2013 | 1 | 1 | 558 | 600 | -2 |  923 |  937 | -14 | UA | 1124 | N53441 | EWR | SFO | 361 | 2565 | 6 |  0 | 2013-01-01 06:00:00 |\n| 2013 | 1 | 1 | 559 | 600 | -1 |  941 |  910 |  31 | AA |  707 | N3DUAA | LGA | DFW | 257 | 1389 | 6 |  0 | 2013-01-01 06:00:00 |\n| 2013 | 1 | 1 | 559 | 559 |  0 |  702 |  706 |  -4 | B6 | 1806 | N708JB | JFK | BOS |  44 |  187 | 5 | 59 | 2013-01-01 05:00:00 |\n| 2013 | 1 | 1 | 559 | 600 | -1 |  854 |  902 |  -8 | UA | 1187 | N76515 | EWR | LAS | 337 | 2227 | 6 |  0 | 2013-01-01 06:00:00 |\n| 2013 | 1 | 1 | 600 | 600 |  0 |  851 |  858 |  -7 | B6 |  371 | N595JB | LGA | FLL | 152 | 1076 | 6 |  0 | 2013-01-01 06:00:00 |\n| 2013 | 1 | 1 | 600 | 600 |  0 |  837 |  825 |  12 | MQ | 4650 | N542MQ | LGA | ATL | 134 |  762 | 6 |  0 | 2013-01-01 06:00:00 |\n| 2013 | 1 | 1 | 601 | 600 |  1 |  844 |  850 |  -6 | B6 |  343 | N644JB | EWR | PBI | 147 | 1023 | 6 |  0 | 2013-01-01 06:00:00 |\n| 2013 | 1 | 1 | 602 | 610 | -8 |  812 |  820 |  -8 | DL | 1919 | N971DL | LGA | MSP | 170 | 1020 | 6 | 10 | 2013-01-01 06:00:00 |\n| 2013 | 1 | 1 | 602 | 605 | -3 |  821 |  805 |  16 | MQ | 4401 | N730MQ | LGA | DTW | 105 |  502 | 6 |  5 | 2013-01-01 06:00:00 |\n| 2013 | 1 | 1 | 606 | 610 | -4 |  858 |  910 | -12 | AA | 1895 | N633AA | EWR | MIA | 152 | 1085 | 6 | 10 | 2013-01-01 06:00:00 |\n| 2013 | 1 | 1 | 606 | 610 | -4 |  837 |  845 |  -8 | DL | 1743 | N3739P | JFK | ATL | 128 |  760 | 6 | 10 | 2013-01-01 06:00:00 |\n| 2013 | 1 | 1 | 607 | 607 |  0 |  858 |  915 | -17 | UA | 1077 | N53442 | EWR | MIA | 157 | 1085 | 6 |  7 | 2013-01-01 06:00:00 |\n| 2013 | 1 | 1 | 608 | 600 |  8 |  807 |  735 |  32 | MQ | 3768 | N9EAMQ | EWR | ORD | 139 |  719 | 6 |  0 | 2013-01-01 06:00:00 |\n| 2013 | 1 | 1 | 611 | 600 | 11 |  945 |  931 |  14 | UA |  303 | N532UA | JFK | SFO | 366 | 2586 | 6 |  0 | 2013-01-01 06:00:00 |\n| 2013 | 1 | 1 | 613 | 610 |  3 |  925 |  921 |   4 | B6 |  135 | N635JB | JFK | RSW | 175 | 1074 | 6 | 10 | 2013-01-01 06:00:00 |\n| 2013 | 1 | 1 | 615 | 615 |  0 | 1039 | 1100 | -21 | B6 |  709 | N794JB | JFK | SJU | 182 | 1598 | 6 | 15 | 2013-01-01 06:00:00 |\n| 2013 | 1 | 1 | 615 | 615 |  0 |  833 |  842 |  -9 | DL |  575 | N326NB | EWR | ATL | 120 |  746 | 6 | 15 | 2013-01-01 06:00:00 |\n| ⋮ | ⋮ | ⋮ | ⋮ | ⋮ | ⋮ | ⋮ | ⋮ | ⋮ | ⋮ | ⋮ | ⋮ | ⋮ | ⋮ | ⋮ | ⋮ | ⋮ | ⋮ | ⋮ |\n| 2013 | 12 | 31 | 2155 | 2039 |  76 |  253 | 2355 |  NA | B6 | 1205 | N627JB | JFK | PDX |  NA | 2454 | 20 | 39 | 2013-12-31 20:00:00 |\n| 2013 | 12 | 31 | 2155 | 2150 |   5 |  110 |   51 |  19 | B6 | 1901 | N729JB | JFK | FLL | 164 | 1069 | 21 | 50 | 2013-12-31 21:00:00 |\n| 2013 | 12 | 31 | 2159 | 2155 |   4 |   55 |   46 |   9 | B6 | 2053 | N593JB | JFK | PBI | 155 | 1028 | 21 | 55 | 2013-12-31 21:00:00 |\n| 2013 | 12 | 31 | 2206 | 2110 |  56 |   44 | 2339 |  65 | B6 |  775 | N184JB | JFK | MSY | 195 | 1182 | 21 | 10 | 2013-12-31 21:00:00 |\n| 2013 | 12 | 31 | 2211 | 2159 |  12 |  100 |   45 |  15 | B6 | 1183 | N715JB | JFK | MCO | 148 |  944 | 21 | 59 | 2013-12-31 21:00:00 |\n| 2013 | 12 | 31 | 2218 | 2219 |  -1 |  315 |  304 |  11 | B6 | 1203 | N625JB | JFK | SJU | 202 | 1598 | 22 | 19 | 2013-12-31 22:00:00 |\n| 2013 | 12 | 31 | 2235 | 2245 | -10 | 2351 | 2355 |  -4 | B6 |  234 | N355JB | JFK | BTV |  49 |  266 | 22 | 45 | 2013-12-31 22:00:00 |\n| 2013 | 12 | 31 | 2245 | 2250 |  -5 | 2359 | 2356 |   3 | B6 | 1816 | N318JB | JFK | SYR |  51 |  209 | 22 | 50 | 2013-12-31 22:00:00 |\n| 2013 | 12 | 31 | 2310 | 2255 |  15 |    7 | 2356 |  11 | B6 |  718 | N279JB | JFK | BOS |  40 |  187 | 22 | 55 | 2013-12-31 22:00:00 |\n| 2013 | 12 | 31 | 2321 | 2250 |  31 |   46 |    8 |  38 | B6 | 2002 | N179JB | JFK | BUF |  66 |  301 | 22 | 50 | 2013-12-31 22:00:00 |\n| 2013 | 12 | 31 | 2328 | 2330 |  -2 |  412 |  409 |   3 | B6 | 1389 | N651JB | EWR | SJU | 198 | 1608 | 23 | 30 | 2013-12-31 23:00:00 |\n| 2013 | 12 | 31 | 2332 | 2245 |  47 |   58 |    3 |  55 | B6 |  486 | N334JB | JFK | ROC |  60 |  264 | 22 | 45 | 2013-12-31 22:00:00 |\n| 2013 | 12 | 31 | 2355 | 2359 |  -4 |  430 |  440 | -10 | B6 | 1503 | N509JB | JFK | SJU | 195 | 1598 | 23 | 59 | 2013-12-31 23:00:00 |\n| 2013 | 12 | 31 | 2356 | 2359 |  -3 |  436 |  445 |  -9 | B6 |  745 | N665JB | JFK | PSE | 200 | 1617 | 23 | 59 | 2013-12-31 23:00:00 |\n| 2013 | 12 | 31 |   NA | 1520 |  NA |   NA | 1705 |  NA | AA |  341 | N568AA | LGA | ORD |  NA |  733 | 15 | 20 | 2013-12-31 15:00:00 |\n| 2013 | 12 | 31 |   NA | 2025 |  NA |   NA | 2205 |  NA | AA |  371 | N482AA | LGA | ORD |  NA |  733 | 20 | 25 | 2013-12-31 20:00:00 |\n| 2013 | 12 | 31 |   NA | 1932 |  NA |   NA | 2305 |  NA | B6 |  161 | N516JB | JFK | SMF |  NA | 2521 | 19 | 32 | 2013-12-31 19:00:00 |\n| 2013 | 12 | 31 |   NA | 1505 |  NA |   NA | 1725 |  NA | EV | 4181 | N24103 | EWR | MCI |  NA | 1092 | 15 |  5 | 2013-12-31 15:00:00 |\n| 2013 | 12 | 31 |   NA | 1000 |  NA |   NA | 1252 |  NA | UA | 1124 | NA     | EWR | EGE |  NA | 1725 | 10 |  0 | 2013-12-31 10:00:00 |\n| 2013 | 12 | 31 |   NA |  840 |  NA |   NA | 1205 |  NA | UA | 1151 | NA     | EWR | SEA |  NA | 2402 |  8 | 40 | 2013-12-31 08:00:00 |\n| 2013 | 12 | 31 |   NA |  754 |  NA |   NA | 1118 |  NA | UA | 1455 | NA     | EWR | LAX |  NA | 2454 |  7 | 54 | 2013-12-31 07:00:00 |\n| 2013 | 12 | 31 |   NA | 2000 |  NA |   NA | 2146 |  NA | UA | 1482 | NA     | EWR | ORD |  NA |  719 | 20 |  0 | 2013-12-31 20:00:00 |\n| 2013 | 12 | 31 |   NA | 1500 |  NA |   NA | 1817 |  NA | UA | 1483 | NA     | EWR | AUS |  NA | 1504 | 15 |  0 | 2013-12-31 15:00:00 |\n| 2013 | 12 | 31 |   NA | 1430 |  NA |   NA | 1750 |  NA | UA | 1493 | NA     | EWR | LAX |  NA | 2454 | 14 | 30 | 2013-12-31 14:00:00 |\n| 2013 | 12 | 31 |   NA |  855 |  NA |   NA | 1142 |  NA | UA | 1506 | NA     | EWR | JAC |  NA | 1874 |  8 | 55 | 2013-12-31 08:00:00 |\n| 2013 | 12 | 31 |   NA |  705 |  NA |   NA |  931 |  NA | UA | 1729 | NA     | EWR | DEN |  NA | 1605 |  7 |  5 | 2013-12-31 07:00:00 |\n| 2013 | 12 | 31 |   NA |  825 |  NA |   NA | 1029 |  NA | US | 1831 | NA     | JFK | CLT |  NA |  541 |  8 | 25 | 2013-12-31 08:00:00 |\n| 2013 | 12 | 31 |   NA | 1615 |  NA |   NA | 1800 |  NA | MQ | 3301 | N844MQ | LGA | RDU |  NA |  431 | 16 | 15 | 2013-12-31 16:00:00 |\n| 2013 | 12 | 31 |   NA |  600 |  NA |   NA |  735 |  NA | UA |  219 | NA     | EWR | ORD |  NA |  719 |  6 |  0 | 2013-12-31 06:00:00 |\n| 2013 | 12 | 31 |   NA |  830 |  NA |   NA | 1154 |  NA | UA |  443 | NA     | JFK | LAX |  NA | 2475 |  8 | 30 | 2013-12-31 08:00:00 |\n\n",
            "text/latex": "A data.frame: 336776 × 19\n\\begin{tabular}{lllllllllllllllllll}\n year & month & day & dep\\_time & sched\\_dep\\_time & dep\\_delay & arr\\_time & sched\\_arr\\_time & arr\\_delay & carrier & flight & tailnum & origin & dest & air\\_time & distance & hour & minute & time\\_hour\\\\\n <int> & <int> & <int> & <int> & <int> & <int> & <int> & <int> & <int> & <chr> & <int> & <chr> & <chr> & <chr> & <int> & <int> & <int> & <int> & <chr>\\\\\n\\hline\n\t 2013 & 1 & 1 & 517 & 515 &  2 &  830 &  819 &  11 & UA & 1545 & N14228 & EWR & IAH & 227 & 1400 & 5 & 15 & 2013-01-01 05:00:00\\\\\n\t 2013 & 1 & 1 & 533 & 529 &  4 &  850 &  830 &  20 & UA & 1714 & N24211 & LGA & IAH & 227 & 1416 & 5 & 29 & 2013-01-01 05:00:00\\\\\n\t 2013 & 1 & 1 & 542 & 540 &  2 &  923 &  850 &  33 & AA & 1141 & N619AA & JFK & MIA & 160 & 1089 & 5 & 40 & 2013-01-01 05:00:00\\\\\n\t 2013 & 1 & 1 & 544 & 545 & -1 & 1004 & 1022 & -18 & B6 &  725 & N804JB & JFK & BQN & 183 & 1576 & 5 & 45 & 2013-01-01 05:00:00\\\\\n\t 2013 & 1 & 1 & 554 & 600 & -6 &  812 &  837 & -25 & DL &  461 & N668DN & LGA & ATL & 116 &  762 & 6 &  0 & 2013-01-01 06:00:00\\\\\n\t 2013 & 1 & 1 & 554 & 558 & -4 &  740 &  728 &  12 & UA & 1696 & N39463 & EWR & ORD & 150 &  719 & 5 & 58 & 2013-01-01 05:00:00\\\\\n\t 2013 & 1 & 1 & 555 & 600 & -5 &  913 &  854 &  19 & B6 &  507 & N516JB & EWR & FLL & 158 & 1065 & 6 &  0 & 2013-01-01 06:00:00\\\\\n\t 2013 & 1 & 1 & 557 & 600 & -3 &  709 &  723 & -14 & EV & 5708 & N829AS & LGA & IAD &  53 &  229 & 6 &  0 & 2013-01-01 06:00:00\\\\\n\t 2013 & 1 & 1 & 557 & 600 & -3 &  838 &  846 &  -8 & B6 &   79 & N593JB & JFK & MCO & 140 &  944 & 6 &  0 & 2013-01-01 06:00:00\\\\\n\t 2013 & 1 & 1 & 558 & 600 & -2 &  753 &  745 &   8 & AA &  301 & N3ALAA & LGA & ORD & 138 &  733 & 6 &  0 & 2013-01-01 06:00:00\\\\\n\t 2013 & 1 & 1 & 558 & 600 & -2 &  849 &  851 &  -2 & B6 &   49 & N793JB & JFK & PBI & 149 & 1028 & 6 &  0 & 2013-01-01 06:00:00\\\\\n\t 2013 & 1 & 1 & 558 & 600 & -2 &  853 &  856 &  -3 & B6 &   71 & N657JB & JFK & TPA & 158 & 1005 & 6 &  0 & 2013-01-01 06:00:00\\\\\n\t 2013 & 1 & 1 & 558 & 600 & -2 &  924 &  917 &   7 & UA &  194 & N29129 & JFK & LAX & 345 & 2475 & 6 &  0 & 2013-01-01 06:00:00\\\\\n\t 2013 & 1 & 1 & 558 & 600 & -2 &  923 &  937 & -14 & UA & 1124 & N53441 & EWR & SFO & 361 & 2565 & 6 &  0 & 2013-01-01 06:00:00\\\\\n\t 2013 & 1 & 1 & 559 & 600 & -1 &  941 &  910 &  31 & AA &  707 & N3DUAA & LGA & DFW & 257 & 1389 & 6 &  0 & 2013-01-01 06:00:00\\\\\n\t 2013 & 1 & 1 & 559 & 559 &  0 &  702 &  706 &  -4 & B6 & 1806 & N708JB & JFK & BOS &  44 &  187 & 5 & 59 & 2013-01-01 05:00:00\\\\\n\t 2013 & 1 & 1 & 559 & 600 & -1 &  854 &  902 &  -8 & UA & 1187 & N76515 & EWR & LAS & 337 & 2227 & 6 &  0 & 2013-01-01 06:00:00\\\\\n\t 2013 & 1 & 1 & 600 & 600 &  0 &  851 &  858 &  -7 & B6 &  371 & N595JB & LGA & FLL & 152 & 1076 & 6 &  0 & 2013-01-01 06:00:00\\\\\n\t 2013 & 1 & 1 & 600 & 600 &  0 &  837 &  825 &  12 & MQ & 4650 & N542MQ & LGA & ATL & 134 &  762 & 6 &  0 & 2013-01-01 06:00:00\\\\\n\t 2013 & 1 & 1 & 601 & 600 &  1 &  844 &  850 &  -6 & B6 &  343 & N644JB & EWR & PBI & 147 & 1023 & 6 &  0 & 2013-01-01 06:00:00\\\\\n\t 2013 & 1 & 1 & 602 & 610 & -8 &  812 &  820 &  -8 & DL & 1919 & N971DL & LGA & MSP & 170 & 1020 & 6 & 10 & 2013-01-01 06:00:00\\\\\n\t 2013 & 1 & 1 & 602 & 605 & -3 &  821 &  805 &  16 & MQ & 4401 & N730MQ & LGA & DTW & 105 &  502 & 6 &  5 & 2013-01-01 06:00:00\\\\\n\t 2013 & 1 & 1 & 606 & 610 & -4 &  858 &  910 & -12 & AA & 1895 & N633AA & EWR & MIA & 152 & 1085 & 6 & 10 & 2013-01-01 06:00:00\\\\\n\t 2013 & 1 & 1 & 606 & 610 & -4 &  837 &  845 &  -8 & DL & 1743 & N3739P & JFK & ATL & 128 &  760 & 6 & 10 & 2013-01-01 06:00:00\\\\\n\t 2013 & 1 & 1 & 607 & 607 &  0 &  858 &  915 & -17 & UA & 1077 & N53442 & EWR & MIA & 157 & 1085 & 6 &  7 & 2013-01-01 06:00:00\\\\\n\t 2013 & 1 & 1 & 608 & 600 &  8 &  807 &  735 &  32 & MQ & 3768 & N9EAMQ & EWR & ORD & 139 &  719 & 6 &  0 & 2013-01-01 06:00:00\\\\\n\t 2013 & 1 & 1 & 611 & 600 & 11 &  945 &  931 &  14 & UA &  303 & N532UA & JFK & SFO & 366 & 2586 & 6 &  0 & 2013-01-01 06:00:00\\\\\n\t 2013 & 1 & 1 & 613 & 610 &  3 &  925 &  921 &   4 & B6 &  135 & N635JB & JFK & RSW & 175 & 1074 & 6 & 10 & 2013-01-01 06:00:00\\\\\n\t 2013 & 1 & 1 & 615 & 615 &  0 & 1039 & 1100 & -21 & B6 &  709 & N794JB & JFK & SJU & 182 & 1598 & 6 & 15 & 2013-01-01 06:00:00\\\\\n\t 2013 & 1 & 1 & 615 & 615 &  0 &  833 &  842 &  -9 & DL &  575 & N326NB & EWR & ATL & 120 &  746 & 6 & 15 & 2013-01-01 06:00:00\\\\\n\t ⋮ & ⋮ & ⋮ & ⋮ & ⋮ & ⋮ & ⋮ & ⋮ & ⋮ & ⋮ & ⋮ & ⋮ & ⋮ & ⋮ & ⋮ & ⋮ & ⋮ & ⋮ & ⋮\\\\\n\t 2013 & 12 & 31 & 2155 & 2039 &  76 &  253 & 2355 &  NA & B6 & 1205 & N627JB & JFK & PDX &  NA & 2454 & 20 & 39 & 2013-12-31 20:00:00\\\\\n\t 2013 & 12 & 31 & 2155 & 2150 &   5 &  110 &   51 &  19 & B6 & 1901 & N729JB & JFK & FLL & 164 & 1069 & 21 & 50 & 2013-12-31 21:00:00\\\\\n\t 2013 & 12 & 31 & 2159 & 2155 &   4 &   55 &   46 &   9 & B6 & 2053 & N593JB & JFK & PBI & 155 & 1028 & 21 & 55 & 2013-12-31 21:00:00\\\\\n\t 2013 & 12 & 31 & 2206 & 2110 &  56 &   44 & 2339 &  65 & B6 &  775 & N184JB & JFK & MSY & 195 & 1182 & 21 & 10 & 2013-12-31 21:00:00\\\\\n\t 2013 & 12 & 31 & 2211 & 2159 &  12 &  100 &   45 &  15 & B6 & 1183 & N715JB & JFK & MCO & 148 &  944 & 21 & 59 & 2013-12-31 21:00:00\\\\\n\t 2013 & 12 & 31 & 2218 & 2219 &  -1 &  315 &  304 &  11 & B6 & 1203 & N625JB & JFK & SJU & 202 & 1598 & 22 & 19 & 2013-12-31 22:00:00\\\\\n\t 2013 & 12 & 31 & 2235 & 2245 & -10 & 2351 & 2355 &  -4 & B6 &  234 & N355JB & JFK & BTV &  49 &  266 & 22 & 45 & 2013-12-31 22:00:00\\\\\n\t 2013 & 12 & 31 & 2245 & 2250 &  -5 & 2359 & 2356 &   3 & B6 & 1816 & N318JB & JFK & SYR &  51 &  209 & 22 & 50 & 2013-12-31 22:00:00\\\\\n\t 2013 & 12 & 31 & 2310 & 2255 &  15 &    7 & 2356 &  11 & B6 &  718 & N279JB & JFK & BOS &  40 &  187 & 22 & 55 & 2013-12-31 22:00:00\\\\\n\t 2013 & 12 & 31 & 2321 & 2250 &  31 &   46 &    8 &  38 & B6 & 2002 & N179JB & JFK & BUF &  66 &  301 & 22 & 50 & 2013-12-31 22:00:00\\\\\n\t 2013 & 12 & 31 & 2328 & 2330 &  -2 &  412 &  409 &   3 & B6 & 1389 & N651JB & EWR & SJU & 198 & 1608 & 23 & 30 & 2013-12-31 23:00:00\\\\\n\t 2013 & 12 & 31 & 2332 & 2245 &  47 &   58 &    3 &  55 & B6 &  486 & N334JB & JFK & ROC &  60 &  264 & 22 & 45 & 2013-12-31 22:00:00\\\\\n\t 2013 & 12 & 31 & 2355 & 2359 &  -4 &  430 &  440 & -10 & B6 & 1503 & N509JB & JFK & SJU & 195 & 1598 & 23 & 59 & 2013-12-31 23:00:00\\\\\n\t 2013 & 12 & 31 & 2356 & 2359 &  -3 &  436 &  445 &  -9 & B6 &  745 & N665JB & JFK & PSE & 200 & 1617 & 23 & 59 & 2013-12-31 23:00:00\\\\\n\t 2013 & 12 & 31 &   NA & 1520 &  NA &   NA & 1705 &  NA & AA &  341 & N568AA & LGA & ORD &  NA &  733 & 15 & 20 & 2013-12-31 15:00:00\\\\\n\t 2013 & 12 & 31 &   NA & 2025 &  NA &   NA & 2205 &  NA & AA &  371 & N482AA & LGA & ORD &  NA &  733 & 20 & 25 & 2013-12-31 20:00:00\\\\\n\t 2013 & 12 & 31 &   NA & 1932 &  NA &   NA & 2305 &  NA & B6 &  161 & N516JB & JFK & SMF &  NA & 2521 & 19 & 32 & 2013-12-31 19:00:00\\\\\n\t 2013 & 12 & 31 &   NA & 1505 &  NA &   NA & 1725 &  NA & EV & 4181 & N24103 & EWR & MCI &  NA & 1092 & 15 &  5 & 2013-12-31 15:00:00\\\\\n\t 2013 & 12 & 31 &   NA & 1000 &  NA &   NA & 1252 &  NA & UA & 1124 & NA     & EWR & EGE &  NA & 1725 & 10 &  0 & 2013-12-31 10:00:00\\\\\n\t 2013 & 12 & 31 &   NA &  840 &  NA &   NA & 1205 &  NA & UA & 1151 & NA     & EWR & SEA &  NA & 2402 &  8 & 40 & 2013-12-31 08:00:00\\\\\n\t 2013 & 12 & 31 &   NA &  754 &  NA &   NA & 1118 &  NA & UA & 1455 & NA     & EWR & LAX &  NA & 2454 &  7 & 54 & 2013-12-31 07:00:00\\\\\n\t 2013 & 12 & 31 &   NA & 2000 &  NA &   NA & 2146 &  NA & UA & 1482 & NA     & EWR & ORD &  NA &  719 & 20 &  0 & 2013-12-31 20:00:00\\\\\n\t 2013 & 12 & 31 &   NA & 1500 &  NA &   NA & 1817 &  NA & UA & 1483 & NA     & EWR & AUS &  NA & 1504 & 15 &  0 & 2013-12-31 15:00:00\\\\\n\t 2013 & 12 & 31 &   NA & 1430 &  NA &   NA & 1750 &  NA & UA & 1493 & NA     & EWR & LAX &  NA & 2454 & 14 & 30 & 2013-12-31 14:00:00\\\\\n\t 2013 & 12 & 31 &   NA &  855 &  NA &   NA & 1142 &  NA & UA & 1506 & NA     & EWR & JAC &  NA & 1874 &  8 & 55 & 2013-12-31 08:00:00\\\\\n\t 2013 & 12 & 31 &   NA &  705 &  NA &   NA &  931 &  NA & UA & 1729 & NA     & EWR & DEN &  NA & 1605 &  7 &  5 & 2013-12-31 07:00:00\\\\\n\t 2013 & 12 & 31 &   NA &  825 &  NA &   NA & 1029 &  NA & US & 1831 & NA     & JFK & CLT &  NA &  541 &  8 & 25 & 2013-12-31 08:00:00\\\\\n\t 2013 & 12 & 31 &   NA & 1615 &  NA &   NA & 1800 &  NA & MQ & 3301 & N844MQ & LGA & RDU &  NA &  431 & 16 & 15 & 2013-12-31 16:00:00\\\\\n\t 2013 & 12 & 31 &   NA &  600 &  NA &   NA &  735 &  NA & UA &  219 & NA     & EWR & ORD &  NA &  719 &  6 &  0 & 2013-12-31 06:00:00\\\\\n\t 2013 & 12 & 31 &   NA &  830 &  NA &   NA & 1154 &  NA & UA &  443 & NA     & JFK & LAX &  NA & 2475 &  8 & 30 & 2013-12-31 08:00:00\\\\\n\\end{tabular}\n",
            "text/plain": [
              "       year month day dep_time sched_dep_time dep_delay arr_time sched_arr_time\n",
              "1      2013 1     1   517      515             2         830      819          \n",
              "2      2013 1     1   533      529             4         850      830          \n",
              "3      2013 1     1   542      540             2         923      850          \n",
              "4      2013 1     1   544      545            -1        1004     1022          \n",
              "5      2013 1     1   554      600            -6         812      837          \n",
              "6      2013 1     1   554      558            -4         740      728          \n",
              "7      2013 1     1   555      600            -5         913      854          \n",
              "8      2013 1     1   557      600            -3         709      723          \n",
              "9      2013 1     1   557      600            -3         838      846          \n",
              "10     2013 1     1   558      600            -2         753      745          \n",
              "11     2013 1     1   558      600            -2         849      851          \n",
              "12     2013 1     1   558      600            -2         853      856          \n",
              "13     2013 1     1   558      600            -2         924      917          \n",
              "14     2013 1     1   558      600            -2         923      937          \n",
              "15     2013 1     1   559      600            -1         941      910          \n",
              "16     2013 1     1   559      559             0         702      706          \n",
              "17     2013 1     1   559      600            -1         854      902          \n",
              "18     2013 1     1   600      600             0         851      858          \n",
              "19     2013 1     1   600      600             0         837      825          \n",
              "20     2013 1     1   601      600             1         844      850          \n",
              "21     2013 1     1   602      610            -8         812      820          \n",
              "22     2013 1     1   602      605            -3         821      805          \n",
              "23     2013 1     1   606      610            -4         858      910          \n",
              "24     2013 1     1   606      610            -4         837      845          \n",
              "25     2013 1     1   607      607             0         858      915          \n",
              "26     2013 1     1   608      600             8         807      735          \n",
              "27     2013 1     1   611      600            11         945      931          \n",
              "28     2013 1     1   613      610             3         925      921          \n",
              "29     2013 1     1   615      615             0        1039     1100          \n",
              "30     2013 1     1   615      615             0         833      842          \n",
              "⋮      ⋮    ⋮     ⋮   ⋮        ⋮              ⋮         ⋮        ⋮             \n",
              "336747 2013 12    31  2155     2039            76        253     2355          \n",
              "336748 2013 12    31  2155     2150             5        110       51          \n",
              "336749 2013 12    31  2159     2155             4         55       46          \n",
              "336750 2013 12    31  2206     2110            56         44     2339          \n",
              "336751 2013 12    31  2211     2159            12        100       45          \n",
              "336752 2013 12    31  2218     2219            -1        315      304          \n",
              "336753 2013 12    31  2235     2245           -10       2351     2355          \n",
              "336754 2013 12    31  2245     2250            -5       2359     2356          \n",
              "336755 2013 12    31  2310     2255            15          7     2356          \n",
              "336756 2013 12    31  2321     2250            31         46        8          \n",
              "336757 2013 12    31  2328     2330            -2        412      409          \n",
              "336758 2013 12    31  2332     2245            47         58        3          \n",
              "336759 2013 12    31  2355     2359            -4        430      440          \n",
              "336760 2013 12    31  2356     2359            -3        436      445          \n",
              "336761 2013 12    31    NA     1520            NA         NA     1705          \n",
              "336762 2013 12    31    NA     2025            NA         NA     2205          \n",
              "336763 2013 12    31    NA     1932            NA         NA     2305          \n",
              "336764 2013 12    31    NA     1505            NA         NA     1725          \n",
              "336765 2013 12    31    NA     1000            NA         NA     1252          \n",
              "336766 2013 12    31    NA      840            NA         NA     1205          \n",
              "336767 2013 12    31    NA      754            NA         NA     1118          \n",
              "336768 2013 12    31    NA     2000            NA         NA     2146          \n",
              "336769 2013 12    31    NA     1500            NA         NA     1817          \n",
              "336770 2013 12    31    NA     1430            NA         NA     1750          \n",
              "336771 2013 12    31    NA      855            NA         NA     1142          \n",
              "336772 2013 12    31    NA      705            NA         NA      931          \n",
              "336773 2013 12    31    NA      825            NA         NA     1029          \n",
              "336774 2013 12    31    NA     1615            NA         NA     1800          \n",
              "336775 2013 12    31    NA      600            NA         NA      735          \n",
              "336776 2013 12    31    NA      830            NA         NA     1154          \n",
              "       arr_delay carrier flight tailnum origin dest air_time distance hour\n",
              "1       11       UA      1545   N14228  EWR    IAH  227      1400     5   \n",
              "2       20       UA      1714   N24211  LGA    IAH  227      1416     5   \n",
              "3       33       AA      1141   N619AA  JFK    MIA  160      1089     5   \n",
              "4      -18       B6       725   N804JB  JFK    BQN  183      1576     5   \n",
              "5      -25       DL       461   N668DN  LGA    ATL  116       762     6   \n",
              "6       12       UA      1696   N39463  EWR    ORD  150       719     5   \n",
              "7       19       B6       507   N516JB  EWR    FLL  158      1065     6   \n",
              "8      -14       EV      5708   N829AS  LGA    IAD   53       229     6   \n",
              "9       -8       B6        79   N593JB  JFK    MCO  140       944     6   \n",
              "10       8       AA       301   N3ALAA  LGA    ORD  138       733     6   \n",
              "11      -2       B6        49   N793JB  JFK    PBI  149      1028     6   \n",
              "12      -3       B6        71   N657JB  JFK    TPA  158      1005     6   \n",
              "13       7       UA       194   N29129  JFK    LAX  345      2475     6   \n",
              "14     -14       UA      1124   N53441  EWR    SFO  361      2565     6   \n",
              "15      31       AA       707   N3DUAA  LGA    DFW  257      1389     6   \n",
              "16      -4       B6      1806   N708JB  JFK    BOS   44       187     5   \n",
              "17      -8       UA      1187   N76515  EWR    LAS  337      2227     6   \n",
              "18      -7       B6       371   N595JB  LGA    FLL  152      1076     6   \n",
              "19      12       MQ      4650   N542MQ  LGA    ATL  134       762     6   \n",
              "20      -6       B6       343   N644JB  EWR    PBI  147      1023     6   \n",
              "21      -8       DL      1919   N971DL  LGA    MSP  170      1020     6   \n",
              "22      16       MQ      4401   N730MQ  LGA    DTW  105       502     6   \n",
              "23     -12       AA      1895   N633AA  EWR    MIA  152      1085     6   \n",
              "24      -8       DL      1743   N3739P  JFK    ATL  128       760     6   \n",
              "25     -17       UA      1077   N53442  EWR    MIA  157      1085     6   \n",
              "26      32       MQ      3768   N9EAMQ  EWR    ORD  139       719     6   \n",
              "27      14       UA       303   N532UA  JFK    SFO  366      2586     6   \n",
              "28       4       B6       135   N635JB  JFK    RSW  175      1074     6   \n",
              "29     -21       B6       709   N794JB  JFK    SJU  182      1598     6   \n",
              "30      -9       DL       575   N326NB  EWR    ATL  120       746     6   \n",
              "⋮      ⋮         ⋮       ⋮      ⋮       ⋮      ⋮    ⋮        ⋮        ⋮   \n",
              "336747  NA       B6      1205   N627JB  JFK    PDX   NA      2454     20  \n",
              "336748  19       B6      1901   N729JB  JFK    FLL  164      1069     21  \n",
              "336749   9       B6      2053   N593JB  JFK    PBI  155      1028     21  \n",
              "336750  65       B6       775   N184JB  JFK    MSY  195      1182     21  \n",
              "336751  15       B6      1183   N715JB  JFK    MCO  148       944     21  \n",
              "336752  11       B6      1203   N625JB  JFK    SJU  202      1598     22  \n",
              "336753  -4       B6       234   N355JB  JFK    BTV   49       266     22  \n",
              "336754   3       B6      1816   N318JB  JFK    SYR   51       209     22  \n",
              "336755  11       B6       718   N279JB  JFK    BOS   40       187     22  \n",
              "336756  38       B6      2002   N179JB  JFK    BUF   66       301     22  \n",
              "336757   3       B6      1389   N651JB  EWR    SJU  198      1608     23  \n",
              "336758  55       B6       486   N334JB  JFK    ROC   60       264     22  \n",
              "336759 -10       B6      1503   N509JB  JFK    SJU  195      1598     23  \n",
              "336760  -9       B6       745   N665JB  JFK    PSE  200      1617     23  \n",
              "336761  NA       AA       341   N568AA  LGA    ORD   NA       733     15  \n",
              "336762  NA       AA       371   N482AA  LGA    ORD   NA       733     20  \n",
              "336763  NA       B6       161   N516JB  JFK    SMF   NA      2521     19  \n",
              "336764  NA       EV      4181   N24103  EWR    MCI   NA      1092     15  \n",
              "336765  NA       UA      1124   NA      EWR    EGE   NA      1725     10  \n",
              "336766  NA       UA      1151   NA      EWR    SEA   NA      2402      8  \n",
              "336767  NA       UA      1455   NA      EWR    LAX   NA      2454      7  \n",
              "336768  NA       UA      1482   NA      EWR    ORD   NA       719     20  \n",
              "336769  NA       UA      1483   NA      EWR    AUS   NA      1504     15  \n",
              "336770  NA       UA      1493   NA      EWR    LAX   NA      2454     14  \n",
              "336771  NA       UA      1506   NA      EWR    JAC   NA      1874      8  \n",
              "336772  NA       UA      1729   NA      EWR    DEN   NA      1605      7  \n",
              "336773  NA       US      1831   NA      JFK    CLT   NA       541      8  \n",
              "336774  NA       MQ      3301   N844MQ  LGA    RDU   NA       431     16  \n",
              "336775  NA       UA       219   NA      EWR    ORD   NA       719      6  \n",
              "336776  NA       UA       443   NA      JFK    LAX   NA      2475      8  \n",
              "       minute time_hour          \n",
              "1      15     2013-01-01 05:00:00\n",
              "2      29     2013-01-01 05:00:00\n",
              "3      40     2013-01-01 05:00:00\n",
              "4      45     2013-01-01 05:00:00\n",
              "5       0     2013-01-01 06:00:00\n",
              "6      58     2013-01-01 05:00:00\n",
              "7       0     2013-01-01 06:00:00\n",
              "8       0     2013-01-01 06:00:00\n",
              "9       0     2013-01-01 06:00:00\n",
              "10      0     2013-01-01 06:00:00\n",
              "11      0     2013-01-01 06:00:00\n",
              "12      0     2013-01-01 06:00:00\n",
              "13      0     2013-01-01 06:00:00\n",
              "14      0     2013-01-01 06:00:00\n",
              "15      0     2013-01-01 06:00:00\n",
              "16     59     2013-01-01 05:00:00\n",
              "17      0     2013-01-01 06:00:00\n",
              "18      0     2013-01-01 06:00:00\n",
              "19      0     2013-01-01 06:00:00\n",
              "20      0     2013-01-01 06:00:00\n",
              "21     10     2013-01-01 06:00:00\n",
              "22      5     2013-01-01 06:00:00\n",
              "23     10     2013-01-01 06:00:00\n",
              "24     10     2013-01-01 06:00:00\n",
              "25      7     2013-01-01 06:00:00\n",
              "26      0     2013-01-01 06:00:00\n",
              "27      0     2013-01-01 06:00:00\n",
              "28     10     2013-01-01 06:00:00\n",
              "29     15     2013-01-01 06:00:00\n",
              "30     15     2013-01-01 06:00:00\n",
              "⋮      ⋮      ⋮                  \n",
              "336747 39     2013-12-31 20:00:00\n",
              "336748 50     2013-12-31 21:00:00\n",
              "336749 55     2013-12-31 21:00:00\n",
              "336750 10     2013-12-31 21:00:00\n",
              "336751 59     2013-12-31 21:00:00\n",
              "336752 19     2013-12-31 22:00:00\n",
              "336753 45     2013-12-31 22:00:00\n",
              "336754 50     2013-12-31 22:00:00\n",
              "336755 55     2013-12-31 22:00:00\n",
              "336756 50     2013-12-31 22:00:00\n",
              "336757 30     2013-12-31 23:00:00\n",
              "336758 45     2013-12-31 22:00:00\n",
              "336759 59     2013-12-31 23:00:00\n",
              "336760 59     2013-12-31 23:00:00\n",
              "336761 20     2013-12-31 15:00:00\n",
              "336762 25     2013-12-31 20:00:00\n",
              "336763 32     2013-12-31 19:00:00\n",
              "336764  5     2013-12-31 15:00:00\n",
              "336765  0     2013-12-31 10:00:00\n",
              "336766 40     2013-12-31 08:00:00\n",
              "336767 54     2013-12-31 07:00:00\n",
              "336768  0     2013-12-31 20:00:00\n",
              "336769  0     2013-12-31 15:00:00\n",
              "336770 30     2013-12-31 14:00:00\n",
              "336771 55     2013-12-31 08:00:00\n",
              "336772  5     2013-12-31 07:00:00\n",
              "336773 25     2013-12-31 08:00:00\n",
              "336774 15     2013-12-31 16:00:00\n",
              "336775  0     2013-12-31 06:00:00\n",
              "336776 30     2013-12-31 08:00:00"
            ]
          },
          "metadata": {}
        }
      ]
    },
    {
      "cell_type": "code",
      "source": [
        "arrange(vuelos, month, arr_delay)"
      ],
      "metadata": {
        "id": "fBRyvWQGKMMu",
        "outputId": "46314d64-1d8f-46df-a473-63e3aed6af3e",
        "colab": {
          "base_uri": "https://localhost:8080/",
          "height": 1000
        }
      },
      "execution_count": null,
      "outputs": [
        {
          "output_type": "display_data",
          "data": {
            "text/html": [
              "<table class=\"dataframe\">\n",
              "<caption>A data.frame: 336776 × 19</caption>\n",
              "<thead>\n",
              "\t<tr><th scope=col>year</th><th scope=col>month</th><th scope=col>day</th><th scope=col>dep_time</th><th scope=col>sched_dep_time</th><th scope=col>dep_delay</th><th scope=col>arr_time</th><th scope=col>sched_arr_time</th><th scope=col>arr_delay</th><th scope=col>carrier</th><th scope=col>flight</th><th scope=col>tailnum</th><th scope=col>origin</th><th scope=col>dest</th><th scope=col>air_time</th><th scope=col>distance</th><th scope=col>hour</th><th scope=col>minute</th><th scope=col>time_hour</th></tr>\n",
              "\t<tr><th scope=col>&lt;int&gt;</th><th scope=col>&lt;int&gt;</th><th scope=col>&lt;int&gt;</th><th scope=col>&lt;int&gt;</th><th scope=col>&lt;int&gt;</th><th scope=col>&lt;int&gt;</th><th scope=col>&lt;int&gt;</th><th scope=col>&lt;int&gt;</th><th scope=col>&lt;int&gt;</th><th scope=col>&lt;chr&gt;</th><th scope=col>&lt;int&gt;</th><th scope=col>&lt;chr&gt;</th><th scope=col>&lt;chr&gt;</th><th scope=col>&lt;chr&gt;</th><th scope=col>&lt;int&gt;</th><th scope=col>&lt;int&gt;</th><th scope=col>&lt;int&gt;</th><th scope=col>&lt;int&gt;</th><th scope=col>&lt;chr&gt;</th></tr>\n",
              "</thead>\n",
              "<tbody>\n",
              "\t<tr><td>2013</td><td>1</td><td> 4</td><td>1026</td><td>1030</td><td> -4</td><td>1305</td><td>1415</td><td>-70</td><td>VX</td><td>  23</td><td>N855VA</td><td>JFK</td><td>SFO</td><td>324</td><td>2586</td><td>10</td><td>30</td><td>2013-01-04 10:00:00</td></tr>\n",
              "\t<tr><td>2013</td><td>1</td><td> 3</td><td> 941</td><td> 945</td><td> -4</td><td>1153</td><td>1258</td><td>-65</td><td>B6</td><td> 679</td><td>N789JB</td><td>JFK</td><td>LAX</td><td>297</td><td>2475</td><td> 9</td><td>45</td><td>2013-01-03 09:00:00</td></tr>\n",
              "\t<tr><td>2013</td><td>1</td><td>14</td><td>1840</td><td>1845</td><td> -5</td><td>2117</td><td>2221</td><td>-64</td><td>DL</td><td>2190</td><td>N324US</td><td>JFK</td><td>MIA</td><td>146</td><td>1089</td><td>18</td><td>45</td><td>2013-01-14 18:00:00</td></tr>\n",
              "\t<tr><td>2013</td><td>1</td><td> 3</td><td>1153</td><td>1200</td><td> -7</td><td>1442</td><td>1545</td><td>-63</td><td>VX</td><td>  25</td><td>N847VA</td><td>JFK</td><td>SFO</td><td>333</td><td>2586</td><td>12</td><td> 0</td><td>2013-01-03 12:00:00</td></tr>\n",
              "\t<tr><td>2013</td><td>1</td><td> 3</td><td>1228</td><td>1235</td><td> -7</td><td>1503</td><td>1606</td><td>-63</td><td>DL</td><td>2174</td><td>N389DA</td><td>JFK</td><td>SLC</td><td>260</td><td>1990</td><td>12</td><td>35</td><td>2013-01-03 12:00:00</td></tr>\n",
              "\t<tr><td>2013</td><td>1</td><td>27</td><td>1845</td><td>1850</td><td> -5</td><td>2110</td><td>2212</td><td>-62</td><td>DL</td><td>2159</td><td>N398DA</td><td>JFK</td><td>MCO</td><td>127</td><td> 944</td><td>18</td><td>50</td><td>2013-01-27 18:00:00</td></tr>\n",
              "\t<tr><td>2013</td><td>1</td><td> 3</td><td>1605</td><td>1610</td><td> -5</td><td>1816</td><td>1917</td><td>-61</td><td>DL</td><td>  91</td><td>N3740C</td><td>JFK</td><td>LAS</td><td>282</td><td>2248</td><td>16</td><td>10</td><td>2013-01-03 16:00:00</td></tr>\n",
              "\t<tr><td>2013</td><td>1</td><td> 3</td><td>1857</td><td>1900</td><td> -3</td><td>2200</td><td>2301</td><td>-61</td><td>DL</td><td>1465</td><td>N722TW</td><td>JFK</td><td>SFO</td><td>329</td><td>2586</td><td>19</td><td> 0</td><td>2013-01-03 19:00:00</td></tr>\n",
              "\t<tr><td>2013</td><td>1</td><td> 4</td><td>1219</td><td>1221</td><td> -2</td><td>1454</td><td>1555</td><td>-61</td><td>UA</td><td> 551</td><td>N830UA</td><td>EWR</td><td>SFO</td><td>313</td><td>2565</td><td>12</td><td>21</td><td>2013-01-04 12:00:00</td></tr>\n",
              "\t<tr><td>2013</td><td>1</td><td> 6</td><td> 812</td><td> 819</td><td> -7</td><td>1102</td><td>1203</td><td>-61</td><td>UA</td><td> 665</td><td>N805UA</td><td>EWR</td><td>SFO</td><td>336</td><td>2565</td><td> 8</td><td>19</td><td>2013-01-06 08:00:00</td></tr>\n",
              "\t<tr><td>2013</td><td>1</td><td>12</td><td> 913</td><td> 920</td><td> -7</td><td>1347</td><td>1448</td><td>-61</td><td>DL</td><td> 675</td><td>N711ZX</td><td>JFK</td><td>STT</td><td>181</td><td>1623</td><td> 9</td><td>20</td><td>2013-01-12 09:00:00</td></tr>\n",
              "\t<tr><td>2013</td><td>1</td><td> 3</td><td>1920</td><td>1920</td><td>  0</td><td>2158</td><td>2258</td><td>-60</td><td>DL</td><td>   6</td><td>N3768 </td><td>JFK</td><td>SLC</td><td>250</td><td>1990</td><td>19</td><td>20</td><td>2013-01-03 19:00:00</td></tr>\n",
              "\t<tr><td>2013</td><td>1</td><td> 2</td><td> 654</td><td> 700</td><td> -6</td><td> 946</td><td>1045</td><td>-59</td><td>DL</td><td>1865</td><td>N711ZX</td><td>JFK</td><td>SFO</td><td>323</td><td>2586</td><td> 7</td><td> 0</td><td>2013-01-02 07:00:00</td></tr>\n",
              "\t<tr><td>2013</td><td>1</td><td> 3</td><td>1626</td><td>1630</td><td> -4</td><td>1853</td><td>1952</td><td>-59</td><td>B6</td><td> 675</td><td>N652JB</td><td>JFK</td><td>LAX</td><td>301</td><td>2475</td><td>16</td><td>30</td><td>2013-01-03 16:00:00</td></tr>\n",
              "\t<tr><td>2013</td><td>1</td><td>27</td><td>1839</td><td>1845</td><td> -6</td><td>2038</td><td>2137</td><td>-59</td><td>9E</td><td>3369</td><td>N919XJ</td><td>JFK</td><td>MSY</td><td>166</td><td>1182</td><td>18</td><td>45</td><td>2013-01-27 18:00:00</td></tr>\n",
              "\t<tr><td>2013</td><td>1</td><td>26</td><td>1651</td><td>1659</td><td> -8</td><td>1946</td><td>2044</td><td>-58</td><td>9E</td><td>3375</td><td>N930XJ</td><td>JFK</td><td>SAT</td><td>214</td><td>1587</td><td>16</td><td>59</td><td>2013-01-26 16:00:00</td></tr>\n",
              "\t<tr><td>2013</td><td>1</td><td> 2</td><td> 857</td><td> 900</td><td> -3</td><td>1130</td><td>1227</td><td>-57</td><td>DL</td><td> 120</td><td>N710TW</td><td>JFK</td><td>LAX</td><td>310</td><td>2475</td><td> 9</td><td> 0</td><td>2013-01-02 09:00:00</td></tr>\n",
              "\t<tr><td>2013</td><td>1</td><td> 3</td><td>1957</td><td>1945</td><td> 12</td><td>2232</td><td>2329</td><td>-57</td><td>B6</td><td> 645</td><td>N793JB</td><td>JFK</td><td>SFO</td><td>315</td><td>2586</td><td>19</td><td>45</td><td>2013-01-03 19:00:00</td></tr>\n",
              "\t<tr><td>2013</td><td>1</td><td> 4</td><td> 650</td><td> 655</td><td> -5</td><td> 933</td><td>1030</td><td>-57</td><td>DL</td><td>1415</td><td>N397DA</td><td>JFK</td><td>SLC</td><td>265</td><td>1990</td><td> 6</td><td>55</td><td>2013-01-04 06:00:00</td></tr>\n",
              "\t<tr><td>2013</td><td>1</td><td> 4</td><td> 829</td><td> 830</td><td> -1</td><td>1113</td><td>1210</td><td>-57</td><td>UA</td><td>1480</td><td>N36207</td><td>EWR</td><td>SFO</td><td>326</td><td>2565</td><td> 8</td><td>30</td><td>2013-01-04 08:00:00</td></tr>\n",
              "\t<tr><td>2013</td><td>1</td><td> 4</td><td>1657</td><td>1700</td><td> -3</td><td>1952</td><td>2049</td><td>-57</td><td>DL</td><td>  31</td><td>N722TW</td><td>JFK</td><td>SFO</td><td>326</td><td>2586</td><td>17</td><td> 0</td><td>2013-01-04 17:00:00</td></tr>\n",
              "\t<tr><td>2013</td><td>1</td><td>30</td><td>1915</td><td>1915</td><td>  0</td><td>2133</td><td>2230</td><td>-57</td><td>DL</td><td>1729</td><td>N3754A</td><td>JFK</td><td>LAS</td><td>294</td><td>2248</td><td>19</td><td>15</td><td>2013-01-30 19:00:00</td></tr>\n",
              "\t<tr><td>2013</td><td>1</td><td> 3</td><td>1806</td><td>1810</td><td> -4</td><td>2036</td><td>2132</td><td>-56</td><td>B6</td><td> 217</td><td>N559JB</td><td>JFK</td><td>LGB</td><td>293</td><td>2465</td><td>18</td><td>10</td><td>2013-01-03 18:00:00</td></tr>\n",
              "\t<tr><td>2013</td><td>1</td><td> 3</td><td>1919</td><td>1920</td><td> -1</td><td>2219</td><td>2315</td><td>-56</td><td>DL</td><td>1345</td><td>N3769L</td><td>JFK</td><td>PHX</td><td>273</td><td>2153</td><td>19</td><td>20</td><td>2013-01-03 19:00:00</td></tr>\n",
              "\t<tr><td>2013</td><td>1</td><td>14</td><td>1838</td><td>1850</td><td>-12</td><td>2116</td><td>2212</td><td>-56</td><td>DL</td><td>2159</td><td>N384DA</td><td>JFK</td><td>MCO</td><td>135</td><td> 944</td><td>18</td><td>50</td><td>2013-01-14 18:00:00</td></tr>\n",
              "\t<tr><td>2013</td><td>1</td><td> 2</td><td>1240</td><td>1245</td><td> -5</td><td>1521</td><td>1616</td><td>-55</td><td>DL</td><td>2174</td><td>N3751B</td><td>JFK</td><td>SLC</td><td>264</td><td>1990</td><td>12</td><td>45</td><td>2013-01-02 12:00:00</td></tr>\n",
              "\t<tr><td>2013</td><td>1</td><td> 4</td><td>1118</td><td>1130</td><td>-12</td><td>1350</td><td>1445</td><td>-55</td><td>UA</td><td> 703</td><td>N512UA</td><td>JFK</td><td>LAX</td><td>309</td><td>2475</td><td>11</td><td>30</td><td>2013-01-04 11:00:00</td></tr>\n",
              "\t<tr><td>2013</td><td>1</td><td> 8</td><td>1847</td><td>1850</td><td> -3</td><td>2117</td><td>2212</td><td>-55</td><td>DL</td><td>2159</td><td>N386DA</td><td>JFK</td><td>MCO</td><td>132</td><td> 944</td><td>18</td><td>50</td><td>2013-01-08 18:00:00</td></tr>\n",
              "\t<tr><td>2013</td><td>1</td><td>11</td><td>1845</td><td>1850</td><td> -5</td><td>2117</td><td>2212</td><td>-55</td><td>DL</td><td>2159</td><td>N3768 </td><td>JFK</td><td>MCO</td><td>125</td><td> 944</td><td>18</td><td>50</td><td>2013-01-11 18:00:00</td></tr>\n",
              "\t<tr><td>2013</td><td>1</td><td>13</td><td> 723</td><td> 730</td><td> -7</td><td>1020</td><td>1115</td><td>-55</td><td>VX</td><td>  11</td><td>N841VA</td><td>JFK</td><td>SFO</td><td>339</td><td>2586</td><td> 7</td><td>30</td><td>2013-01-13 07:00:00</td></tr>\n",
              "\t<tr><td>⋮</td><td>⋮</td><td>⋮</td><td>⋮</td><td>⋮</td><td>⋮</td><td>⋮</td><td>⋮</td><td>⋮</td><td>⋮</td><td>⋮</td><td>⋮</td><td>⋮</td><td>⋮</td><td>⋮</td><td>⋮</td><td>⋮</td><td>⋮</td><td>⋮</td></tr>\n",
              "\t<tr><td>2013</td><td>12</td><td>30</td><td>  NA</td><td>1635</td><td>NA</td><td> NA</td><td>1825</td><td>NA</td><td>AA</td><td> 343</td><td>N4XVAA</td><td>LGA</td><td>ORD</td><td>NA</td><td> 733</td><td>16</td><td>35</td><td>2013-12-30 16:00:00</td></tr>\n",
              "\t<tr><td>2013</td><td>12</td><td>30</td><td>  NA</td><td> 600</td><td>NA</td><td> NA</td><td> 855</td><td>NA</td><td>B6</td><td> 605</td><td>N708JB</td><td>EWR</td><td>FLL</td><td>NA</td><td>1065</td><td> 6</td><td> 0</td><td>2013-12-30 06:00:00</td></tr>\n",
              "\t<tr><td>2013</td><td>12</td><td>30</td><td>  NA</td><td>1430</td><td>NA</td><td> NA</td><td>1626</td><td>NA</td><td>EV</td><td>4261</td><td>N27200</td><td>LGA</td><td>CLE</td><td>NA</td><td> 419</td><td>14</td><td>30</td><td>2013-12-30 14:00:00</td></tr>\n",
              "\t<tr><td>2013</td><td>12</td><td>30</td><td>  NA</td><td>1350</td><td>NA</td><td> NA</td><td>1602</td><td>NA</td><td>EV</td><td>4193</td><td>N36915</td><td>EWR</td><td>MSP</td><td>NA</td><td>1008</td><td>13</td><td>50</td><td>2013-12-30 13:00:00</td></tr>\n",
              "\t<tr><td>2013</td><td>12</td><td>30</td><td>  NA</td><td>1452</td><td>NA</td><td> NA</td><td>1559</td><td>NA</td><td>EV</td><td>4372</td><td>N14573</td><td>EWR</td><td>DCA</td><td>NA</td><td> 199</td><td>14</td><td>52</td><td>2013-12-30 14:00:00</td></tr>\n",
              "\t<tr><td>2013</td><td>12</td><td>30</td><td>  NA</td><td>1935</td><td>NA</td><td> NA</td><td>2055</td><td>NA</td><td>EV</td><td>5714</td><td>N832AS</td><td>JFK</td><td>IAD</td><td>NA</td><td> 228</td><td>19</td><td>35</td><td>2013-12-30 19:00:00</td></tr>\n",
              "\t<tr><td>2013</td><td>12</td><td>30</td><td>  NA</td><td>1011</td><td>NA</td><td> NA</td><td>1134</td><td>NA</td><td>EV</td><td>6054</td><td>N16919</td><td>EWR</td><td>IAD</td><td>NA</td><td> 212</td><td>10</td><td>11</td><td>2013-12-30 10:00:00</td></tr>\n",
              "\t<tr><td>2013</td><td>12</td><td>30</td><td>  NA</td><td> 605</td><td>NA</td><td> NA</td><td> 723</td><td>NA</td><td>EV</td><td>6177</td><td>N13553</td><td>EWR</td><td>IAD</td><td>NA</td><td> 212</td><td> 6</td><td> 5</td><td>2013-12-30 06:00:00</td></tr>\n",
              "\t<tr><td>2013</td><td>12</td><td>30</td><td>  NA</td><td>1505</td><td>NA</td><td> NA</td><td>1759</td><td>NA</td><td>UA</td><td> 321</td><td>NA    </td><td>EWR</td><td>MCO</td><td>NA</td><td> 937</td><td>15</td><td> 5</td><td>2013-12-30 15:00:00</td></tr>\n",
              "\t<tr><td>2013</td><td>12</td><td>30</td><td>  NA</td><td>1355</td><td>NA</td><td> NA</td><td>1535</td><td>NA</td><td>MQ</td><td>3305</td><td>N821MQ</td><td>LGA</td><td>RDU</td><td>NA</td><td> 431</td><td>13</td><td>55</td><td>2013-12-30 13:00:00</td></tr>\n",
              "\t<tr><td>2013</td><td>12</td><td>30</td><td>  NA</td><td>2100</td><td>NA</td><td> NA</td><td>  48</td><td>NA</td><td>UA</td><td>1081</td><td>NA    </td><td>EWR</td><td>SFO</td><td>NA</td><td>2565</td><td>21</td><td> 0</td><td>2013-12-30 21:00:00</td></tr>\n",
              "\t<tr><td>2013</td><td>12</td><td>30</td><td>  NA</td><td>1221</td><td>NA</td><td> NA</td><td>1545</td><td>NA</td><td>UA</td><td>1297</td><td>NA    </td><td>EWR</td><td>SNA</td><td>NA</td><td>2434</td><td>12</td><td>21</td><td>2013-12-30 12:00:00</td></tr>\n",
              "\t<tr><td>2013</td><td>12</td><td>30</td><td>  NA</td><td> 855</td><td>NA</td><td> NA</td><td>1142</td><td>NA</td><td>UA</td><td>1506</td><td>NA    </td><td>EWR</td><td>JAC</td><td>NA</td><td>1874</td><td> 8</td><td>55</td><td>2013-12-30 08:00:00</td></tr>\n",
              "\t<tr><td>2013</td><td>12</td><td>31</td><td>2155</td><td>2039</td><td>76</td><td>253</td><td>2355</td><td>NA</td><td>B6</td><td>1205</td><td>N627JB</td><td>JFK</td><td>PDX</td><td>NA</td><td>2454</td><td>20</td><td>39</td><td>2013-12-31 20:00:00</td></tr>\n",
              "\t<tr><td>2013</td><td>12</td><td>31</td><td>  NA</td><td>1520</td><td>NA</td><td> NA</td><td>1705</td><td>NA</td><td>AA</td><td> 341</td><td>N568AA</td><td>LGA</td><td>ORD</td><td>NA</td><td> 733</td><td>15</td><td>20</td><td>2013-12-31 15:00:00</td></tr>\n",
              "\t<tr><td>2013</td><td>12</td><td>31</td><td>  NA</td><td>2025</td><td>NA</td><td> NA</td><td>2205</td><td>NA</td><td>AA</td><td> 371</td><td>N482AA</td><td>LGA</td><td>ORD</td><td>NA</td><td> 733</td><td>20</td><td>25</td><td>2013-12-31 20:00:00</td></tr>\n",
              "\t<tr><td>2013</td><td>12</td><td>31</td><td>  NA</td><td>1932</td><td>NA</td><td> NA</td><td>2305</td><td>NA</td><td>B6</td><td> 161</td><td>N516JB</td><td>JFK</td><td>SMF</td><td>NA</td><td>2521</td><td>19</td><td>32</td><td>2013-12-31 19:00:00</td></tr>\n",
              "\t<tr><td>2013</td><td>12</td><td>31</td><td>  NA</td><td>1505</td><td>NA</td><td> NA</td><td>1725</td><td>NA</td><td>EV</td><td>4181</td><td>N24103</td><td>EWR</td><td>MCI</td><td>NA</td><td>1092</td><td>15</td><td> 5</td><td>2013-12-31 15:00:00</td></tr>\n",
              "\t<tr><td>2013</td><td>12</td><td>31</td><td>  NA</td><td>1000</td><td>NA</td><td> NA</td><td>1252</td><td>NA</td><td>UA</td><td>1124</td><td>NA    </td><td>EWR</td><td>EGE</td><td>NA</td><td>1725</td><td>10</td><td> 0</td><td>2013-12-31 10:00:00</td></tr>\n",
              "\t<tr><td>2013</td><td>12</td><td>31</td><td>  NA</td><td> 840</td><td>NA</td><td> NA</td><td>1205</td><td>NA</td><td>UA</td><td>1151</td><td>NA    </td><td>EWR</td><td>SEA</td><td>NA</td><td>2402</td><td> 8</td><td>40</td><td>2013-12-31 08:00:00</td></tr>\n",
              "\t<tr><td>2013</td><td>12</td><td>31</td><td>  NA</td><td> 754</td><td>NA</td><td> NA</td><td>1118</td><td>NA</td><td>UA</td><td>1455</td><td>NA    </td><td>EWR</td><td>LAX</td><td>NA</td><td>2454</td><td> 7</td><td>54</td><td>2013-12-31 07:00:00</td></tr>\n",
              "\t<tr><td>2013</td><td>12</td><td>31</td><td>  NA</td><td>2000</td><td>NA</td><td> NA</td><td>2146</td><td>NA</td><td>UA</td><td>1482</td><td>NA    </td><td>EWR</td><td>ORD</td><td>NA</td><td> 719</td><td>20</td><td> 0</td><td>2013-12-31 20:00:00</td></tr>\n",
              "\t<tr><td>2013</td><td>12</td><td>31</td><td>  NA</td><td>1500</td><td>NA</td><td> NA</td><td>1817</td><td>NA</td><td>UA</td><td>1483</td><td>NA    </td><td>EWR</td><td>AUS</td><td>NA</td><td>1504</td><td>15</td><td> 0</td><td>2013-12-31 15:00:00</td></tr>\n",
              "\t<tr><td>2013</td><td>12</td><td>31</td><td>  NA</td><td>1430</td><td>NA</td><td> NA</td><td>1750</td><td>NA</td><td>UA</td><td>1493</td><td>NA    </td><td>EWR</td><td>LAX</td><td>NA</td><td>2454</td><td>14</td><td>30</td><td>2013-12-31 14:00:00</td></tr>\n",
              "\t<tr><td>2013</td><td>12</td><td>31</td><td>  NA</td><td> 855</td><td>NA</td><td> NA</td><td>1142</td><td>NA</td><td>UA</td><td>1506</td><td>NA    </td><td>EWR</td><td>JAC</td><td>NA</td><td>1874</td><td> 8</td><td>55</td><td>2013-12-31 08:00:00</td></tr>\n",
              "\t<tr><td>2013</td><td>12</td><td>31</td><td>  NA</td><td> 705</td><td>NA</td><td> NA</td><td> 931</td><td>NA</td><td>UA</td><td>1729</td><td>NA    </td><td>EWR</td><td>DEN</td><td>NA</td><td>1605</td><td> 7</td><td> 5</td><td>2013-12-31 07:00:00</td></tr>\n",
              "\t<tr><td>2013</td><td>12</td><td>31</td><td>  NA</td><td> 825</td><td>NA</td><td> NA</td><td>1029</td><td>NA</td><td>US</td><td>1831</td><td>NA    </td><td>JFK</td><td>CLT</td><td>NA</td><td> 541</td><td> 8</td><td>25</td><td>2013-12-31 08:00:00</td></tr>\n",
              "\t<tr><td>2013</td><td>12</td><td>31</td><td>  NA</td><td>1615</td><td>NA</td><td> NA</td><td>1800</td><td>NA</td><td>MQ</td><td>3301</td><td>N844MQ</td><td>LGA</td><td>RDU</td><td>NA</td><td> 431</td><td>16</td><td>15</td><td>2013-12-31 16:00:00</td></tr>\n",
              "\t<tr><td>2013</td><td>12</td><td>31</td><td>  NA</td><td> 600</td><td>NA</td><td> NA</td><td> 735</td><td>NA</td><td>UA</td><td> 219</td><td>NA    </td><td>EWR</td><td>ORD</td><td>NA</td><td> 719</td><td> 6</td><td> 0</td><td>2013-12-31 06:00:00</td></tr>\n",
              "\t<tr><td>2013</td><td>12</td><td>31</td><td>  NA</td><td> 830</td><td>NA</td><td> NA</td><td>1154</td><td>NA</td><td>UA</td><td> 443</td><td>NA    </td><td>JFK</td><td>LAX</td><td>NA</td><td>2475</td><td> 8</td><td>30</td><td>2013-12-31 08:00:00</td></tr>\n",
              "</tbody>\n",
              "</table>\n"
            ],
            "text/markdown": "\nA data.frame: 336776 × 19\n\n| year &lt;int&gt; | month &lt;int&gt; | day &lt;int&gt; | dep_time &lt;int&gt; | sched_dep_time &lt;int&gt; | dep_delay &lt;int&gt; | arr_time &lt;int&gt; | sched_arr_time &lt;int&gt; | arr_delay &lt;int&gt; | carrier &lt;chr&gt; | flight &lt;int&gt; | tailnum &lt;chr&gt; | origin &lt;chr&gt; | dest &lt;chr&gt; | air_time &lt;int&gt; | distance &lt;int&gt; | hour &lt;int&gt; | minute &lt;int&gt; | time_hour &lt;chr&gt; |\n|---|---|---|---|---|---|---|---|---|---|---|---|---|---|---|---|---|---|---|\n| 2013 | 1 |  4 | 1026 | 1030 |  -4 | 1305 | 1415 | -70 | VX |   23 | N855VA | JFK | SFO | 324 | 2586 | 10 | 30 | 2013-01-04 10:00:00 |\n| 2013 | 1 |  3 |  941 |  945 |  -4 | 1153 | 1258 | -65 | B6 |  679 | N789JB | JFK | LAX | 297 | 2475 |  9 | 45 | 2013-01-03 09:00:00 |\n| 2013 | 1 | 14 | 1840 | 1845 |  -5 | 2117 | 2221 | -64 | DL | 2190 | N324US | JFK | MIA | 146 | 1089 | 18 | 45 | 2013-01-14 18:00:00 |\n| 2013 | 1 |  3 | 1153 | 1200 |  -7 | 1442 | 1545 | -63 | VX |   25 | N847VA | JFK | SFO | 333 | 2586 | 12 |  0 | 2013-01-03 12:00:00 |\n| 2013 | 1 |  3 | 1228 | 1235 |  -7 | 1503 | 1606 | -63 | DL | 2174 | N389DA | JFK | SLC | 260 | 1990 | 12 | 35 | 2013-01-03 12:00:00 |\n| 2013 | 1 | 27 | 1845 | 1850 |  -5 | 2110 | 2212 | -62 | DL | 2159 | N398DA | JFK | MCO | 127 |  944 | 18 | 50 | 2013-01-27 18:00:00 |\n| 2013 | 1 |  3 | 1605 | 1610 |  -5 | 1816 | 1917 | -61 | DL |   91 | N3740C | JFK | LAS | 282 | 2248 | 16 | 10 | 2013-01-03 16:00:00 |\n| 2013 | 1 |  3 | 1857 | 1900 |  -3 | 2200 | 2301 | -61 | DL | 1465 | N722TW | JFK | SFO | 329 | 2586 | 19 |  0 | 2013-01-03 19:00:00 |\n| 2013 | 1 |  4 | 1219 | 1221 |  -2 | 1454 | 1555 | -61 | UA |  551 | N830UA | EWR | SFO | 313 | 2565 | 12 | 21 | 2013-01-04 12:00:00 |\n| 2013 | 1 |  6 |  812 |  819 |  -7 | 1102 | 1203 | -61 | UA |  665 | N805UA | EWR | SFO | 336 | 2565 |  8 | 19 | 2013-01-06 08:00:00 |\n| 2013 | 1 | 12 |  913 |  920 |  -7 | 1347 | 1448 | -61 | DL |  675 | N711ZX | JFK | STT | 181 | 1623 |  9 | 20 | 2013-01-12 09:00:00 |\n| 2013 | 1 |  3 | 1920 | 1920 |   0 | 2158 | 2258 | -60 | DL |    6 | N3768  | JFK | SLC | 250 | 1990 | 19 | 20 | 2013-01-03 19:00:00 |\n| 2013 | 1 |  2 |  654 |  700 |  -6 |  946 | 1045 | -59 | DL | 1865 | N711ZX | JFK | SFO | 323 | 2586 |  7 |  0 | 2013-01-02 07:00:00 |\n| 2013 | 1 |  3 | 1626 | 1630 |  -4 | 1853 | 1952 | -59 | B6 |  675 | N652JB | JFK | LAX | 301 | 2475 | 16 | 30 | 2013-01-03 16:00:00 |\n| 2013 | 1 | 27 | 1839 | 1845 |  -6 | 2038 | 2137 | -59 | 9E | 3369 | N919XJ | JFK | MSY | 166 | 1182 | 18 | 45 | 2013-01-27 18:00:00 |\n| 2013 | 1 | 26 | 1651 | 1659 |  -8 | 1946 | 2044 | -58 | 9E | 3375 | N930XJ | JFK | SAT | 214 | 1587 | 16 | 59 | 2013-01-26 16:00:00 |\n| 2013 | 1 |  2 |  857 |  900 |  -3 | 1130 | 1227 | -57 | DL |  120 | N710TW | JFK | LAX | 310 | 2475 |  9 |  0 | 2013-01-02 09:00:00 |\n| 2013 | 1 |  3 | 1957 | 1945 |  12 | 2232 | 2329 | -57 | B6 |  645 | N793JB | JFK | SFO | 315 | 2586 | 19 | 45 | 2013-01-03 19:00:00 |\n| 2013 | 1 |  4 |  650 |  655 |  -5 |  933 | 1030 | -57 | DL | 1415 | N397DA | JFK | SLC | 265 | 1990 |  6 | 55 | 2013-01-04 06:00:00 |\n| 2013 | 1 |  4 |  829 |  830 |  -1 | 1113 | 1210 | -57 | UA | 1480 | N36207 | EWR | SFO | 326 | 2565 |  8 | 30 | 2013-01-04 08:00:00 |\n| 2013 | 1 |  4 | 1657 | 1700 |  -3 | 1952 | 2049 | -57 | DL |   31 | N722TW | JFK | SFO | 326 | 2586 | 17 |  0 | 2013-01-04 17:00:00 |\n| 2013 | 1 | 30 | 1915 | 1915 |   0 | 2133 | 2230 | -57 | DL | 1729 | N3754A | JFK | LAS | 294 | 2248 | 19 | 15 | 2013-01-30 19:00:00 |\n| 2013 | 1 |  3 | 1806 | 1810 |  -4 | 2036 | 2132 | -56 | B6 |  217 | N559JB | JFK | LGB | 293 | 2465 | 18 | 10 | 2013-01-03 18:00:00 |\n| 2013 | 1 |  3 | 1919 | 1920 |  -1 | 2219 | 2315 | -56 | DL | 1345 | N3769L | JFK | PHX | 273 | 2153 | 19 | 20 | 2013-01-03 19:00:00 |\n| 2013 | 1 | 14 | 1838 | 1850 | -12 | 2116 | 2212 | -56 | DL | 2159 | N384DA | JFK | MCO | 135 |  944 | 18 | 50 | 2013-01-14 18:00:00 |\n| 2013 | 1 |  2 | 1240 | 1245 |  -5 | 1521 | 1616 | -55 | DL | 2174 | N3751B | JFK | SLC | 264 | 1990 | 12 | 45 | 2013-01-02 12:00:00 |\n| 2013 | 1 |  4 | 1118 | 1130 | -12 | 1350 | 1445 | -55 | UA |  703 | N512UA | JFK | LAX | 309 | 2475 | 11 | 30 | 2013-01-04 11:00:00 |\n| 2013 | 1 |  8 | 1847 | 1850 |  -3 | 2117 | 2212 | -55 | DL | 2159 | N386DA | JFK | MCO | 132 |  944 | 18 | 50 | 2013-01-08 18:00:00 |\n| 2013 | 1 | 11 | 1845 | 1850 |  -5 | 2117 | 2212 | -55 | DL | 2159 | N3768  | JFK | MCO | 125 |  944 | 18 | 50 | 2013-01-11 18:00:00 |\n| 2013 | 1 | 13 |  723 |  730 |  -7 | 1020 | 1115 | -55 | VX |   11 | N841VA | JFK | SFO | 339 | 2586 |  7 | 30 | 2013-01-13 07:00:00 |\n| ⋮ | ⋮ | ⋮ | ⋮ | ⋮ | ⋮ | ⋮ | ⋮ | ⋮ | ⋮ | ⋮ | ⋮ | ⋮ | ⋮ | ⋮ | ⋮ | ⋮ | ⋮ | ⋮ |\n| 2013 | 12 | 30 |   NA | 1635 | NA |  NA | 1825 | NA | AA |  343 | N4XVAA | LGA | ORD | NA |  733 | 16 | 35 | 2013-12-30 16:00:00 |\n| 2013 | 12 | 30 |   NA |  600 | NA |  NA |  855 | NA | B6 |  605 | N708JB | EWR | FLL | NA | 1065 |  6 |  0 | 2013-12-30 06:00:00 |\n| 2013 | 12 | 30 |   NA | 1430 | NA |  NA | 1626 | NA | EV | 4261 | N27200 | LGA | CLE | NA |  419 | 14 | 30 | 2013-12-30 14:00:00 |\n| 2013 | 12 | 30 |   NA | 1350 | NA |  NA | 1602 | NA | EV | 4193 | N36915 | EWR | MSP | NA | 1008 | 13 | 50 | 2013-12-30 13:00:00 |\n| 2013 | 12 | 30 |   NA | 1452 | NA |  NA | 1559 | NA | EV | 4372 | N14573 | EWR | DCA | NA |  199 | 14 | 52 | 2013-12-30 14:00:00 |\n| 2013 | 12 | 30 |   NA | 1935 | NA |  NA | 2055 | NA | EV | 5714 | N832AS | JFK | IAD | NA |  228 | 19 | 35 | 2013-12-30 19:00:00 |\n| 2013 | 12 | 30 |   NA | 1011 | NA |  NA | 1134 | NA | EV | 6054 | N16919 | EWR | IAD | NA |  212 | 10 | 11 | 2013-12-30 10:00:00 |\n| 2013 | 12 | 30 |   NA |  605 | NA |  NA |  723 | NA | EV | 6177 | N13553 | EWR | IAD | NA |  212 |  6 |  5 | 2013-12-30 06:00:00 |\n| 2013 | 12 | 30 |   NA | 1505 | NA |  NA | 1759 | NA | UA |  321 | NA     | EWR | MCO | NA |  937 | 15 |  5 | 2013-12-30 15:00:00 |\n| 2013 | 12 | 30 |   NA | 1355 | NA |  NA | 1535 | NA | MQ | 3305 | N821MQ | LGA | RDU | NA |  431 | 13 | 55 | 2013-12-30 13:00:00 |\n| 2013 | 12 | 30 |   NA | 2100 | NA |  NA |   48 | NA | UA | 1081 | NA     | EWR | SFO | NA | 2565 | 21 |  0 | 2013-12-30 21:00:00 |\n| 2013 | 12 | 30 |   NA | 1221 | NA |  NA | 1545 | NA | UA | 1297 | NA     | EWR | SNA | NA | 2434 | 12 | 21 | 2013-12-30 12:00:00 |\n| 2013 | 12 | 30 |   NA |  855 | NA |  NA | 1142 | NA | UA | 1506 | NA     | EWR | JAC | NA | 1874 |  8 | 55 | 2013-12-30 08:00:00 |\n| 2013 | 12 | 31 | 2155 | 2039 | 76 | 253 | 2355 | NA | B6 | 1205 | N627JB | JFK | PDX | NA | 2454 | 20 | 39 | 2013-12-31 20:00:00 |\n| 2013 | 12 | 31 |   NA | 1520 | NA |  NA | 1705 | NA | AA |  341 | N568AA | LGA | ORD | NA |  733 | 15 | 20 | 2013-12-31 15:00:00 |\n| 2013 | 12 | 31 |   NA | 2025 | NA |  NA | 2205 | NA | AA |  371 | N482AA | LGA | ORD | NA |  733 | 20 | 25 | 2013-12-31 20:00:00 |\n| 2013 | 12 | 31 |   NA | 1932 | NA |  NA | 2305 | NA | B6 |  161 | N516JB | JFK | SMF | NA | 2521 | 19 | 32 | 2013-12-31 19:00:00 |\n| 2013 | 12 | 31 |   NA | 1505 | NA |  NA | 1725 | NA | EV | 4181 | N24103 | EWR | MCI | NA | 1092 | 15 |  5 | 2013-12-31 15:00:00 |\n| 2013 | 12 | 31 |   NA | 1000 | NA |  NA | 1252 | NA | UA | 1124 | NA     | EWR | EGE | NA | 1725 | 10 |  0 | 2013-12-31 10:00:00 |\n| 2013 | 12 | 31 |   NA |  840 | NA |  NA | 1205 | NA | UA | 1151 | NA     | EWR | SEA | NA | 2402 |  8 | 40 | 2013-12-31 08:00:00 |\n| 2013 | 12 | 31 |   NA |  754 | NA |  NA | 1118 | NA | UA | 1455 | NA     | EWR | LAX | NA | 2454 |  7 | 54 | 2013-12-31 07:00:00 |\n| 2013 | 12 | 31 |   NA | 2000 | NA |  NA | 2146 | NA | UA | 1482 | NA     | EWR | ORD | NA |  719 | 20 |  0 | 2013-12-31 20:00:00 |\n| 2013 | 12 | 31 |   NA | 1500 | NA |  NA | 1817 | NA | UA | 1483 | NA     | EWR | AUS | NA | 1504 | 15 |  0 | 2013-12-31 15:00:00 |\n| 2013 | 12 | 31 |   NA | 1430 | NA |  NA | 1750 | NA | UA | 1493 | NA     | EWR | LAX | NA | 2454 | 14 | 30 | 2013-12-31 14:00:00 |\n| 2013 | 12 | 31 |   NA |  855 | NA |  NA | 1142 | NA | UA | 1506 | NA     | EWR | JAC | NA | 1874 |  8 | 55 | 2013-12-31 08:00:00 |\n| 2013 | 12 | 31 |   NA |  705 | NA |  NA |  931 | NA | UA | 1729 | NA     | EWR | DEN | NA | 1605 |  7 |  5 | 2013-12-31 07:00:00 |\n| 2013 | 12 | 31 |   NA |  825 | NA |  NA | 1029 | NA | US | 1831 | NA     | JFK | CLT | NA |  541 |  8 | 25 | 2013-12-31 08:00:00 |\n| 2013 | 12 | 31 |   NA | 1615 | NA |  NA | 1800 | NA | MQ | 3301 | N844MQ | LGA | RDU | NA |  431 | 16 | 15 | 2013-12-31 16:00:00 |\n| 2013 | 12 | 31 |   NA |  600 | NA |  NA |  735 | NA | UA |  219 | NA     | EWR | ORD | NA |  719 |  6 |  0 | 2013-12-31 06:00:00 |\n| 2013 | 12 | 31 |   NA |  830 | NA |  NA | 1154 | NA | UA |  443 | NA     | JFK | LAX | NA | 2475 |  8 | 30 | 2013-12-31 08:00:00 |\n\n",
            "text/latex": "A data.frame: 336776 × 19\n\\begin{tabular}{lllllllllllllllllll}\n year & month & day & dep\\_time & sched\\_dep\\_time & dep\\_delay & arr\\_time & sched\\_arr\\_time & arr\\_delay & carrier & flight & tailnum & origin & dest & air\\_time & distance & hour & minute & time\\_hour\\\\\n <int> & <int> & <int> & <int> & <int> & <int> & <int> & <int> & <int> & <chr> & <int> & <chr> & <chr> & <chr> & <int> & <int> & <int> & <int> & <chr>\\\\\n\\hline\n\t 2013 & 1 &  4 & 1026 & 1030 &  -4 & 1305 & 1415 & -70 & VX &   23 & N855VA & JFK & SFO & 324 & 2586 & 10 & 30 & 2013-01-04 10:00:00\\\\\n\t 2013 & 1 &  3 &  941 &  945 &  -4 & 1153 & 1258 & -65 & B6 &  679 & N789JB & JFK & LAX & 297 & 2475 &  9 & 45 & 2013-01-03 09:00:00\\\\\n\t 2013 & 1 & 14 & 1840 & 1845 &  -5 & 2117 & 2221 & -64 & DL & 2190 & N324US & JFK & MIA & 146 & 1089 & 18 & 45 & 2013-01-14 18:00:00\\\\\n\t 2013 & 1 &  3 & 1153 & 1200 &  -7 & 1442 & 1545 & -63 & VX &   25 & N847VA & JFK & SFO & 333 & 2586 & 12 &  0 & 2013-01-03 12:00:00\\\\\n\t 2013 & 1 &  3 & 1228 & 1235 &  -7 & 1503 & 1606 & -63 & DL & 2174 & N389DA & JFK & SLC & 260 & 1990 & 12 & 35 & 2013-01-03 12:00:00\\\\\n\t 2013 & 1 & 27 & 1845 & 1850 &  -5 & 2110 & 2212 & -62 & DL & 2159 & N398DA & JFK & MCO & 127 &  944 & 18 & 50 & 2013-01-27 18:00:00\\\\\n\t 2013 & 1 &  3 & 1605 & 1610 &  -5 & 1816 & 1917 & -61 & DL &   91 & N3740C & JFK & LAS & 282 & 2248 & 16 & 10 & 2013-01-03 16:00:00\\\\\n\t 2013 & 1 &  3 & 1857 & 1900 &  -3 & 2200 & 2301 & -61 & DL & 1465 & N722TW & JFK & SFO & 329 & 2586 & 19 &  0 & 2013-01-03 19:00:00\\\\\n\t 2013 & 1 &  4 & 1219 & 1221 &  -2 & 1454 & 1555 & -61 & UA &  551 & N830UA & EWR & SFO & 313 & 2565 & 12 & 21 & 2013-01-04 12:00:00\\\\\n\t 2013 & 1 &  6 &  812 &  819 &  -7 & 1102 & 1203 & -61 & UA &  665 & N805UA & EWR & SFO & 336 & 2565 &  8 & 19 & 2013-01-06 08:00:00\\\\\n\t 2013 & 1 & 12 &  913 &  920 &  -7 & 1347 & 1448 & -61 & DL &  675 & N711ZX & JFK & STT & 181 & 1623 &  9 & 20 & 2013-01-12 09:00:00\\\\\n\t 2013 & 1 &  3 & 1920 & 1920 &   0 & 2158 & 2258 & -60 & DL &    6 & N3768  & JFK & SLC & 250 & 1990 & 19 & 20 & 2013-01-03 19:00:00\\\\\n\t 2013 & 1 &  2 &  654 &  700 &  -6 &  946 & 1045 & -59 & DL & 1865 & N711ZX & JFK & SFO & 323 & 2586 &  7 &  0 & 2013-01-02 07:00:00\\\\\n\t 2013 & 1 &  3 & 1626 & 1630 &  -4 & 1853 & 1952 & -59 & B6 &  675 & N652JB & JFK & LAX & 301 & 2475 & 16 & 30 & 2013-01-03 16:00:00\\\\\n\t 2013 & 1 & 27 & 1839 & 1845 &  -6 & 2038 & 2137 & -59 & 9E & 3369 & N919XJ & JFK & MSY & 166 & 1182 & 18 & 45 & 2013-01-27 18:00:00\\\\\n\t 2013 & 1 & 26 & 1651 & 1659 &  -8 & 1946 & 2044 & -58 & 9E & 3375 & N930XJ & JFK & SAT & 214 & 1587 & 16 & 59 & 2013-01-26 16:00:00\\\\\n\t 2013 & 1 &  2 &  857 &  900 &  -3 & 1130 & 1227 & -57 & DL &  120 & N710TW & JFK & LAX & 310 & 2475 &  9 &  0 & 2013-01-02 09:00:00\\\\\n\t 2013 & 1 &  3 & 1957 & 1945 &  12 & 2232 & 2329 & -57 & B6 &  645 & N793JB & JFK & SFO & 315 & 2586 & 19 & 45 & 2013-01-03 19:00:00\\\\\n\t 2013 & 1 &  4 &  650 &  655 &  -5 &  933 & 1030 & -57 & DL & 1415 & N397DA & JFK & SLC & 265 & 1990 &  6 & 55 & 2013-01-04 06:00:00\\\\\n\t 2013 & 1 &  4 &  829 &  830 &  -1 & 1113 & 1210 & -57 & UA & 1480 & N36207 & EWR & SFO & 326 & 2565 &  8 & 30 & 2013-01-04 08:00:00\\\\\n\t 2013 & 1 &  4 & 1657 & 1700 &  -3 & 1952 & 2049 & -57 & DL &   31 & N722TW & JFK & SFO & 326 & 2586 & 17 &  0 & 2013-01-04 17:00:00\\\\\n\t 2013 & 1 & 30 & 1915 & 1915 &   0 & 2133 & 2230 & -57 & DL & 1729 & N3754A & JFK & LAS & 294 & 2248 & 19 & 15 & 2013-01-30 19:00:00\\\\\n\t 2013 & 1 &  3 & 1806 & 1810 &  -4 & 2036 & 2132 & -56 & B6 &  217 & N559JB & JFK & LGB & 293 & 2465 & 18 & 10 & 2013-01-03 18:00:00\\\\\n\t 2013 & 1 &  3 & 1919 & 1920 &  -1 & 2219 & 2315 & -56 & DL & 1345 & N3769L & JFK & PHX & 273 & 2153 & 19 & 20 & 2013-01-03 19:00:00\\\\\n\t 2013 & 1 & 14 & 1838 & 1850 & -12 & 2116 & 2212 & -56 & DL & 2159 & N384DA & JFK & MCO & 135 &  944 & 18 & 50 & 2013-01-14 18:00:00\\\\\n\t 2013 & 1 &  2 & 1240 & 1245 &  -5 & 1521 & 1616 & -55 & DL & 2174 & N3751B & JFK & SLC & 264 & 1990 & 12 & 45 & 2013-01-02 12:00:00\\\\\n\t 2013 & 1 &  4 & 1118 & 1130 & -12 & 1350 & 1445 & -55 & UA &  703 & N512UA & JFK & LAX & 309 & 2475 & 11 & 30 & 2013-01-04 11:00:00\\\\\n\t 2013 & 1 &  8 & 1847 & 1850 &  -3 & 2117 & 2212 & -55 & DL & 2159 & N386DA & JFK & MCO & 132 &  944 & 18 & 50 & 2013-01-08 18:00:00\\\\\n\t 2013 & 1 & 11 & 1845 & 1850 &  -5 & 2117 & 2212 & -55 & DL & 2159 & N3768  & JFK & MCO & 125 &  944 & 18 & 50 & 2013-01-11 18:00:00\\\\\n\t 2013 & 1 & 13 &  723 &  730 &  -7 & 1020 & 1115 & -55 & VX &   11 & N841VA & JFK & SFO & 339 & 2586 &  7 & 30 & 2013-01-13 07:00:00\\\\\n\t ⋮ & ⋮ & ⋮ & ⋮ & ⋮ & ⋮ & ⋮ & ⋮ & ⋮ & ⋮ & ⋮ & ⋮ & ⋮ & ⋮ & ⋮ & ⋮ & ⋮ & ⋮ & ⋮\\\\\n\t 2013 & 12 & 30 &   NA & 1635 & NA &  NA & 1825 & NA & AA &  343 & N4XVAA & LGA & ORD & NA &  733 & 16 & 35 & 2013-12-30 16:00:00\\\\\n\t 2013 & 12 & 30 &   NA &  600 & NA &  NA &  855 & NA & B6 &  605 & N708JB & EWR & FLL & NA & 1065 &  6 &  0 & 2013-12-30 06:00:00\\\\\n\t 2013 & 12 & 30 &   NA & 1430 & NA &  NA & 1626 & NA & EV & 4261 & N27200 & LGA & CLE & NA &  419 & 14 & 30 & 2013-12-30 14:00:00\\\\\n\t 2013 & 12 & 30 &   NA & 1350 & NA &  NA & 1602 & NA & EV & 4193 & N36915 & EWR & MSP & NA & 1008 & 13 & 50 & 2013-12-30 13:00:00\\\\\n\t 2013 & 12 & 30 &   NA & 1452 & NA &  NA & 1559 & NA & EV & 4372 & N14573 & EWR & DCA & NA &  199 & 14 & 52 & 2013-12-30 14:00:00\\\\\n\t 2013 & 12 & 30 &   NA & 1935 & NA &  NA & 2055 & NA & EV & 5714 & N832AS & JFK & IAD & NA &  228 & 19 & 35 & 2013-12-30 19:00:00\\\\\n\t 2013 & 12 & 30 &   NA & 1011 & NA &  NA & 1134 & NA & EV & 6054 & N16919 & EWR & IAD & NA &  212 & 10 & 11 & 2013-12-30 10:00:00\\\\\n\t 2013 & 12 & 30 &   NA &  605 & NA &  NA &  723 & NA & EV & 6177 & N13553 & EWR & IAD & NA &  212 &  6 &  5 & 2013-12-30 06:00:00\\\\\n\t 2013 & 12 & 30 &   NA & 1505 & NA &  NA & 1759 & NA & UA &  321 & NA     & EWR & MCO & NA &  937 & 15 &  5 & 2013-12-30 15:00:00\\\\\n\t 2013 & 12 & 30 &   NA & 1355 & NA &  NA & 1535 & NA & MQ & 3305 & N821MQ & LGA & RDU & NA &  431 & 13 & 55 & 2013-12-30 13:00:00\\\\\n\t 2013 & 12 & 30 &   NA & 2100 & NA &  NA &   48 & NA & UA & 1081 & NA     & EWR & SFO & NA & 2565 & 21 &  0 & 2013-12-30 21:00:00\\\\\n\t 2013 & 12 & 30 &   NA & 1221 & NA &  NA & 1545 & NA & UA & 1297 & NA     & EWR & SNA & NA & 2434 & 12 & 21 & 2013-12-30 12:00:00\\\\\n\t 2013 & 12 & 30 &   NA &  855 & NA &  NA & 1142 & NA & UA & 1506 & NA     & EWR & JAC & NA & 1874 &  8 & 55 & 2013-12-30 08:00:00\\\\\n\t 2013 & 12 & 31 & 2155 & 2039 & 76 & 253 & 2355 & NA & B6 & 1205 & N627JB & JFK & PDX & NA & 2454 & 20 & 39 & 2013-12-31 20:00:00\\\\\n\t 2013 & 12 & 31 &   NA & 1520 & NA &  NA & 1705 & NA & AA &  341 & N568AA & LGA & ORD & NA &  733 & 15 & 20 & 2013-12-31 15:00:00\\\\\n\t 2013 & 12 & 31 &   NA & 2025 & NA &  NA & 2205 & NA & AA &  371 & N482AA & LGA & ORD & NA &  733 & 20 & 25 & 2013-12-31 20:00:00\\\\\n\t 2013 & 12 & 31 &   NA & 1932 & NA &  NA & 2305 & NA & B6 &  161 & N516JB & JFK & SMF & NA & 2521 & 19 & 32 & 2013-12-31 19:00:00\\\\\n\t 2013 & 12 & 31 &   NA & 1505 & NA &  NA & 1725 & NA & EV & 4181 & N24103 & EWR & MCI & NA & 1092 & 15 &  5 & 2013-12-31 15:00:00\\\\\n\t 2013 & 12 & 31 &   NA & 1000 & NA &  NA & 1252 & NA & UA & 1124 & NA     & EWR & EGE & NA & 1725 & 10 &  0 & 2013-12-31 10:00:00\\\\\n\t 2013 & 12 & 31 &   NA &  840 & NA &  NA & 1205 & NA & UA & 1151 & NA     & EWR & SEA & NA & 2402 &  8 & 40 & 2013-12-31 08:00:00\\\\\n\t 2013 & 12 & 31 &   NA &  754 & NA &  NA & 1118 & NA & UA & 1455 & NA     & EWR & LAX & NA & 2454 &  7 & 54 & 2013-12-31 07:00:00\\\\\n\t 2013 & 12 & 31 &   NA & 2000 & NA &  NA & 2146 & NA & UA & 1482 & NA     & EWR & ORD & NA &  719 & 20 &  0 & 2013-12-31 20:00:00\\\\\n\t 2013 & 12 & 31 &   NA & 1500 & NA &  NA & 1817 & NA & UA & 1483 & NA     & EWR & AUS & NA & 1504 & 15 &  0 & 2013-12-31 15:00:00\\\\\n\t 2013 & 12 & 31 &   NA & 1430 & NA &  NA & 1750 & NA & UA & 1493 & NA     & EWR & LAX & NA & 2454 & 14 & 30 & 2013-12-31 14:00:00\\\\\n\t 2013 & 12 & 31 &   NA &  855 & NA &  NA & 1142 & NA & UA & 1506 & NA     & EWR & JAC & NA & 1874 &  8 & 55 & 2013-12-31 08:00:00\\\\\n\t 2013 & 12 & 31 &   NA &  705 & NA &  NA &  931 & NA & UA & 1729 & NA     & EWR & DEN & NA & 1605 &  7 &  5 & 2013-12-31 07:00:00\\\\\n\t 2013 & 12 & 31 &   NA &  825 & NA &  NA & 1029 & NA & US & 1831 & NA     & JFK & CLT & NA &  541 &  8 & 25 & 2013-12-31 08:00:00\\\\\n\t 2013 & 12 & 31 &   NA & 1615 & NA &  NA & 1800 & NA & MQ & 3301 & N844MQ & LGA & RDU & NA &  431 & 16 & 15 & 2013-12-31 16:00:00\\\\\n\t 2013 & 12 & 31 &   NA &  600 & NA &  NA &  735 & NA & UA &  219 & NA     & EWR & ORD & NA &  719 &  6 &  0 & 2013-12-31 06:00:00\\\\\n\t 2013 & 12 & 31 &   NA &  830 & NA &  NA & 1154 & NA & UA &  443 & NA     & JFK & LAX & NA & 2475 &  8 & 30 & 2013-12-31 08:00:00\\\\\n\\end{tabular}\n",
            "text/plain": [
              "       year month day dep_time sched_dep_time dep_delay arr_time sched_arr_time\n",
              "1      2013 1      4  1026     1030            -4       1305     1415          \n",
              "2      2013 1      3   941      945            -4       1153     1258          \n",
              "3      2013 1     14  1840     1845            -5       2117     2221          \n",
              "4      2013 1      3  1153     1200            -7       1442     1545          \n",
              "5      2013 1      3  1228     1235            -7       1503     1606          \n",
              "6      2013 1     27  1845     1850            -5       2110     2212          \n",
              "7      2013 1      3  1605     1610            -5       1816     1917          \n",
              "8      2013 1      3  1857     1900            -3       2200     2301          \n",
              "9      2013 1      4  1219     1221            -2       1454     1555          \n",
              "10     2013 1      6   812      819            -7       1102     1203          \n",
              "11     2013 1     12   913      920            -7       1347     1448          \n",
              "12     2013 1      3  1920     1920             0       2158     2258          \n",
              "13     2013 1      2   654      700            -6        946     1045          \n",
              "14     2013 1      3  1626     1630            -4       1853     1952          \n",
              "15     2013 1     27  1839     1845            -6       2038     2137          \n",
              "16     2013 1     26  1651     1659            -8       1946     2044          \n",
              "17     2013 1      2   857      900            -3       1130     1227          \n",
              "18     2013 1      3  1957     1945            12       2232     2329          \n",
              "19     2013 1      4   650      655            -5        933     1030          \n",
              "20     2013 1      4   829      830            -1       1113     1210          \n",
              "21     2013 1      4  1657     1700            -3       1952     2049          \n",
              "22     2013 1     30  1915     1915             0       2133     2230          \n",
              "23     2013 1      3  1806     1810            -4       2036     2132          \n",
              "24     2013 1      3  1919     1920            -1       2219     2315          \n",
              "25     2013 1     14  1838     1850           -12       2116     2212          \n",
              "26     2013 1      2  1240     1245            -5       1521     1616          \n",
              "27     2013 1      4  1118     1130           -12       1350     1445          \n",
              "28     2013 1      8  1847     1850            -3       2117     2212          \n",
              "29     2013 1     11  1845     1850            -5       2117     2212          \n",
              "30     2013 1     13   723      730            -7       1020     1115          \n",
              "⋮      ⋮    ⋮     ⋮   ⋮        ⋮              ⋮         ⋮        ⋮             \n",
              "336747 2013 12    30    NA     1635           NA         NA      1825          \n",
              "336748 2013 12    30    NA      600           NA         NA       855          \n",
              "336749 2013 12    30    NA     1430           NA         NA      1626          \n",
              "336750 2013 12    30    NA     1350           NA         NA      1602          \n",
              "336751 2013 12    30    NA     1452           NA         NA      1559          \n",
              "336752 2013 12    30    NA     1935           NA         NA      2055          \n",
              "336753 2013 12    30    NA     1011           NA         NA      1134          \n",
              "336754 2013 12    30    NA      605           NA         NA       723          \n",
              "336755 2013 12    30    NA     1505           NA         NA      1759          \n",
              "336756 2013 12    30    NA     1355           NA         NA      1535          \n",
              "336757 2013 12    30    NA     2100           NA         NA        48          \n",
              "336758 2013 12    30    NA     1221           NA         NA      1545          \n",
              "336759 2013 12    30    NA      855           NA         NA      1142          \n",
              "336760 2013 12    31  2155     2039           76        253      2355          \n",
              "336761 2013 12    31    NA     1520           NA         NA      1705          \n",
              "336762 2013 12    31    NA     2025           NA         NA      2205          \n",
              "336763 2013 12    31    NA     1932           NA         NA      2305          \n",
              "336764 2013 12    31    NA     1505           NA         NA      1725          \n",
              "336765 2013 12    31    NA     1000           NA         NA      1252          \n",
              "336766 2013 12    31    NA      840           NA         NA      1205          \n",
              "336767 2013 12    31    NA      754           NA         NA      1118          \n",
              "336768 2013 12    31    NA     2000           NA         NA      2146          \n",
              "336769 2013 12    31    NA     1500           NA         NA      1817          \n",
              "336770 2013 12    31    NA     1430           NA         NA      1750          \n",
              "336771 2013 12    31    NA      855           NA         NA      1142          \n",
              "336772 2013 12    31    NA      705           NA         NA       931          \n",
              "336773 2013 12    31    NA      825           NA         NA      1029          \n",
              "336774 2013 12    31    NA     1615           NA         NA      1800          \n",
              "336775 2013 12    31    NA      600           NA         NA       735          \n",
              "336776 2013 12    31    NA      830           NA         NA      1154          \n",
              "       arr_delay carrier flight tailnum origin dest air_time distance hour\n",
              "1      -70       VX        23   N855VA  JFK    SFO  324      2586     10  \n",
              "2      -65       B6       679   N789JB  JFK    LAX  297      2475      9  \n",
              "3      -64       DL      2190   N324US  JFK    MIA  146      1089     18  \n",
              "4      -63       VX        25   N847VA  JFK    SFO  333      2586     12  \n",
              "5      -63       DL      2174   N389DA  JFK    SLC  260      1990     12  \n",
              "6      -62       DL      2159   N398DA  JFK    MCO  127       944     18  \n",
              "7      -61       DL        91   N3740C  JFK    LAS  282      2248     16  \n",
              "8      -61       DL      1465   N722TW  JFK    SFO  329      2586     19  \n",
              "9      -61       UA       551   N830UA  EWR    SFO  313      2565     12  \n",
              "10     -61       UA       665   N805UA  EWR    SFO  336      2565      8  \n",
              "11     -61       DL       675   N711ZX  JFK    STT  181      1623      9  \n",
              "12     -60       DL         6   N3768   JFK    SLC  250      1990     19  \n",
              "13     -59       DL      1865   N711ZX  JFK    SFO  323      2586      7  \n",
              "14     -59       B6       675   N652JB  JFK    LAX  301      2475     16  \n",
              "15     -59       9E      3369   N919XJ  JFK    MSY  166      1182     18  \n",
              "16     -58       9E      3375   N930XJ  JFK    SAT  214      1587     16  \n",
              "17     -57       DL       120   N710TW  JFK    LAX  310      2475      9  \n",
              "18     -57       B6       645   N793JB  JFK    SFO  315      2586     19  \n",
              "19     -57       DL      1415   N397DA  JFK    SLC  265      1990      6  \n",
              "20     -57       UA      1480   N36207  EWR    SFO  326      2565      8  \n",
              "21     -57       DL        31   N722TW  JFK    SFO  326      2586     17  \n",
              "22     -57       DL      1729   N3754A  JFK    LAS  294      2248     19  \n",
              "23     -56       B6       217   N559JB  JFK    LGB  293      2465     18  \n",
              "24     -56       DL      1345   N3769L  JFK    PHX  273      2153     19  \n",
              "25     -56       DL      2159   N384DA  JFK    MCO  135       944     18  \n",
              "26     -55       DL      2174   N3751B  JFK    SLC  264      1990     12  \n",
              "27     -55       UA       703   N512UA  JFK    LAX  309      2475     11  \n",
              "28     -55       DL      2159   N386DA  JFK    MCO  132       944     18  \n",
              "29     -55       DL      2159   N3768   JFK    MCO  125       944     18  \n",
              "30     -55       VX        11   N841VA  JFK    SFO  339      2586      7  \n",
              "⋮      ⋮         ⋮       ⋮      ⋮       ⋮      ⋮    ⋮        ⋮        ⋮   \n",
              "336747 NA        AA       343   N4XVAA  LGA    ORD  NA        733     16  \n",
              "336748 NA        B6       605   N708JB  EWR    FLL  NA       1065      6  \n",
              "336749 NA        EV      4261   N27200  LGA    CLE  NA        419     14  \n",
              "336750 NA        EV      4193   N36915  EWR    MSP  NA       1008     13  \n",
              "336751 NA        EV      4372   N14573  EWR    DCA  NA        199     14  \n",
              "336752 NA        EV      5714   N832AS  JFK    IAD  NA        228     19  \n",
              "336753 NA        EV      6054   N16919  EWR    IAD  NA        212     10  \n",
              "336754 NA        EV      6177   N13553  EWR    IAD  NA        212      6  \n",
              "336755 NA        UA       321   NA      EWR    MCO  NA        937     15  \n",
              "336756 NA        MQ      3305   N821MQ  LGA    RDU  NA        431     13  \n",
              "336757 NA        UA      1081   NA      EWR    SFO  NA       2565     21  \n",
              "336758 NA        UA      1297   NA      EWR    SNA  NA       2434     12  \n",
              "336759 NA        UA      1506   NA      EWR    JAC  NA       1874      8  \n",
              "336760 NA        B6      1205   N627JB  JFK    PDX  NA       2454     20  \n",
              "336761 NA        AA       341   N568AA  LGA    ORD  NA        733     15  \n",
              "336762 NA        AA       371   N482AA  LGA    ORD  NA        733     20  \n",
              "336763 NA        B6       161   N516JB  JFK    SMF  NA       2521     19  \n",
              "336764 NA        EV      4181   N24103  EWR    MCI  NA       1092     15  \n",
              "336765 NA        UA      1124   NA      EWR    EGE  NA       1725     10  \n",
              "336766 NA        UA      1151   NA      EWR    SEA  NA       2402      8  \n",
              "336767 NA        UA      1455   NA      EWR    LAX  NA       2454      7  \n",
              "336768 NA        UA      1482   NA      EWR    ORD  NA        719     20  \n",
              "336769 NA        UA      1483   NA      EWR    AUS  NA       1504     15  \n",
              "336770 NA        UA      1493   NA      EWR    LAX  NA       2454     14  \n",
              "336771 NA        UA      1506   NA      EWR    JAC  NA       1874      8  \n",
              "336772 NA        UA      1729   NA      EWR    DEN  NA       1605      7  \n",
              "336773 NA        US      1831   NA      JFK    CLT  NA        541      8  \n",
              "336774 NA        MQ      3301   N844MQ  LGA    RDU  NA        431     16  \n",
              "336775 NA        UA       219   NA      EWR    ORD  NA        719      6  \n",
              "336776 NA        UA       443   NA      JFK    LAX  NA       2475      8  \n",
              "       minute time_hour          \n",
              "1      30     2013-01-04 10:00:00\n",
              "2      45     2013-01-03 09:00:00\n",
              "3      45     2013-01-14 18:00:00\n",
              "4       0     2013-01-03 12:00:00\n",
              "5      35     2013-01-03 12:00:00\n",
              "6      50     2013-01-27 18:00:00\n",
              "7      10     2013-01-03 16:00:00\n",
              "8       0     2013-01-03 19:00:00\n",
              "9      21     2013-01-04 12:00:00\n",
              "10     19     2013-01-06 08:00:00\n",
              "11     20     2013-01-12 09:00:00\n",
              "12     20     2013-01-03 19:00:00\n",
              "13      0     2013-01-02 07:00:00\n",
              "14     30     2013-01-03 16:00:00\n",
              "15     45     2013-01-27 18:00:00\n",
              "16     59     2013-01-26 16:00:00\n",
              "17      0     2013-01-02 09:00:00\n",
              "18     45     2013-01-03 19:00:00\n",
              "19     55     2013-01-04 06:00:00\n",
              "20     30     2013-01-04 08:00:00\n",
              "21      0     2013-01-04 17:00:00\n",
              "22     15     2013-01-30 19:00:00\n",
              "23     10     2013-01-03 18:00:00\n",
              "24     20     2013-01-03 19:00:00\n",
              "25     50     2013-01-14 18:00:00\n",
              "26     45     2013-01-02 12:00:00\n",
              "27     30     2013-01-04 11:00:00\n",
              "28     50     2013-01-08 18:00:00\n",
              "29     50     2013-01-11 18:00:00\n",
              "30     30     2013-01-13 07:00:00\n",
              "⋮      ⋮      ⋮                  \n",
              "336747 35     2013-12-30 16:00:00\n",
              "336748  0     2013-12-30 06:00:00\n",
              "336749 30     2013-12-30 14:00:00\n",
              "336750 50     2013-12-30 13:00:00\n",
              "336751 52     2013-12-30 14:00:00\n",
              "336752 35     2013-12-30 19:00:00\n",
              "336753 11     2013-12-30 10:00:00\n",
              "336754  5     2013-12-30 06:00:00\n",
              "336755  5     2013-12-30 15:00:00\n",
              "336756 55     2013-12-30 13:00:00\n",
              "336757  0     2013-12-30 21:00:00\n",
              "336758 21     2013-12-30 12:00:00\n",
              "336759 55     2013-12-30 08:00:00\n",
              "336760 39     2013-12-31 20:00:00\n",
              "336761 20     2013-12-31 15:00:00\n",
              "336762 25     2013-12-31 20:00:00\n",
              "336763 32     2013-12-31 19:00:00\n",
              "336764  5     2013-12-31 15:00:00\n",
              "336765  0     2013-12-31 10:00:00\n",
              "336766 40     2013-12-31 08:00:00\n",
              "336767 54     2013-12-31 07:00:00\n",
              "336768  0     2013-12-31 20:00:00\n",
              "336769  0     2013-12-31 15:00:00\n",
              "336770 30     2013-12-31 14:00:00\n",
              "336771 55     2013-12-31 08:00:00\n",
              "336772  5     2013-12-31 07:00:00\n",
              "336773 25     2013-12-31 08:00:00\n",
              "336774 15     2013-12-31 16:00:00\n",
              "336775  0     2013-12-31 06:00:00\n",
              "336776 30     2013-12-31 08:00:00"
            ]
          },
          "metadata": {}
        }
      ]
    },
    {
      "cell_type": "code",
      "source": [
        "arrange(vuelos, month, desc(arr_delay))# ordenamos de manera ascendente por mes y descendente por arr_delay."
      ],
      "metadata": {
        "id": "qdxHRqWLKkxD",
        "outputId": "ce0bfb78-062a-4dae-c078-915a897a0ae2",
        "colab": {
          "base_uri": "https://localhost:8080/",
          "height": 1000
        }
      },
      "execution_count": null,
      "outputs": [
        {
          "output_type": "display_data",
          "data": {
            "text/html": [
              "<table class=\"dataframe\">\n",
              "<caption>A data.frame: 336776 × 19</caption>\n",
              "<thead>\n",
              "\t<tr><th scope=col>year</th><th scope=col>month</th><th scope=col>day</th><th scope=col>dep_time</th><th scope=col>sched_dep_time</th><th scope=col>dep_delay</th><th scope=col>arr_time</th><th scope=col>sched_arr_time</th><th scope=col>arr_delay</th><th scope=col>carrier</th><th scope=col>flight</th><th scope=col>tailnum</th><th scope=col>origin</th><th scope=col>dest</th><th scope=col>air_time</th><th scope=col>distance</th><th scope=col>hour</th><th scope=col>minute</th><th scope=col>time_hour</th></tr>\n",
              "\t<tr><th scope=col>&lt;int&gt;</th><th scope=col>&lt;int&gt;</th><th scope=col>&lt;int&gt;</th><th scope=col>&lt;int&gt;</th><th scope=col>&lt;int&gt;</th><th scope=col>&lt;int&gt;</th><th scope=col>&lt;int&gt;</th><th scope=col>&lt;int&gt;</th><th scope=col>&lt;int&gt;</th><th scope=col>&lt;chr&gt;</th><th scope=col>&lt;int&gt;</th><th scope=col>&lt;chr&gt;</th><th scope=col>&lt;chr&gt;</th><th scope=col>&lt;chr&gt;</th><th scope=col>&lt;int&gt;</th><th scope=col>&lt;int&gt;</th><th scope=col>&lt;int&gt;</th><th scope=col>&lt;int&gt;</th><th scope=col>&lt;chr&gt;</th></tr>\n",
              "</thead>\n",
              "<tbody>\n",
              "\t<tr><td>2013</td><td>1</td><td> 9</td><td> 641</td><td> 900</td><td>1301</td><td>1242</td><td>1530</td><td>1272</td><td>HA</td><td>  51</td><td>N384HA</td><td>JFK</td><td>HNL</td><td>640</td><td>4983</td><td> 9</td><td> 0</td><td>2013-01-09 09:00:00</td></tr>\n",
              "\t<tr><td>2013</td><td>1</td><td>10</td><td>1121</td><td>1635</td><td>1126</td><td>1239</td><td>1810</td><td>1109</td><td>MQ</td><td>3695</td><td>N517MQ</td><td>EWR</td><td>ORD</td><td>111</td><td> 719</td><td>16</td><td>35</td><td>2013-01-10 16:00:00</td></tr>\n",
              "\t<tr><td>2013</td><td>1</td><td> 1</td><td> 848</td><td>1835</td><td> 853</td><td>1001</td><td>1950</td><td> 851</td><td>MQ</td><td>3944</td><td>N942MQ</td><td>JFK</td><td>BWI</td><td> 41</td><td> 184</td><td>18</td><td>35</td><td>2013-01-01 18:00:00</td></tr>\n",
              "\t<tr><td>2013</td><td>1</td><td>13</td><td>1809</td><td> 810</td><td> 599</td><td>2054</td><td>1042</td><td> 612</td><td>DL</td><td> 269</td><td>N322NB</td><td>JFK</td><td>ATL</td><td>116</td><td> 760</td><td> 8</td><td>10</td><td>2013-01-13 08:00:00</td></tr>\n",
              "\t<tr><td>2013</td><td>1</td><td>16</td><td>1622</td><td> 800</td><td> 502</td><td>1911</td><td>1054</td><td> 497</td><td>B6</td><td> 517</td><td>N661JB</td><td>EWR</td><td>MCO</td><td>144</td><td> 937</td><td> 8</td><td> 0</td><td>2013-01-16 08:00:00</td></tr>\n",
              "\t<tr><td>2013</td><td>1</td><td>23</td><td>1551</td><td> 753</td><td> 478</td><td>1812</td><td>1006</td><td> 486</td><td>DL</td><td>2119</td><td>N326NB</td><td>LGA</td><td>MSP</td><td>166</td><td>1020</td><td> 7</td><td>53</td><td>2013-01-23 07:00:00</td></tr>\n",
              "\t<tr><td>2013</td><td>1</td><td> 1</td><td>2343</td><td>1724</td><td> 379</td><td> 314</td><td>1938</td><td> 456</td><td>EV</td><td>4321</td><td>N21197</td><td>EWR</td><td>MCI</td><td>222</td><td>1092</td><td>17</td><td>24</td><td>2013-01-01 17:00:00</td></tr>\n",
              "\t<tr><td>2013</td><td>1</td><td>10</td><td>1525</td><td> 900</td><td> 385</td><td>1713</td><td>1039</td><td> 394</td><td>UA</td><td> 544</td><td>N419UA</td><td>LGA</td><td>ORD</td><td>123</td><td> 733</td><td> 9</td><td> 0</td><td>2013-01-10 09:00:00</td></tr>\n",
              "\t<tr><td>2013</td><td>1</td><td>25</td><td>  15</td><td>1815</td><td> 360</td><td> 208</td><td>1958</td><td> 370</td><td>9E</td><td>4019</td><td>N8646A</td><td>JFK</td><td>RIC</td><td> 56</td><td> 288</td><td>18</td><td>15</td><td>2013-01-25 18:00:00</td></tr>\n",
              "\t<tr><td>2013</td><td>1</td><td> 2</td><td>1607</td><td>1030</td><td> 337</td><td>2003</td><td>1355</td><td> 368</td><td>AA</td><td> 179</td><td>N324AA</td><td>JFK</td><td>SFO</td><td>346</td><td>2586</td><td>10</td><td>30</td><td>2013-01-02 10:00:00</td></tr>\n",
              "\t<tr><td>2013</td><td>1</td><td> 7</td><td>2021</td><td>1415</td><td> 366</td><td>2332</td><td>1724</td><td> 368</td><td>B6</td><td> 377</td><td>N789JB</td><td>LGA</td><td>FLL</td><td>153</td><td>1076</td><td>14</td><td>15</td><td>2013-01-07 14:00:00</td></tr>\n",
              "\t<tr><td>2013</td><td>1</td><td>25</td><td>2020</td><td>1527</td><td> 293</td><td>2304</td><td>1700</td><td> 364</td><td>EV</td><td>3835</td><td>N14920</td><td>EWR</td><td>BNA</td><td>124</td><td> 748</td><td>15</td><td>27</td><td>2013-01-25 15:00:00</td></tr>\n",
              "\t<tr><td>2013</td><td>1</td><td> 2</td><td>2131</td><td>1512</td><td> 379</td><td>2340</td><td>1741</td><td> 359</td><td>UA</td><td> 488</td><td>N593UA</td><td>LGA</td><td>DEN</td><td>228</td><td>1620</td><td>15</td><td>12</td><td>2013-01-02 15:00:00</td></tr>\n",
              "\t<tr><td>2013</td><td>1</td><td>26</td><td>1409</td><td> 820</td><td> 349</td><td>1528</td><td> 937</td><td> 351</td><td>9E</td><td>4051</td><td>N8444F</td><td>JFK</td><td>BWI</td><td> 37</td><td> 184</td><td> 8</td><td>20</td><td>2013-01-26 08:00:00</td></tr>\n",
              "\t<tr><td>2013</td><td>1</td><td>11</td><td>1310</td><td> 710</td><td> 360</td><td>1438</td><td> 850</td><td> 348</td><td>MQ</td><td>3737</td><td>N509MQ</td><td>EWR</td><td>ORD</td><td>116</td><td> 719</td><td> 7</td><td>10</td><td>2013-01-11 07:00:00</td></tr>\n",
              "\t<tr><td>2013</td><td>1</td><td>24</td><td>2051</td><td>1522</td><td> 329</td><td>2307</td><td>1727</td><td> 340</td><td>EV</td><td>4576</td><td>N21144</td><td>EWR</td><td>GRR</td><td>107</td><td> 605</td><td>15</td><td>22</td><td>2013-01-24 15:00:00</td></tr>\n",
              "\t<tr><td>2013</td><td>1</td><td> 1</td><td>1815</td><td>1325</td><td> 290</td><td>2120</td><td>1542</td><td> 338</td><td>EV</td><td>4417</td><td>N17185</td><td>EWR</td><td>OMA</td><td>213</td><td>1134</td><td>13</td><td>25</td><td>2013-01-01 13:00:00</td></tr>\n",
              "\t<tr><td>2013</td><td>1</td><td>25</td><td>2203</td><td>1635</td><td> 328</td><td>  34</td><td>1856</td><td> 338</td><td>EV</td><td>3805</td><td>N18102</td><td>EWR</td><td>SAV</td><td>107</td><td> 708</td><td>16</td><td>35</td><td>2013-01-25 16:00:00</td></tr>\n",
              "\t<tr><td>2013</td><td>1</td><td>31</td><td>1837</td><td>1350</td><td> 287</td><td>2159</td><td>1624</td><td> 335</td><td>B6</td><td> 615</td><td>N281JB</td><td>JFK</td><td>JAX</td><td>150</td><td> 828</td><td>13</td><td>50</td><td>2013-01-31 13:00:00</td></tr>\n",
              "\t<tr><td>2013</td><td>1</td><td>25</td><td>  26</td><td>1850</td><td> 336</td><td> 225</td><td>2055</td><td> 330</td><td>US</td><td>1491</td><td>N181UW</td><td>LGA</td><td>CLT</td><td> 82</td><td> 544</td><td>18</td><td>50</td><td>2013-01-25 18:00:00</td></tr>\n",
              "\t<tr><td>2013</td><td>1</td><td>14</td><td>2229</td><td>1655</td><td> 334</td><td> 157</td><td>2029</td><td> 328</td><td>DL</td><td> 706</td><td>N370NW</td><td>JFK</td><td>AUS</td><td>243</td><td>1521</td><td>16</td><td>55</td><td>2013-01-14 16:00:00</td></tr>\n",
              "\t<tr><td>2013</td><td>1</td><td>25</td><td> 123</td><td>2000</td><td> 323</td><td> 229</td><td>2101</td><td> 328</td><td>EV</td><td>4309</td><td>N13908</td><td>EWR</td><td>ALB</td><td> 30</td><td> 143</td><td>20</td><td> 0</td><td>2013-01-25 20:00:00</td></tr>\n",
              "\t<tr><td>2013</td><td>1</td><td>25</td><td>2036</td><td>1610</td><td> 266</td><td>2257</td><td>1732</td><td> 325</td><td>9E</td><td>3689</td><td>N8913A</td><td>JFK</td><td>PHL</td><td> 27</td><td>  94</td><td>16</td><td>10</td><td>2013-01-25 16:00:00</td></tr>\n",
              "\t<tr><td>2013</td><td>1</td><td> 2</td><td>1412</td><td> 838</td><td> 334</td><td>1710</td><td>1147</td><td> 323</td><td>UA</td><td> 468</td><td>N474UA</td><td>EWR</td><td>MCO</td><td>150</td><td> 937</td><td> 8</td><td>38</td><td>2013-01-02 08:00:00</td></tr>\n",
              "\t<tr><td>2013</td><td>1</td><td> 5</td><td>1344</td><td> 817</td><td> 327</td><td>1635</td><td>1127</td><td> 308</td><td>DL</td><td>1109</td><td>N309US</td><td>LGA</td><td>TPA</td><td>158</td><td>1010</td><td> 8</td><td>17</td><td>2013-01-05 08:00:00</td></tr>\n",
              "\t<tr><td>2013</td><td>1</td><td>16</td><td>2013</td><td>1505</td><td> 308</td><td>2136</td><td>1637</td><td> 299</td><td>9E</td><td>3393</td><td>N920XJ</td><td>JFK</td><td>DCA</td><td> 51</td><td> 213</td><td>15</td><td> 5</td><td>2013-01-16 15:00:00</td></tr>\n",
              "\t<tr><td>2013</td><td>1</td><td>25</td><td>1755</td><td>1341</td><td> 254</td><td>  34</td><td>1935</td><td> 299</td><td>UA</td><td>  15</td><td>N76065</td><td>EWR</td><td>HNL</td><td>648</td><td>4963</td><td>13</td><td>41</td><td>2013-01-25 13:00:00</td></tr>\n",
              "\t<tr><td>2013</td><td>1</td><td>13</td><td> 115</td><td>2000</td><td> 315</td><td> 409</td><td>2312</td><td> 297</td><td>B6</td><td> 801</td><td>N552JB</td><td>JFK</td><td>FLL</td><td>143</td><td>1069</td><td>20</td><td> 0</td><td>2013-01-13 20:00:00</td></tr>\n",
              "\t<tr><td>2013</td><td>1</td><td>28</td><td>1857</td><td>1429</td><td> 268</td><td>2136</td><td>1642</td><td> 294</td><td>DL</td><td>1819</td><td>N911DA</td><td>LGA</td><td>MSP</td><td>162</td><td>1020</td><td>14</td><td>29</td><td>2013-01-28 14:00:00</td></tr>\n",
              "\t<tr><td>2013</td><td>1</td><td>10</td><td>2137</td><td>1630</td><td> 307</td><td>  17</td><td>1925</td><td> 292</td><td>UA</td><td>1178</td><td>N75435</td><td>EWR</td><td>IAH</td><td>197</td><td>1400</td><td>16</td><td>30</td><td>2013-01-10 16:00:00</td></tr>\n",
              "\t<tr><td>⋮</td><td>⋮</td><td>⋮</td><td>⋮</td><td>⋮</td><td>⋮</td><td>⋮</td><td>⋮</td><td>⋮</td><td>⋮</td><td>⋮</td><td>⋮</td><td>⋮</td><td>⋮</td><td>⋮</td><td>⋮</td><td>⋮</td><td>⋮</td><td>⋮</td></tr>\n",
              "\t<tr><td>2013</td><td>12</td><td>30</td><td>  NA</td><td>1635</td><td>NA</td><td> NA</td><td>1825</td><td>NA</td><td>AA</td><td> 343</td><td>N4XVAA</td><td>LGA</td><td>ORD</td><td>NA</td><td> 733</td><td>16</td><td>35</td><td>2013-12-30 16:00:00</td></tr>\n",
              "\t<tr><td>2013</td><td>12</td><td>30</td><td>  NA</td><td> 600</td><td>NA</td><td> NA</td><td> 855</td><td>NA</td><td>B6</td><td> 605</td><td>N708JB</td><td>EWR</td><td>FLL</td><td>NA</td><td>1065</td><td> 6</td><td> 0</td><td>2013-12-30 06:00:00</td></tr>\n",
              "\t<tr><td>2013</td><td>12</td><td>30</td><td>  NA</td><td>1430</td><td>NA</td><td> NA</td><td>1626</td><td>NA</td><td>EV</td><td>4261</td><td>N27200</td><td>LGA</td><td>CLE</td><td>NA</td><td> 419</td><td>14</td><td>30</td><td>2013-12-30 14:00:00</td></tr>\n",
              "\t<tr><td>2013</td><td>12</td><td>30</td><td>  NA</td><td>1350</td><td>NA</td><td> NA</td><td>1602</td><td>NA</td><td>EV</td><td>4193</td><td>N36915</td><td>EWR</td><td>MSP</td><td>NA</td><td>1008</td><td>13</td><td>50</td><td>2013-12-30 13:00:00</td></tr>\n",
              "\t<tr><td>2013</td><td>12</td><td>30</td><td>  NA</td><td>1452</td><td>NA</td><td> NA</td><td>1559</td><td>NA</td><td>EV</td><td>4372</td><td>N14573</td><td>EWR</td><td>DCA</td><td>NA</td><td> 199</td><td>14</td><td>52</td><td>2013-12-30 14:00:00</td></tr>\n",
              "\t<tr><td>2013</td><td>12</td><td>30</td><td>  NA</td><td>1935</td><td>NA</td><td> NA</td><td>2055</td><td>NA</td><td>EV</td><td>5714</td><td>N832AS</td><td>JFK</td><td>IAD</td><td>NA</td><td> 228</td><td>19</td><td>35</td><td>2013-12-30 19:00:00</td></tr>\n",
              "\t<tr><td>2013</td><td>12</td><td>30</td><td>  NA</td><td>1011</td><td>NA</td><td> NA</td><td>1134</td><td>NA</td><td>EV</td><td>6054</td><td>N16919</td><td>EWR</td><td>IAD</td><td>NA</td><td> 212</td><td>10</td><td>11</td><td>2013-12-30 10:00:00</td></tr>\n",
              "\t<tr><td>2013</td><td>12</td><td>30</td><td>  NA</td><td> 605</td><td>NA</td><td> NA</td><td> 723</td><td>NA</td><td>EV</td><td>6177</td><td>N13553</td><td>EWR</td><td>IAD</td><td>NA</td><td> 212</td><td> 6</td><td> 5</td><td>2013-12-30 06:00:00</td></tr>\n",
              "\t<tr><td>2013</td><td>12</td><td>30</td><td>  NA</td><td>1505</td><td>NA</td><td> NA</td><td>1759</td><td>NA</td><td>UA</td><td> 321</td><td>NA    </td><td>EWR</td><td>MCO</td><td>NA</td><td> 937</td><td>15</td><td> 5</td><td>2013-12-30 15:00:00</td></tr>\n",
              "\t<tr><td>2013</td><td>12</td><td>30</td><td>  NA</td><td>1355</td><td>NA</td><td> NA</td><td>1535</td><td>NA</td><td>MQ</td><td>3305</td><td>N821MQ</td><td>LGA</td><td>RDU</td><td>NA</td><td> 431</td><td>13</td><td>55</td><td>2013-12-30 13:00:00</td></tr>\n",
              "\t<tr><td>2013</td><td>12</td><td>30</td><td>  NA</td><td>2100</td><td>NA</td><td> NA</td><td>  48</td><td>NA</td><td>UA</td><td>1081</td><td>NA    </td><td>EWR</td><td>SFO</td><td>NA</td><td>2565</td><td>21</td><td> 0</td><td>2013-12-30 21:00:00</td></tr>\n",
              "\t<tr><td>2013</td><td>12</td><td>30</td><td>  NA</td><td>1221</td><td>NA</td><td> NA</td><td>1545</td><td>NA</td><td>UA</td><td>1297</td><td>NA    </td><td>EWR</td><td>SNA</td><td>NA</td><td>2434</td><td>12</td><td>21</td><td>2013-12-30 12:00:00</td></tr>\n",
              "\t<tr><td>2013</td><td>12</td><td>30</td><td>  NA</td><td> 855</td><td>NA</td><td> NA</td><td>1142</td><td>NA</td><td>UA</td><td>1506</td><td>NA    </td><td>EWR</td><td>JAC</td><td>NA</td><td>1874</td><td> 8</td><td>55</td><td>2013-12-30 08:00:00</td></tr>\n",
              "\t<tr><td>2013</td><td>12</td><td>31</td><td>2155</td><td>2039</td><td>76</td><td>253</td><td>2355</td><td>NA</td><td>B6</td><td>1205</td><td>N627JB</td><td>JFK</td><td>PDX</td><td>NA</td><td>2454</td><td>20</td><td>39</td><td>2013-12-31 20:00:00</td></tr>\n",
              "\t<tr><td>2013</td><td>12</td><td>31</td><td>  NA</td><td>1520</td><td>NA</td><td> NA</td><td>1705</td><td>NA</td><td>AA</td><td> 341</td><td>N568AA</td><td>LGA</td><td>ORD</td><td>NA</td><td> 733</td><td>15</td><td>20</td><td>2013-12-31 15:00:00</td></tr>\n",
              "\t<tr><td>2013</td><td>12</td><td>31</td><td>  NA</td><td>2025</td><td>NA</td><td> NA</td><td>2205</td><td>NA</td><td>AA</td><td> 371</td><td>N482AA</td><td>LGA</td><td>ORD</td><td>NA</td><td> 733</td><td>20</td><td>25</td><td>2013-12-31 20:00:00</td></tr>\n",
              "\t<tr><td>2013</td><td>12</td><td>31</td><td>  NA</td><td>1932</td><td>NA</td><td> NA</td><td>2305</td><td>NA</td><td>B6</td><td> 161</td><td>N516JB</td><td>JFK</td><td>SMF</td><td>NA</td><td>2521</td><td>19</td><td>32</td><td>2013-12-31 19:00:00</td></tr>\n",
              "\t<tr><td>2013</td><td>12</td><td>31</td><td>  NA</td><td>1505</td><td>NA</td><td> NA</td><td>1725</td><td>NA</td><td>EV</td><td>4181</td><td>N24103</td><td>EWR</td><td>MCI</td><td>NA</td><td>1092</td><td>15</td><td> 5</td><td>2013-12-31 15:00:00</td></tr>\n",
              "\t<tr><td>2013</td><td>12</td><td>31</td><td>  NA</td><td>1000</td><td>NA</td><td> NA</td><td>1252</td><td>NA</td><td>UA</td><td>1124</td><td>NA    </td><td>EWR</td><td>EGE</td><td>NA</td><td>1725</td><td>10</td><td> 0</td><td>2013-12-31 10:00:00</td></tr>\n",
              "\t<tr><td>2013</td><td>12</td><td>31</td><td>  NA</td><td> 840</td><td>NA</td><td> NA</td><td>1205</td><td>NA</td><td>UA</td><td>1151</td><td>NA    </td><td>EWR</td><td>SEA</td><td>NA</td><td>2402</td><td> 8</td><td>40</td><td>2013-12-31 08:00:00</td></tr>\n",
              "\t<tr><td>2013</td><td>12</td><td>31</td><td>  NA</td><td> 754</td><td>NA</td><td> NA</td><td>1118</td><td>NA</td><td>UA</td><td>1455</td><td>NA    </td><td>EWR</td><td>LAX</td><td>NA</td><td>2454</td><td> 7</td><td>54</td><td>2013-12-31 07:00:00</td></tr>\n",
              "\t<tr><td>2013</td><td>12</td><td>31</td><td>  NA</td><td>2000</td><td>NA</td><td> NA</td><td>2146</td><td>NA</td><td>UA</td><td>1482</td><td>NA    </td><td>EWR</td><td>ORD</td><td>NA</td><td> 719</td><td>20</td><td> 0</td><td>2013-12-31 20:00:00</td></tr>\n",
              "\t<tr><td>2013</td><td>12</td><td>31</td><td>  NA</td><td>1500</td><td>NA</td><td> NA</td><td>1817</td><td>NA</td><td>UA</td><td>1483</td><td>NA    </td><td>EWR</td><td>AUS</td><td>NA</td><td>1504</td><td>15</td><td> 0</td><td>2013-12-31 15:00:00</td></tr>\n",
              "\t<tr><td>2013</td><td>12</td><td>31</td><td>  NA</td><td>1430</td><td>NA</td><td> NA</td><td>1750</td><td>NA</td><td>UA</td><td>1493</td><td>NA    </td><td>EWR</td><td>LAX</td><td>NA</td><td>2454</td><td>14</td><td>30</td><td>2013-12-31 14:00:00</td></tr>\n",
              "\t<tr><td>2013</td><td>12</td><td>31</td><td>  NA</td><td> 855</td><td>NA</td><td> NA</td><td>1142</td><td>NA</td><td>UA</td><td>1506</td><td>NA    </td><td>EWR</td><td>JAC</td><td>NA</td><td>1874</td><td> 8</td><td>55</td><td>2013-12-31 08:00:00</td></tr>\n",
              "\t<tr><td>2013</td><td>12</td><td>31</td><td>  NA</td><td> 705</td><td>NA</td><td> NA</td><td> 931</td><td>NA</td><td>UA</td><td>1729</td><td>NA    </td><td>EWR</td><td>DEN</td><td>NA</td><td>1605</td><td> 7</td><td> 5</td><td>2013-12-31 07:00:00</td></tr>\n",
              "\t<tr><td>2013</td><td>12</td><td>31</td><td>  NA</td><td> 825</td><td>NA</td><td> NA</td><td>1029</td><td>NA</td><td>US</td><td>1831</td><td>NA    </td><td>JFK</td><td>CLT</td><td>NA</td><td> 541</td><td> 8</td><td>25</td><td>2013-12-31 08:00:00</td></tr>\n",
              "\t<tr><td>2013</td><td>12</td><td>31</td><td>  NA</td><td>1615</td><td>NA</td><td> NA</td><td>1800</td><td>NA</td><td>MQ</td><td>3301</td><td>N844MQ</td><td>LGA</td><td>RDU</td><td>NA</td><td> 431</td><td>16</td><td>15</td><td>2013-12-31 16:00:00</td></tr>\n",
              "\t<tr><td>2013</td><td>12</td><td>31</td><td>  NA</td><td> 600</td><td>NA</td><td> NA</td><td> 735</td><td>NA</td><td>UA</td><td> 219</td><td>NA    </td><td>EWR</td><td>ORD</td><td>NA</td><td> 719</td><td> 6</td><td> 0</td><td>2013-12-31 06:00:00</td></tr>\n",
              "\t<tr><td>2013</td><td>12</td><td>31</td><td>  NA</td><td> 830</td><td>NA</td><td> NA</td><td>1154</td><td>NA</td><td>UA</td><td> 443</td><td>NA    </td><td>JFK</td><td>LAX</td><td>NA</td><td>2475</td><td> 8</td><td>30</td><td>2013-12-31 08:00:00</td></tr>\n",
              "</tbody>\n",
              "</table>\n"
            ],
            "text/markdown": "\nA data.frame: 336776 × 19\n\n| year &lt;int&gt; | month &lt;int&gt; | day &lt;int&gt; | dep_time &lt;int&gt; | sched_dep_time &lt;int&gt; | dep_delay &lt;int&gt; | arr_time &lt;int&gt; | sched_arr_time &lt;int&gt; | arr_delay &lt;int&gt; | carrier &lt;chr&gt; | flight &lt;int&gt; | tailnum &lt;chr&gt; | origin &lt;chr&gt; | dest &lt;chr&gt; | air_time &lt;int&gt; | distance &lt;int&gt; | hour &lt;int&gt; | minute &lt;int&gt; | time_hour &lt;chr&gt; |\n|---|---|---|---|---|---|---|---|---|---|---|---|---|---|---|---|---|---|---|\n| 2013 | 1 |  9 |  641 |  900 | 1301 | 1242 | 1530 | 1272 | HA |   51 | N384HA | JFK | HNL | 640 | 4983 |  9 |  0 | 2013-01-09 09:00:00 |\n| 2013 | 1 | 10 | 1121 | 1635 | 1126 | 1239 | 1810 | 1109 | MQ | 3695 | N517MQ | EWR | ORD | 111 |  719 | 16 | 35 | 2013-01-10 16:00:00 |\n| 2013 | 1 |  1 |  848 | 1835 |  853 | 1001 | 1950 |  851 | MQ | 3944 | N942MQ | JFK | BWI |  41 |  184 | 18 | 35 | 2013-01-01 18:00:00 |\n| 2013 | 1 | 13 | 1809 |  810 |  599 | 2054 | 1042 |  612 | DL |  269 | N322NB | JFK | ATL | 116 |  760 |  8 | 10 | 2013-01-13 08:00:00 |\n| 2013 | 1 | 16 | 1622 |  800 |  502 | 1911 | 1054 |  497 | B6 |  517 | N661JB | EWR | MCO | 144 |  937 |  8 |  0 | 2013-01-16 08:00:00 |\n| 2013 | 1 | 23 | 1551 |  753 |  478 | 1812 | 1006 |  486 | DL | 2119 | N326NB | LGA | MSP | 166 | 1020 |  7 | 53 | 2013-01-23 07:00:00 |\n| 2013 | 1 |  1 | 2343 | 1724 |  379 |  314 | 1938 |  456 | EV | 4321 | N21197 | EWR | MCI | 222 | 1092 | 17 | 24 | 2013-01-01 17:00:00 |\n| 2013 | 1 | 10 | 1525 |  900 |  385 | 1713 | 1039 |  394 | UA |  544 | N419UA | LGA | ORD | 123 |  733 |  9 |  0 | 2013-01-10 09:00:00 |\n| 2013 | 1 | 25 |   15 | 1815 |  360 |  208 | 1958 |  370 | 9E | 4019 | N8646A | JFK | RIC |  56 |  288 | 18 | 15 | 2013-01-25 18:00:00 |\n| 2013 | 1 |  2 | 1607 | 1030 |  337 | 2003 | 1355 |  368 | AA |  179 | N324AA | JFK | SFO | 346 | 2586 | 10 | 30 | 2013-01-02 10:00:00 |\n| 2013 | 1 |  7 | 2021 | 1415 |  366 | 2332 | 1724 |  368 | B6 |  377 | N789JB | LGA | FLL | 153 | 1076 | 14 | 15 | 2013-01-07 14:00:00 |\n| 2013 | 1 | 25 | 2020 | 1527 |  293 | 2304 | 1700 |  364 | EV | 3835 | N14920 | EWR | BNA | 124 |  748 | 15 | 27 | 2013-01-25 15:00:00 |\n| 2013 | 1 |  2 | 2131 | 1512 |  379 | 2340 | 1741 |  359 | UA |  488 | N593UA | LGA | DEN | 228 | 1620 | 15 | 12 | 2013-01-02 15:00:00 |\n| 2013 | 1 | 26 | 1409 |  820 |  349 | 1528 |  937 |  351 | 9E | 4051 | N8444F | JFK | BWI |  37 |  184 |  8 | 20 | 2013-01-26 08:00:00 |\n| 2013 | 1 | 11 | 1310 |  710 |  360 | 1438 |  850 |  348 | MQ | 3737 | N509MQ | EWR | ORD | 116 |  719 |  7 | 10 | 2013-01-11 07:00:00 |\n| 2013 | 1 | 24 | 2051 | 1522 |  329 | 2307 | 1727 |  340 | EV | 4576 | N21144 | EWR | GRR | 107 |  605 | 15 | 22 | 2013-01-24 15:00:00 |\n| 2013 | 1 |  1 | 1815 | 1325 |  290 | 2120 | 1542 |  338 | EV | 4417 | N17185 | EWR | OMA | 213 | 1134 | 13 | 25 | 2013-01-01 13:00:00 |\n| 2013 | 1 | 25 | 2203 | 1635 |  328 |   34 | 1856 |  338 | EV | 3805 | N18102 | EWR | SAV | 107 |  708 | 16 | 35 | 2013-01-25 16:00:00 |\n| 2013 | 1 | 31 | 1837 | 1350 |  287 | 2159 | 1624 |  335 | B6 |  615 | N281JB | JFK | JAX | 150 |  828 | 13 | 50 | 2013-01-31 13:00:00 |\n| 2013 | 1 | 25 |   26 | 1850 |  336 |  225 | 2055 |  330 | US | 1491 | N181UW | LGA | CLT |  82 |  544 | 18 | 50 | 2013-01-25 18:00:00 |\n| 2013 | 1 | 14 | 2229 | 1655 |  334 |  157 | 2029 |  328 | DL |  706 | N370NW | JFK | AUS | 243 | 1521 | 16 | 55 | 2013-01-14 16:00:00 |\n| 2013 | 1 | 25 |  123 | 2000 |  323 |  229 | 2101 |  328 | EV | 4309 | N13908 | EWR | ALB |  30 |  143 | 20 |  0 | 2013-01-25 20:00:00 |\n| 2013 | 1 | 25 | 2036 | 1610 |  266 | 2257 | 1732 |  325 | 9E | 3689 | N8913A | JFK | PHL |  27 |   94 | 16 | 10 | 2013-01-25 16:00:00 |\n| 2013 | 1 |  2 | 1412 |  838 |  334 | 1710 | 1147 |  323 | UA |  468 | N474UA | EWR | MCO | 150 |  937 |  8 | 38 | 2013-01-02 08:00:00 |\n| 2013 | 1 |  5 | 1344 |  817 |  327 | 1635 | 1127 |  308 | DL | 1109 | N309US | LGA | TPA | 158 | 1010 |  8 | 17 | 2013-01-05 08:00:00 |\n| 2013 | 1 | 16 | 2013 | 1505 |  308 | 2136 | 1637 |  299 | 9E | 3393 | N920XJ | JFK | DCA |  51 |  213 | 15 |  5 | 2013-01-16 15:00:00 |\n| 2013 | 1 | 25 | 1755 | 1341 |  254 |   34 | 1935 |  299 | UA |   15 | N76065 | EWR | HNL | 648 | 4963 | 13 | 41 | 2013-01-25 13:00:00 |\n| 2013 | 1 | 13 |  115 | 2000 |  315 |  409 | 2312 |  297 | B6 |  801 | N552JB | JFK | FLL | 143 | 1069 | 20 |  0 | 2013-01-13 20:00:00 |\n| 2013 | 1 | 28 | 1857 | 1429 |  268 | 2136 | 1642 |  294 | DL | 1819 | N911DA | LGA | MSP | 162 | 1020 | 14 | 29 | 2013-01-28 14:00:00 |\n| 2013 | 1 | 10 | 2137 | 1630 |  307 |   17 | 1925 |  292 | UA | 1178 | N75435 | EWR | IAH | 197 | 1400 | 16 | 30 | 2013-01-10 16:00:00 |\n| ⋮ | ⋮ | ⋮ | ⋮ | ⋮ | ⋮ | ⋮ | ⋮ | ⋮ | ⋮ | ⋮ | ⋮ | ⋮ | ⋮ | ⋮ | ⋮ | ⋮ | ⋮ | ⋮ |\n| 2013 | 12 | 30 |   NA | 1635 | NA |  NA | 1825 | NA | AA |  343 | N4XVAA | LGA | ORD | NA |  733 | 16 | 35 | 2013-12-30 16:00:00 |\n| 2013 | 12 | 30 |   NA |  600 | NA |  NA |  855 | NA | B6 |  605 | N708JB | EWR | FLL | NA | 1065 |  6 |  0 | 2013-12-30 06:00:00 |\n| 2013 | 12 | 30 |   NA | 1430 | NA |  NA | 1626 | NA | EV | 4261 | N27200 | LGA | CLE | NA |  419 | 14 | 30 | 2013-12-30 14:00:00 |\n| 2013 | 12 | 30 |   NA | 1350 | NA |  NA | 1602 | NA | EV | 4193 | N36915 | EWR | MSP | NA | 1008 | 13 | 50 | 2013-12-30 13:00:00 |\n| 2013 | 12 | 30 |   NA | 1452 | NA |  NA | 1559 | NA | EV | 4372 | N14573 | EWR | DCA | NA |  199 | 14 | 52 | 2013-12-30 14:00:00 |\n| 2013 | 12 | 30 |   NA | 1935 | NA |  NA | 2055 | NA | EV | 5714 | N832AS | JFK | IAD | NA |  228 | 19 | 35 | 2013-12-30 19:00:00 |\n| 2013 | 12 | 30 |   NA | 1011 | NA |  NA | 1134 | NA | EV | 6054 | N16919 | EWR | IAD | NA |  212 | 10 | 11 | 2013-12-30 10:00:00 |\n| 2013 | 12 | 30 |   NA |  605 | NA |  NA |  723 | NA | EV | 6177 | N13553 | EWR | IAD | NA |  212 |  6 |  5 | 2013-12-30 06:00:00 |\n| 2013 | 12 | 30 |   NA | 1505 | NA |  NA | 1759 | NA | UA |  321 | NA     | EWR | MCO | NA |  937 | 15 |  5 | 2013-12-30 15:00:00 |\n| 2013 | 12 | 30 |   NA | 1355 | NA |  NA | 1535 | NA | MQ | 3305 | N821MQ | LGA | RDU | NA |  431 | 13 | 55 | 2013-12-30 13:00:00 |\n| 2013 | 12 | 30 |   NA | 2100 | NA |  NA |   48 | NA | UA | 1081 | NA     | EWR | SFO | NA | 2565 | 21 |  0 | 2013-12-30 21:00:00 |\n| 2013 | 12 | 30 |   NA | 1221 | NA |  NA | 1545 | NA | UA | 1297 | NA     | EWR | SNA | NA | 2434 | 12 | 21 | 2013-12-30 12:00:00 |\n| 2013 | 12 | 30 |   NA |  855 | NA |  NA | 1142 | NA | UA | 1506 | NA     | EWR | JAC | NA | 1874 |  8 | 55 | 2013-12-30 08:00:00 |\n| 2013 | 12 | 31 | 2155 | 2039 | 76 | 253 | 2355 | NA | B6 | 1205 | N627JB | JFK | PDX | NA | 2454 | 20 | 39 | 2013-12-31 20:00:00 |\n| 2013 | 12 | 31 |   NA | 1520 | NA |  NA | 1705 | NA | AA |  341 | N568AA | LGA | ORD | NA |  733 | 15 | 20 | 2013-12-31 15:00:00 |\n| 2013 | 12 | 31 |   NA | 2025 | NA |  NA | 2205 | NA | AA |  371 | N482AA | LGA | ORD | NA |  733 | 20 | 25 | 2013-12-31 20:00:00 |\n| 2013 | 12 | 31 |   NA | 1932 | NA |  NA | 2305 | NA | B6 |  161 | N516JB | JFK | SMF | NA | 2521 | 19 | 32 | 2013-12-31 19:00:00 |\n| 2013 | 12 | 31 |   NA | 1505 | NA |  NA | 1725 | NA | EV | 4181 | N24103 | EWR | MCI | NA | 1092 | 15 |  5 | 2013-12-31 15:00:00 |\n| 2013 | 12 | 31 |   NA | 1000 | NA |  NA | 1252 | NA | UA | 1124 | NA     | EWR | EGE | NA | 1725 | 10 |  0 | 2013-12-31 10:00:00 |\n| 2013 | 12 | 31 |   NA |  840 | NA |  NA | 1205 | NA | UA | 1151 | NA     | EWR | SEA | NA | 2402 |  8 | 40 | 2013-12-31 08:00:00 |\n| 2013 | 12 | 31 |   NA |  754 | NA |  NA | 1118 | NA | UA | 1455 | NA     | EWR | LAX | NA | 2454 |  7 | 54 | 2013-12-31 07:00:00 |\n| 2013 | 12 | 31 |   NA | 2000 | NA |  NA | 2146 | NA | UA | 1482 | NA     | EWR | ORD | NA |  719 | 20 |  0 | 2013-12-31 20:00:00 |\n| 2013 | 12 | 31 |   NA | 1500 | NA |  NA | 1817 | NA | UA | 1483 | NA     | EWR | AUS | NA | 1504 | 15 |  0 | 2013-12-31 15:00:00 |\n| 2013 | 12 | 31 |   NA | 1430 | NA |  NA | 1750 | NA | UA | 1493 | NA     | EWR | LAX | NA | 2454 | 14 | 30 | 2013-12-31 14:00:00 |\n| 2013 | 12 | 31 |   NA |  855 | NA |  NA | 1142 | NA | UA | 1506 | NA     | EWR | JAC | NA | 1874 |  8 | 55 | 2013-12-31 08:00:00 |\n| 2013 | 12 | 31 |   NA |  705 | NA |  NA |  931 | NA | UA | 1729 | NA     | EWR | DEN | NA | 1605 |  7 |  5 | 2013-12-31 07:00:00 |\n| 2013 | 12 | 31 |   NA |  825 | NA |  NA | 1029 | NA | US | 1831 | NA     | JFK | CLT | NA |  541 |  8 | 25 | 2013-12-31 08:00:00 |\n| 2013 | 12 | 31 |   NA | 1615 | NA |  NA | 1800 | NA | MQ | 3301 | N844MQ | LGA | RDU | NA |  431 | 16 | 15 | 2013-12-31 16:00:00 |\n| 2013 | 12 | 31 |   NA |  600 | NA |  NA |  735 | NA | UA |  219 | NA     | EWR | ORD | NA |  719 |  6 |  0 | 2013-12-31 06:00:00 |\n| 2013 | 12 | 31 |   NA |  830 | NA |  NA | 1154 | NA | UA |  443 | NA     | JFK | LAX | NA | 2475 |  8 | 30 | 2013-12-31 08:00:00 |\n\n",
            "text/latex": "A data.frame: 336776 × 19\n\\begin{tabular}{lllllllllllllllllll}\n year & month & day & dep\\_time & sched\\_dep\\_time & dep\\_delay & arr\\_time & sched\\_arr\\_time & arr\\_delay & carrier & flight & tailnum & origin & dest & air\\_time & distance & hour & minute & time\\_hour\\\\\n <int> & <int> & <int> & <int> & <int> & <int> & <int> & <int> & <int> & <chr> & <int> & <chr> & <chr> & <chr> & <int> & <int> & <int> & <int> & <chr>\\\\\n\\hline\n\t 2013 & 1 &  9 &  641 &  900 & 1301 & 1242 & 1530 & 1272 & HA &   51 & N384HA & JFK & HNL & 640 & 4983 &  9 &  0 & 2013-01-09 09:00:00\\\\\n\t 2013 & 1 & 10 & 1121 & 1635 & 1126 & 1239 & 1810 & 1109 & MQ & 3695 & N517MQ & EWR & ORD & 111 &  719 & 16 & 35 & 2013-01-10 16:00:00\\\\\n\t 2013 & 1 &  1 &  848 & 1835 &  853 & 1001 & 1950 &  851 & MQ & 3944 & N942MQ & JFK & BWI &  41 &  184 & 18 & 35 & 2013-01-01 18:00:00\\\\\n\t 2013 & 1 & 13 & 1809 &  810 &  599 & 2054 & 1042 &  612 & DL &  269 & N322NB & JFK & ATL & 116 &  760 &  8 & 10 & 2013-01-13 08:00:00\\\\\n\t 2013 & 1 & 16 & 1622 &  800 &  502 & 1911 & 1054 &  497 & B6 &  517 & N661JB & EWR & MCO & 144 &  937 &  8 &  0 & 2013-01-16 08:00:00\\\\\n\t 2013 & 1 & 23 & 1551 &  753 &  478 & 1812 & 1006 &  486 & DL & 2119 & N326NB & LGA & MSP & 166 & 1020 &  7 & 53 & 2013-01-23 07:00:00\\\\\n\t 2013 & 1 &  1 & 2343 & 1724 &  379 &  314 & 1938 &  456 & EV & 4321 & N21197 & EWR & MCI & 222 & 1092 & 17 & 24 & 2013-01-01 17:00:00\\\\\n\t 2013 & 1 & 10 & 1525 &  900 &  385 & 1713 & 1039 &  394 & UA &  544 & N419UA & LGA & ORD & 123 &  733 &  9 &  0 & 2013-01-10 09:00:00\\\\\n\t 2013 & 1 & 25 &   15 & 1815 &  360 &  208 & 1958 &  370 & 9E & 4019 & N8646A & JFK & RIC &  56 &  288 & 18 & 15 & 2013-01-25 18:00:00\\\\\n\t 2013 & 1 &  2 & 1607 & 1030 &  337 & 2003 & 1355 &  368 & AA &  179 & N324AA & JFK & SFO & 346 & 2586 & 10 & 30 & 2013-01-02 10:00:00\\\\\n\t 2013 & 1 &  7 & 2021 & 1415 &  366 & 2332 & 1724 &  368 & B6 &  377 & N789JB & LGA & FLL & 153 & 1076 & 14 & 15 & 2013-01-07 14:00:00\\\\\n\t 2013 & 1 & 25 & 2020 & 1527 &  293 & 2304 & 1700 &  364 & EV & 3835 & N14920 & EWR & BNA & 124 &  748 & 15 & 27 & 2013-01-25 15:00:00\\\\\n\t 2013 & 1 &  2 & 2131 & 1512 &  379 & 2340 & 1741 &  359 & UA &  488 & N593UA & LGA & DEN & 228 & 1620 & 15 & 12 & 2013-01-02 15:00:00\\\\\n\t 2013 & 1 & 26 & 1409 &  820 &  349 & 1528 &  937 &  351 & 9E & 4051 & N8444F & JFK & BWI &  37 &  184 &  8 & 20 & 2013-01-26 08:00:00\\\\\n\t 2013 & 1 & 11 & 1310 &  710 &  360 & 1438 &  850 &  348 & MQ & 3737 & N509MQ & EWR & ORD & 116 &  719 &  7 & 10 & 2013-01-11 07:00:00\\\\\n\t 2013 & 1 & 24 & 2051 & 1522 &  329 & 2307 & 1727 &  340 & EV & 4576 & N21144 & EWR & GRR & 107 &  605 & 15 & 22 & 2013-01-24 15:00:00\\\\\n\t 2013 & 1 &  1 & 1815 & 1325 &  290 & 2120 & 1542 &  338 & EV & 4417 & N17185 & EWR & OMA & 213 & 1134 & 13 & 25 & 2013-01-01 13:00:00\\\\\n\t 2013 & 1 & 25 & 2203 & 1635 &  328 &   34 & 1856 &  338 & EV & 3805 & N18102 & EWR & SAV & 107 &  708 & 16 & 35 & 2013-01-25 16:00:00\\\\\n\t 2013 & 1 & 31 & 1837 & 1350 &  287 & 2159 & 1624 &  335 & B6 &  615 & N281JB & JFK & JAX & 150 &  828 & 13 & 50 & 2013-01-31 13:00:00\\\\\n\t 2013 & 1 & 25 &   26 & 1850 &  336 &  225 & 2055 &  330 & US & 1491 & N181UW & LGA & CLT &  82 &  544 & 18 & 50 & 2013-01-25 18:00:00\\\\\n\t 2013 & 1 & 14 & 2229 & 1655 &  334 &  157 & 2029 &  328 & DL &  706 & N370NW & JFK & AUS & 243 & 1521 & 16 & 55 & 2013-01-14 16:00:00\\\\\n\t 2013 & 1 & 25 &  123 & 2000 &  323 &  229 & 2101 &  328 & EV & 4309 & N13908 & EWR & ALB &  30 &  143 & 20 &  0 & 2013-01-25 20:00:00\\\\\n\t 2013 & 1 & 25 & 2036 & 1610 &  266 & 2257 & 1732 &  325 & 9E & 3689 & N8913A & JFK & PHL &  27 &   94 & 16 & 10 & 2013-01-25 16:00:00\\\\\n\t 2013 & 1 &  2 & 1412 &  838 &  334 & 1710 & 1147 &  323 & UA &  468 & N474UA & EWR & MCO & 150 &  937 &  8 & 38 & 2013-01-02 08:00:00\\\\\n\t 2013 & 1 &  5 & 1344 &  817 &  327 & 1635 & 1127 &  308 & DL & 1109 & N309US & LGA & TPA & 158 & 1010 &  8 & 17 & 2013-01-05 08:00:00\\\\\n\t 2013 & 1 & 16 & 2013 & 1505 &  308 & 2136 & 1637 &  299 & 9E & 3393 & N920XJ & JFK & DCA &  51 &  213 & 15 &  5 & 2013-01-16 15:00:00\\\\\n\t 2013 & 1 & 25 & 1755 & 1341 &  254 &   34 & 1935 &  299 & UA &   15 & N76065 & EWR & HNL & 648 & 4963 & 13 & 41 & 2013-01-25 13:00:00\\\\\n\t 2013 & 1 & 13 &  115 & 2000 &  315 &  409 & 2312 &  297 & B6 &  801 & N552JB & JFK & FLL & 143 & 1069 & 20 &  0 & 2013-01-13 20:00:00\\\\\n\t 2013 & 1 & 28 & 1857 & 1429 &  268 & 2136 & 1642 &  294 & DL & 1819 & N911DA & LGA & MSP & 162 & 1020 & 14 & 29 & 2013-01-28 14:00:00\\\\\n\t 2013 & 1 & 10 & 2137 & 1630 &  307 &   17 & 1925 &  292 & UA & 1178 & N75435 & EWR & IAH & 197 & 1400 & 16 & 30 & 2013-01-10 16:00:00\\\\\n\t ⋮ & ⋮ & ⋮ & ⋮ & ⋮ & ⋮ & ⋮ & ⋮ & ⋮ & ⋮ & ⋮ & ⋮ & ⋮ & ⋮ & ⋮ & ⋮ & ⋮ & ⋮ & ⋮\\\\\n\t 2013 & 12 & 30 &   NA & 1635 & NA &  NA & 1825 & NA & AA &  343 & N4XVAA & LGA & ORD & NA &  733 & 16 & 35 & 2013-12-30 16:00:00\\\\\n\t 2013 & 12 & 30 &   NA &  600 & NA &  NA &  855 & NA & B6 &  605 & N708JB & EWR & FLL & NA & 1065 &  6 &  0 & 2013-12-30 06:00:00\\\\\n\t 2013 & 12 & 30 &   NA & 1430 & NA &  NA & 1626 & NA & EV & 4261 & N27200 & LGA & CLE & NA &  419 & 14 & 30 & 2013-12-30 14:00:00\\\\\n\t 2013 & 12 & 30 &   NA & 1350 & NA &  NA & 1602 & NA & EV & 4193 & N36915 & EWR & MSP & NA & 1008 & 13 & 50 & 2013-12-30 13:00:00\\\\\n\t 2013 & 12 & 30 &   NA & 1452 & NA &  NA & 1559 & NA & EV & 4372 & N14573 & EWR & DCA & NA &  199 & 14 & 52 & 2013-12-30 14:00:00\\\\\n\t 2013 & 12 & 30 &   NA & 1935 & NA &  NA & 2055 & NA & EV & 5714 & N832AS & JFK & IAD & NA &  228 & 19 & 35 & 2013-12-30 19:00:00\\\\\n\t 2013 & 12 & 30 &   NA & 1011 & NA &  NA & 1134 & NA & EV & 6054 & N16919 & EWR & IAD & NA &  212 & 10 & 11 & 2013-12-30 10:00:00\\\\\n\t 2013 & 12 & 30 &   NA &  605 & NA &  NA &  723 & NA & EV & 6177 & N13553 & EWR & IAD & NA &  212 &  6 &  5 & 2013-12-30 06:00:00\\\\\n\t 2013 & 12 & 30 &   NA & 1505 & NA &  NA & 1759 & NA & UA &  321 & NA     & EWR & MCO & NA &  937 & 15 &  5 & 2013-12-30 15:00:00\\\\\n\t 2013 & 12 & 30 &   NA & 1355 & NA &  NA & 1535 & NA & MQ & 3305 & N821MQ & LGA & RDU & NA &  431 & 13 & 55 & 2013-12-30 13:00:00\\\\\n\t 2013 & 12 & 30 &   NA & 2100 & NA &  NA &   48 & NA & UA & 1081 & NA     & EWR & SFO & NA & 2565 & 21 &  0 & 2013-12-30 21:00:00\\\\\n\t 2013 & 12 & 30 &   NA & 1221 & NA &  NA & 1545 & NA & UA & 1297 & NA     & EWR & SNA & NA & 2434 & 12 & 21 & 2013-12-30 12:00:00\\\\\n\t 2013 & 12 & 30 &   NA &  855 & NA &  NA & 1142 & NA & UA & 1506 & NA     & EWR & JAC & NA & 1874 &  8 & 55 & 2013-12-30 08:00:00\\\\\n\t 2013 & 12 & 31 & 2155 & 2039 & 76 & 253 & 2355 & NA & B6 & 1205 & N627JB & JFK & PDX & NA & 2454 & 20 & 39 & 2013-12-31 20:00:00\\\\\n\t 2013 & 12 & 31 &   NA & 1520 & NA &  NA & 1705 & NA & AA &  341 & N568AA & LGA & ORD & NA &  733 & 15 & 20 & 2013-12-31 15:00:00\\\\\n\t 2013 & 12 & 31 &   NA & 2025 & NA &  NA & 2205 & NA & AA &  371 & N482AA & LGA & ORD & NA &  733 & 20 & 25 & 2013-12-31 20:00:00\\\\\n\t 2013 & 12 & 31 &   NA & 1932 & NA &  NA & 2305 & NA & B6 &  161 & N516JB & JFK & SMF & NA & 2521 & 19 & 32 & 2013-12-31 19:00:00\\\\\n\t 2013 & 12 & 31 &   NA & 1505 & NA &  NA & 1725 & NA & EV & 4181 & N24103 & EWR & MCI & NA & 1092 & 15 &  5 & 2013-12-31 15:00:00\\\\\n\t 2013 & 12 & 31 &   NA & 1000 & NA &  NA & 1252 & NA & UA & 1124 & NA     & EWR & EGE & NA & 1725 & 10 &  0 & 2013-12-31 10:00:00\\\\\n\t 2013 & 12 & 31 &   NA &  840 & NA &  NA & 1205 & NA & UA & 1151 & NA     & EWR & SEA & NA & 2402 &  8 & 40 & 2013-12-31 08:00:00\\\\\n\t 2013 & 12 & 31 &   NA &  754 & NA &  NA & 1118 & NA & UA & 1455 & NA     & EWR & LAX & NA & 2454 &  7 & 54 & 2013-12-31 07:00:00\\\\\n\t 2013 & 12 & 31 &   NA & 2000 & NA &  NA & 2146 & NA & UA & 1482 & NA     & EWR & ORD & NA &  719 & 20 &  0 & 2013-12-31 20:00:00\\\\\n\t 2013 & 12 & 31 &   NA & 1500 & NA &  NA & 1817 & NA & UA & 1483 & NA     & EWR & AUS & NA & 1504 & 15 &  0 & 2013-12-31 15:00:00\\\\\n\t 2013 & 12 & 31 &   NA & 1430 & NA &  NA & 1750 & NA & UA & 1493 & NA     & EWR & LAX & NA & 2454 & 14 & 30 & 2013-12-31 14:00:00\\\\\n\t 2013 & 12 & 31 &   NA &  855 & NA &  NA & 1142 & NA & UA & 1506 & NA     & EWR & JAC & NA & 1874 &  8 & 55 & 2013-12-31 08:00:00\\\\\n\t 2013 & 12 & 31 &   NA &  705 & NA &  NA &  931 & NA & UA & 1729 & NA     & EWR & DEN & NA & 1605 &  7 &  5 & 2013-12-31 07:00:00\\\\\n\t 2013 & 12 & 31 &   NA &  825 & NA &  NA & 1029 & NA & US & 1831 & NA     & JFK & CLT & NA &  541 &  8 & 25 & 2013-12-31 08:00:00\\\\\n\t 2013 & 12 & 31 &   NA & 1615 & NA &  NA & 1800 & NA & MQ & 3301 & N844MQ & LGA & RDU & NA &  431 & 16 & 15 & 2013-12-31 16:00:00\\\\\n\t 2013 & 12 & 31 &   NA &  600 & NA &  NA &  735 & NA & UA &  219 & NA     & EWR & ORD & NA &  719 &  6 &  0 & 2013-12-31 06:00:00\\\\\n\t 2013 & 12 & 31 &   NA &  830 & NA &  NA & 1154 & NA & UA &  443 & NA     & JFK & LAX & NA & 2475 &  8 & 30 & 2013-12-31 08:00:00\\\\\n\\end{tabular}\n",
            "text/plain": [
              "       year month day dep_time sched_dep_time dep_delay arr_time sched_arr_time\n",
              "1      2013 1      9   641      900           1301      1242     1530          \n",
              "2      2013 1     10  1121     1635           1126      1239     1810          \n",
              "3      2013 1      1   848     1835            853      1001     1950          \n",
              "4      2013 1     13  1809      810            599      2054     1042          \n",
              "5      2013 1     16  1622      800            502      1911     1054          \n",
              "6      2013 1     23  1551      753            478      1812     1006          \n",
              "7      2013 1      1  2343     1724            379       314     1938          \n",
              "8      2013 1     10  1525      900            385      1713     1039          \n",
              "9      2013 1     25    15     1815            360       208     1958          \n",
              "10     2013 1      2  1607     1030            337      2003     1355          \n",
              "11     2013 1      7  2021     1415            366      2332     1724          \n",
              "12     2013 1     25  2020     1527            293      2304     1700          \n",
              "13     2013 1      2  2131     1512            379      2340     1741          \n",
              "14     2013 1     26  1409      820            349      1528      937          \n",
              "15     2013 1     11  1310      710            360      1438      850          \n",
              "16     2013 1     24  2051     1522            329      2307     1727          \n",
              "17     2013 1      1  1815     1325            290      2120     1542          \n",
              "18     2013 1     25  2203     1635            328        34     1856          \n",
              "19     2013 1     31  1837     1350            287      2159     1624          \n",
              "20     2013 1     25    26     1850            336       225     2055          \n",
              "21     2013 1     14  2229     1655            334       157     2029          \n",
              "22     2013 1     25   123     2000            323       229     2101          \n",
              "23     2013 1     25  2036     1610            266      2257     1732          \n",
              "24     2013 1      2  1412      838            334      1710     1147          \n",
              "25     2013 1      5  1344      817            327      1635     1127          \n",
              "26     2013 1     16  2013     1505            308      2136     1637          \n",
              "27     2013 1     25  1755     1341            254        34     1935          \n",
              "28     2013 1     13   115     2000            315       409     2312          \n",
              "29     2013 1     28  1857     1429            268      2136     1642          \n",
              "30     2013 1     10  2137     1630            307        17     1925          \n",
              "⋮      ⋮    ⋮     ⋮   ⋮        ⋮              ⋮         ⋮        ⋮             \n",
              "336747 2013 12    30    NA     1635           NA         NA      1825          \n",
              "336748 2013 12    30    NA      600           NA         NA       855          \n",
              "336749 2013 12    30    NA     1430           NA         NA      1626          \n",
              "336750 2013 12    30    NA     1350           NA         NA      1602          \n",
              "336751 2013 12    30    NA     1452           NA         NA      1559          \n",
              "336752 2013 12    30    NA     1935           NA         NA      2055          \n",
              "336753 2013 12    30    NA     1011           NA         NA      1134          \n",
              "336754 2013 12    30    NA      605           NA         NA       723          \n",
              "336755 2013 12    30    NA     1505           NA         NA      1759          \n",
              "336756 2013 12    30    NA     1355           NA         NA      1535          \n",
              "336757 2013 12    30    NA     2100           NA         NA        48          \n",
              "336758 2013 12    30    NA     1221           NA         NA      1545          \n",
              "336759 2013 12    30    NA      855           NA         NA      1142          \n",
              "336760 2013 12    31  2155     2039           76        253      2355          \n",
              "336761 2013 12    31    NA     1520           NA         NA      1705          \n",
              "336762 2013 12    31    NA     2025           NA         NA      2205          \n",
              "336763 2013 12    31    NA     1932           NA         NA      2305          \n",
              "336764 2013 12    31    NA     1505           NA         NA      1725          \n",
              "336765 2013 12    31    NA     1000           NA         NA      1252          \n",
              "336766 2013 12    31    NA      840           NA         NA      1205          \n",
              "336767 2013 12    31    NA      754           NA         NA      1118          \n",
              "336768 2013 12    31    NA     2000           NA         NA      2146          \n",
              "336769 2013 12    31    NA     1500           NA         NA      1817          \n",
              "336770 2013 12    31    NA     1430           NA         NA      1750          \n",
              "336771 2013 12    31    NA      855           NA         NA      1142          \n",
              "336772 2013 12    31    NA      705           NA         NA       931          \n",
              "336773 2013 12    31    NA      825           NA         NA      1029          \n",
              "336774 2013 12    31    NA     1615           NA         NA      1800          \n",
              "336775 2013 12    31    NA      600           NA         NA       735          \n",
              "336776 2013 12    31    NA      830           NA         NA      1154          \n",
              "       arr_delay carrier flight tailnum origin dest air_time distance hour\n",
              "1      1272      HA        51   N384HA  JFK    HNL  640      4983      9  \n",
              "2      1109      MQ      3695   N517MQ  EWR    ORD  111       719     16  \n",
              "3       851      MQ      3944   N942MQ  JFK    BWI   41       184     18  \n",
              "4       612      DL       269   N322NB  JFK    ATL  116       760      8  \n",
              "5       497      B6       517   N661JB  EWR    MCO  144       937      8  \n",
              "6       486      DL      2119   N326NB  LGA    MSP  166      1020      7  \n",
              "7       456      EV      4321   N21197  EWR    MCI  222      1092     17  \n",
              "8       394      UA       544   N419UA  LGA    ORD  123       733      9  \n",
              "9       370      9E      4019   N8646A  JFK    RIC   56       288     18  \n",
              "10      368      AA       179   N324AA  JFK    SFO  346      2586     10  \n",
              "11      368      B6       377   N789JB  LGA    FLL  153      1076     14  \n",
              "12      364      EV      3835   N14920  EWR    BNA  124       748     15  \n",
              "13      359      UA       488   N593UA  LGA    DEN  228      1620     15  \n",
              "14      351      9E      4051   N8444F  JFK    BWI   37       184      8  \n",
              "15      348      MQ      3737   N509MQ  EWR    ORD  116       719      7  \n",
              "16      340      EV      4576   N21144  EWR    GRR  107       605     15  \n",
              "17      338      EV      4417   N17185  EWR    OMA  213      1134     13  \n",
              "18      338      EV      3805   N18102  EWR    SAV  107       708     16  \n",
              "19      335      B6       615   N281JB  JFK    JAX  150       828     13  \n",
              "20      330      US      1491   N181UW  LGA    CLT   82       544     18  \n",
              "21      328      DL       706   N370NW  JFK    AUS  243      1521     16  \n",
              "22      328      EV      4309   N13908  EWR    ALB   30       143     20  \n",
              "23      325      9E      3689   N8913A  JFK    PHL   27        94     16  \n",
              "24      323      UA       468   N474UA  EWR    MCO  150       937      8  \n",
              "25      308      DL      1109   N309US  LGA    TPA  158      1010      8  \n",
              "26      299      9E      3393   N920XJ  JFK    DCA   51       213     15  \n",
              "27      299      UA        15   N76065  EWR    HNL  648      4963     13  \n",
              "28      297      B6       801   N552JB  JFK    FLL  143      1069     20  \n",
              "29      294      DL      1819   N911DA  LGA    MSP  162      1020     14  \n",
              "30      292      UA      1178   N75435  EWR    IAH  197      1400     16  \n",
              "⋮      ⋮         ⋮       ⋮      ⋮       ⋮      ⋮    ⋮        ⋮        ⋮   \n",
              "336747 NA        AA       343   N4XVAA  LGA    ORD  NA        733     16  \n",
              "336748 NA        B6       605   N708JB  EWR    FLL  NA       1065      6  \n",
              "336749 NA        EV      4261   N27200  LGA    CLE  NA        419     14  \n",
              "336750 NA        EV      4193   N36915  EWR    MSP  NA       1008     13  \n",
              "336751 NA        EV      4372   N14573  EWR    DCA  NA        199     14  \n",
              "336752 NA        EV      5714   N832AS  JFK    IAD  NA        228     19  \n",
              "336753 NA        EV      6054   N16919  EWR    IAD  NA        212     10  \n",
              "336754 NA        EV      6177   N13553  EWR    IAD  NA        212      6  \n",
              "336755 NA        UA       321   NA      EWR    MCO  NA        937     15  \n",
              "336756 NA        MQ      3305   N821MQ  LGA    RDU  NA        431     13  \n",
              "336757 NA        UA      1081   NA      EWR    SFO  NA       2565     21  \n",
              "336758 NA        UA      1297   NA      EWR    SNA  NA       2434     12  \n",
              "336759 NA        UA      1506   NA      EWR    JAC  NA       1874      8  \n",
              "336760 NA        B6      1205   N627JB  JFK    PDX  NA       2454     20  \n",
              "336761 NA        AA       341   N568AA  LGA    ORD  NA        733     15  \n",
              "336762 NA        AA       371   N482AA  LGA    ORD  NA        733     20  \n",
              "336763 NA        B6       161   N516JB  JFK    SMF  NA       2521     19  \n",
              "336764 NA        EV      4181   N24103  EWR    MCI  NA       1092     15  \n",
              "336765 NA        UA      1124   NA      EWR    EGE  NA       1725     10  \n",
              "336766 NA        UA      1151   NA      EWR    SEA  NA       2402      8  \n",
              "336767 NA        UA      1455   NA      EWR    LAX  NA       2454      7  \n",
              "336768 NA        UA      1482   NA      EWR    ORD  NA        719     20  \n",
              "336769 NA        UA      1483   NA      EWR    AUS  NA       1504     15  \n",
              "336770 NA        UA      1493   NA      EWR    LAX  NA       2454     14  \n",
              "336771 NA        UA      1506   NA      EWR    JAC  NA       1874      8  \n",
              "336772 NA        UA      1729   NA      EWR    DEN  NA       1605      7  \n",
              "336773 NA        US      1831   NA      JFK    CLT  NA        541      8  \n",
              "336774 NA        MQ      3301   N844MQ  LGA    RDU  NA        431     16  \n",
              "336775 NA        UA       219   NA      EWR    ORD  NA        719      6  \n",
              "336776 NA        UA       443   NA      JFK    LAX  NA       2475      8  \n",
              "       minute time_hour          \n",
              "1       0     2013-01-09 09:00:00\n",
              "2      35     2013-01-10 16:00:00\n",
              "3      35     2013-01-01 18:00:00\n",
              "4      10     2013-01-13 08:00:00\n",
              "5       0     2013-01-16 08:00:00\n",
              "6      53     2013-01-23 07:00:00\n",
              "7      24     2013-01-01 17:00:00\n",
              "8       0     2013-01-10 09:00:00\n",
              "9      15     2013-01-25 18:00:00\n",
              "10     30     2013-01-02 10:00:00\n",
              "11     15     2013-01-07 14:00:00\n",
              "12     27     2013-01-25 15:00:00\n",
              "13     12     2013-01-02 15:00:00\n",
              "14     20     2013-01-26 08:00:00\n",
              "15     10     2013-01-11 07:00:00\n",
              "16     22     2013-01-24 15:00:00\n",
              "17     25     2013-01-01 13:00:00\n",
              "18     35     2013-01-25 16:00:00\n",
              "19     50     2013-01-31 13:00:00\n",
              "20     50     2013-01-25 18:00:00\n",
              "21     55     2013-01-14 16:00:00\n",
              "22      0     2013-01-25 20:00:00\n",
              "23     10     2013-01-25 16:00:00\n",
              "24     38     2013-01-02 08:00:00\n",
              "25     17     2013-01-05 08:00:00\n",
              "26      5     2013-01-16 15:00:00\n",
              "27     41     2013-01-25 13:00:00\n",
              "28      0     2013-01-13 20:00:00\n",
              "29     29     2013-01-28 14:00:00\n",
              "30     30     2013-01-10 16:00:00\n",
              "⋮      ⋮      ⋮                  \n",
              "336747 35     2013-12-30 16:00:00\n",
              "336748  0     2013-12-30 06:00:00\n",
              "336749 30     2013-12-30 14:00:00\n",
              "336750 50     2013-12-30 13:00:00\n",
              "336751 52     2013-12-30 14:00:00\n",
              "336752 35     2013-12-30 19:00:00\n",
              "336753 11     2013-12-30 10:00:00\n",
              "336754  5     2013-12-30 06:00:00\n",
              "336755  5     2013-12-30 15:00:00\n",
              "336756 55     2013-12-30 13:00:00\n",
              "336757  0     2013-12-30 21:00:00\n",
              "336758 21     2013-12-30 12:00:00\n",
              "336759 55     2013-12-30 08:00:00\n",
              "336760 39     2013-12-31 20:00:00\n",
              "336761 20     2013-12-31 15:00:00\n",
              "336762 25     2013-12-31 20:00:00\n",
              "336763 32     2013-12-31 19:00:00\n",
              "336764  5     2013-12-31 15:00:00\n",
              "336765  0     2013-12-31 10:00:00\n",
              "336766 40     2013-12-31 08:00:00\n",
              "336767 54     2013-12-31 07:00:00\n",
              "336768  0     2013-12-31 20:00:00\n",
              "336769  0     2013-12-31 15:00:00\n",
              "336770 30     2013-12-31 14:00:00\n",
              "336771 55     2013-12-31 08:00:00\n",
              "336772  5     2013-12-31 07:00:00\n",
              "336773 25     2013-12-31 08:00:00\n",
              "336774 15     2013-12-31 16:00:00\n",
              "336775  0     2013-12-31 06:00:00\n",
              "336776 30     2013-12-31 08:00:00"
            ]
          },
          "metadata": {}
        }
      ]
    },
    {
      "cell_type": "markdown",
      "metadata": {
        "id": "7HrxhqMGRPyp"
      },
      "source": [
        "### 4.3 Funciones select() y rename()\n",
        "\n",
        "La con la función `select` podemos seleccionar un subconjunto de columas de la tabla original. A difernecia de SQL en esta sentencia no podremos crear nuevas columnas, sólo renombrarlas en algunos casos. Notar que (obviamente) no se mantienen las columnas que no ingresan como argumento a la función.\n",
        "\n",
        "La función rename() permite renombrar columnas existentes, manteniendo las columnas que no se están renombrando."
      ]
    },
    {
      "cell_type": "code",
      "metadata": {
        "trusted": true,
        "id": "he9R_3AURPyp",
        "outputId": "df96376b-840a-492c-d568-1135465590a5",
        "colab": {
          "base_uri": "https://localhost:8080/",
          "height": 1000
        }
      },
      "source": [
        "# select() y rename() ----------------------------------------------------------------\n",
        "# Ejemplo: Podemos seleccionar las columnas year, month, day, origin, dest\n",
        "\n",
        "# Cómo lo haríamos con la sintaxis básica? (recorr como acceder a través del nombre a un vector, matrix, lista, o data.frame)\n",
        "\n",
        "vuelos[, c(\"year\", \"month\", \"day\", \"origin\", \"dest\")]\n"
      ],
      "execution_count": null,
      "outputs": [
        {
          "output_type": "display_data",
          "data": {
            "text/html": [
              "<table class=\"dataframe\">\n",
              "<caption>A data.frame: 336776 × 5</caption>\n",
              "<thead>\n",
              "\t<tr><th scope=col>year</th><th scope=col>month</th><th scope=col>day</th><th scope=col>origin</th><th scope=col>dest</th></tr>\n",
              "\t<tr><th scope=col>&lt;int&gt;</th><th scope=col>&lt;int&gt;</th><th scope=col>&lt;int&gt;</th><th scope=col>&lt;chr&gt;</th><th scope=col>&lt;chr&gt;</th></tr>\n",
              "</thead>\n",
              "<tbody>\n",
              "\t<tr><td>2013</td><td>1</td><td>1</td><td>EWR</td><td>IAH</td></tr>\n",
              "\t<tr><td>2013</td><td>1</td><td>1</td><td>LGA</td><td>IAH</td></tr>\n",
              "\t<tr><td>2013</td><td>1</td><td>1</td><td>JFK</td><td>MIA</td></tr>\n",
              "\t<tr><td>2013</td><td>1</td><td>1</td><td>JFK</td><td>BQN</td></tr>\n",
              "\t<tr><td>2013</td><td>1</td><td>1</td><td>LGA</td><td>ATL</td></tr>\n",
              "\t<tr><td>2013</td><td>1</td><td>1</td><td>EWR</td><td>ORD</td></tr>\n",
              "\t<tr><td>2013</td><td>1</td><td>1</td><td>EWR</td><td>FLL</td></tr>\n",
              "\t<tr><td>2013</td><td>1</td><td>1</td><td>LGA</td><td>IAD</td></tr>\n",
              "\t<tr><td>2013</td><td>1</td><td>1</td><td>JFK</td><td>MCO</td></tr>\n",
              "\t<tr><td>2013</td><td>1</td><td>1</td><td>LGA</td><td>ORD</td></tr>\n",
              "\t<tr><td>2013</td><td>1</td><td>1</td><td>JFK</td><td>PBI</td></tr>\n",
              "\t<tr><td>2013</td><td>1</td><td>1</td><td>JFK</td><td>TPA</td></tr>\n",
              "\t<tr><td>2013</td><td>1</td><td>1</td><td>JFK</td><td>LAX</td></tr>\n",
              "\t<tr><td>2013</td><td>1</td><td>1</td><td>EWR</td><td>SFO</td></tr>\n",
              "\t<tr><td>2013</td><td>1</td><td>1</td><td>LGA</td><td>DFW</td></tr>\n",
              "\t<tr><td>2013</td><td>1</td><td>1</td><td>JFK</td><td>BOS</td></tr>\n",
              "\t<tr><td>2013</td><td>1</td><td>1</td><td>EWR</td><td>LAS</td></tr>\n",
              "\t<tr><td>2013</td><td>1</td><td>1</td><td>LGA</td><td>FLL</td></tr>\n",
              "\t<tr><td>2013</td><td>1</td><td>1</td><td>LGA</td><td>ATL</td></tr>\n",
              "\t<tr><td>2013</td><td>1</td><td>1</td><td>EWR</td><td>PBI</td></tr>\n",
              "\t<tr><td>2013</td><td>1</td><td>1</td><td>LGA</td><td>MSP</td></tr>\n",
              "\t<tr><td>2013</td><td>1</td><td>1</td><td>LGA</td><td>DTW</td></tr>\n",
              "\t<tr><td>2013</td><td>1</td><td>1</td><td>EWR</td><td>MIA</td></tr>\n",
              "\t<tr><td>2013</td><td>1</td><td>1</td><td>JFK</td><td>ATL</td></tr>\n",
              "\t<tr><td>2013</td><td>1</td><td>1</td><td>EWR</td><td>MIA</td></tr>\n",
              "\t<tr><td>2013</td><td>1</td><td>1</td><td>EWR</td><td>ORD</td></tr>\n",
              "\t<tr><td>2013</td><td>1</td><td>1</td><td>JFK</td><td>SFO</td></tr>\n",
              "\t<tr><td>2013</td><td>1</td><td>1</td><td>JFK</td><td>RSW</td></tr>\n",
              "\t<tr><td>2013</td><td>1</td><td>1</td><td>JFK</td><td>SJU</td></tr>\n",
              "\t<tr><td>2013</td><td>1</td><td>1</td><td>EWR</td><td>ATL</td></tr>\n",
              "\t<tr><td>⋮</td><td>⋮</td><td>⋮</td><td>⋮</td><td>⋮</td></tr>\n",
              "\t<tr><td>2013</td><td>9</td><td>30</td><td>LGA</td><td>CHO</td></tr>\n",
              "\t<tr><td>2013</td><td>9</td><td>30</td><td>EWR</td><td>CLT</td></tr>\n",
              "\t<tr><td>2013</td><td>9</td><td>30</td><td>JFK</td><td>DEN</td></tr>\n",
              "\t<tr><td>2013</td><td>9</td><td>30</td><td>LGA</td><td>RIC</td></tr>\n",
              "\t<tr><td>2013</td><td>9</td><td>30</td><td>JFK</td><td>DCA</td></tr>\n",
              "\t<tr><td>2013</td><td>9</td><td>30</td><td>JFK</td><td>LAX</td></tr>\n",
              "\t<tr><td>2013</td><td>9</td><td>30</td><td>EWR</td><td>PWM</td></tr>\n",
              "\t<tr><td>2013</td><td>9</td><td>30</td><td>JFK</td><td>SJU</td></tr>\n",
              "\t<tr><td>2013</td><td>9</td><td>30</td><td>LGA</td><td>FLL</td></tr>\n",
              "\t<tr><td>2013</td><td>9</td><td>30</td><td>EWR</td><td>BOS</td></tr>\n",
              "\t<tr><td>2013</td><td>9</td><td>30</td><td>EWR</td><td>MHT</td></tr>\n",
              "\t<tr><td>2013</td><td>9</td><td>30</td><td>JFK</td><td>BUF</td></tr>\n",
              "\t<tr><td>2013</td><td>9</td><td>30</td><td>LGA</td><td>BGR</td></tr>\n",
              "\t<tr><td>2013</td><td>9</td><td>30</td><td>LGA</td><td>BNA</td></tr>\n",
              "\t<tr><td>2013</td><td>9</td><td>30</td><td>EWR</td><td>STL</td></tr>\n",
              "\t<tr><td>2013</td><td>9</td><td>30</td><td>JFK</td><td>PWM</td></tr>\n",
              "\t<tr><td>2013</td><td>9</td><td>30</td><td>EWR</td><td>SFO</td></tr>\n",
              "\t<tr><td>2013</td><td>9</td><td>30</td><td>JFK</td><td>MCO</td></tr>\n",
              "\t<tr><td>2013</td><td>9</td><td>30</td><td>JFK</td><td>BTV</td></tr>\n",
              "\t<tr><td>2013</td><td>9</td><td>30</td><td>JFK</td><td>SYR</td></tr>\n",
              "\t<tr><td>2013</td><td>9</td><td>30</td><td>JFK</td><td>BUF</td></tr>\n",
              "\t<tr><td>2013</td><td>9</td><td>30</td><td>JFK</td><td>ROC</td></tr>\n",
              "\t<tr><td>2013</td><td>9</td><td>30</td><td>JFK</td><td>BOS</td></tr>\n",
              "\t<tr><td>2013</td><td>9</td><td>30</td><td>JFK</td><td>PSE</td></tr>\n",
              "\t<tr><td>2013</td><td>9</td><td>30</td><td>LGA</td><td>BNA</td></tr>\n",
              "\t<tr><td>2013</td><td>9</td><td>30</td><td>JFK</td><td>DCA</td></tr>\n",
              "\t<tr><td>2013</td><td>9</td><td>30</td><td>LGA</td><td>SYR</td></tr>\n",
              "\t<tr><td>2013</td><td>9</td><td>30</td><td>LGA</td><td>BNA</td></tr>\n",
              "\t<tr><td>2013</td><td>9</td><td>30</td><td>LGA</td><td>CLE</td></tr>\n",
              "\t<tr><td>2013</td><td>9</td><td>30</td><td>LGA</td><td>RDU</td></tr>\n",
              "</tbody>\n",
              "</table>\n"
            ],
            "text/markdown": "\nA data.frame: 336776 × 5\n\n| year &lt;int&gt; | month &lt;int&gt; | day &lt;int&gt; | origin &lt;chr&gt; | dest &lt;chr&gt; |\n|---|---|---|---|---|\n| 2013 | 1 | 1 | EWR | IAH |\n| 2013 | 1 | 1 | LGA | IAH |\n| 2013 | 1 | 1 | JFK | MIA |\n| 2013 | 1 | 1 | JFK | BQN |\n| 2013 | 1 | 1 | LGA | ATL |\n| 2013 | 1 | 1 | EWR | ORD |\n| 2013 | 1 | 1 | EWR | FLL |\n| 2013 | 1 | 1 | LGA | IAD |\n| 2013 | 1 | 1 | JFK | MCO |\n| 2013 | 1 | 1 | LGA | ORD |\n| 2013 | 1 | 1 | JFK | PBI |\n| 2013 | 1 | 1 | JFK | TPA |\n| 2013 | 1 | 1 | JFK | LAX |\n| 2013 | 1 | 1 | EWR | SFO |\n| 2013 | 1 | 1 | LGA | DFW |\n| 2013 | 1 | 1 | JFK | BOS |\n| 2013 | 1 | 1 | EWR | LAS |\n| 2013 | 1 | 1 | LGA | FLL |\n| 2013 | 1 | 1 | LGA | ATL |\n| 2013 | 1 | 1 | EWR | PBI |\n| 2013 | 1 | 1 | LGA | MSP |\n| 2013 | 1 | 1 | LGA | DTW |\n| 2013 | 1 | 1 | EWR | MIA |\n| 2013 | 1 | 1 | JFK | ATL |\n| 2013 | 1 | 1 | EWR | MIA |\n| 2013 | 1 | 1 | EWR | ORD |\n| 2013 | 1 | 1 | JFK | SFO |\n| 2013 | 1 | 1 | JFK | RSW |\n| 2013 | 1 | 1 | JFK | SJU |\n| 2013 | 1 | 1 | EWR | ATL |\n| ⋮ | ⋮ | ⋮ | ⋮ | ⋮ |\n| 2013 | 9 | 30 | LGA | CHO |\n| 2013 | 9 | 30 | EWR | CLT |\n| 2013 | 9 | 30 | JFK | DEN |\n| 2013 | 9 | 30 | LGA | RIC |\n| 2013 | 9 | 30 | JFK | DCA |\n| 2013 | 9 | 30 | JFK | LAX |\n| 2013 | 9 | 30 | EWR | PWM |\n| 2013 | 9 | 30 | JFK | SJU |\n| 2013 | 9 | 30 | LGA | FLL |\n| 2013 | 9 | 30 | EWR | BOS |\n| 2013 | 9 | 30 | EWR | MHT |\n| 2013 | 9 | 30 | JFK | BUF |\n| 2013 | 9 | 30 | LGA | BGR |\n| 2013 | 9 | 30 | LGA | BNA |\n| 2013 | 9 | 30 | EWR | STL |\n| 2013 | 9 | 30 | JFK | PWM |\n| 2013 | 9 | 30 | EWR | SFO |\n| 2013 | 9 | 30 | JFK | MCO |\n| 2013 | 9 | 30 | JFK | BTV |\n| 2013 | 9 | 30 | JFK | SYR |\n| 2013 | 9 | 30 | JFK | BUF |\n| 2013 | 9 | 30 | JFK | ROC |\n| 2013 | 9 | 30 | JFK | BOS |\n| 2013 | 9 | 30 | JFK | PSE |\n| 2013 | 9 | 30 | LGA | BNA |\n| 2013 | 9 | 30 | JFK | DCA |\n| 2013 | 9 | 30 | LGA | SYR |\n| 2013 | 9 | 30 | LGA | BNA |\n| 2013 | 9 | 30 | LGA | CLE |\n| 2013 | 9 | 30 | LGA | RDU |\n\n",
            "text/latex": "A data.frame: 336776 × 5\n\\begin{tabular}{lllll}\n year & month & day & origin & dest\\\\\n <int> & <int> & <int> & <chr> & <chr>\\\\\n\\hline\n\t 2013 & 1 & 1 & EWR & IAH\\\\\n\t 2013 & 1 & 1 & LGA & IAH\\\\\n\t 2013 & 1 & 1 & JFK & MIA\\\\\n\t 2013 & 1 & 1 & JFK & BQN\\\\\n\t 2013 & 1 & 1 & LGA & ATL\\\\\n\t 2013 & 1 & 1 & EWR & ORD\\\\\n\t 2013 & 1 & 1 & EWR & FLL\\\\\n\t 2013 & 1 & 1 & LGA & IAD\\\\\n\t 2013 & 1 & 1 & JFK & MCO\\\\\n\t 2013 & 1 & 1 & LGA & ORD\\\\\n\t 2013 & 1 & 1 & JFK & PBI\\\\\n\t 2013 & 1 & 1 & JFK & TPA\\\\\n\t 2013 & 1 & 1 & JFK & LAX\\\\\n\t 2013 & 1 & 1 & EWR & SFO\\\\\n\t 2013 & 1 & 1 & LGA & DFW\\\\\n\t 2013 & 1 & 1 & JFK & BOS\\\\\n\t 2013 & 1 & 1 & EWR & LAS\\\\\n\t 2013 & 1 & 1 & LGA & FLL\\\\\n\t 2013 & 1 & 1 & LGA & ATL\\\\\n\t 2013 & 1 & 1 & EWR & PBI\\\\\n\t 2013 & 1 & 1 & LGA & MSP\\\\\n\t 2013 & 1 & 1 & LGA & DTW\\\\\n\t 2013 & 1 & 1 & EWR & MIA\\\\\n\t 2013 & 1 & 1 & JFK & ATL\\\\\n\t 2013 & 1 & 1 & EWR & MIA\\\\\n\t 2013 & 1 & 1 & EWR & ORD\\\\\n\t 2013 & 1 & 1 & JFK & SFO\\\\\n\t 2013 & 1 & 1 & JFK & RSW\\\\\n\t 2013 & 1 & 1 & JFK & SJU\\\\\n\t 2013 & 1 & 1 & EWR & ATL\\\\\n\t ⋮ & ⋮ & ⋮ & ⋮ & ⋮\\\\\n\t 2013 & 9 & 30 & LGA & CHO\\\\\n\t 2013 & 9 & 30 & EWR & CLT\\\\\n\t 2013 & 9 & 30 & JFK & DEN\\\\\n\t 2013 & 9 & 30 & LGA & RIC\\\\\n\t 2013 & 9 & 30 & JFK & DCA\\\\\n\t 2013 & 9 & 30 & JFK & LAX\\\\\n\t 2013 & 9 & 30 & EWR & PWM\\\\\n\t 2013 & 9 & 30 & JFK & SJU\\\\\n\t 2013 & 9 & 30 & LGA & FLL\\\\\n\t 2013 & 9 & 30 & EWR & BOS\\\\\n\t 2013 & 9 & 30 & EWR & MHT\\\\\n\t 2013 & 9 & 30 & JFK & BUF\\\\\n\t 2013 & 9 & 30 & LGA & BGR\\\\\n\t 2013 & 9 & 30 & LGA & BNA\\\\\n\t 2013 & 9 & 30 & EWR & STL\\\\\n\t 2013 & 9 & 30 & JFK & PWM\\\\\n\t 2013 & 9 & 30 & EWR & SFO\\\\\n\t 2013 & 9 & 30 & JFK & MCO\\\\\n\t 2013 & 9 & 30 & JFK & BTV\\\\\n\t 2013 & 9 & 30 & JFK & SYR\\\\\n\t 2013 & 9 & 30 & JFK & BUF\\\\\n\t 2013 & 9 & 30 & JFK & ROC\\\\\n\t 2013 & 9 & 30 & JFK & BOS\\\\\n\t 2013 & 9 & 30 & JFK & PSE\\\\\n\t 2013 & 9 & 30 & LGA & BNA\\\\\n\t 2013 & 9 & 30 & JFK & DCA\\\\\n\t 2013 & 9 & 30 & LGA & SYR\\\\\n\t 2013 & 9 & 30 & LGA & BNA\\\\\n\t 2013 & 9 & 30 & LGA & CLE\\\\\n\t 2013 & 9 & 30 & LGA & RDU\\\\\n\\end{tabular}\n",
            "text/plain": [
              "       year month day origin dest\n",
              "1      2013 1     1   EWR    IAH \n",
              "2      2013 1     1   LGA    IAH \n",
              "3      2013 1     1   JFK    MIA \n",
              "4      2013 1     1   JFK    BQN \n",
              "5      2013 1     1   LGA    ATL \n",
              "6      2013 1     1   EWR    ORD \n",
              "7      2013 1     1   EWR    FLL \n",
              "8      2013 1     1   LGA    IAD \n",
              "9      2013 1     1   JFK    MCO \n",
              "10     2013 1     1   LGA    ORD \n",
              "11     2013 1     1   JFK    PBI \n",
              "12     2013 1     1   JFK    TPA \n",
              "13     2013 1     1   JFK    LAX \n",
              "14     2013 1     1   EWR    SFO \n",
              "15     2013 1     1   LGA    DFW \n",
              "16     2013 1     1   JFK    BOS \n",
              "17     2013 1     1   EWR    LAS \n",
              "18     2013 1     1   LGA    FLL \n",
              "19     2013 1     1   LGA    ATL \n",
              "20     2013 1     1   EWR    PBI \n",
              "21     2013 1     1   LGA    MSP \n",
              "22     2013 1     1   LGA    DTW \n",
              "23     2013 1     1   EWR    MIA \n",
              "24     2013 1     1   JFK    ATL \n",
              "25     2013 1     1   EWR    MIA \n",
              "26     2013 1     1   EWR    ORD \n",
              "27     2013 1     1   JFK    SFO \n",
              "28     2013 1     1   JFK    RSW \n",
              "29     2013 1     1   JFK    SJU \n",
              "30     2013 1     1   EWR    ATL \n",
              "⋮      ⋮    ⋮     ⋮   ⋮      ⋮   \n",
              "336747 2013 9     30  LGA    CHO \n",
              "336748 2013 9     30  EWR    CLT \n",
              "336749 2013 9     30  JFK    DEN \n",
              "336750 2013 9     30  LGA    RIC \n",
              "336751 2013 9     30  JFK    DCA \n",
              "336752 2013 9     30  JFK    LAX \n",
              "336753 2013 9     30  EWR    PWM \n",
              "336754 2013 9     30  JFK    SJU \n",
              "336755 2013 9     30  LGA    FLL \n",
              "336756 2013 9     30  EWR    BOS \n",
              "336757 2013 9     30  EWR    MHT \n",
              "336758 2013 9     30  JFK    BUF \n",
              "336759 2013 9     30  LGA    BGR \n",
              "336760 2013 9     30  LGA    BNA \n",
              "336761 2013 9     30  EWR    STL \n",
              "336762 2013 9     30  JFK    PWM \n",
              "336763 2013 9     30  EWR    SFO \n",
              "336764 2013 9     30  JFK    MCO \n",
              "336765 2013 9     30  JFK    BTV \n",
              "336766 2013 9     30  JFK    SYR \n",
              "336767 2013 9     30  JFK    BUF \n",
              "336768 2013 9     30  JFK    ROC \n",
              "336769 2013 9     30  JFK    BOS \n",
              "336770 2013 9     30  JFK    PSE \n",
              "336771 2013 9     30  LGA    BNA \n",
              "336772 2013 9     30  JFK    DCA \n",
              "336773 2013 9     30  LGA    SYR \n",
              "336774 2013 9     30  LGA    BNA \n",
              "336775 2013 9     30  LGA    CLE \n",
              "336776 2013 9     30  LGA    RDU "
            ]
          },
          "metadata": {}
        }
      ]
    },
    {
      "cell_type": "code",
      "source": [
        "# Ahora con dplyr\n",
        "select(vuelos, year, month, day, origin, dest)"
      ],
      "metadata": {
        "id": "rLYEoAi4LnpZ",
        "outputId": "0c86e88d-0bb2-42f3-b0e5-f9249fde1ed1",
        "colab": {
          "base_uri": "https://localhost:8080/",
          "height": 1000
        }
      },
      "execution_count": null,
      "outputs": [
        {
          "output_type": "display_data",
          "data": {
            "text/html": [
              "<table class=\"dataframe\">\n",
              "<caption>A data.frame: 336776 × 5</caption>\n",
              "<thead>\n",
              "\t<tr><th scope=col>year</th><th scope=col>month</th><th scope=col>day</th><th scope=col>origin</th><th scope=col>dest</th></tr>\n",
              "\t<tr><th scope=col>&lt;int&gt;</th><th scope=col>&lt;int&gt;</th><th scope=col>&lt;int&gt;</th><th scope=col>&lt;chr&gt;</th><th scope=col>&lt;chr&gt;</th></tr>\n",
              "</thead>\n",
              "<tbody>\n",
              "\t<tr><td>2013</td><td>1</td><td>1</td><td>EWR</td><td>IAH</td></tr>\n",
              "\t<tr><td>2013</td><td>1</td><td>1</td><td>LGA</td><td>IAH</td></tr>\n",
              "\t<tr><td>2013</td><td>1</td><td>1</td><td>JFK</td><td>MIA</td></tr>\n",
              "\t<tr><td>2013</td><td>1</td><td>1</td><td>JFK</td><td>BQN</td></tr>\n",
              "\t<tr><td>2013</td><td>1</td><td>1</td><td>LGA</td><td>ATL</td></tr>\n",
              "\t<tr><td>2013</td><td>1</td><td>1</td><td>EWR</td><td>ORD</td></tr>\n",
              "\t<tr><td>2013</td><td>1</td><td>1</td><td>EWR</td><td>FLL</td></tr>\n",
              "\t<tr><td>2013</td><td>1</td><td>1</td><td>LGA</td><td>IAD</td></tr>\n",
              "\t<tr><td>2013</td><td>1</td><td>1</td><td>JFK</td><td>MCO</td></tr>\n",
              "\t<tr><td>2013</td><td>1</td><td>1</td><td>LGA</td><td>ORD</td></tr>\n",
              "\t<tr><td>2013</td><td>1</td><td>1</td><td>JFK</td><td>PBI</td></tr>\n",
              "\t<tr><td>2013</td><td>1</td><td>1</td><td>JFK</td><td>TPA</td></tr>\n",
              "\t<tr><td>2013</td><td>1</td><td>1</td><td>JFK</td><td>LAX</td></tr>\n",
              "\t<tr><td>2013</td><td>1</td><td>1</td><td>EWR</td><td>SFO</td></tr>\n",
              "\t<tr><td>2013</td><td>1</td><td>1</td><td>LGA</td><td>DFW</td></tr>\n",
              "\t<tr><td>2013</td><td>1</td><td>1</td><td>JFK</td><td>BOS</td></tr>\n",
              "\t<tr><td>2013</td><td>1</td><td>1</td><td>EWR</td><td>LAS</td></tr>\n",
              "\t<tr><td>2013</td><td>1</td><td>1</td><td>LGA</td><td>FLL</td></tr>\n",
              "\t<tr><td>2013</td><td>1</td><td>1</td><td>LGA</td><td>ATL</td></tr>\n",
              "\t<tr><td>2013</td><td>1</td><td>1</td><td>EWR</td><td>PBI</td></tr>\n",
              "\t<tr><td>2013</td><td>1</td><td>1</td><td>LGA</td><td>MSP</td></tr>\n",
              "\t<tr><td>2013</td><td>1</td><td>1</td><td>LGA</td><td>DTW</td></tr>\n",
              "\t<tr><td>2013</td><td>1</td><td>1</td><td>EWR</td><td>MIA</td></tr>\n",
              "\t<tr><td>2013</td><td>1</td><td>1</td><td>JFK</td><td>ATL</td></tr>\n",
              "\t<tr><td>2013</td><td>1</td><td>1</td><td>EWR</td><td>MIA</td></tr>\n",
              "\t<tr><td>2013</td><td>1</td><td>1</td><td>EWR</td><td>ORD</td></tr>\n",
              "\t<tr><td>2013</td><td>1</td><td>1</td><td>JFK</td><td>SFO</td></tr>\n",
              "\t<tr><td>2013</td><td>1</td><td>1</td><td>JFK</td><td>RSW</td></tr>\n",
              "\t<tr><td>2013</td><td>1</td><td>1</td><td>JFK</td><td>SJU</td></tr>\n",
              "\t<tr><td>2013</td><td>1</td><td>1</td><td>EWR</td><td>ATL</td></tr>\n",
              "\t<tr><td>⋮</td><td>⋮</td><td>⋮</td><td>⋮</td><td>⋮</td></tr>\n",
              "\t<tr><td>2013</td><td>9</td><td>30</td><td>LGA</td><td>CHO</td></tr>\n",
              "\t<tr><td>2013</td><td>9</td><td>30</td><td>EWR</td><td>CLT</td></tr>\n",
              "\t<tr><td>2013</td><td>9</td><td>30</td><td>JFK</td><td>DEN</td></tr>\n",
              "\t<tr><td>2013</td><td>9</td><td>30</td><td>LGA</td><td>RIC</td></tr>\n",
              "\t<tr><td>2013</td><td>9</td><td>30</td><td>JFK</td><td>DCA</td></tr>\n",
              "\t<tr><td>2013</td><td>9</td><td>30</td><td>JFK</td><td>LAX</td></tr>\n",
              "\t<tr><td>2013</td><td>9</td><td>30</td><td>EWR</td><td>PWM</td></tr>\n",
              "\t<tr><td>2013</td><td>9</td><td>30</td><td>JFK</td><td>SJU</td></tr>\n",
              "\t<tr><td>2013</td><td>9</td><td>30</td><td>LGA</td><td>FLL</td></tr>\n",
              "\t<tr><td>2013</td><td>9</td><td>30</td><td>EWR</td><td>BOS</td></tr>\n",
              "\t<tr><td>2013</td><td>9</td><td>30</td><td>EWR</td><td>MHT</td></tr>\n",
              "\t<tr><td>2013</td><td>9</td><td>30</td><td>JFK</td><td>BUF</td></tr>\n",
              "\t<tr><td>2013</td><td>9</td><td>30</td><td>LGA</td><td>BGR</td></tr>\n",
              "\t<tr><td>2013</td><td>9</td><td>30</td><td>LGA</td><td>BNA</td></tr>\n",
              "\t<tr><td>2013</td><td>9</td><td>30</td><td>EWR</td><td>STL</td></tr>\n",
              "\t<tr><td>2013</td><td>9</td><td>30</td><td>JFK</td><td>PWM</td></tr>\n",
              "\t<tr><td>2013</td><td>9</td><td>30</td><td>EWR</td><td>SFO</td></tr>\n",
              "\t<tr><td>2013</td><td>9</td><td>30</td><td>JFK</td><td>MCO</td></tr>\n",
              "\t<tr><td>2013</td><td>9</td><td>30</td><td>JFK</td><td>BTV</td></tr>\n",
              "\t<tr><td>2013</td><td>9</td><td>30</td><td>JFK</td><td>SYR</td></tr>\n",
              "\t<tr><td>2013</td><td>9</td><td>30</td><td>JFK</td><td>BUF</td></tr>\n",
              "\t<tr><td>2013</td><td>9</td><td>30</td><td>JFK</td><td>ROC</td></tr>\n",
              "\t<tr><td>2013</td><td>9</td><td>30</td><td>JFK</td><td>BOS</td></tr>\n",
              "\t<tr><td>2013</td><td>9</td><td>30</td><td>JFK</td><td>PSE</td></tr>\n",
              "\t<tr><td>2013</td><td>9</td><td>30</td><td>LGA</td><td>BNA</td></tr>\n",
              "\t<tr><td>2013</td><td>9</td><td>30</td><td>JFK</td><td>DCA</td></tr>\n",
              "\t<tr><td>2013</td><td>9</td><td>30</td><td>LGA</td><td>SYR</td></tr>\n",
              "\t<tr><td>2013</td><td>9</td><td>30</td><td>LGA</td><td>BNA</td></tr>\n",
              "\t<tr><td>2013</td><td>9</td><td>30</td><td>LGA</td><td>CLE</td></tr>\n",
              "\t<tr><td>2013</td><td>9</td><td>30</td><td>LGA</td><td>RDU</td></tr>\n",
              "</tbody>\n",
              "</table>\n"
            ],
            "text/markdown": "\nA data.frame: 336776 × 5\n\n| year &lt;int&gt; | month &lt;int&gt; | day &lt;int&gt; | origin &lt;chr&gt; | dest &lt;chr&gt; |\n|---|---|---|---|---|\n| 2013 | 1 | 1 | EWR | IAH |\n| 2013 | 1 | 1 | LGA | IAH |\n| 2013 | 1 | 1 | JFK | MIA |\n| 2013 | 1 | 1 | JFK | BQN |\n| 2013 | 1 | 1 | LGA | ATL |\n| 2013 | 1 | 1 | EWR | ORD |\n| 2013 | 1 | 1 | EWR | FLL |\n| 2013 | 1 | 1 | LGA | IAD |\n| 2013 | 1 | 1 | JFK | MCO |\n| 2013 | 1 | 1 | LGA | ORD |\n| 2013 | 1 | 1 | JFK | PBI |\n| 2013 | 1 | 1 | JFK | TPA |\n| 2013 | 1 | 1 | JFK | LAX |\n| 2013 | 1 | 1 | EWR | SFO |\n| 2013 | 1 | 1 | LGA | DFW |\n| 2013 | 1 | 1 | JFK | BOS |\n| 2013 | 1 | 1 | EWR | LAS |\n| 2013 | 1 | 1 | LGA | FLL |\n| 2013 | 1 | 1 | LGA | ATL |\n| 2013 | 1 | 1 | EWR | PBI |\n| 2013 | 1 | 1 | LGA | MSP |\n| 2013 | 1 | 1 | LGA | DTW |\n| 2013 | 1 | 1 | EWR | MIA |\n| 2013 | 1 | 1 | JFK | ATL |\n| 2013 | 1 | 1 | EWR | MIA |\n| 2013 | 1 | 1 | EWR | ORD |\n| 2013 | 1 | 1 | JFK | SFO |\n| 2013 | 1 | 1 | JFK | RSW |\n| 2013 | 1 | 1 | JFK | SJU |\n| 2013 | 1 | 1 | EWR | ATL |\n| ⋮ | ⋮ | ⋮ | ⋮ | ⋮ |\n| 2013 | 9 | 30 | LGA | CHO |\n| 2013 | 9 | 30 | EWR | CLT |\n| 2013 | 9 | 30 | JFK | DEN |\n| 2013 | 9 | 30 | LGA | RIC |\n| 2013 | 9 | 30 | JFK | DCA |\n| 2013 | 9 | 30 | JFK | LAX |\n| 2013 | 9 | 30 | EWR | PWM |\n| 2013 | 9 | 30 | JFK | SJU |\n| 2013 | 9 | 30 | LGA | FLL |\n| 2013 | 9 | 30 | EWR | BOS |\n| 2013 | 9 | 30 | EWR | MHT |\n| 2013 | 9 | 30 | JFK | BUF |\n| 2013 | 9 | 30 | LGA | BGR |\n| 2013 | 9 | 30 | LGA | BNA |\n| 2013 | 9 | 30 | EWR | STL |\n| 2013 | 9 | 30 | JFK | PWM |\n| 2013 | 9 | 30 | EWR | SFO |\n| 2013 | 9 | 30 | JFK | MCO |\n| 2013 | 9 | 30 | JFK | BTV |\n| 2013 | 9 | 30 | JFK | SYR |\n| 2013 | 9 | 30 | JFK | BUF |\n| 2013 | 9 | 30 | JFK | ROC |\n| 2013 | 9 | 30 | JFK | BOS |\n| 2013 | 9 | 30 | JFK | PSE |\n| 2013 | 9 | 30 | LGA | BNA |\n| 2013 | 9 | 30 | JFK | DCA |\n| 2013 | 9 | 30 | LGA | SYR |\n| 2013 | 9 | 30 | LGA | BNA |\n| 2013 | 9 | 30 | LGA | CLE |\n| 2013 | 9 | 30 | LGA | RDU |\n\n",
            "text/latex": "A data.frame: 336776 × 5\n\\begin{tabular}{lllll}\n year & month & day & origin & dest\\\\\n <int> & <int> & <int> & <chr> & <chr>\\\\\n\\hline\n\t 2013 & 1 & 1 & EWR & IAH\\\\\n\t 2013 & 1 & 1 & LGA & IAH\\\\\n\t 2013 & 1 & 1 & JFK & MIA\\\\\n\t 2013 & 1 & 1 & JFK & BQN\\\\\n\t 2013 & 1 & 1 & LGA & ATL\\\\\n\t 2013 & 1 & 1 & EWR & ORD\\\\\n\t 2013 & 1 & 1 & EWR & FLL\\\\\n\t 2013 & 1 & 1 & LGA & IAD\\\\\n\t 2013 & 1 & 1 & JFK & MCO\\\\\n\t 2013 & 1 & 1 & LGA & ORD\\\\\n\t 2013 & 1 & 1 & JFK & PBI\\\\\n\t 2013 & 1 & 1 & JFK & TPA\\\\\n\t 2013 & 1 & 1 & JFK & LAX\\\\\n\t 2013 & 1 & 1 & EWR & SFO\\\\\n\t 2013 & 1 & 1 & LGA & DFW\\\\\n\t 2013 & 1 & 1 & JFK & BOS\\\\\n\t 2013 & 1 & 1 & EWR & LAS\\\\\n\t 2013 & 1 & 1 & LGA & FLL\\\\\n\t 2013 & 1 & 1 & LGA & ATL\\\\\n\t 2013 & 1 & 1 & EWR & PBI\\\\\n\t 2013 & 1 & 1 & LGA & MSP\\\\\n\t 2013 & 1 & 1 & LGA & DTW\\\\\n\t 2013 & 1 & 1 & EWR & MIA\\\\\n\t 2013 & 1 & 1 & JFK & ATL\\\\\n\t 2013 & 1 & 1 & EWR & MIA\\\\\n\t 2013 & 1 & 1 & EWR & ORD\\\\\n\t 2013 & 1 & 1 & JFK & SFO\\\\\n\t 2013 & 1 & 1 & JFK & RSW\\\\\n\t 2013 & 1 & 1 & JFK & SJU\\\\\n\t 2013 & 1 & 1 & EWR & ATL\\\\\n\t ⋮ & ⋮ & ⋮ & ⋮ & ⋮\\\\\n\t 2013 & 9 & 30 & LGA & CHO\\\\\n\t 2013 & 9 & 30 & EWR & CLT\\\\\n\t 2013 & 9 & 30 & JFK & DEN\\\\\n\t 2013 & 9 & 30 & LGA & RIC\\\\\n\t 2013 & 9 & 30 & JFK & DCA\\\\\n\t 2013 & 9 & 30 & JFK & LAX\\\\\n\t 2013 & 9 & 30 & EWR & PWM\\\\\n\t 2013 & 9 & 30 & JFK & SJU\\\\\n\t 2013 & 9 & 30 & LGA & FLL\\\\\n\t 2013 & 9 & 30 & EWR & BOS\\\\\n\t 2013 & 9 & 30 & EWR & MHT\\\\\n\t 2013 & 9 & 30 & JFK & BUF\\\\\n\t 2013 & 9 & 30 & LGA & BGR\\\\\n\t 2013 & 9 & 30 & LGA & BNA\\\\\n\t 2013 & 9 & 30 & EWR & STL\\\\\n\t 2013 & 9 & 30 & JFK & PWM\\\\\n\t 2013 & 9 & 30 & EWR & SFO\\\\\n\t 2013 & 9 & 30 & JFK & MCO\\\\\n\t 2013 & 9 & 30 & JFK & BTV\\\\\n\t 2013 & 9 & 30 & JFK & SYR\\\\\n\t 2013 & 9 & 30 & JFK & BUF\\\\\n\t 2013 & 9 & 30 & JFK & ROC\\\\\n\t 2013 & 9 & 30 & JFK & BOS\\\\\n\t 2013 & 9 & 30 & JFK & PSE\\\\\n\t 2013 & 9 & 30 & LGA & BNA\\\\\n\t 2013 & 9 & 30 & JFK & DCA\\\\\n\t 2013 & 9 & 30 & LGA & SYR\\\\\n\t 2013 & 9 & 30 & LGA & BNA\\\\\n\t 2013 & 9 & 30 & LGA & CLE\\\\\n\t 2013 & 9 & 30 & LGA & RDU\\\\\n\\end{tabular}\n",
            "text/plain": [
              "       year month day origin dest\n",
              "1      2013 1     1   EWR    IAH \n",
              "2      2013 1     1   LGA    IAH \n",
              "3      2013 1     1   JFK    MIA \n",
              "4      2013 1     1   JFK    BQN \n",
              "5      2013 1     1   LGA    ATL \n",
              "6      2013 1     1   EWR    ORD \n",
              "7      2013 1     1   EWR    FLL \n",
              "8      2013 1     1   LGA    IAD \n",
              "9      2013 1     1   JFK    MCO \n",
              "10     2013 1     1   LGA    ORD \n",
              "11     2013 1     1   JFK    PBI \n",
              "12     2013 1     1   JFK    TPA \n",
              "13     2013 1     1   JFK    LAX \n",
              "14     2013 1     1   EWR    SFO \n",
              "15     2013 1     1   LGA    DFW \n",
              "16     2013 1     1   JFK    BOS \n",
              "17     2013 1     1   EWR    LAS \n",
              "18     2013 1     1   LGA    FLL \n",
              "19     2013 1     1   LGA    ATL \n",
              "20     2013 1     1   EWR    PBI \n",
              "21     2013 1     1   LGA    MSP \n",
              "22     2013 1     1   LGA    DTW \n",
              "23     2013 1     1   EWR    MIA \n",
              "24     2013 1     1   JFK    ATL \n",
              "25     2013 1     1   EWR    MIA \n",
              "26     2013 1     1   EWR    ORD \n",
              "27     2013 1     1   JFK    SFO \n",
              "28     2013 1     1   JFK    RSW \n",
              "29     2013 1     1   JFK    SJU \n",
              "30     2013 1     1   EWR    ATL \n",
              "⋮      ⋮    ⋮     ⋮   ⋮      ⋮   \n",
              "336747 2013 9     30  LGA    CHO \n",
              "336748 2013 9     30  EWR    CLT \n",
              "336749 2013 9     30  JFK    DEN \n",
              "336750 2013 9     30  LGA    RIC \n",
              "336751 2013 9     30  JFK    DCA \n",
              "336752 2013 9     30  JFK    LAX \n",
              "336753 2013 9     30  EWR    PWM \n",
              "336754 2013 9     30  JFK    SJU \n",
              "336755 2013 9     30  LGA    FLL \n",
              "336756 2013 9     30  EWR    BOS \n",
              "336757 2013 9     30  EWR    MHT \n",
              "336758 2013 9     30  JFK    BUF \n",
              "336759 2013 9     30  LGA    BGR \n",
              "336760 2013 9     30  LGA    BNA \n",
              "336761 2013 9     30  EWR    STL \n",
              "336762 2013 9     30  JFK    PWM \n",
              "336763 2013 9     30  EWR    SFO \n",
              "336764 2013 9     30  JFK    MCO \n",
              "336765 2013 9     30  JFK    BTV \n",
              "336766 2013 9     30  JFK    SYR \n",
              "336767 2013 9     30  JFK    BUF \n",
              "336768 2013 9     30  JFK    ROC \n",
              "336769 2013 9     30  JFK    BOS \n",
              "336770 2013 9     30  JFK    PSE \n",
              "336771 2013 9     30  LGA    BNA \n",
              "336772 2013 9     30  JFK    DCA \n",
              "336773 2013 9     30  LGA    SYR \n",
              "336774 2013 9     30  LGA    BNA \n",
              "336775 2013 9     30  LGA    CLE \n",
              "336776 2013 9     30  LGA    RDU "
            ]
          },
          "metadata": {}
        }
      ]
    },
    {
      "cell_type": "code",
      "metadata": {
        "trusted": true,
        "scrolled": false,
        "id": "HFlJeLmMRPyr",
        "outputId": "77f991ae-c238-4693-aee0-2433fc75cb5e",
        "colab": {
          "base_uri": "https://localhost:8080/",
          "height": 286
        }
      },
      "source": [
        "# Guardamos en una tabla auxiliar\n",
        "sub_vuelos <- select(vuelos, year, month, day, origin, dest)\n",
        "head(sub_vuelos)\n",
        "\n"
      ],
      "execution_count": null,
      "outputs": [
        {
          "output_type": "display_data",
          "data": {
            "text/html": [
              "<table class=\"dataframe\">\n",
              "<caption>A data.frame: 6 × 5</caption>\n",
              "<thead>\n",
              "\t<tr><th></th><th scope=col>year</th><th scope=col>month</th><th scope=col>day</th><th scope=col>origin</th><th scope=col>dest</th></tr>\n",
              "\t<tr><th></th><th scope=col>&lt;int&gt;</th><th scope=col>&lt;int&gt;</th><th scope=col>&lt;int&gt;</th><th scope=col>&lt;chr&gt;</th><th scope=col>&lt;chr&gt;</th></tr>\n",
              "</thead>\n",
              "<tbody>\n",
              "\t<tr><th scope=row>1</th><td>2013</td><td>1</td><td>1</td><td>EWR</td><td>IAH</td></tr>\n",
              "\t<tr><th scope=row>2</th><td>2013</td><td>1</td><td>1</td><td>LGA</td><td>IAH</td></tr>\n",
              "\t<tr><th scope=row>3</th><td>2013</td><td>1</td><td>1</td><td>JFK</td><td>MIA</td></tr>\n",
              "\t<tr><th scope=row>4</th><td>2013</td><td>1</td><td>1</td><td>JFK</td><td>BQN</td></tr>\n",
              "\t<tr><th scope=row>5</th><td>2013</td><td>1</td><td>1</td><td>LGA</td><td>ATL</td></tr>\n",
              "\t<tr><th scope=row>6</th><td>2013</td><td>1</td><td>1</td><td>EWR</td><td>ORD</td></tr>\n",
              "</tbody>\n",
              "</table>\n"
            ],
            "text/markdown": "\nA data.frame: 6 × 5\n\n| <!--/--> | year &lt;int&gt; | month &lt;int&gt; | day &lt;int&gt; | origin &lt;chr&gt; | dest &lt;chr&gt; |\n|---|---|---|---|---|---|\n| 1 | 2013 | 1 | 1 | EWR | IAH |\n| 2 | 2013 | 1 | 1 | LGA | IAH |\n| 3 | 2013 | 1 | 1 | JFK | MIA |\n| 4 | 2013 | 1 | 1 | JFK | BQN |\n| 5 | 2013 | 1 | 1 | LGA | ATL |\n| 6 | 2013 | 1 | 1 | EWR | ORD |\n\n",
            "text/latex": "A data.frame: 6 × 5\n\\begin{tabular}{r|lllll}\n  & year & month & day & origin & dest\\\\\n  & <int> & <int> & <int> & <chr> & <chr>\\\\\n\\hline\n\t1 & 2013 & 1 & 1 & EWR & IAH\\\\\n\t2 & 2013 & 1 & 1 & LGA & IAH\\\\\n\t3 & 2013 & 1 & 1 & JFK & MIA\\\\\n\t4 & 2013 & 1 & 1 & JFK & BQN\\\\\n\t5 & 2013 & 1 & 1 & LGA & ATL\\\\\n\t6 & 2013 & 1 & 1 & EWR & ORD\\\\\n\\end{tabular}\n",
            "text/plain": [
              "  year month day origin dest\n",
              "1 2013 1     1   EWR    IAH \n",
              "2 2013 1     1   LGA    IAH \n",
              "3 2013 1     1   JFK    MIA \n",
              "4 2013 1     1   JFK    BQN \n",
              "5 2013 1     1   LGA    ATL \n",
              "6 2013 1     1   EWR    ORD "
            ]
          },
          "metadata": {}
        }
      ]
    },
    {
      "cell_type": "code",
      "source": [
        "# podemos renombrar la columna year\n",
        "rename(sub_vuelos, anio = year,\n",
        "                   mes = month,\n",
        "                   dia = day)\n",
        "\n",
        "# NOTA: esto no modifica el dataset original"
      ],
      "metadata": {
        "id": "n0rNnsJRMEuV",
        "outputId": "ee4fc901-4cd6-4565-fb14-2fe0aca4a4e2",
        "colab": {
          "base_uri": "https://localhost:8080/",
          "height": 1000
        }
      },
      "execution_count": null,
      "outputs": [
        {
          "output_type": "display_data",
          "data": {
            "text/html": [
              "<table class=\"dataframe\">\n",
              "<caption>A data.frame: 336776 × 5</caption>\n",
              "<thead>\n",
              "\t<tr><th scope=col>anio</th><th scope=col>mes</th><th scope=col>dia</th><th scope=col>origin</th><th scope=col>dest</th></tr>\n",
              "\t<tr><th scope=col>&lt;int&gt;</th><th scope=col>&lt;int&gt;</th><th scope=col>&lt;int&gt;</th><th scope=col>&lt;chr&gt;</th><th scope=col>&lt;chr&gt;</th></tr>\n",
              "</thead>\n",
              "<tbody>\n",
              "\t<tr><td>2013</td><td>1</td><td>1</td><td>EWR</td><td>IAH</td></tr>\n",
              "\t<tr><td>2013</td><td>1</td><td>1</td><td>LGA</td><td>IAH</td></tr>\n",
              "\t<tr><td>2013</td><td>1</td><td>1</td><td>JFK</td><td>MIA</td></tr>\n",
              "\t<tr><td>2013</td><td>1</td><td>1</td><td>JFK</td><td>BQN</td></tr>\n",
              "\t<tr><td>2013</td><td>1</td><td>1</td><td>LGA</td><td>ATL</td></tr>\n",
              "\t<tr><td>2013</td><td>1</td><td>1</td><td>EWR</td><td>ORD</td></tr>\n",
              "\t<tr><td>2013</td><td>1</td><td>1</td><td>EWR</td><td>FLL</td></tr>\n",
              "\t<tr><td>2013</td><td>1</td><td>1</td><td>LGA</td><td>IAD</td></tr>\n",
              "\t<tr><td>2013</td><td>1</td><td>1</td><td>JFK</td><td>MCO</td></tr>\n",
              "\t<tr><td>2013</td><td>1</td><td>1</td><td>LGA</td><td>ORD</td></tr>\n",
              "\t<tr><td>2013</td><td>1</td><td>1</td><td>JFK</td><td>PBI</td></tr>\n",
              "\t<tr><td>2013</td><td>1</td><td>1</td><td>JFK</td><td>TPA</td></tr>\n",
              "\t<tr><td>2013</td><td>1</td><td>1</td><td>JFK</td><td>LAX</td></tr>\n",
              "\t<tr><td>2013</td><td>1</td><td>1</td><td>EWR</td><td>SFO</td></tr>\n",
              "\t<tr><td>2013</td><td>1</td><td>1</td><td>LGA</td><td>DFW</td></tr>\n",
              "\t<tr><td>2013</td><td>1</td><td>1</td><td>JFK</td><td>BOS</td></tr>\n",
              "\t<tr><td>2013</td><td>1</td><td>1</td><td>EWR</td><td>LAS</td></tr>\n",
              "\t<tr><td>2013</td><td>1</td><td>1</td><td>LGA</td><td>FLL</td></tr>\n",
              "\t<tr><td>2013</td><td>1</td><td>1</td><td>LGA</td><td>ATL</td></tr>\n",
              "\t<tr><td>2013</td><td>1</td><td>1</td><td>EWR</td><td>PBI</td></tr>\n",
              "\t<tr><td>2013</td><td>1</td><td>1</td><td>LGA</td><td>MSP</td></tr>\n",
              "\t<tr><td>2013</td><td>1</td><td>1</td><td>LGA</td><td>DTW</td></tr>\n",
              "\t<tr><td>2013</td><td>1</td><td>1</td><td>EWR</td><td>MIA</td></tr>\n",
              "\t<tr><td>2013</td><td>1</td><td>1</td><td>JFK</td><td>ATL</td></tr>\n",
              "\t<tr><td>2013</td><td>1</td><td>1</td><td>EWR</td><td>MIA</td></tr>\n",
              "\t<tr><td>2013</td><td>1</td><td>1</td><td>EWR</td><td>ORD</td></tr>\n",
              "\t<tr><td>2013</td><td>1</td><td>1</td><td>JFK</td><td>SFO</td></tr>\n",
              "\t<tr><td>2013</td><td>1</td><td>1</td><td>JFK</td><td>RSW</td></tr>\n",
              "\t<tr><td>2013</td><td>1</td><td>1</td><td>JFK</td><td>SJU</td></tr>\n",
              "\t<tr><td>2013</td><td>1</td><td>1</td><td>EWR</td><td>ATL</td></tr>\n",
              "\t<tr><td>⋮</td><td>⋮</td><td>⋮</td><td>⋮</td><td>⋮</td></tr>\n",
              "\t<tr><td>2013</td><td>9</td><td>30</td><td>LGA</td><td>CHO</td></tr>\n",
              "\t<tr><td>2013</td><td>9</td><td>30</td><td>EWR</td><td>CLT</td></tr>\n",
              "\t<tr><td>2013</td><td>9</td><td>30</td><td>JFK</td><td>DEN</td></tr>\n",
              "\t<tr><td>2013</td><td>9</td><td>30</td><td>LGA</td><td>RIC</td></tr>\n",
              "\t<tr><td>2013</td><td>9</td><td>30</td><td>JFK</td><td>DCA</td></tr>\n",
              "\t<tr><td>2013</td><td>9</td><td>30</td><td>JFK</td><td>LAX</td></tr>\n",
              "\t<tr><td>2013</td><td>9</td><td>30</td><td>EWR</td><td>PWM</td></tr>\n",
              "\t<tr><td>2013</td><td>9</td><td>30</td><td>JFK</td><td>SJU</td></tr>\n",
              "\t<tr><td>2013</td><td>9</td><td>30</td><td>LGA</td><td>FLL</td></tr>\n",
              "\t<tr><td>2013</td><td>9</td><td>30</td><td>EWR</td><td>BOS</td></tr>\n",
              "\t<tr><td>2013</td><td>9</td><td>30</td><td>EWR</td><td>MHT</td></tr>\n",
              "\t<tr><td>2013</td><td>9</td><td>30</td><td>JFK</td><td>BUF</td></tr>\n",
              "\t<tr><td>2013</td><td>9</td><td>30</td><td>LGA</td><td>BGR</td></tr>\n",
              "\t<tr><td>2013</td><td>9</td><td>30</td><td>LGA</td><td>BNA</td></tr>\n",
              "\t<tr><td>2013</td><td>9</td><td>30</td><td>EWR</td><td>STL</td></tr>\n",
              "\t<tr><td>2013</td><td>9</td><td>30</td><td>JFK</td><td>PWM</td></tr>\n",
              "\t<tr><td>2013</td><td>9</td><td>30</td><td>EWR</td><td>SFO</td></tr>\n",
              "\t<tr><td>2013</td><td>9</td><td>30</td><td>JFK</td><td>MCO</td></tr>\n",
              "\t<tr><td>2013</td><td>9</td><td>30</td><td>JFK</td><td>BTV</td></tr>\n",
              "\t<tr><td>2013</td><td>9</td><td>30</td><td>JFK</td><td>SYR</td></tr>\n",
              "\t<tr><td>2013</td><td>9</td><td>30</td><td>JFK</td><td>BUF</td></tr>\n",
              "\t<tr><td>2013</td><td>9</td><td>30</td><td>JFK</td><td>ROC</td></tr>\n",
              "\t<tr><td>2013</td><td>9</td><td>30</td><td>JFK</td><td>BOS</td></tr>\n",
              "\t<tr><td>2013</td><td>9</td><td>30</td><td>JFK</td><td>PSE</td></tr>\n",
              "\t<tr><td>2013</td><td>9</td><td>30</td><td>LGA</td><td>BNA</td></tr>\n",
              "\t<tr><td>2013</td><td>9</td><td>30</td><td>JFK</td><td>DCA</td></tr>\n",
              "\t<tr><td>2013</td><td>9</td><td>30</td><td>LGA</td><td>SYR</td></tr>\n",
              "\t<tr><td>2013</td><td>9</td><td>30</td><td>LGA</td><td>BNA</td></tr>\n",
              "\t<tr><td>2013</td><td>9</td><td>30</td><td>LGA</td><td>CLE</td></tr>\n",
              "\t<tr><td>2013</td><td>9</td><td>30</td><td>LGA</td><td>RDU</td></tr>\n",
              "</tbody>\n",
              "</table>\n"
            ],
            "text/markdown": "\nA data.frame: 336776 × 5\n\n| anio &lt;int&gt; | mes &lt;int&gt; | dia &lt;int&gt; | origin &lt;chr&gt; | dest &lt;chr&gt; |\n|---|---|---|---|---|\n| 2013 | 1 | 1 | EWR | IAH |\n| 2013 | 1 | 1 | LGA | IAH |\n| 2013 | 1 | 1 | JFK | MIA |\n| 2013 | 1 | 1 | JFK | BQN |\n| 2013 | 1 | 1 | LGA | ATL |\n| 2013 | 1 | 1 | EWR | ORD |\n| 2013 | 1 | 1 | EWR | FLL |\n| 2013 | 1 | 1 | LGA | IAD |\n| 2013 | 1 | 1 | JFK | MCO |\n| 2013 | 1 | 1 | LGA | ORD |\n| 2013 | 1 | 1 | JFK | PBI |\n| 2013 | 1 | 1 | JFK | TPA |\n| 2013 | 1 | 1 | JFK | LAX |\n| 2013 | 1 | 1 | EWR | SFO |\n| 2013 | 1 | 1 | LGA | DFW |\n| 2013 | 1 | 1 | JFK | BOS |\n| 2013 | 1 | 1 | EWR | LAS |\n| 2013 | 1 | 1 | LGA | FLL |\n| 2013 | 1 | 1 | LGA | ATL |\n| 2013 | 1 | 1 | EWR | PBI |\n| 2013 | 1 | 1 | LGA | MSP |\n| 2013 | 1 | 1 | LGA | DTW |\n| 2013 | 1 | 1 | EWR | MIA |\n| 2013 | 1 | 1 | JFK | ATL |\n| 2013 | 1 | 1 | EWR | MIA |\n| 2013 | 1 | 1 | EWR | ORD |\n| 2013 | 1 | 1 | JFK | SFO |\n| 2013 | 1 | 1 | JFK | RSW |\n| 2013 | 1 | 1 | JFK | SJU |\n| 2013 | 1 | 1 | EWR | ATL |\n| ⋮ | ⋮ | ⋮ | ⋮ | ⋮ |\n| 2013 | 9 | 30 | LGA | CHO |\n| 2013 | 9 | 30 | EWR | CLT |\n| 2013 | 9 | 30 | JFK | DEN |\n| 2013 | 9 | 30 | LGA | RIC |\n| 2013 | 9 | 30 | JFK | DCA |\n| 2013 | 9 | 30 | JFK | LAX |\n| 2013 | 9 | 30 | EWR | PWM |\n| 2013 | 9 | 30 | JFK | SJU |\n| 2013 | 9 | 30 | LGA | FLL |\n| 2013 | 9 | 30 | EWR | BOS |\n| 2013 | 9 | 30 | EWR | MHT |\n| 2013 | 9 | 30 | JFK | BUF |\n| 2013 | 9 | 30 | LGA | BGR |\n| 2013 | 9 | 30 | LGA | BNA |\n| 2013 | 9 | 30 | EWR | STL |\n| 2013 | 9 | 30 | JFK | PWM |\n| 2013 | 9 | 30 | EWR | SFO |\n| 2013 | 9 | 30 | JFK | MCO |\n| 2013 | 9 | 30 | JFK | BTV |\n| 2013 | 9 | 30 | JFK | SYR |\n| 2013 | 9 | 30 | JFK | BUF |\n| 2013 | 9 | 30 | JFK | ROC |\n| 2013 | 9 | 30 | JFK | BOS |\n| 2013 | 9 | 30 | JFK | PSE |\n| 2013 | 9 | 30 | LGA | BNA |\n| 2013 | 9 | 30 | JFK | DCA |\n| 2013 | 9 | 30 | LGA | SYR |\n| 2013 | 9 | 30 | LGA | BNA |\n| 2013 | 9 | 30 | LGA | CLE |\n| 2013 | 9 | 30 | LGA | RDU |\n\n",
            "text/latex": "A data.frame: 336776 × 5\n\\begin{tabular}{lllll}\n anio & mes & dia & origin & dest\\\\\n <int> & <int> & <int> & <chr> & <chr>\\\\\n\\hline\n\t 2013 & 1 & 1 & EWR & IAH\\\\\n\t 2013 & 1 & 1 & LGA & IAH\\\\\n\t 2013 & 1 & 1 & JFK & MIA\\\\\n\t 2013 & 1 & 1 & JFK & BQN\\\\\n\t 2013 & 1 & 1 & LGA & ATL\\\\\n\t 2013 & 1 & 1 & EWR & ORD\\\\\n\t 2013 & 1 & 1 & EWR & FLL\\\\\n\t 2013 & 1 & 1 & LGA & IAD\\\\\n\t 2013 & 1 & 1 & JFK & MCO\\\\\n\t 2013 & 1 & 1 & LGA & ORD\\\\\n\t 2013 & 1 & 1 & JFK & PBI\\\\\n\t 2013 & 1 & 1 & JFK & TPA\\\\\n\t 2013 & 1 & 1 & JFK & LAX\\\\\n\t 2013 & 1 & 1 & EWR & SFO\\\\\n\t 2013 & 1 & 1 & LGA & DFW\\\\\n\t 2013 & 1 & 1 & JFK & BOS\\\\\n\t 2013 & 1 & 1 & EWR & LAS\\\\\n\t 2013 & 1 & 1 & LGA & FLL\\\\\n\t 2013 & 1 & 1 & LGA & ATL\\\\\n\t 2013 & 1 & 1 & EWR & PBI\\\\\n\t 2013 & 1 & 1 & LGA & MSP\\\\\n\t 2013 & 1 & 1 & LGA & DTW\\\\\n\t 2013 & 1 & 1 & EWR & MIA\\\\\n\t 2013 & 1 & 1 & JFK & ATL\\\\\n\t 2013 & 1 & 1 & EWR & MIA\\\\\n\t 2013 & 1 & 1 & EWR & ORD\\\\\n\t 2013 & 1 & 1 & JFK & SFO\\\\\n\t 2013 & 1 & 1 & JFK & RSW\\\\\n\t 2013 & 1 & 1 & JFK & SJU\\\\\n\t 2013 & 1 & 1 & EWR & ATL\\\\\n\t ⋮ & ⋮ & ⋮ & ⋮ & ⋮\\\\\n\t 2013 & 9 & 30 & LGA & CHO\\\\\n\t 2013 & 9 & 30 & EWR & CLT\\\\\n\t 2013 & 9 & 30 & JFK & DEN\\\\\n\t 2013 & 9 & 30 & LGA & RIC\\\\\n\t 2013 & 9 & 30 & JFK & DCA\\\\\n\t 2013 & 9 & 30 & JFK & LAX\\\\\n\t 2013 & 9 & 30 & EWR & PWM\\\\\n\t 2013 & 9 & 30 & JFK & SJU\\\\\n\t 2013 & 9 & 30 & LGA & FLL\\\\\n\t 2013 & 9 & 30 & EWR & BOS\\\\\n\t 2013 & 9 & 30 & EWR & MHT\\\\\n\t 2013 & 9 & 30 & JFK & BUF\\\\\n\t 2013 & 9 & 30 & LGA & BGR\\\\\n\t 2013 & 9 & 30 & LGA & BNA\\\\\n\t 2013 & 9 & 30 & EWR & STL\\\\\n\t 2013 & 9 & 30 & JFK & PWM\\\\\n\t 2013 & 9 & 30 & EWR & SFO\\\\\n\t 2013 & 9 & 30 & JFK & MCO\\\\\n\t 2013 & 9 & 30 & JFK & BTV\\\\\n\t 2013 & 9 & 30 & JFK & SYR\\\\\n\t 2013 & 9 & 30 & JFK & BUF\\\\\n\t 2013 & 9 & 30 & JFK & ROC\\\\\n\t 2013 & 9 & 30 & JFK & BOS\\\\\n\t 2013 & 9 & 30 & JFK & PSE\\\\\n\t 2013 & 9 & 30 & LGA & BNA\\\\\n\t 2013 & 9 & 30 & JFK & DCA\\\\\n\t 2013 & 9 & 30 & LGA & SYR\\\\\n\t 2013 & 9 & 30 & LGA & BNA\\\\\n\t 2013 & 9 & 30 & LGA & CLE\\\\\n\t 2013 & 9 & 30 & LGA & RDU\\\\\n\\end{tabular}\n",
            "text/plain": [
              "       anio mes dia origin dest\n",
              "1      2013 1   1   EWR    IAH \n",
              "2      2013 1   1   LGA    IAH \n",
              "3      2013 1   1   JFK    MIA \n",
              "4      2013 1   1   JFK    BQN \n",
              "5      2013 1   1   LGA    ATL \n",
              "6      2013 1   1   EWR    ORD \n",
              "7      2013 1   1   EWR    FLL \n",
              "8      2013 1   1   LGA    IAD \n",
              "9      2013 1   1   JFK    MCO \n",
              "10     2013 1   1   LGA    ORD \n",
              "11     2013 1   1   JFK    PBI \n",
              "12     2013 1   1   JFK    TPA \n",
              "13     2013 1   1   JFK    LAX \n",
              "14     2013 1   1   EWR    SFO \n",
              "15     2013 1   1   LGA    DFW \n",
              "16     2013 1   1   JFK    BOS \n",
              "17     2013 1   1   EWR    LAS \n",
              "18     2013 1   1   LGA    FLL \n",
              "19     2013 1   1   LGA    ATL \n",
              "20     2013 1   1   EWR    PBI \n",
              "21     2013 1   1   LGA    MSP \n",
              "22     2013 1   1   LGA    DTW \n",
              "23     2013 1   1   EWR    MIA \n",
              "24     2013 1   1   JFK    ATL \n",
              "25     2013 1   1   EWR    MIA \n",
              "26     2013 1   1   EWR    ORD \n",
              "27     2013 1   1   JFK    SFO \n",
              "28     2013 1   1   JFK    RSW \n",
              "29     2013 1   1   JFK    SJU \n",
              "30     2013 1   1   EWR    ATL \n",
              "⋮      ⋮    ⋮   ⋮   ⋮      ⋮   \n",
              "336747 2013 9   30  LGA    CHO \n",
              "336748 2013 9   30  EWR    CLT \n",
              "336749 2013 9   30  JFK    DEN \n",
              "336750 2013 9   30  LGA    RIC \n",
              "336751 2013 9   30  JFK    DCA \n",
              "336752 2013 9   30  JFK    LAX \n",
              "336753 2013 9   30  EWR    PWM \n",
              "336754 2013 9   30  JFK    SJU \n",
              "336755 2013 9   30  LGA    FLL \n",
              "336756 2013 9   30  EWR    BOS \n",
              "336757 2013 9   30  EWR    MHT \n",
              "336758 2013 9   30  JFK    BUF \n",
              "336759 2013 9   30  LGA    BGR \n",
              "336760 2013 9   30  LGA    BNA \n",
              "336761 2013 9   30  EWR    STL \n",
              "336762 2013 9   30  JFK    PWM \n",
              "336763 2013 9   30  EWR    SFO \n",
              "336764 2013 9   30  JFK    MCO \n",
              "336765 2013 9   30  JFK    BTV \n",
              "336766 2013 9   30  JFK    SYR \n",
              "336767 2013 9   30  JFK    BUF \n",
              "336768 2013 9   30  JFK    ROC \n",
              "336769 2013 9   30  JFK    BOS \n",
              "336770 2013 9   30  JFK    PSE \n",
              "336771 2013 9   30  LGA    BNA \n",
              "336772 2013 9   30  JFK    DCA \n",
              "336773 2013 9   30  LGA    SYR \n",
              "336774 2013 9   30  LGA    BNA \n",
              "336775 2013 9   30  LGA    CLE \n",
              "336776 2013 9   30  LGA    RDU "
            ]
          },
          "metadata": {}
        }
      ]
    },
    {
      "cell_type": "code",
      "source": [
        "head(sub_vuelos)"
      ],
      "metadata": {
        "id": "ApbpK1fuMirf",
        "outputId": "4fb721c5-2514-48fe-91ff-e38fbd871292",
        "colab": {
          "base_uri": "https://localhost:8080/",
          "height": 286
        }
      },
      "execution_count": null,
      "outputs": [
        {
          "output_type": "display_data",
          "data": {
            "text/html": [
              "<table class=\"dataframe\">\n",
              "<caption>A data.frame: 6 × 5</caption>\n",
              "<thead>\n",
              "\t<tr><th></th><th scope=col>year</th><th scope=col>month</th><th scope=col>day</th><th scope=col>origin</th><th scope=col>dest</th></tr>\n",
              "\t<tr><th></th><th scope=col>&lt;int&gt;</th><th scope=col>&lt;int&gt;</th><th scope=col>&lt;int&gt;</th><th scope=col>&lt;chr&gt;</th><th scope=col>&lt;chr&gt;</th></tr>\n",
              "</thead>\n",
              "<tbody>\n",
              "\t<tr><th scope=row>1</th><td>2013</td><td>1</td><td>1</td><td>EWR</td><td>IAH</td></tr>\n",
              "\t<tr><th scope=row>2</th><td>2013</td><td>1</td><td>1</td><td>LGA</td><td>IAH</td></tr>\n",
              "\t<tr><th scope=row>3</th><td>2013</td><td>1</td><td>1</td><td>JFK</td><td>MIA</td></tr>\n",
              "\t<tr><th scope=row>4</th><td>2013</td><td>1</td><td>1</td><td>JFK</td><td>BQN</td></tr>\n",
              "\t<tr><th scope=row>5</th><td>2013</td><td>1</td><td>1</td><td>LGA</td><td>ATL</td></tr>\n",
              "\t<tr><th scope=row>6</th><td>2013</td><td>1</td><td>1</td><td>EWR</td><td>ORD</td></tr>\n",
              "</tbody>\n",
              "</table>\n"
            ],
            "text/markdown": "\nA data.frame: 6 × 5\n\n| <!--/--> | year &lt;int&gt; | month &lt;int&gt; | day &lt;int&gt; | origin &lt;chr&gt; | dest &lt;chr&gt; |\n|---|---|---|---|---|---|\n| 1 | 2013 | 1 | 1 | EWR | IAH |\n| 2 | 2013 | 1 | 1 | LGA | IAH |\n| 3 | 2013 | 1 | 1 | JFK | MIA |\n| 4 | 2013 | 1 | 1 | JFK | BQN |\n| 5 | 2013 | 1 | 1 | LGA | ATL |\n| 6 | 2013 | 1 | 1 | EWR | ORD |\n\n",
            "text/latex": "A data.frame: 6 × 5\n\\begin{tabular}{r|lllll}\n  & year & month & day & origin & dest\\\\\n  & <int> & <int> & <int> & <chr> & <chr>\\\\\n\\hline\n\t1 & 2013 & 1 & 1 & EWR & IAH\\\\\n\t2 & 2013 & 1 & 1 & LGA & IAH\\\\\n\t3 & 2013 & 1 & 1 & JFK & MIA\\\\\n\t4 & 2013 & 1 & 1 & JFK & BQN\\\\\n\t5 & 2013 & 1 & 1 & LGA & ATL\\\\\n\t6 & 2013 & 1 & 1 & EWR & ORD\\\\\n\\end{tabular}\n",
            "text/plain": [
              "  year month day origin dest\n",
              "1 2013 1     1   EWR    IAH \n",
              "2 2013 1     1   LGA    IAH \n",
              "3 2013 1     1   JFK    MIA \n",
              "4 2013 1     1   JFK    BQN \n",
              "5 2013 1     1   LGA    ATL \n",
              "6 2013 1     1   EWR    ORD "
            ]
          },
          "metadata": {}
        }
      ]
    },
    {
      "cell_type": "code",
      "source": [
        "sub_vuelos <- rename(sub_vuelos, anio = year,\n",
        "                   mes = month,\n",
        "                   dia = day)"
      ],
      "metadata": {
        "id": "wVHNc3sZMpb0"
      },
      "execution_count": null,
      "outputs": []
    },
    {
      "cell_type": "code",
      "source": [
        "head(sub_vuelos)"
      ],
      "metadata": {
        "id": "JB8JC5XdMtx4",
        "outputId": "5cefbe13-0edb-4c22-cfb5-ff4bd43e3d52",
        "colab": {
          "base_uri": "https://localhost:8080/",
          "height": 286
        }
      },
      "execution_count": null,
      "outputs": [
        {
          "output_type": "display_data",
          "data": {
            "text/html": [
              "<table class=\"dataframe\">\n",
              "<caption>A data.frame: 6 × 5</caption>\n",
              "<thead>\n",
              "\t<tr><th></th><th scope=col>anio</th><th scope=col>mes</th><th scope=col>dia</th><th scope=col>origin</th><th scope=col>dest</th></tr>\n",
              "\t<tr><th></th><th scope=col>&lt;int&gt;</th><th scope=col>&lt;int&gt;</th><th scope=col>&lt;int&gt;</th><th scope=col>&lt;chr&gt;</th><th scope=col>&lt;chr&gt;</th></tr>\n",
              "</thead>\n",
              "<tbody>\n",
              "\t<tr><th scope=row>1</th><td>2013</td><td>1</td><td>1</td><td>EWR</td><td>IAH</td></tr>\n",
              "\t<tr><th scope=row>2</th><td>2013</td><td>1</td><td>1</td><td>LGA</td><td>IAH</td></tr>\n",
              "\t<tr><th scope=row>3</th><td>2013</td><td>1</td><td>1</td><td>JFK</td><td>MIA</td></tr>\n",
              "\t<tr><th scope=row>4</th><td>2013</td><td>1</td><td>1</td><td>JFK</td><td>BQN</td></tr>\n",
              "\t<tr><th scope=row>5</th><td>2013</td><td>1</td><td>1</td><td>LGA</td><td>ATL</td></tr>\n",
              "\t<tr><th scope=row>6</th><td>2013</td><td>1</td><td>1</td><td>EWR</td><td>ORD</td></tr>\n",
              "</tbody>\n",
              "</table>\n"
            ],
            "text/markdown": "\nA data.frame: 6 × 5\n\n| <!--/--> | anio &lt;int&gt; | mes &lt;int&gt; | dia &lt;int&gt; | origin &lt;chr&gt; | dest &lt;chr&gt; |\n|---|---|---|---|---|---|\n| 1 | 2013 | 1 | 1 | EWR | IAH |\n| 2 | 2013 | 1 | 1 | LGA | IAH |\n| 3 | 2013 | 1 | 1 | JFK | MIA |\n| 4 | 2013 | 1 | 1 | JFK | BQN |\n| 5 | 2013 | 1 | 1 | LGA | ATL |\n| 6 | 2013 | 1 | 1 | EWR | ORD |\n\n",
            "text/latex": "A data.frame: 6 × 5\n\\begin{tabular}{r|lllll}\n  & anio & mes & dia & origin & dest\\\\\n  & <int> & <int> & <int> & <chr> & <chr>\\\\\n\\hline\n\t1 & 2013 & 1 & 1 & EWR & IAH\\\\\n\t2 & 2013 & 1 & 1 & LGA & IAH\\\\\n\t3 & 2013 & 1 & 1 & JFK & MIA\\\\\n\t4 & 2013 & 1 & 1 & JFK & BQN\\\\\n\t5 & 2013 & 1 & 1 & LGA & ATL\\\\\n\t6 & 2013 & 1 & 1 & EWR & ORD\\\\\n\\end{tabular}\n",
            "text/plain": [
              "  anio mes dia origin dest\n",
              "1 2013 1   1   EWR    IAH \n",
              "2 2013 1   1   LGA    IAH \n",
              "3 2013 1   1   JFK    MIA \n",
              "4 2013 1   1   JFK    BQN \n",
              "5 2013 1   1   LGA    ATL \n",
              "6 2013 1   1   EWR    ORD "
            ]
          },
          "metadata": {}
        }
      ]
    },
    {
      "cell_type": "code",
      "source": [
        "names(vuelos)"
      ],
      "metadata": {
        "id": "-GW0G9PkNdz-",
        "outputId": "8aca7485-1213-4d96-b175-22ce07569357",
        "colab": {
          "base_uri": "https://localhost:8080/",
          "height": 34
        }
      },
      "execution_count": null,
      "outputs": [
        {
          "output_type": "display_data",
          "data": {
            "text/html": [
              "<style>\n",
              ".list-inline {list-style: none; margin:0; padding: 0}\n",
              ".list-inline>li {display: inline-block}\n",
              ".list-inline>li:not(:last-child)::after {content: \"\\00b7\"; padding: 0 .5ex}\n",
              "</style>\n",
              "<ol class=list-inline><li>'year'</li><li>'month'</li><li>'day'</li><li>'dep_time'</li><li>'sched_dep_time'</li><li>'dep_delay'</li><li>'arr_time'</li><li>'sched_arr_time'</li><li>'arr_delay'</li><li>'carrier'</li><li>'flight'</li><li>'tailnum'</li><li>'origin'</li><li>'dest'</li><li>'air_time'</li><li>'distance'</li><li>'hour'</li><li>'minute'</li><li>'time_hour'</li></ol>\n"
            ],
            "text/markdown": "1. 'year'\n2. 'month'\n3. 'day'\n4. 'dep_time'\n5. 'sched_dep_time'\n6. 'dep_delay'\n7. 'arr_time'\n8. 'sched_arr_time'\n9. 'arr_delay'\n10. 'carrier'\n11. 'flight'\n12. 'tailnum'\n13. 'origin'\n14. 'dest'\n15. 'air_time'\n16. 'distance'\n17. 'hour'\n18. 'minute'\n19. 'time_hour'\n\n\n",
            "text/latex": "\\begin{enumerate*}\n\\item 'year'\n\\item 'month'\n\\item 'day'\n\\item 'dep\\_time'\n\\item 'sched\\_dep\\_time'\n\\item 'dep\\_delay'\n\\item 'arr\\_time'\n\\item 'sched\\_arr\\_time'\n\\item 'arr\\_delay'\n\\item 'carrier'\n\\item 'flight'\n\\item 'tailnum'\n\\item 'origin'\n\\item 'dest'\n\\item 'air\\_time'\n\\item 'distance'\n\\item 'hour'\n\\item 'minute'\n\\item 'time\\_hour'\n\\end{enumerate*}\n",
            "text/plain": [
              " [1] \"year\"           \"month\"          \"day\"            \"dep_time\"      \n",
              " [5] \"sched_dep_time\" \"dep_delay\"      \"arr_time\"       \"sched_arr_time\"\n",
              " [9] \"arr_delay\"      \"carrier\"        \"flight\"         \"tailnum\"       \n",
              "[13] \"origin\"         \"dest\"           \"air_time\"       \"distance\"      \n",
              "[17] \"hour\"           \"minute\"         \"time_hour\"     "
            ]
          },
          "metadata": {}
        }
      ]
    },
    {
      "cell_type": "code",
      "metadata": {
        "trusted": true,
        "id": "Hg-abspERPyw",
        "outputId": "b5c01e37-acb6-4751-8611-35aa6f975a6c",
        "colab": {
          "base_uri": "https://localhost:8080/",
          "height": 635
        }
      },
      "source": [
        "#Existe gran variedad (pueden consultar la documentación respectiva)  de otras funciones dentro del package dplyr, por ejemplo: Seleccionar solo las variables que comiencen con \"d\"\n",
        "# para su estudio\n",
        "head(select(vuelos, 4:7 ),3)\n",
        "head(select(vuelos, dep_time:arr_time ),3)\n",
        "head(select(vuelos, starts_with(\"arr_\")))"
      ],
      "execution_count": null,
      "outputs": [
        {
          "output_type": "display_data",
          "data": {
            "text/html": [
              "<table class=\"dataframe\">\n",
              "<caption>A data.frame: 3 × 4</caption>\n",
              "<thead>\n",
              "\t<tr><th></th><th scope=col>dep_time</th><th scope=col>sched_dep_time</th><th scope=col>dep_delay</th><th scope=col>arr_time</th></tr>\n",
              "\t<tr><th></th><th scope=col>&lt;int&gt;</th><th scope=col>&lt;int&gt;</th><th scope=col>&lt;int&gt;</th><th scope=col>&lt;int&gt;</th></tr>\n",
              "</thead>\n",
              "<tbody>\n",
              "\t<tr><th scope=row>1</th><td>517</td><td>515</td><td>2</td><td>830</td></tr>\n",
              "\t<tr><th scope=row>2</th><td>533</td><td>529</td><td>4</td><td>850</td></tr>\n",
              "\t<tr><th scope=row>3</th><td>542</td><td>540</td><td>2</td><td>923</td></tr>\n",
              "</tbody>\n",
              "</table>\n"
            ],
            "text/markdown": "\nA data.frame: 3 × 4\n\n| <!--/--> | dep_time &lt;int&gt; | sched_dep_time &lt;int&gt; | dep_delay &lt;int&gt; | arr_time &lt;int&gt; |\n|---|---|---|---|---|\n| 1 | 517 | 515 | 2 | 830 |\n| 2 | 533 | 529 | 4 | 850 |\n| 3 | 542 | 540 | 2 | 923 |\n\n",
            "text/latex": "A data.frame: 3 × 4\n\\begin{tabular}{r|llll}\n  & dep\\_time & sched\\_dep\\_time & dep\\_delay & arr\\_time\\\\\n  & <int> & <int> & <int> & <int>\\\\\n\\hline\n\t1 & 517 & 515 & 2 & 830\\\\\n\t2 & 533 & 529 & 4 & 850\\\\\n\t3 & 542 & 540 & 2 & 923\\\\\n\\end{tabular}\n",
            "text/plain": [
              "  dep_time sched_dep_time dep_delay arr_time\n",
              "1 517      515            2         830     \n",
              "2 533      529            4         850     \n",
              "3 542      540            2         923     "
            ]
          },
          "metadata": {}
        },
        {
          "output_type": "display_data",
          "data": {
            "text/html": [
              "<table class=\"dataframe\">\n",
              "<caption>A data.frame: 3 × 4</caption>\n",
              "<thead>\n",
              "\t<tr><th></th><th scope=col>dep_time</th><th scope=col>sched_dep_time</th><th scope=col>dep_delay</th><th scope=col>arr_time</th></tr>\n",
              "\t<tr><th></th><th scope=col>&lt;int&gt;</th><th scope=col>&lt;int&gt;</th><th scope=col>&lt;int&gt;</th><th scope=col>&lt;int&gt;</th></tr>\n",
              "</thead>\n",
              "<tbody>\n",
              "\t<tr><th scope=row>1</th><td>517</td><td>515</td><td>2</td><td>830</td></tr>\n",
              "\t<tr><th scope=row>2</th><td>533</td><td>529</td><td>4</td><td>850</td></tr>\n",
              "\t<tr><th scope=row>3</th><td>542</td><td>540</td><td>2</td><td>923</td></tr>\n",
              "</tbody>\n",
              "</table>\n"
            ],
            "text/markdown": "\nA data.frame: 3 × 4\n\n| <!--/--> | dep_time &lt;int&gt; | sched_dep_time &lt;int&gt; | dep_delay &lt;int&gt; | arr_time &lt;int&gt; |\n|---|---|---|---|---|\n| 1 | 517 | 515 | 2 | 830 |\n| 2 | 533 | 529 | 4 | 850 |\n| 3 | 542 | 540 | 2 | 923 |\n\n",
            "text/latex": "A data.frame: 3 × 4\n\\begin{tabular}{r|llll}\n  & dep\\_time & sched\\_dep\\_time & dep\\_delay & arr\\_time\\\\\n  & <int> & <int> & <int> & <int>\\\\\n\\hline\n\t1 & 517 & 515 & 2 & 830\\\\\n\t2 & 533 & 529 & 4 & 850\\\\\n\t3 & 542 & 540 & 2 & 923\\\\\n\\end{tabular}\n",
            "text/plain": [
              "  dep_time sched_dep_time dep_delay arr_time\n",
              "1 517      515            2         830     \n",
              "2 533      529            4         850     \n",
              "3 542      540            2         923     "
            ]
          },
          "metadata": {}
        },
        {
          "output_type": "display_data",
          "data": {
            "text/html": [
              "<table class=\"dataframe\">\n",
              "<caption>A data.frame: 6 × 2</caption>\n",
              "<thead>\n",
              "\t<tr><th></th><th scope=col>arr_time</th><th scope=col>arr_delay</th></tr>\n",
              "\t<tr><th></th><th scope=col>&lt;int&gt;</th><th scope=col>&lt;int&gt;</th></tr>\n",
              "</thead>\n",
              "<tbody>\n",
              "\t<tr><th scope=row>1</th><td> 830</td><td> 11</td></tr>\n",
              "\t<tr><th scope=row>2</th><td> 850</td><td> 20</td></tr>\n",
              "\t<tr><th scope=row>3</th><td> 923</td><td> 33</td></tr>\n",
              "\t<tr><th scope=row>4</th><td>1004</td><td>-18</td></tr>\n",
              "\t<tr><th scope=row>5</th><td> 812</td><td>-25</td></tr>\n",
              "\t<tr><th scope=row>6</th><td> 740</td><td> 12</td></tr>\n",
              "</tbody>\n",
              "</table>\n"
            ],
            "text/markdown": "\nA data.frame: 6 × 2\n\n| <!--/--> | arr_time &lt;int&gt; | arr_delay &lt;int&gt; |\n|---|---|---|\n| 1 |  830 |  11 |\n| 2 |  850 |  20 |\n| 3 |  923 |  33 |\n| 4 | 1004 | -18 |\n| 5 |  812 | -25 |\n| 6 |  740 |  12 |\n\n",
            "text/latex": "A data.frame: 6 × 2\n\\begin{tabular}{r|ll}\n  & arr\\_time & arr\\_delay\\\\\n  & <int> & <int>\\\\\n\\hline\n\t1 &  830 &  11\\\\\n\t2 &  850 &  20\\\\\n\t3 &  923 &  33\\\\\n\t4 & 1004 & -18\\\\\n\t5 &  812 & -25\\\\\n\t6 &  740 &  12\\\\\n\\end{tabular}\n",
            "text/plain": [
              "  arr_time arr_delay\n",
              "1  830      11      \n",
              "2  850      20      \n",
              "3  923      33      \n",
              "4 1004     -18      \n",
              "5  812     -25      \n",
              "6  740      12      "
            ]
          },
          "metadata": {}
        }
      ]
    },
    {
      "cell_type": "markdown",
      "metadata": {
        "id": "6k5I_iHZRPy0"
      },
      "source": [
        "### 4.4 Función mutate()\n",
        "\n",
        "Una de las funciones más útiles de dplyr es la función mutate(), la cual permite crear nuevas columnas, o modificar las existentes."
      ]
    },
    {
      "cell_type": "code",
      "metadata": {
        "trusted": true,
        "scrolled": false,
        "id": "id5cyTJ2RPy0"
      },
      "source": [
        "# mutate() ----------------------------------------------------------------\n",
        "# Crear una nueva columna llamada retraso_neto, que contenga la suma de arr_delay y dep_delay\n",
        "\n",
        "#antes\n",
        "vuelos[[\"retraso_neto\"]] <- vuelos$arr_delay + vuelos$dep_delay # ya estamos modificando el dataframe original\n"
      ],
      "execution_count": null,
      "outputs": []
    },
    {
      "cell_type": "code",
      "source": [
        "head(vuelos)"
      ],
      "metadata": {
        "id": "NrZoswj9R697",
        "outputId": "0cf6ea70-fa5f-4c77-ce6f-8ec124afdeb1",
        "colab": {
          "base_uri": "https://localhost:8080/",
          "height": 514
        }
      },
      "execution_count": null,
      "outputs": [
        {
          "output_type": "display_data",
          "data": {
            "text/html": [
              "<table class=\"dataframe\">\n",
              "<caption>A data.frame: 6 × 20</caption>\n",
              "<thead>\n",
              "\t<tr><th></th><th scope=col>year</th><th scope=col>month</th><th scope=col>day</th><th scope=col>dep_time</th><th scope=col>sched_dep_time</th><th scope=col>dep_delay</th><th scope=col>arr_time</th><th scope=col>sched_arr_time</th><th scope=col>arr_delay</th><th scope=col>carrier</th><th scope=col>flight</th><th scope=col>tailnum</th><th scope=col>origin</th><th scope=col>dest</th><th scope=col>air_time</th><th scope=col>distance</th><th scope=col>hour</th><th scope=col>minute</th><th scope=col>time_hour</th><th scope=col>retraso_neto</th></tr>\n",
              "\t<tr><th></th><th scope=col>&lt;int&gt;</th><th scope=col>&lt;int&gt;</th><th scope=col>&lt;int&gt;</th><th scope=col>&lt;int&gt;</th><th scope=col>&lt;int&gt;</th><th scope=col>&lt;int&gt;</th><th scope=col>&lt;int&gt;</th><th scope=col>&lt;int&gt;</th><th scope=col>&lt;int&gt;</th><th scope=col>&lt;chr&gt;</th><th scope=col>&lt;int&gt;</th><th scope=col>&lt;chr&gt;</th><th scope=col>&lt;chr&gt;</th><th scope=col>&lt;chr&gt;</th><th scope=col>&lt;int&gt;</th><th scope=col>&lt;int&gt;</th><th scope=col>&lt;int&gt;</th><th scope=col>&lt;int&gt;</th><th scope=col>&lt;chr&gt;</th><th scope=col>&lt;int&gt;</th></tr>\n",
              "</thead>\n",
              "<tbody>\n",
              "\t<tr><th scope=row>1</th><td>2013</td><td>1</td><td>1</td><td>517</td><td>515</td><td> 2</td><td> 830</td><td> 819</td><td> 11</td><td>UA</td><td>1545</td><td>N14228</td><td>EWR</td><td>IAH</td><td>227</td><td>1400</td><td>5</td><td>15</td><td>2013-01-01 05:00:00</td><td> 13</td></tr>\n",
              "\t<tr><th scope=row>2</th><td>2013</td><td>1</td><td>1</td><td>533</td><td>529</td><td> 4</td><td> 850</td><td> 830</td><td> 20</td><td>UA</td><td>1714</td><td>N24211</td><td>LGA</td><td>IAH</td><td>227</td><td>1416</td><td>5</td><td>29</td><td>2013-01-01 05:00:00</td><td> 24</td></tr>\n",
              "\t<tr><th scope=row>3</th><td>2013</td><td>1</td><td>1</td><td>542</td><td>540</td><td> 2</td><td> 923</td><td> 850</td><td> 33</td><td>AA</td><td>1141</td><td>N619AA</td><td>JFK</td><td>MIA</td><td>160</td><td>1089</td><td>5</td><td>40</td><td>2013-01-01 05:00:00</td><td> 35</td></tr>\n",
              "\t<tr><th scope=row>4</th><td>2013</td><td>1</td><td>1</td><td>544</td><td>545</td><td>-1</td><td>1004</td><td>1022</td><td>-18</td><td>B6</td><td> 725</td><td>N804JB</td><td>JFK</td><td>BQN</td><td>183</td><td>1576</td><td>5</td><td>45</td><td>2013-01-01 05:00:00</td><td>-19</td></tr>\n",
              "\t<tr><th scope=row>5</th><td>2013</td><td>1</td><td>1</td><td>554</td><td>600</td><td>-6</td><td> 812</td><td> 837</td><td>-25</td><td>DL</td><td> 461</td><td>N668DN</td><td>LGA</td><td>ATL</td><td>116</td><td> 762</td><td>6</td><td> 0</td><td>2013-01-01 06:00:00</td><td>-31</td></tr>\n",
              "\t<tr><th scope=row>6</th><td>2013</td><td>1</td><td>1</td><td>554</td><td>558</td><td>-4</td><td> 740</td><td> 728</td><td> 12</td><td>UA</td><td>1696</td><td>N39463</td><td>EWR</td><td>ORD</td><td>150</td><td> 719</td><td>5</td><td>58</td><td>2013-01-01 05:00:00</td><td>  8</td></tr>\n",
              "</tbody>\n",
              "</table>\n"
            ],
            "text/markdown": "\nA data.frame: 6 × 20\n\n| <!--/--> | year &lt;int&gt; | month &lt;int&gt; | day &lt;int&gt; | dep_time &lt;int&gt; | sched_dep_time &lt;int&gt; | dep_delay &lt;int&gt; | arr_time &lt;int&gt; | sched_arr_time &lt;int&gt; | arr_delay &lt;int&gt; | carrier &lt;chr&gt; | flight &lt;int&gt; | tailnum &lt;chr&gt; | origin &lt;chr&gt; | dest &lt;chr&gt; | air_time &lt;int&gt; | distance &lt;int&gt; | hour &lt;int&gt; | minute &lt;int&gt; | time_hour &lt;chr&gt; | retraso_neto &lt;int&gt; |\n|---|---|---|---|---|---|---|---|---|---|---|---|---|---|---|---|---|---|---|---|---|\n| 1 | 2013 | 1 | 1 | 517 | 515 |  2 |  830 |  819 |  11 | UA | 1545 | N14228 | EWR | IAH | 227 | 1400 | 5 | 15 | 2013-01-01 05:00:00 |  13 |\n| 2 | 2013 | 1 | 1 | 533 | 529 |  4 |  850 |  830 |  20 | UA | 1714 | N24211 | LGA | IAH | 227 | 1416 | 5 | 29 | 2013-01-01 05:00:00 |  24 |\n| 3 | 2013 | 1 | 1 | 542 | 540 |  2 |  923 |  850 |  33 | AA | 1141 | N619AA | JFK | MIA | 160 | 1089 | 5 | 40 | 2013-01-01 05:00:00 |  35 |\n| 4 | 2013 | 1 | 1 | 544 | 545 | -1 | 1004 | 1022 | -18 | B6 |  725 | N804JB | JFK | BQN | 183 | 1576 | 5 | 45 | 2013-01-01 05:00:00 | -19 |\n| 5 | 2013 | 1 | 1 | 554 | 600 | -6 |  812 |  837 | -25 | DL |  461 | N668DN | LGA | ATL | 116 |  762 | 6 |  0 | 2013-01-01 06:00:00 | -31 |\n| 6 | 2013 | 1 | 1 | 554 | 558 | -4 |  740 |  728 |  12 | UA | 1696 | N39463 | EWR | ORD | 150 |  719 | 5 | 58 | 2013-01-01 05:00:00 |   8 |\n\n",
            "text/latex": "A data.frame: 6 × 20\n\\begin{tabular}{r|llllllllllllllllllll}\n  & year & month & day & dep\\_time & sched\\_dep\\_time & dep\\_delay & arr\\_time & sched\\_arr\\_time & arr\\_delay & carrier & flight & tailnum & origin & dest & air\\_time & distance & hour & minute & time\\_hour & retraso\\_neto\\\\\n  & <int> & <int> & <int> & <int> & <int> & <int> & <int> & <int> & <int> & <chr> & <int> & <chr> & <chr> & <chr> & <int> & <int> & <int> & <int> & <chr> & <int>\\\\\n\\hline\n\t1 & 2013 & 1 & 1 & 517 & 515 &  2 &  830 &  819 &  11 & UA & 1545 & N14228 & EWR & IAH & 227 & 1400 & 5 & 15 & 2013-01-01 05:00:00 &  13\\\\\n\t2 & 2013 & 1 & 1 & 533 & 529 &  4 &  850 &  830 &  20 & UA & 1714 & N24211 & LGA & IAH & 227 & 1416 & 5 & 29 & 2013-01-01 05:00:00 &  24\\\\\n\t3 & 2013 & 1 & 1 & 542 & 540 &  2 &  923 &  850 &  33 & AA & 1141 & N619AA & JFK & MIA & 160 & 1089 & 5 & 40 & 2013-01-01 05:00:00 &  35\\\\\n\t4 & 2013 & 1 & 1 & 544 & 545 & -1 & 1004 & 1022 & -18 & B6 &  725 & N804JB & JFK & BQN & 183 & 1576 & 5 & 45 & 2013-01-01 05:00:00 & -19\\\\\n\t5 & 2013 & 1 & 1 & 554 & 600 & -6 &  812 &  837 & -25 & DL &  461 & N668DN & LGA & ATL & 116 &  762 & 6 &  0 & 2013-01-01 06:00:00 & -31\\\\\n\t6 & 2013 & 1 & 1 & 554 & 558 & -4 &  740 &  728 &  12 & UA & 1696 & N39463 & EWR & ORD & 150 &  719 & 5 & 58 & 2013-01-01 05:00:00 &   8\\\\\n\\end{tabular}\n",
            "text/plain": [
              "  year month day dep_time sched_dep_time dep_delay arr_time sched_arr_time\n",
              "1 2013 1     1   517      515             2         830      819          \n",
              "2 2013 1     1   533      529             4         850      830          \n",
              "3 2013 1     1   542      540             2         923      850          \n",
              "4 2013 1     1   544      545            -1        1004     1022          \n",
              "5 2013 1     1   554      600            -6         812      837          \n",
              "6 2013 1     1   554      558            -4         740      728          \n",
              "  arr_delay carrier flight tailnum origin dest air_time distance hour minute\n",
              "1  11       UA      1545   N14228  EWR    IAH  227      1400     5    15    \n",
              "2  20       UA      1714   N24211  LGA    IAH  227      1416     5    29    \n",
              "3  33       AA      1141   N619AA  JFK    MIA  160      1089     5    40    \n",
              "4 -18       B6       725   N804JB  JFK    BQN  183      1576     5    45    \n",
              "5 -25       DL       461   N668DN  LGA    ATL  116       762     6     0    \n",
              "6  12       UA      1696   N39463  EWR    ORD  150       719     5    58    \n",
              "  time_hour           retraso_neto\n",
              "1 2013-01-01 05:00:00  13         \n",
              "2 2013-01-01 05:00:00  24         \n",
              "3 2013-01-01 05:00:00  35         \n",
              "4 2013-01-01 05:00:00 -19         \n",
              "5 2013-01-01 06:00:00 -31         \n",
              "6 2013-01-01 05:00:00   8         "
            ]
          },
          "metadata": {}
        }
      ]
    },
    {
      "cell_type": "code",
      "source": [
        "#ahora\n",
        "mutate(vuelos, retraso_neto2 = arr_delay + dep_delay)\n"
      ],
      "metadata": {
        "id": "0JGv5inhRmwd",
        "outputId": "64dcc08b-7bb6-4e75-89f0-1477b946389e",
        "colab": {
          "base_uri": "https://localhost:8080/",
          "height": 1000
        }
      },
      "execution_count": null,
      "outputs": [
        {
          "output_type": "display_data",
          "data": {
            "text/html": [
              "<table class=\"dataframe\">\n",
              "<caption>A data.frame: 336776 × 21</caption>\n",
              "<thead>\n",
              "\t<tr><th scope=col>year</th><th scope=col>month</th><th scope=col>day</th><th scope=col>dep_time</th><th scope=col>sched_dep_time</th><th scope=col>dep_delay</th><th scope=col>arr_time</th><th scope=col>sched_arr_time</th><th scope=col>arr_delay</th><th scope=col>carrier</th><th scope=col>⋯</th><th scope=col>tailnum</th><th scope=col>origin</th><th scope=col>dest</th><th scope=col>air_time</th><th scope=col>distance</th><th scope=col>hour</th><th scope=col>minute</th><th scope=col>time_hour</th><th scope=col>retraso_neto</th><th scope=col>retraso_neto2</th></tr>\n",
              "\t<tr><th scope=col>&lt;int&gt;</th><th scope=col>&lt;int&gt;</th><th scope=col>&lt;int&gt;</th><th scope=col>&lt;int&gt;</th><th scope=col>&lt;int&gt;</th><th scope=col>&lt;int&gt;</th><th scope=col>&lt;int&gt;</th><th scope=col>&lt;int&gt;</th><th scope=col>&lt;int&gt;</th><th scope=col>&lt;chr&gt;</th><th scope=col>⋯</th><th scope=col>&lt;chr&gt;</th><th scope=col>&lt;chr&gt;</th><th scope=col>&lt;chr&gt;</th><th scope=col>&lt;int&gt;</th><th scope=col>&lt;int&gt;</th><th scope=col>&lt;int&gt;</th><th scope=col>&lt;int&gt;</th><th scope=col>&lt;chr&gt;</th><th scope=col>&lt;int&gt;</th><th scope=col>&lt;int&gt;</th></tr>\n",
              "</thead>\n",
              "<tbody>\n",
              "\t<tr><td>2013</td><td>1</td><td>1</td><td>517</td><td>515</td><td> 2</td><td> 830</td><td> 819</td><td> 11</td><td>UA</td><td>⋯</td><td>N14228</td><td>EWR</td><td>IAH</td><td>227</td><td>1400</td><td>5</td><td>15</td><td>2013-01-01 05:00:00</td><td> 13</td><td> 13</td></tr>\n",
              "\t<tr><td>2013</td><td>1</td><td>1</td><td>533</td><td>529</td><td> 4</td><td> 850</td><td> 830</td><td> 20</td><td>UA</td><td>⋯</td><td>N24211</td><td>LGA</td><td>IAH</td><td>227</td><td>1416</td><td>5</td><td>29</td><td>2013-01-01 05:00:00</td><td> 24</td><td> 24</td></tr>\n",
              "\t<tr><td>2013</td><td>1</td><td>1</td><td>542</td><td>540</td><td> 2</td><td> 923</td><td> 850</td><td> 33</td><td>AA</td><td>⋯</td><td>N619AA</td><td>JFK</td><td>MIA</td><td>160</td><td>1089</td><td>5</td><td>40</td><td>2013-01-01 05:00:00</td><td> 35</td><td> 35</td></tr>\n",
              "\t<tr><td>2013</td><td>1</td><td>1</td><td>544</td><td>545</td><td>-1</td><td>1004</td><td>1022</td><td>-18</td><td>B6</td><td>⋯</td><td>N804JB</td><td>JFK</td><td>BQN</td><td>183</td><td>1576</td><td>5</td><td>45</td><td>2013-01-01 05:00:00</td><td>-19</td><td>-19</td></tr>\n",
              "\t<tr><td>2013</td><td>1</td><td>1</td><td>554</td><td>600</td><td>-6</td><td> 812</td><td> 837</td><td>-25</td><td>DL</td><td>⋯</td><td>N668DN</td><td>LGA</td><td>ATL</td><td>116</td><td> 762</td><td>6</td><td> 0</td><td>2013-01-01 06:00:00</td><td>-31</td><td>-31</td></tr>\n",
              "\t<tr><td>2013</td><td>1</td><td>1</td><td>554</td><td>558</td><td>-4</td><td> 740</td><td> 728</td><td> 12</td><td>UA</td><td>⋯</td><td>N39463</td><td>EWR</td><td>ORD</td><td>150</td><td> 719</td><td>5</td><td>58</td><td>2013-01-01 05:00:00</td><td>  8</td><td>  8</td></tr>\n",
              "\t<tr><td>2013</td><td>1</td><td>1</td><td>555</td><td>600</td><td>-5</td><td> 913</td><td> 854</td><td> 19</td><td>B6</td><td>⋯</td><td>N516JB</td><td>EWR</td><td>FLL</td><td>158</td><td>1065</td><td>6</td><td> 0</td><td>2013-01-01 06:00:00</td><td> 14</td><td> 14</td></tr>\n",
              "\t<tr><td>2013</td><td>1</td><td>1</td><td>557</td><td>600</td><td>-3</td><td> 709</td><td> 723</td><td>-14</td><td>EV</td><td>⋯</td><td>N829AS</td><td>LGA</td><td>IAD</td><td> 53</td><td> 229</td><td>6</td><td> 0</td><td>2013-01-01 06:00:00</td><td>-17</td><td>-17</td></tr>\n",
              "\t<tr><td>2013</td><td>1</td><td>1</td><td>557</td><td>600</td><td>-3</td><td> 838</td><td> 846</td><td> -8</td><td>B6</td><td>⋯</td><td>N593JB</td><td>JFK</td><td>MCO</td><td>140</td><td> 944</td><td>6</td><td> 0</td><td>2013-01-01 06:00:00</td><td>-11</td><td>-11</td></tr>\n",
              "\t<tr><td>2013</td><td>1</td><td>1</td><td>558</td><td>600</td><td>-2</td><td> 753</td><td> 745</td><td>  8</td><td>AA</td><td>⋯</td><td>N3ALAA</td><td>LGA</td><td>ORD</td><td>138</td><td> 733</td><td>6</td><td> 0</td><td>2013-01-01 06:00:00</td><td>  6</td><td>  6</td></tr>\n",
              "\t<tr><td>2013</td><td>1</td><td>1</td><td>558</td><td>600</td><td>-2</td><td> 849</td><td> 851</td><td> -2</td><td>B6</td><td>⋯</td><td>N793JB</td><td>JFK</td><td>PBI</td><td>149</td><td>1028</td><td>6</td><td> 0</td><td>2013-01-01 06:00:00</td><td> -4</td><td> -4</td></tr>\n",
              "\t<tr><td>2013</td><td>1</td><td>1</td><td>558</td><td>600</td><td>-2</td><td> 853</td><td> 856</td><td> -3</td><td>B6</td><td>⋯</td><td>N657JB</td><td>JFK</td><td>TPA</td><td>158</td><td>1005</td><td>6</td><td> 0</td><td>2013-01-01 06:00:00</td><td> -5</td><td> -5</td></tr>\n",
              "\t<tr><td>2013</td><td>1</td><td>1</td><td>558</td><td>600</td><td>-2</td><td> 924</td><td> 917</td><td>  7</td><td>UA</td><td>⋯</td><td>N29129</td><td>JFK</td><td>LAX</td><td>345</td><td>2475</td><td>6</td><td> 0</td><td>2013-01-01 06:00:00</td><td>  5</td><td>  5</td></tr>\n",
              "\t<tr><td>2013</td><td>1</td><td>1</td><td>558</td><td>600</td><td>-2</td><td> 923</td><td> 937</td><td>-14</td><td>UA</td><td>⋯</td><td>N53441</td><td>EWR</td><td>SFO</td><td>361</td><td>2565</td><td>6</td><td> 0</td><td>2013-01-01 06:00:00</td><td>-16</td><td>-16</td></tr>\n",
              "\t<tr><td>2013</td><td>1</td><td>1</td><td>559</td><td>600</td><td>-1</td><td> 941</td><td> 910</td><td> 31</td><td>AA</td><td>⋯</td><td>N3DUAA</td><td>LGA</td><td>DFW</td><td>257</td><td>1389</td><td>6</td><td> 0</td><td>2013-01-01 06:00:00</td><td> 30</td><td> 30</td></tr>\n",
              "\t<tr><td>2013</td><td>1</td><td>1</td><td>559</td><td>559</td><td> 0</td><td> 702</td><td> 706</td><td> -4</td><td>B6</td><td>⋯</td><td>N708JB</td><td>JFK</td><td>BOS</td><td> 44</td><td> 187</td><td>5</td><td>59</td><td>2013-01-01 05:00:00</td><td> -4</td><td> -4</td></tr>\n",
              "\t<tr><td>2013</td><td>1</td><td>1</td><td>559</td><td>600</td><td>-1</td><td> 854</td><td> 902</td><td> -8</td><td>UA</td><td>⋯</td><td>N76515</td><td>EWR</td><td>LAS</td><td>337</td><td>2227</td><td>6</td><td> 0</td><td>2013-01-01 06:00:00</td><td> -9</td><td> -9</td></tr>\n",
              "\t<tr><td>2013</td><td>1</td><td>1</td><td>600</td><td>600</td><td> 0</td><td> 851</td><td> 858</td><td> -7</td><td>B6</td><td>⋯</td><td>N595JB</td><td>LGA</td><td>FLL</td><td>152</td><td>1076</td><td>6</td><td> 0</td><td>2013-01-01 06:00:00</td><td> -7</td><td> -7</td></tr>\n",
              "\t<tr><td>2013</td><td>1</td><td>1</td><td>600</td><td>600</td><td> 0</td><td> 837</td><td> 825</td><td> 12</td><td>MQ</td><td>⋯</td><td>N542MQ</td><td>LGA</td><td>ATL</td><td>134</td><td> 762</td><td>6</td><td> 0</td><td>2013-01-01 06:00:00</td><td> 12</td><td> 12</td></tr>\n",
              "\t<tr><td>2013</td><td>1</td><td>1</td><td>601</td><td>600</td><td> 1</td><td> 844</td><td> 850</td><td> -6</td><td>B6</td><td>⋯</td><td>N644JB</td><td>EWR</td><td>PBI</td><td>147</td><td>1023</td><td>6</td><td> 0</td><td>2013-01-01 06:00:00</td><td> -5</td><td> -5</td></tr>\n",
              "\t<tr><td>2013</td><td>1</td><td>1</td><td>602</td><td>610</td><td>-8</td><td> 812</td><td> 820</td><td> -8</td><td>DL</td><td>⋯</td><td>N971DL</td><td>LGA</td><td>MSP</td><td>170</td><td>1020</td><td>6</td><td>10</td><td>2013-01-01 06:00:00</td><td>-16</td><td>-16</td></tr>\n",
              "\t<tr><td>2013</td><td>1</td><td>1</td><td>602</td><td>605</td><td>-3</td><td> 821</td><td> 805</td><td> 16</td><td>MQ</td><td>⋯</td><td>N730MQ</td><td>LGA</td><td>DTW</td><td>105</td><td> 502</td><td>6</td><td> 5</td><td>2013-01-01 06:00:00</td><td> 13</td><td> 13</td></tr>\n",
              "\t<tr><td>2013</td><td>1</td><td>1</td><td>606</td><td>610</td><td>-4</td><td> 858</td><td> 910</td><td>-12</td><td>AA</td><td>⋯</td><td>N633AA</td><td>EWR</td><td>MIA</td><td>152</td><td>1085</td><td>6</td><td>10</td><td>2013-01-01 06:00:00</td><td>-16</td><td>-16</td></tr>\n",
              "\t<tr><td>2013</td><td>1</td><td>1</td><td>606</td><td>610</td><td>-4</td><td> 837</td><td> 845</td><td> -8</td><td>DL</td><td>⋯</td><td>N3739P</td><td>JFK</td><td>ATL</td><td>128</td><td> 760</td><td>6</td><td>10</td><td>2013-01-01 06:00:00</td><td>-12</td><td>-12</td></tr>\n",
              "\t<tr><td>2013</td><td>1</td><td>1</td><td>607</td><td>607</td><td> 0</td><td> 858</td><td> 915</td><td>-17</td><td>UA</td><td>⋯</td><td>N53442</td><td>EWR</td><td>MIA</td><td>157</td><td>1085</td><td>6</td><td> 7</td><td>2013-01-01 06:00:00</td><td>-17</td><td>-17</td></tr>\n",
              "\t<tr><td>2013</td><td>1</td><td>1</td><td>608</td><td>600</td><td> 8</td><td> 807</td><td> 735</td><td> 32</td><td>MQ</td><td>⋯</td><td>N9EAMQ</td><td>EWR</td><td>ORD</td><td>139</td><td> 719</td><td>6</td><td> 0</td><td>2013-01-01 06:00:00</td><td> 40</td><td> 40</td></tr>\n",
              "\t<tr><td>2013</td><td>1</td><td>1</td><td>611</td><td>600</td><td>11</td><td> 945</td><td> 931</td><td> 14</td><td>UA</td><td>⋯</td><td>N532UA</td><td>JFK</td><td>SFO</td><td>366</td><td>2586</td><td>6</td><td> 0</td><td>2013-01-01 06:00:00</td><td> 25</td><td> 25</td></tr>\n",
              "\t<tr><td>2013</td><td>1</td><td>1</td><td>613</td><td>610</td><td> 3</td><td> 925</td><td> 921</td><td>  4</td><td>B6</td><td>⋯</td><td>N635JB</td><td>JFK</td><td>RSW</td><td>175</td><td>1074</td><td>6</td><td>10</td><td>2013-01-01 06:00:00</td><td>  7</td><td>  7</td></tr>\n",
              "\t<tr><td>2013</td><td>1</td><td>1</td><td>615</td><td>615</td><td> 0</td><td>1039</td><td>1100</td><td>-21</td><td>B6</td><td>⋯</td><td>N794JB</td><td>JFK</td><td>SJU</td><td>182</td><td>1598</td><td>6</td><td>15</td><td>2013-01-01 06:00:00</td><td>-21</td><td>-21</td></tr>\n",
              "\t<tr><td>2013</td><td>1</td><td>1</td><td>615</td><td>615</td><td> 0</td><td> 833</td><td> 842</td><td> -9</td><td>DL</td><td>⋯</td><td>N326NB</td><td>EWR</td><td>ATL</td><td>120</td><td> 746</td><td>6</td><td>15</td><td>2013-01-01 06:00:00</td><td> -9</td><td> -9</td></tr>\n",
              "\t<tr><td>⋮</td><td>⋮</td><td>⋮</td><td>⋮</td><td>⋮</td><td>⋮</td><td>⋮</td><td>⋮</td><td>⋮</td><td>⋮</td><td>⋱</td><td>⋮</td><td>⋮</td><td>⋮</td><td>⋮</td><td>⋮</td><td>⋮</td><td>⋮</td><td>⋮</td><td>⋮</td><td>⋮</td></tr>\n",
              "\t<tr><td>2013</td><td>9</td><td>30</td><td>2123</td><td>2125</td><td> -2</td><td>2223</td><td>2247</td><td>-24</td><td>EV</td><td>⋯</td><td>N712EV</td><td>LGA</td><td>CHO</td><td> 45</td><td> 305</td><td>21</td><td>25</td><td>2013-09-30 21:00:00</td><td>-26</td><td>-26</td></tr>\n",
              "\t<tr><td>2013</td><td>9</td><td>30</td><td>2127</td><td>2129</td><td> -2</td><td>2314</td><td>2323</td><td> -9</td><td>EV</td><td>⋯</td><td>N16546</td><td>EWR</td><td>CLT</td><td> 72</td><td> 529</td><td>21</td><td>29</td><td>2013-09-30 21:00:00</td><td>-11</td><td>-11</td></tr>\n",
              "\t<tr><td>2013</td><td>9</td><td>30</td><td>2128</td><td>2130</td><td> -2</td><td>2328</td><td>2359</td><td>-31</td><td>B6</td><td>⋯</td><td>N807JB</td><td>JFK</td><td>DEN</td><td>213</td><td>1626</td><td>21</td><td>30</td><td>2013-09-30 21:00:00</td><td>-33</td><td>-33</td></tr>\n",
              "\t<tr><td>2013</td><td>9</td><td>30</td><td>2129</td><td>2059</td><td> 30</td><td>2230</td><td>2232</td><td> -2</td><td>EV</td><td>⋯</td><td>N751EV</td><td>LGA</td><td>RIC</td><td> 45</td><td> 292</td><td>20</td><td>59</td><td>2013-09-30 20:00:00</td><td> 28</td><td> 28</td></tr>\n",
              "\t<tr><td>2013</td><td>9</td><td>30</td><td>2131</td><td>2140</td><td> -9</td><td>2225</td><td>2255</td><td>-30</td><td>MQ</td><td>⋯</td><td>N807MQ</td><td>JFK</td><td>DCA</td><td> 36</td><td> 213</td><td>21</td><td>40</td><td>2013-09-30 21:00:00</td><td>-39</td><td>-39</td></tr>\n",
              "\t<tr><td>2013</td><td>9</td><td>30</td><td>2140</td><td>2140</td><td>  0</td><td>  10</td><td>  40</td><td>-30</td><td>AA</td><td>⋯</td><td>N335AA</td><td>JFK</td><td>LAX</td><td>298</td><td>2475</td><td>21</td><td>40</td><td>2013-09-30 21:00:00</td><td>-30</td><td>-30</td></tr>\n",
              "\t<tr><td>2013</td><td>9</td><td>30</td><td>2142</td><td>2129</td><td> 13</td><td>2250</td><td>2239</td><td> 11</td><td>EV</td><td>⋯</td><td>N12957</td><td>EWR</td><td>PWM</td><td> 47</td><td> 284</td><td>21</td><td>29</td><td>2013-09-30 21:00:00</td><td> 24</td><td> 24</td></tr>\n",
              "\t<tr><td>2013</td><td>9</td><td>30</td><td>2145</td><td>2145</td><td>  0</td><td> 115</td><td> 140</td><td>-25</td><td>B6</td><td>⋯</td><td>N633JB</td><td>JFK</td><td>SJU</td><td>192</td><td>1598</td><td>21</td><td>45</td><td>2013-09-30 21:00:00</td><td>-25</td><td>-25</td></tr>\n",
              "\t<tr><td>2013</td><td>9</td><td>30</td><td>2147</td><td>2137</td><td> 10</td><td>  30</td><td>  27</td><td>  3</td><td>B6</td><td>⋯</td><td>N627JB</td><td>LGA</td><td>FLL</td><td>139</td><td>1076</td><td>21</td><td>37</td><td>2013-09-30 21:00:00</td><td> 13</td><td> 13</td></tr>\n",
              "\t<tr><td>2013</td><td>9</td><td>30</td><td>2149</td><td>2156</td><td> -7</td><td>2245</td><td>2308</td><td>-23</td><td>UA</td><td>⋯</td><td>N813UA</td><td>EWR</td><td>BOS</td><td> 37</td><td> 200</td><td>21</td><td>56</td><td>2013-09-30 21:00:00</td><td>-30</td><td>-30</td></tr>\n",
              "\t<tr><td>2013</td><td>9</td><td>30</td><td>2150</td><td>2159</td><td> -9</td><td>2250</td><td>2306</td><td>-16</td><td>EV</td><td>⋯</td><td>N10575</td><td>EWR</td><td>MHT</td><td> 39</td><td> 209</td><td>21</td><td>59</td><td>2013-09-30 21:00:00</td><td>-25</td><td>-25</td></tr>\n",
              "\t<tr><td>2013</td><td>9</td><td>30</td><td>2159</td><td>1845</td><td>194</td><td>2344</td><td>2030</td><td>194</td><td>9E</td><td>⋯</td><td>N906XJ</td><td>JFK</td><td>BUF</td><td> 50</td><td> 301</td><td>18</td><td>45</td><td>2013-09-30 18:00:00</td><td>388</td><td>388</td></tr>\n",
              "\t<tr><td>2013</td><td>9</td><td>30</td><td>2203</td><td>2205</td><td> -2</td><td>2339</td><td>2331</td><td>  8</td><td>EV</td><td>⋯</td><td>N722EV</td><td>LGA</td><td>BGR</td><td> 61</td><td> 378</td><td>22</td><td> 5</td><td>2013-09-30 22:00:00</td><td>  6</td><td>  6</td></tr>\n",
              "\t<tr><td>2013</td><td>9</td><td>30</td><td>2207</td><td>2140</td><td> 27</td><td>2257</td><td>2250</td><td>  7</td><td>MQ</td><td>⋯</td><td>N532MQ</td><td>LGA</td><td>BNA</td><td> 97</td><td> 764</td><td>21</td><td>40</td><td>2013-09-30 21:00:00</td><td> 34</td><td> 34</td></tr>\n",
              "\t<tr><td>2013</td><td>9</td><td>30</td><td>2211</td><td>2059</td><td> 72</td><td>2339</td><td>2242</td><td> 57</td><td>EV</td><td>⋯</td><td>N12145</td><td>EWR</td><td>STL</td><td>120</td><td> 872</td><td>20</td><td>59</td><td>2013-09-30 20:00:00</td><td>129</td><td>129</td></tr>\n",
              "\t<tr><td>2013</td><td>9</td><td>30</td><td>2231</td><td>2245</td><td>-14</td><td>2335</td><td>2356</td><td>-21</td><td>B6</td><td>⋯</td><td>N193JB</td><td>JFK</td><td>PWM</td><td> 48</td><td> 273</td><td>22</td><td>45</td><td>2013-09-30 22:00:00</td><td>-35</td><td>-35</td></tr>\n",
              "\t<tr><td>2013</td><td>9</td><td>30</td><td>2233</td><td>2113</td><td> 80</td><td> 112</td><td>  30</td><td> 42</td><td>UA</td><td>⋯</td><td>N578UA</td><td>EWR</td><td>SFO</td><td>318</td><td>2565</td><td>21</td><td>13</td><td>2013-09-30 21:00:00</td><td>122</td><td>122</td></tr>\n",
              "\t<tr><td>2013</td><td>9</td><td>30</td><td>2235</td><td>2001</td><td>154</td><td>  59</td><td>2249</td><td>130</td><td>B6</td><td>⋯</td><td>N804JB</td><td>JFK</td><td>MCO</td><td>123</td><td> 944</td><td>20</td><td> 1</td><td>2013-09-30 20:00:00</td><td>284</td><td>284</td></tr>\n",
              "\t<tr><td>2013</td><td>9</td><td>30</td><td>2237</td><td>2245</td><td> -8</td><td>2345</td><td>2353</td><td> -8</td><td>B6</td><td>⋯</td><td>N318JB</td><td>JFK</td><td>BTV</td><td> 43</td><td> 266</td><td>22</td><td>45</td><td>2013-09-30 22:00:00</td><td>-16</td><td>-16</td></tr>\n",
              "\t<tr><td>2013</td><td>9</td><td>30</td><td>2240</td><td>2245</td><td> -5</td><td>2334</td><td>2351</td><td>-17</td><td>B6</td><td>⋯</td><td>N354JB</td><td>JFK</td><td>SYR</td><td> 41</td><td> 209</td><td>22</td><td>45</td><td>2013-09-30 22:00:00</td><td>-22</td><td>-22</td></tr>\n",
              "\t<tr><td>2013</td><td>9</td><td>30</td><td>2240</td><td>2250</td><td>-10</td><td>2347</td><td>   7</td><td>-20</td><td>B6</td><td>⋯</td><td>N281JB</td><td>JFK</td><td>BUF</td><td> 52</td><td> 301</td><td>22</td><td>50</td><td>2013-09-30 22:00:00</td><td>-30</td><td>-30</td></tr>\n",
              "\t<tr><td>2013</td><td>9</td><td>30</td><td>2241</td><td>2246</td><td> -5</td><td>2345</td><td>   1</td><td>-16</td><td>B6</td><td>⋯</td><td>N346JB</td><td>JFK</td><td>ROC</td><td> 47</td><td> 264</td><td>22</td><td>46</td><td>2013-09-30 22:00:00</td><td>-21</td><td>-21</td></tr>\n",
              "\t<tr><td>2013</td><td>9</td><td>30</td><td>2307</td><td>2255</td><td> 12</td><td>2359</td><td>2358</td><td>  1</td><td>B6</td><td>⋯</td><td>N565JB</td><td>JFK</td><td>BOS</td><td> 33</td><td> 187</td><td>22</td><td>55</td><td>2013-09-30 22:00:00</td><td> 13</td><td> 13</td></tr>\n",
              "\t<tr><td>2013</td><td>9</td><td>30</td><td>2349</td><td>2359</td><td>-10</td><td> 325</td><td> 350</td><td>-25</td><td>B6</td><td>⋯</td><td>N516JB</td><td>JFK</td><td>PSE</td><td>196</td><td>1617</td><td>23</td><td>59</td><td>2013-09-30 23:00:00</td><td>-35</td><td>-35</td></tr>\n",
              "\t<tr><td>2013</td><td>9</td><td>30</td><td>  NA</td><td>1842</td><td> NA</td><td>  NA</td><td>2019</td><td> NA</td><td>EV</td><td>⋯</td><td>N740EV</td><td>LGA</td><td>BNA</td><td> NA</td><td> 764</td><td>18</td><td>42</td><td>2013-09-30 18:00:00</td><td> NA</td><td> NA</td></tr>\n",
              "\t<tr><td>2013</td><td>9</td><td>30</td><td>  NA</td><td>1455</td><td> NA</td><td>  NA</td><td>1634</td><td> NA</td><td>9E</td><td>⋯</td><td>NA    </td><td>JFK</td><td>DCA</td><td> NA</td><td> 213</td><td>14</td><td>55</td><td>2013-09-30 14:00:00</td><td> NA</td><td> NA</td></tr>\n",
              "\t<tr><td>2013</td><td>9</td><td>30</td><td>  NA</td><td>2200</td><td> NA</td><td>  NA</td><td>2312</td><td> NA</td><td>9E</td><td>⋯</td><td>NA    </td><td>LGA</td><td>SYR</td><td> NA</td><td> 198</td><td>22</td><td> 0</td><td>2013-09-30 22:00:00</td><td> NA</td><td> NA</td></tr>\n",
              "\t<tr><td>2013</td><td>9</td><td>30</td><td>  NA</td><td>1210</td><td> NA</td><td>  NA</td><td>1330</td><td> NA</td><td>MQ</td><td>⋯</td><td>N535MQ</td><td>LGA</td><td>BNA</td><td> NA</td><td> 764</td><td>12</td><td>10</td><td>2013-09-30 12:00:00</td><td> NA</td><td> NA</td></tr>\n",
              "\t<tr><td>2013</td><td>9</td><td>30</td><td>  NA</td><td>1159</td><td> NA</td><td>  NA</td><td>1344</td><td> NA</td><td>MQ</td><td>⋯</td><td>N511MQ</td><td>LGA</td><td>CLE</td><td> NA</td><td> 419</td><td>11</td><td>59</td><td>2013-09-30 11:00:00</td><td> NA</td><td> NA</td></tr>\n",
              "\t<tr><td>2013</td><td>9</td><td>30</td><td>  NA</td><td> 840</td><td> NA</td><td>  NA</td><td>1020</td><td> NA</td><td>MQ</td><td>⋯</td><td>N839MQ</td><td>LGA</td><td>RDU</td><td> NA</td><td> 431</td><td> 8</td><td>40</td><td>2013-09-30 08:00:00</td><td> NA</td><td> NA</td></tr>\n",
              "</tbody>\n",
              "</table>\n"
            ],
            "text/markdown": "\nA data.frame: 336776 × 21\n\n| year &lt;int&gt; | month &lt;int&gt; | day &lt;int&gt; | dep_time &lt;int&gt; | sched_dep_time &lt;int&gt; | dep_delay &lt;int&gt; | arr_time &lt;int&gt; | sched_arr_time &lt;int&gt; | arr_delay &lt;int&gt; | carrier &lt;chr&gt; | ⋯ ⋯ | tailnum &lt;chr&gt; | origin &lt;chr&gt; | dest &lt;chr&gt; | air_time &lt;int&gt; | distance &lt;int&gt; | hour &lt;int&gt; | minute &lt;int&gt; | time_hour &lt;chr&gt; | retraso_neto &lt;int&gt; | retraso_neto2 &lt;int&gt; |\n|---|---|---|---|---|---|---|---|---|---|---|---|---|---|---|---|---|---|---|---|---|\n| 2013 | 1 | 1 | 517 | 515 |  2 |  830 |  819 |  11 | UA | ⋯ | N14228 | EWR | IAH | 227 | 1400 | 5 | 15 | 2013-01-01 05:00:00 |  13 |  13 |\n| 2013 | 1 | 1 | 533 | 529 |  4 |  850 |  830 |  20 | UA | ⋯ | N24211 | LGA | IAH | 227 | 1416 | 5 | 29 | 2013-01-01 05:00:00 |  24 |  24 |\n| 2013 | 1 | 1 | 542 | 540 |  2 |  923 |  850 |  33 | AA | ⋯ | N619AA | JFK | MIA | 160 | 1089 | 5 | 40 | 2013-01-01 05:00:00 |  35 |  35 |\n| 2013 | 1 | 1 | 544 | 545 | -1 | 1004 | 1022 | -18 | B6 | ⋯ | N804JB | JFK | BQN | 183 | 1576 | 5 | 45 | 2013-01-01 05:00:00 | -19 | -19 |\n| 2013 | 1 | 1 | 554 | 600 | -6 |  812 |  837 | -25 | DL | ⋯ | N668DN | LGA | ATL | 116 |  762 | 6 |  0 | 2013-01-01 06:00:00 | -31 | -31 |\n| 2013 | 1 | 1 | 554 | 558 | -4 |  740 |  728 |  12 | UA | ⋯ | N39463 | EWR | ORD | 150 |  719 | 5 | 58 | 2013-01-01 05:00:00 |   8 |   8 |\n| 2013 | 1 | 1 | 555 | 600 | -5 |  913 |  854 |  19 | B6 | ⋯ | N516JB | EWR | FLL | 158 | 1065 | 6 |  0 | 2013-01-01 06:00:00 |  14 |  14 |\n| 2013 | 1 | 1 | 557 | 600 | -3 |  709 |  723 | -14 | EV | ⋯ | N829AS | LGA | IAD |  53 |  229 | 6 |  0 | 2013-01-01 06:00:00 | -17 | -17 |\n| 2013 | 1 | 1 | 557 | 600 | -3 |  838 |  846 |  -8 | B6 | ⋯ | N593JB | JFK | MCO | 140 |  944 | 6 |  0 | 2013-01-01 06:00:00 | -11 | -11 |\n| 2013 | 1 | 1 | 558 | 600 | -2 |  753 |  745 |   8 | AA | ⋯ | N3ALAA | LGA | ORD | 138 |  733 | 6 |  0 | 2013-01-01 06:00:00 |   6 |   6 |\n| 2013 | 1 | 1 | 558 | 600 | -2 |  849 |  851 |  -2 | B6 | ⋯ | N793JB | JFK | PBI | 149 | 1028 | 6 |  0 | 2013-01-01 06:00:00 |  -4 |  -4 |\n| 2013 | 1 | 1 | 558 | 600 | -2 |  853 |  856 |  -3 | B6 | ⋯ | N657JB | JFK | TPA | 158 | 1005 | 6 |  0 | 2013-01-01 06:00:00 |  -5 |  -5 |\n| 2013 | 1 | 1 | 558 | 600 | -2 |  924 |  917 |   7 | UA | ⋯ | N29129 | JFK | LAX | 345 | 2475 | 6 |  0 | 2013-01-01 06:00:00 |   5 |   5 |\n| 2013 | 1 | 1 | 558 | 600 | -2 |  923 |  937 | -14 | UA | ⋯ | N53441 | EWR | SFO | 361 | 2565 | 6 |  0 | 2013-01-01 06:00:00 | -16 | -16 |\n| 2013 | 1 | 1 | 559 | 600 | -1 |  941 |  910 |  31 | AA | ⋯ | N3DUAA | LGA | DFW | 257 | 1389 | 6 |  0 | 2013-01-01 06:00:00 |  30 |  30 |\n| 2013 | 1 | 1 | 559 | 559 |  0 |  702 |  706 |  -4 | B6 | ⋯ | N708JB | JFK | BOS |  44 |  187 | 5 | 59 | 2013-01-01 05:00:00 |  -4 |  -4 |\n| 2013 | 1 | 1 | 559 | 600 | -1 |  854 |  902 |  -8 | UA | ⋯ | N76515 | EWR | LAS | 337 | 2227 | 6 |  0 | 2013-01-01 06:00:00 |  -9 |  -9 |\n| 2013 | 1 | 1 | 600 | 600 |  0 |  851 |  858 |  -7 | B6 | ⋯ | N595JB | LGA | FLL | 152 | 1076 | 6 |  0 | 2013-01-01 06:00:00 |  -7 |  -7 |\n| 2013 | 1 | 1 | 600 | 600 |  0 |  837 |  825 |  12 | MQ | ⋯ | N542MQ | LGA | ATL | 134 |  762 | 6 |  0 | 2013-01-01 06:00:00 |  12 |  12 |\n| 2013 | 1 | 1 | 601 | 600 |  1 |  844 |  850 |  -6 | B6 | ⋯ | N644JB | EWR | PBI | 147 | 1023 | 6 |  0 | 2013-01-01 06:00:00 |  -5 |  -5 |\n| 2013 | 1 | 1 | 602 | 610 | -8 |  812 |  820 |  -8 | DL | ⋯ | N971DL | LGA | MSP | 170 | 1020 | 6 | 10 | 2013-01-01 06:00:00 | -16 | -16 |\n| 2013 | 1 | 1 | 602 | 605 | -3 |  821 |  805 |  16 | MQ | ⋯ | N730MQ | LGA | DTW | 105 |  502 | 6 |  5 | 2013-01-01 06:00:00 |  13 |  13 |\n| 2013 | 1 | 1 | 606 | 610 | -4 |  858 |  910 | -12 | AA | ⋯ | N633AA | EWR | MIA | 152 | 1085 | 6 | 10 | 2013-01-01 06:00:00 | -16 | -16 |\n| 2013 | 1 | 1 | 606 | 610 | -4 |  837 |  845 |  -8 | DL | ⋯ | N3739P | JFK | ATL | 128 |  760 | 6 | 10 | 2013-01-01 06:00:00 | -12 | -12 |\n| 2013 | 1 | 1 | 607 | 607 |  0 |  858 |  915 | -17 | UA | ⋯ | N53442 | EWR | MIA | 157 | 1085 | 6 |  7 | 2013-01-01 06:00:00 | -17 | -17 |\n| 2013 | 1 | 1 | 608 | 600 |  8 |  807 |  735 |  32 | MQ | ⋯ | N9EAMQ | EWR | ORD | 139 |  719 | 6 |  0 | 2013-01-01 06:00:00 |  40 |  40 |\n| 2013 | 1 | 1 | 611 | 600 | 11 |  945 |  931 |  14 | UA | ⋯ | N532UA | JFK | SFO | 366 | 2586 | 6 |  0 | 2013-01-01 06:00:00 |  25 |  25 |\n| 2013 | 1 | 1 | 613 | 610 |  3 |  925 |  921 |   4 | B6 | ⋯ | N635JB | JFK | RSW | 175 | 1074 | 6 | 10 | 2013-01-01 06:00:00 |   7 |   7 |\n| 2013 | 1 | 1 | 615 | 615 |  0 | 1039 | 1100 | -21 | B6 | ⋯ | N794JB | JFK | SJU | 182 | 1598 | 6 | 15 | 2013-01-01 06:00:00 | -21 | -21 |\n| 2013 | 1 | 1 | 615 | 615 |  0 |  833 |  842 |  -9 | DL | ⋯ | N326NB | EWR | ATL | 120 |  746 | 6 | 15 | 2013-01-01 06:00:00 |  -9 |  -9 |\n| ⋮ | ⋮ | ⋮ | ⋮ | ⋮ | ⋮ | ⋮ | ⋮ | ⋮ | ⋮ | ⋱ | ⋮ | ⋮ | ⋮ | ⋮ | ⋮ | ⋮ | ⋮ | ⋮ | ⋮ | ⋮ |\n| 2013 | 9 | 30 | 2123 | 2125 |  -2 | 2223 | 2247 | -24 | EV | ⋯ | N712EV | LGA | CHO |  45 |  305 | 21 | 25 | 2013-09-30 21:00:00 | -26 | -26 |\n| 2013 | 9 | 30 | 2127 | 2129 |  -2 | 2314 | 2323 |  -9 | EV | ⋯ | N16546 | EWR | CLT |  72 |  529 | 21 | 29 | 2013-09-30 21:00:00 | -11 | -11 |\n| 2013 | 9 | 30 | 2128 | 2130 |  -2 | 2328 | 2359 | -31 | B6 | ⋯ | N807JB | JFK | DEN | 213 | 1626 | 21 | 30 | 2013-09-30 21:00:00 | -33 | -33 |\n| 2013 | 9 | 30 | 2129 | 2059 |  30 | 2230 | 2232 |  -2 | EV | ⋯ | N751EV | LGA | RIC |  45 |  292 | 20 | 59 | 2013-09-30 20:00:00 |  28 |  28 |\n| 2013 | 9 | 30 | 2131 | 2140 |  -9 | 2225 | 2255 | -30 | MQ | ⋯ | N807MQ | JFK | DCA |  36 |  213 | 21 | 40 | 2013-09-30 21:00:00 | -39 | -39 |\n| 2013 | 9 | 30 | 2140 | 2140 |   0 |   10 |   40 | -30 | AA | ⋯ | N335AA | JFK | LAX | 298 | 2475 | 21 | 40 | 2013-09-30 21:00:00 | -30 | -30 |\n| 2013 | 9 | 30 | 2142 | 2129 |  13 | 2250 | 2239 |  11 | EV | ⋯ | N12957 | EWR | PWM |  47 |  284 | 21 | 29 | 2013-09-30 21:00:00 |  24 |  24 |\n| 2013 | 9 | 30 | 2145 | 2145 |   0 |  115 |  140 | -25 | B6 | ⋯ | N633JB | JFK | SJU | 192 | 1598 | 21 | 45 | 2013-09-30 21:00:00 | -25 | -25 |\n| 2013 | 9 | 30 | 2147 | 2137 |  10 |   30 |   27 |   3 | B6 | ⋯ | N627JB | LGA | FLL | 139 | 1076 | 21 | 37 | 2013-09-30 21:00:00 |  13 |  13 |\n| 2013 | 9 | 30 | 2149 | 2156 |  -7 | 2245 | 2308 | -23 | UA | ⋯ | N813UA | EWR | BOS |  37 |  200 | 21 | 56 | 2013-09-30 21:00:00 | -30 | -30 |\n| 2013 | 9 | 30 | 2150 | 2159 |  -9 | 2250 | 2306 | -16 | EV | ⋯ | N10575 | EWR | MHT |  39 |  209 | 21 | 59 | 2013-09-30 21:00:00 | -25 | -25 |\n| 2013 | 9 | 30 | 2159 | 1845 | 194 | 2344 | 2030 | 194 | 9E | ⋯ | N906XJ | JFK | BUF |  50 |  301 | 18 | 45 | 2013-09-30 18:00:00 | 388 | 388 |\n| 2013 | 9 | 30 | 2203 | 2205 |  -2 | 2339 | 2331 |   8 | EV | ⋯ | N722EV | LGA | BGR |  61 |  378 | 22 |  5 | 2013-09-30 22:00:00 |   6 |   6 |\n| 2013 | 9 | 30 | 2207 | 2140 |  27 | 2257 | 2250 |   7 | MQ | ⋯ | N532MQ | LGA | BNA |  97 |  764 | 21 | 40 | 2013-09-30 21:00:00 |  34 |  34 |\n| 2013 | 9 | 30 | 2211 | 2059 |  72 | 2339 | 2242 |  57 | EV | ⋯ | N12145 | EWR | STL | 120 |  872 | 20 | 59 | 2013-09-30 20:00:00 | 129 | 129 |\n| 2013 | 9 | 30 | 2231 | 2245 | -14 | 2335 | 2356 | -21 | B6 | ⋯ | N193JB | JFK | PWM |  48 |  273 | 22 | 45 | 2013-09-30 22:00:00 | -35 | -35 |\n| 2013 | 9 | 30 | 2233 | 2113 |  80 |  112 |   30 |  42 | UA | ⋯ | N578UA | EWR | SFO | 318 | 2565 | 21 | 13 | 2013-09-30 21:00:00 | 122 | 122 |\n| 2013 | 9 | 30 | 2235 | 2001 | 154 |   59 | 2249 | 130 | B6 | ⋯ | N804JB | JFK | MCO | 123 |  944 | 20 |  1 | 2013-09-30 20:00:00 | 284 | 284 |\n| 2013 | 9 | 30 | 2237 | 2245 |  -8 | 2345 | 2353 |  -8 | B6 | ⋯ | N318JB | JFK | BTV |  43 |  266 | 22 | 45 | 2013-09-30 22:00:00 | -16 | -16 |\n| 2013 | 9 | 30 | 2240 | 2245 |  -5 | 2334 | 2351 | -17 | B6 | ⋯ | N354JB | JFK | SYR |  41 |  209 | 22 | 45 | 2013-09-30 22:00:00 | -22 | -22 |\n| 2013 | 9 | 30 | 2240 | 2250 | -10 | 2347 |    7 | -20 | B6 | ⋯ | N281JB | JFK | BUF |  52 |  301 | 22 | 50 | 2013-09-30 22:00:00 | -30 | -30 |\n| 2013 | 9 | 30 | 2241 | 2246 |  -5 | 2345 |    1 | -16 | B6 | ⋯ | N346JB | JFK | ROC |  47 |  264 | 22 | 46 | 2013-09-30 22:00:00 | -21 | -21 |\n| 2013 | 9 | 30 | 2307 | 2255 |  12 | 2359 | 2358 |   1 | B6 | ⋯ | N565JB | JFK | BOS |  33 |  187 | 22 | 55 | 2013-09-30 22:00:00 |  13 |  13 |\n| 2013 | 9 | 30 | 2349 | 2359 | -10 |  325 |  350 | -25 | B6 | ⋯ | N516JB | JFK | PSE | 196 | 1617 | 23 | 59 | 2013-09-30 23:00:00 | -35 | -35 |\n| 2013 | 9 | 30 |   NA | 1842 |  NA |   NA | 2019 |  NA | EV | ⋯ | N740EV | LGA | BNA |  NA |  764 | 18 | 42 | 2013-09-30 18:00:00 |  NA |  NA |\n| 2013 | 9 | 30 |   NA | 1455 |  NA |   NA | 1634 |  NA | 9E | ⋯ | NA     | JFK | DCA |  NA |  213 | 14 | 55 | 2013-09-30 14:00:00 |  NA |  NA |\n| 2013 | 9 | 30 |   NA | 2200 |  NA |   NA | 2312 |  NA | 9E | ⋯ | NA     | LGA | SYR |  NA |  198 | 22 |  0 | 2013-09-30 22:00:00 |  NA |  NA |\n| 2013 | 9 | 30 |   NA | 1210 |  NA |   NA | 1330 |  NA | MQ | ⋯ | N535MQ | LGA | BNA |  NA |  764 | 12 | 10 | 2013-09-30 12:00:00 |  NA |  NA |\n| 2013 | 9 | 30 |   NA | 1159 |  NA |   NA | 1344 |  NA | MQ | ⋯ | N511MQ | LGA | CLE |  NA |  419 | 11 | 59 | 2013-09-30 11:00:00 |  NA |  NA |\n| 2013 | 9 | 30 |   NA |  840 |  NA |   NA | 1020 |  NA | MQ | ⋯ | N839MQ | LGA | RDU |  NA |  431 |  8 | 40 | 2013-09-30 08:00:00 |  NA |  NA |\n\n",
            "text/latex": "A data.frame: 336776 × 21\n\\begin{tabular}{lllllllllllllllllllll}\n year & month & day & dep\\_time & sched\\_dep\\_time & dep\\_delay & arr\\_time & sched\\_arr\\_time & arr\\_delay & carrier & ⋯ & tailnum & origin & dest & air\\_time & distance & hour & minute & time\\_hour & retraso\\_neto & retraso\\_neto2\\\\\n <int> & <int> & <int> & <int> & <int> & <int> & <int> & <int> & <int> & <chr> & ⋯ & <chr> & <chr> & <chr> & <int> & <int> & <int> & <int> & <chr> & <int> & <int>\\\\\n\\hline\n\t 2013 & 1 & 1 & 517 & 515 &  2 &  830 &  819 &  11 & UA & ⋯ & N14228 & EWR & IAH & 227 & 1400 & 5 & 15 & 2013-01-01 05:00:00 &  13 &  13\\\\\n\t 2013 & 1 & 1 & 533 & 529 &  4 &  850 &  830 &  20 & UA & ⋯ & N24211 & LGA & IAH & 227 & 1416 & 5 & 29 & 2013-01-01 05:00:00 &  24 &  24\\\\\n\t 2013 & 1 & 1 & 542 & 540 &  2 &  923 &  850 &  33 & AA & ⋯ & N619AA & JFK & MIA & 160 & 1089 & 5 & 40 & 2013-01-01 05:00:00 &  35 &  35\\\\\n\t 2013 & 1 & 1 & 544 & 545 & -1 & 1004 & 1022 & -18 & B6 & ⋯ & N804JB & JFK & BQN & 183 & 1576 & 5 & 45 & 2013-01-01 05:00:00 & -19 & -19\\\\\n\t 2013 & 1 & 1 & 554 & 600 & -6 &  812 &  837 & -25 & DL & ⋯ & N668DN & LGA & ATL & 116 &  762 & 6 &  0 & 2013-01-01 06:00:00 & -31 & -31\\\\\n\t 2013 & 1 & 1 & 554 & 558 & -4 &  740 &  728 &  12 & UA & ⋯ & N39463 & EWR & ORD & 150 &  719 & 5 & 58 & 2013-01-01 05:00:00 &   8 &   8\\\\\n\t 2013 & 1 & 1 & 555 & 600 & -5 &  913 &  854 &  19 & B6 & ⋯ & N516JB & EWR & FLL & 158 & 1065 & 6 &  0 & 2013-01-01 06:00:00 &  14 &  14\\\\\n\t 2013 & 1 & 1 & 557 & 600 & -3 &  709 &  723 & -14 & EV & ⋯ & N829AS & LGA & IAD &  53 &  229 & 6 &  0 & 2013-01-01 06:00:00 & -17 & -17\\\\\n\t 2013 & 1 & 1 & 557 & 600 & -3 &  838 &  846 &  -8 & B6 & ⋯ & N593JB & JFK & MCO & 140 &  944 & 6 &  0 & 2013-01-01 06:00:00 & -11 & -11\\\\\n\t 2013 & 1 & 1 & 558 & 600 & -2 &  753 &  745 &   8 & AA & ⋯ & N3ALAA & LGA & ORD & 138 &  733 & 6 &  0 & 2013-01-01 06:00:00 &   6 &   6\\\\\n\t 2013 & 1 & 1 & 558 & 600 & -2 &  849 &  851 &  -2 & B6 & ⋯ & N793JB & JFK & PBI & 149 & 1028 & 6 &  0 & 2013-01-01 06:00:00 &  -4 &  -4\\\\\n\t 2013 & 1 & 1 & 558 & 600 & -2 &  853 &  856 &  -3 & B6 & ⋯ & N657JB & JFK & TPA & 158 & 1005 & 6 &  0 & 2013-01-01 06:00:00 &  -5 &  -5\\\\\n\t 2013 & 1 & 1 & 558 & 600 & -2 &  924 &  917 &   7 & UA & ⋯ & N29129 & JFK & LAX & 345 & 2475 & 6 &  0 & 2013-01-01 06:00:00 &   5 &   5\\\\\n\t 2013 & 1 & 1 & 558 & 600 & -2 &  923 &  937 & -14 & UA & ⋯ & N53441 & EWR & SFO & 361 & 2565 & 6 &  0 & 2013-01-01 06:00:00 & -16 & -16\\\\\n\t 2013 & 1 & 1 & 559 & 600 & -1 &  941 &  910 &  31 & AA & ⋯ & N3DUAA & LGA & DFW & 257 & 1389 & 6 &  0 & 2013-01-01 06:00:00 &  30 &  30\\\\\n\t 2013 & 1 & 1 & 559 & 559 &  0 &  702 &  706 &  -4 & B6 & ⋯ & N708JB & JFK & BOS &  44 &  187 & 5 & 59 & 2013-01-01 05:00:00 &  -4 &  -4\\\\\n\t 2013 & 1 & 1 & 559 & 600 & -1 &  854 &  902 &  -8 & UA & ⋯ & N76515 & EWR & LAS & 337 & 2227 & 6 &  0 & 2013-01-01 06:00:00 &  -9 &  -9\\\\\n\t 2013 & 1 & 1 & 600 & 600 &  0 &  851 &  858 &  -7 & B6 & ⋯ & N595JB & LGA & FLL & 152 & 1076 & 6 &  0 & 2013-01-01 06:00:00 &  -7 &  -7\\\\\n\t 2013 & 1 & 1 & 600 & 600 &  0 &  837 &  825 &  12 & MQ & ⋯ & N542MQ & LGA & ATL & 134 &  762 & 6 &  0 & 2013-01-01 06:00:00 &  12 &  12\\\\\n\t 2013 & 1 & 1 & 601 & 600 &  1 &  844 &  850 &  -6 & B6 & ⋯ & N644JB & EWR & PBI & 147 & 1023 & 6 &  0 & 2013-01-01 06:00:00 &  -5 &  -5\\\\\n\t 2013 & 1 & 1 & 602 & 610 & -8 &  812 &  820 &  -8 & DL & ⋯ & N971DL & LGA & MSP & 170 & 1020 & 6 & 10 & 2013-01-01 06:00:00 & -16 & -16\\\\\n\t 2013 & 1 & 1 & 602 & 605 & -3 &  821 &  805 &  16 & MQ & ⋯ & N730MQ & LGA & DTW & 105 &  502 & 6 &  5 & 2013-01-01 06:00:00 &  13 &  13\\\\\n\t 2013 & 1 & 1 & 606 & 610 & -4 &  858 &  910 & -12 & AA & ⋯ & N633AA & EWR & MIA & 152 & 1085 & 6 & 10 & 2013-01-01 06:00:00 & -16 & -16\\\\\n\t 2013 & 1 & 1 & 606 & 610 & -4 &  837 &  845 &  -8 & DL & ⋯ & N3739P & JFK & ATL & 128 &  760 & 6 & 10 & 2013-01-01 06:00:00 & -12 & -12\\\\\n\t 2013 & 1 & 1 & 607 & 607 &  0 &  858 &  915 & -17 & UA & ⋯ & N53442 & EWR & MIA & 157 & 1085 & 6 &  7 & 2013-01-01 06:00:00 & -17 & -17\\\\\n\t 2013 & 1 & 1 & 608 & 600 &  8 &  807 &  735 &  32 & MQ & ⋯ & N9EAMQ & EWR & ORD & 139 &  719 & 6 &  0 & 2013-01-01 06:00:00 &  40 &  40\\\\\n\t 2013 & 1 & 1 & 611 & 600 & 11 &  945 &  931 &  14 & UA & ⋯ & N532UA & JFK & SFO & 366 & 2586 & 6 &  0 & 2013-01-01 06:00:00 &  25 &  25\\\\\n\t 2013 & 1 & 1 & 613 & 610 &  3 &  925 &  921 &   4 & B6 & ⋯ & N635JB & JFK & RSW & 175 & 1074 & 6 & 10 & 2013-01-01 06:00:00 &   7 &   7\\\\\n\t 2013 & 1 & 1 & 615 & 615 &  0 & 1039 & 1100 & -21 & B6 & ⋯ & N794JB & JFK & SJU & 182 & 1598 & 6 & 15 & 2013-01-01 06:00:00 & -21 & -21\\\\\n\t 2013 & 1 & 1 & 615 & 615 &  0 &  833 &  842 &  -9 & DL & ⋯ & N326NB & EWR & ATL & 120 &  746 & 6 & 15 & 2013-01-01 06:00:00 &  -9 &  -9\\\\\n\t ⋮ & ⋮ & ⋮ & ⋮ & ⋮ & ⋮ & ⋮ & ⋮ & ⋮ & ⋮ & ⋱ & ⋮ & ⋮ & ⋮ & ⋮ & ⋮ & ⋮ & ⋮ & ⋮ & ⋮ & ⋮\\\\\n\t 2013 & 9 & 30 & 2123 & 2125 &  -2 & 2223 & 2247 & -24 & EV & ⋯ & N712EV & LGA & CHO &  45 &  305 & 21 & 25 & 2013-09-30 21:00:00 & -26 & -26\\\\\n\t 2013 & 9 & 30 & 2127 & 2129 &  -2 & 2314 & 2323 &  -9 & EV & ⋯ & N16546 & EWR & CLT &  72 &  529 & 21 & 29 & 2013-09-30 21:00:00 & -11 & -11\\\\\n\t 2013 & 9 & 30 & 2128 & 2130 &  -2 & 2328 & 2359 & -31 & B6 & ⋯ & N807JB & JFK & DEN & 213 & 1626 & 21 & 30 & 2013-09-30 21:00:00 & -33 & -33\\\\\n\t 2013 & 9 & 30 & 2129 & 2059 &  30 & 2230 & 2232 &  -2 & EV & ⋯ & N751EV & LGA & RIC &  45 &  292 & 20 & 59 & 2013-09-30 20:00:00 &  28 &  28\\\\\n\t 2013 & 9 & 30 & 2131 & 2140 &  -9 & 2225 & 2255 & -30 & MQ & ⋯ & N807MQ & JFK & DCA &  36 &  213 & 21 & 40 & 2013-09-30 21:00:00 & -39 & -39\\\\\n\t 2013 & 9 & 30 & 2140 & 2140 &   0 &   10 &   40 & -30 & AA & ⋯ & N335AA & JFK & LAX & 298 & 2475 & 21 & 40 & 2013-09-30 21:00:00 & -30 & -30\\\\\n\t 2013 & 9 & 30 & 2142 & 2129 &  13 & 2250 & 2239 &  11 & EV & ⋯ & N12957 & EWR & PWM &  47 &  284 & 21 & 29 & 2013-09-30 21:00:00 &  24 &  24\\\\\n\t 2013 & 9 & 30 & 2145 & 2145 &   0 &  115 &  140 & -25 & B6 & ⋯ & N633JB & JFK & SJU & 192 & 1598 & 21 & 45 & 2013-09-30 21:00:00 & -25 & -25\\\\\n\t 2013 & 9 & 30 & 2147 & 2137 &  10 &   30 &   27 &   3 & B6 & ⋯ & N627JB & LGA & FLL & 139 & 1076 & 21 & 37 & 2013-09-30 21:00:00 &  13 &  13\\\\\n\t 2013 & 9 & 30 & 2149 & 2156 &  -7 & 2245 & 2308 & -23 & UA & ⋯ & N813UA & EWR & BOS &  37 &  200 & 21 & 56 & 2013-09-30 21:00:00 & -30 & -30\\\\\n\t 2013 & 9 & 30 & 2150 & 2159 &  -9 & 2250 & 2306 & -16 & EV & ⋯ & N10575 & EWR & MHT &  39 &  209 & 21 & 59 & 2013-09-30 21:00:00 & -25 & -25\\\\\n\t 2013 & 9 & 30 & 2159 & 1845 & 194 & 2344 & 2030 & 194 & 9E & ⋯ & N906XJ & JFK & BUF &  50 &  301 & 18 & 45 & 2013-09-30 18:00:00 & 388 & 388\\\\\n\t 2013 & 9 & 30 & 2203 & 2205 &  -2 & 2339 & 2331 &   8 & EV & ⋯ & N722EV & LGA & BGR &  61 &  378 & 22 &  5 & 2013-09-30 22:00:00 &   6 &   6\\\\\n\t 2013 & 9 & 30 & 2207 & 2140 &  27 & 2257 & 2250 &   7 & MQ & ⋯ & N532MQ & LGA & BNA &  97 &  764 & 21 & 40 & 2013-09-30 21:00:00 &  34 &  34\\\\\n\t 2013 & 9 & 30 & 2211 & 2059 &  72 & 2339 & 2242 &  57 & EV & ⋯ & N12145 & EWR & STL & 120 &  872 & 20 & 59 & 2013-09-30 20:00:00 & 129 & 129\\\\\n\t 2013 & 9 & 30 & 2231 & 2245 & -14 & 2335 & 2356 & -21 & B6 & ⋯ & N193JB & JFK & PWM &  48 &  273 & 22 & 45 & 2013-09-30 22:00:00 & -35 & -35\\\\\n\t 2013 & 9 & 30 & 2233 & 2113 &  80 &  112 &   30 &  42 & UA & ⋯ & N578UA & EWR & SFO & 318 & 2565 & 21 & 13 & 2013-09-30 21:00:00 & 122 & 122\\\\\n\t 2013 & 9 & 30 & 2235 & 2001 & 154 &   59 & 2249 & 130 & B6 & ⋯ & N804JB & JFK & MCO & 123 &  944 & 20 &  1 & 2013-09-30 20:00:00 & 284 & 284\\\\\n\t 2013 & 9 & 30 & 2237 & 2245 &  -8 & 2345 & 2353 &  -8 & B6 & ⋯ & N318JB & JFK & BTV &  43 &  266 & 22 & 45 & 2013-09-30 22:00:00 & -16 & -16\\\\\n\t 2013 & 9 & 30 & 2240 & 2245 &  -5 & 2334 & 2351 & -17 & B6 & ⋯ & N354JB & JFK & SYR &  41 &  209 & 22 & 45 & 2013-09-30 22:00:00 & -22 & -22\\\\\n\t 2013 & 9 & 30 & 2240 & 2250 & -10 & 2347 &    7 & -20 & B6 & ⋯ & N281JB & JFK & BUF &  52 &  301 & 22 & 50 & 2013-09-30 22:00:00 & -30 & -30\\\\\n\t 2013 & 9 & 30 & 2241 & 2246 &  -5 & 2345 &    1 & -16 & B6 & ⋯ & N346JB & JFK & ROC &  47 &  264 & 22 & 46 & 2013-09-30 22:00:00 & -21 & -21\\\\\n\t 2013 & 9 & 30 & 2307 & 2255 &  12 & 2359 & 2358 &   1 & B6 & ⋯ & N565JB & JFK & BOS &  33 &  187 & 22 & 55 & 2013-09-30 22:00:00 &  13 &  13\\\\\n\t 2013 & 9 & 30 & 2349 & 2359 & -10 &  325 &  350 & -25 & B6 & ⋯ & N516JB & JFK & PSE & 196 & 1617 & 23 & 59 & 2013-09-30 23:00:00 & -35 & -35\\\\\n\t 2013 & 9 & 30 &   NA & 1842 &  NA &   NA & 2019 &  NA & EV & ⋯ & N740EV & LGA & BNA &  NA &  764 & 18 & 42 & 2013-09-30 18:00:00 &  NA &  NA\\\\\n\t 2013 & 9 & 30 &   NA & 1455 &  NA &   NA & 1634 &  NA & 9E & ⋯ & NA     & JFK & DCA &  NA &  213 & 14 & 55 & 2013-09-30 14:00:00 &  NA &  NA\\\\\n\t 2013 & 9 & 30 &   NA & 2200 &  NA &   NA & 2312 &  NA & 9E & ⋯ & NA     & LGA & SYR &  NA &  198 & 22 &  0 & 2013-09-30 22:00:00 &  NA &  NA\\\\\n\t 2013 & 9 & 30 &   NA & 1210 &  NA &   NA & 1330 &  NA & MQ & ⋯ & N535MQ & LGA & BNA &  NA &  764 & 12 & 10 & 2013-09-30 12:00:00 &  NA &  NA\\\\\n\t 2013 & 9 & 30 &   NA & 1159 &  NA &   NA & 1344 &  NA & MQ & ⋯ & N511MQ & LGA & CLE &  NA &  419 & 11 & 59 & 2013-09-30 11:00:00 &  NA &  NA\\\\\n\t 2013 & 9 & 30 &   NA &  840 &  NA &   NA & 1020 &  NA & MQ & ⋯ & N839MQ & LGA & RDU &  NA &  431 &  8 & 40 & 2013-09-30 08:00:00 &  NA &  NA\\\\\n\\end{tabular}\n",
            "text/plain": [
              "       year month day dep_time sched_dep_time dep_delay arr_time sched_arr_time\n",
              "1      2013 1     1   517      515             2         830      819          \n",
              "2      2013 1     1   533      529             4         850      830          \n",
              "3      2013 1     1   542      540             2         923      850          \n",
              "4      2013 1     1   544      545            -1        1004     1022          \n",
              "5      2013 1     1   554      600            -6         812      837          \n",
              "6      2013 1     1   554      558            -4         740      728          \n",
              "7      2013 1     1   555      600            -5         913      854          \n",
              "8      2013 1     1   557      600            -3         709      723          \n",
              "9      2013 1     1   557      600            -3         838      846          \n",
              "10     2013 1     1   558      600            -2         753      745          \n",
              "11     2013 1     1   558      600            -2         849      851          \n",
              "12     2013 1     1   558      600            -2         853      856          \n",
              "13     2013 1     1   558      600            -2         924      917          \n",
              "14     2013 1     1   558      600            -2         923      937          \n",
              "15     2013 1     1   559      600            -1         941      910          \n",
              "16     2013 1     1   559      559             0         702      706          \n",
              "17     2013 1     1   559      600            -1         854      902          \n",
              "18     2013 1     1   600      600             0         851      858          \n",
              "19     2013 1     1   600      600             0         837      825          \n",
              "20     2013 1     1   601      600             1         844      850          \n",
              "21     2013 1     1   602      610            -8         812      820          \n",
              "22     2013 1     1   602      605            -3         821      805          \n",
              "23     2013 1     1   606      610            -4         858      910          \n",
              "24     2013 1     1   606      610            -4         837      845          \n",
              "25     2013 1     1   607      607             0         858      915          \n",
              "26     2013 1     1   608      600             8         807      735          \n",
              "27     2013 1     1   611      600            11         945      931          \n",
              "28     2013 1     1   613      610             3         925      921          \n",
              "29     2013 1     1   615      615             0        1039     1100          \n",
              "30     2013 1     1   615      615             0         833      842          \n",
              "⋮      ⋮    ⋮     ⋮   ⋮        ⋮              ⋮         ⋮        ⋮             \n",
              "336747 2013 9     30  2123     2125            -2       2223     2247          \n",
              "336748 2013 9     30  2127     2129            -2       2314     2323          \n",
              "336749 2013 9     30  2128     2130            -2       2328     2359          \n",
              "336750 2013 9     30  2129     2059            30       2230     2232          \n",
              "336751 2013 9     30  2131     2140            -9       2225     2255          \n",
              "336752 2013 9     30  2140     2140             0         10       40          \n",
              "336753 2013 9     30  2142     2129            13       2250     2239          \n",
              "336754 2013 9     30  2145     2145             0        115      140          \n",
              "336755 2013 9     30  2147     2137            10         30       27          \n",
              "336756 2013 9     30  2149     2156            -7       2245     2308          \n",
              "336757 2013 9     30  2150     2159            -9       2250     2306          \n",
              "336758 2013 9     30  2159     1845           194       2344     2030          \n",
              "336759 2013 9     30  2203     2205            -2       2339     2331          \n",
              "336760 2013 9     30  2207     2140            27       2257     2250          \n",
              "336761 2013 9     30  2211     2059            72       2339     2242          \n",
              "336762 2013 9     30  2231     2245           -14       2335     2356          \n",
              "336763 2013 9     30  2233     2113            80        112       30          \n",
              "336764 2013 9     30  2235     2001           154         59     2249          \n",
              "336765 2013 9     30  2237     2245            -8       2345     2353          \n",
              "336766 2013 9     30  2240     2245            -5       2334     2351          \n",
              "336767 2013 9     30  2240     2250           -10       2347        7          \n",
              "336768 2013 9     30  2241     2246            -5       2345        1          \n",
              "336769 2013 9     30  2307     2255            12       2359     2358          \n",
              "336770 2013 9     30  2349     2359           -10        325      350          \n",
              "336771 2013 9     30    NA     1842            NA         NA     2019          \n",
              "336772 2013 9     30    NA     1455            NA         NA     1634          \n",
              "336773 2013 9     30    NA     2200            NA         NA     2312          \n",
              "336774 2013 9     30    NA     1210            NA         NA     1330          \n",
              "336775 2013 9     30    NA     1159            NA         NA     1344          \n",
              "336776 2013 9     30    NA      840            NA         NA     1020          \n",
              "       arr_delay carrier ⋯ tailnum origin dest air_time distance hour minute\n",
              "1       11       UA      ⋯ N14228  EWR    IAH  227      1400     5    15    \n",
              "2       20       UA      ⋯ N24211  LGA    IAH  227      1416     5    29    \n",
              "3       33       AA      ⋯ N619AA  JFK    MIA  160      1089     5    40    \n",
              "4      -18       B6      ⋯ N804JB  JFK    BQN  183      1576     5    45    \n",
              "5      -25       DL      ⋯ N668DN  LGA    ATL  116       762     6     0    \n",
              "6       12       UA      ⋯ N39463  EWR    ORD  150       719     5    58    \n",
              "7       19       B6      ⋯ N516JB  EWR    FLL  158      1065     6     0    \n",
              "8      -14       EV      ⋯ N829AS  LGA    IAD   53       229     6     0    \n",
              "9       -8       B6      ⋯ N593JB  JFK    MCO  140       944     6     0    \n",
              "10       8       AA      ⋯ N3ALAA  LGA    ORD  138       733     6     0    \n",
              "11      -2       B6      ⋯ N793JB  JFK    PBI  149      1028     6     0    \n",
              "12      -3       B6      ⋯ N657JB  JFK    TPA  158      1005     6     0    \n",
              "13       7       UA      ⋯ N29129  JFK    LAX  345      2475     6     0    \n",
              "14     -14       UA      ⋯ N53441  EWR    SFO  361      2565     6     0    \n",
              "15      31       AA      ⋯ N3DUAA  LGA    DFW  257      1389     6     0    \n",
              "16      -4       B6      ⋯ N708JB  JFK    BOS   44       187     5    59    \n",
              "17      -8       UA      ⋯ N76515  EWR    LAS  337      2227     6     0    \n",
              "18      -7       B6      ⋯ N595JB  LGA    FLL  152      1076     6     0    \n",
              "19      12       MQ      ⋯ N542MQ  LGA    ATL  134       762     6     0    \n",
              "20      -6       B6      ⋯ N644JB  EWR    PBI  147      1023     6     0    \n",
              "21      -8       DL      ⋯ N971DL  LGA    MSP  170      1020     6    10    \n",
              "22      16       MQ      ⋯ N730MQ  LGA    DTW  105       502     6     5    \n",
              "23     -12       AA      ⋯ N633AA  EWR    MIA  152      1085     6    10    \n",
              "24      -8       DL      ⋯ N3739P  JFK    ATL  128       760     6    10    \n",
              "25     -17       UA      ⋯ N53442  EWR    MIA  157      1085     6     7    \n",
              "26      32       MQ      ⋯ N9EAMQ  EWR    ORD  139       719     6     0    \n",
              "27      14       UA      ⋯ N532UA  JFK    SFO  366      2586     6     0    \n",
              "28       4       B6      ⋯ N635JB  JFK    RSW  175      1074     6    10    \n",
              "29     -21       B6      ⋯ N794JB  JFK    SJU  182      1598     6    15    \n",
              "30      -9       DL      ⋯ N326NB  EWR    ATL  120       746     6    15    \n",
              "⋮      ⋮         ⋮       ⋱ ⋮       ⋮      ⋮    ⋮        ⋮        ⋮    ⋮     \n",
              "336747 -24       EV      ⋯ N712EV  LGA    CHO   45       305     21   25    \n",
              "336748  -9       EV      ⋯ N16546  EWR    CLT   72       529     21   29    \n",
              "336749 -31       B6      ⋯ N807JB  JFK    DEN  213      1626     21   30    \n",
              "336750  -2       EV      ⋯ N751EV  LGA    RIC   45       292     20   59    \n",
              "336751 -30       MQ      ⋯ N807MQ  JFK    DCA   36       213     21   40    \n",
              "336752 -30       AA      ⋯ N335AA  JFK    LAX  298      2475     21   40    \n",
              "336753  11       EV      ⋯ N12957  EWR    PWM   47       284     21   29    \n",
              "336754 -25       B6      ⋯ N633JB  JFK    SJU  192      1598     21   45    \n",
              "336755   3       B6      ⋯ N627JB  LGA    FLL  139      1076     21   37    \n",
              "336756 -23       UA      ⋯ N813UA  EWR    BOS   37       200     21   56    \n",
              "336757 -16       EV      ⋯ N10575  EWR    MHT   39       209     21   59    \n",
              "336758 194       9E      ⋯ N906XJ  JFK    BUF   50       301     18   45    \n",
              "336759   8       EV      ⋯ N722EV  LGA    BGR   61       378     22    5    \n",
              "336760   7       MQ      ⋯ N532MQ  LGA    BNA   97       764     21   40    \n",
              "336761  57       EV      ⋯ N12145  EWR    STL  120       872     20   59    \n",
              "336762 -21       B6      ⋯ N193JB  JFK    PWM   48       273     22   45    \n",
              "336763  42       UA      ⋯ N578UA  EWR    SFO  318      2565     21   13    \n",
              "336764 130       B6      ⋯ N804JB  JFK    MCO  123       944     20    1    \n",
              "336765  -8       B6      ⋯ N318JB  JFK    BTV   43       266     22   45    \n",
              "336766 -17       B6      ⋯ N354JB  JFK    SYR   41       209     22   45    \n",
              "336767 -20       B6      ⋯ N281JB  JFK    BUF   52       301     22   50    \n",
              "336768 -16       B6      ⋯ N346JB  JFK    ROC   47       264     22   46    \n",
              "336769   1       B6      ⋯ N565JB  JFK    BOS   33       187     22   55    \n",
              "336770 -25       B6      ⋯ N516JB  JFK    PSE  196      1617     23   59    \n",
              "336771  NA       EV      ⋯ N740EV  LGA    BNA   NA       764     18   42    \n",
              "336772  NA       9E      ⋯ NA      JFK    DCA   NA       213     14   55    \n",
              "336773  NA       9E      ⋯ NA      LGA    SYR   NA       198     22    0    \n",
              "336774  NA       MQ      ⋯ N535MQ  LGA    BNA   NA       764     12   10    \n",
              "336775  NA       MQ      ⋯ N511MQ  LGA    CLE   NA       419     11   59    \n",
              "336776  NA       MQ      ⋯ N839MQ  LGA    RDU   NA       431      8   40    \n",
              "       time_hour           retraso_neto retraso_neto2\n",
              "1      2013-01-01 05:00:00  13           13          \n",
              "2      2013-01-01 05:00:00  24           24          \n",
              "3      2013-01-01 05:00:00  35           35          \n",
              "4      2013-01-01 05:00:00 -19          -19          \n",
              "5      2013-01-01 06:00:00 -31          -31          \n",
              "6      2013-01-01 05:00:00   8            8          \n",
              "7      2013-01-01 06:00:00  14           14          \n",
              "8      2013-01-01 06:00:00 -17          -17          \n",
              "9      2013-01-01 06:00:00 -11          -11          \n",
              "10     2013-01-01 06:00:00   6            6          \n",
              "11     2013-01-01 06:00:00  -4           -4          \n",
              "12     2013-01-01 06:00:00  -5           -5          \n",
              "13     2013-01-01 06:00:00   5            5          \n",
              "14     2013-01-01 06:00:00 -16          -16          \n",
              "15     2013-01-01 06:00:00  30           30          \n",
              "16     2013-01-01 05:00:00  -4           -4          \n",
              "17     2013-01-01 06:00:00  -9           -9          \n",
              "18     2013-01-01 06:00:00  -7           -7          \n",
              "19     2013-01-01 06:00:00  12           12          \n",
              "20     2013-01-01 06:00:00  -5           -5          \n",
              "21     2013-01-01 06:00:00 -16          -16          \n",
              "22     2013-01-01 06:00:00  13           13          \n",
              "23     2013-01-01 06:00:00 -16          -16          \n",
              "24     2013-01-01 06:00:00 -12          -12          \n",
              "25     2013-01-01 06:00:00 -17          -17          \n",
              "26     2013-01-01 06:00:00  40           40          \n",
              "27     2013-01-01 06:00:00  25           25          \n",
              "28     2013-01-01 06:00:00   7            7          \n",
              "29     2013-01-01 06:00:00 -21          -21          \n",
              "30     2013-01-01 06:00:00  -9           -9          \n",
              "⋮      ⋮                   ⋮            ⋮            \n",
              "336747 2013-09-30 21:00:00 -26          -26          \n",
              "336748 2013-09-30 21:00:00 -11          -11          \n",
              "336749 2013-09-30 21:00:00 -33          -33          \n",
              "336750 2013-09-30 20:00:00  28           28          \n",
              "336751 2013-09-30 21:00:00 -39          -39          \n",
              "336752 2013-09-30 21:00:00 -30          -30          \n",
              "336753 2013-09-30 21:00:00  24           24          \n",
              "336754 2013-09-30 21:00:00 -25          -25          \n",
              "336755 2013-09-30 21:00:00  13           13          \n",
              "336756 2013-09-30 21:00:00 -30          -30          \n",
              "336757 2013-09-30 21:00:00 -25          -25          \n",
              "336758 2013-09-30 18:00:00 388          388          \n",
              "336759 2013-09-30 22:00:00   6            6          \n",
              "336760 2013-09-30 21:00:00  34           34          \n",
              "336761 2013-09-30 20:00:00 129          129          \n",
              "336762 2013-09-30 22:00:00 -35          -35          \n",
              "336763 2013-09-30 21:00:00 122          122          \n",
              "336764 2013-09-30 20:00:00 284          284          \n",
              "336765 2013-09-30 22:00:00 -16          -16          \n",
              "336766 2013-09-30 22:00:00 -22          -22          \n",
              "336767 2013-09-30 22:00:00 -30          -30          \n",
              "336768 2013-09-30 22:00:00 -21          -21          \n",
              "336769 2013-09-30 22:00:00  13           13          \n",
              "336770 2013-09-30 23:00:00 -35          -35          \n",
              "336771 2013-09-30 18:00:00  NA           NA          \n",
              "336772 2013-09-30 14:00:00  NA           NA          \n",
              "336773 2013-09-30 22:00:00  NA           NA          \n",
              "336774 2013-09-30 12:00:00  NA           NA          \n",
              "336775 2013-09-30 11:00:00  NA           NA          \n",
              "336776 2013-09-30 08:00:00  NA           NA          "
            ]
          },
          "metadata": {}
        }
      ]
    },
    {
      "cell_type": "code",
      "source": [
        "# Recordar que esta nueva columna solo existe en la ejecución y no se ha modificado el dataset original.\n",
        "head(vuelos)"
      ],
      "metadata": {
        "id": "GJbAUxJySQsE",
        "outputId": "89e37f73-95fe-480f-87ba-618030bd3260",
        "colab": {
          "base_uri": "https://localhost:8080/",
          "height": 514
        }
      },
      "execution_count": null,
      "outputs": [
        {
          "output_type": "display_data",
          "data": {
            "text/html": [
              "<table class=\"dataframe\">\n",
              "<caption>A data.frame: 6 × 20</caption>\n",
              "<thead>\n",
              "\t<tr><th></th><th scope=col>year</th><th scope=col>month</th><th scope=col>day</th><th scope=col>dep_time</th><th scope=col>sched_dep_time</th><th scope=col>dep_delay</th><th scope=col>arr_time</th><th scope=col>sched_arr_time</th><th scope=col>arr_delay</th><th scope=col>carrier</th><th scope=col>flight</th><th scope=col>tailnum</th><th scope=col>origin</th><th scope=col>dest</th><th scope=col>air_time</th><th scope=col>distance</th><th scope=col>hour</th><th scope=col>minute</th><th scope=col>time_hour</th><th scope=col>retraso_neto</th></tr>\n",
              "\t<tr><th></th><th scope=col>&lt;int&gt;</th><th scope=col>&lt;int&gt;</th><th scope=col>&lt;int&gt;</th><th scope=col>&lt;int&gt;</th><th scope=col>&lt;int&gt;</th><th scope=col>&lt;int&gt;</th><th scope=col>&lt;int&gt;</th><th scope=col>&lt;int&gt;</th><th scope=col>&lt;int&gt;</th><th scope=col>&lt;chr&gt;</th><th scope=col>&lt;int&gt;</th><th scope=col>&lt;chr&gt;</th><th scope=col>&lt;chr&gt;</th><th scope=col>&lt;chr&gt;</th><th scope=col>&lt;int&gt;</th><th scope=col>&lt;int&gt;</th><th scope=col>&lt;int&gt;</th><th scope=col>&lt;int&gt;</th><th scope=col>&lt;chr&gt;</th><th scope=col>&lt;int&gt;</th></tr>\n",
              "</thead>\n",
              "<tbody>\n",
              "\t<tr><th scope=row>1</th><td>2013</td><td>1</td><td>1</td><td>517</td><td>515</td><td> 2</td><td> 830</td><td> 819</td><td> 11</td><td>UA</td><td>1545</td><td>N14228</td><td>EWR</td><td>IAH</td><td>227</td><td>1400</td><td>5</td><td>15</td><td>2013-01-01 05:00:00</td><td> 13</td></tr>\n",
              "\t<tr><th scope=row>2</th><td>2013</td><td>1</td><td>1</td><td>533</td><td>529</td><td> 4</td><td> 850</td><td> 830</td><td> 20</td><td>UA</td><td>1714</td><td>N24211</td><td>LGA</td><td>IAH</td><td>227</td><td>1416</td><td>5</td><td>29</td><td>2013-01-01 05:00:00</td><td> 24</td></tr>\n",
              "\t<tr><th scope=row>3</th><td>2013</td><td>1</td><td>1</td><td>542</td><td>540</td><td> 2</td><td> 923</td><td> 850</td><td> 33</td><td>AA</td><td>1141</td><td>N619AA</td><td>JFK</td><td>MIA</td><td>160</td><td>1089</td><td>5</td><td>40</td><td>2013-01-01 05:00:00</td><td> 35</td></tr>\n",
              "\t<tr><th scope=row>4</th><td>2013</td><td>1</td><td>1</td><td>544</td><td>545</td><td>-1</td><td>1004</td><td>1022</td><td>-18</td><td>B6</td><td> 725</td><td>N804JB</td><td>JFK</td><td>BQN</td><td>183</td><td>1576</td><td>5</td><td>45</td><td>2013-01-01 05:00:00</td><td>-19</td></tr>\n",
              "\t<tr><th scope=row>5</th><td>2013</td><td>1</td><td>1</td><td>554</td><td>600</td><td>-6</td><td> 812</td><td> 837</td><td>-25</td><td>DL</td><td> 461</td><td>N668DN</td><td>LGA</td><td>ATL</td><td>116</td><td> 762</td><td>6</td><td> 0</td><td>2013-01-01 06:00:00</td><td>-31</td></tr>\n",
              "\t<tr><th scope=row>6</th><td>2013</td><td>1</td><td>1</td><td>554</td><td>558</td><td>-4</td><td> 740</td><td> 728</td><td> 12</td><td>UA</td><td>1696</td><td>N39463</td><td>EWR</td><td>ORD</td><td>150</td><td> 719</td><td>5</td><td>58</td><td>2013-01-01 05:00:00</td><td>  8</td></tr>\n",
              "</tbody>\n",
              "</table>\n"
            ],
            "text/markdown": "\nA data.frame: 6 × 20\n\n| <!--/--> | year &lt;int&gt; | month &lt;int&gt; | day &lt;int&gt; | dep_time &lt;int&gt; | sched_dep_time &lt;int&gt; | dep_delay &lt;int&gt; | arr_time &lt;int&gt; | sched_arr_time &lt;int&gt; | arr_delay &lt;int&gt; | carrier &lt;chr&gt; | flight &lt;int&gt; | tailnum &lt;chr&gt; | origin &lt;chr&gt; | dest &lt;chr&gt; | air_time &lt;int&gt; | distance &lt;int&gt; | hour &lt;int&gt; | minute &lt;int&gt; | time_hour &lt;chr&gt; | retraso_neto &lt;int&gt; |\n|---|---|---|---|---|---|---|---|---|---|---|---|---|---|---|---|---|---|---|---|---|\n| 1 | 2013 | 1 | 1 | 517 | 515 |  2 |  830 |  819 |  11 | UA | 1545 | N14228 | EWR | IAH | 227 | 1400 | 5 | 15 | 2013-01-01 05:00:00 |  13 |\n| 2 | 2013 | 1 | 1 | 533 | 529 |  4 |  850 |  830 |  20 | UA | 1714 | N24211 | LGA | IAH | 227 | 1416 | 5 | 29 | 2013-01-01 05:00:00 |  24 |\n| 3 | 2013 | 1 | 1 | 542 | 540 |  2 |  923 |  850 |  33 | AA | 1141 | N619AA | JFK | MIA | 160 | 1089 | 5 | 40 | 2013-01-01 05:00:00 |  35 |\n| 4 | 2013 | 1 | 1 | 544 | 545 | -1 | 1004 | 1022 | -18 | B6 |  725 | N804JB | JFK | BQN | 183 | 1576 | 5 | 45 | 2013-01-01 05:00:00 | -19 |\n| 5 | 2013 | 1 | 1 | 554 | 600 | -6 |  812 |  837 | -25 | DL |  461 | N668DN | LGA | ATL | 116 |  762 | 6 |  0 | 2013-01-01 06:00:00 | -31 |\n| 6 | 2013 | 1 | 1 | 554 | 558 | -4 |  740 |  728 |  12 | UA | 1696 | N39463 | EWR | ORD | 150 |  719 | 5 | 58 | 2013-01-01 05:00:00 |   8 |\n\n",
            "text/latex": "A data.frame: 6 × 20\n\\begin{tabular}{r|llllllllllllllllllll}\n  & year & month & day & dep\\_time & sched\\_dep\\_time & dep\\_delay & arr\\_time & sched\\_arr\\_time & arr\\_delay & carrier & flight & tailnum & origin & dest & air\\_time & distance & hour & minute & time\\_hour & retraso\\_neto\\\\\n  & <int> & <int> & <int> & <int> & <int> & <int> & <int> & <int> & <int> & <chr> & <int> & <chr> & <chr> & <chr> & <int> & <int> & <int> & <int> & <chr> & <int>\\\\\n\\hline\n\t1 & 2013 & 1 & 1 & 517 & 515 &  2 &  830 &  819 &  11 & UA & 1545 & N14228 & EWR & IAH & 227 & 1400 & 5 & 15 & 2013-01-01 05:00:00 &  13\\\\\n\t2 & 2013 & 1 & 1 & 533 & 529 &  4 &  850 &  830 &  20 & UA & 1714 & N24211 & LGA & IAH & 227 & 1416 & 5 & 29 & 2013-01-01 05:00:00 &  24\\\\\n\t3 & 2013 & 1 & 1 & 542 & 540 &  2 &  923 &  850 &  33 & AA & 1141 & N619AA & JFK & MIA & 160 & 1089 & 5 & 40 & 2013-01-01 05:00:00 &  35\\\\\n\t4 & 2013 & 1 & 1 & 544 & 545 & -1 & 1004 & 1022 & -18 & B6 &  725 & N804JB & JFK & BQN & 183 & 1576 & 5 & 45 & 2013-01-01 05:00:00 & -19\\\\\n\t5 & 2013 & 1 & 1 & 554 & 600 & -6 &  812 &  837 & -25 & DL &  461 & N668DN & LGA & ATL & 116 &  762 & 6 &  0 & 2013-01-01 06:00:00 & -31\\\\\n\t6 & 2013 & 1 & 1 & 554 & 558 & -4 &  740 &  728 &  12 & UA & 1696 & N39463 & EWR & ORD & 150 &  719 & 5 & 58 & 2013-01-01 05:00:00 &   8\\\\\n\\end{tabular}\n",
            "text/plain": [
              "  year month day dep_time sched_dep_time dep_delay arr_time sched_arr_time\n",
              "1 2013 1     1   517      515             2         830      819          \n",
              "2 2013 1     1   533      529             4         850      830          \n",
              "3 2013 1     1   542      540             2         923      850          \n",
              "4 2013 1     1   544      545            -1        1004     1022          \n",
              "5 2013 1     1   554      600            -6         812      837          \n",
              "6 2013 1     1   554      558            -4         740      728          \n",
              "  arr_delay carrier flight tailnum origin dest air_time distance hour minute\n",
              "1  11       UA      1545   N14228  EWR    IAH  227      1400     5    15    \n",
              "2  20       UA      1714   N24211  LGA    IAH  227      1416     5    29    \n",
              "3  33       AA      1141   N619AA  JFK    MIA  160      1089     5    40    \n",
              "4 -18       B6       725   N804JB  JFK    BQN  183      1576     5    45    \n",
              "5 -25       DL       461   N668DN  LGA    ATL  116       762     6     0    \n",
              "6  12       UA      1696   N39463  EWR    ORD  150       719     5    58    \n",
              "  time_hour           retraso_neto\n",
              "1 2013-01-01 05:00:00  13         \n",
              "2 2013-01-01 05:00:00  24         \n",
              "3 2013-01-01 05:00:00  35         \n",
              "4 2013-01-01 05:00:00 -19         \n",
              "5 2013-01-01 06:00:00 -31         \n",
              "6 2013-01-01 05:00:00   8         "
            ]
          },
          "metadata": {}
        }
      ]
    },
    {
      "cell_type": "code",
      "metadata": {
        "trusted": true,
        "id": "jwsvIq-eRPy2",
        "outputId": "b42fa487-f162-4880-8be6-c18e4e22ec32",
        "colab": {
          "base_uri": "https://localhost:8080/",
          "height": 286
        }
      },
      "source": [
        "# Primero defina una nueva data llamada muestra_fl que contenga la fecha, los retrasos, la distancia, y el tiempo de vuelo\n",
        "muestra_fl <- select(vuelos, year,month,day, arr_delay, dep_delay, distance, air_time)\n",
        "head(muestra_fl)\n",
        "# Cree una columna llamada gain que contenga la diferenecia entre arr_delay y dep_delay, y otra llamada speed que mida la velocidad en horas (distancia / tiempo de vuelo * 60)\n"
      ],
      "execution_count": null,
      "outputs": [
        {
          "output_type": "display_data",
          "data": {
            "text/html": [
              "<table class=\"dataframe\">\n",
              "<caption>A data.frame: 6 × 7</caption>\n",
              "<thead>\n",
              "\t<tr><th></th><th scope=col>year</th><th scope=col>month</th><th scope=col>day</th><th scope=col>arr_delay</th><th scope=col>dep_delay</th><th scope=col>distance</th><th scope=col>air_time</th></tr>\n",
              "\t<tr><th></th><th scope=col>&lt;int&gt;</th><th scope=col>&lt;int&gt;</th><th scope=col>&lt;int&gt;</th><th scope=col>&lt;int&gt;</th><th scope=col>&lt;int&gt;</th><th scope=col>&lt;int&gt;</th><th scope=col>&lt;int&gt;</th></tr>\n",
              "</thead>\n",
              "<tbody>\n",
              "\t<tr><th scope=row>1</th><td>2013</td><td>1</td><td>1</td><td> 11</td><td> 2</td><td>1400</td><td>227</td></tr>\n",
              "\t<tr><th scope=row>2</th><td>2013</td><td>1</td><td>1</td><td> 20</td><td> 4</td><td>1416</td><td>227</td></tr>\n",
              "\t<tr><th scope=row>3</th><td>2013</td><td>1</td><td>1</td><td> 33</td><td> 2</td><td>1089</td><td>160</td></tr>\n",
              "\t<tr><th scope=row>4</th><td>2013</td><td>1</td><td>1</td><td>-18</td><td>-1</td><td>1576</td><td>183</td></tr>\n",
              "\t<tr><th scope=row>5</th><td>2013</td><td>1</td><td>1</td><td>-25</td><td>-6</td><td> 762</td><td>116</td></tr>\n",
              "\t<tr><th scope=row>6</th><td>2013</td><td>1</td><td>1</td><td> 12</td><td>-4</td><td> 719</td><td>150</td></tr>\n",
              "</tbody>\n",
              "</table>\n"
            ],
            "text/markdown": "\nA data.frame: 6 × 7\n\n| <!--/--> | year &lt;int&gt; | month &lt;int&gt; | day &lt;int&gt; | arr_delay &lt;int&gt; | dep_delay &lt;int&gt; | distance &lt;int&gt; | air_time &lt;int&gt; |\n|---|---|---|---|---|---|---|---|\n| 1 | 2013 | 1 | 1 |  11 |  2 | 1400 | 227 |\n| 2 | 2013 | 1 | 1 |  20 |  4 | 1416 | 227 |\n| 3 | 2013 | 1 | 1 |  33 |  2 | 1089 | 160 |\n| 4 | 2013 | 1 | 1 | -18 | -1 | 1576 | 183 |\n| 5 | 2013 | 1 | 1 | -25 | -6 |  762 | 116 |\n| 6 | 2013 | 1 | 1 |  12 | -4 |  719 | 150 |\n\n",
            "text/latex": "A data.frame: 6 × 7\n\\begin{tabular}{r|lllllll}\n  & year & month & day & arr\\_delay & dep\\_delay & distance & air\\_time\\\\\n  & <int> & <int> & <int> & <int> & <int> & <int> & <int>\\\\\n\\hline\n\t1 & 2013 & 1 & 1 &  11 &  2 & 1400 & 227\\\\\n\t2 & 2013 & 1 & 1 &  20 &  4 & 1416 & 227\\\\\n\t3 & 2013 & 1 & 1 &  33 &  2 & 1089 & 160\\\\\n\t4 & 2013 & 1 & 1 & -18 & -1 & 1576 & 183\\\\\n\t5 & 2013 & 1 & 1 & -25 & -6 &  762 & 116\\\\\n\t6 & 2013 & 1 & 1 &  12 & -4 &  719 & 150\\\\\n\\end{tabular}\n",
            "text/plain": [
              "  year month day arr_delay dep_delay distance air_time\n",
              "1 2013 1     1    11        2        1400     227     \n",
              "2 2013 1     1    20        4        1416     227     \n",
              "3 2013 1     1    33        2        1089     160     \n",
              "4 2013 1     1   -18       -1        1576     183     \n",
              "5 2013 1     1   -25       -6         762     116     \n",
              "6 2013 1     1    12       -4         719     150     "
            ]
          },
          "metadata": {}
        }
      ]
    },
    {
      "cell_type": "code",
      "source": [
        "# Cree una columna llamada gain que contenga la diferenecia entre arr_delay y dep_delay, y otra llamada speed que mida la velocidad en km/horas (distancia / tiempo de vuelo * 60)\n",
        "muestra_fl <- mutate(muestra_fl, gain = arr_delay - dep_delay,\n",
        "                   speed = 60*distance/air_time,\n",
        "                   speed_min = speed/60,\n",
        "                   year = year-1)"
      ],
      "metadata": {
        "id": "LB21kUafS9QZ"
      },
      "execution_count": null,
      "outputs": []
    },
    {
      "cell_type": "code",
      "source": [
        "head(muestra_fl)"
      ],
      "metadata": {
        "id": "7QBu6TdDUOWA",
        "outputId": "341f12d1-4ba4-4f0b-8305-cb144cc8a37a",
        "colab": {
          "base_uri": "https://localhost:8080/",
          "height": 286
        }
      },
      "execution_count": null,
      "outputs": [
        {
          "output_type": "display_data",
          "data": {
            "text/html": [
              "<table class=\"dataframe\">\n",
              "<caption>A data.frame: 6 × 10</caption>\n",
              "<thead>\n",
              "\t<tr><th></th><th scope=col>year</th><th scope=col>month</th><th scope=col>day</th><th scope=col>arr_delay</th><th scope=col>dep_delay</th><th scope=col>distance</th><th scope=col>air_time</th><th scope=col>gain</th><th scope=col>speed</th><th scope=col>speed_min</th></tr>\n",
              "\t<tr><th></th><th scope=col>&lt;dbl&gt;</th><th scope=col>&lt;int&gt;</th><th scope=col>&lt;int&gt;</th><th scope=col>&lt;int&gt;</th><th scope=col>&lt;int&gt;</th><th scope=col>&lt;int&gt;</th><th scope=col>&lt;int&gt;</th><th scope=col>&lt;int&gt;</th><th scope=col>&lt;dbl&gt;</th><th scope=col>&lt;dbl&gt;</th></tr>\n",
              "</thead>\n",
              "<tbody>\n",
              "\t<tr><th scope=row>1</th><td>2012</td><td>1</td><td>1</td><td> 11</td><td> 2</td><td>1400</td><td>227</td><td>  9</td><td>370.0441</td><td>6.167401</td></tr>\n",
              "\t<tr><th scope=row>2</th><td>2012</td><td>1</td><td>1</td><td> 20</td><td> 4</td><td>1416</td><td>227</td><td> 16</td><td>374.2731</td><td>6.237885</td></tr>\n",
              "\t<tr><th scope=row>3</th><td>2012</td><td>1</td><td>1</td><td> 33</td><td> 2</td><td>1089</td><td>160</td><td> 31</td><td>408.3750</td><td>6.806250</td></tr>\n",
              "\t<tr><th scope=row>4</th><td>2012</td><td>1</td><td>1</td><td>-18</td><td>-1</td><td>1576</td><td>183</td><td>-17</td><td>516.7213</td><td>8.612022</td></tr>\n",
              "\t<tr><th scope=row>5</th><td>2012</td><td>1</td><td>1</td><td>-25</td><td>-6</td><td> 762</td><td>116</td><td>-19</td><td>394.1379</td><td>6.568966</td></tr>\n",
              "\t<tr><th scope=row>6</th><td>2012</td><td>1</td><td>1</td><td> 12</td><td>-4</td><td> 719</td><td>150</td><td> 16</td><td>287.6000</td><td>4.793333</td></tr>\n",
              "</tbody>\n",
              "</table>\n"
            ],
            "text/markdown": "\nA data.frame: 6 × 10\n\n| <!--/--> | year &lt;dbl&gt; | month &lt;int&gt; | day &lt;int&gt; | arr_delay &lt;int&gt; | dep_delay &lt;int&gt; | distance &lt;int&gt; | air_time &lt;int&gt; | gain &lt;int&gt; | speed &lt;dbl&gt; | speed_min &lt;dbl&gt; |\n|---|---|---|---|---|---|---|---|---|---|---|\n| 1 | 2012 | 1 | 1 |  11 |  2 | 1400 | 227 |   9 | 370.0441 | 6.167401 |\n| 2 | 2012 | 1 | 1 |  20 |  4 | 1416 | 227 |  16 | 374.2731 | 6.237885 |\n| 3 | 2012 | 1 | 1 |  33 |  2 | 1089 | 160 |  31 | 408.3750 | 6.806250 |\n| 4 | 2012 | 1 | 1 | -18 | -1 | 1576 | 183 | -17 | 516.7213 | 8.612022 |\n| 5 | 2012 | 1 | 1 | -25 | -6 |  762 | 116 | -19 | 394.1379 | 6.568966 |\n| 6 | 2012 | 1 | 1 |  12 | -4 |  719 | 150 |  16 | 287.6000 | 4.793333 |\n\n",
            "text/latex": "A data.frame: 6 × 10\n\\begin{tabular}{r|llllllllll}\n  & year & month & day & arr\\_delay & dep\\_delay & distance & air\\_time & gain & speed & speed\\_min\\\\\n  & <dbl> & <int> & <int> & <int> & <int> & <int> & <int> & <int> & <dbl> & <dbl>\\\\\n\\hline\n\t1 & 2012 & 1 & 1 &  11 &  2 & 1400 & 227 &   9 & 370.0441 & 6.167401\\\\\n\t2 & 2012 & 1 & 1 &  20 &  4 & 1416 & 227 &  16 & 374.2731 & 6.237885\\\\\n\t3 & 2012 & 1 & 1 &  33 &  2 & 1089 & 160 &  31 & 408.3750 & 6.806250\\\\\n\t4 & 2012 & 1 & 1 & -18 & -1 & 1576 & 183 & -17 & 516.7213 & 8.612022\\\\\n\t5 & 2012 & 1 & 1 & -25 & -6 &  762 & 116 & -19 & 394.1379 & 6.568966\\\\\n\t6 & 2012 & 1 & 1 &  12 & -4 &  719 & 150 &  16 & 287.6000 & 4.793333\\\\\n\\end{tabular}\n",
            "text/plain": [
              "  year month day arr_delay dep_delay distance air_time gain speed    speed_min\n",
              "1 2012 1     1    11        2        1400     227        9  370.0441 6.167401 \n",
              "2 2012 1     1    20        4        1416     227       16  374.2731 6.237885 \n",
              "3 2012 1     1    33        2        1089     160       31  408.3750 6.806250 \n",
              "4 2012 1     1   -18       -1        1576     183      -17  516.7213 8.612022 \n",
              "5 2012 1     1   -25       -6         762     116      -19  394.1379 6.568966 \n",
              "6 2012 1     1    12       -4         719     150       16  287.6000 4.793333 "
            ]
          },
          "metadata": {}
        }
      ]
    },
    {
      "cell_type": "markdown",
      "metadata": {
        "id": "wk8Qt1ICRPy4"
      },
      "source": [
        "### Operador %>%\n",
        "\n",
        "El operador estrella de dplyr. Funciona como una composición de funciones, y nos permite generar _pipe-lines_, permitiendo  que la generación  del código sea más ordenada, y con ello, su lectura más sencilla.\n",
        "\n",
        "Este operdaor actua de la sifuiente manera, <br>\n",
        "\n",
        "    x %>% f(y) , es equivalente a,  f(x,y)\n",
        "\n"
      ]
    },
    {
      "cell_type": "code",
      "metadata": {
        "trusted": true,
        "id": "8s1tOO0RRPy4",
        "outputId": "ad6d7ce7-6f77-46eb-cf08-f87f951ef175",
        "colab": {
          "base_uri": "https://localhost:8080/",
          "height": 595
        }
      },
      "source": [
        "# Operador %>% ----------------------------------------------------------------\n",
        "# Ejemplo sencillo\n",
        "head(vuelos,3)\n",
        "\n",
        "\n",
        "# Utilizando %>%\n",
        "vuelos |> head(3)\n",
        "\n"
      ],
      "execution_count": 4,
      "outputs": [
        {
          "output_type": "display_data",
          "data": {
            "text/html": [
              "<table class=\"dataframe\">\n",
              "<caption>A data.frame: 3 × 19</caption>\n",
              "<thead>\n",
              "\t<tr><th></th><th scope=col>year</th><th scope=col>month</th><th scope=col>day</th><th scope=col>dep_time</th><th scope=col>sched_dep_time</th><th scope=col>dep_delay</th><th scope=col>arr_time</th><th scope=col>sched_arr_time</th><th scope=col>arr_delay</th><th scope=col>carrier</th><th scope=col>flight</th><th scope=col>tailnum</th><th scope=col>origin</th><th scope=col>dest</th><th scope=col>air_time</th><th scope=col>distance</th><th scope=col>hour</th><th scope=col>minute</th><th scope=col>time_hour</th></tr>\n",
              "\t<tr><th></th><th scope=col>&lt;int&gt;</th><th scope=col>&lt;int&gt;</th><th scope=col>&lt;int&gt;</th><th scope=col>&lt;int&gt;</th><th scope=col>&lt;int&gt;</th><th scope=col>&lt;int&gt;</th><th scope=col>&lt;int&gt;</th><th scope=col>&lt;int&gt;</th><th scope=col>&lt;int&gt;</th><th scope=col>&lt;chr&gt;</th><th scope=col>&lt;int&gt;</th><th scope=col>&lt;chr&gt;</th><th scope=col>&lt;chr&gt;</th><th scope=col>&lt;chr&gt;</th><th scope=col>&lt;int&gt;</th><th scope=col>&lt;int&gt;</th><th scope=col>&lt;int&gt;</th><th scope=col>&lt;int&gt;</th><th scope=col>&lt;chr&gt;</th></tr>\n",
              "</thead>\n",
              "<tbody>\n",
              "\t<tr><th scope=row>1</th><td>2013</td><td>1</td><td>1</td><td>517</td><td>515</td><td>2</td><td>830</td><td>819</td><td>11</td><td>UA</td><td>1545</td><td>N14228</td><td>EWR</td><td>IAH</td><td>227</td><td>1400</td><td>5</td><td>15</td><td>2013-01-01 05:00:00</td></tr>\n",
              "\t<tr><th scope=row>2</th><td>2013</td><td>1</td><td>1</td><td>533</td><td>529</td><td>4</td><td>850</td><td>830</td><td>20</td><td>UA</td><td>1714</td><td>N24211</td><td>LGA</td><td>IAH</td><td>227</td><td>1416</td><td>5</td><td>29</td><td>2013-01-01 05:00:00</td></tr>\n",
              "\t<tr><th scope=row>3</th><td>2013</td><td>1</td><td>1</td><td>542</td><td>540</td><td>2</td><td>923</td><td>850</td><td>33</td><td>AA</td><td>1141</td><td>N619AA</td><td>JFK</td><td>MIA</td><td>160</td><td>1089</td><td>5</td><td>40</td><td>2013-01-01 05:00:00</td></tr>\n",
              "</tbody>\n",
              "</table>\n"
            ],
            "text/markdown": "\nA data.frame: 3 × 19\n\n| <!--/--> | year &lt;int&gt; | month &lt;int&gt; | day &lt;int&gt; | dep_time &lt;int&gt; | sched_dep_time &lt;int&gt; | dep_delay &lt;int&gt; | arr_time &lt;int&gt; | sched_arr_time &lt;int&gt; | arr_delay &lt;int&gt; | carrier &lt;chr&gt; | flight &lt;int&gt; | tailnum &lt;chr&gt; | origin &lt;chr&gt; | dest &lt;chr&gt; | air_time &lt;int&gt; | distance &lt;int&gt; | hour &lt;int&gt; | minute &lt;int&gt; | time_hour &lt;chr&gt; |\n|---|---|---|---|---|---|---|---|---|---|---|---|---|---|---|---|---|---|---|---|\n| 1 | 2013 | 1 | 1 | 517 | 515 | 2 | 830 | 819 | 11 | UA | 1545 | N14228 | EWR | IAH | 227 | 1400 | 5 | 15 | 2013-01-01 05:00:00 |\n| 2 | 2013 | 1 | 1 | 533 | 529 | 4 | 850 | 830 | 20 | UA | 1714 | N24211 | LGA | IAH | 227 | 1416 | 5 | 29 | 2013-01-01 05:00:00 |\n| 3 | 2013 | 1 | 1 | 542 | 540 | 2 | 923 | 850 | 33 | AA | 1141 | N619AA | JFK | MIA | 160 | 1089 | 5 | 40 | 2013-01-01 05:00:00 |\n\n",
            "text/latex": "A data.frame: 3 × 19\n\\begin{tabular}{r|lllllllllllllllllll}\n  & year & month & day & dep\\_time & sched\\_dep\\_time & dep\\_delay & arr\\_time & sched\\_arr\\_time & arr\\_delay & carrier & flight & tailnum & origin & dest & air\\_time & distance & hour & minute & time\\_hour\\\\\n  & <int> & <int> & <int> & <int> & <int> & <int> & <int> & <int> & <int> & <chr> & <int> & <chr> & <chr> & <chr> & <int> & <int> & <int> & <int> & <chr>\\\\\n\\hline\n\t1 & 2013 & 1 & 1 & 517 & 515 & 2 & 830 & 819 & 11 & UA & 1545 & N14228 & EWR & IAH & 227 & 1400 & 5 & 15 & 2013-01-01 05:00:00\\\\\n\t2 & 2013 & 1 & 1 & 533 & 529 & 4 & 850 & 830 & 20 & UA & 1714 & N24211 & LGA & IAH & 227 & 1416 & 5 & 29 & 2013-01-01 05:00:00\\\\\n\t3 & 2013 & 1 & 1 & 542 & 540 & 2 & 923 & 850 & 33 & AA & 1141 & N619AA & JFK & MIA & 160 & 1089 & 5 & 40 & 2013-01-01 05:00:00\\\\\n\\end{tabular}\n",
            "text/plain": [
              "  year month day dep_time sched_dep_time dep_delay arr_time sched_arr_time\n",
              "1 2013 1     1   517      515            2         830      819           \n",
              "2 2013 1     1   533      529            4         850      830           \n",
              "3 2013 1     1   542      540            2         923      850           \n",
              "  arr_delay carrier flight tailnum origin dest air_time distance hour minute\n",
              "1 11        UA      1545   N14228  EWR    IAH  227      1400     5    15    \n",
              "2 20        UA      1714   N24211  LGA    IAH  227      1416     5    29    \n",
              "3 33        AA      1141   N619AA  JFK    MIA  160      1089     5    40    \n",
              "  time_hour          \n",
              "1 2013-01-01 05:00:00\n",
              "2 2013-01-01 05:00:00\n",
              "3 2013-01-01 05:00:00"
            ]
          },
          "metadata": {}
        },
        {
          "output_type": "display_data",
          "data": {
            "text/html": [
              "<table class=\"dataframe\">\n",
              "<caption>A data.frame: 3 × 19</caption>\n",
              "<thead>\n",
              "\t<tr><th></th><th scope=col>year</th><th scope=col>month</th><th scope=col>day</th><th scope=col>dep_time</th><th scope=col>sched_dep_time</th><th scope=col>dep_delay</th><th scope=col>arr_time</th><th scope=col>sched_arr_time</th><th scope=col>arr_delay</th><th scope=col>carrier</th><th scope=col>flight</th><th scope=col>tailnum</th><th scope=col>origin</th><th scope=col>dest</th><th scope=col>air_time</th><th scope=col>distance</th><th scope=col>hour</th><th scope=col>minute</th><th scope=col>time_hour</th></tr>\n",
              "\t<tr><th></th><th scope=col>&lt;int&gt;</th><th scope=col>&lt;int&gt;</th><th scope=col>&lt;int&gt;</th><th scope=col>&lt;int&gt;</th><th scope=col>&lt;int&gt;</th><th scope=col>&lt;int&gt;</th><th scope=col>&lt;int&gt;</th><th scope=col>&lt;int&gt;</th><th scope=col>&lt;int&gt;</th><th scope=col>&lt;chr&gt;</th><th scope=col>&lt;int&gt;</th><th scope=col>&lt;chr&gt;</th><th scope=col>&lt;chr&gt;</th><th scope=col>&lt;chr&gt;</th><th scope=col>&lt;int&gt;</th><th scope=col>&lt;int&gt;</th><th scope=col>&lt;int&gt;</th><th scope=col>&lt;int&gt;</th><th scope=col>&lt;chr&gt;</th></tr>\n",
              "</thead>\n",
              "<tbody>\n",
              "\t<tr><th scope=row>1</th><td>2013</td><td>1</td><td>1</td><td>517</td><td>515</td><td>2</td><td>830</td><td>819</td><td>11</td><td>UA</td><td>1545</td><td>N14228</td><td>EWR</td><td>IAH</td><td>227</td><td>1400</td><td>5</td><td>15</td><td>2013-01-01 05:00:00</td></tr>\n",
              "\t<tr><th scope=row>2</th><td>2013</td><td>1</td><td>1</td><td>533</td><td>529</td><td>4</td><td>850</td><td>830</td><td>20</td><td>UA</td><td>1714</td><td>N24211</td><td>LGA</td><td>IAH</td><td>227</td><td>1416</td><td>5</td><td>29</td><td>2013-01-01 05:00:00</td></tr>\n",
              "\t<tr><th scope=row>3</th><td>2013</td><td>1</td><td>1</td><td>542</td><td>540</td><td>2</td><td>923</td><td>850</td><td>33</td><td>AA</td><td>1141</td><td>N619AA</td><td>JFK</td><td>MIA</td><td>160</td><td>1089</td><td>5</td><td>40</td><td>2013-01-01 05:00:00</td></tr>\n",
              "</tbody>\n",
              "</table>\n"
            ],
            "text/markdown": "\nA data.frame: 3 × 19\n\n| <!--/--> | year &lt;int&gt; | month &lt;int&gt; | day &lt;int&gt; | dep_time &lt;int&gt; | sched_dep_time &lt;int&gt; | dep_delay &lt;int&gt; | arr_time &lt;int&gt; | sched_arr_time &lt;int&gt; | arr_delay &lt;int&gt; | carrier &lt;chr&gt; | flight &lt;int&gt; | tailnum &lt;chr&gt; | origin &lt;chr&gt; | dest &lt;chr&gt; | air_time &lt;int&gt; | distance &lt;int&gt; | hour &lt;int&gt; | minute &lt;int&gt; | time_hour &lt;chr&gt; |\n|---|---|---|---|---|---|---|---|---|---|---|---|---|---|---|---|---|---|---|---|\n| 1 | 2013 | 1 | 1 | 517 | 515 | 2 | 830 | 819 | 11 | UA | 1545 | N14228 | EWR | IAH | 227 | 1400 | 5 | 15 | 2013-01-01 05:00:00 |\n| 2 | 2013 | 1 | 1 | 533 | 529 | 4 | 850 | 830 | 20 | UA | 1714 | N24211 | LGA | IAH | 227 | 1416 | 5 | 29 | 2013-01-01 05:00:00 |\n| 3 | 2013 | 1 | 1 | 542 | 540 | 2 | 923 | 850 | 33 | AA | 1141 | N619AA | JFK | MIA | 160 | 1089 | 5 | 40 | 2013-01-01 05:00:00 |\n\n",
            "text/latex": "A data.frame: 3 × 19\n\\begin{tabular}{r|lllllllllllllllllll}\n  & year & month & day & dep\\_time & sched\\_dep\\_time & dep\\_delay & arr\\_time & sched\\_arr\\_time & arr\\_delay & carrier & flight & tailnum & origin & dest & air\\_time & distance & hour & minute & time\\_hour\\\\\n  & <int> & <int> & <int> & <int> & <int> & <int> & <int> & <int> & <int> & <chr> & <int> & <chr> & <chr> & <chr> & <int> & <int> & <int> & <int> & <chr>\\\\\n\\hline\n\t1 & 2013 & 1 & 1 & 517 & 515 & 2 & 830 & 819 & 11 & UA & 1545 & N14228 & EWR & IAH & 227 & 1400 & 5 & 15 & 2013-01-01 05:00:00\\\\\n\t2 & 2013 & 1 & 1 & 533 & 529 & 4 & 850 & 830 & 20 & UA & 1714 & N24211 & LGA & IAH & 227 & 1416 & 5 & 29 & 2013-01-01 05:00:00\\\\\n\t3 & 2013 & 1 & 1 & 542 & 540 & 2 & 923 & 850 & 33 & AA & 1141 & N619AA & JFK & MIA & 160 & 1089 & 5 & 40 & 2013-01-01 05:00:00\\\\\n\\end{tabular}\n",
            "text/plain": [
              "  year month day dep_time sched_dep_time dep_delay arr_time sched_arr_time\n",
              "1 2013 1     1   517      515            2         830      819           \n",
              "2 2013 1     1   533      529            4         850      830           \n",
              "3 2013 1     1   542      540            2         923      850           \n",
              "  arr_delay carrier flight tailnum origin dest air_time distance hour minute\n",
              "1 11        UA      1545   N14228  EWR    IAH  227      1400     5    15    \n",
              "2 20        UA      1714   N24211  LGA    IAH  227      1416     5    29    \n",
              "3 33        AA      1141   N619AA  JFK    MIA  160      1089     5    40    \n",
              "  time_hour          \n",
              "1 2013-01-01 05:00:00\n",
              "2 2013-01-01 05:00:00\n",
              "3 2013-01-01 05:00:00"
            ]
          },
          "metadata": {}
        }
      ]
    },
    {
      "cell_type": "code",
      "source": [
        "count(vuelos, origin)"
      ],
      "metadata": {
        "id": "ICpmsko6VWtU",
        "outputId": "035009eb-dd13-43e8-c2be-8f21d7aeebde",
        "colab": {
          "base_uri": "https://localhost:8080/",
          "height": 192
        }
      },
      "execution_count": null,
      "outputs": [
        {
          "output_type": "display_data",
          "data": {
            "text/html": [
              "<table class=\"dataframe\">\n",
              "<caption>A data.frame: 3 × 2</caption>\n",
              "<thead>\n",
              "\t<tr><th scope=col>origin</th><th scope=col>n</th></tr>\n",
              "\t<tr><th scope=col>&lt;chr&gt;</th><th scope=col>&lt;int&gt;</th></tr>\n",
              "</thead>\n",
              "<tbody>\n",
              "\t<tr><td>EWR</td><td>120835</td></tr>\n",
              "\t<tr><td>JFK</td><td>111279</td></tr>\n",
              "\t<tr><td>LGA</td><td>104662</td></tr>\n",
              "</tbody>\n",
              "</table>\n"
            ],
            "text/markdown": "\nA data.frame: 3 × 2\n\n| origin &lt;chr&gt; | n &lt;int&gt; |\n|---|---|\n| EWR | 120835 |\n| JFK | 111279 |\n| LGA | 104662 |\n\n",
            "text/latex": "A data.frame: 3 × 2\n\\begin{tabular}{ll}\n origin & n\\\\\n <chr> & <int>\\\\\n\\hline\n\t EWR & 120835\\\\\n\t JFK & 111279\\\\\n\t LGA & 104662\\\\\n\\end{tabular}\n",
            "text/plain": [
              "  origin n     \n",
              "1 EWR    120835\n",
              "2 JFK    111279\n",
              "3 LGA    104662"
            ]
          },
          "metadata": {}
        }
      ]
    },
    {
      "cell_type": "code",
      "source": [
        "vuelos %>% count(origin) # x %>% f(y) es lo mismo que f(x,y)"
      ],
      "metadata": {
        "id": "RoQmkd7HVinw",
        "outputId": "c13fe3bf-4df0-4138-f6c1-d1b1676ef829",
        "colab": {
          "base_uri": "https://localhost:8080/",
          "height": 192
        }
      },
      "execution_count": null,
      "outputs": [
        {
          "output_type": "display_data",
          "data": {
            "text/html": [
              "<table class=\"dataframe\">\n",
              "<caption>A data.frame: 3 × 2</caption>\n",
              "<thead>\n",
              "\t<tr><th scope=col>origin</th><th scope=col>n</th></tr>\n",
              "\t<tr><th scope=col>&lt;chr&gt;</th><th scope=col>&lt;int&gt;</th></tr>\n",
              "</thead>\n",
              "<tbody>\n",
              "\t<tr><td>EWR</td><td>120835</td></tr>\n",
              "\t<tr><td>JFK</td><td>111279</td></tr>\n",
              "\t<tr><td>LGA</td><td>104662</td></tr>\n",
              "</tbody>\n",
              "</table>\n"
            ],
            "text/markdown": "\nA data.frame: 3 × 2\n\n| origin &lt;chr&gt; | n &lt;int&gt; |\n|---|---|\n| EWR | 120835 |\n| JFK | 111279 |\n| LGA | 104662 |\n\n",
            "text/latex": "A data.frame: 3 × 2\n\\begin{tabular}{ll}\n origin & n\\\\\n <chr> & <int>\\\\\n\\hline\n\t EWR & 120835\\\\\n\t JFK & 111279\\\\\n\t LGA & 104662\\\\\n\\end{tabular}\n",
            "text/plain": [
              "  origin n     \n",
              "1 EWR    120835\n",
              "2 JFK    111279\n",
              "3 LGA    104662"
            ]
          },
          "metadata": {}
        }
      ]
    },
    {
      "cell_type": "code",
      "metadata": {
        "trusted": true,
        "id": "6nBWGFwsRPy6",
        "outputId": "53747963-c8d5-4c20-dcb8-c753e8bd8a45",
        "colab": {
          "base_uri": "https://localhost:8080/",
          "height": 411
        }
      },
      "source": [
        "# Genere el conteo de vuelos por mes y día,\n",
        "# luego filtre por aquellos registros donde el día es 1,\n",
        "# ordene de manera descendente por n,\n",
        "# finalmente muestra la cabecera del dataset resultante, con 10 registros..\n",
        "\n",
        "## ANTES\n",
        "head(\n",
        "  arrange(\n",
        "    filter(\n",
        "      count(\n",
        "        vuelos, month, day\n",
        "        ),\n",
        "        day == 1\n",
        "        ), desc(n)\n",
        "        ),\n",
        "        10)"
      ],
      "execution_count": null,
      "outputs": [
        {
          "output_type": "display_data",
          "data": {
            "text/html": [
              "<table class=\"dataframe\">\n",
              "<caption>A data.frame: 10 × 3</caption>\n",
              "<thead>\n",
              "\t<tr><th></th><th scope=col>month</th><th scope=col>day</th><th scope=col>n</th></tr>\n",
              "\t<tr><th></th><th scope=col>&lt;int&gt;</th><th scope=col>&lt;int&gt;</th><th scope=col>&lt;int&gt;</th></tr>\n",
              "</thead>\n",
              "<tbody>\n",
              "\t<tr><th scope=row>1</th><td> 8</td><td>1</td><td>1000</td></tr>\n",
              "\t<tr><th scope=row>2</th><td>12</td><td>1</td><td> 987</td></tr>\n",
              "\t<tr><th scope=row>3</th><td>11</td><td>1</td><td> 986</td></tr>\n",
              "\t<tr><th scope=row>4</th><td> 4</td><td>1</td><td> 970</td></tr>\n",
              "\t<tr><th scope=row>5</th><td> 7</td><td>1</td><td> 966</td></tr>\n",
              "\t<tr><th scope=row>6</th><td>10</td><td>1</td><td> 965</td></tr>\n",
              "\t<tr><th scope=row>7</th><td> 5</td><td>1</td><td> 964</td></tr>\n",
              "\t<tr><th scope=row>8</th><td> 3</td><td>1</td><td> 958</td></tr>\n",
              "\t<tr><th scope=row>9</th><td> 2</td><td>1</td><td> 926</td></tr>\n",
              "\t<tr><th scope=row>10</th><td> 1</td><td>1</td><td> 842</td></tr>\n",
              "</tbody>\n",
              "</table>\n"
            ],
            "text/markdown": "\nA data.frame: 10 × 3\n\n| <!--/--> | month &lt;int&gt; | day &lt;int&gt; | n &lt;int&gt; |\n|---|---|---|---|\n| 1 |  8 | 1 | 1000 |\n| 2 | 12 | 1 |  987 |\n| 3 | 11 | 1 |  986 |\n| 4 |  4 | 1 |  970 |\n| 5 |  7 | 1 |  966 |\n| 6 | 10 | 1 |  965 |\n| 7 |  5 | 1 |  964 |\n| 8 |  3 | 1 |  958 |\n| 9 |  2 | 1 |  926 |\n| 10 |  1 | 1 |  842 |\n\n",
            "text/latex": "A data.frame: 10 × 3\n\\begin{tabular}{r|lll}\n  & month & day & n\\\\\n  & <int> & <int> & <int>\\\\\n\\hline\n\t1 &  8 & 1 & 1000\\\\\n\t2 & 12 & 1 &  987\\\\\n\t3 & 11 & 1 &  986\\\\\n\t4 &  4 & 1 &  970\\\\\n\t5 &  7 & 1 &  966\\\\\n\t6 & 10 & 1 &  965\\\\\n\t7 &  5 & 1 &  964\\\\\n\t8 &  3 & 1 &  958\\\\\n\t9 &  2 & 1 &  926\\\\\n\t10 &  1 & 1 &  842\\\\\n\\end{tabular}\n",
            "text/plain": [
              "   month day n   \n",
              "1   8    1   1000\n",
              "2  12    1    987\n",
              "3  11    1    986\n",
              "4   4    1    970\n",
              "5   7    1    966\n",
              "6  10    1    965\n",
              "7   5    1    964\n",
              "8   3    1    958\n",
              "9   2    1    926\n",
              "10  1    1    842"
            ]
          },
          "metadata": {}
        }
      ]
    },
    {
      "cell_type": "code",
      "source": [
        "# Entre el paso 1 y 2 agregar una columna llamada max_vuelos que repita el máximo de vuelos alcanzado en algún día (max(n))\n",
        "head(\n",
        "  arrange(\n",
        "    filter(\n",
        "      mutate(count(\n",
        "        vuelos, month, day\n",
        "        ), max_vuelos = max(n)),\n",
        "        day == 1\n",
        "        ), desc(n)\n",
        "        ),\n",
        "        10)"
      ],
      "metadata": {
        "id": "MdC22nVtWjWz",
        "outputId": "ce7e76a7-a73d-4ccb-c093-dfaf69915bdb",
        "colab": {
          "base_uri": "https://localhost:8080/",
          "height": 411
        }
      },
      "execution_count": null,
      "outputs": [
        {
          "output_type": "display_data",
          "data": {
            "text/html": [
              "<table class=\"dataframe\">\n",
              "<caption>A data.frame: 10 × 4</caption>\n",
              "<thead>\n",
              "\t<tr><th></th><th scope=col>month</th><th scope=col>day</th><th scope=col>n</th><th scope=col>max_vuelos</th></tr>\n",
              "\t<tr><th></th><th scope=col>&lt;int&gt;</th><th scope=col>&lt;int&gt;</th><th scope=col>&lt;int&gt;</th><th scope=col>&lt;int&gt;</th></tr>\n",
              "</thead>\n",
              "<tbody>\n",
              "\t<tr><th scope=row>1</th><td> 8</td><td>1</td><td>1000</td><td>1014</td></tr>\n",
              "\t<tr><th scope=row>2</th><td>12</td><td>1</td><td> 987</td><td>1014</td></tr>\n",
              "\t<tr><th scope=row>3</th><td>11</td><td>1</td><td> 986</td><td>1014</td></tr>\n",
              "\t<tr><th scope=row>4</th><td> 4</td><td>1</td><td> 970</td><td>1014</td></tr>\n",
              "\t<tr><th scope=row>5</th><td> 7</td><td>1</td><td> 966</td><td>1014</td></tr>\n",
              "\t<tr><th scope=row>6</th><td>10</td><td>1</td><td> 965</td><td>1014</td></tr>\n",
              "\t<tr><th scope=row>7</th><td> 5</td><td>1</td><td> 964</td><td>1014</td></tr>\n",
              "\t<tr><th scope=row>8</th><td> 3</td><td>1</td><td> 958</td><td>1014</td></tr>\n",
              "\t<tr><th scope=row>9</th><td> 2</td><td>1</td><td> 926</td><td>1014</td></tr>\n",
              "\t<tr><th scope=row>10</th><td> 1</td><td>1</td><td> 842</td><td>1014</td></tr>\n",
              "</tbody>\n",
              "</table>\n"
            ],
            "text/markdown": "\nA data.frame: 10 × 4\n\n| <!--/--> | month &lt;int&gt; | day &lt;int&gt; | n &lt;int&gt; | max_vuelos &lt;int&gt; |\n|---|---|---|---|---|\n| 1 |  8 | 1 | 1000 | 1014 |\n| 2 | 12 | 1 |  987 | 1014 |\n| 3 | 11 | 1 |  986 | 1014 |\n| 4 |  4 | 1 |  970 | 1014 |\n| 5 |  7 | 1 |  966 | 1014 |\n| 6 | 10 | 1 |  965 | 1014 |\n| 7 |  5 | 1 |  964 | 1014 |\n| 8 |  3 | 1 |  958 | 1014 |\n| 9 |  2 | 1 |  926 | 1014 |\n| 10 |  1 | 1 |  842 | 1014 |\n\n",
            "text/latex": "A data.frame: 10 × 4\n\\begin{tabular}{r|llll}\n  & month & day & n & max\\_vuelos\\\\\n  & <int> & <int> & <int> & <int>\\\\\n\\hline\n\t1 &  8 & 1 & 1000 & 1014\\\\\n\t2 & 12 & 1 &  987 & 1014\\\\\n\t3 & 11 & 1 &  986 & 1014\\\\\n\t4 &  4 & 1 &  970 & 1014\\\\\n\t5 &  7 & 1 &  966 & 1014\\\\\n\t6 & 10 & 1 &  965 & 1014\\\\\n\t7 &  5 & 1 &  964 & 1014\\\\\n\t8 &  3 & 1 &  958 & 1014\\\\\n\t9 &  2 & 1 &  926 & 1014\\\\\n\t10 &  1 & 1 &  842 & 1014\\\\\n\\end{tabular}\n",
            "text/plain": [
              "   month day n    max_vuelos\n",
              "1   8    1   1000 1014      \n",
              "2  12    1    987 1014      \n",
              "3  11    1    986 1014      \n",
              "4   4    1    970 1014      \n",
              "5   7    1    966 1014      \n",
              "6  10    1    965 1014      \n",
              "7   5    1    964 1014      \n",
              "8   3    1    958 1014      \n",
              "9   2    1    926 1014      \n",
              "10  1    1    842 1014      "
            ]
          },
          "metadata": {}
        }
      ]
    },
    {
      "cell_type": "code",
      "metadata": {
        "trusted": true,
        "id": "Hckg9wkGRPy8",
        "outputId": "a1fb21c6-2dd1-48e2-fc0d-cc79d9c4e9e6",
        "colab": {
          "base_uri": "https://localhost:8080/",
          "height": 411
        }
      },
      "source": [
        "# Genere el conteo de vuelos por mes y día,\n",
        "# luego filtre por aquellos registros donde el día es 1,\n",
        "# ordene de manera descendente por n,\n",
        "# finalmente muestra la cabecera del dataset resultante con 10 registros.\n",
        "\n",
        "## AHORA\n",
        "vuelos %>%\n",
        "  count(month, day) %>%\n",
        "  filter(day == 1) %>%\n",
        "  arrange(desc(n)) %>%\n",
        "  head(10)\n"
      ],
      "execution_count": null,
      "outputs": [
        {
          "output_type": "display_data",
          "data": {
            "text/html": [
              "<table class=\"dataframe\">\n",
              "<caption>A data.frame: 10 × 3</caption>\n",
              "<thead>\n",
              "\t<tr><th></th><th scope=col>month</th><th scope=col>day</th><th scope=col>n</th></tr>\n",
              "\t<tr><th></th><th scope=col>&lt;int&gt;</th><th scope=col>&lt;int&gt;</th><th scope=col>&lt;int&gt;</th></tr>\n",
              "</thead>\n",
              "<tbody>\n",
              "\t<tr><th scope=row>1</th><td> 8</td><td>1</td><td>1000</td></tr>\n",
              "\t<tr><th scope=row>2</th><td>12</td><td>1</td><td> 987</td></tr>\n",
              "\t<tr><th scope=row>3</th><td>11</td><td>1</td><td> 986</td></tr>\n",
              "\t<tr><th scope=row>4</th><td> 4</td><td>1</td><td> 970</td></tr>\n",
              "\t<tr><th scope=row>5</th><td> 7</td><td>1</td><td> 966</td></tr>\n",
              "\t<tr><th scope=row>6</th><td>10</td><td>1</td><td> 965</td></tr>\n",
              "\t<tr><th scope=row>7</th><td> 5</td><td>1</td><td> 964</td></tr>\n",
              "\t<tr><th scope=row>8</th><td> 3</td><td>1</td><td> 958</td></tr>\n",
              "\t<tr><th scope=row>9</th><td> 2</td><td>1</td><td> 926</td></tr>\n",
              "\t<tr><th scope=row>10</th><td> 1</td><td>1</td><td> 842</td></tr>\n",
              "</tbody>\n",
              "</table>\n"
            ],
            "text/markdown": "\nA data.frame: 10 × 3\n\n| <!--/--> | month &lt;int&gt; | day &lt;int&gt; | n &lt;int&gt; |\n|---|---|---|---|\n| 1 |  8 | 1 | 1000 |\n| 2 | 12 | 1 |  987 |\n| 3 | 11 | 1 |  986 |\n| 4 |  4 | 1 |  970 |\n| 5 |  7 | 1 |  966 |\n| 6 | 10 | 1 |  965 |\n| 7 |  5 | 1 |  964 |\n| 8 |  3 | 1 |  958 |\n| 9 |  2 | 1 |  926 |\n| 10 |  1 | 1 |  842 |\n\n",
            "text/latex": "A data.frame: 10 × 3\n\\begin{tabular}{r|lll}\n  & month & day & n\\\\\n  & <int> & <int> & <int>\\\\\n\\hline\n\t1 &  8 & 1 & 1000\\\\\n\t2 & 12 & 1 &  987\\\\\n\t3 & 11 & 1 &  986\\\\\n\t4 &  4 & 1 &  970\\\\\n\t5 &  7 & 1 &  966\\\\\n\t6 & 10 & 1 &  965\\\\\n\t7 &  5 & 1 &  964\\\\\n\t8 &  3 & 1 &  958\\\\\n\t9 &  2 & 1 &  926\\\\\n\t10 &  1 & 1 &  842\\\\\n\\end{tabular}\n",
            "text/plain": [
              "   month day n   \n",
              "1   8    1   1000\n",
              "2  12    1    987\n",
              "3  11    1    986\n",
              "4   4    1    970\n",
              "5   7    1    966\n",
              "6  10    1    965\n",
              "7   5    1    964\n",
              "8   3    1    958\n",
              "9   2    1    926\n",
              "10  1    1    842"
            ]
          },
          "metadata": {}
        }
      ]
    },
    {
      "cell_type": "code",
      "source": [
        "# Entre el paso 1 y 2 agregar una columna llamada max_vuelos que repita el máximo de vuelos alcanzado en algún día (max(n))\n",
        "vuelos %>%\n",
        "  count(month, day) %>%\n",
        "  mutate(max_vuelos = max(n)) %>%\n",
        "  filter(day == 1) %>%\n",
        "  arrange(desc(n)) %>%\n",
        "  head(10)"
      ],
      "metadata": {
        "id": "-Ab2lGdrXwuE",
        "outputId": "4810cb8a-fbb5-4ee5-b0d1-7543285a9190",
        "colab": {
          "base_uri": "https://localhost:8080/",
          "height": 411
        }
      },
      "execution_count": null,
      "outputs": [
        {
          "output_type": "display_data",
          "data": {
            "text/html": [
              "<table class=\"dataframe\">\n",
              "<caption>A data.frame: 10 × 4</caption>\n",
              "<thead>\n",
              "\t<tr><th></th><th scope=col>month</th><th scope=col>day</th><th scope=col>n</th><th scope=col>max_vuelos</th></tr>\n",
              "\t<tr><th></th><th scope=col>&lt;int&gt;</th><th scope=col>&lt;int&gt;</th><th scope=col>&lt;int&gt;</th><th scope=col>&lt;int&gt;</th></tr>\n",
              "</thead>\n",
              "<tbody>\n",
              "\t<tr><th scope=row>1</th><td> 8</td><td>1</td><td>1000</td><td>1014</td></tr>\n",
              "\t<tr><th scope=row>2</th><td>12</td><td>1</td><td> 987</td><td>1014</td></tr>\n",
              "\t<tr><th scope=row>3</th><td>11</td><td>1</td><td> 986</td><td>1014</td></tr>\n",
              "\t<tr><th scope=row>4</th><td> 4</td><td>1</td><td> 970</td><td>1014</td></tr>\n",
              "\t<tr><th scope=row>5</th><td> 7</td><td>1</td><td> 966</td><td>1014</td></tr>\n",
              "\t<tr><th scope=row>6</th><td>10</td><td>1</td><td> 965</td><td>1014</td></tr>\n",
              "\t<tr><th scope=row>7</th><td> 5</td><td>1</td><td> 964</td><td>1014</td></tr>\n",
              "\t<tr><th scope=row>8</th><td> 3</td><td>1</td><td> 958</td><td>1014</td></tr>\n",
              "\t<tr><th scope=row>9</th><td> 2</td><td>1</td><td> 926</td><td>1014</td></tr>\n",
              "\t<tr><th scope=row>10</th><td> 1</td><td>1</td><td> 842</td><td>1014</td></tr>\n",
              "</tbody>\n",
              "</table>\n"
            ],
            "text/markdown": "\nA data.frame: 10 × 4\n\n| <!--/--> | month &lt;int&gt; | day &lt;int&gt; | n &lt;int&gt; | max_vuelos &lt;int&gt; |\n|---|---|---|---|---|\n| 1 |  8 | 1 | 1000 | 1014 |\n| 2 | 12 | 1 |  987 | 1014 |\n| 3 | 11 | 1 |  986 | 1014 |\n| 4 |  4 | 1 |  970 | 1014 |\n| 5 |  7 | 1 |  966 | 1014 |\n| 6 | 10 | 1 |  965 | 1014 |\n| 7 |  5 | 1 |  964 | 1014 |\n| 8 |  3 | 1 |  958 | 1014 |\n| 9 |  2 | 1 |  926 | 1014 |\n| 10 |  1 | 1 |  842 | 1014 |\n\n",
            "text/latex": "A data.frame: 10 × 4\n\\begin{tabular}{r|llll}\n  & month & day & n & max\\_vuelos\\\\\n  & <int> & <int> & <int> & <int>\\\\\n\\hline\n\t1 &  8 & 1 & 1000 & 1014\\\\\n\t2 & 12 & 1 &  987 & 1014\\\\\n\t3 & 11 & 1 &  986 & 1014\\\\\n\t4 &  4 & 1 &  970 & 1014\\\\\n\t5 &  7 & 1 &  966 & 1014\\\\\n\t6 & 10 & 1 &  965 & 1014\\\\\n\t7 &  5 & 1 &  964 & 1014\\\\\n\t8 &  3 & 1 &  958 & 1014\\\\\n\t9 &  2 & 1 &  926 & 1014\\\\\n\t10 &  1 & 1 &  842 & 1014\\\\\n\\end{tabular}\n",
            "text/plain": [
              "   month day n    max_vuelos\n",
              "1   8    1   1000 1014      \n",
              "2  12    1    987 1014      \n",
              "3  11    1    986 1014      \n",
              "4   4    1    970 1014      \n",
              "5   7    1    966 1014      \n",
              "6  10    1    965 1014      \n",
              "7   5    1    964 1014      \n",
              "8   3    1    958 1014      \n",
              "9   2    1    926 1014      \n",
              "10  1    1    842 1014      "
            ]
          },
          "metadata": {}
        }
      ]
    },
    {
      "cell_type": "code",
      "metadata": {
        "trusted": true,
        "id": "Ml1egmO7RPy-",
        "outputId": "2aac2179-aac1-47fb-84e0-d154fee9a888",
        "colab": {
          "base_uri": "https://localhost:8080/",
          "height": 411
        }
      },
      "source": [
        "# A la consulta anterior (despues del count) podríamos agregar una nueva columna indicando si el total de vuelos es mayor a 970\n",
        "vuelos %>%\n",
        "  count(month, day) %>%\n",
        "  mutate(es_alto = n > 970) %>%\n",
        "  mutate(max_vuelos = max(n)) %>%\n",
        "  filter(day == 1) %>%\n",
        "  arrange(desc(n)) %>%\n",
        "  head(10)"
      ],
      "execution_count": null,
      "outputs": [
        {
          "output_type": "display_data",
          "data": {
            "text/html": [
              "<table class=\"dataframe\">\n",
              "<caption>A data.frame: 10 × 5</caption>\n",
              "<thead>\n",
              "\t<tr><th></th><th scope=col>month</th><th scope=col>day</th><th scope=col>n</th><th scope=col>max_vuelos</th><th scope=col>es_alto</th></tr>\n",
              "\t<tr><th></th><th scope=col>&lt;int&gt;</th><th scope=col>&lt;int&gt;</th><th scope=col>&lt;int&gt;</th><th scope=col>&lt;int&gt;</th><th scope=col>&lt;lgl&gt;</th></tr>\n",
              "</thead>\n",
              "<tbody>\n",
              "\t<tr><th scope=row>1</th><td> 8</td><td>1</td><td>1000</td><td>1014</td><td> TRUE</td></tr>\n",
              "\t<tr><th scope=row>2</th><td>12</td><td>1</td><td> 987</td><td>1014</td><td> TRUE</td></tr>\n",
              "\t<tr><th scope=row>3</th><td>11</td><td>1</td><td> 986</td><td>1014</td><td> TRUE</td></tr>\n",
              "\t<tr><th scope=row>4</th><td> 4</td><td>1</td><td> 970</td><td>1014</td><td>FALSE</td></tr>\n",
              "\t<tr><th scope=row>5</th><td> 7</td><td>1</td><td> 966</td><td>1014</td><td>FALSE</td></tr>\n",
              "\t<tr><th scope=row>6</th><td>10</td><td>1</td><td> 965</td><td>1014</td><td>FALSE</td></tr>\n",
              "\t<tr><th scope=row>7</th><td> 5</td><td>1</td><td> 964</td><td>1014</td><td>FALSE</td></tr>\n",
              "\t<tr><th scope=row>8</th><td> 3</td><td>1</td><td> 958</td><td>1014</td><td>FALSE</td></tr>\n",
              "\t<tr><th scope=row>9</th><td> 2</td><td>1</td><td> 926</td><td>1014</td><td>FALSE</td></tr>\n",
              "\t<tr><th scope=row>10</th><td> 1</td><td>1</td><td> 842</td><td>1014</td><td>FALSE</td></tr>\n",
              "</tbody>\n",
              "</table>\n"
            ],
            "text/markdown": "\nA data.frame: 10 × 5\n\n| <!--/--> | month &lt;int&gt; | day &lt;int&gt; | n &lt;int&gt; | max_vuelos &lt;int&gt; | es_alto &lt;lgl&gt; |\n|---|---|---|---|---|---|\n| 1 |  8 | 1 | 1000 | 1014 |  TRUE |\n| 2 | 12 | 1 |  987 | 1014 |  TRUE |\n| 3 | 11 | 1 |  986 | 1014 |  TRUE |\n| 4 |  4 | 1 |  970 | 1014 | FALSE |\n| 5 |  7 | 1 |  966 | 1014 | FALSE |\n| 6 | 10 | 1 |  965 | 1014 | FALSE |\n| 7 |  5 | 1 |  964 | 1014 | FALSE |\n| 8 |  3 | 1 |  958 | 1014 | FALSE |\n| 9 |  2 | 1 |  926 | 1014 | FALSE |\n| 10 |  1 | 1 |  842 | 1014 | FALSE |\n\n",
            "text/latex": "A data.frame: 10 × 5\n\\begin{tabular}{r|lllll}\n  & month & day & n & max\\_vuelos & es\\_alto\\\\\n  & <int> & <int> & <int> & <int> & <lgl>\\\\\n\\hline\n\t1 &  8 & 1 & 1000 & 1014 &  TRUE\\\\\n\t2 & 12 & 1 &  987 & 1014 &  TRUE\\\\\n\t3 & 11 & 1 &  986 & 1014 &  TRUE\\\\\n\t4 &  4 & 1 &  970 & 1014 & FALSE\\\\\n\t5 &  7 & 1 &  966 & 1014 & FALSE\\\\\n\t6 & 10 & 1 &  965 & 1014 & FALSE\\\\\n\t7 &  5 & 1 &  964 & 1014 & FALSE\\\\\n\t8 &  3 & 1 &  958 & 1014 & FALSE\\\\\n\t9 &  2 & 1 &  926 & 1014 & FALSE\\\\\n\t10 &  1 & 1 &  842 & 1014 & FALSE\\\\\n\\end{tabular}\n",
            "text/plain": [
              "   month day n    max_vuelos es_alto\n",
              "1   8    1   1000 1014        TRUE  \n",
              "2  12    1    987 1014        TRUE  \n",
              "3  11    1    986 1014        TRUE  \n",
              "4   4    1    970 1014       FALSE  \n",
              "5   7    1    966 1014       FALSE  \n",
              "6  10    1    965 1014       FALSE  \n",
              "7   5    1    964 1014       FALSE  \n",
              "8   3    1    958 1014       FALSE  \n",
              "9   2    1    926 1014       FALSE  \n",
              "10  1    1    842 1014       FALSE  "
            ]
          },
          "metadata": {}
        }
      ]
    },
    {
      "cell_type": "code",
      "metadata": {
        "trusted": true,
        "id": "eRuQuH-oRPzA",
        "outputId": "39bfe146-9346-4eae-f768-b1f58f37cd82",
        "colab": {
          "base_uri": "https://localhost:8080/",
          "height": 86
        }
      },
      "source": [
        "# Genere una nueva variable llamada day2 que pegue un \"0\"\n",
        "# a la variable day si es que esta contiene un dígito del 1 al 9.\n",
        "# Para pegar cadena de caracteres sin espacios puede utilizar\n",
        "# la función paste0, o con espacios por defecto, la función paste\n",
        "\n",
        "paste(\"hola\", \"Miguel\")\n",
        "paste(\"hola\", \"Miguel\", sep = \".\")\n",
        "paste(\"hola\", \"Miguel\", sep = \"\")\n",
        "\n",
        "paste0(\"hola\", \"Miguel\")"
      ],
      "execution_count": null,
      "outputs": [
        {
          "output_type": "display_data",
          "data": {
            "text/html": [
              "'hola Miguel'"
            ],
            "text/markdown": "'hola Miguel'",
            "text/latex": "'hola Miguel'",
            "text/plain": [
              "[1] \"hola Miguel\""
            ]
          },
          "metadata": {}
        },
        {
          "output_type": "display_data",
          "data": {
            "text/html": [
              "'hola.Miguel'"
            ],
            "text/markdown": "'hola.Miguel'",
            "text/latex": "'hola.Miguel'",
            "text/plain": [
              "[1] \"hola.Miguel\""
            ]
          },
          "metadata": {}
        },
        {
          "output_type": "display_data",
          "data": {
            "text/html": [
              "'holaMiguel'"
            ],
            "text/markdown": "'holaMiguel'",
            "text/latex": "'holaMiguel'",
            "text/plain": [
              "[1] \"holaMiguel\""
            ]
          },
          "metadata": {}
        },
        {
          "output_type": "display_data",
          "data": {
            "text/html": [
              "'holaMiguel'"
            ],
            "text/markdown": "'holaMiguel'",
            "text/latex": "'holaMiguel'",
            "text/plain": [
              "[1] \"holaMiguel\""
            ]
          },
          "metadata": {}
        }
      ]
    },
    {
      "cell_type": "markdown",
      "source": [
        "## NOTA: Sentencia if else (para el caso de vectores)\n",
        "`ifelse(condicion, output TRUE, output FALSE)`"
      ],
      "metadata": {
        "id": "VNqf0GbraeUH"
      }
    },
    {
      "cell_type": "code",
      "source": [
        "v2 <- c(6,1,8,3,9)\n",
        "\n",
        "# Quiero retornar \"A\" si el valor es mayor a 5 y \"B\" si es menor o igual a 5.\n",
        "\n",
        "ifelse(v2 > 5, \"A\", \"B\")"
      ],
      "metadata": {
        "id": "zeZ4JTSKaoUj",
        "outputId": "fd223334-9aa6-49f3-d022-24cefc339e37",
        "colab": {
          "base_uri": "https://localhost:8080/",
          "height": 34
        }
      },
      "execution_count": null,
      "outputs": [
        {
          "output_type": "display_data",
          "data": {
            "text/html": [
              "<style>\n",
              ".list-inline {list-style: none; margin:0; padding: 0}\n",
              ".list-inline>li {display: inline-block}\n",
              ".list-inline>li:not(:last-child)::after {content: \"\\00b7\"; padding: 0 .5ex}\n",
              "</style>\n",
              "<ol class=list-inline><li>'A'</li><li>'B'</li><li>'A'</li><li>'B'</li><li>'A'</li></ol>\n"
            ],
            "text/markdown": "1. 'A'\n2. 'B'\n3. 'A'\n4. 'B'\n5. 'A'\n\n\n",
            "text/latex": "\\begin{enumerate*}\n\\item 'A'\n\\item 'B'\n\\item 'A'\n\\item 'B'\n\\item 'A'\n\\end{enumerate*}\n",
            "text/plain": [
              "[1] \"A\" \"B\" \"A\" \"B\" \"A\""
            ]
          },
          "metadata": {}
        }
      ]
    },
    {
      "cell_type": "code",
      "source": [
        "vuelos %>%\n",
        "  mutate(day2 = ifelse( day <= 9, paste0(\"0\",day), day),\n",
        "         month2 = ifelse( month <= 9, paste0(\"0\",month), month),\n",
        "         no_fecha = paste(year, month2, day2, sep = \"-\"),\n",
        "         fecha = as.Date(no_fecha)) %>%\n",
        "  filter(fecha >= \"2013-09-01\" & fecha <= \"2013-09-15\") # Esto nos facilita la búsqueda por fechas."
      ],
      "metadata": {
        "id": "3p-nmvQ6ZrbE",
        "outputId": "c60a695f-c066-4d77-8192-38502aafc75b",
        "colab": {
          "base_uri": "https://localhost:8080/",
          "height": 1000
        }
      },
      "execution_count": null,
      "outputs": [
        {
          "output_type": "display_data",
          "data": {
            "text/html": [
              "<table class=\"dataframe\">\n",
              "<caption>A data.frame: 13556 × 24</caption>\n",
              "<thead>\n",
              "\t<tr><th scope=col>year</th><th scope=col>month</th><th scope=col>day</th><th scope=col>dep_time</th><th scope=col>sched_dep_time</th><th scope=col>dep_delay</th><th scope=col>arr_time</th><th scope=col>sched_arr_time</th><th scope=col>arr_delay</th><th scope=col>carrier</th><th scope=col>⋯</th><th scope=col>air_time</th><th scope=col>distance</th><th scope=col>hour</th><th scope=col>minute</th><th scope=col>time_hour</th><th scope=col>retraso_neto</th><th scope=col>day2</th><th scope=col>month2</th><th scope=col>no_fecha</th><th scope=col>fecha</th></tr>\n",
              "\t<tr><th scope=col>&lt;int&gt;</th><th scope=col>&lt;int&gt;</th><th scope=col>&lt;int&gt;</th><th scope=col>&lt;int&gt;</th><th scope=col>&lt;int&gt;</th><th scope=col>&lt;int&gt;</th><th scope=col>&lt;int&gt;</th><th scope=col>&lt;int&gt;</th><th scope=col>&lt;int&gt;</th><th scope=col>&lt;chr&gt;</th><th scope=col>⋯</th><th scope=col>&lt;int&gt;</th><th scope=col>&lt;int&gt;</th><th scope=col>&lt;int&gt;</th><th scope=col>&lt;int&gt;</th><th scope=col>&lt;chr&gt;</th><th scope=col>&lt;int&gt;</th><th scope=col>&lt;chr&gt;</th><th scope=col>&lt;chr&gt;</th><th scope=col>&lt;chr&gt;</th><th scope=col>&lt;date&gt;</th></tr>\n",
              "</thead>\n",
              "<tbody>\n",
              "\t<tr><td>2013</td><td>9</td><td>1</td><td>  9</td><td>2359</td><td> 10</td><td>343</td><td> 340</td><td>  3</td><td>B6</td><td>⋯</td><td>196</td><td>1576</td><td>23</td><td>59</td><td>2013-09-01 23:00:00</td><td> 13</td><td>01</td><td>09</td><td>2013-09-01</td><td>2013-09-01</td></tr>\n",
              "\t<tr><td>2013</td><td>9</td><td>1</td><td>117</td><td>2245</td><td>152</td><td>218</td><td>2359</td><td>139</td><td>B6</td><td>⋯</td><td> 44</td><td> 209</td><td>22</td><td>45</td><td>2013-09-01 22:00:00</td><td>291</td><td>01</td><td>09</td><td>2013-09-01</td><td>2013-09-01</td></tr>\n",
              "\t<tr><td>2013</td><td>9</td><td>1</td><td>508</td><td> 516</td><td> -8</td><td>717</td><td> 800</td><td>-43</td><td>UA</td><td>⋯</td><td>170</td><td>1400</td><td> 5</td><td>16</td><td>2013-09-01 05:00:00</td><td>-51</td><td>01</td><td>09</td><td>2013-09-01</td><td>2013-09-01</td></tr>\n",
              "\t<tr><td>2013</td><td>9</td><td>1</td><td>537</td><td> 545</td><td> -8</td><td>849</td><td> 855</td><td> -6</td><td>AA</td><td>⋯</td><td>148</td><td>1089</td><td> 5</td><td>45</td><td>2013-09-01 05:00:00</td><td>-14</td><td>01</td><td>09</td><td>2013-09-01</td><td>2013-09-01</td></tr>\n",
              "\t<tr><td>2013</td><td>9</td><td>1</td><td>537</td><td> 545</td><td> -8</td><td>906</td><td> 921</td><td>-15</td><td>B6</td><td>⋯</td><td>191</td><td>1576</td><td> 5</td><td>45</td><td>2013-09-01 05:00:00</td><td>-23</td><td>01</td><td>09</td><td>2013-09-01</td><td>2013-09-01</td></tr>\n",
              "\t<tr><td>2013</td><td>9</td><td>1</td><td>549</td><td> 600</td><td>-11</td><td>815</td><td> 850</td><td>-35</td><td>UA</td><td>⋯</td><td>133</td><td> 997</td><td> 6</td><td> 0</td><td>2013-09-01 06:00:00</td><td>-46</td><td>01</td><td>09</td><td>2013-09-01</td><td>2013-09-01</td></tr>\n",
              "\t<tr><td>2013</td><td>9</td><td>1</td><td>552</td><td> 600</td><td> -8</td><td>843</td><td> 905</td><td>-22</td><td>AA</td><td>⋯</td><td>149</td><td>1096</td><td> 6</td><td> 0</td><td>2013-09-01 06:00:00</td><td>-30</td><td>01</td><td>09</td><td>2013-09-01</td><td>2013-09-01</td></tr>\n",
              "\t<tr><td>2013</td><td>9</td><td>1</td><td>553</td><td> 600</td><td> -7</td><td>809</td><td> 834</td><td>-25</td><td>B6</td><td>⋯</td><td>117</td><td> 937</td><td> 6</td><td> 0</td><td>2013-09-01 06:00:00</td><td>-32</td><td>01</td><td>09</td><td>2013-09-01</td><td>2013-09-01</td></tr>\n",
              "\t<tr><td>2013</td><td>9</td><td>1</td><td>554</td><td> 600</td><td> -6</td><td>700</td><td> 716</td><td>-16</td><td>EV</td><td>⋯</td><td> 39</td><td> 229</td><td> 6</td><td> 0</td><td>2013-09-01 06:00:00</td><td>-22</td><td>01</td><td>09</td><td>2013-09-01</td><td>2013-09-01</td></tr>\n",
              "\t<tr><td>2013</td><td>9</td><td>1</td><td>554</td><td> 600</td><td> -6</td><td>803</td><td> 823</td><td>-20</td><td>DL</td><td>⋯</td><td>105</td><td> 762</td><td> 6</td><td> 0</td><td>2013-09-01 06:00:00</td><td>-26</td><td>01</td><td>09</td><td>2013-09-01</td><td>2013-09-01</td></tr>\n",
              "\t<tr><td>2013</td><td>9</td><td>1</td><td>554</td><td> 600</td><td> -6</td><td>657</td><td> 715</td><td>-18</td><td>MQ</td><td>⋯</td><td>104</td><td> 719</td><td> 6</td><td> 0</td><td>2013-09-01 06:00:00</td><td>-24</td><td>01</td><td>09</td><td>2013-09-01</td><td>2013-09-01</td></tr>\n",
              "\t<tr><td>2013</td><td>9</td><td>1</td><td>555</td><td> 600</td><td> -5</td><td>835</td><td> 851</td><td>-16</td><td>B6</td><td>⋯</td><td>139</td><td>1076</td><td> 6</td><td> 0</td><td>2013-09-01 06:00:00</td><td>-21</td><td>01</td><td>09</td><td>2013-09-01</td><td>2013-09-01</td></tr>\n",
              "\t<tr><td>2013</td><td>9</td><td>1</td><td>557</td><td> 600</td><td> -3</td><td>706</td><td> 716</td><td>-10</td><td>EV</td><td>⋯</td><td> 43</td><td> 228</td><td> 6</td><td> 0</td><td>2013-09-01 06:00:00</td><td>-13</td><td>01</td><td>09</td><td>2013-09-01</td><td>2013-09-01</td></tr>\n",
              "\t<tr><td>2013</td><td>9</td><td>1</td><td>557</td><td> 600</td><td> -3</td><td>718</td><td> 740</td><td>-22</td><td>WN</td><td>⋯</td><td>125</td><td> 888</td><td> 6</td><td> 0</td><td>2013-09-01 06:00:00</td><td>-25</td><td>01</td><td>09</td><td>2013-09-01</td><td>2013-09-01</td></tr>\n",
              "\t<tr><td>2013</td><td>9</td><td>1</td><td>600</td><td> 600</td><td>  0</td><td>803</td><td> 815</td><td>-12</td><td>FL</td><td>⋯</td><td>105</td><td> 762</td><td> 6</td><td> 0</td><td>2013-09-01 06:00:00</td><td>-12</td><td>01</td><td>09</td><td>2013-09-01</td><td>2013-09-01</td></tr>\n",
              "\t<tr><td>2013</td><td>9</td><td>1</td><td>600</td><td> 610</td><td>-10</td><td>824</td><td> 855</td><td>-31</td><td>AA</td><td>⋯</td><td>185</td><td>1389</td><td> 6</td><td>10</td><td>2013-09-01 06:00:00</td><td>-41</td><td>01</td><td>09</td><td>2013-09-01</td><td>2013-09-01</td></tr>\n",
              "\t<tr><td>2013</td><td>9</td><td>1</td><td>600</td><td> 600</td><td>  0</td><td>740</td><td> 752</td><td>-12</td><td>DL</td><td>⋯</td><td> 79</td><td> 502</td><td> 6</td><td> 0</td><td>2013-09-01 06:00:00</td><td>-12</td><td>01</td><td>09</td><td>2013-09-01</td><td>2013-09-01</td></tr>\n",
              "\t<tr><td>2013</td><td>9</td><td>1</td><td>602</td><td> 605</td><td> -3</td><td>853</td><td> 855</td><td> -2</td><td>B6</td><td>⋯</td><td>141</td><td>1069</td><td> 6</td><td> 5</td><td>2013-09-01 06:00:00</td><td> -5</td><td>01</td><td>09</td><td>2013-09-01</td><td>2013-09-01</td></tr>\n",
              "\t<tr><td>2013</td><td>9</td><td>1</td><td>604</td><td> 605</td><td> -1</td><td>823</td><td> 839</td><td>-16</td><td>B6</td><td>⋯</td><td>121</td><td> 944</td><td> 6</td><td> 5</td><td>2013-09-01 06:00:00</td><td>-17</td><td>01</td><td>09</td><td>2013-09-01</td><td>2013-09-01</td></tr>\n",
              "\t<tr><td>2013</td><td>9</td><td>1</td><td>605</td><td> 610</td><td> -5</td><td>747</td><td> 806</td><td>-19</td><td>DL</td><td>⋯</td><td>142</td><td>1020</td><td> 6</td><td>10</td><td>2013-09-01 06:00:00</td><td>-24</td><td>01</td><td>09</td><td>2013-09-01</td><td>2013-09-01</td></tr>\n",
              "\t<tr><td>2013</td><td>9</td><td>1</td><td>614</td><td> 611</td><td>  3</td><td>951</td><td> 954</td><td> -3</td><td>B6</td><td>⋯</td><td>197</td><td>1598</td><td> 6</td><td>11</td><td>2013-09-01 06:00:00</td><td>  0</td><td>01</td><td>09</td><td>2013-09-01</td><td>2013-09-01</td></tr>\n",
              "\t<tr><td>2013</td><td>9</td><td>1</td><td>617</td><td> 620</td><td> -3</td><td>829</td><td> 840</td><td>-11</td><td>DL</td><td>⋯</td><td>105</td><td> 760</td><td> 6</td><td>20</td><td>2013-09-01 06:00:00</td><td>-14</td><td>01</td><td>09</td><td>2013-09-01</td><td>2013-09-01</td></tr>\n",
              "\t<tr><td>2013</td><td>9</td><td>1</td><td>619</td><td> 623</td><td> -4</td><td>713</td><td> 737</td><td>-24</td><td>EV</td><td>⋯</td><td> 39</td><td> 212</td><td> 6</td><td>23</td><td>2013-09-01 06:00:00</td><td>-28</td><td>01</td><td>09</td><td>2013-09-01</td><td>2013-09-01</td></tr>\n",
              "\t<tr><td>2013</td><td>9</td><td>1</td><td>619</td><td> 629</td><td>-10</td><td>900</td><td> 929</td><td>-29</td><td>AA</td><td>⋯</td><td>140</td><td>1085</td><td> 6</td><td>29</td><td>2013-09-01 06:00:00</td><td>-39</td><td>01</td><td>09</td><td>2013-09-01</td><td>2013-09-01</td></tr>\n",
              "\t<tr><td>2013</td><td>9</td><td>1</td><td>621</td><td> 630</td><td> -9</td><td>903</td><td> 924</td><td>-21</td><td>B6</td><td>⋯</td><td>146</td><td>1074</td><td> 6</td><td>30</td><td>2013-09-01 06:00:00</td><td>-30</td><td>01</td><td>09</td><td>2013-09-01</td><td>2013-09-01</td></tr>\n",
              "\t<tr><td>2013</td><td>9</td><td>1</td><td>622</td><td> 630</td><td> -8</td><td>732</td><td> 805</td><td>-33</td><td>AA</td><td>⋯</td><td>104</td><td> 733</td><td> 6</td><td>30</td><td>2013-09-01 06:00:00</td><td>-41</td><td>01</td><td>09</td><td>2013-09-01</td><td>2013-09-01</td></tr>\n",
              "\t<tr><td>2013</td><td>9</td><td>1</td><td>625</td><td> 629</td><td> -4</td><td>751</td><td> 804</td><td>-13</td><td>EV</td><td>⋯</td><td> 61</td><td> 404</td><td> 6</td><td>29</td><td>2013-09-01 06:00:00</td><td>-17</td><td>01</td><td>09</td><td>2013-09-01</td><td>2013-09-01</td></tr>\n",
              "\t<tr><td>2013</td><td>9</td><td>1</td><td>625</td><td> 629</td><td> -4</td><td>944</td><td> 951</td><td> -7</td><td>UA</td><td>⋯</td><td>358</td><td>2565</td><td> 6</td><td>29</td><td>2013-09-01 06:00:00</td><td>-11</td><td>01</td><td>09</td><td>2013-09-01</td><td>2013-09-01</td></tr>\n",
              "\t<tr><td>2013</td><td>9</td><td>1</td><td>626</td><td> 630</td><td> -4</td><td>842</td><td> 904</td><td>-22</td><td>B6</td><td>⋯</td><td>120</td><td> 950</td><td> 6</td><td>30</td><td>2013-09-01 06:00:00</td><td>-26</td><td>01</td><td>09</td><td>2013-09-01</td><td>2013-09-01</td></tr>\n",
              "\t<tr><td>2013</td><td>9</td><td>1</td><td>627</td><td> 630</td><td> -3</td><td>733</td><td> 747</td><td>-14</td><td>B6</td><td>⋯</td><td> 54</td><td> 301</td><td> 6</td><td>30</td><td>2013-09-01 06:00:00</td><td>-17</td><td>01</td><td>09</td><td>2013-09-01</td><td>2013-09-01</td></tr>\n",
              "\t<tr><td>⋮</td><td>⋮</td><td>⋮</td><td>⋮</td><td>⋮</td><td>⋮</td><td>⋮</td><td>⋮</td><td>⋮</td><td>⋮</td><td>⋱</td><td>⋮</td><td>⋮</td><td>⋮</td><td>⋮</td><td>⋮</td><td>⋮</td><td>⋮</td><td>⋮</td><td>⋮</td><td>⋮</td></tr>\n",
              "\t<tr><td>2013</td><td>9</td><td>15</td><td>2131</td><td>2140</td><td>-9</td><td>2243</td><td>2255</td><td>-12</td><td>MQ</td><td>⋯</td><td> 47</td><td> 213</td><td>21</td><td>40</td><td>2013-09-15 21:00:00</td><td>-21</td><td>15</td><td>09</td><td>2013-09-15</td><td>2013-09-15</td></tr>\n",
              "\t<tr><td>2013</td><td>9</td><td>15</td><td>2133</td><td>2120</td><td>13</td><td>2344</td><td>2354</td><td>-10</td><td>B6</td><td>⋯</td><td>110</td><td> 828</td><td>21</td><td>20</td><td>2013-09-15 21:00:00</td><td>  3</td><td>15</td><td>09</td><td>2013-09-15</td><td>2013-09-15</td></tr>\n",
              "\t<tr><td>2013</td><td>9</td><td>15</td><td>2135</td><td>2110</td><td>25</td><td>2302</td><td>2302</td><td>  0</td><td>EV</td><td>⋯</td><td> 68</td><td> 500</td><td>21</td><td>10</td><td>2013-09-15 21:00:00</td><td> 25</td><td>15</td><td>09</td><td>2013-09-15</td><td>2013-09-15</td></tr>\n",
              "\t<tr><td>2013</td><td>9</td><td>15</td><td>2137</td><td>2140</td><td>-3</td><td>  21</td><td>  40</td><td>-19</td><td>AA</td><td>⋯</td><td>320</td><td>2475</td><td>21</td><td>40</td><td>2013-09-15 21:00:00</td><td>-22</td><td>15</td><td>09</td><td>2013-09-15</td><td>2013-09-15</td></tr>\n",
              "\t<tr><td>2013</td><td>9</td><td>15</td><td>2142</td><td>2122</td><td>20</td><td>2325</td><td>2320</td><td>  5</td><td>EV</td><td>⋯</td><td> 84</td><td> 488</td><td>21</td><td>22</td><td>2013-09-15 21:00:00</td><td> 25</td><td>15</td><td>09</td><td>2013-09-15</td><td>2013-09-15</td></tr>\n",
              "\t<tr><td>2013</td><td>9</td><td>15</td><td>2142</td><td>2129</td><td>13</td><td>2246</td><td>2236</td><td> 10</td><td>EV</td><td>⋯</td><td> 48</td><td> 284</td><td>21</td><td>29</td><td>2013-09-15 21:00:00</td><td> 23</td><td>15</td><td>09</td><td>2013-09-15</td><td>2013-09-15</td></tr>\n",
              "\t<tr><td>2013</td><td>9</td><td>15</td><td>2144</td><td>2145</td><td>-1</td><td> 122</td><td> 140</td><td>-18</td><td>B6</td><td>⋯</td><td>198</td><td>1598</td><td>21</td><td>45</td><td>2013-09-15 21:00:00</td><td>-19</td><td>15</td><td>09</td><td>2013-09-15</td><td>2013-09-15</td></tr>\n",
              "\t<tr><td>2013</td><td>9</td><td>15</td><td>2144</td><td>2137</td><td> 7</td><td>  26</td><td>  27</td><td> -1</td><td>B6</td><td>⋯</td><td>144</td><td>1076</td><td>21</td><td>37</td><td>2013-09-15 21:00:00</td><td>  6</td><td>15</td><td>09</td><td>2013-09-15</td><td>2013-09-15</td></tr>\n",
              "\t<tr><td>2013</td><td>9</td><td>15</td><td>2153</td><td>2029</td><td>84</td><td>2347</td><td>2225</td><td> 82</td><td>EV</td><td>⋯</td><td> 88</td><td> 533</td><td>20</td><td>29</td><td>2013-09-15 20:00:00</td><td>166</td><td>15</td><td>09</td><td>2013-09-15</td><td>2013-09-15</td></tr>\n",
              "\t<tr><td>2013</td><td>9</td><td>15</td><td>2154</td><td>2159</td><td>-5</td><td>2240</td><td>2303</td><td>-23</td><td>EV</td><td>⋯</td><td> 28</td><td> 143</td><td>21</td><td>59</td><td>2013-09-15 21:00:00</td><td>-28</td><td>15</td><td>09</td><td>2013-09-15</td><td>2013-09-15</td></tr>\n",
              "\t<tr><td>2013</td><td>9</td><td>15</td><td>2155</td><td>2149</td><td> 6</td><td>2300</td><td>2256</td><td>  4</td><td>EV</td><td>⋯</td><td> 36</td><td> 209</td><td>21</td><td>49</td><td>2013-09-15 21:00:00</td><td> 10</td><td>15</td><td>09</td><td>2013-09-15</td><td>2013-09-15</td></tr>\n",
              "\t<tr><td>2013</td><td>9</td><td>15</td><td>2158</td><td>2205</td><td>-7</td><td>2314</td><td>2331</td><td>-17</td><td>EV</td><td>⋯</td><td> 52</td><td> 378</td><td>22</td><td> 5</td><td>2013-09-15 22:00:00</td><td>-24</td><td>15</td><td>09</td><td>2013-09-15</td><td>2013-09-15</td></tr>\n",
              "\t<tr><td>2013</td><td>9</td><td>15</td><td>2206</td><td>2200</td><td> 6</td><td>2302</td><td>2312</td><td>-10</td><td>9E</td><td>⋯</td><td> 36</td><td> 198</td><td>22</td><td> 0</td><td>2013-09-15 22:00:00</td><td> -4</td><td>15</td><td>09</td><td>2013-09-15</td><td>2013-09-15</td></tr>\n",
              "\t<tr><td>2013</td><td>9</td><td>15</td><td>2210</td><td>2152</td><td>18</td><td>2314</td><td>2304</td><td> 10</td><td>UA</td><td>⋯</td><td> 45</td><td> 200</td><td>21</td><td>52</td><td>2013-09-15 21:00:00</td><td> 28</td><td>15</td><td>09</td><td>2013-09-15</td><td>2013-09-15</td></tr>\n",
              "\t<tr><td>2013</td><td>9</td><td>15</td><td>2237</td><td>2122</td><td>75</td><td>  52</td><td>2353</td><td> 59</td><td>EV</td><td>⋯</td><td>110</td><td> 820</td><td>21</td><td>22</td><td>2013-09-15 21:00:00</td><td>134</td><td>15</td><td>09</td><td>2013-09-15</td><td>2013-09-15</td></tr>\n",
              "\t<tr><td>2013</td><td>9</td><td>15</td><td>2243</td><td>2245</td><td>-2</td><td>2341</td><td>2356</td><td>-15</td><td>B6</td><td>⋯</td><td> 44</td><td> 273</td><td>22</td><td>45</td><td>2013-09-15 22:00:00</td><td>-17</td><td>15</td><td>09</td><td>2013-09-15</td><td>2013-09-15</td></tr>\n",
              "\t<tr><td>2013</td><td>9</td><td>15</td><td>2243</td><td>2245</td><td>-2</td><td>2344</td><td>2353</td><td> -9</td><td>B6</td><td>⋯</td><td> 43</td><td> 266</td><td>22</td><td>45</td><td>2013-09-15 22:00:00</td><td>-11</td><td>15</td><td>09</td><td>2013-09-15</td><td>2013-09-15</td></tr>\n",
              "\t<tr><td>2013</td><td>9</td><td>15</td><td>2244</td><td>2129</td><td>75</td><td>2355</td><td>2239</td><td> 76</td><td>EV</td><td>⋯</td><td> 40</td><td> 199</td><td>21</td><td>29</td><td>2013-09-15 21:00:00</td><td>151</td><td>15</td><td>09</td><td>2013-09-15</td><td>2013-09-15</td></tr>\n",
              "\t<tr><td>2013</td><td>9</td><td>15</td><td>2247</td><td>2246</td><td> 1</td><td>   1</td><td>   1</td><td>  0</td><td>B6</td><td>⋯</td><td> 49</td><td> 264</td><td>22</td><td>46</td><td>2013-09-15 22:00:00</td><td>  1</td><td>15</td><td>09</td><td>2013-09-15</td><td>2013-09-15</td></tr>\n",
              "\t<tr><td>2013</td><td>9</td><td>15</td><td>2247</td><td>2245</td><td> 2</td><td>2346</td><td>2351</td><td> -5</td><td>B6</td><td>⋯</td><td> 42</td><td> 209</td><td>22</td><td>45</td><td>2013-09-15 22:00:00</td><td> -3</td><td>15</td><td>09</td><td>2013-09-15</td><td>2013-09-15</td></tr>\n",
              "\t<tr><td>2013</td><td>9</td><td>15</td><td>2249</td><td>2255</td><td>-6</td><td>2353</td><td>2358</td><td> -5</td><td>B6</td><td>⋯</td><td> 34</td><td> 187</td><td>22</td><td>55</td><td>2013-09-15 22:00:00</td><td>-11</td><td>15</td><td>09</td><td>2013-09-15</td><td>2013-09-15</td></tr>\n",
              "\t<tr><td>2013</td><td>9</td><td>15</td><td>2351</td><td>2359</td><td>-8</td><td> 332</td><td> 350</td><td>-18</td><td>B6</td><td>⋯</td><td>200</td><td>1617</td><td>23</td><td>59</td><td>2013-09-15 23:00:00</td><td>-26</td><td>15</td><td>09</td><td>2013-09-15</td><td>2013-09-15</td></tr>\n",
              "\t<tr><td>2013</td><td>9</td><td>15</td><td>  NA</td><td>1930</td><td>NA</td><td>  NA</td><td>2049</td><td> NA</td><td>EV</td><td>⋯</td><td> NA</td><td> 229</td><td>19</td><td>30</td><td>2013-09-15 19:00:00</td><td> NA</td><td>15</td><td>09</td><td>2013-09-15</td><td>2013-09-15</td></tr>\n",
              "\t<tr><td>2013</td><td>9</td><td>15</td><td>  NA</td><td> 815</td><td>NA</td><td>  NA</td><td> 948</td><td> NA</td><td>9E</td><td>⋯</td><td> NA</td><td> 301</td><td> 8</td><td>15</td><td>2013-09-15 08:00:00</td><td> NA</td><td>15</td><td>09</td><td>2013-09-15</td><td>2013-09-15</td></tr>\n",
              "\t<tr><td>2013</td><td>9</td><td>15</td><td>  NA</td><td>1550</td><td>NA</td><td>  NA</td><td>1818</td><td> NA</td><td>9E</td><td>⋯</td><td> NA</td><td>1107</td><td>15</td><td>50</td><td>2013-09-15 15:00:00</td><td> NA</td><td>15</td><td>09</td><td>2013-09-15</td><td>2013-09-15</td></tr>\n",
              "\t<tr><td>2013</td><td>9</td><td>15</td><td>  NA</td><td> 835</td><td>NA</td><td>  NA</td><td>1001</td><td> NA</td><td>9E</td><td>⋯</td><td> NA</td><td> 213</td><td> 8</td><td>35</td><td>2013-09-15 08:00:00</td><td> NA</td><td>15</td><td>09</td><td>2013-09-15</td><td>2013-09-15</td></tr>\n",
              "\t<tr><td>2013</td><td>9</td><td>15</td><td>  NA</td><td>1600</td><td>NA</td><td>  NA</td><td>1757</td><td> NA</td><td>9E</td><td>⋯</td><td> NA</td><td> 740</td><td>16</td><td> 0</td><td>2013-09-15 16:00:00</td><td> NA</td><td>15</td><td>09</td><td>2013-09-15</td><td>2013-09-15</td></tr>\n",
              "\t<tr><td>2013</td><td>9</td><td>15</td><td>  NA</td><td>1600</td><td>NA</td><td>  NA</td><td>1715</td><td> NA</td><td>US</td><td>⋯</td><td> NA</td><td> 184</td><td>16</td><td> 0</td><td>2013-09-15 16:00:00</td><td> NA</td><td>15</td><td>09</td><td>2013-09-15</td><td>2013-09-15</td></tr>\n",
              "\t<tr><td>2013</td><td>9</td><td>15</td><td>  NA</td><td>1159</td><td>NA</td><td>  NA</td><td>1309</td><td> NA</td><td>MQ</td><td>⋯</td><td> NA</td><td> 213</td><td>11</td><td>59</td><td>2013-09-15 11:00:00</td><td> NA</td><td>15</td><td>09</td><td>2013-09-15</td><td>2013-09-15</td></tr>\n",
              "\t<tr><td>2013</td><td>9</td><td>15</td><td>  NA</td><td>1205</td><td>NA</td><td>  NA</td><td>1350</td><td> NA</td><td>MQ</td><td>⋯</td><td> NA</td><td> 431</td><td>12</td><td> 5</td><td>2013-09-15 12:00:00</td><td> NA</td><td>15</td><td>09</td><td>2013-09-15</td><td>2013-09-15</td></tr>\n",
              "</tbody>\n",
              "</table>\n"
            ],
            "text/markdown": "\nA data.frame: 13556 × 24\n\n| year &lt;int&gt; | month &lt;int&gt; | day &lt;int&gt; | dep_time &lt;int&gt; | sched_dep_time &lt;int&gt; | dep_delay &lt;int&gt; | arr_time &lt;int&gt; | sched_arr_time &lt;int&gt; | arr_delay &lt;int&gt; | carrier &lt;chr&gt; | ⋯ ⋯ | air_time &lt;int&gt; | distance &lt;int&gt; | hour &lt;int&gt; | minute &lt;int&gt; | time_hour &lt;chr&gt; | retraso_neto &lt;int&gt; | day2 &lt;chr&gt; | month2 &lt;chr&gt; | no_fecha &lt;chr&gt; | fecha &lt;date&gt; |\n|---|---|---|---|---|---|---|---|---|---|---|---|---|---|---|---|---|---|---|---|---|\n| 2013 | 9 | 1 |   9 | 2359 |  10 | 343 |  340 |   3 | B6 | ⋯ | 196 | 1576 | 23 | 59 | 2013-09-01 23:00:00 |  13 | 01 | 09 | 2013-09-01 | 2013-09-01 |\n| 2013 | 9 | 1 | 117 | 2245 | 152 | 218 | 2359 | 139 | B6 | ⋯ |  44 |  209 | 22 | 45 | 2013-09-01 22:00:00 | 291 | 01 | 09 | 2013-09-01 | 2013-09-01 |\n| 2013 | 9 | 1 | 508 |  516 |  -8 | 717 |  800 | -43 | UA | ⋯ | 170 | 1400 |  5 | 16 | 2013-09-01 05:00:00 | -51 | 01 | 09 | 2013-09-01 | 2013-09-01 |\n| 2013 | 9 | 1 | 537 |  545 |  -8 | 849 |  855 |  -6 | AA | ⋯ | 148 | 1089 |  5 | 45 | 2013-09-01 05:00:00 | -14 | 01 | 09 | 2013-09-01 | 2013-09-01 |\n| 2013 | 9 | 1 | 537 |  545 |  -8 | 906 |  921 | -15 | B6 | ⋯ | 191 | 1576 |  5 | 45 | 2013-09-01 05:00:00 | -23 | 01 | 09 | 2013-09-01 | 2013-09-01 |\n| 2013 | 9 | 1 | 549 |  600 | -11 | 815 |  850 | -35 | UA | ⋯ | 133 |  997 |  6 |  0 | 2013-09-01 06:00:00 | -46 | 01 | 09 | 2013-09-01 | 2013-09-01 |\n| 2013 | 9 | 1 | 552 |  600 |  -8 | 843 |  905 | -22 | AA | ⋯ | 149 | 1096 |  6 |  0 | 2013-09-01 06:00:00 | -30 | 01 | 09 | 2013-09-01 | 2013-09-01 |\n| 2013 | 9 | 1 | 553 |  600 |  -7 | 809 |  834 | -25 | B6 | ⋯ | 117 |  937 |  6 |  0 | 2013-09-01 06:00:00 | -32 | 01 | 09 | 2013-09-01 | 2013-09-01 |\n| 2013 | 9 | 1 | 554 |  600 |  -6 | 700 |  716 | -16 | EV | ⋯ |  39 |  229 |  6 |  0 | 2013-09-01 06:00:00 | -22 | 01 | 09 | 2013-09-01 | 2013-09-01 |\n| 2013 | 9 | 1 | 554 |  600 |  -6 | 803 |  823 | -20 | DL | ⋯ | 105 |  762 |  6 |  0 | 2013-09-01 06:00:00 | -26 | 01 | 09 | 2013-09-01 | 2013-09-01 |\n| 2013 | 9 | 1 | 554 |  600 |  -6 | 657 |  715 | -18 | MQ | ⋯ | 104 |  719 |  6 |  0 | 2013-09-01 06:00:00 | -24 | 01 | 09 | 2013-09-01 | 2013-09-01 |\n| 2013 | 9 | 1 | 555 |  600 |  -5 | 835 |  851 | -16 | B6 | ⋯ | 139 | 1076 |  6 |  0 | 2013-09-01 06:00:00 | -21 | 01 | 09 | 2013-09-01 | 2013-09-01 |\n| 2013 | 9 | 1 | 557 |  600 |  -3 | 706 |  716 | -10 | EV | ⋯ |  43 |  228 |  6 |  0 | 2013-09-01 06:00:00 | -13 | 01 | 09 | 2013-09-01 | 2013-09-01 |\n| 2013 | 9 | 1 | 557 |  600 |  -3 | 718 |  740 | -22 | WN | ⋯ | 125 |  888 |  6 |  0 | 2013-09-01 06:00:00 | -25 | 01 | 09 | 2013-09-01 | 2013-09-01 |\n| 2013 | 9 | 1 | 600 |  600 |   0 | 803 |  815 | -12 | FL | ⋯ | 105 |  762 |  6 |  0 | 2013-09-01 06:00:00 | -12 | 01 | 09 | 2013-09-01 | 2013-09-01 |\n| 2013 | 9 | 1 | 600 |  610 | -10 | 824 |  855 | -31 | AA | ⋯ | 185 | 1389 |  6 | 10 | 2013-09-01 06:00:00 | -41 | 01 | 09 | 2013-09-01 | 2013-09-01 |\n| 2013 | 9 | 1 | 600 |  600 |   0 | 740 |  752 | -12 | DL | ⋯ |  79 |  502 |  6 |  0 | 2013-09-01 06:00:00 | -12 | 01 | 09 | 2013-09-01 | 2013-09-01 |\n| 2013 | 9 | 1 | 602 |  605 |  -3 | 853 |  855 |  -2 | B6 | ⋯ | 141 | 1069 |  6 |  5 | 2013-09-01 06:00:00 |  -5 | 01 | 09 | 2013-09-01 | 2013-09-01 |\n| 2013 | 9 | 1 | 604 |  605 |  -1 | 823 |  839 | -16 | B6 | ⋯ | 121 |  944 |  6 |  5 | 2013-09-01 06:00:00 | -17 | 01 | 09 | 2013-09-01 | 2013-09-01 |\n| 2013 | 9 | 1 | 605 |  610 |  -5 | 747 |  806 | -19 | DL | ⋯ | 142 | 1020 |  6 | 10 | 2013-09-01 06:00:00 | -24 | 01 | 09 | 2013-09-01 | 2013-09-01 |\n| 2013 | 9 | 1 | 614 |  611 |   3 | 951 |  954 |  -3 | B6 | ⋯ | 197 | 1598 |  6 | 11 | 2013-09-01 06:00:00 |   0 | 01 | 09 | 2013-09-01 | 2013-09-01 |\n| 2013 | 9 | 1 | 617 |  620 |  -3 | 829 |  840 | -11 | DL | ⋯ | 105 |  760 |  6 | 20 | 2013-09-01 06:00:00 | -14 | 01 | 09 | 2013-09-01 | 2013-09-01 |\n| 2013 | 9 | 1 | 619 |  623 |  -4 | 713 |  737 | -24 | EV | ⋯ |  39 |  212 |  6 | 23 | 2013-09-01 06:00:00 | -28 | 01 | 09 | 2013-09-01 | 2013-09-01 |\n| 2013 | 9 | 1 | 619 |  629 | -10 | 900 |  929 | -29 | AA | ⋯ | 140 | 1085 |  6 | 29 | 2013-09-01 06:00:00 | -39 | 01 | 09 | 2013-09-01 | 2013-09-01 |\n| 2013 | 9 | 1 | 621 |  630 |  -9 | 903 |  924 | -21 | B6 | ⋯ | 146 | 1074 |  6 | 30 | 2013-09-01 06:00:00 | -30 | 01 | 09 | 2013-09-01 | 2013-09-01 |\n| 2013 | 9 | 1 | 622 |  630 |  -8 | 732 |  805 | -33 | AA | ⋯ | 104 |  733 |  6 | 30 | 2013-09-01 06:00:00 | -41 | 01 | 09 | 2013-09-01 | 2013-09-01 |\n| 2013 | 9 | 1 | 625 |  629 |  -4 | 751 |  804 | -13 | EV | ⋯ |  61 |  404 |  6 | 29 | 2013-09-01 06:00:00 | -17 | 01 | 09 | 2013-09-01 | 2013-09-01 |\n| 2013 | 9 | 1 | 625 |  629 |  -4 | 944 |  951 |  -7 | UA | ⋯ | 358 | 2565 |  6 | 29 | 2013-09-01 06:00:00 | -11 | 01 | 09 | 2013-09-01 | 2013-09-01 |\n| 2013 | 9 | 1 | 626 |  630 |  -4 | 842 |  904 | -22 | B6 | ⋯ | 120 |  950 |  6 | 30 | 2013-09-01 06:00:00 | -26 | 01 | 09 | 2013-09-01 | 2013-09-01 |\n| 2013 | 9 | 1 | 627 |  630 |  -3 | 733 |  747 | -14 | B6 | ⋯ |  54 |  301 |  6 | 30 | 2013-09-01 06:00:00 | -17 | 01 | 09 | 2013-09-01 | 2013-09-01 |\n| ⋮ | ⋮ | ⋮ | ⋮ | ⋮ | ⋮ | ⋮ | ⋮ | ⋮ | ⋮ | ⋱ | ⋮ | ⋮ | ⋮ | ⋮ | ⋮ | ⋮ | ⋮ | ⋮ | ⋮ | ⋮ |\n| 2013 | 9 | 15 | 2131 | 2140 | -9 | 2243 | 2255 | -12 | MQ | ⋯ |  47 |  213 | 21 | 40 | 2013-09-15 21:00:00 | -21 | 15 | 09 | 2013-09-15 | 2013-09-15 |\n| 2013 | 9 | 15 | 2133 | 2120 | 13 | 2344 | 2354 | -10 | B6 | ⋯ | 110 |  828 | 21 | 20 | 2013-09-15 21:00:00 |   3 | 15 | 09 | 2013-09-15 | 2013-09-15 |\n| 2013 | 9 | 15 | 2135 | 2110 | 25 | 2302 | 2302 |   0 | EV | ⋯ |  68 |  500 | 21 | 10 | 2013-09-15 21:00:00 |  25 | 15 | 09 | 2013-09-15 | 2013-09-15 |\n| 2013 | 9 | 15 | 2137 | 2140 | -3 |   21 |   40 | -19 | AA | ⋯ | 320 | 2475 | 21 | 40 | 2013-09-15 21:00:00 | -22 | 15 | 09 | 2013-09-15 | 2013-09-15 |\n| 2013 | 9 | 15 | 2142 | 2122 | 20 | 2325 | 2320 |   5 | EV | ⋯ |  84 |  488 | 21 | 22 | 2013-09-15 21:00:00 |  25 | 15 | 09 | 2013-09-15 | 2013-09-15 |\n| 2013 | 9 | 15 | 2142 | 2129 | 13 | 2246 | 2236 |  10 | EV | ⋯ |  48 |  284 | 21 | 29 | 2013-09-15 21:00:00 |  23 | 15 | 09 | 2013-09-15 | 2013-09-15 |\n| 2013 | 9 | 15 | 2144 | 2145 | -1 |  122 |  140 | -18 | B6 | ⋯ | 198 | 1598 | 21 | 45 | 2013-09-15 21:00:00 | -19 | 15 | 09 | 2013-09-15 | 2013-09-15 |\n| 2013 | 9 | 15 | 2144 | 2137 |  7 |   26 |   27 |  -1 | B6 | ⋯ | 144 | 1076 | 21 | 37 | 2013-09-15 21:00:00 |   6 | 15 | 09 | 2013-09-15 | 2013-09-15 |\n| 2013 | 9 | 15 | 2153 | 2029 | 84 | 2347 | 2225 |  82 | EV | ⋯ |  88 |  533 | 20 | 29 | 2013-09-15 20:00:00 | 166 | 15 | 09 | 2013-09-15 | 2013-09-15 |\n| 2013 | 9 | 15 | 2154 | 2159 | -5 | 2240 | 2303 | -23 | EV | ⋯ |  28 |  143 | 21 | 59 | 2013-09-15 21:00:00 | -28 | 15 | 09 | 2013-09-15 | 2013-09-15 |\n| 2013 | 9 | 15 | 2155 | 2149 |  6 | 2300 | 2256 |   4 | EV | ⋯ |  36 |  209 | 21 | 49 | 2013-09-15 21:00:00 |  10 | 15 | 09 | 2013-09-15 | 2013-09-15 |\n| 2013 | 9 | 15 | 2158 | 2205 | -7 | 2314 | 2331 | -17 | EV | ⋯ |  52 |  378 | 22 |  5 | 2013-09-15 22:00:00 | -24 | 15 | 09 | 2013-09-15 | 2013-09-15 |\n| 2013 | 9 | 15 | 2206 | 2200 |  6 | 2302 | 2312 | -10 | 9E | ⋯ |  36 |  198 | 22 |  0 | 2013-09-15 22:00:00 |  -4 | 15 | 09 | 2013-09-15 | 2013-09-15 |\n| 2013 | 9 | 15 | 2210 | 2152 | 18 | 2314 | 2304 |  10 | UA | ⋯ |  45 |  200 | 21 | 52 | 2013-09-15 21:00:00 |  28 | 15 | 09 | 2013-09-15 | 2013-09-15 |\n| 2013 | 9 | 15 | 2237 | 2122 | 75 |   52 | 2353 |  59 | EV | ⋯ | 110 |  820 | 21 | 22 | 2013-09-15 21:00:00 | 134 | 15 | 09 | 2013-09-15 | 2013-09-15 |\n| 2013 | 9 | 15 | 2243 | 2245 | -2 | 2341 | 2356 | -15 | B6 | ⋯ |  44 |  273 | 22 | 45 | 2013-09-15 22:00:00 | -17 | 15 | 09 | 2013-09-15 | 2013-09-15 |\n| 2013 | 9 | 15 | 2243 | 2245 | -2 | 2344 | 2353 |  -9 | B6 | ⋯ |  43 |  266 | 22 | 45 | 2013-09-15 22:00:00 | -11 | 15 | 09 | 2013-09-15 | 2013-09-15 |\n| 2013 | 9 | 15 | 2244 | 2129 | 75 | 2355 | 2239 |  76 | EV | ⋯ |  40 |  199 | 21 | 29 | 2013-09-15 21:00:00 | 151 | 15 | 09 | 2013-09-15 | 2013-09-15 |\n| 2013 | 9 | 15 | 2247 | 2246 |  1 |    1 |    1 |   0 | B6 | ⋯ |  49 |  264 | 22 | 46 | 2013-09-15 22:00:00 |   1 | 15 | 09 | 2013-09-15 | 2013-09-15 |\n| 2013 | 9 | 15 | 2247 | 2245 |  2 | 2346 | 2351 |  -5 | B6 | ⋯ |  42 |  209 | 22 | 45 | 2013-09-15 22:00:00 |  -3 | 15 | 09 | 2013-09-15 | 2013-09-15 |\n| 2013 | 9 | 15 | 2249 | 2255 | -6 | 2353 | 2358 |  -5 | B6 | ⋯ |  34 |  187 | 22 | 55 | 2013-09-15 22:00:00 | -11 | 15 | 09 | 2013-09-15 | 2013-09-15 |\n| 2013 | 9 | 15 | 2351 | 2359 | -8 |  332 |  350 | -18 | B6 | ⋯ | 200 | 1617 | 23 | 59 | 2013-09-15 23:00:00 | -26 | 15 | 09 | 2013-09-15 | 2013-09-15 |\n| 2013 | 9 | 15 |   NA | 1930 | NA |   NA | 2049 |  NA | EV | ⋯ |  NA |  229 | 19 | 30 | 2013-09-15 19:00:00 |  NA | 15 | 09 | 2013-09-15 | 2013-09-15 |\n| 2013 | 9 | 15 |   NA |  815 | NA |   NA |  948 |  NA | 9E | ⋯ |  NA |  301 |  8 | 15 | 2013-09-15 08:00:00 |  NA | 15 | 09 | 2013-09-15 | 2013-09-15 |\n| 2013 | 9 | 15 |   NA | 1550 | NA |   NA | 1818 |  NA | 9E | ⋯ |  NA | 1107 | 15 | 50 | 2013-09-15 15:00:00 |  NA | 15 | 09 | 2013-09-15 | 2013-09-15 |\n| 2013 | 9 | 15 |   NA |  835 | NA |   NA | 1001 |  NA | 9E | ⋯ |  NA |  213 |  8 | 35 | 2013-09-15 08:00:00 |  NA | 15 | 09 | 2013-09-15 | 2013-09-15 |\n| 2013 | 9 | 15 |   NA | 1600 | NA |   NA | 1757 |  NA | 9E | ⋯ |  NA |  740 | 16 |  0 | 2013-09-15 16:00:00 |  NA | 15 | 09 | 2013-09-15 | 2013-09-15 |\n| 2013 | 9 | 15 |   NA | 1600 | NA |   NA | 1715 |  NA | US | ⋯ |  NA |  184 | 16 |  0 | 2013-09-15 16:00:00 |  NA | 15 | 09 | 2013-09-15 | 2013-09-15 |\n| 2013 | 9 | 15 |   NA | 1159 | NA |   NA | 1309 |  NA | MQ | ⋯ |  NA |  213 | 11 | 59 | 2013-09-15 11:00:00 |  NA | 15 | 09 | 2013-09-15 | 2013-09-15 |\n| 2013 | 9 | 15 |   NA | 1205 | NA |   NA | 1350 |  NA | MQ | ⋯ |  NA |  431 | 12 |  5 | 2013-09-15 12:00:00 |  NA | 15 | 09 | 2013-09-15 | 2013-09-15 |\n\n",
            "text/latex": "A data.frame: 13556 × 24\n\\begin{tabular}{lllllllllllllllllllll}\n year & month & day & dep\\_time & sched\\_dep\\_time & dep\\_delay & arr\\_time & sched\\_arr\\_time & arr\\_delay & carrier & ⋯ & air\\_time & distance & hour & minute & time\\_hour & retraso\\_neto & day2 & month2 & no\\_fecha & fecha\\\\\n <int> & <int> & <int> & <int> & <int> & <int> & <int> & <int> & <int> & <chr> & ⋯ & <int> & <int> & <int> & <int> & <chr> & <int> & <chr> & <chr> & <chr> & <date>\\\\\n\\hline\n\t 2013 & 9 & 1 &   9 & 2359 &  10 & 343 &  340 &   3 & B6 & ⋯ & 196 & 1576 & 23 & 59 & 2013-09-01 23:00:00 &  13 & 01 & 09 & 2013-09-01 & 2013-09-01\\\\\n\t 2013 & 9 & 1 & 117 & 2245 & 152 & 218 & 2359 & 139 & B6 & ⋯ &  44 &  209 & 22 & 45 & 2013-09-01 22:00:00 & 291 & 01 & 09 & 2013-09-01 & 2013-09-01\\\\\n\t 2013 & 9 & 1 & 508 &  516 &  -8 & 717 &  800 & -43 & UA & ⋯ & 170 & 1400 &  5 & 16 & 2013-09-01 05:00:00 & -51 & 01 & 09 & 2013-09-01 & 2013-09-01\\\\\n\t 2013 & 9 & 1 & 537 &  545 &  -8 & 849 &  855 &  -6 & AA & ⋯ & 148 & 1089 &  5 & 45 & 2013-09-01 05:00:00 & -14 & 01 & 09 & 2013-09-01 & 2013-09-01\\\\\n\t 2013 & 9 & 1 & 537 &  545 &  -8 & 906 &  921 & -15 & B6 & ⋯ & 191 & 1576 &  5 & 45 & 2013-09-01 05:00:00 & -23 & 01 & 09 & 2013-09-01 & 2013-09-01\\\\\n\t 2013 & 9 & 1 & 549 &  600 & -11 & 815 &  850 & -35 & UA & ⋯ & 133 &  997 &  6 &  0 & 2013-09-01 06:00:00 & -46 & 01 & 09 & 2013-09-01 & 2013-09-01\\\\\n\t 2013 & 9 & 1 & 552 &  600 &  -8 & 843 &  905 & -22 & AA & ⋯ & 149 & 1096 &  6 &  0 & 2013-09-01 06:00:00 & -30 & 01 & 09 & 2013-09-01 & 2013-09-01\\\\\n\t 2013 & 9 & 1 & 553 &  600 &  -7 & 809 &  834 & -25 & B6 & ⋯ & 117 &  937 &  6 &  0 & 2013-09-01 06:00:00 & -32 & 01 & 09 & 2013-09-01 & 2013-09-01\\\\\n\t 2013 & 9 & 1 & 554 &  600 &  -6 & 700 &  716 & -16 & EV & ⋯ &  39 &  229 &  6 &  0 & 2013-09-01 06:00:00 & -22 & 01 & 09 & 2013-09-01 & 2013-09-01\\\\\n\t 2013 & 9 & 1 & 554 &  600 &  -6 & 803 &  823 & -20 & DL & ⋯ & 105 &  762 &  6 &  0 & 2013-09-01 06:00:00 & -26 & 01 & 09 & 2013-09-01 & 2013-09-01\\\\\n\t 2013 & 9 & 1 & 554 &  600 &  -6 & 657 &  715 & -18 & MQ & ⋯ & 104 &  719 &  6 &  0 & 2013-09-01 06:00:00 & -24 & 01 & 09 & 2013-09-01 & 2013-09-01\\\\\n\t 2013 & 9 & 1 & 555 &  600 &  -5 & 835 &  851 & -16 & B6 & ⋯ & 139 & 1076 &  6 &  0 & 2013-09-01 06:00:00 & -21 & 01 & 09 & 2013-09-01 & 2013-09-01\\\\\n\t 2013 & 9 & 1 & 557 &  600 &  -3 & 706 &  716 & -10 & EV & ⋯ &  43 &  228 &  6 &  0 & 2013-09-01 06:00:00 & -13 & 01 & 09 & 2013-09-01 & 2013-09-01\\\\\n\t 2013 & 9 & 1 & 557 &  600 &  -3 & 718 &  740 & -22 & WN & ⋯ & 125 &  888 &  6 &  0 & 2013-09-01 06:00:00 & -25 & 01 & 09 & 2013-09-01 & 2013-09-01\\\\\n\t 2013 & 9 & 1 & 600 &  600 &   0 & 803 &  815 & -12 & FL & ⋯ & 105 &  762 &  6 &  0 & 2013-09-01 06:00:00 & -12 & 01 & 09 & 2013-09-01 & 2013-09-01\\\\\n\t 2013 & 9 & 1 & 600 &  610 & -10 & 824 &  855 & -31 & AA & ⋯ & 185 & 1389 &  6 & 10 & 2013-09-01 06:00:00 & -41 & 01 & 09 & 2013-09-01 & 2013-09-01\\\\\n\t 2013 & 9 & 1 & 600 &  600 &   0 & 740 &  752 & -12 & DL & ⋯ &  79 &  502 &  6 &  0 & 2013-09-01 06:00:00 & -12 & 01 & 09 & 2013-09-01 & 2013-09-01\\\\\n\t 2013 & 9 & 1 & 602 &  605 &  -3 & 853 &  855 &  -2 & B6 & ⋯ & 141 & 1069 &  6 &  5 & 2013-09-01 06:00:00 &  -5 & 01 & 09 & 2013-09-01 & 2013-09-01\\\\\n\t 2013 & 9 & 1 & 604 &  605 &  -1 & 823 &  839 & -16 & B6 & ⋯ & 121 &  944 &  6 &  5 & 2013-09-01 06:00:00 & -17 & 01 & 09 & 2013-09-01 & 2013-09-01\\\\\n\t 2013 & 9 & 1 & 605 &  610 &  -5 & 747 &  806 & -19 & DL & ⋯ & 142 & 1020 &  6 & 10 & 2013-09-01 06:00:00 & -24 & 01 & 09 & 2013-09-01 & 2013-09-01\\\\\n\t 2013 & 9 & 1 & 614 &  611 &   3 & 951 &  954 &  -3 & B6 & ⋯ & 197 & 1598 &  6 & 11 & 2013-09-01 06:00:00 &   0 & 01 & 09 & 2013-09-01 & 2013-09-01\\\\\n\t 2013 & 9 & 1 & 617 &  620 &  -3 & 829 &  840 & -11 & DL & ⋯ & 105 &  760 &  6 & 20 & 2013-09-01 06:00:00 & -14 & 01 & 09 & 2013-09-01 & 2013-09-01\\\\\n\t 2013 & 9 & 1 & 619 &  623 &  -4 & 713 &  737 & -24 & EV & ⋯ &  39 &  212 &  6 & 23 & 2013-09-01 06:00:00 & -28 & 01 & 09 & 2013-09-01 & 2013-09-01\\\\\n\t 2013 & 9 & 1 & 619 &  629 & -10 & 900 &  929 & -29 & AA & ⋯ & 140 & 1085 &  6 & 29 & 2013-09-01 06:00:00 & -39 & 01 & 09 & 2013-09-01 & 2013-09-01\\\\\n\t 2013 & 9 & 1 & 621 &  630 &  -9 & 903 &  924 & -21 & B6 & ⋯ & 146 & 1074 &  6 & 30 & 2013-09-01 06:00:00 & -30 & 01 & 09 & 2013-09-01 & 2013-09-01\\\\\n\t 2013 & 9 & 1 & 622 &  630 &  -8 & 732 &  805 & -33 & AA & ⋯ & 104 &  733 &  6 & 30 & 2013-09-01 06:00:00 & -41 & 01 & 09 & 2013-09-01 & 2013-09-01\\\\\n\t 2013 & 9 & 1 & 625 &  629 &  -4 & 751 &  804 & -13 & EV & ⋯ &  61 &  404 &  6 & 29 & 2013-09-01 06:00:00 & -17 & 01 & 09 & 2013-09-01 & 2013-09-01\\\\\n\t 2013 & 9 & 1 & 625 &  629 &  -4 & 944 &  951 &  -7 & UA & ⋯ & 358 & 2565 &  6 & 29 & 2013-09-01 06:00:00 & -11 & 01 & 09 & 2013-09-01 & 2013-09-01\\\\\n\t 2013 & 9 & 1 & 626 &  630 &  -4 & 842 &  904 & -22 & B6 & ⋯ & 120 &  950 &  6 & 30 & 2013-09-01 06:00:00 & -26 & 01 & 09 & 2013-09-01 & 2013-09-01\\\\\n\t 2013 & 9 & 1 & 627 &  630 &  -3 & 733 &  747 & -14 & B6 & ⋯ &  54 &  301 &  6 & 30 & 2013-09-01 06:00:00 & -17 & 01 & 09 & 2013-09-01 & 2013-09-01\\\\\n\t ⋮ & ⋮ & ⋮ & ⋮ & ⋮ & ⋮ & ⋮ & ⋮ & ⋮ & ⋮ & ⋱ & ⋮ & ⋮ & ⋮ & ⋮ & ⋮ & ⋮ & ⋮ & ⋮ & ⋮ & ⋮\\\\\n\t 2013 & 9 & 15 & 2131 & 2140 & -9 & 2243 & 2255 & -12 & MQ & ⋯ &  47 &  213 & 21 & 40 & 2013-09-15 21:00:00 & -21 & 15 & 09 & 2013-09-15 & 2013-09-15\\\\\n\t 2013 & 9 & 15 & 2133 & 2120 & 13 & 2344 & 2354 & -10 & B6 & ⋯ & 110 &  828 & 21 & 20 & 2013-09-15 21:00:00 &   3 & 15 & 09 & 2013-09-15 & 2013-09-15\\\\\n\t 2013 & 9 & 15 & 2135 & 2110 & 25 & 2302 & 2302 &   0 & EV & ⋯ &  68 &  500 & 21 & 10 & 2013-09-15 21:00:00 &  25 & 15 & 09 & 2013-09-15 & 2013-09-15\\\\\n\t 2013 & 9 & 15 & 2137 & 2140 & -3 &   21 &   40 & -19 & AA & ⋯ & 320 & 2475 & 21 & 40 & 2013-09-15 21:00:00 & -22 & 15 & 09 & 2013-09-15 & 2013-09-15\\\\\n\t 2013 & 9 & 15 & 2142 & 2122 & 20 & 2325 & 2320 &   5 & EV & ⋯ &  84 &  488 & 21 & 22 & 2013-09-15 21:00:00 &  25 & 15 & 09 & 2013-09-15 & 2013-09-15\\\\\n\t 2013 & 9 & 15 & 2142 & 2129 & 13 & 2246 & 2236 &  10 & EV & ⋯ &  48 &  284 & 21 & 29 & 2013-09-15 21:00:00 &  23 & 15 & 09 & 2013-09-15 & 2013-09-15\\\\\n\t 2013 & 9 & 15 & 2144 & 2145 & -1 &  122 &  140 & -18 & B6 & ⋯ & 198 & 1598 & 21 & 45 & 2013-09-15 21:00:00 & -19 & 15 & 09 & 2013-09-15 & 2013-09-15\\\\\n\t 2013 & 9 & 15 & 2144 & 2137 &  7 &   26 &   27 &  -1 & B6 & ⋯ & 144 & 1076 & 21 & 37 & 2013-09-15 21:00:00 &   6 & 15 & 09 & 2013-09-15 & 2013-09-15\\\\\n\t 2013 & 9 & 15 & 2153 & 2029 & 84 & 2347 & 2225 &  82 & EV & ⋯ &  88 &  533 & 20 & 29 & 2013-09-15 20:00:00 & 166 & 15 & 09 & 2013-09-15 & 2013-09-15\\\\\n\t 2013 & 9 & 15 & 2154 & 2159 & -5 & 2240 & 2303 & -23 & EV & ⋯ &  28 &  143 & 21 & 59 & 2013-09-15 21:00:00 & -28 & 15 & 09 & 2013-09-15 & 2013-09-15\\\\\n\t 2013 & 9 & 15 & 2155 & 2149 &  6 & 2300 & 2256 &   4 & EV & ⋯ &  36 &  209 & 21 & 49 & 2013-09-15 21:00:00 &  10 & 15 & 09 & 2013-09-15 & 2013-09-15\\\\\n\t 2013 & 9 & 15 & 2158 & 2205 & -7 & 2314 & 2331 & -17 & EV & ⋯ &  52 &  378 & 22 &  5 & 2013-09-15 22:00:00 & -24 & 15 & 09 & 2013-09-15 & 2013-09-15\\\\\n\t 2013 & 9 & 15 & 2206 & 2200 &  6 & 2302 & 2312 & -10 & 9E & ⋯ &  36 &  198 & 22 &  0 & 2013-09-15 22:00:00 &  -4 & 15 & 09 & 2013-09-15 & 2013-09-15\\\\\n\t 2013 & 9 & 15 & 2210 & 2152 & 18 & 2314 & 2304 &  10 & UA & ⋯ &  45 &  200 & 21 & 52 & 2013-09-15 21:00:00 &  28 & 15 & 09 & 2013-09-15 & 2013-09-15\\\\\n\t 2013 & 9 & 15 & 2237 & 2122 & 75 &   52 & 2353 &  59 & EV & ⋯ & 110 &  820 & 21 & 22 & 2013-09-15 21:00:00 & 134 & 15 & 09 & 2013-09-15 & 2013-09-15\\\\\n\t 2013 & 9 & 15 & 2243 & 2245 & -2 & 2341 & 2356 & -15 & B6 & ⋯ &  44 &  273 & 22 & 45 & 2013-09-15 22:00:00 & -17 & 15 & 09 & 2013-09-15 & 2013-09-15\\\\\n\t 2013 & 9 & 15 & 2243 & 2245 & -2 & 2344 & 2353 &  -9 & B6 & ⋯ &  43 &  266 & 22 & 45 & 2013-09-15 22:00:00 & -11 & 15 & 09 & 2013-09-15 & 2013-09-15\\\\\n\t 2013 & 9 & 15 & 2244 & 2129 & 75 & 2355 & 2239 &  76 & EV & ⋯ &  40 &  199 & 21 & 29 & 2013-09-15 21:00:00 & 151 & 15 & 09 & 2013-09-15 & 2013-09-15\\\\\n\t 2013 & 9 & 15 & 2247 & 2246 &  1 &    1 &    1 &   0 & B6 & ⋯ &  49 &  264 & 22 & 46 & 2013-09-15 22:00:00 &   1 & 15 & 09 & 2013-09-15 & 2013-09-15\\\\\n\t 2013 & 9 & 15 & 2247 & 2245 &  2 & 2346 & 2351 &  -5 & B6 & ⋯ &  42 &  209 & 22 & 45 & 2013-09-15 22:00:00 &  -3 & 15 & 09 & 2013-09-15 & 2013-09-15\\\\\n\t 2013 & 9 & 15 & 2249 & 2255 & -6 & 2353 & 2358 &  -5 & B6 & ⋯ &  34 &  187 & 22 & 55 & 2013-09-15 22:00:00 & -11 & 15 & 09 & 2013-09-15 & 2013-09-15\\\\\n\t 2013 & 9 & 15 & 2351 & 2359 & -8 &  332 &  350 & -18 & B6 & ⋯ & 200 & 1617 & 23 & 59 & 2013-09-15 23:00:00 & -26 & 15 & 09 & 2013-09-15 & 2013-09-15\\\\\n\t 2013 & 9 & 15 &   NA & 1930 & NA &   NA & 2049 &  NA & EV & ⋯ &  NA &  229 & 19 & 30 & 2013-09-15 19:00:00 &  NA & 15 & 09 & 2013-09-15 & 2013-09-15\\\\\n\t 2013 & 9 & 15 &   NA &  815 & NA &   NA &  948 &  NA & 9E & ⋯ &  NA &  301 &  8 & 15 & 2013-09-15 08:00:00 &  NA & 15 & 09 & 2013-09-15 & 2013-09-15\\\\\n\t 2013 & 9 & 15 &   NA & 1550 & NA &   NA & 1818 &  NA & 9E & ⋯ &  NA & 1107 & 15 & 50 & 2013-09-15 15:00:00 &  NA & 15 & 09 & 2013-09-15 & 2013-09-15\\\\\n\t 2013 & 9 & 15 &   NA &  835 & NA &   NA & 1001 &  NA & 9E & ⋯ &  NA &  213 &  8 & 35 & 2013-09-15 08:00:00 &  NA & 15 & 09 & 2013-09-15 & 2013-09-15\\\\\n\t 2013 & 9 & 15 &   NA & 1600 & NA &   NA & 1757 &  NA & 9E & ⋯ &  NA &  740 & 16 &  0 & 2013-09-15 16:00:00 &  NA & 15 & 09 & 2013-09-15 & 2013-09-15\\\\\n\t 2013 & 9 & 15 &   NA & 1600 & NA &   NA & 1715 &  NA & US & ⋯ &  NA &  184 & 16 &  0 & 2013-09-15 16:00:00 &  NA & 15 & 09 & 2013-09-15 & 2013-09-15\\\\\n\t 2013 & 9 & 15 &   NA & 1159 & NA &   NA & 1309 &  NA & MQ & ⋯ &  NA &  213 & 11 & 59 & 2013-09-15 11:00:00 &  NA & 15 & 09 & 2013-09-15 & 2013-09-15\\\\\n\t 2013 & 9 & 15 &   NA & 1205 & NA &   NA & 1350 &  NA & MQ & ⋯ &  NA &  431 & 12 &  5 & 2013-09-15 12:00:00 &  NA & 15 & 09 & 2013-09-15 & 2013-09-15\\\\\n\\end{tabular}\n",
            "text/plain": [
              "      year month day dep_time sched_dep_time dep_delay arr_time sched_arr_time\n",
              "1     2013 9     1     9      2359            10       343       340          \n",
              "2     2013 9     1   117      2245           152       218      2359          \n",
              "3     2013 9     1   508       516            -8       717       800          \n",
              "4     2013 9     1   537       545            -8       849       855          \n",
              "5     2013 9     1   537       545            -8       906       921          \n",
              "6     2013 9     1   549       600           -11       815       850          \n",
              "7     2013 9     1   552       600            -8       843       905          \n",
              "8     2013 9     1   553       600            -7       809       834          \n",
              "9     2013 9     1   554       600            -6       700       716          \n",
              "10    2013 9     1   554       600            -6       803       823          \n",
              "11    2013 9     1   554       600            -6       657       715          \n",
              "12    2013 9     1   555       600            -5       835       851          \n",
              "13    2013 9     1   557       600            -3       706       716          \n",
              "14    2013 9     1   557       600            -3       718       740          \n",
              "15    2013 9     1   600       600             0       803       815          \n",
              "16    2013 9     1   600       610           -10       824       855          \n",
              "17    2013 9     1   600       600             0       740       752          \n",
              "18    2013 9     1   602       605            -3       853       855          \n",
              "19    2013 9     1   604       605            -1       823       839          \n",
              "20    2013 9     1   605       610            -5       747       806          \n",
              "21    2013 9     1   614       611             3       951       954          \n",
              "22    2013 9     1   617       620            -3       829       840          \n",
              "23    2013 9     1   619       623            -4       713       737          \n",
              "24    2013 9     1   619       629           -10       900       929          \n",
              "25    2013 9     1   621       630            -9       903       924          \n",
              "26    2013 9     1   622       630            -8       732       805          \n",
              "27    2013 9     1   625       629            -4       751       804          \n",
              "28    2013 9     1   625       629            -4       944       951          \n",
              "29    2013 9     1   626       630            -4       842       904          \n",
              "30    2013 9     1   627       630            -3       733       747          \n",
              "⋮     ⋮    ⋮     ⋮   ⋮        ⋮              ⋮         ⋮        ⋮             \n",
              "13527 2013 9     15  2131     2140           -9        2243     2255          \n",
              "13528 2013 9     15  2133     2120           13        2344     2354          \n",
              "13529 2013 9     15  2135     2110           25        2302     2302          \n",
              "13530 2013 9     15  2137     2140           -3          21       40          \n",
              "13531 2013 9     15  2142     2122           20        2325     2320          \n",
              "13532 2013 9     15  2142     2129           13        2246     2236          \n",
              "13533 2013 9     15  2144     2145           -1         122      140          \n",
              "13534 2013 9     15  2144     2137            7          26       27          \n",
              "13535 2013 9     15  2153     2029           84        2347     2225          \n",
              "13536 2013 9     15  2154     2159           -5        2240     2303          \n",
              "13537 2013 9     15  2155     2149            6        2300     2256          \n",
              "13538 2013 9     15  2158     2205           -7        2314     2331          \n",
              "13539 2013 9     15  2206     2200            6        2302     2312          \n",
              "13540 2013 9     15  2210     2152           18        2314     2304          \n",
              "13541 2013 9     15  2237     2122           75          52     2353          \n",
              "13542 2013 9     15  2243     2245           -2        2341     2356          \n",
              "13543 2013 9     15  2243     2245           -2        2344     2353          \n",
              "13544 2013 9     15  2244     2129           75        2355     2239          \n",
              "13545 2013 9     15  2247     2246            1           1        1          \n",
              "13546 2013 9     15  2247     2245            2        2346     2351          \n",
              "13547 2013 9     15  2249     2255           -6        2353     2358          \n",
              "13548 2013 9     15  2351     2359           -8         332      350          \n",
              "13549 2013 9     15    NA     1930           NA          NA     2049          \n",
              "13550 2013 9     15    NA      815           NA          NA      948          \n",
              "13551 2013 9     15    NA     1550           NA          NA     1818          \n",
              "13552 2013 9     15    NA      835           NA          NA     1001          \n",
              "13553 2013 9     15    NA     1600           NA          NA     1757          \n",
              "13554 2013 9     15    NA     1600           NA          NA     1715          \n",
              "13555 2013 9     15    NA     1159           NA          NA     1309          \n",
              "13556 2013 9     15    NA     1205           NA          NA     1350          \n",
              "      arr_delay carrier ⋯ air_time distance hour minute time_hour          \n",
              "1       3       B6      ⋯ 196      1576     23   59     2013-09-01 23:00:00\n",
              "2     139       B6      ⋯  44       209     22   45     2013-09-01 22:00:00\n",
              "3     -43       UA      ⋯ 170      1400      5   16     2013-09-01 05:00:00\n",
              "4      -6       AA      ⋯ 148      1089      5   45     2013-09-01 05:00:00\n",
              "5     -15       B6      ⋯ 191      1576      5   45     2013-09-01 05:00:00\n",
              "6     -35       UA      ⋯ 133       997      6    0     2013-09-01 06:00:00\n",
              "7     -22       AA      ⋯ 149      1096      6    0     2013-09-01 06:00:00\n",
              "8     -25       B6      ⋯ 117       937      6    0     2013-09-01 06:00:00\n",
              "9     -16       EV      ⋯  39       229      6    0     2013-09-01 06:00:00\n",
              "10    -20       DL      ⋯ 105       762      6    0     2013-09-01 06:00:00\n",
              "11    -18       MQ      ⋯ 104       719      6    0     2013-09-01 06:00:00\n",
              "12    -16       B6      ⋯ 139      1076      6    0     2013-09-01 06:00:00\n",
              "13    -10       EV      ⋯  43       228      6    0     2013-09-01 06:00:00\n",
              "14    -22       WN      ⋯ 125       888      6    0     2013-09-01 06:00:00\n",
              "15    -12       FL      ⋯ 105       762      6    0     2013-09-01 06:00:00\n",
              "16    -31       AA      ⋯ 185      1389      6   10     2013-09-01 06:00:00\n",
              "17    -12       DL      ⋯  79       502      6    0     2013-09-01 06:00:00\n",
              "18     -2       B6      ⋯ 141      1069      6    5     2013-09-01 06:00:00\n",
              "19    -16       B6      ⋯ 121       944      6    5     2013-09-01 06:00:00\n",
              "20    -19       DL      ⋯ 142      1020      6   10     2013-09-01 06:00:00\n",
              "21     -3       B6      ⋯ 197      1598      6   11     2013-09-01 06:00:00\n",
              "22    -11       DL      ⋯ 105       760      6   20     2013-09-01 06:00:00\n",
              "23    -24       EV      ⋯  39       212      6   23     2013-09-01 06:00:00\n",
              "24    -29       AA      ⋯ 140      1085      6   29     2013-09-01 06:00:00\n",
              "25    -21       B6      ⋯ 146      1074      6   30     2013-09-01 06:00:00\n",
              "26    -33       AA      ⋯ 104       733      6   30     2013-09-01 06:00:00\n",
              "27    -13       EV      ⋯  61       404      6   29     2013-09-01 06:00:00\n",
              "28     -7       UA      ⋯ 358      2565      6   29     2013-09-01 06:00:00\n",
              "29    -22       B6      ⋯ 120       950      6   30     2013-09-01 06:00:00\n",
              "30    -14       B6      ⋯  54       301      6   30     2013-09-01 06:00:00\n",
              "⋮     ⋮         ⋮       ⋱ ⋮        ⋮        ⋮    ⋮      ⋮                  \n",
              "13527 -12       MQ      ⋯  47       213     21   40     2013-09-15 21:00:00\n",
              "13528 -10       B6      ⋯ 110       828     21   20     2013-09-15 21:00:00\n",
              "13529   0       EV      ⋯  68       500     21   10     2013-09-15 21:00:00\n",
              "13530 -19       AA      ⋯ 320      2475     21   40     2013-09-15 21:00:00\n",
              "13531   5       EV      ⋯  84       488     21   22     2013-09-15 21:00:00\n",
              "13532  10       EV      ⋯  48       284     21   29     2013-09-15 21:00:00\n",
              "13533 -18       B6      ⋯ 198      1598     21   45     2013-09-15 21:00:00\n",
              "13534  -1       B6      ⋯ 144      1076     21   37     2013-09-15 21:00:00\n",
              "13535  82       EV      ⋯  88       533     20   29     2013-09-15 20:00:00\n",
              "13536 -23       EV      ⋯  28       143     21   59     2013-09-15 21:00:00\n",
              "13537   4       EV      ⋯  36       209     21   49     2013-09-15 21:00:00\n",
              "13538 -17       EV      ⋯  52       378     22    5     2013-09-15 22:00:00\n",
              "13539 -10       9E      ⋯  36       198     22    0     2013-09-15 22:00:00\n",
              "13540  10       UA      ⋯  45       200     21   52     2013-09-15 21:00:00\n",
              "13541  59       EV      ⋯ 110       820     21   22     2013-09-15 21:00:00\n",
              "13542 -15       B6      ⋯  44       273     22   45     2013-09-15 22:00:00\n",
              "13543  -9       B6      ⋯  43       266     22   45     2013-09-15 22:00:00\n",
              "13544  76       EV      ⋯  40       199     21   29     2013-09-15 21:00:00\n",
              "13545   0       B6      ⋯  49       264     22   46     2013-09-15 22:00:00\n",
              "13546  -5       B6      ⋯  42       209     22   45     2013-09-15 22:00:00\n",
              "13547  -5       B6      ⋯  34       187     22   55     2013-09-15 22:00:00\n",
              "13548 -18       B6      ⋯ 200      1617     23   59     2013-09-15 23:00:00\n",
              "13549  NA       EV      ⋯  NA       229     19   30     2013-09-15 19:00:00\n",
              "13550  NA       9E      ⋯  NA       301      8   15     2013-09-15 08:00:00\n",
              "13551  NA       9E      ⋯  NA      1107     15   50     2013-09-15 15:00:00\n",
              "13552  NA       9E      ⋯  NA       213      8   35     2013-09-15 08:00:00\n",
              "13553  NA       9E      ⋯  NA       740     16    0     2013-09-15 16:00:00\n",
              "13554  NA       US      ⋯  NA       184     16    0     2013-09-15 16:00:00\n",
              "13555  NA       MQ      ⋯  NA       213     11   59     2013-09-15 11:00:00\n",
              "13556  NA       MQ      ⋯  NA       431     12    5     2013-09-15 12:00:00\n",
              "      retraso_neto day2 month2 no_fecha   fecha     \n",
              "1      13          01   09     2013-09-01 2013-09-01\n",
              "2     291          01   09     2013-09-01 2013-09-01\n",
              "3     -51          01   09     2013-09-01 2013-09-01\n",
              "4     -14          01   09     2013-09-01 2013-09-01\n",
              "5     -23          01   09     2013-09-01 2013-09-01\n",
              "6     -46          01   09     2013-09-01 2013-09-01\n",
              "7     -30          01   09     2013-09-01 2013-09-01\n",
              "8     -32          01   09     2013-09-01 2013-09-01\n",
              "9     -22          01   09     2013-09-01 2013-09-01\n",
              "10    -26          01   09     2013-09-01 2013-09-01\n",
              "11    -24          01   09     2013-09-01 2013-09-01\n",
              "12    -21          01   09     2013-09-01 2013-09-01\n",
              "13    -13          01   09     2013-09-01 2013-09-01\n",
              "14    -25          01   09     2013-09-01 2013-09-01\n",
              "15    -12          01   09     2013-09-01 2013-09-01\n",
              "16    -41          01   09     2013-09-01 2013-09-01\n",
              "17    -12          01   09     2013-09-01 2013-09-01\n",
              "18     -5          01   09     2013-09-01 2013-09-01\n",
              "19    -17          01   09     2013-09-01 2013-09-01\n",
              "20    -24          01   09     2013-09-01 2013-09-01\n",
              "21      0          01   09     2013-09-01 2013-09-01\n",
              "22    -14          01   09     2013-09-01 2013-09-01\n",
              "23    -28          01   09     2013-09-01 2013-09-01\n",
              "24    -39          01   09     2013-09-01 2013-09-01\n",
              "25    -30          01   09     2013-09-01 2013-09-01\n",
              "26    -41          01   09     2013-09-01 2013-09-01\n",
              "27    -17          01   09     2013-09-01 2013-09-01\n",
              "28    -11          01   09     2013-09-01 2013-09-01\n",
              "29    -26          01   09     2013-09-01 2013-09-01\n",
              "30    -17          01   09     2013-09-01 2013-09-01\n",
              "⋮     ⋮            ⋮    ⋮      ⋮          ⋮         \n",
              "13527 -21          15   09     2013-09-15 2013-09-15\n",
              "13528   3          15   09     2013-09-15 2013-09-15\n",
              "13529  25          15   09     2013-09-15 2013-09-15\n",
              "13530 -22          15   09     2013-09-15 2013-09-15\n",
              "13531  25          15   09     2013-09-15 2013-09-15\n",
              "13532  23          15   09     2013-09-15 2013-09-15\n",
              "13533 -19          15   09     2013-09-15 2013-09-15\n",
              "13534   6          15   09     2013-09-15 2013-09-15\n",
              "13535 166          15   09     2013-09-15 2013-09-15\n",
              "13536 -28          15   09     2013-09-15 2013-09-15\n",
              "13537  10          15   09     2013-09-15 2013-09-15\n",
              "13538 -24          15   09     2013-09-15 2013-09-15\n",
              "13539  -4          15   09     2013-09-15 2013-09-15\n",
              "13540  28          15   09     2013-09-15 2013-09-15\n",
              "13541 134          15   09     2013-09-15 2013-09-15\n",
              "13542 -17          15   09     2013-09-15 2013-09-15\n",
              "13543 -11          15   09     2013-09-15 2013-09-15\n",
              "13544 151          15   09     2013-09-15 2013-09-15\n",
              "13545   1          15   09     2013-09-15 2013-09-15\n",
              "13546  -3          15   09     2013-09-15 2013-09-15\n",
              "13547 -11          15   09     2013-09-15 2013-09-15\n",
              "13548 -26          15   09     2013-09-15 2013-09-15\n",
              "13549  NA          15   09     2013-09-15 2013-09-15\n",
              "13550  NA          15   09     2013-09-15 2013-09-15\n",
              "13551  NA          15   09     2013-09-15 2013-09-15\n",
              "13552  NA          15   09     2013-09-15 2013-09-15\n",
              "13553  NA          15   09     2013-09-15 2013-09-15\n",
              "13554  NA          15   09     2013-09-15 2013-09-15\n",
              "13555  NA          15   09     2013-09-15 2013-09-15\n",
              "13556  NA          15   09     2013-09-15 2013-09-15"
            ]
          },
          "metadata": {}
        }
      ]
    },
    {
      "cell_type": "code",
      "metadata": {
        "trusted": true,
        "id": "Md5AK7xfRPzE"
      },
      "source": [
        "# Con esta variable genere un entero llamado fecha, que concatena year,month y day 2."
      ],
      "execution_count": null,
      "outputs": []
    },
    {
      "cell_type": "markdown",
      "metadata": {
        "id": "kEFrLb_zRPzG"
      },
      "source": [
        "### 4.5 Función group_by() y summarise()\n",
        "\n",
        "La función `summarise()` calcula medidas agregadas sobre columnas, mientras que la función `group_by`, genera un data.frame \"en bloques\" dados por la(s) columna(s) ingresadas como parámetros en la función.\n",
        "\n"
      ]
    },
    {
      "cell_type": "code",
      "metadata": {
        "trusted": true,
        "id": "4ytKeSHGRPzG",
        "outputId": "5bcc26b8-e032-46a1-dad7-f8f9450db6cf",
        "colab": {
          "base_uri": "https://localhost:8080/",
          "height": 254
        }
      },
      "source": [
        "# group_by() y summarise() ----------------------------------------------------------------\n",
        "# Ejemplo sencillo\n",
        "exam2 <- data.frame(\n",
        "  x = c(1:5),\n",
        "  y = c(7:11),\n",
        "  z = c(\"A\", \"B\", \"A\", \"B\", \"C\")\n",
        ")\n",
        "exam2\n"
      ],
      "execution_count": 5,
      "outputs": [
        {
          "output_type": "display_data",
          "data": {
            "text/html": [
              "<table class=\"dataframe\">\n",
              "<caption>A data.frame: 5 × 3</caption>\n",
              "<thead>\n",
              "\t<tr><th scope=col>x</th><th scope=col>y</th><th scope=col>z</th></tr>\n",
              "\t<tr><th scope=col>&lt;int&gt;</th><th scope=col>&lt;int&gt;</th><th scope=col>&lt;chr&gt;</th></tr>\n",
              "</thead>\n",
              "<tbody>\n",
              "\t<tr><td>1</td><td> 7</td><td>A</td></tr>\n",
              "\t<tr><td>2</td><td> 8</td><td>B</td></tr>\n",
              "\t<tr><td>3</td><td> 9</td><td>A</td></tr>\n",
              "\t<tr><td>4</td><td>10</td><td>B</td></tr>\n",
              "\t<tr><td>5</td><td>11</td><td>C</td></tr>\n",
              "</tbody>\n",
              "</table>\n"
            ],
            "text/markdown": "\nA data.frame: 5 × 3\n\n| x &lt;int&gt; | y &lt;int&gt; | z &lt;chr&gt; |\n|---|---|---|\n| 1 |  7 | A |\n| 2 |  8 | B |\n| 3 |  9 | A |\n| 4 | 10 | B |\n| 5 | 11 | C |\n\n",
            "text/latex": "A data.frame: 5 × 3\n\\begin{tabular}{lll}\n x & y & z\\\\\n <int> & <int> & <chr>\\\\\n\\hline\n\t 1 &  7 & A\\\\\n\t 2 &  8 & B\\\\\n\t 3 &  9 & A\\\\\n\t 4 & 10 & B\\\\\n\t 5 & 11 & C\\\\\n\\end{tabular}\n",
            "text/plain": [
              "  x y  z\n",
              "1 1  7 A\n",
              "2 2  8 B\n",
              "3 3  9 A\n",
              "4 4 10 B\n",
              "5 5 11 C"
            ]
          },
          "metadata": {}
        }
      ]
    },
    {
      "cell_type": "code",
      "source": [
        "exam2 %>%\n",
        "  group_by(z)"
      ],
      "metadata": {
        "id": "mmkfGVs6jzy7",
        "outputId": "7d2464d2-7f7a-4895-dc33-8e6148c26ec1",
        "colab": {
          "base_uri": "https://localhost:8080/",
          "height": 254
        }
      },
      "execution_count": 6,
      "outputs": [
        {
          "output_type": "display_data",
          "data": {
            "text/html": [
              "<table class=\"dataframe\">\n",
              "<caption>A grouped_df: 5 × 3</caption>\n",
              "<thead>\n",
              "\t<tr><th scope=col>x</th><th scope=col>y</th><th scope=col>z</th></tr>\n",
              "\t<tr><th scope=col>&lt;int&gt;</th><th scope=col>&lt;int&gt;</th><th scope=col>&lt;chr&gt;</th></tr>\n",
              "</thead>\n",
              "<tbody>\n",
              "\t<tr><td>1</td><td> 7</td><td>A</td></tr>\n",
              "\t<tr><td>2</td><td> 8</td><td>B</td></tr>\n",
              "\t<tr><td>3</td><td> 9</td><td>A</td></tr>\n",
              "\t<tr><td>4</td><td>10</td><td>B</td></tr>\n",
              "\t<tr><td>5</td><td>11</td><td>C</td></tr>\n",
              "</tbody>\n",
              "</table>\n"
            ],
            "text/markdown": "\nA grouped_df: 5 × 3\n\n| x &lt;int&gt; | y &lt;int&gt; | z &lt;chr&gt; |\n|---|---|---|\n| 1 |  7 | A |\n| 2 |  8 | B |\n| 3 |  9 | A |\n| 4 | 10 | B |\n| 5 | 11 | C |\n\n",
            "text/latex": "A grouped\\_df: 5 × 3\n\\begin{tabular}{lll}\n x & y & z\\\\\n <int> & <int> & <chr>\\\\\n\\hline\n\t 1 &  7 & A\\\\\n\t 2 &  8 & B\\\\\n\t 3 &  9 & A\\\\\n\t 4 & 10 & B\\\\\n\t 5 & 11 & C\\\\\n\\end{tabular}\n",
            "text/plain": [
              "  x y  z\n",
              "1 1  7 A\n",
              "2 2  8 B\n",
              "3 3  9 A\n",
              "4 4 10 B\n",
              "5 5 11 C"
            ]
          },
          "metadata": {}
        }
      ]
    },
    {
      "cell_type": "code",
      "source": [
        "# Sin agrupar\n",
        "# Crear una columna que contenga el nº de fila\n",
        "exam2 %>%\n",
        "  mutate(nf = row_number())"
      ],
      "metadata": {
        "id": "FzIX4XoSkJOS",
        "outputId": "86f63a89-7d97-4714-fa3b-9a3a3e665414",
        "colab": {
          "base_uri": "https://localhost:8080/",
          "height": 254
        }
      },
      "execution_count": 7,
      "outputs": [
        {
          "output_type": "display_data",
          "data": {
            "text/html": [
              "<table class=\"dataframe\">\n",
              "<caption>A data.frame: 5 × 4</caption>\n",
              "<thead>\n",
              "\t<tr><th scope=col>x</th><th scope=col>y</th><th scope=col>z</th><th scope=col>nf</th></tr>\n",
              "\t<tr><th scope=col>&lt;int&gt;</th><th scope=col>&lt;int&gt;</th><th scope=col>&lt;chr&gt;</th><th scope=col>&lt;int&gt;</th></tr>\n",
              "</thead>\n",
              "<tbody>\n",
              "\t<tr><td>1</td><td> 7</td><td>A</td><td>1</td></tr>\n",
              "\t<tr><td>2</td><td> 8</td><td>B</td><td>2</td></tr>\n",
              "\t<tr><td>3</td><td> 9</td><td>A</td><td>3</td></tr>\n",
              "\t<tr><td>4</td><td>10</td><td>B</td><td>4</td></tr>\n",
              "\t<tr><td>5</td><td>11</td><td>C</td><td>5</td></tr>\n",
              "</tbody>\n",
              "</table>\n"
            ],
            "text/markdown": "\nA data.frame: 5 × 4\n\n| x &lt;int&gt; | y &lt;int&gt; | z &lt;chr&gt; | nf &lt;int&gt; |\n|---|---|---|---|\n| 1 |  7 | A | 1 |\n| 2 |  8 | B | 2 |\n| 3 |  9 | A | 3 |\n| 4 | 10 | B | 4 |\n| 5 | 11 | C | 5 |\n\n",
            "text/latex": "A data.frame: 5 × 4\n\\begin{tabular}{llll}\n x & y & z & nf\\\\\n <int> & <int> & <chr> & <int>\\\\\n\\hline\n\t 1 &  7 & A & 1\\\\\n\t 2 &  8 & B & 2\\\\\n\t 3 &  9 & A & 3\\\\\n\t 4 & 10 & B & 4\\\\\n\t 5 & 11 & C & 5\\\\\n\\end{tabular}\n",
            "text/plain": [
              "  x y  z nf\n",
              "1 1  7 A 1 \n",
              "2 2  8 B 2 \n",
              "3 3  9 A 3 \n",
              "4 4 10 B 4 \n",
              "5 5 11 C 5 "
            ]
          },
          "metadata": {}
        }
      ]
    },
    {
      "cell_type": "code",
      "metadata": {
        "trusted": true,
        "id": "wyjN-OYiRPzI",
        "outputId": "c2fea65e-f554-407f-d8eb-1a56628679cd",
        "colab": {
          "base_uri": "https://localhost:8080/",
          "height": 254
        }
      },
      "source": [
        "# Podemos generar un número de fila por cada grupo\n",
        "exam2 %>%\n",
        "  group_by(z) %>%\n",
        "  mutate(nf = row_number())"
      ],
      "execution_count": 8,
      "outputs": [
        {
          "output_type": "display_data",
          "data": {
            "text/html": [
              "<table class=\"dataframe\">\n",
              "<caption>A grouped_df: 5 × 4</caption>\n",
              "<thead>\n",
              "\t<tr><th scope=col>x</th><th scope=col>y</th><th scope=col>z</th><th scope=col>nf</th></tr>\n",
              "\t<tr><th scope=col>&lt;int&gt;</th><th scope=col>&lt;int&gt;</th><th scope=col>&lt;chr&gt;</th><th scope=col>&lt;int&gt;</th></tr>\n",
              "</thead>\n",
              "<tbody>\n",
              "\t<tr><td>1</td><td> 7</td><td>A</td><td>1</td></tr>\n",
              "\t<tr><td>2</td><td> 8</td><td>B</td><td>1</td></tr>\n",
              "\t<tr><td>3</td><td> 9</td><td>A</td><td>2</td></tr>\n",
              "\t<tr><td>4</td><td>10</td><td>B</td><td>2</td></tr>\n",
              "\t<tr><td>5</td><td>11</td><td>C</td><td>1</td></tr>\n",
              "</tbody>\n",
              "</table>\n"
            ],
            "text/markdown": "\nA grouped_df: 5 × 4\n\n| x &lt;int&gt; | y &lt;int&gt; | z &lt;chr&gt; | nf &lt;int&gt; |\n|---|---|---|---|\n| 1 |  7 | A | 1 |\n| 2 |  8 | B | 1 |\n| 3 |  9 | A | 2 |\n| 4 | 10 | B | 2 |\n| 5 | 11 | C | 1 |\n\n",
            "text/latex": "A grouped\\_df: 5 × 4\n\\begin{tabular}{llll}\n x & y & z & nf\\\\\n <int> & <int> & <chr> & <int>\\\\\n\\hline\n\t 1 &  7 & A & 1\\\\\n\t 2 &  8 & B & 1\\\\\n\t 3 &  9 & A & 2\\\\\n\t 4 & 10 & B & 2\\\\\n\t 5 & 11 & C & 1\\\\\n\\end{tabular}\n",
            "text/plain": [
              "  x y  z nf\n",
              "1 1  7 A 1 \n",
              "2 2  8 B 1 \n",
              "3 3  9 A 2 \n",
              "4 4 10 B 2 \n",
              "5 5 11 C 1 "
            ]
          },
          "metadata": {}
        }
      ]
    },
    {
      "cell_type": "code",
      "source": [
        "exam2 %>%\n",
        "  mutate(tot_x = sum(x))"
      ],
      "metadata": {
        "id": "SVv-oNmVkwBj",
        "outputId": "0e724a14-b739-4c91-d2b0-b233d5fec20d",
        "colab": {
          "base_uri": "https://localhost:8080/",
          "height": 254
        }
      },
      "execution_count": 10,
      "outputs": [
        {
          "output_type": "display_data",
          "data": {
            "text/html": [
              "<table class=\"dataframe\">\n",
              "<caption>A data.frame: 5 × 4</caption>\n",
              "<thead>\n",
              "\t<tr><th scope=col>x</th><th scope=col>y</th><th scope=col>z</th><th scope=col>tot_x</th></tr>\n",
              "\t<tr><th scope=col>&lt;int&gt;</th><th scope=col>&lt;int&gt;</th><th scope=col>&lt;chr&gt;</th><th scope=col>&lt;int&gt;</th></tr>\n",
              "</thead>\n",
              "<tbody>\n",
              "\t<tr><td>1</td><td> 7</td><td>A</td><td>15</td></tr>\n",
              "\t<tr><td>2</td><td> 8</td><td>B</td><td>15</td></tr>\n",
              "\t<tr><td>3</td><td> 9</td><td>A</td><td>15</td></tr>\n",
              "\t<tr><td>4</td><td>10</td><td>B</td><td>15</td></tr>\n",
              "\t<tr><td>5</td><td>11</td><td>C</td><td>15</td></tr>\n",
              "</tbody>\n",
              "</table>\n"
            ],
            "text/markdown": "\nA data.frame: 5 × 4\n\n| x &lt;int&gt; | y &lt;int&gt; | z &lt;chr&gt; | tot_x &lt;int&gt; |\n|---|---|---|---|\n| 1 |  7 | A | 15 |\n| 2 |  8 | B | 15 |\n| 3 |  9 | A | 15 |\n| 4 | 10 | B | 15 |\n| 5 | 11 | C | 15 |\n\n",
            "text/latex": "A data.frame: 5 × 4\n\\begin{tabular}{llll}\n x & y & z & tot\\_x\\\\\n <int> & <int> & <chr> & <int>\\\\\n\\hline\n\t 1 &  7 & A & 15\\\\\n\t 2 &  8 & B & 15\\\\\n\t 3 &  9 & A & 15\\\\\n\t 4 & 10 & B & 15\\\\\n\t 5 & 11 & C & 15\\\\\n\\end{tabular}\n",
            "text/plain": [
              "  x y  z tot_x\n",
              "1 1  7 A 15   \n",
              "2 2  8 B 15   \n",
              "3 3  9 A 15   \n",
              "4 4 10 B 15   \n",
              "5 5 11 C 15   "
            ]
          },
          "metadata": {}
        }
      ]
    },
    {
      "cell_type": "code",
      "source": [
        "exam2 %>%\n",
        "  group_by(z) %>%\n",
        "  mutate(tot_x = sum(x))"
      ],
      "metadata": {
        "id": "3C1-InkrlSKO",
        "outputId": "78f3e28f-8a42-440e-d342-0f2e58da2556",
        "colab": {
          "base_uri": "https://localhost:8080/",
          "height": 254
        }
      },
      "execution_count": 11,
      "outputs": [
        {
          "output_type": "display_data",
          "data": {
            "text/html": [
              "<table class=\"dataframe\">\n",
              "<caption>A grouped_df: 5 × 4</caption>\n",
              "<thead>\n",
              "\t<tr><th scope=col>x</th><th scope=col>y</th><th scope=col>z</th><th scope=col>tot_x</th></tr>\n",
              "\t<tr><th scope=col>&lt;int&gt;</th><th scope=col>&lt;int&gt;</th><th scope=col>&lt;chr&gt;</th><th scope=col>&lt;int&gt;</th></tr>\n",
              "</thead>\n",
              "<tbody>\n",
              "\t<tr><td>1</td><td> 7</td><td>A</td><td>4</td></tr>\n",
              "\t<tr><td>2</td><td> 8</td><td>B</td><td>6</td></tr>\n",
              "\t<tr><td>3</td><td> 9</td><td>A</td><td>4</td></tr>\n",
              "\t<tr><td>4</td><td>10</td><td>B</td><td>6</td></tr>\n",
              "\t<tr><td>5</td><td>11</td><td>C</td><td>5</td></tr>\n",
              "</tbody>\n",
              "</table>\n"
            ],
            "text/markdown": "\nA grouped_df: 5 × 4\n\n| x &lt;int&gt; | y &lt;int&gt; | z &lt;chr&gt; | tot_x &lt;int&gt; |\n|---|---|---|---|\n| 1 |  7 | A | 4 |\n| 2 |  8 | B | 6 |\n| 3 |  9 | A | 4 |\n| 4 | 10 | B | 6 |\n| 5 | 11 | C | 5 |\n\n",
            "text/latex": "A grouped\\_df: 5 × 4\n\\begin{tabular}{llll}\n x & y & z & tot\\_x\\\\\n <int> & <int> & <chr> & <int>\\\\\n\\hline\n\t 1 &  7 & A & 4\\\\\n\t 2 &  8 & B & 6\\\\\n\t 3 &  9 & A & 4\\\\\n\t 4 & 10 & B & 6\\\\\n\t 5 & 11 & C & 5\\\\\n\\end{tabular}\n",
            "text/plain": [
              "  x y  z tot_x\n",
              "1 1  7 A 4    \n",
              "2 2  8 B 6    \n",
              "3 3  9 A 4    \n",
              "4 4 10 B 6    \n",
              "5 5 11 C 5    "
            ]
          },
          "metadata": {}
        }
      ]
    },
    {
      "cell_type": "code",
      "metadata": {
        "trusted": true,
        "id": "nqMyjd6aRPzK",
        "outputId": "3af249ef-cad7-45a4-ee3f-0962d89f34cd",
        "colab": {
          "base_uri": "https://localhost:8080/",
          "height": 129
        }
      },
      "source": [
        "# 1) Aplicar la función summarise a la columna 'y' y calcular su promedio. Lo mismo para la suma de x. # NO CONFUNDIR CON summary()\n",
        "exam2 %>%\n",
        "  summarise(suma_x = sum(x),\n",
        "            prom_y = mean(y))\n",
        "\n",
        "\n",
        "\n"
      ],
      "execution_count": 12,
      "outputs": [
        {
          "output_type": "display_data",
          "data": {
            "text/html": [
              "<table class=\"dataframe\">\n",
              "<caption>A data.frame: 1 × 2</caption>\n",
              "<thead>\n",
              "\t<tr><th scope=col>suma_x</th><th scope=col>prom_y</th></tr>\n",
              "\t<tr><th scope=col>&lt;int&gt;</th><th scope=col>&lt;dbl&gt;</th></tr>\n",
              "</thead>\n",
              "<tbody>\n",
              "\t<tr><td>15</td><td>9</td></tr>\n",
              "</tbody>\n",
              "</table>\n"
            ],
            "text/markdown": "\nA data.frame: 1 × 2\n\n| suma_x &lt;int&gt; | prom_y &lt;dbl&gt; |\n|---|---|\n| 15 | 9 |\n\n",
            "text/latex": "A data.frame: 1 × 2\n\\begin{tabular}{ll}\n suma\\_x & prom\\_y\\\\\n <int> & <dbl>\\\\\n\\hline\n\t 15 & 9\\\\\n\\end{tabular}\n",
            "text/plain": [
              "  suma_x prom_y\n",
              "1 15     9     "
            ]
          },
          "metadata": {}
        }
      ]
    },
    {
      "cell_type": "code",
      "source": [
        "exam2"
      ],
      "metadata": {
        "id": "1yYw9kE_mUxl",
        "outputId": "242f6e33-fad6-4dcd-8709-573ec3ef2ec4",
        "colab": {
          "base_uri": "https://localhost:8080/",
          "height": 254
        }
      },
      "execution_count": 14,
      "outputs": [
        {
          "output_type": "display_data",
          "data": {
            "text/html": [
              "<table class=\"dataframe\">\n",
              "<caption>A data.frame: 5 × 3</caption>\n",
              "<thead>\n",
              "\t<tr><th scope=col>x</th><th scope=col>y</th><th scope=col>z</th></tr>\n",
              "\t<tr><th scope=col>&lt;int&gt;</th><th scope=col>&lt;int&gt;</th><th scope=col>&lt;chr&gt;</th></tr>\n",
              "</thead>\n",
              "<tbody>\n",
              "\t<tr><td>1</td><td> 7</td><td>A</td></tr>\n",
              "\t<tr><td>2</td><td> 8</td><td>B</td></tr>\n",
              "\t<tr><td>3</td><td> 9</td><td>A</td></tr>\n",
              "\t<tr><td>4</td><td>10</td><td>B</td></tr>\n",
              "\t<tr><td>5</td><td>11</td><td>C</td></tr>\n",
              "</tbody>\n",
              "</table>\n"
            ],
            "text/markdown": "\nA data.frame: 5 × 3\n\n| x &lt;int&gt; | y &lt;int&gt; | z &lt;chr&gt; |\n|---|---|---|\n| 1 |  7 | A |\n| 2 |  8 | B |\n| 3 |  9 | A |\n| 4 | 10 | B |\n| 5 | 11 | C |\n\n",
            "text/latex": "A data.frame: 5 × 3\n\\begin{tabular}{lll}\n x & y & z\\\\\n <int> & <int> & <chr>\\\\\n\\hline\n\t 1 &  7 & A\\\\\n\t 2 &  8 & B\\\\\n\t 3 &  9 & A\\\\\n\t 4 & 10 & B\\\\\n\t 5 & 11 & C\\\\\n\\end{tabular}\n",
            "text/plain": [
              "  x y  z\n",
              "1 1  7 A\n",
              "2 2  8 B\n",
              "3 3  9 A\n",
              "4 4 10 B\n",
              "5 5 11 C"
            ]
          },
          "metadata": {}
        }
      ]
    },
    {
      "cell_type": "code",
      "source": [
        "exam2 %>%\n",
        "  group_by(z) %>%\n",
        "  summarise(suma_x = sum(x),\n",
        "            prom_y = mean(y))"
      ],
      "metadata": {
        "id": "YCECye0VmMzO",
        "outputId": "63a2ccc1-f09c-4ad5-a49c-2e3d2880035d",
        "colab": {
          "base_uri": "https://localhost:8080/",
          "height": 192
        }
      },
      "execution_count": 13,
      "outputs": [
        {
          "output_type": "display_data",
          "data": {
            "text/html": [
              "<table class=\"dataframe\">\n",
              "<caption>A tibble: 3 × 3</caption>\n",
              "<thead>\n",
              "\t<tr><th scope=col>z</th><th scope=col>suma_x</th><th scope=col>prom_y</th></tr>\n",
              "\t<tr><th scope=col>&lt;chr&gt;</th><th scope=col>&lt;int&gt;</th><th scope=col>&lt;dbl&gt;</th></tr>\n",
              "</thead>\n",
              "<tbody>\n",
              "\t<tr><td>A</td><td>4</td><td> 8</td></tr>\n",
              "\t<tr><td>B</td><td>6</td><td> 9</td></tr>\n",
              "\t<tr><td>C</td><td>5</td><td>11</td></tr>\n",
              "</tbody>\n",
              "</table>\n"
            ],
            "text/markdown": "\nA tibble: 3 × 3\n\n| z &lt;chr&gt; | suma_x &lt;int&gt; | prom_y &lt;dbl&gt; |\n|---|---|---|\n| A | 4 |  8 |\n| B | 6 |  9 |\n| C | 5 | 11 |\n\n",
            "text/latex": "A tibble: 3 × 3\n\\begin{tabular}{lll}\n z & suma\\_x & prom\\_y\\\\\n <chr> & <int> & <dbl>\\\\\n\\hline\n\t A & 4 &  8\\\\\n\t B & 6 &  9\\\\\n\t C & 5 & 11\\\\\n\\end{tabular}\n",
            "text/plain": [
              "  z suma_x prom_y\n",
              "1 A 4       8    \n",
              "2 B 6       9    \n",
              "3 C 5      11    "
            ]
          },
          "metadata": {}
        }
      ]
    },
    {
      "cell_type": "code",
      "source": [
        "# 2) Generar grupos según la variable z. (a diferencia de sql, el comando group_by() no requiere de una medida agregada para que este funcione.)\n",
        "# select z, avg(x) mean_x, sum(x) tot_x from exam2 group by z"
      ],
      "metadata": {
        "id": "yhVk07vAlo_N"
      },
      "execution_count": null,
      "outputs": []
    },
    {
      "cell_type": "code",
      "metadata": {
        "trusted": true,
        "id": "4-Ru4aPVRPzL",
        "outputId": "2a2cb08f-05be-4d5e-c919-173d56b688d1",
        "colab": {
          "base_uri": "https://localhost:8080/",
          "height": 192
        }
      },
      "source": [
        "# 3) Calcular media de x e y en cada valor de z.\n",
        "# podemos calcular máximos y mínimos\n",
        "exam2 %>%\n",
        "  group_by(z) %>%\n",
        "  summarise(suma_x = sum(x),\n",
        "            prom_y = mean(y),\n",
        "            min_x = min(x),\n",
        "            desv_est_y = sd(y) )"
      ],
      "execution_count": 15,
      "outputs": [
        {
          "output_type": "display_data",
          "data": {
            "text/html": [
              "<table class=\"dataframe\">\n",
              "<caption>A tibble: 3 × 5</caption>\n",
              "<thead>\n",
              "\t<tr><th scope=col>z</th><th scope=col>suma_x</th><th scope=col>prom_y</th><th scope=col>min_x</th><th scope=col>desv_est_y</th></tr>\n",
              "\t<tr><th scope=col>&lt;chr&gt;</th><th scope=col>&lt;int&gt;</th><th scope=col>&lt;dbl&gt;</th><th scope=col>&lt;int&gt;</th><th scope=col>&lt;dbl&gt;</th></tr>\n",
              "</thead>\n",
              "<tbody>\n",
              "\t<tr><td>A</td><td>4</td><td> 8</td><td>1</td><td>1.414214</td></tr>\n",
              "\t<tr><td>B</td><td>6</td><td> 9</td><td>2</td><td>1.414214</td></tr>\n",
              "\t<tr><td>C</td><td>5</td><td>11</td><td>5</td><td>      NA</td></tr>\n",
              "</tbody>\n",
              "</table>\n"
            ],
            "text/markdown": "\nA tibble: 3 × 5\n\n| z &lt;chr&gt; | suma_x &lt;int&gt; | prom_y &lt;dbl&gt; | min_x &lt;int&gt; | desv_est_y &lt;dbl&gt; |\n|---|---|---|---|---|\n| A | 4 |  8 | 1 | 1.414214 |\n| B | 6 |  9 | 2 | 1.414214 |\n| C | 5 | 11 | 5 |       NA |\n\n",
            "text/latex": "A tibble: 3 × 5\n\\begin{tabular}{lllll}\n z & suma\\_x & prom\\_y & min\\_x & desv\\_est\\_y\\\\\n <chr> & <int> & <dbl> & <int> & <dbl>\\\\\n\\hline\n\t A & 4 &  8 & 1 & 1.414214\\\\\n\t B & 6 &  9 & 2 & 1.414214\\\\\n\t C & 5 & 11 & 5 &       NA\\\\\n\\end{tabular}\n",
            "text/plain": [
              "  z suma_x prom_y min_x desv_est_y\n",
              "1 A 4       8     1     1.414214  \n",
              "2 B 6       9     2     1.414214  \n",
              "3 C 5      11     5           NA  "
            ]
          },
          "metadata": {}
        }
      ]
    },
    {
      "cell_type": "code",
      "metadata": {
        "trusted": true,
        "id": "o837pCUtRPzU",
        "outputId": "1b5c7ff2-7a6d-41bd-e5cf-5cedcc9ecc34",
        "colab": {
          "base_uri": "https://localhost:8080/",
          "height": 1000
        }
      },
      "source": [
        "# promedio de retraso de llegada por origen-destino\n",
        "vuelos %>%\n",
        "  group_by(origin,dest) %>%\n",
        "  summarise(prom_arr_del = mean(arr_delay))\n"
      ],
      "execution_count": 16,
      "outputs": [
        {
          "output_type": "stream",
          "name": "stderr",
          "text": [
            "\u001b[1m\u001b[22m`summarise()` has grouped output by 'origin'. You can override using the\n",
            "`.groups` argument.\n"
          ]
        },
        {
          "output_type": "display_data",
          "data": {
            "text/html": [
              "<table class=\"dataframe\">\n",
              "<caption>A grouped_df: 224 × 3</caption>\n",
              "<thead>\n",
              "\t<tr><th scope=col>origin</th><th scope=col>dest</th><th scope=col>prom_arr_del</th></tr>\n",
              "\t<tr><th scope=col>&lt;chr&gt;</th><th scope=col>&lt;chr&gt;</th><th scope=col>&lt;dbl&gt;</th></tr>\n",
              "</thead>\n",
              "<tbody>\n",
              "\t<tr><td>EWR</td><td>ALB</td><td>  NA</td></tr>\n",
              "\t<tr><td>EWR</td><td>ANC</td><td>-2.5</td></tr>\n",
              "\t<tr><td>EWR</td><td>ATL</td><td>  NA</td></tr>\n",
              "\t<tr><td>EWR</td><td>AUS</td><td>  NA</td></tr>\n",
              "\t<tr><td>EWR</td><td>AVL</td><td>  NA</td></tr>\n",
              "\t<tr><td>EWR</td><td>BDL</td><td>  NA</td></tr>\n",
              "\t<tr><td>EWR</td><td>BNA</td><td>  NA</td></tr>\n",
              "\t<tr><td>EWR</td><td>BOS</td><td>  NA</td></tr>\n",
              "\t<tr><td>EWR</td><td>BQN</td><td>  NA</td></tr>\n",
              "\t<tr><td>EWR</td><td>BTV</td><td>  NA</td></tr>\n",
              "\t<tr><td>EWR</td><td>BUF</td><td>  NA</td></tr>\n",
              "\t<tr><td>EWR</td><td>BWI</td><td>  NA</td></tr>\n",
              "\t<tr><td>EWR</td><td>BZN</td><td>  NA</td></tr>\n",
              "\t<tr><td>EWR</td><td>CAE</td><td>  NA</td></tr>\n",
              "\t<tr><td>EWR</td><td>CHS</td><td>  NA</td></tr>\n",
              "\t<tr><td>EWR</td><td>CLE</td><td>  NA</td></tr>\n",
              "\t<tr><td>EWR</td><td>CLT</td><td>  NA</td></tr>\n",
              "\t<tr><td>EWR</td><td>CMH</td><td>  NA</td></tr>\n",
              "\t<tr><td>EWR</td><td>CVG</td><td>  NA</td></tr>\n",
              "\t<tr><td>EWR</td><td>DAY</td><td>  NA</td></tr>\n",
              "\t<tr><td>EWR</td><td>DCA</td><td>  NA</td></tr>\n",
              "\t<tr><td>EWR</td><td>DEN</td><td>  NA</td></tr>\n",
              "\t<tr><td>EWR</td><td>DFW</td><td>  NA</td></tr>\n",
              "\t<tr><td>EWR</td><td>DSM</td><td>  NA</td></tr>\n",
              "\t<tr><td>EWR</td><td>DTW</td><td>  NA</td></tr>\n",
              "\t<tr><td>EWR</td><td>EGE</td><td>  NA</td></tr>\n",
              "\t<tr><td>EWR</td><td>FLL</td><td>  NA</td></tr>\n",
              "\t<tr><td>EWR</td><td>GRR</td><td>  NA</td></tr>\n",
              "\t<tr><td>EWR</td><td>GSO</td><td>  NA</td></tr>\n",
              "\t<tr><td>EWR</td><td>GSP</td><td>  NA</td></tr>\n",
              "\t<tr><td>⋮</td><td>⋮</td><td>⋮</td></tr>\n",
              "\t<tr><td>LGA</td><td>MDW</td><td>       NA</td></tr>\n",
              "\t<tr><td>LGA</td><td>MEM</td><td>       NA</td></tr>\n",
              "\t<tr><td>LGA</td><td>MHT</td><td>       NA</td></tr>\n",
              "\t<tr><td>LGA</td><td>MIA</td><td>       NA</td></tr>\n",
              "\t<tr><td>LGA</td><td>MKE</td><td>       NA</td></tr>\n",
              "\t<tr><td>LGA</td><td>MSN</td><td>       NA</td></tr>\n",
              "\t<tr><td>LGA</td><td>MSP</td><td>       NA</td></tr>\n",
              "\t<tr><td>LGA</td><td>MSY</td><td>       NA</td></tr>\n",
              "\t<tr><td>LGA</td><td>MYR</td><td> -3.00000</td></tr>\n",
              "\t<tr><td>LGA</td><td>OMA</td><td>       NA</td></tr>\n",
              "\t<tr><td>LGA</td><td>ORD</td><td>       NA</td></tr>\n",
              "\t<tr><td>LGA</td><td>ORF</td><td>       NA</td></tr>\n",
              "\t<tr><td>LGA</td><td>PBI</td><td>       NA</td></tr>\n",
              "\t<tr><td>LGA</td><td>PHL</td><td>       NA</td></tr>\n",
              "\t<tr><td>LGA</td><td>PIT</td><td>       NA</td></tr>\n",
              "\t<tr><td>LGA</td><td>PWM</td><td>       NA</td></tr>\n",
              "\t<tr><td>LGA</td><td>RDU</td><td>       NA</td></tr>\n",
              "\t<tr><td>LGA</td><td>RIC</td><td>       NA</td></tr>\n",
              "\t<tr><td>LGA</td><td>ROC</td><td>       NA</td></tr>\n",
              "\t<tr><td>LGA</td><td>RSW</td><td>       NA</td></tr>\n",
              "\t<tr><td>LGA</td><td>SAV</td><td>-10.51471</td></tr>\n",
              "\t<tr><td>LGA</td><td>SBN</td><td> 14.50000</td></tr>\n",
              "\t<tr><td>LGA</td><td>SDF</td><td>       NA</td></tr>\n",
              "\t<tr><td>LGA</td><td>SRQ</td><td>       NA</td></tr>\n",
              "\t<tr><td>LGA</td><td>STL</td><td>       NA</td></tr>\n",
              "\t<tr><td>LGA</td><td>SYR</td><td>       NA</td></tr>\n",
              "\t<tr><td>LGA</td><td>TPA</td><td>       NA</td></tr>\n",
              "\t<tr><td>LGA</td><td>TVC</td><td>       NA</td></tr>\n",
              "\t<tr><td>LGA</td><td>TYS</td><td>       NA</td></tr>\n",
              "\t<tr><td>LGA</td><td>XNA</td><td>       NA</td></tr>\n",
              "</tbody>\n",
              "</table>\n"
            ],
            "text/markdown": "\nA grouped_df: 224 × 3\n\n| origin &lt;chr&gt; | dest &lt;chr&gt; | prom_arr_del &lt;dbl&gt; |\n|---|---|---|\n| EWR | ALB |   NA |\n| EWR | ANC | -2.5 |\n| EWR | ATL |   NA |\n| EWR | AUS |   NA |\n| EWR | AVL |   NA |\n| EWR | BDL |   NA |\n| EWR | BNA |   NA |\n| EWR | BOS |   NA |\n| EWR | BQN |   NA |\n| EWR | BTV |   NA |\n| EWR | BUF |   NA |\n| EWR | BWI |   NA |\n| EWR | BZN |   NA |\n| EWR | CAE |   NA |\n| EWR | CHS |   NA |\n| EWR | CLE |   NA |\n| EWR | CLT |   NA |\n| EWR | CMH |   NA |\n| EWR | CVG |   NA |\n| EWR | DAY |   NA |\n| EWR | DCA |   NA |\n| EWR | DEN |   NA |\n| EWR | DFW |   NA |\n| EWR | DSM |   NA |\n| EWR | DTW |   NA |\n| EWR | EGE |   NA |\n| EWR | FLL |   NA |\n| EWR | GRR |   NA |\n| EWR | GSO |   NA |\n| EWR | GSP |   NA |\n| ⋮ | ⋮ | ⋮ |\n| LGA | MDW |        NA |\n| LGA | MEM |        NA |\n| LGA | MHT |        NA |\n| LGA | MIA |        NA |\n| LGA | MKE |        NA |\n| LGA | MSN |        NA |\n| LGA | MSP |        NA |\n| LGA | MSY |        NA |\n| LGA | MYR |  -3.00000 |\n| LGA | OMA |        NA |\n| LGA | ORD |        NA |\n| LGA | ORF |        NA |\n| LGA | PBI |        NA |\n| LGA | PHL |        NA |\n| LGA | PIT |        NA |\n| LGA | PWM |        NA |\n| LGA | RDU |        NA |\n| LGA | RIC |        NA |\n| LGA | ROC |        NA |\n| LGA | RSW |        NA |\n| LGA | SAV | -10.51471 |\n| LGA | SBN |  14.50000 |\n| LGA | SDF |        NA |\n| LGA | SRQ |        NA |\n| LGA | STL |        NA |\n| LGA | SYR |        NA |\n| LGA | TPA |        NA |\n| LGA | TVC |        NA |\n| LGA | TYS |        NA |\n| LGA | XNA |        NA |\n\n",
            "text/latex": "A grouped\\_df: 224 × 3\n\\begin{tabular}{lll}\n origin & dest & prom\\_arr\\_del\\\\\n <chr> & <chr> & <dbl>\\\\\n\\hline\n\t EWR & ALB &   NA\\\\\n\t EWR & ANC & -2.5\\\\\n\t EWR & ATL &   NA\\\\\n\t EWR & AUS &   NA\\\\\n\t EWR & AVL &   NA\\\\\n\t EWR & BDL &   NA\\\\\n\t EWR & BNA &   NA\\\\\n\t EWR & BOS &   NA\\\\\n\t EWR & BQN &   NA\\\\\n\t EWR & BTV &   NA\\\\\n\t EWR & BUF &   NA\\\\\n\t EWR & BWI &   NA\\\\\n\t EWR & BZN &   NA\\\\\n\t EWR & CAE &   NA\\\\\n\t EWR & CHS &   NA\\\\\n\t EWR & CLE &   NA\\\\\n\t EWR & CLT &   NA\\\\\n\t EWR & CMH &   NA\\\\\n\t EWR & CVG &   NA\\\\\n\t EWR & DAY &   NA\\\\\n\t EWR & DCA &   NA\\\\\n\t EWR & DEN &   NA\\\\\n\t EWR & DFW &   NA\\\\\n\t EWR & DSM &   NA\\\\\n\t EWR & DTW &   NA\\\\\n\t EWR & EGE &   NA\\\\\n\t EWR & FLL &   NA\\\\\n\t EWR & GRR &   NA\\\\\n\t EWR & GSO &   NA\\\\\n\t EWR & GSP &   NA\\\\\n\t ⋮ & ⋮ & ⋮\\\\\n\t LGA & MDW &        NA\\\\\n\t LGA & MEM &        NA\\\\\n\t LGA & MHT &        NA\\\\\n\t LGA & MIA &        NA\\\\\n\t LGA & MKE &        NA\\\\\n\t LGA & MSN &        NA\\\\\n\t LGA & MSP &        NA\\\\\n\t LGA & MSY &        NA\\\\\n\t LGA & MYR &  -3.00000\\\\\n\t LGA & OMA &        NA\\\\\n\t LGA & ORD &        NA\\\\\n\t LGA & ORF &        NA\\\\\n\t LGA & PBI &        NA\\\\\n\t LGA & PHL &        NA\\\\\n\t LGA & PIT &        NA\\\\\n\t LGA & PWM &        NA\\\\\n\t LGA & RDU &        NA\\\\\n\t LGA & RIC &        NA\\\\\n\t LGA & ROC &        NA\\\\\n\t LGA & RSW &        NA\\\\\n\t LGA & SAV & -10.51471\\\\\n\t LGA & SBN &  14.50000\\\\\n\t LGA & SDF &        NA\\\\\n\t LGA & SRQ &        NA\\\\\n\t LGA & STL &        NA\\\\\n\t LGA & SYR &        NA\\\\\n\t LGA & TPA &        NA\\\\\n\t LGA & TVC &        NA\\\\\n\t LGA & TYS &        NA\\\\\n\t LGA & XNA &        NA\\\\\n\\end{tabular}\n",
            "text/plain": [
              "    origin dest prom_arr_del\n",
              "1   EWR    ALB    NA        \n",
              "2   EWR    ANC  -2.5        \n",
              "3   EWR    ATL    NA        \n",
              "4   EWR    AUS    NA        \n",
              "5   EWR    AVL    NA        \n",
              "6   EWR    BDL    NA        \n",
              "7   EWR    BNA    NA        \n",
              "8   EWR    BOS    NA        \n",
              "9   EWR    BQN    NA        \n",
              "10  EWR    BTV    NA        \n",
              "11  EWR    BUF    NA        \n",
              "12  EWR    BWI    NA        \n",
              "13  EWR    BZN    NA        \n",
              "14  EWR    CAE    NA        \n",
              "15  EWR    CHS    NA        \n",
              "16  EWR    CLE    NA        \n",
              "17  EWR    CLT    NA        \n",
              "18  EWR    CMH    NA        \n",
              "19  EWR    CVG    NA        \n",
              "20  EWR    DAY    NA        \n",
              "21  EWR    DCA    NA        \n",
              "22  EWR    DEN    NA        \n",
              "23  EWR    DFW    NA        \n",
              "24  EWR    DSM    NA        \n",
              "25  EWR    DTW    NA        \n",
              "26  EWR    EGE    NA        \n",
              "27  EWR    FLL    NA        \n",
              "28  EWR    GRR    NA        \n",
              "29  EWR    GSO    NA        \n",
              "30  EWR    GSP    NA        \n",
              "⋮   ⋮      ⋮    ⋮           \n",
              "195 LGA    MDW         NA   \n",
              "196 LGA    MEM         NA   \n",
              "197 LGA    MHT         NA   \n",
              "198 LGA    MIA         NA   \n",
              "199 LGA    MKE         NA   \n",
              "200 LGA    MSN         NA   \n",
              "201 LGA    MSP         NA   \n",
              "202 LGA    MSY         NA   \n",
              "203 LGA    MYR   -3.00000   \n",
              "204 LGA    OMA         NA   \n",
              "205 LGA    ORD         NA   \n",
              "206 LGA    ORF         NA   \n",
              "207 LGA    PBI         NA   \n",
              "208 LGA    PHL         NA   \n",
              "209 LGA    PIT         NA   \n",
              "210 LGA    PWM         NA   \n",
              "211 LGA    RDU         NA   \n",
              "212 LGA    RIC         NA   \n",
              "213 LGA    ROC         NA   \n",
              "214 LGA    RSW         NA   \n",
              "215 LGA    SAV  -10.51471   \n",
              "216 LGA    SBN   14.50000   \n",
              "217 LGA    SDF         NA   \n",
              "218 LGA    SRQ         NA   \n",
              "219 LGA    STL         NA   \n",
              "220 LGA    SYR         NA   \n",
              "221 LGA    TPA         NA   \n",
              "222 LGA    TVC         NA   \n",
              "223 LGA    TYS         NA   \n",
              "224 LGA    XNA         NA   "
            ]
          },
          "metadata": {}
        }
      ]
    },
    {
      "cell_type": "code",
      "source": [
        "# Existiràn vuelos entre EWR y\tALB?\n",
        "vuelos %>%\n",
        "  filter(origin == \"EWR\" & dest == \"ALB\")\t%>%\n",
        "  nrow()# Sí, si hay vuelos entre estos dos aeropuertos"
      ],
      "metadata": {
        "id": "TVRJnYV4oLaW",
        "outputId": "d68b9568-0241-48b9-b39f-3f6a4ef5f52f",
        "colab": {
          "base_uri": "https://localhost:8080/",
          "height": 34
        }
      },
      "execution_count": 18,
      "outputs": [
        {
          "output_type": "display_data",
          "data": {
            "text/html": [
              "439"
            ],
            "text/markdown": "439",
            "text/latex": "439",
            "text/plain": [
              "[1] 439"
            ]
          },
          "metadata": {}
        }
      ]
    },
    {
      "cell_type": "code",
      "source": [
        "vuelos %>%\n",
        "  filter(origin == \"EWR\" & dest == \"ALB\")\t# Hay NA's en arr_delay"
      ],
      "metadata": {
        "id": "BOplJ1fGoiPj",
        "outputId": "f26ff326-88a7-44de-e28d-22d42453d4d9",
        "colab": {
          "base_uri": "https://localhost:8080/",
          "height": 1000
        }
      },
      "execution_count": 19,
      "outputs": [
        {
          "output_type": "display_data",
          "data": {
            "text/html": [
              "<table class=\"dataframe\">\n",
              "<caption>A data.frame: 439 × 19</caption>\n",
              "<thead>\n",
              "\t<tr><th scope=col>year</th><th scope=col>month</th><th scope=col>day</th><th scope=col>dep_time</th><th scope=col>sched_dep_time</th><th scope=col>dep_delay</th><th scope=col>arr_time</th><th scope=col>sched_arr_time</th><th scope=col>arr_delay</th><th scope=col>carrier</th><th scope=col>flight</th><th scope=col>tailnum</th><th scope=col>origin</th><th scope=col>dest</th><th scope=col>air_time</th><th scope=col>distance</th><th scope=col>hour</th><th scope=col>minute</th><th scope=col>time_hour</th></tr>\n",
              "\t<tr><th scope=col>&lt;int&gt;</th><th scope=col>&lt;int&gt;</th><th scope=col>&lt;int&gt;</th><th scope=col>&lt;int&gt;</th><th scope=col>&lt;int&gt;</th><th scope=col>&lt;int&gt;</th><th scope=col>&lt;int&gt;</th><th scope=col>&lt;int&gt;</th><th scope=col>&lt;int&gt;</th><th scope=col>&lt;chr&gt;</th><th scope=col>&lt;int&gt;</th><th scope=col>&lt;chr&gt;</th><th scope=col>&lt;chr&gt;</th><th scope=col>&lt;chr&gt;</th><th scope=col>&lt;int&gt;</th><th scope=col>&lt;int&gt;</th><th scope=col>&lt;int&gt;</th><th scope=col>&lt;int&gt;</th><th scope=col>&lt;chr&gt;</th></tr>\n",
              "</thead>\n",
              "<tbody>\n",
              "\t<tr><td>2013</td><td>1</td><td> 1</td><td>1315</td><td>1317</td><td> -2</td><td>1413</td><td>1423</td><td>-10</td><td>EV</td><td>4112</td><td>N13538</td><td>EWR</td><td>ALB</td><td>33</td><td>143</td><td>13</td><td>17</td><td>2013-01-01 13:00:00</td></tr>\n",
              "\t<tr><td>2013</td><td>1</td><td> 1</td><td>1655</td><td>1621</td><td> 34</td><td>1804</td><td>1724</td><td> 40</td><td>EV</td><td>3260</td><td>N19554</td><td>EWR</td><td>ALB</td><td>36</td><td>143</td><td>16</td><td>21</td><td>2013-01-01 16:00:00</td></tr>\n",
              "\t<tr><td>2013</td><td>1</td><td> 1</td><td>2056</td><td>2004</td><td> 52</td><td>2156</td><td>2112</td><td> 44</td><td>EV</td><td>4170</td><td>N12540</td><td>EWR</td><td>ALB</td><td>31</td><td>143</td><td>20</td><td> 4</td><td>2013-01-01 20:00:00</td></tr>\n",
              "\t<tr><td>2013</td><td>1</td><td> 2</td><td>1332</td><td>1327</td><td>  5</td><td>1419</td><td>1433</td><td>-14</td><td>EV</td><td>4316</td><td>N14153</td><td>EWR</td><td>ALB</td><td>33</td><td>143</td><td>13</td><td>27</td><td>2013-01-02 13:00:00</td></tr>\n",
              "\t<tr><td>2013</td><td>1</td><td> 2</td><td>1746</td><td>1621</td><td> 85</td><td>1835</td><td>1724</td><td> 71</td><td>EV</td><td>3260</td><td>N14153</td><td>EWR</td><td>ALB</td><td>31</td><td>143</td><td>16</td><td>21</td><td>2013-01-02 16:00:00</td></tr>\n",
              "\t<tr><td>2013</td><td>1</td><td> 2</td><td>2148</td><td>2004</td><td>104</td><td>2234</td><td>2112</td><td> 82</td><td>EV</td><td>4170</td><td>N12540</td><td>EWR</td><td>ALB</td><td>30</td><td>143</td><td>20</td><td> 4</td><td>2013-01-02 20:00:00</td></tr>\n",
              "\t<tr><td>2013</td><td>1</td><td> 3</td><td>1716</td><td>1619</td><td> 57</td><td>1803</td><td>1723</td><td> 40</td><td>EV</td><td>4271</td><td>N31131</td><td>EWR</td><td>ALB</td><td>31</td><td>143</td><td>16</td><td>19</td><td>2013-01-03 16:00:00</td></tr>\n",
              "\t<tr><td>2013</td><td>1</td><td> 3</td><td>2031</td><td>2038</td><td> -7</td><td>2131</td><td>2139</td><td> -8</td><td>EV</td><td>4309</td><td>N16561</td><td>EWR</td><td>ALB</td><td>37</td><td>143</td><td>20</td><td>38</td><td>2013-01-03 20:00:00</td></tr>\n",
              "\t<tr><td>2013</td><td>1</td><td> 4</td><td>1618</td><td>1619</td><td> -1</td><td>1714</td><td>1723</td><td> -9</td><td>EV</td><td>4271</td><td>N12567</td><td>EWR</td><td>ALB</td><td>33</td><td>143</td><td>16</td><td>19</td><td>2013-01-04 16:00:00</td></tr>\n",
              "\t<tr><td>2013</td><td>1</td><td> 4</td><td>2031</td><td>2000</td><td> 31</td><td>2131</td><td>2101</td><td> 30</td><td>EV</td><td>4309</td><td>N12540</td><td>EWR</td><td>ALB</td><td>31</td><td>143</td><td>20</td><td> 0</td><td>2013-01-04 20:00:00</td></tr>\n",
              "\t<tr><td>2013</td><td>1</td><td> 5</td><td>1619</td><td>1620</td><td> -1</td><td>1714</td><td>1724</td><td>-10</td><td>EV</td><td>4271</td><td>N14179</td><td>EWR</td><td>ALB</td><td>30</td><td>143</td><td>16</td><td>20</td><td>2013-01-05 16:00:00</td></tr>\n",
              "\t<tr><td>2013</td><td>1</td><td> 5</td><td>1959</td><td>2000</td><td> -1</td><td>2056</td><td>2104</td><td> -8</td><td>EV</td><td>4309</td><td>N21144</td><td>EWR</td><td>ALB</td><td>31</td><td>143</td><td>20</td><td> 0</td><td>2013-01-05 20:00:00</td></tr>\n",
              "\t<tr><td>2013</td><td>1</td><td> 6</td><td>1755</td><td>1619</td><td> 96</td><td>1858</td><td>1723</td><td> 95</td><td>EV</td><td>4271</td><td>N14916</td><td>EWR</td><td>ALB</td><td>30</td><td>143</td><td>16</td><td>19</td><td>2013-01-06 16:00:00</td></tr>\n",
              "\t<tr><td>2013</td><td>1</td><td> 6</td><td>2004</td><td>2005</td><td> -1</td><td>2113</td><td>2109</td><td>  4</td><td>EV</td><td>4309</td><td>N14953</td><td>EWR</td><td>ALB</td><td>31</td><td>143</td><td>20</td><td> 5</td><td>2013-01-06 20:00:00</td></tr>\n",
              "\t<tr><td>2013</td><td>1</td><td> 7</td><td>1619</td><td>1619</td><td>  0</td><td>1714</td><td>1723</td><td> -9</td><td>EV</td><td>4271</td><td>N15973</td><td>EWR</td><td>ALB</td><td>29</td><td>143</td><td>16</td><td>19</td><td>2013-01-07 16:00:00</td></tr>\n",
              "\t<tr><td>2013</td><td>1</td><td> 7</td><td>2045</td><td>2000</td><td> 45</td><td>2142</td><td>2101</td><td> 41</td><td>EV</td><td>4309</td><td>N19554</td><td>EWR</td><td>ALB</td><td>28</td><td>143</td><td>20</td><td> 0</td><td>2013-01-07 20:00:00</td></tr>\n",
              "\t<tr><td>2013</td><td>1</td><td> 8</td><td>1618</td><td>1619</td><td> -1</td><td>1708</td><td>1723</td><td>-15</td><td>EV</td><td>4271</td><td>N12201</td><td>EWR</td><td>ALB</td><td>33</td><td>143</td><td>16</td><td>19</td><td>2013-01-08 16:00:00</td></tr>\n",
              "\t<tr><td>2013</td><td>1</td><td> 8</td><td>2005</td><td>2000</td><td>  5</td><td>2056</td><td>2101</td><td> -5</td><td>EV</td><td>4309</td><td>N13955</td><td>EWR</td><td>ALB</td><td>30</td><td>143</td><td>20</td><td> 0</td><td>2013-01-08 20:00:00</td></tr>\n",
              "\t<tr><td>2013</td><td>1</td><td> 9</td><td>1615</td><td>1619</td><td> -4</td><td>1706</td><td>1723</td><td>-17</td><td>EV</td><td>4271</td><td>N14153</td><td>EWR</td><td>ALB</td><td>33</td><td>143</td><td>16</td><td>19</td><td>2013-01-09 16:00:00</td></tr>\n",
              "\t<tr><td>2013</td><td>1</td><td> 9</td><td>1954</td><td>2000</td><td> -6</td><td>2045</td><td>2101</td><td>-16</td><td>EV</td><td>4309</td><td>N36915</td><td>EWR</td><td>ALB</td><td>36</td><td>143</td><td>20</td><td> 0</td><td>2013-01-09 20:00:00</td></tr>\n",
              "\t<tr><td>2013</td><td>1</td><td>10</td><td>1801</td><td>1619</td><td>102</td><td>1923</td><td>1723</td><td>120</td><td>EV</td><td>4271</td><td>N14148</td><td>EWR</td><td>ALB</td><td>32</td><td>143</td><td>16</td><td>19</td><td>2013-01-10 16:00:00</td></tr>\n",
              "\t<tr><td>2013</td><td>1</td><td>10</td><td>2127</td><td>2038</td><td> 49</td><td>2214</td><td>2139</td><td> 35</td><td>EV</td><td>4309</td><td>N13955</td><td>EWR</td><td>ALB</td><td>28</td><td>143</td><td>20</td><td>38</td><td>2013-01-10 20:00:00</td></tr>\n",
              "\t<tr><td>2013</td><td>1</td><td>11</td><td>1614</td><td>1619</td><td> -5</td><td>1718</td><td>1723</td><td> -5</td><td>EV</td><td>4271</td><td>N16147</td><td>EWR</td><td>ALB</td><td>36</td><td>143</td><td>16</td><td>19</td><td>2013-01-11 16:00:00</td></tr>\n",
              "\t<tr><td>2013</td><td>1</td><td>11</td><td>1956</td><td>2000</td><td> -4</td><td>2059</td><td>2101</td><td> -2</td><td>EV</td><td>4309</td><td>N13994</td><td>EWR</td><td>ALB</td><td>36</td><td>143</td><td>20</td><td> 0</td><td>2013-01-11 20:00:00</td></tr>\n",
              "\t<tr><td>2013</td><td>1</td><td>12</td><td>1619</td><td>1620</td><td> -1</td><td>1718</td><td>1724</td><td> -6</td><td>EV</td><td>4271</td><td>N14188</td><td>EWR</td><td>ALB</td><td>36</td><td>143</td><td>16</td><td>20</td><td>2013-01-12 16:00:00</td></tr>\n",
              "\t<tr><td>2013</td><td>1</td><td>12</td><td>1958</td><td>2000</td><td> -2</td><td>2049</td><td>2104</td><td>-15</td><td>EV</td><td>4309</td><td>N12922</td><td>EWR</td><td>ALB</td><td>30</td><td>143</td><td>20</td><td> 0</td><td>2013-01-12 20:00:00</td></tr>\n",
              "\t<tr><td>2013</td><td>1</td><td>13</td><td>1721</td><td>1619</td><td> 62</td><td>1821</td><td>1723</td><td> 58</td><td>EV</td><td>4271</td><td>N12166</td><td>EWR</td><td>ALB</td><td>45</td><td>143</td><td>16</td><td>19</td><td>2013-01-13 16:00:00</td></tr>\n",
              "\t<tr><td>2013</td><td>1</td><td>13</td><td>2034</td><td>2005</td><td> 29</td><td>2152</td><td>2109</td><td> 43</td><td>EV</td><td>4309</td><td>N18557</td><td>EWR</td><td>ALB</td><td>34</td><td>143</td><td>20</td><td> 5</td><td>2013-01-13 20:00:00</td></tr>\n",
              "\t<tr><td>2013</td><td>1</td><td>14</td><td>1616</td><td>1619</td><td> -3</td><td>1709</td><td>1723</td><td>-14</td><td>EV</td><td>4271</td><td>N12195</td><td>EWR</td><td>ALB</td><td>32</td><td>143</td><td>16</td><td>19</td><td>2013-01-14 16:00:00</td></tr>\n",
              "\t<tr><td>2013</td><td>1</td><td>14</td><td>2022</td><td>2000</td><td> 22</td><td>2115</td><td>2101</td><td> 14</td><td>EV</td><td>4309</td><td>N12564</td><td>EWR</td><td>ALB</td><td>30</td><td>143</td><td>20</td><td> 0</td><td>2013-01-14 20:00:00</td></tr>\n",
              "\t<tr><td>⋮</td><td>⋮</td><td>⋮</td><td>⋮</td><td>⋮</td><td>⋮</td><td>⋮</td><td>⋮</td><td>⋮</td><td>⋮</td><td>⋮</td><td>⋮</td><td>⋮</td><td>⋮</td><td>⋮</td><td>⋮</td><td>⋮</td><td>⋮</td><td>⋮</td></tr>\n",
              "\t<tr><td>2013</td><td>8</td><td>16</td><td> 717</td><td> 720</td><td> -3</td><td> 810</td><td> 831</td><td>-21</td><td>EV</td><td>4565</td><td>N13956</td><td>EWR</td><td>ALB</td><td>30</td><td>143</td><td> 7</td><td>20</td><td>2013-08-16 07:00:00</td></tr>\n",
              "\t<tr><td>2013</td><td>8</td><td>17</td><td> 714</td><td> 720</td><td> -6</td><td> 803</td><td> 831</td><td>-28</td><td>EV</td><td>4565</td><td>N13958</td><td>EWR</td><td>ALB</td><td>31</td><td>143</td><td> 7</td><td>20</td><td>2013-08-17 07:00:00</td></tr>\n",
              "\t<tr><td>2013</td><td>8</td><td>19</td><td> 717</td><td> 720</td><td> -3</td><td> 810</td><td> 831</td><td>-21</td><td>EV</td><td>4565</td><td>N11181</td><td>EWR</td><td>ALB</td><td>32</td><td>143</td><td> 7</td><td>20</td><td>2013-08-19 07:00:00</td></tr>\n",
              "\t<tr><td>2013</td><td>8</td><td>20</td><td> 711</td><td> 720</td><td> -9</td><td> 800</td><td> 831</td><td>-31</td><td>EV</td><td>4565</td><td>N11184</td><td>EWR</td><td>ALB</td><td>29</td><td>143</td><td> 7</td><td>20</td><td>2013-08-20 07:00:00</td></tr>\n",
              "\t<tr><td>2013</td><td>8</td><td>21</td><td> 715</td><td> 720</td><td> -5</td><td> 813</td><td> 831</td><td>-18</td><td>EV</td><td>4565</td><td>N14168</td><td>EWR</td><td>ALB</td><td>28</td><td>143</td><td> 7</td><td>20</td><td>2013-08-21 07:00:00</td></tr>\n",
              "\t<tr><td>2013</td><td>8</td><td>22</td><td> 728</td><td> 720</td><td>  8</td><td> 836</td><td> 831</td><td>  5</td><td>EV</td><td>4565</td><td>N14174</td><td>EWR</td><td>ALB</td><td>31</td><td>143</td><td> 7</td><td>20</td><td>2013-08-22 07:00:00</td></tr>\n",
              "\t<tr><td>2013</td><td>8</td><td>23</td><td> 721</td><td> 720</td><td>  1</td><td> 813</td><td> 831</td><td>-18</td><td>EV</td><td>4565</td><td>N14173</td><td>EWR</td><td>ALB</td><td>30</td><td>143</td><td> 7</td><td>20</td><td>2013-08-23 07:00:00</td></tr>\n",
              "\t<tr><td>2013</td><td>8</td><td>24</td><td> 720</td><td> 720</td><td>  0</td><td> 811</td><td> 831</td><td>-20</td><td>EV</td><td>4565</td><td>N12167</td><td>EWR</td><td>ALB</td><td>29</td><td>143</td><td> 7</td><td>20</td><td>2013-08-24 07:00:00</td></tr>\n",
              "\t<tr><td>2013</td><td>8</td><td>26</td><td> 715</td><td> 720</td><td> -5</td><td> 808</td><td> 831</td><td>-23</td><td>EV</td><td>4565</td><td>N14174</td><td>EWR</td><td>ALB</td><td>34</td><td>143</td><td> 7</td><td>20</td><td>2013-08-26 07:00:00</td></tr>\n",
              "\t<tr><td>2013</td><td>8</td><td>27</td><td>2153</td><td>2159</td><td> -6</td><td>2242</td><td>2307</td><td>-25</td><td>EV</td><td>5976</td><td>N12175</td><td>EWR</td><td>ALB</td><td>26</td><td>143</td><td>21</td><td>59</td><td>2013-08-27 21:00:00</td></tr>\n",
              "\t<tr><td>2013</td><td>9</td><td> 5</td><td>2155</td><td>2159</td><td> -4</td><td>2248</td><td>2307</td><td>-19</td><td>EV</td><td>4396</td><td>N27962</td><td>EWR</td><td>ALB</td><td>30</td><td>143</td><td>21</td><td>59</td><td>2013-09-05 21:00:00</td></tr>\n",
              "\t<tr><td>2013</td><td>9</td><td> 6</td><td>2207</td><td>2159</td><td>  8</td><td>2255</td><td>2303</td><td> -8</td><td>EV</td><td>6043</td><td>N21537</td><td>EWR</td><td>ALB</td><td>26</td><td>143</td><td>21</td><td>59</td><td>2013-09-06 21:00:00</td></tr>\n",
              "\t<tr><td>2013</td><td>9</td><td> 7</td><td>2157</td><td>2159</td><td> -2</td><td>2253</td><td>2303</td><td>-10</td><td>EV</td><td>4396</td><td>N13903</td><td>EWR</td><td>ALB</td><td>33</td><td>143</td><td>21</td><td>59</td><td>2013-09-07 21:00:00</td></tr>\n",
              "\t<tr><td>2013</td><td>9</td><td> 8</td><td>2156</td><td>2159</td><td> -3</td><td>2250</td><td>2303</td><td>-13</td><td>EV</td><td>4264</td><td>N11113</td><td>EWR</td><td>ALB</td><td>29</td><td>143</td><td>21</td><td>59</td><td>2013-09-08 21:00:00</td></tr>\n",
              "\t<tr><td>2013</td><td>9</td><td> 9</td><td>2151</td><td>2159</td><td> -8</td><td>2242</td><td>2303</td><td>-21</td><td>EV</td><td>4264</td><td>N16951</td><td>EWR</td><td>ALB</td><td>32</td><td>143</td><td>21</td><td>59</td><td>2013-09-09 21:00:00</td></tr>\n",
              "\t<tr><td>2013</td><td>9</td><td>10</td><td>2237</td><td>2159</td><td> 38</td><td>2328</td><td>2303</td><td> 25</td><td>EV</td><td>6043</td><td>N13566</td><td>EWR</td><td>ALB</td><td>34</td><td>143</td><td>21</td><td>59</td><td>2013-09-10 21:00:00</td></tr>\n",
              "\t<tr><td>2013</td><td>9</td><td>11</td><td>2254</td><td>2159</td><td> 55</td><td>2336</td><td>2303</td><td> 33</td><td>EV</td><td>6043</td><td>N10575</td><td>EWR</td><td>ALB</td><td>27</td><td>143</td><td>21</td><td>59</td><td>2013-09-11 21:00:00</td></tr>\n",
              "\t<tr><td>2013</td><td>9</td><td>12</td><td>  NA</td><td>2159</td><td> NA</td><td>  NA</td><td>2303</td><td> NA</td><td>EV</td><td>6043</td><td>N10575</td><td>EWR</td><td>ALB</td><td>NA</td><td>143</td><td>21</td><td>59</td><td>2013-09-12 21:00:00</td></tr>\n",
              "\t<tr><td>2013</td><td>9</td><td>13</td><td>2158</td><td>2159</td><td> -1</td><td>2300</td><td>2303</td><td> -3</td><td>EV</td><td>6043</td><td>N13914</td><td>EWR</td><td>ALB</td><td>36</td><td>143</td><td>21</td><td>59</td><td>2013-09-13 21:00:00</td></tr>\n",
              "\t<tr><td>2013</td><td>9</td><td>14</td><td>2156</td><td>2159</td><td> -3</td><td>2240</td><td>2303</td><td>-23</td><td>EV</td><td>4396</td><td>N13903</td><td>EWR</td><td>ALB</td><td>29</td><td>143</td><td>21</td><td>59</td><td>2013-09-14 21:00:00</td></tr>\n",
              "\t<tr><td>2013</td><td>9</td><td>15</td><td>2154</td><td>2159</td><td> -5</td><td>2240</td><td>2303</td><td>-23</td><td>EV</td><td>4264</td><td>N16951</td><td>EWR</td><td>ALB</td><td>28</td><td>143</td><td>21</td><td>59</td><td>2013-09-15 21:00:00</td></tr>\n",
              "\t<tr><td>2013</td><td>9</td><td>16</td><td>2145</td><td>2159</td><td>-14</td><td>2233</td><td>2303</td><td>-30</td><td>EV</td><td>4264</td><td>N14952</td><td>EWR</td><td>ALB</td><td>29</td><td>143</td><td>21</td><td>59</td><td>2013-09-16 21:00:00</td></tr>\n",
              "\t<tr><td>2013</td><td>9</td><td>17</td><td>2149</td><td>2159</td><td>-10</td><td>2235</td><td>2303</td><td>-28</td><td>EV</td><td>6043</td><td>N15555</td><td>EWR</td><td>ALB</td><td>30</td><td>143</td><td>21</td><td>59</td><td>2013-09-17 21:00:00</td></tr>\n",
              "\t<tr><td>2013</td><td>9</td><td>18</td><td>2215</td><td>2159</td><td> 16</td><td>2301</td><td>2303</td><td> -2</td><td>EV</td><td>6043</td><td>N15985</td><td>EWR</td><td>ALB</td><td>29</td><td>143</td><td>21</td><td>59</td><td>2013-09-18 21:00:00</td></tr>\n",
              "\t<tr><td>2013</td><td>9</td><td>19</td><td>2155</td><td>2159</td><td> -4</td><td>2243</td><td>2303</td><td>-20</td><td>EV</td><td>6043</td><td>N13979</td><td>EWR</td><td>ALB</td><td>29</td><td>143</td><td>21</td><td>59</td><td>2013-09-19 21:00:00</td></tr>\n",
              "\t<tr><td>2013</td><td>9</td><td>20</td><td>2154</td><td>2159</td><td> -5</td><td>2245</td><td>2303</td><td>-18</td><td>EV</td><td>6043</td><td>N11551</td><td>EWR</td><td>ALB</td><td>34</td><td>143</td><td>21</td><td>59</td><td>2013-09-20 21:00:00</td></tr>\n",
              "\t<tr><td>2013</td><td>9</td><td>21</td><td>2153</td><td>2159</td><td> -6</td><td>2241</td><td>2303</td><td>-22</td><td>EV</td><td>4396</td><td>N15985</td><td>EWR</td><td>ALB</td><td>32</td><td>143</td><td>21</td><td>59</td><td>2013-09-21 21:00:00</td></tr>\n",
              "\t<tr><td>2013</td><td>9</td><td>22</td><td>2156</td><td>2159</td><td> -3</td><td>2243</td><td>2303</td><td>-20</td><td>EV</td><td>4264</td><td>N14174</td><td>EWR</td><td>ALB</td><td>28</td><td>143</td><td>21</td><td>59</td><td>2013-09-22 21:00:00</td></tr>\n",
              "\t<tr><td>2013</td><td>9</td><td>23</td><td>2228</td><td>2159</td><td> 29</td><td>2312</td><td>2303</td><td>  9</td><td>EV</td><td>4264</td><td>N15910</td><td>EWR</td><td>ALB</td><td>27</td><td>143</td><td>21</td><td>59</td><td>2013-09-23 21:00:00</td></tr>\n",
              "\t<tr><td>2013</td><td>9</td><td>24</td><td>2151</td><td>2159</td><td> -8</td><td>2240</td><td>2303</td><td>-23</td><td>EV</td><td>6043</td><td>N16951</td><td>EWR</td><td>ALB</td><td>31</td><td>143</td><td>21</td><td>59</td><td>2013-09-24 21:00:00</td></tr>\n",
              "</tbody>\n",
              "</table>\n"
            ],
            "text/markdown": "\nA data.frame: 439 × 19\n\n| year &lt;int&gt; | month &lt;int&gt; | day &lt;int&gt; | dep_time &lt;int&gt; | sched_dep_time &lt;int&gt; | dep_delay &lt;int&gt; | arr_time &lt;int&gt; | sched_arr_time &lt;int&gt; | arr_delay &lt;int&gt; | carrier &lt;chr&gt; | flight &lt;int&gt; | tailnum &lt;chr&gt; | origin &lt;chr&gt; | dest &lt;chr&gt; | air_time &lt;int&gt; | distance &lt;int&gt; | hour &lt;int&gt; | minute &lt;int&gt; | time_hour &lt;chr&gt; |\n|---|---|---|---|---|---|---|---|---|---|---|---|---|---|---|---|---|---|---|\n| 2013 | 1 |  1 | 1315 | 1317 |  -2 | 1413 | 1423 | -10 | EV | 4112 | N13538 | EWR | ALB | 33 | 143 | 13 | 17 | 2013-01-01 13:00:00 |\n| 2013 | 1 |  1 | 1655 | 1621 |  34 | 1804 | 1724 |  40 | EV | 3260 | N19554 | EWR | ALB | 36 | 143 | 16 | 21 | 2013-01-01 16:00:00 |\n| 2013 | 1 |  1 | 2056 | 2004 |  52 | 2156 | 2112 |  44 | EV | 4170 | N12540 | EWR | ALB | 31 | 143 | 20 |  4 | 2013-01-01 20:00:00 |\n| 2013 | 1 |  2 | 1332 | 1327 |   5 | 1419 | 1433 | -14 | EV | 4316 | N14153 | EWR | ALB | 33 | 143 | 13 | 27 | 2013-01-02 13:00:00 |\n| 2013 | 1 |  2 | 1746 | 1621 |  85 | 1835 | 1724 |  71 | EV | 3260 | N14153 | EWR | ALB | 31 | 143 | 16 | 21 | 2013-01-02 16:00:00 |\n| 2013 | 1 |  2 | 2148 | 2004 | 104 | 2234 | 2112 |  82 | EV | 4170 | N12540 | EWR | ALB | 30 | 143 | 20 |  4 | 2013-01-02 20:00:00 |\n| 2013 | 1 |  3 | 1716 | 1619 |  57 | 1803 | 1723 |  40 | EV | 4271 | N31131 | EWR | ALB | 31 | 143 | 16 | 19 | 2013-01-03 16:00:00 |\n| 2013 | 1 |  3 | 2031 | 2038 |  -7 | 2131 | 2139 |  -8 | EV | 4309 | N16561 | EWR | ALB | 37 | 143 | 20 | 38 | 2013-01-03 20:00:00 |\n| 2013 | 1 |  4 | 1618 | 1619 |  -1 | 1714 | 1723 |  -9 | EV | 4271 | N12567 | EWR | ALB | 33 | 143 | 16 | 19 | 2013-01-04 16:00:00 |\n| 2013 | 1 |  4 | 2031 | 2000 |  31 | 2131 | 2101 |  30 | EV | 4309 | N12540 | EWR | ALB | 31 | 143 | 20 |  0 | 2013-01-04 20:00:00 |\n| 2013 | 1 |  5 | 1619 | 1620 |  -1 | 1714 | 1724 | -10 | EV | 4271 | N14179 | EWR | ALB | 30 | 143 | 16 | 20 | 2013-01-05 16:00:00 |\n| 2013 | 1 |  5 | 1959 | 2000 |  -1 | 2056 | 2104 |  -8 | EV | 4309 | N21144 | EWR | ALB | 31 | 143 | 20 |  0 | 2013-01-05 20:00:00 |\n| 2013 | 1 |  6 | 1755 | 1619 |  96 | 1858 | 1723 |  95 | EV | 4271 | N14916 | EWR | ALB | 30 | 143 | 16 | 19 | 2013-01-06 16:00:00 |\n| 2013 | 1 |  6 | 2004 | 2005 |  -1 | 2113 | 2109 |   4 | EV | 4309 | N14953 | EWR | ALB | 31 | 143 | 20 |  5 | 2013-01-06 20:00:00 |\n| 2013 | 1 |  7 | 1619 | 1619 |   0 | 1714 | 1723 |  -9 | EV | 4271 | N15973 | EWR | ALB | 29 | 143 | 16 | 19 | 2013-01-07 16:00:00 |\n| 2013 | 1 |  7 | 2045 | 2000 |  45 | 2142 | 2101 |  41 | EV | 4309 | N19554 | EWR | ALB | 28 | 143 | 20 |  0 | 2013-01-07 20:00:00 |\n| 2013 | 1 |  8 | 1618 | 1619 |  -1 | 1708 | 1723 | -15 | EV | 4271 | N12201 | EWR | ALB | 33 | 143 | 16 | 19 | 2013-01-08 16:00:00 |\n| 2013 | 1 |  8 | 2005 | 2000 |   5 | 2056 | 2101 |  -5 | EV | 4309 | N13955 | EWR | ALB | 30 | 143 | 20 |  0 | 2013-01-08 20:00:00 |\n| 2013 | 1 |  9 | 1615 | 1619 |  -4 | 1706 | 1723 | -17 | EV | 4271 | N14153 | EWR | ALB | 33 | 143 | 16 | 19 | 2013-01-09 16:00:00 |\n| 2013 | 1 |  9 | 1954 | 2000 |  -6 | 2045 | 2101 | -16 | EV | 4309 | N36915 | EWR | ALB | 36 | 143 | 20 |  0 | 2013-01-09 20:00:00 |\n| 2013 | 1 | 10 | 1801 | 1619 | 102 | 1923 | 1723 | 120 | EV | 4271 | N14148 | EWR | ALB | 32 | 143 | 16 | 19 | 2013-01-10 16:00:00 |\n| 2013 | 1 | 10 | 2127 | 2038 |  49 | 2214 | 2139 |  35 | EV | 4309 | N13955 | EWR | ALB | 28 | 143 | 20 | 38 | 2013-01-10 20:00:00 |\n| 2013 | 1 | 11 | 1614 | 1619 |  -5 | 1718 | 1723 |  -5 | EV | 4271 | N16147 | EWR | ALB | 36 | 143 | 16 | 19 | 2013-01-11 16:00:00 |\n| 2013 | 1 | 11 | 1956 | 2000 |  -4 | 2059 | 2101 |  -2 | EV | 4309 | N13994 | EWR | ALB | 36 | 143 | 20 |  0 | 2013-01-11 20:00:00 |\n| 2013 | 1 | 12 | 1619 | 1620 |  -1 | 1718 | 1724 |  -6 | EV | 4271 | N14188 | EWR | ALB | 36 | 143 | 16 | 20 | 2013-01-12 16:00:00 |\n| 2013 | 1 | 12 | 1958 | 2000 |  -2 | 2049 | 2104 | -15 | EV | 4309 | N12922 | EWR | ALB | 30 | 143 | 20 |  0 | 2013-01-12 20:00:00 |\n| 2013 | 1 | 13 | 1721 | 1619 |  62 | 1821 | 1723 |  58 | EV | 4271 | N12166 | EWR | ALB | 45 | 143 | 16 | 19 | 2013-01-13 16:00:00 |\n| 2013 | 1 | 13 | 2034 | 2005 |  29 | 2152 | 2109 |  43 | EV | 4309 | N18557 | EWR | ALB | 34 | 143 | 20 |  5 | 2013-01-13 20:00:00 |\n| 2013 | 1 | 14 | 1616 | 1619 |  -3 | 1709 | 1723 | -14 | EV | 4271 | N12195 | EWR | ALB | 32 | 143 | 16 | 19 | 2013-01-14 16:00:00 |\n| 2013 | 1 | 14 | 2022 | 2000 |  22 | 2115 | 2101 |  14 | EV | 4309 | N12564 | EWR | ALB | 30 | 143 | 20 |  0 | 2013-01-14 20:00:00 |\n| ⋮ | ⋮ | ⋮ | ⋮ | ⋮ | ⋮ | ⋮ | ⋮ | ⋮ | ⋮ | ⋮ | ⋮ | ⋮ | ⋮ | ⋮ | ⋮ | ⋮ | ⋮ | ⋮ |\n| 2013 | 8 | 16 |  717 |  720 |  -3 |  810 |  831 | -21 | EV | 4565 | N13956 | EWR | ALB | 30 | 143 |  7 | 20 | 2013-08-16 07:00:00 |\n| 2013 | 8 | 17 |  714 |  720 |  -6 |  803 |  831 | -28 | EV | 4565 | N13958 | EWR | ALB | 31 | 143 |  7 | 20 | 2013-08-17 07:00:00 |\n| 2013 | 8 | 19 |  717 |  720 |  -3 |  810 |  831 | -21 | EV | 4565 | N11181 | EWR | ALB | 32 | 143 |  7 | 20 | 2013-08-19 07:00:00 |\n| 2013 | 8 | 20 |  711 |  720 |  -9 |  800 |  831 | -31 | EV | 4565 | N11184 | EWR | ALB | 29 | 143 |  7 | 20 | 2013-08-20 07:00:00 |\n| 2013 | 8 | 21 |  715 |  720 |  -5 |  813 |  831 | -18 | EV | 4565 | N14168 | EWR | ALB | 28 | 143 |  7 | 20 | 2013-08-21 07:00:00 |\n| 2013 | 8 | 22 |  728 |  720 |   8 |  836 |  831 |   5 | EV | 4565 | N14174 | EWR | ALB | 31 | 143 |  7 | 20 | 2013-08-22 07:00:00 |\n| 2013 | 8 | 23 |  721 |  720 |   1 |  813 |  831 | -18 | EV | 4565 | N14173 | EWR | ALB | 30 | 143 |  7 | 20 | 2013-08-23 07:00:00 |\n| 2013 | 8 | 24 |  720 |  720 |   0 |  811 |  831 | -20 | EV | 4565 | N12167 | EWR | ALB | 29 | 143 |  7 | 20 | 2013-08-24 07:00:00 |\n| 2013 | 8 | 26 |  715 |  720 |  -5 |  808 |  831 | -23 | EV | 4565 | N14174 | EWR | ALB | 34 | 143 |  7 | 20 | 2013-08-26 07:00:00 |\n| 2013 | 8 | 27 | 2153 | 2159 |  -6 | 2242 | 2307 | -25 | EV | 5976 | N12175 | EWR | ALB | 26 | 143 | 21 | 59 | 2013-08-27 21:00:00 |\n| 2013 | 9 |  5 | 2155 | 2159 |  -4 | 2248 | 2307 | -19 | EV | 4396 | N27962 | EWR | ALB | 30 | 143 | 21 | 59 | 2013-09-05 21:00:00 |\n| 2013 | 9 |  6 | 2207 | 2159 |   8 | 2255 | 2303 |  -8 | EV | 6043 | N21537 | EWR | ALB | 26 | 143 | 21 | 59 | 2013-09-06 21:00:00 |\n| 2013 | 9 |  7 | 2157 | 2159 |  -2 | 2253 | 2303 | -10 | EV | 4396 | N13903 | EWR | ALB | 33 | 143 | 21 | 59 | 2013-09-07 21:00:00 |\n| 2013 | 9 |  8 | 2156 | 2159 |  -3 | 2250 | 2303 | -13 | EV | 4264 | N11113 | EWR | ALB | 29 | 143 | 21 | 59 | 2013-09-08 21:00:00 |\n| 2013 | 9 |  9 | 2151 | 2159 |  -8 | 2242 | 2303 | -21 | EV | 4264 | N16951 | EWR | ALB | 32 | 143 | 21 | 59 | 2013-09-09 21:00:00 |\n| 2013 | 9 | 10 | 2237 | 2159 |  38 | 2328 | 2303 |  25 | EV | 6043 | N13566 | EWR | ALB | 34 | 143 | 21 | 59 | 2013-09-10 21:00:00 |\n| 2013 | 9 | 11 | 2254 | 2159 |  55 | 2336 | 2303 |  33 | EV | 6043 | N10575 | EWR | ALB | 27 | 143 | 21 | 59 | 2013-09-11 21:00:00 |\n| 2013 | 9 | 12 |   NA | 2159 |  NA |   NA | 2303 |  NA | EV | 6043 | N10575 | EWR | ALB | NA | 143 | 21 | 59 | 2013-09-12 21:00:00 |\n| 2013 | 9 | 13 | 2158 | 2159 |  -1 | 2300 | 2303 |  -3 | EV | 6043 | N13914 | EWR | ALB | 36 | 143 | 21 | 59 | 2013-09-13 21:00:00 |\n| 2013 | 9 | 14 | 2156 | 2159 |  -3 | 2240 | 2303 | -23 | EV | 4396 | N13903 | EWR | ALB | 29 | 143 | 21 | 59 | 2013-09-14 21:00:00 |\n| 2013 | 9 | 15 | 2154 | 2159 |  -5 | 2240 | 2303 | -23 | EV | 4264 | N16951 | EWR | ALB | 28 | 143 | 21 | 59 | 2013-09-15 21:00:00 |\n| 2013 | 9 | 16 | 2145 | 2159 | -14 | 2233 | 2303 | -30 | EV | 4264 | N14952 | EWR | ALB | 29 | 143 | 21 | 59 | 2013-09-16 21:00:00 |\n| 2013 | 9 | 17 | 2149 | 2159 | -10 | 2235 | 2303 | -28 | EV | 6043 | N15555 | EWR | ALB | 30 | 143 | 21 | 59 | 2013-09-17 21:00:00 |\n| 2013 | 9 | 18 | 2215 | 2159 |  16 | 2301 | 2303 |  -2 | EV | 6043 | N15985 | EWR | ALB | 29 | 143 | 21 | 59 | 2013-09-18 21:00:00 |\n| 2013 | 9 | 19 | 2155 | 2159 |  -4 | 2243 | 2303 | -20 | EV | 6043 | N13979 | EWR | ALB | 29 | 143 | 21 | 59 | 2013-09-19 21:00:00 |\n| 2013 | 9 | 20 | 2154 | 2159 |  -5 | 2245 | 2303 | -18 | EV | 6043 | N11551 | EWR | ALB | 34 | 143 | 21 | 59 | 2013-09-20 21:00:00 |\n| 2013 | 9 | 21 | 2153 | 2159 |  -6 | 2241 | 2303 | -22 | EV | 4396 | N15985 | EWR | ALB | 32 | 143 | 21 | 59 | 2013-09-21 21:00:00 |\n| 2013 | 9 | 22 | 2156 | 2159 |  -3 | 2243 | 2303 | -20 | EV | 4264 | N14174 | EWR | ALB | 28 | 143 | 21 | 59 | 2013-09-22 21:00:00 |\n| 2013 | 9 | 23 | 2228 | 2159 |  29 | 2312 | 2303 |   9 | EV | 4264 | N15910 | EWR | ALB | 27 | 143 | 21 | 59 | 2013-09-23 21:00:00 |\n| 2013 | 9 | 24 | 2151 | 2159 |  -8 | 2240 | 2303 | -23 | EV | 6043 | N16951 | EWR | ALB | 31 | 143 | 21 | 59 | 2013-09-24 21:00:00 |\n\n",
            "text/latex": "A data.frame: 439 × 19\n\\begin{tabular}{lllllllllllllllllll}\n year & month & day & dep\\_time & sched\\_dep\\_time & dep\\_delay & arr\\_time & sched\\_arr\\_time & arr\\_delay & carrier & flight & tailnum & origin & dest & air\\_time & distance & hour & minute & time\\_hour\\\\\n <int> & <int> & <int> & <int> & <int> & <int> & <int> & <int> & <int> & <chr> & <int> & <chr> & <chr> & <chr> & <int> & <int> & <int> & <int> & <chr>\\\\\n\\hline\n\t 2013 & 1 &  1 & 1315 & 1317 &  -2 & 1413 & 1423 & -10 & EV & 4112 & N13538 & EWR & ALB & 33 & 143 & 13 & 17 & 2013-01-01 13:00:00\\\\\n\t 2013 & 1 &  1 & 1655 & 1621 &  34 & 1804 & 1724 &  40 & EV & 3260 & N19554 & EWR & ALB & 36 & 143 & 16 & 21 & 2013-01-01 16:00:00\\\\\n\t 2013 & 1 &  1 & 2056 & 2004 &  52 & 2156 & 2112 &  44 & EV & 4170 & N12540 & EWR & ALB & 31 & 143 & 20 &  4 & 2013-01-01 20:00:00\\\\\n\t 2013 & 1 &  2 & 1332 & 1327 &   5 & 1419 & 1433 & -14 & EV & 4316 & N14153 & EWR & ALB & 33 & 143 & 13 & 27 & 2013-01-02 13:00:00\\\\\n\t 2013 & 1 &  2 & 1746 & 1621 &  85 & 1835 & 1724 &  71 & EV & 3260 & N14153 & EWR & ALB & 31 & 143 & 16 & 21 & 2013-01-02 16:00:00\\\\\n\t 2013 & 1 &  2 & 2148 & 2004 & 104 & 2234 & 2112 &  82 & EV & 4170 & N12540 & EWR & ALB & 30 & 143 & 20 &  4 & 2013-01-02 20:00:00\\\\\n\t 2013 & 1 &  3 & 1716 & 1619 &  57 & 1803 & 1723 &  40 & EV & 4271 & N31131 & EWR & ALB & 31 & 143 & 16 & 19 & 2013-01-03 16:00:00\\\\\n\t 2013 & 1 &  3 & 2031 & 2038 &  -7 & 2131 & 2139 &  -8 & EV & 4309 & N16561 & EWR & ALB & 37 & 143 & 20 & 38 & 2013-01-03 20:00:00\\\\\n\t 2013 & 1 &  4 & 1618 & 1619 &  -1 & 1714 & 1723 &  -9 & EV & 4271 & N12567 & EWR & ALB & 33 & 143 & 16 & 19 & 2013-01-04 16:00:00\\\\\n\t 2013 & 1 &  4 & 2031 & 2000 &  31 & 2131 & 2101 &  30 & EV & 4309 & N12540 & EWR & ALB & 31 & 143 & 20 &  0 & 2013-01-04 20:00:00\\\\\n\t 2013 & 1 &  5 & 1619 & 1620 &  -1 & 1714 & 1724 & -10 & EV & 4271 & N14179 & EWR & ALB & 30 & 143 & 16 & 20 & 2013-01-05 16:00:00\\\\\n\t 2013 & 1 &  5 & 1959 & 2000 &  -1 & 2056 & 2104 &  -8 & EV & 4309 & N21144 & EWR & ALB & 31 & 143 & 20 &  0 & 2013-01-05 20:00:00\\\\\n\t 2013 & 1 &  6 & 1755 & 1619 &  96 & 1858 & 1723 &  95 & EV & 4271 & N14916 & EWR & ALB & 30 & 143 & 16 & 19 & 2013-01-06 16:00:00\\\\\n\t 2013 & 1 &  6 & 2004 & 2005 &  -1 & 2113 & 2109 &   4 & EV & 4309 & N14953 & EWR & ALB & 31 & 143 & 20 &  5 & 2013-01-06 20:00:00\\\\\n\t 2013 & 1 &  7 & 1619 & 1619 &   0 & 1714 & 1723 &  -9 & EV & 4271 & N15973 & EWR & ALB & 29 & 143 & 16 & 19 & 2013-01-07 16:00:00\\\\\n\t 2013 & 1 &  7 & 2045 & 2000 &  45 & 2142 & 2101 &  41 & EV & 4309 & N19554 & EWR & ALB & 28 & 143 & 20 &  0 & 2013-01-07 20:00:00\\\\\n\t 2013 & 1 &  8 & 1618 & 1619 &  -1 & 1708 & 1723 & -15 & EV & 4271 & N12201 & EWR & ALB & 33 & 143 & 16 & 19 & 2013-01-08 16:00:00\\\\\n\t 2013 & 1 &  8 & 2005 & 2000 &   5 & 2056 & 2101 &  -5 & EV & 4309 & N13955 & EWR & ALB & 30 & 143 & 20 &  0 & 2013-01-08 20:00:00\\\\\n\t 2013 & 1 &  9 & 1615 & 1619 &  -4 & 1706 & 1723 & -17 & EV & 4271 & N14153 & EWR & ALB & 33 & 143 & 16 & 19 & 2013-01-09 16:00:00\\\\\n\t 2013 & 1 &  9 & 1954 & 2000 &  -6 & 2045 & 2101 & -16 & EV & 4309 & N36915 & EWR & ALB & 36 & 143 & 20 &  0 & 2013-01-09 20:00:00\\\\\n\t 2013 & 1 & 10 & 1801 & 1619 & 102 & 1923 & 1723 & 120 & EV & 4271 & N14148 & EWR & ALB & 32 & 143 & 16 & 19 & 2013-01-10 16:00:00\\\\\n\t 2013 & 1 & 10 & 2127 & 2038 &  49 & 2214 & 2139 &  35 & EV & 4309 & N13955 & EWR & ALB & 28 & 143 & 20 & 38 & 2013-01-10 20:00:00\\\\\n\t 2013 & 1 & 11 & 1614 & 1619 &  -5 & 1718 & 1723 &  -5 & EV & 4271 & N16147 & EWR & ALB & 36 & 143 & 16 & 19 & 2013-01-11 16:00:00\\\\\n\t 2013 & 1 & 11 & 1956 & 2000 &  -4 & 2059 & 2101 &  -2 & EV & 4309 & N13994 & EWR & ALB & 36 & 143 & 20 &  0 & 2013-01-11 20:00:00\\\\\n\t 2013 & 1 & 12 & 1619 & 1620 &  -1 & 1718 & 1724 &  -6 & EV & 4271 & N14188 & EWR & ALB & 36 & 143 & 16 & 20 & 2013-01-12 16:00:00\\\\\n\t 2013 & 1 & 12 & 1958 & 2000 &  -2 & 2049 & 2104 & -15 & EV & 4309 & N12922 & EWR & ALB & 30 & 143 & 20 &  0 & 2013-01-12 20:00:00\\\\\n\t 2013 & 1 & 13 & 1721 & 1619 &  62 & 1821 & 1723 &  58 & EV & 4271 & N12166 & EWR & ALB & 45 & 143 & 16 & 19 & 2013-01-13 16:00:00\\\\\n\t 2013 & 1 & 13 & 2034 & 2005 &  29 & 2152 & 2109 &  43 & EV & 4309 & N18557 & EWR & ALB & 34 & 143 & 20 &  5 & 2013-01-13 20:00:00\\\\\n\t 2013 & 1 & 14 & 1616 & 1619 &  -3 & 1709 & 1723 & -14 & EV & 4271 & N12195 & EWR & ALB & 32 & 143 & 16 & 19 & 2013-01-14 16:00:00\\\\\n\t 2013 & 1 & 14 & 2022 & 2000 &  22 & 2115 & 2101 &  14 & EV & 4309 & N12564 & EWR & ALB & 30 & 143 & 20 &  0 & 2013-01-14 20:00:00\\\\\n\t ⋮ & ⋮ & ⋮ & ⋮ & ⋮ & ⋮ & ⋮ & ⋮ & ⋮ & ⋮ & ⋮ & ⋮ & ⋮ & ⋮ & ⋮ & ⋮ & ⋮ & ⋮ & ⋮\\\\\n\t 2013 & 8 & 16 &  717 &  720 &  -3 &  810 &  831 & -21 & EV & 4565 & N13956 & EWR & ALB & 30 & 143 &  7 & 20 & 2013-08-16 07:00:00\\\\\n\t 2013 & 8 & 17 &  714 &  720 &  -6 &  803 &  831 & -28 & EV & 4565 & N13958 & EWR & ALB & 31 & 143 &  7 & 20 & 2013-08-17 07:00:00\\\\\n\t 2013 & 8 & 19 &  717 &  720 &  -3 &  810 &  831 & -21 & EV & 4565 & N11181 & EWR & ALB & 32 & 143 &  7 & 20 & 2013-08-19 07:00:00\\\\\n\t 2013 & 8 & 20 &  711 &  720 &  -9 &  800 &  831 & -31 & EV & 4565 & N11184 & EWR & ALB & 29 & 143 &  7 & 20 & 2013-08-20 07:00:00\\\\\n\t 2013 & 8 & 21 &  715 &  720 &  -5 &  813 &  831 & -18 & EV & 4565 & N14168 & EWR & ALB & 28 & 143 &  7 & 20 & 2013-08-21 07:00:00\\\\\n\t 2013 & 8 & 22 &  728 &  720 &   8 &  836 &  831 &   5 & EV & 4565 & N14174 & EWR & ALB & 31 & 143 &  7 & 20 & 2013-08-22 07:00:00\\\\\n\t 2013 & 8 & 23 &  721 &  720 &   1 &  813 &  831 & -18 & EV & 4565 & N14173 & EWR & ALB & 30 & 143 &  7 & 20 & 2013-08-23 07:00:00\\\\\n\t 2013 & 8 & 24 &  720 &  720 &   0 &  811 &  831 & -20 & EV & 4565 & N12167 & EWR & ALB & 29 & 143 &  7 & 20 & 2013-08-24 07:00:00\\\\\n\t 2013 & 8 & 26 &  715 &  720 &  -5 &  808 &  831 & -23 & EV & 4565 & N14174 & EWR & ALB & 34 & 143 &  7 & 20 & 2013-08-26 07:00:00\\\\\n\t 2013 & 8 & 27 & 2153 & 2159 &  -6 & 2242 & 2307 & -25 & EV & 5976 & N12175 & EWR & ALB & 26 & 143 & 21 & 59 & 2013-08-27 21:00:00\\\\\n\t 2013 & 9 &  5 & 2155 & 2159 &  -4 & 2248 & 2307 & -19 & EV & 4396 & N27962 & EWR & ALB & 30 & 143 & 21 & 59 & 2013-09-05 21:00:00\\\\\n\t 2013 & 9 &  6 & 2207 & 2159 &   8 & 2255 & 2303 &  -8 & EV & 6043 & N21537 & EWR & ALB & 26 & 143 & 21 & 59 & 2013-09-06 21:00:00\\\\\n\t 2013 & 9 &  7 & 2157 & 2159 &  -2 & 2253 & 2303 & -10 & EV & 4396 & N13903 & EWR & ALB & 33 & 143 & 21 & 59 & 2013-09-07 21:00:00\\\\\n\t 2013 & 9 &  8 & 2156 & 2159 &  -3 & 2250 & 2303 & -13 & EV & 4264 & N11113 & EWR & ALB & 29 & 143 & 21 & 59 & 2013-09-08 21:00:00\\\\\n\t 2013 & 9 &  9 & 2151 & 2159 &  -8 & 2242 & 2303 & -21 & EV & 4264 & N16951 & EWR & ALB & 32 & 143 & 21 & 59 & 2013-09-09 21:00:00\\\\\n\t 2013 & 9 & 10 & 2237 & 2159 &  38 & 2328 & 2303 &  25 & EV & 6043 & N13566 & EWR & ALB & 34 & 143 & 21 & 59 & 2013-09-10 21:00:00\\\\\n\t 2013 & 9 & 11 & 2254 & 2159 &  55 & 2336 & 2303 &  33 & EV & 6043 & N10575 & EWR & ALB & 27 & 143 & 21 & 59 & 2013-09-11 21:00:00\\\\\n\t 2013 & 9 & 12 &   NA & 2159 &  NA &   NA & 2303 &  NA & EV & 6043 & N10575 & EWR & ALB & NA & 143 & 21 & 59 & 2013-09-12 21:00:00\\\\\n\t 2013 & 9 & 13 & 2158 & 2159 &  -1 & 2300 & 2303 &  -3 & EV & 6043 & N13914 & EWR & ALB & 36 & 143 & 21 & 59 & 2013-09-13 21:00:00\\\\\n\t 2013 & 9 & 14 & 2156 & 2159 &  -3 & 2240 & 2303 & -23 & EV & 4396 & N13903 & EWR & ALB & 29 & 143 & 21 & 59 & 2013-09-14 21:00:00\\\\\n\t 2013 & 9 & 15 & 2154 & 2159 &  -5 & 2240 & 2303 & -23 & EV & 4264 & N16951 & EWR & ALB & 28 & 143 & 21 & 59 & 2013-09-15 21:00:00\\\\\n\t 2013 & 9 & 16 & 2145 & 2159 & -14 & 2233 & 2303 & -30 & EV & 4264 & N14952 & EWR & ALB & 29 & 143 & 21 & 59 & 2013-09-16 21:00:00\\\\\n\t 2013 & 9 & 17 & 2149 & 2159 & -10 & 2235 & 2303 & -28 & EV & 6043 & N15555 & EWR & ALB & 30 & 143 & 21 & 59 & 2013-09-17 21:00:00\\\\\n\t 2013 & 9 & 18 & 2215 & 2159 &  16 & 2301 & 2303 &  -2 & EV & 6043 & N15985 & EWR & ALB & 29 & 143 & 21 & 59 & 2013-09-18 21:00:00\\\\\n\t 2013 & 9 & 19 & 2155 & 2159 &  -4 & 2243 & 2303 & -20 & EV & 6043 & N13979 & EWR & ALB & 29 & 143 & 21 & 59 & 2013-09-19 21:00:00\\\\\n\t 2013 & 9 & 20 & 2154 & 2159 &  -5 & 2245 & 2303 & -18 & EV & 6043 & N11551 & EWR & ALB & 34 & 143 & 21 & 59 & 2013-09-20 21:00:00\\\\\n\t 2013 & 9 & 21 & 2153 & 2159 &  -6 & 2241 & 2303 & -22 & EV & 4396 & N15985 & EWR & ALB & 32 & 143 & 21 & 59 & 2013-09-21 21:00:00\\\\\n\t 2013 & 9 & 22 & 2156 & 2159 &  -3 & 2243 & 2303 & -20 & EV & 4264 & N14174 & EWR & ALB & 28 & 143 & 21 & 59 & 2013-09-22 21:00:00\\\\\n\t 2013 & 9 & 23 & 2228 & 2159 &  29 & 2312 & 2303 &   9 & EV & 4264 & N15910 & EWR & ALB & 27 & 143 & 21 & 59 & 2013-09-23 21:00:00\\\\\n\t 2013 & 9 & 24 & 2151 & 2159 &  -8 & 2240 & 2303 & -23 & EV & 6043 & N16951 & EWR & ALB & 31 & 143 & 21 & 59 & 2013-09-24 21:00:00\\\\\n\\end{tabular}\n",
            "text/plain": [
              "    year month day dep_time sched_dep_time dep_delay arr_time sched_arr_time\n",
              "1   2013 1      1  1315     1317            -2       1413     1423          \n",
              "2   2013 1      1  1655     1621            34       1804     1724          \n",
              "3   2013 1      1  2056     2004            52       2156     2112          \n",
              "4   2013 1      2  1332     1327             5       1419     1433          \n",
              "5   2013 1      2  1746     1621            85       1835     1724          \n",
              "6   2013 1      2  2148     2004           104       2234     2112          \n",
              "7   2013 1      3  1716     1619            57       1803     1723          \n",
              "8   2013 1      3  2031     2038            -7       2131     2139          \n",
              "9   2013 1      4  1618     1619            -1       1714     1723          \n",
              "10  2013 1      4  2031     2000            31       2131     2101          \n",
              "11  2013 1      5  1619     1620            -1       1714     1724          \n",
              "12  2013 1      5  1959     2000            -1       2056     2104          \n",
              "13  2013 1      6  1755     1619            96       1858     1723          \n",
              "14  2013 1      6  2004     2005            -1       2113     2109          \n",
              "15  2013 1      7  1619     1619             0       1714     1723          \n",
              "16  2013 1      7  2045     2000            45       2142     2101          \n",
              "17  2013 1      8  1618     1619            -1       1708     1723          \n",
              "18  2013 1      8  2005     2000             5       2056     2101          \n",
              "19  2013 1      9  1615     1619            -4       1706     1723          \n",
              "20  2013 1      9  1954     2000            -6       2045     2101          \n",
              "21  2013 1     10  1801     1619           102       1923     1723          \n",
              "22  2013 1     10  2127     2038            49       2214     2139          \n",
              "23  2013 1     11  1614     1619            -5       1718     1723          \n",
              "24  2013 1     11  1956     2000            -4       2059     2101          \n",
              "25  2013 1     12  1619     1620            -1       1718     1724          \n",
              "26  2013 1     12  1958     2000            -2       2049     2104          \n",
              "27  2013 1     13  1721     1619            62       1821     1723          \n",
              "28  2013 1     13  2034     2005            29       2152     2109          \n",
              "29  2013 1     14  1616     1619            -3       1709     1723          \n",
              "30  2013 1     14  2022     2000            22       2115     2101          \n",
              "⋮   ⋮    ⋮     ⋮   ⋮        ⋮              ⋮         ⋮        ⋮             \n",
              "410 2013 8     16   717      720            -3        810      831          \n",
              "411 2013 8     17   714      720            -6        803      831          \n",
              "412 2013 8     19   717      720            -3        810      831          \n",
              "413 2013 8     20   711      720            -9        800      831          \n",
              "414 2013 8     21   715      720            -5        813      831          \n",
              "415 2013 8     22   728      720             8        836      831          \n",
              "416 2013 8     23   721      720             1        813      831          \n",
              "417 2013 8     24   720      720             0        811      831          \n",
              "418 2013 8     26   715      720            -5        808      831          \n",
              "419 2013 8     27  2153     2159            -6       2242     2307          \n",
              "420 2013 9      5  2155     2159            -4       2248     2307          \n",
              "421 2013 9      6  2207     2159             8       2255     2303          \n",
              "422 2013 9      7  2157     2159            -2       2253     2303          \n",
              "423 2013 9      8  2156     2159            -3       2250     2303          \n",
              "424 2013 9      9  2151     2159            -8       2242     2303          \n",
              "425 2013 9     10  2237     2159            38       2328     2303          \n",
              "426 2013 9     11  2254     2159            55       2336     2303          \n",
              "427 2013 9     12    NA     2159            NA         NA     2303          \n",
              "428 2013 9     13  2158     2159            -1       2300     2303          \n",
              "429 2013 9     14  2156     2159            -3       2240     2303          \n",
              "430 2013 9     15  2154     2159            -5       2240     2303          \n",
              "431 2013 9     16  2145     2159           -14       2233     2303          \n",
              "432 2013 9     17  2149     2159           -10       2235     2303          \n",
              "433 2013 9     18  2215     2159            16       2301     2303          \n",
              "434 2013 9     19  2155     2159            -4       2243     2303          \n",
              "435 2013 9     20  2154     2159            -5       2245     2303          \n",
              "436 2013 9     21  2153     2159            -6       2241     2303          \n",
              "437 2013 9     22  2156     2159            -3       2243     2303          \n",
              "438 2013 9     23  2228     2159            29       2312     2303          \n",
              "439 2013 9     24  2151     2159            -8       2240     2303          \n",
              "    arr_delay carrier flight tailnum origin dest air_time distance hour minute\n",
              "1   -10       EV      4112   N13538  EWR    ALB  33       143      13   17    \n",
              "2    40       EV      3260   N19554  EWR    ALB  36       143      16   21    \n",
              "3    44       EV      4170   N12540  EWR    ALB  31       143      20    4    \n",
              "4   -14       EV      4316   N14153  EWR    ALB  33       143      13   27    \n",
              "5    71       EV      3260   N14153  EWR    ALB  31       143      16   21    \n",
              "6    82       EV      4170   N12540  EWR    ALB  30       143      20    4    \n",
              "7    40       EV      4271   N31131  EWR    ALB  31       143      16   19    \n",
              "8    -8       EV      4309   N16561  EWR    ALB  37       143      20   38    \n",
              "9    -9       EV      4271   N12567  EWR    ALB  33       143      16   19    \n",
              "10   30       EV      4309   N12540  EWR    ALB  31       143      20    0    \n",
              "11  -10       EV      4271   N14179  EWR    ALB  30       143      16   20    \n",
              "12   -8       EV      4309   N21144  EWR    ALB  31       143      20    0    \n",
              "13   95       EV      4271   N14916  EWR    ALB  30       143      16   19    \n",
              "14    4       EV      4309   N14953  EWR    ALB  31       143      20    5    \n",
              "15   -9       EV      4271   N15973  EWR    ALB  29       143      16   19    \n",
              "16   41       EV      4309   N19554  EWR    ALB  28       143      20    0    \n",
              "17  -15       EV      4271   N12201  EWR    ALB  33       143      16   19    \n",
              "18   -5       EV      4309   N13955  EWR    ALB  30       143      20    0    \n",
              "19  -17       EV      4271   N14153  EWR    ALB  33       143      16   19    \n",
              "20  -16       EV      4309   N36915  EWR    ALB  36       143      20    0    \n",
              "21  120       EV      4271   N14148  EWR    ALB  32       143      16   19    \n",
              "22   35       EV      4309   N13955  EWR    ALB  28       143      20   38    \n",
              "23   -5       EV      4271   N16147  EWR    ALB  36       143      16   19    \n",
              "24   -2       EV      4309   N13994  EWR    ALB  36       143      20    0    \n",
              "25   -6       EV      4271   N14188  EWR    ALB  36       143      16   20    \n",
              "26  -15       EV      4309   N12922  EWR    ALB  30       143      20    0    \n",
              "27   58       EV      4271   N12166  EWR    ALB  45       143      16   19    \n",
              "28   43       EV      4309   N18557  EWR    ALB  34       143      20    5    \n",
              "29  -14       EV      4271   N12195  EWR    ALB  32       143      16   19    \n",
              "30   14       EV      4309   N12564  EWR    ALB  30       143      20    0    \n",
              "⋮   ⋮         ⋮       ⋮      ⋮       ⋮      ⋮    ⋮        ⋮        ⋮    ⋮     \n",
              "410 -21       EV      4565   N13956  EWR    ALB  30       143       7   20    \n",
              "411 -28       EV      4565   N13958  EWR    ALB  31       143       7   20    \n",
              "412 -21       EV      4565   N11181  EWR    ALB  32       143       7   20    \n",
              "413 -31       EV      4565   N11184  EWR    ALB  29       143       7   20    \n",
              "414 -18       EV      4565   N14168  EWR    ALB  28       143       7   20    \n",
              "415   5       EV      4565   N14174  EWR    ALB  31       143       7   20    \n",
              "416 -18       EV      4565   N14173  EWR    ALB  30       143       7   20    \n",
              "417 -20       EV      4565   N12167  EWR    ALB  29       143       7   20    \n",
              "418 -23       EV      4565   N14174  EWR    ALB  34       143       7   20    \n",
              "419 -25       EV      5976   N12175  EWR    ALB  26       143      21   59    \n",
              "420 -19       EV      4396   N27962  EWR    ALB  30       143      21   59    \n",
              "421  -8       EV      6043   N21537  EWR    ALB  26       143      21   59    \n",
              "422 -10       EV      4396   N13903  EWR    ALB  33       143      21   59    \n",
              "423 -13       EV      4264   N11113  EWR    ALB  29       143      21   59    \n",
              "424 -21       EV      4264   N16951  EWR    ALB  32       143      21   59    \n",
              "425  25       EV      6043   N13566  EWR    ALB  34       143      21   59    \n",
              "426  33       EV      6043   N10575  EWR    ALB  27       143      21   59    \n",
              "427  NA       EV      6043   N10575  EWR    ALB  NA       143      21   59    \n",
              "428  -3       EV      6043   N13914  EWR    ALB  36       143      21   59    \n",
              "429 -23       EV      4396   N13903  EWR    ALB  29       143      21   59    \n",
              "430 -23       EV      4264   N16951  EWR    ALB  28       143      21   59    \n",
              "431 -30       EV      4264   N14952  EWR    ALB  29       143      21   59    \n",
              "432 -28       EV      6043   N15555  EWR    ALB  30       143      21   59    \n",
              "433  -2       EV      6043   N15985  EWR    ALB  29       143      21   59    \n",
              "434 -20       EV      6043   N13979  EWR    ALB  29       143      21   59    \n",
              "435 -18       EV      6043   N11551  EWR    ALB  34       143      21   59    \n",
              "436 -22       EV      4396   N15985  EWR    ALB  32       143      21   59    \n",
              "437 -20       EV      4264   N14174  EWR    ALB  28       143      21   59    \n",
              "438   9       EV      4264   N15910  EWR    ALB  27       143      21   59    \n",
              "439 -23       EV      6043   N16951  EWR    ALB  31       143      21   59    \n",
              "    time_hour          \n",
              "1   2013-01-01 13:00:00\n",
              "2   2013-01-01 16:00:00\n",
              "3   2013-01-01 20:00:00\n",
              "4   2013-01-02 13:00:00\n",
              "5   2013-01-02 16:00:00\n",
              "6   2013-01-02 20:00:00\n",
              "7   2013-01-03 16:00:00\n",
              "8   2013-01-03 20:00:00\n",
              "9   2013-01-04 16:00:00\n",
              "10  2013-01-04 20:00:00\n",
              "11  2013-01-05 16:00:00\n",
              "12  2013-01-05 20:00:00\n",
              "13  2013-01-06 16:00:00\n",
              "14  2013-01-06 20:00:00\n",
              "15  2013-01-07 16:00:00\n",
              "16  2013-01-07 20:00:00\n",
              "17  2013-01-08 16:00:00\n",
              "18  2013-01-08 20:00:00\n",
              "19  2013-01-09 16:00:00\n",
              "20  2013-01-09 20:00:00\n",
              "21  2013-01-10 16:00:00\n",
              "22  2013-01-10 20:00:00\n",
              "23  2013-01-11 16:00:00\n",
              "24  2013-01-11 20:00:00\n",
              "25  2013-01-12 16:00:00\n",
              "26  2013-01-12 20:00:00\n",
              "27  2013-01-13 16:00:00\n",
              "28  2013-01-13 20:00:00\n",
              "29  2013-01-14 16:00:00\n",
              "30  2013-01-14 20:00:00\n",
              "⋮   ⋮                  \n",
              "410 2013-08-16 07:00:00\n",
              "411 2013-08-17 07:00:00\n",
              "412 2013-08-19 07:00:00\n",
              "413 2013-08-20 07:00:00\n",
              "414 2013-08-21 07:00:00\n",
              "415 2013-08-22 07:00:00\n",
              "416 2013-08-23 07:00:00\n",
              "417 2013-08-24 07:00:00\n",
              "418 2013-08-26 07:00:00\n",
              "419 2013-08-27 21:00:00\n",
              "420 2013-09-05 21:00:00\n",
              "421 2013-09-06 21:00:00\n",
              "422 2013-09-07 21:00:00\n",
              "423 2013-09-08 21:00:00\n",
              "424 2013-09-09 21:00:00\n",
              "425 2013-09-10 21:00:00\n",
              "426 2013-09-11 21:00:00\n",
              "427 2013-09-12 21:00:00\n",
              "428 2013-09-13 21:00:00\n",
              "429 2013-09-14 21:00:00\n",
              "430 2013-09-15 21:00:00\n",
              "431 2013-09-16 21:00:00\n",
              "432 2013-09-17 21:00:00\n",
              "433 2013-09-18 21:00:00\n",
              "434 2013-09-19 21:00:00\n",
              "435 2013-09-20 21:00:00\n",
              "436 2013-09-21 21:00:00\n",
              "437 2013-09-22 21:00:00\n",
              "438 2013-09-23 21:00:00\n",
              "439 2013-09-24 21:00:00"
            ]
          },
          "metadata": {}
        }
      ]
    },
    {
      "cell_type": "code",
      "source": [
        "# Cuantos NA hay en arr_delay en dicha combinación de aeropuertos?\n",
        "vuelos %>%\n",
        "  filter(origin == \"EWR\" & dest == \"ALB\" & is.na(arr_delay)) %>%\t# Hay NA's en arr_delay\n",
        "  nrow()# 21 registros donde arr_del es NA."
      ],
      "metadata": {
        "id": "GnzCUAAHoupH",
        "outputId": "b9b1e5cc-0b77-4f0a-8a01-5f65a3a4768d",
        "colab": {
          "base_uri": "https://localhost:8080/",
          "height": 34
        }
      },
      "execution_count": 21,
      "outputs": [
        {
          "output_type": "display_data",
          "data": {
            "text/html": [
              "21"
            ],
            "text/markdown": "21",
            "text/latex": "21",
            "text/plain": [
              "[1] 21"
            ]
          },
          "metadata": {}
        }
      ]
    },
    {
      "cell_type": "code",
      "source": [
        "#OJO co los NA's cuando pedimos algunos estadísticos como mean() u otros\n",
        "mean(c(1,2,NA,3,4))\n",
        "mean(c(1,2,NA,3,4), na.rm = T)\n",
        "mean(c(1,2,3,4))"
      ],
      "metadata": {
        "id": "Fbopd9O9pVIB",
        "outputId": "9b44970f-f049-49da-f160-2b9ac8eb1c33",
        "colab": {
          "base_uri": "https://localhost:8080/",
          "height": 69
        }
      },
      "execution_count": 26,
      "outputs": [
        {
          "output_type": "display_data",
          "data": {
            "text/html": [
              "&lt;NA&gt;"
            ],
            "text/markdown": "&lt;NA&gt;",
            "text/latex": "<NA>",
            "text/plain": [
              "[1] NA"
            ]
          },
          "metadata": {}
        },
        {
          "output_type": "display_data",
          "data": {
            "text/html": [
              "2.5"
            ],
            "text/markdown": "2.5",
            "text/latex": "2.5",
            "text/plain": [
              "[1] 2.5"
            ]
          },
          "metadata": {}
        },
        {
          "output_type": "display_data",
          "data": {
            "text/html": [
              "2.5"
            ],
            "text/markdown": "2.5",
            "text/latex": "2.5",
            "text/plain": [
              "[1] 2.5"
            ]
          },
          "metadata": {}
        }
      ]
    },
    {
      "cell_type": "code",
      "source": [
        "vuelos %>%\n",
        "  group_by(origin,dest) %>%\n",
        "  summarise(prom_arr_del = mean(arr_delay,na.rm = T),\n",
        "            tot_vuelos = n()) # Con la función n() podemos generar conteos dentro de summarise(). O más bien Dentro de un flujo de dplyr."
      ],
      "metadata": {
        "id": "2dPUgy6hp6IM",
        "outputId": "37fec8ef-e200-4999-cab7-957c95678951",
        "colab": {
          "base_uri": "https://localhost:8080/",
          "height": 1000
        }
      },
      "execution_count": 31,
      "outputs": [
        {
          "output_type": "stream",
          "name": "stderr",
          "text": [
            "\u001b[1m\u001b[22m`summarise()` has grouped output by 'origin'. You can override using the\n",
            "`.groups` argument.\n"
          ]
        },
        {
          "output_type": "display_data",
          "data": {
            "text/html": [
              "<table class=\"dataframe\">\n",
              "<caption>A grouped_df: 224 × 4</caption>\n",
              "<thead>\n",
              "\t<tr><th scope=col>origin</th><th scope=col>dest</th><th scope=col>prom_arr_del</th><th scope=col>tot_vuelos</th></tr>\n",
              "\t<tr><th scope=col>&lt;chr&gt;</th><th scope=col>&lt;chr&gt;</th><th scope=col>&lt;dbl&gt;</th><th scope=col>&lt;int&gt;</th></tr>\n",
              "</thead>\n",
              "<tbody>\n",
              "\t<tr><td>EWR</td><td>ALB</td><td>14.3971292</td><td> 439</td></tr>\n",
              "\t<tr><td>EWR</td><td>ANC</td><td>-2.5000000</td><td>   8</td></tr>\n",
              "\t<tr><td>EWR</td><td>ATL</td><td>13.2331829</td><td>5022</td></tr>\n",
              "\t<tr><td>EWR</td><td>AUS</td><td>-0.4743992</td><td> 968</td></tr>\n",
              "\t<tr><td>EWR</td><td>AVL</td><td> 8.8047809</td><td> 265</td></tr>\n",
              "\t<tr><td>EWR</td><td>BDL</td><td> 7.0485437</td><td> 443</td></tr>\n",
              "\t<tr><td>EWR</td><td>BNA</td><td>12.7081660</td><td>2336</td></tr>\n",
              "\t<tr><td>EWR</td><td>BOS</td><td> 4.7836859</td><td>5327</td></tr>\n",
              "\t<tr><td>EWR</td><td>BQN</td><td>10.8644068</td><td> 297</td></tr>\n",
              "\t<tr><td>EWR</td><td>BTV</td><td>12.1862302</td><td> 931</td></tr>\n",
              "\t<tr><td>EWR</td><td>BUF</td><td> 9.6965812</td><td> 973</td></tr>\n",
              "\t<tr><td>EWR</td><td>BWI</td><td>15.0763359</td><td> 545</td></tr>\n",
              "\t<tr><td>EWR</td><td>BZN</td><td> 7.6000000</td><td>  36</td></tr>\n",
              "\t<tr><td>EWR</td><td>CAE</td><td>44.5851064</td><td> 104</td></tr>\n",
              "\t<tr><td>EWR</td><td>CHS</td><td>16.1861504</td><td>1424</td></tr>\n",
              "\t<tr><td>EWR</td><td>CLE</td><td> 5.0358382</td><td>1754</td></tr>\n",
              "\t<tr><td>EWR</td><td>CLT</td><td> 7.7819334</td><td>5026</td></tr>\n",
              "\t<tr><td>EWR</td><td>CMH</td><td> 9.6020408</td><td> 724</td></tr>\n",
              "\t<tr><td>EWR</td><td>CVG</td><td>14.9255869</td><td>2673</td></tr>\n",
              "\t<tr><td>EWR</td><td>DAY</td><td>18.3841060</td><td>1134</td></tr>\n",
              "\t<tr><td>EWR</td><td>DCA</td><td>21.3139757</td><td>1719</td></tr>\n",
              "\t<tr><td>EWR</td><td>DEN</td><td> 9.0337478</td><td>2859</td></tr>\n",
              "\t<tr><td>EWR</td><td>DFW</td><td> 1.8981420</td><td>3148</td></tr>\n",
              "\t<tr><td>EWR</td><td>DSM</td><td>23.5487179</td><td> 411</td></tr>\n",
              "\t<tr><td>EWR</td><td>DTW</td><td>10.9155866</td><td>3178</td></tr>\n",
              "\t<tr><td>EWR</td><td>EGE</td><td>-5.3490566</td><td> 110</td></tr>\n",
              "\t<tr><td>EWR</td><td>FLL</td><td> 7.7612299</td><td>3793</td></tr>\n",
              "\t<tr><td>EWR</td><td>GRR</td><td>19.3706395</td><td> 719</td></tr>\n",
              "\t<tr><td>EWR</td><td>GSO</td><td>17.6622010</td><td>1120</td></tr>\n",
              "\t<tr><td>EWR</td><td>GSP</td><td>18.1430636</td><td> 745</td></tr>\n",
              "\t<tr><td>⋮</td><td>⋮</td><td>⋮</td><td>⋮</td></tr>\n",
              "\t<tr><td>LGA</td><td>MDW</td><td> 11.0500736</td><td>2070</td></tr>\n",
              "\t<tr><td>LGA</td><td>MEM</td><td>  1.3464286</td><td> 862</td></tr>\n",
              "\t<tr><td>LGA</td><td>MHT</td><td> 17.5277778</td><td> 142</td></tr>\n",
              "\t<tr><td>LGA</td><td>MIA</td><td> -0.0657664</td><td>5781</td></tr>\n",
              "\t<tr><td>LGA</td><td>MKE</td><td>  7.2528736</td><td>1525</td></tr>\n",
              "\t<tr><td>LGA</td><td>MSN</td><td> 15.2890995</td><td> 218</td></tr>\n",
              "\t<tr><td>LGA</td><td>MSP</td><td>  6.1312155</td><td>3713</td></tr>\n",
              "\t<tr><td>LGA</td><td>MSY</td><td>  2.3336673</td><td>1011</td></tr>\n",
              "\t<tr><td>LGA</td><td>MYR</td><td> -3.0000000</td><td>   3</td></tr>\n",
              "\t<tr><td>LGA</td><td>OMA</td><td> 13.7362637</td><td>  95</td></tr>\n",
              "\t<tr><td>LGA</td><td>ORD</td><td>  1.8334313</td><td>8857</td></tr>\n",
              "\t<tr><td>LGA</td><td>ORF</td><td>  7.7846154</td><td> 206</td></tr>\n",
              "\t<tr><td>LGA</td><td>PBI</td><td>  6.0152326</td><td>2464</td></tr>\n",
              "\t<tr><td>LGA</td><td>PHL</td><td>  5.7792642</td><td> 607</td></tr>\n",
              "\t<tr><td>LGA</td><td>PIT</td><td>  9.6343874</td><td>1067</td></tr>\n",
              "\t<tr><td>LGA</td><td>PWM</td><td>  1.8608059</td><td> 278</td></tr>\n",
              "\t<tr><td>LGA</td><td>RDU</td><td>  8.4166172</td><td>3581</td></tr>\n",
              "\t<tr><td>LGA</td><td>RIC</td><td>  5.6424242</td><td> 538</td></tr>\n",
              "\t<tr><td>LGA</td><td>ROC</td><td>  1.8101852</td><td> 224</td></tr>\n",
              "\t<tr><td>LGA</td><td>RSW</td><td>  7.0611702</td><td> 761</td></tr>\n",
              "\t<tr><td>LGA</td><td>SAV</td><td>-10.5147059</td><td>  68</td></tr>\n",
              "\t<tr><td>LGA</td><td>SBN</td><td> 14.5000000</td><td>   6</td></tr>\n",
              "\t<tr><td>LGA</td><td>SDF</td><td> -3.4428571</td><td> 217</td></tr>\n",
              "\t<tr><td>LGA</td><td>SRQ</td><td>  4.5939643</td><td> 737</td></tr>\n",
              "\t<tr><td>LGA</td><td>STL</td><td>  4.0882852</td><td>1822</td></tr>\n",
              "\t<tr><td>LGA</td><td>SYR</td><td>  9.2527881</td><td> 293</td></tr>\n",
              "\t<tr><td>LGA</td><td>TPA</td><td>  8.2064911</td><td>2145</td></tr>\n",
              "\t<tr><td>LGA</td><td>TVC</td><td> 15.9726027</td><td>  77</td></tr>\n",
              "\t<tr><td>LGA</td><td>TYS</td><td>  3.8943396</td><td> 308</td></tr>\n",
              "\t<tr><td>LGA</td><td>XNA</td><td>  7.1142454</td><td> 745</td></tr>\n",
              "</tbody>\n",
              "</table>\n"
            ],
            "text/markdown": "\nA grouped_df: 224 × 4\n\n| origin &lt;chr&gt; | dest &lt;chr&gt; | prom_arr_del &lt;dbl&gt; | tot_vuelos &lt;int&gt; |\n|---|---|---|---|\n| EWR | ALB | 14.3971292 |  439 |\n| EWR | ANC | -2.5000000 |    8 |\n| EWR | ATL | 13.2331829 | 5022 |\n| EWR | AUS | -0.4743992 |  968 |\n| EWR | AVL |  8.8047809 |  265 |\n| EWR | BDL |  7.0485437 |  443 |\n| EWR | BNA | 12.7081660 | 2336 |\n| EWR | BOS |  4.7836859 | 5327 |\n| EWR | BQN | 10.8644068 |  297 |\n| EWR | BTV | 12.1862302 |  931 |\n| EWR | BUF |  9.6965812 |  973 |\n| EWR | BWI | 15.0763359 |  545 |\n| EWR | BZN |  7.6000000 |   36 |\n| EWR | CAE | 44.5851064 |  104 |\n| EWR | CHS | 16.1861504 | 1424 |\n| EWR | CLE |  5.0358382 | 1754 |\n| EWR | CLT |  7.7819334 | 5026 |\n| EWR | CMH |  9.6020408 |  724 |\n| EWR | CVG | 14.9255869 | 2673 |\n| EWR | DAY | 18.3841060 | 1134 |\n| EWR | DCA | 21.3139757 | 1719 |\n| EWR | DEN |  9.0337478 | 2859 |\n| EWR | DFW |  1.8981420 | 3148 |\n| EWR | DSM | 23.5487179 |  411 |\n| EWR | DTW | 10.9155866 | 3178 |\n| EWR | EGE | -5.3490566 |  110 |\n| EWR | FLL |  7.7612299 | 3793 |\n| EWR | GRR | 19.3706395 |  719 |\n| EWR | GSO | 17.6622010 | 1120 |\n| EWR | GSP | 18.1430636 |  745 |\n| ⋮ | ⋮ | ⋮ | ⋮ |\n| LGA | MDW |  11.0500736 | 2070 |\n| LGA | MEM |   1.3464286 |  862 |\n| LGA | MHT |  17.5277778 |  142 |\n| LGA | MIA |  -0.0657664 | 5781 |\n| LGA | MKE |   7.2528736 | 1525 |\n| LGA | MSN |  15.2890995 |  218 |\n| LGA | MSP |   6.1312155 | 3713 |\n| LGA | MSY |   2.3336673 | 1011 |\n| LGA | MYR |  -3.0000000 |    3 |\n| LGA | OMA |  13.7362637 |   95 |\n| LGA | ORD |   1.8334313 | 8857 |\n| LGA | ORF |   7.7846154 |  206 |\n| LGA | PBI |   6.0152326 | 2464 |\n| LGA | PHL |   5.7792642 |  607 |\n| LGA | PIT |   9.6343874 | 1067 |\n| LGA | PWM |   1.8608059 |  278 |\n| LGA | RDU |   8.4166172 | 3581 |\n| LGA | RIC |   5.6424242 |  538 |\n| LGA | ROC |   1.8101852 |  224 |\n| LGA | RSW |   7.0611702 |  761 |\n| LGA | SAV | -10.5147059 |   68 |\n| LGA | SBN |  14.5000000 |    6 |\n| LGA | SDF |  -3.4428571 |  217 |\n| LGA | SRQ |   4.5939643 |  737 |\n| LGA | STL |   4.0882852 | 1822 |\n| LGA | SYR |   9.2527881 |  293 |\n| LGA | TPA |   8.2064911 | 2145 |\n| LGA | TVC |  15.9726027 |   77 |\n| LGA | TYS |   3.8943396 |  308 |\n| LGA | XNA |   7.1142454 |  745 |\n\n",
            "text/latex": "A grouped\\_df: 224 × 4\n\\begin{tabular}{llll}\n origin & dest & prom\\_arr\\_del & tot\\_vuelos\\\\\n <chr> & <chr> & <dbl> & <int>\\\\\n\\hline\n\t EWR & ALB & 14.3971292 &  439\\\\\n\t EWR & ANC & -2.5000000 &    8\\\\\n\t EWR & ATL & 13.2331829 & 5022\\\\\n\t EWR & AUS & -0.4743992 &  968\\\\\n\t EWR & AVL &  8.8047809 &  265\\\\\n\t EWR & BDL &  7.0485437 &  443\\\\\n\t EWR & BNA & 12.7081660 & 2336\\\\\n\t EWR & BOS &  4.7836859 & 5327\\\\\n\t EWR & BQN & 10.8644068 &  297\\\\\n\t EWR & BTV & 12.1862302 &  931\\\\\n\t EWR & BUF &  9.6965812 &  973\\\\\n\t EWR & BWI & 15.0763359 &  545\\\\\n\t EWR & BZN &  7.6000000 &   36\\\\\n\t EWR & CAE & 44.5851064 &  104\\\\\n\t EWR & CHS & 16.1861504 & 1424\\\\\n\t EWR & CLE &  5.0358382 & 1754\\\\\n\t EWR & CLT &  7.7819334 & 5026\\\\\n\t EWR & CMH &  9.6020408 &  724\\\\\n\t EWR & CVG & 14.9255869 & 2673\\\\\n\t EWR & DAY & 18.3841060 & 1134\\\\\n\t EWR & DCA & 21.3139757 & 1719\\\\\n\t EWR & DEN &  9.0337478 & 2859\\\\\n\t EWR & DFW &  1.8981420 & 3148\\\\\n\t EWR & DSM & 23.5487179 &  411\\\\\n\t EWR & DTW & 10.9155866 & 3178\\\\\n\t EWR & EGE & -5.3490566 &  110\\\\\n\t EWR & FLL &  7.7612299 & 3793\\\\\n\t EWR & GRR & 19.3706395 &  719\\\\\n\t EWR & GSO & 17.6622010 & 1120\\\\\n\t EWR & GSP & 18.1430636 &  745\\\\\n\t ⋮ & ⋮ & ⋮ & ⋮\\\\\n\t LGA & MDW &  11.0500736 & 2070\\\\\n\t LGA & MEM &   1.3464286 &  862\\\\\n\t LGA & MHT &  17.5277778 &  142\\\\\n\t LGA & MIA &  -0.0657664 & 5781\\\\\n\t LGA & MKE &   7.2528736 & 1525\\\\\n\t LGA & MSN &  15.2890995 &  218\\\\\n\t LGA & MSP &   6.1312155 & 3713\\\\\n\t LGA & MSY &   2.3336673 & 1011\\\\\n\t LGA & MYR &  -3.0000000 &    3\\\\\n\t LGA & OMA &  13.7362637 &   95\\\\\n\t LGA & ORD &   1.8334313 & 8857\\\\\n\t LGA & ORF &   7.7846154 &  206\\\\\n\t LGA & PBI &   6.0152326 & 2464\\\\\n\t LGA & PHL &   5.7792642 &  607\\\\\n\t LGA & PIT &   9.6343874 & 1067\\\\\n\t LGA & PWM &   1.8608059 &  278\\\\\n\t LGA & RDU &   8.4166172 & 3581\\\\\n\t LGA & RIC &   5.6424242 &  538\\\\\n\t LGA & ROC &   1.8101852 &  224\\\\\n\t LGA & RSW &   7.0611702 &  761\\\\\n\t LGA & SAV & -10.5147059 &   68\\\\\n\t LGA & SBN &  14.5000000 &    6\\\\\n\t LGA & SDF &  -3.4428571 &  217\\\\\n\t LGA & SRQ &   4.5939643 &  737\\\\\n\t LGA & STL &   4.0882852 & 1822\\\\\n\t LGA & SYR &   9.2527881 &  293\\\\\n\t LGA & TPA &   8.2064911 & 2145\\\\\n\t LGA & TVC &  15.9726027 &   77\\\\\n\t LGA & TYS &   3.8943396 &  308\\\\\n\t LGA & XNA &   7.1142454 &  745\\\\\n\\end{tabular}\n",
            "text/plain": [
              "    origin dest prom_arr_del tot_vuelos\n",
              "1   EWR    ALB  14.3971292    439      \n",
              "2   EWR    ANC  -2.5000000      8      \n",
              "3   EWR    ATL  13.2331829   5022      \n",
              "4   EWR    AUS  -0.4743992    968      \n",
              "5   EWR    AVL   8.8047809    265      \n",
              "6   EWR    BDL   7.0485437    443      \n",
              "7   EWR    BNA  12.7081660   2336      \n",
              "8   EWR    BOS   4.7836859   5327      \n",
              "9   EWR    BQN  10.8644068    297      \n",
              "10  EWR    BTV  12.1862302    931      \n",
              "11  EWR    BUF   9.6965812    973      \n",
              "12  EWR    BWI  15.0763359    545      \n",
              "13  EWR    BZN   7.6000000     36      \n",
              "14  EWR    CAE  44.5851064    104      \n",
              "15  EWR    CHS  16.1861504   1424      \n",
              "16  EWR    CLE   5.0358382   1754      \n",
              "17  EWR    CLT   7.7819334   5026      \n",
              "18  EWR    CMH   9.6020408    724      \n",
              "19  EWR    CVG  14.9255869   2673      \n",
              "20  EWR    DAY  18.3841060   1134      \n",
              "21  EWR    DCA  21.3139757   1719      \n",
              "22  EWR    DEN   9.0337478   2859      \n",
              "23  EWR    DFW   1.8981420   3148      \n",
              "24  EWR    DSM  23.5487179    411      \n",
              "25  EWR    DTW  10.9155866   3178      \n",
              "26  EWR    EGE  -5.3490566    110      \n",
              "27  EWR    FLL   7.7612299   3793      \n",
              "28  EWR    GRR  19.3706395    719      \n",
              "29  EWR    GSO  17.6622010   1120      \n",
              "30  EWR    GSP  18.1430636    745      \n",
              "⋮   ⋮      ⋮    ⋮            ⋮         \n",
              "195 LGA    MDW   11.0500736  2070      \n",
              "196 LGA    MEM    1.3464286   862      \n",
              "197 LGA    MHT   17.5277778   142      \n",
              "198 LGA    MIA   -0.0657664  5781      \n",
              "199 LGA    MKE    7.2528736  1525      \n",
              "200 LGA    MSN   15.2890995   218      \n",
              "201 LGA    MSP    6.1312155  3713      \n",
              "202 LGA    MSY    2.3336673  1011      \n",
              "203 LGA    MYR   -3.0000000     3      \n",
              "204 LGA    OMA   13.7362637    95      \n",
              "205 LGA    ORD    1.8334313  8857      \n",
              "206 LGA    ORF    7.7846154   206      \n",
              "207 LGA    PBI    6.0152326  2464      \n",
              "208 LGA    PHL    5.7792642   607      \n",
              "209 LGA    PIT    9.6343874  1067      \n",
              "210 LGA    PWM    1.8608059   278      \n",
              "211 LGA    RDU    8.4166172  3581      \n",
              "212 LGA    RIC    5.6424242   538      \n",
              "213 LGA    ROC    1.8101852   224      \n",
              "214 LGA    RSW    7.0611702   761      \n",
              "215 LGA    SAV  -10.5147059    68      \n",
              "216 LGA    SBN   14.5000000     6      \n",
              "217 LGA    SDF   -3.4428571   217      \n",
              "218 LGA    SRQ    4.5939643   737      \n",
              "219 LGA    STL    4.0882852  1822      \n",
              "220 LGA    SYR    9.2527881   293      \n",
              "221 LGA    TPA    8.2064911  2145      \n",
              "222 LGA    TVC   15.9726027    77      \n",
              "223 LGA    TYS    3.8943396   308      \n",
              "224 LGA    XNA    7.1142454   745      "
            ]
          },
          "metadata": {}
        }
      ]
    },
    {
      "cell_type": "code",
      "source": [
        "# NOTA: Sabemos contar registros por combinación de categorías\n",
        "vuelos %>%\n",
        "  count(origin,dest)"
      ],
      "metadata": {
        "id": "Kr2Eu3evqZsB",
        "outputId": "04625552-e286-46d7-a4f0-85bc8174558e",
        "colab": {
          "base_uri": "https://localhost:8080/",
          "height": 1000
        }
      },
      "execution_count": 28,
      "outputs": [
        {
          "output_type": "display_data",
          "data": {
            "text/html": [
              "<table class=\"dataframe\">\n",
              "<caption>A data.frame: 224 × 3</caption>\n",
              "<thead>\n",
              "\t<tr><th scope=col>origin</th><th scope=col>dest</th><th scope=col>n</th></tr>\n",
              "\t<tr><th scope=col>&lt;chr&gt;</th><th scope=col>&lt;chr&gt;</th><th scope=col>&lt;int&gt;</th></tr>\n",
              "</thead>\n",
              "<tbody>\n",
              "\t<tr><td>EWR</td><td>ALB</td><td> 439</td></tr>\n",
              "\t<tr><td>EWR</td><td>ANC</td><td>   8</td></tr>\n",
              "\t<tr><td>EWR</td><td>ATL</td><td>5022</td></tr>\n",
              "\t<tr><td>EWR</td><td>AUS</td><td> 968</td></tr>\n",
              "\t<tr><td>EWR</td><td>AVL</td><td> 265</td></tr>\n",
              "\t<tr><td>EWR</td><td>BDL</td><td> 443</td></tr>\n",
              "\t<tr><td>EWR</td><td>BNA</td><td>2336</td></tr>\n",
              "\t<tr><td>EWR</td><td>BOS</td><td>5327</td></tr>\n",
              "\t<tr><td>EWR</td><td>BQN</td><td> 297</td></tr>\n",
              "\t<tr><td>EWR</td><td>BTV</td><td> 931</td></tr>\n",
              "\t<tr><td>EWR</td><td>BUF</td><td> 973</td></tr>\n",
              "\t<tr><td>EWR</td><td>BWI</td><td> 545</td></tr>\n",
              "\t<tr><td>EWR</td><td>BZN</td><td>  36</td></tr>\n",
              "\t<tr><td>EWR</td><td>CAE</td><td> 104</td></tr>\n",
              "\t<tr><td>EWR</td><td>CHS</td><td>1424</td></tr>\n",
              "\t<tr><td>EWR</td><td>CLE</td><td>1754</td></tr>\n",
              "\t<tr><td>EWR</td><td>CLT</td><td>5026</td></tr>\n",
              "\t<tr><td>EWR</td><td>CMH</td><td> 724</td></tr>\n",
              "\t<tr><td>EWR</td><td>CVG</td><td>2673</td></tr>\n",
              "\t<tr><td>EWR</td><td>DAY</td><td>1134</td></tr>\n",
              "\t<tr><td>EWR</td><td>DCA</td><td>1719</td></tr>\n",
              "\t<tr><td>EWR</td><td>DEN</td><td>2859</td></tr>\n",
              "\t<tr><td>EWR</td><td>DFW</td><td>3148</td></tr>\n",
              "\t<tr><td>EWR</td><td>DSM</td><td> 411</td></tr>\n",
              "\t<tr><td>EWR</td><td>DTW</td><td>3178</td></tr>\n",
              "\t<tr><td>EWR</td><td>EGE</td><td> 110</td></tr>\n",
              "\t<tr><td>EWR</td><td>FLL</td><td>3793</td></tr>\n",
              "\t<tr><td>EWR</td><td>GRR</td><td> 719</td></tr>\n",
              "\t<tr><td>EWR</td><td>GSO</td><td>1120</td></tr>\n",
              "\t<tr><td>EWR</td><td>GSP</td><td> 745</td></tr>\n",
              "\t<tr><td>⋮</td><td>⋮</td><td>⋮</td></tr>\n",
              "\t<tr><td>LGA</td><td>MDW</td><td>2070</td></tr>\n",
              "\t<tr><td>LGA</td><td>MEM</td><td> 862</td></tr>\n",
              "\t<tr><td>LGA</td><td>MHT</td><td> 142</td></tr>\n",
              "\t<tr><td>LGA</td><td>MIA</td><td>5781</td></tr>\n",
              "\t<tr><td>LGA</td><td>MKE</td><td>1525</td></tr>\n",
              "\t<tr><td>LGA</td><td>MSN</td><td> 218</td></tr>\n",
              "\t<tr><td>LGA</td><td>MSP</td><td>3713</td></tr>\n",
              "\t<tr><td>LGA</td><td>MSY</td><td>1011</td></tr>\n",
              "\t<tr><td>LGA</td><td>MYR</td><td>   3</td></tr>\n",
              "\t<tr><td>LGA</td><td>OMA</td><td>  95</td></tr>\n",
              "\t<tr><td>LGA</td><td>ORD</td><td>8857</td></tr>\n",
              "\t<tr><td>LGA</td><td>ORF</td><td> 206</td></tr>\n",
              "\t<tr><td>LGA</td><td>PBI</td><td>2464</td></tr>\n",
              "\t<tr><td>LGA</td><td>PHL</td><td> 607</td></tr>\n",
              "\t<tr><td>LGA</td><td>PIT</td><td>1067</td></tr>\n",
              "\t<tr><td>LGA</td><td>PWM</td><td> 278</td></tr>\n",
              "\t<tr><td>LGA</td><td>RDU</td><td>3581</td></tr>\n",
              "\t<tr><td>LGA</td><td>RIC</td><td> 538</td></tr>\n",
              "\t<tr><td>LGA</td><td>ROC</td><td> 224</td></tr>\n",
              "\t<tr><td>LGA</td><td>RSW</td><td> 761</td></tr>\n",
              "\t<tr><td>LGA</td><td>SAV</td><td>  68</td></tr>\n",
              "\t<tr><td>LGA</td><td>SBN</td><td>   6</td></tr>\n",
              "\t<tr><td>LGA</td><td>SDF</td><td> 217</td></tr>\n",
              "\t<tr><td>LGA</td><td>SRQ</td><td> 737</td></tr>\n",
              "\t<tr><td>LGA</td><td>STL</td><td>1822</td></tr>\n",
              "\t<tr><td>LGA</td><td>SYR</td><td> 293</td></tr>\n",
              "\t<tr><td>LGA</td><td>TPA</td><td>2145</td></tr>\n",
              "\t<tr><td>LGA</td><td>TVC</td><td>  77</td></tr>\n",
              "\t<tr><td>LGA</td><td>TYS</td><td> 308</td></tr>\n",
              "\t<tr><td>LGA</td><td>XNA</td><td> 745</td></tr>\n",
              "</tbody>\n",
              "</table>\n"
            ],
            "text/markdown": "\nA data.frame: 224 × 3\n\n| origin &lt;chr&gt; | dest &lt;chr&gt; | n &lt;int&gt; |\n|---|---|---|\n| EWR | ALB |  439 |\n| EWR | ANC |    8 |\n| EWR | ATL | 5022 |\n| EWR | AUS |  968 |\n| EWR | AVL |  265 |\n| EWR | BDL |  443 |\n| EWR | BNA | 2336 |\n| EWR | BOS | 5327 |\n| EWR | BQN |  297 |\n| EWR | BTV |  931 |\n| EWR | BUF |  973 |\n| EWR | BWI |  545 |\n| EWR | BZN |   36 |\n| EWR | CAE |  104 |\n| EWR | CHS | 1424 |\n| EWR | CLE | 1754 |\n| EWR | CLT | 5026 |\n| EWR | CMH |  724 |\n| EWR | CVG | 2673 |\n| EWR | DAY | 1134 |\n| EWR | DCA | 1719 |\n| EWR | DEN | 2859 |\n| EWR | DFW | 3148 |\n| EWR | DSM |  411 |\n| EWR | DTW | 3178 |\n| EWR | EGE |  110 |\n| EWR | FLL | 3793 |\n| EWR | GRR |  719 |\n| EWR | GSO | 1120 |\n| EWR | GSP |  745 |\n| ⋮ | ⋮ | ⋮ |\n| LGA | MDW | 2070 |\n| LGA | MEM |  862 |\n| LGA | MHT |  142 |\n| LGA | MIA | 5781 |\n| LGA | MKE | 1525 |\n| LGA | MSN |  218 |\n| LGA | MSP | 3713 |\n| LGA | MSY | 1011 |\n| LGA | MYR |    3 |\n| LGA | OMA |   95 |\n| LGA | ORD | 8857 |\n| LGA | ORF |  206 |\n| LGA | PBI | 2464 |\n| LGA | PHL |  607 |\n| LGA | PIT | 1067 |\n| LGA | PWM |  278 |\n| LGA | RDU | 3581 |\n| LGA | RIC |  538 |\n| LGA | ROC |  224 |\n| LGA | RSW |  761 |\n| LGA | SAV |   68 |\n| LGA | SBN |    6 |\n| LGA | SDF |  217 |\n| LGA | SRQ |  737 |\n| LGA | STL | 1822 |\n| LGA | SYR |  293 |\n| LGA | TPA | 2145 |\n| LGA | TVC |   77 |\n| LGA | TYS |  308 |\n| LGA | XNA |  745 |\n\n",
            "text/latex": "A data.frame: 224 × 3\n\\begin{tabular}{lll}\n origin & dest & n\\\\\n <chr> & <chr> & <int>\\\\\n\\hline\n\t EWR & ALB &  439\\\\\n\t EWR & ANC &    8\\\\\n\t EWR & ATL & 5022\\\\\n\t EWR & AUS &  968\\\\\n\t EWR & AVL &  265\\\\\n\t EWR & BDL &  443\\\\\n\t EWR & BNA & 2336\\\\\n\t EWR & BOS & 5327\\\\\n\t EWR & BQN &  297\\\\\n\t EWR & BTV &  931\\\\\n\t EWR & BUF &  973\\\\\n\t EWR & BWI &  545\\\\\n\t EWR & BZN &   36\\\\\n\t EWR & CAE &  104\\\\\n\t EWR & CHS & 1424\\\\\n\t EWR & CLE & 1754\\\\\n\t EWR & CLT & 5026\\\\\n\t EWR & CMH &  724\\\\\n\t EWR & CVG & 2673\\\\\n\t EWR & DAY & 1134\\\\\n\t EWR & DCA & 1719\\\\\n\t EWR & DEN & 2859\\\\\n\t EWR & DFW & 3148\\\\\n\t EWR & DSM &  411\\\\\n\t EWR & DTW & 3178\\\\\n\t EWR & EGE &  110\\\\\n\t EWR & FLL & 3793\\\\\n\t EWR & GRR &  719\\\\\n\t EWR & GSO & 1120\\\\\n\t EWR & GSP &  745\\\\\n\t ⋮ & ⋮ & ⋮\\\\\n\t LGA & MDW & 2070\\\\\n\t LGA & MEM &  862\\\\\n\t LGA & MHT &  142\\\\\n\t LGA & MIA & 5781\\\\\n\t LGA & MKE & 1525\\\\\n\t LGA & MSN &  218\\\\\n\t LGA & MSP & 3713\\\\\n\t LGA & MSY & 1011\\\\\n\t LGA & MYR &    3\\\\\n\t LGA & OMA &   95\\\\\n\t LGA & ORD & 8857\\\\\n\t LGA & ORF &  206\\\\\n\t LGA & PBI & 2464\\\\\n\t LGA & PHL &  607\\\\\n\t LGA & PIT & 1067\\\\\n\t LGA & PWM &  278\\\\\n\t LGA & RDU & 3581\\\\\n\t LGA & RIC &  538\\\\\n\t LGA & ROC &  224\\\\\n\t LGA & RSW &  761\\\\\n\t LGA & SAV &   68\\\\\n\t LGA & SBN &    6\\\\\n\t LGA & SDF &  217\\\\\n\t LGA & SRQ &  737\\\\\n\t LGA & STL & 1822\\\\\n\t LGA & SYR &  293\\\\\n\t LGA & TPA & 2145\\\\\n\t LGA & TVC &   77\\\\\n\t LGA & TYS &  308\\\\\n\t LGA & XNA &  745\\\\\n\\end{tabular}\n",
            "text/plain": [
              "    origin dest n   \n",
              "1   EWR    ALB   439\n",
              "2   EWR    ANC     8\n",
              "3   EWR    ATL  5022\n",
              "4   EWR    AUS   968\n",
              "5   EWR    AVL   265\n",
              "6   EWR    BDL   443\n",
              "7   EWR    BNA  2336\n",
              "8   EWR    BOS  5327\n",
              "9   EWR    BQN   297\n",
              "10  EWR    BTV   931\n",
              "11  EWR    BUF   973\n",
              "12  EWR    BWI   545\n",
              "13  EWR    BZN    36\n",
              "14  EWR    CAE   104\n",
              "15  EWR    CHS  1424\n",
              "16  EWR    CLE  1754\n",
              "17  EWR    CLT  5026\n",
              "18  EWR    CMH   724\n",
              "19  EWR    CVG  2673\n",
              "20  EWR    DAY  1134\n",
              "21  EWR    DCA  1719\n",
              "22  EWR    DEN  2859\n",
              "23  EWR    DFW  3148\n",
              "24  EWR    DSM   411\n",
              "25  EWR    DTW  3178\n",
              "26  EWR    EGE   110\n",
              "27  EWR    FLL  3793\n",
              "28  EWR    GRR   719\n",
              "29  EWR    GSO  1120\n",
              "30  EWR    GSP   745\n",
              "⋮   ⋮      ⋮    ⋮   \n",
              "195 LGA    MDW  2070\n",
              "196 LGA    MEM   862\n",
              "197 LGA    MHT   142\n",
              "198 LGA    MIA  5781\n",
              "199 LGA    MKE  1525\n",
              "200 LGA    MSN   218\n",
              "201 LGA    MSP  3713\n",
              "202 LGA    MSY  1011\n",
              "203 LGA    MYR     3\n",
              "204 LGA    OMA    95\n",
              "205 LGA    ORD  8857\n",
              "206 LGA    ORF   206\n",
              "207 LGA    PBI  2464\n",
              "208 LGA    PHL   607\n",
              "209 LGA    PIT  1067\n",
              "210 LGA    PWM   278\n",
              "211 LGA    RDU  3581\n",
              "212 LGA    RIC   538\n",
              "213 LGA    ROC   224\n",
              "214 LGA    RSW   761\n",
              "215 LGA    SAV    68\n",
              "216 LGA    SBN     6\n",
              "217 LGA    SDF   217\n",
              "218 LGA    SRQ   737\n",
              "219 LGA    STL  1822\n",
              "220 LGA    SYR   293\n",
              "221 LGA    TPA  2145\n",
              "222 LGA    TVC    77\n",
              "223 LGA    TYS   308\n",
              "224 LGA    XNA   745"
            ]
          },
          "metadata": {}
        }
      ]
    },
    {
      "cell_type": "code",
      "metadata": {
        "trusted": true,
        "id": "DsrFjp7oRPzW",
        "outputId": "f4abf978-c6b5-46b3-fd05-b78463c9aeeb",
        "colab": {
          "base_uri": "https://localhost:8080/",
          "height": 1000
        }
      },
      "source": [
        "# ¿Cuáles son los 3 aeropuertos de destino con mayor retraso medio en su llegada?\n",
        "vuelos %>%\n",
        "  group_by(dest) %>%\n",
        "  summarise(prom_arr_del = mean(arr_delay, na.rm = T)) %>%\n",
        "  arrange(desc(prom_arr_del)) # Según se observa en la tabla, los 3 aeropuertos con mayor.... son CAE, TUL y OKC.\n"
      ],
      "execution_count": 33,
      "outputs": [
        {
          "output_type": "display_data",
          "data": {
            "text/html": [
              "<table class=\"dataframe\">\n",
              "<caption>A tibble: 105 × 2</caption>\n",
              "<thead>\n",
              "\t<tr><th scope=col>dest</th><th scope=col>prom_arr_del</th></tr>\n",
              "\t<tr><th scope=col>&lt;chr&gt;</th><th scope=col>&lt;dbl&gt;</th></tr>\n",
              "</thead>\n",
              "<tbody>\n",
              "\t<tr><td>CAE</td><td>41.76415</td></tr>\n",
              "\t<tr><td>TUL</td><td>33.65986</td></tr>\n",
              "\t<tr><td>OKC</td><td>30.61905</td></tr>\n",
              "\t<tr><td>JAC</td><td>28.09524</td></tr>\n",
              "\t<tr><td>TYS</td><td>24.06920</td></tr>\n",
              "\t<tr><td>MSN</td><td>20.19604</td></tr>\n",
              "\t<tr><td>RIC</td><td>20.11125</td></tr>\n",
              "\t<tr><td>CAK</td><td>19.69834</td></tr>\n",
              "\t<tr><td>DSM</td><td>19.00574</td></tr>\n",
              "\t<tr><td>GRR</td><td>18.18956</td></tr>\n",
              "\t<tr><td>BHM</td><td>16.87732</td></tr>\n",
              "\t<tr><td>PVD</td><td>16.23464</td></tr>\n",
              "\t<tr><td>GSP</td><td>15.93544</td></tr>\n",
              "\t<tr><td>CVG</td><td>15.36456</td></tr>\n",
              "\t<tr><td>SAV</td><td>15.12951</td></tr>\n",
              "\t<tr><td>MHT</td><td>14.78755</td></tr>\n",
              "\t<tr><td>OMA</td><td>14.69890</td></tr>\n",
              "\t<tr><td>CRW</td><td>14.67164</td></tr>\n",
              "\t<tr><td>MCI</td><td>14.51406</td></tr>\n",
              "\t<tr><td>ALB</td><td>14.39713</td></tr>\n",
              "\t<tr><td>MKE</td><td>14.16722</td></tr>\n",
              "\t<tr><td>GSO</td><td>14.11260</td></tr>\n",
              "\t<tr><td>IAD</td><td>13.86420</td></tr>\n",
              "\t<tr><td>TVC</td><td>12.96842</td></tr>\n",
              "\t<tr><td>DAY</td><td>12.68049</td></tr>\n",
              "\t<tr><td>SDF</td><td>12.66938</td></tr>\n",
              "\t<tr><td>MDW</td><td>12.36422</td></tr>\n",
              "\t<tr><td>SMF</td><td>12.10993</td></tr>\n",
              "\t<tr><td>JAX</td><td>11.84483</td></tr>\n",
              "\t<tr><td>BNA</td><td>11.81246</td></tr>\n",
              "\t<tr><td>⋮</td><td>⋮</td></tr>\n",
              "\t<tr><td>ILM</td><td>  4.63551402</td></tr>\n",
              "\t<tr><td>MYR</td><td>  4.60344828</td></tr>\n",
              "\t<tr><td>ABQ</td><td>  4.38188976</td></tr>\n",
              "\t<tr><td>IAH</td><td>  4.24079040</td></tr>\n",
              "\t<tr><td>SJC</td><td>  3.44817073</td></tr>\n",
              "\t<tr><td>RSW</td><td>  3.23814963</td></tr>\n",
              "\t<tr><td>SAN</td><td>  3.13916574</td></tr>\n",
              "\t<tr><td>SRQ</td><td>  3.08243131</td></tr>\n",
              "\t<tr><td>OAK</td><td>  3.07766990</td></tr>\n",
              "\t<tr><td>BOS</td><td>  2.91439222</td></tr>\n",
              "\t<tr><td>SFO</td><td>  2.67289152</td></tr>\n",
              "\t<tr><td>SJU</td><td>  2.52052659</td></tr>\n",
              "\t<tr><td>HDN</td><td>  2.14285714</td></tr>\n",
              "\t<tr><td>PHX</td><td>  2.09704733</td></tr>\n",
              "\t<tr><td>MTJ</td><td>  1.78571429</td></tr>\n",
              "\t<tr><td>LAX</td><td>  0.54711094</td></tr>\n",
              "\t<tr><td>DFW</td><td>  0.32212685</td></tr>\n",
              "\t<tr><td>MIA</td><td>  0.29905978</td></tr>\n",
              "\t<tr><td>LAS</td><td>  0.25772849</td></tr>\n",
              "\t<tr><td>SLC</td><td>  0.17625459</td></tr>\n",
              "\t<tr><td>LGB</td><td> -0.06202723</td></tr>\n",
              "\t<tr><td>MVY</td><td> -0.28571429</td></tr>\n",
              "\t<tr><td>SEA</td><td> -1.09909910</td></tr>\n",
              "\t<tr><td>HNL</td><td> -1.36519258</td></tr>\n",
              "\t<tr><td>ANC</td><td> -2.50000000</td></tr>\n",
              "\t<tr><td>STT</td><td> -3.83590734</td></tr>\n",
              "\t<tr><td>SNA</td><td> -7.86822660</td></tr>\n",
              "\t<tr><td>PSP</td><td>-12.72222222</td></tr>\n",
              "\t<tr><td>LEX</td><td>-22.00000000</td></tr>\n",
              "\t<tr><td>LGA</td><td>         NaN</td></tr>\n",
              "</tbody>\n",
              "</table>\n"
            ],
            "text/markdown": "\nA tibble: 105 × 2\n\n| dest &lt;chr&gt; | prom_arr_del &lt;dbl&gt; |\n|---|---|\n| CAE | 41.76415 |\n| TUL | 33.65986 |\n| OKC | 30.61905 |\n| JAC | 28.09524 |\n| TYS | 24.06920 |\n| MSN | 20.19604 |\n| RIC | 20.11125 |\n| CAK | 19.69834 |\n| DSM | 19.00574 |\n| GRR | 18.18956 |\n| BHM | 16.87732 |\n| PVD | 16.23464 |\n| GSP | 15.93544 |\n| CVG | 15.36456 |\n| SAV | 15.12951 |\n| MHT | 14.78755 |\n| OMA | 14.69890 |\n| CRW | 14.67164 |\n| MCI | 14.51406 |\n| ALB | 14.39713 |\n| MKE | 14.16722 |\n| GSO | 14.11260 |\n| IAD | 13.86420 |\n| TVC | 12.96842 |\n| DAY | 12.68049 |\n| SDF | 12.66938 |\n| MDW | 12.36422 |\n| SMF | 12.10993 |\n| JAX | 11.84483 |\n| BNA | 11.81246 |\n| ⋮ | ⋮ |\n| ILM |   4.63551402 |\n| MYR |   4.60344828 |\n| ABQ |   4.38188976 |\n| IAH |   4.24079040 |\n| SJC |   3.44817073 |\n| RSW |   3.23814963 |\n| SAN |   3.13916574 |\n| SRQ |   3.08243131 |\n| OAK |   3.07766990 |\n| BOS |   2.91439222 |\n| SFO |   2.67289152 |\n| SJU |   2.52052659 |\n| HDN |   2.14285714 |\n| PHX |   2.09704733 |\n| MTJ |   1.78571429 |\n| LAX |   0.54711094 |\n| DFW |   0.32212685 |\n| MIA |   0.29905978 |\n| LAS |   0.25772849 |\n| SLC |   0.17625459 |\n| LGB |  -0.06202723 |\n| MVY |  -0.28571429 |\n| SEA |  -1.09909910 |\n| HNL |  -1.36519258 |\n| ANC |  -2.50000000 |\n| STT |  -3.83590734 |\n| SNA |  -7.86822660 |\n| PSP | -12.72222222 |\n| LEX | -22.00000000 |\n| LGA |          NaN |\n\n",
            "text/latex": "A tibble: 105 × 2\n\\begin{tabular}{ll}\n dest & prom\\_arr\\_del\\\\\n <chr> & <dbl>\\\\\n\\hline\n\t CAE & 41.76415\\\\\n\t TUL & 33.65986\\\\\n\t OKC & 30.61905\\\\\n\t JAC & 28.09524\\\\\n\t TYS & 24.06920\\\\\n\t MSN & 20.19604\\\\\n\t RIC & 20.11125\\\\\n\t CAK & 19.69834\\\\\n\t DSM & 19.00574\\\\\n\t GRR & 18.18956\\\\\n\t BHM & 16.87732\\\\\n\t PVD & 16.23464\\\\\n\t GSP & 15.93544\\\\\n\t CVG & 15.36456\\\\\n\t SAV & 15.12951\\\\\n\t MHT & 14.78755\\\\\n\t OMA & 14.69890\\\\\n\t CRW & 14.67164\\\\\n\t MCI & 14.51406\\\\\n\t ALB & 14.39713\\\\\n\t MKE & 14.16722\\\\\n\t GSO & 14.11260\\\\\n\t IAD & 13.86420\\\\\n\t TVC & 12.96842\\\\\n\t DAY & 12.68049\\\\\n\t SDF & 12.66938\\\\\n\t MDW & 12.36422\\\\\n\t SMF & 12.10993\\\\\n\t JAX & 11.84483\\\\\n\t BNA & 11.81246\\\\\n\t ⋮ & ⋮\\\\\n\t ILM &   4.63551402\\\\\n\t MYR &   4.60344828\\\\\n\t ABQ &   4.38188976\\\\\n\t IAH &   4.24079040\\\\\n\t SJC &   3.44817073\\\\\n\t RSW &   3.23814963\\\\\n\t SAN &   3.13916574\\\\\n\t SRQ &   3.08243131\\\\\n\t OAK &   3.07766990\\\\\n\t BOS &   2.91439222\\\\\n\t SFO &   2.67289152\\\\\n\t SJU &   2.52052659\\\\\n\t HDN &   2.14285714\\\\\n\t PHX &   2.09704733\\\\\n\t MTJ &   1.78571429\\\\\n\t LAX &   0.54711094\\\\\n\t DFW &   0.32212685\\\\\n\t MIA &   0.29905978\\\\\n\t LAS &   0.25772849\\\\\n\t SLC &   0.17625459\\\\\n\t LGB &  -0.06202723\\\\\n\t MVY &  -0.28571429\\\\\n\t SEA &  -1.09909910\\\\\n\t HNL &  -1.36519258\\\\\n\t ANC &  -2.50000000\\\\\n\t STT &  -3.83590734\\\\\n\t SNA &  -7.86822660\\\\\n\t PSP & -12.72222222\\\\\n\t LEX & -22.00000000\\\\\n\t LGA &          NaN\\\\\n\\end{tabular}\n",
            "text/plain": [
              "    dest prom_arr_del\n",
              "1   CAE  41.76415    \n",
              "2   TUL  33.65986    \n",
              "3   OKC  30.61905    \n",
              "4   JAC  28.09524    \n",
              "5   TYS  24.06920    \n",
              "6   MSN  20.19604    \n",
              "7   RIC  20.11125    \n",
              "8   CAK  19.69834    \n",
              "9   DSM  19.00574    \n",
              "10  GRR  18.18956    \n",
              "11  BHM  16.87732    \n",
              "12  PVD  16.23464    \n",
              "13  GSP  15.93544    \n",
              "14  CVG  15.36456    \n",
              "15  SAV  15.12951    \n",
              "16  MHT  14.78755    \n",
              "17  OMA  14.69890    \n",
              "18  CRW  14.67164    \n",
              "19  MCI  14.51406    \n",
              "20  ALB  14.39713    \n",
              "21  MKE  14.16722    \n",
              "22  GSO  14.11260    \n",
              "23  IAD  13.86420    \n",
              "24  TVC  12.96842    \n",
              "25  DAY  12.68049    \n",
              "26  SDF  12.66938    \n",
              "27  MDW  12.36422    \n",
              "28  SMF  12.10993    \n",
              "29  JAX  11.84483    \n",
              "30  BNA  11.81246    \n",
              "⋮   ⋮    ⋮           \n",
              "76  ILM    4.63551402\n",
              "77  MYR    4.60344828\n",
              "78  ABQ    4.38188976\n",
              "79  IAH    4.24079040\n",
              "80  SJC    3.44817073\n",
              "81  RSW    3.23814963\n",
              "82  SAN    3.13916574\n",
              "83  SRQ    3.08243131\n",
              "84  OAK    3.07766990\n",
              "85  BOS    2.91439222\n",
              "86  SFO    2.67289152\n",
              "87  SJU    2.52052659\n",
              "88  HDN    2.14285714\n",
              "89  PHX    2.09704733\n",
              "90  MTJ    1.78571429\n",
              "91  LAX    0.54711094\n",
              "92  DFW    0.32212685\n",
              "93  MIA    0.29905978\n",
              "94  LAS    0.25772849\n",
              "95  SLC    0.17625459\n",
              "96  LGB   -0.06202723\n",
              "97  MVY   -0.28571429\n",
              "98  SEA   -1.09909910\n",
              "99  HNL   -1.36519258\n",
              "100 ANC   -2.50000000\n",
              "101 STT   -3.83590734\n",
              "102 SNA   -7.86822660\n",
              "103 PSP  -12.72222222\n",
              "104 LEX  -22.00000000\n",
              "105 LGA           NaN"
            ]
          },
          "metadata": {}
        }
      ]
    },
    {
      "cell_type": "code",
      "source": [
        "# Alternativa\n",
        "vuelos %>%\n",
        "  group_by(dest) %>%\n",
        "  summarise(prom_arr_del = mean(arr_delay, na.rm = T)) %>%\n",
        "  top_n(n = 3, wt = prom_arr_del)"
      ],
      "metadata": {
        "id": "zm8zL97ss9VV",
        "outputId": "af88377b-12d1-4ea5-f64c-427ba50cbe57",
        "colab": {
          "base_uri": "https://localhost:8080/",
          "height": 192
        }
      },
      "execution_count": 34,
      "outputs": [
        {
          "output_type": "display_data",
          "data": {
            "text/html": [
              "<table class=\"dataframe\">\n",
              "<caption>A tibble: 3 × 2</caption>\n",
              "<thead>\n",
              "\t<tr><th scope=col>dest</th><th scope=col>prom_arr_del</th></tr>\n",
              "\t<tr><th scope=col>&lt;chr&gt;</th><th scope=col>&lt;dbl&gt;</th></tr>\n",
              "</thead>\n",
              "<tbody>\n",
              "\t<tr><td>CAE</td><td>41.76415</td></tr>\n",
              "\t<tr><td>OKC</td><td>30.61905</td></tr>\n",
              "\t<tr><td>TUL</td><td>33.65986</td></tr>\n",
              "</tbody>\n",
              "</table>\n"
            ],
            "text/markdown": "\nA tibble: 3 × 2\n\n| dest &lt;chr&gt; | prom_arr_del &lt;dbl&gt; |\n|---|---|\n| CAE | 41.76415 |\n| OKC | 30.61905 |\n| TUL | 33.65986 |\n\n",
            "text/latex": "A tibble: 3 × 2\n\\begin{tabular}{ll}\n dest & prom\\_arr\\_del\\\\\n <chr> & <dbl>\\\\\n\\hline\n\t CAE & 41.76415\\\\\n\t OKC & 30.61905\\\\\n\t TUL & 33.65986\\\\\n\\end{tabular}\n",
            "text/plain": [
              "  dest prom_arr_del\n",
              "1 CAE  41.76415    \n",
              "2 OKC  30.61905    \n",
              "3 TUL  33.65986    "
            ]
          },
          "metadata": {}
        }
      ]
    },
    {
      "cell_type": "code",
      "source": [
        "# Como hacer esto mismo. Usando row_number() y filter().\n",
        "vuelos %>%\n",
        "  group_by(dest) %>%\n",
        "  summarise(prom_arr_del = mean(arr_delay, na.rm = T)) %>%\n",
        "  arrange(desc(prom_arr_del)) %>%\n",
        "  mutate(rk = row_number()) %>%\n",
        "  filter(rk <= 3)"
      ],
      "metadata": {
        "id": "QP8QMIAutZiJ",
        "outputId": "4370d7b8-22d6-45bc-b132-f008a9541f28",
        "colab": {
          "base_uri": "https://localhost:8080/",
          "height": 192
        }
      },
      "execution_count": 37,
      "outputs": [
        {
          "output_type": "display_data",
          "data": {
            "text/html": [
              "<table class=\"dataframe\">\n",
              "<caption>A tibble: 3 × 3</caption>\n",
              "<thead>\n",
              "\t<tr><th scope=col>dest</th><th scope=col>prom_arr_del</th><th scope=col>rk</th></tr>\n",
              "\t<tr><th scope=col>&lt;chr&gt;</th><th scope=col>&lt;dbl&gt;</th><th scope=col>&lt;int&gt;</th></tr>\n",
              "</thead>\n",
              "<tbody>\n",
              "\t<tr><td>CAE</td><td>41.76415</td><td>1</td></tr>\n",
              "\t<tr><td>TUL</td><td>33.65986</td><td>2</td></tr>\n",
              "\t<tr><td>OKC</td><td>30.61905</td><td>3</td></tr>\n",
              "</tbody>\n",
              "</table>\n"
            ],
            "text/markdown": "\nA tibble: 3 × 3\n\n| dest &lt;chr&gt; | prom_arr_del &lt;dbl&gt; | rk &lt;int&gt; |\n|---|---|---|\n| CAE | 41.76415 | 1 |\n| TUL | 33.65986 | 2 |\n| OKC | 30.61905 | 3 |\n\n",
            "text/latex": "A tibble: 3 × 3\n\\begin{tabular}{lll}\n dest & prom\\_arr\\_del & rk\\\\\n <chr> & <dbl> & <int>\\\\\n\\hline\n\t CAE & 41.76415 & 1\\\\\n\t TUL & 33.65986 & 2\\\\\n\t OKC & 30.61905 & 3\\\\\n\\end{tabular}\n",
            "text/plain": [
              "  dest prom_arr_del rk\n",
              "1 CAE  41.76415     1 \n",
              "2 TUL  33.65986     2 \n",
              "3 OKC  30.61905     3 "
            ]
          },
          "metadata": {}
        }
      ]
    },
    {
      "cell_type": "code",
      "source": [
        "names(vuelos)"
      ],
      "metadata": {
        "id": "RfTvZUcMxKRz",
        "outputId": "aef50f02-5118-4133-cd7b-446b1ea7325e",
        "colab": {
          "base_uri": "https://localhost:8080/",
          "height": 34
        }
      },
      "execution_count": 38,
      "outputs": [
        {
          "output_type": "display_data",
          "data": {
            "text/html": [
              "<style>\n",
              ".list-inline {list-style: none; margin:0; padding: 0}\n",
              ".list-inline>li {display: inline-block}\n",
              ".list-inline>li:not(:last-child)::after {content: \"\\00b7\"; padding: 0 .5ex}\n",
              "</style>\n",
              "<ol class=list-inline><li>'year'</li><li>'month'</li><li>'day'</li><li>'dep_time'</li><li>'sched_dep_time'</li><li>'dep_delay'</li><li>'arr_time'</li><li>'sched_arr_time'</li><li>'arr_delay'</li><li>'carrier'</li><li>'flight'</li><li>'tailnum'</li><li>'origin'</li><li>'dest'</li><li>'air_time'</li><li>'distance'</li><li>'hour'</li><li>'minute'</li><li>'time_hour'</li></ol>\n"
            ],
            "text/markdown": "1. 'year'\n2. 'month'\n3. 'day'\n4. 'dep_time'\n5. 'sched_dep_time'\n6. 'dep_delay'\n7. 'arr_time'\n8. 'sched_arr_time'\n9. 'arr_delay'\n10. 'carrier'\n11. 'flight'\n12. 'tailnum'\n13. 'origin'\n14. 'dest'\n15. 'air_time'\n16. 'distance'\n17. 'hour'\n18. 'minute'\n19. 'time_hour'\n\n\n",
            "text/latex": "\\begin{enumerate*}\n\\item 'year'\n\\item 'month'\n\\item 'day'\n\\item 'dep\\_time'\n\\item 'sched\\_dep\\_time'\n\\item 'dep\\_delay'\n\\item 'arr\\_time'\n\\item 'sched\\_arr\\_time'\n\\item 'arr\\_delay'\n\\item 'carrier'\n\\item 'flight'\n\\item 'tailnum'\n\\item 'origin'\n\\item 'dest'\n\\item 'air\\_time'\n\\item 'distance'\n\\item 'hour'\n\\item 'minute'\n\\item 'time\\_hour'\n\\end{enumerate*}\n",
            "text/plain": [
              " [1] \"year\"           \"month\"          \"day\"            \"dep_time\"      \n",
              " [5] \"sched_dep_time\" \"dep_delay\"      \"arr_time\"       \"sched_arr_time\"\n",
              " [9] \"arr_delay\"      \"carrier\"        \"flight\"         \"tailnum\"       \n",
              "[13] \"origin\"         \"dest\"           \"air_time\"       \"distance\"      \n",
              "[17] \"hour\"           \"minute\"         \"time_hour\"     "
            ]
          },
          "metadata": {}
        }
      ]
    },
    {
      "cell_type": "code",
      "metadata": {
        "trusted": true,
        "id": "CH9XRbK8RPzZ"
      },
      "source": [
        "# si quisiéramos ratar los NA's, podemos hacerlo de la sgte. manera\n",
        "\n",
        "#consultamos los NA en arr_delay\n",
        "\n",
        "# Recordar que NA == NA retorna NA . is.na(NA) retorna TRUE\n",
        "\n"
      ],
      "execution_count": null,
      "outputs": []
    },
    {
      "cell_type": "code",
      "metadata": {
        "trusted": true,
        "id": "H_X1J0OyRPzc",
        "outputId": "600a0339-dea2-494e-b66c-47945874fdb8",
        "colab": {
          "base_uri": "https://localhost:8080/",
          "height": 34
        }
      },
      "source": [
        "# Si queremos reemplazar los NA's por el promedio de arr_delay (?)\n",
        "vuelos %>%\n",
        "  mutate(arr_delay = ifelse(is.na(arr_delay), mean(arr_delay, na.rm = T), arr_delay ) ) %>%\n",
        "  filter(is.na(arr_delay)) %>% # corroboramos\n",
        "  nrow()\n"
      ],
      "execution_count": 42,
      "outputs": [
        {
          "output_type": "display_data",
          "data": {
            "text/html": [
              "0"
            ],
            "text/markdown": "0",
            "text/latex": "0",
            "text/plain": [
              "[1] 0"
            ]
          },
          "metadata": {}
        }
      ]
    },
    {
      "cell_type": "code",
      "source": [
        "vuelos %>%\n",
        "  mutate(arr_delay = ifelse(is.na(arr_delay), mean(arr_delay, na.rm = T), arr_delay ) ) %>%\n",
        "  summary()"
      ],
      "metadata": {
        "id": "4dytZB9Hy0cD",
        "outputId": "27cbdeef-e955-4889-fb5d-acfc98a41512",
        "colab": {
          "base_uri": "https://localhost:8080/",
          "height": 711
        }
      },
      "execution_count": 43,
      "outputs": [
        {
          "output_type": "display_data",
          "data": {
            "text/plain": [
              "      year          month             day           dep_time    sched_dep_time\n",
              " Min.   :2013   Min.   : 1.000   Min.   : 1.00   Min.   :   1   Min.   : 106  \n",
              " 1st Qu.:2013   1st Qu.: 4.000   1st Qu.: 8.00   1st Qu.: 907   1st Qu.: 906  \n",
              " Median :2013   Median : 7.000   Median :16.00   Median :1401   Median :1359  \n",
              " Mean   :2013   Mean   : 6.549   Mean   :15.71   Mean   :1349   Mean   :1344  \n",
              " 3rd Qu.:2013   3rd Qu.:10.000   3rd Qu.:23.00   3rd Qu.:1744   3rd Qu.:1729  \n",
              " Max.   :2013   Max.   :12.000   Max.   :31.00   Max.   :2400   Max.   :2359  \n",
              "                                                 NA's   :8255                 \n",
              "   dep_delay          arr_time    sched_arr_time   arr_delay       \n",
              " Min.   : -43.00   Min.   :   1   Min.   :   1   Min.   : -86.000  \n",
              " 1st Qu.:  -5.00   1st Qu.:1104   1st Qu.:1124   1st Qu.: -16.000  \n",
              " Median :  -2.00   Median :1535   Median :1556   Median :  -4.000  \n",
              " Mean   :  12.64   Mean   :1502   Mean   :1536   Mean   :   6.895  \n",
              " 3rd Qu.:  11.00   3rd Qu.:1940   3rd Qu.:1945   3rd Qu.:  13.000  \n",
              " Max.   :1301.00   Max.   :2400   Max.   :2359   Max.   :1272.000  \n",
              " NA's   :8255      NA's   :8713                                    \n",
              "   carrier              flight       tailnum             origin         \n",
              " Length:336776      Min.   :   1   Length:336776      Length:336776     \n",
              " Class :character   1st Qu.: 553   Class :character   Class :character  \n",
              " Mode  :character   Median :1496   Mode  :character   Mode  :character  \n",
              "                    Mean   :1972                                        \n",
              "                    3rd Qu.:3465                                        \n",
              "                    Max.   :8500                                        \n",
              "                                                                        \n",
              "     dest              air_time        distance         hour      \n",
              " Length:336776      Min.   : 20.0   Min.   :  17   Min.   : 1.00  \n",
              " Class :character   1st Qu.: 82.0   1st Qu.: 502   1st Qu.: 9.00  \n",
              " Mode  :character   Median :129.0   Median : 872   Median :13.00  \n",
              "                    Mean   :150.7   Mean   :1040   Mean   :13.18  \n",
              "                    3rd Qu.:192.0   3rd Qu.:1389   3rd Qu.:17.00  \n",
              "                    Max.   :695.0   Max.   :4983   Max.   :23.00  \n",
              "                    NA's   :9430                                  \n",
              "     minute       time_hour        \n",
              " Min.   : 0.00   Length:336776     \n",
              " 1st Qu.: 8.00   Class :character  \n",
              " Median :29.00   Mode  :character  \n",
              " Mean   :26.23                     \n",
              " 3rd Qu.:44.00                     \n",
              " Max.   :59.00                     \n",
              "                                   "
            ]
          },
          "metadata": {}
        }
      ]
    },
    {
      "cell_type": "code",
      "source": [
        "names(vuelos)"
      ],
      "metadata": {
        "id": "-gLM8gXvzIqO",
        "outputId": "c4608caf-7a53-4660-ec54-839ae9281389",
        "colab": {
          "base_uri": "https://localhost:8080/",
          "height": 34
        }
      },
      "execution_count": 44,
      "outputs": [
        {
          "output_type": "display_data",
          "data": {
            "text/html": [
              "<style>\n",
              ".list-inline {list-style: none; margin:0; padding: 0}\n",
              ".list-inline>li {display: inline-block}\n",
              ".list-inline>li:not(:last-child)::after {content: \"\\00b7\"; padding: 0 .5ex}\n",
              "</style>\n",
              "<ol class=list-inline><li>'year'</li><li>'month'</li><li>'day'</li><li>'dep_time'</li><li>'sched_dep_time'</li><li>'dep_delay'</li><li>'arr_time'</li><li>'sched_arr_time'</li><li>'arr_delay'</li><li>'carrier'</li><li>'flight'</li><li>'tailnum'</li><li>'origin'</li><li>'dest'</li><li>'air_time'</li><li>'distance'</li><li>'hour'</li><li>'minute'</li><li>'time_hour'</li></ol>\n"
            ],
            "text/markdown": "1. 'year'\n2. 'month'\n3. 'day'\n4. 'dep_time'\n5. 'sched_dep_time'\n6. 'dep_delay'\n7. 'arr_time'\n8. 'sched_arr_time'\n9. 'arr_delay'\n10. 'carrier'\n11. 'flight'\n12. 'tailnum'\n13. 'origin'\n14. 'dest'\n15. 'air_time'\n16. 'distance'\n17. 'hour'\n18. 'minute'\n19. 'time_hour'\n\n\n",
            "text/latex": "\\begin{enumerate*}\n\\item 'year'\n\\item 'month'\n\\item 'day'\n\\item 'dep\\_time'\n\\item 'sched\\_dep\\_time'\n\\item 'dep\\_delay'\n\\item 'arr\\_time'\n\\item 'sched\\_arr\\_time'\n\\item 'arr\\_delay'\n\\item 'carrier'\n\\item 'flight'\n\\item 'tailnum'\n\\item 'origin'\n\\item 'dest'\n\\item 'air\\_time'\n\\item 'distance'\n\\item 'hour'\n\\item 'minute'\n\\item 'time\\_hour'\n\\end{enumerate*}\n",
            "text/plain": [
              " [1] \"year\"           \"month\"          \"day\"            \"dep_time\"      \n",
              " [5] \"sched_dep_time\" \"dep_delay\"      \"arr_time\"       \"sched_arr_time\"\n",
              " [9] \"arr_delay\"      \"carrier\"        \"flight\"         \"tailnum\"       \n",
              "[13] \"origin\"         \"dest\"           \"air_time\"       \"distance\"      \n",
              "[17] \"hour\"           \"minute\"         \"time_hour\"     "
            ]
          },
          "metadata": {}
        }
      ]
    },
    {
      "cell_type": "code",
      "source": [
        "# Crear una categoria según el sgte criterio:\n",
        "# Si la diferencia entre arr_time y sched_arr_time es menor o igual a 10 min, deje \"a tiempo\"\n",
        "# Si la diferencia .....                           es mayor a 10 pero menor o igual 60, \"retraso medio\"\n",
        "# Si no, \"retraso alto\"\n",
        "\n",
        "vuelos %>%\n",
        "  mutate(\n",
        "  delta_arr = arr_time - sched_arr_time,\n",
        "  tipo_retraso = case_when(\n",
        "    is.na(delta_arr) ~ \"Sin info\",\n",
        "    delta_arr <= 10 ~ \"a tiempo\",\n",
        "    delta_arr <= 60 ~ \"retraso medio\",\n",
        "    TRUE ~ \"restraso alto\")) %>%\n",
        "  count(tipo_retraso)"
      ],
      "metadata": {
        "id": "JbPbMVOYy9p1",
        "outputId": "5de31a58-8c53-4f56-8a01-fedf912ee422",
        "colab": {
          "base_uri": "https://localhost:8080/",
          "height": 223
        }
      },
      "execution_count": 53,
      "outputs": [
        {
          "output_type": "display_data",
          "data": {
            "text/html": [
              "<table class=\"dataframe\">\n",
              "<caption>A data.frame: 4 × 2</caption>\n",
              "<thead>\n",
              "\t<tr><th scope=col>tipo_retraso</th><th scope=col>n</th></tr>\n",
              "\t<tr><th scope=col>&lt;chr&gt;</th><th scope=col>&lt;int&gt;</th></tr>\n",
              "</thead>\n",
              "<tbody>\n",
              "\t<tr><td>Sin info     </td><td>  8713</td></tr>\n",
              "\t<tr><td>a tiempo     </td><td>238170</td></tr>\n",
              "\t<tr><td>restraso alto</td><td> 46785</td></tr>\n",
              "\t<tr><td>retraso medio</td><td> 43108</td></tr>\n",
              "</tbody>\n",
              "</table>\n"
            ],
            "text/markdown": "\nA data.frame: 4 × 2\n\n| tipo_retraso &lt;chr&gt; | n &lt;int&gt; |\n|---|---|\n| Sin info      |   8713 |\n| a tiempo      | 238170 |\n| restraso alto |  46785 |\n| retraso medio |  43108 |\n\n",
            "text/latex": "A data.frame: 4 × 2\n\\begin{tabular}{ll}\n tipo\\_retraso & n\\\\\n <chr> & <int>\\\\\n\\hline\n\t Sin info      &   8713\\\\\n\t a tiempo      & 238170\\\\\n\t restraso alto &  46785\\\\\n\t retraso medio &  43108\\\\\n\\end{tabular}\n",
            "text/plain": [
              "  tipo_retraso  n     \n",
              "1 Sin info        8713\n",
              "2 a tiempo      238170\n",
              "3 restraso alto  46785\n",
              "4 retraso medio  43108"
            ]
          },
          "metadata": {}
        }
      ]
    },
    {
      "cell_type": "code",
      "metadata": {
        "trusted": true,
        "id": "KM0gkGfVRPze"
      },
      "source": [
        "# (OPCIONAL) ¿Cuál es el promedio de arr_delay y distance por cada aeropuerto de destino?¿Cuántos vuelos llegaron acada uno de los destinos?. Ayuda: Recuerde que el conteo se puede determinar de dos maneras: con la función count() o con la función n().\n",
        "\n"
      ],
      "execution_count": null,
      "outputs": []
    },
    {
      "cell_type": "markdown",
      "metadata": {
        "id": "0AaOeJiZRPzj"
      },
      "source": [
        "### 4.6 Función sample_n() y sample_frac()\n",
        "\n",
        "Estas funciones nos permitirán extraer muestras aleatorias de nuestros conjuntos de datos. Esto será de suma importancia cuando trabajemos con modelos de ML."
      ]
    },
    {
      "cell_type": "code",
      "metadata": {
        "trusted": true,
        "id": "Ggzl8QxDRPzk",
        "outputId": "23bfa682-ad57-44e2-d324-bf14c91b9546",
        "colab": {
          "base_uri": "https://localhost:8080/",
          "height": 778
        }
      },
      "source": [
        "# sample_n() y sample_frac()-------------------------------------------------------------\n",
        "# muestra aleatoria de 100 registros de vuelos\n",
        "vuelos %>%\n",
        "  sample_n(10)\n",
        "\n",
        "\n"
      ],
      "execution_count": 55,
      "outputs": [
        {
          "output_type": "display_data",
          "data": {
            "text/html": [
              "<table class=\"dataframe\">\n",
              "<caption>A data.frame: 10 × 19</caption>\n",
              "<thead>\n",
              "\t<tr><th scope=col>year</th><th scope=col>month</th><th scope=col>day</th><th scope=col>dep_time</th><th scope=col>sched_dep_time</th><th scope=col>dep_delay</th><th scope=col>arr_time</th><th scope=col>sched_arr_time</th><th scope=col>arr_delay</th><th scope=col>carrier</th><th scope=col>flight</th><th scope=col>tailnum</th><th scope=col>origin</th><th scope=col>dest</th><th scope=col>air_time</th><th scope=col>distance</th><th scope=col>hour</th><th scope=col>minute</th><th scope=col>time_hour</th></tr>\n",
              "\t<tr><th scope=col>&lt;int&gt;</th><th scope=col>&lt;int&gt;</th><th scope=col>&lt;int&gt;</th><th scope=col>&lt;int&gt;</th><th scope=col>&lt;int&gt;</th><th scope=col>&lt;int&gt;</th><th scope=col>&lt;int&gt;</th><th scope=col>&lt;int&gt;</th><th scope=col>&lt;int&gt;</th><th scope=col>&lt;chr&gt;</th><th scope=col>&lt;int&gt;</th><th scope=col>&lt;chr&gt;</th><th scope=col>&lt;chr&gt;</th><th scope=col>&lt;chr&gt;</th><th scope=col>&lt;int&gt;</th><th scope=col>&lt;int&gt;</th><th scope=col>&lt;int&gt;</th><th scope=col>&lt;int&gt;</th><th scope=col>&lt;chr&gt;</th></tr>\n",
              "</thead>\n",
              "<tbody>\n",
              "\t<tr><td>2013</td><td> 6</td><td>24</td><td>2334</td><td>2103</td><td>151</td><td> 125</td><td>2310</td><td>135</td><td>UA</td><td> 311</td><td>N585UA</td><td>EWR</td><td>DEN</td><td>198</td><td>1605</td><td>21</td><td> 3</td><td>2013-06-24 21:00:00</td></tr>\n",
              "\t<tr><td>2013</td><td> 6</td><td> 3</td><td> 757</td><td> 744</td><td> 13</td><td>1116</td><td>1045</td><td> 31</td><td>UA</td><td> 335</td><td>N830UA</td><td>EWR</td><td>FLL</td><td>164</td><td>1065</td><td> 7</td><td>44</td><td>2013-06-03 07:00:00</td></tr>\n",
              "\t<tr><td>2013</td><td> 9</td><td>15</td><td>1547</td><td>1350</td><td>117</td><td>1715</td><td>1531</td><td>104</td><td>EV</td><td>5465</td><td>N753EV</td><td>LGA</td><td>MSN</td><td>120</td><td> 812</td><td>13</td><td>50</td><td>2013-09-15 13:00:00</td></tr>\n",
              "\t<tr><td>2013</td><td> 6</td><td>10</td><td> 917</td><td> 858</td><td> 19</td><td>1303</td><td>1256</td><td>  7</td><td>UA</td><td>1216</td><td>N68452</td><td>EWR</td><td>SJU</td><td>208</td><td>1608</td><td> 8</td><td>58</td><td>2013-06-10 08:00:00</td></tr>\n",
              "\t<tr><td>2013</td><td> 3</td><td> 1</td><td>2003</td><td>2000</td><td>  3</td><td>2218</td><td>2245</td><td>-27</td><td>EV</td><td>4204</td><td>N11107</td><td>EWR</td><td>OKC</td><td>173</td><td>1325</td><td>20</td><td> 0</td><td>2013-03-01 20:00:00</td></tr>\n",
              "\t<tr><td>2013</td><td>10</td><td>15</td><td>1858</td><td>1835</td><td> 23</td><td>2219</td><td>2138</td><td> 41</td><td>DL</td><td>1576</td><td>N3767 </td><td>JFK</td><td>SAN</td><td>340</td><td>2446</td><td>18</td><td>35</td><td>2013-10-15 18:00:00</td></tr>\n",
              "\t<tr><td>2013</td><td> 2</td><td>15</td><td>1749</td><td>1745</td><td>  4</td><td>1943</td><td>1951</td><td> -8</td><td>DL</td><td>2331</td><td>N349NW</td><td>LGA</td><td>DTW</td><td> 86</td><td> 502</td><td>17</td><td>45</td><td>2013-02-15 17:00:00</td></tr>\n",
              "\t<tr><td>2013</td><td> 6</td><td>10</td><td> 631</td><td> 634</td><td> -3</td><td> 843</td><td> 845</td><td> -2</td><td>EV</td><td>4122</td><td>N16919</td><td>EWR</td><td>SDF</td><td>106</td><td> 642</td><td> 6</td><td>34</td><td>2013-06-10 06:00:00</td></tr>\n",
              "\t<tr><td>2013</td><td>11</td><td>18</td><td>2042</td><td>2045</td><td> -3</td><td>2324</td><td>2344</td><td>-20</td><td>UA</td><td>1115</td><td>N17244</td><td>EWR</td><td>TPA</td><td>146</td><td> 997</td><td>20</td><td>45</td><td>2013-11-18 20:00:00</td></tr>\n",
              "\t<tr><td>2013</td><td> 4</td><td>23</td><td>2023</td><td>2030</td><td> -7</td><td>2302</td><td>2332</td><td>-30</td><td>UA</td><td>1416</td><td>N37281</td><td>EWR</td><td>DFW</td><td>196</td><td>1372</td><td>20</td><td>30</td><td>2013-04-23 20:00:00</td></tr>\n",
              "</tbody>\n",
              "</table>\n"
            ],
            "text/markdown": "\nA data.frame: 10 × 19\n\n| year &lt;int&gt; | month &lt;int&gt; | day &lt;int&gt; | dep_time &lt;int&gt; | sched_dep_time &lt;int&gt; | dep_delay &lt;int&gt; | arr_time &lt;int&gt; | sched_arr_time &lt;int&gt; | arr_delay &lt;int&gt; | carrier &lt;chr&gt; | flight &lt;int&gt; | tailnum &lt;chr&gt; | origin &lt;chr&gt; | dest &lt;chr&gt; | air_time &lt;int&gt; | distance &lt;int&gt; | hour &lt;int&gt; | minute &lt;int&gt; | time_hour &lt;chr&gt; |\n|---|---|---|---|---|---|---|---|---|---|---|---|---|---|---|---|---|---|---|\n| 2013 |  6 | 24 | 2334 | 2103 | 151 |  125 | 2310 | 135 | UA |  311 | N585UA | EWR | DEN | 198 | 1605 | 21 |  3 | 2013-06-24 21:00:00 |\n| 2013 |  6 |  3 |  757 |  744 |  13 | 1116 | 1045 |  31 | UA |  335 | N830UA | EWR | FLL | 164 | 1065 |  7 | 44 | 2013-06-03 07:00:00 |\n| 2013 |  9 | 15 | 1547 | 1350 | 117 | 1715 | 1531 | 104 | EV | 5465 | N753EV | LGA | MSN | 120 |  812 | 13 | 50 | 2013-09-15 13:00:00 |\n| 2013 |  6 | 10 |  917 |  858 |  19 | 1303 | 1256 |   7 | UA | 1216 | N68452 | EWR | SJU | 208 | 1608 |  8 | 58 | 2013-06-10 08:00:00 |\n| 2013 |  3 |  1 | 2003 | 2000 |   3 | 2218 | 2245 | -27 | EV | 4204 | N11107 | EWR | OKC | 173 | 1325 | 20 |  0 | 2013-03-01 20:00:00 |\n| 2013 | 10 | 15 | 1858 | 1835 |  23 | 2219 | 2138 |  41 | DL | 1576 | N3767  | JFK | SAN | 340 | 2446 | 18 | 35 | 2013-10-15 18:00:00 |\n| 2013 |  2 | 15 | 1749 | 1745 |   4 | 1943 | 1951 |  -8 | DL | 2331 | N349NW | LGA | DTW |  86 |  502 | 17 | 45 | 2013-02-15 17:00:00 |\n| 2013 |  6 | 10 |  631 |  634 |  -3 |  843 |  845 |  -2 | EV | 4122 | N16919 | EWR | SDF | 106 |  642 |  6 | 34 | 2013-06-10 06:00:00 |\n| 2013 | 11 | 18 | 2042 | 2045 |  -3 | 2324 | 2344 | -20 | UA | 1115 | N17244 | EWR | TPA | 146 |  997 | 20 | 45 | 2013-11-18 20:00:00 |\n| 2013 |  4 | 23 | 2023 | 2030 |  -7 | 2302 | 2332 | -30 | UA | 1416 | N37281 | EWR | DFW | 196 | 1372 | 20 | 30 | 2013-04-23 20:00:00 |\n\n",
            "text/latex": "A data.frame: 10 × 19\n\\begin{tabular}{lllllllllllllllllll}\n year & month & day & dep\\_time & sched\\_dep\\_time & dep\\_delay & arr\\_time & sched\\_arr\\_time & arr\\_delay & carrier & flight & tailnum & origin & dest & air\\_time & distance & hour & minute & time\\_hour\\\\\n <int> & <int> & <int> & <int> & <int> & <int> & <int> & <int> & <int> & <chr> & <int> & <chr> & <chr> & <chr> & <int> & <int> & <int> & <int> & <chr>\\\\\n\\hline\n\t 2013 &  6 & 24 & 2334 & 2103 & 151 &  125 & 2310 & 135 & UA &  311 & N585UA & EWR & DEN & 198 & 1605 & 21 &  3 & 2013-06-24 21:00:00\\\\\n\t 2013 &  6 &  3 &  757 &  744 &  13 & 1116 & 1045 &  31 & UA &  335 & N830UA & EWR & FLL & 164 & 1065 &  7 & 44 & 2013-06-03 07:00:00\\\\\n\t 2013 &  9 & 15 & 1547 & 1350 & 117 & 1715 & 1531 & 104 & EV & 5465 & N753EV & LGA & MSN & 120 &  812 & 13 & 50 & 2013-09-15 13:00:00\\\\\n\t 2013 &  6 & 10 &  917 &  858 &  19 & 1303 & 1256 &   7 & UA & 1216 & N68452 & EWR & SJU & 208 & 1608 &  8 & 58 & 2013-06-10 08:00:00\\\\\n\t 2013 &  3 &  1 & 2003 & 2000 &   3 & 2218 & 2245 & -27 & EV & 4204 & N11107 & EWR & OKC & 173 & 1325 & 20 &  0 & 2013-03-01 20:00:00\\\\\n\t 2013 & 10 & 15 & 1858 & 1835 &  23 & 2219 & 2138 &  41 & DL & 1576 & N3767  & JFK & SAN & 340 & 2446 & 18 & 35 & 2013-10-15 18:00:00\\\\\n\t 2013 &  2 & 15 & 1749 & 1745 &   4 & 1943 & 1951 &  -8 & DL & 2331 & N349NW & LGA & DTW &  86 &  502 & 17 & 45 & 2013-02-15 17:00:00\\\\\n\t 2013 &  6 & 10 &  631 &  634 &  -3 &  843 &  845 &  -2 & EV & 4122 & N16919 & EWR & SDF & 106 &  642 &  6 & 34 & 2013-06-10 06:00:00\\\\\n\t 2013 & 11 & 18 & 2042 & 2045 &  -3 & 2324 & 2344 & -20 & UA & 1115 & N17244 & EWR & TPA & 146 &  997 & 20 & 45 & 2013-11-18 20:00:00\\\\\n\t 2013 &  4 & 23 & 2023 & 2030 &  -7 & 2302 & 2332 & -30 & UA & 1416 & N37281 & EWR & DFW & 196 & 1372 & 20 & 30 & 2013-04-23 20:00:00\\\\\n\\end{tabular}\n",
            "text/plain": [
              "   year month day dep_time sched_dep_time dep_delay arr_time sched_arr_time\n",
              "1  2013  6    24  2334     2103           151        125     2310          \n",
              "2  2013  6     3   757      744            13       1116     1045          \n",
              "3  2013  9    15  1547     1350           117       1715     1531          \n",
              "4  2013  6    10   917      858            19       1303     1256          \n",
              "5  2013  3     1  2003     2000             3       2218     2245          \n",
              "6  2013 10    15  1858     1835            23       2219     2138          \n",
              "7  2013  2    15  1749     1745             4       1943     1951          \n",
              "8  2013  6    10   631      634            -3        843      845          \n",
              "9  2013 11    18  2042     2045            -3       2324     2344          \n",
              "10 2013  4    23  2023     2030            -7       2302     2332          \n",
              "   arr_delay carrier flight tailnum origin dest air_time distance hour minute\n",
              "1  135       UA       311   N585UA  EWR    DEN  198      1605     21    3    \n",
              "2   31       UA       335   N830UA  EWR    FLL  164      1065      7   44    \n",
              "3  104       EV      5465   N753EV  LGA    MSN  120       812     13   50    \n",
              "4    7       UA      1216   N68452  EWR    SJU  208      1608      8   58    \n",
              "5  -27       EV      4204   N11107  EWR    OKC  173      1325     20    0    \n",
              "6   41       DL      1576   N3767   JFK    SAN  340      2446     18   35    \n",
              "7   -8       DL      2331   N349NW  LGA    DTW   86       502     17   45    \n",
              "8   -2       EV      4122   N16919  EWR    SDF  106       642      6   34    \n",
              "9  -20       UA      1115   N17244  EWR    TPA  146       997     20   45    \n",
              "10 -30       UA      1416   N37281  EWR    DFW  196      1372     20   30    \n",
              "   time_hour          \n",
              "1  2013-06-24 21:00:00\n",
              "2  2013-06-03 07:00:00\n",
              "3  2013-09-15 13:00:00\n",
              "4  2013-06-10 08:00:00\n",
              "5  2013-03-01 20:00:00\n",
              "6  2013-10-15 18:00:00\n",
              "7  2013-02-15 17:00:00\n",
              "8  2013-06-10 06:00:00\n",
              "9  2013-11-18 20:00:00\n",
              "10 2013-04-23 20:00:00"
            ]
          },
          "metadata": {}
        }
      ]
    },
    {
      "cell_type": "code",
      "source": [
        "vuelos %>%\n",
        "  sample_frac(0.01)"
      ],
      "metadata": {
        "id": "WxCqN9HK2l3o",
        "outputId": "7becb83b-02b9-41e1-c3c2-fc2d87d7f666",
        "colab": {
          "base_uri": "https://localhost:8080/",
          "height": 1000
        }
      },
      "execution_count": 56,
      "outputs": [
        {
          "output_type": "display_data",
          "data": {
            "text/html": [
              "<table class=\"dataframe\">\n",
              "<caption>A data.frame: 3368 × 19</caption>\n",
              "<thead>\n",
              "\t<tr><th scope=col>year</th><th scope=col>month</th><th scope=col>day</th><th scope=col>dep_time</th><th scope=col>sched_dep_time</th><th scope=col>dep_delay</th><th scope=col>arr_time</th><th scope=col>sched_arr_time</th><th scope=col>arr_delay</th><th scope=col>carrier</th><th scope=col>flight</th><th scope=col>tailnum</th><th scope=col>origin</th><th scope=col>dest</th><th scope=col>air_time</th><th scope=col>distance</th><th scope=col>hour</th><th scope=col>minute</th><th scope=col>time_hour</th></tr>\n",
              "\t<tr><th scope=col>&lt;int&gt;</th><th scope=col>&lt;int&gt;</th><th scope=col>&lt;int&gt;</th><th scope=col>&lt;int&gt;</th><th scope=col>&lt;int&gt;</th><th scope=col>&lt;int&gt;</th><th scope=col>&lt;int&gt;</th><th scope=col>&lt;int&gt;</th><th scope=col>&lt;int&gt;</th><th scope=col>&lt;chr&gt;</th><th scope=col>&lt;int&gt;</th><th scope=col>&lt;chr&gt;</th><th scope=col>&lt;chr&gt;</th><th scope=col>&lt;chr&gt;</th><th scope=col>&lt;int&gt;</th><th scope=col>&lt;int&gt;</th><th scope=col>&lt;int&gt;</th><th scope=col>&lt;int&gt;</th><th scope=col>&lt;chr&gt;</th></tr>\n",
              "</thead>\n",
              "<tbody>\n",
              "\t<tr><td>2013</td><td> 1</td><td>23</td><td>1826</td><td>1830</td><td> -4</td><td>2021</td><td>2015</td><td>  6</td><td>MQ</td><td>4674</td><td>N506MQ</td><td>LGA</td><td>CLE</td><td> 77</td><td> 419</td><td>18</td><td>30</td><td>2013-01-23 18:00:00</td></tr>\n",
              "\t<tr><td>2013</td><td> 8</td><td>22</td><td>1842</td><td>1709</td><td> 93</td><td>2126</td><td>1954</td><td> 92</td><td>B6</td><td> 327</td><td>N644JB</td><td>EWR</td><td>MCO</td><td>123</td><td> 937</td><td>17</td><td> 9</td><td>2013-08-22 17:00:00</td></tr>\n",
              "\t<tr><td>2013</td><td> 2</td><td>20</td><td>2115</td><td>2125</td><td>-10</td><td>2235</td><td>2240</td><td> -5</td><td>MQ</td><td>4449</td><td>N835MQ</td><td>JFK</td><td>DCA</td><td> 51</td><td> 213</td><td>21</td><td>25</td><td>2013-02-20 21:00:00</td></tr>\n",
              "\t<tr><td>2013</td><td> 8</td><td>11</td><td> 755</td><td> 755</td><td>  0</td><td> 907</td><td> 915</td><td> -8</td><td>MQ</td><td>3709</td><td>N508MQ</td><td>EWR</td><td>ORD</td><td>105</td><td> 719</td><td> 7</td><td>55</td><td>2013-08-11 07:00:00</td></tr>\n",
              "\t<tr><td>2013</td><td> 6</td><td>23</td><td>1829</td><td>1821</td><td>  8</td><td>2215</td><td>2130</td><td> 45</td><td>UA</td><td>1165</td><td>N78866</td><td>EWR</td><td>LAX</td><td>335</td><td>2454</td><td>18</td><td>21</td><td>2013-06-23 18:00:00</td></tr>\n",
              "\t<tr><td>2013</td><td> 1</td><td>24</td><td>1327</td><td>1250</td><td> 37</td><td>1420</td><td>1355</td><td> 25</td><td>B6</td><td>1006</td><td>N316JB</td><td>JFK</td><td>BOS</td><td> 40</td><td> 187</td><td>12</td><td>50</td><td>2013-01-24 12:00:00</td></tr>\n",
              "\t<tr><td>2013</td><td>12</td><td> 5</td><td> 824</td><td> 830</td><td> -6</td><td>1104</td><td>1037</td><td> 27</td><td>DL</td><td> 517</td><td>N359NB</td><td>EWR</td><td>MSP</td><td>177</td><td>1008</td><td> 8</td><td>30</td><td>2013-12-05 08:00:00</td></tr>\n",
              "\t<tr><td>2013</td><td> 5</td><td>22</td><td> 829</td><td> 830</td><td> -1</td><td>1006</td><td>1015</td><td> -9</td><td>AA</td><td> 309</td><td>N4YRAA</td><td>LGA</td><td>ORD</td><td>111</td><td> 733</td><td> 8</td><td>30</td><td>2013-05-22 08:00:00</td></tr>\n",
              "\t<tr><td>2013</td><td> 7</td><td> 1</td><td> 614</td><td> 600</td><td> 14</td><td> 732</td><td> 715</td><td> 17</td><td>MQ</td><td>3267</td><td>N505MQ</td><td>EWR</td><td>ORD</td><td>106</td><td> 719</td><td> 6</td><td> 0</td><td>2013-07-01 06:00:00</td></tr>\n",
              "\t<tr><td>2013</td><td>10</td><td>23</td><td>1021</td><td>1026</td><td> -5</td><td>1116</td><td>1130</td><td>-14</td><td>B6</td><td> 518</td><td>N346JB</td><td>JFK</td><td>BOS</td><td> 33</td><td> 187</td><td>10</td><td>26</td><td>2013-10-23 10:00:00</td></tr>\n",
              "\t<tr><td>2013</td><td>12</td><td>13</td><td>1718</td><td>1710</td><td>  8</td><td>2016</td><td>2021</td><td> -5</td><td>DL</td><td>1519</td><td>N389DA</td><td>EWR</td><td>SLC</td><td>279</td><td>1969</td><td>17</td><td>10</td><td>2013-12-13 17:00:00</td></tr>\n",
              "\t<tr><td>2013</td><td>11</td><td> 3</td><td>1838</td><td>1840</td><td> -2</td><td>2020</td><td>1958</td><td> 22</td><td>EV</td><td>4131</td><td>N24128</td><td>EWR</td><td>RIC</td><td> 47</td><td> 277</td><td>18</td><td>40</td><td>2013-11-03 18:00:00</td></tr>\n",
              "\t<tr><td>2013</td><td> 2</td><td>16</td><td>1346</td><td>1350</td><td> -4</td><td>1649</td><td>1643</td><td>  6</td><td>UA</td><td>1687</td><td>N73445</td><td>EWR</td><td>MCO</td><td>159</td><td> 937</td><td>13</td><td>50</td><td>2013-02-16 13:00:00</td></tr>\n",
              "\t<tr><td>2013</td><td> 3</td><td> 3</td><td> 832</td><td> 840</td><td> -8</td><td> 946</td><td>1014</td><td>-28</td><td>9E</td><td>3330</td><td>N909XJ</td><td>JFK</td><td>DCA</td><td> 39</td><td> 213</td><td> 8</td><td>40</td><td>2013-03-03 08:00:00</td></tr>\n",
              "\t<tr><td>2013</td><td> 9</td><td>17</td><td>1150</td><td>1129</td><td> 21</td><td>1413</td><td>1405</td><td>  8</td><td>B6</td><td> 127</td><td>N570JB</td><td>EWR</td><td>MCO</td><td>123</td><td> 937</td><td>11</td><td>29</td><td>2013-09-17 11:00:00</td></tr>\n",
              "\t<tr><td>2013</td><td>12</td><td> 8</td><td>1944</td><td>1945</td><td> -1</td><td>2235</td><td>2130</td><td> 65</td><td>MQ</td><td>3374</td><td>N806MQ</td><td>JFK</td><td>RDU</td><td> 81</td><td> 427</td><td>19</td><td>45</td><td>2013-12-08 19:00:00</td></tr>\n",
              "\t<tr><td>2013</td><td> 6</td><td> 9</td><td>1731</td><td>1732</td><td> -1</td><td>2137</td><td>2114</td><td> 23</td><td>B6</td><td> 647</td><td>N784JB</td><td>JFK</td><td>SFO</td><td>340</td><td>2586</td><td>17</td><td>32</td><td>2013-06-09 17:00:00</td></tr>\n",
              "\t<tr><td>2013</td><td> 7</td><td>21</td><td>1723</td><td>1730</td><td> -7</td><td>1944</td><td>1951</td><td> -7</td><td>F9</td><td> 837</td><td>N216FR</td><td>LGA</td><td>DEN</td><td>222</td><td>1620</td><td>17</td><td>30</td><td>2013-07-21 17:00:00</td></tr>\n",
              "\t<tr><td>2013</td><td> 6</td><td> 5</td><td> 852</td><td> 850</td><td>  2</td><td>1237</td><td>1300</td><td>-23</td><td>AA</td><td>1357</td><td>N5FRAA</td><td>JFK</td><td>SJU</td><td>197</td><td>1598</td><td> 8</td><td>50</td><td>2013-06-05 08:00:00</td></tr>\n",
              "\t<tr><td>2013</td><td> 3</td><td>23</td><td>1412</td><td>1359</td><td> 13</td><td>1649</td><td>1630</td><td> 19</td><td>DL</td><td>2043</td><td>N344NB</td><td>JFK</td><td>ATL</td><td>121</td><td> 760</td><td>13</td><td>59</td><td>2013-03-23 13:00:00</td></tr>\n",
              "\t<tr><td>2013</td><td> 2</td><td>28</td><td> 656</td><td> 700</td><td> -4</td><td> 944</td><td>1007</td><td>-23</td><td>UA</td><td>1636</td><td>N76265</td><td>EWR</td><td>PBI</td><td>152</td><td>1023</td><td> 7</td><td> 0</td><td>2013-02-28 07:00:00</td></tr>\n",
              "\t<tr><td>2013</td><td>11</td><td>19</td><td>2042</td><td>1935</td><td> 67</td><td>2328</td><td>2235</td><td> 53</td><td>DL</td><td>1435</td><td>N369NB</td><td>LGA</td><td>TPA</td><td>145</td><td>1010</td><td>19</td><td>35</td><td>2013-11-19 19:00:00</td></tr>\n",
              "\t<tr><td>2013</td><td> 1</td><td>27</td><td> 702</td><td> 653</td><td>  9</td><td> 956</td><td> 937</td><td> 19</td><td>UA</td><td>1506</td><td>N53441</td><td>EWR</td><td>LAS</td><td>334</td><td>2227</td><td> 6</td><td>53</td><td>2013-01-27 06:00:00</td></tr>\n",
              "\t<tr><td>2013</td><td> 4</td><td> 2</td><td>1457</td><td>1500</td><td> -3</td><td>1756</td><td>1800</td><td> -4</td><td>AA</td><td> 883</td><td>N4XMAA</td><td>EWR</td><td>DFW</td><td>215</td><td>1372</td><td>15</td><td> 0</td><td>2013-04-02 15:00:00</td></tr>\n",
              "\t<tr><td>2013</td><td>10</td><td> 7</td><td>  NA</td><td>1729</td><td> NA</td><td>  NA</td><td>1900</td><td> NA</td><td>EV</td><td>4195</td><td>N12122</td><td>EWR</td><td>BNA</td><td> NA</td><td> 748</td><td>17</td><td>29</td><td>2013-10-07 17:00:00</td></tr>\n",
              "\t<tr><td>2013</td><td>11</td><td> 6</td><td>1647</td><td>1655</td><td> -8</td><td>1842</td><td>1845</td><td> -3</td><td>AA</td><td>2223</td><td>N567AA</td><td>LGA</td><td>STL</td><td>152</td><td> 888</td><td>16</td><td>55</td><td>2013-11-06 16:00:00</td></tr>\n",
              "\t<tr><td>2013</td><td> 7</td><td>29</td><td> 610</td><td> 600</td><td> 10</td><td> 727</td><td> 712</td><td> 15</td><td>EV</td><td>5716</td><td>N833AS</td><td>JFK</td><td>IAD</td><td> 56</td><td> 228</td><td> 6</td><td> 0</td><td>2013-07-29 06:00:00</td></tr>\n",
              "\t<tr><td>2013</td><td>10</td><td> 8</td><td>1753</td><td>1715</td><td> 38</td><td>2030</td><td>2005</td><td> 25</td><td>WN</td><td>2067</td><td>N912WN</td><td>EWR</td><td>HOU</td><td>190</td><td>1411</td><td>17</td><td>15</td><td>2013-10-08 17:00:00</td></tr>\n",
              "\t<tr><td>2013</td><td> 6</td><td> 1</td><td> 748</td><td> 756</td><td> -8</td><td> 929</td><td> 954</td><td>-25</td><td>EV</td><td>4297</td><td>N11150</td><td>EWR</td><td>DTW</td><td> 77</td><td> 488</td><td> 7</td><td>56</td><td>2013-06-01 07:00:00</td></tr>\n",
              "\t<tr><td>2013</td><td> 3</td><td>22</td><td>1725</td><td>1725</td><td>  0</td><td>2027</td><td>2036</td><td> -9</td><td>DL</td><td>1185</td><td>N344NW</td><td>EWR</td><td>SLC</td><td>279</td><td>1969</td><td>17</td><td>25</td><td>2013-03-22 17:00:00</td></tr>\n",
              "\t<tr><td>⋮</td><td>⋮</td><td>⋮</td><td>⋮</td><td>⋮</td><td>⋮</td><td>⋮</td><td>⋮</td><td>⋮</td><td>⋮</td><td>⋮</td><td>⋮</td><td>⋮</td><td>⋮</td><td>⋮</td><td>⋮</td><td>⋮</td><td>⋮</td><td>⋮</td></tr>\n",
              "\t<tr><td>2013</td><td>12</td><td>18</td><td>1629</td><td>1530</td><td> 59</td><td>2030</td><td>1915</td><td> 75</td><td>AA</td><td>  85</td><td>N388AA</td><td>JFK</td><td>SFO</td><td>376</td><td>2586</td><td>15</td><td>30</td><td>2013-12-18 15:00:00</td></tr>\n",
              "\t<tr><td>2013</td><td> 2</td><td>17</td><td> 718</td><td> 700</td><td> 18</td><td>1004</td><td> 955</td><td>  9</td><td>UA</td><td> 680</td><td>N529UA</td><td>EWR</td><td>PBI</td><td>140</td><td>1023</td><td> 7</td><td> 0</td><td>2013-02-17 07:00:00</td></tr>\n",
              "\t<tr><td>2013</td><td> 1</td><td> 9</td><td>1658</td><td>1659</td><td> -1</td><td>2105</td><td>2046</td><td> NA</td><td>9E</td><td>3375</td><td>N917XJ</td><td>JFK</td><td>SAT</td><td> NA</td><td>1587</td><td>16</td><td>59</td><td>2013-01-09 16:00:00</td></tr>\n",
              "\t<tr><td>2013</td><td> 9</td><td>12</td><td>1530</td><td>1530</td><td>  0</td><td>1942</td><td>1853</td><td> 49</td><td>DL</td><td> 141</td><td>N704X </td><td>JFK</td><td>SFO</td><td>372</td><td>2586</td><td>15</td><td>30</td><td>2013-09-12 15:00:00</td></tr>\n",
              "\t<tr><td>2013</td><td> 3</td><td>15</td><td>1227</td><td>1215</td><td> 12</td><td>1452</td><td>1516</td><td>-24</td><td>B6</td><td> 625</td><td>N337JB</td><td>JFK</td><td>HOU</td><td>190</td><td>1428</td><td>12</td><td>15</td><td>2013-03-15 12:00:00</td></tr>\n",
              "\t<tr><td>2013</td><td>10</td><td>19</td><td>2049</td><td>2053</td><td> -4</td><td>2331</td><td>2313</td><td> 18</td><td>EV</td><td>4212</td><td>N14204</td><td>EWR</td><td>MSY</td><td>195</td><td>1167</td><td>20</td><td>53</td><td>2013-10-19 20:00:00</td></tr>\n",
              "\t<tr><td>2013</td><td> 8</td><td>23</td><td> 825</td><td> 830</td><td> -5</td><td>1037</td><td>1103</td><td>-26</td><td>EV</td><td>4895</td><td>N716EV</td><td>LGA</td><td>SAV</td><td>100</td><td> 722</td><td> 8</td><td>30</td><td>2013-08-23 08:00:00</td></tr>\n",
              "\t<tr><td>2013</td><td> 2</td><td>23</td><td>2349</td><td>2352</td><td> -3</td><td> 433</td><td> 437</td><td> -4</td><td>B6</td><td> 739</td><td>N526JB</td><td>JFK</td><td>PSE</td><td>202</td><td>1617</td><td>23</td><td>52</td><td>2013-02-23 23:00:00</td></tr>\n",
              "\t<tr><td>2013</td><td> 9</td><td> 5</td><td>1821</td><td>1815</td><td>  6</td><td>2103</td><td>2128</td><td>-25</td><td>DL</td><td>  17</td><td>N195DN</td><td>JFK</td><td>LAX</td><td>308</td><td>2475</td><td>18</td><td>15</td><td>2013-09-05 18:00:00</td></tr>\n",
              "\t<tr><td>2013</td><td> 6</td><td>10</td><td> 745</td><td> 745</td><td>  0</td><td>1021</td><td>1001</td><td> 20</td><td>DL</td><td> 807</td><td>N322NB</td><td>EWR</td><td>ATL</td><td>124</td><td> 746</td><td> 7</td><td>45</td><td>2013-06-10 07:00:00</td></tr>\n",
              "\t<tr><td>2013</td><td> 7</td><td>21</td><td> 741</td><td> 740</td><td>  1</td><td>1045</td><td>1055</td><td>-10</td><td>VX</td><td>  11</td><td>N839VA</td><td>JFK</td><td>SFO</td><td>341</td><td>2586</td><td> 7</td><td>40</td><td>2013-07-21 07:00:00</td></tr>\n",
              "\t<tr><td>2013</td><td> 3</td><td>28</td><td>1458</td><td>1505</td><td> -7</td><td>1643</td><td>1704</td><td>-21</td><td>EV</td><td>4572</td><td>N13566</td><td>EWR</td><td>GSP</td><td> 86</td><td> 594</td><td>15</td><td> 5</td><td>2013-03-28 15:00:00</td></tr>\n",
              "\t<tr><td>2013</td><td> 2</td><td> 9</td><td>  NA</td><td> 720</td><td> NA</td><td>  NA</td><td> 845</td><td> NA</td><td>FL</td><td> 850</td><td>N957AT</td><td>LGA</td><td>MKE</td><td> NA</td><td> 738</td><td> 7</td><td>20</td><td>2013-02-09 07:00:00</td></tr>\n",
              "\t<tr><td>2013</td><td> 4</td><td>16</td><td> 843</td><td> 850</td><td> -7</td><td>1214</td><td>1300</td><td>-46</td><td>AA</td><td>1357</td><td>N5FAAA</td><td>JFK</td><td>SJU</td><td>188</td><td>1598</td><td> 8</td><td>50</td><td>2013-04-16 08:00:00</td></tr>\n",
              "\t<tr><td>2013</td><td> 5</td><td>12</td><td> 510</td><td> 515</td><td> -5</td><td> 749</td><td> 800</td><td>-11</td><td>UA</td><td>1591</td><td>N37252</td><td>EWR</td><td>IAH</td><td>198</td><td>1400</td><td> 5</td><td>15</td><td>2013-05-12 05:00:00</td></tr>\n",
              "\t<tr><td>2013</td><td> 1</td><td> 7</td><td>1841</td><td>1845</td><td> -4</td><td>2134</td><td>2221</td><td>-47</td><td>DL</td><td>2190</td><td>N378NW</td><td>JFK</td><td>MIA</td><td>156</td><td>1089</td><td>18</td><td>45</td><td>2013-01-07 18:00:00</td></tr>\n",
              "\t<tr><td>2013</td><td> 6</td><td> 8</td><td> 839</td><td> 849</td><td>-10</td><td>1011</td><td>1012</td><td> -1</td><td>EV</td><td>5824</td><td>N21537</td><td>EWR</td><td>RIC</td><td> 66</td><td> 277</td><td> 8</td><td>49</td><td>2013-06-08 08:00:00</td></tr>\n",
              "\t<tr><td>2013</td><td> 1</td><td>31</td><td>2246</td><td>2250</td><td> -4</td><td>2335</td><td>2354</td><td>-19</td><td>B6</td><td>1018</td><td>N708JB</td><td>JFK</td><td>BOS</td><td> 32</td><td> 187</td><td>22</td><td>50</td><td>2013-01-31 22:00:00</td></tr>\n",
              "\t<tr><td>2013</td><td> 2</td><td>26</td><td> 956</td><td>1000</td><td> -4</td><td>1130</td><td>1139</td><td> -9</td><td>UA</td><td> 441</td><td>N427UA</td><td>LGA</td><td>ORD</td><td>119</td><td> 733</td><td>10</td><td> 0</td><td>2013-02-26 10:00:00</td></tr>\n",
              "\t<tr><td>2013</td><td> 1</td><td>24</td><td>2022</td><td>1904</td><td> 78</td><td>2204</td><td>2109</td><td> 55</td><td>EV</td><td>4437</td><td>N15973</td><td>EWR</td><td>CLT</td><td> 84</td><td> 529</td><td>19</td><td> 4</td><td>2013-01-24 19:00:00</td></tr>\n",
              "\t<tr><td>2013</td><td>10</td><td> 1</td><td>1659</td><td>1700</td><td> -1</td><td>1952</td><td>2017</td><td>-25</td><td>UA</td><td> 512</td><td>N597UA</td><td>JFK</td><td>SFO</td><td>338</td><td>2586</td><td>17</td><td> 0</td><td>2013-10-01 17:00:00</td></tr>\n",
              "\t<tr><td>2013</td><td>10</td><td> 7</td><td> 920</td><td> 930</td><td>-10</td><td>1017</td><td>1038</td><td>-21</td><td>B6</td><td> 116</td><td>N353JB</td><td>JFK</td><td>SYR</td><td> 42</td><td> 209</td><td> 9</td><td>30</td><td>2013-10-07 09:00:00</td></tr>\n",
              "\t<tr><td>2013</td><td> 7</td><td>17</td><td> 950</td><td>1003</td><td>-13</td><td>1115</td><td>1135</td><td>-20</td><td>FL</td><td> 353</td><td>N957AT</td><td>LGA</td><td>CAK</td><td> 60</td><td> 397</td><td>10</td><td> 3</td><td>2013-07-17 10:00:00</td></tr>\n",
              "\t<tr><td>2013</td><td> 3</td><td>25</td><td>1323</td><td>1315</td><td>  8</td><td>1521</td><td>1529</td><td> -8</td><td>EV</td><td>5148</td><td>N612QX</td><td>LGA</td><td>CVG</td><td> 92</td><td> 585</td><td>13</td><td>15</td><td>2013-03-25 13:00:00</td></tr>\n",
              "\t<tr><td>2013</td><td> 6</td><td>20</td><td> 951</td><td> 959</td><td> -8</td><td>1132</td><td>1201</td><td>-29</td><td>US</td><td>1277</td><td>N750UW</td><td>LGA</td><td>CLT</td><td> 79</td><td> 544</td><td> 9</td><td>59</td><td>2013-06-20 09:00:00</td></tr>\n",
              "\t<tr><td>2013</td><td> 6</td><td>13</td><td>  NA</td><td>1706</td><td> NA</td><td>  NA</td><td>1848</td><td> NA</td><td>EV</td><td>5977</td><td>N14998</td><td>EWR</td><td>RDU</td><td> NA</td><td> 416</td><td>17</td><td> 6</td><td>2013-06-13 17:00:00</td></tr>\n",
              "\t<tr><td>2013</td><td>11</td><td>10</td><td> 602</td><td> 610</td><td> -8</td><td> 839</td><td> 855</td><td>-16</td><td>AA</td><td>1103</td><td>N3HDAA</td><td>LGA</td><td>DFW</td><td>200</td><td>1389</td><td> 6</td><td>10</td><td>2013-11-10 06:00:00</td></tr>\n",
              "\t<tr><td>2013</td><td> 1</td><td>18</td><td>1953</td><td>2000</td><td> -7</td><td>2100</td><td>2114</td><td>-14</td><td>US</td><td>2142</td><td>N958UW</td><td>LGA</td><td>BOS</td><td> 38</td><td> 184</td><td>20</td><td> 0</td><td>2013-01-18 20:00:00</td></tr>\n",
              "\t<tr><td>2013</td><td> 1</td><td>24</td><td>1220</td><td>1140</td><td> 40</td><td>1457</td><td>1445</td><td> 12</td><td>AA</td><td>1623</td><td>N3AJAA</td><td>EWR</td><td>MIA</td><td>139</td><td>1085</td><td>11</td><td>40</td><td>2013-01-24 11:00:00</td></tr>\n",
              "\t<tr><td>2013</td><td> 4</td><td>10</td><td>1448</td><td>1453</td><td> -5</td><td>1731</td><td>1751</td><td>-20</td><td>UA</td><td> 752</td><td>N421UA</td><td>LGA</td><td>IAH</td><td>198</td><td>1416</td><td>14</td><td>53</td><td>2013-04-10 14:00:00</td></tr>\n",
              "</tbody>\n",
              "</table>\n"
            ],
            "text/markdown": "\nA data.frame: 3368 × 19\n\n| year &lt;int&gt; | month &lt;int&gt; | day &lt;int&gt; | dep_time &lt;int&gt; | sched_dep_time &lt;int&gt; | dep_delay &lt;int&gt; | arr_time &lt;int&gt; | sched_arr_time &lt;int&gt; | arr_delay &lt;int&gt; | carrier &lt;chr&gt; | flight &lt;int&gt; | tailnum &lt;chr&gt; | origin &lt;chr&gt; | dest &lt;chr&gt; | air_time &lt;int&gt; | distance &lt;int&gt; | hour &lt;int&gt; | minute &lt;int&gt; | time_hour &lt;chr&gt; |\n|---|---|---|---|---|---|---|---|---|---|---|---|---|---|---|---|---|---|---|\n| 2013 |  1 | 23 | 1826 | 1830 |  -4 | 2021 | 2015 |   6 | MQ | 4674 | N506MQ | LGA | CLE |  77 |  419 | 18 | 30 | 2013-01-23 18:00:00 |\n| 2013 |  8 | 22 | 1842 | 1709 |  93 | 2126 | 1954 |  92 | B6 |  327 | N644JB | EWR | MCO | 123 |  937 | 17 |  9 | 2013-08-22 17:00:00 |\n| 2013 |  2 | 20 | 2115 | 2125 | -10 | 2235 | 2240 |  -5 | MQ | 4449 | N835MQ | JFK | DCA |  51 |  213 | 21 | 25 | 2013-02-20 21:00:00 |\n| 2013 |  8 | 11 |  755 |  755 |   0 |  907 |  915 |  -8 | MQ | 3709 | N508MQ | EWR | ORD | 105 |  719 |  7 | 55 | 2013-08-11 07:00:00 |\n| 2013 |  6 | 23 | 1829 | 1821 |   8 | 2215 | 2130 |  45 | UA | 1165 | N78866 | EWR | LAX | 335 | 2454 | 18 | 21 | 2013-06-23 18:00:00 |\n| 2013 |  1 | 24 | 1327 | 1250 |  37 | 1420 | 1355 |  25 | B6 | 1006 | N316JB | JFK | BOS |  40 |  187 | 12 | 50 | 2013-01-24 12:00:00 |\n| 2013 | 12 |  5 |  824 |  830 |  -6 | 1104 | 1037 |  27 | DL |  517 | N359NB | EWR | MSP | 177 | 1008 |  8 | 30 | 2013-12-05 08:00:00 |\n| 2013 |  5 | 22 |  829 |  830 |  -1 | 1006 | 1015 |  -9 | AA |  309 | N4YRAA | LGA | ORD | 111 |  733 |  8 | 30 | 2013-05-22 08:00:00 |\n| 2013 |  7 |  1 |  614 |  600 |  14 |  732 |  715 |  17 | MQ | 3267 | N505MQ | EWR | ORD | 106 |  719 |  6 |  0 | 2013-07-01 06:00:00 |\n| 2013 | 10 | 23 | 1021 | 1026 |  -5 | 1116 | 1130 | -14 | B6 |  518 | N346JB | JFK | BOS |  33 |  187 | 10 | 26 | 2013-10-23 10:00:00 |\n| 2013 | 12 | 13 | 1718 | 1710 |   8 | 2016 | 2021 |  -5 | DL | 1519 | N389DA | EWR | SLC | 279 | 1969 | 17 | 10 | 2013-12-13 17:00:00 |\n| 2013 | 11 |  3 | 1838 | 1840 |  -2 | 2020 | 1958 |  22 | EV | 4131 | N24128 | EWR | RIC |  47 |  277 | 18 | 40 | 2013-11-03 18:00:00 |\n| 2013 |  2 | 16 | 1346 | 1350 |  -4 | 1649 | 1643 |   6 | UA | 1687 | N73445 | EWR | MCO | 159 |  937 | 13 | 50 | 2013-02-16 13:00:00 |\n| 2013 |  3 |  3 |  832 |  840 |  -8 |  946 | 1014 | -28 | 9E | 3330 | N909XJ | JFK | DCA |  39 |  213 |  8 | 40 | 2013-03-03 08:00:00 |\n| 2013 |  9 | 17 | 1150 | 1129 |  21 | 1413 | 1405 |   8 | B6 |  127 | N570JB | EWR | MCO | 123 |  937 | 11 | 29 | 2013-09-17 11:00:00 |\n| 2013 | 12 |  8 | 1944 | 1945 |  -1 | 2235 | 2130 |  65 | MQ | 3374 | N806MQ | JFK | RDU |  81 |  427 | 19 | 45 | 2013-12-08 19:00:00 |\n| 2013 |  6 |  9 | 1731 | 1732 |  -1 | 2137 | 2114 |  23 | B6 |  647 | N784JB | JFK | SFO | 340 | 2586 | 17 | 32 | 2013-06-09 17:00:00 |\n| 2013 |  7 | 21 | 1723 | 1730 |  -7 | 1944 | 1951 |  -7 | F9 |  837 | N216FR | LGA | DEN | 222 | 1620 | 17 | 30 | 2013-07-21 17:00:00 |\n| 2013 |  6 |  5 |  852 |  850 |   2 | 1237 | 1300 | -23 | AA | 1357 | N5FRAA | JFK | SJU | 197 | 1598 |  8 | 50 | 2013-06-05 08:00:00 |\n| 2013 |  3 | 23 | 1412 | 1359 |  13 | 1649 | 1630 |  19 | DL | 2043 | N344NB | JFK | ATL | 121 |  760 | 13 | 59 | 2013-03-23 13:00:00 |\n| 2013 |  2 | 28 |  656 |  700 |  -4 |  944 | 1007 | -23 | UA | 1636 | N76265 | EWR | PBI | 152 | 1023 |  7 |  0 | 2013-02-28 07:00:00 |\n| 2013 | 11 | 19 | 2042 | 1935 |  67 | 2328 | 2235 |  53 | DL | 1435 | N369NB | LGA | TPA | 145 | 1010 | 19 | 35 | 2013-11-19 19:00:00 |\n| 2013 |  1 | 27 |  702 |  653 |   9 |  956 |  937 |  19 | UA | 1506 | N53441 | EWR | LAS | 334 | 2227 |  6 | 53 | 2013-01-27 06:00:00 |\n| 2013 |  4 |  2 | 1457 | 1500 |  -3 | 1756 | 1800 |  -4 | AA |  883 | N4XMAA | EWR | DFW | 215 | 1372 | 15 |  0 | 2013-04-02 15:00:00 |\n| 2013 | 10 |  7 |   NA | 1729 |  NA |   NA | 1900 |  NA | EV | 4195 | N12122 | EWR | BNA |  NA |  748 | 17 | 29 | 2013-10-07 17:00:00 |\n| 2013 | 11 |  6 | 1647 | 1655 |  -8 | 1842 | 1845 |  -3 | AA | 2223 | N567AA | LGA | STL | 152 |  888 | 16 | 55 | 2013-11-06 16:00:00 |\n| 2013 |  7 | 29 |  610 |  600 |  10 |  727 |  712 |  15 | EV | 5716 | N833AS | JFK | IAD |  56 |  228 |  6 |  0 | 2013-07-29 06:00:00 |\n| 2013 | 10 |  8 | 1753 | 1715 |  38 | 2030 | 2005 |  25 | WN | 2067 | N912WN | EWR | HOU | 190 | 1411 | 17 | 15 | 2013-10-08 17:00:00 |\n| 2013 |  6 |  1 |  748 |  756 |  -8 |  929 |  954 | -25 | EV | 4297 | N11150 | EWR | DTW |  77 |  488 |  7 | 56 | 2013-06-01 07:00:00 |\n| 2013 |  3 | 22 | 1725 | 1725 |   0 | 2027 | 2036 |  -9 | DL | 1185 | N344NW | EWR | SLC | 279 | 1969 | 17 | 25 | 2013-03-22 17:00:00 |\n| ⋮ | ⋮ | ⋮ | ⋮ | ⋮ | ⋮ | ⋮ | ⋮ | ⋮ | ⋮ | ⋮ | ⋮ | ⋮ | ⋮ | ⋮ | ⋮ | ⋮ | ⋮ | ⋮ |\n| 2013 | 12 | 18 | 1629 | 1530 |  59 | 2030 | 1915 |  75 | AA |   85 | N388AA | JFK | SFO | 376 | 2586 | 15 | 30 | 2013-12-18 15:00:00 |\n| 2013 |  2 | 17 |  718 |  700 |  18 | 1004 |  955 |   9 | UA |  680 | N529UA | EWR | PBI | 140 | 1023 |  7 |  0 | 2013-02-17 07:00:00 |\n| 2013 |  1 |  9 | 1658 | 1659 |  -1 | 2105 | 2046 |  NA | 9E | 3375 | N917XJ | JFK | SAT |  NA | 1587 | 16 | 59 | 2013-01-09 16:00:00 |\n| 2013 |  9 | 12 | 1530 | 1530 |   0 | 1942 | 1853 |  49 | DL |  141 | N704X  | JFK | SFO | 372 | 2586 | 15 | 30 | 2013-09-12 15:00:00 |\n| 2013 |  3 | 15 | 1227 | 1215 |  12 | 1452 | 1516 | -24 | B6 |  625 | N337JB | JFK | HOU | 190 | 1428 | 12 | 15 | 2013-03-15 12:00:00 |\n| 2013 | 10 | 19 | 2049 | 2053 |  -4 | 2331 | 2313 |  18 | EV | 4212 | N14204 | EWR | MSY | 195 | 1167 | 20 | 53 | 2013-10-19 20:00:00 |\n| 2013 |  8 | 23 |  825 |  830 |  -5 | 1037 | 1103 | -26 | EV | 4895 | N716EV | LGA | SAV | 100 |  722 |  8 | 30 | 2013-08-23 08:00:00 |\n| 2013 |  2 | 23 | 2349 | 2352 |  -3 |  433 |  437 |  -4 | B6 |  739 | N526JB | JFK | PSE | 202 | 1617 | 23 | 52 | 2013-02-23 23:00:00 |\n| 2013 |  9 |  5 | 1821 | 1815 |   6 | 2103 | 2128 | -25 | DL |   17 | N195DN | JFK | LAX | 308 | 2475 | 18 | 15 | 2013-09-05 18:00:00 |\n| 2013 |  6 | 10 |  745 |  745 |   0 | 1021 | 1001 |  20 | DL |  807 | N322NB | EWR | ATL | 124 |  746 |  7 | 45 | 2013-06-10 07:00:00 |\n| 2013 |  7 | 21 |  741 |  740 |   1 | 1045 | 1055 | -10 | VX |   11 | N839VA | JFK | SFO | 341 | 2586 |  7 | 40 | 2013-07-21 07:00:00 |\n| 2013 |  3 | 28 | 1458 | 1505 |  -7 | 1643 | 1704 | -21 | EV | 4572 | N13566 | EWR | GSP |  86 |  594 | 15 |  5 | 2013-03-28 15:00:00 |\n| 2013 |  2 |  9 |   NA |  720 |  NA |   NA |  845 |  NA | FL |  850 | N957AT | LGA | MKE |  NA |  738 |  7 | 20 | 2013-02-09 07:00:00 |\n| 2013 |  4 | 16 |  843 |  850 |  -7 | 1214 | 1300 | -46 | AA | 1357 | N5FAAA | JFK | SJU | 188 | 1598 |  8 | 50 | 2013-04-16 08:00:00 |\n| 2013 |  5 | 12 |  510 |  515 |  -5 |  749 |  800 | -11 | UA | 1591 | N37252 | EWR | IAH | 198 | 1400 |  5 | 15 | 2013-05-12 05:00:00 |\n| 2013 |  1 |  7 | 1841 | 1845 |  -4 | 2134 | 2221 | -47 | DL | 2190 | N378NW | JFK | MIA | 156 | 1089 | 18 | 45 | 2013-01-07 18:00:00 |\n| 2013 |  6 |  8 |  839 |  849 | -10 | 1011 | 1012 |  -1 | EV | 5824 | N21537 | EWR | RIC |  66 |  277 |  8 | 49 | 2013-06-08 08:00:00 |\n| 2013 |  1 | 31 | 2246 | 2250 |  -4 | 2335 | 2354 | -19 | B6 | 1018 | N708JB | JFK | BOS |  32 |  187 | 22 | 50 | 2013-01-31 22:00:00 |\n| 2013 |  2 | 26 |  956 | 1000 |  -4 | 1130 | 1139 |  -9 | UA |  441 | N427UA | LGA | ORD | 119 |  733 | 10 |  0 | 2013-02-26 10:00:00 |\n| 2013 |  1 | 24 | 2022 | 1904 |  78 | 2204 | 2109 |  55 | EV | 4437 | N15973 | EWR | CLT |  84 |  529 | 19 |  4 | 2013-01-24 19:00:00 |\n| 2013 | 10 |  1 | 1659 | 1700 |  -1 | 1952 | 2017 | -25 | UA |  512 | N597UA | JFK | SFO | 338 | 2586 | 17 |  0 | 2013-10-01 17:00:00 |\n| 2013 | 10 |  7 |  920 |  930 | -10 | 1017 | 1038 | -21 | B6 |  116 | N353JB | JFK | SYR |  42 |  209 |  9 | 30 | 2013-10-07 09:00:00 |\n| 2013 |  7 | 17 |  950 | 1003 | -13 | 1115 | 1135 | -20 | FL |  353 | N957AT | LGA | CAK |  60 |  397 | 10 |  3 | 2013-07-17 10:00:00 |\n| 2013 |  3 | 25 | 1323 | 1315 |   8 | 1521 | 1529 |  -8 | EV | 5148 | N612QX | LGA | CVG |  92 |  585 | 13 | 15 | 2013-03-25 13:00:00 |\n| 2013 |  6 | 20 |  951 |  959 |  -8 | 1132 | 1201 | -29 | US | 1277 | N750UW | LGA | CLT |  79 |  544 |  9 | 59 | 2013-06-20 09:00:00 |\n| 2013 |  6 | 13 |   NA | 1706 |  NA |   NA | 1848 |  NA | EV | 5977 | N14998 | EWR | RDU |  NA |  416 | 17 |  6 | 2013-06-13 17:00:00 |\n| 2013 | 11 | 10 |  602 |  610 |  -8 |  839 |  855 | -16 | AA | 1103 | N3HDAA | LGA | DFW | 200 | 1389 |  6 | 10 | 2013-11-10 06:00:00 |\n| 2013 |  1 | 18 | 1953 | 2000 |  -7 | 2100 | 2114 | -14 | US | 2142 | N958UW | LGA | BOS |  38 |  184 | 20 |  0 | 2013-01-18 20:00:00 |\n| 2013 |  1 | 24 | 1220 | 1140 |  40 | 1457 | 1445 |  12 | AA | 1623 | N3AJAA | EWR | MIA | 139 | 1085 | 11 | 40 | 2013-01-24 11:00:00 |\n| 2013 |  4 | 10 | 1448 | 1453 |  -5 | 1731 | 1751 | -20 | UA |  752 | N421UA | LGA | IAH | 198 | 1416 | 14 | 53 | 2013-04-10 14:00:00 |\n\n",
            "text/latex": "A data.frame: 3368 × 19\n\\begin{tabular}{lllllllllllllllllll}\n year & month & day & dep\\_time & sched\\_dep\\_time & dep\\_delay & arr\\_time & sched\\_arr\\_time & arr\\_delay & carrier & flight & tailnum & origin & dest & air\\_time & distance & hour & minute & time\\_hour\\\\\n <int> & <int> & <int> & <int> & <int> & <int> & <int> & <int> & <int> & <chr> & <int> & <chr> & <chr> & <chr> & <int> & <int> & <int> & <int> & <chr>\\\\\n\\hline\n\t 2013 &  1 & 23 & 1826 & 1830 &  -4 & 2021 & 2015 &   6 & MQ & 4674 & N506MQ & LGA & CLE &  77 &  419 & 18 & 30 & 2013-01-23 18:00:00\\\\\n\t 2013 &  8 & 22 & 1842 & 1709 &  93 & 2126 & 1954 &  92 & B6 &  327 & N644JB & EWR & MCO & 123 &  937 & 17 &  9 & 2013-08-22 17:00:00\\\\\n\t 2013 &  2 & 20 & 2115 & 2125 & -10 & 2235 & 2240 &  -5 & MQ & 4449 & N835MQ & JFK & DCA &  51 &  213 & 21 & 25 & 2013-02-20 21:00:00\\\\\n\t 2013 &  8 & 11 &  755 &  755 &   0 &  907 &  915 &  -8 & MQ & 3709 & N508MQ & EWR & ORD & 105 &  719 &  7 & 55 & 2013-08-11 07:00:00\\\\\n\t 2013 &  6 & 23 & 1829 & 1821 &   8 & 2215 & 2130 &  45 & UA & 1165 & N78866 & EWR & LAX & 335 & 2454 & 18 & 21 & 2013-06-23 18:00:00\\\\\n\t 2013 &  1 & 24 & 1327 & 1250 &  37 & 1420 & 1355 &  25 & B6 & 1006 & N316JB & JFK & BOS &  40 &  187 & 12 & 50 & 2013-01-24 12:00:00\\\\\n\t 2013 & 12 &  5 &  824 &  830 &  -6 & 1104 & 1037 &  27 & DL &  517 & N359NB & EWR & MSP & 177 & 1008 &  8 & 30 & 2013-12-05 08:00:00\\\\\n\t 2013 &  5 & 22 &  829 &  830 &  -1 & 1006 & 1015 &  -9 & AA &  309 & N4YRAA & LGA & ORD & 111 &  733 &  8 & 30 & 2013-05-22 08:00:00\\\\\n\t 2013 &  7 &  1 &  614 &  600 &  14 &  732 &  715 &  17 & MQ & 3267 & N505MQ & EWR & ORD & 106 &  719 &  6 &  0 & 2013-07-01 06:00:00\\\\\n\t 2013 & 10 & 23 & 1021 & 1026 &  -5 & 1116 & 1130 & -14 & B6 &  518 & N346JB & JFK & BOS &  33 &  187 & 10 & 26 & 2013-10-23 10:00:00\\\\\n\t 2013 & 12 & 13 & 1718 & 1710 &   8 & 2016 & 2021 &  -5 & DL & 1519 & N389DA & EWR & SLC & 279 & 1969 & 17 & 10 & 2013-12-13 17:00:00\\\\\n\t 2013 & 11 &  3 & 1838 & 1840 &  -2 & 2020 & 1958 &  22 & EV & 4131 & N24128 & EWR & RIC &  47 &  277 & 18 & 40 & 2013-11-03 18:00:00\\\\\n\t 2013 &  2 & 16 & 1346 & 1350 &  -4 & 1649 & 1643 &   6 & UA & 1687 & N73445 & EWR & MCO & 159 &  937 & 13 & 50 & 2013-02-16 13:00:00\\\\\n\t 2013 &  3 &  3 &  832 &  840 &  -8 &  946 & 1014 & -28 & 9E & 3330 & N909XJ & JFK & DCA &  39 &  213 &  8 & 40 & 2013-03-03 08:00:00\\\\\n\t 2013 &  9 & 17 & 1150 & 1129 &  21 & 1413 & 1405 &   8 & B6 &  127 & N570JB & EWR & MCO & 123 &  937 & 11 & 29 & 2013-09-17 11:00:00\\\\\n\t 2013 & 12 &  8 & 1944 & 1945 &  -1 & 2235 & 2130 &  65 & MQ & 3374 & N806MQ & JFK & RDU &  81 &  427 & 19 & 45 & 2013-12-08 19:00:00\\\\\n\t 2013 &  6 &  9 & 1731 & 1732 &  -1 & 2137 & 2114 &  23 & B6 &  647 & N784JB & JFK & SFO & 340 & 2586 & 17 & 32 & 2013-06-09 17:00:00\\\\\n\t 2013 &  7 & 21 & 1723 & 1730 &  -7 & 1944 & 1951 &  -7 & F9 &  837 & N216FR & LGA & DEN & 222 & 1620 & 17 & 30 & 2013-07-21 17:00:00\\\\\n\t 2013 &  6 &  5 &  852 &  850 &   2 & 1237 & 1300 & -23 & AA & 1357 & N5FRAA & JFK & SJU & 197 & 1598 &  8 & 50 & 2013-06-05 08:00:00\\\\\n\t 2013 &  3 & 23 & 1412 & 1359 &  13 & 1649 & 1630 &  19 & DL & 2043 & N344NB & JFK & ATL & 121 &  760 & 13 & 59 & 2013-03-23 13:00:00\\\\\n\t 2013 &  2 & 28 &  656 &  700 &  -4 &  944 & 1007 & -23 & UA & 1636 & N76265 & EWR & PBI & 152 & 1023 &  7 &  0 & 2013-02-28 07:00:00\\\\\n\t 2013 & 11 & 19 & 2042 & 1935 &  67 & 2328 & 2235 &  53 & DL & 1435 & N369NB & LGA & TPA & 145 & 1010 & 19 & 35 & 2013-11-19 19:00:00\\\\\n\t 2013 &  1 & 27 &  702 &  653 &   9 &  956 &  937 &  19 & UA & 1506 & N53441 & EWR & LAS & 334 & 2227 &  6 & 53 & 2013-01-27 06:00:00\\\\\n\t 2013 &  4 &  2 & 1457 & 1500 &  -3 & 1756 & 1800 &  -4 & AA &  883 & N4XMAA & EWR & DFW & 215 & 1372 & 15 &  0 & 2013-04-02 15:00:00\\\\\n\t 2013 & 10 &  7 &   NA & 1729 &  NA &   NA & 1900 &  NA & EV & 4195 & N12122 & EWR & BNA &  NA &  748 & 17 & 29 & 2013-10-07 17:00:00\\\\\n\t 2013 & 11 &  6 & 1647 & 1655 &  -8 & 1842 & 1845 &  -3 & AA & 2223 & N567AA & LGA & STL & 152 &  888 & 16 & 55 & 2013-11-06 16:00:00\\\\\n\t 2013 &  7 & 29 &  610 &  600 &  10 &  727 &  712 &  15 & EV & 5716 & N833AS & JFK & IAD &  56 &  228 &  6 &  0 & 2013-07-29 06:00:00\\\\\n\t 2013 & 10 &  8 & 1753 & 1715 &  38 & 2030 & 2005 &  25 & WN & 2067 & N912WN & EWR & HOU & 190 & 1411 & 17 & 15 & 2013-10-08 17:00:00\\\\\n\t 2013 &  6 &  1 &  748 &  756 &  -8 &  929 &  954 & -25 & EV & 4297 & N11150 & EWR & DTW &  77 &  488 &  7 & 56 & 2013-06-01 07:00:00\\\\\n\t 2013 &  3 & 22 & 1725 & 1725 &   0 & 2027 & 2036 &  -9 & DL & 1185 & N344NW & EWR & SLC & 279 & 1969 & 17 & 25 & 2013-03-22 17:00:00\\\\\n\t ⋮ & ⋮ & ⋮ & ⋮ & ⋮ & ⋮ & ⋮ & ⋮ & ⋮ & ⋮ & ⋮ & ⋮ & ⋮ & ⋮ & ⋮ & ⋮ & ⋮ & ⋮ & ⋮\\\\\n\t 2013 & 12 & 18 & 1629 & 1530 &  59 & 2030 & 1915 &  75 & AA &   85 & N388AA & JFK & SFO & 376 & 2586 & 15 & 30 & 2013-12-18 15:00:00\\\\\n\t 2013 &  2 & 17 &  718 &  700 &  18 & 1004 &  955 &   9 & UA &  680 & N529UA & EWR & PBI & 140 & 1023 &  7 &  0 & 2013-02-17 07:00:00\\\\\n\t 2013 &  1 &  9 & 1658 & 1659 &  -1 & 2105 & 2046 &  NA & 9E & 3375 & N917XJ & JFK & SAT &  NA & 1587 & 16 & 59 & 2013-01-09 16:00:00\\\\\n\t 2013 &  9 & 12 & 1530 & 1530 &   0 & 1942 & 1853 &  49 & DL &  141 & N704X  & JFK & SFO & 372 & 2586 & 15 & 30 & 2013-09-12 15:00:00\\\\\n\t 2013 &  3 & 15 & 1227 & 1215 &  12 & 1452 & 1516 & -24 & B6 &  625 & N337JB & JFK & HOU & 190 & 1428 & 12 & 15 & 2013-03-15 12:00:00\\\\\n\t 2013 & 10 & 19 & 2049 & 2053 &  -4 & 2331 & 2313 &  18 & EV & 4212 & N14204 & EWR & MSY & 195 & 1167 & 20 & 53 & 2013-10-19 20:00:00\\\\\n\t 2013 &  8 & 23 &  825 &  830 &  -5 & 1037 & 1103 & -26 & EV & 4895 & N716EV & LGA & SAV & 100 &  722 &  8 & 30 & 2013-08-23 08:00:00\\\\\n\t 2013 &  2 & 23 & 2349 & 2352 &  -3 &  433 &  437 &  -4 & B6 &  739 & N526JB & JFK & PSE & 202 & 1617 & 23 & 52 & 2013-02-23 23:00:00\\\\\n\t 2013 &  9 &  5 & 1821 & 1815 &   6 & 2103 & 2128 & -25 & DL &   17 & N195DN & JFK & LAX & 308 & 2475 & 18 & 15 & 2013-09-05 18:00:00\\\\\n\t 2013 &  6 & 10 &  745 &  745 &   0 & 1021 & 1001 &  20 & DL &  807 & N322NB & EWR & ATL & 124 &  746 &  7 & 45 & 2013-06-10 07:00:00\\\\\n\t 2013 &  7 & 21 &  741 &  740 &   1 & 1045 & 1055 & -10 & VX &   11 & N839VA & JFK & SFO & 341 & 2586 &  7 & 40 & 2013-07-21 07:00:00\\\\\n\t 2013 &  3 & 28 & 1458 & 1505 &  -7 & 1643 & 1704 & -21 & EV & 4572 & N13566 & EWR & GSP &  86 &  594 & 15 &  5 & 2013-03-28 15:00:00\\\\\n\t 2013 &  2 &  9 &   NA &  720 &  NA &   NA &  845 &  NA & FL &  850 & N957AT & LGA & MKE &  NA &  738 &  7 & 20 & 2013-02-09 07:00:00\\\\\n\t 2013 &  4 & 16 &  843 &  850 &  -7 & 1214 & 1300 & -46 & AA & 1357 & N5FAAA & JFK & SJU & 188 & 1598 &  8 & 50 & 2013-04-16 08:00:00\\\\\n\t 2013 &  5 & 12 &  510 &  515 &  -5 &  749 &  800 & -11 & UA & 1591 & N37252 & EWR & IAH & 198 & 1400 &  5 & 15 & 2013-05-12 05:00:00\\\\\n\t 2013 &  1 &  7 & 1841 & 1845 &  -4 & 2134 & 2221 & -47 & DL & 2190 & N378NW & JFK & MIA & 156 & 1089 & 18 & 45 & 2013-01-07 18:00:00\\\\\n\t 2013 &  6 &  8 &  839 &  849 & -10 & 1011 & 1012 &  -1 & EV & 5824 & N21537 & EWR & RIC &  66 &  277 &  8 & 49 & 2013-06-08 08:00:00\\\\\n\t 2013 &  1 & 31 & 2246 & 2250 &  -4 & 2335 & 2354 & -19 & B6 & 1018 & N708JB & JFK & BOS &  32 &  187 & 22 & 50 & 2013-01-31 22:00:00\\\\\n\t 2013 &  2 & 26 &  956 & 1000 &  -4 & 1130 & 1139 &  -9 & UA &  441 & N427UA & LGA & ORD & 119 &  733 & 10 &  0 & 2013-02-26 10:00:00\\\\\n\t 2013 &  1 & 24 & 2022 & 1904 &  78 & 2204 & 2109 &  55 & EV & 4437 & N15973 & EWR & CLT &  84 &  529 & 19 &  4 & 2013-01-24 19:00:00\\\\\n\t 2013 & 10 &  1 & 1659 & 1700 &  -1 & 1952 & 2017 & -25 & UA &  512 & N597UA & JFK & SFO & 338 & 2586 & 17 &  0 & 2013-10-01 17:00:00\\\\\n\t 2013 & 10 &  7 &  920 &  930 & -10 & 1017 & 1038 & -21 & B6 &  116 & N353JB & JFK & SYR &  42 &  209 &  9 & 30 & 2013-10-07 09:00:00\\\\\n\t 2013 &  7 & 17 &  950 & 1003 & -13 & 1115 & 1135 & -20 & FL &  353 & N957AT & LGA & CAK &  60 &  397 & 10 &  3 & 2013-07-17 10:00:00\\\\\n\t 2013 &  3 & 25 & 1323 & 1315 &   8 & 1521 & 1529 &  -8 & EV & 5148 & N612QX & LGA & CVG &  92 &  585 & 13 & 15 & 2013-03-25 13:00:00\\\\\n\t 2013 &  6 & 20 &  951 &  959 &  -8 & 1132 & 1201 & -29 & US & 1277 & N750UW & LGA & CLT &  79 &  544 &  9 & 59 & 2013-06-20 09:00:00\\\\\n\t 2013 &  6 & 13 &   NA & 1706 &  NA &   NA & 1848 &  NA & EV & 5977 & N14998 & EWR & RDU &  NA &  416 & 17 &  6 & 2013-06-13 17:00:00\\\\\n\t 2013 & 11 & 10 &  602 &  610 &  -8 &  839 &  855 & -16 & AA & 1103 & N3HDAA & LGA & DFW & 200 & 1389 &  6 & 10 & 2013-11-10 06:00:00\\\\\n\t 2013 &  1 & 18 & 1953 & 2000 &  -7 & 2100 & 2114 & -14 & US & 2142 & N958UW & LGA & BOS &  38 &  184 & 20 &  0 & 2013-01-18 20:00:00\\\\\n\t 2013 &  1 & 24 & 1220 & 1140 &  40 & 1457 & 1445 &  12 & AA & 1623 & N3AJAA & EWR & MIA & 139 & 1085 & 11 & 40 & 2013-01-24 11:00:00\\\\\n\t 2013 &  4 & 10 & 1448 & 1453 &  -5 & 1731 & 1751 & -20 & UA &  752 & N421UA & LGA & IAH & 198 & 1416 & 14 & 53 & 2013-04-10 14:00:00\\\\\n\\end{tabular}\n",
            "text/plain": [
              "     year month day dep_time sched_dep_time dep_delay arr_time sched_arr_time\n",
              "1    2013  1    23  1826     1830            -4       2021     2015          \n",
              "2    2013  8    22  1842     1709            93       2126     1954          \n",
              "3    2013  2    20  2115     2125           -10       2235     2240          \n",
              "4    2013  8    11   755      755             0        907      915          \n",
              "5    2013  6    23  1829     1821             8       2215     2130          \n",
              "6    2013  1    24  1327     1250            37       1420     1355          \n",
              "7    2013 12     5   824      830            -6       1104     1037          \n",
              "8    2013  5    22   829      830            -1       1006     1015          \n",
              "9    2013  7     1   614      600            14        732      715          \n",
              "10   2013 10    23  1021     1026            -5       1116     1130          \n",
              "11   2013 12    13  1718     1710             8       2016     2021          \n",
              "12   2013 11     3  1838     1840            -2       2020     1958          \n",
              "13   2013  2    16  1346     1350            -4       1649     1643          \n",
              "14   2013  3     3   832      840            -8        946     1014          \n",
              "15   2013  9    17  1150     1129            21       1413     1405          \n",
              "16   2013 12     8  1944     1945            -1       2235     2130          \n",
              "17   2013  6     9  1731     1732            -1       2137     2114          \n",
              "18   2013  7    21  1723     1730            -7       1944     1951          \n",
              "19   2013  6     5   852      850             2       1237     1300          \n",
              "20   2013  3    23  1412     1359            13       1649     1630          \n",
              "21   2013  2    28   656      700            -4        944     1007          \n",
              "22   2013 11    19  2042     1935            67       2328     2235          \n",
              "23   2013  1    27   702      653             9        956      937          \n",
              "24   2013  4     2  1457     1500            -3       1756     1800          \n",
              "25   2013 10     7    NA     1729            NA         NA     1900          \n",
              "26   2013 11     6  1647     1655            -8       1842     1845          \n",
              "27   2013  7    29   610      600            10        727      712          \n",
              "28   2013 10     8  1753     1715            38       2030     2005          \n",
              "29   2013  6     1   748      756            -8        929      954          \n",
              "30   2013  3    22  1725     1725             0       2027     2036          \n",
              "⋮    ⋮    ⋮     ⋮   ⋮        ⋮              ⋮         ⋮        ⋮             \n",
              "3339 2013 12    18  1629     1530            59       2030     1915          \n",
              "3340 2013  2    17   718      700            18       1004      955          \n",
              "3341 2013  1     9  1658     1659            -1       2105     2046          \n",
              "3342 2013  9    12  1530     1530             0       1942     1853          \n",
              "3343 2013  3    15  1227     1215            12       1452     1516          \n",
              "3344 2013 10    19  2049     2053            -4       2331     2313          \n",
              "3345 2013  8    23   825      830            -5       1037     1103          \n",
              "3346 2013  2    23  2349     2352            -3        433      437          \n",
              "3347 2013  9     5  1821     1815             6       2103     2128          \n",
              "3348 2013  6    10   745      745             0       1021     1001          \n",
              "3349 2013  7    21   741      740             1       1045     1055          \n",
              "3350 2013  3    28  1458     1505            -7       1643     1704          \n",
              "3351 2013  2     9    NA      720            NA         NA      845          \n",
              "3352 2013  4    16   843      850            -7       1214     1300          \n",
              "3353 2013  5    12   510      515            -5        749      800          \n",
              "3354 2013  1     7  1841     1845            -4       2134     2221          \n",
              "3355 2013  6     8   839      849           -10       1011     1012          \n",
              "3356 2013  1    31  2246     2250            -4       2335     2354          \n",
              "3357 2013  2    26   956     1000            -4       1130     1139          \n",
              "3358 2013  1    24  2022     1904            78       2204     2109          \n",
              "3359 2013 10     1  1659     1700            -1       1952     2017          \n",
              "3360 2013 10     7   920      930           -10       1017     1038          \n",
              "3361 2013  7    17   950     1003           -13       1115     1135          \n",
              "3362 2013  3    25  1323     1315             8       1521     1529          \n",
              "3363 2013  6    20   951      959            -8       1132     1201          \n",
              "3364 2013  6    13    NA     1706            NA         NA     1848          \n",
              "3365 2013 11    10   602      610            -8        839      855          \n",
              "3366 2013  1    18  1953     2000            -7       2100     2114          \n",
              "3367 2013  1    24  1220     1140            40       1457     1445          \n",
              "3368 2013  4    10  1448     1453            -5       1731     1751          \n",
              "     arr_delay carrier flight tailnum origin dest air_time distance hour minute\n",
              "1      6       MQ      4674   N506MQ  LGA    CLE   77       419     18   30    \n",
              "2     92       B6       327   N644JB  EWR    MCO  123       937     17    9    \n",
              "3     -5       MQ      4449   N835MQ  JFK    DCA   51       213     21   25    \n",
              "4     -8       MQ      3709   N508MQ  EWR    ORD  105       719      7   55    \n",
              "5     45       UA      1165   N78866  EWR    LAX  335      2454     18   21    \n",
              "6     25       B6      1006   N316JB  JFK    BOS   40       187     12   50    \n",
              "7     27       DL       517   N359NB  EWR    MSP  177      1008      8   30    \n",
              "8     -9       AA       309   N4YRAA  LGA    ORD  111       733      8   30    \n",
              "9     17       MQ      3267   N505MQ  EWR    ORD  106       719      6    0    \n",
              "10   -14       B6       518   N346JB  JFK    BOS   33       187     10   26    \n",
              "11    -5       DL      1519   N389DA  EWR    SLC  279      1969     17   10    \n",
              "12    22       EV      4131   N24128  EWR    RIC   47       277     18   40    \n",
              "13     6       UA      1687   N73445  EWR    MCO  159       937     13   50    \n",
              "14   -28       9E      3330   N909XJ  JFK    DCA   39       213      8   40    \n",
              "15     8       B6       127   N570JB  EWR    MCO  123       937     11   29    \n",
              "16    65       MQ      3374   N806MQ  JFK    RDU   81       427     19   45    \n",
              "17    23       B6       647   N784JB  JFK    SFO  340      2586     17   32    \n",
              "18    -7       F9       837   N216FR  LGA    DEN  222      1620     17   30    \n",
              "19   -23       AA      1357   N5FRAA  JFK    SJU  197      1598      8   50    \n",
              "20    19       DL      2043   N344NB  JFK    ATL  121       760     13   59    \n",
              "21   -23       UA      1636   N76265  EWR    PBI  152      1023      7    0    \n",
              "22    53       DL      1435   N369NB  LGA    TPA  145      1010     19   35    \n",
              "23    19       UA      1506   N53441  EWR    LAS  334      2227      6   53    \n",
              "24    -4       AA       883   N4XMAA  EWR    DFW  215      1372     15    0    \n",
              "25    NA       EV      4195   N12122  EWR    BNA   NA       748     17   29    \n",
              "26    -3       AA      2223   N567AA  LGA    STL  152       888     16   55    \n",
              "27    15       EV      5716   N833AS  JFK    IAD   56       228      6    0    \n",
              "28    25       WN      2067   N912WN  EWR    HOU  190      1411     17   15    \n",
              "29   -25       EV      4297   N11150  EWR    DTW   77       488      7   56    \n",
              "30    -9       DL      1185   N344NW  EWR    SLC  279      1969     17   25    \n",
              "⋮    ⋮         ⋮       ⋮      ⋮       ⋮      ⋮    ⋮        ⋮        ⋮    ⋮     \n",
              "3339  75       AA        85   N388AA  JFK    SFO  376      2586     15   30    \n",
              "3340   9       UA       680   N529UA  EWR    PBI  140      1023      7    0    \n",
              "3341  NA       9E      3375   N917XJ  JFK    SAT   NA      1587     16   59    \n",
              "3342  49       DL       141   N704X   JFK    SFO  372      2586     15   30    \n",
              "3343 -24       B6       625   N337JB  JFK    HOU  190      1428     12   15    \n",
              "3344  18       EV      4212   N14204  EWR    MSY  195      1167     20   53    \n",
              "3345 -26       EV      4895   N716EV  LGA    SAV  100       722      8   30    \n",
              "3346  -4       B6       739   N526JB  JFK    PSE  202      1617     23   52    \n",
              "3347 -25       DL        17   N195DN  JFK    LAX  308      2475     18   15    \n",
              "3348  20       DL       807   N322NB  EWR    ATL  124       746      7   45    \n",
              "3349 -10       VX        11   N839VA  JFK    SFO  341      2586      7   40    \n",
              "3350 -21       EV      4572   N13566  EWR    GSP   86       594     15    5    \n",
              "3351  NA       FL       850   N957AT  LGA    MKE   NA       738      7   20    \n",
              "3352 -46       AA      1357   N5FAAA  JFK    SJU  188      1598      8   50    \n",
              "3353 -11       UA      1591   N37252  EWR    IAH  198      1400      5   15    \n",
              "3354 -47       DL      2190   N378NW  JFK    MIA  156      1089     18   45    \n",
              "3355  -1       EV      5824   N21537  EWR    RIC   66       277      8   49    \n",
              "3356 -19       B6      1018   N708JB  JFK    BOS   32       187     22   50    \n",
              "3357  -9       UA       441   N427UA  LGA    ORD  119       733     10    0    \n",
              "3358  55       EV      4437   N15973  EWR    CLT   84       529     19    4    \n",
              "3359 -25       UA       512   N597UA  JFK    SFO  338      2586     17    0    \n",
              "3360 -21       B6       116   N353JB  JFK    SYR   42       209      9   30    \n",
              "3361 -20       FL       353   N957AT  LGA    CAK   60       397     10    3    \n",
              "3362  -8       EV      5148   N612QX  LGA    CVG   92       585     13   15    \n",
              "3363 -29       US      1277   N750UW  LGA    CLT   79       544      9   59    \n",
              "3364  NA       EV      5977   N14998  EWR    RDU   NA       416     17    6    \n",
              "3365 -16       AA      1103   N3HDAA  LGA    DFW  200      1389      6   10    \n",
              "3366 -14       US      2142   N958UW  LGA    BOS   38       184     20    0    \n",
              "3367  12       AA      1623   N3AJAA  EWR    MIA  139      1085     11   40    \n",
              "3368 -20       UA       752   N421UA  LGA    IAH  198      1416     14   53    \n",
              "     time_hour          \n",
              "1    2013-01-23 18:00:00\n",
              "2    2013-08-22 17:00:00\n",
              "3    2013-02-20 21:00:00\n",
              "4    2013-08-11 07:00:00\n",
              "5    2013-06-23 18:00:00\n",
              "6    2013-01-24 12:00:00\n",
              "7    2013-12-05 08:00:00\n",
              "8    2013-05-22 08:00:00\n",
              "9    2013-07-01 06:00:00\n",
              "10   2013-10-23 10:00:00\n",
              "11   2013-12-13 17:00:00\n",
              "12   2013-11-03 18:00:00\n",
              "13   2013-02-16 13:00:00\n",
              "14   2013-03-03 08:00:00\n",
              "15   2013-09-17 11:00:00\n",
              "16   2013-12-08 19:00:00\n",
              "17   2013-06-09 17:00:00\n",
              "18   2013-07-21 17:00:00\n",
              "19   2013-06-05 08:00:00\n",
              "20   2013-03-23 13:00:00\n",
              "21   2013-02-28 07:00:00\n",
              "22   2013-11-19 19:00:00\n",
              "23   2013-01-27 06:00:00\n",
              "24   2013-04-02 15:00:00\n",
              "25   2013-10-07 17:00:00\n",
              "26   2013-11-06 16:00:00\n",
              "27   2013-07-29 06:00:00\n",
              "28   2013-10-08 17:00:00\n",
              "29   2013-06-01 07:00:00\n",
              "30   2013-03-22 17:00:00\n",
              "⋮    ⋮                  \n",
              "3339 2013-12-18 15:00:00\n",
              "3340 2013-02-17 07:00:00\n",
              "3341 2013-01-09 16:00:00\n",
              "3342 2013-09-12 15:00:00\n",
              "3343 2013-03-15 12:00:00\n",
              "3344 2013-10-19 20:00:00\n",
              "3345 2013-08-23 08:00:00\n",
              "3346 2013-02-23 23:00:00\n",
              "3347 2013-09-05 18:00:00\n",
              "3348 2013-06-10 07:00:00\n",
              "3349 2013-07-21 07:00:00\n",
              "3350 2013-03-28 15:00:00\n",
              "3351 2013-02-09 07:00:00\n",
              "3352 2013-04-16 08:00:00\n",
              "3353 2013-05-12 05:00:00\n",
              "3354 2013-01-07 18:00:00\n",
              "3355 2013-06-08 08:00:00\n",
              "3356 2013-01-31 22:00:00\n",
              "3357 2013-02-26 10:00:00\n",
              "3358 2013-01-24 19:00:00\n",
              "3359 2013-10-01 17:00:00\n",
              "3360 2013-10-07 09:00:00\n",
              "3361 2013-07-17 10:00:00\n",
              "3362 2013-03-25 13:00:00\n",
              "3363 2013-06-20 09:00:00\n",
              "3364 2013-06-13 17:00:00\n",
              "3365 2013-11-10 06:00:00\n",
              "3366 2013-01-18 20:00:00\n",
              "3367 2013-01-24 11:00:00\n",
              "3368 2013-04-10 14:00:00"
            ]
          },
          "metadata": {}
        }
      ]
    }
  ]
}